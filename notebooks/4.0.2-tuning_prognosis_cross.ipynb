{
 "cells": [
  {
   "cell_type": "code",
   "execution_count": 1,
   "id": "ddcdbbb1-d422-4d61-9d20-4e48696ac53b",
   "metadata": {},
   "outputs": [],
   "source": [
    "import os\n",
    "import random\n",
    "import itertools\n",
    "import re\n",
    "\n",
    "# 基本的なライブラリ\n",
    "import numpy as np\n",
    "import pandas as pd\n",
    "import scipy as sp\n",
    "from scipy import stats\n",
    "\n",
    "# 描画ライブラリ\n",
    "import matplotlib.pyplot as plt\n",
    "import seaborn as sns\n",
    "from seaborn_analyzer import CustomPairPlot\n",
    "import graphviz\n",
    "import pydotplus\n",
    "from IPython.display import Image\n",
    "from IPython.display import HTML\n",
    "from six import StringIO\n",
    "from ipywidgets import interact, FloatSlider\n",
    "from dtreeviz.trees import *\n",
    "\n",
    "# データセット分割\n",
    "from sklearn.model_selection import train_test_split\n",
    "from sklearn.model_selection import StratifiedKFold\n",
    "from sklearn.model_selection import ShuffleSplit, StratifiedShuffleSplit\n",
    "\n",
    "# 補完\n",
    "from sklearn.experimental import (\n",
    "    enable_iterative_imputer,\n",
    ")  # IterativeImputerをimportするために必要\n",
    "from sklearn.impute import SimpleImputer, IterativeImputer, KNNImputer\n",
    "\n",
    "# エンコード\n",
    "from sklearn.preprocessing import OneHotEncoder, LabelEncoder, OrdinalEncoder\n",
    "\n",
    "# サンプリング\n",
    "from imblearn.over_sampling import SMOTE\n",
    "from imblearn.under_sampling import RandomUnderSampler\n",
    "\n",
    "# 特徴量選択\n",
    "from sklearn.feature_selection import VarianceThreshold\n",
    "from sklearn.feature_selection import (\n",
    "    GenericUnivariateSelect,\n",
    "    f_classif,\n",
    "    mutual_info_classif,\n",
    "    chi2,\n",
    ")\n",
    "from boruta import BorutaPy\n",
    "from libraries.mrmr import mrmr\n",
    "\n",
    "# 学習中\n",
    "import optuna\n",
    "from tqdm import tqdm\n",
    "from sklearn.model_selection import learning_curve, cross_validate, cross_val_score\n",
    "\n",
    "# 評価指標\n",
    "from sklearn.metrics import roc_auc_score\n",
    "from sklearn.metrics import make_scorer\n",
    "from sklearn.metrics import accuracy_score, precision_score, recall_score, f1_score\n",
    "from sklearn.metrics import confusion_matrix, ConfusionMatrixDisplay\n",
    "\n",
    "# models\n",
    "from lightgbm import LGBMClassifier\n",
    "\n",
    "# XAI\n",
    "import shap\n",
    "\n",
    "import warnings\n",
    "\n",
    "\n",
    "# config python file\n",
    "import config\n",
    "\n",
    "SEED = config.SEED\n",
    "\n",
    "from functions import *\n",
    "\n",
    "fix_seed(SEED)\n",
    "\n",
    "\n",
    "# 最大表示列数の指定（ここでは50列を指定）N\n",
    "pd.set_option(\"display.max_columns\", 50)\n",
    "pd.set_option(\"display.max_rows\", 50)\n",
    "\n",
    "%matplotlib inline"
   ]
  },
  {
   "cell_type": "markdown",
   "id": "3607c3c4-3443-42ba-8f6e-22b90cd82e0b",
   "metadata": {},
   "source": [
    "# データ読み込み"
   ]
  },
  {
   "cell_type": "code",
   "execution_count": 2,
   "id": "d8b97ad0-15ab-4fd3-97ca-b465d4a712df",
   "metadata": {},
   "outputs": [],
   "source": [
    "X_dict = pickle_load(config.INTERIM_PREPROCESSED_PROGNOSIS_CROSS_DIR + \"/X_dict.pickle\")\n",
    "y_dict = pickle_load(config.INTERIM_PREPROCESSED_PROGNOSIS_CROSS_DIR + \"/y_dict.pickle\")"
   ]
  },
  {
   "cell_type": "code",
   "execution_count": 3,
   "id": "aefec2de-e9a1-4d1a-94e7-824f331f04fe",
   "metadata": {},
   "outputs": [
    {
     "data": {
      "text/plain": [
       "dict_keys(['train', 'val', 'test', 'claudin_subtype', 'mrmr', 'boruta'])"
      ]
     },
     "execution_count": 3,
     "metadata": {},
     "output_type": "execute_result"
    }
   ],
   "source": [
    "X_dict[\"microarray_z_all\"].keys()"
   ]
  },
  {
   "cell_type": "code",
   "execution_count": 4,
   "id": "77c244bc-fb40-45dc-b4da-7943cb45f78e",
   "metadata": {},
   "outputs": [
    {
     "name": "stdout",
     "output_type": "stream",
     "text": [
      "----------------------------------------------------------------------------------------------------\n",
      "使用特徴量： Index(['RACGAP1', 'WRN', 'PTX4', 'RNASE9', 'AI912012', 'GOLGA6L1', 'AGRP',\n",
      "       'RNU11', 'STAT5B', 'OSCP1', 'AI985115', 'C9orf95', 'TOR1B', 'FGF13',\n",
      "       'PPIL3', 'HCRTR1', 'RBBP8', 'USP30', 'EMR3', 'DFNB59', 'AA897398',\n",
      "       'GSTM2', 'PROL1', 'COX7B2', 'SERPINE1', 'S100P', 'AK056943', 'BG218808',\n",
      "       'GTPBP5', 'HIST1H2BF', 'SPATA4', 'BM714043', 'VANGL1', 'SPATA18',\n",
      "       'ENC1'],\n",
      "      dtype='object')\n",
      "学習サンプルサイズ： (858, 35)\n"
     ]
    },
    {
     "data": {
      "text/plain": [
       "'ラベル比率：'"
      ]
     },
     "metadata": {},
     "output_type": "display_data"
    },
    {
     "data": {
      "text/plain": [
       "1    460\n",
       "0    398\n",
       "Name: OS_15years, dtype: int64"
      ]
     },
     "metadata": {},
     "output_type": "display_data"
    }
   ],
   "source": [
    "X_train = X_dict[\"microarray_z_all\"][\"mrmr\"][\"train\"][\"X15\"]\n",
    "y_train = y_dict[\"microarray_z_all\"][\"mrmr\"][\"train\"][\"y15\"]\n",
    "X_val = X_dict[\"microarray_z_all\"][\"mrmr\"][\"val\"][\"X15\"]\n",
    "y_val = y_dict[\"microarray_z_all\"][\"mrmr\"][\"val\"][\"y15\"]\n",
    "\n",
    "assert X_train.shape[0] == y_train.shape[0], \"train size is incorrect\"\n",
    "assert X_val.shape[0] == y_val.shape[0], \"test size is incorrect\"\n",
    "assert X_train.shape[1] == X_val.shape[1], \"feature size is incorrect\"\n",
    "\n",
    "# accuracyの表示\n",
    "print(\"----------\" * 10)\n",
    "print(\"使用特徴量：\", X_train.columns)\n",
    "print(\"学習サンプルサイズ：\", X_train.shape)\n",
    "display(\"ラベル比率：\", y_train.value_counts())"
   ]
  },
  {
   "cell_type": "markdown",
   "id": "a231c746-2526-4536-82ac-bb114937bbf4",
   "metadata": {
    "tags": []
   },
   "source": [
    "# 最適化(all data)\n",
    "\n",
    "分類器を学習させ、パラメータのチューニングを行い、高い予測精度を目指す。"
   ]
  },
  {
   "cell_type": "markdown",
   "id": "c612c888-368e-4b27-accb-8387a707b2cf",
   "metadata": {},
   "source": [
    "## Optuna"
   ]
  },
  {
   "cell_type": "markdown",
   "id": "efe5d545-575a-42ad-82c7-1c4d31683dc3",
   "metadata": {
    "tags": []
   },
   "source": [
    "### Random Forest"
   ]
  },
  {
   "cell_type": "code",
   "execution_count": 5,
   "id": "2b616a7f-d898-418e-b925-f61cec20ceff",
   "metadata": {
    "collapsed": true,
    "jupyter": {
     "outputs_hidden": true
    },
    "tags": []
   },
   "outputs": [
    {
     "name": "stderr",
     "output_type": "stream",
     "text": [
      "\u001b[32m[I 2022-09-01 08:12:07,277]\u001b[0m A new study created in memory with name: no-name-da883e70-e34f-4638-a0cb-ca777d4049e7\u001b[0m\n",
      "\u001b[32m[I 2022-09-01 08:12:09,595]\u001b[0m Trial 0 finished with value: 0.7359705795531155 and parameters: {'n_estimators': 548, 'max_depth': 4, 'max_leaf_nodes': 44, 'class_wight': 'balanced'}. Best is trial 0 with value: 0.7359705795531155.\u001b[0m\n",
      "\u001b[32m[I 2022-09-01 08:12:10,578]\u001b[0m Trial 1 finished with value: 0.7632914807588467 and parameters: {'n_estimators': 130, 'max_depth': 16, 'max_leaf_nodes': 83, 'class_wight': 'balanced_subsample'}. Best is trial 1 with value: 0.7632914807588467.\u001b[0m\n",
      "\u001b[32m[I 2022-09-01 08:12:12,506]\u001b[0m Trial 2 finished with value: 0.7256714089508822 and parameters: {'n_estimators': 893, 'max_depth': 3, 'max_leaf_nodes': 20, 'class_wight': 'balanced_subsample'}. Best is trial 1 with value: 0.7632914807588467.\u001b[0m\n",
      "\u001b[32m[I 2022-09-01 08:12:14,754]\u001b[0m Trial 3 finished with value: 0.746201487628882 and parameters: {'n_estimators': 979, 'max_depth': 26, 'max_leaf_nodes': 19, 'class_wight': 'balanced'}. Best is trial 1 with value: 0.7632914807588467.\u001b[0m\n",
      "\u001b[32m[I 2022-09-01 08:12:15,946]\u001b[0m Trial 4 finished with value: 0.7509407367426757 and parameters: {'n_estimators': 437, 'max_depth': 41, 'max_leaf_nodes': 82, 'class_wight': 'balanced'}. Best is trial 1 with value: 0.7632914807588467.\u001b[0m\n",
      "\u001b[32m[I 2022-09-01 08:12:16,593]\u001b[0m Trial 5 finished with value: 0.7140970282090636 and parameters: {'n_estimators': 379, 'max_depth': 2, 'max_leaf_nodes': 26, 'class_wight': 'balanced'}. Best is trial 1 with value: 0.7632914807588467.\u001b[0m\n",
      "\u001b[32m[I 2022-09-01 08:12:17,907]\u001b[0m Trial 6 finished with value: 0.7335970811166465 and parameters: {'n_estimators': 603, 'max_depth': 13, 'max_leaf_nodes': 12, 'class_wight': 'balanced'}. Best is trial 1 with value: 0.7632914807588467.\u001b[0m\n",
      "\u001b[32m[I 2022-09-01 08:12:19,865]\u001b[0m Trial 7 finished with value: 0.7219323562479579 and parameters: {'n_estimators': 892, 'max_depth': 47, 'max_leaf_nodes': 7, 'class_wight': 'balanced'}. Best is trial 1 with value: 0.7632914807588467.\u001b[0m\n",
      "\u001b[32m[I 2022-09-01 08:12:22,701]\u001b[0m Trial 8 finished with value: 0.7484179513946632 and parameters: {'n_estimators': 745, 'max_depth': 14, 'max_leaf_nodes': 59, 'class_wight': 'balanced_subsample'}. Best is trial 1 with value: 0.7632914807588467.\u001b[0m\n",
      "\u001b[32m[I 2022-09-01 08:12:24,543]\u001b[0m Trial 9 finished with value: 0.7448346156721288 and parameters: {'n_estimators': 549, 'max_depth': 22, 'max_leaf_nodes': 26, 'class_wight': 'balanced_subsample'}. Best is trial 1 with value: 0.7632914807588467.\u001b[0m\n",
      "\u001b[32m[I 2022-09-01 08:12:27,361]\u001b[0m Trial 10 finished with value: 0.7497101407857845 and parameters: {'n_estimators': 976, 'max_depth': 34, 'max_leaf_nodes': 37, 'class_wight': 'balanced'}. Best is trial 1 with value: 0.7632914807588467.\u001b[0m\n",
      "\u001b[32m[I 2022-09-01 08:12:28,317]\u001b[0m Trial 11 finished with value: 0.7189048947152239 and parameters: {'n_estimators': 347, 'max_depth': 3, 'max_leaf_nodes': 25, 'class_wight': 'balanced_subsample'}. Best is trial 1 with value: 0.7632914807588467.\u001b[0m\n",
      "\u001b[32m[I 2022-09-01 08:12:29,726]\u001b[0m Trial 12 finished with value: 0.7519535450741394 and parameters: {'n_estimators': 382, 'max_depth': 12, 'max_leaf_nodes': 64, 'class_wight': 'balanced_subsample'}. Best is trial 1 with value: 0.7632914807588467.\u001b[0m\n",
      "\u001b[32m[I 2022-09-01 08:12:32,562]\u001b[0m Trial 13 finished with value: 0.7509284922040216 and parameters: {'n_estimators': 947, 'max_depth': 12, 'max_leaf_nodes': 40, 'class_wight': 'balanced'}. Best is trial 1 with value: 0.7632914807588467.\u001b[0m\n",
      "\u001b[32m[I 2022-09-01 08:12:33,261]\u001b[0m Trial 14 finished with value: 0.7431681625382103 and parameters: {'n_estimators': 284, 'max_depth': 4, 'max_leaf_nodes': 19, 'class_wight': 'balanced'}. Best is trial 1 with value: 0.7632914807588467.\u001b[0m\n",
      "\u001b[32m[I 2022-09-01 08:12:35,322]\u001b[0m Trial 15 finished with value: 0.7490449746678178 and parameters: {'n_estimators': 602, 'max_depth': 20, 'max_leaf_nodes': 35, 'class_wight': 'balanced_subsample'}. Best is trial 1 with value: 0.7632914807588467.\u001b[0m\n",
      "\u001b[32m[I 2022-09-01 08:12:36,363]\u001b[0m Trial 16 finished with value: 0.7044260876113759 and parameters: {'n_estimators': 514, 'max_depth': 2, 'max_leaf_nodes': 54, 'class_wight': 'balanced'}. Best is trial 1 with value: 0.7632914807588467.\u001b[0m\n",
      "\u001b[32m[I 2022-09-01 08:12:37,629]\u001b[0m Trial 17 finished with value: 0.7498472714934834 and parameters: {'n_estimators': 342, 'max_depth': 25, 'max_leaf_nodes': 76, 'class_wight': 'balanced_subsample'}. Best is trial 1 with value: 0.7632914807588467.\u001b[0m\n",
      "\u001b[32m[I 2022-09-01 08:12:39,207]\u001b[0m Trial 18 finished with value: 0.723802954450639 and parameters: {'n_estimators': 545, 'max_depth': 4, 'max_leaf_nodes': 12, 'class_wight': 'balanced_subsample'}. Best is trial 1 with value: 0.7632914807588467.\u001b[0m\n",
      "\u001b[32m[I 2022-09-01 08:12:41,123]\u001b[0m Trial 19 finished with value: 0.7348760840216754 and parameters: {'n_estimators': 663, 'max_depth': 4, 'max_leaf_nodes': 65, 'class_wight': 'balanced_subsample'}. Best is trial 1 with value: 0.7632914807588467.\u001b[0m\n",
      "\u001b[32m[I 2022-09-01 08:12:43,959]\u001b[0m Trial 20 finished with value: 0.750912974350878 and parameters: {'n_estimators': 781, 'max_depth': 23, 'max_leaf_nodes': 62, 'class_wight': 'balanced_subsample'}. Best is trial 1 with value: 0.7632914807588467.\u001b[0m\n",
      "\u001b[32m[I 2022-09-01 08:12:46,822]\u001b[0m Trial 21 finished with value: 0.7510479428936123 and parameters: {'n_estimators': 861, 'max_depth': 14, 'max_leaf_nodes': 99, 'class_wight': 'balanced'}. Best is trial 1 with value: 0.7632914807588467.\u001b[0m\n",
      "\u001b[32m[I 2022-09-01 08:12:46,908]\u001b[0m Trial 22 finished with value: 0.729241634763358 and parameters: {'n_estimators': 32, 'max_depth': 3, 'max_leaf_nodes': 93, 'class_wight': 'balanced'}. Best is trial 1 with value: 0.7632914807588467.\u001b[0m\n",
      "\u001b[32m[I 2022-09-01 08:12:48,134]\u001b[0m Trial 23 finished with value: 0.7473216229656416 and parameters: {'n_estimators': 367, 'max_depth': 10, 'max_leaf_nodes': 28, 'class_wight': 'balanced_subsample'}. Best is trial 1 with value: 0.7632914807588467.\u001b[0m\n",
      "\u001b[32m[I 2022-09-01 08:12:49,953]\u001b[0m Trial 24 finished with value: 0.7478641594214475 and parameters: {'n_estimators': 505, 'max_depth': 19, 'max_leaf_nodes': 54, 'class_wight': 'balanced_subsample'}. Best is trial 1 with value: 0.7632914807588467.\u001b[0m\n",
      "\u001b[32m[I 2022-09-01 08:12:51,358]\u001b[0m Trial 25 finished with value: 0.7497017616232702 and parameters: {'n_estimators': 497, 'max_depth': 6, 'max_leaf_nodes': 37, 'class_wight': 'balanced'}. Best is trial 1 with value: 0.7632914807588467.\u001b[0m\n",
      "\u001b[32m[I 2022-09-01 08:12:51,659]\u001b[0m Trial 26 finished with value: 0.7385656013108609 and parameters: {'n_estimators': 99, 'max_depth': 4, 'max_leaf_nodes': 95, 'class_wight': 'balanced_subsample'}. Best is trial 1 with value: 0.7632914807588467.\u001b[0m\n",
      "\u001b[32m[I 2022-09-01 08:12:52,788]\u001b[0m Trial 27 finished with value: 0.7537920954127313 and parameters: {'n_estimators': 290, 'max_depth': 12, 'max_leaf_nodes': 100, 'class_wight': 'balanced_subsample'}. Best is trial 1 with value: 0.7632914807588467.\u001b[0m\n",
      "\u001b[32m[I 2022-09-01 08:12:53,236]\u001b[0m Trial 28 finished with value: 0.7455635457435239 and parameters: {'n_estimators': 119, 'max_depth': 16, 'max_leaf_nodes': 53, 'class_wight': 'balanced_subsample'}. Best is trial 1 with value: 0.7632914807588467.\u001b[0m\n",
      "\u001b[32m[I 2022-09-01 08:12:54,190]\u001b[0m Trial 29 finished with value: 0.742300033045563 and parameters: {'n_estimators': 249, 'max_depth': 50, 'max_leaf_nodes': 59, 'class_wight': 'balanced_subsample'}. Best is trial 1 with value: 0.7632914807588467.\u001b[0m\n",
      "\u001b[32m[I 2022-09-01 08:12:54,753]\u001b[0m Trial 30 finished with value: 0.7535288717173843 and parameters: {'n_estimators': 197, 'max_depth': 6, 'max_leaf_nodes': 60, 'class_wight': 'balanced'}. Best is trial 1 with value: 0.7632914807588467.\u001b[0m\n",
      "\u001b[32m[I 2022-09-01 08:12:55,729]\u001b[0m Trial 31 finished with value: 0.7570279248802765 and parameters: {'n_estimators': 316, 'max_depth': 11, 'max_leaf_nodes': 45, 'class_wight': 'balanced'}. Best is trial 1 with value: 0.7632914807588467.\u001b[0m\n",
      "\u001b[32m[I 2022-09-01 08:12:56,377]\u001b[0m Trial 32 finished with value: 0.7608404075474252 and parameters: {'n_estimators': 216, 'max_depth': 7, 'max_leaf_nodes': 50, 'class_wight': 'balanced'}. Best is trial 1 with value: 0.7632914807588467.\u001b[0m\n",
      "\u001b[32m[I 2022-09-01 08:12:58,892]\u001b[0m Trial 33 finished with value: 0.7496709479272534 and parameters: {'n_estimators': 773, 'max_depth': 6, 'max_leaf_nodes': 36, 'class_wight': 'balanced_subsample'}. Best is trial 1 with value: 0.7632914807588467.\u001b[0m\n",
      "\u001b[32m[I 2022-09-01 08:12:59,215]\u001b[0m Trial 34 finished with value: 0.7201496827855765 and parameters: {'n_estimators': 122, 'max_depth': 2, 'max_leaf_nodes': 47, 'class_wight': 'balanced_subsample'}. Best is trial 1 with value: 0.7632914807588467.\u001b[0m\n",
      "\u001b[32m[I 2022-09-01 08:13:01,969]\u001b[0m Trial 35 finished with value: 0.7472023699100836 and parameters: {'n_estimators': 840, 'max_depth': 9, 'max_leaf_nodes': 23, 'class_wight': 'balanced_subsample'}. Best is trial 1 with value: 0.7632914807588467.\u001b[0m\n",
      "\u001b[32m[I 2022-09-01 08:13:04,444]\u001b[0m Trial 36 finished with value: 0.747720344815707 and parameters: {'n_estimators': 710, 'max_depth': 31, 'max_leaf_nodes': 40, 'class_wight': 'balanced_subsample'}. Best is trial 1 with value: 0.7632914807588467.\u001b[0m\n",
      "\u001b[32m[I 2022-09-01 08:13:07,075]\u001b[0m Trial 37 finished with value: 0.7462771096634501 and parameters: {'n_estimators': 859, 'max_depth': 8, 'max_leaf_nodes': 67, 'class_wight': 'balanced'}. Best is trial 1 with value: 0.7632914807588467.\u001b[0m\n",
      "\u001b[32m[I 2022-09-01 08:13:07,384]\u001b[0m Trial 38 finished with value: 0.7437110740131271 and parameters: {'n_estimators': 88, 'max_depth': 20, 'max_leaf_nodes': 97, 'class_wight': 'balanced'}. Best is trial 1 with value: 0.7632914807588467.\u001b[0m\n",
      "\u001b[32m[I 2022-09-01 08:13:09,799]\u001b[0m Trial 39 finished with value: 0.750677308099452 and parameters: {'n_estimators': 636, 'max_depth': 20, 'max_leaf_nodes': 91, 'class_wight': 'balanced_subsample'}. Best is trial 1 with value: 0.7632914807588467.\u001b[0m\n",
      "\u001b[32m[I 2022-09-01 08:13:11,078]\u001b[0m Trial 40 finished with value: 0.7521965329270077 and parameters: {'n_estimators': 423, 'max_depth': 17, 'max_leaf_nodes': 44, 'class_wight': 'balanced'}. Best is trial 1 with value: 0.7632914807588467.\u001b[0m\n",
      "\u001b[32m[I 2022-09-01 08:13:11,335]\u001b[0m Trial 41 finished with value: 0.7376989310385054 and parameters: {'n_estimators': 79, 'max_depth': 4, 'max_leaf_nodes': 98, 'class_wight': 'balanced_subsample'}. Best is trial 1 with value: 0.7632914807588467.\u001b[0m\n",
      "\u001b[32m[I 2022-09-01 08:13:14,099]\u001b[0m Trial 42 finished with value: 0.7469875967458873 and parameters: {'n_estimators': 953, 'max_depth': 26, 'max_leaf_nodes': 31, 'class_wight': 'balanced'}. Best is trial 1 with value: 0.7632914807588467.\u001b[0m\n",
      "\u001b[32m[I 2022-09-01 08:13:15,910]\u001b[0m Trial 43 finished with value: 0.7567648474699168 and parameters: {'n_estimators': 597, 'max_depth': 35, 'max_leaf_nodes': 56, 'class_wight': 'balanced'}. Best is trial 1 with value: 0.7632914807588467.\u001b[0m\n",
      "\u001b[32m[I 2022-09-01 08:13:16,710]\u001b[0m Trial 44 finished with value: 0.7353702708072342 and parameters: {'n_estimators': 270, 'max_depth': 10, 'max_leaf_nodes': 10, 'class_wight': 'balanced_subsample'}. Best is trial 1 with value: 0.7632914807588467.\u001b[0m\n",
      "\u001b[32m[I 2022-09-01 08:13:20,094]\u001b[0m Trial 45 finished with value: 0.7515904097895938 and parameters: {'n_estimators': 956, 'max_depth': 17, 'max_leaf_nodes': 50, 'class_wight': 'balanced_subsample'}. Best is trial 1 with value: 0.7632914807588467.\u001b[0m\n",
      "\u001b[32m[I 2022-09-01 08:13:20,845]\u001b[0m Trial 46 finished with value: 0.7512860217434205 and parameters: {'n_estimators': 219, 'max_depth': 6, 'max_leaf_nodes': 99, 'class_wight': 'balanced_subsample'}. Best is trial 1 with value: 0.7632914807588467.\u001b[0m\n",
      "\u001b[32m[I 2022-09-01 08:13:20,985]\u001b[0m Trial 47 finished with value: 0.7370940835349751 and parameters: {'n_estimators': 34, 'max_depth': 5, 'max_leaf_nodes': 9, 'class_wight': 'balanced_subsample'}. Best is trial 1 with value: 0.7632914807588467.\u001b[0m\n",
      "\u001b[32m[I 2022-09-01 08:13:21,527]\u001b[0m Trial 48 finished with value: 0.7539244966974169 and parameters: {'n_estimators': 177, 'max_depth': 14, 'max_leaf_nodes': 45, 'class_wight': 'balanced'}. Best is trial 1 with value: 0.7632914807588467.\u001b[0m\n",
      "\u001b[32m[I 2022-09-01 08:13:22,307]\u001b[0m Trial 49 finished with value: 0.75287492505385 and parameters: {'n_estimators': 198, 'max_depth': 18, 'max_leaf_nodes': 86, 'class_wight': 'balanced_subsample'}. Best is trial 1 with value: 0.7632914807588467.\u001b[0m\n",
      "\u001b[32m[I 2022-09-01 08:13:24,292]\u001b[0m Trial 50 finished with value: 0.7582739339212841 and parameters: {'n_estimators': 609, 'max_depth': 11, 'max_leaf_nodes': 87, 'class_wight': 'balanced'}. Best is trial 1 with value: 0.7632914807588467.\u001b[0m\n",
      "\u001b[32m[I 2022-09-01 08:13:25,106]\u001b[0m Trial 51 finished with value: 0.7551465666068854 and parameters: {'n_estimators': 262, 'max_depth': 33, 'max_leaf_nodes': 45, 'class_wight': 'balanced'}. Best is trial 1 with value: 0.7632914807588467.\u001b[0m\n",
      "\u001b[32m[I 2022-09-01 08:13:25,682]\u001b[0m Trial 52 finished with value: 0.7487281073376065 and parameters: {'n_estimators': 199, 'max_depth': 18, 'max_leaf_nodes': 25, 'class_wight': 'balanced'}. Best is trial 1 with value: 0.7632914807588467.\u001b[0m\n",
      "\u001b[32m[I 2022-09-01 08:13:27,471]\u001b[0m Trial 53 finished with value: 0.7458111744911703 and parameters: {'n_estimators': 530, 'max_depth': 6, 'max_leaf_nodes': 60, 'class_wight': 'balanced_subsample'}. Best is trial 1 with value: 0.7632914807588467.\u001b[0m\n",
      "\u001b[32m[I 2022-09-01 08:13:30,187]\u001b[0m Trial 54 finished with value: 0.7492563520793074 and parameters: {'n_estimators': 967, 'max_depth': 23, 'max_leaf_nodes': 25, 'class_wight': 'balanced'}. Best is trial 1 with value: 0.7632914807588467.\u001b[0m\n",
      "\u001b[32m[I 2022-09-01 08:13:30,405]\u001b[0m Trial 55 finished with value: 0.7292019006634962 and parameters: {'n_estimators': 73, 'max_depth': 3, 'max_leaf_nodes': 60, 'class_wight': 'balanced_subsample'}. Best is trial 1 with value: 0.7632914807588467.\u001b[0m\n",
      "\u001b[32m[I 2022-09-01 08:13:33,300]\u001b[0m Trial 56 finished with value: 0.7333421958608051 and parameters: {'n_estimators': 993, 'max_depth': 4, 'max_leaf_nodes': 77, 'class_wight': 'balanced_subsample'}. Best is trial 1 with value: 0.7632914807588467.\u001b[0m\n",
      "\u001b[32m[I 2022-09-01 08:13:36,344]\u001b[0m Trial 57 finished with value: 0.7514488482012818 and parameters: {'n_estimators': 946, 'max_depth': 14, 'max_leaf_nodes': 61, 'class_wight': 'balanced'}. Best is trial 1 with value: 0.7632914807588467.\u001b[0m\n",
      "\u001b[32m[I 2022-09-01 08:13:36,451]\u001b[0m Trial 58 finished with value: 0.7285079514703009 and parameters: {'n_estimators': 27, 'max_depth': 3, 'max_leaf_nodes': 53, 'class_wight': 'balanced_subsample'}. Best is trial 1 with value: 0.7632914807588467.\u001b[0m\n",
      "\u001b[32m[I 2022-09-01 08:13:38,329]\u001b[0m Trial 59 finished with value: 0.7212318972167051 and parameters: {'n_estimators': 861, 'max_depth': 3, 'max_leaf_nodes': 45, 'class_wight': 'balanced'}. Best is trial 1 with value: 0.7632914807588467.\u001b[0m\n",
      "\u001b[32m[I 2022-09-01 08:13:38,409]\u001b[0m Trial 60 finished with value: 0.7389036656338721 and parameters: {'n_estimators': 19, 'max_depth': 24, 'max_leaf_nodes': 29, 'class_wight': 'balanced'}. Best is trial 1 with value: 0.7632914807588467.\u001b[0m\n",
      "\u001b[32m[I 2022-09-01 08:13:38,772]\u001b[0m Trial 61 finished with value: 0.7223277463742417 and parameters: {'n_estimators': 152, 'max_depth': 3, 'max_leaf_nodes': 33, 'class_wight': 'balanced'}. Best is trial 1 with value: 0.7632914807588467.\u001b[0m\n",
      "\u001b[32m[I 2022-09-01 08:13:38,974]\u001b[0m Trial 62 finished with value: 0.7543341235674841 and parameters: {'n_estimators': 58, 'max_depth': 11, 'max_leaf_nodes': 69, 'class_wight': 'balanced'}. Best is trial 1 with value: 0.7632914807588467.\u001b[0m\n",
      "\u001b[32m[I 2022-09-01 08:13:40,134]\u001b[0m Trial 63 finished with value: 0.7572828789219981 and parameters: {'n_estimators': 374, 'max_depth': 29, 'max_leaf_nodes': 46, 'class_wight': 'balanced'}. Best is trial 1 with value: 0.7632914807588467.\u001b[0m\n",
      "\u001b[32m[I 2022-09-01 08:13:40,286]\u001b[0m Trial 64 finished with value: 0.7111494330898739 and parameters: {'n_estimators': 69, 'max_depth': 2, 'max_leaf_nodes': 69, 'class_wight': 'balanced'}. Best is trial 1 with value: 0.7632914807588467.\u001b[0m\n",
      "\u001b[32m[I 2022-09-01 08:13:41,874]\u001b[0m Trial 65 finished with value: 0.7077866869327744 and parameters: {'n_estimators': 644, 'max_depth': 2, 'max_leaf_nodes': 88, 'class_wight': 'balanced_subsample'}. Best is trial 1 with value: 0.7632914807588467.\u001b[0m\n",
      "\u001b[32m[I 2022-09-01 08:13:43,418]\u001b[0m Trial 66 finished with value: 0.7498207990273289 and parameters: {'n_estimators': 473, 'max_depth': 23, 'max_leaf_nodes': 86, 'class_wight': 'balanced'}. Best is trial 1 with value: 0.7632914807588467.\u001b[0m\n",
      "\u001b[32m[I 2022-09-01 08:13:45,981]\u001b[0m Trial 67 finished with value: 0.7531450217155512 and parameters: {'n_estimators': 791, 'max_depth': 10, 'max_leaf_nodes': 79, 'class_wight': 'balanced'}. Best is trial 1 with value: 0.7632914807588467.\u001b[0m\n",
      "\u001b[32m[I 2022-09-01 08:13:47,423]\u001b[0m Trial 68 finished with value: 0.7529911926312756 and parameters: {'n_estimators': 465, 'max_depth': 12, 'max_leaf_nodes': 61, 'class_wight': 'balanced'}. Best is trial 1 with value: 0.7632914807588467.\u001b[0m\n",
      "\u001b[32m[I 2022-09-01 08:13:49,642]\u001b[0m Trial 69 finished with value: 0.7495238663353849 and parameters: {'n_estimators': 546, 'max_depth': 39, 'max_leaf_nodes': 98, 'class_wight': 'balanced_subsample'}. Best is trial 1 with value: 0.7632914807588467.\u001b[0m\n",
      "\u001b[32m[I 2022-09-01 08:13:51,315]\u001b[0m Trial 70 finished with value: 0.726069511459841 and parameters: {'n_estimators': 639, 'max_depth': 3, 'max_leaf_nodes': 7, 'class_wight': 'balanced_subsample'}. Best is trial 1 with value: 0.7632914807588467.\u001b[0m\n",
      "\u001b[32m[I 2022-09-01 08:13:51,973]\u001b[0m Trial 71 finished with value: 0.7542345205508217 and parameters: {'n_estimators': 228, 'max_depth': 28, 'max_leaf_nodes': 30, 'class_wight': 'balanced'}. Best is trial 1 with value: 0.7632914807588467.\u001b[0m\n",
      "\u001b[32m[I 2022-09-01 08:13:52,495]\u001b[0m Trial 72 finished with value: 0.7514865924064964 and parameters: {'n_estimators': 147, 'max_depth': 23, 'max_leaf_nodes': 93, 'class_wight': 'balanced'}. Best is trial 1 with value: 0.7632914807588467.\u001b[0m\n",
      "\u001b[32m[I 2022-09-01 08:13:54,564]\u001b[0m Trial 73 finished with value: 0.7487141999945586 and parameters: {'n_estimators': 697, 'max_depth': 10, 'max_leaf_nodes': 38, 'class_wight': 'balanced'}. Best is trial 1 with value: 0.7632914807588467.\u001b[0m\n",
      "\u001b[32m[I 2022-09-01 08:13:57,110]\u001b[0m Trial 74 finished with value: 0.732027735675801 and parameters: {'n_estimators': 899, 'max_depth': 4, 'max_leaf_nodes': 58, 'class_wight': 'balanced_subsample'}. Best is trial 1 with value: 0.7632914807588467.\u001b[0m\n",
      "\u001b[32m[I 2022-09-01 08:13:58,546]\u001b[0m Trial 75 finished with value: 0.722200794158973 and parameters: {'n_estimators': 651, 'max_depth': 3, 'max_leaf_nodes': 28, 'class_wight': 'balanced'}. Best is trial 1 with value: 0.7632914807588467.\u001b[0m\n",
      "\u001b[32m[I 2022-09-01 08:14:01,347]\u001b[0m Trial 76 finished with value: 0.7369705337108491 and parameters: {'n_estimators': 940, 'max_depth': 5, 'max_leaf_nodes': 12, 'class_wight': 'balanced_subsample'}. Best is trial 1 with value: 0.7632914807588467.\u001b[0m\n",
      "\u001b[32m[I 2022-09-01 08:14:03,302]\u001b[0m Trial 77 finished with value: 0.7360216514111192 and parameters: {'n_estimators': 669, 'max_depth': 4, 'max_leaf_nodes': 67, 'class_wight': 'balanced_subsample'}. Best is trial 1 with value: 0.7632914807588467.\u001b[0m\n",
      "\u001b[32m[I 2022-09-01 08:14:03,747]\u001b[0m Trial 78 finished with value: 0.7485760844686776 and parameters: {'n_estimators': 115, 'max_depth': 10, 'max_leaf_nodes': 53, 'class_wight': 'balanced_subsample'}. Best is trial 1 with value: 0.7632914807588467.\u001b[0m\n",
      "\u001b[32m[I 2022-09-01 08:14:03,860]\u001b[0m Trial 79 finished with value: 0.6937001800029607 and parameters: {'n_estimators': 48, 'max_depth': 12, 'max_leaf_nodes': 2, 'class_wight': 'balanced'}. Best is trial 1 with value: 0.7632914807588467.\u001b[0m\n",
      "\u001b[32m[I 2022-09-01 08:14:04,104]\u001b[0m Trial 80 finished with value: 0.7456877607793293 and parameters: {'n_estimators': 70, 'max_depth': 42, 'max_leaf_nodes': 62, 'class_wight': 'balanced'}. Best is trial 1 with value: 0.7632914807588467.\u001b[0m\n",
      "\u001b[32m[I 2022-09-01 08:14:06,009]\u001b[0m Trial 81 finished with value: 0.7229680348846272 and parameters: {'n_estimators': 707, 'max_depth': 3, 'max_leaf_nodes': 66, 'class_wight': 'balanced_subsample'}. Best is trial 1 with value: 0.7632914807588467.\u001b[0m\n",
      "\u001b[32m[I 2022-09-01 08:14:08,911]\u001b[0m Trial 82 finished with value: 0.7523614804731897 and parameters: {'n_estimators': 799, 'max_depth': 12, 'max_leaf_nodes': 47, 'class_wight': 'balanced_subsample'}. Best is trial 1 with value: 0.7632914807588467.\u001b[0m\n",
      "\u001b[32m[I 2022-09-01 08:14:11,015]\u001b[0m Trial 83 finished with value: 0.7042223647683283 and parameters: {'n_estimators': 928, 'max_depth': 27, 'max_leaf_nodes': 4, 'class_wight': 'balanced'}. Best is trial 1 with value: 0.7632914807588467.\u001b[0m\n",
      "\u001b[32m[I 2022-09-01 08:14:13,745]\u001b[0m Trial 84 finished with value: 0.7490631520338743 and parameters: {'n_estimators': 887, 'max_depth': 8, 'max_leaf_nodes': 55, 'class_wight': 'balanced'}. Best is trial 1 with value: 0.7632914807588467.\u001b[0m\n",
      "\u001b[32m[I 2022-09-01 08:14:14,254]\u001b[0m Trial 85 finished with value: 0.695789977167915 and parameters: {'n_estimators': 195, 'max_depth': 16, 'max_leaf_nodes': 3, 'class_wight': 'balanced_subsample'}. Best is trial 1 with value: 0.7632914807588467.\u001b[0m\n",
      "\u001b[32m[I 2022-09-01 08:14:15,573]\u001b[0m Trial 86 finished with value: 0.7200195751748797 and parameters: {'n_estimators': 580, 'max_depth': 3, 'max_leaf_nodes': 34, 'class_wight': 'balanced'}. Best is trial 1 with value: 0.7632914807588467.\u001b[0m\n",
      "\u001b[32m[I 2022-09-01 08:14:17,272]\u001b[0m Trial 87 finished with value: 0.7212926201655339 and parameters: {'n_estimators': 781, 'max_depth': 3, 'max_leaf_nodes': 23, 'class_wight': 'balanced'}. Best is trial 1 with value: 0.7632914807588467.\u001b[0m\n",
      "\u001b[32m[I 2022-09-01 08:14:18,381]\u001b[0m Trial 88 finished with value: 0.752679230968614 and parameters: {'n_estimators': 387, 'max_depth': 6, 'max_leaf_nodes': 67, 'class_wight': 'balanced'}. Best is trial 1 with value: 0.7632914807588467.\u001b[0m\n",
      "\u001b[32m[I 2022-09-01 08:14:20,351]\u001b[0m Trial 89 finished with value: 0.7467539941704668 and parameters: {'n_estimators': 529, 'max_depth': 26, 'max_leaf_nodes': 81, 'class_wight': 'balanced_subsample'}. Best is trial 1 with value: 0.7632914807588467.\u001b[0m\n",
      "\u001b[32m[I 2022-09-01 08:14:20,602]\u001b[0m Trial 90 finished with value: 0.7351740931875721 and parameters: {'n_estimators': 77, 'max_depth': 50, 'max_leaf_nodes': 14, 'class_wight': 'balanced_subsample'}. Best is trial 1 with value: 0.7632914807588467.\u001b[0m\n",
      "\u001b[32m[I 2022-09-01 08:14:24,149]\u001b[0m Trial 91 finished with value: 0.7501572958899685 and parameters: {'n_estimators': 962, 'max_depth': 18, 'max_leaf_nodes': 67, 'class_wight': 'balanced_subsample'}. Best is trial 1 with value: 0.7632914807588467.\u001b[0m\n",
      "\u001b[32m[I 2022-09-01 08:14:24,497]\u001b[0m Trial 92 finished with value: 0.710936743506027 and parameters: {'n_estimators': 165, 'max_depth': 2, 'max_leaf_nodes': 98, 'class_wight': 'balanced'}. Best is trial 1 with value: 0.7632914807588467.\u001b[0m\n",
      "\u001b[32m[I 2022-09-01 08:14:25,557]\u001b[0m Trial 93 finished with value: 0.7395722197342375 and parameters: {'n_estimators': 336, 'max_depth': 9, 'max_leaf_nodes': 16, 'class_wight': 'balanced_subsample'}. Best is trial 1 with value: 0.7632914807588467.\u001b[0m\n",
      "\u001b[32m[I 2022-09-01 08:14:26,017]\u001b[0m Trial 94 finished with value: 0.7099791413799649 and parameters: {'n_estimators': 219, 'max_depth': 2, 'max_leaf_nodes': 40, 'class_wight': 'balanced'}. Best is trial 1 with value: 0.7632914807588467.\u001b[0m\n",
      "\u001b[32m[I 2022-09-01 08:14:27,989]\u001b[0m Trial 95 finished with value: 0.701634875707984 and parameters: {'n_estimators': 769, 'max_depth': 50, 'max_leaf_nodes': 3, 'class_wight': 'balanced_subsample'}. Best is trial 1 with value: 0.7632914807588467.\u001b[0m\n",
      "\u001b[32m[I 2022-09-01 08:14:30,551]\u001b[0m Trial 96 finished with value: 0.7244499978026296 and parameters: {'n_estimators': 892, 'max_depth': 8, 'max_leaf_nodes': 8, 'class_wight': 'balanced_subsample'}. Best is trial 1 with value: 0.7632914807588467.\u001b[0m\n",
      "\u001b[32m[I 2022-09-01 08:14:31,364]\u001b[0m Trial 97 finished with value: 0.7541452550551448 and parameters: {'n_estimators': 209, 'max_depth': 33, 'max_leaf_nodes': 95, 'class_wight': 'balanced_subsample'}. Best is trial 1 with value: 0.7632914807588467.\u001b[0m\n",
      "\u001b[32m[I 2022-09-01 08:14:34,216]\u001b[0m Trial 98 finished with value: 0.7518763603183667 and parameters: {'n_estimators': 760, 'max_depth': 17, 'max_leaf_nodes': 86, 'class_wight': 'balanced_subsample'}. Best is trial 1 with value: 0.7632914807588467.\u001b[0m\n",
      "\u001b[32m[I 2022-09-01 08:14:35,262]\u001b[0m Trial 99 finished with value: 0.7544021134191695 and parameters: {'n_estimators': 350, 'max_depth': 15, 'max_leaf_nodes': 29, 'class_wight': 'balanced'}. Best is trial 1 with value: 0.7632914807588467.\u001b[0m\n"
     ]
    }
   ],
   "source": [
    "def objective(trial):\n",
    "    # ランダムフォレストのパラメータチューニング\n",
    "    params = {\n",
    "        \"n_estimators\": trial.suggest_int(\"n_estimators\", 10, 1000),\n",
    "        \"max_depth\": trial.suggest_int(\"max_depth\", 2, 50, log=True),\n",
    "        \"max_leaf_nodes\": trial.suggest_int(\"max_leaf_nodes\", 2, 100),\n",
    "        \"class_weight\": trial.suggest_categorical(\n",
    "            \"class_weight\", [\"balanced\", \"balanced_subsample\"]\n",
    "        ),\n",
    "        \"random_state\": SEED,\n",
    "    }\n",
    "\n",
    "    clf = RandomForestClassifier(**params)\n",
    "    # 10分割交差検証によるテストデータのaccuracyの出力\n",
    "    score = cross_val_score(\n",
    "        clf, X_train, y_train, n_jobs=-1, cv=10, scoring=make_scorer(f1_score)\n",
    "    )\n",
    "    return score.mean()\n",
    "\n",
    "\n",
    "study = optuna.create_study(\n",
    "    direction=\"maximize\", sampler=optuna.samplers.RandomSampler(seed=SEED)\n",
    ")\n",
    "study.optimize(objective, n_trials=100, show_progress_bar=True)"
   ]
  },
  {
   "cell_type": "code",
   "execution_count": 6,
   "id": "a5b50113-8086-4e66-b731-5d8026b758f3",
   "metadata": {},
   "outputs": [
    {
     "data": {
      "text/plain": [
       "{'n_estimators': 130,\n",
       " 'max_depth': 16,\n",
       " 'max_leaf_nodes': 83,\n",
       " 'class_wight': 'balanced_subsample'}"
      ]
     },
     "execution_count": 6,
     "metadata": {},
     "output_type": "execute_result"
    }
   ],
   "source": [
    "study.best_trial.params, study.best_trial.values"
   ]
  },
  {
   "cell_type": "markdown",
   "id": "549fed00-d0db-41cc-b847-0dbfd4782419",
   "metadata": {
    "tags": []
   },
   "source": [
    "### LogisticRegression"
   ]
  },
  {
   "cell_type": "code",
   "execution_count": 7,
   "id": "9855a98d-50c2-4cf2-984e-5d56648fd056",
   "metadata": {
    "collapsed": true,
    "jupyter": {
     "outputs_hidden": true
    },
    "tags": []
   },
   "outputs": [
    {
     "name": "stderr",
     "output_type": "stream",
     "text": [
      "\u001b[32m[I 2022-09-01 08:14:35,277]\u001b[0m A new study created in memory with name: no-name-0faffe65-2b8b-4e68-87eb-75c146b6f2e2\u001b[0m\n",
      "\u001b[33m[W 2022-09-01 08:14:35,295]\u001b[0m Trial 0 failed, because the objective function returned nan.\u001b[0m\n",
      "\u001b[33m[W 2022-09-01 08:14:35,311]\u001b[0m Trial 1 failed, because the objective function returned nan.\u001b[0m\n",
      "\u001b[32m[I 2022-09-01 08:14:35,336]\u001b[0m Trial 2 finished with value: 0.7480370274529636 and parameters: {'penalty': 'l2', 'C': 13670.65897712823}. Best is trial 2 with value: 0.7480370274529636.\u001b[0m\n",
      "\u001b[32m[I 2022-09-01 08:14:35,363]\u001b[0m Trial 3 finished with value: 0.7480370274529636 and parameters: {'penalty': 'l2', 'C': 20920.212219626937}. Best is trial 2 with value: 0.7480370274529636.\u001b[0m\n",
      "\u001b[33m[W 2022-09-01 08:14:35,381]\u001b[0m Trial 4 failed, because the objective function returned nan.\u001b[0m\n",
      "\u001b[33m[W 2022-09-01 08:14:35,397]\u001b[0m Trial 5 failed, because the objective function returned nan.\u001b[0m\n",
      "\u001b[33m[W 2022-09-01 08:14:35,415]\u001b[0m Trial 6 failed, because the objective function returned nan.\u001b[0m\n",
      "\u001b[33m[W 2022-09-01 08:14:35,429]\u001b[0m Trial 7 failed, because the objective function returned nan.\u001b[0m\n",
      "\u001b[32m[I 2022-09-01 08:14:35,453]\u001b[0m Trial 8 finished with value: 0.7480370274529636 and parameters: {'penalty': 'l2', 'C': 568.8507452004573}. Best is trial 2 with value: 0.7480370274529636.\u001b[0m\n",
      "\u001b[32m[I 2022-09-01 08:14:35,477]\u001b[0m Trial 9 finished with value: 0.7480370274529636 and parameters: {'penalty': 'l2', 'C': 1525.4971344813514}. Best is trial 2 with value: 0.7480370274529636.\u001b[0m\n"
     ]
    }
   ],
   "source": [
    "def objective(trial):\n",
    "    # ランダムフォレストのパラメータチューニング\n",
    "    params = {\n",
    "        \"penalty\": trial.suggest_categorical(\"penalty\", [\"l1\", \"l2\"]),\n",
    "        \"C\": trial.suggest_float(\"C\", 1e-5, 1e5),\n",
    "        \"max_iter\": 1000,\n",
    "        \"class_weight\": \"balanced\",\n",
    "        \"random_state\": SEED,\n",
    "    }\n",
    "\n",
    "    clf = LogisticRegression(**params)\n",
    "    # 10分割交差検証によるテストデータのaccuracyの出力\n",
    "    score = cross_val_score(\n",
    "        clf, X_train, y_train, n_jobs=-1, cv=10, scoring=make_scorer(f1_score)\n",
    "    )\n",
    "    return score.mean()\n",
    "\n",
    "\n",
    "study = optuna.create_study(\n",
    "    direction=\"maximize\", sampler=optuna.samplers.RandomSampler(seed=SEED)\n",
    ")\n",
    "study.optimize(objective, n_trials=10)"
   ]
  },
  {
   "cell_type": "code",
   "execution_count": 8,
   "id": "7213bd63-d8cf-43af-b268-f48ba6107f42",
   "metadata": {
    "tags": []
   },
   "outputs": [
    {
     "data": {
      "text/plain": [
       "({'penalty': 'l2', 'C': 13670.65897712823}, [0.7480370274529636])"
      ]
     },
     "execution_count": 8,
     "metadata": {},
     "output_type": "execute_result"
    }
   ],
   "source": [
    "study.best_trial.params, study.best_trial.values"
   ]
  },
  {
   "cell_type": "markdown",
   "id": "cf4412bf-6d70-4f04-b9e0-5c7061effd8a",
   "metadata": {
    "tags": []
   },
   "source": [
    "### SVC"
   ]
  },
  {
   "cell_type": "code",
   "execution_count": null,
   "id": "52c95c89-7fe0-4928-8399-35ceb5243ef9",
   "metadata": {
    "tags": []
   },
   "outputs": [
    {
     "name": "stderr",
     "output_type": "stream",
     "text": [
      "\u001b[32m[I 2022-09-01 09:26:35,329]\u001b[0m A new study created in memory with name: no-name-d5f0cffa-3f8d-487b-ba95-41fb0c03f0ec\u001b[0m\n"
     ]
    },
    {
     "data": {
      "application/vnd.jupyter.widget-view+json": {
       "model_id": "f4b605640d7244748a3b62dc579e3b29",
       "version_major": 2,
       "version_minor": 0
      },
      "text/plain": [
       "  0%|          | 0/100 [00:00<?, ?it/s]"
      ]
     },
     "metadata": {},
     "output_type": "display_data"
    },
    {
     "name": "stdout",
     "output_type": "stream",
     "text": [
      "\u001b[32m[I 2022-09-01 09:26:36,486]\u001b[0m Trial 0 finished with value: 0.7260850622116812 and parameters: {'C': 54340.49418366249, 'kernel': 'rbf', 'gamma': 'auto', 'shrinking': True, 'decision_function_shape': 'ovr'}. Best is trial 0 with value: 0.7260850622116812.\u001b[0m\n",
      "\u001b[32m[I 2022-09-01 09:26:37,037]\u001b[0m Trial 1 finished with value: 0.722323906808479 and parameters: {'C': 20920.212219626937, 'kernel': 'sigmoid', 'gamma': 'scale', 'shrinking': True, 'decision_function_shape': 'ovr'}. Best is trial 0 with value: 0.7260850622116812.\u001b[0m\n",
      "\u001b[32m[I 2022-09-01 09:26:37,098]\u001b[0m Trial 2 finished with value: 0.7260850622116812 and parameters: {'C': 81764.93787949624, 'kernel': 'rbf', 'gamma': 'auto', 'shrinking': False, 'decision_function_shape': 'ovo'}. Best is trial 0 with value: 0.7260850622116812.\u001b[0m\n",
      "\u001b[32m[I 2022-09-01 09:26:37,156]\u001b[0m Trial 3 finished with value: 0.7260850622116812 and parameters: {'C': 38194.34450049157, 'kernel': 'rbf', 'gamma': 'scale', 'shrinking': True, 'decision_function_shape': 'ovo'}. Best is trial 0 with value: 0.7260850622116812.\u001b[0m\n",
      "\u001b[32m[I 2022-09-01 09:26:37,210]\u001b[0m Trial 4 finished with value: 0.7283596145062299 and parameters: {'C': 21002.65777518579, 'kernel': 'poly', 'gamma': 'auto', 'shrinking': True, 'decision_function_shape': 'ovo'}. Best is trial 4 with value: 0.7283596145062299.\u001b[0m\n",
      "\u001b[32m[I 2022-09-01 09:26:37,253]\u001b[0m Trial 5 finished with value: 0.7170867712947031 and parameters: {'C': 34019.021543662675, 'kernel': 'sigmoid', 'gamma': 'auto', 'shrinking': True, 'decision_function_shape': 'ovr'}. Best is trial 4 with value: 0.7283596145062299.\u001b[0m\n",
      "\u001b[32m[I 2022-09-01 10:41:40,227]\u001b[0m Trial 6 finished with value: 0.7590429613271821 and parameters: {'C': 60229.665777063594, 'kernel': 'linear', 'gamma': 'scale', 'shrinking': True, 'decision_function_shape': 'ovr'}. Best is trial 6 with value: 0.7590429613271821.\u001b[0m\n",
      "\u001b[32m[I 2022-09-01 10:41:40,791]\u001b[0m Trial 7 finished with value: 0.7260850622116812 and parameters: {'C': 34038.52229033976, 'kernel': 'rbf', 'gamma': 'auto', 'shrinking': True, 'decision_function_shape': 'ovo'}. Best is trial 6 with value: 0.7590429613271821.\u001b[0m\n",
      "\u001b[32m[I 2022-09-01 11:14:30,023]\u001b[0m Trial 8 finished with value: 0.7517315119411229 and parameters: {'C': 31306.644165720307, 'kernel': 'linear', 'gamma': 'auto', 'shrinking': True, 'decision_function_shape': 'ovo'}. Best is trial 6 with value: 0.7590429613271821.\u001b[0m\n",
      "\u001b[32m[I 2022-09-01 11:14:30,253]\u001b[0m Trial 9 finished with value: 0.7283596145062299 and parameters: {'C': 65762.48055632213, 'kernel': 'poly', 'gamma': 'auto', 'shrinking': False, 'decision_function_shape': 'ovo'}. Best is trial 6 with value: 0.7590429613271821.\u001b[0m\n",
      "\u001b[32m[I 2022-09-01 11:14:30,866]\u001b[0m Trial 10 finished with value: 0.7260850622116812 and parameters: {'C': 2317.81365760858, 'kernel': 'rbf', 'gamma': 'auto', 'shrinking': False, 'decision_function_shape': 'ovo'}. Best is trial 6 with value: 0.7590429613271821.\u001b[0m\n"
     ]
    }
   ],
   "source": [
    "def objective(trial):\n",
    "    # ランダムフォレストのパラメータチューニング\n",
    "    params = {\n",
    "        \"C\": trial.suggest_float(\"C\", 1e-5, 1e5),\n",
    "        \"kernel\": trial.suggest_categorical(\n",
    "            \"kernel\",\n",
    "            [\n",
    "                \"linear\",\n",
    "                \"poly\",\n",
    "                \"rbf\",\n",
    "                \"sigmoid\",\n",
    "            ],\n",
    "        ),\n",
    "        \"gamma\": trial.suggest_categorical(\"gamma\", [\"scale\", \"auto\"]),\n",
    "        \"shrinking\": trial.suggest_categorical(\"shrinking\", [True, False]),\n",
    "        \"decision_function_shape\": trial.suggest_categorical(\n",
    "            \"decision_function_shape\", [\"ovo\", \"ovr\"]\n",
    "        ),\n",
    "        \"class_weight\": \"balanced\",\n",
    "        \"random_state\": SEED,\n",
    "    }\n",
    "\n",
    "    clf = SVC(**params)\n",
    "    # 10分割交差検証によるテストデータのaccuracyの出力\n",
    "    score = cross_val_score(\n",
    "        clf, X_train, y_train, n_jobs=-1, cv=10, scoring=make_scorer(f1_score)\n",
    "    )\n",
    "    return score.mean()\n",
    "\n",
    "\n",
    "study = optuna.create_study(\n",
    "    direction=\"maximize\", sampler=optuna.samplers.RandomSampler(seed=SEED)\n",
    ")\n",
    "study.optimize(objective, n_trials=100, show_progress_bar=True)"
   ]
  },
  {
   "cell_type": "code",
   "execution_count": null,
   "id": "cefe85e1-05b3-4d43-9d69-633307053d0f",
   "metadata": {},
   "outputs": [],
   "source": [
    "study.best_trial.params, study.best_trial.values"
   ]
  },
  {
   "cell_type": "markdown",
   "id": "745140ad-38fe-41f1-9716-018d4bf6e485",
   "metadata": {
    "tags": []
   },
   "source": [
    "### lightGBM"
   ]
  },
  {
   "cell_type": "code",
   "execution_count": null,
   "id": "ebe27bc8-ecb6-4c62-88aa-3617dbe5e63d",
   "metadata": {
    "tags": []
   },
   "outputs": [],
   "source": [
    "def objective(trial):\n",
    "    params = {\n",
    "        \"objective\": \"binary\",\n",
    "        \"metric\": \"binary_logloss\",\n",
    "        \"lambda_l1\": trial.suggest_loguniform(\"lambda_l1\", 1e-8, 10.0),\n",
    "        \"lambda_l2\": trial.suggest_loguniform(\"lambda_l2\", 1e-8, 10.0),\n",
    "        \"max_bin\": trial.suggest_int(\"max_bin\", 100, 300),\n",
    "        \"num_leaves\": trial.suggest_int(\"num_leaves\", 20, 50),\n",
    "        \"learning_rate\": trial.suggest_loguniform(\"learning_rate\", 1e-3, 1e-1),\n",
    "        \"n_estimators\": trial.suggest_int(\"n_estimators\", 10, 1000),\n",
    "        \"class_weight\": \"balanced\",\n",
    "        \"random_state\": SEED,\n",
    "    }\n",
    "    clf = LGBMClassifier(boosting_type=\"gbdt\", **params)\n",
    "    # 10分割交差検証によるテストデータのaccuracyの出力\n",
    "    score = cross_val_score(clf, X_train, y_train, n_jobs=-1, cv=10)\n",
    "    return score.mean()\n",
    "\n",
    "\n",
    "study = optuna.create_study(direction=\"maximize\")\n",
    "study.optimize(objective, n_trials=100)"
   ]
  },
  {
   "cell_type": "code",
   "execution_count": null,
   "id": "6314cc9e-4eee-4749-aa57-ae234246ce5f",
   "metadata": {
    "tags": []
   },
   "outputs": [],
   "source": [
    "study.best_trial.params, study.best_trial.values"
   ]
  },
  {
   "cell_type": "markdown",
   "id": "2dccdd4c-dadd-48eb-bff1-c134bccda100",
   "metadata": {
    "tags": []
   },
   "source": [
    "# 最適化(subtypes)\n",
    "\n",
    "分類器を学習させ、パラメータのチューニングを行い、高い予測精度を目指す。"
   ]
  },
  {
   "cell_type": "code",
   "execution_count": null,
   "id": "a6169e34-9fcf-49f6-b878-e872db7bc4ba",
   "metadata": {},
   "outputs": [],
   "source": [
    "dict_subtype_values = dict()\n",
    "dict_subtype_params = dict()"
   ]
  },
  {
   "cell_type": "markdown",
   "id": "9041ef6d-1a40-4714-a89f-804985e15305",
   "metadata": {},
   "source": [
    "## RandomForest"
   ]
  },
  {
   "cell_type": "code",
   "execution_count": null,
   "id": "181ac280-ffd0-4f78-ae05-b84dcffd6c9e",
   "metadata": {},
   "outputs": [],
   "source": [
    "def objective(trial):\n",
    "    warnings.simplefilter(\"ignore\")\n",
    "    params = {\n",
    "        \"n_estimators\": trial.suggest_int(\"n_estimators\", 10, 1000),\n",
    "        \"max_depth\": trial.suggest_int(\"max_depth\", 2, 50, log=True),\n",
    "        \"max_leaf_nodes\": trial.suggest_int(\"max_leaf_nodes\", 2, 100),\n",
    "        \"class_weight\": trial.suggest_categorical(\n",
    "            \"class_weight\", [\"balanced\", \"balanced_subsample\"]\n",
    "        ),\n",
    "        \"random_state\": SEED,\n",
    "    }\n",
    "\n",
    "    clf = RandomForestClassifier(**params)\n",
    "    # 10分割交差検証によるテストデータのaccuracyの出力\n",
    "    score = cross_val_score(clf, X_train_subtype, y_train_subtype, n_jobs=-1, cv=10)\n",
    "    return score.mean()"
   ]
  },
  {
   "cell_type": "code",
   "execution_count": null,
   "id": "4d3d4252-8456-4427-82d1-3a1418160b92",
   "metadata": {
    "tags": []
   },
   "outputs": [],
   "source": [
    "optuna.logging.disable_default_handler()\n",
    "warnings.simplefilter(\"ignore\")\n",
    "subtypes = [\n",
    "    \"claudin-low\",\n",
    "    \"LumA\",\n",
    "    \"LumB\",\n",
    "    \"Her2\",\n",
    "    \"Normal\",\n",
    "    \"Basal\",\n",
    "]\n",
    "dict_subtype_values[\"rf\"] = dict()\n",
    "dict_subtype_params[\"rf\"] = dict()\n",
    "for year in range(15, 16, 5):  # 予後年数毎のループ\n",
    "    for subtype in tqdm(subtypes):\n",
    "        dict_subtype_values[\"rf\"][subtype] = dict()\n",
    "        dict_subtype_params[\"rf\"][subtype] = dict()\n",
    "        prognosis_Xlabel = \"X{0:0=2}_{1}\".format(year, subtype)\n",
    "        prognosis_ylabel = \"y{0:0=2}_{1}\".format(year, subtype)\n",
    "        X_train_subtype = X_dict[\"microarray_z_all\"][\"claudin_subtype\"][\"mrmr\"][\n",
    "            \"train\"\n",
    "        ][prognosis_Xlabel]\n",
    "        y_train_subtype = y_dict[\"microarray_z_all\"][\"claudin_subtype\"][\"mrmr\"][\n",
    "            \"train\"\n",
    "        ][prognosis_ylabel]\n",
    "        assert (\n",
    "            X_train_subtype.shape[0] == y_train_subtype.shape[0]\n",
    "        ), \"train size is incorrect\"\n",
    "\n",
    "        study = optuna.create_study(direction=\"maximize\")\n",
    "        study.optimize(objective, n_trials=100)\n",
    "        dict_subtype_values[\"rf\"][subtype][year] = study.best_trial.values\n",
    "        dict_subtype_params[\"rf\"][subtype][year] = study.best_trial.params"
   ]
  },
  {
   "cell_type": "markdown",
   "id": "b58f3f72-dfd2-4530-8c37-22f9fa90feec",
   "metadata": {},
   "source": [
    "## LogitsticRegression"
   ]
  },
  {
   "cell_type": "code",
   "execution_count": 77,
   "id": "f17024c0-a998-4c38-8d68-39b7f6ddb1b8",
   "metadata": {},
   "outputs": [],
   "source": [
    "def objective(trial):\n",
    "    warnings.simplefilter(\"ignore\")\n",
    "    params = {\n",
    "        \"penalty\": trial.suggest_categorical(\"penalty\", [\"l1\", \"l2\"]),\n",
    "        \"C\": trial.suggest_float(\"C\", 1e-5, 1e5),\n",
    "        \"max_iter\": 1000,\n",
    "        \"class_weight\": \"balanced\",\n",
    "        \"random_state\": SEED,\n",
    "    }\n",
    "\n",
    "    clf = LogisticRegression(**params)\n",
    "    # 10分割交差検証によるテストデータのaccuracyの出力\n",
    "    score = cross_val_score(clf, X_train_subtype, y_train_subtype, n_jobs=-1, cv=10)\n",
    "    return score.mean()"
   ]
  },
  {
   "cell_type": "code",
   "execution_count": null,
   "id": "bd914b4c-226e-45d2-be61-b91db9a07b54",
   "metadata": {
    "tags": []
   },
   "outputs": [],
   "source": [
    "optuna.logging.disable_default_handler()\n",
    "warnings.simplefilter(\"ignore\")\n",
    "subtypes = [\n",
    "    \"claudin-low\",\n",
    "    \"LumA\",\n",
    "    \"LumB\",\n",
    "    \"Her2\",\n",
    "    \"Normal\",\n",
    "    \"Basal\",\n",
    "]\n",
    "dict_subtype_values[\"lr\"] = dict()\n",
    "dict_subtype_params[\"lr\"] = dict()\n",
    "for year in range(15, 16, 5):  # 予後年数毎のループ\n",
    "    print(\"====={0:0=2}\".format(year) * 10)\n",
    "    for subtype in subtypes:\n",
    "        print(\"----------\" * 10)\n",
    "        print(subtype)\n",
    "        dict_subtype_values[\"lr\"][subtype] = dict()\n",
    "        dict_subtype_params[\"lr\"][subtype] = dict()\n",
    "        prognosis_Xlabel = \"X{0:0=2}_{1}\".format(year, subtype)\n",
    "        prognosis_ylabel = \"y{0:0=2}_{1}\".format(year, subtype)\n",
    "        X_train_subtype = X_dict[\"microarray_z_all\"][\"claudin_subtype\"][\"mrmr\"][\n",
    "            \"train\"\n",
    "        ][prognosis_Xlabel]\n",
    "        y_train_subtype = y_dict[\"microarray_z_all\"][\"claudin_subtype\"][\"mrmr\"][\n",
    "            \"train\"\n",
    "        ][prognosis_ylabel]\n",
    "        assert (\n",
    "            X_train_subtype.shape[0] == y_train_subtype.shape[0]\n",
    "        ), \"train size is incorrect\"\n",
    "\n",
    "        study = optuna.create_study(direction=\"maximize\")\n",
    "        study.optimize(objective, n_trials=100)\n",
    "        dict_subtype_values[\"lr\"][subtype][year] = study.best_trial.values\n",
    "        dict_subtype_params[\"lr\"][subtype][year] = study.best_trial.params"
   ]
  },
  {
   "cell_type": "markdown",
   "id": "0ed5efc1-ba14-4c1c-a6d9-95f2b1ddb74f",
   "metadata": {},
   "source": [
    "### lightGBM"
   ]
  },
  {
   "cell_type": "code",
   "execution_count": null,
   "id": "87053ba6-1fb2-47de-98bc-26c04e647ee3",
   "metadata": {},
   "outputs": [],
   "source": [
    "def objective(trial):\n",
    "    warnings.simplefilter(\"ignore\")\n",
    "    params = {\n",
    "        \"objective\": \"binary\",\n",
    "        \"metric\": \"binary_logloss\",\n",
    "        \"lambda_l1\": trial.suggest_loguniform(\"lambda_l1\", 1e-8, 10.0),\n",
    "        \"lambda_l2\": trial.suggest_loguniform(\"lambda_l2\", 1e-8, 10.0),\n",
    "        \"max_bin\": trial.suggest_int(\"max_bin\", 100, 300),\n",
    "        \"num_leaves\": trial.suggest_int(\"num_leaves\", 20, 50),\n",
    "        \"learning_rate\": trial.suggest_loguniform(\"learning_rate\", 1e-3, 1e-1),\n",
    "        \"n_estimators\": trial.suggest_int(\"n_estimators\", 10, 1000),\n",
    "        \"class_weight\": \"balanced\",\n",
    "        \"random_state\": SEED,\n",
    "    }\n",
    "    clf = LGBMClassifier(boosting_type=\"gbdt\", **params)\n",
    "    # 10分割交差検証によるテストデータのaccuracyの出力\n",
    "    score = cross_val_score(clf, X_train_subtype, y_train_subtype, n_jobs=-1, cv=10)\n",
    "    return score.mean()"
   ]
  },
  {
   "cell_type": "code",
   "execution_count": null,
   "id": "66dcfe20-e9a0-4035-bc35-3ecef7f04b36",
   "metadata": {
    "tags": []
   },
   "outputs": [],
   "source": [
    "optuna.logging.disable_default_handler()\n",
    "warnings.simplefilter(\"ignore\")\n",
    "subtypes = [\n",
    "    \"claudin-low\",\n",
    "    \"LumA\",\n",
    "    \"LumB\",\n",
    "    \"Her2\",\n",
    "    \"Normal\",\n",
    "    \"Basal\",\n",
    "]\n",
    "dict_subtype_values[\"lgb\"] = dict()\n",
    "dict_subtype_params[\"lgb\"] = dict()\n",
    "for year in range(15, 16, 5):  # 予後年数毎のループ\n",
    "    print(\"====={0:0=2}\".format(year) * 10)\n",
    "    for subtype in tqdm(subtypes):\n",
    "        print(\"----------\" * 10)\n",
    "        print(subtype)\n",
    "        dict_subtype_values[\"lgb\"][subtype] = dict()\n",
    "        dict_subtype_params[\"lgb\"][subtype] = dict()\n",
    "        prognosis_Xlabel = \"X{0:0=2}_{1}\".format(year, subtype)\n",
    "        prognosis_ylabel = \"y{0:0=2}_{1}\".format(year, subtype)\n",
    "        X_train_subtype = X_dict[\"microarray_z_all\"][\"claudin_subtype\"][\"mrmr\"][\n",
    "            \"train\"\n",
    "        ][prognosis_Xlabel]\n",
    "        y_train_subtype = y_dict[\"microarray_z_all\"][\"claudin_subtype\"][\"mrmr\"][\n",
    "            \"train\"\n",
    "        ][prognosis_ylabel]\n",
    "        assert (\n",
    "            X_train_subtype.shape[0] == y_train_subtype.shape[0]\n",
    "        ), \"train size is incorrect\"\n",
    "\n",
    "        study = optuna.create_study(direction=\"maximize\")\n",
    "        study.optimize(objective, n_trials=100)\n",
    "        dict_subtype_values[\"lgb\"][subtype][year] = study.best_trial.values\n",
    "        dict_subtype_params[\"lgb\"][subtype][year] = study.best_trial.params"
   ]
  },
  {
   "cell_type": "code",
   "execution_count": 86,
   "id": "cae227cc-b73f-474f-ba09-4ad168673f3f",
   "metadata": {
    "tags": []
   },
   "outputs": [],
   "source": [
    "make_dir(config.INTERIM_TUNING_PROGNOSIS_CROSS_DIR)\n",
    "pickle_dump(\n",
    "    dict_subtype_values,\n",
    "    config.INTERIM_TUNING_PROGNOSIS_CROSS_DIR + \"/subtype_values.pickle\",\n",
    ")\n",
    "pickle_dump(\n",
    "    dict_subtype_params,\n",
    "    config.INTERIM_TUNING_PROGNOSIS_CROSS_DIR + \"/subtype_params.pickle\",\n",
    ")"
   ]
  },
  {
   "cell_type": "code",
   "execution_count": 87,
   "id": "2169ebeb-adf4-4831-a0ca-6302edec0b99",
   "metadata": {},
   "outputs": [
    {
     "data": {
      "text/plain": [
       "{'rf': {'claudin-low': {15: [0.8861111111111111]},\n",
       "  'LumA': {15: [0.7667989417989418]},\n",
       "  'LumB': {15: [0.7809523809523808]},\n",
       "  'Her2': {15: [0.808974358974359]},\n",
       "  'Normal': {15: [0.9133333333333333]},\n",
       "  'Basal': {15: [0.8300000000000001]}},\n",
       " 'lr': {'claudin-low': {15: [0.8763888888888889]},\n",
       "  'LumA': {15: [0.748015873015873]},\n",
       "  'LumB': {15: [0.780952380952381]},\n",
       "  'Her2': {15: [0.7769230769230769]},\n",
       "  'Normal': {15: [0.9466666666666667]},\n",
       "  'Basal': {15: [0.8727272727272727]}},\n",
       " 'lgb': {'claudin-low': {15: [0.8319444444444445]},\n",
       "  'LumA': {15: [0.8064814814814815]},\n",
       "  'LumB': {15: [0.780952380952381]},\n",
       "  'Her2': {15: [0.7756410256410257]},\n",
       "  'Normal': {15: [0.9066666666666668]},\n",
       "  'Basal': {15: [0.8036363636363637]}}}"
      ]
     },
     "execution_count": 87,
     "metadata": {},
     "output_type": "execute_result"
    }
   ],
   "source": [
    "dict_subtype_values"
   ]
  },
  {
   "cell_type": "code",
   "execution_count": 88,
   "id": "6bb2223f-90e7-4f2d-b7c1-82087a4e6f89",
   "metadata": {},
   "outputs": [
    {
     "data": {
      "text/plain": [
       "{'rf': {'claudin-low': {15: {'n_estimators': 478,\n",
       "    'max_depth': 19,\n",
       "    'max_leaf_nodes': 9,\n",
       "    'class_weight': 'balanced_subsample'}},\n",
       "  'LumA': {15: {'n_estimators': 882,\n",
       "    'max_depth': 20,\n",
       "    'max_leaf_nodes': 35,\n",
       "    'class_weight': 'balanced'}},\n",
       "  'LumB': {15: {'n_estimators': 97,\n",
       "    'max_depth': 12,\n",
       "    'max_leaf_nodes': 81,\n",
       "    'class_weight': 'balanced_subsample'}},\n",
       "  'Her2': {15: {'n_estimators': 608,\n",
       "    'max_depth': 3,\n",
       "    'max_leaf_nodes': 89,\n",
       "    'class_weight': 'balanced'}},\n",
       "  'Normal': {15: {'n_estimators': 91,\n",
       "    'max_depth': 7,\n",
       "    'max_leaf_nodes': 23,\n",
       "    'class_weight': 'balanced'}},\n",
       "  'Basal': {15: {'n_estimators': 517,\n",
       "    'max_depth': 4,\n",
       "    'max_leaf_nodes': 43,\n",
       "    'class_weight': 'balanced'}}},\n",
       " 'lr': {'claudin-low': {15: {'penalty': 'l2', 'C': 36156.402308163364}},\n",
       "  'LumA': {15: {'penalty': 'l2', 'C': 9654.664188336264}},\n",
       "  'LumB': {15: {'penalty': 'l2', 'C': 51528.43835221508}},\n",
       "  'Her2': {15: {'penalty': 'l2', 'C': 5076.262956771448}},\n",
       "  'Normal': {15: {'penalty': 'l2', 'C': 9212.06311725109}},\n",
       "  'Basal': {15: {'penalty': 'l2', 'C': 3579.0502190702755}}},\n",
       " 'lgb': {'claudin-low': {15: {'lambda_l1': 8.796688649275291e-07,\n",
       "    'lambda_l2': 3.9924412505635656e-08,\n",
       "    'max_bin': 256,\n",
       "    'num_leaves': 42,\n",
       "    'learning_rate': 0.04875779998828934,\n",
       "    'n_estimators': 835}},\n",
       "  'LumA': {15: {'lambda_l1': 1.7213091201774864e-06,\n",
       "    'lambda_l2': 0.0002296915070607632,\n",
       "    'max_bin': 295,\n",
       "    'num_leaves': 40,\n",
       "    'learning_rate': 0.030154274363234562,\n",
       "    'n_estimators': 690}},\n",
       "  'LumB': {15: {'lambda_l1': 0.00010167973649544299,\n",
       "    'lambda_l2': 3.344948599083229,\n",
       "    'max_bin': 254,\n",
       "    'num_leaves': 27,\n",
       "    'learning_rate': 0.015285582792461453,\n",
       "    'n_estimators': 749}},\n",
       "  'Her2': {15: {'lambda_l1': 0.0007365296955400542,\n",
       "    'lambda_l2': 5.174665573165868e-07,\n",
       "    'max_bin': 106,\n",
       "    'num_leaves': 24,\n",
       "    'learning_rate': 0.010002911167370093,\n",
       "    'n_estimators': 950}},\n",
       "  'Normal': {15: {'lambda_l1': 2.6407139567812177e-08,\n",
       "    'lambda_l2': 5.577713945318545e-06,\n",
       "    'max_bin': 154,\n",
       "    'num_leaves': 20,\n",
       "    'learning_rate': 0.04526619798966798,\n",
       "    'n_estimators': 409}},\n",
       "  'Basal': {15: {'lambda_l1': 0.0014205322298175638,\n",
       "    'lambda_l2': 3.388870936454716e-06,\n",
       "    'max_bin': 169,\n",
       "    'num_leaves': 37,\n",
       "    'learning_rate': 0.04144055155363327,\n",
       "    'n_estimators': 700}}}}"
      ]
     },
     "execution_count": 88,
     "metadata": {},
     "output_type": "execute_result"
    }
   ],
   "source": [
    "dict_subtype_params"
   ]
  },
  {
   "cell_type": "code",
   "execution_count": null,
   "id": "01c286f4-67bc-44e2-a73c-500285682207",
   "metadata": {},
   "outputs": [],
   "source": []
  }
 ],
 "metadata": {
  "kernelspec": {
   "display_name": "Python 3 (ipykernel)",
   "language": "python",
   "name": "python3"
  },
  "language_info": {
   "codemirror_mode": {
    "name": "ipython",
    "version": 3
   },
   "file_extension": ".py",
   "mimetype": "text/x-python",
   "name": "python",
   "nbconvert_exporter": "python",
   "pygments_lexer": "ipython3",
   "version": "3.8.13"
  }
 },
 "nbformat": 4,
 "nbformat_minor": 5
}
