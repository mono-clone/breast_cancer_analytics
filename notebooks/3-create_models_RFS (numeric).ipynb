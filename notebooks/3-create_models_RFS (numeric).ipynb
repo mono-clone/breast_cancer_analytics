{
 "cells": [
  {
   "cell_type": "markdown",
   "id": "3748b911-cac6-48d6-8c75-5d9cc365f904",
   "metadata": {
    "tags": []
   },
   "source": [
    "# 目的\n",
    "遺伝子学的分類に基づいた、再発の2値分類を実施する。  "
   ]
  },
  {
   "cell_type": "code",
   "execution_count": 13,
   "id": "12113a75-a55b-4fb4-86ed-b9978676e429",
   "metadata": {},
   "outputs": [],
   "source": [
    "# 基本的なライブラリ\n",
    "import sys\n",
    "from tqdm import tqdm\n",
    "\n",
    "import numpy as np\n",
    "import pandas as pd\n",
    "\n",
    "pd.set_option(\"display.max_columns\", 50)\n",
    "\n",
    "import matplotlib.pyplot as plt\n",
    "\n",
    "%matplotlib inline\n",
    "\n",
    "# パイプライン（imblearn）\n",
    "from imblearn.pipeline import Pipeline\n",
    "from imblearn import FunctionSampler\n",
    "\n",
    "# モデル\n",
    "from sksurv.ensemble import RandomSurvivalForest\n",
    "\n",
    "# 評価指標\n",
    "from sklearn.metrics import mean_squared_error\n",
    "\n",
    "import config\n",
    "import functions\n",
    "\n",
    "SEED = config.SEED\n",
    "TARGET_NAME = [\"RFS_STATUS\", \"RFS_MONTHS\"]\n",
    "functions.fix_seed(SEED)\n",
    "\n",
    "\n",
    "df_recurrenced = pd.read_pickle(\n",
    "    config.INTERIM_PREPROCESSED_RECURRENCE_DIR + \"/df_recurrenced4numeric.pkl\"\n",
    ")"
   ]
  },
  {
   "cell_type": "markdown",
   "id": "3011d730-a100-4755-97d0-a1fce8415500",
   "metadata": {
    "tags": []
   },
   "source": [
    "# データ全体での予測モデル検証"
   ]
  },
  {
   "cell_type": "markdown",
   "id": "a7a02154-d9fb-4b12-b8f3-602baff4a8dc",
   "metadata": {
    "tags": []
   },
   "source": [
    "## ベースモデルの学習結果\n",
    "\n",
    "各特徴量選択されたdfを用いて基本的な2値分類モデルを学習する"
   ]
  },
  {
   "cell_type": "code",
   "execution_count": 8,
   "id": "d4638d96-2ca2-48d1-b31f-acbc1d632b89",
   "metadata": {},
   "outputs": [],
   "source": [
    "def smote4survival(X, y):\n",
    "    _y = pd.DataFrame.from_records(y)\n",
    "    _y_rm = _y.RFS_STATUS\n",
    "    _y_rs = _y.RFS_MONTHS\n",
    "\n",
    "    X_resample, y_rm_resample = SMOTE(random_state=config.SEED).fit_resample(X, _y_rm)\n",
    "    X_resample, y_rs_resample = SMOTE(random_state=config.SEED).fit_resample(X, _y_rs)\n",
    "    y_resample = pd.merge(\n",
    "        y_rm_resample, y_rs_resample, right_index=True, left_index=True\n",
    "    ).to_records(index=False)\n",
    "\n",
    "    return X_resample, y_resample"
   ]
  },
  {
   "cell_type": "code",
   "execution_count": 9,
   "id": "f21434d0-6b59-4879-b654-5c5e524f72bb",
   "metadata": {},
   "outputs": [],
   "source": [
    "def save_model_pipeline(\n",
    "    pipeline: callable,\n",
    "    cat_path: str,\n",
    "    save_file_path: str = \".\",\n",
    "):\n",
    "    # 検証用データセットの保存\n",
    "    train_path = \"{0}/{1}/train\".format(save_file_path, cat_path)\n",
    "    test_path = \"{0}/{1}/test\".format(save_file_path, cat_path)\n",
    "\n",
    "    functions.make_dir(train_path)\n",
    "    functions.pickle_dump(pipeline, \"{0}/model_piepline.pkl\".format(train_path))\n",
    "    functions.make_dir(test_path)\n",
    "    functions.pickle_dump(pipeline, \"{0}/model_pipeline.pkl\".format(test_path))"
   ]
  },
  {
   "cell_type": "code",
   "execution_count": 18,
   "id": "e77b2858-fe91-46b9-83a7-a17024ef8340",
   "metadata": {},
   "outputs": [],
   "source": [
    "def validate_model(\n",
    "    model_order: dict = {\"original_data\": []},\n",
    "    cat_path=\"/val_set\",\n",
    "    input_file_path: str = None,\n",
    "    output_file_path: str = None,\n",
    "):\n",
    "\n",
    "    try:\n",
    "        _X_train = pd.read_pickle(input_file_path + cat_path + \"/train/X.pkl\")\n",
    "        _y_train = pd.read_pickle(\n",
    "            input_file_path + cat_path + \"/train/y.pkl\"\n",
    "        ).to_records(index=False)\n",
    "        _X_test = pd.read_pickle(input_file_path + cat_path + \"/test/X.pkl\")\n",
    "        _y_test = pd.read_pickle(input_file_path + cat_path + \"/test/y.pkl\").to_records(\n",
    "            index=False\n",
    "        )\n",
    "    except:\n",
    "        # print(\"pkl file dose not exist\")\n",
    "        return\n",
    "\n",
    "    # 学習用パイプラインの構築\n",
    "    # パイプラインメソッドの関係上、オーバーサンプリングもこちらで行う\n",
    "    # ※imblearnではオーバーサンプリング後のデータの保存が難しい\n",
    "    # こちらはimblearnのPipelineなので注意\n",
    "    _model_pipeline = Pipeline(steps=model_order)\n",
    "    _model_pipeline.fit(_X_train, _y_train)\n",
    "    _y_train_pred = _model_pipeline.predict(_X_train)\n",
    "    _y_test_pred = _model_pipeline.predict(_X_test)\n",
    "    print(mean_squared_error(_y_test.RFS_MONTHS, _y_test_pred, squared=False))\n",
    "\n",
    "    if output_file_path:\n",
    "        save_model_pipeline(\n",
    "            pipeline=_model_pipeline, cat_path=cat_path, save_file_path=output_file_path\n",
    "        )"
   ]
  },
  {
   "cell_type": "code",
   "execution_count": null,
   "id": "39b9d5c8-45a5-4116-a470-f21aa0afff43",
   "metadata": {
    "tags": []
   },
   "outputs": [
    {
     "name": "stdout",
     "output_type": "stream",
     "text": [
      "####################################################################################################\n",
      "subgroup_column:  CLAUDIN_SUBTYPE\n",
      "====================================================================================================\n",
      "subgroup:  claudin-low\n",
      "....................................................................................................\n",
      "model_order_dict name:  RandomSurvivalForest\n"
     ]
    }
   ],
   "source": [
    "# 層別化する特徴量\n",
    "subgroup_columns = [\n",
    "    \"CLAUDIN_SUBTYPE\",\n",
    "    # \"THREEGENE\",\n",
    "]\n",
    "# 遺伝子発現量以外の特徴量を削除\n",
    "drop_columns = [\n",
    "    \"CLAUDIN_SUBTYPE\",\n",
    "    \"THREEGENE\",\n",
    "]\n",
    "\n",
    "# 実施したい学習の定義\n",
    "model_order_dicts = [\n",
    "    {\n",
    "        \"model_name\": \"RandomSurvivalForest\",\n",
    "        \"preprocess_name\": \"preprocess4numeric_1\",\n",
    "        \"model_order\": [\n",
    "            # (\"smote\", FunctionSampler(func=smote4survival)),# 目的変数が連続値なので、SMOTEは実施しない\n",
    "            (\n",
    "                \"RandomSurvivalForest\",\n",
    "                RandomSurvivalForest(\n",
    "                    n_estimators=1000,\n",
    "                    min_samples_split=10,\n",
    "                    min_samples_leaf=15,\n",
    "                    n_jobs=-1,\n",
    "                    random_state=config.SEED,\n",
    "                ),\n",
    "            ),\n",
    "        ],\n",
    "    },\n",
    "]\n",
    "\n",
    "for subgroup_column in subgroup_columns:  # 各サブグループへの適用\n",
    "    print(\"##########\" * 10)\n",
    "    print(\"subgroup_column: \", subgroup_column)\n",
    "    for subgroup in df_recurrenced[subgroup_column].unique():  # サブグループの要素毎への適用\n",
    "        print(\"==========\" * 10)\n",
    "        print(\"subgroup: \", subgroup)\n",
    "        for model_order_dict in model_order_dicts:\n",
    "            print(\"..........\" * 10)\n",
    "            print(\"model_order_dict name: \", model_order_dict[\"model_name\"])\n",
    "            input_file_path = \"./{0}/{1}/{2}/{3}\".format(\n",
    "                config.INTERIM_PREPROCESSED_RECURRENCE_DIR,\n",
    "                subgroup_column,\n",
    "                subgroup,\n",
    "                model_order_dict[\"preprocess_name\"],\n",
    "            )\n",
    "            output_file_path = \"./{0}/{1}/{2}/{3}\".format(\n",
    "                config.INTERIM_MODELS_RECURRENCE_DIR,\n",
    "                subgroup_column,\n",
    "                subgroup,\n",
    "                model_order_dict[\"model_name\"],\n",
    "            )\n",
    "            validate_model(\n",
    "                model_order=model_order_dict[\"model_order\"],\n",
    "                input_file_path=input_file_path,\n",
    "                output_file_path=output_file_path,\n",
    "            )"
   ]
  },
  {
   "cell_type": "code",
   "execution_count": null,
   "id": "2274c26a-3274-4230-81d6-cf1fb63b413d",
   "metadata": {},
   "outputs": [],
   "source": []
  }
 ],
 "metadata": {
  "kernelspec": {
   "display_name": "Python 3 (ipykernel)",
   "language": "python",
   "name": "python3"
  },
  "language_info": {
   "codemirror_mode": {
    "name": "ipython",
    "version": 3
   },
   "file_extension": ".py",
   "mimetype": "text/x-python",
   "name": "python",
   "nbconvert_exporter": "python",
   "pygments_lexer": "ipython3",
   "version": "3.8.13"
  },
  "vscode": {
   "interpreter": {
    "hash": "916dbcbb3f70747c44a77c7bcd40155683ae19c65e1c03b4aa3499c5328201f1"
   }
  }
 },
 "nbformat": 4,
 "nbformat_minor": 5
}
