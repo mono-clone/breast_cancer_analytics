{
 "cells": [
  {
   "cell_type": "markdown",
   "id": "3748b911-cac6-48d6-8c75-5d9cc365f904",
   "metadata": {
    "tags": []
   },
   "source": [
    "# 目的\n",
    "遺伝子学的分類に基づいた、再発の2値分類を実施する。  "
   ]
  },
  {
   "cell_type": "code",
   "execution_count": 74,
   "id": "bcfaefbb-89db-48c9-8b91-141cf7014df1",
   "metadata": {},
   "outputs": [],
   "source": [
    "# 基本的なライブラリ\n",
    "import itertools\n",
    "import warnings\n",
    "import numpy as np\n",
    "import pandas as pd\n",
    "import matplotlib.pyplot as plt\n",
    "from tqdm import tqdm\n",
    "\n",
    "# パイプライン\n",
    "from imblearn.pipeline import Pipeline\n",
    "from imblearn import FunctionSampler\n",
    "from sklearn.base import BaseEstimator, TransformerMixin\n",
    "\n",
    "# サンプリング\n",
    "from imblearn.over_sampling import SMOTE\n",
    "\n",
    "# モデル\n",
    "from sksurv.ensemble import RandomSurvivalForest\n",
    "\n",
    "# 評価指標\n",
    "from sklearn.metrics import mean_squared_error\n",
    "\n",
    "# local libraries\n",
    "import config\n",
    "import functions\n",
    "\n",
    "SEED = config.SEED\n",
    "functions.fix_seed(SEED)\n",
    "\n",
    "\n",
    "# 最大表示列数の指定（ここでは50列を指定）N\n",
    "pd.set_option(\"display.max_columns\", 50)\n",
    "pd.set_option(\"display.max_rows\", 50)\n",
    "\n",
    "%matplotlib inline"
   ]
  },
  {
   "cell_type": "code",
   "execution_count": 2,
   "id": "aef6a76c-509c-454a-8edb-ed60ce67b5f2",
   "metadata": {},
   "outputs": [],
   "source": [
    "df_recurrenced = pd.read_pickle(\n",
    "    config.INTERIM_PREPROCESSED_RECURRENCE_DIR + \"/df_recurrenced4numeric.pkl\"\n",
    ")"
   ]
  },
  {
   "cell_type": "markdown",
   "id": "3011d730-a100-4755-97d0-a1fce8415500",
   "metadata": {
    "tags": []
   },
   "source": [
    "# データ全体での予測モデル検証"
   ]
  },
  {
   "cell_type": "markdown",
   "id": "a7a02154-d9fb-4b12-b8f3-602baff4a8dc",
   "metadata": {
    "tags": []
   },
   "source": [
    "## ベースモデルの学習結果\n",
    "\n",
    "各特徴量選択されたdfを用いて基本的な2値分類モデルを学習する"
   ]
  },
  {
   "cell_type": "code",
   "execution_count": 101,
   "id": "d4638d96-2ca2-48d1-b31f-acbc1d632b89",
   "metadata": {},
   "outputs": [],
   "source": [
    "def smote4survival(X, y):\n",
    "    _y = pd.DataFrame.from_records(y)\n",
    "    _y_rm = _y.RFS_STATUS\n",
    "    _y_rs = _y.RFS_MONTHS\n",
    "\n",
    "    X_resample, y_rm_resample = SMOTE(random_state=config.SEED).fit_resample(X, _y_rm)\n",
    "    X_resample, y_rs_resample = SMOTE(random_state=config.SEED).fit_resample(X, _y_rs)\n",
    "    y_resample = pd.merge(\n",
    "        y_rm_resample, y_rs_resample, right_index=True, left_index=True\n",
    "    ).to_records(index=False)\n",
    "\n",
    "    return X_resample, y_resample"
   ]
  },
  {
   "cell_type": "code",
   "execution_count": 102,
   "id": "e77b2858-fe91-46b9-83a7-a17024ef8340",
   "metadata": {},
   "outputs": [],
   "source": [
    "def validate_models(\n",
    "    model_order: dict = {\"original_data\": []},\n",
    "    input_file_path: str = None,\n",
    "    output_file_path: str = None,\n",
    "):\n",
    "\n",
    "    cat_path = \"/val_set\"\n",
    "    try:\n",
    "        _X_train = pd.read_pickle(input_file_path + cat_path + \"/train/X.pkl\")\n",
    "        _y_train = pd.read_pickle(\n",
    "            input_file_path + cat_path + \"/train/y.pkl\"\n",
    "        ).to_records(index=False)\n",
    "        _X_val = pd.read_pickle(input_file_path + cat_path + \"/val/X.pkl\")\n",
    "        _y_val = pd.read_pickle(input_file_path + cat_path + \"/val/y.pkl\").to_records(\n",
    "            index=False\n",
    "        )\n",
    "    except:\n",
    "        # pkl file dose not exist\n",
    "        return\n",
    "\n",
    "    display(_X_train.shape, _y_train.shape)\n",
    "\n",
    "    # 学習用パイプラインの構築\n",
    "    # パイプラインメソッドの関係上、オーバーサンプリングもこちらで行う\n",
    "    # ※imblearnではオーバーサンプリング後のデータの保存が難しい\n",
    "    # こちらはimblearnのPipelineなので注意\n",
    "    _preprocess_pipeline = Pipeline(steps=model_order)\n",
    "    _preprocess_pipeline.fit(_X_train, _y_train)\n",
    "    _y_train_pred = _preprocess_pipeline.predict(_X_train)\n",
    "    _y_val_pred = _preprocess_pipeline.predict(_X_val)\n",
    "    print(mean_squared_error(_y_val.RFS_MONTHS, _y_val_pred, squared=False))"
   ]
  },
  {
   "cell_type": "code",
   "execution_count": 105,
   "id": "39b9d5c8-45a5-4116-a470-f21aa0afff43",
   "metadata": {
    "tags": []
   },
   "outputs": [
    {
     "name": "stdout",
     "output_type": "stream",
     "text": [
      "####################################################################################################\n",
      "subgroup_column:  CLAUDIN_SUBTYPE\n",
      "====================================================================================================\n",
      "subgroup:  claudin-low\n",
      "....................................................................................................\n",
      "model_order_dict name:  RandomSurvivalForest\n"
     ]
    },
    {
     "data": {
      "text/plain": [
       "(159, 140)"
      ]
     },
     "metadata": {},
     "output_type": "display_data"
    },
    {
     "data": {
      "text/plain": [
       "(159,)"
      ]
     },
     "metadata": {},
     "output_type": "display_data"
    },
    {
     "name": "stdout",
     "output_type": "stream",
     "text": [
      "145.6370641642193\n",
      "====================================================================================================\n",
      "subgroup:  LumA\n",
      "....................................................................................................\n",
      "model_order_dict name:  RandomSurvivalForest\n"
     ]
    },
    {
     "data": {
      "text/plain": [
       "(544, 475)"
      ]
     },
     "metadata": {},
     "output_type": "display_data"
    },
    {
     "data": {
      "text/plain": [
       "(544,)"
      ]
     },
     "metadata": {},
     "output_type": "display_data"
    },
    {
     "name": "stdout",
     "output_type": "stream",
     "text": [
      "127.47401542858742\n",
      "====================================================================================================\n",
      "subgroup:  LumB\n",
      "....................................................................................................\n",
      "model_order_dict name:  RandomSurvivalForest\n"
     ]
    },
    {
     "data": {
      "text/plain": [
       "(372, 327)"
      ]
     },
     "metadata": {},
     "output_type": "display_data"
    },
    {
     "data": {
      "text/plain": [
       "(372,)"
      ]
     },
     "metadata": {},
     "output_type": "display_data"
    },
    {
     "name": "stdout",
     "output_type": "stream",
     "text": [
      "108.77647626501043\n",
      "====================================================================================================\n",
      "subgroup:  Her2\n",
      "....................................................................................................\n",
      "model_order_dict name:  RandomSurvivalForest\n"
     ]
    },
    {
     "data": {
      "text/plain": [
       "(176, 156)"
      ]
     },
     "metadata": {},
     "output_type": "display_data"
    },
    {
     "data": {
      "text/plain": [
       "(176,)"
      ]
     },
     "metadata": {},
     "output_type": "display_data"
    },
    {
     "name": "stdout",
     "output_type": "stream",
     "text": [
      "122.33546452899219\n",
      "====================================================================================================\n",
      "subgroup:  Normal\n",
      "....................................................................................................\n",
      "model_order_dict name:  RandomSurvivalForest\n"
     ]
    },
    {
     "data": {
      "text/plain": [
       "(113, 100)"
      ]
     },
     "metadata": {},
     "output_type": "display_data"
    },
    {
     "data": {
      "text/plain": [
       "(113,)"
      ]
     },
     "metadata": {},
     "output_type": "display_data"
    },
    {
     "name": "stdout",
     "output_type": "stream",
     "text": [
      "148.55229430129737\n",
      "====================================================================================================\n",
      "subgroup:  Basal\n",
      "....................................................................................................\n",
      "model_order_dict name:  RandomSurvivalForest\n"
     ]
    },
    {
     "data": {
      "text/plain": [
       "(161, 144)"
      ]
     },
     "metadata": {},
     "output_type": "display_data"
    },
    {
     "data": {
      "text/plain": [
       "(161,)"
      ]
     },
     "metadata": {},
     "output_type": "display_data"
    },
    {
     "name": "stdout",
     "output_type": "stream",
     "text": [
      "144.70662569359638\n",
      "====================================================================================================\n",
      "subgroup:  NC\n",
      "....................................................................................................\n",
      "model_order_dict name:  RandomSurvivalForest\n"
     ]
    }
   ],
   "source": [
    "# 層別化する特徴量\n",
    "subgroup_columns = [\n",
    "    \"CLAUDIN_SUBTYPE\",\n",
    "    # \"THREEGENE\",\n",
    "]\n",
    "# 遺伝子発現量以外の特徴量を削除\n",
    "drop_columns = [\n",
    "    \"CLAUDIN_SUBTYPE\",\n",
    "    \"THREEGENE\",\n",
    "]\n",
    "\n",
    "# 実施したい学習の定義\n",
    "model_order_dicts = [\n",
    "    {\n",
    "        \"model_name\": \"RandomSurvivalForest\",\n",
    "        \"preprocess_name\": \"preprocess4numeric_1\",\n",
    "        \"model_order\": [\n",
    "            # (\"smote\", FunctionSampler(func=smote4survival)),# 目的変数が連続値なので、SMOTEは実施しない\n",
    "            (\n",
    "                \"RandomSurvivalForest\",\n",
    "                RandomSurvivalForest(\n",
    "                    n_estimators=1000,\n",
    "                    min_samples_split=10,\n",
    "                    min_samples_leaf=15,\n",
    "                    n_jobs=-1,\n",
    "                    random_state=config.SEED,\n",
    "                ),\n",
    "            ),\n",
    "        ],\n",
    "    },\n",
    "]\n",
    "\n",
    "for subgroup_column in subgroup_columns:  # 各サブグループへの適用\n",
    "    print(\"##########\" * 10)\n",
    "    print(\"subgroup_column: \", subgroup_column)\n",
    "    for subgroup in df_recurrenced[subgroup_column].unique():  # サブグループの要素毎への適用\n",
    "        print(\"==========\" * 10)\n",
    "        print(\"subgroup: \", subgroup)\n",
    "        for model_order_dict in model_order_dicts:\n",
    "            print(\"..........\" * 10)\n",
    "            print(\"model_order_dict name: \", model_order_dict[\"model_name\"])\n",
    "            input_file_path = \"./{0}/{1}/{2}/{3}\".format(\n",
    "                config.INTERIM_PREPROCESSED_RECURRENCE_DIR,\n",
    "                subgroup_column,\n",
    "                subgroup,\n",
    "                model_order_dict[\"preprocess_name\"],\n",
    "            )\n",
    "            \"\"\"\n",
    "            output_file_path = \"./{0}/{1}/{2}/{3}\".format(\n",
    "                config.INTERIM_MODELS_RECURRENCE_DIR,\n",
    "                subgroup_column,\n",
    "                subgroup,\n",
    "                model_order_dict[\"model_name\"],\n",
    "            )\"\"\"\n",
    "            validate_models(\n",
    "                model_order=model_order_dict[\"model_order\"],\n",
    "                input_file_path=input_file_path,\n",
    "            )"
   ]
  },
  {
   "cell_type": "code",
   "execution_count": null,
   "id": "2274c26a-3274-4230-81d6-cf1fb63b413d",
   "metadata": {},
   "outputs": [],
   "source": []
  }
 ],
 "metadata": {
  "kernelspec": {
   "display_name": "Python 3 (ipykernel)",
   "language": "python",
   "name": "python3"
  },
  "language_info": {
   "codemirror_mode": {
    "name": "ipython",
    "version": 3
   },
   "file_extension": ".py",
   "mimetype": "text/x-python",
   "name": "python",
   "nbconvert_exporter": "python",
   "pygments_lexer": "ipython3",
   "version": "3.8.13"
  },
  "vscode": {
   "interpreter": {
    "hash": "916dbcbb3f70747c44a77c7bcd40155683ae19c65e1c03b4aa3499c5328201f1"
   }
  }
 },
 "nbformat": 4,
 "nbformat_minor": 5
}
