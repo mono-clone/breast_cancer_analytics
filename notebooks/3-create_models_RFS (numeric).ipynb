{
 "cells": [
  {
   "cell_type": "markdown",
   "id": "3748b911-cac6-48d6-8c75-5d9cc365f904",
   "metadata": {
    "tags": []
   },
   "source": [
    "# 目的\n",
    "遺伝子学的分類に基づいた、再発の2値分類を実施する。  "
   ]
  },
  {
   "cell_type": "code",
   "execution_count": 1,
   "id": "bcfaefbb-89db-48c9-8b91-141cf7014df1",
   "metadata": {},
   "outputs": [
    {
     "name": "stderr",
     "output_type": "stream",
     "text": [
      "/home/breast-cancer-analytics/notebooks/functions.py:185: FutureWarning: The default dtype for empty Series will be 'object' instead of 'float64' in a future version. Specify a dtype explicitly to silence this warning.\n",
      "  y_train: pd.Series(),\n",
      "/home/breast-cancer-analytics/notebooks/functions.py:187: FutureWarning: The default dtype for empty Series will be 'object' instead of 'float64' in a future version. Specify a dtype explicitly to silence this warning.\n",
      "  y_val: pd.Series(),\n"
     ]
    }
   ],
   "source": [
    "# 基本的なライブラリ\n",
    "import itertools\n",
    "import warnings\n",
    "import numpy as np\n",
    "import pandas as pd\n",
    "import matplotlib.pyplot as plt\n",
    "from tqdm import tqdm\n",
    "\n",
    "# パイプライン\n",
    "from imblearn.pipeline import Pipeline\n",
    "\n",
    "# モデル\n",
    "from sklearn.linear_model import Lasso\n",
    "from sklearn.linear_model import ARDRegression\n",
    "\n",
    "# 評価指標\n",
    "from sklearn.metrics import mean_squared_error\n",
    "\n",
    "# local libraries\n",
    "import config\n",
    "import functions\n",
    "\n",
    "SEED = config.SEED\n",
    "functions.fix_seed(SEED)\n",
    "\n",
    "\n",
    "# 最大表示列数の指定（ここでは50列を指定）N\n",
    "pd.set_option(\"display.max_columns\", 50)\n",
    "pd.set_option(\"display.max_rows\", 50)\n",
    "\n",
    "%matplotlib inline"
   ]
  },
  {
   "cell_type": "code",
   "execution_count": 2,
   "id": "aef6a76c-509c-454a-8edb-ed60ce67b5f2",
   "metadata": {},
   "outputs": [],
   "source": [
    "df_recurrenced = pd.read_pickle(\n",
    "    config.INTERIM_PREPROCESSED_RECURRENCE_DIR + \"/df_recurrenced4numeric.pkl\"\n",
    ")\n",
    "\n",
    "classifiers = []"
   ]
  },
  {
   "cell_type": "markdown",
   "id": "3011d730-a100-4755-97d0-a1fce8415500",
   "metadata": {
    "tags": []
   },
   "source": [
    "# データ全体での予測モデル検証"
   ]
  },
  {
   "cell_type": "markdown",
   "id": "a7a02154-d9fb-4b12-b8f3-602baff4a8dc",
   "metadata": {
    "tags": []
   },
   "source": [
    "## ベースモデルの学習結果\n",
    "\n",
    "各特徴量選択されたdfを用いて基本的な2値分類モデルを学習する"
   ]
  },
  {
   "cell_type": "code",
   "execution_count": 28,
   "id": "e77b2858-fe91-46b9-83a7-a17024ef8340",
   "metadata": {},
   "outputs": [],
   "source": [
    "def validate_models(\n",
    "    model_order: dict = {\"original_data\": []},\n",
    "    input_file_path: str = None,\n",
    "    output_file_path: str = None,\n",
    "):\n",
    "\n",
    "    cat_path = \"/val_set\"\n",
    "    try:\n",
    "        _X_train = pd.read_pickle(input_file_path + cat_path + \"/train/X.pkl\")\n",
    "        _y_train = pd.read_pickle(input_file_path + cat_path + \"/train/y.pkl\")\n",
    "        _X_val = pd.read_pickle(input_file_path + cat_path + \"/val/X.pkl\")\n",
    "        _y_val = pd.read_pickle(input_file_path + cat_path + \"/val/y.pkl\")\n",
    "    except:\n",
    "        # pkl file dose not exist\n",
    "        return\n",
    "\n",
    "    display(_X_train.shape, _y_train.shape)\n",
    "\n",
    "    # 学習用パイプラインの構築\n",
    "    # パイプラインメソッドの関係上、オーバーサンプリングもこちらで行う\n",
    "    # ※imblearnではオーバーサンプリング後のデータの保存が難しい\n",
    "    # こちらはimblearnのPipelineなので注意\n",
    "    _preprocess_pipeline = Pipeline(steps=model_order)\n",
    "    _preprocess_pipeline.fit(_X_train, _y_train)\n",
    "    _y_train_pred = _preprocess_pipeline.predict(_X_train)\n",
    "    _y_val_pred = _preprocess_pipeline.predict(_X_val)\n",
    "    print(mean_squared_error(_y_train, _y_train_pred, squared=False))\n",
    "    print(mean_squared_error(_y_val, _y_val_pred, squared=False))"
   ]
  },
  {
   "cell_type": "code",
   "execution_count": 29,
   "id": "39b9d5c8-45a5-4116-a470-f21aa0afff43",
   "metadata": {
    "tags": []
   },
   "outputs": [
    {
     "name": "stdout",
     "output_type": "stream",
     "text": [
      "####################################################################################################\n",
      "subgroup_column:  CLAUDIN_SUBTYPE\n",
      "====================================================================================================\n",
      "subgroup:  LumB\n",
      "....................................................................................................\n",
      "model_order_dict name:  ARDRegression\n"
     ]
    },
    {
     "data": {
      "text/plain": [
       "(178, 159)"
      ]
     },
     "metadata": {},
     "output_type": "display_data"
    },
    {
     "data": {
      "text/plain": [
       "(178,)"
      ]
     },
     "metadata": {},
     "output_type": "display_data"
    },
    {
     "name": "stdout",
     "output_type": "stream",
     "text": [
      "19.87581881731015\n",
      "50.93123521601232\n",
      "....................................................................................................\n",
      "model_order_dict name:  Lasso\n"
     ]
    },
    {
     "data": {
      "text/plain": [
       "(178, 159)"
      ]
     },
     "metadata": {},
     "output_type": "display_data"
    },
    {
     "data": {
      "text/plain": [
       "(178,)"
      ]
     },
     "metadata": {},
     "output_type": "display_data"
    },
    {
     "name": "stdout",
     "output_type": "stream",
     "text": [
      "14.51278513654291\n",
      "50.57872817870207\n",
      "====================================================================================================\n",
      "subgroup:  Her2\n",
      "....................................................................................................\n",
      "model_order_dict name:  ARDRegression\n"
     ]
    },
    {
     "data": {
      "text/plain": [
       "(90, 80)"
      ]
     },
     "metadata": {},
     "output_type": "display_data"
    },
    {
     "data": {
      "text/plain": [
       "(90,)"
      ]
     },
     "metadata": {},
     "output_type": "display_data"
    },
    {
     "name": "stdout",
     "output_type": "stream",
     "text": [
      "9.576156082749115\n",
      "31.29835206969365\n",
      "....................................................................................................\n",
      "model_order_dict name:  Lasso\n"
     ]
    },
    {
     "data": {
      "text/plain": [
       "(90, 80)"
      ]
     },
     "metadata": {},
     "output_type": "display_data"
    },
    {
     "data": {
      "text/plain": [
       "(90,)"
      ]
     },
     "metadata": {},
     "output_type": "display_data"
    },
    {
     "name": "stdout",
     "output_type": "stream",
     "text": [
      "7.233266924258616\n",
      "31.894433867828926\n",
      "====================================================================================================\n",
      "subgroup:  LumA\n",
      "....................................................................................................\n",
      "model_order_dict name:  ARDRegression\n"
     ]
    },
    {
     "data": {
      "text/plain": [
       "(178, 158)"
      ]
     },
     "metadata": {},
     "output_type": "display_data"
    },
    {
     "data": {
      "text/plain": [
       "(178,)"
      ]
     },
     "metadata": {},
     "output_type": "display_data"
    },
    {
     "name": "stdout",
     "output_type": "stream",
     "text": [
      "23.251475521677182\n",
      "46.67407139876787\n",
      "....................................................................................................\n",
      "model_order_dict name:  Lasso\n"
     ]
    },
    {
     "data": {
      "text/plain": [
       "(178, 158)"
      ]
     },
     "metadata": {},
     "output_type": "display_data"
    },
    {
     "data": {
      "text/plain": [
       "(178,)"
      ]
     },
     "metadata": {},
     "output_type": "display_data"
    },
    {
     "name": "stdout",
     "output_type": "stream",
     "text": [
      "17.86307541914139\n",
      "47.261206372504134\n",
      "====================================================================================================\n",
      "subgroup:  claudin-low\n",
      "....................................................................................................\n",
      "model_order_dict name:  ARDRegression\n",
      "....................................................................................................\n",
      "model_order_dict name:  Lasso\n",
      "====================================================================================================\n",
      "subgroup:  Basal\n",
      "....................................................................................................\n",
      "model_order_dict name:  ARDRegression\n",
      "....................................................................................................\n",
      "model_order_dict name:  Lasso\n",
      "====================================================================================================\n",
      "subgroup:  Normal\n",
      "....................................................................................................\n",
      "model_order_dict name:  ARDRegression\n",
      "....................................................................................................\n",
      "model_order_dict name:  Lasso\n",
      "====================================================================================================\n",
      "subgroup:  NC\n",
      "....................................................................................................\n",
      "model_order_dict name:  ARDRegression\n",
      "....................................................................................................\n",
      "model_order_dict name:  Lasso\n"
     ]
    }
   ],
   "source": [
    "# 層別化する特徴量\n",
    "subgroup_columns = [\n",
    "    \"CLAUDIN_SUBTYPE\",\n",
    "    # \"NPI_CAT\",\n",
    "    # \"TUMOR_CAT\",\n",
    "    # \"LYMPH_CAT\",\n",
    "]\n",
    "# 遺伝子発現量以外の特徴量を削除\n",
    "drop_columns = [\n",
    "    \"CLAUDIN_SUBTYPE\",\n",
    "    \"NPI_CAT\",\n",
    "    \"TUMOR_CAT\",\n",
    "    \"LYMPH_CAT\",\n",
    "]\n",
    "\n",
    "# 実施したい学習の定義\n",
    "model_order_dicts = [\n",
    "    {\n",
    "        \"model_name\": \"ARDRegression\",\n",
    "        \"preprocess_name\": \"preprocess4numeric_1\",\n",
    "        \"model_order\": [\n",
    "            (\n",
    "                \"ARDRegression\",\n",
    "                ARDRegression(),\n",
    "            ),\n",
    "        ],\n",
    "    },\n",
    "    {\n",
    "        \"model_name\": \"Lasso\",\n",
    "        \"preprocess_name\": \"preprocess4numeric_1\",\n",
    "        \"model_order\": [\n",
    "            (\"Lasso\", Lasso(random_state=SEED)),\n",
    "        ],\n",
    "    },\n",
    "]\n",
    "\n",
    "for subgroup_column in subgroup_columns:  # 各サブグループへの適用\n",
    "    print(\"##########\" * 10)\n",
    "    print(\"subgroup_column: \", subgroup_column)\n",
    "    for subgroup in df_recurrenced[subgroup_column].unique():  # サブグループの要素毎への適用\n",
    "        print(\"==========\" * 10)\n",
    "        print(\"subgroup: \", subgroup)\n",
    "        for model_order_dict in model_order_dicts:\n",
    "            print(\"..........\" * 10)\n",
    "            print(\"model_order_dict name: \", model_order_dict[\"model_name\"])\n",
    "            input_file_path = \"./{0}/{1}/{2}/{3}\".format(\n",
    "                config.INTERIM_PREPROCESSED_RECURRENCE_DIR,\n",
    "                subgroup_column,\n",
    "                subgroup,\n",
    "                model_order_dict[\"preprocess_name\"],\n",
    "            )\n",
    "            \"\"\"\n",
    "            output_file_path = \"./{0}/{1}/{2}/{3}\".format(\n",
    "                config.INTERIM_MODELS_RECURRENCE_DIR,\n",
    "                subgroup_column,\n",
    "                subgroup,\n",
    "                model_order_dict[\"model_name\"],\n",
    "            )\"\"\"\n",
    "            validate_models(\n",
    "                model_order=model_order_dict[\"model_order\"],\n",
    "                input_file_path=input_file_path,\n",
    "            )"
   ]
  },
  {
   "cell_type": "code",
   "execution_count": null,
   "id": "f7c6e3bd-b45f-42d2-b031-12a404bc4cd6",
   "metadata": {},
   "outputs": [],
   "source": []
  }
 ],
 "metadata": {
  "kernelspec": {
   "display_name": "Python 3 (ipykernel)",
   "language": "python",
   "name": "python3"
  },
  "language_info": {
   "codemirror_mode": {
    "name": "ipython",
    "version": 3
   },
   "file_extension": ".py",
   "mimetype": "text/x-python",
   "name": "python",
   "nbconvert_exporter": "python",
   "pygments_lexer": "ipython3",
   "version": "3.8.13"
  },
  "vscode": {
   "interpreter": {
    "hash": "916dbcbb3f70747c44a77c7bcd40155683ae19c65e1c03b4aa3499c5328201f1"
   }
  }
 },
 "nbformat": 4,
 "nbformat_minor": 5
}
