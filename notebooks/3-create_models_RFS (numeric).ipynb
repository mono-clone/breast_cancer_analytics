{
 "cells": [
  {
   "cell_type": "markdown",
   "id": "3748b911-cac6-48d6-8c75-5d9cc365f904",
   "metadata": {
    "tags": []
   },
   "source": [
    "# 目的\n",
    "遺伝子学的分類に基づいた、再発の2値分類を実施する。  "
   ]
  },
  {
   "cell_type": "code",
   "execution_count": 1,
   "id": "12113a75-a55b-4fb4-86ed-b9978676e429",
   "metadata": {},
   "outputs": [
    {
     "name": "stderr",
     "output_type": "stream",
     "text": [
      "/home/breast-cancer-analytics/notebooks/functions.py:196: FutureWarning: The default dtype for empty Series will be 'object' instead of 'float64' in a future version. Specify a dtype explicitly to silence this warning.\n",
      "  y_train: pd.Series(),\n",
      "/home/breast-cancer-analytics/notebooks/functions.py:198: FutureWarning: The default dtype for empty Series will be 'object' instead of 'float64' in a future version. Specify a dtype explicitly to silence this warning.\n",
      "  y_val: pd.Series(),\n"
     ]
    }
   ],
   "source": [
    "# 基本的なライブラリ\n",
    "import os\n",
    "from tqdm import tqdm\n",
    "\n",
    "import numpy as np\n",
    "import pandas as pd\n",
    "\n",
    "pd.set_option(\"display.max_columns\", 50)\n",
    "\n",
    "import matplotlib.pyplot as plt\n",
    "\n",
    "%matplotlib inline\n",
    "\n",
    "# パイプライン（imblearn）\n",
    "from imblearn.pipeline import Pipeline\n",
    "from imblearn import FunctionSampler\n",
    "\n",
    "# モデル\n",
    "from sksurv.ensemble import (\n",
    "    ComponentwiseGradientBoostingSurvivalAnalysis,\n",
    "    GradientBoostingSurvivalAnalysis,\n",
    "    RandomSurvivalForest,\n",
    "    ExtraSurvivalTrees,\n",
    ")\n",
    "from sksurv.svm import FastKernelSurvivalSVM\n",
    "from sksurv.linear_model import IPCRidge\n",
    "\n",
    "\n",
    "# 評価指標\n",
    "from sksurv.metrics import cumulative_dynamic_auc, concordance_index_ipcw\n",
    "\n",
    "import config\n",
    "import functions\n",
    "\n",
    "SEED = config.SEED\n",
    "TARGET_NAME = [\"RFS_STATUS\", \"RFS_MONTHS\"]\n",
    "functions.fix_seed(SEED)\n",
    "\n",
    "\n",
    "df_recurrenced = pd.read_pickle(\n",
    "    config.INTERIM_PREPROCESSED_RECURRENCE_DIR + \"/df_recurrenced4numeric.pkl\"\n",
    ")"
   ]
  },
  {
   "cell_type": "markdown",
   "id": "3011d730-a100-4755-97d0-a1fce8415500",
   "metadata": {
    "tags": []
   },
   "source": [
    "# データ全体での予測モデル検証"
   ]
  },
  {
   "cell_type": "markdown",
   "id": "a7a02154-d9fb-4b12-b8f3-602baff4a8dc",
   "metadata": {
    "tags": []
   },
   "source": [
    "## ベースモデルの学習結果\n",
    "\n",
    "各特徴量選択されたdfを用いて基本的な2値分類モデルを学習する"
   ]
  },
  {
   "cell_type": "code",
   "execution_count": 2,
   "id": "f21434d0-6b59-4879-b654-5c5e524f72bb",
   "metadata": {},
   "outputs": [],
   "source": [
    "def save_model_pipeline(\n",
    "    pipeline: callable,\n",
    "    val_step: str,\n",
    "    save_file_path: str = \".\",\n",
    "):\n",
    "    # fit後pipelineの保存\n",
    "    pipeline_path = \"{0}/{1}\".format(save_file_path, val_step)\n",
    "    functions.make_dir(pipeline_path)\n",
    "    functions.pickle_dump(pipeline, \"{0}/model_pipeline.pkl\".format(pipeline_path))"
   ]
  },
  {
   "cell_type": "code",
   "execution_count": 3,
   "id": "d06a12f4-5736-4f00-8991-b3a520523523",
   "metadata": {},
   "outputs": [],
   "source": [
    "def exists_pipeline(path: str) -> bool:\n",
    "    return os.path.exists(path)"
   ]
  },
  {
   "cell_type": "code",
   "execution_count": 19,
   "id": "543ffa60-5128-4f7c-bc30-4564313d500f",
   "metadata": {},
   "outputs": [],
   "source": [
    "def plot_step_funcs(funcs, label=None, xlabel=None, ylabel=None):\n",
    "    for fn in funcs:\n",
    "        plt.step(fn.x, fn(fn.x), where=\"post\", label=label)\n",
    "    plt.xlabel(xlabel)\n",
    "    plt.ylabel(ylabel)\n",
    "    plt.xlim(0, 250)\n",
    "    plt.ylim(0, 1)\n",
    "    plt.grid(True)\n",
    "    plt.legend()"
   ]
  },
  {
   "cell_type": "code",
   "execution_count": 84,
   "id": "e77b2858-fe91-46b9-83a7-a17024ef8340",
   "metadata": {},
   "outputs": [],
   "source": [
    "def validate_model(\n",
    "    model_order: dict = {\"original_data\": []},\n",
    "    val_step=\"val_set\",\n",
    "    input_data_path: str = None,\n",
    "    output_pipe_path: str = None,\n",
    "    is_fitted: bool = False,\n",
    "):\n",
    "    try:\n",
    "        _X_train = pd.read_pickle(\n",
    "            \"{0}/{1}/train/X.pkl\".format(input_data_path, val_step)\n",
    "        )\n",
    "        _y_train = pd.read_pickle(\n",
    "            \"{0}/{1}/train/y.pkl\".format(input_data_path, val_step)\n",
    "        ).to_records(index=False)\n",
    "        _X_test = pd.read_pickle(\"{0}/{1}/test/X.pkl\".format(input_data_path, val_step))\n",
    "        _y_test = pd.read_pickle(\n",
    "            \"{0}/{1}/test/y.pkl\".format(input_data_path, val_step)\n",
    "        ).to_records(index=False)\n",
    "    except:\n",
    "        print(\"data pkl file dose not exist\")\n",
    "        return pd.DataFrame()\n",
    "\n",
    "    # display(_X_train.shape, _y_train.shape)\n",
    "    # display(_X_test.shape, _y_test.shape)\n",
    "\n",
    "    pipeline_path = \"{0}/{1}\".format(output_pipe_path, val_step)\n",
    "    if exists_pipeline(pipeline_path) and is_fitted:\n",
    "        # 学習済みパイプラインの使用\n",
    "        _model_pipeline = functions.pickle_load(\n",
    "            \"{0}/model_pipeline.pkl\".format(pipeline_path)\n",
    "        )\n",
    "    else:\n",
    "        # パイプラインの学習の実施\n",
    "        _model_pipeline = Pipeline(steps=model_order)\n",
    "        _model_pipeline.fit(_X_train, _y_train)\n",
    "    _estimator = _model_pipeline[-1]\n",
    "\n",
    "    # c-indexスコアの表示\n",
    "    _train_score = _estimator.score(_X_train, _y_train)\n",
    "    _test_score = _estimator.score(_X_test, _y_test)\n",
    "\n",
    "    # 累積AUCの表示\n",
    "    _risk_test = _model_pipeline.predict(_X_test)\n",
    "    va_times = np.arange(\n",
    "        pd.DataFrame(_y_test).RFS_MONTHS.min(),\n",
    "        pd.DataFrame(_y_test).RFS_MONTHS.max(),\n",
    "        1,\n",
    "    )\n",
    "    cph_auc, cph_mean_auc = cumulative_dynamic_auc(\n",
    "        _y_train, _y_test, _risk_test, va_times\n",
    "    )\n",
    "    plt.subplot(1, 3, 1)\n",
    "    plt.plot(va_times, cph_auc, label=_estimator.__class__.__name__)\n",
    "    plt.xlabel(\"months from surgery\")\n",
    "    plt.ylabel(\"time-dependent AUC\")\n",
    "    plt.xlim(0, 250)\n",
    "    plt.ylim(0, 1)\n",
    "    plt.grid(True)\n",
    "    plt.legend()\n",
    "\n",
    "    # plot survival funcs\n",
    "    _surv_funcs_test = _model_pipeline.predict_survival_function(_X_test.iloc[:1])\n",
    "    plt.subplot(1, 3, 2)\n",
    "    plot_step_funcs(\n",
    "        funcs=_surv_funcs_test,\n",
    "        label=_estimator.__class__.__name__,\n",
    "        xlabel=\"months from surgery\",\n",
    "        ylabel=\"surv rate\",\n",
    "    )\n",
    "\n",
    "    # テストデータ患者のハザード率のプロット\n",
    "    _chf_funcs_test = _estimator.predict_cumulative_hazard_function(_X_test.iloc[:1])\n",
    "    plt.subplot(1, 3, 3)\n",
    "    plot_step_funcs(\n",
    "        funcs=_chf_funcs_test,\n",
    "        label=_estimator.__class__.__name__,\n",
    "        xlabel=\"months from surgery\",\n",
    "        ylabel=\"hazard rate\",\n",
    "    )\n",
    "\n",
    "    df_score = pd.DataFrame(\n",
    "        [_train_score, _test_score, cph_mean_auc],\n",
    "        index=[\"train c-index\", \"test c-index\", \"AUC mean\"],\n",
    "        columns=[_estimator.__class__.__name__],\n",
    "    ).round(3)\n",
    "\n",
    "    if output_pipe_path:\n",
    "        save_model_pipeline(\n",
    "            pipeline=_model_pipeline,\n",
    "            val_step=val_step,\n",
    "            save_file_path=output_pipe_path,\n",
    "        )\n",
    "    return df_score"
   ]
  },
  {
   "cell_type": "code",
   "execution_count": 91,
   "id": "85ab8cb5-b78f-4456-976a-58912c43994c",
   "metadata": {
    "tags": []
   },
   "outputs": [],
   "source": [
    "PCA_PERCENTILE = 95\n",
    "\n",
    "# 実施したい学習の定義\n",
    "model_order_dicts = [\n",
    "    {\n",
    "        \"model_name\": ComponentwiseGradientBoostingSurvivalAnalysis().__class__.__name__,\n",
    "        \"preprocess_name\": \"preprocess4numeric_pca{0}\".format(PCA_PERCENTILE),\n",
    "        \"model_order\": [\n",
    "            (\n",
    "                ComponentwiseGradientBoostingSurvivalAnalysis().__class__.__name__,\n",
    "                ComponentwiseGradientBoostingSurvivalAnalysis(\n",
    "                    n_estimators=1000,\n",
    "                    random_state=config.SEED,\n",
    "                ),\n",
    "            ),\n",
    "        ],\n",
    "    },\n",
    "    {\n",
    "        \"model_name\": GradientBoostingSurvivalAnalysis().__class__.__name__,\n",
    "        \"preprocess_name\": \"preprocess4numeric_pca{0}\".format(PCA_PERCENTILE),\n",
    "        \"model_order\": [\n",
    "            (\n",
    "                GradientBoostingSurvivalAnalysis().__class__.__name__,\n",
    "                GradientBoostingSurvivalAnalysis(\n",
    "                    n_estimators=1000,\n",
    "                    random_state=config.SEED,\n",
    "                ),\n",
    "            ),\n",
    "        ],\n",
    "    },\n",
    "    {\n",
    "        \"model_name\": RandomSurvivalForest().__class__.__name__,\n",
    "        \"preprocess_name\": \"preprocess4numeric_pca{0}\".format(PCA_PERCENTILE),\n",
    "        \"model_order\": [\n",
    "            (\n",
    "                RandomSurvivalForest().__class__.__name__,\n",
    "                RandomSurvivalForest(\n",
    "                    n_estimators=1000,\n",
    "                    min_samples_split=10,\n",
    "                    min_samples_leaf=15,\n",
    "                    n_jobs=-1,\n",
    "                    random_state=config.SEED,\n",
    "                ),\n",
    "            ),\n",
    "        ],\n",
    "    },\n",
    "    {\n",
    "        \"model_name\": ExtraSurvivalTrees().__class__.__name__,\n",
    "        \"preprocess_name\": \"preprocess4numeric_pca{0}\".format(PCA_PERCENTILE),\n",
    "        \"model_order\": [\n",
    "            (\n",
    "                ExtraSurvivalTrees().__class__.__name__,\n",
    "                ExtraSurvivalTrees(\n",
    "                    random_state=config.SEED,\n",
    "                    n_estimators=1000,\n",
    "                    min_samples_split=10,\n",
    "                    min_samples_leaf=15,\n",
    "                    n_jobs=-1,\n",
    "                ),\n",
    "            ),\n",
    "        ],\n",
    "    },\n",
    "]"
   ]
  },
  {
   "cell_type": "code",
   "execution_count": null,
   "id": "92c30422-2865-49f5-ab9b-e1d73f61264c",
   "metadata": {
    "tags": []
   },
   "outputs": [
    {
     "name": "stdout",
     "output_type": "stream",
     "text": [
      "====================================================================================================\n",
      "subgroup:  claudin-low\n"
     ]
    }
   ],
   "source": [
    "# 層別化する特徴量\n",
    "subgroup_columns = [\n",
    "    \"CLAUDIN_SUBTYPE\",\n",
    "    # \"THREEGENE\",\n",
    "]\n",
    "# 遺伝子発現量以外の特徴量を削除\n",
    "drop_columns = [\n",
    "    \"CLAUDIN_SUBTYPE\",\n",
    "    \"THREEGENE\",\n",
    "]\n",
    "\n",
    "val_step = \"test_set\"\n",
    "\n",
    "\n",
    "for subgroup_column in subgroup_columns:  # 各サブグループへの適用\n",
    "    for subgroup in df_recurrenced[subgroup_column].unique():  # サブグループの要素毎への適用\n",
    "        print(\"==========\" * 10)\n",
    "        print(\"subgroup: \", subgroup)\n",
    "        # init each loop\n",
    "        plt.figure(figsize=(18, 4))\n",
    "        df_scores = pd.DataFrame(index=[\"train c-index\", \"test c-index\", \"AUC mean\"])\n",
    "        for model_order_dict in model_order_dicts:\n",
    "            input_data_path = \"./{0}/{1}/{2}/{3}\".format(\n",
    "                config.INTERIM_PREPROCESSED_RECURRENCE_DIR,\n",
    "                subgroup_column,\n",
    "                subgroup,\n",
    "                model_order_dict[\"preprocess_name\"],\n",
    "            )\n",
    "            output_pipe_path = \"./{0}/{1}/{2}/{3}/{4}\".format(\n",
    "                config.INTERIM_MODELS_RECURRENCE_DIR,\n",
    "                subgroup_column,\n",
    "                subgroup,\n",
    "                model_order_dict[\"preprocess_name\"],\n",
    "                model_order_dict[\"model_name\"],\n",
    "            )\n",
    "            df_score = validate_model(\n",
    "                model_order=model_order_dict[\"model_order\"],\n",
    "                val_step=val_step,\n",
    "                input_data_path=input_data_path,\n",
    "                output_pipe_path=output_pipe_path,\n",
    "                is_fitted=True,\n",
    "            )\n",
    "            df_scores = pd.merge(df_scores, df_score, right_index=True, left_index=True)\n",
    "        display(pd.DataFrame(df_scores))\n",
    "        output_fig_path = \"./{0}/{1}/{2}/{3}\".format(\n",
    "            config.FIGURES_MODELS_RECURRENCE_DIR,\n",
    "            subgroup_column,\n",
    "            subgroup,\n",
    "            model_order_dict[\"preprocess_name\"],\n",
    "        )\n",
    "        functions.make_dir(output_fig_path)\n",
    "        plt.title(subgroup)\n",
    "        plt.savefig(output_fig_path + \"/auc.png\")\n",
    "        plt.show()"
   ]
  },
  {
   "cell_type": "code",
   "execution_count": null,
   "id": "892f5722-754b-497a-975c-2df72e8d201a",
   "metadata": {},
   "outputs": [],
   "source": []
  },
  {
   "cell_type": "code",
   "execution_count": null,
   "id": "2c611c13-b401-415e-9c88-00702c7cd35a",
   "metadata": {},
   "outputs": [],
   "source": []
  },
  {
   "cell_type": "code",
   "execution_count": 43,
   "id": "14164ea0-c19b-41d0-a121-521cc4394301",
   "metadata": {},
   "outputs": [],
   "source": [
    "data_path = (\n",
    "    config.INTERIM_PREPROCESSED_RECURRENCE_DIR\n",
    "    + \"/CLAUDIN_SUBTYPE/claudin-low/preprocess4numeric_pca80/test_set/test/X.pkl\"\n",
    ")\n",
    "\n",
    "X = pd.read_pickle(data_path)\n",
    "\n",
    "pipe_path = (\n",
    "    config.INTERIM_MODELS_RECURRENCE_DIR\n",
    "    + \"/CLAUDIN_SUBTYPE/claudin-low/preprocess4numeric_pca80/ComponentwiseGradientBoostingSurvivalAnalysis/test_set/model_pipeline.pkl\"\n",
    ")\n",
    "pipe = pd.read_pickle(pipe_path)"
   ]
  },
  {
   "cell_type": "code",
   "execution_count": 50,
   "id": "882cf30d-e737-489d-ad2d-be2d7772608a",
   "metadata": {},
   "outputs": [
    {
     "data": {
      "text/plain": [
       "[<matplotlib.lines.Line2D at 0x7f569fc6b040>]"
      ]
     },
     "execution_count": 50,
     "metadata": {},
     "output_type": "execute_result"
    },
    {
     "data": {
      "image/png": "[encoded data removed]",
      "text/plain": [
       "<Figure size 640x480 with 1 Axes>"
      ]
     },
     "metadata": {},
     "output_type": "display_data"
    }
   ],
   "source": [
    "plt.step(\n",
    "    pipe[-1].predict_cumulative_hazard_function(X)[1].x,\n",
    "    pipe[-1].predict_cumulative_hazard_function(X)[1].y,\n",
    ")"
   ]
  },
  {
   "cell_type": "code",
   "execution_count": null,
   "id": "925f0984-f31b-432d-b4ea-b58d076b8819",
   "metadata": {},
   "outputs": [],
   "source": []
  }
 ],
 "metadata": {
  "kernelspec": {
   "display_name": "Python 3 (ipykernel)",
   "language": "python",
   "name": "python3"
  },
  "language_info": {
   "codemirror_mode": {
    "name": "ipython",
    "version": 3
   },
   "file_extension": ".py",
   "mimetype": "text/x-python",
   "name": "python",
   "nbconvert_exporter": "python",
   "pygments_lexer": "ipython3",
   "version": "3.8.15"
  },
  "vscode": {
   "interpreter": {
    "hash": "916dbcbb3f70747c44a77c7bcd40155683ae19c65e1c03b4aa3499c5328201f1"
   }
  }
 },
 "nbformat": 4,
 "nbformat_minor": 5
}
