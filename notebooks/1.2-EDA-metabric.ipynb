{
 "cells": [
  {
   "cell_type": "markdown",
   "id": "33231db2-6153-42aa-ba4e-921a5ecbc02e",
   "metadata": {},
   "source": [
    "# EDA metabric data (including clinical patient and sample data)\n",
    "\n",
    "clinical patient data と clinical sample data の分析  \n",
    "どちらも患者データに属する. \n"
   ]
  },
  {
   "cell_type": "code",
   "execution_count": 374,
   "id": "8293713b-45cd-46b9-8aee-009a608b6a4c",
   "metadata": {},
   "outputs": [],
   "source": [
    "import numpy as np\n",
    "import pandas as pd\n",
    "import matplotlib.pyplot as plt\n",
    "import seaborn as sns\n",
    "\n",
    "from config import *\n",
    "import sweetviz as sv\n",
    "import pandas_profiling as pdp\n",
    "import dtale"
   ]
  },
  {
   "cell_type": "code",
   "execution_count": 375,
   "id": "8556aa14-b6ad-4f3c-ae92-219c640f90fe",
   "metadata": {},
   "outputs": [],
   "source": [
    "def save_df_as_csv(df, save_name):\n",
    "    df.to_csv(INTERIM_DIR+'/'+save_name+'.csv', index=False)"
   ]
  },
  {
   "cell_type": "markdown",
   "id": "a6390b1c-d154-4def-80e0-151781b64e56",
   "metadata": {},
   "source": [
    "# データ全体\n",
    "\n",
    "データ概要の表示  \n",
    "MB-XXXXとMTS-TXXXX両方を含めた全体での欠損値などを見ていく"
   ]
  },
  {
   "cell_type": "code",
   "execution_count": 376,
   "id": "221f874e-ea7b-452a-9c64-944ebd349adb",
   "metadata": {},
   "outputs": [
    {
     "data": {
      "text/html": [
       "<div>\n",
       "<style scoped>\n",
       "    .dataframe tbody tr th:only-of-type {\n",
       "        vertical-align: middle;\n",
       "    }\n",
       "\n",
       "    .dataframe tbody tr th {\n",
       "        vertical-align: top;\n",
       "    }\n",
       "\n",
       "    .dataframe thead th {\n",
       "        text-align: right;\n",
       "    }\n",
       "</style>\n",
       "<table border=\"1\" class=\"dataframe\">\n",
       "  <thead>\n",
       "    <tr style=\"text-align: right;\">\n",
       "      <th></th>\n",
       "      <th>Study ID</th>\n",
       "      <th>Patient ID</th>\n",
       "      <th>Sample ID</th>\n",
       "      <th>Age at Diagnosis</th>\n",
       "      <th>Type of Breast Surgery</th>\n",
       "      <th>Cancer Type</th>\n",
       "      <th>Cancer Type Detailed</th>\n",
       "      <th>Cellularity</th>\n",
       "      <th>Chemotherapy</th>\n",
       "      <th>Pam50 + Claudin-low subtype</th>\n",
       "      <th>...</th>\n",
       "      <th>Relapse Free Status (Months)</th>\n",
       "      <th>Relapse Free Status</th>\n",
       "      <th>Number of Samples Per Patient</th>\n",
       "      <th>Sample Type</th>\n",
       "      <th>Sex</th>\n",
       "      <th>3-Gene classifier subtype</th>\n",
       "      <th>TMB (nonsynonymous)</th>\n",
       "      <th>Tumor Size</th>\n",
       "      <th>Tumor Stage</th>\n",
       "      <th>Patient's Vital Status</th>\n",
       "    </tr>\n",
       "  </thead>\n",
       "  <tbody>\n",
       "    <tr>\n",
       "      <th>0</th>\n",
       "      <td>brca_metabric</td>\n",
       "      <td>MB-0000</td>\n",
       "      <td>MB-0000</td>\n",
       "      <td>75.65</td>\n",
       "      <td>MASTECTOMY</td>\n",
       "      <td>Breast Cancer</td>\n",
       "      <td>Breast Invasive Ductal Carcinoma</td>\n",
       "      <td>NaN</td>\n",
       "      <td>NO</td>\n",
       "      <td>claudin-low</td>\n",
       "      <td>...</td>\n",
       "      <td>138.65</td>\n",
       "      <td>0:Not Recurred</td>\n",
       "      <td>1</td>\n",
       "      <td>Primary</td>\n",
       "      <td>Female</td>\n",
       "      <td>ER-/HER2-</td>\n",
       "      <td>0.000000</td>\n",
       "      <td>22.0</td>\n",
       "      <td>2.0</td>\n",
       "      <td>Living</td>\n",
       "    </tr>\n",
       "    <tr>\n",
       "      <th>1</th>\n",
       "      <td>brca_metabric</td>\n",
       "      <td>MB-0002</td>\n",
       "      <td>MB-0002</td>\n",
       "      <td>43.19</td>\n",
       "      <td>BREAST CONSERVING</td>\n",
       "      <td>Breast Cancer</td>\n",
       "      <td>Breast Invasive Ductal Carcinoma</td>\n",
       "      <td>High</td>\n",
       "      <td>NO</td>\n",
       "      <td>LumA</td>\n",
       "      <td>...</td>\n",
       "      <td>83.52</td>\n",
       "      <td>0:Not Recurred</td>\n",
       "      <td>1</td>\n",
       "      <td>Primary</td>\n",
       "      <td>Female</td>\n",
       "      <td>ER+/HER2- High Prolif</td>\n",
       "      <td>2.615035</td>\n",
       "      <td>10.0</td>\n",
       "      <td>1.0</td>\n",
       "      <td>Living</td>\n",
       "    </tr>\n",
       "    <tr>\n",
       "      <th>2</th>\n",
       "      <td>brca_metabric</td>\n",
       "      <td>MB-0005</td>\n",
       "      <td>MB-0005</td>\n",
       "      <td>48.87</td>\n",
       "      <td>MASTECTOMY</td>\n",
       "      <td>Breast Cancer</td>\n",
       "      <td>Breast Invasive Ductal Carcinoma</td>\n",
       "      <td>High</td>\n",
       "      <td>YES</td>\n",
       "      <td>LumB</td>\n",
       "      <td>...</td>\n",
       "      <td>151.28</td>\n",
       "      <td>1:Recurred</td>\n",
       "      <td>1</td>\n",
       "      <td>Primary</td>\n",
       "      <td>Female</td>\n",
       "      <td>NaN</td>\n",
       "      <td>2.615035</td>\n",
       "      <td>15.0</td>\n",
       "      <td>2.0</td>\n",
       "      <td>Died of Disease</td>\n",
       "    </tr>\n",
       "    <tr>\n",
       "      <th>3</th>\n",
       "      <td>brca_metabric</td>\n",
       "      <td>MB-0006</td>\n",
       "      <td>MB-0006</td>\n",
       "      <td>47.68</td>\n",
       "      <td>MASTECTOMY</td>\n",
       "      <td>Breast Cancer</td>\n",
       "      <td>Breast Mixed Ductal and Lobular Carcinoma</td>\n",
       "      <td>Moderate</td>\n",
       "      <td>YES</td>\n",
       "      <td>LumB</td>\n",
       "      <td>...</td>\n",
       "      <td>162.76</td>\n",
       "      <td>0:Not Recurred</td>\n",
       "      <td>1</td>\n",
       "      <td>Primary</td>\n",
       "      <td>Female</td>\n",
       "      <td>NaN</td>\n",
       "      <td>1.307518</td>\n",
       "      <td>25.0</td>\n",
       "      <td>2.0</td>\n",
       "      <td>Living</td>\n",
       "    </tr>\n",
       "    <tr>\n",
       "      <th>4</th>\n",
       "      <td>brca_metabric</td>\n",
       "      <td>MB-0008</td>\n",
       "      <td>MB-0008</td>\n",
       "      <td>76.97</td>\n",
       "      <td>MASTECTOMY</td>\n",
       "      <td>Breast Cancer</td>\n",
       "      <td>Breast Mixed Ductal and Lobular Carcinoma</td>\n",
       "      <td>High</td>\n",
       "      <td>YES</td>\n",
       "      <td>LumB</td>\n",
       "      <td>...</td>\n",
       "      <td>18.55</td>\n",
       "      <td>1:Recurred</td>\n",
       "      <td>1</td>\n",
       "      <td>Primary</td>\n",
       "      <td>Female</td>\n",
       "      <td>ER+/HER2- High Prolif</td>\n",
       "      <td>2.615035</td>\n",
       "      <td>40.0</td>\n",
       "      <td>2.0</td>\n",
       "      <td>Died of Disease</td>\n",
       "    </tr>\n",
       "  </tbody>\n",
       "</table>\n",
       "<p>5 rows × 39 columns</p>\n",
       "</div>"
      ],
      "text/plain": [
       "        Study ID Patient ID Sample ID  Age at Diagnosis  \\\n",
       "0  brca_metabric    MB-0000   MB-0000             75.65   \n",
       "1  brca_metabric    MB-0002   MB-0002             43.19   \n",
       "2  brca_metabric    MB-0005   MB-0005             48.87   \n",
       "3  brca_metabric    MB-0006   MB-0006             47.68   \n",
       "4  brca_metabric    MB-0008   MB-0008             76.97   \n",
       "\n",
       "  Type of Breast Surgery    Cancer Type  \\\n",
       "0             MASTECTOMY  Breast Cancer   \n",
       "1      BREAST CONSERVING  Breast Cancer   \n",
       "2             MASTECTOMY  Breast Cancer   \n",
       "3             MASTECTOMY  Breast Cancer   \n",
       "4             MASTECTOMY  Breast Cancer   \n",
       "\n",
       "                        Cancer Type Detailed Cellularity Chemotherapy  \\\n",
       "0           Breast Invasive Ductal Carcinoma         NaN           NO   \n",
       "1           Breast Invasive Ductal Carcinoma        High           NO   \n",
       "2           Breast Invasive Ductal Carcinoma        High          YES   \n",
       "3  Breast Mixed Ductal and Lobular Carcinoma    Moderate          YES   \n",
       "4  Breast Mixed Ductal and Lobular Carcinoma        High          YES   \n",
       "\n",
       "  Pam50 + Claudin-low subtype  ...  Relapse Free Status (Months)  \\\n",
       "0                 claudin-low  ...                        138.65   \n",
       "1                        LumA  ...                         83.52   \n",
       "2                        LumB  ...                        151.28   \n",
       "3                        LumB  ...                        162.76   \n",
       "4                        LumB  ...                         18.55   \n",
       "\n",
       "  Relapse Free Status Number of Samples Per Patient  Sample Type     Sex  \\\n",
       "0      0:Not Recurred                             1      Primary  Female   \n",
       "1      0:Not Recurred                             1      Primary  Female   \n",
       "2          1:Recurred                             1      Primary  Female   \n",
       "3      0:Not Recurred                             1      Primary  Female   \n",
       "4          1:Recurred                             1      Primary  Female   \n",
       "\n",
       "  3-Gene classifier subtype TMB (nonsynonymous) Tumor Size Tumor Stage  \\\n",
       "0                 ER-/HER2-            0.000000       22.0         2.0   \n",
       "1     ER+/HER2- High Prolif            2.615035       10.0         1.0   \n",
       "2                       NaN            2.615035       15.0         2.0   \n",
       "3                       NaN            1.307518       25.0         2.0   \n",
       "4     ER+/HER2- High Prolif            2.615035       40.0         2.0   \n",
       "\n",
       "  Patient's Vital Status  \n",
       "0                 Living  \n",
       "1                 Living  \n",
       "2        Died of Disease  \n",
       "3                 Living  \n",
       "4        Died of Disease  \n",
       "\n",
       "[5 rows x 39 columns]"
      ]
     },
     "execution_count": 376,
     "metadata": {},
     "output_type": "execute_result"
    }
   ],
   "source": [
    "df_metabric=pd.read_table(RAW_DIR+'/brca_metabric_clinical_data.tsv')\n",
    "df_metabric.head()"
   ]
  },
  {
   "cell_type": "code",
   "execution_count": 377,
   "id": "2b985765-eaf7-495b-b342-cda12f26ca76",
   "metadata": {},
   "outputs": [
    {
     "name": "stdout",
     "output_type": "stream",
     "text": [
      "<class 'pandas.core.frame.DataFrame'>\n",
      "RangeIndex: 2509 entries, 0 to 2508\n",
      "Data columns (total 39 columns):\n",
      " #   Column                          Non-Null Count  Dtype  \n",
      "---  ------                          --------------  -----  \n",
      " 0   Study ID                        2509 non-null   object \n",
      " 1   Patient ID                      2509 non-null   object \n",
      " 2   Sample ID                       2509 non-null   object \n",
      " 3   Age at Diagnosis                2498 non-null   float64\n",
      " 4   Type of Breast Surgery          1955 non-null   object \n",
      " 5   Cancer Type                     2509 non-null   object \n",
      " 6   Cancer Type Detailed            2509 non-null   object \n",
      " 7   Cellularity                     1917 non-null   object \n",
      " 8   Chemotherapy                    1980 non-null   object \n",
      " 9   Pam50 + Claudin-low subtype     1980 non-null   object \n",
      " 10  Cohort                          2498 non-null   float64\n",
      " 11  ER status measured by IHC       2426 non-null   object \n",
      " 12  ER Status                       2469 non-null   object \n",
      " 13  Neoplasm Histologic Grade       2388 non-null   float64\n",
      " 14  HER2 status measured by SNP6    1980 non-null   object \n",
      " 15  HER2 Status                     1980 non-null   object \n",
      " 16  Tumor Other Histologic Subtype  2374 non-null   object \n",
      " 17  Hormone Therapy                 1980 non-null   object \n",
      " 18  Inferred Menopausal State       1980 non-null   object \n",
      " 19  Integrative Cluster             1980 non-null   object \n",
      " 20  Primary Tumor Laterality        1870 non-null   object \n",
      " 21  Lymph nodes examined positive   2243 non-null   float64\n",
      " 22  Mutation Count                  2358 non-null   float64\n",
      " 23  Nottingham prognostic index     2287 non-null   float64\n",
      " 24  Oncotree Code                   2509 non-null   object \n",
      " 25  Overall Survival (Months)       1981 non-null   float64\n",
      " 26  Overall Survival Status         1981 non-null   object \n",
      " 27  PR Status                       1980 non-null   object \n",
      " 28  Radio Therapy                   1980 non-null   object \n",
      " 29  Relapse Free Status (Months)    2388 non-null   float64\n",
      " 30  Relapse Free Status             2488 non-null   object \n",
      " 31  Number of Samples Per Patient   2509 non-null   int64  \n",
      " 32  Sample Type                     2509 non-null   object \n",
      " 33  Sex                             2509 non-null   object \n",
      " 34  3-Gene classifier subtype       1764 non-null   object \n",
      " 35  TMB (nonsynonymous)             2509 non-null   float64\n",
      " 36  Tumor Size                      2360 non-null   float64\n",
      " 37  Tumor Stage                     1788 non-null   float64\n",
      " 38  Patient's Vital Status          1980 non-null   object \n",
      "dtypes: float64(11), int64(1), object(27)\n",
      "memory usage: 764.6+ KB\n"
     ]
    }
   ],
   "source": [
    "df_metabric.info()"
   ]
  },
  {
   "cell_type": "code",
   "execution_count": 378,
   "id": "7ea60c4c-2a1e-4519-b825-3777b116b7b5",
   "metadata": {
    "tags": []
   },
   "outputs": [],
   "source": [
    "#dtale.show(df_metabric)"
   ]
  },
  {
   "cell_type": "code",
   "execution_count": 379,
   "id": "decaf640-1cb6-4b05-8dd8-9ed6a17f42f2",
   "metadata": {},
   "outputs": [
    {
     "data": {
      "text/plain": [
       "(2509, 39)"
      ]
     },
     "execution_count": 379,
     "metadata": {},
     "output_type": "execute_result"
    }
   ],
   "source": [
    "df_metabric.shape"
   ]
  },
  {
   "cell_type": "code",
   "execution_count": 380,
   "id": "daee3187-2b61-4387-b774-f2ae90afe713",
   "metadata": {
    "tags": []
   },
   "outputs": [
    {
     "data": {
      "text/plain": [
       "Study ID                            0\n",
       "Patient ID                          0\n",
       "Sample ID                           0\n",
       "Age at Diagnosis                   11\n",
       "Type of Breast Surgery            554\n",
       "Cancer Type                         0\n",
       "Cancer Type Detailed                0\n",
       "Cellularity                       592\n",
       "Chemotherapy                      529\n",
       "Pam50 + Claudin-low subtype       529\n",
       "Cohort                             11\n",
       "ER status measured by IHC          83\n",
       "ER Status                          40\n",
       "Neoplasm Histologic Grade         121\n",
       "HER2 status measured by SNP6      529\n",
       "HER2 Status                       529\n",
       "Tumor Other Histologic Subtype    135\n",
       "Hormone Therapy                   529\n",
       "Inferred Menopausal State         529\n",
       "Integrative Cluster               529\n",
       "Primary Tumor Laterality          639\n",
       "Lymph nodes examined positive     266\n",
       "Mutation Count                    151\n",
       "Nottingham prognostic index       222\n",
       "Oncotree Code                       0\n",
       "Overall Survival (Months)         528\n",
       "Overall Survival Status           528\n",
       "PR Status                         529\n",
       "Radio Therapy                     529\n",
       "Relapse Free Status (Months)      121\n",
       "Relapse Free Status                21\n",
       "Number of Samples Per Patient       0\n",
       "Sample Type                         0\n",
       "Sex                                 0\n",
       "3-Gene classifier subtype         745\n",
       "TMB (nonsynonymous)                 0\n",
       "Tumor Size                        149\n",
       "Tumor Stage                       721\n",
       "Patient's Vital Status            529\n",
       "dtype: int64"
      ]
     },
     "execution_count": 380,
     "metadata": {},
     "output_type": "execute_result"
    }
   ],
   "source": [
    "# 欠損値の個数\n",
    "df_metabric.isnull().sum()"
   ]
  },
  {
   "cell_type": "markdown",
   "id": "8fdca3f1-e380-4ba6-b440-0710eb229d54",
   "metadata": {},
   "source": [
    "# データ分割\n",
    "\n",
    "IDをMB-XXXXとMTS-TXXXXに分けて、データの密度の高いMB-XXXXについてデータの分布や欠損値を見ていく  \n",
    "加えてCancer-Type毎にもデータを分け、以降の分析、モデル構築に役立てる"
   ]
  },
  {
   "cell_type": "markdown",
   "id": "421028b2-b344-4b9b-9a9a-d3e1ebc0addf",
   "metadata": {},
   "source": [
    "## ID分割\n",
    "\n",
    "MB-XXXXとMTS-TXXXXでデータを分割し、保存もする"
   ]
  },
  {
   "cell_type": "code",
   "execution_count": 381,
   "id": "c10f48d2-f69a-43e7-86f7-fd12a656fe05",
   "metadata": {},
   "outputs": [],
   "source": [
    "df_metabric_MB=df_metabric[df_metabric['Patient ID'].str.contains('MB')]\n",
    "df_metabric_MTST=df_metabric[df_metabric['Patient ID'].str.contains('MTS-T')]"
   ]
  },
  {
   "cell_type": "code",
   "execution_count": 382,
   "id": "bad483c7-1991-49c2-9004-261da538b6a3",
   "metadata": {},
   "outputs": [
    {
     "data": {
      "text/html": [
       "<div>\n",
       "<style scoped>\n",
       "    .dataframe tbody tr th:only-of-type {\n",
       "        vertical-align: middle;\n",
       "    }\n",
       "\n",
       "    .dataframe tbody tr th {\n",
       "        vertical-align: top;\n",
       "    }\n",
       "\n",
       "    .dataframe thead th {\n",
       "        text-align: right;\n",
       "    }\n",
       "</style>\n",
       "<table border=\"1\" class=\"dataframe\">\n",
       "  <thead>\n",
       "    <tr style=\"text-align: right;\">\n",
       "      <th></th>\n",
       "      <th>Age at Diagnosis</th>\n",
       "      <th>Cohort</th>\n",
       "      <th>Neoplasm Histologic Grade</th>\n",
       "      <th>Lymph nodes examined positive</th>\n",
       "      <th>Mutation Count</th>\n",
       "      <th>Nottingham prognostic index</th>\n",
       "      <th>Overall Survival (Months)</th>\n",
       "      <th>Relapse Free Status (Months)</th>\n",
       "      <th>Number of Samples Per Patient</th>\n",
       "      <th>TMB (nonsynonymous)</th>\n",
       "      <th>Tumor Size</th>\n",
       "      <th>Tumor Stage</th>\n",
       "    </tr>\n",
       "  </thead>\n",
       "  <tbody>\n",
       "    <tr>\n",
       "      <th>count</th>\n",
       "      <td>1985.000000</td>\n",
       "      <td>1985.000000</td>\n",
       "      <td>1897.000000</td>\n",
       "      <td>1909.000000</td>\n",
       "      <td>1864.000000</td>\n",
       "      <td>1984.000000</td>\n",
       "      <td>1981.000000</td>\n",
       "      <td>1985.000000</td>\n",
       "      <td>1985.0</td>\n",
       "      <td>1985.000000</td>\n",
       "      <td>1959.000000</td>\n",
       "      <td>1470.000000</td>\n",
       "    </tr>\n",
       "    <tr>\n",
       "      <th>mean</th>\n",
       "      <td>61.100544</td>\n",
       "      <td>2.616121</td>\n",
       "      <td>2.414338</td>\n",
       "      <td>2.004715</td>\n",
       "      <td>5.711910</td>\n",
       "      <td>4.013186</td>\n",
       "      <td>125.244271</td>\n",
       "      <td>110.117406</td>\n",
       "      <td>1.0</td>\n",
       "      <td>6.993408</td>\n",
       "      <td>26.273486</td>\n",
       "      <td>1.736735</td>\n",
       "    </tr>\n",
       "    <tr>\n",
       "      <th>std</th>\n",
       "      <td>12.948374</td>\n",
       "      <td>1.233252</td>\n",
       "      <td>0.648891</td>\n",
       "      <td>4.080490</td>\n",
       "      <td>4.073815</td>\n",
       "      <td>1.163166</td>\n",
       "      <td>76.111772</td>\n",
       "      <td>76.297209</td>\n",
       "      <td>0.0</td>\n",
       "      <td>5.437249</td>\n",
       "      <td>15.368776</td>\n",
       "      <td>0.641813</td>\n",
       "    </tr>\n",
       "    <tr>\n",
       "      <th>min</th>\n",
       "      <td>21.930000</td>\n",
       "      <td>1.000000</td>\n",
       "      <td>1.000000</td>\n",
       "      <td>0.000000</td>\n",
       "      <td>1.000000</td>\n",
       "      <td>1.000000</td>\n",
       "      <td>0.000000</td>\n",
       "      <td>0.000000</td>\n",
       "      <td>1.0</td>\n",
       "      <td>0.000000</td>\n",
       "      <td>1.000000</td>\n",
       "      <td>0.000000</td>\n",
       "    </tr>\n",
       "    <tr>\n",
       "      <th>25%</th>\n",
       "      <td>51.450000</td>\n",
       "      <td>1.000000</td>\n",
       "      <td>2.000000</td>\n",
       "      <td>0.000000</td>\n",
       "      <td>3.000000</td>\n",
       "      <td>3.044000</td>\n",
       "      <td>60.866667</td>\n",
       "      <td>41.740000</td>\n",
       "      <td>1.0</td>\n",
       "      <td>3.922553</td>\n",
       "      <td>17.000000</td>\n",
       "      <td>1.000000</td>\n",
       "    </tr>\n",
       "    <tr>\n",
       "      <th>50%</th>\n",
       "      <td>61.840000</td>\n",
       "      <td>3.000000</td>\n",
       "      <td>3.000000</td>\n",
       "      <td>0.000000</td>\n",
       "      <td>5.000000</td>\n",
       "      <td>4.042000</td>\n",
       "      <td>116.466667</td>\n",
       "      <td>100.720000</td>\n",
       "      <td>1.0</td>\n",
       "      <td>6.537589</td>\n",
       "      <td>23.000000</td>\n",
       "      <td>2.000000</td>\n",
       "    </tr>\n",
       "    <tr>\n",
       "      <th>75%</th>\n",
       "      <td>70.610000</td>\n",
       "      <td>3.000000</td>\n",
       "      <td>3.000000</td>\n",
       "      <td>2.000000</td>\n",
       "      <td>7.000000</td>\n",
       "      <td>5.040000</td>\n",
       "      <td>185.133333</td>\n",
       "      <td>167.760000</td>\n",
       "      <td>1.0</td>\n",
       "      <td>9.152624</td>\n",
       "      <td>30.000000</td>\n",
       "      <td>2.000000</td>\n",
       "    </tr>\n",
       "    <tr>\n",
       "      <th>max</th>\n",
       "      <td>96.290000</td>\n",
       "      <td>5.000000</td>\n",
       "      <td>3.000000</td>\n",
       "      <td>45.000000</td>\n",
       "      <td>81.000000</td>\n",
       "      <td>6.680000</td>\n",
       "      <td>355.200000</td>\n",
       "      <td>346.380000</td>\n",
       "      <td>1.0</td>\n",
       "      <td>104.601416</td>\n",
       "      <td>182.000000</td>\n",
       "      <td>4.000000</td>\n",
       "    </tr>\n",
       "  </tbody>\n",
       "</table>\n",
       "</div>"
      ],
      "text/plain": [
       "       Age at Diagnosis       Cohort  Neoplasm Histologic Grade  \\\n",
       "count       1985.000000  1985.000000                1897.000000   \n",
       "mean          61.100544     2.616121                   2.414338   \n",
       "std           12.948374     1.233252                   0.648891   \n",
       "min           21.930000     1.000000                   1.000000   \n",
       "25%           51.450000     1.000000                   2.000000   \n",
       "50%           61.840000     3.000000                   3.000000   \n",
       "75%           70.610000     3.000000                   3.000000   \n",
       "max           96.290000     5.000000                   3.000000   \n",
       "\n",
       "       Lymph nodes examined positive  Mutation Count  \\\n",
       "count                    1909.000000     1864.000000   \n",
       "mean                        2.004715        5.711910   \n",
       "std                         4.080490        4.073815   \n",
       "min                         0.000000        1.000000   \n",
       "25%                         0.000000        3.000000   \n",
       "50%                         0.000000        5.000000   \n",
       "75%                         2.000000        7.000000   \n",
       "max                        45.000000       81.000000   \n",
       "\n",
       "       Nottingham prognostic index  Overall Survival (Months)  \\\n",
       "count                  1984.000000                1981.000000   \n",
       "mean                      4.013186                 125.244271   \n",
       "std                       1.163166                  76.111772   \n",
       "min                       1.000000                   0.000000   \n",
       "25%                       3.044000                  60.866667   \n",
       "50%                       4.042000                 116.466667   \n",
       "75%                       5.040000                 185.133333   \n",
       "max                       6.680000                 355.200000   \n",
       "\n",
       "       Relapse Free Status (Months)  Number of Samples Per Patient  \\\n",
       "count                   1985.000000                         1985.0   \n",
       "mean                     110.117406                            1.0   \n",
       "std                       76.297209                            0.0   \n",
       "min                        0.000000                            1.0   \n",
       "25%                       41.740000                            1.0   \n",
       "50%                      100.720000                            1.0   \n",
       "75%                      167.760000                            1.0   \n",
       "max                      346.380000                            1.0   \n",
       "\n",
       "       TMB (nonsynonymous)   Tumor Size  Tumor Stage  \n",
       "count          1985.000000  1959.000000  1470.000000  \n",
       "mean              6.993408    26.273486     1.736735  \n",
       "std               5.437249    15.368776     0.641813  \n",
       "min               0.000000     1.000000     0.000000  \n",
       "25%               3.922553    17.000000     1.000000  \n",
       "50%               6.537589    23.000000     2.000000  \n",
       "75%               9.152624    30.000000     2.000000  \n",
       "max             104.601416   182.000000     4.000000  "
      ]
     },
     "execution_count": 382,
     "metadata": {},
     "output_type": "execute_result"
    }
   ],
   "source": [
    "df_metabric_MB.describe()"
   ]
  },
  {
   "cell_type": "code",
   "execution_count": 383,
   "id": "c62edbc0-a410-4bda-b312-fc7923248d68",
   "metadata": {
    "tags": []
   },
   "outputs": [
    {
     "data": {
      "text/html": [
       "<div>\n",
       "<style scoped>\n",
       "    .dataframe tbody tr th:only-of-type {\n",
       "        vertical-align: middle;\n",
       "    }\n",
       "\n",
       "    .dataframe tbody tr th {\n",
       "        vertical-align: top;\n",
       "    }\n",
       "\n",
       "    .dataframe thead th {\n",
       "        text-align: right;\n",
       "    }\n",
       "</style>\n",
       "<table border=\"1\" class=\"dataframe\">\n",
       "  <thead>\n",
       "    <tr style=\"text-align: right;\">\n",
       "      <th></th>\n",
       "      <th>Age at Diagnosis</th>\n",
       "      <th>Cohort</th>\n",
       "      <th>Neoplasm Histologic Grade</th>\n",
       "      <th>Lymph nodes examined positive</th>\n",
       "      <th>Mutation Count</th>\n",
       "      <th>Nottingham prognostic index</th>\n",
       "      <th>Overall Survival (Months)</th>\n",
       "      <th>Relapse Free Status (Months)</th>\n",
       "      <th>Number of Samples Per Patient</th>\n",
       "      <th>TMB (nonsynonymous)</th>\n",
       "      <th>Tumor Size</th>\n",
       "      <th>Tumor Stage</th>\n",
       "    </tr>\n",
       "  </thead>\n",
       "  <tbody>\n",
       "    <tr>\n",
       "      <th>count</th>\n",
       "      <td>513.000000</td>\n",
       "      <td>513.000000</td>\n",
       "      <td>491.000000</td>\n",
       "      <td>334.000000</td>\n",
       "      <td>494.000000</td>\n",
       "      <td>303.000000</td>\n",
       "      <td>0.0</td>\n",
       "      <td>403.000000</td>\n",
       "      <td>524.0</td>\n",
       "      <td>524.000000</td>\n",
       "      <td>401.000000</td>\n",
       "      <td>318.000000</td>\n",
       "    </tr>\n",
       "    <tr>\n",
       "      <th>mean</th>\n",
       "      <td>57.788168</td>\n",
       "      <td>4.000000</td>\n",
       "      <td>2.403259</td>\n",
       "      <td>1.640719</td>\n",
       "      <td>5.133603</td>\n",
       "      <td>4.130937</td>\n",
       "      <td>NaN</td>\n",
       "      <td>102.562804</td>\n",
       "      <td>1.0</td>\n",
       "      <td>6.305529</td>\n",
       "      <td>25.959252</td>\n",
       "      <td>1.606918</td>\n",
       "    </tr>\n",
       "    <tr>\n",
       "      <th>std</th>\n",
       "      <td>13.037440</td>\n",
       "      <td>3.370367</td>\n",
       "      <td>0.651771</td>\n",
       "      <td>3.628750</td>\n",
       "      <td>3.619639</td>\n",
       "      <td>1.344243</td>\n",
       "      <td>NaN</td>\n",
       "      <td>77.394361</td>\n",
       "      <td>0.0</td>\n",
       "      <td>4.818393</td>\n",
       "      <td>15.397713</td>\n",
       "      <td>0.705688</td>\n",
       "    </tr>\n",
       "    <tr>\n",
       "      <th>min</th>\n",
       "      <td>27.000000</td>\n",
       "      <td>1.000000</td>\n",
       "      <td>1.000000</td>\n",
       "      <td>0.000000</td>\n",
       "      <td>1.000000</td>\n",
       "      <td>1.140000</td>\n",
       "      <td>NaN</td>\n",
       "      <td>0.030000</td>\n",
       "      <td>1.0</td>\n",
       "      <td>0.000000</td>\n",
       "      <td>1.000000</td>\n",
       "      <td>0.000000</td>\n",
       "    </tr>\n",
       "    <tr>\n",
       "      <th>25%</th>\n",
       "      <td>47.550000</td>\n",
       "      <td>1.000000</td>\n",
       "      <td>2.000000</td>\n",
       "      <td>0.000000</td>\n",
       "      <td>3.000000</td>\n",
       "      <td>3.280000</td>\n",
       "      <td>NaN</td>\n",
       "      <td>37.170000</td>\n",
       "      <td>1.0</td>\n",
       "      <td>2.615035</td>\n",
       "      <td>15.000000</td>\n",
       "      <td>1.000000</td>\n",
       "    </tr>\n",
       "    <tr>\n",
       "      <th>50%</th>\n",
       "      <td>58.000000</td>\n",
       "      <td>1.000000</td>\n",
       "      <td>2.000000</td>\n",
       "      <td>0.000000</td>\n",
       "      <td>4.000000</td>\n",
       "      <td>4.320000</td>\n",
       "      <td>NaN</td>\n",
       "      <td>86.880000</td>\n",
       "      <td>1.0</td>\n",
       "      <td>5.230071</td>\n",
       "      <td>22.000000</td>\n",
       "      <td>2.000000</td>\n",
       "    </tr>\n",
       "    <tr>\n",
       "      <th>75%</th>\n",
       "      <td>67.000000</td>\n",
       "      <td>7.000000</td>\n",
       "      <td>3.000000</td>\n",
       "      <td>2.000000</td>\n",
       "      <td>7.000000</td>\n",
       "      <td>5.000000</td>\n",
       "      <td>NaN</td>\n",
       "      <td>166.890000</td>\n",
       "      <td>1.0</td>\n",
       "      <td>7.845106</td>\n",
       "      <td>30.000000</td>\n",
       "      <td>2.000000</td>\n",
       "    </tr>\n",
       "    <tr>\n",
       "      <th>max</th>\n",
       "      <td>89.000000</td>\n",
       "      <td>9.000000</td>\n",
       "      <td>3.000000</td>\n",
       "      <td>30.000000</td>\n",
       "      <td>35.000000</td>\n",
       "      <td>7.200000</td>\n",
       "      <td>NaN</td>\n",
       "      <td>384.210000</td>\n",
       "      <td>1.0</td>\n",
       "      <td>45.763120</td>\n",
       "      <td>130.000000</td>\n",
       "      <td>4.000000</td>\n",
       "    </tr>\n",
       "  </tbody>\n",
       "</table>\n",
       "</div>"
      ],
      "text/plain": [
       "       Age at Diagnosis      Cohort  Neoplasm Histologic Grade  \\\n",
       "count        513.000000  513.000000                 491.000000   \n",
       "mean          57.788168    4.000000                   2.403259   \n",
       "std           13.037440    3.370367                   0.651771   \n",
       "min           27.000000    1.000000                   1.000000   \n",
       "25%           47.550000    1.000000                   2.000000   \n",
       "50%           58.000000    1.000000                   2.000000   \n",
       "75%           67.000000    7.000000                   3.000000   \n",
       "max           89.000000    9.000000                   3.000000   \n",
       "\n",
       "       Lymph nodes examined positive  Mutation Count  \\\n",
       "count                     334.000000      494.000000   \n",
       "mean                        1.640719        5.133603   \n",
       "std                         3.628750        3.619639   \n",
       "min                         0.000000        1.000000   \n",
       "25%                         0.000000        3.000000   \n",
       "50%                         0.000000        4.000000   \n",
       "75%                         2.000000        7.000000   \n",
       "max                        30.000000       35.000000   \n",
       "\n",
       "       Nottingham prognostic index  Overall Survival (Months)  \\\n",
       "count                   303.000000                        0.0   \n",
       "mean                      4.130937                        NaN   \n",
       "std                       1.344243                        NaN   \n",
       "min                       1.140000                        NaN   \n",
       "25%                       3.280000                        NaN   \n",
       "50%                       4.320000                        NaN   \n",
       "75%                       5.000000                        NaN   \n",
       "max                       7.200000                        NaN   \n",
       "\n",
       "       Relapse Free Status (Months)  Number of Samples Per Patient  \\\n",
       "count                    403.000000                          524.0   \n",
       "mean                     102.562804                            1.0   \n",
       "std                       77.394361                            0.0   \n",
       "min                        0.030000                            1.0   \n",
       "25%                       37.170000                            1.0   \n",
       "50%                       86.880000                            1.0   \n",
       "75%                      166.890000                            1.0   \n",
       "max                      384.210000                            1.0   \n",
       "\n",
       "       TMB (nonsynonymous)  Tumor Size  Tumor Stage  \n",
       "count           524.000000  401.000000   318.000000  \n",
       "mean              6.305529   25.959252     1.606918  \n",
       "std               4.818393   15.397713     0.705688  \n",
       "min               0.000000    1.000000     0.000000  \n",
       "25%               2.615035   15.000000     1.000000  \n",
       "50%               5.230071   22.000000     2.000000  \n",
       "75%               7.845106   30.000000     2.000000  \n",
       "max              45.763120  130.000000     4.000000  "
      ]
     },
     "execution_count": 383,
     "metadata": {},
     "output_type": "execute_result"
    }
   ],
   "source": [
    "df_metabric_MTST.describe()"
   ]
  },
  {
   "cell_type": "code",
   "execution_count": 384,
   "id": "067dfc14-5000-4b0e-aa24-f3c0d6935f83",
   "metadata": {
    "tags": []
   },
   "outputs": [
    {
     "data": {
      "text/plain": [
       "Study ID                            0\n",
       "Patient ID                          0\n",
       "Sample ID                           0\n",
       "Age at Diagnosis                    0\n",
       "Type of Breast Surgery             30\n",
       "Cancer Type                         0\n",
       "Cancer Type Detailed                0\n",
       "Cellularity                        68\n",
       "Chemotherapy                        5\n",
       "Pam50 + Claudin-low subtype         5\n",
       "Cohort                              0\n",
       "ER status measured by IHC          43\n",
       "ER Status                           0\n",
       "Neoplasm Histologic Grade          88\n",
       "HER2 status measured by SNP6        5\n",
       "HER2 Status                         5\n",
       "Tumor Other Histologic Subtype     46\n",
       "Hormone Therapy                     5\n",
       "Inferred Menopausal State           5\n",
       "Integrative Cluster                 5\n",
       "Primary Tumor Laterality          115\n",
       "Lymph nodes examined positive      76\n",
       "Mutation Count                    121\n",
       "Nottingham prognostic index         1\n",
       "Oncotree Code                       0\n",
       "Overall Survival (Months)           4\n",
       "Overall Survival Status             4\n",
       "PR Status                           5\n",
       "Radio Therapy                       5\n",
       "Relapse Free Status (Months)        0\n",
       "Relapse Free Status                 1\n",
       "Number of Samples Per Patient       0\n",
       "Sample Type                         0\n",
       "Sex                                 0\n",
       "3-Gene classifier subtype         221\n",
       "TMB (nonsynonymous)                 0\n",
       "Tumor Size                         26\n",
       "Tumor Stage                       515\n",
       "Patient's Vital Status              5\n",
       "dtype: int64"
      ]
     },
     "execution_count": 384,
     "metadata": {},
     "output_type": "execute_result"
    }
   ],
   "source": [
    "df_metabric_MB.isnull().sum()"
   ]
  },
  {
   "cell_type": "code",
   "execution_count": 385,
   "id": "6d7dca38-5d67-4955-857f-6447f35ba35e",
   "metadata": {
    "tags": []
   },
   "outputs": [
    {
     "data": {
      "text/plain": [
       "Study ID                           True\n",
       "Patient ID                        False\n",
       "Sample ID                         False\n",
       "Age at Diagnosis                  False\n",
       "Type of Breast Surgery            False\n",
       "Cancer Type                       False\n",
       "Cancer Type Detailed              False\n",
       "Cellularity                       False\n",
       "Chemotherapy                      False\n",
       "Pam50 + Claudin-low subtype       False\n",
       "Cohort                            False\n",
       "ER status measured by IHC         False\n",
       "ER Status                         False\n",
       "Neoplasm Histologic Grade         False\n",
       "HER2 status measured by SNP6      False\n",
       "HER2 Status                       False\n",
       "Tumor Other Histologic Subtype    False\n",
       "Hormone Therapy                   False\n",
       "Inferred Menopausal State         False\n",
       "Integrative Cluster               False\n",
       "Primary Tumor Laterality          False\n",
       "Lymph nodes examined positive     False\n",
       "Mutation Count                    False\n",
       "Nottingham prognostic index       False\n",
       "Oncotree Code                     False\n",
       "Overall Survival (Months)         False\n",
       "Overall Survival Status           False\n",
       "PR Status                         False\n",
       "Radio Therapy                     False\n",
       "Relapse Free Status (Months)      False\n",
       "Relapse Free Status               False\n",
       "Number of Samples Per Patient      True\n",
       "Sample Type                        True\n",
       "Sex                                True\n",
       "3-Gene classifier subtype         False\n",
       "TMB (nonsynonymous)               False\n",
       "Tumor Size                        False\n",
       "Tumor Stage                       False\n",
       "Patient's Vital Status            False\n",
       "dtype: bool"
      ]
     },
     "execution_count": 385,
     "metadata": {},
     "output_type": "execute_result"
    }
   ],
   "source": [
    "df_metabric_MB.nunique()==1"
   ]
  },
  {
   "cell_type": "markdown",
   "id": "32f56dee-f4b4-4d2a-a139-510106436454",
   "metadata": {},
   "source": [
    "他の列と重複しているcolumnと内容が唯一のcolumnをdrop(df_metabric_MB_modified)"
   ]
  },
  {
   "cell_type": "code",
   "execution_count": 386,
   "id": "ff1398e4-1840-4450-b3ba-e5b058208be8",
   "metadata": {
    "tags": []
   },
   "outputs": [
    {
     "data": {
      "text/plain": [
       "Index(['Study ID', 'Patient ID', 'Sample ID', 'Age at Diagnosis',\n",
       "       'Type of Breast Surgery', 'Cancer Type', 'Cancer Type Detailed',\n",
       "       'Cellularity', 'Chemotherapy', 'Pam50 + Claudin-low subtype', 'Cohort',\n",
       "       'ER status measured by IHC', 'ER Status', 'Neoplasm Histologic Grade',\n",
       "       'HER2 status measured by SNP6', 'HER2 Status',\n",
       "       'Tumor Other Histologic Subtype', 'Hormone Therapy',\n",
       "       'Inferred Menopausal State', 'Integrative Cluster',\n",
       "       'Primary Tumor Laterality', 'Lymph nodes examined positive',\n",
       "       'Mutation Count', 'Nottingham prognostic index', 'Oncotree Code',\n",
       "       'Overall Survival (Months)', 'Overall Survival Status', 'PR Status',\n",
       "       'Radio Therapy', 'Relapse Free Status (Months)', 'Relapse Free Status',\n",
       "       'Number of Samples Per Patient', 'Sample Type', 'Sex',\n",
       "       '3-Gene classifier subtype', 'TMB (nonsynonymous)', 'Tumor Size',\n",
       "       'Tumor Stage', 'Patient's Vital Status'],\n",
       "      dtype='object')"
      ]
     },
     "execution_count": 386,
     "metadata": {},
     "output_type": "execute_result"
    }
   ],
   "source": [
    "df_metabric_MB.columns"
   ]
  },
  {
   "cell_type": "code",
   "execution_count": 387,
   "id": "0656a9c7-3937-4a80-ba42-ab5f4708342f",
   "metadata": {},
   "outputs": [
    {
     "data": {
      "text/plain": [
       "(1985, 32)"
      ]
     },
     "execution_count": 387,
     "metadata": {},
     "output_type": "execute_result"
    }
   ],
   "source": [
    "# 削除する列\n",
    "# 理由：一意のみの情報、インデックス、他の列と同意\n",
    "\n",
    "drop_columns=[\n",
    "    'Study ID',\n",
    "    'Patient ID',\n",
    "    'Number of Samples Per Patient',\n",
    "    'Sample Type',\n",
    "    'Sex',\n",
    "    'Oncotree Code'\n",
    "]\n",
    "\n",
    "\n",
    "df_metabric_MB_modified=df_metabric_MB.T.drop_duplicates().T.drop(drop_columns, axis=1)\n",
    "df_metabric_MB_modified.shape"
   ]
  },
  {
   "cell_type": "code",
   "execution_count": 388,
   "id": "dca6586c-ef89-48a3-b99b-a74db3dddd9f",
   "metadata": {
    "tags": []
   },
   "outputs": [
    {
     "data": {
      "text/plain": [
       "Index(['Age at Diagnosis', 'Type of Breast Surgery', 'Cancer Type',\n",
       "       'Cancer Type Detailed', 'Cellularity', 'Chemotherapy',\n",
       "       'Pam50 + Claudin-low subtype', 'Cohort', 'ER status measured by IHC',\n",
       "       'ER Status', 'Neoplasm Histologic Grade',\n",
       "       'HER2 status measured by SNP6', 'HER2 Status',\n",
       "       'Tumor Other Histologic Subtype', 'Hormone Therapy',\n",
       "       'Inferred Menopausal State', 'Integrative Cluster',\n",
       "       'Primary Tumor Laterality', 'Lymph nodes examined positive',\n",
       "       'Mutation Count', 'Nottingham prognostic index',\n",
       "       'Overall Survival (Months)', 'Overall Survival Status', 'PR Status',\n",
       "       'Radio Therapy', 'Relapse Free Status (Months)', 'Relapse Free Status',\n",
       "       '3-Gene classifier subtype', 'TMB (nonsynonymous)', 'Tumor Size',\n",
       "       'Tumor Stage', 'Patient's Vital Status'],\n",
       "      dtype='object')"
      ]
     },
     "execution_count": 388,
     "metadata": {},
     "output_type": "execute_result"
    }
   ],
   "source": [
    "df_metabric_MB_modified.columns"
   ]
  },
  {
   "cell_type": "code",
   "execution_count": 389,
   "id": "2fbb7cab-6b66-4dd9-ba98-4c7bf7b07378",
   "metadata": {
    "tags": []
   },
   "outputs": [
    {
     "data": {
      "text/plain": [
       "Age at Diagnosis                  object\n",
       "Type of Breast Surgery            object\n",
       "Cancer Type                       object\n",
       "Cancer Type Detailed              object\n",
       "Cellularity                       object\n",
       "Chemotherapy                      object\n",
       "Pam50 + Claudin-low subtype       object\n",
       "Cohort                            object\n",
       "ER status measured by IHC         object\n",
       "ER Status                         object\n",
       "Neoplasm Histologic Grade         object\n",
       "HER2 status measured by SNP6      object\n",
       "HER2 Status                       object\n",
       "Tumor Other Histologic Subtype    object\n",
       "Hormone Therapy                   object\n",
       "Inferred Menopausal State         object\n",
       "Integrative Cluster               object\n",
       "Primary Tumor Laterality          object\n",
       "Lymph nodes examined positive     object\n",
       "Mutation Count                    object\n",
       "Nottingham prognostic index       object\n",
       "Overall Survival (Months)         object\n",
       "Overall Survival Status           object\n",
       "PR Status                         object\n",
       "Radio Therapy                     object\n",
       "Relapse Free Status (Months)      object\n",
       "Relapse Free Status               object\n",
       "3-Gene classifier subtype         object\n",
       "TMB (nonsynonymous)               object\n",
       "Tumor Size                        object\n",
       "Tumor Stage                       object\n",
       "Patient's Vital Status            object\n",
       "dtype: object"
      ]
     },
     "execution_count": 389,
     "metadata": {},
     "output_type": "execute_result"
    }
   ],
   "source": [
    "df_metabric_MB_modified.dtypes"
   ]
  },
  {
   "cell_type": "code",
   "execution_count": 390,
   "id": "87252c93-8c51-4b58-9c79-18b04f72d6f6",
   "metadata": {
    "tags": []
   },
   "outputs": [
    {
     "data": {
      "text/plain": [
       "Age at Diagnosis                  1624\n",
       "Type of Breast Surgery               2\n",
       "Cancer Type                          2\n",
       "Cancer Type Detailed                 8\n",
       "Cellularity                          3\n",
       "Chemotherapy                         2\n",
       "Pam50 + Claudin-low subtype          7\n",
       "Cohort                               5\n",
       "ER status measured by IHC            2\n",
       "ER Status                            2\n",
       "Neoplasm Histologic Grade            3\n",
       "HER2 status measured by SNP6         4\n",
       "HER2 Status                          2\n",
       "Tumor Other Histologic Subtype       8\n",
       "Hormone Therapy                      2\n",
       "Inferred Menopausal State            2\n",
       "Integrative Cluster                 11\n",
       "Primary Tumor Laterality             2\n",
       "Lymph nodes examined positive       31\n",
       "Mutation Count                      30\n",
       "Nottingham prognostic index        323\n",
       "Overall Survival (Months)         1743\n",
       "Overall Survival Status              2\n",
       "PR Status                            2\n",
       "Radio Therapy                        2\n",
       "Relapse Free Status (Months)      1716\n",
       "Relapse Free Status                  2\n",
       "3-Gene classifier subtype            4\n",
       "TMB (nonsynonymous)                 31\n",
       "Tumor Size                         112\n",
       "Tumor Stage                          5\n",
       "Patient's Vital Status               3\n",
       "dtype: int64"
      ]
     },
     "execution_count": 390,
     "metadata": {},
     "output_type": "execute_result"
    }
   ],
   "source": [
    "df_metabric_MB_modified.nunique()"
   ]
  },
  {
   "cell_type": "code",
   "execution_count": 391,
   "id": "d338bbe1-0ddd-4ec8-ba71-dba92d1afed2",
   "metadata": {},
   "outputs": [],
   "source": [
    "# dtale.show(df_metabric_MB_modified)"
   ]
  },
  {
   "cell_type": "code",
   "execution_count": 392,
   "id": "d46d5a26",
   "metadata": {},
   "outputs": [],
   "source": [
    "# drop minor cancer type\n",
    "df_metabric_MB_modified=df_metabric_MB_modified[df_metabric_MB_modified['Cancer Type']=='Breast Cancer']\n",
    "\n",
    "# drop na target lines\n",
    "df_metabric_MB_modified=df_metabric_MB_modified.dropna(subset=['Overall Survival Status'])"
   ]
  },
  {
   "cell_type": "markdown",
   "id": "cbcfad8a-c947-4377-b589-e39bbad9d6cf",
   "metadata": {},
   "source": [
    "# Split data following by cancer types detail\n",
    "\n",
    "がんの種類毎に全体データと比較を行う"
   ]
  },
  {
   "cell_type": "markdown",
   "id": "caf40794-c433-4ff8-99b9-94dd19c597b6",
   "metadata": {
    "tags": []
   },
   "source": [
    "# columns 対応表\n",
    "目的変数一覧  \n",
    "\n",
    "|metabric.csv|outcome.csv|\n",
    "|-|-|\n",
    "|Overall Survival Status|OS_STATUS|\n",
    "|Overall Survival (Months)|OS_MONTHS|\n",
    "|Relapse Free Status|RFS_STATUS|\n",
    "|Relapse Free Status (Months)|RFS_MONTHS|\n",
    "|Patient's Vital Status|VITAL_STATUS|\n",
    "\n",
    "\n"
   ]
  },
  {
   "cell_type": "code",
   "execution_count": 393,
   "id": "478abf14-b075-4fa4-875f-bb748b3e1e09",
   "metadata": {},
   "outputs": [],
   "source": [
    "targets=[\n",
    "    #\"Overall Survival Status\",\n",
    "    \"Overall Survival (Months)\",\n",
    "    #\"Relapse Free Status\",\n",
    "    \"Relapse Free Status (Months)\",\n",
    "    #\"Patient's Vital Status\"\n",
    "]"
   ]
  },
  {
   "cell_type": "code",
   "execution_count": 394,
   "id": "d29a962e-a92a-4b4d-9a1a-e8cf4b2fe15c",
   "metadata": {},
   "outputs": [],
   "source": [
    "df_metabric_MB_modified=df_metabric_MB_modified.astype({\"Overall Survival (Months)\":float})\n",
    "df_metabric_MB_modified=df_metabric_MB_modified.astype({\"Relapse Free Status (Months)\":float})"
   ]
  },
  {
   "cell_type": "code",
   "execution_count": 395,
   "id": "2b0c0b84-8364-418d-8b55-54003dc3319c",
   "metadata": {},
   "outputs": [],
   "source": [
    "save_df_as_csv(df_metabric_MB_modified, 'df_metabric')"
   ]
  },
  {
   "cell_type": "markdown",
   "id": "5e43631e-feb4-4f9f-8501-e5b824217448",
   "metadata": {},
   "source": [
    "## 全体と各種がんの比較\n",
    "\n",
    "完全な全体のデータと各種がんのデータの比較を行う"
   ]
  },
  {
   "cell_type": "code",
   "execution_count": 396,
   "id": "a0e12efe-c330-4273-a801-6bb6e7a66af9",
   "metadata": {},
   "outputs": [],
   "source": [
    "def display_cancer_types_differences(df_base, df_cancer, df_name, path='', target='Overall Survival (Months)'):\n",
    "    feature_config = sv.FeatureConfig(force_num=[target])\n",
    "    # remove untarget columns\n",
    "    rm_targets=targets.copy()\n",
    "    rm_targets.remove(target) \n",
    "    rm_targets=rm_targets[0] if len(rm_targets)==1 else rm_targets\n",
    "    df_base=df_base.drop(columns=rm_targets, axis=1)\n",
    "    df_cancer=df_cancer.drop(columns=rm_targets, axis=1)\n",
    "    # create report\n",
    "    compare_report=sv.compare([df_base,'df_base'],[df_cancer,df_name], target, feature_config)\n",
    "    compare_report.show_html(SWEETVIZ_REPORT_DIR+path+'/'+target+'/'+df_name+'.html')\n",
    "    #compare_report.show_notebook()"
   ]
  },
  {
   "cell_type": "code",
   "execution_count": 397,
   "id": "71cb64b6-142e-40dd-a3b0-031325b07cfc",
   "metadata": {},
   "outputs": [],
   "source": [
    "# データセット全体と特定のがんの種類を比較\n",
    "# Sweetvizで視覚化\n",
    "def create_sv_report_by_cancer_type(cancer_category_str):\n",
    "    df_cancer_cat=df_metabric_MB_modified[df_metabric_MB_modified['Cancer Type Detailed']==cancer_category_str]\n",
    "    # save df as csv\n",
    "    save_df_as_csv(df_cancer_cat, cancer_category_str)\n",
    "    for target in targets:\n",
    "        display_cancer_types_differences(df_metabric_MB_modified, df_cancer_cat, cancer_category_str, '/comparing', target)"
   ]
  },
  {
   "cell_type": "code",
   "execution_count": 398,
   "id": "cd81dfcf-c23c-405a-ac8c-6e0638dd6d33",
   "metadata": {},
   "outputs": [],
   "source": [
    "# データセット全体（比較対象のがんを除く）と特定のがんの種類を比較\n",
    "# Sweetvizで視覚化\n",
    "def create_sv_report2_by_cancer_type(cancer_category_str):\n",
    "    df_cancer_cat=df_metabric_MB_modified[df_metabric_MB_modified['Cancer Type Detailed']==cancer_category_str]\n",
    "    df_excluded=df_metabric_MB_modified[df_metabric_MB_modified['Cancer Type Detailed']!=cancer_category_str]\n",
    "    for target in targets:\n",
    "        display_cancer_types_differences(df_excluded, df_cancer_cat,cancer_category_str+'_excluded', '/comparing(exclusive)', target)"
   ]
  },
  {
   "cell_type": "markdown",
   "id": "99edc1b4-759e-4b51-977b-0bd5b61e4c10",
   "metadata": {},
   "source": [
    "see the data differences divided by cancer types"
   ]
  },
  {
   "cell_type": "code",
   "execution_count": 399,
   "id": "8c3948d8",
   "metadata": {},
   "outputs": [
    {
     "data": {
      "text/plain": [
       "Breast Invasive Ductal Carcinoma             1537\n",
       "Breast Mixed Ductal and Lobular Carcinoma     211\n",
       "Breast Invasive Lobular Carcinoma             146\n",
       "Invasive Breast Carcinoma                      42\n",
       "Breast Invasive Mixed Mucinous Carcinoma       23\n",
       "Breast                                         17\n",
       "Metaplastic Breast Cancer                       2\n",
       "Name: Cancer Type Detailed, dtype: int64"
      ]
     },
     "execution_count": 399,
     "metadata": {},
     "output_type": "execute_result"
    }
   ],
   "source": [
    "df_metabric_MB_modified['Cancer Type Detailed'].value_counts()"
   ]
  },
  {
   "cell_type": "code",
   "execution_count": 400,
   "id": "254cb87b-b3c7-4256-9565-8792fd49440f",
   "metadata": {},
   "outputs": [],
   "source": [
    "cancer_types=[\n",
    "    'Breast Invasive Ductal Carcinoma',\n",
    "    'Breast Mixed Ductal and Lobular Carcinoma',\n",
    "    'Breast Invasive Lobular Carcinoma',\n",
    "    'Invasive Breast Carcinoma',\n",
    "    'Breast Invasive Mixed Mucinous Carcinoma',\n",
    "    'Breast',\n",
    "    #'Metaplastic Breast Cancer'\n",
    "]"
   ]
  },
  {
   "cell_type": "code",
   "execution_count": 401,
   "id": "9c9eda73-9c2b-4663-bda9-2919d78746c6",
   "metadata": {},
   "outputs": [
    {
     "data": {
      "application/vnd.jupyter.widget-view+json": {
       "model_id": "b58566bc3ffd47769d0faf51447a1a99",
       "version_major": 2,
       "version_minor": 0
      },
      "text/plain": [
       "                                             |                                                                …"
      ]
     },
     "metadata": {},
     "output_type": "display_data"
    },
    {
     "name": "stdout",
     "output_type": "stream",
     "text": [
      "Report ../reports/sweetviz_report/comparing/Overall Survival (Months)/Breast Invasive Ductal Carcinoma.html was generated! NOTEBOOK/COLAB USERS: the web browser MAY not pop up, regardless, the report IS saved in your notebook/colab files.\n"
     ]
    },
    {
     "name": "stderr",
     "output_type": "stream",
     "text": [
      "0:197: execution error: ファイル“不特定のオブジェクト”が見つかりませんでした。 (-43)\n"
     ]
    },
    {
     "data": {
      "application/vnd.jupyter.widget-view+json": {
       "model_id": "c54b89d121c846c598de2effdf7e397e",
       "version_major": 2,
       "version_minor": 0
      },
      "text/plain": [
       "                                             |                                                                …"
      ]
     },
     "metadata": {},
     "output_type": "display_data"
    },
    {
     "name": "stdout",
     "output_type": "stream",
     "text": [
      "Report ../reports/sweetviz_report/comparing/Relapse Free Status (Months)/Breast Invasive Ductal Carcinoma.html was generated! NOTEBOOK/COLAB USERS: the web browser MAY not pop up, regardless, the report IS saved in your notebook/colab files.\n"
     ]
    },
    {
     "name": "stderr",
     "output_type": "stream",
     "text": [
      "0:200: execution error: ファイル“不特定のオブジェクト”が見つかりませんでした。 (-43)\n"
     ]
    },
    {
     "data": {
      "application/vnd.jupyter.widget-view+json": {
       "model_id": "93923acaf50244aa97cfad3908548d2e",
       "version_major": 2,
       "version_minor": 0
      },
      "text/plain": [
       "                                             |                                                                …"
      ]
     },
     "metadata": {},
     "output_type": "display_data"
    },
    {
     "name": "stdout",
     "output_type": "stream",
     "text": [
      "Report ../reports/sweetviz_report/comparing/Overall Survival (Months)/Breast Mixed Ductal and Lobular Carcinoma.html was generated! NOTEBOOK/COLAB USERS: the web browser MAY not pop up, regardless, the report IS saved in your notebook/colab files.\n"
     ]
    },
    {
     "name": "stderr",
     "output_type": "stream",
     "text": [
      "0:206: execution error: ファイル“不特定のオブジェクト”が見つかりませんでした。 (-43)\n"
     ]
    },
    {
     "data": {
      "application/vnd.jupyter.widget-view+json": {
       "model_id": "7cd7e9f88ac54f7693e1f93c75f757d4",
       "version_major": 2,
       "version_minor": 0
      },
      "text/plain": [
       "                                             |                                                                …"
      ]
     },
     "metadata": {},
     "output_type": "display_data"
    },
    {
     "name": "stdout",
     "output_type": "stream",
     "text": [
      "Report ../reports/sweetviz_report/comparing/Relapse Free Status (Months)/Breast Mixed Ductal and Lobular Carcinoma.html was generated! NOTEBOOK/COLAB USERS: the web browser MAY not pop up, regardless, the report IS saved in your notebook/colab files.\n"
     ]
    },
    {
     "name": "stderr",
     "output_type": "stream",
     "text": [
      "0:209: execution error: ファイル“不特定のオブジェクト”が見つかりませんでした。 (-43)\n"
     ]
    },
    {
     "data": {
      "application/vnd.jupyter.widget-view+json": {
       "model_id": "a9419d24558f4e41aa2ac9e4b7004434",
       "version_major": 2,
       "version_minor": 0
      },
      "text/plain": [
       "                                             |                                                                …"
      ]
     },
     "metadata": {},
     "output_type": "display_data"
    },
    {
     "name": "stdout",
     "output_type": "stream",
     "text": [
      "Report ../reports/sweetviz_report/comparing/Overall Survival (Months)/Breast Invasive Lobular Carcinoma.html was generated! NOTEBOOK/COLAB USERS: the web browser MAY not pop up, regardless, the report IS saved in your notebook/colab files.\n"
     ]
    },
    {
     "name": "stderr",
     "output_type": "stream",
     "text": [
      "0:198: execution error: ファイル“不特定のオブジェクト”が見つかりませんでした。 (-43)\n"
     ]
    },
    {
     "data": {
      "application/vnd.jupyter.widget-view+json": {
       "model_id": "ea718bf0d3c740fc9bf1cf04758f502f",
       "version_major": 2,
       "version_minor": 0
      },
      "text/plain": [
       "                                             |                                                                …"
      ]
     },
     "metadata": {},
     "output_type": "display_data"
    },
    {
     "name": "stdout",
     "output_type": "stream",
     "text": [
      "Report ../reports/sweetviz_report/comparing/Relapse Free Status (Months)/Breast Invasive Lobular Carcinoma.html was generated! NOTEBOOK/COLAB USERS: the web browser MAY not pop up, regardless, the report IS saved in your notebook/colab files.\n"
     ]
    },
    {
     "name": "stderr",
     "output_type": "stream",
     "text": [
      "0:201: execution error: ファイル“不特定のオブジェクト”が見つかりませんでした。 (-43)\n"
     ]
    },
    {
     "data": {
      "application/vnd.jupyter.widget-view+json": {
       "model_id": "40036c4c937c4c3cb23f5911ba8bb5b9",
       "version_major": 2,
       "version_minor": 0
      },
      "text/plain": [
       "                                             |                                                                …"
      ]
     },
     "metadata": {},
     "output_type": "display_data"
    },
    {
     "name": "stdout",
     "output_type": "stream",
     "text": [
      "Report ../reports/sweetviz_report/comparing/Overall Survival (Months)/Invasive Breast Carcinoma.html was generated! NOTEBOOK/COLAB USERS: the web browser MAY not pop up, regardless, the report IS saved in your notebook/colab files.\n"
     ]
    },
    {
     "name": "stderr",
     "output_type": "stream",
     "text": [
      "0:190: execution error: ファイル“不特定のオブジェクト”が見つかりませんでした。 (-43)\n"
     ]
    },
    {
     "data": {
      "application/vnd.jupyter.widget-view+json": {
       "model_id": "07d324dde874456daa332fa396985eb2",
       "version_major": 2,
       "version_minor": 0
      },
      "text/plain": [
       "                                             |                                                                …"
      ]
     },
     "metadata": {},
     "output_type": "display_data"
    },
    {
     "name": "stdout",
     "output_type": "stream",
     "text": [
      "Report ../reports/sweetviz_report/comparing/Relapse Free Status (Months)/Invasive Breast Carcinoma.html was generated! NOTEBOOK/COLAB USERS: the web browser MAY not pop up, regardless, the report IS saved in your notebook/colab files.\n"
     ]
    },
    {
     "name": "stderr",
     "output_type": "stream",
     "text": [
      "0:193: execution error: ファイル“不特定のオブジェクト”が見つかりませんでした。 (-43)\n"
     ]
    },
    {
     "data": {
      "application/vnd.jupyter.widget-view+json": {
       "model_id": "b8d5e3282b714c0c88eb68b21cdc7dbe",
       "version_major": 2,
       "version_minor": 0
      },
      "text/plain": [
       "                                             |                                                                …"
      ]
     },
     "metadata": {},
     "output_type": "display_data"
    },
    {
     "name": "stdout",
     "output_type": "stream",
     "text": [
      "Report ../reports/sweetviz_report/comparing/Overall Survival (Months)/Breast Invasive Mixed Mucinous Carcinoma.html was generated! NOTEBOOK/COLAB USERS: the web browser MAY not pop up, regardless, the report IS saved in your notebook/colab files.\n"
     ]
    },
    {
     "name": "stderr",
     "output_type": "stream",
     "text": [
      "0:205: execution error: ファイル“不特定のオブジェクト”が見つかりませんでした。 (-43)\n"
     ]
    },
    {
     "data": {
      "application/vnd.jupyter.widget-view+json": {
       "model_id": "f65a5ea9506b43cf98453eb711d4ec21",
       "version_major": 2,
       "version_minor": 0
      },
      "text/plain": [
       "                                             |                                                                …"
      ]
     },
     "metadata": {},
     "output_type": "display_data"
    },
    {
     "name": "stdout",
     "output_type": "stream",
     "text": [
      "Report ../reports/sweetviz_report/comparing/Relapse Free Status (Months)/Breast Invasive Mixed Mucinous Carcinoma.html was generated! NOTEBOOK/COLAB USERS: the web browser MAY not pop up, regardless, the report IS saved in your notebook/colab files.\n"
     ]
    },
    {
     "name": "stderr",
     "output_type": "stream",
     "text": [
      "0:208: execution error: ファイル“不特定のオブジェクト”が見つかりませんでした。 (-43)\n"
     ]
    },
    {
     "data": {
      "application/vnd.jupyter.widget-view+json": {
       "model_id": "9dc2f8a38d9b4f2ba09b68b6e9173fe1",
       "version_major": 2,
       "version_minor": 0
      },
      "text/plain": [
       "                                             |                                                                …"
      ]
     },
     "metadata": {},
     "output_type": "display_data"
    },
    {
     "name": "stdout",
     "output_type": "stream",
     "text": [
      "Report ../reports/sweetviz_report/comparing/Overall Survival (Months)/Breast.html was generated! NOTEBOOK/COLAB USERS: the web browser MAY not pop up, regardless, the report IS saved in your notebook/colab files.\n"
     ]
    },
    {
     "name": "stderr",
     "output_type": "stream",
     "text": [
      "0:171: execution error: ファイル“不特定のオブジェクト”が見つかりませんでした。 (-43)\n"
     ]
    },
    {
     "data": {
      "application/vnd.jupyter.widget-view+json": {
       "model_id": "ebb6cd84d9054428be3c955e12604b9a",
       "version_major": 2,
       "version_minor": 0
      },
      "text/plain": [
       "                                             |                                                                …"
      ]
     },
     "metadata": {},
     "output_type": "display_data"
    },
    {
     "name": "stdout",
     "output_type": "stream",
     "text": [
      "Report ../reports/sweetviz_report/comparing/Relapse Free Status (Months)/Breast.html was generated! NOTEBOOK/COLAB USERS: the web browser MAY not pop up, regardless, the report IS saved in your notebook/colab files.\n"
     ]
    },
    {
     "name": "stderr",
     "output_type": "stream",
     "text": [
      "0:174: execution error: ファイル“不特定のオブジェクト”が見つかりませんでした。 (-43)\n"
     ]
    },
    {
     "data": {
      "text/plain": [
       "[None, None, None, None, None, None]"
      ]
     },
     "execution_count": 401,
     "metadata": {},
     "output_type": "execute_result"
    }
   ],
   "source": [
    "[create_sv_report_by_cancer_type(i) for i in cancer_types]"
   ]
  },
  {
   "cell_type": "markdown",
   "id": "750aff3a-3811-4a4a-bc38-6ec8906f052e",
   "metadata": {},
   "source": [
    "## 全体（比較対象は除く）と各種がんの比較\n",
    "\n",
    "比較したい対象のがんを除いた完全な全体のデータと各種がんのデータの比較を行う"
   ]
  },
  {
   "cell_type": "code",
   "execution_count": 402,
   "id": "64c8d8d0-e97a-4d66-afcb-ad305637748f",
   "metadata": {},
   "outputs": [
    {
     "data": {
      "application/vnd.jupyter.widget-view+json": {
       "model_id": "72d0c61855734ec191911c84e59d23b2",
       "version_major": 2,
       "version_minor": 0
      },
      "text/plain": [
       "                                             |                                                                …"
      ]
     },
     "metadata": {},
     "output_type": "display_data"
    },
    {
     "name": "stdout",
     "output_type": "stream",
     "text": [
      "Report ../reports/sweetviz_report/comparing(exclusive)/Overall Survival (Months)/Breast Invasive Ductal Carcinoma_excluded.html was generated! NOTEBOOK/COLAB USERS: the web browser MAY not pop up, regardless, the report IS saved in your notebook/colab files.\n"
     ]
    },
    {
     "name": "stderr",
     "output_type": "stream",
     "text": [
      "0:217: execution error: ファイル“不特定のオブジェクト”が見つかりませんでした。 (-43)\n"
     ]
    },
    {
     "data": {
      "application/vnd.jupyter.widget-view+json": {
       "model_id": "1fefae408af049a8a46a1da4d866a234",
       "version_major": 2,
       "version_minor": 0
      },
      "text/plain": [
       "                                             |                                                                …"
      ]
     },
     "metadata": {},
     "output_type": "display_data"
    },
    {
     "name": "stdout",
     "output_type": "stream",
     "text": [
      "Report ../reports/sweetviz_report/comparing(exclusive)/Relapse Free Status (Months)/Breast Invasive Ductal Carcinoma_excluded.html was generated! NOTEBOOK/COLAB USERS: the web browser MAY not pop up, regardless, the report IS saved in your notebook/colab files.\n"
     ]
    },
    {
     "name": "stderr",
     "output_type": "stream",
     "text": [
      "0:220: execution error: ファイル“不特定のオブジェクト”が見つかりませんでした。 (-43)\n"
     ]
    },
    {
     "data": {
      "application/vnd.jupyter.widget-view+json": {
       "model_id": "2231a7125a6547ffaca5bfe193e90f07",
       "version_major": 2,
       "version_minor": 0
      },
      "text/plain": [
       "                                             |                                                                …"
      ]
     },
     "metadata": {},
     "output_type": "display_data"
    },
    {
     "name": "stdout",
     "output_type": "stream",
     "text": [
      "Report ../reports/sweetviz_report/comparing(exclusive)/Overall Survival (Months)/Breast Mixed Ductal and Lobular Carcinoma_excluded.html was generated! NOTEBOOK/COLAB USERS: the web browser MAY not pop up, regardless, the report IS saved in your notebook/colab files.\n"
     ]
    },
    {
     "name": "stderr",
     "output_type": "stream",
     "text": [
      "0:226: execution error: ファイル“不特定のオブジェクト”が見つかりませんでした。 (-43)\n"
     ]
    },
    {
     "data": {
      "application/vnd.jupyter.widget-view+json": {
       "model_id": "76ba6fc9bec24b25a1b4a2f4c3fd3911",
       "version_major": 2,
       "version_minor": 0
      },
      "text/plain": [
       "                                             |                                                                …"
      ]
     },
     "metadata": {},
     "output_type": "display_data"
    },
    {
     "name": "stdout",
     "output_type": "stream",
     "text": [
      "Report ../reports/sweetviz_report/comparing(exclusive)/Relapse Free Status (Months)/Breast Mixed Ductal and Lobular Carcinoma_excluded.html was generated! NOTEBOOK/COLAB USERS: the web browser MAY not pop up, regardless, the report IS saved in your notebook/colab files.\n"
     ]
    },
    {
     "name": "stderr",
     "output_type": "stream",
     "text": [
      "0:229: execution error: ファイル“不特定のオブジェクト”が見つかりませんでした。 (-43)\n"
     ]
    },
    {
     "data": {
      "application/vnd.jupyter.widget-view+json": {
       "model_id": "cc17132b23e4469993de23dca29b2c40",
       "version_major": 2,
       "version_minor": 0
      },
      "text/plain": [
       "                                             |                                                                …"
      ]
     },
     "metadata": {},
     "output_type": "display_data"
    },
    {
     "name": "stdout",
     "output_type": "stream",
     "text": [
      "Report ../reports/sweetviz_report/comparing(exclusive)/Overall Survival (Months)/Breast Invasive Lobular Carcinoma_excluded.html was generated! NOTEBOOK/COLAB USERS: the web browser MAY not pop up, regardless, the report IS saved in your notebook/colab files.\n"
     ]
    },
    {
     "name": "stderr",
     "output_type": "stream",
     "text": [
      "0:218: execution error: ファイル“不特定のオブジェクト”が見つかりませんでした。 (-43)\n"
     ]
    },
    {
     "data": {
      "application/vnd.jupyter.widget-view+json": {
       "model_id": "b7405b319bcd46998c98b05b32599a54",
       "version_major": 2,
       "version_minor": 0
      },
      "text/plain": [
       "                                             |                                                                …"
      ]
     },
     "metadata": {},
     "output_type": "display_data"
    },
    {
     "name": "stdout",
     "output_type": "stream",
     "text": [
      "Report ../reports/sweetviz_report/comparing(exclusive)/Relapse Free Status (Months)/Breast Invasive Lobular Carcinoma_excluded.html was generated! NOTEBOOK/COLAB USERS: the web browser MAY not pop up, regardless, the report IS saved in your notebook/colab files.\n"
     ]
    },
    {
     "name": "stderr",
     "output_type": "stream",
     "text": [
      "0:221: execution error: ファイル“不特定のオブジェクト”が見つかりませんでした。 (-43)\n"
     ]
    },
    {
     "data": {
      "application/vnd.jupyter.widget-view+json": {
       "model_id": "00eb967f05c74f2fbd4f69c07e1e1aae",
       "version_major": 2,
       "version_minor": 0
      },
      "text/plain": [
       "                                             |                                                                …"
      ]
     },
     "metadata": {},
     "output_type": "display_data"
    },
    {
     "name": "stdout",
     "output_type": "stream",
     "text": [
      "Report ../reports/sweetviz_report/comparing(exclusive)/Overall Survival (Months)/Invasive Breast Carcinoma_excluded.html was generated! NOTEBOOK/COLAB USERS: the web browser MAY not pop up, regardless, the report IS saved in your notebook/colab files.\n"
     ]
    },
    {
     "name": "stderr",
     "output_type": "stream",
     "text": [
      "0:210: execution error: ファイル“不特定のオブジェクト”が見つかりませんでした。 (-43)\n"
     ]
    },
    {
     "data": {
      "application/vnd.jupyter.widget-view+json": {
       "model_id": "94fad020b719490a935570bd8ec36648",
       "version_major": 2,
       "version_minor": 0
      },
      "text/plain": [
       "                                             |                                                                …"
      ]
     },
     "metadata": {},
     "output_type": "display_data"
    },
    {
     "name": "stdout",
     "output_type": "stream",
     "text": [
      "Report ../reports/sweetviz_report/comparing(exclusive)/Relapse Free Status (Months)/Invasive Breast Carcinoma_excluded.html was generated! NOTEBOOK/COLAB USERS: the web browser MAY not pop up, regardless, the report IS saved in your notebook/colab files.\n"
     ]
    },
    {
     "name": "stderr",
     "output_type": "stream",
     "text": [
      "0:213: execution error: ファイル“不特定のオブジェクト”が見つかりませんでした。 (-43)\n"
     ]
    },
    {
     "data": {
      "application/vnd.jupyter.widget-view+json": {
       "model_id": "7e68a1ac67c045038555d678b7aa3b86",
       "version_major": 2,
       "version_minor": 0
      },
      "text/plain": [
       "                                             |                                                                …"
      ]
     },
     "metadata": {},
     "output_type": "display_data"
    },
    {
     "name": "stdout",
     "output_type": "stream",
     "text": [
      "Report ../reports/sweetviz_report/comparing(exclusive)/Overall Survival (Months)/Breast Invasive Mixed Mucinous Carcinoma_excluded.html was generated! NOTEBOOK/COLAB USERS: the web browser MAY not pop up, regardless, the report IS saved in your notebook/colab files.\n"
     ]
    },
    {
     "name": "stderr",
     "output_type": "stream",
     "text": [
      "0:225: execution error: ファイル“不特定のオブジェクト”が見つかりませんでした。 (-43)\n"
     ]
    },
    {
     "data": {
      "application/vnd.jupyter.widget-view+json": {
       "model_id": "74738f5943d24a41852f8b51b2de3963",
       "version_major": 2,
       "version_minor": 0
      },
      "text/plain": [
       "                                             |                                                                …"
      ]
     },
     "metadata": {},
     "output_type": "display_data"
    },
    {
     "name": "stdout",
     "output_type": "stream",
     "text": [
      "Report ../reports/sweetviz_report/comparing(exclusive)/Relapse Free Status (Months)/Breast Invasive Mixed Mucinous Carcinoma_excluded.html was generated! NOTEBOOK/COLAB USERS: the web browser MAY not pop up, regardless, the report IS saved in your notebook/colab files.\n"
     ]
    },
    {
     "name": "stderr",
     "output_type": "stream",
     "text": [
      "0:228: execution error: ファイル“不特定のオブジェクト”が見つかりませんでした。 (-43)\n"
     ]
    },
    {
     "data": {
      "application/vnd.jupyter.widget-view+json": {
       "model_id": "ffb57faf6fee45ae8c2456e6b3326f18",
       "version_major": 2,
       "version_minor": 0
      },
      "text/plain": [
       "                                             |                                                                …"
      ]
     },
     "metadata": {},
     "output_type": "display_data"
    },
    {
     "name": "stdout",
     "output_type": "stream",
     "text": [
      "Report ../reports/sweetviz_report/comparing(exclusive)/Overall Survival (Months)/Breast_excluded.html was generated! NOTEBOOK/COLAB USERS: the web browser MAY not pop up, regardless, the report IS saved in your notebook/colab files.\n"
     ]
    },
    {
     "name": "stderr",
     "output_type": "stream",
     "text": [
      "0:191: execution error: ファイル“不特定のオブジェクト”が見つかりませんでした。 (-43)\n"
     ]
    },
    {
     "data": {
      "application/vnd.jupyter.widget-view+json": {
       "model_id": "e3d3dfbe4b264e1aa4379481ebd43673",
       "version_major": 2,
       "version_minor": 0
      },
      "text/plain": [
       "                                             |                                                                …"
      ]
     },
     "metadata": {},
     "output_type": "display_data"
    },
    {
     "name": "stdout",
     "output_type": "stream",
     "text": [
      "Report ../reports/sweetviz_report/comparing(exclusive)/Relapse Free Status (Months)/Breast_excluded.html was generated! NOTEBOOK/COLAB USERS: the web browser MAY not pop up, regardless, the report IS saved in your notebook/colab files.\n"
     ]
    },
    {
     "name": "stderr",
     "output_type": "stream",
     "text": [
      "0:194: execution error: ファイル“不特定のオブジェクト”が見つかりませんでした。 (-43)\n"
     ]
    },
    {
     "data": {
      "text/plain": [
       "[None, None, None, None, None, None]"
      ]
     },
     "execution_count": 402,
     "metadata": {},
     "output_type": "execute_result"
    }
   ],
   "source": [
    "[create_sv_report2_by_cancer_type(i) for i in cancer_types]"
   ]
  },
  {
   "cell_type": "code",
   "execution_count": null,
   "id": "3879f19d-5374-4ce2-9535-053a2d8f6916",
   "metadata": {},
   "outputs": [],
   "source": []
  },
  {
   "cell_type": "code",
   "execution_count": null,
   "id": "ffbc3a57-0749-4b19-b5dc-0d39d88446be",
   "metadata": {},
   "outputs": [],
   "source": []
  }
 ],
 "metadata": {
  "kernelspec": {
   "display_name": "Python 3 (ipykernel)",
   "language": "python",
   "name": "python3"
  },
  "language_info": {
   "codemirror_mode": {
    "name": "ipython",
    "version": 3
   },
   "file_extension": ".py",
   "mimetype": "text/x-python",
   "name": "python",
   "nbconvert_exporter": "python",
   "pygments_lexer": "ipython3",
   "version": "3.8.12"
  }
 },
 "nbformat": 4,
 "nbformat_minor": 5
}
