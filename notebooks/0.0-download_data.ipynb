{
 "cells": [
  {
   "cell_type": "markdown",
   "id": "dabbd5c6",
   "metadata": {},
   "source": [
    "# Download data from cBioPortal \n",
    "\n",
    "download link: https://cbioportal-datahub.s3.amazonaws.com/brca_metabric.tar.gz"
   ]
  },
  {
   "cell_type": "markdown",
   "id": "dae3485e",
   "metadata": {},
   "source": [
    "## 前提条件\n",
    "\n",
    "カレントディレクトリが/notebooks/であること（breast_cancer_analyticsディレクトリから'jupyter lab or notebookコマンドによってjupyter kernelを立ち上げたこと'）"
   ]
  },
  {
   "cell_type": "code",
   "execution_count": 10,
   "id": "de3f7c1a",
   "metadata": {},
   "outputs": [],
   "source": [
    "import os\n",
    "from os.path import join, dirname\n",
    "import shutil\n",
    "\n",
    "import requests\n",
    "import tarfile\n",
    "from dotenv import load_dotenv\n",
    "\n",
    "import config"
   ]
  },
  {
   "cell_type": "code",
   "execution_count": 11,
   "id": "285e632d",
   "metadata": {},
   "outputs": [],
   "source": [
    "def make_dir(dirname: str):\n",
    "    if not os.path.exists(dirname):\n",
    "        os.makedirs(dirname)"
   ]
  },
  {
   "cell_type": "markdown",
   "id": "1b93aa81",
   "metadata": {},
   "source": [
    "### データディレクトリの作成"
   ]
  },
  {
   "cell_type": "code",
   "execution_count": 12,
   "id": "8aeaa4ee",
   "metadata": {},
   "outputs": [],
   "source": [
    "make_dir(config.RAW_DIR)\n",
    "make_dir(config.EXTERNAL_DIR)\n",
    "make_dir(config.INTERIM_DIR)\n",
    "make_dir(config.PROCESSED_DIR)"
   ]
  },
  {
   "cell_type": "markdown",
   "id": "ae2c818a",
   "metadata": {},
   "source": [
    "### geneデータを含む全データのダウンロード・解凍"
   ]
  },
  {
   "cell_type": "code",
   "execution_count": 13,
   "id": "66831819",
   "metadata": {},
   "outputs": [],
   "source": [
    "import urllib.error\n",
    "import urllib.request\n",
    "\n",
    "url = \"https://cbioportal-datahub.s3.amazonaws.com/brca_metabric.tar.gz\"\n",
    "\n",
    "file_name = config.RAW_BRCA_METABRIC_TG\n",
    "try:\n",
    "    if not os.path.exists(file_name):\n",
    "        urlData = requests.get(url).content\n",
    "        with open(file_name, mode=\"wb\") as f:\n",
    "            f.write(urlData)\n",
    "\n",
    "except urllib.error.URLError as e:\n",
    "    print(e)"
   ]
  },
  {
   "cell_type": "code",
   "execution_count": 14,
   "id": "e8e3404d",
   "metadata": {},
   "outputs": [],
   "source": [
    "if not os.path.exists(config.RAW_BRCA_METABRIC_DIR):\n",
    "    os.makedirs(config.RAW_BRCA_METABRIC_DIR)\n",
    "with tarfile.open(config.RAW_BRCA_METABRIC_TG, \"r:gz\") as t:\n",
    "    t.extractall(path=config.RAW_DIR)"
   ]
  }
 ],
 "metadata": {
  "kernelspec": {
   "display_name": "breast-cancer-analytics",
   "language": "python",
   "name": "breast-cancer-analytics"
  },
  "language_info": {
   "codemirror_mode": {
    "name": "ipython",
    "version": 3
   },
   "file_extension": ".py",
   "mimetype": "text/x-python",
   "name": "python",
   "nbconvert_exporter": "python",
   "pygments_lexer": "ipython3",
   "version": "3.8.13"
  }
 },
 "nbformat": 4,
 "nbformat_minor": 5
}
