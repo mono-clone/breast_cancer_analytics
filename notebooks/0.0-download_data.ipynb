{
 "cells": [
  {
   "cell_type": "markdown",
   "id": "90d8e39c-0849-496d-a400-33f40012e6cd",
   "metadata": {},
   "source": [
    "# Download data from cBioPortal \n",
    "\n",
    "download link: https://cbioportal-datahub.s3.amazonaws.com/brca_metabric.tar.gz"
   ]
  },
  {
   "cell_type": "markdown",
   "id": "1ec0f59c-33ad-46ca-880f-b4e0754612b5",
   "metadata": {},
   "source": [
    "## 前提条件\n",
    "\n",
    "カレントディレクトリが/notebooks/であること（breast_cancer_analyticsディレクトリから'jupyter lab or notebookコマンドによってjupyter kernelを立ち上げたこと'）"
   ]
  },
  {
   "cell_type": "code",
   "execution_count": 1,
   "id": "7de6779d-009f-425d-b5ec-adc24149aa11",
   "metadata": {},
   "outputs": [],
   "source": [
    "import os\n",
    "from os.path import join, dirname\n",
    "import shutil\n",
    "from pathlib import Path\n",
    "import tarfile\n",
    "\n",
    "import requests\n",
    "import urllib.error\n",
    "import urllib.request\n",
    "import pandas as pd\n",
    "\n",
    "import config"
   ]
  },
  {
   "cell_type": "code",
   "execution_count": 2,
   "id": "519b3afb",
   "metadata": {},
   "outputs": [],
   "source": [
    "def make_dir(dirname: str):\n",
    "    if not os.path.exists(dirname):\n",
    "        os.makedirs(dirname)"
   ]
  },
  {
   "cell_type": "markdown",
   "id": "f422f012",
   "metadata": {},
   "source": [
    "### データディレクトリの作成"
   ]
  },
  {
   "cell_type": "code",
   "execution_count": 3,
   "id": "2185269c",
   "metadata": {},
   "outputs": [],
   "source": [
    "make_dir(config.RAW_DIR)\n",
    "make_dir(config.EXTERNAL_DIR)\n",
    "make_dir(config.INTERIM_DIR)\n",
    "make_dir(config.PROCESSED_DIR)"
   ]
  },
  {
   "cell_type": "markdown",
   "id": "f11f4604",
   "metadata": {},
   "source": [
    "### geneデータを含む全データのダウンロード・解凍"
   ]
  },
  {
   "cell_type": "code",
   "execution_count": 4,
   "id": "11085672-2b6d-4746-a44b-69822112f88b",
   "metadata": {},
   "outputs": [],
   "source": [
    "# file_name: cBioPortalからダウンロードするzipファイル\n",
    "file_name = config.RAW_BRCA_METABRIC_TG\n",
    "try:\n",
    "    make_dir\n",
    "    if not os.path.exists(file_name):\n",
    "        urlData = requests.get(config.URL_cBioPortal).content\n",
    "        with open(file_name, mode=\"wb\") as f:\n",
    "            f.write(urlData)\n",
    "except urllib.error.URLError as e:\n",
    "    print(e)\n",
    "\n",
    "# 解凍先の保存dir\n",
    "make_dir(config.RAW_BRCA_METABRIC_DIR)\n",
    "with tarfile.open(config.RAW_BRCA_METABRIC_TG, \"r:gz\") as t:\n",
    "    t.extractall(path=config.RAW_DIR)"
   ]
  },
  {
   "cell_type": "markdown",
   "id": "3ce531e7-9d4b-4596-a2d5-1687b5c1942b",
   "metadata": {},
   "source": [
    "## data_clinical_patient\n",
    "\n",
    "データの内容の確認のために、head（もしくはtail）のみ抽出する  \n",
    "notionにまとめた現在、実行不要  "
   ]
  },
  {
   "cell_type": "code",
   "execution_count": 5,
   "id": "fe6d8523-48f9-42f5-a073-007d19cecefe",
   "metadata": {},
   "outputs": [],
   "source": [
    "# headのみ記載したcsvファイルの作成\n",
    "def create_head_csv(file_path: str, size: int = 5):\n",
    "    file_name = file_path.split(\"/\")[-1].split(\".\")[0]\n",
    "    make_dir(config.INTERIM_BRCA_METABRIC_DIR)\n",
    "    pd.read_table(file_path).head(size).to_csv(\n",
    "        config.INTERIM_BRCA_METABRIC_DIR + \"/head/\" + file_name + \"_head.csv\"\n",
    "    )"
   ]
  },
  {
   "cell_type": "code",
   "execution_count": 6,
   "id": "365b0f00-9b7d-4187-af1f-7f6e26846c25",
   "metadata": {},
   "outputs": [
    {
     "name": "stdout",
     "output_type": "stream",
     "text": [
      "../data/raw/brca_metabric/data_clinical_patient.txt\n",
      "../data/raw/brca_metabric/data_clinical_sample.txt\n",
      "../data/raw/brca_metabric/data_cna.txt\n",
      "../data/raw/brca_metabric/data_gene_panel_matrix.txt\n",
      "../data/raw/brca_metabric/data_methylation_promoters_rrbs.txt\n",
      "../data/raw/brca_metabric/data_mrna_agilent_microarray.txt\n",
      "../data/raw/brca_metabric/data_mrna_agilent_microarray_zscores_ref_all_samples.txt\n",
      "../data/raw/brca_metabric/data_mrna_agilent_microarray_zscores_ref_diploid_samples.txt\n",
      "../data/raw/brca_metabric/data_mutations.txt\n"
     ]
    },
    {
     "name": "stderr",
     "output_type": "stream",
     "text": [
      "/var/folders/jt/x8hyslhx72l01gmb45h2dmm40000gn/T/ipykernel_15189/2690378312.py:5: DtypeWarning: Columns (1,5,6,14,15,17,18,19,20,21,22,23,24,25,26,27,28,29,30,31,33,34,35,36,42,44) have mixed types. Specify dtype option on import or set low_memory=False.\n",
      "  pd.read_table(file_path).head(size).to_csv(\n"
     ]
    }
   ],
   "source": [
    "make_dir(config.INTERIM_BRCA_METABRIC_DIR + \"/head\")\n",
    "\n",
    "p = Path(config.RAW_BRCA_METABRIC_DIR)\n",
    "\n",
    "for file_name in sorted(\n",
    "    [str(file_name) for file_name in list(p.glob(\"**/data_*.txt\"))]\n",
    "):\n",
    "    print(file_name)\n",
    "    create_head_csv(file_name, 4)"
   ]
  }
 ],
 "metadata": {
  "kernelspec": {
   "display_name": "Python 3 (ipykernel)",
   "language": "python",
   "name": "python3"
  },
  "language_info": {
   "codemirror_mode": {
    "name": "ipython",
    "version": 3
   },
   "file_extension": ".py",
   "mimetype": "text/x-python",
   "name": "python",
   "nbconvert_exporter": "python",
   "pygments_lexer": "ipython3",
   "version": "3.8.13"
  }
 },
 "nbformat": 4,
 "nbformat_minor": 5
}
