{
 "cells": [
  {
   "cell_type": "markdown",
   "id": "90d8e39c-0849-496d-a400-33f40012e6cd",
   "metadata": {},
   "source": [
    "# Download data from cBioPortal \n",
    "\n",
    "download link: https://cbioportal-datahub.s3.amazonaws.com/brca_metabric.tar.gz"
   ]
  },
  {
   "cell_type": "markdown",
   "id": "1ec0f59c-33ad-46ca-880f-b4e0754612b5",
   "metadata": {},
   "source": [
    "## 前提条件\n",
    "\n",
    "カレントディレクトリが/notebooks/であること（breast_cancer_analyticsディレクトリから'jupyter lab or notebookコマンドによってjupyter kernelを立ち上げたこと'）"
   ]
  },
  {
   "cell_type": "code",
   "execution_count": 1,
   "id": "7de6779d-009f-425d-b5ec-adc24149aa11",
   "metadata": {},
   "outputs": [],
   "source": [
    "import os\n",
    "import shutil\n",
    "\n",
    "import requests\n",
    "import tarfile\n",
    "\n",
    "import config\n",
    "\n",
    "\n",
    "# 保存先ディレクトリ作成\n",
    "if not os.path.exists(config.RAW_DIR):\n",
    "    os.makedirs(config.RAW_DIR)"
   ]
  },
  {
   "cell_type": "markdown",
   "id": "f11f4604",
   "metadata": {},
   "source": [
    "### geneデータを含む全データのダウンロード・解凍"
   ]
  },
  {
   "cell_type": "code",
   "execution_count": 3,
   "id": "11085672-2b6d-4746-a44b-69822112f88b",
   "metadata": {},
   "outputs": [],
   "source": [
    "import urllib.error\n",
    "import urllib.request\n",
    " \n",
    "url = \"https://cbioportal-datahub.s3.amazonaws.com/brca_metabric.tar.gz\"\n",
    " \n",
    "file_name = config.RAW_BRCA_METABRIC_TG\n",
    "try:\n",
    "    if not os.path.exists(file_name):\n",
    "        urlData=requests.get(url).content\n",
    "        with open(file_name, mode='wb') as f:\n",
    "            f.write(urlData)\n",
    "        \n",
    "except urllib.error.URLError as e:\n",
    "    print(e)"
   ]
  },
  {
   "cell_type": "code",
   "execution_count": 8,
   "id": "a6bfcd1b-b6bf-4e88-9e05-997f8be3b38b",
   "metadata": {},
   "outputs": [],
   "source": [
    "if not os.path.exists(config.BRCA_METABRIC_DIR):\n",
    "    os.makedirs(config.BRCA_METABRIC_DIR)    \n",
    "with tarfile.open(config.RAW_BRCA_METABRIC_TG, 'r:gz') as t:\n",
    "    t.extractall(path=config.RAW_DIR)"
   ]
  },
  {
   "cell_type": "code",
   "execution_count": null,
   "id": "1caa29f9",
   "metadata": {},
   "outputs": [],
   "source": []
  },
  {
   "cell_type": "code",
   "execution_count": null,
   "id": "275299a4",
   "metadata": {},
   "outputs": [],
   "source": []
  }
 ],
 "metadata": {
  "kernelspec": {
   "display_name": "Python 3",
   "language": "python",
   "name": "python3"
  },
  "language_info": {
   "codemirror_mode": {
    "name": "ipython",
    "version": 3
   },
   "file_extension": ".py",
   "mimetype": "text/x-python",
   "name": "python",
   "nbconvert_exporter": "python",
   "pygments_lexer": "ipython3",
   "version": "3.8.13"
  }
 },
 "nbformat": 4,
 "nbformat_minor": 5
}
