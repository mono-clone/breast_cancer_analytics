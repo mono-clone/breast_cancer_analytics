{
 "cells": [
  {
   "cell_type": "markdown",
   "id": "633b5102-aadc-4650-a1de-4a44c7a819f5",
   "metadata": {},
   "source": [
    "# クラス分類学習モデルの作成、予測の実行"
   ]
  },
  {
   "cell_type": "code",
   "execution_count": 32,
   "id": "36b0899c-856f-4042-a5df-a6127b49c306",
   "metadata": {},
   "outputs": [],
   "source": [
    "import os\n",
    "import random\n",
    "\n",
    "# basic DS libraries\n",
    "import numpy as np\n",
    "import pandas as pd\n",
    "import scipy as sp\n",
    "from scipy import stats\n",
    "\n",
    "# plot libraries\n",
    "import matplotlib.pyplot as plt\n",
    "import seaborn as sns\n",
    "\n",
    "%matplotlib inline\n",
    "import graphviz\n",
    "import pydotplus\n",
    "from IPython.display import Image\n",
    "from six import StringIO\n",
    "\n",
    "# データセット分割・評価検証\n",
    "from sklearn.model_selection import train_test_split\n",
    "from sklearn.metrics import accuracy_score, precision_score, recall_score, f1_score\n",
    "from sklearn.metrics import confusion_matrix, ConfusionMatrixDisplay\n",
    "\n",
    "# from sklearn.decomposition import PCA  # 主成分分析\n",
    "\n",
    "# 機械学習モデル\n",
    "from sklearn.linear_model import LogisticRegression  # ロジスティック回帰\n",
    "from sklearn.neighbors import KNeighborsClassifier  # K近傍法\n",
    "from sklearn.svm import SVC  # サポートベクターマシン\n",
    "from sklearn.tree import DecisionTreeClassifier, export_graphviz  # 決定木\n",
    "from sklearn.ensemble import RandomForestClassifier  # ランダムフォレスト\n",
    "from sklearn.ensemble import AdaBoostClassifier  # AdaBoost\n",
    "from sklearn.naive_bayes import GaussianNB  # ナイーブ・ベイズ\n",
    "from sklearn.decomposition import LatentDirichletAllocation as LDA  # 線形判別分析\n",
    "from sklearn.discriminant_analysis import QuadraticDiscriminantAnalysis as QDA  # 二次判別分析\n",
    "\n",
    "# config python file\n",
    "import config\n",
    "\n",
    "# 最大表示列数の指定（ここでは50列を指定）\n",
    "pd.set_option(\"display.max_columns\", 50)\n",
    "pd.set_option(\"display.max_rows\", 50)\n",
    "\n",
    "# ファイル保存関数（dirがなければ生成する）\n",
    "def make_dir(dir_name: str):\n",
    "    if not os.path.exists(dir_name):\n",
    "        os.makedirs(dir_name)\n",
    "\n",
    "\n",
    "# seedの固定\n",
    "def fix_seed(seed):\n",
    "    # random\n",
    "    random.seed(seed)\n",
    "    # Numpy\n",
    "    np.random.seed(seed)\n",
    "\n",
    "\n",
    "# 再現性をもたせるためのseed固定\n",
    "SEED = config.SEED\n",
    "fix_seed(SEED)"
   ]
  },
  {
   "cell_type": "markdown",
   "id": "a9c889e6-7479-4c13-8496-c8817af4bb64",
   "metadata": {
    "tags": []
   },
   "source": [
    "# 決定木クラス分類モデルの作成・実行\n",
    "\n",
    "決定木クラス分類モデルを作成、実行し、クラス分類に有用な特徴量を見つける  \n",
    "精度は重視しない"
   ]
  },
  {
   "cell_type": "code",
   "execution_count": 5,
   "id": "ab1084e7-07ff-4862-b7cc-5f4ddb9acab9",
   "metadata": {},
   "outputs": [
    {
     "name": "stdout",
     "output_type": "stream",
     "text": [
      "<class 'pandas.core.frame.DataFrame'>\n",
      "Int64Index: 1042 entries, 0 to 1123\n",
      "Data columns (total 56 columns):\n",
      " #   Column                                                          Non-Null Count  Dtype\n",
      "---  ------                                                          --------------  -----\n",
      " 0   LYMPH_NODES_EXAMINED_POSITIVE                                   1042 non-null   bool \n",
      " 1   NPI                                                             1042 non-null   bool \n",
      " 2   CELLULARITY                                                     1042 non-null   bool \n",
      " 3   CHEMOTHERAPY                                                    1042 non-null   bool \n",
      " 4   ER_IHC                                                          1042 non-null   bool \n",
      " 5   HER2_SNP6                                                       1042 non-null   bool \n",
      " 6   HORMONE_THERAPY                                                 1042 non-null   bool \n",
      " 7   INFERRED_MENOPAUSAL_STATE                                       1042 non-null   bool \n",
      " 8   AGE_AT_DIAGNOSIS                                                1042 non-null   bool \n",
      " 9   RADIO_THERAPY                                                   1042 non-null   bool \n",
      " 10  ER_STATUS                                                       1042 non-null   bool \n",
      " 11  HER2_STATUS                                                     1042 non-null   bool \n",
      " 12  GRADE                                                           1042 non-null   bool \n",
      " 13  PR_STATUS                                                       1042 non-null   bool \n",
      " 14  TUMOR_SIZE                                                      1042 non-null   bool \n",
      " 15  TUMOR_STAGE                                                     1042 non-null   bool \n",
      " 16  TMB_NONSYNONYMOUS                                               1042 non-null   bool \n",
      " 17  COHORT_2.0                                                      1042 non-null   bool \n",
      " 18  COHORT_3.0                                                      1042 non-null   bool \n",
      " 19  COHORT_5.0                                                      1042 non-null   bool \n",
      " 20  INTCLUST_10                                                     1042 non-null   bool \n",
      " 21  INTCLUST_2                                                      1042 non-null   bool \n",
      " 22  INTCLUST_3                                                      1042 non-null   bool \n",
      " 23  INTCLUST_4ER+                                                   1042 non-null   bool \n",
      " 24  INTCLUST_4ER-                                                   1042 non-null   bool \n",
      " 25  INTCLUST_5                                                      1042 non-null   bool \n",
      " 26  INTCLUST_6                                                      1042 non-null   bool \n",
      " 27  INTCLUST_7                                                      1042 non-null   bool \n",
      " 28  INTCLUST_8                                                      1042 non-null   bool \n",
      " 29  INTCLUST_9                                                      1042 non-null   bool \n",
      " 30  CLAUDIN_SUBTYPE_Her2                                            1042 non-null   bool \n",
      " 31  CLAUDIN_SUBTYPE_LumA                                            1042 non-null   bool \n",
      " 32  CLAUDIN_SUBTYPE_LumB                                            1042 non-null   bool \n",
      " 33  CLAUDIN_SUBTYPE_NC                                              1042 non-null   bool \n",
      " 34  CLAUDIN_SUBTYPE_Normal                                          1042 non-null   bool \n",
      " 35  CLAUDIN_SUBTYPE_claudin-low                                     1042 non-null   bool \n",
      " 36  THREEGENE_ER+/HER2- Low Prolif                                  1042 non-null   bool \n",
      " 37  THREEGENE_ER-/HER2-                                             1042 non-null   bool \n",
      " 38  THREEGENE_HER2+                                                 1042 non-null   bool \n",
      " 39  HISTOLOGICAL_SUBTYPE_Lobular                                    1042 non-null   bool \n",
      " 40  HISTOLOGICAL_SUBTYPE_Medullary                                  1042 non-null   bool \n",
      " 41  HISTOLOGICAL_SUBTYPE_Mixed                                      1042 non-null   bool \n",
      " 42  HISTOLOGICAL_SUBTYPE_Mucinous                                   1042 non-null   bool \n",
      " 43  HISTOLOGICAL_SUBTYPE_Other                                      1042 non-null   bool \n",
      " 44  HISTOLOGICAL_SUBTYPE_Tubular/ cribriform                        1042 non-null   bool \n",
      " 45  BREAST_SURGERY_MASTECTOMY                                       1042 non-null   bool \n",
      " 46  LATERALITY_Right                                                1042 non-null   bool \n",
      " 47  CANCER_TYPE_DETAILED_Breast Invasive Ductal Carcinoma           1042 non-null   bool \n",
      " 48  CANCER_TYPE_DETAILED_Breast Invasive Lobular Carcinoma          1042 non-null   bool \n",
      " 49  CANCER_TYPE_DETAILED_Breast Invasive Mixed Mucinous Carcinoma   1042 non-null   bool \n",
      " 50  CANCER_TYPE_DETAILED_Breast Mixed Ductal and Lobular Carcinoma  1042 non-null   bool \n",
      " 51  ONCOTREE_CODE_IDC                                               1042 non-null   bool \n",
      " 52  ONCOTREE_CODE_ILC                                               1042 non-null   bool \n",
      " 53  ONCOTREE_CODE_IMMC                                              1042 non-null   bool \n",
      " 54  ONCOTREE_CODE_MDLC                                              1042 non-null   bool \n",
      " 55  target                                                          1042 non-null   bool \n",
      "dtypes: bool(56)\n",
      "memory usage: 65.1 KB\n"
     ]
    }
   ],
   "source": [
    "df_MB_OS_status_in_5years_dropped = pd.read_pickle(\n",
    "    config.INTERIM_PICKLE_PREPROCESSED_DIR\n",
    "    + \"/2.4-df_MB_OS_status_in_5years_dropped.pkl\"\n",
    ")\n",
    "df_MB_OS_status_in_5years_dropped.info()"
   ]
  },
  {
   "cell_type": "markdown",
   "id": "b8342a98-3ec2-43a1-aead-1fc82555962d",
   "metadata": {},
   "source": [
    "# 学習データ分割\n",
    "\n",
    "1. X（説明変数）とy（目的変数）に分割(y=df['target'])\n",
    "2. train_test_splitによる基本的なデータ分割（train:test=75%:25%）※層化検証など他の分割手法は後で実施  "
   ]
  },
  {
   "cell_type": "code",
   "execution_count": 6,
   "id": "62ad5e33-02e4-4b6f-bc4d-df2daa1c6416",
   "metadata": {},
   "outputs": [
    {
     "data": {
      "text/html": [
       "<div>\n",
       "<style scoped>\n",
       "    .dataframe tbody tr th:only-of-type {\n",
       "        vertical-align: middle;\n",
       "    }\n",
       "\n",
       "    .dataframe tbody tr th {\n",
       "        vertical-align: top;\n",
       "    }\n",
       "\n",
       "    .dataframe thead th {\n",
       "        text-align: right;\n",
       "    }\n",
       "</style>\n",
       "<table border=\"1\" class=\"dataframe\">\n",
       "  <thead>\n",
       "    <tr style=\"text-align: right;\">\n",
       "      <th></th>\n",
       "      <th>LYMPH_NODES_EXAMINED_POSITIVE</th>\n",
       "      <th>NPI</th>\n",
       "      <th>CELLULARITY</th>\n",
       "      <th>CHEMOTHERAPY</th>\n",
       "      <th>ER_IHC</th>\n",
       "      <th>HER2_SNP6</th>\n",
       "      <th>HORMONE_THERAPY</th>\n",
       "      <th>INFERRED_MENOPAUSAL_STATE</th>\n",
       "      <th>AGE_AT_DIAGNOSIS</th>\n",
       "      <th>RADIO_THERAPY</th>\n",
       "      <th>ER_STATUS</th>\n",
       "      <th>HER2_STATUS</th>\n",
       "      <th>GRADE</th>\n",
       "      <th>PR_STATUS</th>\n",
       "      <th>TUMOR_SIZE</th>\n",
       "      <th>TUMOR_STAGE</th>\n",
       "      <th>TMB_NONSYNONYMOUS</th>\n",
       "      <th>COHORT_2.0</th>\n",
       "      <th>COHORT_3.0</th>\n",
       "      <th>COHORT_5.0</th>\n",
       "      <th>INTCLUST_10</th>\n",
       "      <th>INTCLUST_2</th>\n",
       "      <th>INTCLUST_3</th>\n",
       "      <th>INTCLUST_4ER+</th>\n",
       "      <th>INTCLUST_4ER-</th>\n",
       "      <th>...</th>\n",
       "      <th>CLAUDIN_SUBTYPE_Her2</th>\n",
       "      <th>CLAUDIN_SUBTYPE_LumA</th>\n",
       "      <th>CLAUDIN_SUBTYPE_LumB</th>\n",
       "      <th>CLAUDIN_SUBTYPE_NC</th>\n",
       "      <th>CLAUDIN_SUBTYPE_Normal</th>\n",
       "      <th>CLAUDIN_SUBTYPE_claudin-low</th>\n",
       "      <th>THREEGENE_ER+/HER2- Low Prolif</th>\n",
       "      <th>THREEGENE_ER-/HER2-</th>\n",
       "      <th>THREEGENE_HER2+</th>\n",
       "      <th>HISTOLOGICAL_SUBTYPE_Lobular</th>\n",
       "      <th>HISTOLOGICAL_SUBTYPE_Medullary</th>\n",
       "      <th>HISTOLOGICAL_SUBTYPE_Mixed</th>\n",
       "      <th>HISTOLOGICAL_SUBTYPE_Mucinous</th>\n",
       "      <th>HISTOLOGICAL_SUBTYPE_Other</th>\n",
       "      <th>HISTOLOGICAL_SUBTYPE_Tubular/ cribriform</th>\n",
       "      <th>BREAST_SURGERY_MASTECTOMY</th>\n",
       "      <th>LATERALITY_Right</th>\n",
       "      <th>CANCER_TYPE_DETAILED_Breast Invasive Ductal Carcinoma</th>\n",
       "      <th>CANCER_TYPE_DETAILED_Breast Invasive Lobular Carcinoma</th>\n",
       "      <th>CANCER_TYPE_DETAILED_Breast Invasive Mixed Mucinous Carcinoma</th>\n",
       "      <th>CANCER_TYPE_DETAILED_Breast Mixed Ductal and Lobular Carcinoma</th>\n",
       "      <th>ONCOTREE_CODE_IDC</th>\n",
       "      <th>ONCOTREE_CODE_ILC</th>\n",
       "      <th>ONCOTREE_CODE_IMMC</th>\n",
       "      <th>ONCOTREE_CODE_MDLC</th>\n",
       "    </tr>\n",
       "  </thead>\n",
       "  <tbody>\n",
       "    <tr>\n",
       "      <th>1119</th>\n",
       "      <td>True</td>\n",
       "      <td>True</td>\n",
       "      <td>True</td>\n",
       "      <td>False</td>\n",
       "      <td>True</td>\n",
       "      <td>True</td>\n",
       "      <td>True</td>\n",
       "      <td>True</td>\n",
       "      <td>True</td>\n",
       "      <td>False</td>\n",
       "      <td>True</td>\n",
       "      <td>True</td>\n",
       "      <td>True</td>\n",
       "      <td>True</td>\n",
       "      <td>True</td>\n",
       "      <td>True</td>\n",
       "      <td>True</td>\n",
       "      <td>False</td>\n",
       "      <td>False</td>\n",
       "      <td>True</td>\n",
       "      <td>False</td>\n",
       "      <td>False</td>\n",
       "      <td>True</td>\n",
       "      <td>False</td>\n",
       "      <td>False</td>\n",
       "      <td>...</td>\n",
       "      <td>False</td>\n",
       "      <td>True</td>\n",
       "      <td>False</td>\n",
       "      <td>False</td>\n",
       "      <td>False</td>\n",
       "      <td>False</td>\n",
       "      <td>True</td>\n",
       "      <td>False</td>\n",
       "      <td>False</td>\n",
       "      <td>False</td>\n",
       "      <td>False</td>\n",
       "      <td>True</td>\n",
       "      <td>False</td>\n",
       "      <td>False</td>\n",
       "      <td>False</td>\n",
       "      <td>True</td>\n",
       "      <td>False</td>\n",
       "      <td>False</td>\n",
       "      <td>False</td>\n",
       "      <td>False</td>\n",
       "      <td>True</td>\n",
       "      <td>False</td>\n",
       "      <td>False</td>\n",
       "      <td>False</td>\n",
       "      <td>True</td>\n",
       "    </tr>\n",
       "    <tr>\n",
       "      <th>1120</th>\n",
       "      <td>False</td>\n",
       "      <td>True</td>\n",
       "      <td>True</td>\n",
       "      <td>False</td>\n",
       "      <td>True</td>\n",
       "      <td>True</td>\n",
       "      <td>False</td>\n",
       "      <td>True</td>\n",
       "      <td>True</td>\n",
       "      <td>True</td>\n",
       "      <td>True</td>\n",
       "      <td>True</td>\n",
       "      <td>True</td>\n",
       "      <td>True</td>\n",
       "      <td>True</td>\n",
       "      <td>True</td>\n",
       "      <td>True</td>\n",
       "      <td>False</td>\n",
       "      <td>False</td>\n",
       "      <td>True</td>\n",
       "      <td>False</td>\n",
       "      <td>False</td>\n",
       "      <td>False</td>\n",
       "      <td>False</td>\n",
       "      <td>False</td>\n",
       "      <td>...</td>\n",
       "      <td>False</td>\n",
       "      <td>False</td>\n",
       "      <td>True</td>\n",
       "      <td>False</td>\n",
       "      <td>False</td>\n",
       "      <td>False</td>\n",
       "      <td>True</td>\n",
       "      <td>False</td>\n",
       "      <td>False</td>\n",
       "      <td>False</td>\n",
       "      <td>False</td>\n",
       "      <td>True</td>\n",
       "      <td>False</td>\n",
       "      <td>False</td>\n",
       "      <td>False</td>\n",
       "      <td>False</td>\n",
       "      <td>False</td>\n",
       "      <td>False</td>\n",
       "      <td>False</td>\n",
       "      <td>False</td>\n",
       "      <td>True</td>\n",
       "      <td>False</td>\n",
       "      <td>False</td>\n",
       "      <td>False</td>\n",
       "      <td>True</td>\n",
       "    </tr>\n",
       "    <tr>\n",
       "      <th>1121</th>\n",
       "      <td>False</td>\n",
       "      <td>True</td>\n",
       "      <td>True</td>\n",
       "      <td>False</td>\n",
       "      <td>True</td>\n",
       "      <td>True</td>\n",
       "      <td>False</td>\n",
       "      <td>True</td>\n",
       "      <td>True</td>\n",
       "      <td>False</td>\n",
       "      <td>True</td>\n",
       "      <td>True</td>\n",
       "      <td>True</td>\n",
       "      <td>True</td>\n",
       "      <td>True</td>\n",
       "      <td>True</td>\n",
       "      <td>True</td>\n",
       "      <td>False</td>\n",
       "      <td>False</td>\n",
       "      <td>True</td>\n",
       "      <td>True</td>\n",
       "      <td>False</td>\n",
       "      <td>False</td>\n",
       "      <td>False</td>\n",
       "      <td>False</td>\n",
       "      <td>...</td>\n",
       "      <td>False</td>\n",
       "      <td>False</td>\n",
       "      <td>False</td>\n",
       "      <td>False</td>\n",
       "      <td>False</td>\n",
       "      <td>False</td>\n",
       "      <td>False</td>\n",
       "      <td>True</td>\n",
       "      <td>False</td>\n",
       "      <td>False</td>\n",
       "      <td>False</td>\n",
       "      <td>False</td>\n",
       "      <td>False</td>\n",
       "      <td>False</td>\n",
       "      <td>False</td>\n",
       "      <td>True</td>\n",
       "      <td>True</td>\n",
       "      <td>True</td>\n",
       "      <td>False</td>\n",
       "      <td>False</td>\n",
       "      <td>False</td>\n",
       "      <td>True</td>\n",
       "      <td>False</td>\n",
       "      <td>False</td>\n",
       "      <td>False</td>\n",
       "    </tr>\n",
       "    <tr>\n",
       "      <th>1122</th>\n",
       "      <td>True</td>\n",
       "      <td>True</td>\n",
       "      <td>True</td>\n",
       "      <td>True</td>\n",
       "      <td>True</td>\n",
       "      <td>True</td>\n",
       "      <td>False</td>\n",
       "      <td>True</td>\n",
       "      <td>True</td>\n",
       "      <td>True</td>\n",
       "      <td>True</td>\n",
       "      <td>True</td>\n",
       "      <td>True</td>\n",
       "      <td>True</td>\n",
       "      <td>True</td>\n",
       "      <td>True</td>\n",
       "      <td>True</td>\n",
       "      <td>False</td>\n",
       "      <td>False</td>\n",
       "      <td>True</td>\n",
       "      <td>False</td>\n",
       "      <td>False</td>\n",
       "      <td>False</td>\n",
       "      <td>False</td>\n",
       "      <td>False</td>\n",
       "      <td>...</td>\n",
       "      <td>False</td>\n",
       "      <td>False</td>\n",
       "      <td>False</td>\n",
       "      <td>False</td>\n",
       "      <td>True</td>\n",
       "      <td>False</td>\n",
       "      <td>False</td>\n",
       "      <td>False</td>\n",
       "      <td>False</td>\n",
       "      <td>False</td>\n",
       "      <td>False</td>\n",
       "      <td>True</td>\n",
       "      <td>False</td>\n",
       "      <td>False</td>\n",
       "      <td>False</td>\n",
       "      <td>False</td>\n",
       "      <td>True</td>\n",
       "      <td>False</td>\n",
       "      <td>False</td>\n",
       "      <td>False</td>\n",
       "      <td>True</td>\n",
       "      <td>False</td>\n",
       "      <td>False</td>\n",
       "      <td>False</td>\n",
       "      <td>True</td>\n",
       "    </tr>\n",
       "    <tr>\n",
       "      <th>1123</th>\n",
       "      <td>False</td>\n",
       "      <td>True</td>\n",
       "      <td>True</td>\n",
       "      <td>False</td>\n",
       "      <td>True</td>\n",
       "      <td>True</td>\n",
       "      <td>False</td>\n",
       "      <td>True</td>\n",
       "      <td>True</td>\n",
       "      <td>True</td>\n",
       "      <td>True</td>\n",
       "      <td>True</td>\n",
       "      <td>True</td>\n",
       "      <td>True</td>\n",
       "      <td>True</td>\n",
       "      <td>True</td>\n",
       "      <td>True</td>\n",
       "      <td>False</td>\n",
       "      <td>False</td>\n",
       "      <td>True</td>\n",
       "      <td>False</td>\n",
       "      <td>False</td>\n",
       "      <td>False</td>\n",
       "      <td>False</td>\n",
       "      <td>False</td>\n",
       "      <td>...</td>\n",
       "      <td>False</td>\n",
       "      <td>False</td>\n",
       "      <td>True</td>\n",
       "      <td>False</td>\n",
       "      <td>False</td>\n",
       "      <td>False</td>\n",
       "      <td>False</td>\n",
       "      <td>False</td>\n",
       "      <td>False</td>\n",
       "      <td>False</td>\n",
       "      <td>False</td>\n",
       "      <td>False</td>\n",
       "      <td>True</td>\n",
       "      <td>False</td>\n",
       "      <td>False</td>\n",
       "      <td>False</td>\n",
       "      <td>True</td>\n",
       "      <td>False</td>\n",
       "      <td>False</td>\n",
       "      <td>True</td>\n",
       "      <td>False</td>\n",
       "      <td>False</td>\n",
       "      <td>False</td>\n",
       "      <td>True</td>\n",
       "      <td>False</td>\n",
       "    </tr>\n",
       "  </tbody>\n",
       "</table>\n",
       "<p>5 rows × 55 columns</p>\n",
       "</div>"
      ],
      "text/plain": [
       "      LYMPH_NODES_EXAMINED_POSITIVE   NPI  CELLULARITY  CHEMOTHERAPY  ER_IHC  \\\n",
       "1119                           True  True         True         False    True   \n",
       "1120                          False  True         True         False    True   \n",
       "1121                          False  True         True         False    True   \n",
       "1122                           True  True         True          True    True   \n",
       "1123                          False  True         True         False    True   \n",
       "\n",
       "      HER2_SNP6  HORMONE_THERAPY  INFERRED_MENOPAUSAL_STATE  AGE_AT_DIAGNOSIS  \\\n",
       "1119       True             True                       True              True   \n",
       "1120       True            False                       True              True   \n",
       "1121       True            False                       True              True   \n",
       "1122       True            False                       True              True   \n",
       "1123       True            False                       True              True   \n",
       "\n",
       "      RADIO_THERAPY  ER_STATUS  HER2_STATUS  GRADE  PR_STATUS  TUMOR_SIZE  \\\n",
       "1119          False       True         True   True       True        True   \n",
       "1120           True       True         True   True       True        True   \n",
       "1121          False       True         True   True       True        True   \n",
       "1122           True       True         True   True       True        True   \n",
       "1123           True       True         True   True       True        True   \n",
       "\n",
       "      TUMOR_STAGE  TMB_NONSYNONYMOUS  COHORT_2.0  COHORT_3.0  COHORT_5.0  \\\n",
       "1119         True               True       False       False        True   \n",
       "1120         True               True       False       False        True   \n",
       "1121         True               True       False       False        True   \n",
       "1122         True               True       False       False        True   \n",
       "1123         True               True       False       False        True   \n",
       "\n",
       "      INTCLUST_10  INTCLUST_2  INTCLUST_3  INTCLUST_4ER+  INTCLUST_4ER-  ...  \\\n",
       "1119        False       False        True          False          False  ...   \n",
       "1120        False       False       False          False          False  ...   \n",
       "1121         True       False       False          False          False  ...   \n",
       "1122        False       False       False          False          False  ...   \n",
       "1123        False       False       False          False          False  ...   \n",
       "\n",
       "      CLAUDIN_SUBTYPE_Her2  CLAUDIN_SUBTYPE_LumA  CLAUDIN_SUBTYPE_LumB  \\\n",
       "1119                 False                  True                 False   \n",
       "1120                 False                 False                  True   \n",
       "1121                 False                 False                 False   \n",
       "1122                 False                 False                 False   \n",
       "1123                 False                 False                  True   \n",
       "\n",
       "      CLAUDIN_SUBTYPE_NC  CLAUDIN_SUBTYPE_Normal  CLAUDIN_SUBTYPE_claudin-low  \\\n",
       "1119               False                   False                        False   \n",
       "1120               False                   False                        False   \n",
       "1121               False                   False                        False   \n",
       "1122               False                    True                        False   \n",
       "1123               False                   False                        False   \n",
       "\n",
       "      THREEGENE_ER+/HER2- Low Prolif  THREEGENE_ER-/HER2-  THREEGENE_HER2+  \\\n",
       "1119                            True                False            False   \n",
       "1120                            True                False            False   \n",
       "1121                           False                 True            False   \n",
       "1122                           False                False            False   \n",
       "1123                           False                False            False   \n",
       "\n",
       "      HISTOLOGICAL_SUBTYPE_Lobular  HISTOLOGICAL_SUBTYPE_Medullary  \\\n",
       "1119                         False                           False   \n",
       "1120                         False                           False   \n",
       "1121                         False                           False   \n",
       "1122                         False                           False   \n",
       "1123                         False                           False   \n",
       "\n",
       "      HISTOLOGICAL_SUBTYPE_Mixed  HISTOLOGICAL_SUBTYPE_Mucinous  \\\n",
       "1119                        True                          False   \n",
       "1120                        True                          False   \n",
       "1121                       False                          False   \n",
       "1122                        True                          False   \n",
       "1123                       False                           True   \n",
       "\n",
       "      HISTOLOGICAL_SUBTYPE_Other  HISTOLOGICAL_SUBTYPE_Tubular/ cribriform  \\\n",
       "1119                       False                                     False   \n",
       "1120                       False                                     False   \n",
       "1121                       False                                     False   \n",
       "1122                       False                                     False   \n",
       "1123                       False                                     False   \n",
       "\n",
       "      BREAST_SURGERY_MASTECTOMY  LATERALITY_Right  \\\n",
       "1119                       True             False   \n",
       "1120                      False             False   \n",
       "1121                       True              True   \n",
       "1122                      False              True   \n",
       "1123                      False              True   \n",
       "\n",
       "      CANCER_TYPE_DETAILED_Breast Invasive Ductal Carcinoma  \\\n",
       "1119                                              False       \n",
       "1120                                              False       \n",
       "1121                                               True       \n",
       "1122                                              False       \n",
       "1123                                              False       \n",
       "\n",
       "      CANCER_TYPE_DETAILED_Breast Invasive Lobular Carcinoma  \\\n",
       "1119                                              False        \n",
       "1120                                              False        \n",
       "1121                                              False        \n",
       "1122                                              False        \n",
       "1123                                              False        \n",
       "\n",
       "      CANCER_TYPE_DETAILED_Breast Invasive Mixed Mucinous Carcinoma  \\\n",
       "1119                                              False               \n",
       "1120                                              False               \n",
       "1121                                              False               \n",
       "1122                                              False               \n",
       "1123                                               True               \n",
       "\n",
       "      CANCER_TYPE_DETAILED_Breast Mixed Ductal and Lobular Carcinoma  \\\n",
       "1119                                               True                \n",
       "1120                                               True                \n",
       "1121                                              False                \n",
       "1122                                               True                \n",
       "1123                                              False                \n",
       "\n",
       "      ONCOTREE_CODE_IDC  ONCOTREE_CODE_ILC  ONCOTREE_CODE_IMMC  \\\n",
       "1119              False              False               False   \n",
       "1120              False              False               False   \n",
       "1121               True              False               False   \n",
       "1122              False              False               False   \n",
       "1123              False              False                True   \n",
       "\n",
       "      ONCOTREE_CODE_MDLC  \n",
       "1119                True  \n",
       "1120                True  \n",
       "1121               False  \n",
       "1122                True  \n",
       "1123               False  \n",
       "\n",
       "[5 rows x 55 columns]"
      ]
     },
     "metadata": {},
     "output_type": "display_data"
    },
    {
     "data": {
      "text/plain": [
       "1119    False\n",
       "1120    False\n",
       "1121    False\n",
       "1122    False\n",
       "1123    False\n",
       "Name: target, dtype: bool"
      ]
     },
     "metadata": {},
     "output_type": "display_data"
    },
    {
     "data": {
      "text/plain": [
       "False    844\n",
       "True     198\n",
       "Name: target, dtype: int64"
      ]
     },
     "metadata": {},
     "output_type": "display_data"
    }
   ],
   "source": [
    "# Xとyに分割\n",
    "X = df_MB_OS_status_in_5years_dropped.drop(\"target\", axis=1)\n",
    "y = df_MB_OS_status_in_5years_dropped[\"target\"]\n",
    "display(X.tail(), y.tail(), y.value_counts())"
   ]
  },
  {
   "cell_type": "code",
   "execution_count": 7,
   "id": "ff9d0b01-48dc-464f-a0c7-db676ea688df",
   "metadata": {},
   "outputs": [
    {
     "data": {
      "text/plain": [
       "(781, 55)"
      ]
     },
     "metadata": {},
     "output_type": "display_data"
    },
    {
     "data": {
      "text/plain": [
       "(261, 55)"
      ]
     },
     "metadata": {},
     "output_type": "display_data"
    },
    {
     "data": {
      "text/plain": [
       "(781,)"
      ]
     },
     "metadata": {},
     "output_type": "display_data"
    },
    {
     "data": {
      "text/plain": [
       "(261,)"
      ]
     },
     "metadata": {},
     "output_type": "display_data"
    },
    {
     "data": {
      "text/plain": [
       "False    638\n",
       "True     143\n",
       "Name: target, dtype: int64"
      ]
     },
     "metadata": {},
     "output_type": "display_data"
    },
    {
     "data": {
      "text/plain": [
       "False    206\n",
       "True      55\n",
       "Name: target, dtype: int64"
      ]
     },
     "metadata": {},
     "output_type": "display_data"
    }
   ],
   "source": [
    "# trainとtestに分割\n",
    "\n",
    "X_train, X_test, y_train, y_test = train_test_split(X, y, random_state=config.SEED)\n",
    "display(X_train.shape, X_test.shape, y_train.shape, y_test.shape)\n",
    "display(y_train.value_counts(), y_test.value_counts())"
   ]
  },
  {
   "cell_type": "markdown",
   "id": "a41a90cd-a31d-45ba-8bb8-55a8758c49fb",
   "metadata": {},
   "source": [
    "# 2値分類モデル"
   ]
  },
  {
   "cell_type": "code",
   "execution_count": 82,
   "id": "60973318-81eb-4c87-bf9b-374f0789cd4a",
   "metadata": {},
   "outputs": [],
   "source": [
    "def show_scores(y_test, y_pred_tree):\n",
    "    print(\"accuracy: \", accuracy_score(y_test, y_pred_tree))\n",
    "    print(\"precision: \", precision_score(y_test, y_pred_tree))\n",
    "    print(\"recall: \", recall_score(y_test, y_pred_tree))\n",
    "    print(\"f1 score: \", f1_score(y_test, y_pred_tree))"
   ]
  },
  {
   "cell_type": "code",
   "execution_count": 83,
   "id": "c49ae5e4-0c93-453e-add4-8ce7d1df4da5",
   "metadata": {},
   "outputs": [],
   "source": [
    "def show_confusion_matrix(\n",
    "    y_test, y_pred, model_name=\"confusion matrix\", display_details=False\n",
    "):\n",
    "    cm = confusion_matrix(y_test, y_pred, normalize=\"all\", labels=[True, False])\n",
    "    df_cm = pd.DataFrame(data=cm, index=[True, False], columns=[True, False])\n",
    "\n",
    "    fig = plt.figure()\n",
    "    sns.heatmap(df_cm, square=True, cbar=True, annot=True, cmap=\"Blues\")\n",
    "    plt.title(model_name)\n",
    "    plt.xlabel(\"Predict label\")\n",
    "    plt.ylabel(\"True label\")\n",
    "    plt.plot()\n",
    "\n",
    "    if display_details:\n",
    "        tn, fp, fn, tp = cm.ravel()\n",
    "        print(\"tn: \", tn, \"\\nfp: \", fp, \"\\nfn:\", fn, \"\\ntp:\", tp)\n",
    "        show_scores(y_test, y_pred)"
   ]
  },
  {
   "cell_type": "markdown",
   "id": "c9768889-c176-4930-aeb4-83d47f2e7540",
   "metadata": {},
   "source": [
    "## ベースラインの精度\n",
    "\n",
    "全てFalseと予測（学習データはFalseが多いため）した場合のスコア"
   ]
  },
  {
   "cell_type": "code",
   "execution_count": 84,
   "id": "2dbe735d-6392-4a7e-89fc-a926d8de94d1",
   "metadata": {},
   "outputs": [
    {
     "data": {
      "text/plain": [
       "False    206\n",
       "True      55\n",
       "Name: target, dtype: int64"
      ]
     },
     "metadata": {},
     "output_type": "display_data"
    },
    {
     "data": {
      "image/png": "[encoded data removed]",
      "text/plain": [
       "<Figure size 432x288 with 2 Axes>"
      ]
     },
     "metadata": {
      "needs_background": "light"
     },
     "output_type": "display_data"
    }
   ],
   "source": [
    "y_base = pd.Series([False for i in range(y_test.shape[0])], index=y_test.index)\n",
    "display(y_test.value_counts())\n",
    "show_confusion_matrix(y_test, y_base)"
   ]
  },
  {
   "cell_type": "markdown",
   "id": "06582a6d-9e09-439e-9265-376f3bb25e38",
   "metadata": {
    "tags": []
   },
   "source": [
    "# 様々な機械学習手法の比較\n",
    "\n",
    "様々な機械学習手法を用いて2値分類を行う。  \n",
    "簡単に精度を見るため、再現性は担保されていない（引数にrandom_stateを要求しないclfもあるため）ので、必要に応じて再度モデルを構築すること。  \n",
    "また、パラメータはデフォルト値を使用している。  \n",
    "そのためパラメータ次第では結果が向上、下降しうる（決定木のf1など）。  "
   ]
  },
  {
   "cell_type": "code",
   "execution_count": 93,
   "id": "132b47bd-aaea-4cc9-bd79-75eefe49e926",
   "metadata": {},
   "outputs": [],
   "source": [
    "names = [\n",
    "    \"Logistic Regression\",\n",
    "    \"Nearest Neighbors\",\n",
    "    \"Linear SVM\",\n",
    "    \"Polynomial SVM\",\n",
    "    \"RBF SVM\",\n",
    "    \"Sigmoid SVM\",\n",
    "    \"Decision Tree\",\n",
    "    \"Random Forest\",\n",
    "    \"AdaBoost\",\n",
    "    \"Naive Bayes\",\n",
    "    # \"Linear Discriminant Analysis\", # predictメソッドに対応していない\n",
    "    \"Quadratic Discriminant Analysis\",\n",
    "]\n",
    "\n",
    "classifiers = [\n",
    "    LogisticRegression(),\n",
    "    KNeighborsClassifier(),\n",
    "    SVC(kernel=\"linear\"),\n",
    "    SVC(kernel=\"poly\"),\n",
    "    SVC(kernel=\"rbf\"),\n",
    "    SVC(kernel=\"sigmoid\"),\n",
    "    DecisionTreeClassifier(),\n",
    "    RandomForestClassifier(),\n",
    "    AdaBoostClassifier(),\n",
    "    GaussianNB(),\n",
    "    # LDA(),\n",
    "    QDA(),\n",
    "]"
   ]
  },
  {
   "cell_type": "code",
   "execution_count": 94,
   "id": "f23dce81-cf79-4bf9-b6a6-e7ea1686e795",
   "metadata": {},
   "outputs": [
    {
     "name": "stderr",
     "output_type": "stream",
     "text": [
      "/home/mono-clone/anaconda3/envs/breast-cancer-analytics/lib/python3.8/site-packages/sklearn/linear_model/_logistic.py:814: ConvergenceWarning: lbfgs failed to converge (status=1):\n",
      "STOP: TOTAL NO. of ITERATIONS REACHED LIMIT.\n",
      "\n",
      "Increase the number of iterations (max_iter) or scale the data as shown in:\n",
      "    https://scikit-learn.org/stable/modules/preprocessing.html\n",
      "Please also refer to the documentation for alternative solver options:\n",
      "    https://scikit-learn.org/stable/modules/linear_model.html#logistic-regression\n",
      "  n_iter_i = _check_optimize_result(\n",
      "/home/mono-clone/anaconda3/envs/breast-cancer-analytics/lib/python3.8/site-packages/sklearn/discriminant_analysis.py:878: UserWarning: Variables are collinear\n",
      "  warnings.warn(\"Variables are collinear\")\n"
     ]
    },
    {
     "data": {
      "text/html": [
       "<div>\n",
       "<style scoped>\n",
       "    .dataframe tbody tr th:only-of-type {\n",
       "        vertical-align: middle;\n",
       "    }\n",
       "\n",
       "    .dataframe tbody tr th {\n",
       "        vertical-align: top;\n",
       "    }\n",
       "\n",
       "    .dataframe thead th {\n",
       "        text-align: right;\n",
       "    }\n",
       "</style>\n",
       "<table border=\"1\" class=\"dataframe\">\n",
       "  <thead>\n",
       "    <tr style=\"text-align: right;\">\n",
       "      <th></th>\n",
       "      <th>train</th>\n",
       "      <th>test</th>\n",
       "      <th>f1</th>\n",
       "    </tr>\n",
       "  </thead>\n",
       "  <tbody>\n",
       "    <tr>\n",
       "      <th>Logistic Regression</th>\n",
       "      <td>0.830986</td>\n",
       "      <td>0.796935</td>\n",
       "      <td>0.348387</td>\n",
       "    </tr>\n",
       "    <tr>\n",
       "      <th>Quadratic Discriminant Analysis</th>\n",
       "      <td>0.216389</td>\n",
       "      <td>0.229885</td>\n",
       "      <td>0.348387</td>\n",
       "    </tr>\n",
       "    <tr>\n",
       "      <th>AdaBoost</th>\n",
       "      <td>0.819462</td>\n",
       "      <td>0.793103</td>\n",
       "      <td>0.333333</td>\n",
       "    </tr>\n",
       "    <tr>\n",
       "      <th>Random Forest</th>\n",
       "      <td>0.965429</td>\n",
       "      <td>0.785441</td>\n",
       "      <td>0.319149</td>\n",
       "    </tr>\n",
       "    <tr>\n",
       "      <th>Linear SVM</th>\n",
       "      <td>0.816901</td>\n",
       "      <td>0.789272</td>\n",
       "      <td>0.240000</td>\n",
       "    </tr>\n",
       "    <tr>\n",
       "      <th>Nearest Neighbors</th>\n",
       "      <td>0.854033</td>\n",
       "      <td>0.781609</td>\n",
       "      <td>0.208955</td>\n",
       "    </tr>\n",
       "    <tr>\n",
       "      <th>Naive Bayes</th>\n",
       "      <td>0.216389</td>\n",
       "      <td>0.226054</td>\n",
       "      <td>0.205882</td>\n",
       "    </tr>\n",
       "    <tr>\n",
       "      <th>RBF SVM</th>\n",
       "      <td>0.816901</td>\n",
       "      <td>0.789272</td>\n",
       "      <td>0.190476</td>\n",
       "    </tr>\n",
       "    <tr>\n",
       "      <th>Polynomial SVM</th>\n",
       "      <td>0.845070</td>\n",
       "      <td>0.804598</td>\n",
       "      <td>0.000000</td>\n",
       "    </tr>\n",
       "    <tr>\n",
       "      <th>Sigmoid SVM</th>\n",
       "      <td>0.816901</td>\n",
       "      <td>0.789272</td>\n",
       "      <td>0.000000</td>\n",
       "    </tr>\n",
       "    <tr>\n",
       "      <th>Decision Tree</th>\n",
       "      <td>0.965429</td>\n",
       "      <td>0.754789</td>\n",
       "      <td>0.000000</td>\n",
       "    </tr>\n",
       "  </tbody>\n",
       "</table>\n",
       "</div>"
      ],
      "text/plain": [
       "                                    train      test        f1\n",
       "Logistic Regression              0.830986  0.796935  0.348387\n",
       "Quadratic Discriminant Analysis  0.216389  0.229885  0.348387\n",
       "AdaBoost                         0.819462  0.793103  0.333333\n",
       "Random Forest                    0.965429  0.785441  0.319149\n",
       "Linear SVM                       0.816901  0.789272  0.240000\n",
       "Nearest Neighbors                0.854033  0.781609  0.208955\n",
       "Naive Bayes                      0.216389  0.226054  0.205882\n",
       "RBF SVM                          0.816901  0.789272  0.190476\n",
       "Polynomial SVM                   0.845070  0.804598  0.000000\n",
       "Sigmoid SVM                      0.816901  0.789272  0.000000\n",
       "Decision Tree                    0.965429  0.754789  0.000000"
      ]
     },
     "metadata": {},
     "output_type": "display_data"
    },
    {
     "data": {
      "image/png": "[encoded data removed]",
      "text/plain": [
       "<Figure size 432x288 with 2 Axes>"
      ]
     },
     "metadata": {
      "needs_background": "light"
     },
     "output_type": "display_data"
    },
    {
     "data": {
      "image/png": "[encoded data removed]",
      "text/plain": [
       "<Figure size 432x288 with 2 Axes>"
      ]
     },
     "metadata": {
      "needs_background": "light"
     },
     "output_type": "display_data"
    },
    {
     "data": {
      "image/png": "[encoded data removed]",
      "text/plain": [
       "<Figure size 432x288 with 2 Axes>"
      ]
     },
     "metadata": {
      "needs_background": "light"
     },
     "output_type": "display_data"
    },
    {
     "data": {
      "image/png": "[encoded data removed]",
      "text/plain": [
       "<Figure size 432x288 with 2 Axes>"
      ]
     },
     "metadata": {
      "needs_background": "light"
     },
     "output_type": "display_data"
    },
    {
     "data": {
      "image/png": "[encoded data removed]",
      "text/plain": [
       "<Figure size 432x288 with 2 Axes>"
      ]
     },
     "metadata": {
      "needs_background": "light"
     },
     "output_type": "display_data"
    },
    {
     "data": {
      "image/png": "[encoded data removed]",
      "text/plain": [
       "<Figure size 432x288 with 2 Axes>"
      ]
     },
     "metadata": {
      "needs_background": "light"
     },
     "output_type": "display_data"
    },
    {
     "data": {
      "image/png": "[encoded data removed]",
      "text/plain": [
       "<Figure size 432x288 with 2 Axes>"
      ]
     },
     "metadata": {
      "needs_background": "light"
     },
     "output_type": "display_data"
    },
    {
     "data": {
      "image/png": "[encoded data removed]",
      "text/plain": [
       "<Figure size 432x288 with 2 Axes>"
      ]
     },
     "metadata": {
      "needs_background": "light"
     },
     "output_type": "display_data"
    },
    {
     "data": {
      "image/png": "[encoded data removed]",
      "text/plain": [
       "<Figure size 432x288 with 2 Axes>"
      ]
     },
     "metadata": {
      "needs_background": "light"
     },
     "output_type": "display_data"
    },
    {
     "data": {
      "image/png": "[encoded data removed]",
      "text/plain": [
       "<Figure size 432x288 with 2 Axes>"
      ]
     },
     "metadata": {
      "needs_background": "light"
     },
     "output_type": "display_data"
    },
    {
     "data": {
      "image/png": "[encoded data removed]",
      "text/plain": [
       "<Figure size 432x288 with 2 Axes>"
      ]
     },
     "metadata": {
      "needs_background": "light"
     },
     "output_type": "display_data"
    }
   ],
   "source": [
    "result = []\n",
    "for name, clf in zip(names, classifiers):  # 指定した複数の分類機を順番に呼び出す\n",
    "    # display(name)\n",
    "    clf.fit(X_train, y_train)  # 学習\n",
    "    score_train = clf.score(X_train, y_train)  # 正解率（train）の算出\n",
    "    score_test = clf.score(X_test, y_test)  # 正解率（test）の算出\n",
    "    score_f1 = f1_score(y_test, y_pred)\n",
    "    y_pred = clf.predict(X_test)\n",
    "    show_confusion_matrix(y_test, y_pred, model_name=name)\n",
    "    result.append([score_train, score_test, score_f1])  # 結果の格納\n",
    "    # display(\"-----\" * 10)\n",
    "\n",
    "df_result = pd.DataFrame(\n",
    "    result, columns=[\"train\", \"test\", \"f1\"], index=names\n",
    ").sort_values(\"f1\", ascending=False)\n",
    "\n",
    "display(df_result)"
   ]
  },
  {
   "cell_type": "markdown",
   "id": "9c0b3ad0-1e9e-431f-b9a7-bd990b7219e7",
   "metadata": {},
   "source": [
    "# ロジスティック回帰モデル\n",
    "\n",
    "発生確率を予測する手法  \n",
    "予測結果が0~1の間を取る  "
   ]
  },
  {
   "cell_type": "code",
   "execution_count": 28,
   "id": "3b047d93-a522-417c-b241-c251f352c8ca",
   "metadata": {},
   "outputs": [
    {
     "name": "stderr",
     "output_type": "stream",
     "text": [
      "/home/mono-clone/anaconda3/envs/breast-cancer-analytics/lib/python3.8/site-packages/sklearn/linear_model/_logistic.py:814: ConvergenceWarning: lbfgs failed to converge (status=1):\n",
      "STOP: TOTAL NO. of ITERATIONS REACHED LIMIT.\n",
      "\n",
      "Increase the number of iterations (max_iter) or scale the data as shown in:\n",
      "    https://scikit-learn.org/stable/modules/preprocessing.html\n",
      "Please also refer to the documentation for alternative solver options:\n",
      "    https://scikit-learn.org/stable/modules/linear_model.html#logistic-regression\n",
      "  n_iter_i = _check_optimize_result(\n"
     ]
    },
    {
     "data": {
      "text/plain": [
       "0.8309859154929577"
      ]
     },
     "execution_count": 28,
     "metadata": {},
     "output_type": "execute_result"
    }
   ],
   "source": [
    "clf_lr = LogisticRegression()\n",
    "clf_lr.fit(X_train, y_train)\n",
    "# 訓練データでの正答率\n",
    "clf_lr.score(X_train, y_train)"
   ]
  },
  {
   "cell_type": "code",
   "execution_count": 30,
   "id": "f1952e82-a27a-4335-99cc-dda9ce2cca4f",
   "metadata": {},
   "outputs": [
    {
     "name": "stdout",
     "output_type": "stream",
     "text": [
      "tn:  0.02681992337164751 \n",
      "fp:  0.1839080459770115 \n",
      "fn: 0.019157088122605363 \n",
      "tp: 0.7701149425287356\n",
      "accuracy:  0.7969348659003831\n",
      "precision:  0.5833333333333334\n",
      "recall:  0.12727272727272726\n",
      "f1 score:  0.20895522388059698\n"
     ]
    },
    {
     "data": {
      "image/png": "[encoded data removed]",
      "text/plain": [
       "<Figure size 432x288 with 2 Axes>"
      ]
     },
     "metadata": {
      "needs_background": "light"
     },
     "output_type": "display_data"
    }
   ],
   "source": [
    "y_pred_lr = clf_lr.predict(X_test)\n",
    "show_confusion_matrix(y_test, y_pred_lr)"
   ]
  },
  {
   "cell_type": "markdown",
   "id": "7f3f206b-129f-40b1-8701-be9547b937f2",
   "metadata": {
    "tags": []
   },
   "source": [
    "# 決定木モデル\n",
    " \n",
    "sklearnの決定木モデルを作成する。  \n",
    "精度の高いモデルを選びたいので、葉の数を2~50まで変動させ、accuracyを見る"
   ]
  },
  {
   "cell_type": "markdown",
   "id": "6a460865-484f-46ae-a4b7-392ea05d52cc",
   "metadata": {
    "tags": []
   },
   "source": [
    "## 決定木モデルの構築・検証\n",
    "\n",
    "決定木モデルを構築し、検証していく。  \n",
    "パラメータを操作するため、forループで回し、最もスコアの高いものを見ていく。k\n"
   ]
  },
  {
   "cell_type": "code",
   "execution_count": 20,
   "id": "ae31e21e-a105-4db8-9e12-9471b528cdf5",
   "metadata": {
    "collapsed": true,
    "jupyter": {
     "outputs_hidden": true
    },
    "tags": []
   },
   "outputs": [
    {
     "name": "stderr",
     "output_type": "stream",
     "text": [
      "/home/mono-clone/anaconda3/envs/breast-cancer-analytics/lib/python3.8/site-packages/sklearn/metrics/_classification.py:1318: UndefinedMetricWarning: Precision is ill-defined and being set to 0.0 due to no predicted samples. Use `zero_division` parameter to control this behavior.\n",
      "  _warn_prf(average, modifier, msg_start, len(result))\n",
      "/home/mono-clone/anaconda3/envs/breast-cancer-analytics/lib/python3.8/site-packages/sklearn/metrics/_classification.py:1318: UndefinedMetricWarning: Precision is ill-defined and being set to 0.0 due to no predicted samples. Use `zero_division` parameter to control this behavior.\n",
      "  _warn_prf(average, modifier, msg_start, len(result))\n",
      "/home/mono-clone/anaconda3/envs/breast-cancer-analytics/lib/python3.8/site-packages/sklearn/metrics/_classification.py:1318: UndefinedMetricWarning: Precision is ill-defined and being set to 0.0 due to no predicted samples. Use `zero_division` parameter to control this behavior.\n",
      "  _warn_prf(average, modifier, msg_start, len(result))\n",
      "/home/mono-clone/anaconda3/envs/breast-cancer-analytics/lib/python3.8/site-packages/sklearn/metrics/_classification.py:1318: UndefinedMetricWarning: Precision is ill-defined and being set to 0.0 due to no predicted samples. Use `zero_division` parameter to control this behavior.\n",
      "  _warn_prf(average, modifier, msg_start, len(result))\n",
      "/home/mono-clone/anaconda3/envs/breast-cancer-analytics/lib/python3.8/site-packages/sklearn/metrics/_classification.py:1318: UndefinedMetricWarning: Precision is ill-defined and being set to 0.0 due to no predicted samples. Use `zero_division` parameter to control this behavior.\n",
      "  _warn_prf(average, modifier, msg_start, len(result))\n",
      "/home/mono-clone/anaconda3/envs/breast-cancer-analytics/lib/python3.8/site-packages/sklearn/metrics/_classification.py:1318: UndefinedMetricWarning: Precision is ill-defined and being set to 0.0 due to no predicted samples. Use `zero_division` parameter to control this behavior.\n",
      "  _warn_prf(average, modifier, msg_start, len(result))\n"
     ]
    },
    {
     "name": "stdout",
     "output_type": "stream",
     "text": [
      "nodes_num:  2\n",
      "accuracy:  0.789272030651341\n",
      "precision:  0.0\n",
      "recall:  0.0\n",
      "f1 score:  0.0\n",
      "----------------------------------------------------------------------------------------------------\n",
      "nodes_num:  3\n",
      "accuracy:  0.789272030651341\n",
      "precision:  0.0\n",
      "recall:  0.0\n",
      "f1 score:  0.0\n",
      "----------------------------------------------------------------------------------------------------\n",
      "nodes_num:  4\n",
      "accuracy:  0.789272030651341\n",
      "precision:  0.0\n",
      "recall:  0.0\n",
      "f1 score:  0.0\n",
      "----------------------------------------------------------------------------------------------------\n",
      "nodes_num:  5\n",
      "accuracy:  0.8045977011494253\n",
      "precision:  0.6\n",
      "recall:  0.21818181818181817\n",
      "f1 score:  0.32\n",
      "----------------------------------------------------------------------------------------------------\n",
      "nodes_num:  6\n",
      "accuracy:  0.8045977011494253\n",
      "precision:  0.5833333333333334\n",
      "recall:  0.2545454545454545\n",
      "f1 score:  0.3544303797468354\n",
      "----------------------------------------------------------------------------------------------------\n",
      "nodes_num:  7\n",
      "accuracy:  0.7969348659003831\n",
      "precision:  0.5384615384615384\n",
      "recall:  0.2545454545454545\n",
      "f1 score:  0.345679012345679\n",
      "----------------------------------------------------------------------------------------------------\n",
      "nodes_num:  8\n",
      "accuracy:  0.8007662835249042\n",
      "precision:  0.56\n",
      "recall:  0.2545454545454545\n",
      "f1 score:  0.35\n",
      "----------------------------------------------------------------------------------------------------\n",
      "nodes_num:  9\n",
      "accuracy:  0.8007662835249042\n",
      "precision:  0.56\n",
      "recall:  0.2545454545454545\n",
      "f1 score:  0.35\n",
      "----------------------------------------------------------------------------------------------------\n",
      "nodes_num:  10\n",
      "accuracy:  0.8199233716475096\n",
      "precision:  0.7\n",
      "recall:  0.2545454545454545\n",
      "f1 score:  0.3733333333333333\n",
      "----------------------------------------------------------------------------------------------------\n",
      "nodes_num:  11\n",
      "accuracy:  0.8084291187739464\n",
      "precision:  0.6086956521739131\n",
      "recall:  0.2545454545454545\n",
      "f1 score:  0.358974358974359\n",
      "----------------------------------------------------------------------------------------------------\n",
      "nodes_num:  12\n",
      "accuracy:  0.8084291187739464\n",
      "precision:  0.6086956521739131\n",
      "recall:  0.2545454545454545\n",
      "f1 score:  0.358974358974359\n",
      "----------------------------------------------------------------------------------------------------\n",
      "nodes_num:  13\n",
      "accuracy:  0.8084291187739464\n",
      "precision:  0.6086956521739131\n",
      "recall:  0.2545454545454545\n",
      "f1 score:  0.358974358974359\n",
      "----------------------------------------------------------------------------------------------------\n",
      "nodes_num:  14\n",
      "accuracy:  0.8084291187739464\n",
      "precision:  0.6086956521739131\n",
      "recall:  0.2545454545454545\n",
      "f1 score:  0.358974358974359\n",
      "----------------------------------------------------------------------------------------------------\n",
      "nodes_num:  15\n",
      "accuracy:  0.8007662835249042\n",
      "precision:  0.56\n",
      "recall:  0.2545454545454545\n",
      "f1 score:  0.35\n",
      "----------------------------------------------------------------------------------------------------\n",
      "nodes_num:  16\n",
      "accuracy:  0.7969348659003831\n",
      "precision:  0.5384615384615384\n",
      "recall:  0.2545454545454545\n",
      "f1 score:  0.345679012345679\n",
      "----------------------------------------------------------------------------------------------------\n",
      "nodes_num:  17\n",
      "accuracy:  0.7969348659003831\n",
      "precision:  0.5384615384615384\n",
      "recall:  0.2545454545454545\n",
      "f1 score:  0.345679012345679\n",
      "----------------------------------------------------------------------------------------------------\n",
      "nodes_num:  18\n",
      "accuracy:  0.8007662835249042\n",
      "precision:  0.56\n",
      "recall:  0.2545454545454545\n",
      "f1 score:  0.35\n",
      "----------------------------------------------------------------------------------------------------\n",
      "nodes_num:  19\n",
      "accuracy:  0.8007662835249042\n",
      "precision:  0.56\n",
      "recall:  0.2545454545454545\n",
      "f1 score:  0.35\n",
      "----------------------------------------------------------------------------------------------------\n",
      "nodes_num:  20\n",
      "accuracy:  0.8007662835249042\n",
      "precision:  0.56\n",
      "recall:  0.2545454545454545\n",
      "f1 score:  0.35\n",
      "----------------------------------------------------------------------------------------------------\n",
      "nodes_num:  21\n",
      "accuracy:  0.8007662835249042\n",
      "precision:  0.56\n",
      "recall:  0.2545454545454545\n",
      "f1 score:  0.35\n",
      "----------------------------------------------------------------------------------------------------\n",
      "nodes_num:  22\n",
      "accuracy:  0.8007662835249042\n",
      "precision:  0.56\n",
      "recall:  0.2545454545454545\n",
      "f1 score:  0.35\n",
      "----------------------------------------------------------------------------------------------------\n",
      "nodes_num:  23\n",
      "accuracy:  0.8007662835249042\n",
      "precision:  0.56\n",
      "recall:  0.2545454545454545\n",
      "f1 score:  0.35\n",
      "----------------------------------------------------------------------------------------------------\n",
      "nodes_num:  24\n",
      "accuracy:  0.8007662835249042\n",
      "precision:  0.56\n",
      "recall:  0.2545454545454545\n",
      "f1 score:  0.35\n",
      "----------------------------------------------------------------------------------------------------\n",
      "nodes_num:  25\n",
      "accuracy:  0.7969348659003831\n",
      "precision:  0.5333333333333333\n",
      "recall:  0.2909090909090909\n",
      "f1 score:  0.3764705882352941\n",
      "----------------------------------------------------------------------------------------------------\n",
      "nodes_num:  26\n",
      "accuracy:  0.7969348659003831\n",
      "precision:  0.5333333333333333\n",
      "recall:  0.2909090909090909\n",
      "f1 score:  0.3764705882352941\n",
      "----------------------------------------------------------------------------------------------------\n",
      "nodes_num:  27\n",
      "accuracy:  0.7931034482758621\n",
      "precision:  0.5161290322580645\n",
      "recall:  0.2909090909090909\n",
      "f1 score:  0.37209302325581395\n",
      "----------------------------------------------------------------------------------------------------\n",
      "nodes_num:  28\n",
      "accuracy:  0.7931034482758621\n",
      "precision:  0.5161290322580645\n",
      "recall:  0.2909090909090909\n",
      "f1 score:  0.37209302325581395\n",
      "----------------------------------------------------------------------------------------------------\n",
      "nodes_num:  29\n",
      "accuracy:  0.7931034482758621\n",
      "precision:  0.5172413793103449\n",
      "recall:  0.2727272727272727\n",
      "f1 score:  0.3571428571428571\n",
      "----------------------------------------------------------------------------------------------------\n",
      "nodes_num:  30\n",
      "accuracy:  0.7931034482758621\n",
      "precision:  0.5185185185185185\n",
      "recall:  0.2545454545454545\n",
      "f1 score:  0.3414634146341463\n",
      "----------------------------------------------------------------------------------------------------\n",
      "nodes_num:  31\n",
      "accuracy:  0.7931034482758621\n",
      "precision:  0.5185185185185185\n",
      "recall:  0.2545454545454545\n",
      "f1 score:  0.3414634146341463\n",
      "----------------------------------------------------------------------------------------------------\n",
      "nodes_num:  32\n",
      "accuracy:  0.7931034482758621\n",
      "precision:  0.5185185185185185\n",
      "recall:  0.2545454545454545\n",
      "f1 score:  0.3414634146341463\n",
      "----------------------------------------------------------------------------------------------------\n",
      "nodes_num:  33\n",
      "accuracy:  0.7931034482758621\n",
      "precision:  0.5185185185185185\n",
      "recall:  0.2545454545454545\n",
      "f1 score:  0.3414634146341463\n",
      "----------------------------------------------------------------------------------------------------\n",
      "nodes_num:  34\n",
      "accuracy:  0.7854406130268199\n",
      "precision:  0.4827586206896552\n",
      "recall:  0.2545454545454545\n",
      "f1 score:  0.33333333333333337\n",
      "----------------------------------------------------------------------------------------------------\n",
      "nodes_num:  35\n",
      "accuracy:  0.7854406130268199\n",
      "precision:  0.4827586206896552\n",
      "recall:  0.2545454545454545\n",
      "f1 score:  0.33333333333333337\n",
      "----------------------------------------------------------------------------------------------------\n",
      "nodes_num:  36\n",
      "accuracy:  0.7854406130268199\n",
      "precision:  0.4827586206896552\n",
      "recall:  0.2545454545454545\n",
      "f1 score:  0.33333333333333337\n",
      "----------------------------------------------------------------------------------------------------\n",
      "nodes_num:  37\n",
      "accuracy:  0.7854406130268199\n",
      "precision:  0.4827586206896552\n",
      "recall:  0.2545454545454545\n",
      "f1 score:  0.33333333333333337\n",
      "----------------------------------------------------------------------------------------------------\n",
      "nodes_num:  38\n",
      "accuracy:  0.7816091954022989\n",
      "precision:  0.4666666666666667\n",
      "recall:  0.2545454545454545\n",
      "f1 score:  0.32941176470588235\n",
      "----------------------------------------------------------------------------------------------------\n",
      "nodes_num:  39\n",
      "accuracy:  0.7816091954022989\n",
      "precision:  0.4666666666666667\n",
      "recall:  0.2545454545454545\n",
      "f1 score:  0.32941176470588235\n",
      "----------------------------------------------------------------------------------------------------\n",
      "nodes_num:  40\n",
      "accuracy:  0.7777777777777778\n",
      "precision:  0.45161290322580644\n",
      "recall:  0.2545454545454545\n",
      "f1 score:  0.32558139534883723\n",
      "----------------------------------------------------------------------------------------------------\n",
      "nodes_num:  41\n",
      "accuracy:  0.7777777777777778\n",
      "precision:  0.45161290322580644\n",
      "recall:  0.2545454545454545\n",
      "f1 score:  0.32558139534883723\n",
      "----------------------------------------------------------------------------------------------------\n",
      "nodes_num:  42\n",
      "accuracy:  0.7777777777777778\n",
      "precision:  0.45161290322580644\n",
      "recall:  0.2545454545454545\n",
      "f1 score:  0.32558139534883723\n",
      "----------------------------------------------------------------------------------------------------\n",
      "nodes_num:  43\n",
      "accuracy:  0.7816091954022989\n",
      "precision:  0.4666666666666667\n",
      "recall:  0.2545454545454545\n",
      "f1 score:  0.32941176470588235\n",
      "----------------------------------------------------------------------------------------------------\n",
      "nodes_num:  44\n",
      "accuracy:  0.7816091954022989\n",
      "precision:  0.4666666666666667\n",
      "recall:  0.2545454545454545\n",
      "f1 score:  0.32941176470588235\n",
      "----------------------------------------------------------------------------------------------------\n",
      "nodes_num:  45\n",
      "accuracy:  0.7854406130268199\n",
      "precision:  0.4827586206896552\n",
      "recall:  0.2545454545454545\n",
      "f1 score:  0.33333333333333337\n",
      "----------------------------------------------------------------------------------------------------\n",
      "nodes_num:  46\n",
      "accuracy:  0.7854406130268199\n",
      "precision:  0.4827586206896552\n",
      "recall:  0.2545454545454545\n",
      "f1 score:  0.33333333333333337\n",
      "----------------------------------------------------------------------------------------------------\n",
      "nodes_num:  47\n",
      "accuracy:  0.7854406130268199\n",
      "precision:  0.4838709677419355\n",
      "recall:  0.2727272727272727\n",
      "f1 score:  0.3488372093023256\n",
      "----------------------------------------------------------------------------------------------------\n",
      "nodes_num:  48\n",
      "accuracy:  0.7854406130268199\n",
      "precision:  0.4838709677419355\n",
      "recall:  0.2727272727272727\n",
      "f1 score:  0.3488372093023256\n",
      "----------------------------------------------------------------------------------------------------\n",
      "nodes_num:  49\n",
      "accuracy:  0.7854406130268199\n",
      "precision:  0.4838709677419355\n",
      "recall:  0.2727272727272727\n",
      "f1 score:  0.3488372093023256\n",
      "----------------------------------------------------------------------------------------------------\n"
     ]
    }
   ],
   "source": [
    "accuracies_tree = {}\n",
    "precisions_tree = {}\n",
    "recalls_tree = {}\n",
    "f1_scores_tree = {}\n",
    "\n",
    "for nodes_num in range(2, 50):\n",
    "    clf_tree = DecisionTreeClassifier(\n",
    "        max_leaf_nodes=nodes_num, random_state=config.SEED\n",
    "    )\n",
    "    clf_tree = clf_tree.fit(X_train, y_train)\n",
    "\n",
    "    y_pred_tree = clf_tree.predict(X_test)\n",
    "\n",
    "    accuracies_tree[nodes_num] = accuracy_score(y_test, y_pred_tree)\n",
    "    precisions_tree[nodes_num] = precision_score(y_test, y_pred_tree)\n",
    "    recalls_tree[nodes_num] = recall_score(y_test, y_pred_tree)\n",
    "    f1_scores_tree[nodes_num] = f1_score(y_test, y_pred_tree)\n",
    "\n",
    "    print(\"nodes_num: \", nodes_num)\n",
    "    show_scores(y_test, y_pred_tree)\n",
    "    print(\"----------\" * 10)"
   ]
  },
  {
   "cell_type": "code",
   "execution_count": 21,
   "id": "85c43bcb-9510-4cef-83b8-8efca236cab9",
   "metadata": {},
   "outputs": [
    {
     "data": {
      "text/plain": [
       "'max nodes_num'"
      ]
     },
     "metadata": {},
     "output_type": "display_data"
    },
    {
     "data": {
      "text/plain": [
       "10"
      ]
     },
     "metadata": {},
     "output_type": "display_data"
    },
    {
     "data": {
      "text/plain": [
       "10"
      ]
     },
     "metadata": {},
     "output_type": "display_data"
    },
    {
     "data": {
      "text/plain": [
       "25"
      ]
     },
     "metadata": {},
     "output_type": "display_data"
    },
    {
     "data": {
      "text/plain": [
       "25"
      ]
     },
     "metadata": {},
     "output_type": "display_data"
    },
    {
     "name": "stdout",
     "output_type": "stream",
     "text": [
      "accuracy:  0.7969348659003831\n",
      "precision:  0.5333333333333333\n",
      "recall:  0.2909090909090909\n",
      "f1_score:  0.3764705882352941\n"
     ]
    },
    {
     "data": {
      "text/plain": [
       "Text(0, 0.5, 'score')"
      ]
     },
     "execution_count": 21,
     "metadata": {},
     "output_type": "execute_result"
    },
    {
     "data": {
      "image/png": "[encoded data removed]",
      "text/plain": [
       "<Figure size 432x288 with 1 Axes>"
      ]
     },
     "metadata": {
      "needs_background": "light"
     },
     "output_type": "display_data"
    }
   ],
   "source": [
    "# 各スコアのプロット\n",
    "display(\n",
    "    \"max nodes_num\",\n",
    "    max(accuracies_tree, key=accuracies_tree.get),\n",
    "    max(precisions_tree, key=precisions_tree.get),\n",
    "    max(recalls_tree, key=recalls_tree.get),\n",
    "    max(f1_scores_tree, key=f1_scores_tree.get),\n",
    ")\n",
    "\n",
    "# f1_scoreが最も高いモデルのスコア\n",
    "print(\n",
    "    \"accuracy: \",\n",
    "    accuracies_tree[max(f1_scores_tree, key=f1_scores_tree.get)],\n",
    ")\n",
    "print(\n",
    "    \"precision: \",\n",
    "    precisions_tree[max(f1_scores_tree, key=f1_scores_tree.get)],\n",
    ")\n",
    "print(\n",
    "    \"recall: \",\n",
    "    recalls_tree[max(f1_scores_tree, key=f1_scores_tree.get)],\n",
    ")\n",
    "print(\n",
    "    \"f1_score: \",\n",
    "    f1_scores_tree[max(f1_scores_tree, key=f1_scores_tree.get)],\n",
    ")\n",
    "\n",
    "df_score_tree = pd.DataFrame(\n",
    "    [accuracies_tree, precisions_tree, recalls_tree, f1_scores_tree],\n",
    "    index=[\"accuracy\", \"precision\", \"recall\", \"f1 score\"],\n",
    "    columns=accuracies_tree.keys(),\n",
    ").T\n",
    "p = sns.lineplot(data=df_score_tree)\n",
    "p.set_xlabel(\"nodes_nums\", fontsize=20)\n",
    "p.set_ylabel(\"score\", fontsize=20)"
   ]
  },
  {
   "cell_type": "code",
   "execution_count": 25,
   "id": "02f1fcd8-14df-44ff-be1d-6db19bdfce0f",
   "metadata": {},
   "outputs": [
    {
     "name": "stdout",
     "output_type": "stream",
     "text": [
      "tn:  0.06130268199233716 \n",
      "fp:  0.14942528735632185 \n",
      "fn: 0.05363984674329502 \n",
      "tp: 0.735632183908046\n",
      "accuracy:  0.7969348659003831\n",
      "precision:  0.5333333333333333\n",
      "recall:  0.2909090909090909\n",
      "f1 score:  0.3764705882352941\n"
     ]
    },
    {
     "data": {
      "image/png": "[encoded data removed]",
      "text/plain": [
       "<Figure size 432x288 with 2 Axes>"
      ]
     },
     "metadata": {
      "needs_background": "light"
     },
     "output_type": "display_data"
    }
   ],
   "source": [
    "clf_tree = DecisionTreeClassifier(\n",
    "    max_leaf_nodes=max(f1_scores_tree, key=f1_scores_tree.get),\n",
    "    random_state=config.SEED,\n",
    ")\n",
    "clf_tree = clf_tree.fit(X_train, y_train)\n",
    "y_pred_tree = clf_tree.predict(X_test)\n",
    "show_confusion_matrix(y_test, y_pred_tree)"
   ]
  },
  {
   "cell_type": "code",
   "execution_count": null,
   "id": "97bef53c-e6c0-4a0f-8e4d-9ab869afe507",
   "metadata": {},
   "outputs": [],
   "source": []
  }
 ],
 "metadata": {
  "interpreter": {
   "hash": "6cecfcb002507d68feb988228d86e9c6727afe09fa1042e3327ddeb41aee6fc4"
  },
  "kernelspec": {
   "display_name": "Python 3 (ipykernel)",
   "language": "python",
   "name": "python3"
  },
  "language_info": {
   "codemirror_mode": {
    "name": "ipython",
    "version": 3
   },
   "file_extension": ".py",
   "mimetype": "text/x-python",
   "name": "python",
   "nbconvert_exporter": "python",
   "pygments_lexer": "ipython3",
   "version": "3.8.13"
  }
 },
 "nbformat": 4,
 "nbformat_minor": 5
}
