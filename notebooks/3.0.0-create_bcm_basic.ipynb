{
 "cells": [
  {
   "cell_type": "markdown",
   "id": "633b5102-aadc-4650-a1de-4a44c7a819f5",
   "metadata": {},
   "source": [
    "# クラス分類学習モデルの作成、予測の実行"
   ]
  },
  {
   "cell_type": "code",
   "execution_count": 1,
   "id": "36b0899c-856f-4042-a5df-a6127b49c306",
   "metadata": {},
   "outputs": [],
   "source": [
    "import os\n",
    "import random\n",
    "\n",
    "# basic DS libraries\n",
    "import numpy as np\n",
    "import pandas as pd\n",
    "import scipy as sp\n",
    "from scipy import stats\n",
    "\n",
    "# plot libraries\n",
    "import matplotlib.pyplot as plt\n",
    "import seaborn as sns\n",
    "\n",
    "%matplotlib inline\n",
    "import graphviz\n",
    "import pydotplus\n",
    "from IPython.display import Image\n",
    "from six import StringIO\n",
    "\n",
    "# from sklearn.decomposition import PCA  # 主成分分析\n",
    "\n",
    "# 機械学習モデル\n",
    "from sklearn.linear_model import LogisticRegression  # ロジスティック回帰\n",
    "from sklearn.neighbors import KNeighborsClassifier  # K近傍法\n",
    "from sklearn.svm import SVC  # サポートベクターマシン\n",
    "from sklearn.tree import DecisionTreeClassifier, export_graphviz  # 決定木\n",
    "from sklearn.ensemble import RandomForestClassifier  # ランダムフォレスト\n",
    "from sklearn.ensemble import AdaBoostClassifier  # AdaBoost\n",
    "from sklearn.naive_bayes import GaussianNB  # ナイーブ・ベイズ\n",
    "from sklearn.decomposition import LatentDirichletAllocation as LDA  # 線形判別分析\n",
    "from sklearn.discriminant_analysis import QuadraticDiscriminantAnalysis as QDA  # 二次判別分析\n",
    "\n",
    "# データセット分割・評価検証\n",
    "from sklearn.model_selection import train_test_split\n",
    "from sklearn.metrics import roc_auc_score\n",
    "from sklearn.metrics import accuracy_score, precision_score, recall_score, f1_score\n",
    "from sklearn.metrics import confusion_matrix, ConfusionMatrixDisplay\n",
    "\n",
    "# config python file\n",
    "import config\n",
    "\n",
    "# 最大表示列数の指定（ここでは50列を指定）\n",
    "pd.set_option(\"display.max_columns\", 50)\n",
    "pd.set_option(\"display.max_rows\", 50)\n",
    "\n",
    "# ファイル保存関数（dirがなければ生成する）\n",
    "def make_dir(dir_name: str):\n",
    "    if not os.path.exists(dir_name):\n",
    "        os.makedirs(dir_name)\n",
    "\n",
    "\n",
    "# seedの固定\n",
    "def fix_seed(seed: int):\n",
    "    # random\n",
    "    random.seed(seed)\n",
    "    # Numpy\n",
    "    np.random.seed(seed)\n",
    "\n",
    "\n",
    "# 再現性をもたせるためのseed固定\n",
    "SEED = config.SEED\n",
    "fix_seed(SEED)"
   ]
  },
  {
   "cell_type": "markdown",
   "id": "a9c889e6-7479-4c13-8496-c8817af4bb64",
   "metadata": {
    "tags": []
   },
   "source": [
    "# 2値分類モデルの作成・実行\n",
    "\n",
    "2値分類モデルを作成、実行し、クラス分類に有用な特徴量を見つける  \n",
    "決定木以外にも、基本的な2値分類を実施できるモデルを採用し、各モデル間で比較していく。  \n",
    "精度は重視しないが、accuracyよりもf1スコアを重視する。  \n",
    "目的変数に偏りがある（不均衡データ、1（5年後以内に死亡）<0（5年語以内に生存））ので、**サンプリング方法を要検討**"
   ]
  },
  {
   "cell_type": "code",
   "execution_count": 2,
   "id": "ab1084e7-07ff-4862-b7cc-5f4ddb9acab9",
   "metadata": {},
   "outputs": [
    {
     "name": "stdout",
     "output_type": "stream",
     "text": [
      "<class 'pandas.core.frame.DataFrame'>\n",
      "Int64Index: 1042 entries, 0 to 1123\n",
      "Data columns (total 56 columns):\n",
      " #   Column                                                          Non-Null Count  Dtype  \n",
      "---  ------                                                          --------------  -----  \n",
      " 0   LYMPH_NODES_EXAMINED_POSITIVE                                   1042 non-null   float64\n",
      " 1   NPI                                                             1042 non-null   float64\n",
      " 2   CELLULARITY                                                     1042 non-null   int64  \n",
      " 3   CHEMOTHERAPY                                                    1042 non-null   bool   \n",
      " 4   ER_IHC                                                          1042 non-null   int64  \n",
      " 5   HER2_SNP6                                                       1042 non-null   int64  \n",
      " 6   HORMONE_THERAPY                                                 1042 non-null   bool   \n",
      " 7   INFERRED_MENOPAUSAL_STATE                                       1042 non-null   int64  \n",
      " 8   AGE_AT_DIAGNOSIS                                                1042 non-null   float64\n",
      " 9   RADIO_THERAPY                                                   1042 non-null   bool   \n",
      " 10  ER_STATUS                                                       1042 non-null   int64  \n",
      " 11  HER2_STATUS                                                     1042 non-null   int64  \n",
      " 12  GRADE                                                           1042 non-null   float64\n",
      " 13  PR_STATUS                                                       1042 non-null   int64  \n",
      " 14  TUMOR_SIZE                                                      1042 non-null   float64\n",
      " 15  TUMOR_STAGE                                                     1042 non-null   float64\n",
      " 16  TMB_NONSYNONYMOUS                                               1042 non-null   float64\n",
      " 17  COHORT_2.0                                                      1042 non-null   float64\n",
      " 18  COHORT_3.0                                                      1042 non-null   float64\n",
      " 19  COHORT_5.0                                                      1042 non-null   float64\n",
      " 20  INTCLUST_10                                                     1042 non-null   float64\n",
      " 21  INTCLUST_2                                                      1042 non-null   float64\n",
      " 22  INTCLUST_3                                                      1042 non-null   float64\n",
      " 23  INTCLUST_4ER+                                                   1042 non-null   float64\n",
      " 24  INTCLUST_4ER-                                                   1042 non-null   float64\n",
      " 25  INTCLUST_5                                                      1042 non-null   float64\n",
      " 26  INTCLUST_6                                                      1042 non-null   float64\n",
      " 27  INTCLUST_7                                                      1042 non-null   float64\n",
      " 28  INTCLUST_8                                                      1042 non-null   float64\n",
      " 29  INTCLUST_9                                                      1042 non-null   float64\n",
      " 30  CLAUDIN_SUBTYPE_Her2                                            1042 non-null   float64\n",
      " 31  CLAUDIN_SUBTYPE_LumA                                            1042 non-null   float64\n",
      " 32  CLAUDIN_SUBTYPE_LumB                                            1042 non-null   float64\n",
      " 33  CLAUDIN_SUBTYPE_NC                                              1042 non-null   float64\n",
      " 34  CLAUDIN_SUBTYPE_Normal                                          1042 non-null   float64\n",
      " 35  CLAUDIN_SUBTYPE_claudin-low                                     1042 non-null   float64\n",
      " 36  THREEGENE_ER+/HER2- Low Prolif                                  1042 non-null   float64\n",
      " 37  THREEGENE_ER-/HER2-                                             1042 non-null   float64\n",
      " 38  THREEGENE_HER2+                                                 1042 non-null   float64\n",
      " 39  HISTOLOGICAL_SUBTYPE_Lobular                                    1042 non-null   float64\n",
      " 40  HISTOLOGICAL_SUBTYPE_Medullary                                  1042 non-null   float64\n",
      " 41  HISTOLOGICAL_SUBTYPE_Mixed                                      1042 non-null   float64\n",
      " 42  HISTOLOGICAL_SUBTYPE_Mucinous                                   1042 non-null   float64\n",
      " 43  HISTOLOGICAL_SUBTYPE_Other                                      1042 non-null   float64\n",
      " 44  HISTOLOGICAL_SUBTYPE_Tubular/ cribriform                        1042 non-null   float64\n",
      " 45  BREAST_SURGERY_MASTECTOMY                                       1042 non-null   float64\n",
      " 46  LATERALITY_Right                                                1042 non-null   float64\n",
      " 47  CANCER_TYPE_DETAILED_Breast Invasive Ductal Carcinoma           1042 non-null   float64\n",
      " 48  CANCER_TYPE_DETAILED_Breast Invasive Lobular Carcinoma          1042 non-null   float64\n",
      " 49  CANCER_TYPE_DETAILED_Breast Invasive Mixed Mucinous Carcinoma   1042 non-null   float64\n",
      " 50  CANCER_TYPE_DETAILED_Breast Mixed Ductal and Lobular Carcinoma  1042 non-null   float64\n",
      " 51  ONCOTREE_CODE_IDC                                               1042 non-null   float64\n",
      " 52  ONCOTREE_CODE_ILC                                               1042 non-null   float64\n",
      " 53  ONCOTREE_CODE_IMMC                                              1042 non-null   float64\n",
      " 54  ONCOTREE_CODE_MDLC                                              1042 non-null   float64\n",
      " 55  target                                                          1042 non-null   bool   \n",
      "dtypes: bool(4), float64(45), int64(7)\n",
      "memory usage: 435.5 KB\n"
     ]
    }
   ],
   "source": [
    "df_MB_OS_status_in_5years_dropped = pd.read_pickle(\n",
    "    config.INTERIM_PICKLE_PREPROCESSED_DIR\n",
    "    + \"/2.0.4-df_MB_OS_status_in_5years_dropped.pkl\"\n",
    ")\n",
    "df_MB_OS_status_in_5years_dropped.info()"
   ]
  },
  {
   "cell_type": "code",
   "execution_count": 3,
   "id": "ae06c182-7e97-4be4-873c-90236ed38608",
   "metadata": {},
   "outputs": [
    {
     "name": "stdout",
     "output_type": "stream",
     "text": [
      "False    844\n",
      "True     198\n",
      "Name: target, dtype: int64\n",
      "データセット全体に占める5年後の死亡者のデータの割合：  0.19001919385796545\n"
     ]
    }
   ],
   "source": [
    "print(df_MB_OS_status_in_5years_dropped.target.value_counts())\n",
    "\n",
    "print(\n",
    "    \"データセット全体に占める5年後の死亡者のデータの割合： \",\n",
    "    df_MB_OS_status_in_5years_dropped[\n",
    "        df_MB_OS_status_in_5years_dropped.target == True\n",
    "    ].shape[0]\n",
    "    / df_MB_OS_status_in_5years_dropped.shape[0],\n",
    ")"
   ]
  },
  {
   "cell_type": "markdown",
   "id": "b8342a98-3ec2-43a1-aead-1fc82555962d",
   "metadata": {},
   "source": [
    "# 学習データ分割\n",
    "\n",
    "1. X（説明変数）とy（目的変数）に分割(y=df['target'])\n",
    "2. train_test_splitによる基本的なデータ分割（train:test=75%:25%）※層化検証など他の分割手法は後で実施  "
   ]
  },
  {
   "cell_type": "code",
   "execution_count": 4,
   "id": "62ad5e33-02e4-4b6f-bc4d-df2daa1c6416",
   "metadata": {},
   "outputs": [
    {
     "data": {
      "text/html": [
       "<div>\n",
       "<style scoped>\n",
       "    .dataframe tbody tr th:only-of-type {\n",
       "        vertical-align: middle;\n",
       "    }\n",
       "\n",
       "    .dataframe tbody tr th {\n",
       "        vertical-align: top;\n",
       "    }\n",
       "\n",
       "    .dataframe thead th {\n",
       "        text-align: right;\n",
       "    }\n",
       "</style>\n",
       "<table border=\"1\" class=\"dataframe\">\n",
       "  <thead>\n",
       "    <tr style=\"text-align: right;\">\n",
       "      <th></th>\n",
       "      <th>LYMPH_NODES_EXAMINED_POSITIVE</th>\n",
       "      <th>NPI</th>\n",
       "      <th>CELLULARITY</th>\n",
       "      <th>CHEMOTHERAPY</th>\n",
       "      <th>ER_IHC</th>\n",
       "      <th>HER2_SNP6</th>\n",
       "      <th>HORMONE_THERAPY</th>\n",
       "      <th>INFERRED_MENOPAUSAL_STATE</th>\n",
       "      <th>AGE_AT_DIAGNOSIS</th>\n",
       "      <th>RADIO_THERAPY</th>\n",
       "      <th>ER_STATUS</th>\n",
       "      <th>HER2_STATUS</th>\n",
       "      <th>GRADE</th>\n",
       "      <th>PR_STATUS</th>\n",
       "      <th>TUMOR_SIZE</th>\n",
       "      <th>TUMOR_STAGE</th>\n",
       "      <th>TMB_NONSYNONYMOUS</th>\n",
       "      <th>COHORT_2.0</th>\n",
       "      <th>COHORT_3.0</th>\n",
       "      <th>COHORT_5.0</th>\n",
       "      <th>INTCLUST_10</th>\n",
       "      <th>INTCLUST_2</th>\n",
       "      <th>INTCLUST_3</th>\n",
       "      <th>INTCLUST_4ER+</th>\n",
       "      <th>INTCLUST_4ER-</th>\n",
       "      <th>...</th>\n",
       "      <th>CLAUDIN_SUBTYPE_Her2</th>\n",
       "      <th>CLAUDIN_SUBTYPE_LumA</th>\n",
       "      <th>CLAUDIN_SUBTYPE_LumB</th>\n",
       "      <th>CLAUDIN_SUBTYPE_NC</th>\n",
       "      <th>CLAUDIN_SUBTYPE_Normal</th>\n",
       "      <th>CLAUDIN_SUBTYPE_claudin-low</th>\n",
       "      <th>THREEGENE_ER+/HER2- Low Prolif</th>\n",
       "      <th>THREEGENE_ER-/HER2-</th>\n",
       "      <th>THREEGENE_HER2+</th>\n",
       "      <th>HISTOLOGICAL_SUBTYPE_Lobular</th>\n",
       "      <th>HISTOLOGICAL_SUBTYPE_Medullary</th>\n",
       "      <th>HISTOLOGICAL_SUBTYPE_Mixed</th>\n",
       "      <th>HISTOLOGICAL_SUBTYPE_Mucinous</th>\n",
       "      <th>HISTOLOGICAL_SUBTYPE_Other</th>\n",
       "      <th>HISTOLOGICAL_SUBTYPE_Tubular/ cribriform</th>\n",
       "      <th>BREAST_SURGERY_MASTECTOMY</th>\n",
       "      <th>LATERALITY_Right</th>\n",
       "      <th>CANCER_TYPE_DETAILED_Breast Invasive Ductal Carcinoma</th>\n",
       "      <th>CANCER_TYPE_DETAILED_Breast Invasive Lobular Carcinoma</th>\n",
       "      <th>CANCER_TYPE_DETAILED_Breast Invasive Mixed Mucinous Carcinoma</th>\n",
       "      <th>CANCER_TYPE_DETAILED_Breast Mixed Ductal and Lobular Carcinoma</th>\n",
       "      <th>ONCOTREE_CODE_IDC</th>\n",
       "      <th>ONCOTREE_CODE_ILC</th>\n",
       "      <th>ONCOTREE_CODE_IMMC</th>\n",
       "      <th>ONCOTREE_CODE_MDLC</th>\n",
       "    </tr>\n",
       "  </thead>\n",
       "  <tbody>\n",
       "    <tr>\n",
       "      <th>1119</th>\n",
       "      <td>4.0</td>\n",
       "      <td>5.060</td>\n",
       "      <td>3</td>\n",
       "      <td>False</td>\n",
       "      <td>1</td>\n",
       "      <td>2</td>\n",
       "      <td>True</td>\n",
       "      <td>1</td>\n",
       "      <td>71.22</td>\n",
       "      <td>False</td>\n",
       "      <td>1</td>\n",
       "      <td>-1</td>\n",
       "      <td>2.0</td>\n",
       "      <td>1</td>\n",
       "      <td>30.0</td>\n",
       "      <td>2.0</td>\n",
       "      <td>14.382695</td>\n",
       "      <td>0.0</td>\n",
       "      <td>0.0</td>\n",
       "      <td>1.0</td>\n",
       "      <td>0.0</td>\n",
       "      <td>0.0</td>\n",
       "      <td>1.0</td>\n",
       "      <td>0.0</td>\n",
       "      <td>0.0</td>\n",
       "      <td>...</td>\n",
       "      <td>0.0</td>\n",
       "      <td>1.0</td>\n",
       "      <td>0.0</td>\n",
       "      <td>0.0</td>\n",
       "      <td>0.0</td>\n",
       "      <td>0.0</td>\n",
       "      <td>1.0</td>\n",
       "      <td>0.0</td>\n",
       "      <td>0.0</td>\n",
       "      <td>0.0</td>\n",
       "      <td>0.0</td>\n",
       "      <td>1.0</td>\n",
       "      <td>0.0</td>\n",
       "      <td>0.0</td>\n",
       "      <td>0.0</td>\n",
       "      <td>1.0</td>\n",
       "      <td>0.0</td>\n",
       "      <td>0.0</td>\n",
       "      <td>0.0</td>\n",
       "      <td>0.0</td>\n",
       "      <td>1.0</td>\n",
       "      <td>0.0</td>\n",
       "      <td>0.0</td>\n",
       "      <td>0.0</td>\n",
       "      <td>1.0</td>\n",
       "    </tr>\n",
       "    <tr>\n",
       "      <th>1120</th>\n",
       "      <td>0.0</td>\n",
       "      <td>2.040</td>\n",
       "      <td>3</td>\n",
       "      <td>False</td>\n",
       "      <td>1</td>\n",
       "      <td>2</td>\n",
       "      <td>False</td>\n",
       "      <td>1</td>\n",
       "      <td>70.65</td>\n",
       "      <td>True</td>\n",
       "      <td>1</td>\n",
       "      <td>-1</td>\n",
       "      <td>1.0</td>\n",
       "      <td>1</td>\n",
       "      <td>20.0</td>\n",
       "      <td>1.0</td>\n",
       "      <td>11.767659</td>\n",
       "      <td>0.0</td>\n",
       "      <td>0.0</td>\n",
       "      <td>1.0</td>\n",
       "      <td>0.0</td>\n",
       "      <td>0.0</td>\n",
       "      <td>0.0</td>\n",
       "      <td>0.0</td>\n",
       "      <td>0.0</td>\n",
       "      <td>...</td>\n",
       "      <td>0.0</td>\n",
       "      <td>0.0</td>\n",
       "      <td>1.0</td>\n",
       "      <td>0.0</td>\n",
       "      <td>0.0</td>\n",
       "      <td>0.0</td>\n",
       "      <td>1.0</td>\n",
       "      <td>0.0</td>\n",
       "      <td>0.0</td>\n",
       "      <td>0.0</td>\n",
       "      <td>0.0</td>\n",
       "      <td>1.0</td>\n",
       "      <td>0.0</td>\n",
       "      <td>0.0</td>\n",
       "      <td>0.0</td>\n",
       "      <td>0.0</td>\n",
       "      <td>0.0</td>\n",
       "      <td>0.0</td>\n",
       "      <td>0.0</td>\n",
       "      <td>0.0</td>\n",
       "      <td>1.0</td>\n",
       "      <td>0.0</td>\n",
       "      <td>0.0</td>\n",
       "      <td>0.0</td>\n",
       "      <td>1.0</td>\n",
       "    </tr>\n",
       "    <tr>\n",
       "      <th>1121</th>\n",
       "      <td>0.0</td>\n",
       "      <td>4.040</td>\n",
       "      <td>3</td>\n",
       "      <td>False</td>\n",
       "      <td>-1</td>\n",
       "      <td>3</td>\n",
       "      <td>False</td>\n",
       "      <td>1</td>\n",
       "      <td>75.62</td>\n",
       "      <td>False</td>\n",
       "      <td>-1</td>\n",
       "      <td>-1</td>\n",
       "      <td>3.0</td>\n",
       "      <td>-1</td>\n",
       "      <td>20.0</td>\n",
       "      <td>1.0</td>\n",
       "      <td>5.230071</td>\n",
       "      <td>0.0</td>\n",
       "      <td>0.0</td>\n",
       "      <td>1.0</td>\n",
       "      <td>1.0</td>\n",
       "      <td>0.0</td>\n",
       "      <td>0.0</td>\n",
       "      <td>0.0</td>\n",
       "      <td>0.0</td>\n",
       "      <td>...</td>\n",
       "      <td>0.0</td>\n",
       "      <td>0.0</td>\n",
       "      <td>0.0</td>\n",
       "      <td>0.0</td>\n",
       "      <td>0.0</td>\n",
       "      <td>0.0</td>\n",
       "      <td>0.0</td>\n",
       "      <td>1.0</td>\n",
       "      <td>0.0</td>\n",
       "      <td>0.0</td>\n",
       "      <td>0.0</td>\n",
       "      <td>0.0</td>\n",
       "      <td>0.0</td>\n",
       "      <td>0.0</td>\n",
       "      <td>0.0</td>\n",
       "      <td>1.0</td>\n",
       "      <td>1.0</td>\n",
       "      <td>1.0</td>\n",
       "      <td>0.0</td>\n",
       "      <td>0.0</td>\n",
       "      <td>0.0</td>\n",
       "      <td>1.0</td>\n",
       "      <td>0.0</td>\n",
       "      <td>0.0</td>\n",
       "      <td>0.0</td>\n",
       "    </tr>\n",
       "    <tr>\n",
       "      <th>1122</th>\n",
       "      <td>6.0</td>\n",
       "      <td>5.040</td>\n",
       "      <td>3</td>\n",
       "      <td>True</td>\n",
       "      <td>1</td>\n",
       "      <td>2</td>\n",
       "      <td>False</td>\n",
       "      <td>1</td>\n",
       "      <td>52.84</td>\n",
       "      <td>True</td>\n",
       "      <td>1</td>\n",
       "      <td>-1</td>\n",
       "      <td>2.0</td>\n",
       "      <td>1</td>\n",
       "      <td>20.0</td>\n",
       "      <td>2.0</td>\n",
       "      <td>6.537589</td>\n",
       "      <td>0.0</td>\n",
       "      <td>0.0</td>\n",
       "      <td>1.0</td>\n",
       "      <td>0.0</td>\n",
       "      <td>0.0</td>\n",
       "      <td>0.0</td>\n",
       "      <td>0.0</td>\n",
       "      <td>0.0</td>\n",
       "      <td>...</td>\n",
       "      <td>0.0</td>\n",
       "      <td>0.0</td>\n",
       "      <td>0.0</td>\n",
       "      <td>0.0</td>\n",
       "      <td>1.0</td>\n",
       "      <td>0.0</td>\n",
       "      <td>0.0</td>\n",
       "      <td>0.0</td>\n",
       "      <td>0.0</td>\n",
       "      <td>0.0</td>\n",
       "      <td>0.0</td>\n",
       "      <td>1.0</td>\n",
       "      <td>0.0</td>\n",
       "      <td>0.0</td>\n",
       "      <td>0.0</td>\n",
       "      <td>0.0</td>\n",
       "      <td>1.0</td>\n",
       "      <td>0.0</td>\n",
       "      <td>0.0</td>\n",
       "      <td>0.0</td>\n",
       "      <td>1.0</td>\n",
       "      <td>0.0</td>\n",
       "      <td>0.0</td>\n",
       "      <td>0.0</td>\n",
       "      <td>1.0</td>\n",
       "    </tr>\n",
       "    <tr>\n",
       "      <th>1123</th>\n",
       "      <td>0.0</td>\n",
       "      <td>3.044</td>\n",
       "      <td>3</td>\n",
       "      <td>False</td>\n",
       "      <td>1</td>\n",
       "      <td>2</td>\n",
       "      <td>False</td>\n",
       "      <td>1</td>\n",
       "      <td>63.20</td>\n",
       "      <td>True</td>\n",
       "      <td>1</td>\n",
       "      <td>-1</td>\n",
       "      <td>2.0</td>\n",
       "      <td>1</td>\n",
       "      <td>22.0</td>\n",
       "      <td>2.0</td>\n",
       "      <td>3.922553</td>\n",
       "      <td>0.0</td>\n",
       "      <td>0.0</td>\n",
       "      <td>1.0</td>\n",
       "      <td>0.0</td>\n",
       "      <td>0.0</td>\n",
       "      <td>0.0</td>\n",
       "      <td>0.0</td>\n",
       "      <td>0.0</td>\n",
       "      <td>...</td>\n",
       "      <td>0.0</td>\n",
       "      <td>0.0</td>\n",
       "      <td>1.0</td>\n",
       "      <td>0.0</td>\n",
       "      <td>0.0</td>\n",
       "      <td>0.0</td>\n",
       "      <td>0.0</td>\n",
       "      <td>0.0</td>\n",
       "      <td>0.0</td>\n",
       "      <td>0.0</td>\n",
       "      <td>0.0</td>\n",
       "      <td>0.0</td>\n",
       "      <td>1.0</td>\n",
       "      <td>0.0</td>\n",
       "      <td>0.0</td>\n",
       "      <td>0.0</td>\n",
       "      <td>1.0</td>\n",
       "      <td>0.0</td>\n",
       "      <td>0.0</td>\n",
       "      <td>1.0</td>\n",
       "      <td>0.0</td>\n",
       "      <td>0.0</td>\n",
       "      <td>0.0</td>\n",
       "      <td>1.0</td>\n",
       "      <td>0.0</td>\n",
       "    </tr>\n",
       "  </tbody>\n",
       "</table>\n",
       "<p>5 rows × 55 columns</p>\n",
       "</div>"
      ],
      "text/plain": [
       "      LYMPH_NODES_EXAMINED_POSITIVE    NPI  CELLULARITY  CHEMOTHERAPY  ER_IHC  \\\n",
       "1119                            4.0  5.060            3         False       1   \n",
       "1120                            0.0  2.040            3         False       1   \n",
       "1121                            0.0  4.040            3         False      -1   \n",
       "1122                            6.0  5.040            3          True       1   \n",
       "1123                            0.0  3.044            3         False       1   \n",
       "\n",
       "      HER2_SNP6  HORMONE_THERAPY  INFERRED_MENOPAUSAL_STATE  AGE_AT_DIAGNOSIS  \\\n",
       "1119          2             True                          1             71.22   \n",
       "1120          2            False                          1             70.65   \n",
       "1121          3            False                          1             75.62   \n",
       "1122          2            False                          1             52.84   \n",
       "1123          2            False                          1             63.20   \n",
       "\n",
       "      RADIO_THERAPY  ER_STATUS  HER2_STATUS  GRADE  PR_STATUS  TUMOR_SIZE  \\\n",
       "1119          False          1           -1    2.0          1        30.0   \n",
       "1120           True          1           -1    1.0          1        20.0   \n",
       "1121          False         -1           -1    3.0         -1        20.0   \n",
       "1122           True          1           -1    2.0          1        20.0   \n",
       "1123           True          1           -1    2.0          1        22.0   \n",
       "\n",
       "      TUMOR_STAGE  TMB_NONSYNONYMOUS  COHORT_2.0  COHORT_3.0  COHORT_5.0  \\\n",
       "1119          2.0          14.382695         0.0         0.0         1.0   \n",
       "1120          1.0          11.767659         0.0         0.0         1.0   \n",
       "1121          1.0           5.230071         0.0         0.0         1.0   \n",
       "1122          2.0           6.537589         0.0         0.0         1.0   \n",
       "1123          2.0           3.922553         0.0         0.0         1.0   \n",
       "\n",
       "      INTCLUST_10  INTCLUST_2  INTCLUST_3  INTCLUST_4ER+  INTCLUST_4ER-  ...  \\\n",
       "1119          0.0         0.0         1.0            0.0            0.0  ...   \n",
       "1120          0.0         0.0         0.0            0.0            0.0  ...   \n",
       "1121          1.0         0.0         0.0            0.0            0.0  ...   \n",
       "1122          0.0         0.0         0.0            0.0            0.0  ...   \n",
       "1123          0.0         0.0         0.0            0.0            0.0  ...   \n",
       "\n",
       "      CLAUDIN_SUBTYPE_Her2  CLAUDIN_SUBTYPE_LumA  CLAUDIN_SUBTYPE_LumB  \\\n",
       "1119                   0.0                   1.0                   0.0   \n",
       "1120                   0.0                   0.0                   1.0   \n",
       "1121                   0.0                   0.0                   0.0   \n",
       "1122                   0.0                   0.0                   0.0   \n",
       "1123                   0.0                   0.0                   1.0   \n",
       "\n",
       "      CLAUDIN_SUBTYPE_NC  CLAUDIN_SUBTYPE_Normal  CLAUDIN_SUBTYPE_claudin-low  \\\n",
       "1119                 0.0                     0.0                          0.0   \n",
       "1120                 0.0                     0.0                          0.0   \n",
       "1121                 0.0                     0.0                          0.0   \n",
       "1122                 0.0                     1.0                          0.0   \n",
       "1123                 0.0                     0.0                          0.0   \n",
       "\n",
       "      THREEGENE_ER+/HER2- Low Prolif  THREEGENE_ER-/HER2-  THREEGENE_HER2+  \\\n",
       "1119                             1.0                  0.0              0.0   \n",
       "1120                             1.0                  0.0              0.0   \n",
       "1121                             0.0                  1.0              0.0   \n",
       "1122                             0.0                  0.0              0.0   \n",
       "1123                             0.0                  0.0              0.0   \n",
       "\n",
       "      HISTOLOGICAL_SUBTYPE_Lobular  HISTOLOGICAL_SUBTYPE_Medullary  \\\n",
       "1119                           0.0                             0.0   \n",
       "1120                           0.0                             0.0   \n",
       "1121                           0.0                             0.0   \n",
       "1122                           0.0                             0.0   \n",
       "1123                           0.0                             0.0   \n",
       "\n",
       "      HISTOLOGICAL_SUBTYPE_Mixed  HISTOLOGICAL_SUBTYPE_Mucinous  \\\n",
       "1119                         1.0                            0.0   \n",
       "1120                         1.0                            0.0   \n",
       "1121                         0.0                            0.0   \n",
       "1122                         1.0                            0.0   \n",
       "1123                         0.0                            1.0   \n",
       "\n",
       "      HISTOLOGICAL_SUBTYPE_Other  HISTOLOGICAL_SUBTYPE_Tubular/ cribriform  \\\n",
       "1119                         0.0                                       0.0   \n",
       "1120                         0.0                                       0.0   \n",
       "1121                         0.0                                       0.0   \n",
       "1122                         0.0                                       0.0   \n",
       "1123                         0.0                                       0.0   \n",
       "\n",
       "      BREAST_SURGERY_MASTECTOMY  LATERALITY_Right  \\\n",
       "1119                        1.0               0.0   \n",
       "1120                        0.0               0.0   \n",
       "1121                        1.0               1.0   \n",
       "1122                        0.0               1.0   \n",
       "1123                        0.0               1.0   \n",
       "\n",
       "      CANCER_TYPE_DETAILED_Breast Invasive Ductal Carcinoma  \\\n",
       "1119                                                0.0       \n",
       "1120                                                0.0       \n",
       "1121                                                1.0       \n",
       "1122                                                0.0       \n",
       "1123                                                0.0       \n",
       "\n",
       "      CANCER_TYPE_DETAILED_Breast Invasive Lobular Carcinoma  \\\n",
       "1119                                                0.0        \n",
       "1120                                                0.0        \n",
       "1121                                                0.0        \n",
       "1122                                                0.0        \n",
       "1123                                                0.0        \n",
       "\n",
       "      CANCER_TYPE_DETAILED_Breast Invasive Mixed Mucinous Carcinoma  \\\n",
       "1119                                                0.0               \n",
       "1120                                                0.0               \n",
       "1121                                                0.0               \n",
       "1122                                                0.0               \n",
       "1123                                                1.0               \n",
       "\n",
       "      CANCER_TYPE_DETAILED_Breast Mixed Ductal and Lobular Carcinoma  \\\n",
       "1119                                                1.0                \n",
       "1120                                                1.0                \n",
       "1121                                                0.0                \n",
       "1122                                                1.0                \n",
       "1123                                                0.0                \n",
       "\n",
       "      ONCOTREE_CODE_IDC  ONCOTREE_CODE_ILC  ONCOTREE_CODE_IMMC  \\\n",
       "1119                0.0                0.0                 0.0   \n",
       "1120                0.0                0.0                 0.0   \n",
       "1121                1.0                0.0                 0.0   \n",
       "1122                0.0                0.0                 0.0   \n",
       "1123                0.0                0.0                 1.0   \n",
       "\n",
       "      ONCOTREE_CODE_MDLC  \n",
       "1119                 1.0  \n",
       "1120                 1.0  \n",
       "1121                 0.0  \n",
       "1122                 1.0  \n",
       "1123                 0.0  \n",
       "\n",
       "[5 rows x 55 columns]"
      ]
     },
     "metadata": {},
     "output_type": "display_data"
    },
    {
     "data": {
      "text/plain": [
       "1119    False\n",
       "1120    False\n",
       "1121    False\n",
       "1122    False\n",
       "1123    False\n",
       "Name: target, dtype: bool"
      ]
     },
     "metadata": {},
     "output_type": "display_data"
    },
    {
     "data": {
      "text/plain": [
       "False    844\n",
       "True     198\n",
       "Name: target, dtype: int64"
      ]
     },
     "metadata": {},
     "output_type": "display_data"
    }
   ],
   "source": [
    "# Xとyに分割\n",
    "X = df_MB_OS_status_in_5years_dropped.drop(\"target\", axis=1)\n",
    "y = df_MB_OS_status_in_5years_dropped[\"target\"]\n",
    "display(X.tail(), y.tail(), y.value_counts())"
   ]
  },
  {
   "cell_type": "code",
   "execution_count": 5,
   "id": "ff9d0b01-48dc-464f-a0c7-db676ea688df",
   "metadata": {},
   "outputs": [
    {
     "data": {
      "text/plain": [
       "(781, 55)"
      ]
     },
     "metadata": {},
     "output_type": "display_data"
    },
    {
     "data": {
      "text/plain": [
       "(261, 55)"
      ]
     },
     "metadata": {},
     "output_type": "display_data"
    },
    {
     "data": {
      "text/plain": [
       "(781,)"
      ]
     },
     "metadata": {},
     "output_type": "display_data"
    },
    {
     "data": {
      "text/plain": [
       "(261,)"
      ]
     },
     "metadata": {},
     "output_type": "display_data"
    },
    {
     "data": {
      "text/plain": [
       "False    638\n",
       "True     143\n",
       "Name: target, dtype: int64"
      ]
     },
     "metadata": {},
     "output_type": "display_data"
    },
    {
     "data": {
      "text/plain": [
       "False    206\n",
       "True      55\n",
       "Name: target, dtype: int64"
      ]
     },
     "metadata": {},
     "output_type": "display_data"
    }
   ],
   "source": [
    "# trainとtestに分割\n",
    "\n",
    "X_train, X_test, y_train, y_test = train_test_split(X, y, random_state=config.SEED)\n",
    "display(X_train.shape, X_test.shape, y_train.shape, y_test.shape)\n",
    "display(y_train.value_counts(), y_test.value_counts())"
   ]
  },
  {
   "cell_type": "markdown",
   "id": "a41a90cd-a31d-45ba-8bb8-55a8758c49fb",
   "metadata": {},
   "source": [
    "# 2値分類モデル"
   ]
  },
  {
   "cell_type": "code",
   "execution_count": 6,
   "id": "60973318-81eb-4c87-bf9b-374f0789cd4a",
   "metadata": {},
   "outputs": [],
   "source": [
    "def show_scores(y_test: pd.Series, y_pred_tree: pd.Series):\n",
    "    print(\"accuracy: \", accuracy_score(y_test, y_pred_tree))\n",
    "    print(\"precision: \", precision_score(y_test, y_pred_tree))\n",
    "    print(\"recall: \", recall_score(y_test, y_pred_tree))\n",
    "    print(\"f1 score: \", f1_score(y_test, y_pred_tree))"
   ]
  },
  {
   "cell_type": "code",
   "execution_count": 7,
   "id": "c49ae5e4-0c93-453e-add4-8ce7d1df4da5",
   "metadata": {},
   "outputs": [],
   "source": [
    "def show_confusion_matrix(\n",
    "    y_test: pd.Series,\n",
    "    y_pred: pd.Series,\n",
    "    model_name: str = \"confusion matrix\",\n",
    "    display_details: bool = False,\n",
    "):\n",
    "    cm = confusion_matrix(y_test, y_pred, normalize=\"all\", labels=[True, False])\n",
    "    df_cm = pd.DataFrame(data=cm, index=[True, False], columns=[True, False])\n",
    "\n",
    "    fig = plt.figure()\n",
    "    sns.heatmap(df_cm, square=True, cbar=True, annot=True, cmap=\"Blues\")\n",
    "    plt.title(model_name)\n",
    "    plt.xlabel(\"Predict label\")\n",
    "    plt.ylabel(\"True label\")\n",
    "    plt.plot()\n",
    "\n",
    "    if display_details:\n",
    "        tn, fp, fn, tp = cm.ravel()\n",
    "        print(\"tn: \", tn, \"\\nfp: \", fp, \"\\nfn:\", fn, \"\\ntp:\", tp)\n",
    "        show_scores(y_test, y_pred)"
   ]
  },
  {
   "cell_type": "markdown",
   "id": "c9768889-c176-4930-aeb4-83d47f2e7540",
   "metadata": {},
   "source": [
    "## ベースラインの精度\n",
    "\n",
    "全てFalseと予測（学習データはFalseが多いため）した場合のスコア"
   ]
  },
  {
   "cell_type": "code",
   "execution_count": 8,
   "id": "2dbe735d-6392-4a7e-89fc-a926d8de94d1",
   "metadata": {},
   "outputs": [
    {
     "data": {
      "text/plain": [
       "False    206\n",
       "True      55\n",
       "Name: target, dtype: int64"
      ]
     },
     "metadata": {},
     "output_type": "display_data"
    },
    {
     "data": {
      "image/png": "[encoded data removed]",
      "text/plain": [
       "<Figure size 432x288 with 2 Axes>"
      ]
     },
     "metadata": {
      "needs_background": "light"
     },
     "output_type": "display_data"
    }
   ],
   "source": [
    "y_base = pd.Series([False for i in range(y_test.shape[0])], index=y_test.index)\n",
    "display(y_test.value_counts())\n",
    "show_confusion_matrix(y_test, y_base)"
   ]
  },
  {
   "cell_type": "markdown",
   "id": "06582a6d-9e09-439e-9265-376f3bb25e38",
   "metadata": {
    "tags": []
   },
   "source": [
    "# 様々な機械学習手法の比較\n",
    "\n",
    "様々な機械学習手法を用いて2値分類を行う。  \n",
    "簡単に精度を見るため、再現性は担保されていない（引数にrandom_stateを要求しないclfもあるため）ので、必要に応じて再度モデルを構築すること。  \n",
    "また、パラメータはデフォルト値を使用している。  \n",
    "そのためパラメータ次第では結果が向上、下降しうる（決定木のf1など）。  "
   ]
  },
  {
   "cell_type": "code",
   "execution_count": 9,
   "id": "132b47bd-aaea-4cc9-bd79-75eefe49e926",
   "metadata": {},
   "outputs": [],
   "source": [
    "names = [\n",
    "    \"Logistic Regression\",\n",
    "    \"Nearest Neighbors\",\n",
    "    \"Linear SVM\",\n",
    "    \"Polynomial SVM\",\n",
    "    \"RBF SVM\",\n",
    "    \"Sigmoid SVM\",\n",
    "    \"Decision Tree\",\n",
    "    \"Random Forest\",\n",
    "    \"AdaBoost\",\n",
    "    \"Naive Bayes\",\n",
    "    # \"Linear Discriminant Analysis\", # predictメソッドに対応していない\n",
    "    \"Quadratic Discriminant Analysis\",\n",
    "]\n",
    "\n",
    "classifiers = [\n",
    "    LogisticRegression(),\n",
    "    KNeighborsClassifier(),\n",
    "    SVC(kernel=\"linear\"),\n",
    "    SVC(kernel=\"poly\"),\n",
    "    SVC(kernel=\"rbf\"),\n",
    "    SVC(kernel=\"sigmoid\"),\n",
    "    DecisionTreeClassifier(),\n",
    "    RandomForestClassifier(),\n",
    "    AdaBoostClassifier(),\n",
    "    GaussianNB(),\n",
    "    # LDA(),\n",
    "    QDA(),\n",
    "]"
   ]
  },
  {
   "cell_type": "code",
   "execution_count": 10,
   "id": "f23dce81-cf79-4bf9-b6a6-e7ea1686e795",
   "metadata": {
    "tags": []
   },
   "outputs": [
    {
     "name": "stderr",
     "output_type": "stream",
     "text": [
      "/Users/masanari/.anyenv/envs/pyenv/versions/miniforge3-4.10/envs/breast-cancer-analytics/lib/python3.8/site-packages/sklearn/linear_model/_logistic.py:814: ConvergenceWarning: lbfgs failed to converge (status=1):\n",
      "STOP: TOTAL NO. of ITERATIONS REACHED LIMIT.\n",
      "\n",
      "Increase the number of iterations (max_iter) or scale the data as shown in:\n",
      "    https://scikit-learn.org/stable/modules/preprocessing.html\n",
      "Please also refer to the documentation for alternative solver options:\n",
      "    https://scikit-learn.org/stable/modules/linear_model.html#logistic-regression\n",
      "  n_iter_i = _check_optimize_result(\n",
      "/Users/masanari/.anyenv/envs/pyenv/versions/miniforge3-4.10/envs/breast-cancer-analytics/lib/python3.8/site-packages/sklearn/discriminant_analysis.py:878: UserWarning: Variables are collinear\n",
      "  warnings.warn(\"Variables are collinear\")\n"
     ]
    },
    {
     "data": {
      "text/html": [
       "<div>\n",
       "<style scoped>\n",
       "    .dataframe tbody tr th:only-of-type {\n",
       "        vertical-align: middle;\n",
       "    }\n",
       "\n",
       "    .dataframe tbody tr th {\n",
       "        vertical-align: top;\n",
       "    }\n",
       "\n",
       "    .dataframe thead th {\n",
       "        text-align: right;\n",
       "    }\n",
       "</style>\n",
       "<table border=\"1\" class=\"dataframe\">\n",
       "  <thead>\n",
       "    <tr style=\"text-align: right;\">\n",
       "      <th></th>\n",
       "      <th>train</th>\n",
       "      <th>test</th>\n",
       "      <th>f1</th>\n",
       "    </tr>\n",
       "  </thead>\n",
       "  <tbody>\n",
       "    <tr>\n",
       "      <th>Naive Bayes</th>\n",
       "      <td>0.387964</td>\n",
       "      <td>0.402299</td>\n",
       "      <td>0.385827</td>\n",
       "    </tr>\n",
       "    <tr>\n",
       "      <th>Quadratic Discriminant Analysis</th>\n",
       "      <td>0.211268</td>\n",
       "      <td>0.226054</td>\n",
       "      <td>0.352564</td>\n",
       "    </tr>\n",
       "    <tr>\n",
       "      <th>Decision Tree</th>\n",
       "      <td>1.000000</td>\n",
       "      <td>0.720307</td>\n",
       "      <td>0.330275</td>\n",
       "    </tr>\n",
       "    <tr>\n",
       "      <th>Logistic Regression</th>\n",
       "      <td>0.839949</td>\n",
       "      <td>0.800766</td>\n",
       "      <td>0.297297</td>\n",
       "    </tr>\n",
       "    <tr>\n",
       "      <th>AdaBoost</th>\n",
       "      <td>0.861716</td>\n",
       "      <td>0.793103</td>\n",
       "      <td>0.289474</td>\n",
       "    </tr>\n",
       "    <tr>\n",
       "      <th>Random Forest</th>\n",
       "      <td>1.000000</td>\n",
       "      <td>0.808429</td>\n",
       "      <td>0.264706</td>\n",
       "    </tr>\n",
       "    <tr>\n",
       "      <th>Sigmoid SVM</th>\n",
       "      <td>0.802817</td>\n",
       "      <td>0.789272</td>\n",
       "      <td>0.246575</td>\n",
       "    </tr>\n",
       "    <tr>\n",
       "      <th>Linear SVM</th>\n",
       "      <td>0.838668</td>\n",
       "      <td>0.804598</td>\n",
       "      <td>0.238806</td>\n",
       "    </tr>\n",
       "    <tr>\n",
       "      <th>Nearest Neighbors</th>\n",
       "      <td>0.857875</td>\n",
       "      <td>0.796935</td>\n",
       "      <td>0.184615</td>\n",
       "    </tr>\n",
       "    <tr>\n",
       "      <th>Polynomial SVM</th>\n",
       "      <td>0.822023</td>\n",
       "      <td>0.789272</td>\n",
       "      <td>0.000000</td>\n",
       "    </tr>\n",
       "    <tr>\n",
       "      <th>RBF SVM</th>\n",
       "      <td>0.818182</td>\n",
       "      <td>0.789272</td>\n",
       "      <td>0.000000</td>\n",
       "    </tr>\n",
       "  </tbody>\n",
       "</table>\n",
       "</div>"
      ],
      "text/plain": [
       "                                    train      test        f1\n",
       "Naive Bayes                      0.387964  0.402299  0.385827\n",
       "Quadratic Discriminant Analysis  0.211268  0.226054  0.352564\n",
       "Decision Tree                    1.000000  0.720307  0.330275\n",
       "Logistic Regression              0.839949  0.800766  0.297297\n",
       "AdaBoost                         0.861716  0.793103  0.289474\n",
       "Random Forest                    1.000000  0.808429  0.264706\n",
       "Sigmoid SVM                      0.802817  0.789272  0.246575\n",
       "Linear SVM                       0.838668  0.804598  0.238806\n",
       "Nearest Neighbors                0.857875  0.796935  0.184615\n",
       "Polynomial SVM                   0.822023  0.789272  0.000000\n",
       "RBF SVM                          0.818182  0.789272  0.000000"
      ]
     },
     "metadata": {},
     "output_type": "display_data"
    },
    {
     "data": {
      "image/png": "[encoded data removed]",
      "text/plain": [
       "<Figure size 432x288 with 2 Axes>"
      ]
     },
     "metadata": {
      "needs_background": "light"
     },
     "output_type": "display_data"
    },
    {
     "data": {
      "image/png": "[encoded data removed]",
      "text/plain": [
       "<Figure size 432x288 with 2 Axes>"
      ]
     },
     "metadata": {
      "needs_background": "light"
     },
     "output_type": "display_data"
    },
    {
     "data": {
      "image/png": "[encoded data removed]",
      "text/plain": [
       "<Figure size 432x288 with 2 Axes>"
      ]
     },
     "metadata": {
      "needs_background": "light"
     },
     "output_type": "display_data"
    },
    {
     "data": {
      "image/png": "[encoded data removed]",
      "text/plain": [
       "<Figure size 432x288 with 2 Axes>"
      ]
     },
     "metadata": {
      "needs_background": "light"
     },
     "output_type": "display_data"
    },
    {
     "data": {
      "image/png": "[encoded data removed]",
      "text/plain": [
       "<Figure size 432x288 with 2 Axes>"
      ]
     },
     "metadata": {
      "needs_background": "light"
     },
     "output_type": "display_data"
    },
    {
     "data": {
      "image/png": "[encoded data removed]",
      "text/plain": [
       "<Figure size 432x288 with 2 Axes>"
      ]
     },
     "metadata": {
      "needs_background": "light"
     },
     "output_type": "display_data"
    },
    {
     "data": {
      "image/png": "[encoded data removed]",
      "text/plain": [
       "<Figure size 432x288 with 2 Axes>"
      ]
     },
     "metadata": {
      "needs_background": "light"
     },
     "output_type": "display_data"
    },
    {
     "data": {
      "image/png": "[encoded data removed]",
      "text/plain": [
       "<Figure size 432x288 with 2 Axes>"
      ]
     },
     "metadata": {
      "needs_background": "light"
     },
     "output_type": "display_data"
    },
    {
     "data": {
      "image/png": "[encoded data removed]",
      "text/plain": [
       "<Figure size 432x288 with 2 Axes>"
      ]
     },
     "metadata": {
      "needs_background": "light"
     },
     "output_type": "display_data"
    },
    {
     "data": {
      "image/png": "[encoded data removed]",
      "text/plain": [
       "<Figure size 432x288 with 2 Axes>"
      ]
     },
     "metadata": {
      "needs_background": "light"
     },
     "output_type": "display_data"
    },
    {
     "data": {
      "image/png": "[encoded data removed]",
      "text/plain": [
       "<Figure size 432x288 with 2 Axes>"
      ]
     },
     "metadata": {
      "needs_background": "light"
     },
     "output_type": "display_data"
    }
   ],
   "source": [
    "result = []\n",
    "for name, clf in zip(names, classifiers):  # 指定した複数の分類機を順番に呼び出す\n",
    "    # display(name)\n",
    "    clf.fit(X_train, y_train)  # 学習\n",
    "    score_train = clf.score(X_train, y_train)  # 正解率（train）の算出\n",
    "    score_test = clf.score(X_test, y_test)  # 正解率（test）の算出\n",
    "    y_pred = clf.predict(X_test)\n",
    "    score_f1 = f1_score(y_test, y_pred)\n",
    "    show_confusion_matrix(y_test, y_pred, model_name=name)\n",
    "    result.append([score_train, score_test, score_f1])  # 結果の格納\n",
    "    # display(\"-----\" * 10)\n",
    "\n",
    "df_result = pd.DataFrame(\n",
    "    result, columns=[\"train\", \"test\", \"f1\"], index=names\n",
    ").sort_values(\"f1\", ascending=False)\n",
    "\n",
    "display(df_result)"
   ]
  },
  {
   "cell_type": "code",
   "execution_count": 11,
   "id": "c02451de-6b86-48c3-b6ff-87d7588c5489",
   "metadata": {
    "tags": []
   },
   "outputs": [
    {
     "data": {
      "text/html": [
       "<div>\n",
       "<style scoped>\n",
       "    .dataframe tbody tr th:only-of-type {\n",
       "        vertical-align: middle;\n",
       "    }\n",
       "\n",
       "    .dataframe tbody tr th {\n",
       "        vertical-align: top;\n",
       "    }\n",
       "\n",
       "    .dataframe thead th {\n",
       "        text-align: right;\n",
       "    }\n",
       "</style>\n",
       "<table border=\"1\" class=\"dataframe\">\n",
       "  <thead>\n",
       "    <tr style=\"text-align: right;\">\n",
       "      <th></th>\n",
       "      <th>train</th>\n",
       "      <th>test</th>\n",
       "      <th>f1</th>\n",
       "    </tr>\n",
       "    <tr>\n",
       "      <th>classifier</th>\n",
       "      <th></th>\n",
       "      <th></th>\n",
       "      <th></th>\n",
       "    </tr>\n",
       "  </thead>\n",
       "  <tbody>\n",
       "    <tr>\n",
       "      <th>Naive Bayes</th>\n",
       "      <td>0.34480</td>\n",
       "      <td>0.339448</td>\n",
       "      <td>0.356525</td>\n",
       "    </tr>\n",
       "    <tr>\n",
       "      <th>Decision Tree</th>\n",
       "      <td>1.00000</td>\n",
       "      <td>0.740647</td>\n",
       "      <td>0.339088</td>\n",
       "    </tr>\n",
       "    <tr>\n",
       "      <th>AdaBoost</th>\n",
       "      <td>0.86656</td>\n",
       "      <td>0.791966</td>\n",
       "      <td>0.333752</td>\n",
       "    </tr>\n",
       "    <tr>\n",
       "      <th>Logistic Regression</th>\n",
       "      <td>0.84408</td>\n",
       "      <td>0.806715</td>\n",
       "      <td>0.332178</td>\n",
       "    </tr>\n",
       "    <tr>\n",
       "      <th>Quadratic Discriminant Analysis</th>\n",
       "      <td>0.21600</td>\n",
       "      <td>0.217266</td>\n",
       "      <td>0.328955</td>\n",
       "    </tr>\n",
       "    <tr>\n",
       "      <th>Random Forest</th>\n",
       "      <td>0.99992</td>\n",
       "      <td>0.807074</td>\n",
       "      <td>0.289729</td>\n",
       "    </tr>\n",
       "    <tr>\n",
       "      <th>Linear SVM</th>\n",
       "      <td>0.84496</td>\n",
       "      <td>0.806115</td>\n",
       "      <td>0.279048</td>\n",
       "    </tr>\n",
       "    <tr>\n",
       "      <th>Nearest Neighbors</th>\n",
       "      <td>0.85224</td>\n",
       "      <td>0.793885</td>\n",
       "      <td>0.224708</td>\n",
       "    </tr>\n",
       "    <tr>\n",
       "      <th>Polynomial SVM</th>\n",
       "      <td>0.81920</td>\n",
       "      <td>0.805396</td>\n",
       "      <td>0.036364</td>\n",
       "    </tr>\n",
       "    <tr>\n",
       "      <th>Sigmoid SVM</th>\n",
       "      <td>0.81152</td>\n",
       "      <td>0.804077</td>\n",
       "      <td>0.033352</td>\n",
       "    </tr>\n",
       "    <tr>\n",
       "      <th>RBF SVM</th>\n",
       "      <td>0.81544</td>\n",
       "      <td>0.804556</td>\n",
       "      <td>0.004770</td>\n",
       "    </tr>\n",
       "  </tbody>\n",
       "</table>\n",
       "</div>"
      ],
      "text/plain": [
       "                                   train      test        f1\n",
       "classifier                                                  \n",
       "Naive Bayes                      0.34480  0.339448  0.356525\n",
       "Decision Tree                    1.00000  0.740647  0.339088\n",
       "AdaBoost                         0.86656  0.791966  0.333752\n",
       "Logistic Regression              0.84408  0.806715  0.332178\n",
       "Quadratic Discriminant Analysis  0.21600  0.217266  0.328955\n",
       "Random Forest                    0.99992  0.807074  0.289729\n",
       "Linear SVM                       0.84496  0.806115  0.279048\n",
       "Nearest Neighbors                0.85224  0.793885  0.224708\n",
       "Polynomial SVM                   0.81920  0.805396  0.036364\n",
       "Sigmoid SVM                      0.81152  0.804077  0.033352\n",
       "RBF SVM                          0.81544  0.804556  0.004770"
      ]
     },
     "metadata": {},
     "output_type": "display_data"
    }
   ],
   "source": [
    "import warnings\n",
    "\n",
    "warnings.filterwarnings(\"ignore\")  # lrで警告が出て視認性が悪いので、いったん非表示\n",
    "\n",
    "result = []\n",
    "for trial in range(20):  # 20 回繰り返し、指標の平均を見る\n",
    "    X_train, X_test, y_train, y_test = train_test_split(\n",
    "        X, y, test_size=0.4\n",
    "    )  # 訓練データ・テストデータの生成\n",
    "    for name, clf in zip(names, classifiers):  # 指定した複数の分類機を順番に呼び出す\n",
    "        clf.fit(X_train, y_train)  # 学習\n",
    "        score_train = clf.score(X_train, y_train)  # 正解率（train）の算出\n",
    "        score_test = clf.score(X_test, y_test)  # 正解率（test）の算出\n",
    "        y_pred = clf.predict(X_test)\n",
    "        score_f1 = f1_score(y_test, y_pred)\n",
    "        result.append([name, score_train, score_test, score_f1])  # 結果の格納\n",
    "\n",
    "df_result = pd.DataFrame(\n",
    "    result, columns=[\"classifier\", \"train\", \"test\", \"f1\"]\n",
    ")  # 今回はまだ並べ替えはしない\n",
    "df_result_mean = (\n",
    "    df_result.groupby(\"classifier\").mean().sort_values(\"f1\", ascending=False)\n",
    ")\n",
    "display(df_result_mean)\n",
    "\n",
    "warnings.filterwarnings(\"always\")"
   ]
  },
  {
   "cell_type": "code",
   "execution_count": 12,
   "id": "983f28ad-5a2d-484f-ac26-59aab2397363",
   "metadata": {},
   "outputs": [
    {
     "data": {
      "text/html": [
       "<div>\n",
       "<style scoped>\n",
       "    .dataframe tbody tr th:only-of-type {\n",
       "        vertical-align: middle;\n",
       "    }\n",
       "\n",
       "    .dataframe tbody tr th {\n",
       "        vertical-align: top;\n",
       "    }\n",
       "\n",
       "    .dataframe thead th {\n",
       "        text-align: right;\n",
       "    }\n",
       "</style>\n",
       "<table border=\"1\" class=\"dataframe\">\n",
       "  <thead>\n",
       "    <tr style=\"text-align: right;\">\n",
       "      <th></th>\n",
       "      <th>train</th>\n",
       "      <th>test</th>\n",
       "      <th>f1</th>\n",
       "    </tr>\n",
       "    <tr>\n",
       "      <th>classifier</th>\n",
       "      <th></th>\n",
       "      <th></th>\n",
       "      <th></th>\n",
       "    </tr>\n",
       "  </thead>\n",
       "  <tbody>\n",
       "    <tr>\n",
       "      <th>Decision Tree</th>\n",
       "      <td>1.0000</td>\n",
       "      <td>0.767386</td>\n",
       "      <td>0.464865</td>\n",
       "    </tr>\n",
       "    <tr>\n",
       "      <th>Naive Bayes</th>\n",
       "      <td>0.4944</td>\n",
       "      <td>0.479616</td>\n",
       "      <td>0.424403</td>\n",
       "    </tr>\n",
       "    <tr>\n",
       "      <th>Logistic Regression</th>\n",
       "      <td>0.8640</td>\n",
       "      <td>0.827338</td>\n",
       "      <td>0.412698</td>\n",
       "    </tr>\n",
       "    <tr>\n",
       "      <th>AdaBoost</th>\n",
       "      <td>0.8944</td>\n",
       "      <td>0.817746</td>\n",
       "      <td>0.402985</td>\n",
       "    </tr>\n",
       "    <tr>\n",
       "      <th>Random Forest</th>\n",
       "      <td>1.0000</td>\n",
       "      <td>0.844125</td>\n",
       "      <td>0.400000</td>\n",
       "    </tr>\n",
       "    <tr>\n",
       "      <th>Linear SVM</th>\n",
       "      <td>0.8624</td>\n",
       "      <td>0.836930</td>\n",
       "      <td>0.392857</td>\n",
       "    </tr>\n",
       "    <tr>\n",
       "      <th>Quadratic Discriminant Analysis</th>\n",
       "      <td>0.2320</td>\n",
       "      <td>0.239808</td>\n",
       "      <td>0.349398</td>\n",
       "    </tr>\n",
       "    <tr>\n",
       "      <th>Sigmoid SVM</th>\n",
       "      <td>0.8256</td>\n",
       "      <td>0.832134</td>\n",
       "      <td>0.341463</td>\n",
       "    </tr>\n",
       "    <tr>\n",
       "      <th>Nearest Neighbors</th>\n",
       "      <td>0.8704</td>\n",
       "      <td>0.822542</td>\n",
       "      <td>0.327273</td>\n",
       "    </tr>\n",
       "    <tr>\n",
       "      <th>Polynomial SVM</th>\n",
       "      <td>0.8288</td>\n",
       "      <td>0.832134</td>\n",
       "      <td>0.166667</td>\n",
       "    </tr>\n",
       "    <tr>\n",
       "      <th>RBF SVM</th>\n",
       "      <td>0.8272</td>\n",
       "      <td>0.832134</td>\n",
       "      <td>0.025316</td>\n",
       "    </tr>\n",
       "  </tbody>\n",
       "</table>\n",
       "</div>"
      ],
      "text/plain": [
       "                                  train      test        f1\n",
       "classifier                                                 \n",
       "Decision Tree                    1.0000  0.767386  0.464865\n",
       "Naive Bayes                      0.4944  0.479616  0.424403\n",
       "Logistic Regression              0.8640  0.827338  0.412698\n",
       "AdaBoost                         0.8944  0.817746  0.402985\n",
       "Random Forest                    1.0000  0.844125  0.400000\n",
       "Linear SVM                       0.8624  0.836930  0.392857\n",
       "Quadratic Discriminant Analysis  0.2320  0.239808  0.349398\n",
       "Sigmoid SVM                      0.8256  0.832134  0.341463\n",
       "Nearest Neighbors                0.8704  0.822542  0.327273\n",
       "Polynomial SVM                   0.8288  0.832134  0.166667\n",
       "RBF SVM                          0.8272  0.832134  0.025316"
      ]
     },
     "metadata": {},
     "output_type": "display_data"
    }
   ],
   "source": [
    "df_result_max = df_result.groupby(\"classifier\").max().sort_values(\"f1\", ascending=False)\n",
    "display(df_result_max)"
   ]
  },
  {
   "cell_type": "markdown",
   "id": "4b8dc1f8-fd01-4d8b-be62-ef9e1a8195d5",
   "metadata": {},
   "source": [
    "デフォルト値のままではf1スコアが出ない  \n",
    "→全て負事例（0: 5年後も生存）で予測しているケースが多い（多少は正事例（1: 5年以内に死亡）としているケースもあるが）"
   ]
  },
  {
   "cell_type": "markdown",
   "id": "9c0b3ad0-1e9e-431f-b9a7-bd990b7219e7",
   "metadata": {},
   "source": [
    "# ロジスティック回帰モデル\n",
    "\n",
    "発生確率を予測する手法  \n",
    "予測結果が0~1の間を取る  "
   ]
  },
  {
   "cell_type": "code",
   "execution_count": 13,
   "id": "3b047d93-a522-417c-b241-c251f352c8ca",
   "metadata": {},
   "outputs": [
    {
     "name": "stderr",
     "output_type": "stream",
     "text": [
      "/Users/masanari/.anyenv/envs/pyenv/versions/miniforge3-4.10/envs/breast-cancer-analytics/lib/python3.8/site-packages/sklearn/linear_model/_logistic.py:814: ConvergenceWarning: lbfgs failed to converge (status=1):\n",
      "STOP: TOTAL NO. of ITERATIONS REACHED LIMIT.\n",
      "\n",
      "Increase the number of iterations (max_iter) or scale the data as shown in:\n",
      "    https://scikit-learn.org/stable/modules/preprocessing.html\n",
      "Please also refer to the documentation for alternative solver options:\n",
      "    https://scikit-learn.org/stable/modules/linear_model.html#logistic-regression\n",
      "  n_iter_i = _check_optimize_result(\n"
     ]
    },
    {
     "data": {
      "text/plain": [
       "0.8288"
      ]
     },
     "execution_count": 13,
     "metadata": {},
     "output_type": "execute_result"
    }
   ],
   "source": [
    "clf_lr = LogisticRegression()\n",
    "clf_lr.fit(X_train, y_train)\n",
    "# 訓練データでの正答率\n",
    "clf_lr.score(X_train, y_train)"
   ]
  },
  {
   "cell_type": "code",
   "execution_count": 14,
   "id": "f1952e82-a27a-4335-99cc-dda9ce2cca4f",
   "metadata": {},
   "outputs": [
    {
     "data": {
      "image/png": "[encoded data removed]",
      "text/plain": [
       "<Figure size 432x288 with 2 Axes>"
      ]
     },
     "metadata": {
      "needs_background": "light"
     },
     "output_type": "display_data"
    }
   ],
   "source": [
    "y_pred_lr = clf_lr.predict(X_test)\n",
    "show_confusion_matrix(y_test, y_pred_lr)"
   ]
  },
  {
   "cell_type": "markdown",
   "id": "7f3f206b-129f-40b1-8701-be9547b937f2",
   "metadata": {
    "tags": []
   },
   "source": [
    "# 決定木モデル\n",
    " \n",
    "sklearnの決定木モデルを作成する。  \n",
    "精度の高いモデルを選びたいので、葉の数を2~50まで変動させ、accuracyを見る"
   ]
  },
  {
   "cell_type": "markdown",
   "id": "6a460865-484f-46ae-a4b7-392ea05d52cc",
   "metadata": {
    "tags": []
   },
   "source": [
    "## 決定木モデルの構築・検証\n",
    "\n",
    "決定木モデルを構築し、検証していく。  \n",
    "パラメータを操作するため、forループで回し、最もスコアの高いものを見ていく。"
   ]
  },
  {
   "cell_type": "code",
   "execution_count": 18,
   "id": "ae31e21e-a105-4db8-9e12-9471b528cdf5",
   "metadata": {
    "collapsed": true,
    "jupyter": {
     "outputs_hidden": true
    },
    "tags": []
   },
   "outputs": [
    {
     "name": "stdout",
     "output_type": "stream",
     "text": [
      "nodes_num:  2\n",
      "accuracy:  0.8321342925659473\n",
      "precision:  0.0\n",
      "recall:  0.0\n",
      "f1 score:  0.0\n",
      "----------------------------------------------------------------------------------------------------\n",
      "nodes_num:  3\n",
      "accuracy:  0.8321342925659473\n",
      "precision:  0.0\n",
      "recall:  0.0\n",
      "f1 score:  0.0\n",
      "----------------------------------------------------------------------------------------------------\n",
      "nodes_num:  4\n",
      "accuracy:  0.8057553956834532\n",
      "precision:  0.42857142857142855\n",
      "recall:  0.4714285714285714\n",
      "f1 score:  0.4489795918367347\n",
      "----------------------------------------------------------------------------------------------------\n",
      "nodes_num:  5\n",
      "accuracy:  0.8225419664268585\n",
      "precision:  0.25\n",
      "recall:  0.02857142857142857\n",
      "f1 score:  0.05128205128205128\n",
      "----------------------------------------------------------------------------------------------------\n",
      "nodes_num:  6\n",
      "accuracy:  0.8177458033573142\n",
      "precision:  0.35\n",
      "recall:  0.1\n",
      "f1 score:  0.15555555555555556\n",
      "----------------------------------------------------------------------------------------------------\n",
      "nodes_num:  7\n",
      "accuracy:  0.8177458033573142\n",
      "precision:  0.4318181818181818\n",
      "recall:  0.2714285714285714\n",
      "f1 score:  0.3333333333333333\n",
      "----------------------------------------------------------------------------------------------------\n",
      "nodes_num:  8\n",
      "accuracy:  0.8201438848920863\n",
      "precision:  0.41935483870967744\n",
      "recall:  0.18571428571428572\n",
      "f1 score:  0.25742574257425743\n",
      "----------------------------------------------------------------------------------------------------\n",
      "nodes_num:  9\n",
      "accuracy:  0.8201438848920863\n",
      "precision:  0.43243243243243246\n",
      "recall:  0.22857142857142856\n",
      "f1 score:  0.29906542056074764\n",
      "----------------------------------------------------------------------------------------------------\n",
      "nodes_num:  10\n",
      "accuracy:  0.8177458033573142\n",
      "precision:  0.4166666666666667\n",
      "recall:  0.21428571428571427\n",
      "f1 score:  0.2830188679245283\n",
      "----------------------------------------------------------------------------------------------------\n",
      "nodes_num:  11\n",
      "accuracy:  0.815347721822542\n",
      "precision:  0.41025641025641024\n",
      "recall:  0.22857142857142856\n",
      "f1 score:  0.29357798165137616\n",
      "----------------------------------------------------------------------------------------------------\n",
      "nodes_num:  12\n",
      "accuracy:  0.815347721822542\n",
      "precision:  0.41025641025641024\n",
      "recall:  0.22857142857142856\n",
      "f1 score:  0.29357798165137616\n",
      "----------------------------------------------------------------------------------------------------\n",
      "nodes_num:  13\n",
      "accuracy:  0.815347721822542\n",
      "precision:  0.41025641025641024\n",
      "recall:  0.22857142857142856\n",
      "f1 score:  0.29357798165137616\n",
      "----------------------------------------------------------------------------------------------------\n",
      "nodes_num:  14\n",
      "accuracy:  0.8201438848920863\n",
      "precision:  0.44680851063829785\n",
      "recall:  0.3\n",
      "f1 score:  0.35897435897435903\n",
      "----------------------------------------------------------------------------------------------------\n",
      "nodes_num:  15\n",
      "accuracy:  0.8201438848920863\n",
      "precision:  0.4444444444444444\n",
      "recall:  0.2857142857142857\n",
      "f1 score:  0.34782608695652173\n",
      "----------------------------------------------------------------------------------------------------\n",
      "nodes_num:  16\n",
      "accuracy:  0.8201438848920863\n",
      "precision:  0.4444444444444444\n",
      "recall:  0.2857142857142857\n",
      "f1 score:  0.34782608695652173\n",
      "----------------------------------------------------------------------------------------------------\n",
      "nodes_num:  17\n",
      "accuracy:  0.7889688249400479\n",
      "precision:  0.36764705882352944\n",
      "recall:  0.35714285714285715\n",
      "f1 score:  0.3623188405797101\n",
      "----------------------------------------------------------------------------------------------------\n",
      "nodes_num:  18\n",
      "accuracy:  0.8009592326139089\n",
      "precision:  0.39344262295081966\n",
      "recall:  0.34285714285714286\n",
      "f1 score:  0.366412213740458\n",
      "----------------------------------------------------------------------------------------------------\n",
      "nodes_num:  19\n",
      "accuracy:  0.7985611510791367\n",
      "precision:  0.390625\n",
      "recall:  0.35714285714285715\n",
      "f1 score:  0.3731343283582089\n",
      "----------------------------------------------------------------------------------------------------\n",
      "nodes_num:  20\n",
      "accuracy:  0.7985611510791367\n",
      "precision:  0.390625\n",
      "recall:  0.35714285714285715\n",
      "f1 score:  0.3731343283582089\n",
      "----------------------------------------------------------------------------------------------------\n",
      "nodes_num:  21\n",
      "accuracy:  0.7889688249400479\n",
      "precision:  0.375\n",
      "recall:  0.38571428571428573\n",
      "f1 score:  0.3802816901408451\n",
      "----------------------------------------------------------------------------------------------------\n",
      "nodes_num:  22\n",
      "accuracy:  0.7961630695443646\n",
      "precision:  0.4025974025974026\n",
      "recall:  0.44285714285714284\n",
      "f1 score:  0.4217687074829932\n",
      "----------------------------------------------------------------------------------------------------\n",
      "nodes_num:  23\n",
      "accuracy:  0.7913669064748201\n",
      "precision:  0.3924050632911392\n",
      "recall:  0.44285714285714284\n",
      "f1 score:  0.4161073825503356\n",
      "----------------------------------------------------------------------------------------------------\n",
      "nodes_num:  24\n",
      "accuracy:  0.7913669064748201\n",
      "precision:  0.3924050632911392\n",
      "recall:  0.44285714285714284\n",
      "f1 score:  0.4161073825503356\n",
      "----------------------------------------------------------------------------------------------------\n",
      "nodes_num:  25\n",
      "accuracy:  0.7961630695443646\n",
      "precision:  0.4025974025974026\n",
      "recall:  0.44285714285714284\n",
      "f1 score:  0.4217687074829932\n",
      "----------------------------------------------------------------------------------------------------\n",
      "nodes_num:  26\n",
      "accuracy:  0.7985611510791367\n",
      "precision:  0.40789473684210525\n",
      "recall:  0.44285714285714284\n",
      "f1 score:  0.42465753424657526\n",
      "----------------------------------------------------------------------------------------------------\n",
      "nodes_num:  27\n",
      "accuracy:  0.7985611510791367\n",
      "precision:  0.40789473684210525\n",
      "recall:  0.44285714285714284\n",
      "f1 score:  0.42465753424657526\n",
      "----------------------------------------------------------------------------------------------------\n",
      "nodes_num:  28\n",
      "accuracy:  0.7985611510791367\n",
      "precision:  0.4027777777777778\n",
      "recall:  0.4142857142857143\n",
      "f1 score:  0.4084507042253522\n",
      "----------------------------------------------------------------------------------------------------\n",
      "nodes_num:  29\n",
      "accuracy:  0.7985611510791367\n",
      "precision:  0.4027777777777778\n",
      "recall:  0.4142857142857143\n",
      "f1 score:  0.4084507042253522\n",
      "----------------------------------------------------------------------------------------------------\n",
      "nodes_num:  30\n",
      "accuracy:  0.7913669064748201\n",
      "precision:  0.38666666666666666\n",
      "recall:  0.4142857142857143\n",
      "f1 score:  0.39999999999999997\n",
      "----------------------------------------------------------------------------------------------------\n",
      "nodes_num:  31\n",
      "accuracy:  0.7889688249400479\n",
      "precision:  0.3783783783783784\n",
      "recall:  0.4\n",
      "f1 score:  0.3888888888888889\n",
      "----------------------------------------------------------------------------------------------------\n",
      "nodes_num:  32\n",
      "accuracy:  0.7889688249400479\n",
      "precision:  0.3815789473684211\n",
      "recall:  0.4142857142857143\n",
      "f1 score:  0.3972602739726028\n",
      "----------------------------------------------------------------------------------------------------\n",
      "nodes_num:  33\n",
      "accuracy:  0.7889688249400479\n",
      "precision:  0.3815789473684211\n",
      "recall:  0.4142857142857143\n",
      "f1 score:  0.3972602739726028\n",
      "----------------------------------------------------------------------------------------------------\n",
      "nodes_num:  34\n",
      "accuracy:  0.7889688249400479\n",
      "precision:  0.3815789473684211\n",
      "recall:  0.4142857142857143\n",
      "f1 score:  0.3972602739726028\n",
      "----------------------------------------------------------------------------------------------------\n",
      "nodes_num:  35\n",
      "accuracy:  0.7817745803357314\n",
      "precision:  0.3670886075949367\n",
      "recall:  0.4142857142857143\n",
      "f1 score:  0.389261744966443\n",
      "----------------------------------------------------------------------------------------------------\n",
      "nodes_num:  36\n",
      "accuracy:  0.7817745803357314\n",
      "precision:  0.3670886075949367\n",
      "recall:  0.4142857142857143\n",
      "f1 score:  0.389261744966443\n",
      "----------------------------------------------------------------------------------------------------\n",
      "nodes_num:  37\n",
      "accuracy:  0.7865707434052758\n",
      "precision:  0.3698630136986301\n",
      "recall:  0.38571428571428573\n",
      "f1 score:  0.37762237762237766\n",
      "----------------------------------------------------------------------------------------------------\n",
      "nodes_num:  38\n",
      "accuracy:  0.7889688249400479\n",
      "precision:  0.3783783783783784\n",
      "recall:  0.4\n",
      "f1 score:  0.3888888888888889\n",
      "----------------------------------------------------------------------------------------------------\n",
      "nodes_num:  39\n",
      "accuracy:  0.7889688249400479\n",
      "precision:  0.3815789473684211\n",
      "recall:  0.4142857142857143\n",
      "f1 score:  0.3972602739726028\n",
      "----------------------------------------------------------------------------------------------------\n",
      "nodes_num:  40\n",
      "accuracy:  0.7865707434052758\n",
      "precision:  0.37333333333333335\n",
      "recall:  0.4\n",
      "f1 score:  0.38620689655172413\n",
      "----------------------------------------------------------------------------------------------------\n",
      "nodes_num:  41\n",
      "accuracy:  0.7865707434052758\n",
      "precision:  0.37333333333333335\n",
      "recall:  0.4\n",
      "f1 score:  0.38620689655172413\n",
      "----------------------------------------------------------------------------------------------------\n",
      "nodes_num:  42\n",
      "accuracy:  0.7865707434052758\n",
      "precision:  0.37333333333333335\n",
      "recall:  0.4\n",
      "f1 score:  0.38620689655172413\n",
      "----------------------------------------------------------------------------------------------------\n",
      "nodes_num:  43\n",
      "accuracy:  0.7865707434052758\n",
      "precision:  0.37333333333333335\n",
      "recall:  0.4\n",
      "f1 score:  0.38620689655172413\n",
      "----------------------------------------------------------------------------------------------------\n",
      "nodes_num:  44\n",
      "accuracy:  0.7865707434052758\n",
      "precision:  0.37333333333333335\n",
      "recall:  0.4\n",
      "f1 score:  0.38620689655172413\n",
      "----------------------------------------------------------------------------------------------------\n",
      "nodes_num:  45\n",
      "accuracy:  0.7865707434052758\n",
      "precision:  0.37662337662337664\n",
      "recall:  0.4142857142857143\n",
      "f1 score:  0.3945578231292517\n",
      "----------------------------------------------------------------------------------------------------\n",
      "nodes_num:  46\n",
      "accuracy:  0.7889688249400479\n",
      "precision:  0.3815789473684211\n",
      "recall:  0.4142857142857143\n",
      "f1 score:  0.3972602739726028\n",
      "----------------------------------------------------------------------------------------------------\n",
      "nodes_num:  47\n",
      "accuracy:  0.7889688249400479\n",
      "precision:  0.3815789473684211\n",
      "recall:  0.4142857142857143\n",
      "f1 score:  0.3972602739726028\n",
      "----------------------------------------------------------------------------------------------------\n",
      "nodes_num:  48\n",
      "accuracy:  0.7889688249400479\n",
      "precision:  0.3815789473684211\n",
      "recall:  0.4142857142857143\n",
      "f1 score:  0.3972602739726028\n",
      "----------------------------------------------------------------------------------------------------\n",
      "nodes_num:  49\n",
      "accuracy:  0.7889688249400479\n",
      "precision:  0.3815789473684211\n",
      "recall:  0.4142857142857143\n",
      "f1 score:  0.3972602739726028\n",
      "----------------------------------------------------------------------------------------------------\n"
     ]
    }
   ],
   "source": [
    "import warnings\n",
    "\n",
    "warnings.filterwarnings(\"ignore\")  # lrで警告が出て視認性が悪いので、いったん非表示\n",
    "\n",
    "accuracies_tree = {}\n",
    "precisions_tree = {}\n",
    "recalls_tree = {}\n",
    "f1_scores_tree = {}\n",
    "\n",
    "for nodes_num in range(2, 50):\n",
    "    clf_tree = DecisionTreeClassifier(max_leaf_nodes=nodes_num, random_state=SEED)\n",
    "    clf_tree = clf_tree.fit(X_train, y_train)\n",
    "\n",
    "    y_pred_tree = clf_tree.predict(X_test)\n",
    "\n",
    "    accuracies_tree[nodes_num] = accuracy_score(y_test, y_pred_tree)\n",
    "    precisions_tree[nodes_num] = precision_score(y_test, y_pred_tree)\n",
    "    recalls_tree[nodes_num] = recall_score(y_test, y_pred_tree)\n",
    "    f1_scores_tree[nodes_num] = f1_score(y_test, y_pred_tree)\n",
    "\n",
    "    print(\"nodes_num: \", nodes_num)\n",
    "    show_scores(y_test, y_pred_tree)\n",
    "    print(\"----------\" * 10)\n",
    "\n",
    "warnings.filterwarnings(\"always\")"
   ]
  },
  {
   "cell_type": "code",
   "execution_count": 19,
   "id": "85c43bcb-9510-4cef-83b8-8efca236cab9",
   "metadata": {},
   "outputs": [
    {
     "data": {
      "text/plain": [
       "'max nodes_num'"
      ]
     },
     "metadata": {},
     "output_type": "display_data"
    },
    {
     "data": {
      "text/plain": [
       "2"
      ]
     },
     "metadata": {},
     "output_type": "display_data"
    },
    {
     "data": {
      "text/plain": [
       "14"
      ]
     },
     "metadata": {},
     "output_type": "display_data"
    },
    {
     "data": {
      "text/plain": [
       "4"
      ]
     },
     "metadata": {},
     "output_type": "display_data"
    },
    {
     "data": {
      "text/plain": [
       "4"
      ]
     },
     "metadata": {},
     "output_type": "display_data"
    },
    {
     "name": "stdout",
     "output_type": "stream",
     "text": [
      "accuracy:  0.8057553956834532\n",
      "precision:  0.42857142857142855\n",
      "recall:  0.4714285714285714\n",
      "f1_score:  0.4489795918367347\n"
     ]
    },
    {
     "data": {
      "text/plain": [
       "Text(0, 0.5, 'score')"
      ]
     },
     "execution_count": 19,
     "metadata": {},
     "output_type": "execute_result"
    },
    {
     "data": {
      "image/png": "[encoded data removed]",
      "text/plain": [
       "<Figure size 432x288 with 1 Axes>"
      ]
     },
     "metadata": {
      "needs_background": "light"
     },
     "output_type": "display_data"
    }
   ],
   "source": [
    "# 各スコアのプロット\n",
    "display(\n",
    "    \"max nodes_num\",\n",
    "    max(accuracies_tree, key=accuracies_tree.get),\n",
    "    max(precisions_tree, key=precisions_tree.get),\n",
    "    max(recalls_tree, key=recalls_tree.get),\n",
    "    max(f1_scores_tree, key=f1_scores_tree.get),\n",
    ")\n",
    "\n",
    "# f1_scoreが最も高いモデルのスコア\n",
    "print(\n",
    "    \"accuracy: \",\n",
    "    accuracies_tree[max(f1_scores_tree, key=f1_scores_tree.get)],\n",
    ")\n",
    "print(\n",
    "    \"precision: \",\n",
    "    precisions_tree[max(f1_scores_tree, key=f1_scores_tree.get)],\n",
    ")\n",
    "print(\n",
    "    \"recall: \",\n",
    "    recalls_tree[max(f1_scores_tree, key=f1_scores_tree.get)],\n",
    ")\n",
    "print(\n",
    "    \"f1_score: \",\n",
    "    f1_scores_tree[max(f1_scores_tree, key=f1_scores_tree.get)],\n",
    ")\n",
    "\n",
    "df_score_tree = pd.DataFrame(\n",
    "    [accuracies_tree, precisions_tree, recalls_tree, f1_scores_tree],\n",
    "    index=[\"accuracy\", \"precision\", \"recall\", \"f1 score\"],\n",
    "    columns=accuracies_tree.keys(),\n",
    ").T\n",
    "p = sns.lineplot(data=df_score_tree)\n",
    "p.set_xlabel(\"nodes_nums\", fontsize=20)\n",
    "p.set_ylabel(\"score\", fontsize=20)"
   ]
  },
  {
   "cell_type": "code",
   "execution_count": 20,
   "id": "02f1fcd8-14df-44ff-be1d-6db19bdfce0f",
   "metadata": {},
   "outputs": [
    {
     "data": {
      "image/png": "[encoded data removed]",
      "text/plain": [
       "<Figure size 432x288 with 2 Axes>"
      ]
     },
     "metadata": {
      "needs_background": "light"
     },
     "output_type": "display_data"
    }
   ],
   "source": [
    "clf_tree = DecisionTreeClassifier(\n",
    "    max_leaf_nodes=max(f1_scores_tree, key=f1_scores_tree.get),\n",
    "    random_state=config.SEED,\n",
    ")\n",
    "clf_tree = clf_tree.fit(X_train, y_train)\n",
    "y_pred_tree = clf_tree.predict(X_test)\n",
    "show_confusion_matrix(y_test, y_pred_tree)"
   ]
  },
  {
   "cell_type": "code",
   "execution_count": 23,
   "id": "97bef53c-e6c0-4a0f-8e4d-9ab869afe507",
   "metadata": {},
   "outputs": [
    {
     "data": {
      "image/png": "[encoded data removed]",
      "text/plain": [
       "<IPython.core.display.Image object>"
      ]
     },
     "execution_count": 23,
     "metadata": {},
     "output_type": "execute_result"
    }
   ],
   "source": [
    "dot_data = StringIO()  # dotファイル情報の格納先\n",
    "export_graphviz(\n",
    "    clf_tree,\n",
    "    out_file=dot_data,\n",
    "    feature_names=X.columns,\n",
    "    # class_names= y.unique(),\n",
    "    filled=True,\n",
    "    rounded=True,\n",
    "    special_characters=True,\n",
    ")\n",
    "graph = pydotplus.graph_from_dot_data(dot_data.getvalue())\n",
    "Image(graph.create_png())\n",
    "#graph.write_png(config.TREE_DIR + \"/3.0.0-importance_dt.png\")"
   ]
  },
  {
   "cell_type": "code",
   "execution_count": null,
   "id": "fe46ee11-4bd1-4996-85a0-a0ef3d4e20ab",
   "metadata": {},
   "outputs": [],
   "source": []
  }
 ],
 "metadata": {
  "interpreter": {
   "hash": "6cecfcb002507d68feb988228d86e9c6727afe09fa1042e3327ddeb41aee6fc4"
  },
  "kernelspec": {
   "display_name": "Python 3 (ipykernel)",
   "language": "python",
   "name": "python3"
  },
  "language_info": {
   "codemirror_mode": {
    "name": "ipython",
    "version": 3
   },
   "file_extension": ".py",
   "mimetype": "text/x-python",
   "name": "python",
   "nbconvert_exporter": "python",
   "pygments_lexer": "ipython3",
   "version": "3.8.13"
  }
 },
 "nbformat": 4,
 "nbformat_minor": 5
}
