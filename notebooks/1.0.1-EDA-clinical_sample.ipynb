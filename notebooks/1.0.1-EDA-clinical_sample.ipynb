{
 "cells": [
  {
   "cell_type": "code",
   "execution_count": 17,
   "id": "8293713b-45cd-46b9-8aee-009a608b6a4c",
   "metadata": {},
   "outputs": [],
   "source": [
    "import os\n",
    "\n",
    "import numpy as np\n",
    "import pandas as pd\n",
    "import matplotlib.pyplot as plt\n",
    "import seaborn as sns\n",
    "\n",
    "import sweetviz as sv\n",
    "import dtale\n",
    "\n",
    "import config\n",
    "\n",
    "# 最大表示列数の指定（ここでは50列を指定）\n",
    "pd.set_option(\"display.max_columns\", 50)\n",
    "\n",
    "\n",
    "def make_dir(dir_name: str):\n",
    "    if not os.path.exists(dir_name):\n",
    "        os.makedirs(dir_name)"
   ]
  },
  {
   "cell_type": "code",
   "execution_count": 18,
   "id": "221f874e-ea7b-452a-9c64-944ebd349adb",
   "metadata": {},
   "outputs": [
    {
     "data": {
      "text/html": [
       "<div>\n",
       "<style scoped>\n",
       "    .dataframe tbody tr th:only-of-type {\n",
       "        vertical-align: middle;\n",
       "    }\n",
       "\n",
       "    .dataframe tbody tr th {\n",
       "        vertical-align: top;\n",
       "    }\n",
       "\n",
       "    .dataframe thead th {\n",
       "        text-align: right;\n",
       "    }\n",
       "</style>\n",
       "<table border=\"1\" class=\"dataframe\">\n",
       "  <thead>\n",
       "    <tr style=\"text-align: right;\">\n",
       "      <th></th>\n",
       "      <th>PATIENT_ID</th>\n",
       "      <th>SAMPLE_ID</th>\n",
       "      <th>CANCER_TYPE</th>\n",
       "      <th>CANCER_TYPE_DETAILED</th>\n",
       "      <th>ER_STATUS</th>\n",
       "      <th>HER2_STATUS</th>\n",
       "      <th>GRADE</th>\n",
       "      <th>ONCOTREE_CODE</th>\n",
       "      <th>PR_STATUS</th>\n",
       "      <th>SAMPLE_TYPE</th>\n",
       "      <th>TUMOR_SIZE</th>\n",
       "      <th>TUMOR_STAGE</th>\n",
       "      <th>TMB_NONSYNONYMOUS</th>\n",
       "    </tr>\n",
       "  </thead>\n",
       "  <tbody>\n",
       "    <tr>\n",
       "      <th>0</th>\n",
       "      <td>MB-0000</td>\n",
       "      <td>MB-0000</td>\n",
       "      <td>Breast Cancer</td>\n",
       "      <td>Breast Invasive Ductal Carcinoma</td>\n",
       "      <td>Positive</td>\n",
       "      <td>Negative</td>\n",
       "      <td>3.0</td>\n",
       "      <td>IDC</td>\n",
       "      <td>Negative</td>\n",
       "      <td>Primary</td>\n",
       "      <td>22.0</td>\n",
       "      <td>2.0</td>\n",
       "      <td>0.000000</td>\n",
       "    </tr>\n",
       "    <tr>\n",
       "      <th>1</th>\n",
       "      <td>MB-0002</td>\n",
       "      <td>MB-0002</td>\n",
       "      <td>Breast Cancer</td>\n",
       "      <td>Breast Invasive Ductal Carcinoma</td>\n",
       "      <td>Positive</td>\n",
       "      <td>Negative</td>\n",
       "      <td>3.0</td>\n",
       "      <td>IDC</td>\n",
       "      <td>Positive</td>\n",
       "      <td>Primary</td>\n",
       "      <td>10.0</td>\n",
       "      <td>1.0</td>\n",
       "      <td>2.615035</td>\n",
       "    </tr>\n",
       "    <tr>\n",
       "      <th>2</th>\n",
       "      <td>MB-0005</td>\n",
       "      <td>MB-0005</td>\n",
       "      <td>Breast Cancer</td>\n",
       "      <td>Breast Invasive Ductal Carcinoma</td>\n",
       "      <td>Positive</td>\n",
       "      <td>Negative</td>\n",
       "      <td>2.0</td>\n",
       "      <td>IDC</td>\n",
       "      <td>Positive</td>\n",
       "      <td>Primary</td>\n",
       "      <td>15.0</td>\n",
       "      <td>2.0</td>\n",
       "      <td>2.615035</td>\n",
       "    </tr>\n",
       "    <tr>\n",
       "      <th>3</th>\n",
       "      <td>MB-0006</td>\n",
       "      <td>MB-0006</td>\n",
       "      <td>Breast Cancer</td>\n",
       "      <td>Breast Mixed Ductal and Lobular Carcinoma</td>\n",
       "      <td>Positive</td>\n",
       "      <td>Negative</td>\n",
       "      <td>2.0</td>\n",
       "      <td>MDLC</td>\n",
       "      <td>Positive</td>\n",
       "      <td>Primary</td>\n",
       "      <td>25.0</td>\n",
       "      <td>2.0</td>\n",
       "      <td>1.307518</td>\n",
       "    </tr>\n",
       "    <tr>\n",
       "      <th>4</th>\n",
       "      <td>MB-0008</td>\n",
       "      <td>MB-0008</td>\n",
       "      <td>Breast Cancer</td>\n",
       "      <td>Breast Mixed Ductal and Lobular Carcinoma</td>\n",
       "      <td>Positive</td>\n",
       "      <td>Negative</td>\n",
       "      <td>3.0</td>\n",
       "      <td>MDLC</td>\n",
       "      <td>Positive</td>\n",
       "      <td>Primary</td>\n",
       "      <td>40.0</td>\n",
       "      <td>2.0</td>\n",
       "      <td>2.615035</td>\n",
       "    </tr>\n",
       "  </tbody>\n",
       "</table>\n",
       "</div>"
      ],
      "text/plain": [
       "  PATIENT_ID SAMPLE_ID    CANCER_TYPE  \\\n",
       "0    MB-0000   MB-0000  Breast Cancer   \n",
       "1    MB-0002   MB-0002  Breast Cancer   \n",
       "2    MB-0005   MB-0005  Breast Cancer   \n",
       "3    MB-0006   MB-0006  Breast Cancer   \n",
       "4    MB-0008   MB-0008  Breast Cancer   \n",
       "\n",
       "                        CANCER_TYPE_DETAILED ER_STATUS HER2_STATUS  GRADE  \\\n",
       "0           Breast Invasive Ductal Carcinoma  Positive    Negative    3.0   \n",
       "1           Breast Invasive Ductal Carcinoma  Positive    Negative    3.0   \n",
       "2           Breast Invasive Ductal Carcinoma  Positive    Negative    2.0   \n",
       "3  Breast Mixed Ductal and Lobular Carcinoma  Positive    Negative    2.0   \n",
       "4  Breast Mixed Ductal and Lobular Carcinoma  Positive    Negative    3.0   \n",
       "\n",
       "  ONCOTREE_CODE PR_STATUS SAMPLE_TYPE  TUMOR_SIZE  TUMOR_STAGE  \\\n",
       "0           IDC  Negative     Primary        22.0          2.0   \n",
       "1           IDC  Positive     Primary        10.0          1.0   \n",
       "2           IDC  Positive     Primary        15.0          2.0   \n",
       "3          MDLC  Positive     Primary        25.0          2.0   \n",
       "4          MDLC  Positive     Primary        40.0          2.0   \n",
       "\n",
       "   TMB_NONSYNONYMOUS  \n",
       "0           0.000000  \n",
       "1           2.615035  \n",
       "2           2.615035  \n",
       "3           1.307518  \n",
       "4           2.615035  "
      ]
     },
     "execution_count": 18,
     "metadata": {},
     "output_type": "execute_result"
    }
   ],
   "source": [
    "df_sample = pd.read_table(\n",
    "    config.RAW_BRCA_METABRIC_DIR + \"/data_clinical_sample.txt\", header=4\n",
    ")\n",
    "df_sample.head()"
   ]
  },
  {
   "cell_type": "code",
   "execution_count": 19,
   "id": "2b985765-eaf7-495b-b342-cda12f26ca76",
   "metadata": {},
   "outputs": [
    {
     "name": "stdout",
     "output_type": "stream",
     "text": [
      "<class 'pandas.core.frame.DataFrame'>\n",
      "RangeIndex: 2509 entries, 0 to 2508\n",
      "Data columns (total 13 columns):\n",
      " #   Column                Non-Null Count  Dtype  \n",
      "---  ------                --------------  -----  \n",
      " 0   PATIENT_ID            2509 non-null   object \n",
      " 1   SAMPLE_ID             2509 non-null   object \n",
      " 2   CANCER_TYPE           2509 non-null   object \n",
      " 3   CANCER_TYPE_DETAILED  2509 non-null   object \n",
      " 4   ER_STATUS             2469 non-null   object \n",
      " 5   HER2_STATUS           1980 non-null   object \n",
      " 6   GRADE                 2388 non-null   float64\n",
      " 7   ONCOTREE_CODE         2509 non-null   object \n",
      " 8   PR_STATUS             1980 non-null   object \n",
      " 9   SAMPLE_TYPE           2509 non-null   object \n",
      " 10  TUMOR_SIZE            2360 non-null   float64\n",
      " 11  TUMOR_STAGE           1788 non-null   float64\n",
      " 12  TMB_NONSYNONYMOUS     2509 non-null   float64\n",
      "dtypes: float64(4), object(9)\n",
      "memory usage: 254.9+ KB\n"
     ]
    }
   ],
   "source": [
    "df_sample.info()"
   ]
  },
  {
   "cell_type": "code",
   "execution_count": 20,
   "id": "7ea60c4c-2a1e-4519-b825-3777b116b7b5",
   "metadata": {},
   "outputs": [],
   "source": [
    "# dtale.show(df_sample)"
   ]
  },
  {
   "cell_type": "markdown",
   "id": "62841c72-36e4-4d79-a569-809fd351e852",
   "metadata": {},
   "source": [
    "## 特徴量の型に合わせたエンコーディング"
   ]
  },
  {
   "cell_type": "code",
   "execution_count": 21,
   "id": "b60e2722-b6b4-4da5-be50-bf4fdd954117",
   "metadata": {},
   "outputs": [],
   "source": [
    "df_sample_converted = df_sample.copy()"
   ]
  },
  {
   "cell_type": "code",
   "execution_count": 22,
   "id": "c5638723-b81c-45ed-99e8-9e5916307468",
   "metadata": {
    "tags": []
   },
   "outputs": [
    {
     "name": "stdout",
     "output_type": "stream",
     "text": [
      "13 13\n"
     ]
    }
   ],
   "source": [
    "target_columns = []\n",
    "\n",
    "int_columns = []\n",
    "\n",
    "float_columns = [\n",
    "    \"TUMOR_SIZE\",\n",
    "    \"TMB_NONSYNONYMOUS\",\n",
    "]\n",
    "\n",
    "ｓｔｒ_columns = []\n",
    "\n",
    "# 質的変数（順序尺度）\n",
    "qualitative_ordinal_columns = [\n",
    "    \"ER_STATUS\",\n",
    "    \"HER2_STATUS\",\n",
    "    \"GRADE\",\n",
    "    \"PR_STATUS\",\n",
    "    \"TUMOR_STAGE\",\n",
    "]\n",
    "# 質的変数（名義尺度）\n",
    "qualitative_name_columns = [\n",
    "    \"CANCER_TYPE\",\n",
    "    \"CANCER_TYPE_DETAILED\",\n",
    "    \"ONCOTREE_CODE\",\n",
    "]\n",
    "\n",
    "bool_columns = []\n",
    "\n",
    "meanless_columns = [\n",
    "    \"PATIENT_ID\",\n",
    "    \"SAMPLE_ID\",\n",
    "    \"SAMPLE_TYPE\",\n",
    "]\n",
    "print(\n",
    "    df_sample.shape[1],\n",
    "    len(target_columns)\n",
    "    + len(int_columns)\n",
    "    + len(float_columns)\n",
    "    + len(ｓｔｒ_columns)\n",
    "    + len(qualitative_ordinal_columns)\n",
    "    + len(qualitative_name_columns)\n",
    "    + len(bool_columns)\n",
    "    + len(meanless_columns),\n",
    ")\n",
    "assert df_sample.shape[1] == len(target_columns) + len(int_columns) + len(\n",
    "    float_columns\n",
    ") + len(ｓｔｒ_columns) + len(qualitative_ordinal_columns) + len(\n",
    "    qualitative_name_columns\n",
    ") + len(\n",
    "    bool_columns\n",
    ") + len(\n",
    "    meanless_columns\n",
    "), \"columns lack or too much\""
   ]
  },
  {
   "cell_type": "markdown",
   "id": "f505eafd-6ef2-4c32-ac85-6d293060db28",
   "metadata": {},
   "source": [
    "### 質的変数（順序特徴量）のエンコーディング"
   ]
  },
  {
   "cell_type": "code",
   "execution_count": 23,
   "id": "24fcdbad-04eb-4881-b9a7-78fd09b482be",
   "metadata": {},
   "outputs": [
    {
     "data": {
      "text/plain": [
       "['ER_STATUS', 'HER2_STATUS', 'GRADE', 'PR_STATUS', 'TUMOR_STAGE']"
      ]
     },
     "execution_count": 23,
     "metadata": {},
     "output_type": "execute_result"
    }
   ],
   "source": [
    "qualitative_ordinal_columns"
   ]
  },
  {
   "cell_type": "code",
   "execution_count": 24,
   "id": "9be7ef0b-6c7d-446c-9c7a-59186026b42d",
   "metadata": {},
   "outputs": [
    {
     "data": {
      "text/plain": [
       "array(['Positive', 'Negative', nan], dtype=object)"
      ]
     },
     "metadata": {},
     "output_type": "display_data"
    },
    {
     "data": {
      "text/plain": [
       "array(['Negative', nan, 'Positive'], dtype=object)"
      ]
     },
     "metadata": {},
     "output_type": "display_data"
    },
    {
     "data": {
      "text/plain": [
       "array([ 3.,  2.,  1., nan])"
      ]
     },
     "metadata": {},
     "output_type": "display_data"
    },
    {
     "data": {
      "text/plain": [
       "array(['Negative', 'Positive', nan], dtype=object)"
      ]
     },
     "metadata": {},
     "output_type": "display_data"
    },
    {
     "data": {
      "text/plain": [
       "array([ 2.,  1.,  4.,  3.,  0., nan])"
      ]
     },
     "metadata": {},
     "output_type": "display_data"
    }
   ],
   "source": [
    "for i in qualitative_ordinal_columns:\n",
    "    display(df_sample[i].unique())"
   ]
  },
  {
   "cell_type": "code",
   "execution_count": 25,
   "id": "af56db82-4742-4f46-8712-4ef4c18235a8",
   "metadata": {},
   "outputs": [],
   "source": [
    "df_sample_converted[\"ER_STATUS_converted\"] = df_sample_converted[\"ER_STATUS\"].map(\n",
    "    {\"Positive\": 1, \"Negative\": -1}\n",
    ")\n",
    "df_sample_converted[\"HER2_STATUS_converted\"] = df_sample_converted[\"HER2_STATUS\"].map(\n",
    "    {\"Positive\": 1, \"Negative\": -1}\n",
    ")\n",
    "# df_sample_converted['GRADE_converted']=df_sample_converted['GRADEGRADE'].map()\n",
    "df_sample_converted[\"PR_STATUS_converted\"] = df_sample_converted[\"PR_STATUS\"].map(\n",
    "    {\"Positive\": 1, \"Negative\": -1}\n",
    ")\n",
    "# df_sample_converted['TUMOR_STAGE_converted']=df_sample_converted['TUMOR_STAGE'].map()\n",
    "\n",
    "qualitative_ordinal_columns = [\n",
    "    \"ER_STATUS_converted\",\n",
    "    \"HER2_STATUS_converted\",\n",
    "    \"GRADE\",\n",
    "    \"PR_STATUS_converted\",\n",
    "    \"TUMOR_STAGE\",\n",
    "]\n",
    "\n",
    "df_sample_converted = df_sample_converted.drop(\n",
    "    [\"ER_STATUS\", \"HER2_STATUS\", \"PR_STATUS\"], axis=1\n",
    ")"
   ]
  },
  {
   "cell_type": "markdown",
   "id": "472c613c-0072-403d-9960-56c3a1ccd529",
   "metadata": {},
   "source": [
    "### boolのエンコーディング"
   ]
  },
  {
   "cell_type": "code",
   "execution_count": 26,
   "id": "be134865-8b88-4231-86e5-ce3ea888912e",
   "metadata": {},
   "outputs": [
    {
     "data": {
      "text/plain": [
       "[]"
      ]
     },
     "execution_count": 26,
     "metadata": {},
     "output_type": "execute_result"
    }
   ],
   "source": [
    "bool_columns"
   ]
  },
  {
   "cell_type": "code",
   "execution_count": 27,
   "id": "725dc3ce-9bd8-4ec0-b359-2f3955091b87",
   "metadata": {},
   "outputs": [],
   "source": [
    "# astypeするためのdict作成\n",
    "def list2dict(str_dtype: str, columns: list, dic: dict = {}) -> dict:\n",
    "    for column in columns:\n",
    "        dic[column] = str_dtype\n",
    "    return dic"
   ]
  },
  {
   "cell_type": "code",
   "execution_count": 28,
   "id": "ab82d148-c6b9-4f01-b0fe-1d0f6273199b",
   "metadata": {},
   "outputs": [
    {
     "data": {
      "text/plain": [
       "'astype_dict size: '"
      ]
     },
     "metadata": {},
     "output_type": "display_data"
    },
    {
     "data": {
      "text/plain": [
       "10"
      ]
     },
     "metadata": {},
     "output_type": "display_data"
    },
    {
     "data": {
      "text/plain": [
       "'target_columns size: '"
      ]
     },
     "metadata": {},
     "output_type": "display_data"
    },
    {
     "data": {
      "text/plain": [
       "0"
      ]
     },
     "metadata": {},
     "output_type": "display_data"
    },
    {
     "data": {
      "text/plain": [
       "'meanless_columns size: '"
      ]
     },
     "metadata": {},
     "output_type": "display_data"
    },
    {
     "data": {
      "text/plain": [
       "3"
      ]
     },
     "metadata": {},
     "output_type": "display_data"
    },
    {
     "data": {
      "text/plain": [
       "'original size: '"
      ]
     },
     "metadata": {},
     "output_type": "display_data"
    },
    {
     "data": {
      "text/plain": [
       "13"
      ]
     },
     "metadata": {},
     "output_type": "display_data"
    }
   ],
   "source": [
    "astype_dict = {}\n",
    "astype_dict = list2dict(\"float\", int_columns)\n",
    "astype_dict = list2dict(\"float\", float_columns)\n",
    "astype_dict = list2dict(\"str\", str_columns)\n",
    "astype_dict = list2dict(\"float\", qualitative_ordinal_columns)\n",
    "astype_dict = list2dict(\"str\", qualitative_name_columns)\n",
    "astype_dict = list2dict(\"bool\", bool_columns)\n",
    "\n",
    "display(\n",
    "    \"astype_dict size: \",\n",
    "    len(astype_dict),\n",
    "    \"target_columns size: \",\n",
    "    len(target_columns),\n",
    "    \"meanless_columns size: \",\n",
    "    len(meanless_columns),\n",
    "    \"original size: \",\n",
    "    df_sample.shape[1],\n",
    ")\n",
    "\n",
    "assert (\n",
    "    len(astype_dict) + len(target_columns) + len(meanless_columns) == df_sample.shape[1]\n",
    "), \"lack or too much columns\""
   ]
  },
  {
   "cell_type": "code",
   "execution_count": 29,
   "id": "1883f93b-f3fd-4dae-b1b8-16c895f4fe54",
   "metadata": {},
   "outputs": [
    {
     "data": {
      "text/plain": [
       "PATIENT_ID                object\n",
       "SAMPLE_ID                 object\n",
       "CANCER_TYPE               object\n",
       "CANCER_TYPE_DETAILED      object\n",
       "GRADE                    float64\n",
       "ONCOTREE_CODE             object\n",
       "SAMPLE_TYPE               object\n",
       "TUMOR_SIZE               float64\n",
       "TUMOR_STAGE              float64\n",
       "TMB_NONSYNONYMOUS        float64\n",
       "ER_STATUS_converted      float64\n",
       "HER2_STATUS_converted    float64\n",
       "PR_STATUS_converted      float64\n",
       "dtype: object"
      ]
     },
     "execution_count": 29,
     "metadata": {},
     "output_type": "execute_result"
    }
   ],
   "source": [
    "df_sample_converted = df_sample_converted.astype(astype_dict)\n",
    "df_sample_converted.dtypes"
   ]
  },
  {
   "cell_type": "code",
   "execution_count": 30,
   "id": "ab8fd1b5-d144-48c1-984d-1ccc66c71145",
   "metadata": {},
   "outputs": [
    {
     "data": {
      "text/html": [
       "<div>\n",
       "<style scoped>\n",
       "    .dataframe tbody tr th:only-of-type {\n",
       "        vertical-align: middle;\n",
       "    }\n",
       "\n",
       "    .dataframe tbody tr th {\n",
       "        vertical-align: top;\n",
       "    }\n",
       "\n",
       "    .dataframe thead th {\n",
       "        text-align: right;\n",
       "    }\n",
       "</style>\n",
       "<table border=\"1\" class=\"dataframe\">\n",
       "  <thead>\n",
       "    <tr style=\"text-align: right;\">\n",
       "      <th></th>\n",
       "      <th>PATIENT_ID</th>\n",
       "      <th>SAMPLE_ID</th>\n",
       "      <th>CANCER_TYPE</th>\n",
       "      <th>CANCER_TYPE_DETAILED</th>\n",
       "      <th>ER_STATUS</th>\n",
       "      <th>HER2_STATUS</th>\n",
       "      <th>GRADE</th>\n",
       "      <th>ONCOTREE_CODE</th>\n",
       "      <th>PR_STATUS</th>\n",
       "      <th>SAMPLE_TYPE</th>\n",
       "      <th>TUMOR_SIZE</th>\n",
       "      <th>TUMOR_STAGE</th>\n",
       "      <th>TMB_NONSYNONYMOUS</th>\n",
       "    </tr>\n",
       "  </thead>\n",
       "  <tbody>\n",
       "    <tr>\n",
       "      <th>0</th>\n",
       "      <td>MB-0000</td>\n",
       "      <td>MB-0000</td>\n",
       "      <td>Breast Cancer</td>\n",
       "      <td>Breast Invasive Ductal Carcinoma</td>\n",
       "      <td>Positive</td>\n",
       "      <td>Negative</td>\n",
       "      <td>3.0</td>\n",
       "      <td>IDC</td>\n",
       "      <td>Negative</td>\n",
       "      <td>Primary</td>\n",
       "      <td>22.0</td>\n",
       "      <td>2.0</td>\n",
       "      <td>0.000000</td>\n",
       "    </tr>\n",
       "    <tr>\n",
       "      <th>1</th>\n",
       "      <td>MB-0002</td>\n",
       "      <td>MB-0002</td>\n",
       "      <td>Breast Cancer</td>\n",
       "      <td>Breast Invasive Ductal Carcinoma</td>\n",
       "      <td>Positive</td>\n",
       "      <td>Negative</td>\n",
       "      <td>3.0</td>\n",
       "      <td>IDC</td>\n",
       "      <td>Positive</td>\n",
       "      <td>Primary</td>\n",
       "      <td>10.0</td>\n",
       "      <td>1.0</td>\n",
       "      <td>2.615035</td>\n",
       "    </tr>\n",
       "    <tr>\n",
       "      <th>2</th>\n",
       "      <td>MB-0005</td>\n",
       "      <td>MB-0005</td>\n",
       "      <td>Breast Cancer</td>\n",
       "      <td>Breast Invasive Ductal Carcinoma</td>\n",
       "      <td>Positive</td>\n",
       "      <td>Negative</td>\n",
       "      <td>2.0</td>\n",
       "      <td>IDC</td>\n",
       "      <td>Positive</td>\n",
       "      <td>Primary</td>\n",
       "      <td>15.0</td>\n",
       "      <td>2.0</td>\n",
       "      <td>2.615035</td>\n",
       "    </tr>\n",
       "    <tr>\n",
       "      <th>3</th>\n",
       "      <td>MB-0006</td>\n",
       "      <td>MB-0006</td>\n",
       "      <td>Breast Cancer</td>\n",
       "      <td>Breast Mixed Ductal and Lobular Carcinoma</td>\n",
       "      <td>Positive</td>\n",
       "      <td>Negative</td>\n",
       "      <td>2.0</td>\n",
       "      <td>MDLC</td>\n",
       "      <td>Positive</td>\n",
       "      <td>Primary</td>\n",
       "      <td>25.0</td>\n",
       "      <td>2.0</td>\n",
       "      <td>1.307518</td>\n",
       "    </tr>\n",
       "    <tr>\n",
       "      <th>4</th>\n",
       "      <td>MB-0008</td>\n",
       "      <td>MB-0008</td>\n",
       "      <td>Breast Cancer</td>\n",
       "      <td>Breast Mixed Ductal and Lobular Carcinoma</td>\n",
       "      <td>Positive</td>\n",
       "      <td>Negative</td>\n",
       "      <td>3.0</td>\n",
       "      <td>MDLC</td>\n",
       "      <td>Positive</td>\n",
       "      <td>Primary</td>\n",
       "      <td>40.0</td>\n",
       "      <td>2.0</td>\n",
       "      <td>2.615035</td>\n",
       "    </tr>\n",
       "    <tr>\n",
       "      <th>...</th>\n",
       "      <td>...</td>\n",
       "      <td>...</td>\n",
       "      <td>...</td>\n",
       "      <td>...</td>\n",
       "      <td>...</td>\n",
       "      <td>...</td>\n",
       "      <td>...</td>\n",
       "      <td>...</td>\n",
       "      <td>...</td>\n",
       "      <td>...</td>\n",
       "      <td>...</td>\n",
       "      <td>...</td>\n",
       "      <td>...</td>\n",
       "    </tr>\n",
       "    <tr>\n",
       "      <th>2504</th>\n",
       "      <td>MTS-T2428</td>\n",
       "      <td>MTS-T2428</td>\n",
       "      <td>Breast Cancer</td>\n",
       "      <td>Invasive Breast Carcinoma</td>\n",
       "      <td>Positive</td>\n",
       "      <td>NaN</td>\n",
       "      <td>1.0</td>\n",
       "      <td>BRCA</td>\n",
       "      <td>NaN</td>\n",
       "      <td>Primary</td>\n",
       "      <td>27.0</td>\n",
       "      <td>1.0</td>\n",
       "      <td>2.615035</td>\n",
       "    </tr>\n",
       "    <tr>\n",
       "      <th>2505</th>\n",
       "      <td>MTS-T2429</td>\n",
       "      <td>MTS-T2429</td>\n",
       "      <td>Breast Cancer</td>\n",
       "      <td>Invasive Breast Carcinoma</td>\n",
       "      <td>Positive</td>\n",
       "      <td>NaN</td>\n",
       "      <td>2.0</td>\n",
       "      <td>BRCA</td>\n",
       "      <td>NaN</td>\n",
       "      <td>Primary</td>\n",
       "      <td>28.0</td>\n",
       "      <td>2.0</td>\n",
       "      <td>5.230071</td>\n",
       "    </tr>\n",
       "    <tr>\n",
       "      <th>2506</th>\n",
       "      <td>MTS-T2430</td>\n",
       "      <td>MTS-T2430</td>\n",
       "      <td>Breast Cancer</td>\n",
       "      <td>Invasive Breast Carcinoma</td>\n",
       "      <td>NaN</td>\n",
       "      <td>NaN</td>\n",
       "      <td>NaN</td>\n",
       "      <td>BRCA</td>\n",
       "      <td>NaN</td>\n",
       "      <td>Primary</td>\n",
       "      <td>NaN</td>\n",
       "      <td>0.0</td>\n",
       "      <td>7.845106</td>\n",
       "    </tr>\n",
       "    <tr>\n",
       "      <th>2507</th>\n",
       "      <td>MTS-T2431</td>\n",
       "      <td>MTS-T2431</td>\n",
       "      <td>Breast Cancer</td>\n",
       "      <td>Invasive Breast Carcinoma</td>\n",
       "      <td>NaN</td>\n",
       "      <td>NaN</td>\n",
       "      <td>NaN</td>\n",
       "      <td>BRCA</td>\n",
       "      <td>NaN</td>\n",
       "      <td>Primary</td>\n",
       "      <td>NaN</td>\n",
       "      <td>0.0</td>\n",
       "      <td>9.152624</td>\n",
       "    </tr>\n",
       "    <tr>\n",
       "      <th>2508</th>\n",
       "      <td>MTS-T2432</td>\n",
       "      <td>MTS-T2432</td>\n",
       "      <td>Breast Cancer</td>\n",
       "      <td>Invasive Breast Carcinoma</td>\n",
       "      <td>NaN</td>\n",
       "      <td>NaN</td>\n",
       "      <td>NaN</td>\n",
       "      <td>BRCA</td>\n",
       "      <td>NaN</td>\n",
       "      <td>Primary</td>\n",
       "      <td>NaN</td>\n",
       "      <td>0.0</td>\n",
       "      <td>6.537589</td>\n",
       "    </tr>\n",
       "  </tbody>\n",
       "</table>\n",
       "<p>2509 rows × 13 columns</p>\n",
       "</div>"
      ],
      "text/plain": [
       "     PATIENT_ID  SAMPLE_ID    CANCER_TYPE  \\\n",
       "0       MB-0000    MB-0000  Breast Cancer   \n",
       "1       MB-0002    MB-0002  Breast Cancer   \n",
       "2       MB-0005    MB-0005  Breast Cancer   \n",
       "3       MB-0006    MB-0006  Breast Cancer   \n",
       "4       MB-0008    MB-0008  Breast Cancer   \n",
       "...         ...        ...            ...   \n",
       "2504  MTS-T2428  MTS-T2428  Breast Cancer   \n",
       "2505  MTS-T2429  MTS-T2429  Breast Cancer   \n",
       "2506  MTS-T2430  MTS-T2430  Breast Cancer   \n",
       "2507  MTS-T2431  MTS-T2431  Breast Cancer   \n",
       "2508  MTS-T2432  MTS-T2432  Breast Cancer   \n",
       "\n",
       "                           CANCER_TYPE_DETAILED ER_STATUS HER2_STATUS  GRADE  \\\n",
       "0              Breast Invasive Ductal Carcinoma  Positive    Negative    3.0   \n",
       "1              Breast Invasive Ductal Carcinoma  Positive    Negative    3.0   \n",
       "2              Breast Invasive Ductal Carcinoma  Positive    Negative    2.0   \n",
       "3     Breast Mixed Ductal and Lobular Carcinoma  Positive    Negative    2.0   \n",
       "4     Breast Mixed Ductal and Lobular Carcinoma  Positive    Negative    3.0   \n",
       "...                                         ...       ...         ...    ...   \n",
       "2504                  Invasive Breast Carcinoma  Positive         NaN    1.0   \n",
       "2505                  Invasive Breast Carcinoma  Positive         NaN    2.0   \n",
       "2506                  Invasive Breast Carcinoma       NaN         NaN    NaN   \n",
       "2507                  Invasive Breast Carcinoma       NaN         NaN    NaN   \n",
       "2508                  Invasive Breast Carcinoma       NaN         NaN    NaN   \n",
       "\n",
       "     ONCOTREE_CODE PR_STATUS SAMPLE_TYPE  TUMOR_SIZE  TUMOR_STAGE  \\\n",
       "0              IDC  Negative     Primary        22.0          2.0   \n",
       "1              IDC  Positive     Primary        10.0          1.0   \n",
       "2              IDC  Positive     Primary        15.0          2.0   \n",
       "3             MDLC  Positive     Primary        25.0          2.0   \n",
       "4             MDLC  Positive     Primary        40.0          2.0   \n",
       "...            ...       ...         ...         ...          ...   \n",
       "2504          BRCA       NaN     Primary        27.0          1.0   \n",
       "2505          BRCA       NaN     Primary        28.0          2.0   \n",
       "2506          BRCA       NaN     Primary         NaN          0.0   \n",
       "2507          BRCA       NaN     Primary         NaN          0.0   \n",
       "2508          BRCA       NaN     Primary         NaN          0.0   \n",
       "\n",
       "      TMB_NONSYNONYMOUS  \n",
       "0              0.000000  \n",
       "1              2.615035  \n",
       "2              2.615035  \n",
       "3              1.307518  \n",
       "4              2.615035  \n",
       "...                 ...  \n",
       "2504           2.615035  \n",
       "2505           5.230071  \n",
       "2506           7.845106  \n",
       "2507           9.152624  \n",
       "2508           6.537589  \n",
       "\n",
       "[2509 rows x 13 columns]"
      ]
     },
     "execution_count": 30,
     "metadata": {},
     "output_type": "execute_result"
    }
   ],
   "source": [
    "df_sample.head()\n",
    "df_sample"
   ]
  },
  {
   "cell_type": "code",
   "execution_count": 31,
   "id": "cbaaddec-a0e5-4faa-b1fa-0cb8c64eb07f",
   "metadata": {},
   "outputs": [
    {
     "data": {
      "text/html": [
       "<div>\n",
       "<style scoped>\n",
       "    .dataframe tbody tr th:only-of-type {\n",
       "        vertical-align: middle;\n",
       "    }\n",
       "\n",
       "    .dataframe tbody tr th {\n",
       "        vertical-align: top;\n",
       "    }\n",
       "\n",
       "    .dataframe thead th {\n",
       "        text-align: right;\n",
       "    }\n",
       "</style>\n",
       "<table border=\"1\" class=\"dataframe\">\n",
       "  <thead>\n",
       "    <tr style=\"text-align: right;\">\n",
       "      <th></th>\n",
       "      <th>PATIENT_ID</th>\n",
       "      <th>SAMPLE_ID</th>\n",
       "      <th>CANCER_TYPE</th>\n",
       "      <th>CANCER_TYPE_DETAILED</th>\n",
       "      <th>GRADE</th>\n",
       "      <th>ONCOTREE_CODE</th>\n",
       "      <th>SAMPLE_TYPE</th>\n",
       "      <th>TUMOR_SIZE</th>\n",
       "      <th>TUMOR_STAGE</th>\n",
       "      <th>TMB_NONSYNONYMOUS</th>\n",
       "      <th>ER_STATUS_converted</th>\n",
       "      <th>HER2_STATUS_converted</th>\n",
       "      <th>PR_STATUS_converted</th>\n",
       "    </tr>\n",
       "  </thead>\n",
       "  <tbody>\n",
       "    <tr>\n",
       "      <th>0</th>\n",
       "      <td>MB-0000</td>\n",
       "      <td>MB-0000</td>\n",
       "      <td>Breast Cancer</td>\n",
       "      <td>Breast Invasive Ductal Carcinoma</td>\n",
       "      <td>3.0</td>\n",
       "      <td>IDC</td>\n",
       "      <td>Primary</td>\n",
       "      <td>22.0</td>\n",
       "      <td>2.0</td>\n",
       "      <td>0.000000</td>\n",
       "      <td>1.0</td>\n",
       "      <td>-1.0</td>\n",
       "      <td>-1.0</td>\n",
       "    </tr>\n",
       "    <tr>\n",
       "      <th>1</th>\n",
       "      <td>MB-0002</td>\n",
       "      <td>MB-0002</td>\n",
       "      <td>Breast Cancer</td>\n",
       "      <td>Breast Invasive Ductal Carcinoma</td>\n",
       "      <td>3.0</td>\n",
       "      <td>IDC</td>\n",
       "      <td>Primary</td>\n",
       "      <td>10.0</td>\n",
       "      <td>1.0</td>\n",
       "      <td>2.615035</td>\n",
       "      <td>1.0</td>\n",
       "      <td>-1.0</td>\n",
       "      <td>1.0</td>\n",
       "    </tr>\n",
       "    <tr>\n",
       "      <th>2</th>\n",
       "      <td>MB-0005</td>\n",
       "      <td>MB-0005</td>\n",
       "      <td>Breast Cancer</td>\n",
       "      <td>Breast Invasive Ductal Carcinoma</td>\n",
       "      <td>2.0</td>\n",
       "      <td>IDC</td>\n",
       "      <td>Primary</td>\n",
       "      <td>15.0</td>\n",
       "      <td>2.0</td>\n",
       "      <td>2.615035</td>\n",
       "      <td>1.0</td>\n",
       "      <td>-1.0</td>\n",
       "      <td>1.0</td>\n",
       "    </tr>\n",
       "    <tr>\n",
       "      <th>3</th>\n",
       "      <td>MB-0006</td>\n",
       "      <td>MB-0006</td>\n",
       "      <td>Breast Cancer</td>\n",
       "      <td>Breast Mixed Ductal and Lobular Carcinoma</td>\n",
       "      <td>2.0</td>\n",
       "      <td>MDLC</td>\n",
       "      <td>Primary</td>\n",
       "      <td>25.0</td>\n",
       "      <td>2.0</td>\n",
       "      <td>1.307518</td>\n",
       "      <td>1.0</td>\n",
       "      <td>-1.0</td>\n",
       "      <td>1.0</td>\n",
       "    </tr>\n",
       "    <tr>\n",
       "      <th>4</th>\n",
       "      <td>MB-0008</td>\n",
       "      <td>MB-0008</td>\n",
       "      <td>Breast Cancer</td>\n",
       "      <td>Breast Mixed Ductal and Lobular Carcinoma</td>\n",
       "      <td>3.0</td>\n",
       "      <td>MDLC</td>\n",
       "      <td>Primary</td>\n",
       "      <td>40.0</td>\n",
       "      <td>2.0</td>\n",
       "      <td>2.615035</td>\n",
       "      <td>1.0</td>\n",
       "      <td>-1.0</td>\n",
       "      <td>1.0</td>\n",
       "    </tr>\n",
       "  </tbody>\n",
       "</table>\n",
       "</div>"
      ],
      "text/plain": [
       "  PATIENT_ID SAMPLE_ID    CANCER_TYPE  \\\n",
       "0    MB-0000   MB-0000  Breast Cancer   \n",
       "1    MB-0002   MB-0002  Breast Cancer   \n",
       "2    MB-0005   MB-0005  Breast Cancer   \n",
       "3    MB-0006   MB-0006  Breast Cancer   \n",
       "4    MB-0008   MB-0008  Breast Cancer   \n",
       "\n",
       "                        CANCER_TYPE_DETAILED  GRADE ONCOTREE_CODE SAMPLE_TYPE  \\\n",
       "0           Breast Invasive Ductal Carcinoma    3.0           IDC     Primary   \n",
       "1           Breast Invasive Ductal Carcinoma    3.0           IDC     Primary   \n",
       "2           Breast Invasive Ductal Carcinoma    2.0           IDC     Primary   \n",
       "3  Breast Mixed Ductal and Lobular Carcinoma    2.0          MDLC     Primary   \n",
       "4  Breast Mixed Ductal and Lobular Carcinoma    3.0          MDLC     Primary   \n",
       "\n",
       "   TUMOR_SIZE  TUMOR_STAGE  TMB_NONSYNONYMOUS  ER_STATUS_converted  \\\n",
       "0        22.0          2.0           0.000000                  1.0   \n",
       "1        10.0          1.0           2.615035                  1.0   \n",
       "2        15.0          2.0           2.615035                  1.0   \n",
       "3        25.0          2.0           1.307518                  1.0   \n",
       "4        40.0          2.0           2.615035                  1.0   \n",
       "\n",
       "   HER2_STATUS_converted  PR_STATUS_converted  \n",
       "0                   -1.0                 -1.0  \n",
       "1                   -1.0                  1.0  \n",
       "2                   -1.0                  1.0  \n",
       "3                   -1.0                  1.0  \n",
       "4                   -1.0                  1.0  "
      ]
     },
     "execution_count": 31,
     "metadata": {},
     "output_type": "execute_result"
    }
   ],
   "source": [
    "df_sample_converted.head()"
   ]
  },
  {
   "cell_type": "code",
   "execution_count": 32,
   "id": "8920b547-bdf4-49c6-89bd-70a183978688",
   "metadata": {},
   "outputs": [],
   "source": [
    "# pickleとして保存\n",
    "make_dir(config.INTERIM_PICKLE_EDA_DIR)\n",
    "df_sample_converted.to_pickle(\n",
    "    config.INTERIM_PICKLE_EDA_DIR + \"/1.0.1-data_clinical_sample.pkl\"\n",
    ")"
   ]
  },
  {
   "cell_type": "code",
   "execution_count": null,
   "id": "e642624d",
   "metadata": {},
   "outputs": [],
   "source": []
  }
 ],
 "metadata": {
  "interpreter": {
   "hash": "6cecfcb002507d68feb988228d86e9c6727afe09fa1042e3327ddeb41aee6fc4"
  },
  "kernelspec": {
   "display_name": "Python 3 (ipykernel)",
   "language": "python",
   "name": "python3"
  },
  "language_info": {
   "codemirror_mode": {
    "name": "ipython",
    "version": 3
   },
   "file_extension": ".py",
   "mimetype": "text/x-python",
   "name": "python",
   "nbconvert_exporter": "python",
   "pygments_lexer": "ipython3",
   "version": "3.8.13"
  }
 },
 "nbformat": 4,
 "nbformat_minor": 5
}
