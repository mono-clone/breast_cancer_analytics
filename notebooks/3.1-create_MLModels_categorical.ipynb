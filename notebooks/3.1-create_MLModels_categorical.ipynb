{
 "cells": [
  {
   "cell_type": "markdown",
   "id": "633b5102-aadc-4650-a1de-4a44c7a819f5",
   "metadata": {},
   "source": [
    "# クラス分類学習モデルの作成、予測の実行"
   ]
  },
  {
   "cell_type": "code",
   "execution_count": 1,
   "id": "36b0899c-856f-4042-a5df-a6127b49c306",
   "metadata": {},
   "outputs": [],
   "source": [
    "import os\n",
    "import random\n",
    "\n",
    "import numpy as np\n",
    "import pandas as pd\n",
    "import matplotlib.pyplot as plt\n",
    "import seaborn as sns\n",
    "\n",
    "from sklearn.tree import DecisionTreeClassifier, export_graphviz\n",
    "import graphviz\n",
    "import pydotplus\n",
    "from IPython.display import Image\n",
    "from six import StringIO\n",
    "\n",
    "from sklearn.model_selection import train_test_split\n",
    "from sklearn.metrics import confusion_matrix\n",
    "\n",
    "import config\n",
    "\n",
    "#最大表示列数の指定（ここでは50列を指定）\n",
    "pd.set_option('display.max_columns', 50)\n",
    "pd.set_option('display.max_rows', 50)\n",
    "\n",
    "def make_dir(dir_name: str):\n",
    "    if not os.path.exists(dir_name):\n",
    "        os.makedirs(dir_name)\n",
    "\n",
    "# seedの固定\n",
    "def fix_seed(seed):\n",
    "    # random\n",
    "    random.seed(seed)\n",
    "    # Numpy\n",
    "    np.random.seed(seed)\n",
    "\n",
    "SEED = config.SEED\n",
    "fix_seed(SEED)"
   ]
  },
  {
   "cell_type": "markdown",
   "id": "a9c889e6-7479-4c13-8496-c8817af4bb64",
   "metadata": {
    "tags": []
   },
   "source": [
    "# 決定木クラス分類モデルの作成・実行\n",
    "\n",
    "決定木クラス分類モデルを作成、実行し、クラス分類に有用な特徴量を見つける  \n",
    "精度は重視しない"
   ]
  },
  {
   "cell_type": "code",
   "execution_count": 2,
   "id": "ab1084e7-07ff-4862-b7cc-5f4ddb9acab9",
   "metadata": {},
   "outputs": [
    {
     "name": "stdout",
     "output_type": "stream",
     "text": [
      "<class 'pandas.core.frame.DataFrame'>\n",
      "Int64Index: 1481 entries, 1 to 1121\n",
      "Data columns (total 64 columns):\n",
      " #   Column                                                          Non-Null Count  Dtype  \n",
      "---  ------                                                          --------------  -----  \n",
      " 0   PATIENT_ID                                                      1124 non-null   object \n",
      " 1   LYMPH_NODES_EXAMINED_POSITIVE                                   1124 non-null   float64\n",
      " 2   NPI                                                             1124 non-null   float64\n",
      " 3   CELLULARITY                                                     1124 non-null   float64\n",
      " 4   CHEMOTHERAPY                                                    1124 non-null   object \n",
      " 5   ER_IHC                                                          1124 non-null   float64\n",
      " 6   HER2_SNP6                                                       1124 non-null   float64\n",
      " 7   HORMONE_THERAPY                                                 1124 non-null   object \n",
      " 8   INFERRED_MENOPAUSAL_STATE                                       1124 non-null   float64\n",
      " 9   SEX                                                             1124 non-null   object \n",
      " 10  AGE_AT_DIAGNOSIS                                                1124 non-null   float64\n",
      " 11  OS_MONTHS                                                       1124 non-null   float64\n",
      " 12  OS_STATUS                                                       1124 non-null   object \n",
      " 13  VITAL_STATUS                                                    1124 non-null   object \n",
      " 14  RADIO_THERAPY                                                   1124 non-null   object \n",
      " 15  RFS_STATUS                                                      1124 non-null   object \n",
      " 16  RFS_MONTHS                                                      1124 non-null   float64\n",
      " 17  SAMPLE_ID                                                       1124 non-null   object \n",
      " 18  ER_STATUS                                                       1124 non-null   float64\n",
      " 19  HER2_STATUS                                                     1124 non-null   float64\n",
      " 20  GRADE                                                           1124 non-null   float64\n",
      " 21  PR_STATUS                                                       1124 non-null   float64\n",
      " 22  SAMPLE_TYPE                                                     1124 non-null   object \n",
      " 23  TUMOR_SIZE                                                      1124 non-null   float64\n",
      " 24  TUMOR_STAGE                                                     1124 non-null   float64\n",
      " 25  TMB_NONSYNONYMOUS                                               1124 non-null   float64\n",
      " 26  COHORT_2.0                                                      1124 non-null   float64\n",
      " 27  COHORT_3.0                                                      1124 non-null   float64\n",
      " 28  COHORT_5.0                                                      1124 non-null   float64\n",
      " 29  INTCLUST_10                                                     1124 non-null   float64\n",
      " 30  INTCLUST_2                                                      1124 non-null   float64\n",
      " 31  INTCLUST_3                                                      1124 non-null   float64\n",
      " 32  INTCLUST_4ER+                                                   1124 non-null   float64\n",
      " 33  INTCLUST_4ER-                                                   1124 non-null   float64\n",
      " 34  INTCLUST_5                                                      1124 non-null   float64\n",
      " 35  INTCLUST_6                                                      1124 non-null   float64\n",
      " 36  INTCLUST_7                                                      1124 non-null   float64\n",
      " 37  INTCLUST_8                                                      1124 non-null   float64\n",
      " 38  INTCLUST_9                                                      1124 non-null   float64\n",
      " 39  CLAUDIN_SUBTYPE_Her2                                            1124 non-null   float64\n",
      " 40  CLAUDIN_SUBTYPE_LumA                                            1124 non-null   float64\n",
      " 41  CLAUDIN_SUBTYPE_LumB                                            1124 non-null   float64\n",
      " 42  CLAUDIN_SUBTYPE_NC                                              1124 non-null   float64\n",
      " 43  CLAUDIN_SUBTYPE_Normal                                          1124 non-null   float64\n",
      " 44  CLAUDIN_SUBTYPE_claudin-low                                     1124 non-null   float64\n",
      " 45  THREEGENE_ER+/HER2- Low Prolif                                  1124 non-null   float64\n",
      " 46  THREEGENE_ER-/HER2-                                             1124 non-null   float64\n",
      " 47  THREEGENE_HER2+                                                 1124 non-null   float64\n",
      " 48  HISTOLOGICAL_SUBTYPE_Lobular                                    1124 non-null   float64\n",
      " 49  HISTOLOGICAL_SUBTYPE_Medullary                                  1124 non-null   float64\n",
      " 50  HISTOLOGICAL_SUBTYPE_Mixed                                      1124 non-null   float64\n",
      " 51  HISTOLOGICAL_SUBTYPE_Mucinous                                   1124 non-null   float64\n",
      " 52  HISTOLOGICAL_SUBTYPE_Other                                      1124 non-null   float64\n",
      " 53  HISTOLOGICAL_SUBTYPE_Tubular/ cribriform                        1124 non-null   float64\n",
      " 54  BREAST_SURGERY_MASTECTOMY                                       1124 non-null   float64\n",
      " 55  LATERALITY_Right                                                1124 non-null   float64\n",
      " 56  CANCER_TYPE_DETAILED_Breast Invasive Ductal Carcinoma           1124 non-null   float64\n",
      " 57  CANCER_TYPE_DETAILED_Breast Invasive Lobular Carcinoma          1124 non-null   float64\n",
      " 58  CANCER_TYPE_DETAILED_Breast Invasive Mixed Mucinous Carcinoma   1124 non-null   float64\n",
      " 59  CANCER_TYPE_DETAILED_Breast Mixed Ductal and Lobular Carcinoma  1124 non-null   float64\n",
      " 60  ONCOTREE_CODE_IDC                                               1124 non-null   float64\n",
      " 61  ONCOTREE_CODE_ILC                                               1124 non-null   float64\n",
      " 62  ONCOTREE_CODE_IMMC                                              1124 non-null   float64\n",
      " 63  ONCOTREE_CODE_MDLC                                              1124 non-null   float64\n",
      "dtypes: float64(54), object(10)\n",
      "memory usage: 752.1+ KB\n"
     ]
    }
   ],
   "source": [
    "df_MB_onehot_concated=pd.read_pickle(config.INTERIM_PICKLE_PREPROCESSED_DIR+'/2.2-df_MB_onehot_concated.pkl')\n",
    "df_MB_onehot_concated.info()"
   ]
  },
  {
   "cell_type": "code",
   "execution_count": null,
   "id": "781a6950-1a60-4a78-aebf-b0c36825123e",
   "metadata": {},
   "outputs": [],
   "source": []
  }
 ],
 "metadata": {
  "kernelspec": {
   "display_name": "breast-cancer-analytics",
   "language": "python",
   "name": "breast-cancer-analytics"
  },
  "language_info": {
   "codemirror_mode": {
    "name": "ipython",
    "version": 3
   },
   "file_extension": ".py",
   "mimetype": "text/x-python",
   "name": "python",
   "nbconvert_exporter": "python",
   "pygments_lexer": "ipython3",
   "version": "3.8.13"
  }
 },
 "nbformat": 4,
 "nbformat_minor": 5
}
