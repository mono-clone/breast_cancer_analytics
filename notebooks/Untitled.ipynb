{
 "cells": [
  {
   "cell_type": "code",
   "execution_count": 5,
   "id": "39f8a07d-349c-4bff-aa64-6e90a512c792",
   "metadata": {},
   "outputs": [],
   "source": [
    "from libraries.mrmr import mrmr\n",
    "\n",
    "import pandas as pd"
   ]
  },
  {
   "cell_type": "code",
   "execution_count": 6,
   "id": "a13522c0-e153-44da-8a3e-c07da4f75b73",
   "metadata": {},
   "outputs": [
    {
     "name": "stderr",
     "output_type": "stream",
     "text": [
      "100%|██████████████████████████████████████| 10/10 [00:00<00:00, 116.29it/s]\n"
     ]
    }
   ],
   "source": [
    "# create some pandas data\n",
    "from sklearn.datasets import make_classification\n",
    "\n",
    "X, y = make_classification(\n",
    "    n_samples=1000, n_features=50, n_informative=10, n_redundant=40\n",
    ")\n",
    "X = pd.DataFrame(X)\n",
    "y = pd.Series(y)\n",
    "\n",
    "# select top 10 features using mRMR\n",
    "\n",
    "selected_features = mrmr.mrmr_classif(X=X, y=y, K=10)"
   ]
  },
  {
   "cell_type": "code",
   "execution_count": 7,
   "id": "f08f1a3f-e033-4418-b586-36627cb7d2fe",
   "metadata": {},
   "outputs": [
    {
     "data": {
      "text/plain": [
       "[2, 14, 7, 0, 19, 17, 42, 10, 4, 41]"
      ]
     },
     "execution_count": 7,
     "metadata": {},
     "output_type": "execute_result"
    }
   ],
   "source": [
    "selected_features"
   ]
  },
  {
   "cell_type": "code",
   "execution_count": null,
   "id": "5f5345c4-b186-411f-adf1-9ebaf52ca391",
   "metadata": {},
   "outputs": [],
   "source": []
  }
 ],
 "metadata": {
  "kernelspec": {
   "display_name": "Python 3 (ipykernel)",
   "language": "python",
   "name": "python3"
  },
  "language_info": {
   "codemirror_mode": {
    "name": "ipython",
    "version": 3
   },
   "file_extension": ".py",
   "mimetype": "text/x-python",
   "name": "python",
   "nbconvert_exporter": "python",
   "pygments_lexer": "ipython3",
   "version": "3.8.13"
  }
 },
 "nbformat": 4,
 "nbformat_minor": 5
}
