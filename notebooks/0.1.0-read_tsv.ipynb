{
 "cells": [
  {
   "cell_type": "code",
   "execution_count": 5,
   "id": "48694edc-a175-4191-8a1a-7d0c75cb17b8",
   "metadata": {},
   "outputs": [],
   "source": [
    "import os\n",
    "from pathlib import Path\n",
    "\n",
    "import numpy as np\n",
    "import pandas as pd\n",
    "\n",
    "import config\n",
    "\n",
    "# 最大表示列数の指定（ここでは50列を指定）\n",
    "pd.set_option(\"display.max_columns\", 50)\n",
    "\n",
    "\n",
    "def make_dir(dir_name: str):\n",
    "    if not os.path.exists(dir_name):\n",
    "        os.makedirs(dir_name)"
   ]
  },
  {
   "cell_type": "markdown",
   "id": "2f429a92",
   "metadata": {},
   "source": [
    "## data_clinical_patient"
   ]
  },
  {
   "cell_type": "code",
   "execution_count": 6,
   "id": "d2e9773c",
   "metadata": {},
   "outputs": [],
   "source": [
    "make_dir(config.INTERIM_BRCA_METABRIC_DIR + \"/head\")"
   ]
  },
  {
   "cell_type": "code",
   "execution_count": 7,
   "id": "3bd75f75",
   "metadata": {},
   "outputs": [],
   "source": [
    "def create_head_csv(file_name: str, size: int = 5):\n",
    "    pd.read_table(config.RAW_BRCA_METABRIC_DIR + \"/\" + file_name + \".txt\").head(\n",
    "        size\n",
    "    ).to_csv(config.INTERIM_BRCA_METABRIC_DIR + \"/head/\" + file_name + \"_head.csv\")\n",
    "\n",
    "\n",
    "def show_head(file_name: str, size: int = 5):\n",
    "    display(\n",
    "        pd.read_table(config.RAW_BRCA_METABRIC_DIR + \"/\" + file_name + \".txt\").head(\n",
    "            size\n",
    "        )\n",
    "    )\n",
    "\n",
    "\n",
    "def show_tail(file_name: str, size: int = 5):\n",
    "    display(\n",
    "        pd.read_table(config.RAW_BRCA_METABRIC_DIR + \"/\" + file_name + \".txt\").tail(\n",
    "            size\n",
    "        )\n",
    "    )"
   ]
  },
  {
   "cell_type": "code",
   "execution_count": 8,
   "id": "82c000a2",
   "metadata": {},
   "outputs": [
    {
     "ename": "IndexError",
     "evalue": "list index out of range",
     "output_type": "error",
     "traceback": [
      "\u001b[1;31m---------------------------------------------------------------------------\u001b[0m",
      "\u001b[1;31mIndexError\u001b[0m                                Traceback (most recent call last)",
      "Input \u001b[1;32mIn [8]\u001b[0m, in \u001b[0;36m<cell line: 3>\u001b[1;34m()\u001b[0m\n\u001b[0;32m      1\u001b[0m p \u001b[38;5;241m=\u001b[39m Path(config\u001b[38;5;241m.\u001b[39mRAW_BRCA_METABRIC_DIR)\n\u001b[0;32m      3\u001b[0m \u001b[38;5;28;01mfor\u001b[39;00m file_name \u001b[38;5;129;01min\u001b[39;00m \u001b[38;5;28msorted\u001b[39m(\n\u001b[0;32m      4\u001b[0m     [\u001b[38;5;28mstr\u001b[39m(file_name) \u001b[38;5;28;01mfor\u001b[39;00m file_name \u001b[38;5;129;01min\u001b[39;00m \u001b[38;5;28mlist\u001b[39m(p\u001b[38;5;241m.\u001b[39mglob(\u001b[38;5;124m\"\u001b[39m\u001b[38;5;124m**/data_*.txt\u001b[39m\u001b[38;5;124m\"\u001b[39m))]\n\u001b[0;32m      5\u001b[0m ):\n\u001b[1;32m----> 6\u001b[0m     file_name \u001b[38;5;241m=\u001b[39m \u001b[43mfile_name\u001b[49m\u001b[38;5;241;43m.\u001b[39;49m\u001b[43msplit\u001b[49m\u001b[43m(\u001b[49m\u001b[38;5;124;43m\"\u001b[39;49m\u001b[38;5;124;43m/\u001b[39;49m\u001b[38;5;124;43m\"\u001b[39;49m\u001b[43m)\u001b[49m\u001b[43m[\u001b[49m\u001b[38;5;241;43m4\u001b[39;49m\u001b[43m]\u001b[49m\u001b[38;5;241m.\u001b[39msplit(\u001b[38;5;124m\"\u001b[39m\u001b[38;5;124m.\u001b[39m\u001b[38;5;124m\"\u001b[39m)[\u001b[38;5;241m0\u001b[39m]\n\u001b[0;32m      7\u001b[0m     \u001b[38;5;28mprint\u001b[39m(file_name)\n\u001b[0;32m      8\u001b[0m     create_head_csv(file_name, \u001b[38;5;241m4\u001b[39m)\n",
      "\u001b[1;31mIndexError\u001b[0m: list index out of range"
     ]
    }
   ],
   "source": [
    "p = Path(config.RAW_BRCA_METABRIC_DIR)\n",
    "\n",
    "for file_name in sorted(\n",
    "    [str(file_name) for file_name in list(p.glob(\"**/data_*.txt\"))]\n",
    "):\n",
    "    file_name = file_name.split(\"/\")[4].split(\".\")[0]\n",
    "    print(file_name)\n",
    "    create_head_csv(file_name, 4)\n",
    "    show_head(file_name, 8)\n",
    "    show_tail(file_name)"
   ]
  },
  {
   "cell_type": "code",
   "execution_count": null,
   "id": "0f65ac1f",
   "metadata": {},
   "outputs": [],
   "source": []
  },
  {
   "cell_type": "code",
   "execution_count": null,
   "id": "d5655c9e",
   "metadata": {},
   "outputs": [],
   "source": []
  }
 ],
 "metadata": {
  "kernelspec": {
   "display_name": "Python 3 (ipykernel)",
   "language": "python",
   "name": "python3"
  },
  "language_info": {
   "codemirror_mode": {
    "name": "ipython",
    "version": 3
   },
   "file_extension": ".py",
   "mimetype": "text/x-python",
   "name": "python",
   "nbconvert_exporter": "python",
   "pygments_lexer": "ipython3",
   "version": "3.8.13"
  }
 },
 "nbformat": 4,
 "nbformat_minor": 5
}
