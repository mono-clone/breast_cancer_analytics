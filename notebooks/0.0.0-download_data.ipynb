{
 "cells": [
  {
   "cell_type": "markdown",
   "id": "90d8e39c-0849-496d-a400-33f40012e6cd",
   "metadata": {},
   "source": [
    "# Download data from cBioPortal \n",
    "\n",
    "download link: https://cbioportal-datahub.s3.amazonaws.com/brca_metabric.tar.gz"
   ]
  },
  {
   "cell_type": "markdown",
   "id": "1ec0f59c-33ad-46ca-880f-b4e0754612b5",
   "metadata": {},
   "source": [
    "## 前提条件\n",
    "\n",
    "カレントディレクトリが/notebooks/であること（breast_cancer_analyticsディレクトリから'jupyter lab or notebookコマンドによってjupyter kernelを立ち上げたこと'）"
   ]
  },
  {
   "cell_type": "code",
   "execution_count": 1,
   "id": "7de6779d-009f-425d-b5ec-adc24149aa11",
   "metadata": {},
   "outputs": [],
   "source": [
    "import os\n",
    "from os.path import join, dirname\n",
    "import shutil\n",
    "\n",
    "import requests\n",
    "import tarfile\n",
    "from dotenv import load_dotenv\n",
    "\n",
    "import config"
   ]
  },
  {
   "cell_type": "code",
   "execution_count": 2,
   "id": "519b3afb",
   "metadata": {},
   "outputs": [],
   "source": [
    "def make_dir(dirname: str):\n",
    "    if not os.path.exists(dirname):\n",
    "        os.makedirs(dirname)"
   ]
  },
  {
   "cell_type": "markdown",
   "id": "f422f012",
   "metadata": {},
   "source": [
    "### データディレクトリの作成"
   ]
  },
  {
   "cell_type": "code",
   "execution_count": 3,
   "id": "2185269c",
   "metadata": {},
   "outputs": [],
   "source": [
    "make_dir(config.RAW_DIR)\n",
    "make_dir(config.EXTERNAL_DIR)\n",
    "make_dir(config.INTERIM_DIR)\n",
    "make_dir(config.PROCESSED_DIR)"
   ]
  },
  {
   "cell_type": "markdown",
   "id": "f11f4604",
   "metadata": {},
   "source": [
    "### geneデータを含む全データのダウンロード・解凍"
   ]
  },
  {
   "cell_type": "code",
   "execution_count": 4,
   "id": "11085672-2b6d-4746-a44b-69822112f88b",
   "metadata": {},
   "outputs": [],
   "source": [
    "import urllib.error\n",
    "import urllib.request\n",
    "\n",
    "url = \"https://cbioportal-datahub.s3.amazonaws.com/brca_metabric.tar.gz\"\n",
    "\n",
    "file_name = config.RAW_BRCA_METABRIC_TG\n",
    "try:\n",
    "    if not os.path.exists(file_name):\n",
    "        urlData = requests.get(url).content\n",
    "        with open(file_name, mode=\"wb\") as f:\n",
    "            f.write(urlData)\n",
    "\n",
    "except urllib.error.URLError as e:\n",
    "    print(e)"
   ]
  },
  {
   "cell_type": "code",
   "execution_count": 5,
   "id": "a6bfcd1b-b6bf-4e88-9e05-997f8be3b38b",
   "metadata": {},
   "outputs": [],
   "source": [
    "if not os.path.exists(config.RAW_BRCA_METABRIC_DIR):\n",
    "    os.makedirs(config.RAW_BRCA_METABRIC_DIR)\n",
    "with tarfile.open(config.RAW_BRCA_METABRIC_TG, \"r:gz\") as t:\n",
    "    t.extractall(path=config.RAW_DIR)"
   ]
  },
  {
   "cell_type": "code",
   "execution_count": null,
   "id": "a7123834-37db-46ef-8f3a-7bb4fd7a2e41",
   "metadata": {},
   "outputs": [],
   "source": []
  },
  {
   "cell_type": "code",
   "execution_count": null,
   "id": "d6a4ab81-dbf7-4010-b65c-fa7b2462dd3c",
   "metadata": {},
   "outputs": [],
   "source": []
  }
 ],
 "metadata": {
  "kernelspec": {
   "display_name": "Python 3 (ipykernel)",
   "language": "python",
   "name": "python3"
  },
  "language_info": {
   "codemirror_mode": {
    "name": "ipython",
    "version": 3
   },
   "file_extension": ".py",
   "mimetype": "text/x-python",
   "name": "python",
   "nbconvert_exporter": "python",
   "pygments_lexer": "ipython3",
   "version": "3.8.13"
  }
 },
 "nbformat": 4,
 "nbformat_minor": 5
}
