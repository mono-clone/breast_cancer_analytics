{
 "cells": [
  {
   "cell_type": "code",
   "execution_count": null,
   "id": "974d29f6",
   "metadata": {},
   "outputs": [],
   "source": []
  }
 ],
 "metadata": {},
 "nbformat": 4,
 "nbformat_minor": 5
}
