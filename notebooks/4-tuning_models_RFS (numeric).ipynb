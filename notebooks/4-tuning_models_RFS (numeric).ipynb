{
 "cells": [
  {
   "cell_type": "code",
   "execution_count": 1,
   "id": "ddcdbbb1-d422-4d61-9d20-4e48696ac53b",
   "metadata": {},
   "outputs": [
    {
     "name": "stderr",
     "output_type": "stream",
     "text": [
      "/home/breast-cancer-analytics/notebooks/functions.py:185: FutureWarning: The default dtype for empty Series will be 'object' instead of 'float64' in a future version. Specify a dtype explicitly to silence this warning.\n",
      "  y_train: pd.Series(),\n",
      "/home/breast-cancer-analytics/notebooks/functions.py:187: FutureWarning: The default dtype for empty Series will be 'object' instead of 'float64' in a future version. Specify a dtype explicitly to silence this warning.\n",
      "  y_val: pd.Series(),\n"
     ]
    }
   ],
   "source": [
    "# 基本的なライブラリ\n",
    "import itertools\n",
    "import warnings\n",
    "import numpy as np\n",
    "import pandas as pd\n",
    "import matplotlib.pyplot as plt\n",
    "from tqdm import tqdm\n",
    "\n",
    "# パイプライン\n",
    "from imblearn.pipeline import Pipeline\n",
    "\n",
    "# サンプリング\n",
    "from imblearn.over_sampling import SMOTE\n",
    "\n",
    "# モデル\n",
    "from sksurv.ensemble import RandomSurvivalForest\n",
    "\n",
    "# 評価指標\n",
    "from sklearn.metrics import mean_squared_error\n",
    "\n",
    "# チューニング\n",
    "import optuna\n",
    "\n",
    "# local libraries\n",
    "import config\n",
    "import functions\n",
    "\n",
    "SEED = config.SEED\n",
    "functions.fix_seed(SEED)\n",
    "\n",
    "# 最大表示列数の指定（ここでは50列を指定）N\n",
    "pd.set_option(\"display.max_columns\", 50)\n",
    "pd.set_option(\"display.max_rows\", 50)\n",
    "\n",
    "%matplotlib inline"
   ]
  },
  {
   "cell_type": "markdown",
   "id": "a231c746-2526-4536-82ac-bb114937bbf4",
   "metadata": {
    "tags": []
   },
   "source": [
    "# 最適化\n",
    "\n",
    "分類器を学習させ、パラメータのチューニングを行い、高い予測精度を目指す。"
   ]
  },
  {
   "cell_type": "markdown",
   "id": "549fed00-d0db-41cc-b847-0dbfd4782419",
   "metadata": {
    "tags": []
   },
   "source": [
    "### LogisticRegression"
   ]
  },
  {
   "cell_type": "code",
   "execution_count": 3,
   "id": "5fa81a5b-3ab7-43d7-8577-ccb9ea01a924",
   "metadata": {
    "tags": []
   },
   "outputs": [
    {
     "name": "stderr",
     "output_type": "stream",
     "text": [
      "0it [00:00, ?it/s]"
     ]
    },
    {
     "name": "stdout",
     "output_type": "stream",
     "text": [
      "--------------------------------------------------\n",
      "subgroup column:  CLAUDIN_SUBTYPE\n",
      "subgroup:  LumB\n"
     ]
    },
    {
     "name": "stderr",
     "output_type": "stream",
     "text": [
      "Progress bar is experimental (supported from v1.2.0). The interface can change in the future.\n"
     ]
    },
    {
     "data": {
      "application/vnd.jupyter.widget-view+json": {
       "model_id": "33ba085427a647918c1f24af9b93665d",
       "version_major": 2,
       "version_minor": 0
      },
      "text/plain": [
       "  0%|          | 0/1000 [00:00<?, ?it/s]"
      ]
     },
     "metadata": {},
     "output_type": "display_data"
    },
    {
     "name": "stdout",
     "output_type": "stream",
     "text": [
      "{'penalty': 'l1', 'C': 42451.75908066813}\n",
      "0.375\n"
     ]
    },
    {
     "data": {
      "text/html": [
       "<div>\n",
       "<style scoped>\n",
       "    .dataframe tbody tr th:only-of-type {\n",
       "        vertical-align: middle;\n",
       "    }\n",
       "\n",
       "    .dataframe tbody tr th {\n",
       "        vertical-align: top;\n",
       "    }\n",
       "\n",
       "    .dataframe thead th {\n",
       "        text-align: right;\n",
       "    }\n",
       "</style>\n",
       "<table border=\"1\" class=\"dataframe\">\n",
       "  <thead>\n",
       "    <tr style=\"text-align: right;\">\n",
       "      <th></th>\n",
       "      <th>acc_train</th>\n",
       "      <th>acc_val</th>\n",
       "      <th>f1_train</th>\n",
       "      <th>f1_val</th>\n",
       "    </tr>\n",
       "    <tr>\n",
       "      <th>classifier</th>\n",
       "      <th></th>\n",
       "      <th></th>\n",
       "      <th></th>\n",
       "      <th></th>\n",
       "    </tr>\n",
       "  </thead>\n",
       "  <tbody>\n",
       "    <tr>\n",
       "      <th>LogisticRegression</th>\n",
       "      <td>0.898148</td>\n",
       "      <td>0.5</td>\n",
       "      <td>0.898148</td>\n",
       "      <td>0.375</td>\n",
       "    </tr>\n",
       "  </tbody>\n",
       "</table>\n",
       "</div>"
      ],
      "text/plain": [
       "                    acc_train  acc_val  f1_train  f1_val\n",
       "classifier                                              \n",
       "LogisticRegression   0.898148      0.5  0.898148   0.375"
      ]
     },
     "metadata": {},
     "output_type": "display_data"
    },
    {
     "name": "stdout",
     "output_type": "stream",
     "text": [
      "subgroup:  Her2\n"
     ]
    },
    {
     "data": {
      "application/vnd.jupyter.widget-view+json": {
       "model_id": "04dc6d0230f0422c88ad4df9a5f07748",
       "version_major": 2,
       "version_minor": 0
      },
      "text/plain": [
       "  0%|          | 0/1000 [00:00<?, ?it/s]"
      ]
     },
     "metadata": {},
     "output_type": "display_data"
    },
    {
     "name": "stdout",
     "output_type": "stream",
     "text": [
      "{'penalty': 'l1', 'C': 42451.75908066813}\n",
      "0.4\n"
     ]
    },
    {
     "data": {
      "text/html": [
       "<div>\n",
       "<style scoped>\n",
       "    .dataframe tbody tr th:only-of-type {\n",
       "        vertical-align: middle;\n",
       "    }\n",
       "\n",
       "    .dataframe tbody tr th {\n",
       "        vertical-align: top;\n",
       "    }\n",
       "\n",
       "    .dataframe thead th {\n",
       "        text-align: right;\n",
       "    }\n",
       "</style>\n",
       "<table border=\"1\" class=\"dataframe\">\n",
       "  <thead>\n",
       "    <tr style=\"text-align: right;\">\n",
       "      <th></th>\n",
       "      <th>acc_train</th>\n",
       "      <th>acc_val</th>\n",
       "      <th>f1_train</th>\n",
       "      <th>f1_val</th>\n",
       "    </tr>\n",
       "    <tr>\n",
       "      <th>classifier</th>\n",
       "      <th></th>\n",
       "      <th></th>\n",
       "      <th></th>\n",
       "      <th></th>\n",
       "    </tr>\n",
       "  </thead>\n",
       "  <tbody>\n",
       "    <tr>\n",
       "      <th>LogisticRegression</th>\n",
       "      <td>0.985075</td>\n",
       "      <td>0.727273</td>\n",
       "      <td>0.985075</td>\n",
       "      <td>0.4</td>\n",
       "    </tr>\n",
       "  </tbody>\n",
       "</table>\n",
       "</div>"
      ],
      "text/plain": [
       "                    acc_train   acc_val  f1_train  f1_val\n",
       "classifier                                               \n",
       "LogisticRegression   0.985075  0.727273  0.985075     0.4"
      ]
     },
     "metadata": {},
     "output_type": "display_data"
    },
    {
     "name": "stdout",
     "output_type": "stream",
     "text": [
      "subgroup:  LumA\n"
     ]
    },
    {
     "data": {
      "application/vnd.jupyter.widget-view+json": {
       "model_id": "c6181542607648b8b59e1693d50ab1d7",
       "version_major": 2,
       "version_minor": 0
      },
      "text/plain": [
       "  0%|          | 0/1000 [00:00<?, ?it/s]"
      ]
     },
     "metadata": {},
     "output_type": "display_data"
    },
    {
     "name": "stdout",
     "output_type": "stream",
     "text": [
      "{'penalty': 'l1', 'C': 42451.75908066813}\n",
      "0.380952380952381\n"
     ]
    },
    {
     "data": {
      "text/html": [
       "<div>\n",
       "<style scoped>\n",
       "    .dataframe tbody tr th:only-of-type {\n",
       "        vertical-align: middle;\n",
       "    }\n",
       "\n",
       "    .dataframe tbody tr th {\n",
       "        vertical-align: top;\n",
       "    }\n",
       "\n",
       "    .dataframe thead th {\n",
       "        text-align: right;\n",
       "    }\n",
       "</style>\n",
       "<table border=\"1\" class=\"dataframe\">\n",
       "  <thead>\n",
       "    <tr style=\"text-align: right;\">\n",
       "      <th></th>\n",
       "      <th>acc_train</th>\n",
       "      <th>acc_val</th>\n",
       "      <th>f1_train</th>\n",
       "      <th>f1_val</th>\n",
       "    </tr>\n",
       "    <tr>\n",
       "      <th>classifier</th>\n",
       "      <th></th>\n",
       "      <th></th>\n",
       "      <th></th>\n",
       "      <th></th>\n",
       "    </tr>\n",
       "  </thead>\n",
       "  <tbody>\n",
       "    <tr>\n",
       "      <th>LogisticRegression</th>\n",
       "      <td>0.885417</td>\n",
       "      <td>0.35</td>\n",
       "      <td>0.885417</td>\n",
       "      <td>0.380952</td>\n",
       "    </tr>\n",
       "  </tbody>\n",
       "</table>\n",
       "</div>"
      ],
      "text/plain": [
       "                    acc_train  acc_val  f1_train    f1_val\n",
       "classifier                                                \n",
       "LogisticRegression   0.885417     0.35  0.885417  0.380952"
      ]
     },
     "metadata": {},
     "output_type": "display_data"
    },
    {
     "name": "stderr",
     "output_type": "stream",
     "text": [
      "1it [00:11, 11.10s/it]"
     ]
    },
    {
     "name": "stdout",
     "output_type": "stream",
     "text": [
      "subgroup:  claudin-low\n",
      "pkl file does not exist\n",
      "train data does not exist\n",
      "subgroup:  Basal\n",
      "pkl file does not exist\n",
      "train data does not exist\n",
      "subgroup:  Normal\n",
      "pkl file does not exist\n",
      "train data does not exist\n",
      "subgroup:  NC\n",
      "pkl file does not exist\n",
      "train data does not exist\n"
     ]
    },
    {
     "name": "stderr",
     "output_type": "stream",
     "text": [
      "\n"
     ]
    },
    {
     "data": {
      "image/png": "[encoded data removed]",
      "text/plain": [
       "<Figure size 432x288 with 2 Axes>"
      ]
     },
     "metadata": {
      "needs_background": "light"
     },
     "output_type": "display_data"
    },
    {
     "data": {
      "image/png": "[encoded data removed]",
      "text/plain": [
       "<Figure size 432x288 with 2 Axes>"
      ]
     },
     "metadata": {
      "needs_background": "light"
     },
     "output_type": "display_data"
    },
    {
     "data": {
      "image/png": "[encoded data removed]",
      "text/plain": [
       "<Figure size 432x288 with 2 Axes>"
      ]
     },
     "metadata": {
      "needs_background": "light"
     },
     "output_type": "display_data"
    },
    {
     "data": {
      "image/png": "[encoded data removed]",
      "text/plain": [
       "<Figure size 432x288 with 2 Axes>"
      ]
     },
     "metadata": {
      "needs_background": "light"
     },
     "output_type": "display_data"
    },
    {
     "data": {
      "image/png": "[encoded data removed]",
      "text/plain": [
       "<Figure size 432x288 with 2 Axes>"
      ]
     },
     "metadata": {
      "needs_background": "light"
     },
     "output_type": "display_data"
    },
    {
     "data": {
      "image/png": "[encoded data removed]",
      "text/plain": [
       "<Figure size 432x288 with 2 Axes>"
      ]
     },
     "metadata": {
      "needs_background": "light"
     },
     "output_type": "display_data"
    }
   ],
   "source": [
    "def objective(trial):\n",
    "    params = {\n",
    "        \"penalty\": trial.suggest_categorical(\"penalty\", [\"l1\", \"l2\"]),\n",
    "        \"C\": trial.suggest_float(\"C\", 1e-5, 1e5),\n",
    "        \"max_iter\": 1000,\n",
    "        \"solver\": \"liblinear\",\n",
    "        \"class_weight\": \"balanced\",\n",
    "        \"random_state\": SEED,\n",
    "    }\n",
    "\n",
    "    clf = LogisticRegression(**params)\n",
    "    clf.fit(X_train, y_train)\n",
    "    y_val_pred = clf.predict(X_val)\n",
    "    return f1_score(y_val, y_val_pred)\n",
    "\n",
    "\n",
    "# 層別化する特徴量\n",
    "subgroup_columns = [\n",
    "    \"CLAUDIN_SUBTYPE\",\n",
    "    #    \"THREEGENE\",\n",
    "]\n",
    "# 遺伝子発現量以外の特徴量を削除\n",
    "drop_columns = [\n",
    "    \"CLAUDIN_SUBTYPE\",\n",
    "    \"THREEGENE\",\n",
    "]\n",
    "\n",
    "\n",
    "# 実施したい学習の定義\n",
    "model_order_dicts = [\n",
    "    {\n",
    "        \"model_name\": \"RandomSurvivalForest\",\n",
    "        \"preprocess_name\": \"preprocess4numeric_1\",\n",
    "        \"model_order\": [\n",
    "            (\n",
    "                \"RandomSurvivalForest\",\n",
    "                RandomSurvivalForest(),\n",
    "            ),\n",
    "        ],\n",
    "    },\n",
    "]\n",
    "\n",
    "for subgroup_column in subgroup_columns:  # 各サブグループへの適用\n",
    "    print(\"##########\" * 10)\n",
    "    print(\"subgroup_column: \", subgroup_column)\n",
    "    for subgroup in df_recurrenced[subgroup_column].unique():  # サブグループの要素毎への適用\n",
    "        print(\"==========\" * 10)\n",
    "        print(\"subgroup: \", subgroup)\n",
    "        for model_order_dict in model_order_dicts:\n",
    "            print(\"..........\" * 10)\n",
    "            print(\"model_order_dict name: \", model_order_dict[\"model_name\"])\n",
    "            input_file_path = \"./{0}/{1}/{2}/{3}\".format(\n",
    "                config.INTERIM_PREPROCESSED_RECURRENCE_DIR,\n",
    "                subgroup_column,\n",
    "                subgroup,\n",
    "                model_order_dict[\"preprocess_name\"],\n",
    "            )\n",
    "            \"\"\"\n",
    "            output_file_path = \"./{0}/{1}/{2}/{3}\".format(\n",
    "                config.FIGURES_TUNING_RECURRENCE_DIR,\n",
    "                subgroup_column,\n",
    "                subgroup,\n",
    "                model_order_dict[\"model_name\"],\n",
    "            )\"\"\"\n",
    "            \n",
    "\n",
    "            # tuning\n",
    "            clf = RandomSurvivalForest()\n",
    "\n",
    "            X_train, y_train = list_train[0], list_train[1].map(lambda x: int(x))\n",
    "            X_val, y_val = list_val[0], list_val[1].map(lambda x: int(x))\n",
    "\n",
    "            optuna.logging.set_verbosity(optuna.logging.WARNING)\n",
    "            study = optuna.create_study(\n",
    "                direction=\"maximize\", sampler=optuna.samplers.RandomSampler(seed=SEED)\n",
    "            )\n",
    "            study.optimize(objective, n_trials=1000, show_progress_bar=True)\n",
    "\n",
    "            print(study.best_params)\n",
    "            print(study.best_value)\n",
    "\n",
    "            # save params\n",
    "            save_file_path = \"./{0}/{1}/{2}/{3}\".format(\n",
    "                config.INTERIM_TUNING_RECURRENCE_DIR,\n",
    "                subgroup_column,\n",
    "                preprocess_order,\n",
    "                clf.__class__.__name__,\n",
    "            )\n",
    "            functions.make_dir(save_file_path)\n",
    "            save_file_name_paramas = \"/params_{0}.pkl\".format(subgroup)\n",
    "            save_file_name_value = \"/value_{0}.pkl\".format(subgroup)\n",
    "            functions.pickle_dump(\n",
    "                study.best_params, save_file_path + save_file_name_paramas\n",
    "            )\n",
    "            functions.pickle_dump(\n",
    "                study.best_value, save_file_path + save_file_name_value\n",
    "            )\n",
    "\n",
    "            # use params\n",
    "            params = {\n",
    "                \"penalty\": study.best_params[\"penalty\"],\n",
    "                \"C\": study.best_params[\"C\"],\n",
    "                \"max_iter\": 1000,\n",
    "                \"solver\": \"liblinear\",\n",
    "                \"class_weight\": \"balanced\",\n",
    "                \"random_state\": SEED,\n",
    "            }\n",
    "            clf.set_params(**params)\n",
    "            clf.fit(X_train, y_train)\n",
    "            display(\n",
    "                functions.compare_bcms(\n",
    "                    X_train,\n",
    "                    y_train,\n",
    "                    X_val,\n",
    "                    y_val,\n",
    "                    classifiers=[clf],\n",
    "                    plot=True,\n",
    "                )\n",
    "            )"
   ]
  }
 ],
 "metadata": {
  "kernelspec": {
   "display_name": "Python 3 (ipykernel)",
   "language": "python",
   "name": "python3"
  },
  "language_info": {
   "codemirror_mode": {
    "name": "ipython",
    "version": 3
   },
   "file_extension": ".py",
   "mimetype": "text/x-python",
   "name": "python",
   "nbconvert_exporter": "python",
   "pygments_lexer": "ipython3",
   "version": "3.8.15"
  }
 },
 "nbformat": 4,
 "nbformat_minor": 5
}
