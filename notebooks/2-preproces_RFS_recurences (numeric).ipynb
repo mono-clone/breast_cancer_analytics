{
 "cells": [
  {
   "cell_type": "markdown",
   "id": "fb93b3cc-7680-4f98-812e-608d9bcfda32",
   "metadata": {},
   "source": [
    "# preprocess of recurrence"
   ]
  },
  {
   "cell_type": "code",
   "execution_count": 20,
   "id": "2d992235-d9ef-4a88-a47e-2ed687ece7f1",
   "metadata": {},
   "outputs": [],
   "source": [
    "# 基本的なライブラリ\n",
    "import sys\n",
    "from tqdm import tqdm\n",
    "\n",
    "import numpy as np\n",
    "import pandas as pd\n",
    "import matplotlib.pyplot as plt\n",
    "\n",
    "\n",
    "# パイプライン\n",
    "from sklearn.pipeline import Pipeline\n",
    "from sklearn.base import BaseEstimator, TransformerMixin\n",
    "from pipelines import *\n",
    "\n",
    "# データ分割\n",
    "from sklearn.model_selection import train_test_split\n",
    "\n",
    "# スケーリング\n",
    "from sklearn.preprocessing import StandardScaler, MinMaxScaler\n",
    "\n",
    "# 次元削減\n",
    "from sklearn.decomposition import PCA\n",
    "\n",
    "import config\n",
    "import functions\n",
    "\n",
    "SEED = config.SEED\n",
    "functions.fix_seed(SEED)\n",
    "TARGET_NAME = [\"RFS_STATUS\", \"RFS_MONTHS\"]\n",
    "STRATIFY_NAME = \"RFS_STATUS\"\n",
    "%matplotlib inline"
   ]
  },
  {
   "cell_type": "markdown",
   "id": "e8994dbf-0e36-421e-aed3-8cb4e247aded",
   "metadata": {
    "tags": []
   },
   "source": [
    "# データ読み込み"
   ]
  },
  {
   "cell_type": "code",
   "execution_count": 21,
   "id": "af54eb16-b22c-4ec8-b2e2-bd7ce542e6a7",
   "metadata": {},
   "outputs": [],
   "source": [
    "df_patient = pd.read_table(\n",
    "    config.RAW_BRCA_METABRIC_DIR + \"/data_clinical_patient.txt\", header=4\n",
    ")\n",
    "df_sample = pd.read_table(\n",
    "    config.RAW_BRCA_METABRIC_DIR + \"/data_clinical_sample.txt\", header=4\n",
    ")\n",
    "df_clinical = pd.merge(df_patient, df_sample, on=\"PATIENT_ID\")"
   ]
  },
  {
   "cell_type": "markdown",
   "id": "a0c7f963-665a-42c0-a5e0-867c83be3490",
   "metadata": {
    "tags": []
   },
   "source": [
    "## カラムの順序変更（読みやすさのため）"
   ]
  },
  {
   "cell_type": "code",
   "execution_count": 22,
   "id": "e6d8c6c4-0913-4782-beb2-2efb2b7b6843",
   "metadata": {},
   "outputs": [],
   "source": [
    "def align_columns(df: pd.DataFrame, regex: str):\n",
    "    # まとめたいcolumnの正規表現を一時退避\n",
    "    _df = df.copy()\n",
    "    df_tmp = _df.filter(regex=regex)\n",
    "    # 元のdfから落とす\n",
    "    _df.drop(df_tmp.columns, axis=1, inplace=True)\n",
    "    # 元のdfに結合\n",
    "    return pd.merge(_df, df_tmp, right_index=True, left_index=True)\n",
    "\n",
    "\n",
    "def sort_columns_by_knowledge(df):\n",
    "    _df = df.copy()\n",
    "    # 癌の種類\n",
    "    _df = align_columns(_df, \"^CANCER_\")\n",
    "    # 重要そう（直感）な特徴量\n",
    "    _df = align_columns(_df, \"^ER_|^HER2_|^TUMOR_\")\n",
    "    # 治療の種類\n",
    "    _df = align_columns(_df, \".*THERAPY$|^BREAST_SURGERY\")\n",
    "    # target系の種類（OS, RFS, VITAL）\n",
    "    _df = align_columns(_df, \"^OS_.*|^RFS_.*|^VITAL_.*\")\n",
    "    return _df\n",
    "\n",
    "\n",
    "df_clinical = sort_columns_by_knowledge(df_clinical)"
   ]
  },
  {
   "cell_type": "code",
   "execution_count": 23,
   "id": "b6c8d29b-a433-4083-bb05-6f1f277181cc",
   "metadata": {},
   "outputs": [
    {
     "data": {
      "text/plain": [
       "(1985, 35)"
      ]
     },
     "metadata": {},
     "output_type": "display_data"
    },
    {
     "data": {
      "text/plain": [
       "(524, 35)"
      ]
     },
     "metadata": {},
     "output_type": "display_data"
    }
   ],
   "source": [
    "# データを大きく2つに分割できるので、ここで分割\n",
    "df_MB = df_clinical[df_clinical[\"PATIENT_ID\"].str.contains(\"MB\")]\n",
    "df_MTST = df_clinical[df_clinical[\"PATIENT_ID\"].str.contains(\"MTS-T\")]\n",
    "\n",
    "df_MB.set_index(\"PATIENT_ID\", inplace=True)\n",
    "df_MTST.set_index(\"PATIENT_ID\", inplace=True)\n",
    "\n",
    "display(df_MB.shape, df_MTST.shape)\n",
    "# save\n",
    "functions.make_dir(config.INTERIM_PREPROCESSED_RECURRENCE_DIR)\n",
    "df_clinical.to_pickle(config.INTERIM_PREPROCESSED_RECURRENCE_DIR + \"/df_clinical.pkl\")\n",
    "df_MB.to_pickle(config.INTERIM_PREPROCESSED_RECURRENCE_DIR + \"/df_MB.pkl\")\n",
    "df_MTST.to_pickle(config.INTERIM_PREPROCESSED_RECURRENCE_DIR + \"/df_MTST.pkl\")\n",
    "del df_patient, df_sample, df_clinical, df_MB, df_MTST"
   ]
  },
  {
   "cell_type": "markdown",
   "id": "73bca36f-6dc2-4ff9-9da8-8c819d4fb638",
   "metadata": {
    "tags": []
   },
   "source": [
    "## 臨床・遺伝子データの読み込み"
   ]
  },
  {
   "cell_type": "code",
   "execution_count": 24,
   "id": "67529b1e-6763-4afd-984e-07c3e825583a",
   "metadata": {},
   "outputs": [],
   "source": [
    "# 臨床データ\n",
    "df_MB = pd.read_pickle(config.INTERIM_PREPROCESSED_RECURRENCE_DIR + \"/df_MB.pkl\")\n",
    "\n",
    "# 遺伝子発現データ\n",
    "# 生の遺伝子発現データ\n",
    "df_mrna_agilent_microarray = pd.read_table(\n",
    "    config.RAW_BRCA_METABRIC_DIR + \"/data_mrna_agilent_microarray.txt\", index_col=0\n",
    ").T\n",
    "df_mrna_agilent_microarray = df_mrna_agilent_microarray.drop(\n",
    "    \"Entrez_Gene_Id\"\n",
    ").sort_index()"
   ]
  },
  {
   "cell_type": "markdown",
   "id": "fa3b5ac2-d843-4e66-99ff-947f3822a874",
   "metadata": {},
   "source": [
    "# 前処理\n",
    "- 目的変数生成\n",
    "- 特徴量生成\n",
    "- 特徴名のrename \n",
    "- 欠損値の削除\n",
    "\n",
    "\n",
    "## 目的変数の生成\n",
    "\n",
    "目的変数は再発年数（連続値）である。しかし、RFS_STATUSが0の患者は非再発であり、RFS_MONTHSは手術〜最終フォローアップの期間を示している。\n",
    "そこで、非再発患者のRFS_MONTHSは0にする必要がある。\n",
    "\n",
    "## 特徴量生成\n",
    "予測の**層別化に必要な特徴を生成**する。\n",
    "\n",
    "**層別化に必要な特徴**\n",
    "- CLAUDIN_SUBTYPE\n",
    "- NPI\n",
    "- TUMOR_SIZE\n",
    "- LYMPH_NODES_EXAMINED_POSITIVE\n",
    "\n",
    "数値データは層別化のためにカテゴリ化を行う。\n",
    "各カテゴリ化の根拠は以下の通り。\n",
    "- NPI：( ノッティンガムの予後指数：https://en.wikipedia.org/wiki/Nottingham_Prognostic_Index )\n",
    "- TUMOR_SIZE：乳癌のステージの定義( https://oshiete-gan.jp/breast/diagnosis/stages/detail.html )\n",
    "- LYMPH_NODES_EXAMINED_POSITIVE：https://medical.nikkeibp.co.jp/leaf/all/cancernavi/news/201403/535575.html\n",
    "\n",
    "## 特徴量名のrename\n",
    "重複した特徴量は別のものとして扱う\n",
    "\n",
    "\n",
    "## 欠損値の削除\n",
    "- 欠損値が多い→特徴量の削除  \n",
    "- 欠損値が少ない→サンプルの削除"
   ]
  },
  {
   "cell_type": "code",
   "execution_count": 25,
   "id": "e8f54d52-bf1a-41da-a455-2ff21eda8056",
   "metadata": {},
   "outputs": [],
   "source": [
    "def generate_target():\n",
    "    # RFS_STATUS, RFS_MONTHSのnullデータについては患者データを削除する\n",
    "    df_MB.dropna(subset=[\"RFS_STATUS\", \"RFS_MONTHS\"], inplace=True)\n",
    "    # 予測ラベルを扱いやすい形に変更\n",
    "    # scikit-survivalの予測モデルでは、RFS_STATUSがboolである必要がある（イベント発生がTrue, 打ち切りがFalse）\n",
    "    df_MB[\"RFS_STATUS\"] = df_MB[\"RFS_STATUS\"].replace(\n",
    "        {\"1:Recurred\": True, \"0:Not Recurred\": False}\n",
    "    )\n",
    "\n",
    "\n",
    "def generate_features():\n",
    "    df_MB[\"NPI_CAT\"] = pd.cut(\n",
    "        df_MB.NPI,\n",
    "        [0, 2.0, 2.4, 3.4, 5.4, np.inf],\n",
    "        labels=[\"0.0~2.0\", \"2.0~2.4\", \"2.4~3.4\", \"3.4~5.4\", \"5.4~inf\"],\n",
    "    )\n",
    "    df_MB[\"TUMOR_CAT\"] = pd.cut(\n",
    "        df_MB.TUMOR_SIZE, [0, 20, 50, np.inf], labels=[\"0~20\", \"20~50\", \"50~inf\"]\n",
    "    )\n",
    "    df_MB[\"LYMPH_CAT\"] = pd.cut(\n",
    "        df_MB.LYMPH_NODES_EXAMINED_POSITIVE,\n",
    "        [-np.inf, 0, 3, np.inf],\n",
    "        labels=[\"0\", \"1~3\", \"4~inf\"],\n",
    "    )\n",
    "\n",
    "\n",
    "def rename_duplicatged_columns(df):\n",
    "    _df = df.copy()\n",
    "    # 重複特徴量の確認\n",
    "    print(\n",
    "        \"重複特徴名数（rename前）：\",\n",
    "        _df.columns[_df.columns.duplicated()].value_counts().sum(),\n",
    "    )\n",
    "\n",
    "    cols = pd.Series(_df.columns)\n",
    "    for dup in cols[cols.duplicated()].unique():\n",
    "        cols[cols[cols == dup].index.values.tolist()] = [\n",
    "            dup + \"_\" + str(i) if i != 0 else dup for i in range(sum(cols == dup))\n",
    "        ]\n",
    "\n",
    "    # rename the columns with the cols list.\n",
    "    _df.columns = cols\n",
    "    # 重複特徴量の確認\n",
    "    print(\n",
    "        \"重複特徴名数（rename後）：\",\n",
    "        _df.columns[_df.columns.duplicated()].value_counts().sum(),\n",
    "    )\n",
    "    return _df\n",
    "\n",
    "\n",
    "def drop_null4cols(df):\n",
    "    _df = df.copy()\n",
    "    print(\n",
    "        \"欠損値が多い特徴個数：\",\n",
    "        (_df.isnull().sum() > _df.shape[0] // 10).sum(),\n",
    "    )\n",
    "    features = _df.isnull().sum().sort_values()[::-1]\n",
    "    features.plot()\n",
    "\n",
    "    # 多数の欠損値を持つ特徴\n",
    "    many_null_features = features[_df.isnull().sum() > _df.shape[0] // 10].index\n",
    "    # 多数の欠損値を持つ特徴の削除\n",
    "    _df.drop(many_null_features, axis=1, inplace=True)\n",
    "    return _df\n",
    "\n",
    "\n",
    "def drop_null4raws(df):\n",
    "    _df = df.copy()\n",
    "    print(\n",
    "        \"欠損値が少ない特徴個数：\",\n",
    "        ((_df.isnull().sum() < +_df.shape[0] // 10) & (_df.isnull().sum() > 0)).sum(),\n",
    "    )\n",
    "    features = _df.isnull().sum().sort_values()[::-1]\n",
    "    features.plot()\n",
    "\n",
    "    # 少数の欠損値を持つ特徴\n",
    "    few_null_features = features[\n",
    "        (_df.isnull().sum() <= _df.shape[0] // 10) & (_df.isnull().sum() > 0)\n",
    "    ]\n",
    "    # 少数の欠損値の遺伝子発現を持つ患者ID\n",
    "    list_patient_id_contains_null_expressions = list()\n",
    "    for name in few_null_features.index:\n",
    "        for patient_id in _df[_df[name].isnull()].index:\n",
    "            list_patient_id_contains_null_expressions.append(patient_id)\n",
    "\n",
    "    # 少数の欠損値の遺伝子発現を持つ患者の削除\n",
    "    _df.drop(list_patient_id_contains_null_expressions, inplace=True)\n",
    "    return _df"
   ]
  },
  {
   "cell_type": "code",
   "execution_count": 26,
   "id": "3c265983-f227-4faa-86d5-25ac6c2a0671",
   "metadata": {},
   "outputs": [
    {
     "name": "stdout",
     "output_type": "stream",
     "text": [
      "重複特徴名数（rename前）： 194\n",
      "重複特徴名数（rename後）： 0\n",
      "欠損値が多い特徴個数： 0\n",
      "欠損値が少ない特徴個数： 8\n"
     ]
    },
    {
     "data": {
      "image/png": "[encoded data removed]",
      "text/plain": [
       "<Figure size 640x480 with 1 Axes>"
      ]
     },
     "metadata": {},
     "output_type": "display_data"
    }
   ],
   "source": [
    "# 臨床データ\n",
    "generate_target()\n",
    "generate_features()\n",
    "# 遺伝子データ\n",
    "df_gene_expressions = df_mrna_agilent_microarray.copy()\n",
    "df_gene_expressions = rename_duplicatged_columns(df_gene_expressions)\n",
    "df_gene_expressions = drop_null4cols(df_gene_expressions)\n",
    "df_gene_expressions = drop_null4raws(df_gene_expressions)\n",
    "# save\n",
    "functions.make_dir(config.INTERIM_PREPROCESSED_RECURRENCE_DIR)\n",
    "df_gene_expressions.to_pickle(\n",
    "    config.INTERIM_PREPROCESSED_RECURRENCE_DIR + \"/df_gene_expressions.pkl\"\n",
    ")"
   ]
  },
  {
   "cell_type": "markdown",
   "id": "b246efeb-3fdd-4192-95a3-b1a5ef3bbd0b",
   "metadata": {
    "tags": []
   },
   "source": [
    "# 臨床データと遺伝子データの結合\n",
    "\n",
    "患者の必要な特徴を含む臨床データと遺伝子データを結合する。\n",
    "\n",
    "## 臨床データ\n",
    "\n",
    "**必要な特徴**\n",
    "\n",
    "目的変数\n",
    "- RFS_OVER_nMONTHS  \n",
    "\n",
    "層別化対象候補\n",
    "- CLAUDIN_SUBTYPE\n",
    "- NPI_CAT\n",
    "- TUMOR_CAT\n",
    "- LYMPH_CAT\n",
    "\n",
    "## 遺伝子データ\n",
    "遺伝子データは全ての特徴量を結合する。"
   ]
  },
  {
   "cell_type": "code",
   "execution_count": 27,
   "id": "f87a9c8c-799d-492b-ad6e-3a0549d91063",
   "metadata": {},
   "outputs": [],
   "source": [
    "left_features = [\n",
    "    \"RFS_MONTHS\",\n",
    "    \"RFS_STATUS\",\n",
    "    \"CLAUDIN_SUBTYPE\",\n",
    "    \"THREEGENE\",\n",
    "]\n",
    "\n",
    "df_merged = pd.merge(\n",
    "    df_MB[left_features],\n",
    "    df_gene_expressions,\n",
    "    left_index=True,\n",
    "    right_index=True,\n",
    ")\n",
    "# 半角スペースやバックスラッシュはpklファイル保存時に邪魔になるので置き換え\n",
    "df_merged[\"THREEGENE\"] = df_merged.THREEGENE.str.replace(\"/\", \"_\")\n",
    "df_merged[\"THREEGENE\"] = df_merged.THREEGENE.str.replace(\" \", \"_\")\n",
    "\n",
    "# save\n",
    "functions.make_dir(config.INTERIM_PREPROCESSED_RECURRENCE_DIR)\n",
    "df_merged.to_pickle(\n",
    "    config.INTERIM_PREPROCESSED_RECURRENCE_DIR + \"/df_merged4numeric.pkl\"\n",
    ")\n",
    "df_recurrenced = df_merged.copy()\n",
    "# save\n",
    "functions.make_dir(config.INTERIM_PREPROCESSED_RECURRENCE_DIR)\n",
    "df_merged.to_pickle(\n",
    "    config.INTERIM_PREPROCESSED_RECURRENCE_DIR + \"/df_recurrenced4numeric.pkl\"\n",
    ")"
   ]
  },
  {
   "cell_type": "markdown",
   "id": "0284746c-8c80-4c32-86b5-34e1d48047b2",
   "metadata": {
    "tags": []
   },
   "source": [
    "## データ分割\n",
    "\n",
    "訓練データ、検証データ、テストデータに層化分割する   \n",
    "比率は(train, val, test)=(0.81, 0.09, 0.1)  \n",
    "CVは行わずに通常のholdoutで検証は行う（特徴選択を毎度実施するのが厄介なため）\n"
   ]
  },
  {
   "cell_type": "code",
   "execution_count": 28,
   "id": "76e02b5c-90c3-40a6-94d3-efecef50364f",
   "metadata": {},
   "outputs": [],
   "source": [
    "# データ分割のためのクラス\n",
    "# pythonのミュータブルオブジェクトの外部操作を防ぐためにcopy()の使用&private化\n",
    "class SplitDataFrame:\n",
    "    def __init__(self, df, train_size: float = 0.9):\n",
    "        self.__df = df.copy()\n",
    "        self.__train_size = train_size\n",
    "\n",
    "        self.__df_train = None\n",
    "        self.__df_val = None\n",
    "        self.__df_train_val = None\n",
    "        self.__df_test = None\n",
    "\n",
    "        self.__X_train = None\n",
    "        self.__y_train = None\n",
    "        self.__X_val = None\n",
    "        self.__y_val = None\n",
    "        self.__X_train_val = None\n",
    "        self.__y_train_val = None\n",
    "        self.__X_test = None\n",
    "        self.__y_test = None\n",
    "\n",
    "    def split_train_val_test(self):\n",
    "        # train & test\n",
    "        self.__df_train_val, self.__df_test = train_test_split(\n",
    "            self.__df,\n",
    "            train_size=self.__train_size,\n",
    "            stratify=self.__df[STRATIFY_NAME],\n",
    "            random_state=SEED,\n",
    "        )\n",
    "        # train & val\n",
    "        self.__df_train, self.__df_val = train_test_split(\n",
    "            self.__df_train_val,\n",
    "            train_size=self.__train_size,\n",
    "            stratify=self.__df_train_val[STRATIFY_NAME],\n",
    "            random_state=SEED,\n",
    "        )\n",
    "\n",
    "    def split_X_y(self):\n",
    "        self.__X_train, self.__y_train = (\n",
    "            self.__df_train.drop(TARGET_NAME, axis=1),\n",
    "            self.__df_train[TARGET_NAME],\n",
    "        )\n",
    "        self.__X_val, self.__y_val = (\n",
    "            self.__df_val.drop(TARGET_NAME, axis=1),\n",
    "            self.__df_val[TARGET_NAME],\n",
    "        )\n",
    "        self.__X_train_val, self.__y_train_val = (\n",
    "            self.__df_train_val.drop(TARGET_NAME, axis=1),\n",
    "            self.__df_train_val[TARGET_NAME],\n",
    "        )\n",
    "        self.__X_test, self.__y_test = (\n",
    "            self.__df_test.drop(TARGET_NAME, axis=1),\n",
    "            self.__df_test[TARGET_NAME],\n",
    "        )\n",
    "\n",
    "    def get_train_val(self):\n",
    "        return self.__train_val.copy()\n",
    "\n",
    "    def get_train(self):\n",
    "        return self.__train.copy()\n",
    "\n",
    "    def get_val(self):\n",
    "        return self.__val.copy()\n",
    "\n",
    "    def get_test(self):\n",
    "        return self.__test.copy()\n",
    "\n",
    "    def get_train_val_Xy(self):\n",
    "        return self.__X_train_val.copy(), self.__y_train_val.copy()\n",
    "\n",
    "    def get_train_Xy(self):\n",
    "        return self.__X_train.copy(), self.__y_train.copy()\n",
    "\n",
    "    def get_val_Xy(self):\n",
    "        return self.__X_val.copy(), self.__y_val.copy()\n",
    "\n",
    "    def get_test_Xy(self):\n",
    "        return self.__X_test.copy(), self.__y_test.copy()"
   ]
  },
  {
   "cell_type": "markdown",
   "id": "e81f2471-eba7-4480-9bd9-d92af3e73881",
   "metadata": {},
   "source": [
    "# 前処理パイプライン"
   ]
  },
  {
   "cell_type": "code",
   "execution_count": 29,
   "id": "b3b06588-8a4f-490e-a67a-2b422e4aae37",
   "metadata": {},
   "outputs": [],
   "source": [
    "def save_preprocessed_df(\n",
    "    list_train: list(),\n",
    "    list_test: list(),\n",
    "    val_step: str,\n",
    "    save_file_path: str = \".\",\n",
    "):\n",
    "    \"\"\"\n",
    "    params\n",
    "    list_train: [X_train, y_train]\n",
    "    list_test: [X_test, y_test]\n",
    "    \"\"\"\n",
    "    # 検証用データセットの保存\n",
    "    train_path = \"{0}/{1}/train\".format(save_file_path, val_step)\n",
    "    test_path = \"{0}/{1}/test\".format(save_file_path, val_step)\n",
    "\n",
    "    functions.make_dir(train_path)\n",
    "    functions.pickle_dump(list_train[0], \"{0}/X.pkl\".format(train_path))\n",
    "    functions.pickle_dump(list_train[1], \"{0}/y.pkl\".format(train_path))\n",
    "    functions.make_dir(test_path)\n",
    "    functions.pickle_dump(list_test[0], \"{0}/X.pkl\".format(test_path))\n",
    "    functions.pickle_dump(list_test[1], \"{0}/y.pkl\".format(test_path))\n",
    "\n",
    "\n",
    "def save_preprocess_pipeline(\n",
    "    pipeline: callable,\n",
    "    val_step: str,\n",
    "    save_file_path: str = \".\",\n",
    "):\n",
    "    # 検証用データセットの保存\n",
    "    train_path = \"{0}/{1}/train\".format(save_file_path, val_step)\n",
    "    test_path = \"{0}/{1}/test\".format(save_file_path, val_step)\n",
    "\n",
    "    functions.make_dir(train_path)\n",
    "    functions.pickle_dump(pipeline, \"{0}/preprocess_pipeline.pkl\".format(train_path))\n",
    "    functions.make_dir(test_path)\n",
    "    functions.pickle_dump(pipeline, \"{0}/preprocess_pipeline.pkl\".format(test_path))"
   ]
  },
  {
   "cell_type": "code",
   "execution_count": 30,
   "id": "d083aad7-13f3-4d8e-9248-cc69a888a3df",
   "metadata": {},
   "outputs": [],
   "source": [
    "def skip_preprocess(df: pd.DataFrame()) -> bool:\n",
    "    \"\"\"\n",
    "    入力データフレームを前処理するか判断\n",
    "\n",
    "    True: 前処理をする\n",
    "    False: 前処理をしない\n",
    "    \"\"\"\n",
    "    return True if df.shape[0] > 100 else False\n",
    "\n",
    "\n",
    "def apply_preprocess(\n",
    "    df: pd.DataFrame(),\n",
    "    preprocess_order: dict = {\"original_data\": []},\n",
    "    save_file_path: str = None,\n",
    "):\n",
    "    _df = df.copy()\n",
    "\n",
    "    # データが少なすぎる場合は特徴選択しない\n",
    "    if not skip_preprocess(_df):\n",
    "        return\n",
    "\n",
    "    # データ分割\n",
    "    _sp = SplitDataFrame(_df)\n",
    "    _sp.split_train_val_test()\n",
    "    _sp.split_X_y()\n",
    "\n",
    "    _X_train, _y_train = _sp.get_train_Xy()\n",
    "    _X_val, _y_val = _sp.get_val_Xy()\n",
    "    _X_train_val, _y_train_val = _sp.get_train_val_Xy()\n",
    "    _X_test, _y_test = _sp.get_test_Xy()\n",
    "\n",
    "    # train&val と train_val&test のそれぞれのセットに適用\n",
    "    dict_datasets = {\n",
    "        \"val_set\": [[_X_train, _y_train], [_X_val, _y_val]],\n",
    "        \"test_set\": [[_X_train_val, _y_train_val], [_X_test, _y_test]],\n",
    "    }\n",
    "    # 検証用、テスト用それぞれのセットへのパイプラインの適用\n",
    "    for key, values in dict_datasets.items():\n",
    "        # set_config(display=\"diagram\")\n",
    "        _preprocess_pipeline = Pipeline(steps=preprocess_order)\n",
    "        _preprocess_pipeline.fit(values[0][0], values[0][1])\n",
    "        values[0][0] = _preprocess_pipeline.transform(values[0][0])\n",
    "        values[1][0] = _preprocess_pipeline.transform(values[1][0])\n",
    "\n",
    "        print(\n",
    "            \"X_train: \",\n",
    "            values[0][0].shape,\n",
    "            \" X_test: \",\n",
    "            values[1][0].shape,\n",
    "        )\n",
    "\n",
    "        # 保存\n",
    "        if save_file_path:\n",
    "            save_preprocessed_df(\n",
    "                list_train=[values[0][0], values[0][1]],\n",
    "                list_test=[values[1][0], values[1][1]],\n",
    "                val_step=key,\n",
    "                save_file_path=save_file_path,\n",
    "            )\n",
    "            save_preprocess_pipeline(\n",
    "                _preprocess_pipeline,\n",
    "                val_step=key,\n",
    "                save_file_path=save_file_path,\n",
    "            )"
   ]
  },
  {
   "cell_type": "code",
   "execution_count": 31,
   "id": "9ce7de78-fd00-4497-ae54-c431e32b5184",
   "metadata": {},
   "outputs": [],
   "source": [
    "def loop_preprocess():\n",
    "    # 層別化する特徴量\n",
    "    subgroup_columns = [\n",
    "        \"CLAUDIN_SUBTYPE\",\n",
    "        # \"THREEGENE\",\n",
    "    ]\n",
    "    # 遺伝子発現量以外の特徴量を削除\n",
    "    drop_columns = [\n",
    "        \"CLAUDIN_SUBTYPE\",\n",
    "        \"THREEGENE\",\n",
    "    ]\n",
    "\n",
    "    # 実施したい前処理パイプラインの定義\n",
    "    preprocess_order_dicts = [\n",
    "        {\n",
    "            \"preprocess_name\": \"preprocess4numeric_pca{0}\".format(PCA_PERCENTILE),\n",
    "            \"preprocess_order\": [\n",
    "                (\n",
    "                    StandardScalerAsDataFrame().__class__.__name__,\n",
    "                    StandardScalerAsDataFrame(),\n",
    "                ),\n",
    "                (\n",
    "                    PCA().__class__.__name__,\n",
    "                    PCA(n_components=PCA_PERCENTILE / 100, random_state=config.SEED),\n",
    "                ),\n",
    "            ],\n",
    "        },\n",
    "    ]\n",
    "\n",
    "    for subgroup_column in subgroup_columns:  # 各サブグループへの適用\n",
    "        for subgroup in df_recurrenced[subgroup_column].unique():  # サブグループの要素毎への適用\n",
    "            df = df_recurrenced[df_recurrenced[subgroup_column] == subgroup].drop(\n",
    "                drop_columns, axis=1\n",
    "            )\n",
    "            print(subgroup, \": \", df.shape)\n",
    "            for preprocess_order_dict in preprocess_order_dicts:\n",
    "                output_data_path = \"./{0}/{1}/{2}/{3}\".format(\n",
    "                    config.INTERIM_PREPROCESSED_RECURRENCE_DIR,\n",
    "                    subgroup_column,\n",
    "                    subgroup,\n",
    "                    preprocess_order_dict[\"preprocess_name\"],\n",
    "                )\n",
    "                apply_preprocess(\n",
    "                    df,\n",
    "                    preprocess_order=preprocess_order_dict[\"preprocess_order\"],\n",
    "                    save_file_path=output_data_path,\n",
    "                )"
   ]
  },
  {
   "cell_type": "code",
   "execution_count": 32,
   "id": "64b7ccd2-8249-41e6-8986-54075f6db791",
   "metadata": {
    "tags": []
   },
   "outputs": [
    {
     "name": "stderr",
     "output_type": "stream",
     "text": [
      "  0%|                                                                                             | 0/1 [00:00<?, ?it/s]"
     ]
    },
    {
     "name": "stdout",
     "output_type": "stream",
     "text": [
      "++++++++++++++++++++++++++++++++++++++++++++++++++++++++++++++++++++++++++++++++++++++++++++++++++++\n",
      "25\n",
      "claudin-low :  (197, 24370)\n",
      "X_train:  (159, 7)  X_test:  (18, 7)\n",
      "X_train:  (177, 7)  X_test:  (20, 7)\n",
      "LumA :  (673, 24370)\n",
      "X_train:  (544, 12)  X_test:  (61, 12)\n",
      "X_train:  (605, 12)  X_test:  (68, 12)\n",
      "LumB :  (460, 24370)\n",
      "X_train:  (372, 12)  X_test:  (42, 12)\n",
      "X_train:  (414, 12)  X_test:  (46, 12)\n",
      "Her2 :  (218, 24370)\n",
      "X_train:  (176, 7)  X_test:  (20, 7)\n",
      "X_train:  (196, 8)  X_test:  (22, 8)\n",
      "Normal :  (140, 24370)\n",
      "X_train:  (113, 7)  X_test:  (13, 7)\n",
      "X_train:  (126, 7)  X_test:  (14, 7)\n",
      "Basal :  (199, 24370)\n",
      "X_train:  (161, 9)  X_test:  (18, 9)\n"
     ]
    },
    {
     "name": "stderr",
     "output_type": "stream",
     "text": [
      "100%|█████████████████████████████████████████████████████████████████████████████████████| 1/1 [00:19<00:00, 19.84s/it]"
     ]
    },
    {
     "name": "stdout",
     "output_type": "stream",
     "text": [
      "X_train:  (179, 9)  X_test:  (20, 9)\n",
      "NC :  (6, 24370)\n"
     ]
    },
    {
     "name": "stderr",
     "output_type": "stream",
     "text": [
      "\n"
     ]
    }
   ],
   "source": [
    "for p in tqdm(range(25, 26)):\n",
    "    print(\"++++++++++\" * 10)\n",
    "    print(p)\n",
    "    PCA_PERCENTILE = p\n",
    "    loop_preprocess()"
   ]
  },
  {
   "cell_type": "code",
   "execution_count": 33,
   "id": "c7eef2ac-d2d4-4b53-9931-25aaecf52c1b",
   "metadata": {},
   "outputs": [],
   "source": [
    "def apply_preprocess2late_recurrences(\n",
    "    df: pd.DataFrame(),\n",
    "    preprocess_pipeline_path: str,\n",
    "    save_file_path: str = None,\n",
    "):\n",
    "    _df = df.copy()\n",
    "    _X = _df.drop(TARGET_NAME, axis=1)\n",
    "    _y = _df[TARGET_NAME]\n",
    "\n",
    "    # 検証用、テスト用それぞれのセットへのパイプラインの適用\n",
    "    _preprocess_pipeline = functions.pickle_load(\n",
    "        preprocess_pipeline_path + \"/preprocess_pipeline.pkl\"\n",
    "    )\n",
    "    display(_X.shape)\n",
    "    _X = _preprocess_pipeline.transform(_X)\n",
    "    display(_X.shape)\n",
    "\n",
    "    # 保存\n",
    "    if save_file_path:\n",
    "        functions.make_dir(save_file_path)\n",
    "        functions.pickle_dump(_X, save_file_path + \"/X.pkl\")\n",
    "        functions.pickle_dump(_y, save_file_path + \"/y.pkl\")"
   ]
  },
  {
   "cell_type": "code",
   "execution_count": 34,
   "id": "b031b9e6-5e1a-40ba-ad09-3d5f2243a021",
   "metadata": {},
   "outputs": [],
   "source": [
    "def loop_late_recurrences_data():\n",
    "    # 層別化する特徴量\n",
    "    subgroup_columns = [\n",
    "        \"CLAUDIN_SUBTYPE\",\n",
    "        # \"THREEGENE\",\n",
    "    ]\n",
    "    # 遺伝子発現量以外の特徴量を削除\n",
    "    drop_columns = [\n",
    "        \"CLAUDIN_SUBTYPE\",\n",
    "        \"THREEGENE\",\n",
    "    ]\n",
    "\n",
    "    preprocess_order_dicts = [\n",
    "        {\n",
    "            \"preprocess_name\": \"preprocess4numeric_pca{0}\".format(PCA_PERCENTILE),\n",
    "        }\n",
    "    ]\n",
    "    val_step = \"test_set\"\n",
    "\n",
    "    for subgroup_column in subgroup_columns:  # 各サブグループへの適用\n",
    "        for subgroup in df_recurrenced[subgroup_column].unique():  # サブグループの要素毎への適用\n",
    "            df = df_recurrenced[df_recurrenced[subgroup_column] == subgroup].drop(\n",
    "                drop_columns, axis=1\n",
    "            )\n",
    "            df = df[(df.RFS_STATUS == True) & (df.RFS_MONTHS > 60)]\n",
    "            if df.shape[0] < 5:\n",
    "                continue\n",
    "\n",
    "            print(subgroup, \": \", df.shape)\n",
    "            for preprocess_order_dict in preprocess_order_dicts:\n",
    "                subgroup_path = \"./{0}/{1}/{2}/{3}\".format(\n",
    "                    subgroup_column,\n",
    "                    subgroup,\n",
    "                    preprocess_order_dict[\"preprocess_name\"],\n",
    "                    val_step,\n",
    "                )\n",
    "                input_pipe_path = \"./{0}/{1}/{2}\".format(\n",
    "                    config.INTERIM_PREPROCESSED_RECURRENCE_DIR, subgroup_path, \"train\"\n",
    "                )\n",
    "                output_data_path = \"./{0}/{1}/{2}\".format(\n",
    "                    config.INTERIM_PREPROCESSED_RECURRENCE_DIR,\n",
    "                    subgroup_path,\n",
    "                    \"late_recurrences\",\n",
    "                )\n",
    "                apply_preprocess2late_recurrences(df, input_pipe_path, output_data_path)"
   ]
  },
  {
   "cell_type": "code",
   "execution_count": 45,
   "id": "7e9bf990-c989-460e-95e9-95a41397aa7e",
   "metadata": {
    "tags": []
   },
   "outputs": [
    {
     "name": "stderr",
     "output_type": "stream",
     "text": [
      "  0%|                                                                                            | 0/71 [00:00<?, ?it/s]"
     ]
    },
    {
     "name": "stdout",
     "output_type": "stream",
     "text": [
      "++++++++++++++++++++++++++++++++++++++++++++++++++++++++++++++++++++++++++++++++++++++++++++++++++++\n",
      "25\n",
      "claudin-low :  (22, 24370)\n"
     ]
    },
    {
     "data": {
      "text/plain": [
       "(22, 24368)"
      ]
     },
     "metadata": {},
     "output_type": "display_data"
    },
    {
     "data": {
      "text/plain": [
       "(22, 7)"
      ]
     },
     "metadata": {},
     "output_type": "display_data"
    },
    {
     "name": "stdout",
     "output_type": "stream",
     "text": [
      "LumA :  (119, 24370)\n"
     ]
    },
    {
     "data": {
      "text/plain": [
       "(119, 24368)"
      ]
     },
     "metadata": {},
     "output_type": "display_data"
    },
    {
     "data": {
      "text/plain": [
       "(119, 12)"
      ]
     },
     "metadata": {},
     "output_type": "display_data"
    },
    {
     "name": "stdout",
     "output_type": "stream",
     "text": [
      "LumB :  (87, 24370)\n"
     ]
    },
    {
     "data": {
      "text/plain": [
       "(87, 24368)"
      ]
     },
     "metadata": {},
     "output_type": "display_data"
    },
    {
     "data": {
      "text/plain": [
       "(87, 12)"
      ]
     },
     "metadata": {},
     "output_type": "display_data"
    },
    {
     "name": "stdout",
     "output_type": "stream",
     "text": [
      "Her2 :  (29, 24370)\n"
     ]
    },
    {
     "data": {
      "text/plain": [
       "(29, 24368)"
      ]
     },
     "metadata": {},
     "output_type": "display_data"
    },
    {
     "data": {
      "text/plain": [
       "(29, 8)"
      ]
     },
     "metadata": {},
     "output_type": "display_data"
    },
    {
     "name": "stdout",
     "output_type": "stream",
     "text": [
      "Normal :  (27, 24370)\n"
     ]
    },
    {
     "data": {
      "text/plain": [
       "(27, 24368)"
      ]
     },
     "metadata": {},
     "output_type": "display_data"
    },
    {
     "data": {
      "text/plain": [
       "(27, 7)"
      ]
     },
     "metadata": {},
     "output_type": "display_data"
    },
    {
     "name": "stdout",
     "output_type": "stream",
     "text": [
      "Basal :  (8, 24370)\n"
     ]
    },
    {
     "data": {
      "text/plain": [
       "(8, 24368)"
      ]
     },
     "metadata": {},
     "output_type": "display_data"
    },
    {
     "data": {
      "text/plain": [
       "(8, 9)"
      ]
     },
     "metadata": {},
     "output_type": "display_data"
    },
    {
     "name": "stderr",
     "output_type": "stream",
     "text": [
      "  1%|█▏                                                                                  | 1/71 [00:02<02:35,  2.22s/it]"
     ]
    },
    {
     "name": "stdout",
     "output_type": "stream",
     "text": [
      "++++++++++++++++++++++++++++++++++++++++++++++++++++++++++++++++++++++++++++++++++++++++++++++++++++\n",
      "26\n",
      "claudin-low :  (22, 24370)\n"
     ]
    },
    {
     "data": {
      "text/plain": [
       "(22, 24368)"
      ]
     },
     "metadata": {},
     "output_type": "display_data"
    },
    {
     "data": {
      "text/plain": [
       "(22, 7)"
      ]
     },
     "metadata": {},
     "output_type": "display_data"
    },
    {
     "name": "stdout",
     "output_type": "stream",
     "text": [
      "LumA :  (119, 24370)\n"
     ]
    },
    {
     "data": {
      "text/plain": [
       "(119, 24368)"
      ]
     },
     "metadata": {},
     "output_type": "display_data"
    },
    {
     "data": {
      "text/plain": [
       "(119, 13)"
      ]
     },
     "metadata": {},
     "output_type": "display_data"
    },
    {
     "name": "stdout",
     "output_type": "stream",
     "text": [
      "LumB :  (87, 24370)\n"
     ]
    },
    {
     "data": {
      "text/plain": [
       "(87, 24368)"
      ]
     },
     "metadata": {},
     "output_type": "display_data"
    },
    {
     "data": {
      "text/plain": [
       "(87, 14)"
      ]
     },
     "metadata": {},
     "output_type": "display_data"
    },
    {
     "name": "stdout",
     "output_type": "stream",
     "text": [
      "Her2 :  (29, 24370)\n"
     ]
    },
    {
     "data": {
      "text/plain": [
       "(29, 24368)"
      ]
     },
     "metadata": {},
     "output_type": "display_data"
    },
    {
     "data": {
      "text/plain": [
       "(29, 8)"
      ]
     },
     "metadata": {},
     "output_type": "display_data"
    },
    {
     "name": "stdout",
     "output_type": "stream",
     "text": [
      "Normal :  (27, 24370)\n"
     ]
    },
    {
     "data": {
      "text/plain": [
       "(27, 24368)"
      ]
     },
     "metadata": {},
     "output_type": "display_data"
    },
    {
     "data": {
      "text/plain": [
       "(27, 7)"
      ]
     },
     "metadata": {},
     "output_type": "display_data"
    },
    {
     "name": "stdout",
     "output_type": "stream",
     "text": [
      "Basal :  (8, 24370)\n"
     ]
    },
    {
     "data": {
      "text/plain": [
       "(8, 24368)"
      ]
     },
     "metadata": {},
     "output_type": "display_data"
    },
    {
     "data": {
      "text/plain": [
       "(8, 10)"
      ]
     },
     "metadata": {},
     "output_type": "display_data"
    },
    {
     "name": "stderr",
     "output_type": "stream",
     "text": [
      "  3%|██▎                                                                                 | 2/71 [00:04<02:35,  2.25s/it]"
     ]
    },
    {
     "name": "stdout",
     "output_type": "stream",
     "text": [
      "++++++++++++++++++++++++++++++++++++++++++++++++++++++++++++++++++++++++++++++++++++++++++++++++++++\n",
      "27\n",
      "claudin-low :  (22, 24370)\n"
     ]
    },
    {
     "data": {
      "text/plain": [
       "(22, 24368)"
      ]
     },
     "metadata": {},
     "output_type": "display_data"
    },
    {
     "data": {
      "text/plain": [
       "(22, 8)"
      ]
     },
     "metadata": {},
     "output_type": "display_data"
    },
    {
     "name": "stdout",
     "output_type": "stream",
     "text": [
      "LumA :  (119, 24370)\n"
     ]
    },
    {
     "data": {
      "text/plain": [
       "(119, 24368)"
      ]
     },
     "metadata": {},
     "output_type": "display_data"
    },
    {
     "data": {
      "text/plain": [
       "(119, 14)"
      ]
     },
     "metadata": {},
     "output_type": "display_data"
    },
    {
     "name": "stdout",
     "output_type": "stream",
     "text": [
      "LumB :  (87, 24370)\n"
     ]
    },
    {
     "data": {
      "text/plain": [
       "(87, 24368)"
      ]
     },
     "metadata": {},
     "output_type": "display_data"
    },
    {
     "data": {
      "text/plain": [
       "(87, 15)"
      ]
     },
     "metadata": {},
     "output_type": "display_data"
    },
    {
     "name": "stdout",
     "output_type": "stream",
     "text": [
      "Her2 :  (29, 24370)\n"
     ]
    },
    {
     "data": {
      "text/plain": [
       "(29, 24368)"
      ]
     },
     "metadata": {},
     "output_type": "display_data"
    },
    {
     "data": {
      "text/plain": [
       "(29, 9)"
      ]
     },
     "metadata": {},
     "output_type": "display_data"
    },
    {
     "name": "stdout",
     "output_type": "stream",
     "text": [
      "Normal :  (27, 24370)\n"
     ]
    },
    {
     "data": {
      "text/plain": [
       "(27, 24368)"
      ]
     },
     "metadata": {},
     "output_type": "display_data"
    },
    {
     "data": {
      "text/plain": [
       "(27, 8)"
      ]
     },
     "metadata": {},
     "output_type": "display_data"
    },
    {
     "name": "stdout",
     "output_type": "stream",
     "text": [
      "Basal :  (8, 24370)\n"
     ]
    },
    {
     "data": {
      "text/plain": [
       "(8, 24368)"
      ]
     },
     "metadata": {},
     "output_type": "display_data"
    },
    {
     "data": {
      "text/plain": [
       "(8, 11)"
      ]
     },
     "metadata": {},
     "output_type": "display_data"
    },
    {
     "name": "stderr",
     "output_type": "stream",
     "text": [
      "  4%|███▌                                                                                | 3/71 [00:06<02:30,  2.21s/it]"
     ]
    },
    {
     "name": "stdout",
     "output_type": "stream",
     "text": [
      "++++++++++++++++++++++++++++++++++++++++++++++++++++++++++++++++++++++++++++++++++++++++++++++++++++\n",
      "28\n",
      "claudin-low :  (22, 24370)\n"
     ]
    },
    {
     "data": {
      "text/plain": [
       "(22, 24368)"
      ]
     },
     "metadata": {},
     "output_type": "display_data"
    },
    {
     "data": {
      "text/plain": [
       "(22, 8)"
      ]
     },
     "metadata": {},
     "output_type": "display_data"
    },
    {
     "name": "stdout",
     "output_type": "stream",
     "text": [
      "LumA :  (119, 24370)\n"
     ]
    },
    {
     "data": {
      "text/plain": [
       "(119, 24368)"
      ]
     },
     "metadata": {},
     "output_type": "display_data"
    },
    {
     "data": {
      "text/plain": [
       "(119, 16)"
      ]
     },
     "metadata": {},
     "output_type": "display_data"
    },
    {
     "name": "stdout",
     "output_type": "stream",
     "text": [
      "LumB :  (87, 24370)\n"
     ]
    },
    {
     "data": {
      "text/plain": [
       "(87, 24368)"
      ]
     },
     "metadata": {},
     "output_type": "display_data"
    },
    {
     "data": {
      "text/plain": [
       "(87, 16)"
      ]
     },
     "metadata": {},
     "output_type": "display_data"
    },
    {
     "name": "stdout",
     "output_type": "stream",
     "text": [
      "Her2 :  (29, 24370)\n"
     ]
    },
    {
     "data": {
      "text/plain": [
       "(29, 24368)"
      ]
     },
     "metadata": {},
     "output_type": "display_data"
    },
    {
     "data": {
      "text/plain": [
       "(29, 10)"
      ]
     },
     "metadata": {},
     "output_type": "display_data"
    },
    {
     "name": "stdout",
     "output_type": "stream",
     "text": [
      "Normal :  (27, 24370)\n"
     ]
    },
    {
     "data": {
      "text/plain": [
       "(27, 24368)"
      ]
     },
     "metadata": {},
     "output_type": "display_data"
    },
    {
     "data": {
      "text/plain": [
       "(27, 9)"
      ]
     },
     "metadata": {},
     "output_type": "display_data"
    },
    {
     "name": "stdout",
     "output_type": "stream",
     "text": [
      "Basal :  (8, 24370)\n"
     ]
    },
    {
     "data": {
      "text/plain": [
       "(8, 24368)"
      ]
     },
     "metadata": {},
     "output_type": "display_data"
    },
    {
     "data": {
      "text/plain": [
       "(8, 12)"
      ]
     },
     "metadata": {},
     "output_type": "display_data"
    },
    {
     "name": "stderr",
     "output_type": "stream",
     "text": [
      "  6%|████▋                                                                               | 4/71 [00:08<02:26,  2.19s/it]"
     ]
    },
    {
     "name": "stdout",
     "output_type": "stream",
     "text": [
      "++++++++++++++++++++++++++++++++++++++++++++++++++++++++++++++++++++++++++++++++++++++++++++++++++++\n",
      "29\n",
      "claudin-low :  (22, 24370)\n"
     ]
    },
    {
     "data": {
      "text/plain": [
       "(22, 24368)"
      ]
     },
     "metadata": {},
     "output_type": "display_data"
    },
    {
     "data": {
      "text/plain": [
       "(22, 9)"
      ]
     },
     "metadata": {},
     "output_type": "display_data"
    },
    {
     "name": "stdout",
     "output_type": "stream",
     "text": [
      "LumA :  (119, 24370)\n"
     ]
    },
    {
     "data": {
      "text/plain": [
       "(119, 24368)"
      ]
     },
     "metadata": {},
     "output_type": "display_data"
    },
    {
     "data": {
      "text/plain": [
       "(119, 17)"
      ]
     },
     "metadata": {},
     "output_type": "display_data"
    },
    {
     "name": "stdout",
     "output_type": "stream",
     "text": [
      "LumB :  (87, 24370)\n"
     ]
    },
    {
     "data": {
      "text/plain": [
       "(87, 24368)"
      ]
     },
     "metadata": {},
     "output_type": "display_data"
    },
    {
     "data": {
      "text/plain": [
       "(87, 18)"
      ]
     },
     "metadata": {},
     "output_type": "display_data"
    },
    {
     "name": "stdout",
     "output_type": "stream",
     "text": [
      "Her2 :  (29, 24370)\n"
     ]
    },
    {
     "data": {
      "text/plain": [
       "(29, 24368)"
      ]
     },
     "metadata": {},
     "output_type": "display_data"
    },
    {
     "data": {
      "text/plain": [
       "(29, 11)"
      ]
     },
     "metadata": {},
     "output_type": "display_data"
    },
    {
     "name": "stdout",
     "output_type": "stream",
     "text": [
      "Normal :  (27, 24370)\n"
     ]
    },
    {
     "data": {
      "text/plain": [
       "(27, 24368)"
      ]
     },
     "metadata": {},
     "output_type": "display_data"
    },
    {
     "data": {
      "text/plain": [
       "(27, 9)"
      ]
     },
     "metadata": {},
     "output_type": "display_data"
    },
    {
     "name": "stdout",
     "output_type": "stream",
     "text": [
      "Basal :  (8, 24370)\n"
     ]
    },
    {
     "data": {
      "text/plain": [
       "(8, 24368)"
      ]
     },
     "metadata": {},
     "output_type": "display_data"
    },
    {
     "data": {
      "text/plain": [
       "(8, 13)"
      ]
     },
     "metadata": {},
     "output_type": "display_data"
    },
    {
     "name": "stderr",
     "output_type": "stream",
     "text": [
      "  7%|█████▉                                                                              | 5/71 [00:11<02:25,  2.20s/it]"
     ]
    },
    {
     "name": "stdout",
     "output_type": "stream",
     "text": [
      "++++++++++++++++++++++++++++++++++++++++++++++++++++++++++++++++++++++++++++++++++++++++++++++++++++\n",
      "30\n",
      "claudin-low :  (22, 24370)\n"
     ]
    },
    {
     "data": {
      "text/plain": [
       "(22, 24368)"
      ]
     },
     "metadata": {},
     "output_type": "display_data"
    },
    {
     "data": {
      "text/plain": [
       "(22, 10)"
      ]
     },
     "metadata": {},
     "output_type": "display_data"
    },
    {
     "name": "stdout",
     "output_type": "stream",
     "text": [
      "LumA :  (119, 24370)\n"
     ]
    },
    {
     "data": {
      "text/plain": [
       "(119, 24368)"
      ]
     },
     "metadata": {},
     "output_type": "display_data"
    },
    {
     "data": {
      "text/plain": [
       "(119, 19)"
      ]
     },
     "metadata": {},
     "output_type": "display_data"
    },
    {
     "name": "stdout",
     "output_type": "stream",
     "text": [
      "LumB :  (87, 24370)\n"
     ]
    },
    {
     "data": {
      "text/plain": [
       "(87, 24368)"
      ]
     },
     "metadata": {},
     "output_type": "display_data"
    },
    {
     "data": {
      "text/plain": [
       "(87, 19)"
      ]
     },
     "metadata": {},
     "output_type": "display_data"
    },
    {
     "name": "stdout",
     "output_type": "stream",
     "text": [
      "Her2 :  (29, 24370)\n"
     ]
    },
    {
     "data": {
      "text/plain": [
       "(29, 24368)"
      ]
     },
     "metadata": {},
     "output_type": "display_data"
    },
    {
     "data": {
      "text/plain": [
       "(29, 11)"
      ]
     },
     "metadata": {},
     "output_type": "display_data"
    },
    {
     "name": "stdout",
     "output_type": "stream",
     "text": [
      "Normal :  (27, 24370)\n"
     ]
    },
    {
     "data": {
      "text/plain": [
       "(27, 24368)"
      ]
     },
     "metadata": {},
     "output_type": "display_data"
    },
    {
     "data": {
      "text/plain": [
       "(27, 10)"
      ]
     },
     "metadata": {},
     "output_type": "display_data"
    },
    {
     "name": "stdout",
     "output_type": "stream",
     "text": [
      "Basal :  (8, 24370)\n"
     ]
    },
    {
     "data": {
      "text/plain": [
       "(8, 24368)"
      ]
     },
     "metadata": {},
     "output_type": "display_data"
    },
    {
     "data": {
      "text/plain": [
       "(8, 14)"
      ]
     },
     "metadata": {},
     "output_type": "display_data"
    },
    {
     "name": "stderr",
     "output_type": "stream",
     "text": [
      "  8%|███████                                                                             | 6/71 [00:13<02:20,  2.16s/it]"
     ]
    },
    {
     "name": "stdout",
     "output_type": "stream",
     "text": [
      "++++++++++++++++++++++++++++++++++++++++++++++++++++++++++++++++++++++++++++++++++++++++++++++++++++\n",
      "31\n",
      "claudin-low :  (22, 24370)\n"
     ]
    },
    {
     "data": {
      "text/plain": [
       "(22, 24368)"
      ]
     },
     "metadata": {},
     "output_type": "display_data"
    },
    {
     "data": {
      "text/plain": [
       "(22, 10)"
      ]
     },
     "metadata": {},
     "output_type": "display_data"
    },
    {
     "name": "stdout",
     "output_type": "stream",
     "text": [
      "LumA :  (119, 24370)\n"
     ]
    },
    {
     "data": {
      "text/plain": [
       "(119, 24368)"
      ]
     },
     "metadata": {},
     "output_type": "display_data"
    },
    {
     "data": {
      "text/plain": [
       "(119, 21)"
      ]
     },
     "metadata": {},
     "output_type": "display_data"
    },
    {
     "name": "stdout",
     "output_type": "stream",
     "text": [
      "LumB :  (87, 24370)\n"
     ]
    },
    {
     "data": {
      "text/plain": [
       "(87, 24368)"
      ]
     },
     "metadata": {},
     "output_type": "display_data"
    },
    {
     "data": {
      "text/plain": [
       "(87, 21)"
      ]
     },
     "metadata": {},
     "output_type": "display_data"
    },
    {
     "name": "stdout",
     "output_type": "stream",
     "text": [
      "Her2 :  (29, 24370)\n"
     ]
    },
    {
     "data": {
      "text/plain": [
       "(29, 24368)"
      ]
     },
     "metadata": {},
     "output_type": "display_data"
    },
    {
     "data": {
      "text/plain": [
       "(29, 12)"
      ]
     },
     "metadata": {},
     "output_type": "display_data"
    },
    {
     "name": "stdout",
     "output_type": "stream",
     "text": [
      "Normal :  (27, 24370)\n"
     ]
    },
    {
     "data": {
      "text/plain": [
       "(27, 24368)"
      ]
     },
     "metadata": {},
     "output_type": "display_data"
    },
    {
     "data": {
      "text/plain": [
       "(27, 10)"
      ]
     },
     "metadata": {},
     "output_type": "display_data"
    },
    {
     "name": "stdout",
     "output_type": "stream",
     "text": [
      "Basal :  (8, 24370)\n"
     ]
    },
    {
     "data": {
      "text/plain": [
       "(8, 24368)"
      ]
     },
     "metadata": {},
     "output_type": "display_data"
    },
    {
     "data": {
      "text/plain": [
       "(8, 15)"
      ]
     },
     "metadata": {},
     "output_type": "display_data"
    },
    {
     "name": "stderr",
     "output_type": "stream",
     "text": [
      " 10%|████████▎                                                                           | 7/71 [00:15<02:18,  2.16s/it]"
     ]
    },
    {
     "name": "stdout",
     "output_type": "stream",
     "text": [
      "++++++++++++++++++++++++++++++++++++++++++++++++++++++++++++++++++++++++++++++++++++++++++++++++++++\n",
      "32\n",
      "claudin-low :  (22, 24370)\n"
     ]
    },
    {
     "data": {
      "text/plain": [
       "(22, 24368)"
      ]
     },
     "metadata": {},
     "output_type": "display_data"
    },
    {
     "data": {
      "text/plain": [
       "(22, 11)"
      ]
     },
     "metadata": {},
     "output_type": "display_data"
    },
    {
     "name": "stdout",
     "output_type": "stream",
     "text": [
      "LumA :  (119, 24370)\n"
     ]
    },
    {
     "data": {
      "text/plain": [
       "(119, 24368)"
      ]
     },
     "metadata": {},
     "output_type": "display_data"
    },
    {
     "data": {
      "text/plain": [
       "(119, 23)"
      ]
     },
     "metadata": {},
     "output_type": "display_data"
    },
    {
     "name": "stdout",
     "output_type": "stream",
     "text": [
      "LumB :  (87, 24370)\n"
     ]
    },
    {
     "data": {
      "text/plain": [
       "(87, 24368)"
      ]
     },
     "metadata": {},
     "output_type": "display_data"
    },
    {
     "data": {
      "text/plain": [
       "(87, 23)"
      ]
     },
     "metadata": {},
     "output_type": "display_data"
    },
    {
     "name": "stdout",
     "output_type": "stream",
     "text": [
      "Her2 :  (29, 24370)\n"
     ]
    },
    {
     "data": {
      "text/plain": [
       "(29, 24368)"
      ]
     },
     "metadata": {},
     "output_type": "display_data"
    },
    {
     "data": {
      "text/plain": [
       "(29, 14)"
      ]
     },
     "metadata": {},
     "output_type": "display_data"
    },
    {
     "name": "stdout",
     "output_type": "stream",
     "text": [
      "Normal :  (27, 24370)\n"
     ]
    },
    {
     "data": {
      "text/plain": [
       "(27, 24368)"
      ]
     },
     "metadata": {},
     "output_type": "display_data"
    },
    {
     "data": {
      "text/plain": [
       "(27, 11)"
      ]
     },
     "metadata": {},
     "output_type": "display_data"
    },
    {
     "name": "stdout",
     "output_type": "stream",
     "text": [
      "Basal :  (8, 24370)\n"
     ]
    },
    {
     "data": {
      "text/plain": [
       "(8, 24368)"
      ]
     },
     "metadata": {},
     "output_type": "display_data"
    },
    {
     "data": {
      "text/plain": [
       "(8, 16)"
      ]
     },
     "metadata": {},
     "output_type": "display_data"
    },
    {
     "name": "stderr",
     "output_type": "stream",
     "text": [
      " 11%|█████████▍                                                                          | 8/71 [00:17<02:16,  2.17s/it]"
     ]
    },
    {
     "name": "stdout",
     "output_type": "stream",
     "text": [
      "++++++++++++++++++++++++++++++++++++++++++++++++++++++++++++++++++++++++++++++++++++++++++++++++++++\n",
      "33\n",
      "claudin-low :  (22, 24370)\n"
     ]
    },
    {
     "data": {
      "text/plain": [
       "(22, 24368)"
      ]
     },
     "metadata": {},
     "output_type": "display_data"
    },
    {
     "data": {
      "text/plain": [
       "(22, 12)"
      ]
     },
     "metadata": {},
     "output_type": "display_data"
    },
    {
     "name": "stdout",
     "output_type": "stream",
     "text": [
      "LumA :  (119, 24370)\n"
     ]
    },
    {
     "data": {
      "text/plain": [
       "(119, 24368)"
      ]
     },
     "metadata": {},
     "output_type": "display_data"
    },
    {
     "data": {
      "text/plain": [
       "(119, 25)"
      ]
     },
     "metadata": {},
     "output_type": "display_data"
    },
    {
     "name": "stdout",
     "output_type": "stream",
     "text": [
      "LumB :  (87, 24370)\n"
     ]
    },
    {
     "data": {
      "text/plain": [
       "(87, 24368)"
      ]
     },
     "metadata": {},
     "output_type": "display_data"
    },
    {
     "data": {
      "text/plain": [
       "(87, 25)"
      ]
     },
     "metadata": {},
     "output_type": "display_data"
    },
    {
     "name": "stdout",
     "output_type": "stream",
     "text": [
      "Her2 :  (29, 24370)\n"
     ]
    },
    {
     "data": {
      "text/plain": [
       "(29, 24368)"
      ]
     },
     "metadata": {},
     "output_type": "display_data"
    },
    {
     "data": {
      "text/plain": [
       "(29, 15)"
      ]
     },
     "metadata": {},
     "output_type": "display_data"
    },
    {
     "name": "stdout",
     "output_type": "stream",
     "text": [
      "Normal :  (27, 24370)\n"
     ]
    },
    {
     "data": {
      "text/plain": [
       "(27, 24368)"
      ]
     },
     "metadata": {},
     "output_type": "display_data"
    },
    {
     "data": {
      "text/plain": [
       "(27, 12)"
      ]
     },
     "metadata": {},
     "output_type": "display_data"
    },
    {
     "name": "stdout",
     "output_type": "stream",
     "text": [
      "Basal :  (8, 24370)\n"
     ]
    },
    {
     "data": {
      "text/plain": [
       "(8, 24368)"
      ]
     },
     "metadata": {},
     "output_type": "display_data"
    },
    {
     "data": {
      "text/plain": [
       "(8, 17)"
      ]
     },
     "metadata": {},
     "output_type": "display_data"
    },
    {
     "name": "stderr",
     "output_type": "stream",
     "text": [
      " 13%|██████████▋                                                                         | 9/71 [00:19<02:13,  2.16s/it]"
     ]
    },
    {
     "name": "stdout",
     "output_type": "stream",
     "text": [
      "++++++++++++++++++++++++++++++++++++++++++++++++++++++++++++++++++++++++++++++++++++++++++++++++++++\n",
      "34\n",
      "claudin-low :  (22, 24370)\n"
     ]
    },
    {
     "data": {
      "text/plain": [
       "(22, 24368)"
      ]
     },
     "metadata": {},
     "output_type": "display_data"
    },
    {
     "data": {
      "text/plain": [
       "(22, 13)"
      ]
     },
     "metadata": {},
     "output_type": "display_data"
    },
    {
     "name": "stdout",
     "output_type": "stream",
     "text": [
      "LumA :  (119, 24370)\n"
     ]
    },
    {
     "data": {
      "text/plain": [
       "(119, 24368)"
      ]
     },
     "metadata": {},
     "output_type": "display_data"
    },
    {
     "data": {
      "text/plain": [
       "(119, 27)"
      ]
     },
     "metadata": {},
     "output_type": "display_data"
    },
    {
     "name": "stdout",
     "output_type": "stream",
     "text": [
      "LumB :  (87, 24370)\n"
     ]
    },
    {
     "data": {
      "text/plain": [
       "(87, 24368)"
      ]
     },
     "metadata": {},
     "output_type": "display_data"
    },
    {
     "data": {
      "text/plain": [
       "(87, 27)"
      ]
     },
     "metadata": {},
     "output_type": "display_data"
    },
    {
     "name": "stdout",
     "output_type": "stream",
     "text": [
      "Her2 :  (29, 24370)\n"
     ]
    },
    {
     "data": {
      "text/plain": [
       "(29, 24368)"
      ]
     },
     "metadata": {},
     "output_type": "display_data"
    },
    {
     "data": {
      "text/plain": [
       "(29, 16)"
      ]
     },
     "metadata": {},
     "output_type": "display_data"
    },
    {
     "name": "stdout",
     "output_type": "stream",
     "text": [
      "Normal :  (27, 24370)\n"
     ]
    },
    {
     "data": {
      "text/plain": [
       "(27, 24368)"
      ]
     },
     "metadata": {},
     "output_type": "display_data"
    },
    {
     "data": {
      "text/plain": [
       "(27, 12)"
      ]
     },
     "metadata": {},
     "output_type": "display_data"
    },
    {
     "name": "stdout",
     "output_type": "stream",
     "text": [
      "Basal :  (8, 24370)\n"
     ]
    },
    {
     "data": {
      "text/plain": [
       "(8, 24368)"
      ]
     },
     "metadata": {},
     "output_type": "display_data"
    },
    {
     "data": {
      "text/plain": [
       "(8, 18)"
      ]
     },
     "metadata": {},
     "output_type": "display_data"
    },
    {
     "name": "stderr",
     "output_type": "stream",
     "text": [
      " 14%|███████████▋                                                                       | 10/71 [00:21<02:12,  2.17s/it]"
     ]
    },
    {
     "name": "stdout",
     "output_type": "stream",
     "text": [
      "++++++++++++++++++++++++++++++++++++++++++++++++++++++++++++++++++++++++++++++++++++++++++++++++++++\n",
      "35\n",
      "claudin-low :  (22, 24370)\n"
     ]
    },
    {
     "data": {
      "text/plain": [
       "(22, 24368)"
      ]
     },
     "metadata": {},
     "output_type": "display_data"
    },
    {
     "data": {
      "text/plain": [
       "(22, 14)"
      ]
     },
     "metadata": {},
     "output_type": "display_data"
    },
    {
     "name": "stdout",
     "output_type": "stream",
     "text": [
      "LumA :  (119, 24370)\n"
     ]
    },
    {
     "data": {
      "text/plain": [
       "(119, 24368)"
      ]
     },
     "metadata": {},
     "output_type": "display_data"
    },
    {
     "data": {
      "text/plain": [
       "(119, 30)"
      ]
     },
     "metadata": {},
     "output_type": "display_data"
    },
    {
     "name": "stdout",
     "output_type": "stream",
     "text": [
      "LumB :  (87, 24370)\n"
     ]
    },
    {
     "data": {
      "text/plain": [
       "(87, 24368)"
      ]
     },
     "metadata": {},
     "output_type": "display_data"
    },
    {
     "data": {
      "text/plain": [
       "(87, 29)"
      ]
     },
     "metadata": {},
     "output_type": "display_data"
    },
    {
     "name": "stdout",
     "output_type": "stream",
     "text": [
      "Her2 :  (29, 24370)\n"
     ]
    },
    {
     "data": {
      "text/plain": [
       "(29, 24368)"
      ]
     },
     "metadata": {},
     "output_type": "display_data"
    },
    {
     "data": {
      "text/plain": [
       "(29, 17)"
      ]
     },
     "metadata": {},
     "output_type": "display_data"
    },
    {
     "name": "stdout",
     "output_type": "stream",
     "text": [
      "Normal :  (27, 24370)\n"
     ]
    },
    {
     "data": {
      "text/plain": [
       "(27, 24368)"
      ]
     },
     "metadata": {},
     "output_type": "display_data"
    },
    {
     "data": {
      "text/plain": [
       "(27, 13)"
      ]
     },
     "metadata": {},
     "output_type": "display_data"
    },
    {
     "name": "stdout",
     "output_type": "stream",
     "text": [
      "Basal :  (8, 24370)\n"
     ]
    },
    {
     "data": {
      "text/plain": [
       "(8, 24368)"
      ]
     },
     "metadata": {},
     "output_type": "display_data"
    },
    {
     "data": {
      "text/plain": [
       "(8, 19)"
      ]
     },
     "metadata": {},
     "output_type": "display_data"
    },
    {
     "name": "stderr",
     "output_type": "stream",
     "text": [
      " 15%|████████████▊                                                                      | 11/71 [00:24<02:11,  2.19s/it]"
     ]
    },
    {
     "name": "stdout",
     "output_type": "stream",
     "text": [
      "++++++++++++++++++++++++++++++++++++++++++++++++++++++++++++++++++++++++++++++++++++++++++++++++++++\n",
      "36\n",
      "claudin-low :  (22, 24370)\n"
     ]
    },
    {
     "data": {
      "text/plain": [
       "(22, 24368)"
      ]
     },
     "metadata": {},
     "output_type": "display_data"
    },
    {
     "data": {
      "text/plain": [
       "(22, 14)"
      ]
     },
     "metadata": {},
     "output_type": "display_data"
    },
    {
     "name": "stdout",
     "output_type": "stream",
     "text": [
      "LumA :  (119, 24370)\n"
     ]
    },
    {
     "data": {
      "text/plain": [
       "(119, 24368)"
      ]
     },
     "metadata": {},
     "output_type": "display_data"
    },
    {
     "data": {
      "text/plain": [
       "(119, 32)"
      ]
     },
     "metadata": {},
     "output_type": "display_data"
    },
    {
     "name": "stdout",
     "output_type": "stream",
     "text": [
      "LumB :  (87, 24370)\n"
     ]
    },
    {
     "data": {
      "text/plain": [
       "(87, 24368)"
      ]
     },
     "metadata": {},
     "output_type": "display_data"
    },
    {
     "data": {
      "text/plain": [
       "(87, 31)"
      ]
     },
     "metadata": {},
     "output_type": "display_data"
    },
    {
     "name": "stdout",
     "output_type": "stream",
     "text": [
      "Her2 :  (29, 24370)\n"
     ]
    },
    {
     "data": {
      "text/plain": [
       "(29, 24368)"
      ]
     },
     "metadata": {},
     "output_type": "display_data"
    },
    {
     "data": {
      "text/plain": [
       "(29, 18)"
      ]
     },
     "metadata": {},
     "output_type": "display_data"
    },
    {
     "name": "stdout",
     "output_type": "stream",
     "text": [
      "Normal :  (27, 24370)\n"
     ]
    },
    {
     "data": {
      "text/plain": [
       "(27, 24368)"
      ]
     },
     "metadata": {},
     "output_type": "display_data"
    },
    {
     "data": {
      "text/plain": [
       "(27, 14)"
      ]
     },
     "metadata": {},
     "output_type": "display_data"
    },
    {
     "name": "stdout",
     "output_type": "stream",
     "text": [
      "Basal :  (8, 24370)\n"
     ]
    },
    {
     "data": {
      "text/plain": [
       "(8, 24368)"
      ]
     },
     "metadata": {},
     "output_type": "display_data"
    },
    {
     "data": {
      "text/plain": [
       "(8, 20)"
      ]
     },
     "metadata": {},
     "output_type": "display_data"
    },
    {
     "name": "stderr",
     "output_type": "stream",
     "text": [
      " 17%|██████████████                                                                     | 12/71 [00:26<02:08,  2.18s/it]"
     ]
    },
    {
     "name": "stdout",
     "output_type": "stream",
     "text": [
      "++++++++++++++++++++++++++++++++++++++++++++++++++++++++++++++++++++++++++++++++++++++++++++++++++++\n",
      "37\n",
      "claudin-low :  (22, 24370)\n"
     ]
    },
    {
     "data": {
      "text/plain": [
       "(22, 24368)"
      ]
     },
     "metadata": {},
     "output_type": "display_data"
    },
    {
     "data": {
      "text/plain": [
       "(22, 15)"
      ]
     },
     "metadata": {},
     "output_type": "display_data"
    },
    {
     "name": "stdout",
     "output_type": "stream",
     "text": [
      "LumA :  (119, 24370)\n"
     ]
    },
    {
     "data": {
      "text/plain": [
       "(119, 24368)"
      ]
     },
     "metadata": {},
     "output_type": "display_data"
    },
    {
     "data": {
      "text/plain": [
       "(119, 35)"
      ]
     },
     "metadata": {},
     "output_type": "display_data"
    },
    {
     "name": "stdout",
     "output_type": "stream",
     "text": [
      "LumB :  (87, 24370)\n"
     ]
    },
    {
     "data": {
      "text/plain": [
       "(87, 24368)"
      ]
     },
     "metadata": {},
     "output_type": "display_data"
    },
    {
     "data": {
      "text/plain": [
       "(87, 34)"
      ]
     },
     "metadata": {},
     "output_type": "display_data"
    },
    {
     "name": "stdout",
     "output_type": "stream",
     "text": [
      "Her2 :  (29, 24370)\n"
     ]
    },
    {
     "data": {
      "text/plain": [
       "(29, 24368)"
      ]
     },
     "metadata": {},
     "output_type": "display_data"
    },
    {
     "data": {
      "text/plain": [
       "(29, 20)"
      ]
     },
     "metadata": {},
     "output_type": "display_data"
    },
    {
     "name": "stdout",
     "output_type": "stream",
     "text": [
      "Normal :  (27, 24370)\n"
     ]
    },
    {
     "data": {
      "text/plain": [
       "(27, 24368)"
      ]
     },
     "metadata": {},
     "output_type": "display_data"
    },
    {
     "data": {
      "text/plain": [
       "(27, 15)"
      ]
     },
     "metadata": {},
     "output_type": "display_data"
    },
    {
     "name": "stdout",
     "output_type": "stream",
     "text": [
      "Basal :  (8, 24370)\n"
     ]
    },
    {
     "data": {
      "text/plain": [
       "(8, 24368)"
      ]
     },
     "metadata": {},
     "output_type": "display_data"
    },
    {
     "data": {
      "text/plain": [
       "(8, 22)"
      ]
     },
     "metadata": {},
     "output_type": "display_data"
    },
    {
     "name": "stderr",
     "output_type": "stream",
     "text": [
      " 18%|███████████████▏                                                                   | 13/71 [00:28<02:05,  2.17s/it]"
     ]
    },
    {
     "name": "stdout",
     "output_type": "stream",
     "text": [
      "++++++++++++++++++++++++++++++++++++++++++++++++++++++++++++++++++++++++++++++++++++++++++++++++++++\n",
      "38\n",
      "claudin-low :  (22, 24370)\n"
     ]
    },
    {
     "data": {
      "text/plain": [
       "(22, 24368)"
      ]
     },
     "metadata": {},
     "output_type": "display_data"
    },
    {
     "data": {
      "text/plain": [
       "(22, 16)"
      ]
     },
     "metadata": {},
     "output_type": "display_data"
    },
    {
     "name": "stdout",
     "output_type": "stream",
     "text": [
      "LumA :  (119, 24370)\n"
     ]
    },
    {
     "data": {
      "text/plain": [
       "(119, 24368)"
      ]
     },
     "metadata": {},
     "output_type": "display_data"
    },
    {
     "data": {
      "text/plain": [
       "(119, 38)"
      ]
     },
     "metadata": {},
     "output_type": "display_data"
    },
    {
     "name": "stdout",
     "output_type": "stream",
     "text": [
      "LumB :  (87, 24370)\n"
     ]
    },
    {
     "data": {
      "text/plain": [
       "(87, 24368)"
      ]
     },
     "metadata": {},
     "output_type": "display_data"
    },
    {
     "data": {
      "text/plain": [
       "(87, 36)"
      ]
     },
     "metadata": {},
     "output_type": "display_data"
    },
    {
     "name": "stdout",
     "output_type": "stream",
     "text": [
      "Her2 :  (29, 24370)\n"
     ]
    },
    {
     "data": {
      "text/plain": [
       "(29, 24368)"
      ]
     },
     "metadata": {},
     "output_type": "display_data"
    },
    {
     "data": {
      "text/plain": [
       "(29, 21)"
      ]
     },
     "metadata": {},
     "output_type": "display_data"
    },
    {
     "name": "stdout",
     "output_type": "stream",
     "text": [
      "Normal :  (27, 24370)\n"
     ]
    },
    {
     "data": {
      "text/plain": [
       "(27, 24368)"
      ]
     },
     "metadata": {},
     "output_type": "display_data"
    },
    {
     "data": {
      "text/plain": [
       "(27, 16)"
      ]
     },
     "metadata": {},
     "output_type": "display_data"
    },
    {
     "name": "stdout",
     "output_type": "stream",
     "text": [
      "Basal :  (8, 24370)\n"
     ]
    },
    {
     "data": {
      "text/plain": [
       "(8, 24368)"
      ]
     },
     "metadata": {},
     "output_type": "display_data"
    },
    {
     "data": {
      "text/plain": [
       "(8, 23)"
      ]
     },
     "metadata": {},
     "output_type": "display_data"
    },
    {
     "name": "stderr",
     "output_type": "stream",
     "text": [
      " 20%|████████████████▎                                                                  | 14/71 [00:30<02:05,  2.20s/it]"
     ]
    },
    {
     "name": "stdout",
     "output_type": "stream",
     "text": [
      "++++++++++++++++++++++++++++++++++++++++++++++++++++++++++++++++++++++++++++++++++++++++++++++++++++\n",
      "39\n",
      "claudin-low :  (22, 24370)\n"
     ]
    },
    {
     "data": {
      "text/plain": [
       "(22, 24368)"
      ]
     },
     "metadata": {},
     "output_type": "display_data"
    },
    {
     "data": {
      "text/plain": [
       "(22, 18)"
      ]
     },
     "metadata": {},
     "output_type": "display_data"
    },
    {
     "name": "stdout",
     "output_type": "stream",
     "text": [
      "LumA :  (119, 24370)\n"
     ]
    },
    {
     "data": {
      "text/plain": [
       "(119, 24368)"
      ]
     },
     "metadata": {},
     "output_type": "display_data"
    },
    {
     "data": {
      "text/plain": [
       "(119, 41)"
      ]
     },
     "metadata": {},
     "output_type": "display_data"
    },
    {
     "name": "stdout",
     "output_type": "stream",
     "text": [
      "LumB :  (87, 24370)\n"
     ]
    },
    {
     "data": {
      "text/plain": [
       "(87, 24368)"
      ]
     },
     "metadata": {},
     "output_type": "display_data"
    },
    {
     "data": {
      "text/plain": [
       "(87, 39)"
      ]
     },
     "metadata": {},
     "output_type": "display_data"
    },
    {
     "name": "stdout",
     "output_type": "stream",
     "text": [
      "Her2 :  (29, 24370)\n"
     ]
    },
    {
     "data": {
      "text/plain": [
       "(29, 24368)"
      ]
     },
     "metadata": {},
     "output_type": "display_data"
    },
    {
     "data": {
      "text/plain": [
       "(29, 23)"
      ]
     },
     "metadata": {},
     "output_type": "display_data"
    },
    {
     "name": "stdout",
     "output_type": "stream",
     "text": [
      "Normal :  (27, 24370)\n"
     ]
    },
    {
     "data": {
      "text/plain": [
       "(27, 24368)"
      ]
     },
     "metadata": {},
     "output_type": "display_data"
    },
    {
     "data": {
      "text/plain": [
       "(27, 17)"
      ]
     },
     "metadata": {},
     "output_type": "display_data"
    },
    {
     "name": "stdout",
     "output_type": "stream",
     "text": [
      "Basal :  (8, 24370)\n"
     ]
    },
    {
     "data": {
      "text/plain": [
       "(8, 24368)"
      ]
     },
     "metadata": {},
     "output_type": "display_data"
    },
    {
     "data": {
      "text/plain": [
       "(8, 24)"
      ]
     },
     "metadata": {},
     "output_type": "display_data"
    },
    {
     "name": "stderr",
     "output_type": "stream",
     "text": [
      " 21%|█████████████████▌                                                                 | 15/71 [00:32<02:03,  2.21s/it]"
     ]
    },
    {
     "name": "stdout",
     "output_type": "stream",
     "text": [
      "++++++++++++++++++++++++++++++++++++++++++++++++++++++++++++++++++++++++++++++++++++++++++++++++++++\n",
      "40\n",
      "claudin-low :  (22, 24370)\n"
     ]
    },
    {
     "data": {
      "text/plain": [
       "(22, 24368)"
      ]
     },
     "metadata": {},
     "output_type": "display_data"
    },
    {
     "data": {
      "text/plain": [
       "(22, 19)"
      ]
     },
     "metadata": {},
     "output_type": "display_data"
    },
    {
     "name": "stdout",
     "output_type": "stream",
     "text": [
      "LumA :  (119, 24370)\n"
     ]
    },
    {
     "data": {
      "text/plain": [
       "(119, 24368)"
      ]
     },
     "metadata": {},
     "output_type": "display_data"
    },
    {
     "data": {
      "text/plain": [
       "(119, 45)"
      ]
     },
     "metadata": {},
     "output_type": "display_data"
    },
    {
     "name": "stdout",
     "output_type": "stream",
     "text": [
      "LumB :  (87, 24370)\n"
     ]
    },
    {
     "data": {
      "text/plain": [
       "(87, 24368)"
      ]
     },
     "metadata": {},
     "output_type": "display_data"
    },
    {
     "data": {
      "text/plain": [
       "(87, 42)"
      ]
     },
     "metadata": {},
     "output_type": "display_data"
    },
    {
     "name": "stdout",
     "output_type": "stream",
     "text": [
      "Her2 :  (29, 24370)\n"
     ]
    },
    {
     "data": {
      "text/plain": [
       "(29, 24368)"
      ]
     },
     "metadata": {},
     "output_type": "display_data"
    },
    {
     "data": {
      "text/plain": [
       "(29, 24)"
      ]
     },
     "metadata": {},
     "output_type": "display_data"
    },
    {
     "name": "stdout",
     "output_type": "stream",
     "text": [
      "Normal :  (27, 24370)\n"
     ]
    },
    {
     "data": {
      "text/plain": [
       "(27, 24368)"
      ]
     },
     "metadata": {},
     "output_type": "display_data"
    },
    {
     "data": {
      "text/plain": [
       "(27, 18)"
      ]
     },
     "metadata": {},
     "output_type": "display_data"
    },
    {
     "name": "stdout",
     "output_type": "stream",
     "text": [
      "Basal :  (8, 24370)\n"
     ]
    },
    {
     "data": {
      "text/plain": [
       "(8, 24368)"
      ]
     },
     "metadata": {},
     "output_type": "display_data"
    },
    {
     "data": {
      "text/plain": [
       "(8, 26)"
      ]
     },
     "metadata": {},
     "output_type": "display_data"
    },
    {
     "name": "stderr",
     "output_type": "stream",
     "text": [
      " 23%|██████████████████▋                                                                | 16/71 [00:35<02:02,  2.23s/it]"
     ]
    },
    {
     "name": "stdout",
     "output_type": "stream",
     "text": [
      "++++++++++++++++++++++++++++++++++++++++++++++++++++++++++++++++++++++++++++++++++++++++++++++++++++\n",
      "41\n",
      "claudin-low :  (22, 24370)\n"
     ]
    },
    {
     "data": {
      "text/plain": [
       "(22, 24368)"
      ]
     },
     "metadata": {},
     "output_type": "display_data"
    },
    {
     "data": {
      "text/plain": [
       "(22, 20)"
      ]
     },
     "metadata": {},
     "output_type": "display_data"
    },
    {
     "name": "stdout",
     "output_type": "stream",
     "text": [
      "LumA :  (119, 24370)\n"
     ]
    },
    {
     "data": {
      "text/plain": [
       "(119, 24368)"
      ]
     },
     "metadata": {},
     "output_type": "display_data"
    },
    {
     "data": {
      "text/plain": [
       "(119, 48)"
      ]
     },
     "metadata": {},
     "output_type": "display_data"
    },
    {
     "name": "stdout",
     "output_type": "stream",
     "text": [
      "LumB :  (87, 24370)\n"
     ]
    },
    {
     "data": {
      "text/plain": [
       "(87, 24368)"
      ]
     },
     "metadata": {},
     "output_type": "display_data"
    },
    {
     "data": {
      "text/plain": [
       "(87, 45)"
      ]
     },
     "metadata": {},
     "output_type": "display_data"
    },
    {
     "name": "stdout",
     "output_type": "stream",
     "text": [
      "Her2 :  (29, 24370)\n"
     ]
    },
    {
     "data": {
      "text/plain": [
       "(29, 24368)"
      ]
     },
     "metadata": {},
     "output_type": "display_data"
    },
    {
     "data": {
      "text/plain": [
       "(29, 25)"
      ]
     },
     "metadata": {},
     "output_type": "display_data"
    },
    {
     "name": "stdout",
     "output_type": "stream",
     "text": [
      "Normal :  (27, 24370)\n"
     ]
    },
    {
     "data": {
      "text/plain": [
       "(27, 24368)"
      ]
     },
     "metadata": {},
     "output_type": "display_data"
    },
    {
     "data": {
      "text/plain": [
       "(27, 19)"
      ]
     },
     "metadata": {},
     "output_type": "display_data"
    },
    {
     "name": "stdout",
     "output_type": "stream",
     "text": [
      "Basal :  (8, 24370)\n"
     ]
    },
    {
     "data": {
      "text/plain": [
       "(8, 24368)"
      ]
     },
     "metadata": {},
     "output_type": "display_data"
    },
    {
     "data": {
      "text/plain": [
       "(8, 27)"
      ]
     },
     "metadata": {},
     "output_type": "display_data"
    },
    {
     "name": "stderr",
     "output_type": "stream",
     "text": [
      " 24%|███████████████████▊                                                               | 17/71 [00:37<02:01,  2.25s/it]"
     ]
    },
    {
     "name": "stdout",
     "output_type": "stream",
     "text": [
      "++++++++++++++++++++++++++++++++++++++++++++++++++++++++++++++++++++++++++++++++++++++++++++++++++++\n",
      "42\n",
      "claudin-low :  (22, 24370)\n"
     ]
    },
    {
     "data": {
      "text/plain": [
       "(22, 24368)"
      ]
     },
     "metadata": {},
     "output_type": "display_data"
    },
    {
     "data": {
      "text/plain": [
       "(22, 21)"
      ]
     },
     "metadata": {},
     "output_type": "display_data"
    },
    {
     "name": "stdout",
     "output_type": "stream",
     "text": [
      "LumA :  (119, 24370)\n"
     ]
    },
    {
     "data": {
      "text/plain": [
       "(119, 24368)"
      ]
     },
     "metadata": {},
     "output_type": "display_data"
    },
    {
     "data": {
      "text/plain": [
       "(119, 52)"
      ]
     },
     "metadata": {},
     "output_type": "display_data"
    },
    {
     "name": "stdout",
     "output_type": "stream",
     "text": [
      "LumB :  (87, 24370)\n"
     ]
    },
    {
     "data": {
      "text/plain": [
       "(87, 24368)"
      ]
     },
     "metadata": {},
     "output_type": "display_data"
    },
    {
     "data": {
      "text/plain": [
       "(87, 48)"
      ]
     },
     "metadata": {},
     "output_type": "display_data"
    },
    {
     "name": "stdout",
     "output_type": "stream",
     "text": [
      "Her2 :  (29, 24370)\n"
     ]
    },
    {
     "data": {
      "text/plain": [
       "(29, 24368)"
      ]
     },
     "metadata": {},
     "output_type": "display_data"
    },
    {
     "data": {
      "text/plain": [
       "(29, 27)"
      ]
     },
     "metadata": {},
     "output_type": "display_data"
    },
    {
     "name": "stdout",
     "output_type": "stream",
     "text": [
      "Normal :  (27, 24370)\n"
     ]
    },
    {
     "data": {
      "text/plain": [
       "(27, 24368)"
      ]
     },
     "metadata": {},
     "output_type": "display_data"
    },
    {
     "data": {
      "text/plain": [
       "(27, 20)"
      ]
     },
     "metadata": {},
     "output_type": "display_data"
    },
    {
     "name": "stdout",
     "output_type": "stream",
     "text": [
      "Basal :  (8, 24370)\n"
     ]
    },
    {
     "data": {
      "text/plain": [
       "(8, 24368)"
      ]
     },
     "metadata": {},
     "output_type": "display_data"
    },
    {
     "data": {
      "text/plain": [
       "(8, 29)"
      ]
     },
     "metadata": {},
     "output_type": "display_data"
    },
    {
     "name": "stderr",
     "output_type": "stream",
     "text": [
      " 25%|█████████████████████                                                              | 18/71 [00:39<02:00,  2.27s/it]"
     ]
    },
    {
     "name": "stdout",
     "output_type": "stream",
     "text": [
      "++++++++++++++++++++++++++++++++++++++++++++++++++++++++++++++++++++++++++++++++++++++++++++++++++++\n",
      "43\n",
      "claudin-low :  (22, 24370)\n"
     ]
    },
    {
     "data": {
      "text/plain": [
       "(22, 24368)"
      ]
     },
     "metadata": {},
     "output_type": "display_data"
    },
    {
     "data": {
      "text/plain": [
       "(22, 23)"
      ]
     },
     "metadata": {},
     "output_type": "display_data"
    },
    {
     "name": "stdout",
     "output_type": "stream",
     "text": [
      "LumA :  (119, 24370)\n"
     ]
    },
    {
     "data": {
      "text/plain": [
       "(119, 24368)"
      ]
     },
     "metadata": {},
     "output_type": "display_data"
    },
    {
     "data": {
      "text/plain": [
       "(119, 56)"
      ]
     },
     "metadata": {},
     "output_type": "display_data"
    },
    {
     "name": "stdout",
     "output_type": "stream",
     "text": [
      "LumB :  (87, 24370)\n"
     ]
    },
    {
     "data": {
      "text/plain": [
       "(87, 24368)"
      ]
     },
     "metadata": {},
     "output_type": "display_data"
    },
    {
     "data": {
      "text/plain": [
       "(87, 51)"
      ]
     },
     "metadata": {},
     "output_type": "display_data"
    },
    {
     "name": "stdout",
     "output_type": "stream",
     "text": [
      "Her2 :  (29, 24370)\n"
     ]
    },
    {
     "data": {
      "text/plain": [
       "(29, 24368)"
      ]
     },
     "metadata": {},
     "output_type": "display_data"
    },
    {
     "data": {
      "text/plain": [
       "(29, 29)"
      ]
     },
     "metadata": {},
     "output_type": "display_data"
    },
    {
     "name": "stdout",
     "output_type": "stream",
     "text": [
      "Normal :  (27, 24370)\n"
     ]
    },
    {
     "data": {
      "text/plain": [
       "(27, 24368)"
      ]
     },
     "metadata": {},
     "output_type": "display_data"
    },
    {
     "data": {
      "text/plain": [
       "(27, 21)"
      ]
     },
     "metadata": {},
     "output_type": "display_data"
    },
    {
     "name": "stdout",
     "output_type": "stream",
     "text": [
      "Basal :  (8, 24370)\n"
     ]
    },
    {
     "data": {
      "text/plain": [
       "(8, 24368)"
      ]
     },
     "metadata": {},
     "output_type": "display_data"
    },
    {
     "data": {
      "text/plain": [
       "(8, 30)"
      ]
     },
     "metadata": {},
     "output_type": "display_data"
    },
    {
     "name": "stderr",
     "output_type": "stream",
     "text": [
      " 27%|██████████████████████▏                                                            | 19/71 [00:42<01:59,  2.29s/it]"
     ]
    },
    {
     "name": "stdout",
     "output_type": "stream",
     "text": [
      "++++++++++++++++++++++++++++++++++++++++++++++++++++++++++++++++++++++++++++++++++++++++++++++++++++\n",
      "44\n",
      "claudin-low :  (22, 24370)\n"
     ]
    },
    {
     "data": {
      "text/plain": [
       "(22, 24368)"
      ]
     },
     "metadata": {},
     "output_type": "display_data"
    },
    {
     "data": {
      "text/plain": [
       "(22, 24)"
      ]
     },
     "metadata": {},
     "output_type": "display_data"
    },
    {
     "name": "stdout",
     "output_type": "stream",
     "text": [
      "LumA :  (119, 24370)\n"
     ]
    },
    {
     "data": {
      "text/plain": [
       "(119, 24368)"
      ]
     },
     "metadata": {},
     "output_type": "display_data"
    },
    {
     "data": {
      "text/plain": [
       "(119, 61)"
      ]
     },
     "metadata": {},
     "output_type": "display_data"
    },
    {
     "name": "stdout",
     "output_type": "stream",
     "text": [
      "LumB :  (87, 24370)\n"
     ]
    },
    {
     "data": {
      "text/plain": [
       "(87, 24368)"
      ]
     },
     "metadata": {},
     "output_type": "display_data"
    },
    {
     "data": {
      "text/plain": [
       "(87, 54)"
      ]
     },
     "metadata": {},
     "output_type": "display_data"
    },
    {
     "name": "stdout",
     "output_type": "stream",
     "text": [
      "Her2 :  (29, 24370)\n"
     ]
    },
    {
     "data": {
      "text/plain": [
       "(29, 24368)"
      ]
     },
     "metadata": {},
     "output_type": "display_data"
    },
    {
     "data": {
      "text/plain": [
       "(29, 30)"
      ]
     },
     "metadata": {},
     "output_type": "display_data"
    },
    {
     "name": "stdout",
     "output_type": "stream",
     "text": [
      "Normal :  (27, 24370)\n"
     ]
    },
    {
     "data": {
      "text/plain": [
       "(27, 24368)"
      ]
     },
     "metadata": {},
     "output_type": "display_data"
    },
    {
     "data": {
      "text/plain": [
       "(27, 22)"
      ]
     },
     "metadata": {},
     "output_type": "display_data"
    },
    {
     "name": "stdout",
     "output_type": "stream",
     "text": [
      "Basal :  (8, 24370)\n"
     ]
    },
    {
     "data": {
      "text/plain": [
       "(8, 24368)"
      ]
     },
     "metadata": {},
     "output_type": "display_data"
    },
    {
     "data": {
      "text/plain": [
       "(8, 32)"
      ]
     },
     "metadata": {},
     "output_type": "display_data"
    },
    {
     "name": "stderr",
     "output_type": "stream",
     "text": [
      " 28%|███████████████████████▍                                                           | 20/71 [00:44<01:57,  2.30s/it]"
     ]
    },
    {
     "name": "stdout",
     "output_type": "stream",
     "text": [
      "++++++++++++++++++++++++++++++++++++++++++++++++++++++++++++++++++++++++++++++++++++++++++++++++++++\n",
      "45\n",
      "claudin-low :  (22, 24370)\n"
     ]
    },
    {
     "data": {
      "text/plain": [
       "(22, 24368)"
      ]
     },
     "metadata": {},
     "output_type": "display_data"
    },
    {
     "data": {
      "text/plain": [
       "(22, 25)"
      ]
     },
     "metadata": {},
     "output_type": "display_data"
    },
    {
     "name": "stdout",
     "output_type": "stream",
     "text": [
      "LumA :  (119, 24370)\n"
     ]
    },
    {
     "data": {
      "text/plain": [
       "(119, 24368)"
      ]
     },
     "metadata": {},
     "output_type": "display_data"
    },
    {
     "data": {
      "text/plain": [
       "(119, 65)"
      ]
     },
     "metadata": {},
     "output_type": "display_data"
    },
    {
     "name": "stdout",
     "output_type": "stream",
     "text": [
      "LumB :  (87, 24370)\n"
     ]
    },
    {
     "data": {
      "text/plain": [
       "(87, 24368)"
      ]
     },
     "metadata": {},
     "output_type": "display_data"
    },
    {
     "data": {
      "text/plain": [
       "(87, 57)"
      ]
     },
     "metadata": {},
     "output_type": "display_data"
    },
    {
     "name": "stdout",
     "output_type": "stream",
     "text": [
      "Her2 :  (29, 24370)\n"
     ]
    },
    {
     "data": {
      "text/plain": [
       "(29, 24368)"
      ]
     },
     "metadata": {},
     "output_type": "display_data"
    },
    {
     "data": {
      "text/plain": [
       "(29, 32)"
      ]
     },
     "metadata": {},
     "output_type": "display_data"
    },
    {
     "name": "stdout",
     "output_type": "stream",
     "text": [
      "Normal :  (27, 24370)\n"
     ]
    },
    {
     "data": {
      "text/plain": [
       "(27, 24368)"
      ]
     },
     "metadata": {},
     "output_type": "display_data"
    },
    {
     "data": {
      "text/plain": [
       "(27, 23)"
      ]
     },
     "metadata": {},
     "output_type": "display_data"
    },
    {
     "name": "stdout",
     "output_type": "stream",
     "text": [
      "Basal :  (8, 24370)\n"
     ]
    },
    {
     "data": {
      "text/plain": [
       "(8, 24368)"
      ]
     },
     "metadata": {},
     "output_type": "display_data"
    },
    {
     "data": {
      "text/plain": [
       "(8, 33)"
      ]
     },
     "metadata": {},
     "output_type": "display_data"
    },
    {
     "name": "stderr",
     "output_type": "stream",
     "text": [
      " 30%|████████████████████████▌                                                          | 21/71 [00:46<01:55,  2.31s/it]"
     ]
    },
    {
     "name": "stdout",
     "output_type": "stream",
     "text": [
      "++++++++++++++++++++++++++++++++++++++++++++++++++++++++++++++++++++++++++++++++++++++++++++++++++++\n",
      "46\n",
      "claudin-low :  (22, 24370)\n"
     ]
    },
    {
     "data": {
      "text/plain": [
       "(22, 24368)"
      ]
     },
     "metadata": {},
     "output_type": "display_data"
    },
    {
     "data": {
      "text/plain": [
       "(22, 27)"
      ]
     },
     "metadata": {},
     "output_type": "display_data"
    },
    {
     "name": "stdout",
     "output_type": "stream",
     "text": [
      "LumA :  (119, 24370)\n"
     ]
    },
    {
     "data": {
      "text/plain": [
       "(119, 24368)"
      ]
     },
     "metadata": {},
     "output_type": "display_data"
    },
    {
     "data": {
      "text/plain": [
       "(119, 70)"
      ]
     },
     "metadata": {},
     "output_type": "display_data"
    },
    {
     "name": "stdout",
     "output_type": "stream",
     "text": [
      "LumB :  (87, 24370)\n"
     ]
    },
    {
     "data": {
      "text/plain": [
       "(87, 24368)"
      ]
     },
     "metadata": {},
     "output_type": "display_data"
    },
    {
     "data": {
      "text/plain": [
       "(87, 61)"
      ]
     },
     "metadata": {},
     "output_type": "display_data"
    },
    {
     "name": "stdout",
     "output_type": "stream",
     "text": [
      "Her2 :  (29, 24370)\n"
     ]
    },
    {
     "data": {
      "text/plain": [
       "(29, 24368)"
      ]
     },
     "metadata": {},
     "output_type": "display_data"
    },
    {
     "data": {
      "text/plain": [
       "(29, 34)"
      ]
     },
     "metadata": {},
     "output_type": "display_data"
    },
    {
     "name": "stdout",
     "output_type": "stream",
     "text": [
      "Normal :  (27, 24370)\n"
     ]
    },
    {
     "data": {
      "text/plain": [
       "(27, 24368)"
      ]
     },
     "metadata": {},
     "output_type": "display_data"
    },
    {
     "data": {
      "text/plain": [
       "(27, 24)"
      ]
     },
     "metadata": {},
     "output_type": "display_data"
    },
    {
     "name": "stdout",
     "output_type": "stream",
     "text": [
      "Basal :  (8, 24370)\n"
     ]
    },
    {
     "data": {
      "text/plain": [
       "(8, 24368)"
      ]
     },
     "metadata": {},
     "output_type": "display_data"
    },
    {
     "data": {
      "text/plain": [
       "(8, 35)"
      ]
     },
     "metadata": {},
     "output_type": "display_data"
    },
    {
     "name": "stderr",
     "output_type": "stream",
     "text": [
      " 31%|█████████████████████████▋                                                         | 22/71 [00:49<01:54,  2.33s/it]"
     ]
    },
    {
     "name": "stdout",
     "output_type": "stream",
     "text": [
      "++++++++++++++++++++++++++++++++++++++++++++++++++++++++++++++++++++++++++++++++++++++++++++++++++++\n",
      "47\n",
      "claudin-low :  (22, 24370)\n"
     ]
    },
    {
     "data": {
      "text/plain": [
       "(22, 24368)"
      ]
     },
     "metadata": {},
     "output_type": "display_data"
    },
    {
     "data": {
      "text/plain": [
       "(22, 28)"
      ]
     },
     "metadata": {},
     "output_type": "display_data"
    },
    {
     "name": "stdout",
     "output_type": "stream",
     "text": [
      "LumA :  (119, 24370)\n"
     ]
    },
    {
     "data": {
      "text/plain": [
       "(119, 24368)"
      ]
     },
     "metadata": {},
     "output_type": "display_data"
    },
    {
     "data": {
      "text/plain": [
       "(119, 75)"
      ]
     },
     "metadata": {},
     "output_type": "display_data"
    },
    {
     "name": "stdout",
     "output_type": "stream",
     "text": [
      "LumB :  (87, 24370)\n"
     ]
    },
    {
     "data": {
      "text/plain": [
       "(87, 24368)"
      ]
     },
     "metadata": {},
     "output_type": "display_data"
    },
    {
     "data": {
      "text/plain": [
       "(87, 64)"
      ]
     },
     "metadata": {},
     "output_type": "display_data"
    },
    {
     "name": "stdout",
     "output_type": "stream",
     "text": [
      "Her2 :  (29, 24370)\n"
     ]
    },
    {
     "data": {
      "text/plain": [
       "(29, 24368)"
      ]
     },
     "metadata": {},
     "output_type": "display_data"
    },
    {
     "data": {
      "text/plain": [
       "(29, 36)"
      ]
     },
     "metadata": {},
     "output_type": "display_data"
    },
    {
     "name": "stdout",
     "output_type": "stream",
     "text": [
      "Normal :  (27, 24370)\n"
     ]
    },
    {
     "data": {
      "text/plain": [
       "(27, 24368)"
      ]
     },
     "metadata": {},
     "output_type": "display_data"
    },
    {
     "data": {
      "text/plain": [
       "(27, 25)"
      ]
     },
     "metadata": {},
     "output_type": "display_data"
    },
    {
     "name": "stdout",
     "output_type": "stream",
     "text": [
      "Basal :  (8, 24370)\n"
     ]
    },
    {
     "data": {
      "text/plain": [
       "(8, 24368)"
      ]
     },
     "metadata": {},
     "output_type": "display_data"
    },
    {
     "data": {
      "text/plain": [
       "(8, 37)"
      ]
     },
     "metadata": {},
     "output_type": "display_data"
    },
    {
     "name": "stderr",
     "output_type": "stream",
     "text": [
      " 32%|██████████████████████████▉                                                        | 23/71 [00:51<01:52,  2.34s/it]"
     ]
    },
    {
     "name": "stdout",
     "output_type": "stream",
     "text": [
      "++++++++++++++++++++++++++++++++++++++++++++++++++++++++++++++++++++++++++++++++++++++++++++++++++++\n",
      "48\n",
      "claudin-low :  (22, 24370)\n"
     ]
    },
    {
     "data": {
      "text/plain": [
       "(22, 24368)"
      ]
     },
     "metadata": {},
     "output_type": "display_data"
    },
    {
     "data": {
      "text/plain": [
       "(22, 30)"
      ]
     },
     "metadata": {},
     "output_type": "display_data"
    },
    {
     "name": "stdout",
     "output_type": "stream",
     "text": [
      "LumA :  (119, 24370)\n"
     ]
    },
    {
     "data": {
      "text/plain": [
       "(119, 24368)"
      ]
     },
     "metadata": {},
     "output_type": "display_data"
    },
    {
     "data": {
      "text/plain": [
       "(119, 80)"
      ]
     },
     "metadata": {},
     "output_type": "display_data"
    },
    {
     "name": "stdout",
     "output_type": "stream",
     "text": [
      "LumB :  (87, 24370)\n"
     ]
    },
    {
     "data": {
      "text/plain": [
       "(87, 24368)"
      ]
     },
     "metadata": {},
     "output_type": "display_data"
    },
    {
     "data": {
      "text/plain": [
       "(87, 68)"
      ]
     },
     "metadata": {},
     "output_type": "display_data"
    },
    {
     "name": "stdout",
     "output_type": "stream",
     "text": [
      "Her2 :  (29, 24370)\n"
     ]
    },
    {
     "data": {
      "text/plain": [
       "(29, 24368)"
      ]
     },
     "metadata": {},
     "output_type": "display_data"
    },
    {
     "data": {
      "text/plain": [
       "(29, 37)"
      ]
     },
     "metadata": {},
     "output_type": "display_data"
    },
    {
     "name": "stdout",
     "output_type": "stream",
     "text": [
      "Normal :  (27, 24370)\n"
     ]
    },
    {
     "data": {
      "text/plain": [
       "(27, 24368)"
      ]
     },
     "metadata": {},
     "output_type": "display_data"
    },
    {
     "data": {
      "text/plain": [
       "(27, 26)"
      ]
     },
     "metadata": {},
     "output_type": "display_data"
    },
    {
     "name": "stdout",
     "output_type": "stream",
     "text": [
      "Basal :  (8, 24370)\n"
     ]
    },
    {
     "data": {
      "text/plain": [
       "(8, 24368)"
      ]
     },
     "metadata": {},
     "output_type": "display_data"
    },
    {
     "data": {
      "text/plain": [
       "(8, 38)"
      ]
     },
     "metadata": {},
     "output_type": "display_data"
    },
    {
     "name": "stderr",
     "output_type": "stream",
     "text": [
      " 34%|████████████████████████████                                                       | 24/71 [00:53<01:49,  2.33s/it]"
     ]
    },
    {
     "name": "stdout",
     "output_type": "stream",
     "text": [
      "++++++++++++++++++++++++++++++++++++++++++++++++++++++++++++++++++++++++++++++++++++++++++++++++++++\n",
      "49\n",
      "claudin-low :  (22, 24370)\n"
     ]
    },
    {
     "data": {
      "text/plain": [
       "(22, 24368)"
      ]
     },
     "metadata": {},
     "output_type": "display_data"
    },
    {
     "data": {
      "text/plain": [
       "(22, 32)"
      ]
     },
     "metadata": {},
     "output_type": "display_data"
    },
    {
     "name": "stdout",
     "output_type": "stream",
     "text": [
      "LumA :  (119, 24370)\n"
     ]
    },
    {
     "data": {
      "text/plain": [
       "(119, 24368)"
      ]
     },
     "metadata": {},
     "output_type": "display_data"
    },
    {
     "data": {
      "text/plain": [
       "(119, 86)"
      ]
     },
     "metadata": {},
     "output_type": "display_data"
    },
    {
     "name": "stdout",
     "output_type": "stream",
     "text": [
      "LumB :  (87, 24370)\n"
     ]
    },
    {
     "data": {
      "text/plain": [
       "(87, 24368)"
      ]
     },
     "metadata": {},
     "output_type": "display_data"
    },
    {
     "data": {
      "text/plain": [
       "(87, 72)"
      ]
     },
     "metadata": {},
     "output_type": "display_data"
    },
    {
     "name": "stdout",
     "output_type": "stream",
     "text": [
      "Her2 :  (29, 24370)\n"
     ]
    },
    {
     "data": {
      "text/plain": [
       "(29, 24368)"
      ]
     },
     "metadata": {},
     "output_type": "display_data"
    },
    {
     "data": {
      "text/plain": [
       "(29, 39)"
      ]
     },
     "metadata": {},
     "output_type": "display_data"
    },
    {
     "name": "stdout",
     "output_type": "stream",
     "text": [
      "Normal :  (27, 24370)\n"
     ]
    },
    {
     "data": {
      "text/plain": [
       "(27, 24368)"
      ]
     },
     "metadata": {},
     "output_type": "display_data"
    },
    {
     "data": {
      "text/plain": [
       "(27, 28)"
      ]
     },
     "metadata": {},
     "output_type": "display_data"
    },
    {
     "name": "stdout",
     "output_type": "stream",
     "text": [
      "Basal :  (8, 24370)\n"
     ]
    },
    {
     "data": {
      "text/plain": [
       "(8, 24368)"
      ]
     },
     "metadata": {},
     "output_type": "display_data"
    },
    {
     "data": {
      "text/plain": [
       "(8, 40)"
      ]
     },
     "metadata": {},
     "output_type": "display_data"
    },
    {
     "name": "stderr",
     "output_type": "stream",
     "text": [
      " 35%|█████████████████████████████▏                                                     | 25/71 [00:56<01:47,  2.33s/it]"
     ]
    },
    {
     "name": "stdout",
     "output_type": "stream",
     "text": [
      "++++++++++++++++++++++++++++++++++++++++++++++++++++++++++++++++++++++++++++++++++++++++++++++++++++\n",
      "50\n",
      "claudin-low :  (22, 24370)\n"
     ]
    },
    {
     "data": {
      "text/plain": [
       "(22, 24368)"
      ]
     },
     "metadata": {},
     "output_type": "display_data"
    },
    {
     "data": {
      "text/plain": [
       "(22, 33)"
      ]
     },
     "metadata": {},
     "output_type": "display_data"
    },
    {
     "name": "stdout",
     "output_type": "stream",
     "text": [
      "LumA :  (119, 24370)\n"
     ]
    },
    {
     "data": {
      "text/plain": [
       "(119, 24368)"
      ]
     },
     "metadata": {},
     "output_type": "display_data"
    },
    {
     "data": {
      "text/plain": [
       "(119, 91)"
      ]
     },
     "metadata": {},
     "output_type": "display_data"
    },
    {
     "name": "stdout",
     "output_type": "stream",
     "text": [
      "LumB :  (87, 24370)\n"
     ]
    },
    {
     "data": {
      "text/plain": [
       "(87, 24368)"
      ]
     },
     "metadata": {},
     "output_type": "display_data"
    },
    {
     "data": {
      "text/plain": [
       "(87, 76)"
      ]
     },
     "metadata": {},
     "output_type": "display_data"
    },
    {
     "name": "stdout",
     "output_type": "stream",
     "text": [
      "Her2 :  (29, 24370)\n"
     ]
    },
    {
     "data": {
      "text/plain": [
       "(29, 24368)"
      ]
     },
     "metadata": {},
     "output_type": "display_data"
    },
    {
     "data": {
      "text/plain": [
       "(29, 41)"
      ]
     },
     "metadata": {},
     "output_type": "display_data"
    },
    {
     "name": "stdout",
     "output_type": "stream",
     "text": [
      "Normal :  (27, 24370)\n"
     ]
    },
    {
     "data": {
      "text/plain": [
       "(27, 24368)"
      ]
     },
     "metadata": {},
     "output_type": "display_data"
    },
    {
     "data": {
      "text/plain": [
       "(27, 29)"
      ]
     },
     "metadata": {},
     "output_type": "display_data"
    },
    {
     "name": "stdout",
     "output_type": "stream",
     "text": [
      "Basal :  (8, 24370)\n"
     ]
    },
    {
     "data": {
      "text/plain": [
       "(8, 24368)"
      ]
     },
     "metadata": {},
     "output_type": "display_data"
    },
    {
     "data": {
      "text/plain": [
       "(8, 42)"
      ]
     },
     "metadata": {},
     "output_type": "display_data"
    },
    {
     "name": "stderr",
     "output_type": "stream",
     "text": [
      " 37%|██████████████████████████████▍                                                    | 26/71 [00:58<01:45,  2.33s/it]"
     ]
    },
    {
     "name": "stdout",
     "output_type": "stream",
     "text": [
      "++++++++++++++++++++++++++++++++++++++++++++++++++++++++++++++++++++++++++++++++++++++++++++++++++++\n",
      "51\n",
      "claudin-low :  (22, 24370)\n"
     ]
    },
    {
     "data": {
      "text/plain": [
       "(22, 24368)"
      ]
     },
     "metadata": {},
     "output_type": "display_data"
    },
    {
     "data": {
      "text/plain": [
       "(22, 35)"
      ]
     },
     "metadata": {},
     "output_type": "display_data"
    },
    {
     "name": "stdout",
     "output_type": "stream",
     "text": [
      "LumA :  (119, 24370)\n"
     ]
    },
    {
     "data": {
      "text/plain": [
       "(119, 24368)"
      ]
     },
     "metadata": {},
     "output_type": "display_data"
    },
    {
     "data": {
      "text/plain": [
       "(119, 97)"
      ]
     },
     "metadata": {},
     "output_type": "display_data"
    },
    {
     "name": "stdout",
     "output_type": "stream",
     "text": [
      "LumB :  (87, 24370)\n"
     ]
    },
    {
     "data": {
      "text/plain": [
       "(87, 24368)"
      ]
     },
     "metadata": {},
     "output_type": "display_data"
    },
    {
     "data": {
      "text/plain": [
       "(87, 80)"
      ]
     },
     "metadata": {},
     "output_type": "display_data"
    },
    {
     "name": "stdout",
     "output_type": "stream",
     "text": [
      "Her2 :  (29, 24370)\n"
     ]
    },
    {
     "data": {
      "text/plain": [
       "(29, 24368)"
      ]
     },
     "metadata": {},
     "output_type": "display_data"
    },
    {
     "data": {
      "text/plain": [
       "(29, 43)"
      ]
     },
     "metadata": {},
     "output_type": "display_data"
    },
    {
     "name": "stdout",
     "output_type": "stream",
     "text": [
      "Normal :  (27, 24370)\n"
     ]
    },
    {
     "data": {
      "text/plain": [
       "(27, 24368)"
      ]
     },
     "metadata": {},
     "output_type": "display_data"
    },
    {
     "data": {
      "text/plain": [
       "(27, 30)"
      ]
     },
     "metadata": {},
     "output_type": "display_data"
    },
    {
     "name": "stdout",
     "output_type": "stream",
     "text": [
      "Basal :  (8, 24370)\n"
     ]
    },
    {
     "data": {
      "text/plain": [
       "(8, 24368)"
      ]
     },
     "metadata": {},
     "output_type": "display_data"
    },
    {
     "data": {
      "text/plain": [
       "(8, 43)"
      ]
     },
     "metadata": {},
     "output_type": "display_data"
    },
    {
     "name": "stderr",
     "output_type": "stream",
     "text": [
      " 38%|███████████████████████████████▌                                                   | 27/71 [01:00<01:44,  2.39s/it]"
     ]
    },
    {
     "name": "stdout",
     "output_type": "stream",
     "text": [
      "++++++++++++++++++++++++++++++++++++++++++++++++++++++++++++++++++++++++++++++++++++++++++++++++++++\n",
      "52\n",
      "claudin-low :  (22, 24370)\n"
     ]
    },
    {
     "data": {
      "text/plain": [
       "(22, 24368)"
      ]
     },
     "metadata": {},
     "output_type": "display_data"
    },
    {
     "data": {
      "text/plain": [
       "(22, 37)"
      ]
     },
     "metadata": {},
     "output_type": "display_data"
    },
    {
     "name": "stdout",
     "output_type": "stream",
     "text": [
      "LumA :  (119, 24370)\n"
     ]
    },
    {
     "data": {
      "text/plain": [
       "(119, 24368)"
      ]
     },
     "metadata": {},
     "output_type": "display_data"
    },
    {
     "data": {
      "text/plain": [
       "(119, 103)"
      ]
     },
     "metadata": {},
     "output_type": "display_data"
    },
    {
     "name": "stdout",
     "output_type": "stream",
     "text": [
      "LumB :  (87, 24370)\n"
     ]
    },
    {
     "data": {
      "text/plain": [
       "(87, 24368)"
      ]
     },
     "metadata": {},
     "output_type": "display_data"
    },
    {
     "data": {
      "text/plain": [
       "(87, 84)"
      ]
     },
     "metadata": {},
     "output_type": "display_data"
    },
    {
     "name": "stdout",
     "output_type": "stream",
     "text": [
      "Her2 :  (29, 24370)\n"
     ]
    },
    {
     "data": {
      "text/plain": [
       "(29, 24368)"
      ]
     },
     "metadata": {},
     "output_type": "display_data"
    },
    {
     "data": {
      "text/plain": [
       "(29, 45)"
      ]
     },
     "metadata": {},
     "output_type": "display_data"
    },
    {
     "name": "stdout",
     "output_type": "stream",
     "text": [
      "Normal :  (27, 24370)\n"
     ]
    },
    {
     "data": {
      "text/plain": [
       "(27, 24368)"
      ]
     },
     "metadata": {},
     "output_type": "display_data"
    },
    {
     "data": {
      "text/plain": [
       "(27, 31)"
      ]
     },
     "metadata": {},
     "output_type": "display_data"
    },
    {
     "name": "stdout",
     "output_type": "stream",
     "text": [
      "Basal :  (8, 24370)\n"
     ]
    },
    {
     "data": {
      "text/plain": [
       "(8, 24368)"
      ]
     },
     "metadata": {},
     "output_type": "display_data"
    },
    {
     "data": {
      "text/plain": [
       "(8, 45)"
      ]
     },
     "metadata": {},
     "output_type": "display_data"
    },
    {
     "name": "stderr",
     "output_type": "stream",
     "text": [
      " 39%|████████████████████████████████▋                                                  | 28/71 [01:03<01:46,  2.47s/it]"
     ]
    },
    {
     "name": "stdout",
     "output_type": "stream",
     "text": [
      "++++++++++++++++++++++++++++++++++++++++++++++++++++++++++++++++++++++++++++++++++++++++++++++++++++\n",
      "53\n",
      "claudin-low :  (22, 24370)\n"
     ]
    },
    {
     "data": {
      "text/plain": [
       "(22, 24368)"
      ]
     },
     "metadata": {},
     "output_type": "display_data"
    },
    {
     "data": {
      "text/plain": [
       "(22, 39)"
      ]
     },
     "metadata": {},
     "output_type": "display_data"
    },
    {
     "name": "stdout",
     "output_type": "stream",
     "text": [
      "LumA :  (119, 24370)\n"
     ]
    },
    {
     "data": {
      "text/plain": [
       "(119, 24368)"
      ]
     },
     "metadata": {},
     "output_type": "display_data"
    },
    {
     "data": {
      "text/plain": [
       "(119, 110)"
      ]
     },
     "metadata": {},
     "output_type": "display_data"
    },
    {
     "name": "stdout",
     "output_type": "stream",
     "text": [
      "LumB :  (87, 24370)\n"
     ]
    },
    {
     "data": {
      "text/plain": [
       "(87, 24368)"
      ]
     },
     "metadata": {},
     "output_type": "display_data"
    },
    {
     "data": {
      "text/plain": [
       "(87, 88)"
      ]
     },
     "metadata": {},
     "output_type": "display_data"
    },
    {
     "name": "stdout",
     "output_type": "stream",
     "text": [
      "Her2 :  (29, 24370)\n"
     ]
    },
    {
     "data": {
      "text/plain": [
       "(29, 24368)"
      ]
     },
     "metadata": {},
     "output_type": "display_data"
    },
    {
     "data": {
      "text/plain": [
       "(29, 47)"
      ]
     },
     "metadata": {},
     "output_type": "display_data"
    },
    {
     "name": "stdout",
     "output_type": "stream",
     "text": [
      "Normal :  (27, 24370)\n"
     ]
    },
    {
     "data": {
      "text/plain": [
       "(27, 24368)"
      ]
     },
     "metadata": {},
     "output_type": "display_data"
    },
    {
     "data": {
      "text/plain": [
       "(27, 33)"
      ]
     },
     "metadata": {},
     "output_type": "display_data"
    },
    {
     "name": "stdout",
     "output_type": "stream",
     "text": [
      "Basal :  (8, 24370)\n"
     ]
    },
    {
     "data": {
      "text/plain": [
       "(8, 24368)"
      ]
     },
     "metadata": {},
     "output_type": "display_data"
    },
    {
     "data": {
      "text/plain": [
       "(8, 47)"
      ]
     },
     "metadata": {},
     "output_type": "display_data"
    },
    {
     "name": "stderr",
     "output_type": "stream",
     "text": [
      " 41%|█████████████████████████████████▉                                                 | 29/71 [01:06<01:46,  2.55s/it]"
     ]
    },
    {
     "name": "stdout",
     "output_type": "stream",
     "text": [
      "++++++++++++++++++++++++++++++++++++++++++++++++++++++++++++++++++++++++++++++++++++++++++++++++++++\n",
      "54\n",
      "claudin-low :  (22, 24370)\n"
     ]
    },
    {
     "data": {
      "text/plain": [
       "(22, 24368)"
      ]
     },
     "metadata": {},
     "output_type": "display_data"
    },
    {
     "data": {
      "text/plain": [
       "(22, 41)"
      ]
     },
     "metadata": {},
     "output_type": "display_data"
    },
    {
     "name": "stdout",
     "output_type": "stream",
     "text": [
      "LumA :  (119, 24370)\n"
     ]
    },
    {
     "data": {
      "text/plain": [
       "(119, 24368)"
      ]
     },
     "metadata": {},
     "output_type": "display_data"
    },
    {
     "data": {
      "text/plain": [
       "(119, 116)"
      ]
     },
     "metadata": {},
     "output_type": "display_data"
    },
    {
     "name": "stdout",
     "output_type": "stream",
     "text": [
      "LumB :  (87, 24370)\n"
     ]
    },
    {
     "data": {
      "text/plain": [
       "(87, 24368)"
      ]
     },
     "metadata": {},
     "output_type": "display_data"
    },
    {
     "data": {
      "text/plain": [
       "(87, 93)"
      ]
     },
     "metadata": {},
     "output_type": "display_data"
    },
    {
     "name": "stdout",
     "output_type": "stream",
     "text": [
      "Her2 :  (29, 24370)\n"
     ]
    },
    {
     "data": {
      "text/plain": [
       "(29, 24368)"
      ]
     },
     "metadata": {},
     "output_type": "display_data"
    },
    {
     "data": {
      "text/plain": [
       "(29, 49)"
      ]
     },
     "metadata": {},
     "output_type": "display_data"
    },
    {
     "name": "stdout",
     "output_type": "stream",
     "text": [
      "Normal :  (27, 24370)\n"
     ]
    },
    {
     "data": {
      "text/plain": [
       "(27, 24368)"
      ]
     },
     "metadata": {},
     "output_type": "display_data"
    },
    {
     "data": {
      "text/plain": [
       "(27, 34)"
      ]
     },
     "metadata": {},
     "output_type": "display_data"
    },
    {
     "name": "stdout",
     "output_type": "stream",
     "text": [
      "Basal :  (8, 24370)\n"
     ]
    },
    {
     "data": {
      "text/plain": [
       "(8, 24368)"
      ]
     },
     "metadata": {},
     "output_type": "display_data"
    },
    {
     "data": {
      "text/plain": [
       "(8, 49)"
      ]
     },
     "metadata": {},
     "output_type": "display_data"
    },
    {
     "name": "stderr",
     "output_type": "stream",
     "text": [
      " 42%|███████████████████████████████████                                                | 30/71 [01:09<01:48,  2.64s/it]"
     ]
    },
    {
     "name": "stdout",
     "output_type": "stream",
     "text": [
      "++++++++++++++++++++++++++++++++++++++++++++++++++++++++++++++++++++++++++++++++++++++++++++++++++++\n",
      "55\n",
      "claudin-low :  (22, 24370)\n"
     ]
    },
    {
     "data": {
      "text/plain": [
       "(22, 24368)"
      ]
     },
     "metadata": {},
     "output_type": "display_data"
    },
    {
     "data": {
      "text/plain": [
       "(22, 43)"
      ]
     },
     "metadata": {},
     "output_type": "display_data"
    },
    {
     "name": "stdout",
     "output_type": "stream",
     "text": [
      "LumA :  (119, 24370)\n"
     ]
    },
    {
     "data": {
      "text/plain": [
       "(119, 24368)"
      ]
     },
     "metadata": {},
     "output_type": "display_data"
    },
    {
     "data": {
      "text/plain": [
       "(119, 123)"
      ]
     },
     "metadata": {},
     "output_type": "display_data"
    },
    {
     "name": "stdout",
     "output_type": "stream",
     "text": [
      "LumB :  (87, 24370)\n"
     ]
    },
    {
     "data": {
      "text/plain": [
       "(87, 24368)"
      ]
     },
     "metadata": {},
     "output_type": "display_data"
    },
    {
     "data": {
      "text/plain": [
       "(87, 97)"
      ]
     },
     "metadata": {},
     "output_type": "display_data"
    },
    {
     "name": "stdout",
     "output_type": "stream",
     "text": [
      "Her2 :  (29, 24370)\n"
     ]
    },
    {
     "data": {
      "text/plain": [
       "(29, 24368)"
      ]
     },
     "metadata": {},
     "output_type": "display_data"
    },
    {
     "data": {
      "text/plain": [
       "(29, 52)"
      ]
     },
     "metadata": {},
     "output_type": "display_data"
    },
    {
     "name": "stdout",
     "output_type": "stream",
     "text": [
      "Normal :  (27, 24370)\n"
     ]
    },
    {
     "data": {
      "text/plain": [
       "(27, 24368)"
      ]
     },
     "metadata": {},
     "output_type": "display_data"
    },
    {
     "data": {
      "text/plain": [
       "(27, 35)"
      ]
     },
     "metadata": {},
     "output_type": "display_data"
    },
    {
     "name": "stdout",
     "output_type": "stream",
     "text": [
      "Basal :  (8, 24370)\n"
     ]
    },
    {
     "data": {
      "text/plain": [
       "(8, 24368)"
      ]
     },
     "metadata": {},
     "output_type": "display_data"
    },
    {
     "data": {
      "text/plain": [
       "(8, 51)"
      ]
     },
     "metadata": {},
     "output_type": "display_data"
    },
    {
     "name": "stderr",
     "output_type": "stream",
     "text": [
      " 44%|████████████████████████████████████▏                                              | 31/71 [01:11<01:44,  2.62s/it]"
     ]
    },
    {
     "name": "stdout",
     "output_type": "stream",
     "text": [
      "++++++++++++++++++++++++++++++++++++++++++++++++++++++++++++++++++++++++++++++++++++++++++++++++++++\n",
      "56\n",
      "claudin-low :  (22, 24370)\n"
     ]
    },
    {
     "data": {
      "text/plain": [
       "(22, 24368)"
      ]
     },
     "metadata": {},
     "output_type": "display_data"
    },
    {
     "data": {
      "text/plain": [
       "(22, 44)"
      ]
     },
     "metadata": {},
     "output_type": "display_data"
    },
    {
     "name": "stdout",
     "output_type": "stream",
     "text": [
      "LumA :  (119, 24370)\n"
     ]
    },
    {
     "data": {
      "text/plain": [
       "(119, 24368)"
      ]
     },
     "metadata": {},
     "output_type": "display_data"
    },
    {
     "data": {
      "text/plain": [
       "(119, 130)"
      ]
     },
     "metadata": {},
     "output_type": "display_data"
    },
    {
     "name": "stdout",
     "output_type": "stream",
     "text": [
      "LumB :  (87, 24370)\n"
     ]
    },
    {
     "data": {
      "text/plain": [
       "(87, 24368)"
      ]
     },
     "metadata": {},
     "output_type": "display_data"
    },
    {
     "data": {
      "text/plain": [
       "(87, 102)"
      ]
     },
     "metadata": {},
     "output_type": "display_data"
    },
    {
     "name": "stdout",
     "output_type": "stream",
     "text": [
      "Her2 :  (29, 24370)\n"
     ]
    },
    {
     "data": {
      "text/plain": [
       "(29, 24368)"
      ]
     },
     "metadata": {},
     "output_type": "display_data"
    },
    {
     "data": {
      "text/plain": [
       "(29, 54)"
      ]
     },
     "metadata": {},
     "output_type": "display_data"
    },
    {
     "name": "stdout",
     "output_type": "stream",
     "text": [
      "Normal :  (27, 24370)\n"
     ]
    },
    {
     "data": {
      "text/plain": [
       "(27, 24368)"
      ]
     },
     "metadata": {},
     "output_type": "display_data"
    },
    {
     "data": {
      "text/plain": [
       "(27, 37)"
      ]
     },
     "metadata": {},
     "output_type": "display_data"
    },
    {
     "name": "stdout",
     "output_type": "stream",
     "text": [
      "Basal :  (8, 24370)\n"
     ]
    },
    {
     "data": {
      "text/plain": [
       "(8, 24368)"
      ]
     },
     "metadata": {},
     "output_type": "display_data"
    },
    {
     "data": {
      "text/plain": [
       "(8, 53)"
      ]
     },
     "metadata": {},
     "output_type": "display_data"
    },
    {
     "name": "stderr",
     "output_type": "stream",
     "text": [
      " 45%|█████████████████████████████████████▍                                             | 32/71 [01:14<01:40,  2.59s/it]"
     ]
    },
    {
     "name": "stdout",
     "output_type": "stream",
     "text": [
      "++++++++++++++++++++++++++++++++++++++++++++++++++++++++++++++++++++++++++++++++++++++++++++++++++++\n",
      "57\n",
      "claudin-low :  (22, 24370)\n"
     ]
    },
    {
     "data": {
      "text/plain": [
       "(22, 24368)"
      ]
     },
     "metadata": {},
     "output_type": "display_data"
    },
    {
     "data": {
      "text/plain": [
       "(22, 46)"
      ]
     },
     "metadata": {},
     "output_type": "display_data"
    },
    {
     "name": "stdout",
     "output_type": "stream",
     "text": [
      "LumA :  (119, 24370)\n"
     ]
    },
    {
     "data": {
      "text/plain": [
       "(119, 24368)"
      ]
     },
     "metadata": {},
     "output_type": "display_data"
    },
    {
     "data": {
      "text/plain": [
       "(119, 137)"
      ]
     },
     "metadata": {},
     "output_type": "display_data"
    },
    {
     "name": "stdout",
     "output_type": "stream",
     "text": [
      "LumB :  (87, 24370)\n"
     ]
    },
    {
     "data": {
      "text/plain": [
       "(87, 24368)"
      ]
     },
     "metadata": {},
     "output_type": "display_data"
    },
    {
     "data": {
      "text/plain": [
       "(87, 107)"
      ]
     },
     "metadata": {},
     "output_type": "display_data"
    },
    {
     "name": "stdout",
     "output_type": "stream",
     "text": [
      "Her2 :  (29, 24370)\n"
     ]
    },
    {
     "data": {
      "text/plain": [
       "(29, 24368)"
      ]
     },
     "metadata": {},
     "output_type": "display_data"
    },
    {
     "data": {
      "text/plain": [
       "(29, 56)"
      ]
     },
     "metadata": {},
     "output_type": "display_data"
    },
    {
     "name": "stdout",
     "output_type": "stream",
     "text": [
      "Normal :  (27, 24370)\n"
     ]
    },
    {
     "data": {
      "text/plain": [
       "(27, 24368)"
      ]
     },
     "metadata": {},
     "output_type": "display_data"
    },
    {
     "data": {
      "text/plain": [
       "(27, 38)"
      ]
     },
     "metadata": {},
     "output_type": "display_data"
    },
    {
     "name": "stdout",
     "output_type": "stream",
     "text": [
      "Basal :  (8, 24370)\n"
     ]
    },
    {
     "data": {
      "text/plain": [
       "(8, 24368)"
      ]
     },
     "metadata": {},
     "output_type": "display_data"
    },
    {
     "data": {
      "text/plain": [
       "(8, 55)"
      ]
     },
     "metadata": {},
     "output_type": "display_data"
    },
    {
     "name": "stderr",
     "output_type": "stream",
     "text": [
      " 46%|██████████████████████████████████████▌                                            | 33/71 [01:16<01:37,  2.58s/it]"
     ]
    },
    {
     "name": "stdout",
     "output_type": "stream",
     "text": [
      "++++++++++++++++++++++++++++++++++++++++++++++++++++++++++++++++++++++++++++++++++++++++++++++++++++\n",
      "58\n",
      "claudin-low :  (22, 24370)\n"
     ]
    },
    {
     "data": {
      "text/plain": [
       "(22, 24368)"
      ]
     },
     "metadata": {},
     "output_type": "display_data"
    },
    {
     "data": {
      "text/plain": [
       "(22, 49)"
      ]
     },
     "metadata": {},
     "output_type": "display_data"
    },
    {
     "name": "stdout",
     "output_type": "stream",
     "text": [
      "LumA :  (119, 24370)\n"
     ]
    },
    {
     "data": {
      "text/plain": [
       "(119, 24368)"
      ]
     },
     "metadata": {},
     "output_type": "display_data"
    },
    {
     "data": {
      "text/plain": [
       "(119, 144)"
      ]
     },
     "metadata": {},
     "output_type": "display_data"
    },
    {
     "name": "stdout",
     "output_type": "stream",
     "text": [
      "LumB :  (87, 24370)\n"
     ]
    },
    {
     "data": {
      "text/plain": [
       "(87, 24368)"
      ]
     },
     "metadata": {},
     "output_type": "display_data"
    },
    {
     "data": {
      "text/plain": [
       "(87, 112)"
      ]
     },
     "metadata": {},
     "output_type": "display_data"
    },
    {
     "name": "stdout",
     "output_type": "stream",
     "text": [
      "Her2 :  (29, 24370)\n"
     ]
    },
    {
     "data": {
      "text/plain": [
       "(29, 24368)"
      ]
     },
     "metadata": {},
     "output_type": "display_data"
    },
    {
     "data": {
      "text/plain": [
       "(29, 58)"
      ]
     },
     "metadata": {},
     "output_type": "display_data"
    },
    {
     "name": "stdout",
     "output_type": "stream",
     "text": [
      "Normal :  (27, 24370)\n"
     ]
    },
    {
     "data": {
      "text/plain": [
       "(27, 24368)"
      ]
     },
     "metadata": {},
     "output_type": "display_data"
    },
    {
     "data": {
      "text/plain": [
       "(27, 39)"
      ]
     },
     "metadata": {},
     "output_type": "display_data"
    },
    {
     "name": "stdout",
     "output_type": "stream",
     "text": [
      "Basal :  (8, 24370)\n"
     ]
    },
    {
     "data": {
      "text/plain": [
       "(8, 24368)"
      ]
     },
     "metadata": {},
     "output_type": "display_data"
    },
    {
     "data": {
      "text/plain": [
       "(8, 57)"
      ]
     },
     "metadata": {},
     "output_type": "display_data"
    },
    {
     "name": "stderr",
     "output_type": "stream",
     "text": [
      " 48%|███████████████████████████████████████▋                                           | 34/71 [01:19<01:34,  2.56s/it]"
     ]
    },
    {
     "name": "stdout",
     "output_type": "stream",
     "text": [
      "++++++++++++++++++++++++++++++++++++++++++++++++++++++++++++++++++++++++++++++++++++++++++++++++++++\n",
      "59\n",
      "claudin-low :  (22, 24370)\n"
     ]
    },
    {
     "data": {
      "text/plain": [
       "(22, 24368)"
      ]
     },
     "metadata": {},
     "output_type": "display_data"
    },
    {
     "data": {
      "text/plain": [
       "(22, 51)"
      ]
     },
     "metadata": {},
     "output_type": "display_data"
    },
    {
     "name": "stdout",
     "output_type": "stream",
     "text": [
      "LumA :  (119, 24370)\n"
     ]
    },
    {
     "data": {
      "text/plain": [
       "(119, 24368)"
      ]
     },
     "metadata": {},
     "output_type": "display_data"
    },
    {
     "data": {
      "text/plain": [
       "(119, 151)"
      ]
     },
     "metadata": {},
     "output_type": "display_data"
    },
    {
     "name": "stdout",
     "output_type": "stream",
     "text": [
      "LumB :  (87, 24370)\n"
     ]
    },
    {
     "data": {
      "text/plain": [
       "(87, 24368)"
      ]
     },
     "metadata": {},
     "output_type": "display_data"
    },
    {
     "data": {
      "text/plain": [
       "(87, 117)"
      ]
     },
     "metadata": {},
     "output_type": "display_data"
    },
    {
     "name": "stdout",
     "output_type": "stream",
     "text": [
      "Her2 :  (29, 24370)\n"
     ]
    },
    {
     "data": {
      "text/plain": [
       "(29, 24368)"
      ]
     },
     "metadata": {},
     "output_type": "display_data"
    },
    {
     "data": {
      "text/plain": [
       "(29, 61)"
      ]
     },
     "metadata": {},
     "output_type": "display_data"
    },
    {
     "name": "stdout",
     "output_type": "stream",
     "text": [
      "Normal :  (27, 24370)\n"
     ]
    },
    {
     "data": {
      "text/plain": [
       "(27, 24368)"
      ]
     },
     "metadata": {},
     "output_type": "display_data"
    },
    {
     "data": {
      "text/plain": [
       "(27, 41)"
      ]
     },
     "metadata": {},
     "output_type": "display_data"
    },
    {
     "name": "stdout",
     "output_type": "stream",
     "text": [
      "Basal :  (8, 24370)\n"
     ]
    },
    {
     "data": {
      "text/plain": [
       "(8, 24368)"
      ]
     },
     "metadata": {},
     "output_type": "display_data"
    },
    {
     "data": {
      "text/plain": [
       "(8, 59)"
      ]
     },
     "metadata": {},
     "output_type": "display_data"
    },
    {
     "name": "stderr",
     "output_type": "stream",
     "text": [
      " 49%|████████████████████████████████████████▉                                          | 35/71 [01:21<01:32,  2.57s/it]"
     ]
    },
    {
     "name": "stdout",
     "output_type": "stream",
     "text": [
      "++++++++++++++++++++++++++++++++++++++++++++++++++++++++++++++++++++++++++++++++++++++++++++++++++++\n",
      "60\n",
      "claudin-low :  (22, 24370)\n"
     ]
    },
    {
     "data": {
      "text/plain": [
       "(22, 24368)"
      ]
     },
     "metadata": {},
     "output_type": "display_data"
    },
    {
     "data": {
      "text/plain": [
       "(22, 53)"
      ]
     },
     "metadata": {},
     "output_type": "display_data"
    },
    {
     "name": "stdout",
     "output_type": "stream",
     "text": [
      "LumA :  (119, 24370)\n"
     ]
    },
    {
     "data": {
      "text/plain": [
       "(119, 24368)"
      ]
     },
     "metadata": {},
     "output_type": "display_data"
    },
    {
     "data": {
      "text/plain": [
       "(119, 159)"
      ]
     },
     "metadata": {},
     "output_type": "display_data"
    },
    {
     "name": "stdout",
     "output_type": "stream",
     "text": [
      "LumB :  (87, 24370)\n"
     ]
    },
    {
     "data": {
      "text/plain": [
       "(87, 24368)"
      ]
     },
     "metadata": {},
     "output_type": "display_data"
    },
    {
     "data": {
      "text/plain": [
       "(87, 122)"
      ]
     },
     "metadata": {},
     "output_type": "display_data"
    },
    {
     "name": "stdout",
     "output_type": "stream",
     "text": [
      "Her2 :  (29, 24370)\n"
     ]
    },
    {
     "data": {
      "text/plain": [
       "(29, 24368)"
      ]
     },
     "metadata": {},
     "output_type": "display_data"
    },
    {
     "data": {
      "text/plain": [
       "(29, 63)"
      ]
     },
     "metadata": {},
     "output_type": "display_data"
    },
    {
     "name": "stdout",
     "output_type": "stream",
     "text": [
      "Normal :  (27, 24370)\n"
     ]
    },
    {
     "data": {
      "text/plain": [
       "(27, 24368)"
      ]
     },
     "metadata": {},
     "output_type": "display_data"
    },
    {
     "data": {
      "text/plain": [
       "(27, 42)"
      ]
     },
     "metadata": {},
     "output_type": "display_data"
    },
    {
     "name": "stdout",
     "output_type": "stream",
     "text": [
      "Basal :  (8, 24370)\n"
     ]
    },
    {
     "data": {
      "text/plain": [
       "(8, 24368)"
      ]
     },
     "metadata": {},
     "output_type": "display_data"
    },
    {
     "data": {
      "text/plain": [
       "(8, 61)"
      ]
     },
     "metadata": {},
     "output_type": "display_data"
    },
    {
     "name": "stderr",
     "output_type": "stream",
     "text": [
      " 51%|██████████████████████████████████████████                                         | 36/71 [01:24<01:30,  2.60s/it]"
     ]
    },
    {
     "name": "stdout",
     "output_type": "stream",
     "text": [
      "++++++++++++++++++++++++++++++++++++++++++++++++++++++++++++++++++++++++++++++++++++++++++++++++++++\n",
      "61\n",
      "claudin-low :  (22, 24370)\n"
     ]
    },
    {
     "data": {
      "text/plain": [
       "(22, 24368)"
      ]
     },
     "metadata": {},
     "output_type": "display_data"
    },
    {
     "data": {
      "text/plain": [
       "(22, 55)"
      ]
     },
     "metadata": {},
     "output_type": "display_data"
    },
    {
     "name": "stdout",
     "output_type": "stream",
     "text": [
      "LumA :  (119, 24370)\n"
     ]
    },
    {
     "data": {
      "text/plain": [
       "(119, 24368)"
      ]
     },
     "metadata": {},
     "output_type": "display_data"
    },
    {
     "data": {
      "text/plain": [
       "(119, 167)"
      ]
     },
     "metadata": {},
     "output_type": "display_data"
    },
    {
     "name": "stdout",
     "output_type": "stream",
     "text": [
      "LumB :  (87, 24370)\n"
     ]
    },
    {
     "data": {
      "text/plain": [
       "(87, 24368)"
      ]
     },
     "metadata": {},
     "output_type": "display_data"
    },
    {
     "data": {
      "text/plain": [
       "(87, 127)"
      ]
     },
     "metadata": {},
     "output_type": "display_data"
    },
    {
     "name": "stdout",
     "output_type": "stream",
     "text": [
      "Her2 :  (29, 24370)\n"
     ]
    },
    {
     "data": {
      "text/plain": [
       "(29, 24368)"
      ]
     },
     "metadata": {},
     "output_type": "display_data"
    },
    {
     "data": {
      "text/plain": [
       "(29, 65)"
      ]
     },
     "metadata": {},
     "output_type": "display_data"
    },
    {
     "name": "stdout",
     "output_type": "stream",
     "text": [
      "Normal :  (27, 24370)\n"
     ]
    },
    {
     "data": {
      "text/plain": [
       "(27, 24368)"
      ]
     },
     "metadata": {},
     "output_type": "display_data"
    },
    {
     "data": {
      "text/plain": [
       "(27, 44)"
      ]
     },
     "metadata": {},
     "output_type": "display_data"
    },
    {
     "name": "stdout",
     "output_type": "stream",
     "text": [
      "Basal :  (8, 24370)\n"
     ]
    },
    {
     "data": {
      "text/plain": [
       "(8, 24368)"
      ]
     },
     "metadata": {},
     "output_type": "display_data"
    },
    {
     "data": {
      "text/plain": [
       "(8, 63)"
      ]
     },
     "metadata": {},
     "output_type": "display_data"
    },
    {
     "name": "stderr",
     "output_type": "stream",
     "text": [
      " 52%|███████████████████████████████████████████▎                                       | 37/71 [01:27<01:28,  2.60s/it]"
     ]
    },
    {
     "name": "stdout",
     "output_type": "stream",
     "text": [
      "++++++++++++++++++++++++++++++++++++++++++++++++++++++++++++++++++++++++++++++++++++++++++++++++++++\n",
      "62\n",
      "claudin-low :  (22, 24370)\n"
     ]
    },
    {
     "data": {
      "text/plain": [
       "(22, 24368)"
      ]
     },
     "metadata": {},
     "output_type": "display_data"
    },
    {
     "data": {
      "text/plain": [
       "(22, 57)"
      ]
     },
     "metadata": {},
     "output_type": "display_data"
    },
    {
     "name": "stdout",
     "output_type": "stream",
     "text": [
      "LumA :  (119, 24370)\n"
     ]
    },
    {
     "data": {
      "text/plain": [
       "(119, 24368)"
      ]
     },
     "metadata": {},
     "output_type": "display_data"
    },
    {
     "data": {
      "text/plain": [
       "(119, 174)"
      ]
     },
     "metadata": {},
     "output_type": "display_data"
    },
    {
     "name": "stdout",
     "output_type": "stream",
     "text": [
      "LumB :  (87, 24370)\n"
     ]
    },
    {
     "data": {
      "text/plain": [
       "(87, 24368)"
      ]
     },
     "metadata": {},
     "output_type": "display_data"
    },
    {
     "data": {
      "text/plain": [
       "(87, 132)"
      ]
     },
     "metadata": {},
     "output_type": "display_data"
    },
    {
     "name": "stdout",
     "output_type": "stream",
     "text": [
      "Her2 :  (29, 24370)\n"
     ]
    },
    {
     "data": {
      "text/plain": [
       "(29, 24368)"
      ]
     },
     "metadata": {},
     "output_type": "display_data"
    },
    {
     "data": {
      "text/plain": [
       "(29, 68)"
      ]
     },
     "metadata": {},
     "output_type": "display_data"
    },
    {
     "name": "stdout",
     "output_type": "stream",
     "text": [
      "Normal :  (27, 24370)\n"
     ]
    },
    {
     "data": {
      "text/plain": [
       "(27, 24368)"
      ]
     },
     "metadata": {},
     "output_type": "display_data"
    },
    {
     "data": {
      "text/plain": [
       "(27, 45)"
      ]
     },
     "metadata": {},
     "output_type": "display_data"
    },
    {
     "name": "stdout",
     "output_type": "stream",
     "text": [
      "Basal :  (8, 24370)\n"
     ]
    },
    {
     "data": {
      "text/plain": [
       "(8, 24368)"
      ]
     },
     "metadata": {},
     "output_type": "display_data"
    },
    {
     "data": {
      "text/plain": [
       "(8, 66)"
      ]
     },
     "metadata": {},
     "output_type": "display_data"
    },
    {
     "name": "stderr",
     "output_type": "stream",
     "text": [
      " 54%|████████████████████████████████████████████▍                                      | 38/71 [01:29<01:26,  2.62s/it]"
     ]
    },
    {
     "name": "stdout",
     "output_type": "stream",
     "text": [
      "++++++++++++++++++++++++++++++++++++++++++++++++++++++++++++++++++++++++++++++++++++++++++++++++++++\n",
      "63\n",
      "claudin-low :  (22, 24370)\n"
     ]
    },
    {
     "data": {
      "text/plain": [
       "(22, 24368)"
      ]
     },
     "metadata": {},
     "output_type": "display_data"
    },
    {
     "data": {
      "text/plain": [
       "(22, 60)"
      ]
     },
     "metadata": {},
     "output_type": "display_data"
    },
    {
     "name": "stdout",
     "output_type": "stream",
     "text": [
      "LumA :  (119, 24370)\n"
     ]
    },
    {
     "data": {
      "text/plain": [
       "(119, 24368)"
      ]
     },
     "metadata": {},
     "output_type": "display_data"
    },
    {
     "data": {
      "text/plain": [
       "(119, 182)"
      ]
     },
     "metadata": {},
     "output_type": "display_data"
    },
    {
     "name": "stdout",
     "output_type": "stream",
     "text": [
      "LumB :  (87, 24370)\n"
     ]
    },
    {
     "data": {
      "text/plain": [
       "(87, 24368)"
      ]
     },
     "metadata": {},
     "output_type": "display_data"
    },
    {
     "data": {
      "text/plain": [
       "(87, 138)"
      ]
     },
     "metadata": {},
     "output_type": "display_data"
    },
    {
     "name": "stdout",
     "output_type": "stream",
     "text": [
      "Her2 :  (29, 24370)\n"
     ]
    },
    {
     "data": {
      "text/plain": [
       "(29, 24368)"
      ]
     },
     "metadata": {},
     "output_type": "display_data"
    },
    {
     "data": {
      "text/plain": [
       "(29, 70)"
      ]
     },
     "metadata": {},
     "output_type": "display_data"
    },
    {
     "name": "stdout",
     "output_type": "stream",
     "text": [
      "Normal :  (27, 24370)\n"
     ]
    },
    {
     "data": {
      "text/plain": [
       "(27, 24368)"
      ]
     },
     "metadata": {},
     "output_type": "display_data"
    },
    {
     "data": {
      "text/plain": [
       "(27, 47)"
      ]
     },
     "metadata": {},
     "output_type": "display_data"
    },
    {
     "name": "stdout",
     "output_type": "stream",
     "text": [
      "Basal :  (8, 24370)\n"
     ]
    },
    {
     "data": {
      "text/plain": [
       "(8, 24368)"
      ]
     },
     "metadata": {},
     "output_type": "display_data"
    },
    {
     "data": {
      "text/plain": [
       "(8, 68)"
      ]
     },
     "metadata": {},
     "output_type": "display_data"
    },
    {
     "name": "stderr",
     "output_type": "stream",
     "text": [
      " 55%|█████████████████████████████████████████████▌                                     | 39/71 [01:32<01:25,  2.66s/it]"
     ]
    },
    {
     "name": "stdout",
     "output_type": "stream",
     "text": [
      "++++++++++++++++++++++++++++++++++++++++++++++++++++++++++++++++++++++++++++++++++++++++++++++++++++\n",
      "64\n",
      "claudin-low :  (22, 24370)\n"
     ]
    },
    {
     "data": {
      "text/plain": [
       "(22, 24368)"
      ]
     },
     "metadata": {},
     "output_type": "display_data"
    },
    {
     "data": {
      "text/plain": [
       "(22, 62)"
      ]
     },
     "metadata": {},
     "output_type": "display_data"
    },
    {
     "name": "stdout",
     "output_type": "stream",
     "text": [
      "LumA :  (119, 24370)\n"
     ]
    },
    {
     "data": {
      "text/plain": [
       "(119, 24368)"
      ]
     },
     "metadata": {},
     "output_type": "display_data"
    },
    {
     "data": {
      "text/plain": [
       "(119, 191)"
      ]
     },
     "metadata": {},
     "output_type": "display_data"
    },
    {
     "name": "stdout",
     "output_type": "stream",
     "text": [
      "LumB :  (87, 24370)\n"
     ]
    },
    {
     "data": {
      "text/plain": [
       "(87, 24368)"
      ]
     },
     "metadata": {},
     "output_type": "display_data"
    },
    {
     "data": {
      "text/plain": [
       "(87, 143)"
      ]
     },
     "metadata": {},
     "output_type": "display_data"
    },
    {
     "name": "stdout",
     "output_type": "stream",
     "text": [
      "Her2 :  (29, 24370)\n"
     ]
    },
    {
     "data": {
      "text/plain": [
       "(29, 24368)"
      ]
     },
     "metadata": {},
     "output_type": "display_data"
    },
    {
     "data": {
      "text/plain": [
       "(29, 73)"
      ]
     },
     "metadata": {},
     "output_type": "display_data"
    },
    {
     "name": "stdout",
     "output_type": "stream",
     "text": [
      "Normal :  (27, 24370)\n"
     ]
    },
    {
     "data": {
      "text/plain": [
       "(27, 24368)"
      ]
     },
     "metadata": {},
     "output_type": "display_data"
    },
    {
     "data": {
      "text/plain": [
       "(27, 49)"
      ]
     },
     "metadata": {},
     "output_type": "display_data"
    },
    {
     "name": "stdout",
     "output_type": "stream",
     "text": [
      "Basal :  (8, 24370)\n"
     ]
    },
    {
     "data": {
      "text/plain": [
       "(8, 24368)"
      ]
     },
     "metadata": {},
     "output_type": "display_data"
    },
    {
     "data": {
      "text/plain": [
       "(8, 70)"
      ]
     },
     "metadata": {},
     "output_type": "display_data"
    },
    {
     "name": "stderr",
     "output_type": "stream",
     "text": [
      " 56%|██████████████████████████████████████████████▊                                    | 40/71 [01:35<01:23,  2.69s/it]"
     ]
    },
    {
     "name": "stdout",
     "output_type": "stream",
     "text": [
      "++++++++++++++++++++++++++++++++++++++++++++++++++++++++++++++++++++++++++++++++++++++++++++++++++++\n",
      "65\n",
      "claudin-low :  (22, 24370)\n"
     ]
    },
    {
     "data": {
      "text/plain": [
       "(22, 24368)"
      ]
     },
     "metadata": {},
     "output_type": "display_data"
    },
    {
     "data": {
      "text/plain": [
       "(22, 64)"
      ]
     },
     "metadata": {},
     "output_type": "display_data"
    },
    {
     "name": "stdout",
     "output_type": "stream",
     "text": [
      "LumA :  (119, 24370)\n"
     ]
    },
    {
     "data": {
      "text/plain": [
       "(119, 24368)"
      ]
     },
     "metadata": {},
     "output_type": "display_data"
    },
    {
     "data": {
      "text/plain": [
       "(119, 199)"
      ]
     },
     "metadata": {},
     "output_type": "display_data"
    },
    {
     "name": "stdout",
     "output_type": "stream",
     "text": [
      "LumB :  (87, 24370)\n"
     ]
    },
    {
     "data": {
      "text/plain": [
       "(87, 24368)"
      ]
     },
     "metadata": {},
     "output_type": "display_data"
    },
    {
     "data": {
      "text/plain": [
       "(87, 149)"
      ]
     },
     "metadata": {},
     "output_type": "display_data"
    },
    {
     "name": "stdout",
     "output_type": "stream",
     "text": [
      "Her2 :  (29, 24370)\n"
     ]
    },
    {
     "data": {
      "text/plain": [
       "(29, 24368)"
      ]
     },
     "metadata": {},
     "output_type": "display_data"
    },
    {
     "data": {
      "text/plain": [
       "(29, 75)"
      ]
     },
     "metadata": {},
     "output_type": "display_data"
    },
    {
     "name": "stdout",
     "output_type": "stream",
     "text": [
      "Normal :  (27, 24370)\n"
     ]
    },
    {
     "data": {
      "text/plain": [
       "(27, 24368)"
      ]
     },
     "metadata": {},
     "output_type": "display_data"
    },
    {
     "data": {
      "text/plain": [
       "(27, 50)"
      ]
     },
     "metadata": {},
     "output_type": "display_data"
    },
    {
     "name": "stdout",
     "output_type": "stream",
     "text": [
      "Basal :  (8, 24370)\n"
     ]
    },
    {
     "data": {
      "text/plain": [
       "(8, 24368)"
      ]
     },
     "metadata": {},
     "output_type": "display_data"
    },
    {
     "data": {
      "text/plain": [
       "(8, 72)"
      ]
     },
     "metadata": {},
     "output_type": "display_data"
    },
    {
     "name": "stderr",
     "output_type": "stream",
     "text": [
      " 58%|███████████████████████████████████████████████▉                                   | 41/71 [01:38<01:21,  2.71s/it]"
     ]
    },
    {
     "name": "stdout",
     "output_type": "stream",
     "text": [
      "++++++++++++++++++++++++++++++++++++++++++++++++++++++++++++++++++++++++++++++++++++++++++++++++++++\n",
      "66\n",
      "claudin-low :  (22, 24370)\n"
     ]
    },
    {
     "data": {
      "text/plain": [
       "(22, 24368)"
      ]
     },
     "metadata": {},
     "output_type": "display_data"
    },
    {
     "data": {
      "text/plain": [
       "(22, 67)"
      ]
     },
     "metadata": {},
     "output_type": "display_data"
    },
    {
     "name": "stdout",
     "output_type": "stream",
     "text": [
      "LumA :  (119, 24370)\n"
     ]
    },
    {
     "data": {
      "text/plain": [
       "(119, 24368)"
      ]
     },
     "metadata": {},
     "output_type": "display_data"
    },
    {
     "data": {
      "text/plain": [
       "(119, 207)"
      ]
     },
     "metadata": {},
     "output_type": "display_data"
    },
    {
     "name": "stdout",
     "output_type": "stream",
     "text": [
      "LumB :  (87, 24370)\n"
     ]
    },
    {
     "data": {
      "text/plain": [
       "(87, 24368)"
      ]
     },
     "metadata": {},
     "output_type": "display_data"
    },
    {
     "data": {
      "text/plain": [
       "(87, 154)"
      ]
     },
     "metadata": {},
     "output_type": "display_data"
    },
    {
     "name": "stdout",
     "output_type": "stream",
     "text": [
      "Her2 :  (29, 24370)\n"
     ]
    },
    {
     "data": {
      "text/plain": [
       "(29, 24368)"
      ]
     },
     "metadata": {},
     "output_type": "display_data"
    },
    {
     "data": {
      "text/plain": [
       "(29, 78)"
      ]
     },
     "metadata": {},
     "output_type": "display_data"
    },
    {
     "name": "stdout",
     "output_type": "stream",
     "text": [
      "Normal :  (27, 24370)\n"
     ]
    },
    {
     "data": {
      "text/plain": [
       "(27, 24368)"
      ]
     },
     "metadata": {},
     "output_type": "display_data"
    },
    {
     "data": {
      "text/plain": [
       "(27, 52)"
      ]
     },
     "metadata": {},
     "output_type": "display_data"
    },
    {
     "name": "stdout",
     "output_type": "stream",
     "text": [
      "Basal :  (8, 24370)\n"
     ]
    },
    {
     "data": {
      "text/plain": [
       "(8, 24368)"
      ]
     },
     "metadata": {},
     "output_type": "display_data"
    },
    {
     "data": {
      "text/plain": [
       "(8, 75)"
      ]
     },
     "metadata": {},
     "output_type": "display_data"
    },
    {
     "name": "stderr",
     "output_type": "stream",
     "text": [
      " 59%|█████████████████████████████████████████████████                                  | 42/71 [01:40<01:18,  2.71s/it]"
     ]
    },
    {
     "name": "stdout",
     "output_type": "stream",
     "text": [
      "++++++++++++++++++++++++++++++++++++++++++++++++++++++++++++++++++++++++++++++++++++++++++++++++++++\n",
      "67\n",
      "claudin-low :  (22, 24370)\n"
     ]
    },
    {
     "data": {
      "text/plain": [
       "(22, 24368)"
      ]
     },
     "metadata": {},
     "output_type": "display_data"
    },
    {
     "data": {
      "text/plain": [
       "(22, 69)"
      ]
     },
     "metadata": {},
     "output_type": "display_data"
    },
    {
     "name": "stdout",
     "output_type": "stream",
     "text": [
      "LumA :  (119, 24370)\n"
     ]
    },
    {
     "data": {
      "text/plain": [
       "(119, 24368)"
      ]
     },
     "metadata": {},
     "output_type": "display_data"
    },
    {
     "data": {
      "text/plain": [
       "(119, 216)"
      ]
     },
     "metadata": {},
     "output_type": "display_data"
    },
    {
     "name": "stdout",
     "output_type": "stream",
     "text": [
      "LumB :  (87, 24370)\n"
     ]
    },
    {
     "data": {
      "text/plain": [
       "(87, 24368)"
      ]
     },
     "metadata": {},
     "output_type": "display_data"
    },
    {
     "data": {
      "text/plain": [
       "(87, 160)"
      ]
     },
     "metadata": {},
     "output_type": "display_data"
    },
    {
     "name": "stdout",
     "output_type": "stream",
     "text": [
      "Her2 :  (29, 24370)\n"
     ]
    },
    {
     "data": {
      "text/plain": [
       "(29, 24368)"
      ]
     },
     "metadata": {},
     "output_type": "display_data"
    },
    {
     "data": {
      "text/plain": [
       "(29, 81)"
      ]
     },
     "metadata": {},
     "output_type": "display_data"
    },
    {
     "name": "stdout",
     "output_type": "stream",
     "text": [
      "Normal :  (27, 24370)\n"
     ]
    },
    {
     "data": {
      "text/plain": [
       "(27, 24368)"
      ]
     },
     "metadata": {},
     "output_type": "display_data"
    },
    {
     "data": {
      "text/plain": [
       "(27, 54)"
      ]
     },
     "metadata": {},
     "output_type": "display_data"
    },
    {
     "name": "stdout",
     "output_type": "stream",
     "text": [
      "Basal :  (8, 24370)\n"
     ]
    },
    {
     "data": {
      "text/plain": [
       "(8, 24368)"
      ]
     },
     "metadata": {},
     "output_type": "display_data"
    },
    {
     "data": {
      "text/plain": [
       "(8, 77)"
      ]
     },
     "metadata": {},
     "output_type": "display_data"
    },
    {
     "name": "stderr",
     "output_type": "stream",
     "text": [
      " 61%|██████████████████████████████████████████████████▎                                | 43/71 [01:43<01:15,  2.71s/it]"
     ]
    },
    {
     "name": "stdout",
     "output_type": "stream",
     "text": [
      "++++++++++++++++++++++++++++++++++++++++++++++++++++++++++++++++++++++++++++++++++++++++++++++++++++\n",
      "68\n",
      "claudin-low :  (22, 24370)\n"
     ]
    },
    {
     "data": {
      "text/plain": [
       "(22, 24368)"
      ]
     },
     "metadata": {},
     "output_type": "display_data"
    },
    {
     "data": {
      "text/plain": [
       "(22, 72)"
      ]
     },
     "metadata": {},
     "output_type": "display_data"
    },
    {
     "name": "stdout",
     "output_type": "stream",
     "text": [
      "LumA :  (119, 24370)\n"
     ]
    },
    {
     "data": {
      "text/plain": [
       "(119, 24368)"
      ]
     },
     "metadata": {},
     "output_type": "display_data"
    },
    {
     "data": {
      "text/plain": [
       "(119, 225)"
      ]
     },
     "metadata": {},
     "output_type": "display_data"
    },
    {
     "name": "stdout",
     "output_type": "stream",
     "text": [
      "LumB :  (87, 24370)\n"
     ]
    },
    {
     "data": {
      "text/plain": [
       "(87, 24368)"
      ]
     },
     "metadata": {},
     "output_type": "display_data"
    },
    {
     "data": {
      "text/plain": [
       "(87, 166)"
      ]
     },
     "metadata": {},
     "output_type": "display_data"
    },
    {
     "name": "stdout",
     "output_type": "stream",
     "text": [
      "Her2 :  (29, 24370)\n"
     ]
    },
    {
     "data": {
      "text/plain": [
       "(29, 24368)"
      ]
     },
     "metadata": {},
     "output_type": "display_data"
    },
    {
     "data": {
      "text/plain": [
       "(29, 83)"
      ]
     },
     "metadata": {},
     "output_type": "display_data"
    },
    {
     "name": "stdout",
     "output_type": "stream",
     "text": [
      "Normal :  (27, 24370)\n"
     ]
    },
    {
     "data": {
      "text/plain": [
       "(27, 24368)"
      ]
     },
     "metadata": {},
     "output_type": "display_data"
    },
    {
     "data": {
      "text/plain": [
       "(27, 55)"
      ]
     },
     "metadata": {},
     "output_type": "display_data"
    },
    {
     "name": "stdout",
     "output_type": "stream",
     "text": [
      "Basal :  (8, 24370)\n"
     ]
    },
    {
     "data": {
      "text/plain": [
       "(8, 24368)"
      ]
     },
     "metadata": {},
     "output_type": "display_data"
    },
    {
     "data": {
      "text/plain": [
       "(8, 79)"
      ]
     },
     "metadata": {},
     "output_type": "display_data"
    },
    {
     "name": "stderr",
     "output_type": "stream",
     "text": [
      " 62%|███████████████████████████████████████████████████▍                               | 44/71 [01:46<01:14,  2.75s/it]"
     ]
    },
    {
     "name": "stdout",
     "output_type": "stream",
     "text": [
      "++++++++++++++++++++++++++++++++++++++++++++++++++++++++++++++++++++++++++++++++++++++++++++++++++++\n",
      "69\n",
      "claudin-low :  (22, 24370)\n"
     ]
    },
    {
     "data": {
      "text/plain": [
       "(22, 24368)"
      ]
     },
     "metadata": {},
     "output_type": "display_data"
    },
    {
     "data": {
      "text/plain": [
       "(22, 74)"
      ]
     },
     "metadata": {},
     "output_type": "display_data"
    },
    {
     "name": "stdout",
     "output_type": "stream",
     "text": [
      "LumA :  (119, 24370)\n"
     ]
    },
    {
     "data": {
      "text/plain": [
       "(119, 24368)"
      ]
     },
     "metadata": {},
     "output_type": "display_data"
    },
    {
     "data": {
      "text/plain": [
       "(119, 234)"
      ]
     },
     "metadata": {},
     "output_type": "display_data"
    },
    {
     "name": "stdout",
     "output_type": "stream",
     "text": [
      "LumB :  (87, 24370)\n"
     ]
    },
    {
     "data": {
      "text/plain": [
       "(87, 24368)"
      ]
     },
     "metadata": {},
     "output_type": "display_data"
    },
    {
     "data": {
      "text/plain": [
       "(87, 172)"
      ]
     },
     "metadata": {},
     "output_type": "display_data"
    },
    {
     "name": "stdout",
     "output_type": "stream",
     "text": [
      "Her2 :  (29, 24370)\n"
     ]
    },
    {
     "data": {
      "text/plain": [
       "(29, 24368)"
      ]
     },
     "metadata": {},
     "output_type": "display_data"
    },
    {
     "data": {
      "text/plain": [
       "(29, 86)"
      ]
     },
     "metadata": {},
     "output_type": "display_data"
    },
    {
     "name": "stdout",
     "output_type": "stream",
     "text": [
      "Normal :  (27, 24370)\n"
     ]
    },
    {
     "data": {
      "text/plain": [
       "(27, 24368)"
      ]
     },
     "metadata": {},
     "output_type": "display_data"
    },
    {
     "data": {
      "text/plain": [
       "(27, 57)"
      ]
     },
     "metadata": {},
     "output_type": "display_data"
    },
    {
     "name": "stdout",
     "output_type": "stream",
     "text": [
      "Basal :  (8, 24370)\n"
     ]
    },
    {
     "data": {
      "text/plain": [
       "(8, 24368)"
      ]
     },
     "metadata": {},
     "output_type": "display_data"
    },
    {
     "data": {
      "text/plain": [
       "(8, 82)"
      ]
     },
     "metadata": {},
     "output_type": "display_data"
    },
    {
     "name": "stderr",
     "output_type": "stream",
     "text": [
      " 63%|████████████████████████████████████████████████████▌                              | 45/71 [01:49<01:12,  2.78s/it]"
     ]
    },
    {
     "name": "stdout",
     "output_type": "stream",
     "text": [
      "++++++++++++++++++++++++++++++++++++++++++++++++++++++++++++++++++++++++++++++++++++++++++++++++++++\n",
      "70\n",
      "claudin-low :  (22, 24370)\n"
     ]
    },
    {
     "data": {
      "text/plain": [
       "(22, 24368)"
      ]
     },
     "metadata": {},
     "output_type": "display_data"
    },
    {
     "data": {
      "text/plain": [
       "(22, 77)"
      ]
     },
     "metadata": {},
     "output_type": "display_data"
    },
    {
     "name": "stdout",
     "output_type": "stream",
     "text": [
      "LumA :  (119, 24370)\n"
     ]
    },
    {
     "data": {
      "text/plain": [
       "(119, 24368)"
      ]
     },
     "metadata": {},
     "output_type": "display_data"
    },
    {
     "data": {
      "text/plain": [
       "(119, 243)"
      ]
     },
     "metadata": {},
     "output_type": "display_data"
    },
    {
     "name": "stdout",
     "output_type": "stream",
     "text": [
      "LumB :  (87, 24370)\n"
     ]
    },
    {
     "data": {
      "text/plain": [
       "(87, 24368)"
      ]
     },
     "metadata": {},
     "output_type": "display_data"
    },
    {
     "data": {
      "text/plain": [
       "(87, 178)"
      ]
     },
     "metadata": {},
     "output_type": "display_data"
    },
    {
     "name": "stdout",
     "output_type": "stream",
     "text": [
      "Her2 :  (29, 24370)\n"
     ]
    },
    {
     "data": {
      "text/plain": [
       "(29, 24368)"
      ]
     },
     "metadata": {},
     "output_type": "display_data"
    },
    {
     "data": {
      "text/plain": [
       "(29, 89)"
      ]
     },
     "metadata": {},
     "output_type": "display_data"
    },
    {
     "name": "stdout",
     "output_type": "stream",
     "text": [
      "Normal :  (27, 24370)\n"
     ]
    },
    {
     "data": {
      "text/plain": [
       "(27, 24368)"
      ]
     },
     "metadata": {},
     "output_type": "display_data"
    },
    {
     "data": {
      "text/plain": [
       "(27, 59)"
      ]
     },
     "metadata": {},
     "output_type": "display_data"
    },
    {
     "name": "stdout",
     "output_type": "stream",
     "text": [
      "Basal :  (8, 24370)\n"
     ]
    },
    {
     "data": {
      "text/plain": [
       "(8, 24368)"
      ]
     },
     "metadata": {},
     "output_type": "display_data"
    },
    {
     "data": {
      "text/plain": [
       "(8, 84)"
      ]
     },
     "metadata": {},
     "output_type": "display_data"
    },
    {
     "name": "stderr",
     "output_type": "stream",
     "text": [
      " 65%|█████████████████████████████████████████████████████▊                             | 46/71 [01:52<01:10,  2.80s/it]"
     ]
    },
    {
     "name": "stdout",
     "output_type": "stream",
     "text": [
      "++++++++++++++++++++++++++++++++++++++++++++++++++++++++++++++++++++++++++++++++++++++++++++++++++++\n",
      "71\n",
      "claudin-low :  (22, 24370)\n"
     ]
    },
    {
     "data": {
      "text/plain": [
       "(22, 24368)"
      ]
     },
     "metadata": {},
     "output_type": "display_data"
    },
    {
     "data": {
      "text/plain": [
       "(22, 79)"
      ]
     },
     "metadata": {},
     "output_type": "display_data"
    },
    {
     "name": "stdout",
     "output_type": "stream",
     "text": [
      "LumA :  (119, 24370)\n"
     ]
    },
    {
     "data": {
      "text/plain": [
       "(119, 24368)"
      ]
     },
     "metadata": {},
     "output_type": "display_data"
    },
    {
     "data": {
      "text/plain": [
       "(119, 252)"
      ]
     },
     "metadata": {},
     "output_type": "display_data"
    },
    {
     "name": "stdout",
     "output_type": "stream",
     "text": [
      "LumB :  (87, 24370)\n"
     ]
    },
    {
     "data": {
      "text/plain": [
       "(87, 24368)"
      ]
     },
     "metadata": {},
     "output_type": "display_data"
    },
    {
     "data": {
      "text/plain": [
       "(87, 184)"
      ]
     },
     "metadata": {},
     "output_type": "display_data"
    },
    {
     "name": "stdout",
     "output_type": "stream",
     "text": [
      "Her2 :  (29, 24370)\n"
     ]
    },
    {
     "data": {
      "text/plain": [
       "(29, 24368)"
      ]
     },
     "metadata": {},
     "output_type": "display_data"
    },
    {
     "data": {
      "text/plain": [
       "(29, 92)"
      ]
     },
     "metadata": {},
     "output_type": "display_data"
    },
    {
     "name": "stdout",
     "output_type": "stream",
     "text": [
      "Normal :  (27, 24370)\n"
     ]
    },
    {
     "data": {
      "text/plain": [
       "(27, 24368)"
      ]
     },
     "metadata": {},
     "output_type": "display_data"
    },
    {
     "data": {
      "text/plain": [
       "(27, 60)"
      ]
     },
     "metadata": {},
     "output_type": "display_data"
    },
    {
     "name": "stdout",
     "output_type": "stream",
     "text": [
      "Basal :  (8, 24370)\n"
     ]
    },
    {
     "data": {
      "text/plain": [
       "(8, 24368)"
      ]
     },
     "metadata": {},
     "output_type": "display_data"
    },
    {
     "data": {
      "text/plain": [
       "(8, 87)"
      ]
     },
     "metadata": {},
     "output_type": "display_data"
    },
    {
     "name": "stderr",
     "output_type": "stream",
     "text": [
      " 66%|██████████████████████████████████████████████████████▉                            | 47/71 [01:55<01:12,  3.01s/it]"
     ]
    },
    {
     "name": "stdout",
     "output_type": "stream",
     "text": [
      "++++++++++++++++++++++++++++++++++++++++++++++++++++++++++++++++++++++++++++++++++++++++++++++++++++\n",
      "72\n",
      "claudin-low :  (22, 24370)\n"
     ]
    },
    {
     "data": {
      "text/plain": [
       "(22, 24368)"
      ]
     },
     "metadata": {},
     "output_type": "display_data"
    },
    {
     "data": {
      "text/plain": [
       "(22, 82)"
      ]
     },
     "metadata": {},
     "output_type": "display_data"
    },
    {
     "name": "stdout",
     "output_type": "stream",
     "text": [
      "LumA :  (119, 24370)\n"
     ]
    },
    {
     "data": {
      "text/plain": [
       "(119, 24368)"
      ]
     },
     "metadata": {},
     "output_type": "display_data"
    },
    {
     "data": {
      "text/plain": [
       "(119, 261)"
      ]
     },
     "metadata": {},
     "output_type": "display_data"
    },
    {
     "name": "stdout",
     "output_type": "stream",
     "text": [
      "LumB :  (87, 24370)\n"
     ]
    },
    {
     "data": {
      "text/plain": [
       "(87, 24368)"
      ]
     },
     "metadata": {},
     "output_type": "display_data"
    },
    {
     "data": {
      "text/plain": [
       "(87, 190)"
      ]
     },
     "metadata": {},
     "output_type": "display_data"
    },
    {
     "name": "stdout",
     "output_type": "stream",
     "text": [
      "Her2 :  (29, 24370)\n"
     ]
    },
    {
     "data": {
      "text/plain": [
       "(29, 24368)"
      ]
     },
     "metadata": {},
     "output_type": "display_data"
    },
    {
     "data": {
      "text/plain": [
       "(29, 95)"
      ]
     },
     "metadata": {},
     "output_type": "display_data"
    },
    {
     "name": "stdout",
     "output_type": "stream",
     "text": [
      "Normal :  (27, 24370)\n"
     ]
    },
    {
     "data": {
      "text/plain": [
       "(27, 24368)"
      ]
     },
     "metadata": {},
     "output_type": "display_data"
    },
    {
     "data": {
      "text/plain": [
       "(27, 62)"
      ]
     },
     "metadata": {},
     "output_type": "display_data"
    },
    {
     "name": "stdout",
     "output_type": "stream",
     "text": [
      "Basal :  (8, 24370)\n"
     ]
    },
    {
     "data": {
      "text/plain": [
       "(8, 24368)"
      ]
     },
     "metadata": {},
     "output_type": "display_data"
    },
    {
     "data": {
      "text/plain": [
       "(8, 89)"
      ]
     },
     "metadata": {},
     "output_type": "display_data"
    },
    {
     "name": "stderr",
     "output_type": "stream",
     "text": [
      " 68%|████████████████████████████████████████████████████████                           | 48/71 [01:58<01:09,  3.01s/it]"
     ]
    },
    {
     "name": "stdout",
     "output_type": "stream",
     "text": [
      "++++++++++++++++++++++++++++++++++++++++++++++++++++++++++++++++++++++++++++++++++++++++++++++++++++\n",
      "73\n",
      "claudin-low :  (22, 24370)\n"
     ]
    },
    {
     "data": {
      "text/plain": [
       "(22, 24368)"
      ]
     },
     "metadata": {},
     "output_type": "display_data"
    },
    {
     "data": {
      "text/plain": [
       "(22, 85)"
      ]
     },
     "metadata": {},
     "output_type": "display_data"
    },
    {
     "name": "stdout",
     "output_type": "stream",
     "text": [
      "LumA :  (119, 24370)\n"
     ]
    },
    {
     "data": {
      "text/plain": [
       "(119, 24368)"
      ]
     },
     "metadata": {},
     "output_type": "display_data"
    },
    {
     "data": {
      "text/plain": [
       "(119, 271)"
      ]
     },
     "metadata": {},
     "output_type": "display_data"
    },
    {
     "name": "stdout",
     "output_type": "stream",
     "text": [
      "LumB :  (87, 24370)\n"
     ]
    },
    {
     "data": {
      "text/plain": [
       "(87, 24368)"
      ]
     },
     "metadata": {},
     "output_type": "display_data"
    },
    {
     "data": {
      "text/plain": [
       "(87, 197)"
      ]
     },
     "metadata": {},
     "output_type": "display_data"
    },
    {
     "name": "stdout",
     "output_type": "stream",
     "text": [
      "Her2 :  (29, 24370)\n"
     ]
    },
    {
     "data": {
      "text/plain": [
       "(29, 24368)"
      ]
     },
     "metadata": {},
     "output_type": "display_data"
    },
    {
     "data": {
      "text/plain": [
       "(29, 98)"
      ]
     },
     "metadata": {},
     "output_type": "display_data"
    },
    {
     "name": "stdout",
     "output_type": "stream",
     "text": [
      "Normal :  (27, 24370)\n"
     ]
    },
    {
     "data": {
      "text/plain": [
       "(27, 24368)"
      ]
     },
     "metadata": {},
     "output_type": "display_data"
    },
    {
     "data": {
      "text/plain": [
       "(27, 64)"
      ]
     },
     "metadata": {},
     "output_type": "display_data"
    },
    {
     "name": "stdout",
     "output_type": "stream",
     "text": [
      "Basal :  (8, 24370)\n"
     ]
    },
    {
     "data": {
      "text/plain": [
       "(8, 24368)"
      ]
     },
     "metadata": {},
     "output_type": "display_data"
    },
    {
     "data": {
      "text/plain": [
       "(8, 92)"
      ]
     },
     "metadata": {},
     "output_type": "display_data"
    },
    {
     "name": "stderr",
     "output_type": "stream",
     "text": [
      " 69%|█████████████████████████████████████████████████████████▎                         | 49/71 [02:01<01:05,  3.00s/it]"
     ]
    },
    {
     "name": "stdout",
     "output_type": "stream",
     "text": [
      "++++++++++++++++++++++++++++++++++++++++++++++++++++++++++++++++++++++++++++++++++++++++++++++++++++\n",
      "74\n",
      "claudin-low :  (22, 24370)\n"
     ]
    },
    {
     "data": {
      "text/plain": [
       "(22, 24368)"
      ]
     },
     "metadata": {},
     "output_type": "display_data"
    },
    {
     "data": {
      "text/plain": [
       "(22, 87)"
      ]
     },
     "metadata": {},
     "output_type": "display_data"
    },
    {
     "name": "stdout",
     "output_type": "stream",
     "text": [
      "LumA :  (119, 24370)\n"
     ]
    },
    {
     "data": {
      "text/plain": [
       "(119, 24368)"
      ]
     },
     "metadata": {},
     "output_type": "display_data"
    },
    {
     "data": {
      "text/plain": [
       "(119, 280)"
      ]
     },
     "metadata": {},
     "output_type": "display_data"
    },
    {
     "name": "stdout",
     "output_type": "stream",
     "text": [
      "LumB :  (87, 24370)\n"
     ]
    },
    {
     "data": {
      "text/plain": [
       "(87, 24368)"
      ]
     },
     "metadata": {},
     "output_type": "display_data"
    },
    {
     "data": {
      "text/plain": [
       "(87, 203)"
      ]
     },
     "metadata": {},
     "output_type": "display_data"
    },
    {
     "name": "stdout",
     "output_type": "stream",
     "text": [
      "Her2 :  (29, 24370)\n"
     ]
    },
    {
     "data": {
      "text/plain": [
       "(29, 24368)"
      ]
     },
     "metadata": {},
     "output_type": "display_data"
    },
    {
     "data": {
      "text/plain": [
       "(29, 100)"
      ]
     },
     "metadata": {},
     "output_type": "display_data"
    },
    {
     "name": "stdout",
     "output_type": "stream",
     "text": [
      "Normal :  (27, 24370)\n"
     ]
    },
    {
     "data": {
      "text/plain": [
       "(27, 24368)"
      ]
     },
     "metadata": {},
     "output_type": "display_data"
    },
    {
     "data": {
      "text/plain": [
       "(27, 66)"
      ]
     },
     "metadata": {},
     "output_type": "display_data"
    },
    {
     "name": "stdout",
     "output_type": "stream",
     "text": [
      "Basal :  (8, 24370)\n"
     ]
    },
    {
     "data": {
      "text/plain": [
       "(8, 24368)"
      ]
     },
     "metadata": {},
     "output_type": "display_data"
    },
    {
     "data": {
      "text/plain": [
       "(8, 95)"
      ]
     },
     "metadata": {},
     "output_type": "display_data"
    },
    {
     "name": "stderr",
     "output_type": "stream",
     "text": [
      " 70%|██████████████████████████████████████████████████████████▍                        | 50/71 [02:04<01:02,  2.98s/it]"
     ]
    },
    {
     "name": "stdout",
     "output_type": "stream",
     "text": [
      "++++++++++++++++++++++++++++++++++++++++++++++++++++++++++++++++++++++++++++++++++++++++++++++++++++\n",
      "75\n",
      "claudin-low :  (22, 24370)\n"
     ]
    },
    {
     "data": {
      "text/plain": [
       "(22, 24368)"
      ]
     },
     "metadata": {},
     "output_type": "display_data"
    },
    {
     "data": {
      "text/plain": [
       "(22, 90)"
      ]
     },
     "metadata": {},
     "output_type": "display_data"
    },
    {
     "name": "stdout",
     "output_type": "stream",
     "text": [
      "LumA :  (119, 24370)\n"
     ]
    },
    {
     "data": {
      "text/plain": [
       "(119, 24368)"
      ]
     },
     "metadata": {},
     "output_type": "display_data"
    },
    {
     "data": {
      "text/plain": [
       "(119, 290)"
      ]
     },
     "metadata": {},
     "output_type": "display_data"
    },
    {
     "name": "stdout",
     "output_type": "stream",
     "text": [
      "LumB :  (87, 24370)\n"
     ]
    },
    {
     "data": {
      "text/plain": [
       "(87, 24368)"
      ]
     },
     "metadata": {},
     "output_type": "display_data"
    },
    {
     "data": {
      "text/plain": [
       "(87, 209)"
      ]
     },
     "metadata": {},
     "output_type": "display_data"
    },
    {
     "name": "stdout",
     "output_type": "stream",
     "text": [
      "Her2 :  (29, 24370)\n"
     ]
    },
    {
     "data": {
      "text/plain": [
       "(29, 24368)"
      ]
     },
     "metadata": {},
     "output_type": "display_data"
    },
    {
     "data": {
      "text/plain": [
       "(29, 103)"
      ]
     },
     "metadata": {},
     "output_type": "display_data"
    },
    {
     "name": "stdout",
     "output_type": "stream",
     "text": [
      "Normal :  (27, 24370)\n"
     ]
    },
    {
     "data": {
      "text/plain": [
       "(27, 24368)"
      ]
     },
     "metadata": {},
     "output_type": "display_data"
    },
    {
     "data": {
      "text/plain": [
       "(27, 68)"
      ]
     },
     "metadata": {},
     "output_type": "display_data"
    },
    {
     "name": "stdout",
     "output_type": "stream",
     "text": [
      "Basal :  (8, 24370)\n"
     ]
    },
    {
     "data": {
      "text/plain": [
       "(8, 24368)"
      ]
     },
     "metadata": {},
     "output_type": "display_data"
    },
    {
     "data": {
      "text/plain": [
       "(8, 97)"
      ]
     },
     "metadata": {},
     "output_type": "display_data"
    },
    {
     "name": "stderr",
     "output_type": "stream",
     "text": [
      " 72%|███████████████████████████████████████████████████████████▌                       | 51/71 [02:07<01:00,  3.03s/it]"
     ]
    },
    {
     "name": "stdout",
     "output_type": "stream",
     "text": [
      "++++++++++++++++++++++++++++++++++++++++++++++++++++++++++++++++++++++++++++++++++++++++++++++++++++\n",
      "76\n",
      "claudin-low :  (22, 24370)\n"
     ]
    },
    {
     "data": {
      "text/plain": [
       "(22, 24368)"
      ]
     },
     "metadata": {},
     "output_type": "display_data"
    },
    {
     "data": {
      "text/plain": [
       "(22, 93)"
      ]
     },
     "metadata": {},
     "output_type": "display_data"
    },
    {
     "name": "stdout",
     "output_type": "stream",
     "text": [
      "LumA :  (119, 24370)\n"
     ]
    },
    {
     "data": {
      "text/plain": [
       "(119, 24368)"
      ]
     },
     "metadata": {},
     "output_type": "display_data"
    },
    {
     "data": {
      "text/plain": [
       "(119, 300)"
      ]
     },
     "metadata": {},
     "output_type": "display_data"
    },
    {
     "name": "stdout",
     "output_type": "stream",
     "text": [
      "LumB :  (87, 24370)\n"
     ]
    },
    {
     "data": {
      "text/plain": [
       "(87, 24368)"
      ]
     },
     "metadata": {},
     "output_type": "display_data"
    },
    {
     "data": {
      "text/plain": [
       "(87, 216)"
      ]
     },
     "metadata": {},
     "output_type": "display_data"
    },
    {
     "name": "stdout",
     "output_type": "stream",
     "text": [
      "Her2 :  (29, 24370)\n"
     ]
    },
    {
     "data": {
      "text/plain": [
       "(29, 24368)"
      ]
     },
     "metadata": {},
     "output_type": "display_data"
    },
    {
     "data": {
      "text/plain": [
       "(29, 107)"
      ]
     },
     "metadata": {},
     "output_type": "display_data"
    },
    {
     "name": "stdout",
     "output_type": "stream",
     "text": [
      "Normal :  (27, 24370)\n"
     ]
    },
    {
     "data": {
      "text/plain": [
       "(27, 24368)"
      ]
     },
     "metadata": {},
     "output_type": "display_data"
    },
    {
     "data": {
      "text/plain": [
       "(27, 70)"
      ]
     },
     "metadata": {},
     "output_type": "display_data"
    },
    {
     "name": "stdout",
     "output_type": "stream",
     "text": [
      "Basal :  (8, 24370)\n"
     ]
    },
    {
     "data": {
      "text/plain": [
       "(8, 24368)"
      ]
     },
     "metadata": {},
     "output_type": "display_data"
    },
    {
     "data": {
      "text/plain": [
       "(8, 100)"
      ]
     },
     "metadata": {},
     "output_type": "display_data"
    },
    {
     "name": "stderr",
     "output_type": "stream",
     "text": [
      " 73%|████████████████████████████████████████████████████████████▊                      | 52/71 [02:10<00:57,  3.03s/it]"
     ]
    },
    {
     "name": "stdout",
     "output_type": "stream",
     "text": [
      "++++++++++++++++++++++++++++++++++++++++++++++++++++++++++++++++++++++++++++++++++++++++++++++++++++\n",
      "77\n",
      "claudin-low :  (22, 24370)\n"
     ]
    },
    {
     "data": {
      "text/plain": [
       "(22, 24368)"
      ]
     },
     "metadata": {},
     "output_type": "display_data"
    },
    {
     "data": {
      "text/plain": [
       "(22, 96)"
      ]
     },
     "metadata": {},
     "output_type": "display_data"
    },
    {
     "name": "stdout",
     "output_type": "stream",
     "text": [
      "LumA :  (119, 24370)\n"
     ]
    },
    {
     "data": {
      "text/plain": [
       "(119, 24368)"
      ]
     },
     "metadata": {},
     "output_type": "display_data"
    },
    {
     "data": {
      "text/plain": [
       "(119, 310)"
      ]
     },
     "metadata": {},
     "output_type": "display_data"
    },
    {
     "name": "stdout",
     "output_type": "stream",
     "text": [
      "LumB :  (87, 24370)\n"
     ]
    },
    {
     "data": {
      "text/plain": [
       "(87, 24368)"
      ]
     },
     "metadata": {},
     "output_type": "display_data"
    },
    {
     "data": {
      "text/plain": [
       "(87, 223)"
      ]
     },
     "metadata": {},
     "output_type": "display_data"
    },
    {
     "name": "stdout",
     "output_type": "stream",
     "text": [
      "Her2 :  (29, 24370)\n"
     ]
    },
    {
     "data": {
      "text/plain": [
       "(29, 24368)"
      ]
     },
     "metadata": {},
     "output_type": "display_data"
    },
    {
     "data": {
      "text/plain": [
       "(29, 110)"
      ]
     },
     "metadata": {},
     "output_type": "display_data"
    },
    {
     "name": "stdout",
     "output_type": "stream",
     "text": [
      "Normal :  (27, 24370)\n"
     ]
    },
    {
     "data": {
      "text/plain": [
       "(27, 24368)"
      ]
     },
     "metadata": {},
     "output_type": "display_data"
    },
    {
     "data": {
      "text/plain": [
       "(27, 72)"
      ]
     },
     "metadata": {},
     "output_type": "display_data"
    },
    {
     "name": "stdout",
     "output_type": "stream",
     "text": [
      "Basal :  (8, 24370)\n"
     ]
    },
    {
     "data": {
      "text/plain": [
       "(8, 24368)"
      ]
     },
     "metadata": {},
     "output_type": "display_data"
    },
    {
     "data": {
      "text/plain": [
       "(8, 103)"
      ]
     },
     "metadata": {},
     "output_type": "display_data"
    },
    {
     "name": "stderr",
     "output_type": "stream",
     "text": [
      " 75%|█████████████████████████████████████████████████████████████▉                     | 53/71 [02:13<00:55,  3.06s/it]"
     ]
    },
    {
     "name": "stdout",
     "output_type": "stream",
     "text": [
      "++++++++++++++++++++++++++++++++++++++++++++++++++++++++++++++++++++++++++++++++++++++++++++++++++++\n",
      "78\n",
      "claudin-low :  (22, 24370)\n"
     ]
    },
    {
     "data": {
      "text/plain": [
       "(22, 24368)"
      ]
     },
     "metadata": {},
     "output_type": "display_data"
    },
    {
     "data": {
      "text/plain": [
       "(22, 99)"
      ]
     },
     "metadata": {},
     "output_type": "display_data"
    },
    {
     "name": "stdout",
     "output_type": "stream",
     "text": [
      "LumA :  (119, 24370)\n"
     ]
    },
    {
     "data": {
      "text/plain": [
       "(119, 24368)"
      ]
     },
     "metadata": {},
     "output_type": "display_data"
    },
    {
     "data": {
      "text/plain": [
       "(119, 320)"
      ]
     },
     "metadata": {},
     "output_type": "display_data"
    },
    {
     "name": "stdout",
     "output_type": "stream",
     "text": [
      "LumB :  (87, 24370)\n"
     ]
    },
    {
     "data": {
      "text/plain": [
       "(87, 24368)"
      ]
     },
     "metadata": {},
     "output_type": "display_data"
    },
    {
     "data": {
      "text/plain": [
       "(87, 230)"
      ]
     },
     "metadata": {},
     "output_type": "display_data"
    },
    {
     "name": "stdout",
     "output_type": "stream",
     "text": [
      "Her2 :  (29, 24370)\n"
     ]
    },
    {
     "data": {
      "text/plain": [
       "(29, 24368)"
      ]
     },
     "metadata": {},
     "output_type": "display_data"
    },
    {
     "data": {
      "text/plain": [
       "(29, 113)"
      ]
     },
     "metadata": {},
     "output_type": "display_data"
    },
    {
     "name": "stdout",
     "output_type": "stream",
     "text": [
      "Normal :  (27, 24370)\n"
     ]
    },
    {
     "data": {
      "text/plain": [
       "(27, 24368)"
      ]
     },
     "metadata": {},
     "output_type": "display_data"
    },
    {
     "data": {
      "text/plain": [
       "(27, 74)"
      ]
     },
     "metadata": {},
     "output_type": "display_data"
    },
    {
     "name": "stdout",
     "output_type": "stream",
     "text": [
      "Basal :  (8, 24370)\n"
     ]
    },
    {
     "data": {
      "text/plain": [
       "(8, 24368)"
      ]
     },
     "metadata": {},
     "output_type": "display_data"
    },
    {
     "data": {
      "text/plain": [
       "(8, 105)"
      ]
     },
     "metadata": {},
     "output_type": "display_data"
    },
    {
     "name": "stderr",
     "output_type": "stream",
     "text": [
      " 76%|███████████████████████████████████████████████████████████████▏                   | 54/71 [02:16<00:51,  3.01s/it]"
     ]
    },
    {
     "name": "stdout",
     "output_type": "stream",
     "text": [
      "++++++++++++++++++++++++++++++++++++++++++++++++++++++++++++++++++++++++++++++++++++++++++++++++++++\n",
      "79\n",
      "claudin-low :  (22, 24370)\n"
     ]
    },
    {
     "data": {
      "text/plain": [
       "(22, 24368)"
      ]
     },
     "metadata": {},
     "output_type": "display_data"
    },
    {
     "data": {
      "text/plain": [
       "(22, 102)"
      ]
     },
     "metadata": {},
     "output_type": "display_data"
    },
    {
     "name": "stdout",
     "output_type": "stream",
     "text": [
      "LumA :  (119, 24370)\n"
     ]
    },
    {
     "data": {
      "text/plain": [
       "(119, 24368)"
      ]
     },
     "metadata": {},
     "output_type": "display_data"
    },
    {
     "data": {
      "text/plain": [
       "(119, 331)"
      ]
     },
     "metadata": {},
     "output_type": "display_data"
    },
    {
     "name": "stdout",
     "output_type": "stream",
     "text": [
      "LumB :  (87, 24370)\n"
     ]
    },
    {
     "data": {
      "text/plain": [
       "(87, 24368)"
      ]
     },
     "metadata": {},
     "output_type": "display_data"
    },
    {
     "data": {
      "text/plain": [
       "(87, 237)"
      ]
     },
     "metadata": {},
     "output_type": "display_data"
    },
    {
     "name": "stdout",
     "output_type": "stream",
     "text": [
      "Her2 :  (29, 24370)\n"
     ]
    },
    {
     "data": {
      "text/plain": [
       "(29, 24368)"
      ]
     },
     "metadata": {},
     "output_type": "display_data"
    },
    {
     "data": {
      "text/plain": [
       "(29, 116)"
      ]
     },
     "metadata": {},
     "output_type": "display_data"
    },
    {
     "name": "stdout",
     "output_type": "stream",
     "text": [
      "Normal :  (27, 24370)\n"
     ]
    },
    {
     "data": {
      "text/plain": [
       "(27, 24368)"
      ]
     },
     "metadata": {},
     "output_type": "display_data"
    },
    {
     "data": {
      "text/plain": [
       "(27, 76)"
      ]
     },
     "metadata": {},
     "output_type": "display_data"
    },
    {
     "name": "stdout",
     "output_type": "stream",
     "text": [
      "Basal :  (8, 24370)\n"
     ]
    },
    {
     "data": {
      "text/plain": [
       "(8, 24368)"
      ]
     },
     "metadata": {},
     "output_type": "display_data"
    },
    {
     "data": {
      "text/plain": [
       "(8, 108)"
      ]
     },
     "metadata": {},
     "output_type": "display_data"
    },
    {
     "name": "stderr",
     "output_type": "stream",
     "text": [
      " 77%|████████████████████████████████████████████████████████████████▎                  | 55/71 [02:19<00:48,  3.06s/it]"
     ]
    },
    {
     "name": "stdout",
     "output_type": "stream",
     "text": [
      "++++++++++++++++++++++++++++++++++++++++++++++++++++++++++++++++++++++++++++++++++++++++++++++++++++\n",
      "80\n",
      "claudin-low :  (22, 24370)\n"
     ]
    },
    {
     "data": {
      "text/plain": [
       "(22, 24368)"
      ]
     },
     "metadata": {},
     "output_type": "display_data"
    },
    {
     "data": {
      "text/plain": [
       "(22, 105)"
      ]
     },
     "metadata": {},
     "output_type": "display_data"
    },
    {
     "name": "stdout",
     "output_type": "stream",
     "text": [
      "LumA :  (119, 24370)\n"
     ]
    },
    {
     "data": {
      "text/plain": [
       "(119, 24368)"
      ]
     },
     "metadata": {},
     "output_type": "display_data"
    },
    {
     "data": {
      "text/plain": [
       "(119, 341)"
      ]
     },
     "metadata": {},
     "output_type": "display_data"
    },
    {
     "name": "stdout",
     "output_type": "stream",
     "text": [
      "LumB :  (87, 24370)\n"
     ]
    },
    {
     "data": {
      "text/plain": [
       "(87, 24368)"
      ]
     },
     "metadata": {},
     "output_type": "display_data"
    },
    {
     "data": {
      "text/plain": [
       "(87, 244)"
      ]
     },
     "metadata": {},
     "output_type": "display_data"
    },
    {
     "name": "stdout",
     "output_type": "stream",
     "text": [
      "Her2 :  (29, 24370)\n"
     ]
    },
    {
     "data": {
      "text/plain": [
       "(29, 24368)"
      ]
     },
     "metadata": {},
     "output_type": "display_data"
    },
    {
     "data": {
      "text/plain": [
       "(29, 119)"
      ]
     },
     "metadata": {},
     "output_type": "display_data"
    },
    {
     "name": "stdout",
     "output_type": "stream",
     "text": [
      "Normal :  (27, 24370)\n"
     ]
    },
    {
     "data": {
      "text/plain": [
       "(27, 24368)"
      ]
     },
     "metadata": {},
     "output_type": "display_data"
    },
    {
     "data": {
      "text/plain": [
       "(27, 78)"
      ]
     },
     "metadata": {},
     "output_type": "display_data"
    },
    {
     "name": "stdout",
     "output_type": "stream",
     "text": [
      "Basal :  (8, 24370)\n"
     ]
    },
    {
     "data": {
      "text/plain": [
       "(8, 24368)"
      ]
     },
     "metadata": {},
     "output_type": "display_data"
    },
    {
     "data": {
      "text/plain": [
       "(8, 111)"
      ]
     },
     "metadata": {},
     "output_type": "display_data"
    },
    {
     "name": "stderr",
     "output_type": "stream",
     "text": [
      " 79%|█████████████████████████████████████████████████████████████████▍                 | 56/71 [02:23<00:46,  3.09s/it]"
     ]
    },
    {
     "name": "stdout",
     "output_type": "stream",
     "text": [
      "++++++++++++++++++++++++++++++++++++++++++++++++++++++++++++++++++++++++++++++++++++++++++++++++++++\n",
      "81\n",
      "claudin-low :  (22, 24370)\n"
     ]
    },
    {
     "data": {
      "text/plain": [
       "(22, 24368)"
      ]
     },
     "metadata": {},
     "output_type": "display_data"
    },
    {
     "data": {
      "text/plain": [
       "(22, 108)"
      ]
     },
     "metadata": {},
     "output_type": "display_data"
    },
    {
     "name": "stdout",
     "output_type": "stream",
     "text": [
      "LumA :  (119, 24370)\n"
     ]
    },
    {
     "data": {
      "text/plain": [
       "(119, 24368)"
      ]
     },
     "metadata": {},
     "output_type": "display_data"
    },
    {
     "data": {
      "text/plain": [
       "(119, 352)"
      ]
     },
     "metadata": {},
     "output_type": "display_data"
    },
    {
     "name": "stdout",
     "output_type": "stream",
     "text": [
      "LumB :  (87, 24370)\n"
     ]
    },
    {
     "data": {
      "text/plain": [
       "(87, 24368)"
      ]
     },
     "metadata": {},
     "output_type": "display_data"
    },
    {
     "data": {
      "text/plain": [
       "(87, 251)"
      ]
     },
     "metadata": {},
     "output_type": "display_data"
    },
    {
     "name": "stdout",
     "output_type": "stream",
     "text": [
      "Her2 :  (29, 24370)\n"
     ]
    },
    {
     "data": {
      "text/plain": [
       "(29, 24368)"
      ]
     },
     "metadata": {},
     "output_type": "display_data"
    },
    {
     "data": {
      "text/plain": [
       "(29, 122)"
      ]
     },
     "metadata": {},
     "output_type": "display_data"
    },
    {
     "name": "stdout",
     "output_type": "stream",
     "text": [
      "Normal :  (27, 24370)\n"
     ]
    },
    {
     "data": {
      "text/plain": [
       "(27, 24368)"
      ]
     },
     "metadata": {},
     "output_type": "display_data"
    },
    {
     "data": {
      "text/plain": [
       "(27, 80)"
      ]
     },
     "metadata": {},
     "output_type": "display_data"
    },
    {
     "name": "stdout",
     "output_type": "stream",
     "text": [
      "Basal :  (8, 24370)\n"
     ]
    },
    {
     "data": {
      "text/plain": [
       "(8, 24368)"
      ]
     },
     "metadata": {},
     "output_type": "display_data"
    },
    {
     "data": {
      "text/plain": [
       "(8, 114)"
      ]
     },
     "metadata": {},
     "output_type": "display_data"
    },
    {
     "name": "stderr",
     "output_type": "stream",
     "text": [
      " 80%|██████████████████████████████████████████████████████████████████▋                | 57/71 [02:26<00:44,  3.17s/it]"
     ]
    },
    {
     "name": "stdout",
     "output_type": "stream",
     "text": [
      "++++++++++++++++++++++++++++++++++++++++++++++++++++++++++++++++++++++++++++++++++++++++++++++++++++\n",
      "82\n",
      "claudin-low :  (22, 24370)\n"
     ]
    },
    {
     "data": {
      "text/plain": [
       "(22, 24368)"
      ]
     },
     "metadata": {},
     "output_type": "display_data"
    },
    {
     "data": {
      "text/plain": [
       "(22, 111)"
      ]
     },
     "metadata": {},
     "output_type": "display_data"
    },
    {
     "name": "stdout",
     "output_type": "stream",
     "text": [
      "LumA :  (119, 24370)\n"
     ]
    },
    {
     "data": {
      "text/plain": [
       "(119, 24368)"
      ]
     },
     "metadata": {},
     "output_type": "display_data"
    },
    {
     "data": {
      "text/plain": [
       "(119, 363)"
      ]
     },
     "metadata": {},
     "output_type": "display_data"
    },
    {
     "name": "stdout",
     "output_type": "stream",
     "text": [
      "LumB :  (87, 24370)\n"
     ]
    },
    {
     "data": {
      "text/plain": [
       "(87, 24368)"
      ]
     },
     "metadata": {},
     "output_type": "display_data"
    },
    {
     "data": {
      "text/plain": [
       "(87, 258)"
      ]
     },
     "metadata": {},
     "output_type": "display_data"
    },
    {
     "name": "stdout",
     "output_type": "stream",
     "text": [
      "Her2 :  (29, 24370)\n"
     ]
    },
    {
     "data": {
      "text/plain": [
       "(29, 24368)"
      ]
     },
     "metadata": {},
     "output_type": "display_data"
    },
    {
     "data": {
      "text/plain": [
       "(29, 126)"
      ]
     },
     "metadata": {},
     "output_type": "display_data"
    },
    {
     "name": "stdout",
     "output_type": "stream",
     "text": [
      "Normal :  (27, 24370)\n"
     ]
    },
    {
     "data": {
      "text/plain": [
       "(27, 24368)"
      ]
     },
     "metadata": {},
     "output_type": "display_data"
    },
    {
     "data": {
      "text/plain": [
       "(27, 82)"
      ]
     },
     "metadata": {},
     "output_type": "display_data"
    },
    {
     "name": "stdout",
     "output_type": "stream",
     "text": [
      "Basal :  (8, 24370)\n"
     ]
    },
    {
     "data": {
      "text/plain": [
       "(8, 24368)"
      ]
     },
     "metadata": {},
     "output_type": "display_data"
    },
    {
     "data": {
      "text/plain": [
       "(8, 117)"
      ]
     },
     "metadata": {},
     "output_type": "display_data"
    },
    {
     "name": "stderr",
     "output_type": "stream",
     "text": [
      " 82%|███████████████████████████████████████████████████████████████████▊               | 58/71 [02:29<00:41,  3.22s/it]"
     ]
    },
    {
     "name": "stdout",
     "output_type": "stream",
     "text": [
      "++++++++++++++++++++++++++++++++++++++++++++++++++++++++++++++++++++++++++++++++++++++++++++++++++++\n",
      "83\n",
      "claudin-low :  (22, 24370)\n"
     ]
    },
    {
     "data": {
      "text/plain": [
       "(22, 24368)"
      ]
     },
     "metadata": {},
     "output_type": "display_data"
    },
    {
     "data": {
      "text/plain": [
       "(22, 114)"
      ]
     },
     "metadata": {},
     "output_type": "display_data"
    },
    {
     "name": "stdout",
     "output_type": "stream",
     "text": [
      "LumA :  (119, 24370)\n"
     ]
    },
    {
     "data": {
      "text/plain": [
       "(119, 24368)"
      ]
     },
     "metadata": {},
     "output_type": "display_data"
    },
    {
     "data": {
      "text/plain": [
       "(119, 374)"
      ]
     },
     "metadata": {},
     "output_type": "display_data"
    },
    {
     "name": "stdout",
     "output_type": "stream",
     "text": [
      "LumB :  (87, 24370)\n"
     ]
    },
    {
     "data": {
      "text/plain": [
       "(87, 24368)"
      ]
     },
     "metadata": {},
     "output_type": "display_data"
    },
    {
     "data": {
      "text/plain": [
       "(87, 265)"
      ]
     },
     "metadata": {},
     "output_type": "display_data"
    },
    {
     "name": "stdout",
     "output_type": "stream",
     "text": [
      "Her2 :  (29, 24370)\n"
     ]
    },
    {
     "data": {
      "text/plain": [
       "(29, 24368)"
      ]
     },
     "metadata": {},
     "output_type": "display_data"
    },
    {
     "data": {
      "text/plain": [
       "(29, 129)"
      ]
     },
     "metadata": {},
     "output_type": "display_data"
    },
    {
     "name": "stdout",
     "output_type": "stream",
     "text": [
      "Normal :  (27, 24370)\n"
     ]
    },
    {
     "data": {
      "text/plain": [
       "(27, 24368)"
      ]
     },
     "metadata": {},
     "output_type": "display_data"
    },
    {
     "data": {
      "text/plain": [
       "(27, 84)"
      ]
     },
     "metadata": {},
     "output_type": "display_data"
    },
    {
     "name": "stdout",
     "output_type": "stream",
     "text": [
      "Basal :  (8, 24370)\n"
     ]
    },
    {
     "data": {
      "text/plain": [
       "(8, 24368)"
      ]
     },
     "metadata": {},
     "output_type": "display_data"
    },
    {
     "data": {
      "text/plain": [
       "(8, 120)"
      ]
     },
     "metadata": {},
     "output_type": "display_data"
    },
    {
     "name": "stderr",
     "output_type": "stream",
     "text": [
      " 83%|████████████████████████████████████████████████████████████████████▉              | 59/71 [02:33<00:38,  3.25s/it]"
     ]
    },
    {
     "name": "stdout",
     "output_type": "stream",
     "text": [
      "++++++++++++++++++++++++++++++++++++++++++++++++++++++++++++++++++++++++++++++++++++++++++++++++++++\n",
      "84\n",
      "claudin-low :  (22, 24370)\n"
     ]
    },
    {
     "data": {
      "text/plain": [
       "(22, 24368)"
      ]
     },
     "metadata": {},
     "output_type": "display_data"
    },
    {
     "data": {
      "text/plain": [
       "(22, 117)"
      ]
     },
     "metadata": {},
     "output_type": "display_data"
    },
    {
     "name": "stdout",
     "output_type": "stream",
     "text": [
      "LumA :  (119, 24370)\n"
     ]
    },
    {
     "data": {
      "text/plain": [
       "(119, 24368)"
      ]
     },
     "metadata": {},
     "output_type": "display_data"
    },
    {
     "data": {
      "text/plain": [
       "(119, 386)"
      ]
     },
     "metadata": {},
     "output_type": "display_data"
    },
    {
     "name": "stdout",
     "output_type": "stream",
     "text": [
      "LumB :  (87, 24370)\n"
     ]
    },
    {
     "data": {
      "text/plain": [
       "(87, 24368)"
      ]
     },
     "metadata": {},
     "output_type": "display_data"
    },
    {
     "data": {
      "text/plain": [
       "(87, 273)"
      ]
     },
     "metadata": {},
     "output_type": "display_data"
    },
    {
     "name": "stdout",
     "output_type": "stream",
     "text": [
      "Her2 :  (29, 24370)\n"
     ]
    },
    {
     "data": {
      "text/plain": [
       "(29, 24368)"
      ]
     },
     "metadata": {},
     "output_type": "display_data"
    },
    {
     "data": {
      "text/plain": [
       "(29, 132)"
      ]
     },
     "metadata": {},
     "output_type": "display_data"
    },
    {
     "name": "stdout",
     "output_type": "stream",
     "text": [
      "Normal :  (27, 24370)\n"
     ]
    },
    {
     "data": {
      "text/plain": [
       "(27, 24368)"
      ]
     },
     "metadata": {},
     "output_type": "display_data"
    },
    {
     "data": {
      "text/plain": [
       "(27, 86)"
      ]
     },
     "metadata": {},
     "output_type": "display_data"
    },
    {
     "name": "stdout",
     "output_type": "stream",
     "text": [
      "Basal :  (8, 24370)\n"
     ]
    },
    {
     "data": {
      "text/plain": [
       "(8, 24368)"
      ]
     },
     "metadata": {},
     "output_type": "display_data"
    },
    {
     "data": {
      "text/plain": [
       "(8, 123)"
      ]
     },
     "metadata": {},
     "output_type": "display_data"
    },
    {
     "name": "stderr",
     "output_type": "stream",
     "text": [
      " 85%|██████████████████████████████████████████████████████████████████████▏            | 60/71 [02:36<00:36,  3.29s/it]"
     ]
    },
    {
     "name": "stdout",
     "output_type": "stream",
     "text": [
      "++++++++++++++++++++++++++++++++++++++++++++++++++++++++++++++++++++++++++++++++++++++++++++++++++++\n",
      "85\n",
      "claudin-low :  (22, 24370)\n"
     ]
    },
    {
     "data": {
      "text/plain": [
       "(22, 24368)"
      ]
     },
     "metadata": {},
     "output_type": "display_data"
    },
    {
     "data": {
      "text/plain": [
       "(22, 120)"
      ]
     },
     "metadata": {},
     "output_type": "display_data"
    },
    {
     "name": "stdout",
     "output_type": "stream",
     "text": [
      "LumA :  (119, 24370)\n"
     ]
    },
    {
     "data": {
      "text/plain": [
       "(119, 24368)"
      ]
     },
     "metadata": {},
     "output_type": "display_data"
    },
    {
     "data": {
      "text/plain": [
       "(119, 397)"
      ]
     },
     "metadata": {},
     "output_type": "display_data"
    },
    {
     "name": "stdout",
     "output_type": "stream",
     "text": [
      "LumB :  (87, 24370)\n"
     ]
    },
    {
     "data": {
      "text/plain": [
       "(87, 24368)"
      ]
     },
     "metadata": {},
     "output_type": "display_data"
    },
    {
     "data": {
      "text/plain": [
       "(87, 280)"
      ]
     },
     "metadata": {},
     "output_type": "display_data"
    },
    {
     "name": "stdout",
     "output_type": "stream",
     "text": [
      "Her2 :  (29, 24370)\n"
     ]
    },
    {
     "data": {
      "text/plain": [
       "(29, 24368)"
      ]
     },
     "metadata": {},
     "output_type": "display_data"
    },
    {
     "data": {
      "text/plain": [
       "(29, 136)"
      ]
     },
     "metadata": {},
     "output_type": "display_data"
    },
    {
     "name": "stdout",
     "output_type": "stream",
     "text": [
      "Normal :  (27, 24370)\n"
     ]
    },
    {
     "data": {
      "text/plain": [
       "(27, 24368)"
      ]
     },
     "metadata": {},
     "output_type": "display_data"
    },
    {
     "data": {
      "text/plain": [
       "(27, 88)"
      ]
     },
     "metadata": {},
     "output_type": "display_data"
    },
    {
     "name": "stdout",
     "output_type": "stream",
     "text": [
      "Basal :  (8, 24370)\n"
     ]
    },
    {
     "data": {
      "text/plain": [
       "(8, 24368)"
      ]
     },
     "metadata": {},
     "output_type": "display_data"
    },
    {
     "data": {
      "text/plain": [
       "(8, 126)"
      ]
     },
     "metadata": {},
     "output_type": "display_data"
    },
    {
     "name": "stderr",
     "output_type": "stream",
     "text": [
      " 86%|███████████████████████████████████████████████████████████████████████▎           | 61/71 [02:39<00:33,  3.31s/it]"
     ]
    },
    {
     "name": "stdout",
     "output_type": "stream",
     "text": [
      "++++++++++++++++++++++++++++++++++++++++++++++++++++++++++++++++++++++++++++++++++++++++++++++++++++\n",
      "86\n",
      "claudin-low :  (22, 24370)\n"
     ]
    },
    {
     "data": {
      "text/plain": [
       "(22, 24368)"
      ]
     },
     "metadata": {},
     "output_type": "display_data"
    },
    {
     "data": {
      "text/plain": [
       "(22, 124)"
      ]
     },
     "metadata": {},
     "output_type": "display_data"
    },
    {
     "name": "stdout",
     "output_type": "stream",
     "text": [
      "LumA :  (119, 24370)\n"
     ]
    },
    {
     "data": {
      "text/plain": [
       "(119, 24368)"
      ]
     },
     "metadata": {},
     "output_type": "display_data"
    },
    {
     "data": {
      "text/plain": [
       "(119, 409)"
      ]
     },
     "metadata": {},
     "output_type": "display_data"
    },
    {
     "name": "stdout",
     "output_type": "stream",
     "text": [
      "LumB :  (87, 24370)\n"
     ]
    },
    {
     "data": {
      "text/plain": [
       "(87, 24368)"
      ]
     },
     "metadata": {},
     "output_type": "display_data"
    },
    {
     "data": {
      "text/plain": [
       "(87, 288)"
      ]
     },
     "metadata": {},
     "output_type": "display_data"
    },
    {
     "name": "stdout",
     "output_type": "stream",
     "text": [
      "Her2 :  (29, 24370)\n"
     ]
    },
    {
     "data": {
      "text/plain": [
       "(29, 24368)"
      ]
     },
     "metadata": {},
     "output_type": "display_data"
    },
    {
     "data": {
      "text/plain": [
       "(29, 139)"
      ]
     },
     "metadata": {},
     "output_type": "display_data"
    },
    {
     "name": "stdout",
     "output_type": "stream",
     "text": [
      "Normal :  (27, 24370)\n"
     ]
    },
    {
     "data": {
      "text/plain": [
       "(27, 24368)"
      ]
     },
     "metadata": {},
     "output_type": "display_data"
    },
    {
     "data": {
      "text/plain": [
       "(27, 90)"
      ]
     },
     "metadata": {},
     "output_type": "display_data"
    },
    {
     "name": "stdout",
     "output_type": "stream",
     "text": [
      "Basal :  (8, 24370)\n"
     ]
    },
    {
     "data": {
      "text/plain": [
       "(8, 24368)"
      ]
     },
     "metadata": {},
     "output_type": "display_data"
    },
    {
     "data": {
      "text/plain": [
       "(8, 129)"
      ]
     },
     "metadata": {},
     "output_type": "display_data"
    },
    {
     "name": "stderr",
     "output_type": "stream",
     "text": [
      " 87%|████████████████████████████████████████████████████████████████████████▍          | 62/71 [02:43<00:30,  3.40s/it]"
     ]
    },
    {
     "name": "stdout",
     "output_type": "stream",
     "text": [
      "++++++++++++++++++++++++++++++++++++++++++++++++++++++++++++++++++++++++++++++++++++++++++++++++++++\n",
      "87\n",
      "claudin-low :  (22, 24370)\n"
     ]
    },
    {
     "data": {
      "text/plain": [
       "(22, 24368)"
      ]
     },
     "metadata": {},
     "output_type": "display_data"
    },
    {
     "data": {
      "text/plain": [
       "(22, 127)"
      ]
     },
     "metadata": {},
     "output_type": "display_data"
    },
    {
     "name": "stdout",
     "output_type": "stream",
     "text": [
      "LumA :  (119, 24370)\n"
     ]
    },
    {
     "data": {
      "text/plain": [
       "(119, 24368)"
      ]
     },
     "metadata": {},
     "output_type": "display_data"
    },
    {
     "data": {
      "text/plain": [
       "(119, 421)"
      ]
     },
     "metadata": {},
     "output_type": "display_data"
    },
    {
     "name": "stdout",
     "output_type": "stream",
     "text": [
      "LumB :  (87, 24370)\n"
     ]
    },
    {
     "data": {
      "text/plain": [
       "(87, 24368)"
      ]
     },
     "metadata": {},
     "output_type": "display_data"
    },
    {
     "data": {
      "text/plain": [
       "(87, 296)"
      ]
     },
     "metadata": {},
     "output_type": "display_data"
    },
    {
     "name": "stdout",
     "output_type": "stream",
     "text": [
      "Her2 :  (29, 24370)\n"
     ]
    },
    {
     "data": {
      "text/plain": [
       "(29, 24368)"
      ]
     },
     "metadata": {},
     "output_type": "display_data"
    },
    {
     "data": {
      "text/plain": [
       "(29, 143)"
      ]
     },
     "metadata": {},
     "output_type": "display_data"
    },
    {
     "name": "stdout",
     "output_type": "stream",
     "text": [
      "Normal :  (27, 24370)\n"
     ]
    },
    {
     "data": {
      "text/plain": [
       "(27, 24368)"
      ]
     },
     "metadata": {},
     "output_type": "display_data"
    },
    {
     "data": {
      "text/plain": [
       "(27, 92)"
      ]
     },
     "metadata": {},
     "output_type": "display_data"
    },
    {
     "name": "stdout",
     "output_type": "stream",
     "text": [
      "Basal :  (8, 24370)\n"
     ]
    },
    {
     "data": {
      "text/plain": [
       "(8, 24368)"
      ]
     },
     "metadata": {},
     "output_type": "display_data"
    },
    {
     "data": {
      "text/plain": [
       "(8, 132)"
      ]
     },
     "metadata": {},
     "output_type": "display_data"
    },
    {
     "name": "stderr",
     "output_type": "stream",
     "text": [
      " 89%|█████████████████████████████████████████████████████████████████████████▋         | 63/71 [02:46<00:27,  3.43s/it]"
     ]
    },
    {
     "name": "stdout",
     "output_type": "stream",
     "text": [
      "++++++++++++++++++++++++++++++++++++++++++++++++++++++++++++++++++++++++++++++++++++++++++++++++++++\n",
      "88\n",
      "claudin-low :  (22, 24370)\n"
     ]
    },
    {
     "data": {
      "text/plain": [
       "(22, 24368)"
      ]
     },
     "metadata": {},
     "output_type": "display_data"
    },
    {
     "data": {
      "text/plain": [
       "(22, 130)"
      ]
     },
     "metadata": {},
     "output_type": "display_data"
    },
    {
     "name": "stdout",
     "output_type": "stream",
     "text": [
      "LumA :  (119, 24370)\n"
     ]
    },
    {
     "data": {
      "text/plain": [
       "(119, 24368)"
      ]
     },
     "metadata": {},
     "output_type": "display_data"
    },
    {
     "data": {
      "text/plain": [
       "(119, 433)"
      ]
     },
     "metadata": {},
     "output_type": "display_data"
    },
    {
     "name": "stdout",
     "output_type": "stream",
     "text": [
      "LumB :  (87, 24370)\n"
     ]
    },
    {
     "data": {
      "text/plain": [
       "(87, 24368)"
      ]
     },
     "metadata": {},
     "output_type": "display_data"
    },
    {
     "data": {
      "text/plain": [
       "(87, 303)"
      ]
     },
     "metadata": {},
     "output_type": "display_data"
    },
    {
     "name": "stdout",
     "output_type": "stream",
     "text": [
      "Her2 :  (29, 24370)\n"
     ]
    },
    {
     "data": {
      "text/plain": [
       "(29, 24368)"
      ]
     },
     "metadata": {},
     "output_type": "display_data"
    },
    {
     "data": {
      "text/plain": [
       "(29, 147)"
      ]
     },
     "metadata": {},
     "output_type": "display_data"
    },
    {
     "name": "stdout",
     "output_type": "stream",
     "text": [
      "Normal :  (27, 24370)\n"
     ]
    },
    {
     "data": {
      "text/plain": [
       "(27, 24368)"
      ]
     },
     "metadata": {},
     "output_type": "display_data"
    },
    {
     "data": {
      "text/plain": [
       "(27, 95)"
      ]
     },
     "metadata": {},
     "output_type": "display_data"
    },
    {
     "name": "stdout",
     "output_type": "stream",
     "text": [
      "Basal :  (8, 24370)\n"
     ]
    },
    {
     "data": {
      "text/plain": [
       "(8, 24368)"
      ]
     },
     "metadata": {},
     "output_type": "display_data"
    },
    {
     "data": {
      "text/plain": [
       "(8, 135)"
      ]
     },
     "metadata": {},
     "output_type": "display_data"
    },
    {
     "name": "stderr",
     "output_type": "stream",
     "text": [
      " 90%|██████████████████████████████████████████████████████████████████████████▊        | 64/71 [02:50<00:24,  3.51s/it]"
     ]
    },
    {
     "name": "stdout",
     "output_type": "stream",
     "text": [
      "++++++++++++++++++++++++++++++++++++++++++++++++++++++++++++++++++++++++++++++++++++++++++++++++++++\n",
      "89\n",
      "claudin-low :  (22, 24370)\n"
     ]
    },
    {
     "data": {
      "text/plain": [
       "(22, 24368)"
      ]
     },
     "metadata": {},
     "output_type": "display_data"
    },
    {
     "data": {
      "text/plain": [
       "(22, 134)"
      ]
     },
     "metadata": {},
     "output_type": "display_data"
    },
    {
     "name": "stdout",
     "output_type": "stream",
     "text": [
      "LumA :  (119, 24370)\n"
     ]
    },
    {
     "data": {
      "text/plain": [
       "(119, 24368)"
      ]
     },
     "metadata": {},
     "output_type": "display_data"
    },
    {
     "data": {
      "text/plain": [
       "(119, 446)"
      ]
     },
     "metadata": {},
     "output_type": "display_data"
    },
    {
     "name": "stdout",
     "output_type": "stream",
     "text": [
      "LumB :  (87, 24370)\n"
     ]
    },
    {
     "data": {
      "text/plain": [
       "(87, 24368)"
      ]
     },
     "metadata": {},
     "output_type": "display_data"
    },
    {
     "data": {
      "text/plain": [
       "(87, 312)"
      ]
     },
     "metadata": {},
     "output_type": "display_data"
    },
    {
     "name": "stdout",
     "output_type": "stream",
     "text": [
      "Her2 :  (29, 24370)\n"
     ]
    },
    {
     "data": {
      "text/plain": [
       "(29, 24368)"
      ]
     },
     "metadata": {},
     "output_type": "display_data"
    },
    {
     "data": {
      "text/plain": [
       "(29, 150)"
      ]
     },
     "metadata": {},
     "output_type": "display_data"
    },
    {
     "name": "stdout",
     "output_type": "stream",
     "text": [
      "Normal :  (27, 24370)\n"
     ]
    },
    {
     "data": {
      "text/plain": [
       "(27, 24368)"
      ]
     },
     "metadata": {},
     "output_type": "display_data"
    },
    {
     "data": {
      "text/plain": [
       "(27, 97)"
      ]
     },
     "metadata": {},
     "output_type": "display_data"
    },
    {
     "name": "stdout",
     "output_type": "stream",
     "text": [
      "Basal :  (8, 24370)\n"
     ]
    },
    {
     "data": {
      "text/plain": [
       "(8, 24368)"
      ]
     },
     "metadata": {},
     "output_type": "display_data"
    },
    {
     "data": {
      "text/plain": [
       "(8, 139)"
      ]
     },
     "metadata": {},
     "output_type": "display_data"
    },
    {
     "name": "stderr",
     "output_type": "stream",
     "text": [
      " 92%|███████████████████████████████████████████████████████████████████████████▉       | 65/71 [02:54<00:21,  3.59s/it]"
     ]
    },
    {
     "name": "stdout",
     "output_type": "stream",
     "text": [
      "++++++++++++++++++++++++++++++++++++++++++++++++++++++++++++++++++++++++++++++++++++++++++++++++++++\n",
      "90\n",
      "claudin-low :  (22, 24370)\n"
     ]
    },
    {
     "data": {
      "text/plain": [
       "(22, 24368)"
      ]
     },
     "metadata": {},
     "output_type": "display_data"
    },
    {
     "data": {
      "text/plain": [
       "(22, 137)"
      ]
     },
     "metadata": {},
     "output_type": "display_data"
    },
    {
     "name": "stdout",
     "output_type": "stream",
     "text": [
      "LumA :  (119, 24370)\n"
     ]
    },
    {
     "data": {
      "text/plain": [
       "(119, 24368)"
      ]
     },
     "metadata": {},
     "output_type": "display_data"
    },
    {
     "data": {
      "text/plain": [
       "(119, 458)"
      ]
     },
     "metadata": {},
     "output_type": "display_data"
    },
    {
     "name": "stdout",
     "output_type": "stream",
     "text": [
      "LumB :  (87, 24370)\n"
     ]
    },
    {
     "data": {
      "text/plain": [
       "(87, 24368)"
      ]
     },
     "metadata": {},
     "output_type": "display_data"
    },
    {
     "data": {
      "text/plain": [
       "(87, 320)"
      ]
     },
     "metadata": {},
     "output_type": "display_data"
    },
    {
     "name": "stdout",
     "output_type": "stream",
     "text": [
      "Her2 :  (29, 24370)\n"
     ]
    },
    {
     "data": {
      "text/plain": [
       "(29, 24368)"
      ]
     },
     "metadata": {},
     "output_type": "display_data"
    },
    {
     "data": {
      "text/plain": [
       "(29, 154)"
      ]
     },
     "metadata": {},
     "output_type": "display_data"
    },
    {
     "name": "stdout",
     "output_type": "stream",
     "text": [
      "Normal :  (27, 24370)\n"
     ]
    },
    {
     "data": {
      "text/plain": [
       "(27, 24368)"
      ]
     },
     "metadata": {},
     "output_type": "display_data"
    },
    {
     "data": {
      "text/plain": [
       "(27, 99)"
      ]
     },
     "metadata": {},
     "output_type": "display_data"
    },
    {
     "name": "stdout",
     "output_type": "stream",
     "text": [
      "Basal :  (8, 24370)\n"
     ]
    },
    {
     "data": {
      "text/plain": [
       "(8, 24368)"
      ]
     },
     "metadata": {},
     "output_type": "display_data"
    },
    {
     "data": {
      "text/plain": [
       "(8, 142)"
      ]
     },
     "metadata": {},
     "output_type": "display_data"
    },
    {
     "name": "stderr",
     "output_type": "stream",
     "text": [
      " 93%|█████████████████████████████████████████████████████████████████████████████▏     | 66/71 [02:57<00:17,  3.57s/it]"
     ]
    },
    {
     "name": "stdout",
     "output_type": "stream",
     "text": [
      "++++++++++++++++++++++++++++++++++++++++++++++++++++++++++++++++++++++++++++++++++++++++++++++++++++\n",
      "91\n",
      "claudin-low :  (22, 24370)\n"
     ]
    },
    {
     "data": {
      "text/plain": [
       "(22, 24368)"
      ]
     },
     "metadata": {},
     "output_type": "display_data"
    },
    {
     "data": {
      "text/plain": [
       "(22, 141)"
      ]
     },
     "metadata": {},
     "output_type": "display_data"
    },
    {
     "name": "stdout",
     "output_type": "stream",
     "text": [
      "LumA :  (119, 24370)\n"
     ]
    },
    {
     "data": {
      "text/plain": [
       "(119, 24368)"
      ]
     },
     "metadata": {},
     "output_type": "display_data"
    },
    {
     "data": {
      "text/plain": [
       "(119, 471)"
      ]
     },
     "metadata": {},
     "output_type": "display_data"
    },
    {
     "name": "stdout",
     "output_type": "stream",
     "text": [
      "LumB :  (87, 24370)\n"
     ]
    },
    {
     "data": {
      "text/plain": [
       "(87, 24368)"
      ]
     },
     "metadata": {},
     "output_type": "display_data"
    },
    {
     "data": {
      "text/plain": [
       "(87, 328)"
      ]
     },
     "metadata": {},
     "output_type": "display_data"
    },
    {
     "name": "stdout",
     "output_type": "stream",
     "text": [
      "Her2 :  (29, 24370)\n"
     ]
    },
    {
     "data": {
      "text/plain": [
       "(29, 24368)"
      ]
     },
     "metadata": {},
     "output_type": "display_data"
    },
    {
     "data": {
      "text/plain": [
       "(29, 158)"
      ]
     },
     "metadata": {},
     "output_type": "display_data"
    },
    {
     "name": "stdout",
     "output_type": "stream",
     "text": [
      "Normal :  (27, 24370)\n"
     ]
    },
    {
     "data": {
      "text/plain": [
       "(27, 24368)"
      ]
     },
     "metadata": {},
     "output_type": "display_data"
    },
    {
     "data": {
      "text/plain": [
       "(27, 102)"
      ]
     },
     "metadata": {},
     "output_type": "display_data"
    },
    {
     "name": "stdout",
     "output_type": "stream",
     "text": [
      "Basal :  (8, 24370)\n"
     ]
    },
    {
     "data": {
      "text/plain": [
       "(8, 24368)"
      ]
     },
     "metadata": {},
     "output_type": "display_data"
    },
    {
     "data": {
      "text/plain": [
       "(8, 145)"
      ]
     },
     "metadata": {},
     "output_type": "display_data"
    },
    {
     "name": "stderr",
     "output_type": "stream",
     "text": [
      " 94%|██████████████████████████████████████████████████████████████████████████████▎    | 67/71 [03:01<00:14,  3.65s/it]"
     ]
    },
    {
     "name": "stdout",
     "output_type": "stream",
     "text": [
      "++++++++++++++++++++++++++++++++++++++++++++++++++++++++++++++++++++++++++++++++++++++++++++++++++++\n",
      "92\n",
      "claudin-low :  (22, 24370)\n"
     ]
    },
    {
     "data": {
      "text/plain": [
       "(22, 24368)"
      ]
     },
     "metadata": {},
     "output_type": "display_data"
    },
    {
     "data": {
      "text/plain": [
       "(22, 144)"
      ]
     },
     "metadata": {},
     "output_type": "display_data"
    },
    {
     "name": "stdout",
     "output_type": "stream",
     "text": [
      "LumA :  (119, 24370)\n"
     ]
    },
    {
     "data": {
      "text/plain": [
       "(119, 24368)"
      ]
     },
     "metadata": {},
     "output_type": "display_data"
    },
    {
     "data": {
      "text/plain": [
       "(119, 484)"
      ]
     },
     "metadata": {},
     "output_type": "display_data"
    },
    {
     "name": "stdout",
     "output_type": "stream",
     "text": [
      "LumB :  (87, 24370)\n"
     ]
    },
    {
     "data": {
      "text/plain": [
       "(87, 24368)"
      ]
     },
     "metadata": {},
     "output_type": "display_data"
    },
    {
     "data": {
      "text/plain": [
       "(87, 337)"
      ]
     },
     "metadata": {},
     "output_type": "display_data"
    },
    {
     "name": "stdout",
     "output_type": "stream",
     "text": [
      "Her2 :  (29, 24370)\n"
     ]
    },
    {
     "data": {
      "text/plain": [
       "(29, 24368)"
      ]
     },
     "metadata": {},
     "output_type": "display_data"
    },
    {
     "data": {
      "text/plain": [
       "(29, 162)"
      ]
     },
     "metadata": {},
     "output_type": "display_data"
    },
    {
     "name": "stdout",
     "output_type": "stream",
     "text": [
      "Normal :  (27, 24370)\n"
     ]
    },
    {
     "data": {
      "text/plain": [
       "(27, 24368)"
      ]
     },
     "metadata": {},
     "output_type": "display_data"
    },
    {
     "data": {
      "text/plain": [
       "(27, 104)"
      ]
     },
     "metadata": {},
     "output_type": "display_data"
    },
    {
     "name": "stdout",
     "output_type": "stream",
     "text": [
      "Basal :  (8, 24370)\n"
     ]
    },
    {
     "data": {
      "text/plain": [
       "(8, 24368)"
      ]
     },
     "metadata": {},
     "output_type": "display_data"
    },
    {
     "data": {
      "text/plain": [
       "(8, 149)"
      ]
     },
     "metadata": {},
     "output_type": "display_data"
    },
    {
     "name": "stderr",
     "output_type": "stream",
     "text": [
      " 96%|███████████████████████████████████████████████████████████████████████████████▍   | 68/71 [03:05<00:11,  3.79s/it]"
     ]
    },
    {
     "name": "stdout",
     "output_type": "stream",
     "text": [
      "++++++++++++++++++++++++++++++++++++++++++++++++++++++++++++++++++++++++++++++++++++++++++++++++++++\n",
      "93\n",
      "claudin-low :  (22, 24370)\n"
     ]
    },
    {
     "data": {
      "text/plain": [
       "(22, 24368)"
      ]
     },
     "metadata": {},
     "output_type": "display_data"
    },
    {
     "data": {
      "text/plain": [
       "(22, 148)"
      ]
     },
     "metadata": {},
     "output_type": "display_data"
    },
    {
     "name": "stdout",
     "output_type": "stream",
     "text": [
      "LumA :  (119, 24370)\n"
     ]
    },
    {
     "data": {
      "text/plain": [
       "(119, 24368)"
      ]
     },
     "metadata": {},
     "output_type": "display_data"
    },
    {
     "data": {
      "text/plain": [
       "(119, 498)"
      ]
     },
     "metadata": {},
     "output_type": "display_data"
    },
    {
     "name": "stdout",
     "output_type": "stream",
     "text": [
      "LumB :  (87, 24370)\n"
     ]
    },
    {
     "data": {
      "text/plain": [
       "(87, 24368)"
      ]
     },
     "metadata": {},
     "output_type": "display_data"
    },
    {
     "data": {
      "text/plain": [
       "(87, 345)"
      ]
     },
     "metadata": {},
     "output_type": "display_data"
    },
    {
     "name": "stdout",
     "output_type": "stream",
     "text": [
      "Her2 :  (29, 24370)\n"
     ]
    },
    {
     "data": {
      "text/plain": [
       "(29, 24368)"
      ]
     },
     "metadata": {},
     "output_type": "display_data"
    },
    {
     "data": {
      "text/plain": [
       "(29, 166)"
      ]
     },
     "metadata": {},
     "output_type": "display_data"
    },
    {
     "name": "stdout",
     "output_type": "stream",
     "text": [
      "Normal :  (27, 24370)\n"
     ]
    },
    {
     "data": {
      "text/plain": [
       "(27, 24368)"
      ]
     },
     "metadata": {},
     "output_type": "display_data"
    },
    {
     "data": {
      "text/plain": [
       "(27, 107)"
      ]
     },
     "metadata": {},
     "output_type": "display_data"
    },
    {
     "name": "stdout",
     "output_type": "stream",
     "text": [
      "Basal :  (8, 24370)\n"
     ]
    },
    {
     "data": {
      "text/plain": [
       "(8, 24368)"
      ]
     },
     "metadata": {},
     "output_type": "display_data"
    },
    {
     "data": {
      "text/plain": [
       "(8, 152)"
      ]
     },
     "metadata": {},
     "output_type": "display_data"
    },
    {
     "name": "stderr",
     "output_type": "stream",
     "text": [
      " 97%|████████████████████████████████████████████████████████████████████████████████▋  | 69/71 [03:09<00:07,  3.79s/it]"
     ]
    },
    {
     "name": "stdout",
     "output_type": "stream",
     "text": [
      "++++++++++++++++++++++++++++++++++++++++++++++++++++++++++++++++++++++++++++++++++++++++++++++++++++\n",
      "94\n",
      "claudin-low :  (22, 24370)\n"
     ]
    },
    {
     "data": {
      "text/plain": [
       "(22, 24368)"
      ]
     },
     "metadata": {},
     "output_type": "display_data"
    },
    {
     "data": {
      "text/plain": [
       "(22, 152)"
      ]
     },
     "metadata": {},
     "output_type": "display_data"
    },
    {
     "name": "stdout",
     "output_type": "stream",
     "text": [
      "LumA :  (119, 24370)\n"
     ]
    },
    {
     "data": {
      "text/plain": [
       "(119, 24368)"
      ]
     },
     "metadata": {},
     "output_type": "display_data"
    },
    {
     "data": {
      "text/plain": [
       "(119, 512)"
      ]
     },
     "metadata": {},
     "output_type": "display_data"
    },
    {
     "name": "stdout",
     "output_type": "stream",
     "text": [
      "LumB :  (87, 24370)\n"
     ]
    },
    {
     "data": {
      "text/plain": [
       "(87, 24368)"
      ]
     },
     "metadata": {},
     "output_type": "display_data"
    },
    {
     "data": {
      "text/plain": [
       "(87, 354)"
      ]
     },
     "metadata": {},
     "output_type": "display_data"
    },
    {
     "name": "stdout",
     "output_type": "stream",
     "text": [
      "Her2 :  (29, 24370)\n"
     ]
    },
    {
     "data": {
      "text/plain": [
       "(29, 24368)"
      ]
     },
     "metadata": {},
     "output_type": "display_data"
    },
    {
     "data": {
      "text/plain": [
       "(29, 169)"
      ]
     },
     "metadata": {},
     "output_type": "display_data"
    },
    {
     "name": "stdout",
     "output_type": "stream",
     "text": [
      "Normal :  (27, 24370)\n"
     ]
    },
    {
     "data": {
      "text/plain": [
       "(27, 24368)"
      ]
     },
     "metadata": {},
     "output_type": "display_data"
    },
    {
     "data": {
      "text/plain": [
       "(27, 109)"
      ]
     },
     "metadata": {},
     "output_type": "display_data"
    },
    {
     "name": "stdout",
     "output_type": "stream",
     "text": [
      "Basal :  (8, 24370)\n"
     ]
    },
    {
     "data": {
      "text/plain": [
       "(8, 24368)"
      ]
     },
     "metadata": {},
     "output_type": "display_data"
    },
    {
     "data": {
      "text/plain": [
       "(8, 156)"
      ]
     },
     "metadata": {},
     "output_type": "display_data"
    },
    {
     "name": "stderr",
     "output_type": "stream",
     "text": [
      " 99%|█████████████████████████████████████████████████████████████████████████████████▊ | 70/71 [03:13<00:03,  3.83s/it]"
     ]
    },
    {
     "name": "stdout",
     "output_type": "stream",
     "text": [
      "++++++++++++++++++++++++++++++++++++++++++++++++++++++++++++++++++++++++++++++++++++++++++++++++++++\n",
      "95\n",
      "claudin-low :  (22, 24370)\n"
     ]
    },
    {
     "data": {
      "text/plain": [
       "(22, 24368)"
      ]
     },
     "metadata": {},
     "output_type": "display_data"
    },
    {
     "data": {
      "text/plain": [
       "(22, 156)"
      ]
     },
     "metadata": {},
     "output_type": "display_data"
    },
    {
     "name": "stdout",
     "output_type": "stream",
     "text": [
      "LumA :  (119, 24370)\n"
     ]
    },
    {
     "data": {
      "text/plain": [
       "(119, 24368)"
      ]
     },
     "metadata": {},
     "output_type": "display_data"
    },
    {
     "data": {
      "text/plain": [
       "(119, 526)"
      ]
     },
     "metadata": {},
     "output_type": "display_data"
    },
    {
     "name": "stdout",
     "output_type": "stream",
     "text": [
      "LumB :  (87, 24370)\n"
     ]
    },
    {
     "data": {
      "text/plain": [
       "(87, 24368)"
      ]
     },
     "metadata": {},
     "output_type": "display_data"
    },
    {
     "data": {
      "text/plain": [
       "(87, 363)"
      ]
     },
     "metadata": {},
     "output_type": "display_data"
    },
    {
     "name": "stdout",
     "output_type": "stream",
     "text": [
      "Her2 :  (29, 24370)\n"
     ]
    },
    {
     "data": {
      "text/plain": [
       "(29, 24368)"
      ]
     },
     "metadata": {},
     "output_type": "display_data"
    },
    {
     "data": {
      "text/plain": [
       "(29, 174)"
      ]
     },
     "metadata": {},
     "output_type": "display_data"
    },
    {
     "name": "stdout",
     "output_type": "stream",
     "text": [
      "Normal :  (27, 24370)\n"
     ]
    },
    {
     "data": {
      "text/plain": [
       "(27, 24368)"
      ]
     },
     "metadata": {},
     "output_type": "display_data"
    },
    {
     "data": {
      "text/plain": [
       "(27, 112)"
      ]
     },
     "metadata": {},
     "output_type": "display_data"
    },
    {
     "name": "stdout",
     "output_type": "stream",
     "text": [
      "Basal :  (8, 24370)\n"
     ]
    },
    {
     "data": {
      "text/plain": [
       "(8, 24368)"
      ]
     },
     "metadata": {},
     "output_type": "display_data"
    },
    {
     "data": {
      "text/plain": [
       "(8, 159)"
      ]
     },
     "metadata": {},
     "output_type": "display_data"
    },
    {
     "name": "stderr",
     "output_type": "stream",
     "text": [
      "100%|███████████████████████████████████████████████████████████████████████████████████| 71/71 [03:17<00:00,  2.78s/it]\n"
     ]
    }
   ],
   "source": [
    "# 実施したい前処理パイプラインの定義\n",
    "for p in tqdm(range(25, 96)):\n",
    "    print(\"++++++++++\" * 10)\n",
    "    print(p)\n",
    "    PCA_PERCENTILE = p\n",
    "    loop_late_recurrences_data()"
   ]
  },
  {
   "cell_type": "markdown",
   "id": "bdd72851-d28f-4873-88df-933874b7a113",
   "metadata": {},
   "source": [
    "# recheck data shape"
   ]
  },
  {
   "cell_type": "code",
   "execution_count": 36,
   "id": "04b0879c-4d2c-467a-9146-06aa5402506d",
   "metadata": {},
   "outputs": [
    {
     "data": {
      "text/plain": [
       "(1893, 24372)"
      ]
     },
     "execution_count": 36,
     "metadata": {},
     "output_type": "execute_result"
    }
   ],
   "source": [
    "df_recurrenced.shape"
   ]
  },
  {
   "cell_type": "code",
   "execution_count": 37,
   "id": "da2cba26-6e40-4795-bc30-018035b77570",
   "metadata": {},
   "outputs": [
    {
     "data": {
      "text/plain": [
       "False    1126\n",
       "True      767\n",
       "Name: RFS_STATUS, dtype: int64"
      ]
     },
     "execution_count": 37,
     "metadata": {},
     "output_type": "execute_result"
    }
   ],
   "source": [
    "df_recurrenced.RFS_STATUS.value_counts()"
   ]
  },
  {
   "cell_type": "code",
   "execution_count": 38,
   "id": "71e0af69-7715-462f-8cd1-83b92ee03038",
   "metadata": {},
   "outputs": [
    {
     "data": {
      "text/plain": [
       "CLAUDIN_SUBTYPE  RFS_STATUS\n",
       "Basal            False         111\n",
       "                 True           88\n",
       "Her2             True          113\n",
       "                 False         105\n",
       "LumA             False         453\n",
       "                 True          220\n",
       "LumB             False         240\n",
       "                 True          220\n",
       "NC               False           3\n",
       "                 True            3\n",
       "Normal           False          79\n",
       "                 True           61\n",
       "claudin-low      False         135\n",
       "                 True           62\n",
       "Name: RFS_STATUS, dtype: int64"
      ]
     },
     "execution_count": 38,
     "metadata": {},
     "output_type": "execute_result"
    }
   ],
   "source": [
    "df_recurrenced.groupby(\"CLAUDIN_SUBTYPE\").RFS_STATUS.value_counts()"
   ]
  },
  {
   "cell_type": "code",
   "execution_count": 44,
   "id": "65ec25b2-b67a-4a9f-98dd-3a74ee01b26d",
   "metadata": {},
   "outputs": [
    {
     "data": {
      "text/plain": [
       "CLAUDIN_SUBTYPE  RFS_STATUS\n",
       "Basal            True            8\n",
       "Her2             True           29\n",
       "LumA             True          119\n",
       "LumB             True           87\n",
       "NC               True            1\n",
       "Normal           True           27\n",
       "claudin-low      True           22\n",
       "Name: RFS_STATUS, dtype: int64"
      ]
     },
     "execution_count": 44,
     "metadata": {},
     "output_type": "execute_result"
    }
   ],
   "source": [
    "df_recurrenced[\n",
    "    (df_recurrenced.RFS_MONTHS > 60) & (df_recurrenced.RFS_STATUS == True)\n",
    "].groupby(\"CLAUDIN_SUBTYPE\").RFS_STATUS.value_counts()"
   ]
  },
  {
   "cell_type": "code",
   "execution_count": 42,
   "id": "2d7afb0e-6d2c-4dd1-81bf-99e4cbaa637c",
   "metadata": {},
   "outputs": [
    {
     "data": {
      "text/plain": [
       "CLAUDIN_SUBTYPE  RFS_STATUS\n",
       "Basal            True           88\n",
       "Her2             True          113\n",
       "LumA             True          220\n",
       "LumB             True          220\n",
       "NC               True            3\n",
       "Normal           True           61\n",
       "claudin-low      True           62\n",
       "Name: RFS_STATUS, dtype: int64"
      ]
     },
     "execution_count": 42,
     "metadata": {},
     "output_type": "execute_result"
    }
   ],
   "source": [
    "df_recurrenced[(df_recurrenced.RFS_STATUS == True)].groupby(\n",
    "    \"CLAUDIN_SUBTYPE\"\n",
    ").RFS_STATUS.value_counts()"
   ]
  },
  {
   "cell_type": "code",
   "execution_count": null,
   "id": "a1fa2fcb-8de2-4a0c-8eae-33847c0bbe90",
   "metadata": {},
   "outputs": [],
   "source": []
  }
 ],
 "metadata": {
  "kernelspec": {
   "display_name": "Python 3 (ipykernel)",
   "language": "python",
   "name": "python3"
  },
  "language_info": {
   "codemirror_mode": {
    "name": "ipython",
    "version": 3
   },
   "file_extension": ".py",
   "mimetype": "text/x-python",
   "name": "python",
   "nbconvert_exporter": "python",
   "pygments_lexer": "ipython3",
   "version": "3.8.15"
  },
  "vscode": {
   "interpreter": {
    "hash": "729c6a008c18e950aab0d645a0c3f05ac225e5f880cd403acd3456b69cf9d2f2"
   }
  }
 },
 "nbformat": 4,
 "nbformat_minor": 5
}
