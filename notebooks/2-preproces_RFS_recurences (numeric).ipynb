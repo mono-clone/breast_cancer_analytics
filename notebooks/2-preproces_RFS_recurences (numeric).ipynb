{
 "cells": [
  {
   "cell_type": "markdown",
   "id": "fb93b3cc-7680-4f98-812e-608d9bcfda32",
   "metadata": {},
   "source": [
    "# preprocess of recurrence"
   ]
  },
  {
   "cell_type": "code",
   "execution_count": 1,
   "id": "2d992235-d9ef-4a88-a47e-2ed687ece7f1",
   "metadata": {},
   "outputs": [
    {
     "name": "stderr",
     "output_type": "stream",
     "text": [
      "/home/breast-cancer-analytics/notebooks/functions.py:196: FutureWarning: The default dtype for empty Series will be 'object' instead of 'float64' in a future version. Specify a dtype explicitly to silence this warning.\n",
      "  y_train: pd.Series(),\n",
      "/home/breast-cancer-analytics/notebooks/functions.py:198: FutureWarning: The default dtype for empty Series will be 'object' instead of 'float64' in a future version. Specify a dtype explicitly to silence this warning.\n",
      "  y_val: pd.Series(),\n"
     ]
    }
   ],
   "source": [
    "# 基本的なライブラリ\n",
    "import sys\n",
    "from tqdm import tqdm\n",
    "\n",
    "import numpy as np\n",
    "import pandas as pd\n",
    "import matplotlib.pyplot as plt\n",
    "\n",
    "\n",
    "# パイプライン\n",
    "from sklearn.pipeline import Pipeline\n",
    "from sklearn.base import BaseEstimator, TransformerMixin\n",
    "from pipelines import *\n",
    "\n",
    "# データ分割\n",
    "from sklearn.model_selection import train_test_split\n",
    "\n",
    "# スケーリング\n",
    "from sklearn.preprocessing import StandardScaler, MinMaxScaler\n",
    "\n",
    "# 次元削減\n",
    "from sklearn.decomposition import PCA\n",
    "\n",
    "import config\n",
    "import functions\n",
    "\n",
    "SEED = config.SEED\n",
    "functions.fix_seed(SEED)\n",
    "TARGET_NAME = [\"RFS_STATUS\", \"RFS_MONTHS\"]\n",
    "STRATIFY_NAME = \"RFS_STATUS\"\n",
    "%matplotlib inline"
   ]
  },
  {
   "cell_type": "markdown",
   "id": "e8994dbf-0e36-421e-aed3-8cb4e247aded",
   "metadata": {
    "tags": []
   },
   "source": [
    "# データ読み込み"
   ]
  },
  {
   "cell_type": "code",
   "execution_count": 2,
   "id": "af54eb16-b22c-4ec8-b2e2-bd7ce542e6a7",
   "metadata": {},
   "outputs": [],
   "source": [
    "df_patient = pd.read_table(\n",
    "    config.RAW_BRCA_METABRIC_DIR + \"/data_clinical_patient.txt\", header=4\n",
    ")\n",
    "df_sample = pd.read_table(\n",
    "    config.RAW_BRCA_METABRIC_DIR + \"/data_clinical_sample.txt\", header=4\n",
    ")\n",
    "df_clinical = pd.merge(df_patient, df_sample, on=\"PATIENT_ID\")"
   ]
  },
  {
   "cell_type": "markdown",
   "id": "a0c7f963-665a-42c0-a5e0-867c83be3490",
   "metadata": {
    "tags": []
   },
   "source": [
    "## カラムの順序変更（読みやすさのため）"
   ]
  },
  {
   "cell_type": "code",
   "execution_count": 3,
   "id": "e6d8c6c4-0913-4782-beb2-2efb2b7b6843",
   "metadata": {},
   "outputs": [],
   "source": [
    "def align_columns(df: pd.DataFrame, regex: str):\n",
    "    # まとめたいcolumnの正規表現を一時退避\n",
    "    _df = df.copy()\n",
    "    df_tmp = _df.filter(regex=regex)\n",
    "    # 元のdfから落とす\n",
    "    _df.drop(df_tmp.columns, axis=1, inplace=True)\n",
    "    # 元のdfに結合\n",
    "    return pd.merge(_df, df_tmp, right_index=True, left_index=True)\n",
    "\n",
    "\n",
    "def sort_columns_by_knowledge(df):\n",
    "    _df = df.copy()\n",
    "    # 癌の種類\n",
    "    _df = align_columns(_df, \"^CANCER_\")\n",
    "    # 重要そう（直感）な特徴量\n",
    "    _df = align_columns(_df, \"^ER_|^HER2_|^TUMOR_\")\n",
    "    # 治療の種類\n",
    "    _df = align_columns(_df, \".*THERAPY$|^BREAST_SURGERY\")\n",
    "    # target系の種類（OS, RFS, VITAL）\n",
    "    _df = align_columns(_df, \"^OS_.*|^RFS_.*|^VITAL_.*\")\n",
    "    return _df\n",
    "\n",
    "\n",
    "df_clinical = sort_columns_by_knowledge(df_clinical)"
   ]
  },
  {
   "cell_type": "code",
   "execution_count": 4,
   "id": "b6c8d29b-a433-4083-bb05-6f1f277181cc",
   "metadata": {},
   "outputs": [
    {
     "data": {
      "text/plain": [
       "(1985, 35)"
      ]
     },
     "metadata": {},
     "output_type": "display_data"
    },
    {
     "data": {
      "text/plain": [
       "(524, 35)"
      ]
     },
     "metadata": {},
     "output_type": "display_data"
    }
   ],
   "source": [
    "# データを大きく2つに分割できるので、ここで分割\n",
    "df_MB = df_clinical[df_clinical[\"PATIENT_ID\"].str.contains(\"MB\")]\n",
    "df_MTST = df_clinical[df_clinical[\"PATIENT_ID\"].str.contains(\"MTS-T\")]\n",
    "\n",
    "df_MB.set_index(\"PATIENT_ID\", inplace=True)\n",
    "df_MTST.set_index(\"PATIENT_ID\", inplace=True)\n",
    "\n",
    "display(df_MB.shape, df_MTST.shape)\n",
    "# save\n",
    "functions.make_dir(config.INTERIM_PREPROCESSED_RECURRENCE_DIR)\n",
    "df_clinical.to_pickle(config.INTERIM_PREPROCESSED_RECURRENCE_DIR + \"/df_clinical.pkl\")\n",
    "df_MB.to_pickle(config.INTERIM_PREPROCESSED_RECURRENCE_DIR + \"/df_MB.pkl\")\n",
    "df_MTST.to_pickle(config.INTERIM_PREPROCESSED_RECURRENCE_DIR + \"/df_MTST.pkl\")\n",
    "del df_patient, df_sample, df_clinical, df_MB, df_MTST"
   ]
  },
  {
   "cell_type": "markdown",
   "id": "73bca36f-6dc2-4ff9-9da8-8c819d4fb638",
   "metadata": {
    "tags": []
   },
   "source": [
    "## 臨床・遺伝子データの読み込み"
   ]
  },
  {
   "cell_type": "code",
   "execution_count": 5,
   "id": "67529b1e-6763-4afd-984e-07c3e825583a",
   "metadata": {},
   "outputs": [],
   "source": [
    "# 臨床データ\n",
    "df_MB = pd.read_pickle(config.INTERIM_PREPROCESSED_RECURRENCE_DIR + \"/df_MB.pkl\")\n",
    "\n",
    "# 遺伝子発現データ\n",
    "# 生の遺伝子発現データ\n",
    "df_mrna_agilent_microarray = pd.read_table(\n",
    "    config.RAW_BRCA_METABRIC_DIR + \"/data_mrna_agilent_microarray.txt\", index_col=0\n",
    ").T\n",
    "df_mrna_agilent_microarray = df_mrna_agilent_microarray.drop(\n",
    "    \"Entrez_Gene_Id\"\n",
    ").sort_index()"
   ]
  },
  {
   "cell_type": "markdown",
   "id": "fa3b5ac2-d843-4e66-99ff-947f3822a874",
   "metadata": {},
   "source": [
    "# 前処理\n",
    "- 目的変数生成\n",
    "- 特徴量生成\n",
    "- 特徴名のrename \n",
    "- 欠損値の削除\n",
    "\n",
    "\n",
    "## 目的変数の生成\n",
    "\n",
    "目的変数は再発年数（連続値）である。しかし、RFS_STATUSが0の患者は非再発であり、RFS_MONTHSは手術〜最終フォローアップの期間を示している。\n",
    "そこで、非再発患者のRFS_MONTHSは0にする必要がある。\n",
    "\n",
    "## 特徴量生成\n",
    "予測の**層別化に必要な特徴を生成**する。\n",
    "\n",
    "**層別化に必要な特徴**\n",
    "- CLAUDIN_SUBTYPE\n",
    "- NPI\n",
    "- TUMOR_SIZE\n",
    "- LYMPH_NODES_EXAMINED_POSITIVE\n",
    "\n",
    "数値データは層別化のためにカテゴリ化を行う。\n",
    "各カテゴリ化の根拠は以下の通り。\n",
    "- NPI：( ノッティンガムの予後指数：https://en.wikipedia.org/wiki/Nottingham_Prognostic_Index )\n",
    "- TUMOR_SIZE：乳癌のステージの定義( https://oshiete-gan.jp/breast/diagnosis/stages/detail.html )\n",
    "- LYMPH_NODES_EXAMINED_POSITIVE：https://medical.nikkeibp.co.jp/leaf/all/cancernavi/news/201403/535575.html\n",
    "\n",
    "## 特徴量名のrename\n",
    "重複した特徴量は別のものとして扱う\n",
    "\n",
    "\n",
    "## 欠損値の削除\n",
    "- 欠損値が多い→特徴量の削除  \n",
    "- 欠損値が少ない→サンプルの削除"
   ]
  },
  {
   "cell_type": "code",
   "execution_count": 6,
   "id": "e8f54d52-bf1a-41da-a455-2ff21eda8056",
   "metadata": {},
   "outputs": [],
   "source": [
    "def generate_target():\n",
    "    # RFS_STATUS, RFS_MONTHSのnullデータについては患者データを削除する\n",
    "    df_MB.dropna(subset=[\"RFS_STATUS\", \"RFS_MONTHS\"], inplace=True)\n",
    "    # 予測ラベルを扱いやすい形に変更\n",
    "    # scikit-survivalの予測モデルでは、RFS_STATUSがboolである必要がある（イベント発生がTrue, 打ち切りがFalse）\n",
    "    df_MB[\"RFS_STATUS\"] = df_MB[\"RFS_STATUS\"].replace(\n",
    "        {\"1:Recurred\": True, \"0:Not Recurred\": False}\n",
    "    )\n",
    "\n",
    "\n",
    "def generate_features():\n",
    "    df_MB[\"NPI_CAT\"] = pd.cut(\n",
    "        df_MB.NPI,\n",
    "        [0, 2.0, 2.4, 3.4, 5.4, np.inf],\n",
    "        labels=[\"0.0~2.0\", \"2.0~2.4\", \"2.4~3.4\", \"3.4~5.4\", \"5.4~inf\"],\n",
    "    )\n",
    "    df_MB[\"TUMOR_CAT\"] = pd.cut(\n",
    "        df_MB.TUMOR_SIZE, [0, 20, 50, np.inf], labels=[\"0~20\", \"20~50\", \"50~inf\"]\n",
    "    )\n",
    "    df_MB[\"LYMPH_CAT\"] = pd.cut(\n",
    "        df_MB.LYMPH_NODES_EXAMINED_POSITIVE,\n",
    "        [-np.inf, 0, 3, np.inf],\n",
    "        labels=[\"0\", \"1~3\", \"4~inf\"],\n",
    "    )\n",
    "\n",
    "\n",
    "def rename_duplicatged_columns(df):\n",
    "    _df = df.copy()\n",
    "    # 重複特徴量の確認\n",
    "    print(\n",
    "        \"重複特徴名数（rename前）：\",\n",
    "        _df.columns[_df.columns.duplicated()].value_counts().sum(),\n",
    "    )\n",
    "\n",
    "    cols = pd.Series(_df.columns)\n",
    "    for dup in cols[cols.duplicated()].unique():\n",
    "        cols[cols[cols == dup].index.values.tolist()] = [\n",
    "            dup + \"_\" + str(i) if i != 0 else dup for i in range(sum(cols == dup))\n",
    "        ]\n",
    "\n",
    "    # rename the columns with the cols list.\n",
    "    _df.columns = cols\n",
    "    # 重複特徴量の確認\n",
    "    print(\n",
    "        \"重複特徴名数（rename後）：\",\n",
    "        _df.columns[_df.columns.duplicated()].value_counts().sum(),\n",
    "    )\n",
    "    return _df\n",
    "\n",
    "\n",
    "def drop_null4cols(df):\n",
    "    _df = df.copy()\n",
    "    print(\n",
    "        \"欠損値が多い特徴個数：\",\n",
    "        (_df.isnull().sum() > _df.shape[0] // 10).sum(),\n",
    "    )\n",
    "    features = _df.isnull().sum().sort_values()[::-1]\n",
    "    features.plot()\n",
    "\n",
    "    # 多数の欠損値を持つ特徴\n",
    "    many_null_features = features[_df.isnull().sum() > _df.shape[0] // 10].index\n",
    "    # 多数の欠損値を持つ特徴の削除\n",
    "    _df.drop(many_null_features, axis=1, inplace=True)\n",
    "    return _df\n",
    "\n",
    "\n",
    "def drop_null4raws(df):\n",
    "    _df = df.copy()\n",
    "    print(\n",
    "        \"欠損値が少ない特徴個数：\",\n",
    "        ((_df.isnull().sum() < +_df.shape[0] // 10) & (_df.isnull().sum() > 0)).sum(),\n",
    "    )\n",
    "    features = _df.isnull().sum().sort_values()[::-1]\n",
    "    features.plot()\n",
    "\n",
    "    # 少数の欠損値を持つ特徴\n",
    "    few_null_features = features[\n",
    "        (_df.isnull().sum() <= _df.shape[0] // 10) & (_df.isnull().sum() > 0)\n",
    "    ]\n",
    "    # 少数の欠損値の遺伝子発現を持つ患者ID\n",
    "    list_patient_id_contains_null_expressions = list()\n",
    "    for name in few_null_features.index:\n",
    "        for patient_id in _df[_df[name].isnull()].index:\n",
    "            list_patient_id_contains_null_expressions.append(patient_id)\n",
    "\n",
    "    # 少数の欠損値の遺伝子発現を持つ患者の削除\n",
    "    _df.drop(list_patient_id_contains_null_expressions, inplace=True)\n",
    "    return _df"
   ]
  },
  {
   "cell_type": "code",
   "execution_count": 7,
   "id": "3c265983-f227-4faa-86d5-25ac6c2a0671",
   "metadata": {},
   "outputs": [
    {
     "name": "stdout",
     "output_type": "stream",
     "text": [
      "重複特徴名数（rename前）： 194\n",
      "重複特徴名数（rename後）： 0\n",
      "欠損値が多い特徴個数： 0\n",
      "欠損値が少ない特徴個数： 8\n"
     ]
    },
    {
     "data": {
      "image/png": "[encoded data removed]",
      "text/plain": [
       "<Figure size 640x480 with 1 Axes>"
      ]
     },
     "metadata": {},
     "output_type": "display_data"
    }
   ],
   "source": [
    "# 臨床データ\n",
    "generate_target()\n",
    "generate_features()\n",
    "# 遺伝子データ\n",
    "df_gene_expressions = df_mrna_agilent_microarray.copy()\n",
    "df_gene_expressions = rename_duplicatged_columns(df_gene_expressions)\n",
    "df_gene_expressions = drop_null4cols(df_gene_expressions)\n",
    "df_gene_expressions = drop_null4raws(df_gene_expressions)\n",
    "# save\n",
    "functions.make_dir(config.INTERIM_PREPROCESSED_RECURRENCE_DIR)\n",
    "df_gene_expressions.to_pickle(\n",
    "    config.INTERIM_PREPROCESSED_RECURRENCE_DIR + \"/df_gene_expressions.pkl\"\n",
    ")"
   ]
  },
  {
   "cell_type": "markdown",
   "id": "b246efeb-3fdd-4192-95a3-b1a5ef3bbd0b",
   "metadata": {
    "tags": []
   },
   "source": [
    "# 臨床データと遺伝子データの結合\n",
    "\n",
    "患者の必要な特徴を含む臨床データと遺伝子データを結合する。\n",
    "\n",
    "## 臨床データ\n",
    "\n",
    "**必要な特徴**\n",
    "\n",
    "目的変数\n",
    "- RFS_OVER_nMONTHS  \n",
    "\n",
    "層別化対象候補\n",
    "- CLAUDIN_SUBTYPE\n",
    "- NPI_CAT\n",
    "- TUMOR_CAT\n",
    "- LYMPH_CAT\n",
    "\n",
    "## 遺伝子データ\n",
    "遺伝子データは全ての特徴量を結合する。"
   ]
  },
  {
   "cell_type": "code",
   "execution_count": 26,
   "id": "f87a9c8c-799d-492b-ad6e-3a0549d91063",
   "metadata": {},
   "outputs": [],
   "source": [
    "left_features = [\n",
    "    \"RFS_MONTHS\",\n",
    "    \"RFS_STATUS\",\n",
    "    \"CLAUDIN_SUBTYPE\",\n",
    "    \"THREEGENE\",\n",
    "]\n",
    "\n",
    "df_merged = pd.merge(\n",
    "    df_MB[left_features],\n",
    "    df_gene_expressions,\n",
    "    left_index=True,\n",
    "    right_index=True,\n",
    ")\n",
    "# 半角スペースやバックスラッシュはpklファイル保存時に邪魔になるので置き換え\n",
    "df_merged[\"THREEGENE\"] = df_merged.THREEGENE.str.replace(\"/\", \"_\")\n",
    "df_merged[\"THREEGENE\"] = df_merged.THREEGENE.str.replace(\" \", \"_\")\n",
    "\n",
    "# save\n",
    "functions.make_dir(config.INTERIM_PREPROCESSED_RECURRENCE_DIR)\n",
    "df_merged.to_pickle(\n",
    "    config.INTERIM_PREPROCESSED_RECURRENCE_DIR + \"/df_merged4numeric.pkl\"\n",
    ")\n",
    "df_recurrenced = df_merged.copy()\n",
    "# save\n",
    "functions.make_dir(config.INTERIM_PREPROCESSED_RECURRENCE_DIR)\n",
    "df_merged.to_pickle(\n",
    "    config.INTERIM_PREPROCESSED_RECURRENCE_DIR + \"/df_recurrenced4numeric.pkl\"\n",
    ")"
   ]
  },
  {
   "cell_type": "markdown",
   "id": "0284746c-8c80-4c32-86b5-34e1d48047b2",
   "metadata": {
    "tags": []
   },
   "source": [
    "## データ分割\n",
    "\n",
    "訓練データ、検証データ、テストデータに層化分割する   \n",
    "比率は(train, val, test)=(0.81, 0.09, 0.1)  \n",
    "CVは行わずに通常のholdoutで検証は行う（特徴選択を毎度実施するのが厄介なため）\n"
   ]
  },
  {
   "cell_type": "code",
   "execution_count": 27,
   "id": "76e02b5c-90c3-40a6-94d3-efecef50364f",
   "metadata": {},
   "outputs": [],
   "source": [
    "# データ分割のためのクラス\n",
    "# pythonのミュータブルオブジェクトの外部操作を防ぐためにcopy()の使用&private化\n",
    "class SplitDataFrame:\n",
    "    def __init__(self, df, train_size: float = 0.9):\n",
    "        self.__df = df.copy()\n",
    "        self.__train_size = train_size\n",
    "\n",
    "        self.__df_train = None\n",
    "        self.__df_val = None\n",
    "        self.__df_train_val = None\n",
    "        self.__df_test = None\n",
    "\n",
    "        self.__X_train = None\n",
    "        self.__y_train = None\n",
    "        self.__X_val = None\n",
    "        self.__y_val = None\n",
    "        self.__X_train_val = None\n",
    "        self.__y_train_val = None\n",
    "        self.__X_test = None\n",
    "        self.__y_test = None\n",
    "\n",
    "    def split_train_val_test(self):\n",
    "        # train & test\n",
    "        self.__df_train_val, self.__df_test = train_test_split(\n",
    "            self.__df,\n",
    "            train_size=self.__train_size,\n",
    "            stratify=self.__df[STRATIFY_NAME],\n",
    "            random_state=SEED,\n",
    "        )\n",
    "        # train & val\n",
    "        self.__df_train, self.__df_val = train_test_split(\n",
    "            self.__df_train_val,\n",
    "            train_size=self.__train_size,\n",
    "            stratify=self.__df_train_val[STRATIFY_NAME],\n",
    "            random_state=SEED,\n",
    "        )\n",
    "\n",
    "    def split_X_y(self):\n",
    "        self.__X_train, self.__y_train = (\n",
    "            self.__df_train.drop(TARGET_NAME, axis=1),\n",
    "            self.__df_train[TARGET_NAME],\n",
    "        )\n",
    "        self.__X_val, self.__y_val = (\n",
    "            self.__df_val.drop(TARGET_NAME, axis=1),\n",
    "            self.__df_val[TARGET_NAME],\n",
    "        )\n",
    "        self.__X_train_val, self.__y_train_val = (\n",
    "            self.__df_train_val.drop(TARGET_NAME, axis=1),\n",
    "            self.__df_train_val[TARGET_NAME],\n",
    "        )\n",
    "        self.__X_test, self.__y_test = (\n",
    "            self.__df_test.drop(TARGET_NAME, axis=1),\n",
    "            self.__df_test[TARGET_NAME],\n",
    "        )\n",
    "\n",
    "    def get_train_val(self):\n",
    "        return self.__train_val.copy()\n",
    "\n",
    "    def get_train(self):\n",
    "        return self.__train.copy()\n",
    "\n",
    "    def get_val(self):\n",
    "        return self.__val.copy()\n",
    "\n",
    "    def get_test(self):\n",
    "        return self.__test.copy()\n",
    "\n",
    "    def get_train_val_Xy(self):\n",
    "        return self.__X_train_val.copy(), self.__y_train_val.copy()\n",
    "\n",
    "    def get_train_Xy(self):\n",
    "        return self.__X_train.copy(), self.__y_train.copy()\n",
    "\n",
    "    def get_val_Xy(self):\n",
    "        return self.__X_val.copy(), self.__y_val.copy()\n",
    "\n",
    "    def get_test_Xy(self):\n",
    "        return self.__X_test.copy(), self.__y_test.copy()"
   ]
  },
  {
   "cell_type": "markdown",
   "id": "e81f2471-eba7-4480-9bd9-d92af3e73881",
   "metadata": {},
   "source": [
    "# 前処理パイプライン"
   ]
  },
  {
   "cell_type": "code",
   "execution_count": 28,
   "id": "b3b06588-8a4f-490e-a67a-2b422e4aae37",
   "metadata": {},
   "outputs": [],
   "source": [
    "def save_preprocessed_df(\n",
    "    list_train: list(),\n",
    "    list_test: list(),\n",
    "    val_step: str,\n",
    "    save_file_path: str = \".\",\n",
    "):\n",
    "    \"\"\"\n",
    "    params\n",
    "    list_train: [X_train, y_train]\n",
    "    list_test: [X_test, y_test]\n",
    "    \"\"\"\n",
    "    # 検証用データセットの保存\n",
    "    train_path = \"{0}/{1}/train\".format(save_file_path, val_step)\n",
    "    test_path = \"{0}/{1}/test\".format(save_file_path, val_step)\n",
    "\n",
    "    functions.make_dir(train_path)\n",
    "    functions.pickle_dump(list_train[0], \"{0}/X.pkl\".format(train_path))\n",
    "    functions.pickle_dump(list_train[1], \"{0}/y.pkl\".format(train_path))\n",
    "    functions.make_dir(test_path)\n",
    "    functions.pickle_dump(list_test[0], \"{0}/X.pkl\".format(test_path))\n",
    "    functions.pickle_dump(list_test[1], \"{0}/y.pkl\".format(test_path))\n",
    "\n",
    "\n",
    "def save_preprocess_pipeline(\n",
    "    pipeline: callable,\n",
    "    val_step: str,\n",
    "    save_file_path: str = \".\",\n",
    "):\n",
    "    # 検証用データセットの保存\n",
    "    train_path = \"{0}/{1}/train\".format(save_file_path, val_step)\n",
    "    test_path = \"{0}/{1}/test\".format(save_file_path, val_step)\n",
    "\n",
    "    functions.make_dir(train_path)\n",
    "    functions.pickle_dump(pipeline, \"{0}/preprocess_pipeline.pkl\".format(train_path))\n",
    "    functions.make_dir(test_path)\n",
    "    functions.pickle_dump(pipeline, \"{0}/preprocess_pipeline.pkl\".format(test_path))"
   ]
  },
  {
   "cell_type": "code",
   "execution_count": 29,
   "id": "d083aad7-13f3-4d8e-9248-cc69a888a3df",
   "metadata": {},
   "outputs": [],
   "source": [
    "def skip_preprocess(df: pd.DataFrame()) -> bool:\n",
    "    \"\"\"\n",
    "    入力データフレームを前処理するか判断\n",
    "\n",
    "    True: 前処理をする\n",
    "    False: 前処理をしない\n",
    "    \"\"\"\n",
    "    return True if df.shape[0] > 100 else False\n",
    "\n",
    "\n",
    "def apply_preprocess(\n",
    "    df: pd.DataFrame(),\n",
    "    preprocess_order: dict = {\"original_data\": []},\n",
    "    save_file_path: str = None,\n",
    "):\n",
    "    _df = df.copy()\n",
    "\n",
    "    # データが少なすぎる場合は特徴選択しない\n",
    "    if not skip_preprocess(_df):\n",
    "        return\n",
    "\n",
    "    # データ分割\n",
    "    _sp = SplitDataFrame(_df)\n",
    "    _sp.split_train_val_test()\n",
    "    _sp.split_X_y()\n",
    "\n",
    "    _X_train, _y_train = _sp.get_train_Xy()\n",
    "    _X_val, _y_val = _sp.get_val_Xy()\n",
    "    _X_train_val, _y_train_val = _sp.get_train_val_Xy()\n",
    "    _X_test, _y_test = _sp.get_test_Xy()\n",
    "\n",
    "    # train&val と train_val&test のそれぞれのセットに適用\n",
    "    dict_datasets = {\n",
    "        \"val_set\": [[_X_train, _y_train], [_X_val, _y_val]],\n",
    "        \"test_set\": [[_X_train_val, _y_train_val], [_X_test, _y_test]],\n",
    "    }\n",
    "    # 検証用、テスト用それぞれのセットへのパイプラインの適用\n",
    "    for key, values in dict_datasets.items():\n",
    "        # set_config(display=\"diagram\")\n",
    "        _preprocess_pipeline = Pipeline(steps=preprocess_order)\n",
    "        _preprocess_pipeline.fit(values[0][0], values[0][1])\n",
    "        values[0][0] = _preprocess_pipeline.transform(values[0][0])\n",
    "        values[1][0] = _preprocess_pipeline.transform(values[1][0])\n",
    "\n",
    "        print(\n",
    "            \"X_train: \",\n",
    "            values[0][0].shape,\n",
    "            \" X_test: \",\n",
    "            values[1][0].shape,\n",
    "        )\n",
    "\n",
    "        # 保存\n",
    "        if save_file_path:\n",
    "            save_preprocessed_df(\n",
    "                list_train=[values[0][0], values[0][1]],\n",
    "                list_test=[values[1][0], values[1][1]],\n",
    "                val_step=key,\n",
    "                save_file_path=save_file_path,\n",
    "            )\n",
    "            save_preprocess_pipeline(\n",
    "                _preprocess_pipeline,\n",
    "                val_step=key,\n",
    "                save_file_path=save_file_path,\n",
    "            )"
   ]
  },
  {
   "cell_type": "code",
   "execution_count": 32,
   "id": "9ce7de78-fd00-4497-ae54-c431e32b5184",
   "metadata": {},
   "outputs": [],
   "source": [
    "def loop_preprocess():\n",
    "    # 層別化する特徴量\n",
    "    subgroup_columns = [\n",
    "        \"CLAUDIN_SUBTYPE\",\n",
    "        \"THREEGENE\",\n",
    "    ]\n",
    "    # 遺伝子発現量以外の特徴量を削除\n",
    "    drop_columns = [\n",
    "        \"CLAUDIN_SUBTYPE\",\n",
    "        \"THREEGENE\",\n",
    "    ]\n",
    "\n",
    "    # 実施したい前処理パイプラインの定義\n",
    "    preprocess_order_dicts = [\n",
    "        {\n",
    "            \"preprocess_name\": \"preprocess4numeric_pca{0}\".format(PCA_PERCENTILE),\n",
    "            \"preprocess_order\": [\n",
    "                (\n",
    "                    StandardScalerAsDataFrame().__class__.__name__,\n",
    "                    StandardScalerAsDataFrame(),\n",
    "                ),\n",
    "                (\n",
    "                    PCA().__class__.__name__,\n",
    "                    PCA(n_components=PCA_PERCENTILE / 100, random_state=config.SEED),\n",
    "                ),\n",
    "            ],\n",
    "        },\n",
    "    ]\n",
    "\n",
    "    for subgroup_column in subgroup_columns:  # 各サブグループへの適用\n",
    "        for subgroup in df_recurrenced[subgroup_column].unique():  # サブグループの要素毎への適用\n",
    "            df = df_recurrenced[df_recurrenced[subgroup_column] == subgroup].drop(\n",
    "                drop_columns, axis=1\n",
    "            )\n",
    "            print(subgroup, \": \", df.shape)\n",
    "            for preprocess_order_dict in preprocess_order_dicts:\n",
    "                output_data_path = \"./{0}/{1}/{2}/{3}\".format(\n",
    "                    config.INTERIM_PREPROCESSED_RECURRENCE_DIR,\n",
    "                    subgroup_column,\n",
    "                    subgroup,\n",
    "                    preprocess_order_dict[\"preprocess_name\"],\n",
    "                )\n",
    "                apply_preprocess(\n",
    "                    df,\n",
    "                    preprocess_order=preprocess_order_dict[\"preprocess_order\"],\n",
    "                    save_file_path=output_data_path,\n",
    "                )"
   ]
  },
  {
   "cell_type": "code",
   "execution_count": 33,
   "id": "64b7ccd2-8249-41e6-8986-54075f6db791",
   "metadata": {
    "collapsed": true,
    "jupyter": {
     "outputs_hidden": true
    },
    "tags": []
   },
   "outputs": [
    {
     "name": "stdout",
     "output_type": "stream",
     "text": [
      "++++++++++++++++++++++++++++++++++++++++++++++++++++++++++++++++++++++++++++++++++++++++++++++++++++\n",
      "25\n",
      "claudin-low :  (197, 24370)\n",
      "X_train:  (159, 7)  X_test:  (18, 7)\n",
      "X_train:  (177, 7)  X_test:  (20, 7)\n",
      "LumA :  (673, 24370)\n",
      "X_train:  (544, 12)  X_test:  (61, 12)\n",
      "X_train:  (605, 12)  X_test:  (68, 12)\n",
      "LumB :  (460, 24370)\n",
      "X_train:  (372, 12)  X_test:  (42, 12)\n",
      "X_train:  (414, 12)  X_test:  (46, 12)\n",
      "Her2 :  (218, 24370)\n",
      "X_train:  (176, 7)  X_test:  (20, 7)\n",
      "X_train:  (196, 8)  X_test:  (22, 8)\n",
      "Normal :  (140, 24370)\n",
      "X_train:  (113, 7)  X_test:  (13, 7)\n",
      "X_train:  (126, 7)  X_test:  (14, 7)\n",
      "Basal :  (199, 24370)\n",
      "X_train:  (161, 9)  X_test:  (18, 9)\n",
      "X_train:  (179, 9)  X_test:  (20, 9)\n",
      "NC :  (6, 24370)\n",
      "ER-_HER2- :  (290, 24370)\n",
      "X_train:  (234, 9)  X_test:  (27, 9)\n",
      "X_train:  (261, 9)  X_test:  (29, 9)\n",
      "ER+_HER2-_High_Prolif :  (600, 24370)\n",
      "X_train:  (486, 14)  X_test:  (54, 14)\n",
      "X_train:  (540, 15)  X_test:  (60, 15)\n",
      "nan :  (0, 24370)\n",
      "ER+_HER2-_Low_Prolif :  (615, 24370)\n",
      "X_train:  (497, 11)  X_test:  (56, 11)\n",
      "X_train:  (553, 11)  X_test:  (62, 11)\n",
      "HER2+ :  (187, 24370)\n",
      "X_train:  (151, 9)  X_test:  (17, 9)\n",
      "X_train:  (168, 10)  X_test:  (19, 10)\n",
      "++++++++++++++++++++++++++++++++++++++++++++++++++++++++++++++++++++++++++++++++++++++++++++++++++++\n",
      "26\n",
      "claudin-low :  (197, 24370)\n",
      "X_train:  (159, 7)  X_test:  (18, 7)\n",
      "X_train:  (177, 7)  X_test:  (20, 7)\n",
      "LumA :  (673, 24370)\n",
      "X_train:  (544, 13)  X_test:  (61, 13)\n",
      "X_train:  (605, 13)  X_test:  (68, 13)\n",
      "LumB :  (460, 24370)\n",
      "X_train:  (372, 13)  X_test:  (42, 13)\n",
      "X_train:  (414, 14)  X_test:  (46, 14)\n",
      "Her2 :  (218, 24370)\n",
      "X_train:  (176, 8)  X_test:  (20, 8)\n",
      "X_train:  (196, 8)  X_test:  (22, 8)\n",
      "Normal :  (140, 24370)\n",
      "X_train:  (113, 7)  X_test:  (13, 7)\n",
      "X_train:  (126, 7)  X_test:  (14, 7)\n",
      "Basal :  (199, 24370)\n",
      "X_train:  (161, 10)  X_test:  (18, 10)\n",
      "X_train:  (179, 10)  X_test:  (20, 10)\n",
      "NC :  (6, 24370)\n",
      "ER-_HER2- :  (290, 24370)\n",
      "X_train:  (234, 10)  X_test:  (27, 10)\n",
      "X_train:  (261, 10)  X_test:  (29, 10)\n",
      "ER+_HER2-_High_Prolif :  (600, 24370)\n",
      "X_train:  (486, 16)  X_test:  (54, 16)\n",
      "X_train:  (540, 16)  X_test:  (60, 16)\n",
      "nan :  (0, 24370)\n",
      "ER+_HER2-_Low_Prolif :  (615, 24370)\n",
      "X_train:  (497, 12)  X_test:  (56, 12)\n",
      "X_train:  (553, 12)  X_test:  (62, 12)\n",
      "HER2+ :  (187, 24370)\n",
      "X_train:  (151, 10)  X_test:  (17, 10)\n",
      "X_train:  (168, 10)  X_test:  (19, 10)\n",
      "++++++++++++++++++++++++++++++++++++++++++++++++++++++++++++++++++++++++++++++++++++++++++++++++++++\n",
      "27\n",
      "claudin-low :  (197, 24370)\n",
      "X_train:  (159, 8)  X_test:  (18, 8)\n",
      "X_train:  (177, 8)  X_test:  (20, 8)\n",
      "LumA :  (673, 24370)\n",
      "X_train:  (544, 14)  X_test:  (61, 14)\n",
      "X_train:  (605, 14)  X_test:  (68, 14)\n",
      "LumB :  (460, 24370)\n",
      "X_train:  (372, 14)  X_test:  (42, 14)\n",
      "X_train:  (414, 15)  X_test:  (46, 15)\n",
      "Her2 :  (218, 24370)\n",
      "X_train:  (176, 9)  X_test:  (20, 9)\n",
      "X_train:  (196, 9)  X_test:  (22, 9)\n",
      "Normal :  (140, 24370)\n",
      "X_train:  (113, 8)  X_test:  (13, 8)\n",
      "X_train:  (126, 8)  X_test:  (14, 8)\n",
      "Basal :  (199, 24370)\n",
      "X_train:  (161, 11)  X_test:  (18, 11)\n",
      "X_train:  (179, 11)  X_test:  (20, 11)\n",
      "NC :  (6, 24370)\n",
      "ER-_HER2- :  (290, 24370)\n",
      "X_train:  (234, 11)  X_test:  (27, 11)\n",
      "X_train:  (261, 11)  X_test:  (29, 11)\n",
      "ER+_HER2-_High_Prolif :  (600, 24370)\n",
      "X_train:  (486, 17)  X_test:  (54, 17)\n",
      "X_train:  (540, 18)  X_test:  (60, 18)\n",
      "nan :  (0, 24370)\n",
      "ER+_HER2-_Low_Prolif :  (615, 24370)\n",
      "X_train:  (497, 13)  X_test:  (56, 13)\n",
      "X_train:  (553, 13)  X_test:  (62, 13)\n",
      "HER2+ :  (187, 24370)\n",
      "X_train:  (151, 11)  X_test:  (17, 11)\n",
      "X_train:  (168, 11)  X_test:  (19, 11)\n",
      "++++++++++++++++++++++++++++++++++++++++++++++++++++++++++++++++++++++++++++++++++++++++++++++++++++\n",
      "28\n",
      "claudin-low :  (197, 24370)\n",
      "X_train:  (159, 9)  X_test:  (18, 9)\n",
      "X_train:  (177, 8)  X_test:  (20, 8)\n",
      "LumA :  (673, 24370)\n",
      "X_train:  (544, 15)  X_test:  (61, 15)\n",
      "X_train:  (605, 16)  X_test:  (68, 16)\n",
      "LumB :  (460, 24370)\n",
      "X_train:  (372, 15)  X_test:  (42, 15)\n",
      "X_train:  (414, 16)  X_test:  (46, 16)\n",
      "Her2 :  (218, 24370)\n",
      "X_train:  (176, 9)  X_test:  (20, 9)\n",
      "X_train:  (196, 10)  X_test:  (22, 10)\n",
      "Normal :  (140, 24370)\n",
      "X_train:  (113, 8)  X_test:  (13, 8)\n",
      "X_train:  (126, 9)  X_test:  (14, 9)\n",
      "Basal :  (199, 24370)\n",
      "X_train:  (161, 12)  X_test:  (18, 12)\n",
      "X_train:  (179, 12)  X_test:  (20, 12)\n",
      "NC :  (6, 24370)\n",
      "ER-_HER2- :  (290, 24370)\n",
      "X_train:  (234, 12)  X_test:  (27, 12)\n",
      "X_train:  (261, 12)  X_test:  (29, 12)\n",
      "ER+_HER2-_High_Prolif :  (600, 24370)\n",
      "X_train:  (486, 19)  X_test:  (54, 19)\n",
      "X_train:  (540, 19)  X_test:  (60, 19)\n",
      "nan :  (0, 24370)\n",
      "ER+_HER2-_Low_Prolif :  (615, 24370)\n",
      "X_train:  (497, 14)  X_test:  (56, 14)\n",
      "X_train:  (553, 14)  X_test:  (62, 14)\n",
      "HER2+ :  (187, 24370)\n",
      "X_train:  (151, 11)  X_test:  (17, 11)\n",
      "X_train:  (168, 12)  X_test:  (19, 12)\n",
      "++++++++++++++++++++++++++++++++++++++++++++++++++++++++++++++++++++++++++++++++++++++++++++++++++++\n",
      "29\n",
      "claudin-low :  (197, 24370)\n",
      "X_train:  (159, 9)  X_test:  (18, 9)\n",
      "X_train:  (177, 9)  X_test:  (20, 9)\n",
      "LumA :  (673, 24370)\n",
      "X_train:  (544, 17)  X_test:  (61, 17)\n",
      "X_train:  (605, 17)  X_test:  (68, 17)\n",
      "LumB :  (460, 24370)\n",
      "X_train:  (372, 17)  X_test:  (42, 17)\n",
      "X_train:  (414, 18)  X_test:  (46, 18)\n",
      "Her2 :  (218, 24370)\n",
      "X_train:  (176, 10)  X_test:  (20, 10)\n",
      "X_train:  (196, 11)  X_test:  (22, 11)\n",
      "Normal :  (140, 24370)\n",
      "X_train:  (113, 9)  X_test:  (13, 9)\n",
      "X_train:  (126, 9)  X_test:  (14, 9)\n",
      "Basal :  (199, 24370)\n",
      "X_train:  (161, 13)  X_test:  (18, 13)\n",
      "X_train:  (179, 13)  X_test:  (20, 13)\n",
      "NC :  (6, 24370)\n",
      "ER-_HER2- :  (290, 24370)\n",
      "X_train:  (234, 13)  X_test:  (27, 13)\n",
      "X_train:  (261, 13)  X_test:  (29, 13)\n",
      "ER+_HER2-_High_Prolif :  (600, 24370)\n",
      "X_train:  (486, 21)  X_test:  (54, 21)\n",
      "X_train:  (540, 21)  X_test:  (60, 21)\n",
      "nan :  (0, 24370)\n",
      "ER+_HER2-_Low_Prolif :  (615, 24370)\n",
      "X_train:  (497, 16)  X_test:  (56, 16)\n",
      "X_train:  (553, 16)  X_test:  (62, 16)\n",
      "HER2+ :  (187, 24370)\n",
      "X_train:  (151, 12)  X_test:  (17, 12)\n",
      "X_train:  (168, 13)  X_test:  (19, 13)\n",
      "++++++++++++++++++++++++++++++++++++++++++++++++++++++++++++++++++++++++++++++++++++++++++++++++++++\n",
      "30\n",
      "claudin-low :  (197, 24370)\n",
      "X_train:  (159, 10)  X_test:  (18, 10)\n",
      "X_train:  (177, 10)  X_test:  (20, 10)\n",
      "LumA :  (673, 24370)\n",
      "X_train:  (544, 18)  X_test:  (61, 18)\n",
      "X_train:  (605, 19)  X_test:  (68, 19)\n",
      "LumB :  (460, 24370)\n",
      "X_train:  (372, 18)  X_test:  (42, 18)\n",
      "X_train:  (414, 19)  X_test:  (46, 19)\n",
      "Her2 :  (218, 24370)\n",
      "X_train:  (176, 11)  X_test:  (20, 11)\n",
      "X_train:  (196, 11)  X_test:  (22, 11)\n",
      "Normal :  (140, 24370)\n",
      "X_train:  (113, 9)  X_test:  (13, 9)\n",
      "X_train:  (126, 10)  X_test:  (14, 10)\n",
      "Basal :  (199, 24370)\n",
      "X_train:  (161, 14)  X_test:  (18, 14)\n",
      "X_train:  (179, 14)  X_test:  (20, 14)\n",
      "NC :  (6, 24370)\n",
      "ER-_HER2- :  (290, 24370)\n",
      "X_train:  (234, 14)  X_test:  (27, 14)\n",
      "X_train:  (261, 14)  X_test:  (29, 14)\n",
      "ER+_HER2-_High_Prolif :  (600, 24370)\n",
      "X_train:  (486, 22)  X_test:  (54, 22)\n",
      "X_train:  (540, 23)  X_test:  (60, 23)\n",
      "nan :  (0, 24370)\n",
      "ER+_HER2-_Low_Prolif :  (615, 24370)\n",
      "X_train:  (497, 17)  X_test:  (56, 17)\n",
      "X_train:  (553, 17)  X_test:  (62, 17)\n",
      "HER2+ :  (187, 24370)\n",
      "X_train:  (151, 13)  X_test:  (17, 13)\n",
      "X_train:  (168, 14)  X_test:  (19, 14)\n",
      "++++++++++++++++++++++++++++++++++++++++++++++++++++++++++++++++++++++++++++++++++++++++++++++++++++\n",
      "31\n",
      "claudin-low :  (197, 24370)\n",
      "X_train:  (159, 10)  X_test:  (18, 10)\n",
      "X_train:  (177, 10)  X_test:  (20, 10)\n",
      "LumA :  (673, 24370)\n",
      "X_train:  (544, 20)  X_test:  (61, 20)\n",
      "X_train:  (605, 21)  X_test:  (68, 21)\n",
      "LumB :  (460, 24370)\n",
      "X_train:  (372, 20)  X_test:  (42, 20)\n",
      "X_train:  (414, 21)  X_test:  (46, 21)\n",
      "Her2 :  (218, 24370)\n",
      "X_train:  (176, 12)  X_test:  (20, 12)\n",
      "X_train:  (196, 12)  X_test:  (22, 12)\n",
      "Normal :  (140, 24370)\n",
      "X_train:  (113, 10)  X_test:  (13, 10)\n",
      "X_train:  (126, 10)  X_test:  (14, 10)\n",
      "Basal :  (199, 24370)\n",
      "X_train:  (161, 14)  X_test:  (18, 14)\n",
      "X_train:  (179, 15)  X_test:  (20, 15)\n",
      "NC :  (6, 24370)\n",
      "ER-_HER2- :  (290, 24370)\n",
      "X_train:  (234, 15)  X_test:  (27, 15)\n",
      "X_train:  (261, 16)  X_test:  (29, 16)\n",
      "ER+_HER2-_High_Prolif :  (600, 24370)\n",
      "X_train:  (486, 24)  X_test:  (54, 24)\n",
      "X_train:  (540, 25)  X_test:  (60, 25)\n",
      "nan :  (0, 24370)\n",
      "ER+_HER2-_Low_Prolif :  (615, 24370)\n",
      "X_train:  (497, 19)  X_test:  (56, 19)\n",
      "X_train:  (553, 19)  X_test:  (62, 19)\n",
      "HER2+ :  (187, 24370)\n",
      "X_train:  (151, 14)  X_test:  (17, 14)\n",
      "X_train:  (168, 15)  X_test:  (19, 15)\n",
      "++++++++++++++++++++++++++++++++++++++++++++++++++++++++++++++++++++++++++++++++++++++++++++++++++++\n",
      "32\n",
      "claudin-low :  (197, 24370)\n",
      "X_train:  (159, 11)  X_test:  (18, 11)\n",
      "X_train:  (177, 11)  X_test:  (20, 11)\n",
      "LumA :  (673, 24370)\n",
      "X_train:  (544, 22)  X_test:  (61, 22)\n",
      "X_train:  (605, 23)  X_test:  (68, 23)\n",
      "LumB :  (460, 24370)\n",
      "X_train:  (372, 22)  X_test:  (42, 22)\n",
      "X_train:  (414, 23)  X_test:  (46, 23)\n",
      "Her2 :  (218, 24370)\n",
      "X_train:  (176, 13)  X_test:  (20, 13)\n",
      "X_train:  (196, 14)  X_test:  (22, 14)\n",
      "Normal :  (140, 24370)\n",
      "X_train:  (113, 11)  X_test:  (13, 11)\n",
      "X_train:  (126, 11)  X_test:  (14, 11)\n",
      "Basal :  (199, 24370)\n",
      "X_train:  (161, 15)  X_test:  (18, 15)\n",
      "X_train:  (179, 16)  X_test:  (20, 16)\n",
      "NC :  (6, 24370)\n",
      "ER-_HER2- :  (290, 24370)\n",
      "X_train:  (234, 16)  X_test:  (27, 16)\n",
      "X_train:  (261, 17)  X_test:  (29, 17)\n",
      "ER+_HER2-_High_Prolif :  (600, 24370)\n",
      "X_train:  (486, 26)  X_test:  (54, 26)\n",
      "X_train:  (540, 27)  X_test:  (60, 27)\n",
      "nan :  (0, 24370)\n",
      "ER+_HER2-_Low_Prolif :  (615, 24370)\n",
      "X_train:  (497, 20)  X_test:  (56, 20)\n",
      "X_train:  (553, 21)  X_test:  (62, 21)\n",
      "HER2+ :  (187, 24370)\n",
      "X_train:  (151, 15)  X_test:  (17, 15)\n",
      "X_train:  (168, 16)  X_test:  (19, 16)\n",
      "++++++++++++++++++++++++++++++++++++++++++++++++++++++++++++++++++++++++++++++++++++++++++++++++++++\n",
      "33\n",
      "claudin-low :  (197, 24370)\n",
      "X_train:  (159, 12)  X_test:  (18, 12)\n",
      "X_train:  (177, 12)  X_test:  (20, 12)\n",
      "LumA :  (673, 24370)\n",
      "X_train:  (544, 24)  X_test:  (61, 24)\n",
      "X_train:  (605, 25)  X_test:  (68, 25)\n",
      "LumB :  (460, 24370)\n",
      "X_train:  (372, 24)  X_test:  (42, 24)\n",
      "X_train:  (414, 25)  X_test:  (46, 25)\n",
      "Her2 :  (218, 24370)\n",
      "X_train:  (176, 14)  X_test:  (20, 14)\n",
      "X_train:  (196, 15)  X_test:  (22, 15)\n",
      "Normal :  (140, 24370)\n",
      "X_train:  (113, 11)  X_test:  (13, 11)\n",
      "X_train:  (126, 12)  X_test:  (14, 12)\n",
      "Basal :  (199, 24370)\n",
      "X_train:  (161, 16)  X_test:  (18, 16)\n",
      "X_train:  (179, 17)  X_test:  (20, 17)\n",
      "NC :  (6, 24370)\n",
      "ER-_HER2- :  (290, 24370)\n",
      "X_train:  (234, 17)  X_test:  (27, 17)\n",
      "X_train:  (261, 18)  X_test:  (29, 18)\n",
      "ER+_HER2-_High_Prolif :  (600, 24370)\n",
      "X_train:  (486, 29)  X_test:  (54, 29)\n",
      "X_train:  (540, 30)  X_test:  (60, 30)\n",
      "nan :  (0, 24370)\n",
      "ER+_HER2-_Low_Prolif :  (615, 24370)\n",
      "X_train:  (497, 22)  X_test:  (56, 22)\n",
      "X_train:  (553, 23)  X_test:  (62, 23)\n",
      "HER2+ :  (187, 24370)\n",
      "X_train:  (151, 16)  X_test:  (17, 16)\n",
      "X_train:  (168, 17)  X_test:  (19, 17)\n",
      "++++++++++++++++++++++++++++++++++++++++++++++++++++++++++++++++++++++++++++++++++++++++++++++++++++\n",
      "34\n",
      "claudin-low :  (197, 24370)\n",
      "X_train:  (159, 13)  X_test:  (18, 13)\n",
      "X_train:  (177, 13)  X_test:  (20, 13)\n",
      "LumA :  (673, 24370)\n",
      "X_train:  (544, 26)  X_test:  (61, 26)\n",
      "X_train:  (605, 27)  X_test:  (68, 27)\n",
      "LumB :  (460, 24370)\n",
      "X_train:  (372, 26)  X_test:  (42, 26)\n",
      "X_train:  (414, 27)  X_test:  (46, 27)\n",
      "Her2 :  (218, 24370)\n",
      "X_train:  (176, 15)  X_test:  (20, 15)\n",
      "X_train:  (196, 16)  X_test:  (22, 16)\n",
      "Normal :  (140, 24370)\n",
      "X_train:  (113, 12)  X_test:  (13, 12)\n",
      "X_train:  (126, 12)  X_test:  (14, 12)\n",
      "Basal :  (199, 24370)\n",
      "X_train:  (161, 17)  X_test:  (18, 17)\n",
      "X_train:  (179, 18)  X_test:  (20, 18)\n",
      "NC :  (6, 24370)\n",
      "ER-_HER2- :  (290, 24370)\n",
      "X_train:  (234, 18)  X_test:  (27, 18)\n",
      "X_train:  (261, 20)  X_test:  (29, 20)\n",
      "ER+_HER2-_High_Prolif :  (600, 24370)\n",
      "X_train:  (486, 31)  X_test:  (54, 31)\n",
      "X_train:  (540, 32)  X_test:  (60, 32)\n",
      "nan :  (0, 24370)\n",
      "ER+_HER2-_Low_Prolif :  (615, 24370)\n",
      "X_train:  (497, 24)  X_test:  (56, 24)\n",
      "X_train:  (553, 25)  X_test:  (62, 25)\n",
      "HER2+ :  (187, 24370)\n",
      "X_train:  (151, 17)  X_test:  (17, 17)\n",
      "X_train:  (168, 18)  X_test:  (19, 18)\n",
      "++++++++++++++++++++++++++++++++++++++++++++++++++++++++++++++++++++++++++++++++++++++++++++++++++++\n",
      "35\n",
      "claudin-low :  (197, 24370)\n",
      "X_train:  (159, 13)  X_test:  (18, 13)\n",
      "X_train:  (177, 14)  X_test:  (20, 14)\n",
      "LumA :  (673, 24370)\n",
      "X_train:  (544, 29)  X_test:  (61, 29)\n",
      "X_train:  (605, 30)  X_test:  (68, 30)\n",
      "LumB :  (460, 24370)\n",
      "X_train:  (372, 28)  X_test:  (42, 28)\n",
      "X_train:  (414, 29)  X_test:  (46, 29)\n",
      "Her2 :  (218, 24370)\n",
      "X_train:  (176, 16)  X_test:  (20, 16)\n",
      "X_train:  (196, 17)  X_test:  (22, 17)\n",
      "Normal :  (140, 24370)\n",
      "X_train:  (113, 13)  X_test:  (13, 13)\n",
      "X_train:  (126, 13)  X_test:  (14, 13)\n",
      "Basal :  (199, 24370)\n",
      "X_train:  (161, 19)  X_test:  (18, 19)\n",
      "X_train:  (179, 19)  X_test:  (20, 19)\n",
      "NC :  (6, 24370)\n",
      "ER-_HER2- :  (290, 24370)\n",
      "X_train:  (234, 20)  X_test:  (27, 20)\n",
      "X_train:  (261, 21)  X_test:  (29, 21)\n",
      "ER+_HER2-_High_Prolif :  (600, 24370)\n",
      "X_train:  (486, 33)  X_test:  (54, 33)\n",
      "X_train:  (540, 35)  X_test:  (60, 35)\n",
      "nan :  (0, 24370)\n",
      "ER+_HER2-_Low_Prolif :  (615, 24370)\n",
      "X_train:  (497, 27)  X_test:  (56, 27)\n",
      "X_train:  (553, 27)  X_test:  (62, 27)\n",
      "HER2+ :  (187, 24370)\n",
      "X_train:  (151, 18)  X_test:  (17, 18)\n",
      "X_train:  (168, 19)  X_test:  (19, 19)\n",
      "++++++++++++++++++++++++++++++++++++++++++++++++++++++++++++++++++++++++++++++++++++++++++++++++++++\n",
      "36\n",
      "claudin-low :  (197, 24370)\n",
      "X_train:  (159, 14)  X_test:  (18, 14)\n",
      "X_train:  (177, 14)  X_test:  (20, 14)\n",
      "LumA :  (673, 24370)\n",
      "X_train:  (544, 31)  X_test:  (61, 31)\n",
      "X_train:  (605, 32)  X_test:  (68, 32)\n",
      "LumB :  (460, 24370)\n",
      "X_train:  (372, 30)  X_test:  (42, 30)\n",
      "X_train:  (414, 31)  X_test:  (46, 31)\n",
      "Her2 :  (218, 24370)\n",
      "X_train:  (176, 17)  X_test:  (20, 17)\n",
      "X_train:  (196, 18)  X_test:  (22, 18)\n",
      "Normal :  (140, 24370)\n",
      "X_train:  (113, 13)  X_test:  (13, 13)\n",
      "X_train:  (126, 14)  X_test:  (14, 14)\n",
      "Basal :  (199, 24370)\n",
      "X_train:  (161, 20)  X_test:  (18, 20)\n",
      "X_train:  (179, 20)  X_test:  (20, 20)\n",
      "NC :  (6, 24370)\n",
      "ER-_HER2- :  (290, 24370)\n",
      "X_train:  (234, 21)  X_test:  (27, 21)\n",
      "X_train:  (261, 23)  X_test:  (29, 23)\n",
      "ER+_HER2-_High_Prolif :  (600, 24370)\n",
      "X_train:  (486, 36)  X_test:  (54, 36)\n",
      "X_train:  (540, 38)  X_test:  (60, 38)\n",
      "nan :  (0, 24370)\n",
      "ER+_HER2-_Low_Prolif :  (615, 24370)\n",
      "X_train:  (497, 29)  X_test:  (56, 29)\n",
      "X_train:  (553, 30)  X_test:  (62, 30)\n",
      "HER2+ :  (187, 24370)\n",
      "X_train:  (151, 19)  X_test:  (17, 19)\n",
      "X_train:  (168, 21)  X_test:  (19, 21)\n",
      "++++++++++++++++++++++++++++++++++++++++++++++++++++++++++++++++++++++++++++++++++++++++++++++++++++\n",
      "37\n",
      "claudin-low :  (197, 24370)\n",
      "X_train:  (159, 15)  X_test:  (18, 15)\n",
      "X_train:  (177, 15)  X_test:  (20, 15)\n",
      "LumA :  (673, 24370)\n",
      "X_train:  (544, 34)  X_test:  (61, 34)\n",
      "X_train:  (605, 35)  X_test:  (68, 35)\n",
      "LumB :  (460, 24370)\n",
      "X_train:  (372, 32)  X_test:  (42, 32)\n",
      "X_train:  (414, 34)  X_test:  (46, 34)\n",
      "Her2 :  (218, 24370)\n",
      "X_train:  (176, 19)  X_test:  (20, 19)\n",
      "X_train:  (196, 20)  X_test:  (22, 20)\n",
      "Normal :  (140, 24370)\n",
      "X_train:  (113, 14)  X_test:  (13, 14)\n",
      "X_train:  (126, 15)  X_test:  (14, 15)\n",
      "Basal :  (199, 24370)\n",
      "X_train:  (161, 21)  X_test:  (18, 21)\n",
      "X_train:  (179, 22)  X_test:  (20, 22)\n",
      "NC :  (6, 24370)\n",
      "ER-_HER2- :  (290, 24370)\n",
      "X_train:  (234, 23)  X_test:  (27, 23)\n",
      "X_train:  (261, 24)  X_test:  (29, 24)\n",
      "ER+_HER2-_High_Prolif :  (600, 24370)\n",
      "X_train:  (486, 39)  X_test:  (54, 39)\n",
      "X_train:  (540, 41)  X_test:  (60, 41)\n",
      "nan :  (0, 24370)\n",
      "ER+_HER2-_Low_Prolif :  (615, 24370)\n",
      "X_train:  (497, 31)  X_test:  (56, 31)\n",
      "X_train:  (553, 32)  X_test:  (62, 32)\n",
      "HER2+ :  (187, 24370)\n",
      "X_train:  (151, 20)  X_test:  (17, 20)\n",
      "X_train:  (168, 22)  X_test:  (19, 22)\n",
      "++++++++++++++++++++++++++++++++++++++++++++++++++++++++++++++++++++++++++++++++++++++++++++++++++++\n",
      "38\n",
      "claudin-low :  (197, 24370)\n",
      "X_train:  (159, 16)  X_test:  (18, 16)\n",
      "X_train:  (177, 16)  X_test:  (20, 16)\n",
      "LumA :  (673, 24370)\n",
      "X_train:  (544, 36)  X_test:  (61, 36)\n",
      "X_train:  (605, 38)  X_test:  (68, 38)\n",
      "LumB :  (460, 24370)\n",
      "X_train:  (372, 34)  X_test:  (42, 34)\n",
      "X_train:  (414, 36)  X_test:  (46, 36)\n",
      "Her2 :  (218, 24370)\n",
      "X_train:  (176, 20)  X_test:  (20, 20)\n",
      "X_train:  (196, 21)  X_test:  (22, 21)\n",
      "Normal :  (140, 24370)\n",
      "X_train:  (113, 15)  X_test:  (13, 15)\n",
      "X_train:  (126, 16)  X_test:  (14, 16)\n",
      "Basal :  (199, 24370)\n",
      "X_train:  (161, 22)  X_test:  (18, 22)\n",
      "X_train:  (179, 23)  X_test:  (20, 23)\n",
      "NC :  (6, 24370)\n",
      "ER-_HER2- :  (290, 24370)\n",
      "X_train:  (234, 24)  X_test:  (27, 24)\n",
      "X_train:  (261, 26)  X_test:  (29, 26)\n",
      "ER+_HER2-_High_Prolif :  (600, 24370)\n",
      "X_train:  (486, 41)  X_test:  (54, 41)\n",
      "X_train:  (540, 44)  X_test:  (60, 44)\n",
      "nan :  (0, 24370)\n",
      "ER+_HER2-_Low_Prolif :  (615, 24370)\n",
      "X_train:  (497, 34)  X_test:  (56, 34)\n",
      "X_train:  (553, 35)  X_test:  (62, 35)\n",
      "HER2+ :  (187, 24370)\n",
      "X_train:  (151, 22)  X_test:  (17, 22)\n",
      "X_train:  (168, 23)  X_test:  (19, 23)\n",
      "++++++++++++++++++++++++++++++++++++++++++++++++++++++++++++++++++++++++++++++++++++++++++++++++++++\n",
      "39\n",
      "claudin-low :  (197, 24370)\n",
      "X_train:  (159, 17)  X_test:  (18, 17)\n",
      "X_train:  (177, 18)  X_test:  (20, 18)\n",
      "LumA :  (673, 24370)\n",
      "X_train:  (544, 39)  X_test:  (61, 39)\n",
      "X_train:  (605, 41)  X_test:  (68, 41)\n",
      "LumB :  (460, 24370)\n",
      "X_train:  (372, 37)  X_test:  (42, 37)\n",
      "X_train:  (414, 39)  X_test:  (46, 39)\n",
      "Her2 :  (218, 24370)\n",
      "X_train:  (176, 21)  X_test:  (20, 21)\n",
      "X_train:  (196, 23)  X_test:  (22, 23)\n",
      "Normal :  (140, 24370)\n",
      "X_train:  (113, 16)  X_test:  (13, 16)\n",
      "X_train:  (126, 17)  X_test:  (14, 17)\n",
      "Basal :  (199, 24370)\n",
      "X_train:  (161, 23)  X_test:  (18, 23)\n",
      "X_train:  (179, 24)  X_test:  (20, 24)\n",
      "NC :  (6, 24370)\n",
      "ER-_HER2- :  (290, 24370)\n",
      "X_train:  (234, 26)  X_test:  (27, 26)\n",
      "X_train:  (261, 28)  X_test:  (29, 28)\n",
      "ER+_HER2-_High_Prolif :  (600, 24370)\n",
      "X_train:  (486, 44)  X_test:  (54, 44)\n",
      "X_train:  (540, 47)  X_test:  (60, 47)\n",
      "nan :  (0, 24370)\n",
      "ER+_HER2-_Low_Prolif :  (615, 24370)\n",
      "X_train:  (497, 37)  X_test:  (56, 37)\n",
      "X_train:  (553, 38)  X_test:  (62, 38)\n",
      "HER2+ :  (187, 24370)\n",
      "X_train:  (151, 23)  X_test:  (17, 23)\n",
      "X_train:  (168, 24)  X_test:  (19, 24)\n",
      "++++++++++++++++++++++++++++++++++++++++++++++++++++++++++++++++++++++++++++++++++++++++++++++++++++\n",
      "40\n",
      "claudin-low :  (197, 24370)\n",
      "X_train:  (159, 18)  X_test:  (18, 18)\n",
      "X_train:  (177, 19)  X_test:  (20, 19)\n",
      "LumA :  (673, 24370)\n",
      "X_train:  (544, 43)  X_test:  (61, 43)\n",
      "X_train:  (605, 45)  X_test:  (68, 45)\n",
      "LumB :  (460, 24370)\n",
      "X_train:  (372, 39)  X_test:  (42, 39)\n",
      "X_train:  (414, 42)  X_test:  (46, 42)\n",
      "Her2 :  (218, 24370)\n",
      "X_train:  (176, 22)  X_test:  (20, 22)\n",
      "X_train:  (196, 24)  X_test:  (22, 24)\n",
      "Normal :  (140, 24370)\n",
      "X_train:  (113, 17)  X_test:  (13, 17)\n",
      "X_train:  (126, 18)  X_test:  (14, 18)\n",
      "Basal :  (199, 24370)\n",
      "X_train:  (161, 25)  X_test:  (18, 25)\n",
      "X_train:  (179, 26)  X_test:  (20, 26)\n",
      "NC :  (6, 24370)\n",
      "ER-_HER2- :  (290, 24370)\n",
      "X_train:  (234, 27)  X_test:  (27, 27)\n",
      "X_train:  (261, 29)  X_test:  (29, 29)\n",
      "ER+_HER2-_High_Prolif :  (600, 24370)\n",
      "X_train:  (486, 47)  X_test:  (54, 47)\n",
      "X_train:  (540, 50)  X_test:  (60, 50)\n",
      "nan :  (0, 24370)\n",
      "ER+_HER2-_Low_Prolif :  (615, 24370)\n",
      "X_train:  (497, 39)  X_test:  (56, 39)\n",
      "X_train:  (553, 41)  X_test:  (62, 41)\n",
      "HER2+ :  (187, 24370)\n",
      "X_train:  (151, 24)  X_test:  (17, 24)\n",
      "X_train:  (168, 26)  X_test:  (19, 26)\n",
      "++++++++++++++++++++++++++++++++++++++++++++++++++++++++++++++++++++++++++++++++++++++++++++++++++++\n",
      "41\n",
      "claudin-low :  (197, 24370)\n",
      "X_train:  (159, 19)  X_test:  (18, 19)\n",
      "X_train:  (177, 20)  X_test:  (20, 20)\n",
      "LumA :  (673, 24370)\n",
      "X_train:  (544, 46)  X_test:  (61, 46)\n",
      "X_train:  (605, 48)  X_test:  (68, 48)\n",
      "LumB :  (460, 24370)\n",
      "X_train:  (372, 42)  X_test:  (42, 42)\n",
      "X_train:  (414, 45)  X_test:  (46, 45)\n",
      "Her2 :  (218, 24370)\n",
      "X_train:  (176, 24)  X_test:  (20, 24)\n",
      "X_train:  (196, 25)  X_test:  (22, 25)\n",
      "Normal :  (140, 24370)\n",
      "X_train:  (113, 18)  X_test:  (13, 18)\n",
      "X_train:  (126, 19)  X_test:  (14, 19)\n",
      "Basal :  (199, 24370)\n",
      "X_train:  (161, 26)  X_test:  (18, 26)\n",
      "X_train:  (179, 27)  X_test:  (20, 27)\n",
      "NC :  (6, 24370)\n",
      "ER-_HER2- :  (290, 24370)\n",
      "X_train:  (234, 29)  X_test:  (27, 29)\n",
      "X_train:  (261, 31)  X_test:  (29, 31)\n",
      "ER+_HER2-_High_Prolif :  (600, 24370)\n",
      "X_train:  (486, 51)  X_test:  (54, 51)\n",
      "X_train:  (540, 54)  X_test:  (60, 54)\n",
      "nan :  (0, 24370)\n",
      "ER+_HER2-_Low_Prolif :  (615, 24370)\n",
      "X_train:  (497, 43)  X_test:  (56, 43)\n",
      "X_train:  (553, 45)  X_test:  (62, 45)\n",
      "HER2+ :  (187, 24370)\n",
      "X_train:  (151, 25)  X_test:  (17, 25)\n",
      "X_train:  (168, 27)  X_test:  (19, 27)\n",
      "++++++++++++++++++++++++++++++++++++++++++++++++++++++++++++++++++++++++++++++++++++++++++++++++++++\n",
      "42\n",
      "claudin-low :  (197, 24370)\n",
      "X_train:  (159, 20)  X_test:  (18, 20)\n",
      "X_train:  (177, 21)  X_test:  (20, 21)\n",
      "LumA :  (673, 24370)\n",
      "X_train:  (544, 49)  X_test:  (61, 49)\n",
      "X_train:  (605, 52)  X_test:  (68, 52)\n",
      "LumB :  (460, 24370)\n",
      "X_train:  (372, 44)  X_test:  (42, 44)\n",
      "X_train:  (414, 48)  X_test:  (46, 48)\n",
      "Her2 :  (218, 24370)\n",
      "X_train:  (176, 25)  X_test:  (20, 25)\n",
      "X_train:  (196, 27)  X_test:  (22, 27)\n",
      "Normal :  (140, 24370)\n",
      "X_train:  (113, 18)  X_test:  (13, 18)\n",
      "X_train:  (126, 20)  X_test:  (14, 20)\n",
      "Basal :  (199, 24370)\n",
      "X_train:  (161, 27)  X_test:  (18, 27)\n",
      "X_train:  (179, 29)  X_test:  (20, 29)\n",
      "NC :  (6, 24370)\n",
      "ER-_HER2- :  (290, 24370)\n",
      "X_train:  (234, 31)  X_test:  (27, 31)\n",
      "X_train:  (261, 33)  X_test:  (29, 33)\n",
      "ER+_HER2-_High_Prolif :  (600, 24370)\n",
      "X_train:  (486, 54)  X_test:  (54, 54)\n",
      "X_train:  (540, 58)  X_test:  (60, 58)\n",
      "nan :  (0, 24370)\n",
      "ER+_HER2-_Low_Prolif :  (615, 24370)\n",
      "X_train:  (497, 46)  X_test:  (56, 46)\n",
      "X_train:  (553, 48)  X_test:  (62, 48)\n",
      "HER2+ :  (187, 24370)\n",
      "X_train:  (151, 26)  X_test:  (17, 26)\n",
      "X_train:  (168, 29)  X_test:  (19, 29)\n",
      "++++++++++++++++++++++++++++++++++++++++++++++++++++++++++++++++++++++++++++++++++++++++++++++++++++\n",
      "43\n",
      "claudin-low :  (197, 24370)\n",
      "X_train:  (159, 22)  X_test:  (18, 22)\n",
      "X_train:  (177, 23)  X_test:  (20, 23)\n",
      "LumA :  (673, 24370)\n",
      "X_train:  (544, 53)  X_test:  (61, 53)\n",
      "X_train:  (605, 56)  X_test:  (68, 56)\n",
      "LumB :  (460, 24370)\n",
      "X_train:  (372, 47)  X_test:  (42, 47)\n",
      "X_train:  (414, 51)  X_test:  (46, 51)\n",
      "Her2 :  (218, 24370)\n",
      "X_train:  (176, 27)  X_test:  (20, 27)\n",
      "X_train:  (196, 29)  X_test:  (22, 29)\n",
      "Normal :  (140, 24370)\n",
      "X_train:  (113, 19)  X_test:  (13, 19)\n",
      "X_train:  (126, 21)  X_test:  (14, 21)\n",
      "Basal :  (199, 24370)\n",
      "X_train:  (161, 29)  X_test:  (18, 29)\n",
      "X_train:  (179, 30)  X_test:  (20, 30)\n",
      "NC :  (6, 24370)\n",
      "ER-_HER2- :  (290, 24370)\n",
      "X_train:  (234, 33)  X_test:  (27, 33)\n",
      "X_train:  (261, 35)  X_test:  (29, 35)\n",
      "ER+_HER2-_High_Prolif :  (600, 24370)\n",
      "X_train:  (486, 58)  X_test:  (54, 58)\n",
      "X_train:  (540, 62)  X_test:  (60, 62)\n",
      "nan :  (0, 24370)\n",
      "ER+_HER2-_Low_Prolif :  (615, 24370)\n",
      "X_train:  (497, 49)  X_test:  (56, 49)\n",
      "X_train:  (553, 52)  X_test:  (62, 52)\n",
      "HER2+ :  (187, 24370)\n",
      "X_train:  (151, 28)  X_test:  (17, 28)\n",
      "X_train:  (168, 30)  X_test:  (19, 30)\n",
      "++++++++++++++++++++++++++++++++++++++++++++++++++++++++++++++++++++++++++++++++++++++++++++++++++++\n",
      "44\n",
      "claudin-low :  (197, 24370)\n",
      "X_train:  (159, 23)  X_test:  (18, 23)\n",
      "X_train:  (177, 24)  X_test:  (20, 24)\n",
      "LumA :  (673, 24370)\n",
      "X_train:  (544, 57)  X_test:  (61, 57)\n",
      "X_train:  (605, 61)  X_test:  (68, 61)\n",
      "LumB :  (460, 24370)\n",
      "X_train:  (372, 50)  X_test:  (42, 50)\n",
      "X_train:  (414, 54)  X_test:  (46, 54)\n",
      "Her2 :  (218, 24370)\n",
      "X_train:  (176, 28)  X_test:  (20, 28)\n",
      "X_train:  (196, 30)  X_test:  (22, 30)\n",
      "Normal :  (140, 24370)\n",
      "X_train:  (113, 20)  X_test:  (13, 20)\n",
      "X_train:  (126, 22)  X_test:  (14, 22)\n",
      "Basal :  (199, 24370)\n",
      "X_train:  (161, 30)  X_test:  (18, 30)\n",
      "X_train:  (179, 32)  X_test:  (20, 32)\n",
      "NC :  (6, 24370)\n",
      "ER-_HER2- :  (290, 24370)\n",
      "X_train:  (234, 35)  X_test:  (27, 35)\n",
      "X_train:  (261, 37)  X_test:  (29, 37)\n",
      "ER+_HER2-_High_Prolif :  (600, 24370)\n",
      "X_train:  (486, 62)  X_test:  (54, 62)\n",
      "X_train:  (540, 66)  X_test:  (60, 66)\n",
      "nan :  (0, 24370)\n",
      "ER+_HER2-_Low_Prolif :  (615, 24370)\n",
      "X_train:  (497, 53)  X_test:  (56, 53)\n",
      "X_train:  (553, 56)  X_test:  (62, 56)\n",
      "HER2+ :  (187, 24370)\n",
      "X_train:  (151, 29)  X_test:  (17, 29)\n",
      "X_train:  (168, 32)  X_test:  (19, 32)\n",
      "++++++++++++++++++++++++++++++++++++++++++++++++++++++++++++++++++++++++++++++++++++++++++++++++++++\n",
      "45\n",
      "claudin-low :  (197, 24370)\n",
      "X_train:  (159, 24)  X_test:  (18, 24)\n",
      "X_train:  (177, 25)  X_test:  (20, 25)\n",
      "LumA :  (673, 24370)\n",
      "X_train:  (544, 61)  X_test:  (61, 61)\n",
      "X_train:  (605, 65)  X_test:  (68, 65)\n",
      "LumB :  (460, 24370)\n",
      "X_train:  (372, 53)  X_test:  (42, 53)\n",
      "X_train:  (414, 57)  X_test:  (46, 57)\n",
      "Her2 :  (218, 24370)\n",
      "X_train:  (176, 30)  X_test:  (20, 30)\n",
      "X_train:  (196, 32)  X_test:  (22, 32)\n",
      "Normal :  (140, 24370)\n",
      "X_train:  (113, 21)  X_test:  (13, 21)\n",
      "X_train:  (126, 23)  X_test:  (14, 23)\n",
      "Basal :  (199, 24370)\n",
      "X_train:  (161, 31)  X_test:  (18, 31)\n",
      "X_train:  (179, 33)  X_test:  (20, 33)\n",
      "NC :  (6, 24370)\n",
      "ER-_HER2- :  (290, 24370)\n",
      "X_train:  (234, 37)  X_test:  (27, 37)\n",
      "X_train:  (261, 40)  X_test:  (29, 40)\n",
      "ER+_HER2-_High_Prolif :  (600, 24370)\n",
      "X_train:  (486, 65)  X_test:  (54, 65)\n",
      "X_train:  (540, 70)  X_test:  (60, 70)\n",
      "nan :  (0, 24370)\n",
      "ER+_HER2-_Low_Prolif :  (615, 24370)\n",
      "X_train:  (497, 57)  X_test:  (56, 57)\n",
      "X_train:  (553, 60)  X_test:  (62, 60)\n",
      "HER2+ :  (187, 24370)\n",
      "X_train:  (151, 31)  X_test:  (17, 31)\n",
      "X_train:  (168, 33)  X_test:  (19, 33)\n",
      "++++++++++++++++++++++++++++++++++++++++++++++++++++++++++++++++++++++++++++++++++++++++++++++++++++\n",
      "46\n",
      "claudin-low :  (197, 24370)\n",
      "X_train:  (159, 26)  X_test:  (18, 26)\n",
      "X_train:  (177, 27)  X_test:  (20, 27)\n",
      "LumA :  (673, 24370)\n",
      "X_train:  (544, 66)  X_test:  (61, 66)\n",
      "X_train:  (605, 70)  X_test:  (68, 70)\n",
      "LumB :  (460, 24370)\n",
      "X_train:  (372, 56)  X_test:  (42, 56)\n",
      "X_train:  (414, 61)  X_test:  (46, 61)\n",
      "Her2 :  (218, 24370)\n",
      "X_train:  (176, 31)  X_test:  (20, 31)\n",
      "X_train:  (196, 34)  X_test:  (22, 34)\n",
      "Normal :  (140, 24370)\n",
      "X_train:  (113, 22)  X_test:  (13, 22)\n",
      "X_train:  (126, 24)  X_test:  (14, 24)\n",
      "Basal :  (199, 24370)\n",
      "X_train:  (161, 33)  X_test:  (18, 33)\n",
      "X_train:  (179, 35)  X_test:  (20, 35)\n",
      "NC :  (6, 24370)\n",
      "ER-_HER2- :  (290, 24370)\n",
      "X_train:  (234, 39)  X_test:  (27, 39)\n",
      "X_train:  (261, 42)  X_test:  (29, 42)\n",
      "ER+_HER2-_High_Prolif :  (600, 24370)\n",
      "X_train:  (486, 69)  X_test:  (54, 69)\n",
      "X_train:  (540, 74)  X_test:  (60, 74)\n",
      "nan :  (0, 24370)\n",
      "ER+_HER2-_Low_Prolif :  (615, 24370)\n",
      "X_train:  (497, 61)  X_test:  (56, 61)\n",
      "X_train:  (553, 65)  X_test:  (62, 65)\n",
      "HER2+ :  (187, 24370)\n",
      "X_train:  (151, 32)  X_test:  (17, 32)\n",
      "X_train:  (168, 35)  X_test:  (19, 35)\n",
      "++++++++++++++++++++++++++++++++++++++++++++++++++++++++++++++++++++++++++++++++++++++++++++++++++++\n",
      "47\n",
      "claudin-low :  (197, 24370)\n",
      "X_train:  (159, 27)  X_test:  (18, 27)\n",
      "X_train:  (177, 28)  X_test:  (20, 28)\n",
      "LumA :  (673, 24370)\n",
      "X_train:  (544, 70)  X_test:  (61, 70)\n",
      "X_train:  (605, 75)  X_test:  (68, 75)\n",
      "LumB :  (460, 24370)\n",
      "X_train:  (372, 60)  X_test:  (42, 60)\n",
      "X_train:  (414, 64)  X_test:  (46, 64)\n",
      "Her2 :  (218, 24370)\n",
      "X_train:  (176, 33)  X_test:  (20, 33)\n",
      "X_train:  (196, 36)  X_test:  (22, 36)\n",
      "Normal :  (140, 24370)\n",
      "X_train:  (113, 23)  X_test:  (13, 23)\n",
      "X_train:  (126, 25)  X_test:  (14, 25)\n",
      "Basal :  (199, 24370)\n",
      "X_train:  (161, 34)  X_test:  (18, 34)\n",
      "X_train:  (179, 37)  X_test:  (20, 37)\n",
      "NC :  (6, 24370)\n",
      "ER-_HER2- :  (290, 24370)\n",
      "X_train:  (234, 41)  X_test:  (27, 41)\n",
      "X_train:  (261, 44)  X_test:  (29, 44)\n",
      "ER+_HER2-_High_Prolif :  (600, 24370)\n",
      "X_train:  (486, 74)  X_test:  (54, 74)\n",
      "X_train:  (540, 79)  X_test:  (60, 79)\n",
      "nan :  (0, 24370)\n",
      "ER+_HER2-_Low_Prolif :  (615, 24370)\n",
      "X_train:  (497, 65)  X_test:  (56, 65)\n",
      "X_train:  (553, 69)  X_test:  (62, 69)\n",
      "HER2+ :  (187, 24370)\n",
      "X_train:  (151, 33)  X_test:  (17, 33)\n",
      "X_train:  (168, 36)  X_test:  (19, 36)\n",
      "++++++++++++++++++++++++++++++++++++++++++++++++++++++++++++++++++++++++++++++++++++++++++++++++++++\n",
      "48\n",
      "claudin-low :  (197, 24370)\n",
      "X_train:  (159, 28)  X_test:  (18, 28)\n",
      "X_train:  (177, 30)  X_test:  (20, 30)\n",
      "LumA :  (673, 24370)\n",
      "X_train:  (544, 75)  X_test:  (61, 75)\n",
      "X_train:  (605, 80)  X_test:  (68, 80)\n",
      "LumB :  (460, 24370)\n",
      "X_train:  (372, 63)  X_test:  (42, 63)\n",
      "X_train:  (414, 68)  X_test:  (46, 68)\n",
      "Her2 :  (218, 24370)\n",
      "X_train:  (176, 35)  X_test:  (20, 35)\n",
      "X_train:  (196, 37)  X_test:  (22, 37)\n",
      "Normal :  (140, 24370)\n",
      "X_train:  (113, 24)  X_test:  (13, 24)\n",
      "X_train:  (126, 26)  X_test:  (14, 26)\n",
      "Basal :  (199, 24370)\n",
      "X_train:  (161, 36)  X_test:  (18, 36)\n",
      "X_train:  (179, 38)  X_test:  (20, 38)\n",
      "NC :  (6, 24370)\n",
      "ER-_HER2- :  (290, 24370)\n",
      "X_train:  (234, 43)  X_test:  (27, 43)\n",
      "X_train:  (261, 47)  X_test:  (29, 47)\n",
      "ER+_HER2-_High_Prolif :  (600, 24370)\n",
      "X_train:  (486, 78)  X_test:  (54, 78)\n",
      "X_train:  (540, 84)  X_test:  (60, 84)\n",
      "nan :  (0, 24370)\n",
      "ER+_HER2-_Low_Prolif :  (615, 24370)\n",
      "X_train:  (497, 70)  X_test:  (56, 70)\n",
      "X_train:  (553, 74)  X_test:  (62, 74)\n",
      "HER2+ :  (187, 24370)\n",
      "X_train:  (151, 35)  X_test:  (17, 35)\n",
      "X_train:  (168, 38)  X_test:  (19, 38)\n",
      "++++++++++++++++++++++++++++++++++++++++++++++++++++++++++++++++++++++++++++++++++++++++++++++++++++\n",
      "49\n",
      "claudin-low :  (197, 24370)\n",
      "X_train:  (159, 30)  X_test:  (18, 30)\n",
      "X_train:  (177, 32)  X_test:  (20, 32)\n",
      "LumA :  (673, 24370)\n",
      "X_train:  (544, 80)  X_test:  (61, 80)\n",
      "X_train:  (605, 86)  X_test:  (68, 86)\n",
      "LumB :  (460, 24370)\n",
      "X_train:  (372, 66)  X_test:  (42, 66)\n",
      "X_train:  (414, 72)  X_test:  (46, 72)\n",
      "Her2 :  (218, 24370)\n",
      "X_train:  (176, 37)  X_test:  (20, 37)\n",
      "X_train:  (196, 39)  X_test:  (22, 39)\n",
      "Normal :  (140, 24370)\n",
      "X_train:  (113, 26)  X_test:  (13, 26)\n",
      "X_train:  (126, 28)  X_test:  (14, 28)\n",
      "Basal :  (199, 24370)\n",
      "X_train:  (161, 38)  X_test:  (18, 38)\n",
      "X_train:  (179, 40)  X_test:  (20, 40)\n",
      "NC :  (6, 24370)\n",
      "ER-_HER2- :  (290, 24370)\n",
      "X_train:  (234, 45)  X_test:  (27, 45)\n",
      "X_train:  (261, 49)  X_test:  (29, 49)\n",
      "ER+_HER2-_High_Prolif :  (600, 24370)\n",
      "X_train:  (486, 82)  X_test:  (54, 82)\n",
      "X_train:  (540, 89)  X_test:  (60, 89)\n",
      "nan :  (0, 24370)\n",
      "ER+_HER2-_Low_Prolif :  (615, 24370)\n",
      "X_train:  (497, 74)  X_test:  (56, 74)\n",
      "X_train:  (553, 79)  X_test:  (62, 79)\n",
      "HER2+ :  (187, 24370)\n",
      "X_train:  (151, 36)  X_test:  (17, 36)\n",
      "X_train:  (168, 40)  X_test:  (19, 40)\n",
      "++++++++++++++++++++++++++++++++++++++++++++++++++++++++++++++++++++++++++++++++++++++++++++++++++++\n",
      "50\n",
      "claudin-low :  (197, 24370)\n",
      "X_train:  (159, 31)  X_test:  (18, 31)\n",
      "X_train:  (177, 33)  X_test:  (20, 33)\n",
      "LumA :  (673, 24370)\n",
      "X_train:  (544, 85)  X_test:  (61, 85)\n",
      "X_train:  (605, 91)  X_test:  (68, 91)\n",
      "LumB :  (460, 24370)\n",
      "X_train:  (372, 70)  X_test:  (42, 70)\n",
      "X_train:  (414, 76)  X_test:  (46, 76)\n",
      "Her2 :  (218, 24370)\n",
      "X_train:  (176, 38)  X_test:  (20, 38)\n",
      "X_train:  (196, 41)  X_test:  (22, 41)\n",
      "Normal :  (140, 24370)\n",
      "X_train:  (113, 27)  X_test:  (13, 27)\n",
      "X_train:  (126, 29)  X_test:  (14, 29)\n",
      "Basal :  (199, 24370)\n",
      "X_train:  (161, 39)  X_test:  (18, 39)\n",
      "X_train:  (179, 42)  X_test:  (20, 42)\n",
      "NC :  (6, 24370)\n",
      "ER-_HER2- :  (290, 24370)\n",
      "X_train:  (234, 48)  X_test:  (27, 48)\n",
      "X_train:  (261, 52)  X_test:  (29, 52)\n",
      "ER+_HER2-_High_Prolif :  (600, 24370)\n",
      "X_train:  (486, 87)  X_test:  (54, 87)\n",
      "X_train:  (540, 94)  X_test:  (60, 94)\n",
      "nan :  (0, 24370)\n",
      "ER+_HER2-_Low_Prolif :  (615, 24370)\n",
      "X_train:  (497, 79)  X_test:  (56, 79)\n",
      "X_train:  (553, 84)  X_test:  (62, 84)\n",
      "HER2+ :  (187, 24370)\n",
      "X_train:  (151, 38)  X_test:  (17, 38)\n",
      "X_train:  (168, 41)  X_test:  (19, 41)\n",
      "++++++++++++++++++++++++++++++++++++++++++++++++++++++++++++++++++++++++++++++++++++++++++++++++++++\n",
      "51\n",
      "claudin-low :  (197, 24370)\n",
      "X_train:  (159, 33)  X_test:  (18, 33)\n",
      "X_train:  (177, 35)  X_test:  (20, 35)\n",
      "LumA :  (673, 24370)\n",
      "X_train:  (544, 90)  X_test:  (61, 90)\n",
      "X_train:  (605, 97)  X_test:  (68, 97)\n",
      "LumB :  (460, 24370)\n",
      "X_train:  (372, 74)  X_test:  (42, 74)\n",
      "X_train:  (414, 80)  X_test:  (46, 80)\n",
      "Her2 :  (218, 24370)\n",
      "X_train:  (176, 40)  X_test:  (20, 40)\n",
      "X_train:  (196, 43)  X_test:  (22, 43)\n",
      "Normal :  (140, 24370)\n",
      "X_train:  (113, 28)  X_test:  (13, 28)\n",
      "X_train:  (126, 30)  X_test:  (14, 30)\n",
      "Basal :  (199, 24370)\n",
      "X_train:  (161, 41)  X_test:  (18, 41)\n",
      "X_train:  (179, 43)  X_test:  (20, 43)\n",
      "NC :  (6, 24370)\n",
      "ER-_HER2- :  (290, 24370)\n",
      "X_train:  (234, 50)  X_test:  (27, 50)\n",
      "X_train:  (261, 54)  X_test:  (29, 54)\n",
      "ER+_HER2-_High_Prolif :  (600, 24370)\n",
      "X_train:  (486, 92)  X_test:  (54, 92)\n",
      "X_train:  (540, 99)  X_test:  (60, 99)\n",
      "nan :  (0, 24370)\n",
      "ER+_HER2-_Low_Prolif :  (615, 24370)\n",
      "X_train:  (497, 84)  X_test:  (56, 84)\n",
      "X_train:  (553, 90)  X_test:  (62, 90)\n",
      "HER2+ :  (187, 24370)\n",
      "X_train:  (151, 39)  X_test:  (17, 39)\n",
      "X_train:  (168, 43)  X_test:  (19, 43)\n",
      "++++++++++++++++++++++++++++++++++++++++++++++++++++++++++++++++++++++++++++++++++++++++++++++++++++\n",
      "52\n",
      "claudin-low :  (197, 24370)\n",
      "X_train:  (159, 35)  X_test:  (18, 35)\n",
      "X_train:  (177, 37)  X_test:  (20, 37)\n",
      "LumA :  (673, 24370)\n",
      "X_train:  (544, 96)  X_test:  (61, 96)\n",
      "X_train:  (605, 103)  X_test:  (68, 103)\n",
      "LumB :  (460, 24370)\n",
      "X_train:  (372, 77)  X_test:  (42, 77)\n",
      "X_train:  (414, 84)  X_test:  (46, 84)\n",
      "Her2 :  (218, 24370)\n",
      "X_train:  (176, 42)  X_test:  (20, 42)\n",
      "X_train:  (196, 45)  X_test:  (22, 45)\n",
      "Normal :  (140, 24370)\n",
      "X_train:  (113, 29)  X_test:  (13, 29)\n",
      "X_train:  (126, 31)  X_test:  (14, 31)\n",
      "Basal :  (199, 24370)\n",
      "X_train:  (161, 42)  X_test:  (18, 42)\n",
      "X_train:  (179, 45)  X_test:  (20, 45)\n",
      "NC :  (6, 24370)\n",
      "ER-_HER2- :  (290, 24370)\n",
      "X_train:  (234, 52)  X_test:  (27, 52)\n",
      "X_train:  (261, 57)  X_test:  (29, 57)\n",
      "ER+_HER2-_High_Prolif :  (600, 24370)\n",
      "X_train:  (486, 97)  X_test:  (54, 97)\n",
      "X_train:  (540, 105)  X_test:  (60, 105)\n",
      "nan :  (0, 24370)\n",
      "ER+_HER2-_Low_Prolif :  (615, 24370)\n",
      "X_train:  (497, 89)  X_test:  (56, 89)\n",
      "X_train:  (553, 96)  X_test:  (62, 96)\n",
      "HER2+ :  (187, 24370)\n",
      "X_train:  (151, 41)  X_test:  (17, 41)\n",
      "X_train:  (168, 45)  X_test:  (19, 45)\n",
      "++++++++++++++++++++++++++++++++++++++++++++++++++++++++++++++++++++++++++++++++++++++++++++++++++++\n",
      "53\n",
      "claudin-low :  (197, 24370)\n",
      "X_train:  (159, 36)  X_test:  (18, 36)\n",
      "X_train:  (177, 39)  X_test:  (20, 39)\n",
      "LumA :  (673, 24370)\n",
      "X_train:  (544, 101)  X_test:  (61, 101)\n",
      "X_train:  (605, 110)  X_test:  (68, 110)\n",
      "LumB :  (460, 24370)\n",
      "X_train:  (372, 81)  X_test:  (42, 81)\n",
      "X_train:  (414, 88)  X_test:  (46, 88)\n",
      "Her2 :  (218, 24370)\n",
      "X_train:  (176, 44)  X_test:  (20, 44)\n",
      "X_train:  (196, 47)  X_test:  (22, 47)\n",
      "Normal :  (140, 24370)\n",
      "X_train:  (113, 30)  X_test:  (13, 30)\n",
      "X_train:  (126, 33)  X_test:  (14, 33)\n",
      "Basal :  (199, 24370)\n",
      "X_train:  (161, 44)  X_test:  (18, 44)\n",
      "X_train:  (179, 47)  X_test:  (20, 47)\n",
      "NC :  (6, 24370)\n",
      "ER-_HER2- :  (290, 24370)\n",
      "X_train:  (234, 55)  X_test:  (27, 55)\n",
      "X_train:  (261, 60)  X_test:  (29, 60)\n",
      "ER+_HER2-_High_Prolif :  (600, 24370)\n",
      "X_train:  (486, 102)  X_test:  (54, 102)\n",
      "X_train:  (540, 110)  X_test:  (60, 110)\n",
      "nan :  (0, 24370)\n",
      "ER+_HER2-_Low_Prolif :  (615, 24370)\n",
      "X_train:  (497, 94)  X_test:  (56, 94)\n",
      "X_train:  (553, 101)  X_test:  (62, 101)\n",
      "HER2+ :  (187, 24370)\n",
      "X_train:  (151, 43)  X_test:  (17, 43)\n",
      "X_train:  (168, 47)  X_test:  (19, 47)\n",
      "++++++++++++++++++++++++++++++++++++++++++++++++++++++++++++++++++++++++++++++++++++++++++++++++++++\n",
      "54\n",
      "claudin-low :  (197, 24370)\n",
      "X_train:  (159, 38)  X_test:  (18, 38)\n",
      "X_train:  (177, 41)  X_test:  (20, 41)\n",
      "LumA :  (673, 24370)\n",
      "X_train:  (544, 107)  X_test:  (61, 107)\n",
      "X_train:  (605, 116)  X_test:  (68, 116)\n",
      "LumB :  (460, 24370)\n",
      "X_train:  (372, 85)  X_test:  (42, 85)\n",
      "X_train:  (414, 93)  X_test:  (46, 93)\n",
      "Her2 :  (218, 24370)\n",
      "X_train:  (176, 46)  X_test:  (20, 46)\n",
      "X_train:  (196, 49)  X_test:  (22, 49)\n",
      "Normal :  (140, 24370)\n",
      "X_train:  (113, 31)  X_test:  (13, 31)\n",
      "X_train:  (126, 34)  X_test:  (14, 34)\n",
      "Basal :  (199, 24370)\n",
      "X_train:  (161, 46)  X_test:  (18, 46)\n",
      "X_train:  (179, 49)  X_test:  (20, 49)\n",
      "NC :  (6, 24370)\n",
      "ER-_HER2- :  (290, 24370)\n",
      "X_train:  (234, 57)  X_test:  (27, 57)\n",
      "X_train:  (261, 62)  X_test:  (29, 62)\n",
      "ER+_HER2-_High_Prolif :  (600, 24370)\n",
      "X_train:  (486, 107)  X_test:  (54, 107)\n",
      "X_train:  (540, 116)  X_test:  (60, 116)\n",
      "nan :  (0, 24370)\n",
      "ER+_HER2-_Low_Prolif :  (615, 24370)\n",
      "X_train:  (497, 99)  X_test:  (56, 99)\n",
      "X_train:  (553, 107)  X_test:  (62, 107)\n",
      "HER2+ :  (187, 24370)\n",
      "X_train:  (151, 44)  X_test:  (17, 44)\n",
      "X_train:  (168, 48)  X_test:  (19, 48)\n",
      "++++++++++++++++++++++++++++++++++++++++++++++++++++++++++++++++++++++++++++++++++++++++++++++++++++\n",
      "55\n",
      "claudin-low :  (197, 24370)\n",
      "X_train:  (159, 40)  X_test:  (18, 40)\n",
      "X_train:  (177, 43)  X_test:  (20, 43)\n",
      "LumA :  (673, 24370)\n",
      "X_train:  (544, 113)  X_test:  (61, 113)\n",
      "X_train:  (605, 123)  X_test:  (68, 123)\n",
      "LumB :  (460, 24370)\n",
      "X_train:  (372, 89)  X_test:  (42, 89)\n",
      "X_train:  (414, 97)  X_test:  (46, 97)\n",
      "Her2 :  (218, 24370)\n",
      "X_train:  (176, 48)  X_test:  (20, 48)\n",
      "X_train:  (196, 52)  X_test:  (22, 52)\n",
      "Normal :  (140, 24370)\n",
      "X_train:  (113, 32)  X_test:  (13, 32)\n",
      "X_train:  (126, 35)  X_test:  (14, 35)\n",
      "Basal :  (199, 24370)\n",
      "X_train:  (161, 48)  X_test:  (18, 48)\n",
      "X_train:  (179, 51)  X_test:  (20, 51)\n",
      "NC :  (6, 24370)\n",
      "ER-_HER2- :  (290, 24370)\n",
      "X_train:  (234, 60)  X_test:  (27, 60)\n",
      "X_train:  (261, 65)  X_test:  (29, 65)\n",
      "ER+_HER2-_High_Prolif :  (600, 24370)\n",
      "X_train:  (486, 112)  X_test:  (54, 112)\n",
      "X_train:  (540, 122)  X_test:  (60, 122)\n",
      "nan :  (0, 24370)\n",
      "ER+_HER2-_Low_Prolif :  (615, 24370)\n",
      "X_train:  (497, 105)  X_test:  (56, 105)\n",
      "X_train:  (553, 114)  X_test:  (62, 114)\n",
      "HER2+ :  (187, 24370)\n",
      "X_train:  (151, 46)  X_test:  (17, 46)\n",
      "X_train:  (168, 50)  X_test:  (19, 50)\n",
      "++++++++++++++++++++++++++++++++++++++++++++++++++++++++++++++++++++++++++++++++++++++++++++++++++++\n",
      "56\n",
      "claudin-low :  (197, 24370)\n",
      "X_train:  (159, 41)  X_test:  (18, 41)\n",
      "X_train:  (177, 44)  X_test:  (20, 44)\n",
      "LumA :  (673, 24370)\n",
      "X_train:  (544, 119)  X_test:  (61, 119)\n",
      "X_train:  (605, 130)  X_test:  (68, 130)\n",
      "LumB :  (460, 24370)\n",
      "X_train:  (372, 94)  X_test:  (42, 94)\n",
      "X_train:  (414, 102)  X_test:  (46, 102)\n",
      "Her2 :  (218, 24370)\n",
      "X_train:  (176, 49)  X_test:  (20, 49)\n",
      "X_train:  (196, 54)  X_test:  (22, 54)\n",
      "Normal :  (140, 24370)\n",
      "X_train:  (113, 34)  X_test:  (13, 34)\n",
      "X_train:  (126, 37)  X_test:  (14, 37)\n",
      "Basal :  (199, 24370)\n",
      "X_train:  (161, 49)  X_test:  (18, 49)\n",
      "X_train:  (179, 53)  X_test:  (20, 53)\n",
      "NC :  (6, 24370)\n",
      "ER-_HER2- :  (290, 24370)\n",
      "X_train:  (234, 62)  X_test:  (27, 62)\n",
      "X_train:  (261, 68)  X_test:  (29, 68)\n",
      "ER+_HER2-_High_Prolif :  (600, 24370)\n",
      "X_train:  (486, 118)  X_test:  (54, 118)\n",
      "X_train:  (540, 128)  X_test:  (60, 128)\n",
      "nan :  (0, 24370)\n",
      "ER+_HER2-_Low_Prolif :  (615, 24370)\n",
      "X_train:  (497, 111)  X_test:  (56, 111)\n",
      "X_train:  (553, 120)  X_test:  (62, 120)\n",
      "HER2+ :  (187, 24370)\n",
      "X_train:  (151, 48)  X_test:  (17, 48)\n",
      "X_train:  (168, 52)  X_test:  (19, 52)\n",
      "++++++++++++++++++++++++++++++++++++++++++++++++++++++++++++++++++++++++++++++++++++++++++++++++++++\n",
      "57\n",
      "claudin-low :  (197, 24370)\n",
      "X_train:  (159, 43)  X_test:  (18, 43)\n",
      "X_train:  (177, 46)  X_test:  (20, 46)\n",
      "LumA :  (673, 24370)\n",
      "X_train:  (544, 126)  X_test:  (61, 126)\n",
      "X_train:  (605, 137)  X_test:  (68, 137)\n",
      "LumB :  (460, 24370)\n",
      "X_train:  (372, 98)  X_test:  (42, 98)\n",
      "X_train:  (414, 107)  X_test:  (46, 107)\n",
      "Her2 :  (218, 24370)\n",
      "X_train:  (176, 51)  X_test:  (20, 51)\n",
      "X_train:  (196, 56)  X_test:  (22, 56)\n",
      "Normal :  (140, 24370)\n",
      "X_train:  (113, 35)  X_test:  (13, 35)\n",
      "X_train:  (126, 38)  X_test:  (14, 38)\n",
      "Basal :  (199, 24370)\n",
      "X_train:  (161, 51)  X_test:  (18, 51)\n",
      "X_train:  (179, 55)  X_test:  (20, 55)\n",
      "NC :  (6, 24370)\n",
      "ER-_HER2- :  (290, 24370)\n",
      "X_train:  (234, 65)  X_test:  (27, 65)\n",
      "X_train:  (261, 71)  X_test:  (29, 71)\n",
      "ER+_HER2-_High_Prolif :  (600, 24370)\n",
      "X_train:  (486, 123)  X_test:  (54, 123)\n",
      "X_train:  (540, 134)  X_test:  (60, 134)\n",
      "nan :  (0, 24370)\n",
      "ER+_HER2-_Low_Prolif :  (615, 24370)\n",
      "X_train:  (497, 117)  X_test:  (56, 117)\n",
      "X_train:  (553, 126)  X_test:  (62, 126)\n",
      "HER2+ :  (187, 24370)\n",
      "X_train:  (151, 49)  X_test:  (17, 49)\n",
      "X_train:  (168, 54)  X_test:  (19, 54)\n",
      "++++++++++++++++++++++++++++++++++++++++++++++++++++++++++++++++++++++++++++++++++++++++++++++++++++\n",
      "58\n",
      "claudin-low :  (197, 24370)\n",
      "X_train:  (159, 45)  X_test:  (18, 45)\n",
      "X_train:  (177, 49)  X_test:  (20, 49)\n",
      "LumA :  (673, 24370)\n",
      "X_train:  (544, 132)  X_test:  (61, 132)\n",
      "X_train:  (605, 144)  X_test:  (68, 144)\n",
      "LumB :  (460, 24370)\n",
      "X_train:  (372, 102)  X_test:  (42, 102)\n",
      "X_train:  (414, 112)  X_test:  (46, 112)\n",
      "Her2 :  (218, 24370)\n",
      "X_train:  (176, 54)  X_test:  (20, 54)\n",
      "X_train:  (196, 58)  X_test:  (22, 58)\n",
      "Normal :  (140, 24370)\n",
      "X_train:  (113, 36)  X_test:  (13, 36)\n",
      "X_train:  (126, 39)  X_test:  (14, 39)\n",
      "Basal :  (199, 24370)\n",
      "X_train:  (161, 53)  X_test:  (18, 53)\n",
      "X_train:  (179, 57)  X_test:  (20, 57)\n",
      "NC :  (6, 24370)\n",
      "ER-_HER2- :  (290, 24370)\n",
      "X_train:  (234, 68)  X_test:  (27, 68)\n",
      "X_train:  (261, 74)  X_test:  (29, 74)\n",
      "ER+_HER2-_High_Prolif :  (600, 24370)\n",
      "X_train:  (486, 129)  X_test:  (54, 129)\n",
      "X_train:  (540, 141)  X_test:  (60, 141)\n",
      "nan :  (0, 24370)\n",
      "ER+_HER2-_Low_Prolif :  (615, 24370)\n",
      "X_train:  (497, 123)  X_test:  (56, 123)\n",
      "X_train:  (553, 133)  X_test:  (62, 133)\n",
      "HER2+ :  (187, 24370)\n",
      "X_train:  (151, 51)  X_test:  (17, 51)\n",
      "X_train:  (168, 56)  X_test:  (19, 56)\n",
      "++++++++++++++++++++++++++++++++++++++++++++++++++++++++++++++++++++++++++++++++++++++++++++++++++++\n",
      "59\n",
      "claudin-low :  (197, 24370)\n",
      "X_train:  (159, 47)  X_test:  (18, 47)\n",
      "X_train:  (177, 51)  X_test:  (20, 51)\n",
      "LumA :  (673, 24370)\n",
      "X_train:  (544, 139)  X_test:  (61, 139)\n",
      "X_train:  (605, 151)  X_test:  (68, 151)\n",
      "LumB :  (460, 24370)\n",
      "X_train:  (372, 107)  X_test:  (42, 107)\n",
      "X_train:  (414, 117)  X_test:  (46, 117)\n",
      "Her2 :  (218, 24370)\n",
      "X_train:  (176, 56)  X_test:  (20, 56)\n",
      "X_train:  (196, 61)  X_test:  (22, 61)\n",
      "Normal :  (140, 24370)\n",
      "X_train:  (113, 38)  X_test:  (13, 38)\n",
      "X_train:  (126, 41)  X_test:  (14, 41)\n",
      "Basal :  (199, 24370)\n",
      "X_train:  (161, 55)  X_test:  (18, 55)\n",
      "X_train:  (179, 59)  X_test:  (20, 59)\n",
      "NC :  (6, 24370)\n",
      "ER-_HER2- :  (290, 24370)\n",
      "X_train:  (234, 71)  X_test:  (27, 71)\n",
      "X_train:  (261, 77)  X_test:  (29, 77)\n",
      "ER+_HER2-_High_Prolif :  (600, 24370)\n",
      "X_train:  (486, 135)  X_test:  (54, 135)\n",
      "X_train:  (540, 147)  X_test:  (60, 147)\n",
      "nan :  (0, 24370)\n",
      "ER+_HER2-_Low_Prolif :  (615, 24370)\n",
      "X_train:  (497, 129)  X_test:  (56, 129)\n",
      "X_train:  (553, 140)  X_test:  (62, 140)\n",
      "HER2+ :  (187, 24370)\n",
      "X_train:  (151, 53)  X_test:  (17, 53)\n",
      "X_train:  (168, 58)  X_test:  (19, 58)\n",
      "++++++++++++++++++++++++++++++++++++++++++++++++++++++++++++++++++++++++++++++++++++++++++++++++++++\n",
      "60\n",
      "claudin-low :  (197, 24370)\n",
      "X_train:  (159, 49)  X_test:  (18, 49)\n",
      "X_train:  (177, 53)  X_test:  (20, 53)\n",
      "LumA :  (673, 24370)\n",
      "X_train:  (544, 145)  X_test:  (61, 145)\n",
      "X_train:  (605, 159)  X_test:  (68, 159)\n",
      "LumB :  (460, 24370)\n",
      "X_train:  (372, 111)  X_test:  (42, 111)\n",
      "X_train:  (414, 122)  X_test:  (46, 122)\n",
      "Her2 :  (218, 24370)\n",
      "X_train:  (176, 58)  X_test:  (20, 58)\n",
      "X_train:  (196, 63)  X_test:  (22, 63)\n",
      "Normal :  (140, 24370)\n",
      "X_train:  (113, 39)  X_test:  (13, 39)\n",
      "X_train:  (126, 42)  X_test:  (14, 42)\n",
      "Basal :  (199, 24370)\n",
      "X_train:  (161, 57)  X_test:  (18, 57)\n",
      "X_train:  (179, 61)  X_test:  (20, 61)\n",
      "NC :  (6, 24370)\n",
      "ER-_HER2- :  (290, 24370)\n",
      "X_train:  (234, 74)  X_test:  (27, 74)\n",
      "X_train:  (261, 80)  X_test:  (29, 80)\n",
      "ER+_HER2-_High_Prolif :  (600, 24370)\n",
      "X_train:  (486, 141)  X_test:  (54, 141)\n",
      "X_train:  (540, 154)  X_test:  (60, 154)\n",
      "nan :  (0, 24370)\n",
      "ER+_HER2-_Low_Prolif :  (615, 24370)\n",
      "X_train:  (497, 135)  X_test:  (56, 135)\n",
      "X_train:  (553, 147)  X_test:  (62, 147)\n",
      "HER2+ :  (187, 24370)\n",
      "X_train:  (151, 55)  X_test:  (17, 55)\n",
      "X_train:  (168, 60)  X_test:  (19, 60)\n",
      "++++++++++++++++++++++++++++++++++++++++++++++++++++++++++++++++++++++++++++++++++++++++++++++++++++\n",
      "61\n",
      "claudin-low :  (197, 24370)\n",
      "X_train:  (159, 51)  X_test:  (18, 51)\n",
      "X_train:  (177, 55)  X_test:  (20, 55)\n",
      "LumA :  (673, 24370)\n",
      "X_train:  (544, 152)  X_test:  (61, 152)\n",
      "X_train:  (605, 167)  X_test:  (68, 167)\n",
      "LumB :  (460, 24370)\n",
      "X_train:  (372, 116)  X_test:  (42, 116)\n",
      "X_train:  (414, 127)  X_test:  (46, 127)\n",
      "Her2 :  (218, 24370)\n",
      "X_train:  (176, 60)  X_test:  (20, 60)\n",
      "X_train:  (196, 65)  X_test:  (22, 65)\n",
      "Normal :  (140, 24370)\n",
      "X_train:  (113, 40)  X_test:  (13, 40)\n",
      "X_train:  (126, 44)  X_test:  (14, 44)\n",
      "Basal :  (199, 24370)\n",
      "X_train:  (161, 59)  X_test:  (18, 59)\n",
      "X_train:  (179, 63)  X_test:  (20, 63)\n",
      "NC :  (6, 24370)\n",
      "ER-_HER2- :  (290, 24370)\n",
      "X_train:  (234, 76)  X_test:  (27, 76)\n",
      "X_train:  (261, 84)  X_test:  (29, 84)\n",
      "ER+_HER2-_High_Prolif :  (600, 24370)\n",
      "X_train:  (486, 147)  X_test:  (54, 147)\n",
      "X_train:  (540, 161)  X_test:  (60, 161)\n",
      "nan :  (0, 24370)\n",
      "ER+_HER2-_Low_Prolif :  (615, 24370)\n",
      "X_train:  (497, 141)  X_test:  (56, 141)\n",
      "X_train:  (553, 154)  X_test:  (62, 154)\n",
      "HER2+ :  (187, 24370)\n",
      "X_train:  (151, 56)  X_test:  (17, 56)\n",
      "X_train:  (168, 62)  X_test:  (19, 62)\n",
      "++++++++++++++++++++++++++++++++++++++++++++++++++++++++++++++++++++++++++++++++++++++++++++++++++++\n",
      "62\n",
      "claudin-low :  (197, 24370)\n",
      "X_train:  (159, 53)  X_test:  (18, 53)\n",
      "X_train:  (177, 57)  X_test:  (20, 57)\n",
      "LumA :  (673, 24370)\n",
      "X_train:  (544, 159)  X_test:  (61, 159)\n",
      "X_train:  (605, 174)  X_test:  (68, 174)\n",
      "LumB :  (460, 24370)\n",
      "X_train:  (372, 121)  X_test:  (42, 121)\n",
      "X_train:  (414, 132)  X_test:  (46, 132)\n",
      "Her2 :  (218, 24370)\n",
      "X_train:  (176, 62)  X_test:  (20, 62)\n",
      "X_train:  (196, 68)  X_test:  (22, 68)\n",
      "Normal :  (140, 24370)\n",
      "X_train:  (113, 42)  X_test:  (13, 42)\n",
      "X_train:  (126, 45)  X_test:  (14, 45)\n",
      "Basal :  (199, 24370)\n",
      "X_train:  (161, 61)  X_test:  (18, 61)\n",
      "X_train:  (179, 66)  X_test:  (20, 66)\n",
      "NC :  (6, 24370)\n",
      "ER-_HER2- :  (290, 24370)\n",
      "X_train:  (234, 79)  X_test:  (27, 79)\n",
      "X_train:  (261, 87)  X_test:  (29, 87)\n",
      "ER+_HER2-_High_Prolif :  (600, 24370)\n",
      "X_train:  (486, 153)  X_test:  (54, 153)\n",
      "X_train:  (540, 168)  X_test:  (60, 168)\n",
      "nan :  (0, 24370)\n",
      "ER+_HER2-_Low_Prolif :  (615, 24370)\n",
      "X_train:  (497, 148)  X_test:  (56, 148)\n",
      "X_train:  (553, 161)  X_test:  (62, 161)\n",
      "HER2+ :  (187, 24370)\n",
      "X_train:  (151, 58)  X_test:  (17, 58)\n",
      "X_train:  (168, 64)  X_test:  (19, 64)\n",
      "++++++++++++++++++++++++++++++++++++++++++++++++++++++++++++++++++++++++++++++++++++++++++++++++++++\n",
      "63\n",
      "claudin-low :  (197, 24370)\n",
      "X_train:  (159, 55)  X_test:  (18, 55)\n",
      "X_train:  (177, 60)  X_test:  (20, 60)\n",
      "LumA :  (673, 24370)\n",
      "X_train:  (544, 167)  X_test:  (61, 167)\n",
      "X_train:  (605, 182)  X_test:  (68, 182)\n",
      "LumB :  (460, 24370)\n",
      "X_train:  (372, 126)  X_test:  (42, 126)\n",
      "X_train:  (414, 138)  X_test:  (46, 138)\n",
      "Her2 :  (218, 24370)\n",
      "X_train:  (176, 64)  X_test:  (20, 64)\n",
      "X_train:  (196, 70)  X_test:  (22, 70)\n",
      "Normal :  (140, 24370)\n",
      "X_train:  (113, 43)  X_test:  (13, 43)\n",
      "X_train:  (126, 47)  X_test:  (14, 47)\n",
      "Basal :  (199, 24370)\n",
      "X_train:  (161, 63)  X_test:  (18, 63)\n",
      "X_train:  (179, 68)  X_test:  (20, 68)\n",
      "NC :  (6, 24370)\n",
      "ER-_HER2- :  (290, 24370)\n",
      "X_train:  (234, 82)  X_test:  (27, 82)\n",
      "X_train:  (261, 90)  X_test:  (29, 90)\n",
      "ER+_HER2-_High_Prolif :  (600, 24370)\n",
      "X_train:  (486, 159)  X_test:  (54, 159)\n",
      "X_train:  (540, 175)  X_test:  (60, 175)\n",
      "nan :  (0, 24370)\n",
      "ER+_HER2-_Low_Prolif :  (615, 24370)\n",
      "X_train:  (497, 154)  X_test:  (56, 154)\n",
      "X_train:  (553, 168)  X_test:  (62, 168)\n",
      "HER2+ :  (187, 24370)\n",
      "X_train:  (151, 60)  X_test:  (17, 60)\n",
      "X_train:  (168, 66)  X_test:  (19, 66)\n",
      "++++++++++++++++++++++++++++++++++++++++++++++++++++++++++++++++++++++++++++++++++++++++++++++++++++\n",
      "64\n",
      "claudin-low :  (197, 24370)\n",
      "X_train:  (159, 57)  X_test:  (18, 57)\n",
      "X_train:  (177, 62)  X_test:  (20, 62)\n",
      "LumA :  (673, 24370)\n",
      "X_train:  (544, 174)  X_test:  (61, 174)\n",
      "X_train:  (605, 191)  X_test:  (68, 191)\n",
      "LumB :  (460, 24370)\n",
      "X_train:  (372, 130)  X_test:  (42, 130)\n",
      "X_train:  (414, 143)  X_test:  (46, 143)\n",
      "Her2 :  (218, 24370)\n",
      "X_train:  (176, 67)  X_test:  (20, 67)\n",
      "X_train:  (196, 73)  X_test:  (22, 73)\n",
      "Normal :  (140, 24370)\n",
      "X_train:  (113, 44)  X_test:  (13, 44)\n",
      "X_train:  (126, 49)  X_test:  (14, 49)\n",
      "Basal :  (199, 24370)\n",
      "X_train:  (161, 65)  X_test:  (18, 65)\n",
      "X_train:  (179, 70)  X_test:  (20, 70)\n",
      "NC :  (6, 24370)\n",
      "ER-_HER2- :  (290, 24370)\n",
      "X_train:  (234, 85)  X_test:  (27, 85)\n",
      "X_train:  (261, 94)  X_test:  (29, 94)\n",
      "ER+_HER2-_High_Prolif :  (600, 24370)\n",
      "X_train:  (486, 166)  X_test:  (54, 166)\n",
      "X_train:  (540, 182)  X_test:  (60, 182)\n",
      "nan :  (0, 24370)\n",
      "ER+_HER2-_Low_Prolif :  (615, 24370)\n",
      "X_train:  (497, 161)  X_test:  (56, 161)\n",
      "X_train:  (553, 176)  X_test:  (62, 176)\n",
      "HER2+ :  (187, 24370)\n",
      "X_train:  (151, 62)  X_test:  (17, 62)\n",
      "X_train:  (168, 68)  X_test:  (19, 68)\n",
      "++++++++++++++++++++++++++++++++++++++++++++++++++++++++++++++++++++++++++++++++++++++++++++++++++++\n",
      "65\n",
      "claudin-low :  (197, 24370)\n",
      "X_train:  (159, 59)  X_test:  (18, 59)\n",
      "X_train:  (177, 64)  X_test:  (20, 64)\n",
      "LumA :  (673, 24370)\n",
      "X_train:  (544, 181)  X_test:  (61, 181)\n",
      "X_train:  (605, 199)  X_test:  (68, 199)\n",
      "LumB :  (460, 24370)\n",
      "X_train:  (372, 135)  X_test:  (42, 135)\n",
      "X_train:  (414, 149)  X_test:  (46, 149)\n",
      "Her2 :  (218, 24370)\n",
      "X_train:  (176, 69)  X_test:  (20, 69)\n",
      "X_train:  (196, 75)  X_test:  (22, 75)\n",
      "Normal :  (140, 24370)\n",
      "X_train:  (113, 46)  X_test:  (13, 46)\n",
      "X_train:  (126, 50)  X_test:  (14, 50)\n",
      "Basal :  (199, 24370)\n",
      "X_train:  (161, 67)  X_test:  (18, 67)\n",
      "X_train:  (179, 72)  X_test:  (20, 72)\n",
      "NC :  (6, 24370)\n",
      "ER-_HER2- :  (290, 24370)\n",
      "X_train:  (234, 89)  X_test:  (27, 89)\n",
      "X_train:  (261, 97)  X_test:  (29, 97)\n",
      "ER+_HER2-_High_Prolif :  (600, 24370)\n",
      "X_train:  (486, 172)  X_test:  (54, 172)\n",
      "X_train:  (540, 189)  X_test:  (60, 189)\n",
      "nan :  (0, 24370)\n",
      "ER+_HER2-_Low_Prolif :  (615, 24370)\n",
      "X_train:  (497, 168)  X_test:  (56, 168)\n",
      "X_train:  (553, 183)  X_test:  (62, 183)\n",
      "HER2+ :  (187, 24370)\n",
      "X_train:  (151, 64)  X_test:  (17, 64)\n",
      "X_train:  (168, 71)  X_test:  (19, 71)\n",
      "++++++++++++++++++++++++++++++++++++++++++++++++++++++++++++++++++++++++++++++++++++++++++++++++++++\n",
      "66\n",
      "claudin-low :  (197, 24370)\n",
      "X_train:  (159, 61)  X_test:  (18, 61)\n",
      "X_train:  (177, 67)  X_test:  (20, 67)\n",
      "LumA :  (673, 24370)\n",
      "X_train:  (544, 189)  X_test:  (61, 189)\n",
      "X_train:  (605, 207)  X_test:  (68, 207)\n",
      "LumB :  (460, 24370)\n",
      "X_train:  (372, 141)  X_test:  (42, 141)\n",
      "X_train:  (414, 154)  X_test:  (46, 154)\n",
      "Her2 :  (218, 24370)\n",
      "X_train:  (176, 71)  X_test:  (20, 71)\n",
      "X_train:  (196, 78)  X_test:  (22, 78)\n",
      "Normal :  (140, 24370)\n",
      "X_train:  (113, 47)  X_test:  (13, 47)\n",
      "X_train:  (126, 52)  X_test:  (14, 52)\n",
      "Basal :  (199, 24370)\n",
      "X_train:  (161, 69)  X_test:  (18, 69)\n",
      "X_train:  (179, 75)  X_test:  (20, 75)\n",
      "NC :  (6, 24370)\n",
      "ER-_HER2- :  (290, 24370)\n",
      "X_train:  (234, 92)  X_test:  (27, 92)\n",
      "X_train:  (261, 101)  X_test:  (29, 101)\n",
      "ER+_HER2-_High_Prolif :  (600, 24370)\n",
      "X_train:  (486, 179)  X_test:  (54, 179)\n",
      "X_train:  (540, 197)  X_test:  (60, 197)\n",
      "nan :  (0, 24370)\n",
      "ER+_HER2-_Low_Prolif :  (615, 24370)\n",
      "X_train:  (497, 175)  X_test:  (56, 175)\n",
      "X_train:  (553, 191)  X_test:  (62, 191)\n",
      "HER2+ :  (187, 24370)\n",
      "X_train:  (151, 66)  X_test:  (17, 66)\n",
      "X_train:  (168, 73)  X_test:  (19, 73)\n",
      "++++++++++++++++++++++++++++++++++++++++++++++++++++++++++++++++++++++++++++++++++++++++++++++++++++\n",
      "67\n",
      "claudin-low :  (197, 24370)\n",
      "X_train:  (159, 63)  X_test:  (18, 63)\n",
      "X_train:  (177, 69)  X_test:  (20, 69)\n",
      "LumA :  (673, 24370)\n",
      "X_train:  (544, 197)  X_test:  (61, 197)\n",
      "X_train:  (605, 216)  X_test:  (68, 216)\n",
      "LumB :  (460, 24370)\n",
      "X_train:  (372, 146)  X_test:  (42, 146)\n",
      "X_train:  (414, 160)  X_test:  (46, 160)\n",
      "Her2 :  (218, 24370)\n",
      "X_train:  (176, 74)  X_test:  (20, 74)\n",
      "X_train:  (196, 81)  X_test:  (22, 81)\n",
      "Normal :  (140, 24370)\n",
      "X_train:  (113, 49)  X_test:  (13, 49)\n",
      "X_train:  (126, 54)  X_test:  (14, 54)\n",
      "Basal :  (199, 24370)\n",
      "X_train:  (161, 71)  X_test:  (18, 71)\n",
      "X_train:  (179, 77)  X_test:  (20, 77)\n",
      "NC :  (6, 24370)\n",
      "ER-_HER2- :  (290, 24370)\n",
      "X_train:  (234, 95)  X_test:  (27, 95)\n",
      "X_train:  (261, 104)  X_test:  (29, 104)\n",
      "ER+_HER2-_High_Prolif :  (600, 24370)\n",
      "X_train:  (486, 186)  X_test:  (54, 186)\n",
      "X_train:  (540, 204)  X_test:  (60, 204)\n",
      "nan :  (0, 24370)\n",
      "ER+_HER2-_Low_Prolif :  (615, 24370)\n",
      "X_train:  (497, 182)  X_test:  (56, 182)\n",
      "X_train:  (553, 199)  X_test:  (62, 199)\n",
      "HER2+ :  (187, 24370)\n",
      "X_train:  (151, 68)  X_test:  (17, 68)\n",
      "X_train:  (168, 75)  X_test:  (19, 75)\n",
      "++++++++++++++++++++++++++++++++++++++++++++++++++++++++++++++++++++++++++++++++++++++++++++++++++++\n",
      "68\n",
      "claudin-low :  (197, 24370)\n",
      "X_train:  (159, 65)  X_test:  (18, 65)\n",
      "X_train:  (177, 72)  X_test:  (20, 72)\n",
      "LumA :  (673, 24370)\n",
      "X_train:  (544, 205)  X_test:  (61, 205)\n",
      "X_train:  (605, 225)  X_test:  (68, 225)\n",
      "LumB :  (460, 24370)\n",
      "X_train:  (372, 151)  X_test:  (42, 151)\n",
      "X_train:  (414, 166)  X_test:  (46, 166)\n",
      "Her2 :  (218, 24370)\n",
      "X_train:  (176, 76)  X_test:  (20, 76)\n",
      "X_train:  (196, 83)  X_test:  (22, 83)\n",
      "Normal :  (140, 24370)\n",
      "X_train:  (113, 50)  X_test:  (13, 50)\n",
      "X_train:  (126, 55)  X_test:  (14, 55)\n",
      "Basal :  (199, 24370)\n",
      "X_train:  (161, 73)  X_test:  (18, 73)\n",
      "X_train:  (179, 79)  X_test:  (20, 79)\n",
      "NC :  (6, 24370)\n",
      "ER-_HER2- :  (290, 24370)\n",
      "X_train:  (234, 98)  X_test:  (27, 98)\n",
      "X_train:  (261, 108)  X_test:  (29, 108)\n",
      "ER+_HER2-_High_Prolif :  (600, 24370)\n",
      "X_train:  (486, 193)  X_test:  (54, 193)\n",
      "X_train:  (540, 212)  X_test:  (60, 212)\n",
      "nan :  (0, 24370)\n",
      "ER+_HER2-_Low_Prolif :  (615, 24370)\n",
      "X_train:  (497, 189)  X_test:  (56, 189)\n",
      "X_train:  (553, 207)  X_test:  (62, 207)\n",
      "HER2+ :  (187, 24370)\n",
      "X_train:  (151, 70)  X_test:  (17, 70)\n",
      "X_train:  (168, 77)  X_test:  (19, 77)\n",
      "++++++++++++++++++++++++++++++++++++++++++++++++++++++++++++++++++++++++++++++++++++++++++++++++++++\n",
      "69\n",
      "claudin-low :  (197, 24370)\n",
      "X_train:  (159, 68)  X_test:  (18, 68)\n",
      "X_train:  (177, 74)  X_test:  (20, 74)\n",
      "LumA :  (673, 24370)\n",
      "X_train:  (544, 213)  X_test:  (61, 213)\n",
      "X_train:  (605, 234)  X_test:  (68, 234)\n",
      "LumB :  (460, 24370)\n",
      "X_train:  (372, 156)  X_test:  (42, 156)\n",
      "X_train:  (414, 172)  X_test:  (46, 172)\n",
      "Her2 :  (218, 24370)\n",
      "X_train:  (176, 78)  X_test:  (20, 78)\n",
      "X_train:  (196, 86)  X_test:  (22, 86)\n",
      "Normal :  (140, 24370)\n",
      "X_train:  (113, 52)  X_test:  (13, 52)\n",
      "X_train:  (126, 57)  X_test:  (14, 57)\n",
      "Basal :  (199, 24370)\n",
      "X_train:  (161, 75)  X_test:  (18, 75)\n",
      "X_train:  (179, 82)  X_test:  (20, 82)\n",
      "NC :  (6, 24370)\n",
      "ER-_HER2- :  (290, 24370)\n",
      "X_train:  (234, 101)  X_test:  (27, 101)\n",
      "X_train:  (261, 112)  X_test:  (29, 112)\n",
      "ER+_HER2-_High_Prolif :  (600, 24370)\n",
      "X_train:  (486, 200)  X_test:  (54, 200)\n",
      "X_train:  (540, 220)  X_test:  (60, 220)\n",
      "nan :  (0, 24370)\n",
      "ER+_HER2-_Low_Prolif :  (615, 24370)\n",
      "X_train:  (497, 196)  X_test:  (56, 196)\n",
      "X_train:  (553, 215)  X_test:  (62, 215)\n",
      "HER2+ :  (187, 24370)\n",
      "X_train:  (151, 72)  X_test:  (17, 72)\n",
      "X_train:  (168, 80)  X_test:  (19, 80)\n",
      "++++++++++++++++++++++++++++++++++++++++++++++++++++++++++++++++++++++++++++++++++++++++++++++++++++\n",
      "70\n",
      "claudin-low :  (197, 24370)\n",
      "X_train:  (159, 70)  X_test:  (18, 70)\n",
      "X_train:  (177, 77)  X_test:  (20, 77)\n",
      "LumA :  (673, 24370)\n",
      "X_train:  (544, 221)  X_test:  (61, 221)\n",
      "X_train:  (605, 243)  X_test:  (68, 243)\n",
      "LumB :  (460, 24370)\n",
      "X_train:  (372, 162)  X_test:  (42, 162)\n",
      "X_train:  (414, 178)  X_test:  (46, 178)\n",
      "Her2 :  (218, 24370)\n",
      "X_train:  (176, 81)  X_test:  (20, 81)\n",
      "X_train:  (196, 89)  X_test:  (22, 89)\n",
      "Normal :  (140, 24370)\n",
      "X_train:  (113, 53)  X_test:  (13, 53)\n",
      "X_train:  (126, 59)  X_test:  (14, 59)\n",
      "Basal :  (199, 24370)\n",
      "X_train:  (161, 77)  X_test:  (18, 77)\n",
      "X_train:  (179, 84)  X_test:  (20, 84)\n",
      "NC :  (6, 24370)\n",
      "ER-_HER2- :  (290, 24370)\n",
      "X_train:  (234, 105)  X_test:  (27, 105)\n",
      "X_train:  (261, 115)  X_test:  (29, 115)\n",
      "ER+_HER2-_High_Prolif :  (600, 24370)\n",
      "X_train:  (486, 207)  X_test:  (54, 207)\n",
      "X_train:  (540, 228)  X_test:  (60, 228)\n",
      "nan :  (0, 24370)\n",
      "ER+_HER2-_Low_Prolif :  (615, 24370)\n",
      "X_train:  (497, 204)  X_test:  (56, 204)\n",
      "X_train:  (553, 223)  X_test:  (62, 223)\n",
      "HER2+ :  (187, 24370)\n",
      "X_train:  (151, 74)  X_test:  (17, 74)\n",
      "X_train:  (168, 82)  X_test:  (19, 82)\n",
      "++++++++++++++++++++++++++++++++++++++++++++++++++++++++++++++++++++++++++++++++++++++++++++++++++++\n",
      "71\n",
      "claudin-low :  (197, 24370)\n",
      "X_train:  (159, 72)  X_test:  (18, 72)\n",
      "X_train:  (177, 79)  X_test:  (20, 79)\n",
      "LumA :  (673, 24370)\n",
      "X_train:  (544, 229)  X_test:  (61, 229)\n",
      "X_train:  (605, 252)  X_test:  (68, 252)\n",
      "LumB :  (460, 24370)\n",
      "X_train:  (372, 167)  X_test:  (42, 167)\n",
      "X_train:  (414, 184)  X_test:  (46, 184)\n",
      "Her2 :  (218, 24370)\n",
      "X_train:  (176, 83)  X_test:  (20, 83)\n",
      "X_train:  (196, 92)  X_test:  (22, 92)\n",
      "Normal :  (140, 24370)\n",
      "X_train:  (113, 55)  X_test:  (13, 55)\n",
      "X_train:  (126, 60)  X_test:  (14, 60)\n",
      "Basal :  (199, 24370)\n",
      "X_train:  (161, 79)  X_test:  (18, 79)\n",
      "X_train:  (179, 87)  X_test:  (20, 87)\n",
      "NC :  (6, 24370)\n",
      "ER-_HER2- :  (290, 24370)\n",
      "X_train:  (234, 108)  X_test:  (27, 108)\n",
      "X_train:  (261, 119)  X_test:  (29, 119)\n",
      "ER+_HER2-_High_Prolif :  (600, 24370)\n",
      "X_train:  (486, 214)  X_test:  (54, 214)\n",
      "X_train:  (540, 236)  X_test:  (60, 236)\n",
      "nan :  (0, 24370)\n",
      "ER+_HER2-_Low_Prolif :  (615, 24370)\n",
      "X_train:  (497, 211)  X_test:  (56, 211)\n",
      "X_train:  (553, 232)  X_test:  (62, 232)\n",
      "HER2+ :  (187, 24370)\n",
      "X_train:  (151, 76)  X_test:  (17, 76)\n",
      "X_train:  (168, 84)  X_test:  (19, 84)\n",
      "++++++++++++++++++++++++++++++++++++++++++++++++++++++++++++++++++++++++++++++++++++++++++++++++++++\n",
      "72\n",
      "claudin-low :  (197, 24370)\n",
      "X_train:  (159, 75)  X_test:  (18, 75)\n",
      "X_train:  (177, 82)  X_test:  (20, 82)\n",
      "LumA :  (673, 24370)\n",
      "X_train:  (544, 237)  X_test:  (61, 237)\n",
      "X_train:  (605, 261)  X_test:  (68, 261)\n",
      "LumB :  (460, 24370)\n",
      "X_train:  (372, 173)  X_test:  (42, 173)\n",
      "X_train:  (414, 190)  X_test:  (46, 190)\n",
      "Her2 :  (218, 24370)\n",
      "X_train:  (176, 86)  X_test:  (20, 86)\n",
      "X_train:  (196, 95)  X_test:  (22, 95)\n",
      "Normal :  (140, 24370)\n",
      "X_train:  (113, 57)  X_test:  (13, 57)\n",
      "X_train:  (126, 62)  X_test:  (14, 62)\n",
      "Basal :  (199, 24370)\n",
      "X_train:  (161, 82)  X_test:  (18, 82)\n",
      "X_train:  (179, 89)  X_test:  (20, 89)\n",
      "NC :  (6, 24370)\n",
      "ER-_HER2- :  (290, 24370)\n",
      "X_train:  (234, 112)  X_test:  (27, 112)\n",
      "X_train:  (261, 123)  X_test:  (29, 123)\n",
      "ER+_HER2-_High_Prolif :  (600, 24370)\n",
      "X_train:  (486, 222)  X_test:  (54, 222)\n",
      "X_train:  (540, 244)  X_test:  (60, 244)\n",
      "nan :  (0, 24370)\n",
      "ER+_HER2-_Low_Prolif :  (615, 24370)\n",
      "X_train:  (497, 219)  X_test:  (56, 219)\n",
      "X_train:  (553, 240)  X_test:  (62, 240)\n",
      "HER2+ :  (187, 24370)\n",
      "X_train:  (151, 78)  X_test:  (17, 78)\n",
      "X_train:  (168, 87)  X_test:  (19, 87)\n",
      "++++++++++++++++++++++++++++++++++++++++++++++++++++++++++++++++++++++++++++++++++++++++++++++++++++\n",
      "73\n",
      "claudin-low :  (197, 24370)\n",
      "X_train:  (159, 77)  X_test:  (18, 77)\n",
      "X_train:  (177, 85)  X_test:  (20, 85)\n",
      "LumA :  (673, 24370)\n",
      "X_train:  (544, 246)  X_test:  (61, 246)\n",
      "X_train:  (605, 271)  X_test:  (68, 271)\n",
      "LumB :  (460, 24370)\n",
      "X_train:  (372, 178)  X_test:  (42, 178)\n",
      "X_train:  (414, 197)  X_test:  (46, 197)\n",
      "Her2 :  (218, 24370)\n",
      "X_train:  (176, 89)  X_test:  (20, 89)\n",
      "X_train:  (196, 98)  X_test:  (22, 98)\n",
      "Normal :  (140, 24370)\n",
      "X_train:  (113, 58)  X_test:  (13, 58)\n",
      "X_train:  (126, 64)  X_test:  (14, 64)\n",
      "Basal :  (199, 24370)\n",
      "X_train:  (161, 84)  X_test:  (18, 84)\n",
      "X_train:  (179, 92)  X_test:  (20, 92)\n",
      "NC :  (6, 24370)\n",
      "ER-_HER2- :  (290, 24370)\n",
      "X_train:  (234, 115)  X_test:  (27, 115)\n",
      "X_train:  (261, 127)  X_test:  (29, 127)\n",
      "ER+_HER2-_High_Prolif :  (600, 24370)\n",
      "X_train:  (486, 229)  X_test:  (54, 229)\n",
      "X_train:  (540, 252)  X_test:  (60, 252)\n",
      "nan :  (0, 24370)\n",
      "ER+_HER2-_Low_Prolif :  (615, 24370)\n",
      "X_train:  (497, 227)  X_test:  (56, 227)\n",
      "X_train:  (553, 249)  X_test:  (62, 249)\n",
      "HER2+ :  (187, 24370)\n",
      "X_train:  (151, 81)  X_test:  (17, 81)\n",
      "X_train:  (168, 89)  X_test:  (19, 89)\n",
      "++++++++++++++++++++++++++++++++++++++++++++++++++++++++++++++++++++++++++++++++++++++++++++++++++++\n",
      "74\n",
      "claudin-low :  (197, 24370)\n",
      "X_train:  (159, 79)  X_test:  (18, 79)\n",
      "X_train:  (177, 87)  X_test:  (20, 87)\n",
      "LumA :  (673, 24370)\n",
      "X_train:  (544, 254)  X_test:  (61, 254)\n",
      "X_train:  (605, 280)  X_test:  (68, 280)\n",
      "LumB :  (460, 24370)\n",
      "X_train:  (372, 184)  X_test:  (42, 184)\n",
      "X_train:  (414, 203)  X_test:  (46, 203)\n",
      "Her2 :  (218, 24370)\n",
      "X_train:  (176, 91)  X_test:  (20, 91)\n",
      "X_train:  (196, 100)  X_test:  (22, 100)\n",
      "Normal :  (140, 24370)\n",
      "X_train:  (113, 60)  X_test:  (13, 60)\n",
      "X_train:  (126, 66)  X_test:  (14, 66)\n",
      "Basal :  (199, 24370)\n",
      "X_train:  (161, 86)  X_test:  (18, 86)\n",
      "X_train:  (179, 95)  X_test:  (20, 95)\n",
      "NC :  (6, 24370)\n",
      "ER-_HER2- :  (290, 24370)\n",
      "X_train:  (234, 119)  X_test:  (27, 119)\n",
      "X_train:  (261, 131)  X_test:  (29, 131)\n",
      "ER+_HER2-_High_Prolif :  (600, 24370)\n",
      "X_train:  (486, 237)  X_test:  (54, 237)\n",
      "X_train:  (540, 261)  X_test:  (60, 261)\n",
      "nan :  (0, 24370)\n",
      "ER+_HER2-_Low_Prolif :  (615, 24370)\n",
      "X_train:  (497, 235)  X_test:  (56, 235)\n",
      "X_train:  (553, 258)  X_test:  (62, 258)\n",
      "HER2+ :  (187, 24370)\n",
      "X_train:  (151, 83)  X_test:  (17, 83)\n",
      "X_train:  (168, 91)  X_test:  (19, 91)\n",
      "++++++++++++++++++++++++++++++++++++++++++++++++++++++++++++++++++++++++++++++++++++++++++++++++++++\n",
      "75\n",
      "claudin-low :  (197, 24370)\n",
      "X_train:  (159, 82)  X_test:  (18, 82)\n",
      "X_train:  (177, 90)  X_test:  (20, 90)\n",
      "LumA :  (673, 24370)\n",
      "X_train:  (544, 263)  X_test:  (61, 263)\n",
      "X_train:  (605, 290)  X_test:  (68, 290)\n",
      "LumB :  (460, 24370)\n",
      "X_train:  (372, 190)  X_test:  (42, 190)\n",
      "X_train:  (414, 209)  X_test:  (46, 209)\n",
      "Her2 :  (218, 24370)\n",
      "X_train:  (176, 94)  X_test:  (20, 94)\n",
      "X_train:  (196, 103)  X_test:  (22, 103)\n",
      "Normal :  (140, 24370)\n",
      "X_train:  (113, 61)  X_test:  (13, 61)\n",
      "X_train:  (126, 68)  X_test:  (14, 68)\n",
      "Basal :  (199, 24370)\n",
      "X_train:  (161, 89)  X_test:  (18, 89)\n",
      "X_train:  (179, 97)  X_test:  (20, 97)\n",
      "NC :  (6, 24370)\n",
      "ER-_HER2- :  (290, 24370)\n",
      "X_train:  (234, 122)  X_test:  (27, 122)\n",
      "X_train:  (261, 135)  X_test:  (29, 135)\n",
      "ER+_HER2-_High_Prolif :  (600, 24370)\n",
      "X_train:  (486, 244)  X_test:  (54, 244)\n",
      "X_train:  (540, 269)  X_test:  (60, 269)\n",
      "nan :  (0, 24370)\n",
      "ER+_HER2-_Low_Prolif :  (615, 24370)\n",
      "X_train:  (497, 243)  X_test:  (56, 243)\n",
      "X_train:  (553, 267)  X_test:  (62, 267)\n",
      "HER2+ :  (187, 24370)\n",
      "X_train:  (151, 85)  X_test:  (17, 85)\n",
      "X_train:  (168, 94)  X_test:  (19, 94)\n",
      "++++++++++++++++++++++++++++++++++++++++++++++++++++++++++++++++++++++++++++++++++++++++++++++++++++\n",
      "76\n",
      "claudin-low :  (197, 24370)\n",
      "X_train:  (159, 84)  X_test:  (18, 84)\n",
      "X_train:  (177, 93)  X_test:  (20, 93)\n",
      "LumA :  (673, 24370)\n",
      "X_train:  (544, 272)  X_test:  (61, 272)\n",
      "X_train:  (605, 300)  X_test:  (68, 300)\n",
      "LumB :  (460, 24370)\n",
      "X_train:  (372, 196)  X_test:  (42, 196)\n",
      "X_train:  (414, 216)  X_test:  (46, 216)\n",
      "Her2 :  (218, 24370)\n",
      "X_train:  (176, 97)  X_test:  (20, 97)\n",
      "X_train:  (196, 107)  X_test:  (22, 107)\n",
      "Normal :  (140, 24370)\n",
      "X_train:  (113, 63)  X_test:  (13, 63)\n",
      "X_train:  (126, 70)  X_test:  (14, 70)\n",
      "Basal :  (199, 24370)\n",
      "X_train:  (161, 91)  X_test:  (18, 91)\n",
      "X_train:  (179, 100)  X_test:  (20, 100)\n",
      "NC :  (6, 24370)\n",
      "ER-_HER2- :  (290, 24370)\n",
      "X_train:  (234, 126)  X_test:  (27, 126)\n",
      "X_train:  (261, 139)  X_test:  (29, 139)\n",
      "ER+_HER2-_High_Prolif :  (600, 24370)\n",
      "X_train:  (486, 252)  X_test:  (54, 252)\n",
      "X_train:  (540, 278)  X_test:  (60, 278)\n",
      "nan :  (0, 24370)\n",
      "ER+_HER2-_Low_Prolif :  (615, 24370)\n",
      "X_train:  (497, 251)  X_test:  (56, 251)\n",
      "X_train:  (553, 276)  X_test:  (62, 276)\n",
      "HER2+ :  (187, 24370)\n",
      "X_train:  (151, 87)  X_test:  (17, 87)\n",
      "X_train:  (168, 96)  X_test:  (19, 96)\n",
      "++++++++++++++++++++++++++++++++++++++++++++++++++++++++++++++++++++++++++++++++++++++++++++++++++++\n",
      "77\n",
      "claudin-low :  (197, 24370)\n",
      "X_train:  (159, 87)  X_test:  (18, 87)\n",
      "X_train:  (177, 96)  X_test:  (20, 96)\n",
      "LumA :  (673, 24370)\n",
      "X_train:  (544, 281)  X_test:  (61, 281)\n",
      "X_train:  (605, 310)  X_test:  (68, 310)\n",
      "LumB :  (460, 24370)\n",
      "X_train:  (372, 202)  X_test:  (42, 202)\n",
      "X_train:  (414, 223)  X_test:  (46, 223)\n",
      "Her2 :  (218, 24370)\n",
      "X_train:  (176, 99)  X_test:  (20, 99)\n",
      "X_train:  (196, 110)  X_test:  (22, 110)\n",
      "Normal :  (140, 24370)\n",
      "X_train:  (113, 65)  X_test:  (13, 65)\n",
      "X_train:  (126, 72)  X_test:  (14, 72)\n",
      "Basal :  (199, 24370)\n",
      "X_train:  (161, 93)  X_test:  (18, 93)\n",
      "X_train:  (179, 103)  X_test:  (20, 103)\n",
      "NC :  (6, 24370)\n",
      "ER-_HER2- :  (290, 24370)\n",
      "X_train:  (234, 130)  X_test:  (27, 130)\n",
      "X_train:  (261, 144)  X_test:  (29, 144)\n",
      "ER+_HER2-_High_Prolif :  (600, 24370)\n",
      "X_train:  (486, 260)  X_test:  (54, 260)\n",
      "X_train:  (540, 287)  X_test:  (60, 287)\n",
      "nan :  (0, 24370)\n",
      "ER+_HER2-_Low_Prolif :  (615, 24370)\n",
      "X_train:  (497, 259)  X_test:  (56, 259)\n",
      "X_train:  (553, 285)  X_test:  (62, 285)\n",
      "HER2+ :  (187, 24370)\n",
      "X_train:  (151, 89)  X_test:  (17, 89)\n",
      "X_train:  (168, 99)  X_test:  (19, 99)\n",
      "++++++++++++++++++++++++++++++++++++++++++++++++++++++++++++++++++++++++++++++++++++++++++++++++++++\n",
      "78\n",
      "claudin-low :  (197, 24370)\n",
      "X_train:  (159, 90)  X_test:  (18, 90)\n",
      "X_train:  (177, 99)  X_test:  (20, 99)\n",
      "LumA :  (673, 24370)\n",
      "X_train:  (544, 290)  X_test:  (61, 290)\n",
      "X_train:  (605, 320)  X_test:  (68, 320)\n",
      "LumB :  (460, 24370)\n",
      "X_train:  (372, 208)  X_test:  (42, 208)\n",
      "X_train:  (414, 230)  X_test:  (46, 230)\n",
      "Her2 :  (218, 24370)\n",
      "X_train:  (176, 102)  X_test:  (20, 102)\n",
      "X_train:  (196, 113)  X_test:  (22, 113)\n",
      "Normal :  (140, 24370)\n",
      "X_train:  (113, 66)  X_test:  (13, 66)\n",
      "X_train:  (126, 74)  X_test:  (14, 74)\n",
      "Basal :  (199, 24370)\n",
      "X_train:  (161, 96)  X_test:  (18, 96)\n",
      "X_train:  (179, 105)  X_test:  (20, 105)\n",
      "NC :  (6, 24370)\n",
      "ER-_HER2- :  (290, 24370)\n",
      "X_train:  (234, 134)  X_test:  (27, 134)\n",
      "X_train:  (261, 148)  X_test:  (29, 148)\n",
      "ER+_HER2-_High_Prolif :  (600, 24370)\n",
      "X_train:  (486, 268)  X_test:  (54, 268)\n",
      "X_train:  (540, 296)  X_test:  (60, 296)\n",
      "nan :  (0, 24370)\n",
      "ER+_HER2-_Low_Prolif :  (615, 24370)\n",
      "X_train:  (497, 268)  X_test:  (56, 268)\n",
      "X_train:  (553, 295)  X_test:  (62, 295)\n",
      "HER2+ :  (187, 24370)\n",
      "X_train:  (151, 92)  X_test:  (17, 92)\n",
      "X_train:  (168, 101)  X_test:  (19, 101)\n",
      "++++++++++++++++++++++++++++++++++++++++++++++++++++++++++++++++++++++++++++++++++++++++++++++++++++\n",
      "79\n",
      "claudin-low :  (197, 24370)\n",
      "X_train:  (159, 92)  X_test:  (18, 92)\n",
      "X_train:  (177, 102)  X_test:  (20, 102)\n",
      "LumA :  (673, 24370)\n",
      "X_train:  (544, 300)  X_test:  (61, 300)\n",
      "X_train:  (605, 331)  X_test:  (68, 331)\n",
      "LumB :  (460, 24370)\n",
      "X_train:  (372, 214)  X_test:  (42, 214)\n",
      "X_train:  (414, 237)  X_test:  (46, 237)\n",
      "Her2 :  (218, 24370)\n",
      "X_train:  (176, 105)  X_test:  (20, 105)\n",
      "X_train:  (196, 116)  X_test:  (22, 116)\n",
      "Normal :  (140, 24370)\n",
      "X_train:  (113, 68)  X_test:  (13, 68)\n",
      "X_train:  (126, 76)  X_test:  (14, 76)\n",
      "Basal :  (199, 24370)\n",
      "X_train:  (161, 98)  X_test:  (18, 98)\n",
      "X_train:  (179, 108)  X_test:  (20, 108)\n",
      "NC :  (6, 24370)\n",
      "ER-_HER2- :  (290, 24370)\n",
      "X_train:  (234, 137)  X_test:  (27, 137)\n",
      "X_train:  (261, 152)  X_test:  (29, 152)\n",
      "ER+_HER2-_High_Prolif :  (600, 24370)\n",
      "X_train:  (486, 276)  X_test:  (54, 276)\n",
      "X_train:  (540, 305)  X_test:  (60, 305)\n",
      "nan :  (0, 24370)\n",
      "ER+_HER2-_Low_Prolif :  (615, 24370)\n",
      "X_train:  (497, 276)  X_test:  (56, 276)\n",
      "X_train:  (553, 304)  X_test:  (62, 304)\n",
      "HER2+ :  (187, 24370)\n",
      "X_train:  (151, 94)  X_test:  (17, 94)\n",
      "X_train:  (168, 104)  X_test:  (19, 104)\n"
     ]
    }
   ],
   "source": [
    "for p in range(25, 80):\n",
    "    print(\"++++++++++\" * 10)\n",
    "    print(p)\n",
    "    PCA_PERCENTILE = p\n",
    "    loop_preprocess()"
   ]
  },
  {
   "cell_type": "code",
   "execution_count": 34,
   "id": "c7eef2ac-d2d4-4b53-9931-25aaecf52c1b",
   "metadata": {},
   "outputs": [],
   "source": [
    "def apply_preprocess2late_recurrences(\n",
    "    df: pd.DataFrame(),\n",
    "    preprocess_pipeline_path: str,\n",
    "    save_file_path: str = None,\n",
    "):\n",
    "    _df = df.copy()\n",
    "    _X = _df.drop(TARGET_NAME, axis=1)\n",
    "    _y = _df[TARGET_NAME]\n",
    "\n",
    "    # 検証用、テスト用それぞれのセットへのパイプラインの適用\n",
    "    _preprocess_pipeline = functions.pickle_load(\n",
    "        preprocess_pipeline_path + \"/preprocess_pipeline.pkl\"\n",
    "    )\n",
    "    display(_X.shape)\n",
    "    _X = _preprocess_pipeline.transform(_X)\n",
    "    display(_X.shape)\n",
    "\n",
    "    # 保存\n",
    "    if save_file_path:\n",
    "        functions.make_dir(save_file_path)\n",
    "        functions.pickle_dump(_X, save_file_path + \"/X.pkl\")\n",
    "        functions.pickle_dump(_y, save_file_path + \"/y.pkl\")"
   ]
  },
  {
   "cell_type": "code",
   "execution_count": 35,
   "id": "b031b9e6-5e1a-40ba-ad09-3d5f2243a021",
   "metadata": {},
   "outputs": [],
   "source": [
    "def loop_late_recurrences_data():\n",
    "    # 層別化する特徴量\n",
    "    subgroup_columns = [\n",
    "        \"CLAUDIN_SUBTYPE\",\n",
    "        \"THREEGENE\",\n",
    "    ]\n",
    "    # 遺伝子発現量以外の特徴量を削除\n",
    "    drop_columns = [\n",
    "        \"CLAUDIN_SUBTYPE\",\n",
    "        \"THREEGENE\",\n",
    "    ]\n",
    "\n",
    "    preprocess_order_dicts = [\n",
    "        {\n",
    "            \"preprocess_name\": \"preprocess4numeric_pca{0}\".format(PCA_PERCENTILE),\n",
    "        }\n",
    "    ]\n",
    "    val_step = \"test_set\"\n",
    "\n",
    "    for subgroup_column in subgroup_columns:  # 各サブグループへの適用\n",
    "        for subgroup in df_recurrenced[subgroup_column].unique():  # サブグループの要素毎への適用\n",
    "            df = df_recurrenced[df_recurrenced[subgroup_column] == subgroup].drop(\n",
    "                drop_columns, axis=1\n",
    "            )\n",
    "            df = df[(df.RFS_STATUS == True) & (df.RFS_MONTHS > 60)]\n",
    "            if df.shape[0] < 5:\n",
    "                continue\n",
    "\n",
    "            print(subgroup, \": \", df.shape)\n",
    "            for preprocess_order_dict in preprocess_order_dicts:\n",
    "                subgroup_path = \"./{0}/{1}/{2}/{3}\".format(\n",
    "                    subgroup_column,\n",
    "                    subgroup,\n",
    "                    preprocess_order_dict[\"preprocess_name\"],\n",
    "                    val_step,\n",
    "                )\n",
    "                input_pipe_path = \"./{0}/{1}/{2}\".format(\n",
    "                    config.INTERIM_PREPROCESSED_RECURRENCE_DIR, subgroup_path, \"train\"\n",
    "                )\n",
    "                output_data_path = \"./{0}/{1}/{2}\".format(\n",
    "                    config.INTERIM_PREPROCESSED_RECURRENCE_DIR,\n",
    "                    subgroup_path,\n",
    "                    \"late_recurrences\",\n",
    "                )\n",
    "                apply_preprocess2late_recurrences(df, input_pipe_path, output_data_path)"
   ]
  },
  {
   "cell_type": "code",
   "execution_count": 36,
   "id": "7e9bf990-c989-460e-95e9-95a41397aa7e",
   "metadata": {
    "collapsed": true,
    "jupyter": {
     "outputs_hidden": true
    },
    "tags": []
   },
   "outputs": [
    {
     "name": "stdout",
     "output_type": "stream",
     "text": [
      "++++++++++++++++++++++++++++++++++++++++++++++++++++++++++++++++++++++++++++++++++++++++++++++++++++\n",
      "25\n",
      "claudin-low :  (22, 24370)\n"
     ]
    },
    {
     "data": {
      "text/plain": [
       "(22, 24368)"
      ]
     },
     "metadata": {},
     "output_type": "display_data"
    },
    {
     "data": {
      "text/plain": [
       "(22, 7)"
      ]
     },
     "metadata": {},
     "output_type": "display_data"
    },
    {
     "name": "stdout",
     "output_type": "stream",
     "text": [
      "LumA :  (119, 24370)\n"
     ]
    },
    {
     "data": {
      "text/plain": [
       "(119, 24368)"
      ]
     },
     "metadata": {},
     "output_type": "display_data"
    },
    {
     "data": {
      "text/plain": [
       "(119, 12)"
      ]
     },
     "metadata": {},
     "output_type": "display_data"
    },
    {
     "name": "stdout",
     "output_type": "stream",
     "text": [
      "LumB :  (87, 24370)\n"
     ]
    },
    {
     "data": {
      "text/plain": [
       "(87, 24368)"
      ]
     },
     "metadata": {},
     "output_type": "display_data"
    },
    {
     "data": {
      "text/plain": [
       "(87, 12)"
      ]
     },
     "metadata": {},
     "output_type": "display_data"
    },
    {
     "name": "stdout",
     "output_type": "stream",
     "text": [
      "Her2 :  (29, 24370)\n"
     ]
    },
    {
     "data": {
      "text/plain": [
       "(29, 24368)"
      ]
     },
     "metadata": {},
     "output_type": "display_data"
    },
    {
     "data": {
      "text/plain": [
       "(29, 8)"
      ]
     },
     "metadata": {},
     "output_type": "display_data"
    },
    {
     "name": "stdout",
     "output_type": "stream",
     "text": [
      "Normal :  (27, 24370)\n"
     ]
    },
    {
     "data": {
      "text/plain": [
       "(27, 24368)"
      ]
     },
     "metadata": {},
     "output_type": "display_data"
    },
    {
     "data": {
      "text/plain": [
       "(27, 7)"
      ]
     },
     "metadata": {},
     "output_type": "display_data"
    },
    {
     "name": "stdout",
     "output_type": "stream",
     "text": [
      "Basal :  (8, 24370)\n"
     ]
    },
    {
     "data": {
      "text/plain": [
       "(8, 24368)"
      ]
     },
     "metadata": {},
     "output_type": "display_data"
    },
    {
     "data": {
      "text/plain": [
       "(8, 9)"
      ]
     },
     "metadata": {},
     "output_type": "display_data"
    },
    {
     "name": "stdout",
     "output_type": "stream",
     "text": [
      "ER-_HER2- :  (20, 24370)\n"
     ]
    },
    {
     "data": {
      "text/plain": [
       "(20, 24368)"
      ]
     },
     "metadata": {},
     "output_type": "display_data"
    },
    {
     "data": {
      "text/plain": [
       "(20, 9)"
      ]
     },
     "metadata": {},
     "output_type": "display_data"
    },
    {
     "name": "stdout",
     "output_type": "stream",
     "text": [
      "ER+_HER2-_High_Prolif :  (105, 24370)\n"
     ]
    },
    {
     "data": {
      "text/plain": [
       "(105, 24368)"
      ]
     },
     "metadata": {},
     "output_type": "display_data"
    },
    {
     "data": {
      "text/plain": [
       "(105, 15)"
      ]
     },
     "metadata": {},
     "output_type": "display_data"
    },
    {
     "name": "stdout",
     "output_type": "stream",
     "text": [
      "ER+_HER2-_Low_Prolif :  (114, 24370)\n"
     ]
    },
    {
     "data": {
      "text/plain": [
       "(114, 24368)"
      ]
     },
     "metadata": {},
     "output_type": "display_data"
    },
    {
     "data": {
      "text/plain": [
       "(114, 11)"
      ]
     },
     "metadata": {},
     "output_type": "display_data"
    },
    {
     "name": "stdout",
     "output_type": "stream",
     "text": [
      "HER2+ :  (16, 24370)\n"
     ]
    },
    {
     "data": {
      "text/plain": [
       "(16, 24368)"
      ]
     },
     "metadata": {},
     "output_type": "display_data"
    },
    {
     "data": {
      "text/plain": [
       "(16, 10)"
      ]
     },
     "metadata": {},
     "output_type": "display_data"
    },
    {
     "name": "stdout",
     "output_type": "stream",
     "text": [
      "++++++++++++++++++++++++++++++++++++++++++++++++++++++++++++++++++++++++++++++++++++++++++++++++++++\n",
      "26\n",
      "claudin-low :  (22, 24370)\n"
     ]
    },
    {
     "data": {
      "text/plain": [
       "(22, 24368)"
      ]
     },
     "metadata": {},
     "output_type": "display_data"
    },
    {
     "data": {
      "text/plain": [
       "(22, 7)"
      ]
     },
     "metadata": {},
     "output_type": "display_data"
    },
    {
     "name": "stdout",
     "output_type": "stream",
     "text": [
      "LumA :  (119, 24370)\n"
     ]
    },
    {
     "data": {
      "text/plain": [
       "(119, 24368)"
      ]
     },
     "metadata": {},
     "output_type": "display_data"
    },
    {
     "data": {
      "text/plain": [
       "(119, 13)"
      ]
     },
     "metadata": {},
     "output_type": "display_data"
    },
    {
     "name": "stdout",
     "output_type": "stream",
     "text": [
      "LumB :  (87, 24370)\n"
     ]
    },
    {
     "data": {
      "text/plain": [
       "(87, 24368)"
      ]
     },
     "metadata": {},
     "output_type": "display_data"
    },
    {
     "data": {
      "text/plain": [
       "(87, 14)"
      ]
     },
     "metadata": {},
     "output_type": "display_data"
    },
    {
     "name": "stdout",
     "output_type": "stream",
     "text": [
      "Her2 :  (29, 24370)\n"
     ]
    },
    {
     "data": {
      "text/plain": [
       "(29, 24368)"
      ]
     },
     "metadata": {},
     "output_type": "display_data"
    },
    {
     "data": {
      "text/plain": [
       "(29, 8)"
      ]
     },
     "metadata": {},
     "output_type": "display_data"
    },
    {
     "name": "stdout",
     "output_type": "stream",
     "text": [
      "Normal :  (27, 24370)\n"
     ]
    },
    {
     "data": {
      "text/plain": [
       "(27, 24368)"
      ]
     },
     "metadata": {},
     "output_type": "display_data"
    },
    {
     "data": {
      "text/plain": [
       "(27, 7)"
      ]
     },
     "metadata": {},
     "output_type": "display_data"
    },
    {
     "name": "stdout",
     "output_type": "stream",
     "text": [
      "Basal :  (8, 24370)\n"
     ]
    },
    {
     "data": {
      "text/plain": [
       "(8, 24368)"
      ]
     },
     "metadata": {},
     "output_type": "display_data"
    },
    {
     "data": {
      "text/plain": [
       "(8, 10)"
      ]
     },
     "metadata": {},
     "output_type": "display_data"
    },
    {
     "name": "stdout",
     "output_type": "stream",
     "text": [
      "ER-_HER2- :  (20, 24370)\n"
     ]
    },
    {
     "data": {
      "text/plain": [
       "(20, 24368)"
      ]
     },
     "metadata": {},
     "output_type": "display_data"
    },
    {
     "data": {
      "text/plain": [
       "(20, 10)"
      ]
     },
     "metadata": {},
     "output_type": "display_data"
    },
    {
     "name": "stdout",
     "output_type": "stream",
     "text": [
      "ER+_HER2-_High_Prolif :  (105, 24370)\n"
     ]
    },
    {
     "data": {
      "text/plain": [
       "(105, 24368)"
      ]
     },
     "metadata": {},
     "output_type": "display_data"
    },
    {
     "data": {
      "text/plain": [
       "(105, 16)"
      ]
     },
     "metadata": {},
     "output_type": "display_data"
    },
    {
     "name": "stdout",
     "output_type": "stream",
     "text": [
      "ER+_HER2-_Low_Prolif :  (114, 24370)\n"
     ]
    },
    {
     "data": {
      "text/plain": [
       "(114, 24368)"
      ]
     },
     "metadata": {},
     "output_type": "display_data"
    },
    {
     "data": {
      "text/plain": [
       "(114, 12)"
      ]
     },
     "metadata": {},
     "output_type": "display_data"
    },
    {
     "name": "stdout",
     "output_type": "stream",
     "text": [
      "HER2+ :  (16, 24370)\n"
     ]
    },
    {
     "data": {
      "text/plain": [
       "(16, 24368)"
      ]
     },
     "metadata": {},
     "output_type": "display_data"
    },
    {
     "data": {
      "text/plain": [
       "(16, 10)"
      ]
     },
     "metadata": {},
     "output_type": "display_data"
    },
    {
     "name": "stdout",
     "output_type": "stream",
     "text": [
      "++++++++++++++++++++++++++++++++++++++++++++++++++++++++++++++++++++++++++++++++++++++++++++++++++++\n",
      "27\n",
      "claudin-low :  (22, 24370)\n"
     ]
    },
    {
     "data": {
      "text/plain": [
       "(22, 24368)"
      ]
     },
     "metadata": {},
     "output_type": "display_data"
    },
    {
     "data": {
      "text/plain": [
       "(22, 8)"
      ]
     },
     "metadata": {},
     "output_type": "display_data"
    },
    {
     "name": "stdout",
     "output_type": "stream",
     "text": [
      "LumA :  (119, 24370)\n"
     ]
    },
    {
     "data": {
      "text/plain": [
       "(119, 24368)"
      ]
     },
     "metadata": {},
     "output_type": "display_data"
    },
    {
     "data": {
      "text/plain": [
       "(119, 14)"
      ]
     },
     "metadata": {},
     "output_type": "display_data"
    },
    {
     "name": "stdout",
     "output_type": "stream",
     "text": [
      "LumB :  (87, 24370)\n"
     ]
    },
    {
     "data": {
      "text/plain": [
       "(87, 24368)"
      ]
     },
     "metadata": {},
     "output_type": "display_data"
    },
    {
     "data": {
      "text/plain": [
       "(87, 15)"
      ]
     },
     "metadata": {},
     "output_type": "display_data"
    },
    {
     "name": "stdout",
     "output_type": "stream",
     "text": [
      "Her2 :  (29, 24370)\n"
     ]
    },
    {
     "data": {
      "text/plain": [
       "(29, 24368)"
      ]
     },
     "metadata": {},
     "output_type": "display_data"
    },
    {
     "data": {
      "text/plain": [
       "(29, 9)"
      ]
     },
     "metadata": {},
     "output_type": "display_data"
    },
    {
     "name": "stdout",
     "output_type": "stream",
     "text": [
      "Normal :  (27, 24370)\n"
     ]
    },
    {
     "data": {
      "text/plain": [
       "(27, 24368)"
      ]
     },
     "metadata": {},
     "output_type": "display_data"
    },
    {
     "data": {
      "text/plain": [
       "(27, 8)"
      ]
     },
     "metadata": {},
     "output_type": "display_data"
    },
    {
     "name": "stdout",
     "output_type": "stream",
     "text": [
      "Basal :  (8, 24370)\n"
     ]
    },
    {
     "data": {
      "text/plain": [
       "(8, 24368)"
      ]
     },
     "metadata": {},
     "output_type": "display_data"
    },
    {
     "data": {
      "text/plain": [
       "(8, 11)"
      ]
     },
     "metadata": {},
     "output_type": "display_data"
    },
    {
     "name": "stdout",
     "output_type": "stream",
     "text": [
      "ER-_HER2- :  (20, 24370)\n"
     ]
    },
    {
     "data": {
      "text/plain": [
       "(20, 24368)"
      ]
     },
     "metadata": {},
     "output_type": "display_data"
    },
    {
     "data": {
      "text/plain": [
       "(20, 11)"
      ]
     },
     "metadata": {},
     "output_type": "display_data"
    },
    {
     "name": "stdout",
     "output_type": "stream",
     "text": [
      "ER+_HER2-_High_Prolif :  (105, 24370)\n"
     ]
    },
    {
     "data": {
      "text/plain": [
       "(105, 24368)"
      ]
     },
     "metadata": {},
     "output_type": "display_data"
    },
    {
     "data": {
      "text/plain": [
       "(105, 18)"
      ]
     },
     "metadata": {},
     "output_type": "display_data"
    },
    {
     "name": "stdout",
     "output_type": "stream",
     "text": [
      "ER+_HER2-_Low_Prolif :  (114, 24370)\n"
     ]
    },
    {
     "data": {
      "text/plain": [
       "(114, 24368)"
      ]
     },
     "metadata": {},
     "output_type": "display_data"
    },
    {
     "data": {
      "text/plain": [
       "(114, 13)"
      ]
     },
     "metadata": {},
     "output_type": "display_data"
    },
    {
     "name": "stdout",
     "output_type": "stream",
     "text": [
      "HER2+ :  (16, 24370)\n"
     ]
    },
    {
     "data": {
      "text/plain": [
       "(16, 24368)"
      ]
     },
     "metadata": {},
     "output_type": "display_data"
    },
    {
     "data": {
      "text/plain": [
       "(16, 11)"
      ]
     },
     "metadata": {},
     "output_type": "display_data"
    },
    {
     "name": "stdout",
     "output_type": "stream",
     "text": [
      "++++++++++++++++++++++++++++++++++++++++++++++++++++++++++++++++++++++++++++++++++++++++++++++++++++\n",
      "28\n",
      "claudin-low :  (22, 24370)\n"
     ]
    },
    {
     "data": {
      "text/plain": [
       "(22, 24368)"
      ]
     },
     "metadata": {},
     "output_type": "display_data"
    },
    {
     "data": {
      "text/plain": [
       "(22, 8)"
      ]
     },
     "metadata": {},
     "output_type": "display_data"
    },
    {
     "name": "stdout",
     "output_type": "stream",
     "text": [
      "LumA :  (119, 24370)\n"
     ]
    },
    {
     "data": {
      "text/plain": [
       "(119, 24368)"
      ]
     },
     "metadata": {},
     "output_type": "display_data"
    },
    {
     "data": {
      "text/plain": [
       "(119, 16)"
      ]
     },
     "metadata": {},
     "output_type": "display_data"
    },
    {
     "name": "stdout",
     "output_type": "stream",
     "text": [
      "LumB :  (87, 24370)\n"
     ]
    },
    {
     "data": {
      "text/plain": [
       "(87, 24368)"
      ]
     },
     "metadata": {},
     "output_type": "display_data"
    },
    {
     "data": {
      "text/plain": [
       "(87, 16)"
      ]
     },
     "metadata": {},
     "output_type": "display_data"
    },
    {
     "name": "stdout",
     "output_type": "stream",
     "text": [
      "Her2 :  (29, 24370)\n"
     ]
    },
    {
     "data": {
      "text/plain": [
       "(29, 24368)"
      ]
     },
     "metadata": {},
     "output_type": "display_data"
    },
    {
     "data": {
      "text/plain": [
       "(29, 10)"
      ]
     },
     "metadata": {},
     "output_type": "display_data"
    },
    {
     "name": "stdout",
     "output_type": "stream",
     "text": [
      "Normal :  (27, 24370)\n"
     ]
    },
    {
     "data": {
      "text/plain": [
       "(27, 24368)"
      ]
     },
     "metadata": {},
     "output_type": "display_data"
    },
    {
     "data": {
      "text/plain": [
       "(27, 9)"
      ]
     },
     "metadata": {},
     "output_type": "display_data"
    },
    {
     "name": "stdout",
     "output_type": "stream",
     "text": [
      "Basal :  (8, 24370)\n"
     ]
    },
    {
     "data": {
      "text/plain": [
       "(8, 24368)"
      ]
     },
     "metadata": {},
     "output_type": "display_data"
    },
    {
     "data": {
      "text/plain": [
       "(8, 12)"
      ]
     },
     "metadata": {},
     "output_type": "display_data"
    },
    {
     "name": "stdout",
     "output_type": "stream",
     "text": [
      "ER-_HER2- :  (20, 24370)\n"
     ]
    },
    {
     "data": {
      "text/plain": [
       "(20, 24368)"
      ]
     },
     "metadata": {},
     "output_type": "display_data"
    },
    {
     "data": {
      "text/plain": [
       "(20, 12)"
      ]
     },
     "metadata": {},
     "output_type": "display_data"
    },
    {
     "name": "stdout",
     "output_type": "stream",
     "text": [
      "ER+_HER2-_High_Prolif :  (105, 24370)\n"
     ]
    },
    {
     "data": {
      "text/plain": [
       "(105, 24368)"
      ]
     },
     "metadata": {},
     "output_type": "display_data"
    },
    {
     "data": {
      "text/plain": [
       "(105, 19)"
      ]
     },
     "metadata": {},
     "output_type": "display_data"
    },
    {
     "name": "stdout",
     "output_type": "stream",
     "text": [
      "ER+_HER2-_Low_Prolif :  (114, 24370)\n"
     ]
    },
    {
     "data": {
      "text/plain": [
       "(114, 24368)"
      ]
     },
     "metadata": {},
     "output_type": "display_data"
    },
    {
     "data": {
      "text/plain": [
       "(114, 14)"
      ]
     },
     "metadata": {},
     "output_type": "display_data"
    },
    {
     "name": "stdout",
     "output_type": "stream",
     "text": [
      "HER2+ :  (16, 24370)\n"
     ]
    },
    {
     "data": {
      "text/plain": [
       "(16, 24368)"
      ]
     },
     "metadata": {},
     "output_type": "display_data"
    },
    {
     "data": {
      "text/plain": [
       "(16, 12)"
      ]
     },
     "metadata": {},
     "output_type": "display_data"
    },
    {
     "name": "stdout",
     "output_type": "stream",
     "text": [
      "++++++++++++++++++++++++++++++++++++++++++++++++++++++++++++++++++++++++++++++++++++++++++++++++++++\n",
      "29\n",
      "claudin-low :  (22, 24370)\n"
     ]
    },
    {
     "data": {
      "text/plain": [
       "(22, 24368)"
      ]
     },
     "metadata": {},
     "output_type": "display_data"
    },
    {
     "data": {
      "text/plain": [
       "(22, 9)"
      ]
     },
     "metadata": {},
     "output_type": "display_data"
    },
    {
     "name": "stdout",
     "output_type": "stream",
     "text": [
      "LumA :  (119, 24370)\n"
     ]
    },
    {
     "data": {
      "text/plain": [
       "(119, 24368)"
      ]
     },
     "metadata": {},
     "output_type": "display_data"
    },
    {
     "data": {
      "text/plain": [
       "(119, 17)"
      ]
     },
     "metadata": {},
     "output_type": "display_data"
    },
    {
     "name": "stdout",
     "output_type": "stream",
     "text": [
      "LumB :  (87, 24370)\n"
     ]
    },
    {
     "data": {
      "text/plain": [
       "(87, 24368)"
      ]
     },
     "metadata": {},
     "output_type": "display_data"
    },
    {
     "data": {
      "text/plain": [
       "(87, 18)"
      ]
     },
     "metadata": {},
     "output_type": "display_data"
    },
    {
     "name": "stdout",
     "output_type": "stream",
     "text": [
      "Her2 :  (29, 24370)\n"
     ]
    },
    {
     "data": {
      "text/plain": [
       "(29, 24368)"
      ]
     },
     "metadata": {},
     "output_type": "display_data"
    },
    {
     "data": {
      "text/plain": [
       "(29, 11)"
      ]
     },
     "metadata": {},
     "output_type": "display_data"
    },
    {
     "name": "stdout",
     "output_type": "stream",
     "text": [
      "Normal :  (27, 24370)\n"
     ]
    },
    {
     "data": {
      "text/plain": [
       "(27, 24368)"
      ]
     },
     "metadata": {},
     "output_type": "display_data"
    },
    {
     "data": {
      "text/plain": [
       "(27, 9)"
      ]
     },
     "metadata": {},
     "output_type": "display_data"
    },
    {
     "name": "stdout",
     "output_type": "stream",
     "text": [
      "Basal :  (8, 24370)\n"
     ]
    },
    {
     "data": {
      "text/plain": [
       "(8, 24368)"
      ]
     },
     "metadata": {},
     "output_type": "display_data"
    },
    {
     "data": {
      "text/plain": [
       "(8, 13)"
      ]
     },
     "metadata": {},
     "output_type": "display_data"
    },
    {
     "name": "stdout",
     "output_type": "stream",
     "text": [
      "ER-_HER2- :  (20, 24370)\n"
     ]
    },
    {
     "data": {
      "text/plain": [
       "(20, 24368)"
      ]
     },
     "metadata": {},
     "output_type": "display_data"
    },
    {
     "data": {
      "text/plain": [
       "(20, 13)"
      ]
     },
     "metadata": {},
     "output_type": "display_data"
    },
    {
     "name": "stdout",
     "output_type": "stream",
     "text": [
      "ER+_HER2-_High_Prolif :  (105, 24370)\n"
     ]
    },
    {
     "data": {
      "text/plain": [
       "(105, 24368)"
      ]
     },
     "metadata": {},
     "output_type": "display_data"
    },
    {
     "data": {
      "text/plain": [
       "(105, 21)"
      ]
     },
     "metadata": {},
     "output_type": "display_data"
    },
    {
     "name": "stdout",
     "output_type": "stream",
     "text": [
      "ER+_HER2-_Low_Prolif :  (114, 24370)\n"
     ]
    },
    {
     "data": {
      "text/plain": [
       "(114, 24368)"
      ]
     },
     "metadata": {},
     "output_type": "display_data"
    },
    {
     "data": {
      "text/plain": [
       "(114, 16)"
      ]
     },
     "metadata": {},
     "output_type": "display_data"
    },
    {
     "name": "stdout",
     "output_type": "stream",
     "text": [
      "HER2+ :  (16, 24370)\n"
     ]
    },
    {
     "data": {
      "text/plain": [
       "(16, 24368)"
      ]
     },
     "metadata": {},
     "output_type": "display_data"
    },
    {
     "data": {
      "text/plain": [
       "(16, 13)"
      ]
     },
     "metadata": {},
     "output_type": "display_data"
    },
    {
     "name": "stdout",
     "output_type": "stream",
     "text": [
      "++++++++++++++++++++++++++++++++++++++++++++++++++++++++++++++++++++++++++++++++++++++++++++++++++++\n",
      "30\n",
      "claudin-low :  (22, 24370)\n"
     ]
    },
    {
     "data": {
      "text/plain": [
       "(22, 24368)"
      ]
     },
     "metadata": {},
     "output_type": "display_data"
    },
    {
     "data": {
      "text/plain": [
       "(22, 10)"
      ]
     },
     "metadata": {},
     "output_type": "display_data"
    },
    {
     "name": "stdout",
     "output_type": "stream",
     "text": [
      "LumA :  (119, 24370)\n"
     ]
    },
    {
     "data": {
      "text/plain": [
       "(119, 24368)"
      ]
     },
     "metadata": {},
     "output_type": "display_data"
    },
    {
     "data": {
      "text/plain": [
       "(119, 19)"
      ]
     },
     "metadata": {},
     "output_type": "display_data"
    },
    {
     "name": "stdout",
     "output_type": "stream",
     "text": [
      "LumB :  (87, 24370)\n"
     ]
    },
    {
     "data": {
      "text/plain": [
       "(87, 24368)"
      ]
     },
     "metadata": {},
     "output_type": "display_data"
    },
    {
     "data": {
      "text/plain": [
       "(87, 19)"
      ]
     },
     "metadata": {},
     "output_type": "display_data"
    },
    {
     "name": "stdout",
     "output_type": "stream",
     "text": [
      "Her2 :  (29, 24370)\n"
     ]
    },
    {
     "data": {
      "text/plain": [
       "(29, 24368)"
      ]
     },
     "metadata": {},
     "output_type": "display_data"
    },
    {
     "data": {
      "text/plain": [
       "(29, 11)"
      ]
     },
     "metadata": {},
     "output_type": "display_data"
    },
    {
     "name": "stdout",
     "output_type": "stream",
     "text": [
      "Normal :  (27, 24370)\n"
     ]
    },
    {
     "data": {
      "text/plain": [
       "(27, 24368)"
      ]
     },
     "metadata": {},
     "output_type": "display_data"
    },
    {
     "data": {
      "text/plain": [
       "(27, 10)"
      ]
     },
     "metadata": {},
     "output_type": "display_data"
    },
    {
     "name": "stdout",
     "output_type": "stream",
     "text": [
      "Basal :  (8, 24370)\n"
     ]
    },
    {
     "data": {
      "text/plain": [
       "(8, 24368)"
      ]
     },
     "metadata": {},
     "output_type": "display_data"
    },
    {
     "data": {
      "text/plain": [
       "(8, 14)"
      ]
     },
     "metadata": {},
     "output_type": "display_data"
    },
    {
     "name": "stdout",
     "output_type": "stream",
     "text": [
      "ER-_HER2- :  (20, 24370)\n"
     ]
    },
    {
     "data": {
      "text/plain": [
       "(20, 24368)"
      ]
     },
     "metadata": {},
     "output_type": "display_data"
    },
    {
     "data": {
      "text/plain": [
       "(20, 14)"
      ]
     },
     "metadata": {},
     "output_type": "display_data"
    },
    {
     "name": "stdout",
     "output_type": "stream",
     "text": [
      "ER+_HER2-_High_Prolif :  (105, 24370)\n"
     ]
    },
    {
     "data": {
      "text/plain": [
       "(105, 24368)"
      ]
     },
     "metadata": {},
     "output_type": "display_data"
    },
    {
     "data": {
      "text/plain": [
       "(105, 23)"
      ]
     },
     "metadata": {},
     "output_type": "display_data"
    },
    {
     "name": "stdout",
     "output_type": "stream",
     "text": [
      "ER+_HER2-_Low_Prolif :  (114, 24370)\n"
     ]
    },
    {
     "data": {
      "text/plain": [
       "(114, 24368)"
      ]
     },
     "metadata": {},
     "output_type": "display_data"
    },
    {
     "data": {
      "text/plain": [
       "(114, 17)"
      ]
     },
     "metadata": {},
     "output_type": "display_data"
    },
    {
     "name": "stdout",
     "output_type": "stream",
     "text": [
      "HER2+ :  (16, 24370)\n"
     ]
    },
    {
     "data": {
      "text/plain": [
       "(16, 24368)"
      ]
     },
     "metadata": {},
     "output_type": "display_data"
    },
    {
     "data": {
      "text/plain": [
       "(16, 14)"
      ]
     },
     "metadata": {},
     "output_type": "display_data"
    },
    {
     "name": "stdout",
     "output_type": "stream",
     "text": [
      "++++++++++++++++++++++++++++++++++++++++++++++++++++++++++++++++++++++++++++++++++++++++++++++++++++\n",
      "31\n",
      "claudin-low :  (22, 24370)\n"
     ]
    },
    {
     "data": {
      "text/plain": [
       "(22, 24368)"
      ]
     },
     "metadata": {},
     "output_type": "display_data"
    },
    {
     "data": {
      "text/plain": [
       "(22, 10)"
      ]
     },
     "metadata": {},
     "output_type": "display_data"
    },
    {
     "name": "stdout",
     "output_type": "stream",
     "text": [
      "LumA :  (119, 24370)\n"
     ]
    },
    {
     "data": {
      "text/plain": [
       "(119, 24368)"
      ]
     },
     "metadata": {},
     "output_type": "display_data"
    },
    {
     "data": {
      "text/plain": [
       "(119, 21)"
      ]
     },
     "metadata": {},
     "output_type": "display_data"
    },
    {
     "name": "stdout",
     "output_type": "stream",
     "text": [
      "LumB :  (87, 24370)\n"
     ]
    },
    {
     "data": {
      "text/plain": [
       "(87, 24368)"
      ]
     },
     "metadata": {},
     "output_type": "display_data"
    },
    {
     "data": {
      "text/plain": [
       "(87, 21)"
      ]
     },
     "metadata": {},
     "output_type": "display_data"
    },
    {
     "name": "stdout",
     "output_type": "stream",
     "text": [
      "Her2 :  (29, 24370)\n"
     ]
    },
    {
     "data": {
      "text/plain": [
       "(29, 24368)"
      ]
     },
     "metadata": {},
     "output_type": "display_data"
    },
    {
     "data": {
      "text/plain": [
       "(29, 12)"
      ]
     },
     "metadata": {},
     "output_type": "display_data"
    },
    {
     "name": "stdout",
     "output_type": "stream",
     "text": [
      "Normal :  (27, 24370)\n"
     ]
    },
    {
     "data": {
      "text/plain": [
       "(27, 24368)"
      ]
     },
     "metadata": {},
     "output_type": "display_data"
    },
    {
     "data": {
      "text/plain": [
       "(27, 10)"
      ]
     },
     "metadata": {},
     "output_type": "display_data"
    },
    {
     "name": "stdout",
     "output_type": "stream",
     "text": [
      "Basal :  (8, 24370)\n"
     ]
    },
    {
     "data": {
      "text/plain": [
       "(8, 24368)"
      ]
     },
     "metadata": {},
     "output_type": "display_data"
    },
    {
     "data": {
      "text/plain": [
       "(8, 15)"
      ]
     },
     "metadata": {},
     "output_type": "display_data"
    },
    {
     "name": "stdout",
     "output_type": "stream",
     "text": [
      "ER-_HER2- :  (20, 24370)\n"
     ]
    },
    {
     "data": {
      "text/plain": [
       "(20, 24368)"
      ]
     },
     "metadata": {},
     "output_type": "display_data"
    },
    {
     "data": {
      "text/plain": [
       "(20, 16)"
      ]
     },
     "metadata": {},
     "output_type": "display_data"
    },
    {
     "name": "stdout",
     "output_type": "stream",
     "text": [
      "ER+_HER2-_High_Prolif :  (105, 24370)\n"
     ]
    },
    {
     "data": {
      "text/plain": [
       "(105, 24368)"
      ]
     },
     "metadata": {},
     "output_type": "display_data"
    },
    {
     "data": {
      "text/plain": [
       "(105, 25)"
      ]
     },
     "metadata": {},
     "output_type": "display_data"
    },
    {
     "name": "stdout",
     "output_type": "stream",
     "text": [
      "ER+_HER2-_Low_Prolif :  (114, 24370)\n"
     ]
    },
    {
     "data": {
      "text/plain": [
       "(114, 24368)"
      ]
     },
     "metadata": {},
     "output_type": "display_data"
    },
    {
     "data": {
      "text/plain": [
       "(114, 19)"
      ]
     },
     "metadata": {},
     "output_type": "display_data"
    },
    {
     "name": "stdout",
     "output_type": "stream",
     "text": [
      "HER2+ :  (16, 24370)\n"
     ]
    },
    {
     "data": {
      "text/plain": [
       "(16, 24368)"
      ]
     },
     "metadata": {},
     "output_type": "display_data"
    },
    {
     "data": {
      "text/plain": [
       "(16, 15)"
      ]
     },
     "metadata": {},
     "output_type": "display_data"
    },
    {
     "name": "stdout",
     "output_type": "stream",
     "text": [
      "++++++++++++++++++++++++++++++++++++++++++++++++++++++++++++++++++++++++++++++++++++++++++++++++++++\n",
      "32\n",
      "claudin-low :  (22, 24370)\n"
     ]
    },
    {
     "data": {
      "text/plain": [
       "(22, 24368)"
      ]
     },
     "metadata": {},
     "output_type": "display_data"
    },
    {
     "data": {
      "text/plain": [
       "(22, 11)"
      ]
     },
     "metadata": {},
     "output_type": "display_data"
    },
    {
     "name": "stdout",
     "output_type": "stream",
     "text": [
      "LumA :  (119, 24370)\n"
     ]
    },
    {
     "data": {
      "text/plain": [
       "(119, 24368)"
      ]
     },
     "metadata": {},
     "output_type": "display_data"
    },
    {
     "data": {
      "text/plain": [
       "(119, 23)"
      ]
     },
     "metadata": {},
     "output_type": "display_data"
    },
    {
     "name": "stdout",
     "output_type": "stream",
     "text": [
      "LumB :  (87, 24370)\n"
     ]
    },
    {
     "data": {
      "text/plain": [
       "(87, 24368)"
      ]
     },
     "metadata": {},
     "output_type": "display_data"
    },
    {
     "data": {
      "text/plain": [
       "(87, 23)"
      ]
     },
     "metadata": {},
     "output_type": "display_data"
    },
    {
     "name": "stdout",
     "output_type": "stream",
     "text": [
      "Her2 :  (29, 24370)\n"
     ]
    },
    {
     "data": {
      "text/plain": [
       "(29, 24368)"
      ]
     },
     "metadata": {},
     "output_type": "display_data"
    },
    {
     "data": {
      "text/plain": [
       "(29, 14)"
      ]
     },
     "metadata": {},
     "output_type": "display_data"
    },
    {
     "name": "stdout",
     "output_type": "stream",
     "text": [
      "Normal :  (27, 24370)\n"
     ]
    },
    {
     "data": {
      "text/plain": [
       "(27, 24368)"
      ]
     },
     "metadata": {},
     "output_type": "display_data"
    },
    {
     "data": {
      "text/plain": [
       "(27, 11)"
      ]
     },
     "metadata": {},
     "output_type": "display_data"
    },
    {
     "name": "stdout",
     "output_type": "stream",
     "text": [
      "Basal :  (8, 24370)\n"
     ]
    },
    {
     "data": {
      "text/plain": [
       "(8, 24368)"
      ]
     },
     "metadata": {},
     "output_type": "display_data"
    },
    {
     "data": {
      "text/plain": [
       "(8, 16)"
      ]
     },
     "metadata": {},
     "output_type": "display_data"
    },
    {
     "name": "stdout",
     "output_type": "stream",
     "text": [
      "ER-_HER2- :  (20, 24370)\n"
     ]
    },
    {
     "data": {
      "text/plain": [
       "(20, 24368)"
      ]
     },
     "metadata": {},
     "output_type": "display_data"
    },
    {
     "data": {
      "text/plain": [
       "(20, 17)"
      ]
     },
     "metadata": {},
     "output_type": "display_data"
    },
    {
     "name": "stdout",
     "output_type": "stream",
     "text": [
      "ER+_HER2-_High_Prolif :  (105, 24370)\n"
     ]
    },
    {
     "data": {
      "text/plain": [
       "(105, 24368)"
      ]
     },
     "metadata": {},
     "output_type": "display_data"
    },
    {
     "data": {
      "text/plain": [
       "(105, 27)"
      ]
     },
     "metadata": {},
     "output_type": "display_data"
    },
    {
     "name": "stdout",
     "output_type": "stream",
     "text": [
      "ER+_HER2-_Low_Prolif :  (114, 24370)\n"
     ]
    },
    {
     "data": {
      "text/plain": [
       "(114, 24368)"
      ]
     },
     "metadata": {},
     "output_type": "display_data"
    },
    {
     "data": {
      "text/plain": [
       "(114, 21)"
      ]
     },
     "metadata": {},
     "output_type": "display_data"
    },
    {
     "name": "stdout",
     "output_type": "stream",
     "text": [
      "HER2+ :  (16, 24370)\n"
     ]
    },
    {
     "data": {
      "text/plain": [
       "(16, 24368)"
      ]
     },
     "metadata": {},
     "output_type": "display_data"
    },
    {
     "data": {
      "text/plain": [
       "(16, 16)"
      ]
     },
     "metadata": {},
     "output_type": "display_data"
    },
    {
     "name": "stdout",
     "output_type": "stream",
     "text": [
      "++++++++++++++++++++++++++++++++++++++++++++++++++++++++++++++++++++++++++++++++++++++++++++++++++++\n",
      "33\n",
      "claudin-low :  (22, 24370)\n"
     ]
    },
    {
     "data": {
      "text/plain": [
       "(22, 24368)"
      ]
     },
     "metadata": {},
     "output_type": "display_data"
    },
    {
     "data": {
      "text/plain": [
       "(22, 12)"
      ]
     },
     "metadata": {},
     "output_type": "display_data"
    },
    {
     "name": "stdout",
     "output_type": "stream",
     "text": [
      "LumA :  (119, 24370)\n"
     ]
    },
    {
     "data": {
      "text/plain": [
       "(119, 24368)"
      ]
     },
     "metadata": {},
     "output_type": "display_data"
    },
    {
     "data": {
      "text/plain": [
       "(119, 25)"
      ]
     },
     "metadata": {},
     "output_type": "display_data"
    },
    {
     "name": "stdout",
     "output_type": "stream",
     "text": [
      "LumB :  (87, 24370)\n"
     ]
    },
    {
     "data": {
      "text/plain": [
       "(87, 24368)"
      ]
     },
     "metadata": {},
     "output_type": "display_data"
    },
    {
     "data": {
      "text/plain": [
       "(87, 25)"
      ]
     },
     "metadata": {},
     "output_type": "display_data"
    },
    {
     "name": "stdout",
     "output_type": "stream",
     "text": [
      "Her2 :  (29, 24370)\n"
     ]
    },
    {
     "data": {
      "text/plain": [
       "(29, 24368)"
      ]
     },
     "metadata": {},
     "output_type": "display_data"
    },
    {
     "data": {
      "text/plain": [
       "(29, 15)"
      ]
     },
     "metadata": {},
     "output_type": "display_data"
    },
    {
     "name": "stdout",
     "output_type": "stream",
     "text": [
      "Normal :  (27, 24370)\n"
     ]
    },
    {
     "data": {
      "text/plain": [
       "(27, 24368)"
      ]
     },
     "metadata": {},
     "output_type": "display_data"
    },
    {
     "data": {
      "text/plain": [
       "(27, 12)"
      ]
     },
     "metadata": {},
     "output_type": "display_data"
    },
    {
     "name": "stdout",
     "output_type": "stream",
     "text": [
      "Basal :  (8, 24370)\n"
     ]
    },
    {
     "data": {
      "text/plain": [
       "(8, 24368)"
      ]
     },
     "metadata": {},
     "output_type": "display_data"
    },
    {
     "data": {
      "text/plain": [
       "(8, 17)"
      ]
     },
     "metadata": {},
     "output_type": "display_data"
    },
    {
     "name": "stdout",
     "output_type": "stream",
     "text": [
      "ER-_HER2- :  (20, 24370)\n"
     ]
    },
    {
     "data": {
      "text/plain": [
       "(20, 24368)"
      ]
     },
     "metadata": {},
     "output_type": "display_data"
    },
    {
     "data": {
      "text/plain": [
       "(20, 18)"
      ]
     },
     "metadata": {},
     "output_type": "display_data"
    },
    {
     "name": "stdout",
     "output_type": "stream",
     "text": [
      "ER+_HER2-_High_Prolif :  (105, 24370)\n"
     ]
    },
    {
     "data": {
      "text/plain": [
       "(105, 24368)"
      ]
     },
     "metadata": {},
     "output_type": "display_data"
    },
    {
     "data": {
      "text/plain": [
       "(105, 30)"
      ]
     },
     "metadata": {},
     "output_type": "display_data"
    },
    {
     "name": "stdout",
     "output_type": "stream",
     "text": [
      "ER+_HER2-_Low_Prolif :  (114, 24370)\n"
     ]
    },
    {
     "data": {
      "text/plain": [
       "(114, 24368)"
      ]
     },
     "metadata": {},
     "output_type": "display_data"
    },
    {
     "data": {
      "text/plain": [
       "(114, 23)"
      ]
     },
     "metadata": {},
     "output_type": "display_data"
    },
    {
     "name": "stdout",
     "output_type": "stream",
     "text": [
      "HER2+ :  (16, 24370)\n"
     ]
    },
    {
     "data": {
      "text/plain": [
       "(16, 24368)"
      ]
     },
     "metadata": {},
     "output_type": "display_data"
    },
    {
     "data": {
      "text/plain": [
       "(16, 17)"
      ]
     },
     "metadata": {},
     "output_type": "display_data"
    },
    {
     "name": "stdout",
     "output_type": "stream",
     "text": [
      "++++++++++++++++++++++++++++++++++++++++++++++++++++++++++++++++++++++++++++++++++++++++++++++++++++\n",
      "34\n",
      "claudin-low :  (22, 24370)\n"
     ]
    },
    {
     "data": {
      "text/plain": [
       "(22, 24368)"
      ]
     },
     "metadata": {},
     "output_type": "display_data"
    },
    {
     "data": {
      "text/plain": [
       "(22, 13)"
      ]
     },
     "metadata": {},
     "output_type": "display_data"
    },
    {
     "name": "stdout",
     "output_type": "stream",
     "text": [
      "LumA :  (119, 24370)\n"
     ]
    },
    {
     "data": {
      "text/plain": [
       "(119, 24368)"
      ]
     },
     "metadata": {},
     "output_type": "display_data"
    },
    {
     "data": {
      "text/plain": [
       "(119, 27)"
      ]
     },
     "metadata": {},
     "output_type": "display_data"
    },
    {
     "name": "stdout",
     "output_type": "stream",
     "text": [
      "LumB :  (87, 24370)\n"
     ]
    },
    {
     "data": {
      "text/plain": [
       "(87, 24368)"
      ]
     },
     "metadata": {},
     "output_type": "display_data"
    },
    {
     "data": {
      "text/plain": [
       "(87, 27)"
      ]
     },
     "metadata": {},
     "output_type": "display_data"
    },
    {
     "name": "stdout",
     "output_type": "stream",
     "text": [
      "Her2 :  (29, 24370)\n"
     ]
    },
    {
     "data": {
      "text/plain": [
       "(29, 24368)"
      ]
     },
     "metadata": {},
     "output_type": "display_data"
    },
    {
     "data": {
      "text/plain": [
       "(29, 16)"
      ]
     },
     "metadata": {},
     "output_type": "display_data"
    },
    {
     "name": "stdout",
     "output_type": "stream",
     "text": [
      "Normal :  (27, 24370)\n"
     ]
    },
    {
     "data": {
      "text/plain": [
       "(27, 24368)"
      ]
     },
     "metadata": {},
     "output_type": "display_data"
    },
    {
     "data": {
      "text/plain": [
       "(27, 12)"
      ]
     },
     "metadata": {},
     "output_type": "display_data"
    },
    {
     "name": "stdout",
     "output_type": "stream",
     "text": [
      "Basal :  (8, 24370)\n"
     ]
    },
    {
     "data": {
      "text/plain": [
       "(8, 24368)"
      ]
     },
     "metadata": {},
     "output_type": "display_data"
    },
    {
     "data": {
      "text/plain": [
       "(8, 18)"
      ]
     },
     "metadata": {},
     "output_type": "display_data"
    },
    {
     "name": "stdout",
     "output_type": "stream",
     "text": [
      "ER-_HER2- :  (20, 24370)\n"
     ]
    },
    {
     "data": {
      "text/plain": [
       "(20, 24368)"
      ]
     },
     "metadata": {},
     "output_type": "display_data"
    },
    {
     "data": {
      "text/plain": [
       "(20, 20)"
      ]
     },
     "metadata": {},
     "output_type": "display_data"
    },
    {
     "name": "stdout",
     "output_type": "stream",
     "text": [
      "ER+_HER2-_High_Prolif :  (105, 24370)\n"
     ]
    },
    {
     "data": {
      "text/plain": [
       "(105, 24368)"
      ]
     },
     "metadata": {},
     "output_type": "display_data"
    },
    {
     "data": {
      "text/plain": [
       "(105, 32)"
      ]
     },
     "metadata": {},
     "output_type": "display_data"
    },
    {
     "name": "stdout",
     "output_type": "stream",
     "text": [
      "ER+_HER2-_Low_Prolif :  (114, 24370)\n"
     ]
    },
    {
     "data": {
      "text/plain": [
       "(114, 24368)"
      ]
     },
     "metadata": {},
     "output_type": "display_data"
    },
    {
     "data": {
      "text/plain": [
       "(114, 25)"
      ]
     },
     "metadata": {},
     "output_type": "display_data"
    },
    {
     "name": "stdout",
     "output_type": "stream",
     "text": [
      "HER2+ :  (16, 24370)\n"
     ]
    },
    {
     "data": {
      "text/plain": [
       "(16, 24368)"
      ]
     },
     "metadata": {},
     "output_type": "display_data"
    },
    {
     "data": {
      "text/plain": [
       "(16, 18)"
      ]
     },
     "metadata": {},
     "output_type": "display_data"
    },
    {
     "name": "stdout",
     "output_type": "stream",
     "text": [
      "++++++++++++++++++++++++++++++++++++++++++++++++++++++++++++++++++++++++++++++++++++++++++++++++++++\n",
      "35\n",
      "claudin-low :  (22, 24370)\n"
     ]
    },
    {
     "data": {
      "text/plain": [
       "(22, 24368)"
      ]
     },
     "metadata": {},
     "output_type": "display_data"
    },
    {
     "data": {
      "text/plain": [
       "(22, 14)"
      ]
     },
     "metadata": {},
     "output_type": "display_data"
    },
    {
     "name": "stdout",
     "output_type": "stream",
     "text": [
      "LumA :  (119, 24370)\n"
     ]
    },
    {
     "data": {
      "text/plain": [
       "(119, 24368)"
      ]
     },
     "metadata": {},
     "output_type": "display_data"
    },
    {
     "data": {
      "text/plain": [
       "(119, 30)"
      ]
     },
     "metadata": {},
     "output_type": "display_data"
    },
    {
     "name": "stdout",
     "output_type": "stream",
     "text": [
      "LumB :  (87, 24370)\n"
     ]
    },
    {
     "data": {
      "text/plain": [
       "(87, 24368)"
      ]
     },
     "metadata": {},
     "output_type": "display_data"
    },
    {
     "data": {
      "text/plain": [
       "(87, 29)"
      ]
     },
     "metadata": {},
     "output_type": "display_data"
    },
    {
     "name": "stdout",
     "output_type": "stream",
     "text": [
      "Her2 :  (29, 24370)\n"
     ]
    },
    {
     "data": {
      "text/plain": [
       "(29, 24368)"
      ]
     },
     "metadata": {},
     "output_type": "display_data"
    },
    {
     "data": {
      "text/plain": [
       "(29, 17)"
      ]
     },
     "metadata": {},
     "output_type": "display_data"
    },
    {
     "name": "stdout",
     "output_type": "stream",
     "text": [
      "Normal :  (27, 24370)\n"
     ]
    },
    {
     "data": {
      "text/plain": [
       "(27, 24368)"
      ]
     },
     "metadata": {},
     "output_type": "display_data"
    },
    {
     "data": {
      "text/plain": [
       "(27, 13)"
      ]
     },
     "metadata": {},
     "output_type": "display_data"
    },
    {
     "name": "stdout",
     "output_type": "stream",
     "text": [
      "Basal :  (8, 24370)\n"
     ]
    },
    {
     "data": {
      "text/plain": [
       "(8, 24368)"
      ]
     },
     "metadata": {},
     "output_type": "display_data"
    },
    {
     "data": {
      "text/plain": [
       "(8, 19)"
      ]
     },
     "metadata": {},
     "output_type": "display_data"
    },
    {
     "name": "stdout",
     "output_type": "stream",
     "text": [
      "ER-_HER2- :  (20, 24370)\n"
     ]
    },
    {
     "data": {
      "text/plain": [
       "(20, 24368)"
      ]
     },
     "metadata": {},
     "output_type": "display_data"
    },
    {
     "data": {
      "text/plain": [
       "(20, 21)"
      ]
     },
     "metadata": {},
     "output_type": "display_data"
    },
    {
     "name": "stdout",
     "output_type": "stream",
     "text": [
      "ER+_HER2-_High_Prolif :  (105, 24370)\n"
     ]
    },
    {
     "data": {
      "text/plain": [
       "(105, 24368)"
      ]
     },
     "metadata": {},
     "output_type": "display_data"
    },
    {
     "data": {
      "text/plain": [
       "(105, 35)"
      ]
     },
     "metadata": {},
     "output_type": "display_data"
    },
    {
     "name": "stdout",
     "output_type": "stream",
     "text": [
      "ER+_HER2-_Low_Prolif :  (114, 24370)\n"
     ]
    },
    {
     "data": {
      "text/plain": [
       "(114, 24368)"
      ]
     },
     "metadata": {},
     "output_type": "display_data"
    },
    {
     "data": {
      "text/plain": [
       "(114, 27)"
      ]
     },
     "metadata": {},
     "output_type": "display_data"
    },
    {
     "name": "stdout",
     "output_type": "stream",
     "text": [
      "HER2+ :  (16, 24370)\n"
     ]
    },
    {
     "data": {
      "text/plain": [
       "(16, 24368)"
      ]
     },
     "metadata": {},
     "output_type": "display_data"
    },
    {
     "data": {
      "text/plain": [
       "(16, 19)"
      ]
     },
     "metadata": {},
     "output_type": "display_data"
    },
    {
     "name": "stdout",
     "output_type": "stream",
     "text": [
      "++++++++++++++++++++++++++++++++++++++++++++++++++++++++++++++++++++++++++++++++++++++++++++++++++++\n",
      "36\n",
      "claudin-low :  (22, 24370)\n"
     ]
    },
    {
     "data": {
      "text/plain": [
       "(22, 24368)"
      ]
     },
     "metadata": {},
     "output_type": "display_data"
    },
    {
     "data": {
      "text/plain": [
       "(22, 14)"
      ]
     },
     "metadata": {},
     "output_type": "display_data"
    },
    {
     "name": "stdout",
     "output_type": "stream",
     "text": [
      "LumA :  (119, 24370)\n"
     ]
    },
    {
     "data": {
      "text/plain": [
       "(119, 24368)"
      ]
     },
     "metadata": {},
     "output_type": "display_data"
    },
    {
     "data": {
      "text/plain": [
       "(119, 32)"
      ]
     },
     "metadata": {},
     "output_type": "display_data"
    },
    {
     "name": "stdout",
     "output_type": "stream",
     "text": [
      "LumB :  (87, 24370)\n"
     ]
    },
    {
     "data": {
      "text/plain": [
       "(87, 24368)"
      ]
     },
     "metadata": {},
     "output_type": "display_data"
    },
    {
     "data": {
      "text/plain": [
       "(87, 31)"
      ]
     },
     "metadata": {},
     "output_type": "display_data"
    },
    {
     "name": "stdout",
     "output_type": "stream",
     "text": [
      "Her2 :  (29, 24370)\n"
     ]
    },
    {
     "data": {
      "text/plain": [
       "(29, 24368)"
      ]
     },
     "metadata": {},
     "output_type": "display_data"
    },
    {
     "data": {
      "text/plain": [
       "(29, 18)"
      ]
     },
     "metadata": {},
     "output_type": "display_data"
    },
    {
     "name": "stdout",
     "output_type": "stream",
     "text": [
      "Normal :  (27, 24370)\n"
     ]
    },
    {
     "data": {
      "text/plain": [
       "(27, 24368)"
      ]
     },
     "metadata": {},
     "output_type": "display_data"
    },
    {
     "data": {
      "text/plain": [
       "(27, 14)"
      ]
     },
     "metadata": {},
     "output_type": "display_data"
    },
    {
     "name": "stdout",
     "output_type": "stream",
     "text": [
      "Basal :  (8, 24370)\n"
     ]
    },
    {
     "data": {
      "text/plain": [
       "(8, 24368)"
      ]
     },
     "metadata": {},
     "output_type": "display_data"
    },
    {
     "data": {
      "text/plain": [
       "(8, 20)"
      ]
     },
     "metadata": {},
     "output_type": "display_data"
    },
    {
     "name": "stdout",
     "output_type": "stream",
     "text": [
      "ER-_HER2- :  (20, 24370)\n"
     ]
    },
    {
     "data": {
      "text/plain": [
       "(20, 24368)"
      ]
     },
     "metadata": {},
     "output_type": "display_data"
    },
    {
     "data": {
      "text/plain": [
       "(20, 23)"
      ]
     },
     "metadata": {},
     "output_type": "display_data"
    },
    {
     "name": "stdout",
     "output_type": "stream",
     "text": [
      "ER+_HER2-_High_Prolif :  (105, 24370)\n"
     ]
    },
    {
     "data": {
      "text/plain": [
       "(105, 24368)"
      ]
     },
     "metadata": {},
     "output_type": "display_data"
    },
    {
     "data": {
      "text/plain": [
       "(105, 38)"
      ]
     },
     "metadata": {},
     "output_type": "display_data"
    },
    {
     "name": "stdout",
     "output_type": "stream",
     "text": [
      "ER+_HER2-_Low_Prolif :  (114, 24370)\n"
     ]
    },
    {
     "data": {
      "text/plain": [
       "(114, 24368)"
      ]
     },
     "metadata": {},
     "output_type": "display_data"
    },
    {
     "data": {
      "text/plain": [
       "(114, 30)"
      ]
     },
     "metadata": {},
     "output_type": "display_data"
    },
    {
     "name": "stdout",
     "output_type": "stream",
     "text": [
      "HER2+ :  (16, 24370)\n"
     ]
    },
    {
     "data": {
      "text/plain": [
       "(16, 24368)"
      ]
     },
     "metadata": {},
     "output_type": "display_data"
    },
    {
     "data": {
      "text/plain": [
       "(16, 21)"
      ]
     },
     "metadata": {},
     "output_type": "display_data"
    },
    {
     "name": "stdout",
     "output_type": "stream",
     "text": [
      "++++++++++++++++++++++++++++++++++++++++++++++++++++++++++++++++++++++++++++++++++++++++++++++++++++\n",
      "37\n",
      "claudin-low :  (22, 24370)\n"
     ]
    },
    {
     "data": {
      "text/plain": [
       "(22, 24368)"
      ]
     },
     "metadata": {},
     "output_type": "display_data"
    },
    {
     "data": {
      "text/plain": [
       "(22, 15)"
      ]
     },
     "metadata": {},
     "output_type": "display_data"
    },
    {
     "name": "stdout",
     "output_type": "stream",
     "text": [
      "LumA :  (119, 24370)\n"
     ]
    },
    {
     "data": {
      "text/plain": [
       "(119, 24368)"
      ]
     },
     "metadata": {},
     "output_type": "display_data"
    },
    {
     "data": {
      "text/plain": [
       "(119, 35)"
      ]
     },
     "metadata": {},
     "output_type": "display_data"
    },
    {
     "name": "stdout",
     "output_type": "stream",
     "text": [
      "LumB :  (87, 24370)\n"
     ]
    },
    {
     "data": {
      "text/plain": [
       "(87, 24368)"
      ]
     },
     "metadata": {},
     "output_type": "display_data"
    },
    {
     "data": {
      "text/plain": [
       "(87, 34)"
      ]
     },
     "metadata": {},
     "output_type": "display_data"
    },
    {
     "name": "stdout",
     "output_type": "stream",
     "text": [
      "Her2 :  (29, 24370)\n"
     ]
    },
    {
     "data": {
      "text/plain": [
       "(29, 24368)"
      ]
     },
     "metadata": {},
     "output_type": "display_data"
    },
    {
     "data": {
      "text/plain": [
       "(29, 20)"
      ]
     },
     "metadata": {},
     "output_type": "display_data"
    },
    {
     "name": "stdout",
     "output_type": "stream",
     "text": [
      "Normal :  (27, 24370)\n"
     ]
    },
    {
     "data": {
      "text/plain": [
       "(27, 24368)"
      ]
     },
     "metadata": {},
     "output_type": "display_data"
    },
    {
     "data": {
      "text/plain": [
       "(27, 15)"
      ]
     },
     "metadata": {},
     "output_type": "display_data"
    },
    {
     "name": "stdout",
     "output_type": "stream",
     "text": [
      "Basal :  (8, 24370)\n"
     ]
    },
    {
     "data": {
      "text/plain": [
       "(8, 24368)"
      ]
     },
     "metadata": {},
     "output_type": "display_data"
    },
    {
     "data": {
      "text/plain": [
       "(8, 22)"
      ]
     },
     "metadata": {},
     "output_type": "display_data"
    },
    {
     "name": "stdout",
     "output_type": "stream",
     "text": [
      "ER-_HER2- :  (20, 24370)\n"
     ]
    },
    {
     "data": {
      "text/plain": [
       "(20, 24368)"
      ]
     },
     "metadata": {},
     "output_type": "display_data"
    },
    {
     "data": {
      "text/plain": [
       "(20, 24)"
      ]
     },
     "metadata": {},
     "output_type": "display_data"
    },
    {
     "name": "stdout",
     "output_type": "stream",
     "text": [
      "ER+_HER2-_High_Prolif :  (105, 24370)\n"
     ]
    },
    {
     "data": {
      "text/plain": [
       "(105, 24368)"
      ]
     },
     "metadata": {},
     "output_type": "display_data"
    },
    {
     "data": {
      "text/plain": [
       "(105, 41)"
      ]
     },
     "metadata": {},
     "output_type": "display_data"
    },
    {
     "name": "stdout",
     "output_type": "stream",
     "text": [
      "ER+_HER2-_Low_Prolif :  (114, 24370)\n"
     ]
    },
    {
     "data": {
      "text/plain": [
       "(114, 24368)"
      ]
     },
     "metadata": {},
     "output_type": "display_data"
    },
    {
     "data": {
      "text/plain": [
       "(114, 32)"
      ]
     },
     "metadata": {},
     "output_type": "display_data"
    },
    {
     "name": "stdout",
     "output_type": "stream",
     "text": [
      "HER2+ :  (16, 24370)\n"
     ]
    },
    {
     "data": {
      "text/plain": [
       "(16, 24368)"
      ]
     },
     "metadata": {},
     "output_type": "display_data"
    },
    {
     "data": {
      "text/plain": [
       "(16, 22)"
      ]
     },
     "metadata": {},
     "output_type": "display_data"
    },
    {
     "name": "stdout",
     "output_type": "stream",
     "text": [
      "++++++++++++++++++++++++++++++++++++++++++++++++++++++++++++++++++++++++++++++++++++++++++++++++++++\n",
      "38\n",
      "claudin-low :  (22, 24370)\n"
     ]
    },
    {
     "data": {
      "text/plain": [
       "(22, 24368)"
      ]
     },
     "metadata": {},
     "output_type": "display_data"
    },
    {
     "data": {
      "text/plain": [
       "(22, 16)"
      ]
     },
     "metadata": {},
     "output_type": "display_data"
    },
    {
     "name": "stdout",
     "output_type": "stream",
     "text": [
      "LumA :  (119, 24370)\n"
     ]
    },
    {
     "data": {
      "text/plain": [
       "(119, 24368)"
      ]
     },
     "metadata": {},
     "output_type": "display_data"
    },
    {
     "data": {
      "text/plain": [
       "(119, 38)"
      ]
     },
     "metadata": {},
     "output_type": "display_data"
    },
    {
     "name": "stdout",
     "output_type": "stream",
     "text": [
      "LumB :  (87, 24370)\n"
     ]
    },
    {
     "data": {
      "text/plain": [
       "(87, 24368)"
      ]
     },
     "metadata": {},
     "output_type": "display_data"
    },
    {
     "data": {
      "text/plain": [
       "(87, 36)"
      ]
     },
     "metadata": {},
     "output_type": "display_data"
    },
    {
     "name": "stdout",
     "output_type": "stream",
     "text": [
      "Her2 :  (29, 24370)\n"
     ]
    },
    {
     "data": {
      "text/plain": [
       "(29, 24368)"
      ]
     },
     "metadata": {},
     "output_type": "display_data"
    },
    {
     "data": {
      "text/plain": [
       "(29, 21)"
      ]
     },
     "metadata": {},
     "output_type": "display_data"
    },
    {
     "name": "stdout",
     "output_type": "stream",
     "text": [
      "Normal :  (27, 24370)\n"
     ]
    },
    {
     "data": {
      "text/plain": [
       "(27, 24368)"
      ]
     },
     "metadata": {},
     "output_type": "display_data"
    },
    {
     "data": {
      "text/plain": [
       "(27, 16)"
      ]
     },
     "metadata": {},
     "output_type": "display_data"
    },
    {
     "name": "stdout",
     "output_type": "stream",
     "text": [
      "Basal :  (8, 24370)\n"
     ]
    },
    {
     "data": {
      "text/plain": [
       "(8, 24368)"
      ]
     },
     "metadata": {},
     "output_type": "display_data"
    },
    {
     "data": {
      "text/plain": [
       "(8, 23)"
      ]
     },
     "metadata": {},
     "output_type": "display_data"
    },
    {
     "name": "stdout",
     "output_type": "stream",
     "text": [
      "ER-_HER2- :  (20, 24370)\n"
     ]
    },
    {
     "data": {
      "text/plain": [
       "(20, 24368)"
      ]
     },
     "metadata": {},
     "output_type": "display_data"
    },
    {
     "data": {
      "text/plain": [
       "(20, 26)"
      ]
     },
     "metadata": {},
     "output_type": "display_data"
    },
    {
     "name": "stdout",
     "output_type": "stream",
     "text": [
      "ER+_HER2-_High_Prolif :  (105, 24370)\n"
     ]
    },
    {
     "data": {
      "text/plain": [
       "(105, 24368)"
      ]
     },
     "metadata": {},
     "output_type": "display_data"
    },
    {
     "data": {
      "text/plain": [
       "(105, 44)"
      ]
     },
     "metadata": {},
     "output_type": "display_data"
    },
    {
     "name": "stdout",
     "output_type": "stream",
     "text": [
      "ER+_HER2-_Low_Prolif :  (114, 24370)\n"
     ]
    },
    {
     "data": {
      "text/plain": [
       "(114, 24368)"
      ]
     },
     "metadata": {},
     "output_type": "display_data"
    },
    {
     "data": {
      "text/plain": [
       "(114, 35)"
      ]
     },
     "metadata": {},
     "output_type": "display_data"
    },
    {
     "name": "stdout",
     "output_type": "stream",
     "text": [
      "HER2+ :  (16, 24370)\n"
     ]
    },
    {
     "data": {
      "text/plain": [
       "(16, 24368)"
      ]
     },
     "metadata": {},
     "output_type": "display_data"
    },
    {
     "data": {
      "text/plain": [
       "(16, 23)"
      ]
     },
     "metadata": {},
     "output_type": "display_data"
    },
    {
     "name": "stdout",
     "output_type": "stream",
     "text": [
      "++++++++++++++++++++++++++++++++++++++++++++++++++++++++++++++++++++++++++++++++++++++++++++++++++++\n",
      "39\n",
      "claudin-low :  (22, 24370)\n"
     ]
    },
    {
     "data": {
      "text/plain": [
       "(22, 24368)"
      ]
     },
     "metadata": {},
     "output_type": "display_data"
    },
    {
     "data": {
      "text/plain": [
       "(22, 18)"
      ]
     },
     "metadata": {},
     "output_type": "display_data"
    },
    {
     "name": "stdout",
     "output_type": "stream",
     "text": [
      "LumA :  (119, 24370)\n"
     ]
    },
    {
     "data": {
      "text/plain": [
       "(119, 24368)"
      ]
     },
     "metadata": {},
     "output_type": "display_data"
    },
    {
     "data": {
      "text/plain": [
       "(119, 41)"
      ]
     },
     "metadata": {},
     "output_type": "display_data"
    },
    {
     "name": "stdout",
     "output_type": "stream",
     "text": [
      "LumB :  (87, 24370)\n"
     ]
    },
    {
     "data": {
      "text/plain": [
       "(87, 24368)"
      ]
     },
     "metadata": {},
     "output_type": "display_data"
    },
    {
     "data": {
      "text/plain": [
       "(87, 39)"
      ]
     },
     "metadata": {},
     "output_type": "display_data"
    },
    {
     "name": "stdout",
     "output_type": "stream",
     "text": [
      "Her2 :  (29, 24370)\n"
     ]
    },
    {
     "data": {
      "text/plain": [
       "(29, 24368)"
      ]
     },
     "metadata": {},
     "output_type": "display_data"
    },
    {
     "data": {
      "text/plain": [
       "(29, 23)"
      ]
     },
     "metadata": {},
     "output_type": "display_data"
    },
    {
     "name": "stdout",
     "output_type": "stream",
     "text": [
      "Normal :  (27, 24370)\n"
     ]
    },
    {
     "data": {
      "text/plain": [
       "(27, 24368)"
      ]
     },
     "metadata": {},
     "output_type": "display_data"
    },
    {
     "data": {
      "text/plain": [
       "(27, 17)"
      ]
     },
     "metadata": {},
     "output_type": "display_data"
    },
    {
     "name": "stdout",
     "output_type": "stream",
     "text": [
      "Basal :  (8, 24370)\n"
     ]
    },
    {
     "data": {
      "text/plain": [
       "(8, 24368)"
      ]
     },
     "metadata": {},
     "output_type": "display_data"
    },
    {
     "data": {
      "text/plain": [
       "(8, 24)"
      ]
     },
     "metadata": {},
     "output_type": "display_data"
    },
    {
     "name": "stdout",
     "output_type": "stream",
     "text": [
      "ER-_HER2- :  (20, 24370)\n"
     ]
    },
    {
     "data": {
      "text/plain": [
       "(20, 24368)"
      ]
     },
     "metadata": {},
     "output_type": "display_data"
    },
    {
     "data": {
      "text/plain": [
       "(20, 28)"
      ]
     },
     "metadata": {},
     "output_type": "display_data"
    },
    {
     "name": "stdout",
     "output_type": "stream",
     "text": [
      "ER+_HER2-_High_Prolif :  (105, 24370)\n"
     ]
    },
    {
     "data": {
      "text/plain": [
       "(105, 24368)"
      ]
     },
     "metadata": {},
     "output_type": "display_data"
    },
    {
     "data": {
      "text/plain": [
       "(105, 47)"
      ]
     },
     "metadata": {},
     "output_type": "display_data"
    },
    {
     "name": "stdout",
     "output_type": "stream",
     "text": [
      "ER+_HER2-_Low_Prolif :  (114, 24370)\n"
     ]
    },
    {
     "data": {
      "text/plain": [
       "(114, 24368)"
      ]
     },
     "metadata": {},
     "output_type": "display_data"
    },
    {
     "data": {
      "text/plain": [
       "(114, 38)"
      ]
     },
     "metadata": {},
     "output_type": "display_data"
    },
    {
     "name": "stdout",
     "output_type": "stream",
     "text": [
      "HER2+ :  (16, 24370)\n"
     ]
    },
    {
     "data": {
      "text/plain": [
       "(16, 24368)"
      ]
     },
     "metadata": {},
     "output_type": "display_data"
    },
    {
     "data": {
      "text/plain": [
       "(16, 24)"
      ]
     },
     "metadata": {},
     "output_type": "display_data"
    },
    {
     "name": "stdout",
     "output_type": "stream",
     "text": [
      "++++++++++++++++++++++++++++++++++++++++++++++++++++++++++++++++++++++++++++++++++++++++++++++++++++\n",
      "40\n",
      "claudin-low :  (22, 24370)\n"
     ]
    },
    {
     "data": {
      "text/plain": [
       "(22, 24368)"
      ]
     },
     "metadata": {},
     "output_type": "display_data"
    },
    {
     "data": {
      "text/plain": [
       "(22, 19)"
      ]
     },
     "metadata": {},
     "output_type": "display_data"
    },
    {
     "name": "stdout",
     "output_type": "stream",
     "text": [
      "LumA :  (119, 24370)\n"
     ]
    },
    {
     "data": {
      "text/plain": [
       "(119, 24368)"
      ]
     },
     "metadata": {},
     "output_type": "display_data"
    },
    {
     "data": {
      "text/plain": [
       "(119, 45)"
      ]
     },
     "metadata": {},
     "output_type": "display_data"
    },
    {
     "name": "stdout",
     "output_type": "stream",
     "text": [
      "LumB :  (87, 24370)\n"
     ]
    },
    {
     "data": {
      "text/plain": [
       "(87, 24368)"
      ]
     },
     "metadata": {},
     "output_type": "display_data"
    },
    {
     "data": {
      "text/plain": [
       "(87, 42)"
      ]
     },
     "metadata": {},
     "output_type": "display_data"
    },
    {
     "name": "stdout",
     "output_type": "stream",
     "text": [
      "Her2 :  (29, 24370)\n"
     ]
    },
    {
     "data": {
      "text/plain": [
       "(29, 24368)"
      ]
     },
     "metadata": {},
     "output_type": "display_data"
    },
    {
     "data": {
      "text/plain": [
       "(29, 24)"
      ]
     },
     "metadata": {},
     "output_type": "display_data"
    },
    {
     "name": "stdout",
     "output_type": "stream",
     "text": [
      "Normal :  (27, 24370)\n"
     ]
    },
    {
     "data": {
      "text/plain": [
       "(27, 24368)"
      ]
     },
     "metadata": {},
     "output_type": "display_data"
    },
    {
     "data": {
      "text/plain": [
       "(27, 18)"
      ]
     },
     "metadata": {},
     "output_type": "display_data"
    },
    {
     "name": "stdout",
     "output_type": "stream",
     "text": [
      "Basal :  (8, 24370)\n"
     ]
    },
    {
     "data": {
      "text/plain": [
       "(8, 24368)"
      ]
     },
     "metadata": {},
     "output_type": "display_data"
    },
    {
     "data": {
      "text/plain": [
       "(8, 26)"
      ]
     },
     "metadata": {},
     "output_type": "display_data"
    },
    {
     "name": "stdout",
     "output_type": "stream",
     "text": [
      "ER-_HER2- :  (20, 24370)\n"
     ]
    },
    {
     "data": {
      "text/plain": [
       "(20, 24368)"
      ]
     },
     "metadata": {},
     "output_type": "display_data"
    },
    {
     "data": {
      "text/plain": [
       "(20, 29)"
      ]
     },
     "metadata": {},
     "output_type": "display_data"
    },
    {
     "name": "stdout",
     "output_type": "stream",
     "text": [
      "ER+_HER2-_High_Prolif :  (105, 24370)\n"
     ]
    },
    {
     "data": {
      "text/plain": [
       "(105, 24368)"
      ]
     },
     "metadata": {},
     "output_type": "display_data"
    },
    {
     "data": {
      "text/plain": [
       "(105, 50)"
      ]
     },
     "metadata": {},
     "output_type": "display_data"
    },
    {
     "name": "stdout",
     "output_type": "stream",
     "text": [
      "ER+_HER2-_Low_Prolif :  (114, 24370)\n"
     ]
    },
    {
     "data": {
      "text/plain": [
       "(114, 24368)"
      ]
     },
     "metadata": {},
     "output_type": "display_data"
    },
    {
     "data": {
      "text/plain": [
       "(114, 41)"
      ]
     },
     "metadata": {},
     "output_type": "display_data"
    },
    {
     "name": "stdout",
     "output_type": "stream",
     "text": [
      "HER2+ :  (16, 24370)\n"
     ]
    },
    {
     "data": {
      "text/plain": [
       "(16, 24368)"
      ]
     },
     "metadata": {},
     "output_type": "display_data"
    },
    {
     "data": {
      "text/plain": [
       "(16, 26)"
      ]
     },
     "metadata": {},
     "output_type": "display_data"
    },
    {
     "name": "stdout",
     "output_type": "stream",
     "text": [
      "++++++++++++++++++++++++++++++++++++++++++++++++++++++++++++++++++++++++++++++++++++++++++++++++++++\n",
      "41\n",
      "claudin-low :  (22, 24370)\n"
     ]
    },
    {
     "data": {
      "text/plain": [
       "(22, 24368)"
      ]
     },
     "metadata": {},
     "output_type": "display_data"
    },
    {
     "data": {
      "text/plain": [
       "(22, 20)"
      ]
     },
     "metadata": {},
     "output_type": "display_data"
    },
    {
     "name": "stdout",
     "output_type": "stream",
     "text": [
      "LumA :  (119, 24370)\n"
     ]
    },
    {
     "data": {
      "text/plain": [
       "(119, 24368)"
      ]
     },
     "metadata": {},
     "output_type": "display_data"
    },
    {
     "data": {
      "text/plain": [
       "(119, 48)"
      ]
     },
     "metadata": {},
     "output_type": "display_data"
    },
    {
     "name": "stdout",
     "output_type": "stream",
     "text": [
      "LumB :  (87, 24370)\n"
     ]
    },
    {
     "data": {
      "text/plain": [
       "(87, 24368)"
      ]
     },
     "metadata": {},
     "output_type": "display_data"
    },
    {
     "data": {
      "text/plain": [
       "(87, 45)"
      ]
     },
     "metadata": {},
     "output_type": "display_data"
    },
    {
     "name": "stdout",
     "output_type": "stream",
     "text": [
      "Her2 :  (29, 24370)\n"
     ]
    },
    {
     "data": {
      "text/plain": [
       "(29, 24368)"
      ]
     },
     "metadata": {},
     "output_type": "display_data"
    },
    {
     "data": {
      "text/plain": [
       "(29, 25)"
      ]
     },
     "metadata": {},
     "output_type": "display_data"
    },
    {
     "name": "stdout",
     "output_type": "stream",
     "text": [
      "Normal :  (27, 24370)\n"
     ]
    },
    {
     "data": {
      "text/plain": [
       "(27, 24368)"
      ]
     },
     "metadata": {},
     "output_type": "display_data"
    },
    {
     "data": {
      "text/plain": [
       "(27, 19)"
      ]
     },
     "metadata": {},
     "output_type": "display_data"
    },
    {
     "name": "stdout",
     "output_type": "stream",
     "text": [
      "Basal :  (8, 24370)\n"
     ]
    },
    {
     "data": {
      "text/plain": [
       "(8, 24368)"
      ]
     },
     "metadata": {},
     "output_type": "display_data"
    },
    {
     "data": {
      "text/plain": [
       "(8, 27)"
      ]
     },
     "metadata": {},
     "output_type": "display_data"
    },
    {
     "name": "stdout",
     "output_type": "stream",
     "text": [
      "ER-_HER2- :  (20, 24370)\n"
     ]
    },
    {
     "data": {
      "text/plain": [
       "(20, 24368)"
      ]
     },
     "metadata": {},
     "output_type": "display_data"
    },
    {
     "data": {
      "text/plain": [
       "(20, 31)"
      ]
     },
     "metadata": {},
     "output_type": "display_data"
    },
    {
     "name": "stdout",
     "output_type": "stream",
     "text": [
      "ER+_HER2-_High_Prolif :  (105, 24370)\n"
     ]
    },
    {
     "data": {
      "text/plain": [
       "(105, 24368)"
      ]
     },
     "metadata": {},
     "output_type": "display_data"
    },
    {
     "data": {
      "text/plain": [
       "(105, 54)"
      ]
     },
     "metadata": {},
     "output_type": "display_data"
    },
    {
     "name": "stdout",
     "output_type": "stream",
     "text": [
      "ER+_HER2-_Low_Prolif :  (114, 24370)\n"
     ]
    },
    {
     "data": {
      "text/plain": [
       "(114, 24368)"
      ]
     },
     "metadata": {},
     "output_type": "display_data"
    },
    {
     "data": {
      "text/plain": [
       "(114, 45)"
      ]
     },
     "metadata": {},
     "output_type": "display_data"
    },
    {
     "name": "stdout",
     "output_type": "stream",
     "text": [
      "HER2+ :  (16, 24370)\n"
     ]
    },
    {
     "data": {
      "text/plain": [
       "(16, 24368)"
      ]
     },
     "metadata": {},
     "output_type": "display_data"
    },
    {
     "data": {
      "text/plain": [
       "(16, 27)"
      ]
     },
     "metadata": {},
     "output_type": "display_data"
    },
    {
     "name": "stdout",
     "output_type": "stream",
     "text": [
      "++++++++++++++++++++++++++++++++++++++++++++++++++++++++++++++++++++++++++++++++++++++++++++++++++++\n",
      "42\n",
      "claudin-low :  (22, 24370)\n"
     ]
    },
    {
     "data": {
      "text/plain": [
       "(22, 24368)"
      ]
     },
     "metadata": {},
     "output_type": "display_data"
    },
    {
     "data": {
      "text/plain": [
       "(22, 21)"
      ]
     },
     "metadata": {},
     "output_type": "display_data"
    },
    {
     "name": "stdout",
     "output_type": "stream",
     "text": [
      "LumA :  (119, 24370)\n"
     ]
    },
    {
     "data": {
      "text/plain": [
       "(119, 24368)"
      ]
     },
     "metadata": {},
     "output_type": "display_data"
    },
    {
     "data": {
      "text/plain": [
       "(119, 52)"
      ]
     },
     "metadata": {},
     "output_type": "display_data"
    },
    {
     "name": "stdout",
     "output_type": "stream",
     "text": [
      "LumB :  (87, 24370)\n"
     ]
    },
    {
     "data": {
      "text/plain": [
       "(87, 24368)"
      ]
     },
     "metadata": {},
     "output_type": "display_data"
    },
    {
     "data": {
      "text/plain": [
       "(87, 48)"
      ]
     },
     "metadata": {},
     "output_type": "display_data"
    },
    {
     "name": "stdout",
     "output_type": "stream",
     "text": [
      "Her2 :  (29, 24370)\n"
     ]
    },
    {
     "data": {
      "text/plain": [
       "(29, 24368)"
      ]
     },
     "metadata": {},
     "output_type": "display_data"
    },
    {
     "data": {
      "text/plain": [
       "(29, 27)"
      ]
     },
     "metadata": {},
     "output_type": "display_data"
    },
    {
     "name": "stdout",
     "output_type": "stream",
     "text": [
      "Normal :  (27, 24370)\n"
     ]
    },
    {
     "data": {
      "text/plain": [
       "(27, 24368)"
      ]
     },
     "metadata": {},
     "output_type": "display_data"
    },
    {
     "data": {
      "text/plain": [
       "(27, 20)"
      ]
     },
     "metadata": {},
     "output_type": "display_data"
    },
    {
     "name": "stdout",
     "output_type": "stream",
     "text": [
      "Basal :  (8, 24370)\n"
     ]
    },
    {
     "data": {
      "text/plain": [
       "(8, 24368)"
      ]
     },
     "metadata": {},
     "output_type": "display_data"
    },
    {
     "data": {
      "text/plain": [
       "(8, 29)"
      ]
     },
     "metadata": {},
     "output_type": "display_data"
    },
    {
     "name": "stdout",
     "output_type": "stream",
     "text": [
      "ER-_HER2- :  (20, 24370)\n"
     ]
    },
    {
     "data": {
      "text/plain": [
       "(20, 24368)"
      ]
     },
     "metadata": {},
     "output_type": "display_data"
    },
    {
     "data": {
      "text/plain": [
       "(20, 33)"
      ]
     },
     "metadata": {},
     "output_type": "display_data"
    },
    {
     "name": "stdout",
     "output_type": "stream",
     "text": [
      "ER+_HER2-_High_Prolif :  (105, 24370)\n"
     ]
    },
    {
     "data": {
      "text/plain": [
       "(105, 24368)"
      ]
     },
     "metadata": {},
     "output_type": "display_data"
    },
    {
     "data": {
      "text/plain": [
       "(105, 58)"
      ]
     },
     "metadata": {},
     "output_type": "display_data"
    },
    {
     "name": "stdout",
     "output_type": "stream",
     "text": [
      "ER+_HER2-_Low_Prolif :  (114, 24370)\n"
     ]
    },
    {
     "data": {
      "text/plain": [
       "(114, 24368)"
      ]
     },
     "metadata": {},
     "output_type": "display_data"
    },
    {
     "data": {
      "text/plain": [
       "(114, 48)"
      ]
     },
     "metadata": {},
     "output_type": "display_data"
    },
    {
     "name": "stdout",
     "output_type": "stream",
     "text": [
      "HER2+ :  (16, 24370)\n"
     ]
    },
    {
     "data": {
      "text/plain": [
       "(16, 24368)"
      ]
     },
     "metadata": {},
     "output_type": "display_data"
    },
    {
     "data": {
      "text/plain": [
       "(16, 29)"
      ]
     },
     "metadata": {},
     "output_type": "display_data"
    },
    {
     "name": "stdout",
     "output_type": "stream",
     "text": [
      "++++++++++++++++++++++++++++++++++++++++++++++++++++++++++++++++++++++++++++++++++++++++++++++++++++\n",
      "43\n",
      "claudin-low :  (22, 24370)\n"
     ]
    },
    {
     "data": {
      "text/plain": [
       "(22, 24368)"
      ]
     },
     "metadata": {},
     "output_type": "display_data"
    },
    {
     "data": {
      "text/plain": [
       "(22, 23)"
      ]
     },
     "metadata": {},
     "output_type": "display_data"
    },
    {
     "name": "stdout",
     "output_type": "stream",
     "text": [
      "LumA :  (119, 24370)\n"
     ]
    },
    {
     "data": {
      "text/plain": [
       "(119, 24368)"
      ]
     },
     "metadata": {},
     "output_type": "display_data"
    },
    {
     "data": {
      "text/plain": [
       "(119, 56)"
      ]
     },
     "metadata": {},
     "output_type": "display_data"
    },
    {
     "name": "stdout",
     "output_type": "stream",
     "text": [
      "LumB :  (87, 24370)\n"
     ]
    },
    {
     "data": {
      "text/plain": [
       "(87, 24368)"
      ]
     },
     "metadata": {},
     "output_type": "display_data"
    },
    {
     "data": {
      "text/plain": [
       "(87, 51)"
      ]
     },
     "metadata": {},
     "output_type": "display_data"
    },
    {
     "name": "stdout",
     "output_type": "stream",
     "text": [
      "Her2 :  (29, 24370)\n"
     ]
    },
    {
     "data": {
      "text/plain": [
       "(29, 24368)"
      ]
     },
     "metadata": {},
     "output_type": "display_data"
    },
    {
     "data": {
      "text/plain": [
       "(29, 29)"
      ]
     },
     "metadata": {},
     "output_type": "display_data"
    },
    {
     "name": "stdout",
     "output_type": "stream",
     "text": [
      "Normal :  (27, 24370)\n"
     ]
    },
    {
     "data": {
      "text/plain": [
       "(27, 24368)"
      ]
     },
     "metadata": {},
     "output_type": "display_data"
    },
    {
     "data": {
      "text/plain": [
       "(27, 21)"
      ]
     },
     "metadata": {},
     "output_type": "display_data"
    },
    {
     "name": "stdout",
     "output_type": "stream",
     "text": [
      "Basal :  (8, 24370)\n"
     ]
    },
    {
     "data": {
      "text/plain": [
       "(8, 24368)"
      ]
     },
     "metadata": {},
     "output_type": "display_data"
    },
    {
     "data": {
      "text/plain": [
       "(8, 30)"
      ]
     },
     "metadata": {},
     "output_type": "display_data"
    },
    {
     "name": "stdout",
     "output_type": "stream",
     "text": [
      "ER-_HER2- :  (20, 24370)\n"
     ]
    },
    {
     "data": {
      "text/plain": [
       "(20, 24368)"
      ]
     },
     "metadata": {},
     "output_type": "display_data"
    },
    {
     "data": {
      "text/plain": [
       "(20, 35)"
      ]
     },
     "metadata": {},
     "output_type": "display_data"
    },
    {
     "name": "stdout",
     "output_type": "stream",
     "text": [
      "ER+_HER2-_High_Prolif :  (105, 24370)\n"
     ]
    },
    {
     "data": {
      "text/plain": [
       "(105, 24368)"
      ]
     },
     "metadata": {},
     "output_type": "display_data"
    },
    {
     "data": {
      "text/plain": [
       "(105, 62)"
      ]
     },
     "metadata": {},
     "output_type": "display_data"
    },
    {
     "name": "stdout",
     "output_type": "stream",
     "text": [
      "ER+_HER2-_Low_Prolif :  (114, 24370)\n"
     ]
    },
    {
     "data": {
      "text/plain": [
       "(114, 24368)"
      ]
     },
     "metadata": {},
     "output_type": "display_data"
    },
    {
     "data": {
      "text/plain": [
       "(114, 52)"
      ]
     },
     "metadata": {},
     "output_type": "display_data"
    },
    {
     "name": "stdout",
     "output_type": "stream",
     "text": [
      "HER2+ :  (16, 24370)\n"
     ]
    },
    {
     "data": {
      "text/plain": [
       "(16, 24368)"
      ]
     },
     "metadata": {},
     "output_type": "display_data"
    },
    {
     "data": {
      "text/plain": [
       "(16, 30)"
      ]
     },
     "metadata": {},
     "output_type": "display_data"
    },
    {
     "name": "stdout",
     "output_type": "stream",
     "text": [
      "++++++++++++++++++++++++++++++++++++++++++++++++++++++++++++++++++++++++++++++++++++++++++++++++++++\n",
      "44\n",
      "claudin-low :  (22, 24370)\n"
     ]
    },
    {
     "data": {
      "text/plain": [
       "(22, 24368)"
      ]
     },
     "metadata": {},
     "output_type": "display_data"
    },
    {
     "data": {
      "text/plain": [
       "(22, 24)"
      ]
     },
     "metadata": {},
     "output_type": "display_data"
    },
    {
     "name": "stdout",
     "output_type": "stream",
     "text": [
      "LumA :  (119, 24370)\n"
     ]
    },
    {
     "data": {
      "text/plain": [
       "(119, 24368)"
      ]
     },
     "metadata": {},
     "output_type": "display_data"
    },
    {
     "data": {
      "text/plain": [
       "(119, 61)"
      ]
     },
     "metadata": {},
     "output_type": "display_data"
    },
    {
     "name": "stdout",
     "output_type": "stream",
     "text": [
      "LumB :  (87, 24370)\n"
     ]
    },
    {
     "data": {
      "text/plain": [
       "(87, 24368)"
      ]
     },
     "metadata": {},
     "output_type": "display_data"
    },
    {
     "data": {
      "text/plain": [
       "(87, 54)"
      ]
     },
     "metadata": {},
     "output_type": "display_data"
    },
    {
     "name": "stdout",
     "output_type": "stream",
     "text": [
      "Her2 :  (29, 24370)\n"
     ]
    },
    {
     "data": {
      "text/plain": [
       "(29, 24368)"
      ]
     },
     "metadata": {},
     "output_type": "display_data"
    },
    {
     "data": {
      "text/plain": [
       "(29, 30)"
      ]
     },
     "metadata": {},
     "output_type": "display_data"
    },
    {
     "name": "stdout",
     "output_type": "stream",
     "text": [
      "Normal :  (27, 24370)\n"
     ]
    },
    {
     "data": {
      "text/plain": [
       "(27, 24368)"
      ]
     },
     "metadata": {},
     "output_type": "display_data"
    },
    {
     "data": {
      "text/plain": [
       "(27, 22)"
      ]
     },
     "metadata": {},
     "output_type": "display_data"
    },
    {
     "name": "stdout",
     "output_type": "stream",
     "text": [
      "Basal :  (8, 24370)\n"
     ]
    },
    {
     "data": {
      "text/plain": [
       "(8, 24368)"
      ]
     },
     "metadata": {},
     "output_type": "display_data"
    },
    {
     "data": {
      "text/plain": [
       "(8, 32)"
      ]
     },
     "metadata": {},
     "output_type": "display_data"
    },
    {
     "name": "stdout",
     "output_type": "stream",
     "text": [
      "ER-_HER2- :  (20, 24370)\n"
     ]
    },
    {
     "data": {
      "text/plain": [
       "(20, 24368)"
      ]
     },
     "metadata": {},
     "output_type": "display_data"
    },
    {
     "data": {
      "text/plain": [
       "(20, 37)"
      ]
     },
     "metadata": {},
     "output_type": "display_data"
    },
    {
     "name": "stdout",
     "output_type": "stream",
     "text": [
      "ER+_HER2-_High_Prolif :  (105, 24370)\n"
     ]
    },
    {
     "data": {
      "text/plain": [
       "(105, 24368)"
      ]
     },
     "metadata": {},
     "output_type": "display_data"
    },
    {
     "data": {
      "text/plain": [
       "(105, 66)"
      ]
     },
     "metadata": {},
     "output_type": "display_data"
    },
    {
     "name": "stdout",
     "output_type": "stream",
     "text": [
      "ER+_HER2-_Low_Prolif :  (114, 24370)\n"
     ]
    },
    {
     "data": {
      "text/plain": [
       "(114, 24368)"
      ]
     },
     "metadata": {},
     "output_type": "display_data"
    },
    {
     "data": {
      "text/plain": [
       "(114, 56)"
      ]
     },
     "metadata": {},
     "output_type": "display_data"
    },
    {
     "name": "stdout",
     "output_type": "stream",
     "text": [
      "HER2+ :  (16, 24370)\n"
     ]
    },
    {
     "data": {
      "text/plain": [
       "(16, 24368)"
      ]
     },
     "metadata": {},
     "output_type": "display_data"
    },
    {
     "data": {
      "text/plain": [
       "(16, 32)"
      ]
     },
     "metadata": {},
     "output_type": "display_data"
    },
    {
     "name": "stdout",
     "output_type": "stream",
     "text": [
      "++++++++++++++++++++++++++++++++++++++++++++++++++++++++++++++++++++++++++++++++++++++++++++++++++++\n",
      "45\n",
      "claudin-low :  (22, 24370)\n"
     ]
    },
    {
     "data": {
      "text/plain": [
       "(22, 24368)"
      ]
     },
     "metadata": {},
     "output_type": "display_data"
    },
    {
     "data": {
      "text/plain": [
       "(22, 25)"
      ]
     },
     "metadata": {},
     "output_type": "display_data"
    },
    {
     "name": "stdout",
     "output_type": "stream",
     "text": [
      "LumA :  (119, 24370)\n"
     ]
    },
    {
     "data": {
      "text/plain": [
       "(119, 24368)"
      ]
     },
     "metadata": {},
     "output_type": "display_data"
    },
    {
     "data": {
      "text/plain": [
       "(119, 65)"
      ]
     },
     "metadata": {},
     "output_type": "display_data"
    },
    {
     "name": "stdout",
     "output_type": "stream",
     "text": [
      "LumB :  (87, 24370)\n"
     ]
    },
    {
     "data": {
      "text/plain": [
       "(87, 24368)"
      ]
     },
     "metadata": {},
     "output_type": "display_data"
    },
    {
     "data": {
      "text/plain": [
       "(87, 57)"
      ]
     },
     "metadata": {},
     "output_type": "display_data"
    },
    {
     "name": "stdout",
     "output_type": "stream",
     "text": [
      "Her2 :  (29, 24370)\n"
     ]
    },
    {
     "data": {
      "text/plain": [
       "(29, 24368)"
      ]
     },
     "metadata": {},
     "output_type": "display_data"
    },
    {
     "data": {
      "text/plain": [
       "(29, 32)"
      ]
     },
     "metadata": {},
     "output_type": "display_data"
    },
    {
     "name": "stdout",
     "output_type": "stream",
     "text": [
      "Normal :  (27, 24370)\n"
     ]
    },
    {
     "data": {
      "text/plain": [
       "(27, 24368)"
      ]
     },
     "metadata": {},
     "output_type": "display_data"
    },
    {
     "data": {
      "text/plain": [
       "(27, 23)"
      ]
     },
     "metadata": {},
     "output_type": "display_data"
    },
    {
     "name": "stdout",
     "output_type": "stream",
     "text": [
      "Basal :  (8, 24370)\n"
     ]
    },
    {
     "data": {
      "text/plain": [
       "(8, 24368)"
      ]
     },
     "metadata": {},
     "output_type": "display_data"
    },
    {
     "data": {
      "text/plain": [
       "(8, 33)"
      ]
     },
     "metadata": {},
     "output_type": "display_data"
    },
    {
     "name": "stdout",
     "output_type": "stream",
     "text": [
      "ER-_HER2- :  (20, 24370)\n"
     ]
    },
    {
     "data": {
      "text/plain": [
       "(20, 24368)"
      ]
     },
     "metadata": {},
     "output_type": "display_data"
    },
    {
     "data": {
      "text/plain": [
       "(20, 40)"
      ]
     },
     "metadata": {},
     "output_type": "display_data"
    },
    {
     "name": "stdout",
     "output_type": "stream",
     "text": [
      "ER+_HER2-_High_Prolif :  (105, 24370)\n"
     ]
    },
    {
     "data": {
      "text/plain": [
       "(105, 24368)"
      ]
     },
     "metadata": {},
     "output_type": "display_data"
    },
    {
     "data": {
      "text/plain": [
       "(105, 70)"
      ]
     },
     "metadata": {},
     "output_type": "display_data"
    },
    {
     "name": "stdout",
     "output_type": "stream",
     "text": [
      "ER+_HER2-_Low_Prolif :  (114, 24370)\n"
     ]
    },
    {
     "data": {
      "text/plain": [
       "(114, 24368)"
      ]
     },
     "metadata": {},
     "output_type": "display_data"
    },
    {
     "data": {
      "text/plain": [
       "(114, 60)"
      ]
     },
     "metadata": {},
     "output_type": "display_data"
    },
    {
     "name": "stdout",
     "output_type": "stream",
     "text": [
      "HER2+ :  (16, 24370)\n"
     ]
    },
    {
     "data": {
      "text/plain": [
       "(16, 24368)"
      ]
     },
     "metadata": {},
     "output_type": "display_data"
    },
    {
     "data": {
      "text/plain": [
       "(16, 33)"
      ]
     },
     "metadata": {},
     "output_type": "display_data"
    },
    {
     "name": "stdout",
     "output_type": "stream",
     "text": [
      "++++++++++++++++++++++++++++++++++++++++++++++++++++++++++++++++++++++++++++++++++++++++++++++++++++\n",
      "46\n",
      "claudin-low :  (22, 24370)\n"
     ]
    },
    {
     "data": {
      "text/plain": [
       "(22, 24368)"
      ]
     },
     "metadata": {},
     "output_type": "display_data"
    },
    {
     "data": {
      "text/plain": [
       "(22, 27)"
      ]
     },
     "metadata": {},
     "output_type": "display_data"
    },
    {
     "name": "stdout",
     "output_type": "stream",
     "text": [
      "LumA :  (119, 24370)\n"
     ]
    },
    {
     "data": {
      "text/plain": [
       "(119, 24368)"
      ]
     },
     "metadata": {},
     "output_type": "display_data"
    },
    {
     "data": {
      "text/plain": [
       "(119, 70)"
      ]
     },
     "metadata": {},
     "output_type": "display_data"
    },
    {
     "name": "stdout",
     "output_type": "stream",
     "text": [
      "LumB :  (87, 24370)\n"
     ]
    },
    {
     "data": {
      "text/plain": [
       "(87, 24368)"
      ]
     },
     "metadata": {},
     "output_type": "display_data"
    },
    {
     "data": {
      "text/plain": [
       "(87, 61)"
      ]
     },
     "metadata": {},
     "output_type": "display_data"
    },
    {
     "name": "stdout",
     "output_type": "stream",
     "text": [
      "Her2 :  (29, 24370)\n"
     ]
    },
    {
     "data": {
      "text/plain": [
       "(29, 24368)"
      ]
     },
     "metadata": {},
     "output_type": "display_data"
    },
    {
     "data": {
      "text/plain": [
       "(29, 34)"
      ]
     },
     "metadata": {},
     "output_type": "display_data"
    },
    {
     "name": "stdout",
     "output_type": "stream",
     "text": [
      "Normal :  (27, 24370)\n"
     ]
    },
    {
     "data": {
      "text/plain": [
       "(27, 24368)"
      ]
     },
     "metadata": {},
     "output_type": "display_data"
    },
    {
     "data": {
      "text/plain": [
       "(27, 24)"
      ]
     },
     "metadata": {},
     "output_type": "display_data"
    },
    {
     "name": "stdout",
     "output_type": "stream",
     "text": [
      "Basal :  (8, 24370)\n"
     ]
    },
    {
     "data": {
      "text/plain": [
       "(8, 24368)"
      ]
     },
     "metadata": {},
     "output_type": "display_data"
    },
    {
     "data": {
      "text/plain": [
       "(8, 35)"
      ]
     },
     "metadata": {},
     "output_type": "display_data"
    },
    {
     "name": "stdout",
     "output_type": "stream",
     "text": [
      "ER-_HER2- :  (20, 24370)\n"
     ]
    },
    {
     "data": {
      "text/plain": [
       "(20, 24368)"
      ]
     },
     "metadata": {},
     "output_type": "display_data"
    },
    {
     "data": {
      "text/plain": [
       "(20, 42)"
      ]
     },
     "metadata": {},
     "output_type": "display_data"
    },
    {
     "name": "stdout",
     "output_type": "stream",
     "text": [
      "ER+_HER2-_High_Prolif :  (105, 24370)\n"
     ]
    },
    {
     "data": {
      "text/plain": [
       "(105, 24368)"
      ]
     },
     "metadata": {},
     "output_type": "display_data"
    },
    {
     "data": {
      "text/plain": [
       "(105, 74)"
      ]
     },
     "metadata": {},
     "output_type": "display_data"
    },
    {
     "name": "stdout",
     "output_type": "stream",
     "text": [
      "ER+_HER2-_Low_Prolif :  (114, 24370)\n"
     ]
    },
    {
     "data": {
      "text/plain": [
       "(114, 24368)"
      ]
     },
     "metadata": {},
     "output_type": "display_data"
    },
    {
     "data": {
      "text/plain": [
       "(114, 65)"
      ]
     },
     "metadata": {},
     "output_type": "display_data"
    },
    {
     "name": "stdout",
     "output_type": "stream",
     "text": [
      "HER2+ :  (16, 24370)\n"
     ]
    },
    {
     "data": {
      "text/plain": [
       "(16, 24368)"
      ]
     },
     "metadata": {},
     "output_type": "display_data"
    },
    {
     "data": {
      "text/plain": [
       "(16, 35)"
      ]
     },
     "metadata": {},
     "output_type": "display_data"
    },
    {
     "name": "stdout",
     "output_type": "stream",
     "text": [
      "++++++++++++++++++++++++++++++++++++++++++++++++++++++++++++++++++++++++++++++++++++++++++++++++++++\n",
      "47\n",
      "claudin-low :  (22, 24370)\n"
     ]
    },
    {
     "data": {
      "text/plain": [
       "(22, 24368)"
      ]
     },
     "metadata": {},
     "output_type": "display_data"
    },
    {
     "data": {
      "text/plain": [
       "(22, 28)"
      ]
     },
     "metadata": {},
     "output_type": "display_data"
    },
    {
     "name": "stdout",
     "output_type": "stream",
     "text": [
      "LumA :  (119, 24370)\n"
     ]
    },
    {
     "data": {
      "text/plain": [
       "(119, 24368)"
      ]
     },
     "metadata": {},
     "output_type": "display_data"
    },
    {
     "data": {
      "text/plain": [
       "(119, 75)"
      ]
     },
     "metadata": {},
     "output_type": "display_data"
    },
    {
     "name": "stdout",
     "output_type": "stream",
     "text": [
      "LumB :  (87, 24370)\n"
     ]
    },
    {
     "data": {
      "text/plain": [
       "(87, 24368)"
      ]
     },
     "metadata": {},
     "output_type": "display_data"
    },
    {
     "data": {
      "text/plain": [
       "(87, 64)"
      ]
     },
     "metadata": {},
     "output_type": "display_data"
    },
    {
     "name": "stdout",
     "output_type": "stream",
     "text": [
      "Her2 :  (29, 24370)\n"
     ]
    },
    {
     "data": {
      "text/plain": [
       "(29, 24368)"
      ]
     },
     "metadata": {},
     "output_type": "display_data"
    },
    {
     "data": {
      "text/plain": [
       "(29, 36)"
      ]
     },
     "metadata": {},
     "output_type": "display_data"
    },
    {
     "name": "stdout",
     "output_type": "stream",
     "text": [
      "Normal :  (27, 24370)\n"
     ]
    },
    {
     "data": {
      "text/plain": [
       "(27, 24368)"
      ]
     },
     "metadata": {},
     "output_type": "display_data"
    },
    {
     "data": {
      "text/plain": [
       "(27, 25)"
      ]
     },
     "metadata": {},
     "output_type": "display_data"
    },
    {
     "name": "stdout",
     "output_type": "stream",
     "text": [
      "Basal :  (8, 24370)\n"
     ]
    },
    {
     "data": {
      "text/plain": [
       "(8, 24368)"
      ]
     },
     "metadata": {},
     "output_type": "display_data"
    },
    {
     "data": {
      "text/plain": [
       "(8, 37)"
      ]
     },
     "metadata": {},
     "output_type": "display_data"
    },
    {
     "name": "stdout",
     "output_type": "stream",
     "text": [
      "ER-_HER2- :  (20, 24370)\n"
     ]
    },
    {
     "data": {
      "text/plain": [
       "(20, 24368)"
      ]
     },
     "metadata": {},
     "output_type": "display_data"
    },
    {
     "data": {
      "text/plain": [
       "(20, 44)"
      ]
     },
     "metadata": {},
     "output_type": "display_data"
    },
    {
     "name": "stdout",
     "output_type": "stream",
     "text": [
      "ER+_HER2-_High_Prolif :  (105, 24370)\n"
     ]
    },
    {
     "data": {
      "text/plain": [
       "(105, 24368)"
      ]
     },
     "metadata": {},
     "output_type": "display_data"
    },
    {
     "data": {
      "text/plain": [
       "(105, 79)"
      ]
     },
     "metadata": {},
     "output_type": "display_data"
    },
    {
     "name": "stdout",
     "output_type": "stream",
     "text": [
      "ER+_HER2-_Low_Prolif :  (114, 24370)\n"
     ]
    },
    {
     "data": {
      "text/plain": [
       "(114, 24368)"
      ]
     },
     "metadata": {},
     "output_type": "display_data"
    },
    {
     "data": {
      "text/plain": [
       "(114, 69)"
      ]
     },
     "metadata": {},
     "output_type": "display_data"
    },
    {
     "name": "stdout",
     "output_type": "stream",
     "text": [
      "HER2+ :  (16, 24370)\n"
     ]
    },
    {
     "data": {
      "text/plain": [
       "(16, 24368)"
      ]
     },
     "metadata": {},
     "output_type": "display_data"
    },
    {
     "data": {
      "text/plain": [
       "(16, 36)"
      ]
     },
     "metadata": {},
     "output_type": "display_data"
    },
    {
     "name": "stdout",
     "output_type": "stream",
     "text": [
      "++++++++++++++++++++++++++++++++++++++++++++++++++++++++++++++++++++++++++++++++++++++++++++++++++++\n",
      "48\n",
      "claudin-low :  (22, 24370)\n"
     ]
    },
    {
     "data": {
      "text/plain": [
       "(22, 24368)"
      ]
     },
     "metadata": {},
     "output_type": "display_data"
    },
    {
     "data": {
      "text/plain": [
       "(22, 30)"
      ]
     },
     "metadata": {},
     "output_type": "display_data"
    },
    {
     "name": "stdout",
     "output_type": "stream",
     "text": [
      "LumA :  (119, 24370)\n"
     ]
    },
    {
     "data": {
      "text/plain": [
       "(119, 24368)"
      ]
     },
     "metadata": {},
     "output_type": "display_data"
    },
    {
     "data": {
      "text/plain": [
       "(119, 80)"
      ]
     },
     "metadata": {},
     "output_type": "display_data"
    },
    {
     "name": "stdout",
     "output_type": "stream",
     "text": [
      "LumB :  (87, 24370)\n"
     ]
    },
    {
     "data": {
      "text/plain": [
       "(87, 24368)"
      ]
     },
     "metadata": {},
     "output_type": "display_data"
    },
    {
     "data": {
      "text/plain": [
       "(87, 68)"
      ]
     },
     "metadata": {},
     "output_type": "display_data"
    },
    {
     "name": "stdout",
     "output_type": "stream",
     "text": [
      "Her2 :  (29, 24370)\n"
     ]
    },
    {
     "data": {
      "text/plain": [
       "(29, 24368)"
      ]
     },
     "metadata": {},
     "output_type": "display_data"
    },
    {
     "data": {
      "text/plain": [
       "(29, 37)"
      ]
     },
     "metadata": {},
     "output_type": "display_data"
    },
    {
     "name": "stdout",
     "output_type": "stream",
     "text": [
      "Normal :  (27, 24370)\n"
     ]
    },
    {
     "data": {
      "text/plain": [
       "(27, 24368)"
      ]
     },
     "metadata": {},
     "output_type": "display_data"
    },
    {
     "data": {
      "text/plain": [
       "(27, 26)"
      ]
     },
     "metadata": {},
     "output_type": "display_data"
    },
    {
     "name": "stdout",
     "output_type": "stream",
     "text": [
      "Basal :  (8, 24370)\n"
     ]
    },
    {
     "data": {
      "text/plain": [
       "(8, 24368)"
      ]
     },
     "metadata": {},
     "output_type": "display_data"
    },
    {
     "data": {
      "text/plain": [
       "(8, 38)"
      ]
     },
     "metadata": {},
     "output_type": "display_data"
    },
    {
     "name": "stdout",
     "output_type": "stream",
     "text": [
      "ER-_HER2- :  (20, 24370)\n"
     ]
    },
    {
     "data": {
      "text/plain": [
       "(20, 24368)"
      ]
     },
     "metadata": {},
     "output_type": "display_data"
    },
    {
     "data": {
      "text/plain": [
       "(20, 47)"
      ]
     },
     "metadata": {},
     "output_type": "display_data"
    },
    {
     "name": "stdout",
     "output_type": "stream",
     "text": [
      "ER+_HER2-_High_Prolif :  (105, 24370)\n"
     ]
    },
    {
     "data": {
      "text/plain": [
       "(105, 24368)"
      ]
     },
     "metadata": {},
     "output_type": "display_data"
    },
    {
     "data": {
      "text/plain": [
       "(105, 84)"
      ]
     },
     "metadata": {},
     "output_type": "display_data"
    },
    {
     "name": "stdout",
     "output_type": "stream",
     "text": [
      "ER+_HER2-_Low_Prolif :  (114, 24370)\n"
     ]
    },
    {
     "data": {
      "text/plain": [
       "(114, 24368)"
      ]
     },
     "metadata": {},
     "output_type": "display_data"
    },
    {
     "data": {
      "text/plain": [
       "(114, 74)"
      ]
     },
     "metadata": {},
     "output_type": "display_data"
    },
    {
     "name": "stdout",
     "output_type": "stream",
     "text": [
      "HER2+ :  (16, 24370)\n"
     ]
    },
    {
     "data": {
      "text/plain": [
       "(16, 24368)"
      ]
     },
     "metadata": {},
     "output_type": "display_data"
    },
    {
     "data": {
      "text/plain": [
       "(16, 38)"
      ]
     },
     "metadata": {},
     "output_type": "display_data"
    },
    {
     "name": "stdout",
     "output_type": "stream",
     "text": [
      "++++++++++++++++++++++++++++++++++++++++++++++++++++++++++++++++++++++++++++++++++++++++++++++++++++\n",
      "49\n",
      "claudin-low :  (22, 24370)\n"
     ]
    },
    {
     "data": {
      "text/plain": [
       "(22, 24368)"
      ]
     },
     "metadata": {},
     "output_type": "display_data"
    },
    {
     "data": {
      "text/plain": [
       "(22, 32)"
      ]
     },
     "metadata": {},
     "output_type": "display_data"
    },
    {
     "name": "stdout",
     "output_type": "stream",
     "text": [
      "LumA :  (119, 24370)\n"
     ]
    },
    {
     "data": {
      "text/plain": [
       "(119, 24368)"
      ]
     },
     "metadata": {},
     "output_type": "display_data"
    },
    {
     "data": {
      "text/plain": [
       "(119, 86)"
      ]
     },
     "metadata": {},
     "output_type": "display_data"
    },
    {
     "name": "stdout",
     "output_type": "stream",
     "text": [
      "LumB :  (87, 24370)\n"
     ]
    },
    {
     "data": {
      "text/plain": [
       "(87, 24368)"
      ]
     },
     "metadata": {},
     "output_type": "display_data"
    },
    {
     "data": {
      "text/plain": [
       "(87, 72)"
      ]
     },
     "metadata": {},
     "output_type": "display_data"
    },
    {
     "name": "stdout",
     "output_type": "stream",
     "text": [
      "Her2 :  (29, 24370)\n"
     ]
    },
    {
     "data": {
      "text/plain": [
       "(29, 24368)"
      ]
     },
     "metadata": {},
     "output_type": "display_data"
    },
    {
     "data": {
      "text/plain": [
       "(29, 39)"
      ]
     },
     "metadata": {},
     "output_type": "display_data"
    },
    {
     "name": "stdout",
     "output_type": "stream",
     "text": [
      "Normal :  (27, 24370)\n"
     ]
    },
    {
     "data": {
      "text/plain": [
       "(27, 24368)"
      ]
     },
     "metadata": {},
     "output_type": "display_data"
    },
    {
     "data": {
      "text/plain": [
       "(27, 28)"
      ]
     },
     "metadata": {},
     "output_type": "display_data"
    },
    {
     "name": "stdout",
     "output_type": "stream",
     "text": [
      "Basal :  (8, 24370)\n"
     ]
    },
    {
     "data": {
      "text/plain": [
       "(8, 24368)"
      ]
     },
     "metadata": {},
     "output_type": "display_data"
    },
    {
     "data": {
      "text/plain": [
       "(8, 40)"
      ]
     },
     "metadata": {},
     "output_type": "display_data"
    },
    {
     "name": "stdout",
     "output_type": "stream",
     "text": [
      "ER-_HER2- :  (20, 24370)\n"
     ]
    },
    {
     "data": {
      "text/plain": [
       "(20, 24368)"
      ]
     },
     "metadata": {},
     "output_type": "display_data"
    },
    {
     "data": {
      "text/plain": [
       "(20, 49)"
      ]
     },
     "metadata": {},
     "output_type": "display_data"
    },
    {
     "name": "stdout",
     "output_type": "stream",
     "text": [
      "ER+_HER2-_High_Prolif :  (105, 24370)\n"
     ]
    },
    {
     "data": {
      "text/plain": [
       "(105, 24368)"
      ]
     },
     "metadata": {},
     "output_type": "display_data"
    },
    {
     "data": {
      "text/plain": [
       "(105, 89)"
      ]
     },
     "metadata": {},
     "output_type": "display_data"
    },
    {
     "name": "stdout",
     "output_type": "stream",
     "text": [
      "ER+_HER2-_Low_Prolif :  (114, 24370)\n"
     ]
    },
    {
     "data": {
      "text/plain": [
       "(114, 24368)"
      ]
     },
     "metadata": {},
     "output_type": "display_data"
    },
    {
     "data": {
      "text/plain": [
       "(114, 79)"
      ]
     },
     "metadata": {},
     "output_type": "display_data"
    },
    {
     "name": "stdout",
     "output_type": "stream",
     "text": [
      "HER2+ :  (16, 24370)\n"
     ]
    },
    {
     "data": {
      "text/plain": [
       "(16, 24368)"
      ]
     },
     "metadata": {},
     "output_type": "display_data"
    },
    {
     "data": {
      "text/plain": [
       "(16, 40)"
      ]
     },
     "metadata": {},
     "output_type": "display_data"
    },
    {
     "name": "stdout",
     "output_type": "stream",
     "text": [
      "++++++++++++++++++++++++++++++++++++++++++++++++++++++++++++++++++++++++++++++++++++++++++++++++++++\n",
      "50\n",
      "claudin-low :  (22, 24370)\n"
     ]
    },
    {
     "data": {
      "text/plain": [
       "(22, 24368)"
      ]
     },
     "metadata": {},
     "output_type": "display_data"
    },
    {
     "data": {
      "text/plain": [
       "(22, 33)"
      ]
     },
     "metadata": {},
     "output_type": "display_data"
    },
    {
     "name": "stdout",
     "output_type": "stream",
     "text": [
      "LumA :  (119, 24370)\n"
     ]
    },
    {
     "data": {
      "text/plain": [
       "(119, 24368)"
      ]
     },
     "metadata": {},
     "output_type": "display_data"
    },
    {
     "data": {
      "text/plain": [
       "(119, 91)"
      ]
     },
     "metadata": {},
     "output_type": "display_data"
    },
    {
     "name": "stdout",
     "output_type": "stream",
     "text": [
      "LumB :  (87, 24370)\n"
     ]
    },
    {
     "data": {
      "text/plain": [
       "(87, 24368)"
      ]
     },
     "metadata": {},
     "output_type": "display_data"
    },
    {
     "data": {
      "text/plain": [
       "(87, 76)"
      ]
     },
     "metadata": {},
     "output_type": "display_data"
    },
    {
     "name": "stdout",
     "output_type": "stream",
     "text": [
      "Her2 :  (29, 24370)\n"
     ]
    },
    {
     "data": {
      "text/plain": [
       "(29, 24368)"
      ]
     },
     "metadata": {},
     "output_type": "display_data"
    },
    {
     "data": {
      "text/plain": [
       "(29, 41)"
      ]
     },
     "metadata": {},
     "output_type": "display_data"
    },
    {
     "name": "stdout",
     "output_type": "stream",
     "text": [
      "Normal :  (27, 24370)\n"
     ]
    },
    {
     "data": {
      "text/plain": [
       "(27, 24368)"
      ]
     },
     "metadata": {},
     "output_type": "display_data"
    },
    {
     "data": {
      "text/plain": [
       "(27, 29)"
      ]
     },
     "metadata": {},
     "output_type": "display_data"
    },
    {
     "name": "stdout",
     "output_type": "stream",
     "text": [
      "Basal :  (8, 24370)\n"
     ]
    },
    {
     "data": {
      "text/plain": [
       "(8, 24368)"
      ]
     },
     "metadata": {},
     "output_type": "display_data"
    },
    {
     "data": {
      "text/plain": [
       "(8, 42)"
      ]
     },
     "metadata": {},
     "output_type": "display_data"
    },
    {
     "name": "stdout",
     "output_type": "stream",
     "text": [
      "ER-_HER2- :  (20, 24370)\n"
     ]
    },
    {
     "data": {
      "text/plain": [
       "(20, 24368)"
      ]
     },
     "metadata": {},
     "output_type": "display_data"
    },
    {
     "data": {
      "text/plain": [
       "(20, 52)"
      ]
     },
     "metadata": {},
     "output_type": "display_data"
    },
    {
     "name": "stdout",
     "output_type": "stream",
     "text": [
      "ER+_HER2-_High_Prolif :  (105, 24370)\n"
     ]
    },
    {
     "data": {
      "text/plain": [
       "(105, 24368)"
      ]
     },
     "metadata": {},
     "output_type": "display_data"
    },
    {
     "data": {
      "text/plain": [
       "(105, 94)"
      ]
     },
     "metadata": {},
     "output_type": "display_data"
    },
    {
     "name": "stdout",
     "output_type": "stream",
     "text": [
      "ER+_HER2-_Low_Prolif :  (114, 24370)\n"
     ]
    },
    {
     "data": {
      "text/plain": [
       "(114, 24368)"
      ]
     },
     "metadata": {},
     "output_type": "display_data"
    },
    {
     "data": {
      "text/plain": [
       "(114, 84)"
      ]
     },
     "metadata": {},
     "output_type": "display_data"
    },
    {
     "name": "stdout",
     "output_type": "stream",
     "text": [
      "HER2+ :  (16, 24370)\n"
     ]
    },
    {
     "data": {
      "text/plain": [
       "(16, 24368)"
      ]
     },
     "metadata": {},
     "output_type": "display_data"
    },
    {
     "data": {
      "text/plain": [
       "(16, 41)"
      ]
     },
     "metadata": {},
     "output_type": "display_data"
    },
    {
     "name": "stdout",
     "output_type": "stream",
     "text": [
      "++++++++++++++++++++++++++++++++++++++++++++++++++++++++++++++++++++++++++++++++++++++++++++++++++++\n",
      "51\n",
      "claudin-low :  (22, 24370)\n"
     ]
    },
    {
     "data": {
      "text/plain": [
       "(22, 24368)"
      ]
     },
     "metadata": {},
     "output_type": "display_data"
    },
    {
     "data": {
      "text/plain": [
       "(22, 35)"
      ]
     },
     "metadata": {},
     "output_type": "display_data"
    },
    {
     "name": "stdout",
     "output_type": "stream",
     "text": [
      "LumA :  (119, 24370)\n"
     ]
    },
    {
     "data": {
      "text/plain": [
       "(119, 24368)"
      ]
     },
     "metadata": {},
     "output_type": "display_data"
    },
    {
     "data": {
      "text/plain": [
       "(119, 97)"
      ]
     },
     "metadata": {},
     "output_type": "display_data"
    },
    {
     "name": "stdout",
     "output_type": "stream",
     "text": [
      "LumB :  (87, 24370)\n"
     ]
    },
    {
     "data": {
      "text/plain": [
       "(87, 24368)"
      ]
     },
     "metadata": {},
     "output_type": "display_data"
    },
    {
     "data": {
      "text/plain": [
       "(87, 80)"
      ]
     },
     "metadata": {},
     "output_type": "display_data"
    },
    {
     "name": "stdout",
     "output_type": "stream",
     "text": [
      "Her2 :  (29, 24370)\n"
     ]
    },
    {
     "data": {
      "text/plain": [
       "(29, 24368)"
      ]
     },
     "metadata": {},
     "output_type": "display_data"
    },
    {
     "data": {
      "text/plain": [
       "(29, 43)"
      ]
     },
     "metadata": {},
     "output_type": "display_data"
    },
    {
     "name": "stdout",
     "output_type": "stream",
     "text": [
      "Normal :  (27, 24370)\n"
     ]
    },
    {
     "data": {
      "text/plain": [
       "(27, 24368)"
      ]
     },
     "metadata": {},
     "output_type": "display_data"
    },
    {
     "data": {
      "text/plain": [
       "(27, 30)"
      ]
     },
     "metadata": {},
     "output_type": "display_data"
    },
    {
     "name": "stdout",
     "output_type": "stream",
     "text": [
      "Basal :  (8, 24370)\n"
     ]
    },
    {
     "data": {
      "text/plain": [
       "(8, 24368)"
      ]
     },
     "metadata": {},
     "output_type": "display_data"
    },
    {
     "data": {
      "text/plain": [
       "(8, 43)"
      ]
     },
     "metadata": {},
     "output_type": "display_data"
    },
    {
     "name": "stdout",
     "output_type": "stream",
     "text": [
      "ER-_HER2- :  (20, 24370)\n"
     ]
    },
    {
     "data": {
      "text/plain": [
       "(20, 24368)"
      ]
     },
     "metadata": {},
     "output_type": "display_data"
    },
    {
     "data": {
      "text/plain": [
       "(20, 54)"
      ]
     },
     "metadata": {},
     "output_type": "display_data"
    },
    {
     "name": "stdout",
     "output_type": "stream",
     "text": [
      "ER+_HER2-_High_Prolif :  (105, 24370)\n"
     ]
    },
    {
     "data": {
      "text/plain": [
       "(105, 24368)"
      ]
     },
     "metadata": {},
     "output_type": "display_data"
    },
    {
     "data": {
      "text/plain": [
       "(105, 99)"
      ]
     },
     "metadata": {},
     "output_type": "display_data"
    },
    {
     "name": "stdout",
     "output_type": "stream",
     "text": [
      "ER+_HER2-_Low_Prolif :  (114, 24370)\n"
     ]
    },
    {
     "data": {
      "text/plain": [
       "(114, 24368)"
      ]
     },
     "metadata": {},
     "output_type": "display_data"
    },
    {
     "data": {
      "text/plain": [
       "(114, 90)"
      ]
     },
     "metadata": {},
     "output_type": "display_data"
    },
    {
     "name": "stdout",
     "output_type": "stream",
     "text": [
      "HER2+ :  (16, 24370)\n"
     ]
    },
    {
     "data": {
      "text/plain": [
       "(16, 24368)"
      ]
     },
     "metadata": {},
     "output_type": "display_data"
    },
    {
     "data": {
      "text/plain": [
       "(16, 43)"
      ]
     },
     "metadata": {},
     "output_type": "display_data"
    },
    {
     "name": "stdout",
     "output_type": "stream",
     "text": [
      "++++++++++++++++++++++++++++++++++++++++++++++++++++++++++++++++++++++++++++++++++++++++++++++++++++\n",
      "52\n",
      "claudin-low :  (22, 24370)\n"
     ]
    },
    {
     "data": {
      "text/plain": [
       "(22, 24368)"
      ]
     },
     "metadata": {},
     "output_type": "display_data"
    },
    {
     "data": {
      "text/plain": [
       "(22, 37)"
      ]
     },
     "metadata": {},
     "output_type": "display_data"
    },
    {
     "name": "stdout",
     "output_type": "stream",
     "text": [
      "LumA :  (119, 24370)\n"
     ]
    },
    {
     "data": {
      "text/plain": [
       "(119, 24368)"
      ]
     },
     "metadata": {},
     "output_type": "display_data"
    },
    {
     "data": {
      "text/plain": [
       "(119, 103)"
      ]
     },
     "metadata": {},
     "output_type": "display_data"
    },
    {
     "name": "stdout",
     "output_type": "stream",
     "text": [
      "LumB :  (87, 24370)\n"
     ]
    },
    {
     "data": {
      "text/plain": [
       "(87, 24368)"
      ]
     },
     "metadata": {},
     "output_type": "display_data"
    },
    {
     "data": {
      "text/plain": [
       "(87, 84)"
      ]
     },
     "metadata": {},
     "output_type": "display_data"
    },
    {
     "name": "stdout",
     "output_type": "stream",
     "text": [
      "Her2 :  (29, 24370)\n"
     ]
    },
    {
     "data": {
      "text/plain": [
       "(29, 24368)"
      ]
     },
     "metadata": {},
     "output_type": "display_data"
    },
    {
     "data": {
      "text/plain": [
       "(29, 45)"
      ]
     },
     "metadata": {},
     "output_type": "display_data"
    },
    {
     "name": "stdout",
     "output_type": "stream",
     "text": [
      "Normal :  (27, 24370)\n"
     ]
    },
    {
     "data": {
      "text/plain": [
       "(27, 24368)"
      ]
     },
     "metadata": {},
     "output_type": "display_data"
    },
    {
     "data": {
      "text/plain": [
       "(27, 31)"
      ]
     },
     "metadata": {},
     "output_type": "display_data"
    },
    {
     "name": "stdout",
     "output_type": "stream",
     "text": [
      "Basal :  (8, 24370)\n"
     ]
    },
    {
     "data": {
      "text/plain": [
       "(8, 24368)"
      ]
     },
     "metadata": {},
     "output_type": "display_data"
    },
    {
     "data": {
      "text/plain": [
       "(8, 45)"
      ]
     },
     "metadata": {},
     "output_type": "display_data"
    },
    {
     "name": "stdout",
     "output_type": "stream",
     "text": [
      "ER-_HER2- :  (20, 24370)\n"
     ]
    },
    {
     "data": {
      "text/plain": [
       "(20, 24368)"
      ]
     },
     "metadata": {},
     "output_type": "display_data"
    },
    {
     "data": {
      "text/plain": [
       "(20, 57)"
      ]
     },
     "metadata": {},
     "output_type": "display_data"
    },
    {
     "name": "stdout",
     "output_type": "stream",
     "text": [
      "ER+_HER2-_High_Prolif :  (105, 24370)\n"
     ]
    },
    {
     "data": {
      "text/plain": [
       "(105, 24368)"
      ]
     },
     "metadata": {},
     "output_type": "display_data"
    },
    {
     "data": {
      "text/plain": [
       "(105, 105)"
      ]
     },
     "metadata": {},
     "output_type": "display_data"
    },
    {
     "name": "stdout",
     "output_type": "stream",
     "text": [
      "ER+_HER2-_Low_Prolif :  (114, 24370)\n"
     ]
    },
    {
     "data": {
      "text/plain": [
       "(114, 24368)"
      ]
     },
     "metadata": {},
     "output_type": "display_data"
    },
    {
     "data": {
      "text/plain": [
       "(114, 96)"
      ]
     },
     "metadata": {},
     "output_type": "display_data"
    },
    {
     "name": "stdout",
     "output_type": "stream",
     "text": [
      "HER2+ :  (16, 24370)\n"
     ]
    },
    {
     "data": {
      "text/plain": [
       "(16, 24368)"
      ]
     },
     "metadata": {},
     "output_type": "display_data"
    },
    {
     "data": {
      "text/plain": [
       "(16, 45)"
      ]
     },
     "metadata": {},
     "output_type": "display_data"
    },
    {
     "name": "stdout",
     "output_type": "stream",
     "text": [
      "++++++++++++++++++++++++++++++++++++++++++++++++++++++++++++++++++++++++++++++++++++++++++++++++++++\n",
      "53\n",
      "claudin-low :  (22, 24370)\n"
     ]
    },
    {
     "data": {
      "text/plain": [
       "(22, 24368)"
      ]
     },
     "metadata": {},
     "output_type": "display_data"
    },
    {
     "data": {
      "text/plain": [
       "(22, 39)"
      ]
     },
     "metadata": {},
     "output_type": "display_data"
    },
    {
     "name": "stdout",
     "output_type": "stream",
     "text": [
      "LumA :  (119, 24370)\n"
     ]
    },
    {
     "data": {
      "text/plain": [
       "(119, 24368)"
      ]
     },
     "metadata": {},
     "output_type": "display_data"
    },
    {
     "data": {
      "text/plain": [
       "(119, 110)"
      ]
     },
     "metadata": {},
     "output_type": "display_data"
    },
    {
     "name": "stdout",
     "output_type": "stream",
     "text": [
      "LumB :  (87, 24370)\n"
     ]
    },
    {
     "data": {
      "text/plain": [
       "(87, 24368)"
      ]
     },
     "metadata": {},
     "output_type": "display_data"
    },
    {
     "data": {
      "text/plain": [
       "(87, 88)"
      ]
     },
     "metadata": {},
     "output_type": "display_data"
    },
    {
     "name": "stdout",
     "output_type": "stream",
     "text": [
      "Her2 :  (29, 24370)\n"
     ]
    },
    {
     "data": {
      "text/plain": [
       "(29, 24368)"
      ]
     },
     "metadata": {},
     "output_type": "display_data"
    },
    {
     "data": {
      "text/plain": [
       "(29, 47)"
      ]
     },
     "metadata": {},
     "output_type": "display_data"
    },
    {
     "name": "stdout",
     "output_type": "stream",
     "text": [
      "Normal :  (27, 24370)\n"
     ]
    },
    {
     "data": {
      "text/plain": [
       "(27, 24368)"
      ]
     },
     "metadata": {},
     "output_type": "display_data"
    },
    {
     "data": {
      "text/plain": [
       "(27, 33)"
      ]
     },
     "metadata": {},
     "output_type": "display_data"
    },
    {
     "name": "stdout",
     "output_type": "stream",
     "text": [
      "Basal :  (8, 24370)\n"
     ]
    },
    {
     "data": {
      "text/plain": [
       "(8, 24368)"
      ]
     },
     "metadata": {},
     "output_type": "display_data"
    },
    {
     "data": {
      "text/plain": [
       "(8, 47)"
      ]
     },
     "metadata": {},
     "output_type": "display_data"
    },
    {
     "name": "stdout",
     "output_type": "stream",
     "text": [
      "ER-_HER2- :  (20, 24370)\n"
     ]
    },
    {
     "data": {
      "text/plain": [
       "(20, 24368)"
      ]
     },
     "metadata": {},
     "output_type": "display_data"
    },
    {
     "data": {
      "text/plain": [
       "(20, 60)"
      ]
     },
     "metadata": {},
     "output_type": "display_data"
    },
    {
     "name": "stdout",
     "output_type": "stream",
     "text": [
      "ER+_HER2-_High_Prolif :  (105, 24370)\n"
     ]
    },
    {
     "data": {
      "text/plain": [
       "(105, 24368)"
      ]
     },
     "metadata": {},
     "output_type": "display_data"
    },
    {
     "data": {
      "text/plain": [
       "(105, 110)"
      ]
     },
     "metadata": {},
     "output_type": "display_data"
    },
    {
     "name": "stdout",
     "output_type": "stream",
     "text": [
      "ER+_HER2-_Low_Prolif :  (114, 24370)\n"
     ]
    },
    {
     "data": {
      "text/plain": [
       "(114, 24368)"
      ]
     },
     "metadata": {},
     "output_type": "display_data"
    },
    {
     "data": {
      "text/plain": [
       "(114, 101)"
      ]
     },
     "metadata": {},
     "output_type": "display_data"
    },
    {
     "name": "stdout",
     "output_type": "stream",
     "text": [
      "HER2+ :  (16, 24370)\n"
     ]
    },
    {
     "data": {
      "text/plain": [
       "(16, 24368)"
      ]
     },
     "metadata": {},
     "output_type": "display_data"
    },
    {
     "data": {
      "text/plain": [
       "(16, 47)"
      ]
     },
     "metadata": {},
     "output_type": "display_data"
    },
    {
     "name": "stdout",
     "output_type": "stream",
     "text": [
      "++++++++++++++++++++++++++++++++++++++++++++++++++++++++++++++++++++++++++++++++++++++++++++++++++++\n",
      "54\n",
      "claudin-low :  (22, 24370)\n"
     ]
    },
    {
     "data": {
      "text/plain": [
       "(22, 24368)"
      ]
     },
     "metadata": {},
     "output_type": "display_data"
    },
    {
     "data": {
      "text/plain": [
       "(22, 41)"
      ]
     },
     "metadata": {},
     "output_type": "display_data"
    },
    {
     "name": "stdout",
     "output_type": "stream",
     "text": [
      "LumA :  (119, 24370)\n"
     ]
    },
    {
     "data": {
      "text/plain": [
       "(119, 24368)"
      ]
     },
     "metadata": {},
     "output_type": "display_data"
    },
    {
     "data": {
      "text/plain": [
       "(119, 116)"
      ]
     },
     "metadata": {},
     "output_type": "display_data"
    },
    {
     "name": "stdout",
     "output_type": "stream",
     "text": [
      "LumB :  (87, 24370)\n"
     ]
    },
    {
     "data": {
      "text/plain": [
       "(87, 24368)"
      ]
     },
     "metadata": {},
     "output_type": "display_data"
    },
    {
     "data": {
      "text/plain": [
       "(87, 93)"
      ]
     },
     "metadata": {},
     "output_type": "display_data"
    },
    {
     "name": "stdout",
     "output_type": "stream",
     "text": [
      "Her2 :  (29, 24370)\n"
     ]
    },
    {
     "data": {
      "text/plain": [
       "(29, 24368)"
      ]
     },
     "metadata": {},
     "output_type": "display_data"
    },
    {
     "data": {
      "text/plain": [
       "(29, 49)"
      ]
     },
     "metadata": {},
     "output_type": "display_data"
    },
    {
     "name": "stdout",
     "output_type": "stream",
     "text": [
      "Normal :  (27, 24370)\n"
     ]
    },
    {
     "data": {
      "text/plain": [
       "(27, 24368)"
      ]
     },
     "metadata": {},
     "output_type": "display_data"
    },
    {
     "data": {
      "text/plain": [
       "(27, 34)"
      ]
     },
     "metadata": {},
     "output_type": "display_data"
    },
    {
     "name": "stdout",
     "output_type": "stream",
     "text": [
      "Basal :  (8, 24370)\n"
     ]
    },
    {
     "data": {
      "text/plain": [
       "(8, 24368)"
      ]
     },
     "metadata": {},
     "output_type": "display_data"
    },
    {
     "data": {
      "text/plain": [
       "(8, 49)"
      ]
     },
     "metadata": {},
     "output_type": "display_data"
    },
    {
     "name": "stdout",
     "output_type": "stream",
     "text": [
      "ER-_HER2- :  (20, 24370)\n"
     ]
    },
    {
     "data": {
      "text/plain": [
       "(20, 24368)"
      ]
     },
     "metadata": {},
     "output_type": "display_data"
    },
    {
     "data": {
      "text/plain": [
       "(20, 62)"
      ]
     },
     "metadata": {},
     "output_type": "display_data"
    },
    {
     "name": "stdout",
     "output_type": "stream",
     "text": [
      "ER+_HER2-_High_Prolif :  (105, 24370)\n"
     ]
    },
    {
     "data": {
      "text/plain": [
       "(105, 24368)"
      ]
     },
     "metadata": {},
     "output_type": "display_data"
    },
    {
     "data": {
      "text/plain": [
       "(105, 116)"
      ]
     },
     "metadata": {},
     "output_type": "display_data"
    },
    {
     "name": "stdout",
     "output_type": "stream",
     "text": [
      "ER+_HER2-_Low_Prolif :  (114, 24370)\n"
     ]
    },
    {
     "data": {
      "text/plain": [
       "(114, 24368)"
      ]
     },
     "metadata": {},
     "output_type": "display_data"
    },
    {
     "data": {
      "text/plain": [
       "(114, 107)"
      ]
     },
     "metadata": {},
     "output_type": "display_data"
    },
    {
     "name": "stdout",
     "output_type": "stream",
     "text": [
      "HER2+ :  (16, 24370)\n"
     ]
    },
    {
     "data": {
      "text/plain": [
       "(16, 24368)"
      ]
     },
     "metadata": {},
     "output_type": "display_data"
    },
    {
     "data": {
      "text/plain": [
       "(16, 48)"
      ]
     },
     "metadata": {},
     "output_type": "display_data"
    },
    {
     "name": "stdout",
     "output_type": "stream",
     "text": [
      "++++++++++++++++++++++++++++++++++++++++++++++++++++++++++++++++++++++++++++++++++++++++++++++++++++\n",
      "55\n",
      "claudin-low :  (22, 24370)\n"
     ]
    },
    {
     "data": {
      "text/plain": [
       "(22, 24368)"
      ]
     },
     "metadata": {},
     "output_type": "display_data"
    },
    {
     "data": {
      "text/plain": [
       "(22, 43)"
      ]
     },
     "metadata": {},
     "output_type": "display_data"
    },
    {
     "name": "stdout",
     "output_type": "stream",
     "text": [
      "LumA :  (119, 24370)\n"
     ]
    },
    {
     "data": {
      "text/plain": [
       "(119, 24368)"
      ]
     },
     "metadata": {},
     "output_type": "display_data"
    },
    {
     "data": {
      "text/plain": [
       "(119, 123)"
      ]
     },
     "metadata": {},
     "output_type": "display_data"
    },
    {
     "name": "stdout",
     "output_type": "stream",
     "text": [
      "LumB :  (87, 24370)\n"
     ]
    },
    {
     "data": {
      "text/plain": [
       "(87, 24368)"
      ]
     },
     "metadata": {},
     "output_type": "display_data"
    },
    {
     "data": {
      "text/plain": [
       "(87, 97)"
      ]
     },
     "metadata": {},
     "output_type": "display_data"
    },
    {
     "name": "stdout",
     "output_type": "stream",
     "text": [
      "Her2 :  (29, 24370)\n"
     ]
    },
    {
     "data": {
      "text/plain": [
       "(29, 24368)"
      ]
     },
     "metadata": {},
     "output_type": "display_data"
    },
    {
     "data": {
      "text/plain": [
       "(29, 52)"
      ]
     },
     "metadata": {},
     "output_type": "display_data"
    },
    {
     "name": "stdout",
     "output_type": "stream",
     "text": [
      "Normal :  (27, 24370)\n"
     ]
    },
    {
     "data": {
      "text/plain": [
       "(27, 24368)"
      ]
     },
     "metadata": {},
     "output_type": "display_data"
    },
    {
     "data": {
      "text/plain": [
       "(27, 35)"
      ]
     },
     "metadata": {},
     "output_type": "display_data"
    },
    {
     "name": "stdout",
     "output_type": "stream",
     "text": [
      "Basal :  (8, 24370)\n"
     ]
    },
    {
     "data": {
      "text/plain": [
       "(8, 24368)"
      ]
     },
     "metadata": {},
     "output_type": "display_data"
    },
    {
     "data": {
      "text/plain": [
       "(8, 51)"
      ]
     },
     "metadata": {},
     "output_type": "display_data"
    },
    {
     "name": "stdout",
     "output_type": "stream",
     "text": [
      "ER-_HER2- :  (20, 24370)\n"
     ]
    },
    {
     "data": {
      "text/plain": [
       "(20, 24368)"
      ]
     },
     "metadata": {},
     "output_type": "display_data"
    },
    {
     "data": {
      "text/plain": [
       "(20, 65)"
      ]
     },
     "metadata": {},
     "output_type": "display_data"
    },
    {
     "name": "stdout",
     "output_type": "stream",
     "text": [
      "ER+_HER2-_High_Prolif :  (105, 24370)\n"
     ]
    },
    {
     "data": {
      "text/plain": [
       "(105, 24368)"
      ]
     },
     "metadata": {},
     "output_type": "display_data"
    },
    {
     "data": {
      "text/plain": [
       "(105, 122)"
      ]
     },
     "metadata": {},
     "output_type": "display_data"
    },
    {
     "name": "stdout",
     "output_type": "stream",
     "text": [
      "ER+_HER2-_Low_Prolif :  (114, 24370)\n"
     ]
    },
    {
     "data": {
      "text/plain": [
       "(114, 24368)"
      ]
     },
     "metadata": {},
     "output_type": "display_data"
    },
    {
     "data": {
      "text/plain": [
       "(114, 114)"
      ]
     },
     "metadata": {},
     "output_type": "display_data"
    },
    {
     "name": "stdout",
     "output_type": "stream",
     "text": [
      "HER2+ :  (16, 24370)\n"
     ]
    },
    {
     "data": {
      "text/plain": [
       "(16, 24368)"
      ]
     },
     "metadata": {},
     "output_type": "display_data"
    },
    {
     "data": {
      "text/plain": [
       "(16, 50)"
      ]
     },
     "metadata": {},
     "output_type": "display_data"
    },
    {
     "name": "stdout",
     "output_type": "stream",
     "text": [
      "++++++++++++++++++++++++++++++++++++++++++++++++++++++++++++++++++++++++++++++++++++++++++++++++++++\n",
      "56\n",
      "claudin-low :  (22, 24370)\n"
     ]
    },
    {
     "data": {
      "text/plain": [
       "(22, 24368)"
      ]
     },
     "metadata": {},
     "output_type": "display_data"
    },
    {
     "data": {
      "text/plain": [
       "(22, 44)"
      ]
     },
     "metadata": {},
     "output_type": "display_data"
    },
    {
     "name": "stdout",
     "output_type": "stream",
     "text": [
      "LumA :  (119, 24370)\n"
     ]
    },
    {
     "data": {
      "text/plain": [
       "(119, 24368)"
      ]
     },
     "metadata": {},
     "output_type": "display_data"
    },
    {
     "data": {
      "text/plain": [
       "(119, 130)"
      ]
     },
     "metadata": {},
     "output_type": "display_data"
    },
    {
     "name": "stdout",
     "output_type": "stream",
     "text": [
      "LumB :  (87, 24370)\n"
     ]
    },
    {
     "data": {
      "text/plain": [
       "(87, 24368)"
      ]
     },
     "metadata": {},
     "output_type": "display_data"
    },
    {
     "data": {
      "text/plain": [
       "(87, 102)"
      ]
     },
     "metadata": {},
     "output_type": "display_data"
    },
    {
     "name": "stdout",
     "output_type": "stream",
     "text": [
      "Her2 :  (29, 24370)\n"
     ]
    },
    {
     "data": {
      "text/plain": [
       "(29, 24368)"
      ]
     },
     "metadata": {},
     "output_type": "display_data"
    },
    {
     "data": {
      "text/plain": [
       "(29, 54)"
      ]
     },
     "metadata": {},
     "output_type": "display_data"
    },
    {
     "name": "stdout",
     "output_type": "stream",
     "text": [
      "Normal :  (27, 24370)\n"
     ]
    },
    {
     "data": {
      "text/plain": [
       "(27, 24368)"
      ]
     },
     "metadata": {},
     "output_type": "display_data"
    },
    {
     "data": {
      "text/plain": [
       "(27, 37)"
      ]
     },
     "metadata": {},
     "output_type": "display_data"
    },
    {
     "name": "stdout",
     "output_type": "stream",
     "text": [
      "Basal :  (8, 24370)\n"
     ]
    },
    {
     "data": {
      "text/plain": [
       "(8, 24368)"
      ]
     },
     "metadata": {},
     "output_type": "display_data"
    },
    {
     "data": {
      "text/plain": [
       "(8, 53)"
      ]
     },
     "metadata": {},
     "output_type": "display_data"
    },
    {
     "name": "stdout",
     "output_type": "stream",
     "text": [
      "ER-_HER2- :  (20, 24370)\n"
     ]
    },
    {
     "data": {
      "text/plain": [
       "(20, 24368)"
      ]
     },
     "metadata": {},
     "output_type": "display_data"
    },
    {
     "data": {
      "text/plain": [
       "(20, 68)"
      ]
     },
     "metadata": {},
     "output_type": "display_data"
    },
    {
     "name": "stdout",
     "output_type": "stream",
     "text": [
      "ER+_HER2-_High_Prolif :  (105, 24370)\n"
     ]
    },
    {
     "data": {
      "text/plain": [
       "(105, 24368)"
      ]
     },
     "metadata": {},
     "output_type": "display_data"
    },
    {
     "data": {
      "text/plain": [
       "(105, 128)"
      ]
     },
     "metadata": {},
     "output_type": "display_data"
    },
    {
     "name": "stdout",
     "output_type": "stream",
     "text": [
      "ER+_HER2-_Low_Prolif :  (114, 24370)\n"
     ]
    },
    {
     "data": {
      "text/plain": [
       "(114, 24368)"
      ]
     },
     "metadata": {},
     "output_type": "display_data"
    },
    {
     "data": {
      "text/plain": [
       "(114, 120)"
      ]
     },
     "metadata": {},
     "output_type": "display_data"
    },
    {
     "name": "stdout",
     "output_type": "stream",
     "text": [
      "HER2+ :  (16, 24370)\n"
     ]
    },
    {
     "data": {
      "text/plain": [
       "(16, 24368)"
      ]
     },
     "metadata": {},
     "output_type": "display_data"
    },
    {
     "data": {
      "text/plain": [
       "(16, 52)"
      ]
     },
     "metadata": {},
     "output_type": "display_data"
    },
    {
     "name": "stdout",
     "output_type": "stream",
     "text": [
      "++++++++++++++++++++++++++++++++++++++++++++++++++++++++++++++++++++++++++++++++++++++++++++++++++++\n",
      "57\n",
      "claudin-low :  (22, 24370)\n"
     ]
    },
    {
     "data": {
      "text/plain": [
       "(22, 24368)"
      ]
     },
     "metadata": {},
     "output_type": "display_data"
    },
    {
     "data": {
      "text/plain": [
       "(22, 46)"
      ]
     },
     "metadata": {},
     "output_type": "display_data"
    },
    {
     "name": "stdout",
     "output_type": "stream",
     "text": [
      "LumA :  (119, 24370)\n"
     ]
    },
    {
     "data": {
      "text/plain": [
       "(119, 24368)"
      ]
     },
     "metadata": {},
     "output_type": "display_data"
    },
    {
     "data": {
      "text/plain": [
       "(119, 137)"
      ]
     },
     "metadata": {},
     "output_type": "display_data"
    },
    {
     "name": "stdout",
     "output_type": "stream",
     "text": [
      "LumB :  (87, 24370)\n"
     ]
    },
    {
     "data": {
      "text/plain": [
       "(87, 24368)"
      ]
     },
     "metadata": {},
     "output_type": "display_data"
    },
    {
     "data": {
      "text/plain": [
       "(87, 107)"
      ]
     },
     "metadata": {},
     "output_type": "display_data"
    },
    {
     "name": "stdout",
     "output_type": "stream",
     "text": [
      "Her2 :  (29, 24370)\n"
     ]
    },
    {
     "data": {
      "text/plain": [
       "(29, 24368)"
      ]
     },
     "metadata": {},
     "output_type": "display_data"
    },
    {
     "data": {
      "text/plain": [
       "(29, 56)"
      ]
     },
     "metadata": {},
     "output_type": "display_data"
    },
    {
     "name": "stdout",
     "output_type": "stream",
     "text": [
      "Normal :  (27, 24370)\n"
     ]
    },
    {
     "data": {
      "text/plain": [
       "(27, 24368)"
      ]
     },
     "metadata": {},
     "output_type": "display_data"
    },
    {
     "data": {
      "text/plain": [
       "(27, 38)"
      ]
     },
     "metadata": {},
     "output_type": "display_data"
    },
    {
     "name": "stdout",
     "output_type": "stream",
     "text": [
      "Basal :  (8, 24370)\n"
     ]
    },
    {
     "data": {
      "text/plain": [
       "(8, 24368)"
      ]
     },
     "metadata": {},
     "output_type": "display_data"
    },
    {
     "data": {
      "text/plain": [
       "(8, 55)"
      ]
     },
     "metadata": {},
     "output_type": "display_data"
    },
    {
     "name": "stdout",
     "output_type": "stream",
     "text": [
      "ER-_HER2- :  (20, 24370)\n"
     ]
    },
    {
     "data": {
      "text/plain": [
       "(20, 24368)"
      ]
     },
     "metadata": {},
     "output_type": "display_data"
    },
    {
     "data": {
      "text/plain": [
       "(20, 71)"
      ]
     },
     "metadata": {},
     "output_type": "display_data"
    },
    {
     "name": "stdout",
     "output_type": "stream",
     "text": [
      "ER+_HER2-_High_Prolif :  (105, 24370)\n"
     ]
    },
    {
     "data": {
      "text/plain": [
       "(105, 24368)"
      ]
     },
     "metadata": {},
     "output_type": "display_data"
    },
    {
     "data": {
      "text/plain": [
       "(105, 134)"
      ]
     },
     "metadata": {},
     "output_type": "display_data"
    },
    {
     "name": "stdout",
     "output_type": "stream",
     "text": [
      "ER+_HER2-_Low_Prolif :  (114, 24370)\n"
     ]
    },
    {
     "data": {
      "text/plain": [
       "(114, 24368)"
      ]
     },
     "metadata": {},
     "output_type": "display_data"
    },
    {
     "data": {
      "text/plain": [
       "(114, 126)"
      ]
     },
     "metadata": {},
     "output_type": "display_data"
    },
    {
     "name": "stdout",
     "output_type": "stream",
     "text": [
      "HER2+ :  (16, 24370)\n"
     ]
    },
    {
     "data": {
      "text/plain": [
       "(16, 24368)"
      ]
     },
     "metadata": {},
     "output_type": "display_data"
    },
    {
     "data": {
      "text/plain": [
       "(16, 54)"
      ]
     },
     "metadata": {},
     "output_type": "display_data"
    },
    {
     "name": "stdout",
     "output_type": "stream",
     "text": [
      "++++++++++++++++++++++++++++++++++++++++++++++++++++++++++++++++++++++++++++++++++++++++++++++++++++\n",
      "58\n",
      "claudin-low :  (22, 24370)\n"
     ]
    },
    {
     "data": {
      "text/plain": [
       "(22, 24368)"
      ]
     },
     "metadata": {},
     "output_type": "display_data"
    },
    {
     "data": {
      "text/plain": [
       "(22, 49)"
      ]
     },
     "metadata": {},
     "output_type": "display_data"
    },
    {
     "name": "stdout",
     "output_type": "stream",
     "text": [
      "LumA :  (119, 24370)\n"
     ]
    },
    {
     "data": {
      "text/plain": [
       "(119, 24368)"
      ]
     },
     "metadata": {},
     "output_type": "display_data"
    },
    {
     "data": {
      "text/plain": [
       "(119, 144)"
      ]
     },
     "metadata": {},
     "output_type": "display_data"
    },
    {
     "name": "stdout",
     "output_type": "stream",
     "text": [
      "LumB :  (87, 24370)\n"
     ]
    },
    {
     "data": {
      "text/plain": [
       "(87, 24368)"
      ]
     },
     "metadata": {},
     "output_type": "display_data"
    },
    {
     "data": {
      "text/plain": [
       "(87, 112)"
      ]
     },
     "metadata": {},
     "output_type": "display_data"
    },
    {
     "name": "stdout",
     "output_type": "stream",
     "text": [
      "Her2 :  (29, 24370)\n"
     ]
    },
    {
     "data": {
      "text/plain": [
       "(29, 24368)"
      ]
     },
     "metadata": {},
     "output_type": "display_data"
    },
    {
     "data": {
      "text/plain": [
       "(29, 58)"
      ]
     },
     "metadata": {},
     "output_type": "display_data"
    },
    {
     "name": "stdout",
     "output_type": "stream",
     "text": [
      "Normal :  (27, 24370)\n"
     ]
    },
    {
     "data": {
      "text/plain": [
       "(27, 24368)"
      ]
     },
     "metadata": {},
     "output_type": "display_data"
    },
    {
     "data": {
      "text/plain": [
       "(27, 39)"
      ]
     },
     "metadata": {},
     "output_type": "display_data"
    },
    {
     "name": "stdout",
     "output_type": "stream",
     "text": [
      "Basal :  (8, 24370)\n"
     ]
    },
    {
     "data": {
      "text/plain": [
       "(8, 24368)"
      ]
     },
     "metadata": {},
     "output_type": "display_data"
    },
    {
     "data": {
      "text/plain": [
       "(8, 57)"
      ]
     },
     "metadata": {},
     "output_type": "display_data"
    },
    {
     "name": "stdout",
     "output_type": "stream",
     "text": [
      "ER-_HER2- :  (20, 24370)\n"
     ]
    },
    {
     "data": {
      "text/plain": [
       "(20, 24368)"
      ]
     },
     "metadata": {},
     "output_type": "display_data"
    },
    {
     "data": {
      "text/plain": [
       "(20, 74)"
      ]
     },
     "metadata": {},
     "output_type": "display_data"
    },
    {
     "name": "stdout",
     "output_type": "stream",
     "text": [
      "ER+_HER2-_High_Prolif :  (105, 24370)\n"
     ]
    },
    {
     "data": {
      "text/plain": [
       "(105, 24368)"
      ]
     },
     "metadata": {},
     "output_type": "display_data"
    },
    {
     "data": {
      "text/plain": [
       "(105, 141)"
      ]
     },
     "metadata": {},
     "output_type": "display_data"
    },
    {
     "name": "stdout",
     "output_type": "stream",
     "text": [
      "ER+_HER2-_Low_Prolif :  (114, 24370)\n"
     ]
    },
    {
     "data": {
      "text/plain": [
       "(114, 24368)"
      ]
     },
     "metadata": {},
     "output_type": "display_data"
    },
    {
     "data": {
      "text/plain": [
       "(114, 133)"
      ]
     },
     "metadata": {},
     "output_type": "display_data"
    },
    {
     "name": "stdout",
     "output_type": "stream",
     "text": [
      "HER2+ :  (16, 24370)\n"
     ]
    },
    {
     "data": {
      "text/plain": [
       "(16, 24368)"
      ]
     },
     "metadata": {},
     "output_type": "display_data"
    },
    {
     "data": {
      "text/plain": [
       "(16, 56)"
      ]
     },
     "metadata": {},
     "output_type": "display_data"
    },
    {
     "name": "stdout",
     "output_type": "stream",
     "text": [
      "++++++++++++++++++++++++++++++++++++++++++++++++++++++++++++++++++++++++++++++++++++++++++++++++++++\n",
      "59\n",
      "claudin-low :  (22, 24370)\n"
     ]
    },
    {
     "data": {
      "text/plain": [
       "(22, 24368)"
      ]
     },
     "metadata": {},
     "output_type": "display_data"
    },
    {
     "data": {
      "text/plain": [
       "(22, 51)"
      ]
     },
     "metadata": {},
     "output_type": "display_data"
    },
    {
     "name": "stdout",
     "output_type": "stream",
     "text": [
      "LumA :  (119, 24370)\n"
     ]
    },
    {
     "data": {
      "text/plain": [
       "(119, 24368)"
      ]
     },
     "metadata": {},
     "output_type": "display_data"
    },
    {
     "data": {
      "text/plain": [
       "(119, 151)"
      ]
     },
     "metadata": {},
     "output_type": "display_data"
    },
    {
     "name": "stdout",
     "output_type": "stream",
     "text": [
      "LumB :  (87, 24370)\n"
     ]
    },
    {
     "data": {
      "text/plain": [
       "(87, 24368)"
      ]
     },
     "metadata": {},
     "output_type": "display_data"
    },
    {
     "data": {
      "text/plain": [
       "(87, 117)"
      ]
     },
     "metadata": {},
     "output_type": "display_data"
    },
    {
     "name": "stdout",
     "output_type": "stream",
     "text": [
      "Her2 :  (29, 24370)\n"
     ]
    },
    {
     "data": {
      "text/plain": [
       "(29, 24368)"
      ]
     },
     "metadata": {},
     "output_type": "display_data"
    },
    {
     "data": {
      "text/plain": [
       "(29, 61)"
      ]
     },
     "metadata": {},
     "output_type": "display_data"
    },
    {
     "name": "stdout",
     "output_type": "stream",
     "text": [
      "Normal :  (27, 24370)\n"
     ]
    },
    {
     "data": {
      "text/plain": [
       "(27, 24368)"
      ]
     },
     "metadata": {},
     "output_type": "display_data"
    },
    {
     "data": {
      "text/plain": [
       "(27, 41)"
      ]
     },
     "metadata": {},
     "output_type": "display_data"
    },
    {
     "name": "stdout",
     "output_type": "stream",
     "text": [
      "Basal :  (8, 24370)\n"
     ]
    },
    {
     "data": {
      "text/plain": [
       "(8, 24368)"
      ]
     },
     "metadata": {},
     "output_type": "display_data"
    },
    {
     "data": {
      "text/plain": [
       "(8, 59)"
      ]
     },
     "metadata": {},
     "output_type": "display_data"
    },
    {
     "name": "stdout",
     "output_type": "stream",
     "text": [
      "ER-_HER2- :  (20, 24370)\n"
     ]
    },
    {
     "data": {
      "text/plain": [
       "(20, 24368)"
      ]
     },
     "metadata": {},
     "output_type": "display_data"
    },
    {
     "data": {
      "text/plain": [
       "(20, 77)"
      ]
     },
     "metadata": {},
     "output_type": "display_data"
    },
    {
     "name": "stdout",
     "output_type": "stream",
     "text": [
      "ER+_HER2-_High_Prolif :  (105, 24370)\n"
     ]
    },
    {
     "data": {
      "text/plain": [
       "(105, 24368)"
      ]
     },
     "metadata": {},
     "output_type": "display_data"
    },
    {
     "data": {
      "text/plain": [
       "(105, 147)"
      ]
     },
     "metadata": {},
     "output_type": "display_data"
    },
    {
     "name": "stdout",
     "output_type": "stream",
     "text": [
      "ER+_HER2-_Low_Prolif :  (114, 24370)\n"
     ]
    },
    {
     "data": {
      "text/plain": [
       "(114, 24368)"
      ]
     },
     "metadata": {},
     "output_type": "display_data"
    },
    {
     "data": {
      "text/plain": [
       "(114, 140)"
      ]
     },
     "metadata": {},
     "output_type": "display_data"
    },
    {
     "name": "stdout",
     "output_type": "stream",
     "text": [
      "HER2+ :  (16, 24370)\n"
     ]
    },
    {
     "data": {
      "text/plain": [
       "(16, 24368)"
      ]
     },
     "metadata": {},
     "output_type": "display_data"
    },
    {
     "data": {
      "text/plain": [
       "(16, 58)"
      ]
     },
     "metadata": {},
     "output_type": "display_data"
    },
    {
     "name": "stdout",
     "output_type": "stream",
     "text": [
      "++++++++++++++++++++++++++++++++++++++++++++++++++++++++++++++++++++++++++++++++++++++++++++++++++++\n",
      "60\n",
      "claudin-low :  (22, 24370)\n"
     ]
    },
    {
     "data": {
      "text/plain": [
       "(22, 24368)"
      ]
     },
     "metadata": {},
     "output_type": "display_data"
    },
    {
     "data": {
      "text/plain": [
       "(22, 53)"
      ]
     },
     "metadata": {},
     "output_type": "display_data"
    },
    {
     "name": "stdout",
     "output_type": "stream",
     "text": [
      "LumA :  (119, 24370)\n"
     ]
    },
    {
     "data": {
      "text/plain": [
       "(119, 24368)"
      ]
     },
     "metadata": {},
     "output_type": "display_data"
    },
    {
     "data": {
      "text/plain": [
       "(119, 159)"
      ]
     },
     "metadata": {},
     "output_type": "display_data"
    },
    {
     "name": "stdout",
     "output_type": "stream",
     "text": [
      "LumB :  (87, 24370)\n"
     ]
    },
    {
     "data": {
      "text/plain": [
       "(87, 24368)"
      ]
     },
     "metadata": {},
     "output_type": "display_data"
    },
    {
     "data": {
      "text/plain": [
       "(87, 122)"
      ]
     },
     "metadata": {},
     "output_type": "display_data"
    },
    {
     "name": "stdout",
     "output_type": "stream",
     "text": [
      "Her2 :  (29, 24370)\n"
     ]
    },
    {
     "data": {
      "text/plain": [
       "(29, 24368)"
      ]
     },
     "metadata": {},
     "output_type": "display_data"
    },
    {
     "data": {
      "text/plain": [
       "(29, 63)"
      ]
     },
     "metadata": {},
     "output_type": "display_data"
    },
    {
     "name": "stdout",
     "output_type": "stream",
     "text": [
      "Normal :  (27, 24370)\n"
     ]
    },
    {
     "data": {
      "text/plain": [
       "(27, 24368)"
      ]
     },
     "metadata": {},
     "output_type": "display_data"
    },
    {
     "data": {
      "text/plain": [
       "(27, 42)"
      ]
     },
     "metadata": {},
     "output_type": "display_data"
    },
    {
     "name": "stdout",
     "output_type": "stream",
     "text": [
      "Basal :  (8, 24370)\n"
     ]
    },
    {
     "data": {
      "text/plain": [
       "(8, 24368)"
      ]
     },
     "metadata": {},
     "output_type": "display_data"
    },
    {
     "data": {
      "text/plain": [
       "(8, 61)"
      ]
     },
     "metadata": {},
     "output_type": "display_data"
    },
    {
     "name": "stdout",
     "output_type": "stream",
     "text": [
      "ER-_HER2- :  (20, 24370)\n"
     ]
    },
    {
     "data": {
      "text/plain": [
       "(20, 24368)"
      ]
     },
     "metadata": {},
     "output_type": "display_data"
    },
    {
     "data": {
      "text/plain": [
       "(20, 80)"
      ]
     },
     "metadata": {},
     "output_type": "display_data"
    },
    {
     "name": "stdout",
     "output_type": "stream",
     "text": [
      "ER+_HER2-_High_Prolif :  (105, 24370)\n"
     ]
    },
    {
     "data": {
      "text/plain": [
       "(105, 24368)"
      ]
     },
     "metadata": {},
     "output_type": "display_data"
    },
    {
     "data": {
      "text/plain": [
       "(105, 154)"
      ]
     },
     "metadata": {},
     "output_type": "display_data"
    },
    {
     "name": "stdout",
     "output_type": "stream",
     "text": [
      "ER+_HER2-_Low_Prolif :  (114, 24370)\n"
     ]
    },
    {
     "data": {
      "text/plain": [
       "(114, 24368)"
      ]
     },
     "metadata": {},
     "output_type": "display_data"
    },
    {
     "data": {
      "text/plain": [
       "(114, 147)"
      ]
     },
     "metadata": {},
     "output_type": "display_data"
    },
    {
     "name": "stdout",
     "output_type": "stream",
     "text": [
      "HER2+ :  (16, 24370)\n"
     ]
    },
    {
     "data": {
      "text/plain": [
       "(16, 24368)"
      ]
     },
     "metadata": {},
     "output_type": "display_data"
    },
    {
     "data": {
      "text/plain": [
       "(16, 60)"
      ]
     },
     "metadata": {},
     "output_type": "display_data"
    },
    {
     "name": "stdout",
     "output_type": "stream",
     "text": [
      "++++++++++++++++++++++++++++++++++++++++++++++++++++++++++++++++++++++++++++++++++++++++++++++++++++\n",
      "61\n",
      "claudin-low :  (22, 24370)\n"
     ]
    },
    {
     "data": {
      "text/plain": [
       "(22, 24368)"
      ]
     },
     "metadata": {},
     "output_type": "display_data"
    },
    {
     "data": {
      "text/plain": [
       "(22, 55)"
      ]
     },
     "metadata": {},
     "output_type": "display_data"
    },
    {
     "name": "stdout",
     "output_type": "stream",
     "text": [
      "LumA :  (119, 24370)\n"
     ]
    },
    {
     "data": {
      "text/plain": [
       "(119, 24368)"
      ]
     },
     "metadata": {},
     "output_type": "display_data"
    },
    {
     "data": {
      "text/plain": [
       "(119, 167)"
      ]
     },
     "metadata": {},
     "output_type": "display_data"
    },
    {
     "name": "stdout",
     "output_type": "stream",
     "text": [
      "LumB :  (87, 24370)\n"
     ]
    },
    {
     "data": {
      "text/plain": [
       "(87, 24368)"
      ]
     },
     "metadata": {},
     "output_type": "display_data"
    },
    {
     "data": {
      "text/plain": [
       "(87, 127)"
      ]
     },
     "metadata": {},
     "output_type": "display_data"
    },
    {
     "name": "stdout",
     "output_type": "stream",
     "text": [
      "Her2 :  (29, 24370)\n"
     ]
    },
    {
     "data": {
      "text/plain": [
       "(29, 24368)"
      ]
     },
     "metadata": {},
     "output_type": "display_data"
    },
    {
     "data": {
      "text/plain": [
       "(29, 65)"
      ]
     },
     "metadata": {},
     "output_type": "display_data"
    },
    {
     "name": "stdout",
     "output_type": "stream",
     "text": [
      "Normal :  (27, 24370)\n"
     ]
    },
    {
     "data": {
      "text/plain": [
       "(27, 24368)"
      ]
     },
     "metadata": {},
     "output_type": "display_data"
    },
    {
     "data": {
      "text/plain": [
       "(27, 44)"
      ]
     },
     "metadata": {},
     "output_type": "display_data"
    },
    {
     "name": "stdout",
     "output_type": "stream",
     "text": [
      "Basal :  (8, 24370)\n"
     ]
    },
    {
     "data": {
      "text/plain": [
       "(8, 24368)"
      ]
     },
     "metadata": {},
     "output_type": "display_data"
    },
    {
     "data": {
      "text/plain": [
       "(8, 63)"
      ]
     },
     "metadata": {},
     "output_type": "display_data"
    },
    {
     "name": "stdout",
     "output_type": "stream",
     "text": [
      "ER-_HER2- :  (20, 24370)\n"
     ]
    },
    {
     "data": {
      "text/plain": [
       "(20, 24368)"
      ]
     },
     "metadata": {},
     "output_type": "display_data"
    },
    {
     "data": {
      "text/plain": [
       "(20, 84)"
      ]
     },
     "metadata": {},
     "output_type": "display_data"
    },
    {
     "name": "stdout",
     "output_type": "stream",
     "text": [
      "ER+_HER2-_High_Prolif :  (105, 24370)\n"
     ]
    },
    {
     "data": {
      "text/plain": [
       "(105, 24368)"
      ]
     },
     "metadata": {},
     "output_type": "display_data"
    },
    {
     "data": {
      "text/plain": [
       "(105, 161)"
      ]
     },
     "metadata": {},
     "output_type": "display_data"
    },
    {
     "name": "stdout",
     "output_type": "stream",
     "text": [
      "ER+_HER2-_Low_Prolif :  (114, 24370)\n"
     ]
    },
    {
     "data": {
      "text/plain": [
       "(114, 24368)"
      ]
     },
     "metadata": {},
     "output_type": "display_data"
    },
    {
     "data": {
      "text/plain": [
       "(114, 154)"
      ]
     },
     "metadata": {},
     "output_type": "display_data"
    },
    {
     "name": "stdout",
     "output_type": "stream",
     "text": [
      "HER2+ :  (16, 24370)\n"
     ]
    },
    {
     "data": {
      "text/plain": [
       "(16, 24368)"
      ]
     },
     "metadata": {},
     "output_type": "display_data"
    },
    {
     "data": {
      "text/plain": [
       "(16, 62)"
      ]
     },
     "metadata": {},
     "output_type": "display_data"
    },
    {
     "name": "stdout",
     "output_type": "stream",
     "text": [
      "++++++++++++++++++++++++++++++++++++++++++++++++++++++++++++++++++++++++++++++++++++++++++++++++++++\n",
      "62\n",
      "claudin-low :  (22, 24370)\n"
     ]
    },
    {
     "data": {
      "text/plain": [
       "(22, 24368)"
      ]
     },
     "metadata": {},
     "output_type": "display_data"
    },
    {
     "data": {
      "text/plain": [
       "(22, 57)"
      ]
     },
     "metadata": {},
     "output_type": "display_data"
    },
    {
     "name": "stdout",
     "output_type": "stream",
     "text": [
      "LumA :  (119, 24370)\n"
     ]
    },
    {
     "data": {
      "text/plain": [
       "(119, 24368)"
      ]
     },
     "metadata": {},
     "output_type": "display_data"
    },
    {
     "data": {
      "text/plain": [
       "(119, 174)"
      ]
     },
     "metadata": {},
     "output_type": "display_data"
    },
    {
     "name": "stdout",
     "output_type": "stream",
     "text": [
      "LumB :  (87, 24370)\n"
     ]
    },
    {
     "data": {
      "text/plain": [
       "(87, 24368)"
      ]
     },
     "metadata": {},
     "output_type": "display_data"
    },
    {
     "data": {
      "text/plain": [
       "(87, 132)"
      ]
     },
     "metadata": {},
     "output_type": "display_data"
    },
    {
     "name": "stdout",
     "output_type": "stream",
     "text": [
      "Her2 :  (29, 24370)\n"
     ]
    },
    {
     "data": {
      "text/plain": [
       "(29, 24368)"
      ]
     },
     "metadata": {},
     "output_type": "display_data"
    },
    {
     "data": {
      "text/plain": [
       "(29, 68)"
      ]
     },
     "metadata": {},
     "output_type": "display_data"
    },
    {
     "name": "stdout",
     "output_type": "stream",
     "text": [
      "Normal :  (27, 24370)\n"
     ]
    },
    {
     "data": {
      "text/plain": [
       "(27, 24368)"
      ]
     },
     "metadata": {},
     "output_type": "display_data"
    },
    {
     "data": {
      "text/plain": [
       "(27, 45)"
      ]
     },
     "metadata": {},
     "output_type": "display_data"
    },
    {
     "name": "stdout",
     "output_type": "stream",
     "text": [
      "Basal :  (8, 24370)\n"
     ]
    },
    {
     "data": {
      "text/plain": [
       "(8, 24368)"
      ]
     },
     "metadata": {},
     "output_type": "display_data"
    },
    {
     "data": {
      "text/plain": [
       "(8, 66)"
      ]
     },
     "metadata": {},
     "output_type": "display_data"
    },
    {
     "name": "stdout",
     "output_type": "stream",
     "text": [
      "ER-_HER2- :  (20, 24370)\n"
     ]
    },
    {
     "data": {
      "text/plain": [
       "(20, 24368)"
      ]
     },
     "metadata": {},
     "output_type": "display_data"
    },
    {
     "data": {
      "text/plain": [
       "(20, 87)"
      ]
     },
     "metadata": {},
     "output_type": "display_data"
    },
    {
     "name": "stdout",
     "output_type": "stream",
     "text": [
      "ER+_HER2-_High_Prolif :  (105, 24370)\n"
     ]
    },
    {
     "data": {
      "text/plain": [
       "(105, 24368)"
      ]
     },
     "metadata": {},
     "output_type": "display_data"
    },
    {
     "data": {
      "text/plain": [
       "(105, 168)"
      ]
     },
     "metadata": {},
     "output_type": "display_data"
    },
    {
     "name": "stdout",
     "output_type": "stream",
     "text": [
      "ER+_HER2-_Low_Prolif :  (114, 24370)\n"
     ]
    },
    {
     "data": {
      "text/plain": [
       "(114, 24368)"
      ]
     },
     "metadata": {},
     "output_type": "display_data"
    },
    {
     "data": {
      "text/plain": [
       "(114, 161)"
      ]
     },
     "metadata": {},
     "output_type": "display_data"
    },
    {
     "name": "stdout",
     "output_type": "stream",
     "text": [
      "HER2+ :  (16, 24370)\n"
     ]
    },
    {
     "data": {
      "text/plain": [
       "(16, 24368)"
      ]
     },
     "metadata": {},
     "output_type": "display_data"
    },
    {
     "data": {
      "text/plain": [
       "(16, 64)"
      ]
     },
     "metadata": {},
     "output_type": "display_data"
    },
    {
     "name": "stdout",
     "output_type": "stream",
     "text": [
      "++++++++++++++++++++++++++++++++++++++++++++++++++++++++++++++++++++++++++++++++++++++++++++++++++++\n",
      "63\n",
      "claudin-low :  (22, 24370)\n"
     ]
    },
    {
     "data": {
      "text/plain": [
       "(22, 24368)"
      ]
     },
     "metadata": {},
     "output_type": "display_data"
    },
    {
     "data": {
      "text/plain": [
       "(22, 60)"
      ]
     },
     "metadata": {},
     "output_type": "display_data"
    },
    {
     "name": "stdout",
     "output_type": "stream",
     "text": [
      "LumA :  (119, 24370)\n"
     ]
    },
    {
     "data": {
      "text/plain": [
       "(119, 24368)"
      ]
     },
     "metadata": {},
     "output_type": "display_data"
    },
    {
     "data": {
      "text/plain": [
       "(119, 182)"
      ]
     },
     "metadata": {},
     "output_type": "display_data"
    },
    {
     "name": "stdout",
     "output_type": "stream",
     "text": [
      "LumB :  (87, 24370)\n"
     ]
    },
    {
     "data": {
      "text/plain": [
       "(87, 24368)"
      ]
     },
     "metadata": {},
     "output_type": "display_data"
    },
    {
     "data": {
      "text/plain": [
       "(87, 138)"
      ]
     },
     "metadata": {},
     "output_type": "display_data"
    },
    {
     "name": "stdout",
     "output_type": "stream",
     "text": [
      "Her2 :  (29, 24370)\n"
     ]
    },
    {
     "data": {
      "text/plain": [
       "(29, 24368)"
      ]
     },
     "metadata": {},
     "output_type": "display_data"
    },
    {
     "data": {
      "text/plain": [
       "(29, 70)"
      ]
     },
     "metadata": {},
     "output_type": "display_data"
    },
    {
     "name": "stdout",
     "output_type": "stream",
     "text": [
      "Normal :  (27, 24370)\n"
     ]
    },
    {
     "data": {
      "text/plain": [
       "(27, 24368)"
      ]
     },
     "metadata": {},
     "output_type": "display_data"
    },
    {
     "data": {
      "text/plain": [
       "(27, 47)"
      ]
     },
     "metadata": {},
     "output_type": "display_data"
    },
    {
     "name": "stdout",
     "output_type": "stream",
     "text": [
      "Basal :  (8, 24370)\n"
     ]
    },
    {
     "data": {
      "text/plain": [
       "(8, 24368)"
      ]
     },
     "metadata": {},
     "output_type": "display_data"
    },
    {
     "data": {
      "text/plain": [
       "(8, 68)"
      ]
     },
     "metadata": {},
     "output_type": "display_data"
    },
    {
     "name": "stdout",
     "output_type": "stream",
     "text": [
      "ER-_HER2- :  (20, 24370)\n"
     ]
    },
    {
     "data": {
      "text/plain": [
       "(20, 24368)"
      ]
     },
     "metadata": {},
     "output_type": "display_data"
    },
    {
     "data": {
      "text/plain": [
       "(20, 90)"
      ]
     },
     "metadata": {},
     "output_type": "display_data"
    },
    {
     "name": "stdout",
     "output_type": "stream",
     "text": [
      "ER+_HER2-_High_Prolif :  (105, 24370)\n"
     ]
    },
    {
     "data": {
      "text/plain": [
       "(105, 24368)"
      ]
     },
     "metadata": {},
     "output_type": "display_data"
    },
    {
     "data": {
      "text/plain": [
       "(105, 175)"
      ]
     },
     "metadata": {},
     "output_type": "display_data"
    },
    {
     "name": "stdout",
     "output_type": "stream",
     "text": [
      "ER+_HER2-_Low_Prolif :  (114, 24370)\n"
     ]
    },
    {
     "data": {
      "text/plain": [
       "(114, 24368)"
      ]
     },
     "metadata": {},
     "output_type": "display_data"
    },
    {
     "data": {
      "text/plain": [
       "(114, 168)"
      ]
     },
     "metadata": {},
     "output_type": "display_data"
    },
    {
     "name": "stdout",
     "output_type": "stream",
     "text": [
      "HER2+ :  (16, 24370)\n"
     ]
    },
    {
     "data": {
      "text/plain": [
       "(16, 24368)"
      ]
     },
     "metadata": {},
     "output_type": "display_data"
    },
    {
     "data": {
      "text/plain": [
       "(16, 66)"
      ]
     },
     "metadata": {},
     "output_type": "display_data"
    },
    {
     "name": "stdout",
     "output_type": "stream",
     "text": [
      "++++++++++++++++++++++++++++++++++++++++++++++++++++++++++++++++++++++++++++++++++++++++++++++++++++\n",
      "64\n",
      "claudin-low :  (22, 24370)\n"
     ]
    },
    {
     "data": {
      "text/plain": [
       "(22, 24368)"
      ]
     },
     "metadata": {},
     "output_type": "display_data"
    },
    {
     "data": {
      "text/plain": [
       "(22, 62)"
      ]
     },
     "metadata": {},
     "output_type": "display_data"
    },
    {
     "name": "stdout",
     "output_type": "stream",
     "text": [
      "LumA :  (119, 24370)\n"
     ]
    },
    {
     "data": {
      "text/plain": [
       "(119, 24368)"
      ]
     },
     "metadata": {},
     "output_type": "display_data"
    },
    {
     "data": {
      "text/plain": [
       "(119, 191)"
      ]
     },
     "metadata": {},
     "output_type": "display_data"
    },
    {
     "name": "stdout",
     "output_type": "stream",
     "text": [
      "LumB :  (87, 24370)\n"
     ]
    },
    {
     "data": {
      "text/plain": [
       "(87, 24368)"
      ]
     },
     "metadata": {},
     "output_type": "display_data"
    },
    {
     "data": {
      "text/plain": [
       "(87, 143)"
      ]
     },
     "metadata": {},
     "output_type": "display_data"
    },
    {
     "name": "stdout",
     "output_type": "stream",
     "text": [
      "Her2 :  (29, 24370)\n"
     ]
    },
    {
     "data": {
      "text/plain": [
       "(29, 24368)"
      ]
     },
     "metadata": {},
     "output_type": "display_data"
    },
    {
     "data": {
      "text/plain": [
       "(29, 73)"
      ]
     },
     "metadata": {},
     "output_type": "display_data"
    },
    {
     "name": "stdout",
     "output_type": "stream",
     "text": [
      "Normal :  (27, 24370)\n"
     ]
    },
    {
     "data": {
      "text/plain": [
       "(27, 24368)"
      ]
     },
     "metadata": {},
     "output_type": "display_data"
    },
    {
     "data": {
      "text/plain": [
       "(27, 49)"
      ]
     },
     "metadata": {},
     "output_type": "display_data"
    },
    {
     "name": "stdout",
     "output_type": "stream",
     "text": [
      "Basal :  (8, 24370)\n"
     ]
    },
    {
     "data": {
      "text/plain": [
       "(8, 24368)"
      ]
     },
     "metadata": {},
     "output_type": "display_data"
    },
    {
     "data": {
      "text/plain": [
       "(8, 70)"
      ]
     },
     "metadata": {},
     "output_type": "display_data"
    },
    {
     "name": "stdout",
     "output_type": "stream",
     "text": [
      "ER-_HER2- :  (20, 24370)\n"
     ]
    },
    {
     "data": {
      "text/plain": [
       "(20, 24368)"
      ]
     },
     "metadata": {},
     "output_type": "display_data"
    },
    {
     "data": {
      "text/plain": [
       "(20, 94)"
      ]
     },
     "metadata": {},
     "output_type": "display_data"
    },
    {
     "name": "stdout",
     "output_type": "stream",
     "text": [
      "ER+_HER2-_High_Prolif :  (105, 24370)\n"
     ]
    },
    {
     "data": {
      "text/plain": [
       "(105, 24368)"
      ]
     },
     "metadata": {},
     "output_type": "display_data"
    },
    {
     "data": {
      "text/plain": [
       "(105, 182)"
      ]
     },
     "metadata": {},
     "output_type": "display_data"
    },
    {
     "name": "stdout",
     "output_type": "stream",
     "text": [
      "ER+_HER2-_Low_Prolif :  (114, 24370)\n"
     ]
    },
    {
     "data": {
      "text/plain": [
       "(114, 24368)"
      ]
     },
     "metadata": {},
     "output_type": "display_data"
    },
    {
     "data": {
      "text/plain": [
       "(114, 176)"
      ]
     },
     "metadata": {},
     "output_type": "display_data"
    },
    {
     "name": "stdout",
     "output_type": "stream",
     "text": [
      "HER2+ :  (16, 24370)\n"
     ]
    },
    {
     "data": {
      "text/plain": [
       "(16, 24368)"
      ]
     },
     "metadata": {},
     "output_type": "display_data"
    },
    {
     "data": {
      "text/plain": [
       "(16, 68)"
      ]
     },
     "metadata": {},
     "output_type": "display_data"
    },
    {
     "name": "stdout",
     "output_type": "stream",
     "text": [
      "++++++++++++++++++++++++++++++++++++++++++++++++++++++++++++++++++++++++++++++++++++++++++++++++++++\n",
      "65\n",
      "claudin-low :  (22, 24370)\n"
     ]
    },
    {
     "data": {
      "text/plain": [
       "(22, 24368)"
      ]
     },
     "metadata": {},
     "output_type": "display_data"
    },
    {
     "data": {
      "text/plain": [
       "(22, 64)"
      ]
     },
     "metadata": {},
     "output_type": "display_data"
    },
    {
     "name": "stdout",
     "output_type": "stream",
     "text": [
      "LumA :  (119, 24370)\n"
     ]
    },
    {
     "data": {
      "text/plain": [
       "(119, 24368)"
      ]
     },
     "metadata": {},
     "output_type": "display_data"
    },
    {
     "data": {
      "text/plain": [
       "(119, 199)"
      ]
     },
     "metadata": {},
     "output_type": "display_data"
    },
    {
     "name": "stdout",
     "output_type": "stream",
     "text": [
      "LumB :  (87, 24370)\n"
     ]
    },
    {
     "data": {
      "text/plain": [
       "(87, 24368)"
      ]
     },
     "metadata": {},
     "output_type": "display_data"
    },
    {
     "data": {
      "text/plain": [
       "(87, 149)"
      ]
     },
     "metadata": {},
     "output_type": "display_data"
    },
    {
     "name": "stdout",
     "output_type": "stream",
     "text": [
      "Her2 :  (29, 24370)\n"
     ]
    },
    {
     "data": {
      "text/plain": [
       "(29, 24368)"
      ]
     },
     "metadata": {},
     "output_type": "display_data"
    },
    {
     "data": {
      "text/plain": [
       "(29, 75)"
      ]
     },
     "metadata": {},
     "output_type": "display_data"
    },
    {
     "name": "stdout",
     "output_type": "stream",
     "text": [
      "Normal :  (27, 24370)\n"
     ]
    },
    {
     "data": {
      "text/plain": [
       "(27, 24368)"
      ]
     },
     "metadata": {},
     "output_type": "display_data"
    },
    {
     "data": {
      "text/plain": [
       "(27, 50)"
      ]
     },
     "metadata": {},
     "output_type": "display_data"
    },
    {
     "name": "stdout",
     "output_type": "stream",
     "text": [
      "Basal :  (8, 24370)\n"
     ]
    },
    {
     "data": {
      "text/plain": [
       "(8, 24368)"
      ]
     },
     "metadata": {},
     "output_type": "display_data"
    },
    {
     "data": {
      "text/plain": [
       "(8, 72)"
      ]
     },
     "metadata": {},
     "output_type": "display_data"
    },
    {
     "name": "stdout",
     "output_type": "stream",
     "text": [
      "ER-_HER2- :  (20, 24370)\n"
     ]
    },
    {
     "data": {
      "text/plain": [
       "(20, 24368)"
      ]
     },
     "metadata": {},
     "output_type": "display_data"
    },
    {
     "data": {
      "text/plain": [
       "(20, 97)"
      ]
     },
     "metadata": {},
     "output_type": "display_data"
    },
    {
     "name": "stdout",
     "output_type": "stream",
     "text": [
      "ER+_HER2-_High_Prolif :  (105, 24370)\n"
     ]
    },
    {
     "data": {
      "text/plain": [
       "(105, 24368)"
      ]
     },
     "metadata": {},
     "output_type": "display_data"
    },
    {
     "data": {
      "text/plain": [
       "(105, 189)"
      ]
     },
     "metadata": {},
     "output_type": "display_data"
    },
    {
     "name": "stdout",
     "output_type": "stream",
     "text": [
      "ER+_HER2-_Low_Prolif :  (114, 24370)\n"
     ]
    },
    {
     "data": {
      "text/plain": [
       "(114, 24368)"
      ]
     },
     "metadata": {},
     "output_type": "display_data"
    },
    {
     "data": {
      "text/plain": [
       "(114, 183)"
      ]
     },
     "metadata": {},
     "output_type": "display_data"
    },
    {
     "name": "stdout",
     "output_type": "stream",
     "text": [
      "HER2+ :  (16, 24370)\n"
     ]
    },
    {
     "data": {
      "text/plain": [
       "(16, 24368)"
      ]
     },
     "metadata": {},
     "output_type": "display_data"
    },
    {
     "data": {
      "text/plain": [
       "(16, 71)"
      ]
     },
     "metadata": {},
     "output_type": "display_data"
    },
    {
     "name": "stdout",
     "output_type": "stream",
     "text": [
      "++++++++++++++++++++++++++++++++++++++++++++++++++++++++++++++++++++++++++++++++++++++++++++++++++++\n",
      "66\n",
      "claudin-low :  (22, 24370)\n"
     ]
    },
    {
     "data": {
      "text/plain": [
       "(22, 24368)"
      ]
     },
     "metadata": {},
     "output_type": "display_data"
    },
    {
     "data": {
      "text/plain": [
       "(22, 67)"
      ]
     },
     "metadata": {},
     "output_type": "display_data"
    },
    {
     "name": "stdout",
     "output_type": "stream",
     "text": [
      "LumA :  (119, 24370)\n"
     ]
    },
    {
     "data": {
      "text/plain": [
       "(119, 24368)"
      ]
     },
     "metadata": {},
     "output_type": "display_data"
    },
    {
     "data": {
      "text/plain": [
       "(119, 207)"
      ]
     },
     "metadata": {},
     "output_type": "display_data"
    },
    {
     "name": "stdout",
     "output_type": "stream",
     "text": [
      "LumB :  (87, 24370)\n"
     ]
    },
    {
     "data": {
      "text/plain": [
       "(87, 24368)"
      ]
     },
     "metadata": {},
     "output_type": "display_data"
    },
    {
     "data": {
      "text/plain": [
       "(87, 154)"
      ]
     },
     "metadata": {},
     "output_type": "display_data"
    },
    {
     "name": "stdout",
     "output_type": "stream",
     "text": [
      "Her2 :  (29, 24370)\n"
     ]
    },
    {
     "data": {
      "text/plain": [
       "(29, 24368)"
      ]
     },
     "metadata": {},
     "output_type": "display_data"
    },
    {
     "data": {
      "text/plain": [
       "(29, 78)"
      ]
     },
     "metadata": {},
     "output_type": "display_data"
    },
    {
     "name": "stdout",
     "output_type": "stream",
     "text": [
      "Normal :  (27, 24370)\n"
     ]
    },
    {
     "data": {
      "text/plain": [
       "(27, 24368)"
      ]
     },
     "metadata": {},
     "output_type": "display_data"
    },
    {
     "data": {
      "text/plain": [
       "(27, 52)"
      ]
     },
     "metadata": {},
     "output_type": "display_data"
    },
    {
     "name": "stdout",
     "output_type": "stream",
     "text": [
      "Basal :  (8, 24370)\n"
     ]
    },
    {
     "data": {
      "text/plain": [
       "(8, 24368)"
      ]
     },
     "metadata": {},
     "output_type": "display_data"
    },
    {
     "data": {
      "text/plain": [
       "(8, 75)"
      ]
     },
     "metadata": {},
     "output_type": "display_data"
    },
    {
     "name": "stdout",
     "output_type": "stream",
     "text": [
      "ER-_HER2- :  (20, 24370)\n"
     ]
    },
    {
     "data": {
      "text/plain": [
       "(20, 24368)"
      ]
     },
     "metadata": {},
     "output_type": "display_data"
    },
    {
     "data": {
      "text/plain": [
       "(20, 101)"
      ]
     },
     "metadata": {},
     "output_type": "display_data"
    },
    {
     "name": "stdout",
     "output_type": "stream",
     "text": [
      "ER+_HER2-_High_Prolif :  (105, 24370)\n"
     ]
    },
    {
     "data": {
      "text/plain": [
       "(105, 24368)"
      ]
     },
     "metadata": {},
     "output_type": "display_data"
    },
    {
     "data": {
      "text/plain": [
       "(105, 197)"
      ]
     },
     "metadata": {},
     "output_type": "display_data"
    },
    {
     "name": "stdout",
     "output_type": "stream",
     "text": [
      "ER+_HER2-_Low_Prolif :  (114, 24370)\n"
     ]
    },
    {
     "data": {
      "text/plain": [
       "(114, 24368)"
      ]
     },
     "metadata": {},
     "output_type": "display_data"
    },
    {
     "data": {
      "text/plain": [
       "(114, 191)"
      ]
     },
     "metadata": {},
     "output_type": "display_data"
    },
    {
     "name": "stdout",
     "output_type": "stream",
     "text": [
      "HER2+ :  (16, 24370)\n"
     ]
    },
    {
     "data": {
      "text/plain": [
       "(16, 24368)"
      ]
     },
     "metadata": {},
     "output_type": "display_data"
    },
    {
     "data": {
      "text/plain": [
       "(16, 73)"
      ]
     },
     "metadata": {},
     "output_type": "display_data"
    },
    {
     "name": "stdout",
     "output_type": "stream",
     "text": [
      "++++++++++++++++++++++++++++++++++++++++++++++++++++++++++++++++++++++++++++++++++++++++++++++++++++\n",
      "67\n",
      "claudin-low :  (22, 24370)\n"
     ]
    },
    {
     "data": {
      "text/plain": [
       "(22, 24368)"
      ]
     },
     "metadata": {},
     "output_type": "display_data"
    },
    {
     "data": {
      "text/plain": [
       "(22, 69)"
      ]
     },
     "metadata": {},
     "output_type": "display_data"
    },
    {
     "name": "stdout",
     "output_type": "stream",
     "text": [
      "LumA :  (119, 24370)\n"
     ]
    },
    {
     "data": {
      "text/plain": [
       "(119, 24368)"
      ]
     },
     "metadata": {},
     "output_type": "display_data"
    },
    {
     "data": {
      "text/plain": [
       "(119, 216)"
      ]
     },
     "metadata": {},
     "output_type": "display_data"
    },
    {
     "name": "stdout",
     "output_type": "stream",
     "text": [
      "LumB :  (87, 24370)\n"
     ]
    },
    {
     "data": {
      "text/plain": [
       "(87, 24368)"
      ]
     },
     "metadata": {},
     "output_type": "display_data"
    },
    {
     "data": {
      "text/plain": [
       "(87, 160)"
      ]
     },
     "metadata": {},
     "output_type": "display_data"
    },
    {
     "name": "stdout",
     "output_type": "stream",
     "text": [
      "Her2 :  (29, 24370)\n"
     ]
    },
    {
     "data": {
      "text/plain": [
       "(29, 24368)"
      ]
     },
     "metadata": {},
     "output_type": "display_data"
    },
    {
     "data": {
      "text/plain": [
       "(29, 81)"
      ]
     },
     "metadata": {},
     "output_type": "display_data"
    },
    {
     "name": "stdout",
     "output_type": "stream",
     "text": [
      "Normal :  (27, 24370)\n"
     ]
    },
    {
     "data": {
      "text/plain": [
       "(27, 24368)"
      ]
     },
     "metadata": {},
     "output_type": "display_data"
    },
    {
     "data": {
      "text/plain": [
       "(27, 54)"
      ]
     },
     "metadata": {},
     "output_type": "display_data"
    },
    {
     "name": "stdout",
     "output_type": "stream",
     "text": [
      "Basal :  (8, 24370)\n"
     ]
    },
    {
     "data": {
      "text/plain": [
       "(8, 24368)"
      ]
     },
     "metadata": {},
     "output_type": "display_data"
    },
    {
     "data": {
      "text/plain": [
       "(8, 77)"
      ]
     },
     "metadata": {},
     "output_type": "display_data"
    },
    {
     "name": "stdout",
     "output_type": "stream",
     "text": [
      "ER-_HER2- :  (20, 24370)\n"
     ]
    },
    {
     "data": {
      "text/plain": [
       "(20, 24368)"
      ]
     },
     "metadata": {},
     "output_type": "display_data"
    },
    {
     "data": {
      "text/plain": [
       "(20, 104)"
      ]
     },
     "metadata": {},
     "output_type": "display_data"
    },
    {
     "name": "stdout",
     "output_type": "stream",
     "text": [
      "ER+_HER2-_High_Prolif :  (105, 24370)\n"
     ]
    },
    {
     "data": {
      "text/plain": [
       "(105, 24368)"
      ]
     },
     "metadata": {},
     "output_type": "display_data"
    },
    {
     "data": {
      "text/plain": [
       "(105, 204)"
      ]
     },
     "metadata": {},
     "output_type": "display_data"
    },
    {
     "name": "stdout",
     "output_type": "stream",
     "text": [
      "ER+_HER2-_Low_Prolif :  (114, 24370)\n"
     ]
    },
    {
     "data": {
      "text/plain": [
       "(114, 24368)"
      ]
     },
     "metadata": {},
     "output_type": "display_data"
    },
    {
     "data": {
      "text/plain": [
       "(114, 199)"
      ]
     },
     "metadata": {},
     "output_type": "display_data"
    },
    {
     "name": "stdout",
     "output_type": "stream",
     "text": [
      "HER2+ :  (16, 24370)\n"
     ]
    },
    {
     "data": {
      "text/plain": [
       "(16, 24368)"
      ]
     },
     "metadata": {},
     "output_type": "display_data"
    },
    {
     "data": {
      "text/plain": [
       "(16, 75)"
      ]
     },
     "metadata": {},
     "output_type": "display_data"
    },
    {
     "name": "stdout",
     "output_type": "stream",
     "text": [
      "++++++++++++++++++++++++++++++++++++++++++++++++++++++++++++++++++++++++++++++++++++++++++++++++++++\n",
      "68\n",
      "claudin-low :  (22, 24370)\n"
     ]
    },
    {
     "data": {
      "text/plain": [
       "(22, 24368)"
      ]
     },
     "metadata": {},
     "output_type": "display_data"
    },
    {
     "data": {
      "text/plain": [
       "(22, 72)"
      ]
     },
     "metadata": {},
     "output_type": "display_data"
    },
    {
     "name": "stdout",
     "output_type": "stream",
     "text": [
      "LumA :  (119, 24370)\n"
     ]
    },
    {
     "data": {
      "text/plain": [
       "(119, 24368)"
      ]
     },
     "metadata": {},
     "output_type": "display_data"
    },
    {
     "data": {
      "text/plain": [
       "(119, 225)"
      ]
     },
     "metadata": {},
     "output_type": "display_data"
    },
    {
     "name": "stdout",
     "output_type": "stream",
     "text": [
      "LumB :  (87, 24370)\n"
     ]
    },
    {
     "data": {
      "text/plain": [
       "(87, 24368)"
      ]
     },
     "metadata": {},
     "output_type": "display_data"
    },
    {
     "data": {
      "text/plain": [
       "(87, 166)"
      ]
     },
     "metadata": {},
     "output_type": "display_data"
    },
    {
     "name": "stdout",
     "output_type": "stream",
     "text": [
      "Her2 :  (29, 24370)\n"
     ]
    },
    {
     "data": {
      "text/plain": [
       "(29, 24368)"
      ]
     },
     "metadata": {},
     "output_type": "display_data"
    },
    {
     "data": {
      "text/plain": [
       "(29, 83)"
      ]
     },
     "metadata": {},
     "output_type": "display_data"
    },
    {
     "name": "stdout",
     "output_type": "stream",
     "text": [
      "Normal :  (27, 24370)\n"
     ]
    },
    {
     "data": {
      "text/plain": [
       "(27, 24368)"
      ]
     },
     "metadata": {},
     "output_type": "display_data"
    },
    {
     "data": {
      "text/plain": [
       "(27, 55)"
      ]
     },
     "metadata": {},
     "output_type": "display_data"
    },
    {
     "name": "stdout",
     "output_type": "stream",
     "text": [
      "Basal :  (8, 24370)\n"
     ]
    },
    {
     "data": {
      "text/plain": [
       "(8, 24368)"
      ]
     },
     "metadata": {},
     "output_type": "display_data"
    },
    {
     "data": {
      "text/plain": [
       "(8, 79)"
      ]
     },
     "metadata": {},
     "output_type": "display_data"
    },
    {
     "name": "stdout",
     "output_type": "stream",
     "text": [
      "ER-_HER2- :  (20, 24370)\n"
     ]
    },
    {
     "data": {
      "text/plain": [
       "(20, 24368)"
      ]
     },
     "metadata": {},
     "output_type": "display_data"
    },
    {
     "data": {
      "text/plain": [
       "(20, 108)"
      ]
     },
     "metadata": {},
     "output_type": "display_data"
    },
    {
     "name": "stdout",
     "output_type": "stream",
     "text": [
      "ER+_HER2-_High_Prolif :  (105, 24370)\n"
     ]
    },
    {
     "data": {
      "text/plain": [
       "(105, 24368)"
      ]
     },
     "metadata": {},
     "output_type": "display_data"
    },
    {
     "data": {
      "text/plain": [
       "(105, 212)"
      ]
     },
     "metadata": {},
     "output_type": "display_data"
    },
    {
     "name": "stdout",
     "output_type": "stream",
     "text": [
      "ER+_HER2-_Low_Prolif :  (114, 24370)\n"
     ]
    },
    {
     "data": {
      "text/plain": [
       "(114, 24368)"
      ]
     },
     "metadata": {},
     "output_type": "display_data"
    },
    {
     "data": {
      "text/plain": [
       "(114, 207)"
      ]
     },
     "metadata": {},
     "output_type": "display_data"
    },
    {
     "name": "stdout",
     "output_type": "stream",
     "text": [
      "HER2+ :  (16, 24370)\n"
     ]
    },
    {
     "data": {
      "text/plain": [
       "(16, 24368)"
      ]
     },
     "metadata": {},
     "output_type": "display_data"
    },
    {
     "data": {
      "text/plain": [
       "(16, 77)"
      ]
     },
     "metadata": {},
     "output_type": "display_data"
    },
    {
     "name": "stdout",
     "output_type": "stream",
     "text": [
      "++++++++++++++++++++++++++++++++++++++++++++++++++++++++++++++++++++++++++++++++++++++++++++++++++++\n",
      "69\n",
      "claudin-low :  (22, 24370)\n"
     ]
    },
    {
     "data": {
      "text/plain": [
       "(22, 24368)"
      ]
     },
     "metadata": {},
     "output_type": "display_data"
    },
    {
     "data": {
      "text/plain": [
       "(22, 74)"
      ]
     },
     "metadata": {},
     "output_type": "display_data"
    },
    {
     "name": "stdout",
     "output_type": "stream",
     "text": [
      "LumA :  (119, 24370)\n"
     ]
    },
    {
     "data": {
      "text/plain": [
       "(119, 24368)"
      ]
     },
     "metadata": {},
     "output_type": "display_data"
    },
    {
     "data": {
      "text/plain": [
       "(119, 234)"
      ]
     },
     "metadata": {},
     "output_type": "display_data"
    },
    {
     "name": "stdout",
     "output_type": "stream",
     "text": [
      "LumB :  (87, 24370)\n"
     ]
    },
    {
     "data": {
      "text/plain": [
       "(87, 24368)"
      ]
     },
     "metadata": {},
     "output_type": "display_data"
    },
    {
     "data": {
      "text/plain": [
       "(87, 172)"
      ]
     },
     "metadata": {},
     "output_type": "display_data"
    },
    {
     "name": "stdout",
     "output_type": "stream",
     "text": [
      "Her2 :  (29, 24370)\n"
     ]
    },
    {
     "data": {
      "text/plain": [
       "(29, 24368)"
      ]
     },
     "metadata": {},
     "output_type": "display_data"
    },
    {
     "data": {
      "text/plain": [
       "(29, 86)"
      ]
     },
     "metadata": {},
     "output_type": "display_data"
    },
    {
     "name": "stdout",
     "output_type": "stream",
     "text": [
      "Normal :  (27, 24370)\n"
     ]
    },
    {
     "data": {
      "text/plain": [
       "(27, 24368)"
      ]
     },
     "metadata": {},
     "output_type": "display_data"
    },
    {
     "data": {
      "text/plain": [
       "(27, 57)"
      ]
     },
     "metadata": {},
     "output_type": "display_data"
    },
    {
     "name": "stdout",
     "output_type": "stream",
     "text": [
      "Basal :  (8, 24370)\n"
     ]
    },
    {
     "data": {
      "text/plain": [
       "(8, 24368)"
      ]
     },
     "metadata": {},
     "output_type": "display_data"
    },
    {
     "data": {
      "text/plain": [
       "(8, 82)"
      ]
     },
     "metadata": {},
     "output_type": "display_data"
    },
    {
     "name": "stdout",
     "output_type": "stream",
     "text": [
      "ER-_HER2- :  (20, 24370)\n"
     ]
    },
    {
     "data": {
      "text/plain": [
       "(20, 24368)"
      ]
     },
     "metadata": {},
     "output_type": "display_data"
    },
    {
     "data": {
      "text/plain": [
       "(20, 112)"
      ]
     },
     "metadata": {},
     "output_type": "display_data"
    },
    {
     "name": "stdout",
     "output_type": "stream",
     "text": [
      "ER+_HER2-_High_Prolif :  (105, 24370)\n"
     ]
    },
    {
     "data": {
      "text/plain": [
       "(105, 24368)"
      ]
     },
     "metadata": {},
     "output_type": "display_data"
    },
    {
     "data": {
      "text/plain": [
       "(105, 220)"
      ]
     },
     "metadata": {},
     "output_type": "display_data"
    },
    {
     "name": "stdout",
     "output_type": "stream",
     "text": [
      "ER+_HER2-_Low_Prolif :  (114, 24370)\n"
     ]
    },
    {
     "data": {
      "text/plain": [
       "(114, 24368)"
      ]
     },
     "metadata": {},
     "output_type": "display_data"
    },
    {
     "data": {
      "text/plain": [
       "(114, 215)"
      ]
     },
     "metadata": {},
     "output_type": "display_data"
    },
    {
     "name": "stdout",
     "output_type": "stream",
     "text": [
      "HER2+ :  (16, 24370)\n"
     ]
    },
    {
     "data": {
      "text/plain": [
       "(16, 24368)"
      ]
     },
     "metadata": {},
     "output_type": "display_data"
    },
    {
     "data": {
      "text/plain": [
       "(16, 80)"
      ]
     },
     "metadata": {},
     "output_type": "display_data"
    },
    {
     "name": "stdout",
     "output_type": "stream",
     "text": [
      "++++++++++++++++++++++++++++++++++++++++++++++++++++++++++++++++++++++++++++++++++++++++++++++++++++\n",
      "70\n",
      "claudin-low :  (22, 24370)\n"
     ]
    },
    {
     "data": {
      "text/plain": [
       "(22, 24368)"
      ]
     },
     "metadata": {},
     "output_type": "display_data"
    },
    {
     "data": {
      "text/plain": [
       "(22, 77)"
      ]
     },
     "metadata": {},
     "output_type": "display_data"
    },
    {
     "name": "stdout",
     "output_type": "stream",
     "text": [
      "LumA :  (119, 24370)\n"
     ]
    },
    {
     "data": {
      "text/plain": [
       "(119, 24368)"
      ]
     },
     "metadata": {},
     "output_type": "display_data"
    },
    {
     "data": {
      "text/plain": [
       "(119, 243)"
      ]
     },
     "metadata": {},
     "output_type": "display_data"
    },
    {
     "name": "stdout",
     "output_type": "stream",
     "text": [
      "LumB :  (87, 24370)\n"
     ]
    },
    {
     "data": {
      "text/plain": [
       "(87, 24368)"
      ]
     },
     "metadata": {},
     "output_type": "display_data"
    },
    {
     "data": {
      "text/plain": [
       "(87, 178)"
      ]
     },
     "metadata": {},
     "output_type": "display_data"
    },
    {
     "name": "stdout",
     "output_type": "stream",
     "text": [
      "Her2 :  (29, 24370)\n"
     ]
    },
    {
     "data": {
      "text/plain": [
       "(29, 24368)"
      ]
     },
     "metadata": {},
     "output_type": "display_data"
    },
    {
     "data": {
      "text/plain": [
       "(29, 89)"
      ]
     },
     "metadata": {},
     "output_type": "display_data"
    },
    {
     "name": "stdout",
     "output_type": "stream",
     "text": [
      "Normal :  (27, 24370)\n"
     ]
    },
    {
     "data": {
      "text/plain": [
       "(27, 24368)"
      ]
     },
     "metadata": {},
     "output_type": "display_data"
    },
    {
     "data": {
      "text/plain": [
       "(27, 59)"
      ]
     },
     "metadata": {},
     "output_type": "display_data"
    },
    {
     "name": "stdout",
     "output_type": "stream",
     "text": [
      "Basal :  (8, 24370)\n"
     ]
    },
    {
     "data": {
      "text/plain": [
       "(8, 24368)"
      ]
     },
     "metadata": {},
     "output_type": "display_data"
    },
    {
     "data": {
      "text/plain": [
       "(8, 84)"
      ]
     },
     "metadata": {},
     "output_type": "display_data"
    },
    {
     "name": "stdout",
     "output_type": "stream",
     "text": [
      "ER-_HER2- :  (20, 24370)\n"
     ]
    },
    {
     "data": {
      "text/plain": [
       "(20, 24368)"
      ]
     },
     "metadata": {},
     "output_type": "display_data"
    },
    {
     "data": {
      "text/plain": [
       "(20, 115)"
      ]
     },
     "metadata": {},
     "output_type": "display_data"
    },
    {
     "name": "stdout",
     "output_type": "stream",
     "text": [
      "ER+_HER2-_High_Prolif :  (105, 24370)\n"
     ]
    },
    {
     "data": {
      "text/plain": [
       "(105, 24368)"
      ]
     },
     "metadata": {},
     "output_type": "display_data"
    },
    {
     "data": {
      "text/plain": [
       "(105, 228)"
      ]
     },
     "metadata": {},
     "output_type": "display_data"
    },
    {
     "name": "stdout",
     "output_type": "stream",
     "text": [
      "ER+_HER2-_Low_Prolif :  (114, 24370)\n"
     ]
    },
    {
     "data": {
      "text/plain": [
       "(114, 24368)"
      ]
     },
     "metadata": {},
     "output_type": "display_data"
    },
    {
     "data": {
      "text/plain": [
       "(114, 223)"
      ]
     },
     "metadata": {},
     "output_type": "display_data"
    },
    {
     "name": "stdout",
     "output_type": "stream",
     "text": [
      "HER2+ :  (16, 24370)\n"
     ]
    },
    {
     "data": {
      "text/plain": [
       "(16, 24368)"
      ]
     },
     "metadata": {},
     "output_type": "display_data"
    },
    {
     "data": {
      "text/plain": [
       "(16, 82)"
      ]
     },
     "metadata": {},
     "output_type": "display_data"
    },
    {
     "name": "stdout",
     "output_type": "stream",
     "text": [
      "++++++++++++++++++++++++++++++++++++++++++++++++++++++++++++++++++++++++++++++++++++++++++++++++++++\n",
      "71\n",
      "claudin-low :  (22, 24370)\n"
     ]
    },
    {
     "data": {
      "text/plain": [
       "(22, 24368)"
      ]
     },
     "metadata": {},
     "output_type": "display_data"
    },
    {
     "data": {
      "text/plain": [
       "(22, 79)"
      ]
     },
     "metadata": {},
     "output_type": "display_data"
    },
    {
     "name": "stdout",
     "output_type": "stream",
     "text": [
      "LumA :  (119, 24370)\n"
     ]
    },
    {
     "data": {
      "text/plain": [
       "(119, 24368)"
      ]
     },
     "metadata": {},
     "output_type": "display_data"
    },
    {
     "data": {
      "text/plain": [
       "(119, 252)"
      ]
     },
     "metadata": {},
     "output_type": "display_data"
    },
    {
     "name": "stdout",
     "output_type": "stream",
     "text": [
      "LumB :  (87, 24370)\n"
     ]
    },
    {
     "data": {
      "text/plain": [
       "(87, 24368)"
      ]
     },
     "metadata": {},
     "output_type": "display_data"
    },
    {
     "data": {
      "text/plain": [
       "(87, 184)"
      ]
     },
     "metadata": {},
     "output_type": "display_data"
    },
    {
     "name": "stdout",
     "output_type": "stream",
     "text": [
      "Her2 :  (29, 24370)\n"
     ]
    },
    {
     "data": {
      "text/plain": [
       "(29, 24368)"
      ]
     },
     "metadata": {},
     "output_type": "display_data"
    },
    {
     "data": {
      "text/plain": [
       "(29, 92)"
      ]
     },
     "metadata": {},
     "output_type": "display_data"
    },
    {
     "name": "stdout",
     "output_type": "stream",
     "text": [
      "Normal :  (27, 24370)\n"
     ]
    },
    {
     "data": {
      "text/plain": [
       "(27, 24368)"
      ]
     },
     "metadata": {},
     "output_type": "display_data"
    },
    {
     "data": {
      "text/plain": [
       "(27, 60)"
      ]
     },
     "metadata": {},
     "output_type": "display_data"
    },
    {
     "name": "stdout",
     "output_type": "stream",
     "text": [
      "Basal :  (8, 24370)\n"
     ]
    },
    {
     "data": {
      "text/plain": [
       "(8, 24368)"
      ]
     },
     "metadata": {},
     "output_type": "display_data"
    },
    {
     "data": {
      "text/plain": [
       "(8, 87)"
      ]
     },
     "metadata": {},
     "output_type": "display_data"
    },
    {
     "name": "stdout",
     "output_type": "stream",
     "text": [
      "ER-_HER2- :  (20, 24370)\n"
     ]
    },
    {
     "data": {
      "text/plain": [
       "(20, 24368)"
      ]
     },
     "metadata": {},
     "output_type": "display_data"
    },
    {
     "data": {
      "text/plain": [
       "(20, 119)"
      ]
     },
     "metadata": {},
     "output_type": "display_data"
    },
    {
     "name": "stdout",
     "output_type": "stream",
     "text": [
      "ER+_HER2-_High_Prolif :  (105, 24370)\n"
     ]
    },
    {
     "data": {
      "text/plain": [
       "(105, 24368)"
      ]
     },
     "metadata": {},
     "output_type": "display_data"
    },
    {
     "data": {
      "text/plain": [
       "(105, 236)"
      ]
     },
     "metadata": {},
     "output_type": "display_data"
    },
    {
     "name": "stdout",
     "output_type": "stream",
     "text": [
      "ER+_HER2-_Low_Prolif :  (114, 24370)\n"
     ]
    },
    {
     "data": {
      "text/plain": [
       "(114, 24368)"
      ]
     },
     "metadata": {},
     "output_type": "display_data"
    },
    {
     "data": {
      "text/plain": [
       "(114, 232)"
      ]
     },
     "metadata": {},
     "output_type": "display_data"
    },
    {
     "name": "stdout",
     "output_type": "stream",
     "text": [
      "HER2+ :  (16, 24370)\n"
     ]
    },
    {
     "data": {
      "text/plain": [
       "(16, 24368)"
      ]
     },
     "metadata": {},
     "output_type": "display_data"
    },
    {
     "data": {
      "text/plain": [
       "(16, 84)"
      ]
     },
     "metadata": {},
     "output_type": "display_data"
    },
    {
     "name": "stdout",
     "output_type": "stream",
     "text": [
      "++++++++++++++++++++++++++++++++++++++++++++++++++++++++++++++++++++++++++++++++++++++++++++++++++++\n",
      "72\n",
      "claudin-low :  (22, 24370)\n"
     ]
    },
    {
     "data": {
      "text/plain": [
       "(22, 24368)"
      ]
     },
     "metadata": {},
     "output_type": "display_data"
    },
    {
     "data": {
      "text/plain": [
       "(22, 82)"
      ]
     },
     "metadata": {},
     "output_type": "display_data"
    },
    {
     "name": "stdout",
     "output_type": "stream",
     "text": [
      "LumA :  (119, 24370)\n"
     ]
    },
    {
     "data": {
      "text/plain": [
       "(119, 24368)"
      ]
     },
     "metadata": {},
     "output_type": "display_data"
    },
    {
     "data": {
      "text/plain": [
       "(119, 261)"
      ]
     },
     "metadata": {},
     "output_type": "display_data"
    },
    {
     "name": "stdout",
     "output_type": "stream",
     "text": [
      "LumB :  (87, 24370)\n"
     ]
    },
    {
     "data": {
      "text/plain": [
       "(87, 24368)"
      ]
     },
     "metadata": {},
     "output_type": "display_data"
    },
    {
     "data": {
      "text/plain": [
       "(87, 190)"
      ]
     },
     "metadata": {},
     "output_type": "display_data"
    },
    {
     "name": "stdout",
     "output_type": "stream",
     "text": [
      "Her2 :  (29, 24370)\n"
     ]
    },
    {
     "data": {
      "text/plain": [
       "(29, 24368)"
      ]
     },
     "metadata": {},
     "output_type": "display_data"
    },
    {
     "data": {
      "text/plain": [
       "(29, 95)"
      ]
     },
     "metadata": {},
     "output_type": "display_data"
    },
    {
     "name": "stdout",
     "output_type": "stream",
     "text": [
      "Normal :  (27, 24370)\n"
     ]
    },
    {
     "data": {
      "text/plain": [
       "(27, 24368)"
      ]
     },
     "metadata": {},
     "output_type": "display_data"
    },
    {
     "data": {
      "text/plain": [
       "(27, 62)"
      ]
     },
     "metadata": {},
     "output_type": "display_data"
    },
    {
     "name": "stdout",
     "output_type": "stream",
     "text": [
      "Basal :  (8, 24370)\n"
     ]
    },
    {
     "data": {
      "text/plain": [
       "(8, 24368)"
      ]
     },
     "metadata": {},
     "output_type": "display_data"
    },
    {
     "data": {
      "text/plain": [
       "(8, 89)"
      ]
     },
     "metadata": {},
     "output_type": "display_data"
    },
    {
     "name": "stdout",
     "output_type": "stream",
     "text": [
      "ER-_HER2- :  (20, 24370)\n"
     ]
    },
    {
     "data": {
      "text/plain": [
       "(20, 24368)"
      ]
     },
     "metadata": {},
     "output_type": "display_data"
    },
    {
     "data": {
      "text/plain": [
       "(20, 123)"
      ]
     },
     "metadata": {},
     "output_type": "display_data"
    },
    {
     "name": "stdout",
     "output_type": "stream",
     "text": [
      "ER+_HER2-_High_Prolif :  (105, 24370)\n"
     ]
    },
    {
     "data": {
      "text/plain": [
       "(105, 24368)"
      ]
     },
     "metadata": {},
     "output_type": "display_data"
    },
    {
     "data": {
      "text/plain": [
       "(105, 244)"
      ]
     },
     "metadata": {},
     "output_type": "display_data"
    },
    {
     "name": "stdout",
     "output_type": "stream",
     "text": [
      "ER+_HER2-_Low_Prolif :  (114, 24370)\n"
     ]
    },
    {
     "data": {
      "text/plain": [
       "(114, 24368)"
      ]
     },
     "metadata": {},
     "output_type": "display_data"
    },
    {
     "data": {
      "text/plain": [
       "(114, 240)"
      ]
     },
     "metadata": {},
     "output_type": "display_data"
    },
    {
     "name": "stdout",
     "output_type": "stream",
     "text": [
      "HER2+ :  (16, 24370)\n"
     ]
    },
    {
     "data": {
      "text/plain": [
       "(16, 24368)"
      ]
     },
     "metadata": {},
     "output_type": "display_data"
    },
    {
     "data": {
      "text/plain": [
       "(16, 87)"
      ]
     },
     "metadata": {},
     "output_type": "display_data"
    },
    {
     "name": "stdout",
     "output_type": "stream",
     "text": [
      "++++++++++++++++++++++++++++++++++++++++++++++++++++++++++++++++++++++++++++++++++++++++++++++++++++\n",
      "73\n",
      "claudin-low :  (22, 24370)\n"
     ]
    },
    {
     "data": {
      "text/plain": [
       "(22, 24368)"
      ]
     },
     "metadata": {},
     "output_type": "display_data"
    },
    {
     "data": {
      "text/plain": [
       "(22, 85)"
      ]
     },
     "metadata": {},
     "output_type": "display_data"
    },
    {
     "name": "stdout",
     "output_type": "stream",
     "text": [
      "LumA :  (119, 24370)\n"
     ]
    },
    {
     "data": {
      "text/plain": [
       "(119, 24368)"
      ]
     },
     "metadata": {},
     "output_type": "display_data"
    },
    {
     "data": {
      "text/plain": [
       "(119, 271)"
      ]
     },
     "metadata": {},
     "output_type": "display_data"
    },
    {
     "name": "stdout",
     "output_type": "stream",
     "text": [
      "LumB :  (87, 24370)\n"
     ]
    },
    {
     "data": {
      "text/plain": [
       "(87, 24368)"
      ]
     },
     "metadata": {},
     "output_type": "display_data"
    },
    {
     "data": {
      "text/plain": [
       "(87, 197)"
      ]
     },
     "metadata": {},
     "output_type": "display_data"
    },
    {
     "name": "stdout",
     "output_type": "stream",
     "text": [
      "Her2 :  (29, 24370)\n"
     ]
    },
    {
     "data": {
      "text/plain": [
       "(29, 24368)"
      ]
     },
     "metadata": {},
     "output_type": "display_data"
    },
    {
     "data": {
      "text/plain": [
       "(29, 98)"
      ]
     },
     "metadata": {},
     "output_type": "display_data"
    },
    {
     "name": "stdout",
     "output_type": "stream",
     "text": [
      "Normal :  (27, 24370)\n"
     ]
    },
    {
     "data": {
      "text/plain": [
       "(27, 24368)"
      ]
     },
     "metadata": {},
     "output_type": "display_data"
    },
    {
     "data": {
      "text/plain": [
       "(27, 64)"
      ]
     },
     "metadata": {},
     "output_type": "display_data"
    },
    {
     "name": "stdout",
     "output_type": "stream",
     "text": [
      "Basal :  (8, 24370)\n"
     ]
    },
    {
     "data": {
      "text/plain": [
       "(8, 24368)"
      ]
     },
     "metadata": {},
     "output_type": "display_data"
    },
    {
     "data": {
      "text/plain": [
       "(8, 92)"
      ]
     },
     "metadata": {},
     "output_type": "display_data"
    },
    {
     "name": "stdout",
     "output_type": "stream",
     "text": [
      "ER-_HER2- :  (20, 24370)\n"
     ]
    },
    {
     "data": {
      "text/plain": [
       "(20, 24368)"
      ]
     },
     "metadata": {},
     "output_type": "display_data"
    },
    {
     "data": {
      "text/plain": [
       "(20, 127)"
      ]
     },
     "metadata": {},
     "output_type": "display_data"
    },
    {
     "name": "stdout",
     "output_type": "stream",
     "text": [
      "ER+_HER2-_High_Prolif :  (105, 24370)\n"
     ]
    },
    {
     "data": {
      "text/plain": [
       "(105, 24368)"
      ]
     },
     "metadata": {},
     "output_type": "display_data"
    },
    {
     "data": {
      "text/plain": [
       "(105, 252)"
      ]
     },
     "metadata": {},
     "output_type": "display_data"
    },
    {
     "name": "stdout",
     "output_type": "stream",
     "text": [
      "ER+_HER2-_Low_Prolif :  (114, 24370)\n"
     ]
    },
    {
     "data": {
      "text/plain": [
       "(114, 24368)"
      ]
     },
     "metadata": {},
     "output_type": "display_data"
    },
    {
     "data": {
      "text/plain": [
       "(114, 249)"
      ]
     },
     "metadata": {},
     "output_type": "display_data"
    },
    {
     "name": "stdout",
     "output_type": "stream",
     "text": [
      "HER2+ :  (16, 24370)\n"
     ]
    },
    {
     "data": {
      "text/plain": [
       "(16, 24368)"
      ]
     },
     "metadata": {},
     "output_type": "display_data"
    },
    {
     "data": {
      "text/plain": [
       "(16, 89)"
      ]
     },
     "metadata": {},
     "output_type": "display_data"
    },
    {
     "name": "stdout",
     "output_type": "stream",
     "text": [
      "++++++++++++++++++++++++++++++++++++++++++++++++++++++++++++++++++++++++++++++++++++++++++++++++++++\n",
      "74\n",
      "claudin-low :  (22, 24370)\n"
     ]
    },
    {
     "data": {
      "text/plain": [
       "(22, 24368)"
      ]
     },
     "metadata": {},
     "output_type": "display_data"
    },
    {
     "data": {
      "text/plain": [
       "(22, 87)"
      ]
     },
     "metadata": {},
     "output_type": "display_data"
    },
    {
     "name": "stdout",
     "output_type": "stream",
     "text": [
      "LumA :  (119, 24370)\n"
     ]
    },
    {
     "data": {
      "text/plain": [
       "(119, 24368)"
      ]
     },
     "metadata": {},
     "output_type": "display_data"
    },
    {
     "data": {
      "text/plain": [
       "(119, 280)"
      ]
     },
     "metadata": {},
     "output_type": "display_data"
    },
    {
     "name": "stdout",
     "output_type": "stream",
     "text": [
      "LumB :  (87, 24370)\n"
     ]
    },
    {
     "data": {
      "text/plain": [
       "(87, 24368)"
      ]
     },
     "metadata": {},
     "output_type": "display_data"
    },
    {
     "data": {
      "text/plain": [
       "(87, 203)"
      ]
     },
     "metadata": {},
     "output_type": "display_data"
    },
    {
     "name": "stdout",
     "output_type": "stream",
     "text": [
      "Her2 :  (29, 24370)\n"
     ]
    },
    {
     "data": {
      "text/plain": [
       "(29, 24368)"
      ]
     },
     "metadata": {},
     "output_type": "display_data"
    },
    {
     "data": {
      "text/plain": [
       "(29, 100)"
      ]
     },
     "metadata": {},
     "output_type": "display_data"
    },
    {
     "name": "stdout",
     "output_type": "stream",
     "text": [
      "Normal :  (27, 24370)\n"
     ]
    },
    {
     "data": {
      "text/plain": [
       "(27, 24368)"
      ]
     },
     "metadata": {},
     "output_type": "display_data"
    },
    {
     "data": {
      "text/plain": [
       "(27, 66)"
      ]
     },
     "metadata": {},
     "output_type": "display_data"
    },
    {
     "name": "stdout",
     "output_type": "stream",
     "text": [
      "Basal :  (8, 24370)\n"
     ]
    },
    {
     "data": {
      "text/plain": [
       "(8, 24368)"
      ]
     },
     "metadata": {},
     "output_type": "display_data"
    },
    {
     "data": {
      "text/plain": [
       "(8, 95)"
      ]
     },
     "metadata": {},
     "output_type": "display_data"
    },
    {
     "name": "stdout",
     "output_type": "stream",
     "text": [
      "ER-_HER2- :  (20, 24370)\n"
     ]
    },
    {
     "data": {
      "text/plain": [
       "(20, 24368)"
      ]
     },
     "metadata": {},
     "output_type": "display_data"
    },
    {
     "data": {
      "text/plain": [
       "(20, 131)"
      ]
     },
     "metadata": {},
     "output_type": "display_data"
    },
    {
     "name": "stdout",
     "output_type": "stream",
     "text": [
      "ER+_HER2-_High_Prolif :  (105, 24370)\n"
     ]
    },
    {
     "data": {
      "text/plain": [
       "(105, 24368)"
      ]
     },
     "metadata": {},
     "output_type": "display_data"
    },
    {
     "data": {
      "text/plain": [
       "(105, 261)"
      ]
     },
     "metadata": {},
     "output_type": "display_data"
    },
    {
     "name": "stdout",
     "output_type": "stream",
     "text": [
      "ER+_HER2-_Low_Prolif :  (114, 24370)\n"
     ]
    },
    {
     "data": {
      "text/plain": [
       "(114, 24368)"
      ]
     },
     "metadata": {},
     "output_type": "display_data"
    },
    {
     "data": {
      "text/plain": [
       "(114, 258)"
      ]
     },
     "metadata": {},
     "output_type": "display_data"
    },
    {
     "name": "stdout",
     "output_type": "stream",
     "text": [
      "HER2+ :  (16, 24370)\n"
     ]
    },
    {
     "data": {
      "text/plain": [
       "(16, 24368)"
      ]
     },
     "metadata": {},
     "output_type": "display_data"
    },
    {
     "data": {
      "text/plain": [
       "(16, 91)"
      ]
     },
     "metadata": {},
     "output_type": "display_data"
    },
    {
     "name": "stdout",
     "output_type": "stream",
     "text": [
      "++++++++++++++++++++++++++++++++++++++++++++++++++++++++++++++++++++++++++++++++++++++++++++++++++++\n",
      "75\n",
      "claudin-low :  (22, 24370)\n"
     ]
    },
    {
     "data": {
      "text/plain": [
       "(22, 24368)"
      ]
     },
     "metadata": {},
     "output_type": "display_data"
    },
    {
     "data": {
      "text/plain": [
       "(22, 90)"
      ]
     },
     "metadata": {},
     "output_type": "display_data"
    },
    {
     "name": "stdout",
     "output_type": "stream",
     "text": [
      "LumA :  (119, 24370)\n"
     ]
    },
    {
     "data": {
      "text/plain": [
       "(119, 24368)"
      ]
     },
     "metadata": {},
     "output_type": "display_data"
    },
    {
     "data": {
      "text/plain": [
       "(119, 290)"
      ]
     },
     "metadata": {},
     "output_type": "display_data"
    },
    {
     "name": "stdout",
     "output_type": "stream",
     "text": [
      "LumB :  (87, 24370)\n"
     ]
    },
    {
     "data": {
      "text/plain": [
       "(87, 24368)"
      ]
     },
     "metadata": {},
     "output_type": "display_data"
    },
    {
     "data": {
      "text/plain": [
       "(87, 209)"
      ]
     },
     "metadata": {},
     "output_type": "display_data"
    },
    {
     "name": "stdout",
     "output_type": "stream",
     "text": [
      "Her2 :  (29, 24370)\n"
     ]
    },
    {
     "data": {
      "text/plain": [
       "(29, 24368)"
      ]
     },
     "metadata": {},
     "output_type": "display_data"
    },
    {
     "data": {
      "text/plain": [
       "(29, 103)"
      ]
     },
     "metadata": {},
     "output_type": "display_data"
    },
    {
     "name": "stdout",
     "output_type": "stream",
     "text": [
      "Normal :  (27, 24370)\n"
     ]
    },
    {
     "data": {
      "text/plain": [
       "(27, 24368)"
      ]
     },
     "metadata": {},
     "output_type": "display_data"
    },
    {
     "data": {
      "text/plain": [
       "(27, 68)"
      ]
     },
     "metadata": {},
     "output_type": "display_data"
    },
    {
     "name": "stdout",
     "output_type": "stream",
     "text": [
      "Basal :  (8, 24370)\n"
     ]
    },
    {
     "data": {
      "text/plain": [
       "(8, 24368)"
      ]
     },
     "metadata": {},
     "output_type": "display_data"
    },
    {
     "data": {
      "text/plain": [
       "(8, 97)"
      ]
     },
     "metadata": {},
     "output_type": "display_data"
    },
    {
     "name": "stdout",
     "output_type": "stream",
     "text": [
      "ER-_HER2- :  (20, 24370)\n"
     ]
    },
    {
     "data": {
      "text/plain": [
       "(20, 24368)"
      ]
     },
     "metadata": {},
     "output_type": "display_data"
    },
    {
     "data": {
      "text/plain": [
       "(20, 135)"
      ]
     },
     "metadata": {},
     "output_type": "display_data"
    },
    {
     "name": "stdout",
     "output_type": "stream",
     "text": [
      "ER+_HER2-_High_Prolif :  (105, 24370)\n"
     ]
    },
    {
     "data": {
      "text/plain": [
       "(105, 24368)"
      ]
     },
     "metadata": {},
     "output_type": "display_data"
    },
    {
     "data": {
      "text/plain": [
       "(105, 269)"
      ]
     },
     "metadata": {},
     "output_type": "display_data"
    },
    {
     "name": "stdout",
     "output_type": "stream",
     "text": [
      "ER+_HER2-_Low_Prolif :  (114, 24370)\n"
     ]
    },
    {
     "data": {
      "text/plain": [
       "(114, 24368)"
      ]
     },
     "metadata": {},
     "output_type": "display_data"
    },
    {
     "data": {
      "text/plain": [
       "(114, 267)"
      ]
     },
     "metadata": {},
     "output_type": "display_data"
    },
    {
     "name": "stdout",
     "output_type": "stream",
     "text": [
      "HER2+ :  (16, 24370)\n"
     ]
    },
    {
     "data": {
      "text/plain": [
       "(16, 24368)"
      ]
     },
     "metadata": {},
     "output_type": "display_data"
    },
    {
     "data": {
      "text/plain": [
       "(16, 94)"
      ]
     },
     "metadata": {},
     "output_type": "display_data"
    },
    {
     "name": "stdout",
     "output_type": "stream",
     "text": [
      "++++++++++++++++++++++++++++++++++++++++++++++++++++++++++++++++++++++++++++++++++++++++++++++++++++\n",
      "76\n",
      "claudin-low :  (22, 24370)\n"
     ]
    },
    {
     "data": {
      "text/plain": [
       "(22, 24368)"
      ]
     },
     "metadata": {},
     "output_type": "display_data"
    },
    {
     "data": {
      "text/plain": [
       "(22, 93)"
      ]
     },
     "metadata": {},
     "output_type": "display_data"
    },
    {
     "name": "stdout",
     "output_type": "stream",
     "text": [
      "LumA :  (119, 24370)\n"
     ]
    },
    {
     "data": {
      "text/plain": [
       "(119, 24368)"
      ]
     },
     "metadata": {},
     "output_type": "display_data"
    },
    {
     "data": {
      "text/plain": [
       "(119, 300)"
      ]
     },
     "metadata": {},
     "output_type": "display_data"
    },
    {
     "name": "stdout",
     "output_type": "stream",
     "text": [
      "LumB :  (87, 24370)\n"
     ]
    },
    {
     "data": {
      "text/plain": [
       "(87, 24368)"
      ]
     },
     "metadata": {},
     "output_type": "display_data"
    },
    {
     "data": {
      "text/plain": [
       "(87, 216)"
      ]
     },
     "metadata": {},
     "output_type": "display_data"
    },
    {
     "name": "stdout",
     "output_type": "stream",
     "text": [
      "Her2 :  (29, 24370)\n"
     ]
    },
    {
     "data": {
      "text/plain": [
       "(29, 24368)"
      ]
     },
     "metadata": {},
     "output_type": "display_data"
    },
    {
     "data": {
      "text/plain": [
       "(29, 107)"
      ]
     },
     "metadata": {},
     "output_type": "display_data"
    },
    {
     "name": "stdout",
     "output_type": "stream",
     "text": [
      "Normal :  (27, 24370)\n"
     ]
    },
    {
     "data": {
      "text/plain": [
       "(27, 24368)"
      ]
     },
     "metadata": {},
     "output_type": "display_data"
    },
    {
     "data": {
      "text/plain": [
       "(27, 70)"
      ]
     },
     "metadata": {},
     "output_type": "display_data"
    },
    {
     "name": "stdout",
     "output_type": "stream",
     "text": [
      "Basal :  (8, 24370)\n"
     ]
    },
    {
     "data": {
      "text/plain": [
       "(8, 24368)"
      ]
     },
     "metadata": {},
     "output_type": "display_data"
    },
    {
     "data": {
      "text/plain": [
       "(8, 100)"
      ]
     },
     "metadata": {},
     "output_type": "display_data"
    },
    {
     "name": "stdout",
     "output_type": "stream",
     "text": [
      "ER-_HER2- :  (20, 24370)\n"
     ]
    },
    {
     "data": {
      "text/plain": [
       "(20, 24368)"
      ]
     },
     "metadata": {},
     "output_type": "display_data"
    },
    {
     "data": {
      "text/plain": [
       "(20, 139)"
      ]
     },
     "metadata": {},
     "output_type": "display_data"
    },
    {
     "name": "stdout",
     "output_type": "stream",
     "text": [
      "ER+_HER2-_High_Prolif :  (105, 24370)\n"
     ]
    },
    {
     "data": {
      "text/plain": [
       "(105, 24368)"
      ]
     },
     "metadata": {},
     "output_type": "display_data"
    },
    {
     "data": {
      "text/plain": [
       "(105, 278)"
      ]
     },
     "metadata": {},
     "output_type": "display_data"
    },
    {
     "name": "stdout",
     "output_type": "stream",
     "text": [
      "ER+_HER2-_Low_Prolif :  (114, 24370)\n"
     ]
    },
    {
     "data": {
      "text/plain": [
       "(114, 24368)"
      ]
     },
     "metadata": {},
     "output_type": "display_data"
    },
    {
     "data": {
      "text/plain": [
       "(114, 276)"
      ]
     },
     "metadata": {},
     "output_type": "display_data"
    },
    {
     "name": "stdout",
     "output_type": "stream",
     "text": [
      "HER2+ :  (16, 24370)\n"
     ]
    },
    {
     "data": {
      "text/plain": [
       "(16, 24368)"
      ]
     },
     "metadata": {},
     "output_type": "display_data"
    },
    {
     "data": {
      "text/plain": [
       "(16, 96)"
      ]
     },
     "metadata": {},
     "output_type": "display_data"
    },
    {
     "name": "stdout",
     "output_type": "stream",
     "text": [
      "++++++++++++++++++++++++++++++++++++++++++++++++++++++++++++++++++++++++++++++++++++++++++++++++++++\n",
      "77\n",
      "claudin-low :  (22, 24370)\n"
     ]
    },
    {
     "data": {
      "text/plain": [
       "(22, 24368)"
      ]
     },
     "metadata": {},
     "output_type": "display_data"
    },
    {
     "data": {
      "text/plain": [
       "(22, 96)"
      ]
     },
     "metadata": {},
     "output_type": "display_data"
    },
    {
     "name": "stdout",
     "output_type": "stream",
     "text": [
      "LumA :  (119, 24370)\n"
     ]
    },
    {
     "data": {
      "text/plain": [
       "(119, 24368)"
      ]
     },
     "metadata": {},
     "output_type": "display_data"
    },
    {
     "data": {
      "text/plain": [
       "(119, 310)"
      ]
     },
     "metadata": {},
     "output_type": "display_data"
    },
    {
     "name": "stdout",
     "output_type": "stream",
     "text": [
      "LumB :  (87, 24370)\n"
     ]
    },
    {
     "data": {
      "text/plain": [
       "(87, 24368)"
      ]
     },
     "metadata": {},
     "output_type": "display_data"
    },
    {
     "data": {
      "text/plain": [
       "(87, 223)"
      ]
     },
     "metadata": {},
     "output_type": "display_data"
    },
    {
     "name": "stdout",
     "output_type": "stream",
     "text": [
      "Her2 :  (29, 24370)\n"
     ]
    },
    {
     "data": {
      "text/plain": [
       "(29, 24368)"
      ]
     },
     "metadata": {},
     "output_type": "display_data"
    },
    {
     "data": {
      "text/plain": [
       "(29, 110)"
      ]
     },
     "metadata": {},
     "output_type": "display_data"
    },
    {
     "name": "stdout",
     "output_type": "stream",
     "text": [
      "Normal :  (27, 24370)\n"
     ]
    },
    {
     "data": {
      "text/plain": [
       "(27, 24368)"
      ]
     },
     "metadata": {},
     "output_type": "display_data"
    },
    {
     "data": {
      "text/plain": [
       "(27, 72)"
      ]
     },
     "metadata": {},
     "output_type": "display_data"
    },
    {
     "name": "stdout",
     "output_type": "stream",
     "text": [
      "Basal :  (8, 24370)\n"
     ]
    },
    {
     "data": {
      "text/plain": [
       "(8, 24368)"
      ]
     },
     "metadata": {},
     "output_type": "display_data"
    },
    {
     "data": {
      "text/plain": [
       "(8, 103)"
      ]
     },
     "metadata": {},
     "output_type": "display_data"
    },
    {
     "name": "stdout",
     "output_type": "stream",
     "text": [
      "ER-_HER2- :  (20, 24370)\n"
     ]
    },
    {
     "data": {
      "text/plain": [
       "(20, 24368)"
      ]
     },
     "metadata": {},
     "output_type": "display_data"
    },
    {
     "data": {
      "text/plain": [
       "(20, 144)"
      ]
     },
     "metadata": {},
     "output_type": "display_data"
    },
    {
     "name": "stdout",
     "output_type": "stream",
     "text": [
      "ER+_HER2-_High_Prolif :  (105, 24370)\n"
     ]
    },
    {
     "data": {
      "text/plain": [
       "(105, 24368)"
      ]
     },
     "metadata": {},
     "output_type": "display_data"
    },
    {
     "data": {
      "text/plain": [
       "(105, 287)"
      ]
     },
     "metadata": {},
     "output_type": "display_data"
    },
    {
     "name": "stdout",
     "output_type": "stream",
     "text": [
      "ER+_HER2-_Low_Prolif :  (114, 24370)\n"
     ]
    },
    {
     "data": {
      "text/plain": [
       "(114, 24368)"
      ]
     },
     "metadata": {},
     "output_type": "display_data"
    },
    {
     "data": {
      "text/plain": [
       "(114, 285)"
      ]
     },
     "metadata": {},
     "output_type": "display_data"
    },
    {
     "name": "stdout",
     "output_type": "stream",
     "text": [
      "HER2+ :  (16, 24370)\n"
     ]
    },
    {
     "data": {
      "text/plain": [
       "(16, 24368)"
      ]
     },
     "metadata": {},
     "output_type": "display_data"
    },
    {
     "data": {
      "text/plain": [
       "(16, 99)"
      ]
     },
     "metadata": {},
     "output_type": "display_data"
    },
    {
     "name": "stdout",
     "output_type": "stream",
     "text": [
      "++++++++++++++++++++++++++++++++++++++++++++++++++++++++++++++++++++++++++++++++++++++++++++++++++++\n",
      "78\n",
      "claudin-low :  (22, 24370)\n"
     ]
    },
    {
     "data": {
      "text/plain": [
       "(22, 24368)"
      ]
     },
     "metadata": {},
     "output_type": "display_data"
    },
    {
     "data": {
      "text/plain": [
       "(22, 99)"
      ]
     },
     "metadata": {},
     "output_type": "display_data"
    },
    {
     "name": "stdout",
     "output_type": "stream",
     "text": [
      "LumA :  (119, 24370)\n"
     ]
    },
    {
     "data": {
      "text/plain": [
       "(119, 24368)"
      ]
     },
     "metadata": {},
     "output_type": "display_data"
    },
    {
     "data": {
      "text/plain": [
       "(119, 320)"
      ]
     },
     "metadata": {},
     "output_type": "display_data"
    },
    {
     "name": "stdout",
     "output_type": "stream",
     "text": [
      "LumB :  (87, 24370)\n"
     ]
    },
    {
     "data": {
      "text/plain": [
       "(87, 24368)"
      ]
     },
     "metadata": {},
     "output_type": "display_data"
    },
    {
     "data": {
      "text/plain": [
       "(87, 230)"
      ]
     },
     "metadata": {},
     "output_type": "display_data"
    },
    {
     "name": "stdout",
     "output_type": "stream",
     "text": [
      "Her2 :  (29, 24370)\n"
     ]
    },
    {
     "data": {
      "text/plain": [
       "(29, 24368)"
      ]
     },
     "metadata": {},
     "output_type": "display_data"
    },
    {
     "data": {
      "text/plain": [
       "(29, 113)"
      ]
     },
     "metadata": {},
     "output_type": "display_data"
    },
    {
     "name": "stdout",
     "output_type": "stream",
     "text": [
      "Normal :  (27, 24370)\n"
     ]
    },
    {
     "data": {
      "text/plain": [
       "(27, 24368)"
      ]
     },
     "metadata": {},
     "output_type": "display_data"
    },
    {
     "data": {
      "text/plain": [
       "(27, 74)"
      ]
     },
     "metadata": {},
     "output_type": "display_data"
    },
    {
     "name": "stdout",
     "output_type": "stream",
     "text": [
      "Basal :  (8, 24370)\n"
     ]
    },
    {
     "data": {
      "text/plain": [
       "(8, 24368)"
      ]
     },
     "metadata": {},
     "output_type": "display_data"
    },
    {
     "data": {
      "text/plain": [
       "(8, 105)"
      ]
     },
     "metadata": {},
     "output_type": "display_data"
    },
    {
     "name": "stdout",
     "output_type": "stream",
     "text": [
      "ER-_HER2- :  (20, 24370)\n"
     ]
    },
    {
     "data": {
      "text/plain": [
       "(20, 24368)"
      ]
     },
     "metadata": {},
     "output_type": "display_data"
    },
    {
     "data": {
      "text/plain": [
       "(20, 148)"
      ]
     },
     "metadata": {},
     "output_type": "display_data"
    },
    {
     "name": "stdout",
     "output_type": "stream",
     "text": [
      "ER+_HER2-_High_Prolif :  (105, 24370)\n"
     ]
    },
    {
     "data": {
      "text/plain": [
       "(105, 24368)"
      ]
     },
     "metadata": {},
     "output_type": "display_data"
    },
    {
     "data": {
      "text/plain": [
       "(105, 296)"
      ]
     },
     "metadata": {},
     "output_type": "display_data"
    },
    {
     "name": "stdout",
     "output_type": "stream",
     "text": [
      "ER+_HER2-_Low_Prolif :  (114, 24370)\n"
     ]
    },
    {
     "data": {
      "text/plain": [
       "(114, 24368)"
      ]
     },
     "metadata": {},
     "output_type": "display_data"
    },
    {
     "data": {
      "text/plain": [
       "(114, 295)"
      ]
     },
     "metadata": {},
     "output_type": "display_data"
    },
    {
     "name": "stdout",
     "output_type": "stream",
     "text": [
      "HER2+ :  (16, 24370)\n"
     ]
    },
    {
     "data": {
      "text/plain": [
       "(16, 24368)"
      ]
     },
     "metadata": {},
     "output_type": "display_data"
    },
    {
     "data": {
      "text/plain": [
       "(16, 101)"
      ]
     },
     "metadata": {},
     "output_type": "display_data"
    },
    {
     "name": "stdout",
     "output_type": "stream",
     "text": [
      "++++++++++++++++++++++++++++++++++++++++++++++++++++++++++++++++++++++++++++++++++++++++++++++++++++\n",
      "79\n",
      "claudin-low :  (22, 24370)\n"
     ]
    },
    {
     "data": {
      "text/plain": [
       "(22, 24368)"
      ]
     },
     "metadata": {},
     "output_type": "display_data"
    },
    {
     "data": {
      "text/plain": [
       "(22, 102)"
      ]
     },
     "metadata": {},
     "output_type": "display_data"
    },
    {
     "name": "stdout",
     "output_type": "stream",
     "text": [
      "LumA :  (119, 24370)\n"
     ]
    },
    {
     "data": {
      "text/plain": [
       "(119, 24368)"
      ]
     },
     "metadata": {},
     "output_type": "display_data"
    },
    {
     "data": {
      "text/plain": [
       "(119, 331)"
      ]
     },
     "metadata": {},
     "output_type": "display_data"
    },
    {
     "name": "stdout",
     "output_type": "stream",
     "text": [
      "LumB :  (87, 24370)\n"
     ]
    },
    {
     "data": {
      "text/plain": [
       "(87, 24368)"
      ]
     },
     "metadata": {},
     "output_type": "display_data"
    },
    {
     "data": {
      "text/plain": [
       "(87, 237)"
      ]
     },
     "metadata": {},
     "output_type": "display_data"
    },
    {
     "name": "stdout",
     "output_type": "stream",
     "text": [
      "Her2 :  (29, 24370)\n"
     ]
    },
    {
     "data": {
      "text/plain": [
       "(29, 24368)"
      ]
     },
     "metadata": {},
     "output_type": "display_data"
    },
    {
     "data": {
      "text/plain": [
       "(29, 116)"
      ]
     },
     "metadata": {},
     "output_type": "display_data"
    },
    {
     "name": "stdout",
     "output_type": "stream",
     "text": [
      "Normal :  (27, 24370)\n"
     ]
    },
    {
     "data": {
      "text/plain": [
       "(27, 24368)"
      ]
     },
     "metadata": {},
     "output_type": "display_data"
    },
    {
     "data": {
      "text/plain": [
       "(27, 76)"
      ]
     },
     "metadata": {},
     "output_type": "display_data"
    },
    {
     "name": "stdout",
     "output_type": "stream",
     "text": [
      "Basal :  (8, 24370)\n"
     ]
    },
    {
     "data": {
      "text/plain": [
       "(8, 24368)"
      ]
     },
     "metadata": {},
     "output_type": "display_data"
    },
    {
     "data": {
      "text/plain": [
       "(8, 108)"
      ]
     },
     "metadata": {},
     "output_type": "display_data"
    },
    {
     "name": "stdout",
     "output_type": "stream",
     "text": [
      "ER-_HER2- :  (20, 24370)\n"
     ]
    },
    {
     "data": {
      "text/plain": [
       "(20, 24368)"
      ]
     },
     "metadata": {},
     "output_type": "display_data"
    },
    {
     "data": {
      "text/plain": [
       "(20, 152)"
      ]
     },
     "metadata": {},
     "output_type": "display_data"
    },
    {
     "name": "stdout",
     "output_type": "stream",
     "text": [
      "ER+_HER2-_High_Prolif :  (105, 24370)\n"
     ]
    },
    {
     "data": {
      "text/plain": [
       "(105, 24368)"
      ]
     },
     "metadata": {},
     "output_type": "display_data"
    },
    {
     "data": {
      "text/plain": [
       "(105, 305)"
      ]
     },
     "metadata": {},
     "output_type": "display_data"
    },
    {
     "name": "stdout",
     "output_type": "stream",
     "text": [
      "ER+_HER2-_Low_Prolif :  (114, 24370)\n"
     ]
    },
    {
     "data": {
      "text/plain": [
       "(114, 24368)"
      ]
     },
     "metadata": {},
     "output_type": "display_data"
    },
    {
     "data": {
      "text/plain": [
       "(114, 304)"
      ]
     },
     "metadata": {},
     "output_type": "display_data"
    },
    {
     "name": "stdout",
     "output_type": "stream",
     "text": [
      "HER2+ :  (16, 24370)\n"
     ]
    },
    {
     "data": {
      "text/plain": [
       "(16, 24368)"
      ]
     },
     "metadata": {},
     "output_type": "display_data"
    },
    {
     "data": {
      "text/plain": [
       "(16, 104)"
      ]
     },
     "metadata": {},
     "output_type": "display_data"
    }
   ],
   "source": [
    "# 実施したい前処理パイプラインの定義\n",
    "for p in range(25, 80):\n",
    "    print(\"++++++++++\" * 10)\n",
    "    print(p)\n",
    "    PCA_PERCENTILE = p\n",
    "    loop_late_recurrences_data()"
   ]
  },
  {
   "cell_type": "markdown",
   "id": "bdd72851-d28f-4873-88df-933874b7a113",
   "metadata": {},
   "source": [
    "# recheck data shape"
   ]
  },
  {
   "cell_type": "code",
   "execution_count": null,
   "id": "04b0879c-4d2c-467a-9146-06aa5402506d",
   "metadata": {},
   "outputs": [],
   "source": [
    "df_recurrenced.shape"
   ]
  },
  {
   "cell_type": "code",
   "execution_count": null,
   "id": "da2cba26-6e40-4795-bc30-018035b77570",
   "metadata": {},
   "outputs": [],
   "source": [
    "df_recurrenced.RFS_STATUS.value_counts()"
   ]
  },
  {
   "cell_type": "code",
   "execution_count": null,
   "id": "71e0af69-7715-462f-8cd1-83b92ee03038",
   "metadata": {},
   "outputs": [],
   "source": [
    "df_recurrenced.groupby(\"CLAUDIN_SUBTYPE\").RFS_STATUS.value_counts()"
   ]
  },
  {
   "cell_type": "code",
   "execution_count": null,
   "id": "65ec25b2-b67a-4a9f-98dd-3a74ee01b26d",
   "metadata": {},
   "outputs": [],
   "source": []
  },
  {
   "cell_type": "code",
   "execution_count": 37,
   "id": "5c1b7b76-8422-4bc0-b617-88339e18684c",
   "metadata": {},
   "outputs": [
    {
     "name": "stdout",
     "output_type": "stream",
     "text": [
      "Python 3.8.15\n"
     ]
    }
   ],
   "source": [
    "! python -V"
   ]
  },
  {
   "cell_type": "code",
   "execution_count": 38,
   "id": "b395ccc0-eef7-4982-adea-532c3f46e1da",
   "metadata": {},
   "outputs": [
    {
     "name": "stdout",
     "output_type": "stream",
     "text": [
      "conda 22.11.1\n"
     ]
    }
   ],
   "source": [
    "! conda -V"
   ]
  },
  {
   "cell_type": "code",
   "execution_count": null,
   "id": "2d7afb0e-6d2c-4dd1-81bf-99e4cbaa637c",
   "metadata": {},
   "outputs": [],
   "source": []
  }
 ],
 "metadata": {
  "kernelspec": {
   "display_name": "Python 3 (ipykernel)",
   "language": "python",
   "name": "python3"
  },
  "language_info": {
   "codemirror_mode": {
    "name": "ipython",
    "version": 3
   },
   "file_extension": ".py",
   "mimetype": "text/x-python",
   "name": "python",
   "nbconvert_exporter": "python",
   "pygments_lexer": "ipython3",
   "version": "3.8.15"
  },
  "vscode": {
   "interpreter": {
    "hash": "729c6a008c18e950aab0d645a0c3f05ac225e5f880cd403acd3456b69cf9d2f2"
   }
  }
 },
 "nbformat": 4,
 "nbformat_minor": 5
}
