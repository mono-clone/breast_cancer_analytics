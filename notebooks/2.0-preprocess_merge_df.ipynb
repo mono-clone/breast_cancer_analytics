{
 "cells": [
  {
   "cell_type": "code",
   "execution_count": 1,
   "metadata": {},
   "outputs": [],
   "source": [
    "import os\n",
    "\n",
    "import numpy as np\n",
    "import pandas as pd\n",
    "\n",
    "import config\n",
    "\n",
    "# 最大表示列数の指定（ここでは50列を指定）\n",
    "pd.set_option(\"display.max_columns\", 50)\n",
    "pd.set_option('display.max_rows', 50)\n",
    "\n",
    "\n",
    "def make_dir(dir_name: str):\n",
    "    if not os.path.exists(dir_name):\n",
    "        os.makedirs(dir_name)\n"
   ]
  },
  {
   "cell_type": "markdown",
   "metadata": {},
   "source": [
    "# basic process\n",
    "\n",
    "基本的なプロセス  \n",
    "2つのデータを読み込み、PATIENT_IDカラムをキーとして結合する  \n",
    "その後、MB~とMTX-T~でPATIENT_IDが別れているので、分割し、各データを保存する"
   ]
  },
  {
   "cell_type": "code",
   "execution_count": 2,
   "metadata": {},
   "outputs": [],
   "source": [
    "df_patient = pd.read_table(\n",
    "    config.RAW_BRCA_METABRIC_DIR + \"/data_clinical_patient.txt\", header=4\n",
    ")\n",
    "df_sample = pd.read_table(\n",
    "    config.RAW_BRCA_METABRIC_DIR + \"/data_clinical_sample.txt\", header=4\n",
    ")\n"
   ]
  },
  {
   "cell_type": "code",
   "execution_count": 3,
   "metadata": {},
   "outputs": [
    {
     "data": {
      "text/plain": [
       "((2509, 24), (2509, 13))"
      ]
     },
     "execution_count": 3,
     "metadata": {},
     "output_type": "execute_result"
    }
   ],
   "source": [
    "df_patient.shape, df_sample.shape"
   ]
  },
  {
   "cell_type": "code",
   "execution_count": 4,
   "metadata": {},
   "outputs": [
    {
     "data": {
      "text/plain": [
       "(2509, 37)"
      ]
     },
     "metadata": {},
     "output_type": "display_data"
    },
    {
     "data": {
      "text/plain": [
       "PATIENT_ID                       False\n",
       "LYMPH_NODES_EXAMINED_POSITIVE    False\n",
       "NPI                              False\n",
       "CELLULARITY                      False\n",
       "CHEMOTHERAPY                     False\n",
       "COHORT                           False\n",
       "ER_IHC                           False\n",
       "HER2_SNP6                        False\n",
       "HORMONE_THERAPY                  False\n",
       "INFERRED_MENOPAUSAL_STATE        False\n",
       "SEX                              False\n",
       "INTCLUST                         False\n",
       "AGE_AT_DIAGNOSIS                 False\n",
       "OS_MONTHS                        False\n",
       "OS_STATUS                        False\n",
       "CLAUDIN_SUBTYPE                  False\n",
       "THREEGENE                        False\n",
       "VITAL_STATUS                     False\n",
       "LATERALITY                       False\n",
       "RADIO_THERAPY                    False\n",
       "HISTOLOGICAL_SUBTYPE             False\n",
       "BREAST_SURGERY                   False\n",
       "RFS_STATUS                       False\n",
       "RFS_MONTHS                       False\n",
       "PATIENT_ID                        True\n",
       "SAMPLE_ID                         True\n",
       "CANCER_TYPE                      False\n",
       "CANCER_TYPE_DETAILED             False\n",
       "ER_STATUS                        False\n",
       "HER2_STATUS                      False\n",
       "GRADE                            False\n",
       "ONCOTREE_CODE                    False\n",
       "PR_STATUS                        False\n",
       "SAMPLE_TYPE                      False\n",
       "TUMOR_SIZE                       False\n",
       "TUMOR_STAGE                      False\n",
       "TMB_NONSYNONYMOUS                False\n",
       "dtype: bool"
      ]
     },
     "execution_count": 4,
     "metadata": {},
     "output_type": "execute_result"
    }
   ],
   "source": [
    "# 重複カラム確認\n",
    "df_tmp=pd.concat([df_patient, df_sample], axis=1)\n",
    "display(df_tmp.shape)\n",
    "df_tmp.T.duplicated()"
   ]
  },
  {
   "cell_type": "markdown",
   "metadata": {},
   "source": [
    "df_patientとdf_sampleをconcatした場合、PATIENT_ID*2とSAMPLE_IDは内容が完全に同じ"
   ]
  },
  {
   "cell_type": "code",
   "execution_count": 5,
   "metadata": {},
   "outputs": [
    {
     "name": "stdout",
     "output_type": "stream",
     "text": [
      "<class 'pandas.core.frame.DataFrame'>\n",
      "Int64Index: 2509 entries, 0 to 2508\n",
      "Data columns (total 36 columns):\n",
      " #   Column                         Non-Null Count  Dtype  \n",
      "---  ------                         --------------  -----  \n",
      " 0   PATIENT_ID                     2509 non-null   object \n",
      " 1   LYMPH_NODES_EXAMINED_POSITIVE  2243 non-null   float64\n",
      " 2   NPI                            2287 non-null   float64\n",
      " 3   CELLULARITY                    1917 non-null   object \n",
      " 4   CHEMOTHERAPY                   1980 non-null   object \n",
      " 5   COHORT                         2498 non-null   float64\n",
      " 6   ER_IHC                         2426 non-null   object \n",
      " 7   HER2_SNP6                      1980 non-null   object \n",
      " 8   HORMONE_THERAPY                1980 non-null   object \n",
      " 9   INFERRED_MENOPAUSAL_STATE      1980 non-null   object \n",
      " 10  SEX                            2509 non-null   object \n",
      " 11  INTCLUST                       1980 non-null   object \n",
      " 12  AGE_AT_DIAGNOSIS               2498 non-null   float64\n",
      " 13  OS_MONTHS                      1981 non-null   float64\n",
      " 14  OS_STATUS                      1981 non-null   object \n",
      " 15  CLAUDIN_SUBTYPE                1980 non-null   object \n",
      " 16  THREEGENE                      1764 non-null   object \n",
      " 17  VITAL_STATUS                   1980 non-null   object \n",
      " 18  LATERALITY                     1870 non-null   object \n",
      " 19  RADIO_THERAPY                  1980 non-null   object \n",
      " 20  HISTOLOGICAL_SUBTYPE           2374 non-null   object \n",
      " 21  BREAST_SURGERY                 1955 non-null   object \n",
      " 22  RFS_STATUS                     2488 non-null   object \n",
      " 23  RFS_MONTHS                     2388 non-null   float64\n",
      " 24  SAMPLE_ID                      2509 non-null   object \n",
      " 25  CANCER_TYPE                    2509 non-null   object \n",
      " 26  CANCER_TYPE_DETAILED           2509 non-null   object \n",
      " 27  ER_STATUS                      2469 non-null   object \n",
      " 28  HER2_STATUS                    1980 non-null   object \n",
      " 29  GRADE                          2388 non-null   float64\n",
      " 30  ONCOTREE_CODE                  2509 non-null   object \n",
      " 31  PR_STATUS                      1980 non-null   object \n",
      " 32  SAMPLE_TYPE                    2509 non-null   object \n",
      " 33  TUMOR_SIZE                     2360 non-null   float64\n",
      " 34  TUMOR_STAGE                    1788 non-null   float64\n",
      " 35  TMB_NONSYNONYMOUS              2509 non-null   float64\n",
      "dtypes: float64(10), object(26)\n",
      "memory usage: 725.3+ KB\n"
     ]
    }
   ],
   "source": [
    "# df_patientとdf_sampleを結合\n",
    "df_merged = pd.merge(df_patient, df_sample)\n",
    "df_merged.info()\n"
   ]
  },
  {
   "cell_type": "code",
   "execution_count": 6,
   "metadata": {},
   "outputs": [
    {
     "data": {
      "text/plain": [
       "((2509, 36),\n",
       " PATIENT_ID                         0\n",
       " LYMPH_NODES_EXAMINED_POSITIVE    266\n",
       " NPI                              222\n",
       " CELLULARITY                      592\n",
       " CHEMOTHERAPY                     529\n",
       " COHORT                            11\n",
       " ER_IHC                            83\n",
       " HER2_SNP6                        529\n",
       " HORMONE_THERAPY                  529\n",
       " INFERRED_MENOPAUSAL_STATE        529\n",
       " SEX                                0\n",
       " INTCLUST                         529\n",
       " AGE_AT_DIAGNOSIS                  11\n",
       " OS_MONTHS                        528\n",
       " OS_STATUS                        528\n",
       " CLAUDIN_SUBTYPE                  529\n",
       " THREEGENE                        745\n",
       " VITAL_STATUS                     529\n",
       " LATERALITY                       639\n",
       " RADIO_THERAPY                    529\n",
       " HISTOLOGICAL_SUBTYPE             135\n",
       " BREAST_SURGERY                   554\n",
       " RFS_STATUS                        21\n",
       " RFS_MONTHS                       121\n",
       " SAMPLE_ID                          0\n",
       " CANCER_TYPE                        0\n",
       " CANCER_TYPE_DETAILED               0\n",
       " ER_STATUS                         40\n",
       " HER2_STATUS                      529\n",
       " GRADE                            121\n",
       " ONCOTREE_CODE                      0\n",
       " PR_STATUS                        529\n",
       " SAMPLE_TYPE                        0\n",
       " TUMOR_SIZE                       149\n",
       " TUMOR_STAGE                      721\n",
       " TMB_NONSYNONYMOUS                  0\n",
       " dtype: int64)"
      ]
     },
     "execution_count": 6,
     "metadata": {},
     "output_type": "execute_result"
    }
   ],
   "source": [
    "#　手を加える前のデータフレームの形状\n",
    "df_merged.shape, df_merged.isnull().sum()"
   ]
  },
  {
   "cell_type": "code",
   "execution_count": 7,
   "metadata": {},
   "outputs": [
    {
     "data": {
      "text/plain": [
       "((1985, 36), (524, 36))"
      ]
     },
     "execution_count": 7,
     "metadata": {},
     "output_type": "execute_result"
    }
   ],
   "source": [
    "# データを大きく2つに分割できるので、ここで分割\n",
    "df_MB=df_merged[df_merged['PATIENT_ID'].str.contains('MB')]\n",
    "df_MTST=df_merged[df_merged['PATIENT_ID'].str.contains('MTS-T')]\n",
    "df_MB.shape, df_MTST.shape"
   ]
  },
  {
   "cell_type": "code",
   "execution_count": 8,
   "metadata": {},
   "outputs": [],
   "source": [
    "# save\n",
    "make_dir(config.INTERIM_PICKLE_PREPROCESSED_DIR)\n",
    "df_merged.to_pickle(config.INTERIM_PICKLE_PREPROCESSED_DIR+'/2.0-df_merged.pkl')\n",
    "df_MB.to_pickle(config.INTERIM_PICKLE_PREPROCESSED_DIR+'/2.0-df_MB.pkl')\n",
    "df_MTST.to_pickle(config.INTERIM_PICKLE_PREPROCESSED_DIR+'/2.0-df_MTST.pkl')"
   ]
  },
  {
   "cell_type": "code",
   "execution_count": null,
   "metadata": {},
   "outputs": [],
   "source": []
  }
 ],
 "metadata": {
  "interpreter": {
   "hash": "20eeed6d3195800cca76e45ab74d550011b596e7d1b5d9856b10dd320068ba0f"
  },
  "kernelspec": {
   "display_name": "Python 3 (ipykernel)",
   "language": "python",
   "name": "python3"
  },
  "language_info": {
   "codemirror_mode": {
    "name": "ipython",
    "version": 3
   },
   "file_extension": ".py",
   "mimetype": "text/x-python",
   "name": "python",
   "nbconvert_exporter": "python",
   "pygments_lexer": "ipython3",
   "version": "3.8.13"
  }
 },
 "nbformat": 4,
 "nbformat_minor": 4
}
