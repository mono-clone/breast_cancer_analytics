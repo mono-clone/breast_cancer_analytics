{
 "cells": [
  {
   "cell_type": "markdown",
   "id": "3748b911-cac6-48d6-8c75-5d9cc365f904",
   "metadata": {
    "tags": []
   },
   "source": [
    "# 目的\n",
    "遺伝子学的分類に基づいた、再発の2値分類を実施する。  "
   ]
  },
  {
   "cell_type": "code",
   "execution_count": 3,
   "id": "bcfaefbb-89db-48c9-8b91-141cf7014df1",
   "metadata": {},
   "outputs": [],
   "source": [
    "# 基本的なライブラリ\n",
    "import itertools\n",
    "import warnings\n",
    "import numpy as np\n",
    "import pandas as pd\n",
    "import matplotlib.pyplot as plt\n",
    "from tqdm import tqdm\n",
    "\n",
    "# models\n",
    "from sklearn.linear_model import LogisticRegression  # ロジスティック回帰\n",
    "from sklearn.neighbors import KNeighborsClassifier  # K近傍法\n",
    "from sklearn.svm import SVC  # サポートベクターマシン\n",
    "from sklearn.tree import DecisionTreeClassifier, export_graphviz  # 決定木\n",
    "from sklearn.ensemble import RandomForestClassifier  # ランダムフォレスト\n",
    "from sklearn.ensemble import AdaBoostClassifier  # AdaBoost\n",
    "from sklearn.naive_bayes import GaussianNB  # ナイーブ・ベイズ\n",
    "from sklearn.decomposition import LatentDirichletAllocation as LDA  # 線形判別分析\n",
    "from sklearn.discriminant_analysis import QuadraticDiscriminantAnalysis as QDA  # 二次判別分析\n",
    "from lightgbm import LGBMClassifier\n",
    "import xgboost as xgb\n",
    "\n",
    "from sklearn.ensemble import ExtraTreesClassifier\n",
    "\n",
    "# 評価指標\n",
    "from sklearn.metrics import roc_auc_score\n",
    "from sklearn.metrics import accuracy_score, precision_score, recall_score, f1_score\n",
    "from sklearn.metrics import confusion_matrix, ConfusionMatrixDisplay\n",
    "\n",
    "\n",
    "# local libraries\n",
    "import config\n",
    "import functions\n",
    "\n",
    "SEED = config.SEED\n",
    "functions.fix_seed(SEED)\n",
    "\n",
    "\n",
    "# 最大表示列数の指定（ここでは50列を指定）N\n",
    "pd.set_option(\"display.max_columns\", 50)\n",
    "pd.set_option(\"display.max_rows\", 50)\n",
    "\n",
    "%matplotlib inline\n",
    "\n",
    "df_recurrenced = pd.read_pickle(\n",
    "    config.INTERIM_PREPROCESSED_RECURRENCE_DIR + \"/df_recurrenced.pkl\"\n",
    ")"
   ]
  },
  {
   "cell_type": "markdown",
   "id": "3011d730-a100-4755-97d0-a1fce8415500",
   "metadata": {
    "tags": []
   },
   "source": [
    "# データ全体での予測モデル検証"
   ]
  },
  {
   "cell_type": "markdown",
   "id": "a7a02154-d9fb-4b12-b8f3-602baff4a8dc",
   "metadata": {
    "tags": []
   },
   "source": [
    "## ベースモデルの学習結果\n",
    "\n",
    "各特徴量選択されたdfを用いて基本的な2値分類モデルを学習する"
   ]
  },
  {
   "cell_type": "code",
   "execution_count": 4,
   "id": "39b9d5c8-45a5-4116-a470-f21aa0afff43",
   "metadata": {
    "collapsed": true,
    "jupyter": {
     "outputs_hidden": true
    },
    "tags": []
   },
   "outputs": [
    {
     "name": "stderr",
     "output_type": "stream",
     "text": [
      "0it [00:00, ?it/s]"
     ]
    },
    {
     "name": "stdout",
     "output_type": "stream",
     "text": [
      "==================================================\n",
      "--------------------------------------------------\n",
      "subgroup column:  CLAUDIN_SUBTYPE\n",
      "..................................................\n",
      "subgroup:  LumB\n",
      "./../data/interim/PREPROCESSED/RECURRENCE/CLAUDIN_SUBTYPE/vt_std_smote\n",
      "(216, 17) (20, 17)\n",
      "base accuracy:  0.5\n"
     ]
    },
    {
     "data": {
      "text/html": [
       "<div>\n",
       "<style scoped>\n",
       "    .dataframe tbody tr th:only-of-type {\n",
       "        vertical-align: middle;\n",
       "    }\n",
       "\n",
       "    .dataframe tbody tr th {\n",
       "        vertical-align: top;\n",
       "    }\n",
       "\n",
       "    .dataframe thead th {\n",
       "        text-align: right;\n",
       "    }\n",
       "</style>\n",
       "<table border=\"1\" class=\"dataframe\">\n",
       "  <thead>\n",
       "    <tr style=\"text-align: right;\">\n",
       "      <th></th>\n",
       "      <th>acc_train</th>\n",
       "      <th>acc_val</th>\n",
       "      <th>f1_train</th>\n",
       "      <th>f1_val</th>\n",
       "    </tr>\n",
       "    <tr>\n",
       "      <th>classifier</th>\n",
       "      <th></th>\n",
       "      <th></th>\n",
       "      <th></th>\n",
       "      <th></th>\n",
       "    </tr>\n",
       "  </thead>\n",
       "  <tbody>\n",
       "    <tr>\n",
       "      <th>QuadraticDiscriminantAnalysis</th>\n",
       "      <td>0.865741</td>\n",
       "      <td>0.7000</td>\n",
       "      <td>0.865116</td>\n",
       "      <td>0.625000</td>\n",
       "    </tr>\n",
       "    <tr>\n",
       "      <th>GradientBoostingClassifier</th>\n",
       "      <td>1.000000</td>\n",
       "      <td>0.6500</td>\n",
       "      <td>1.000000</td>\n",
       "      <td>0.533333</td>\n",
       "    </tr>\n",
       "    <tr>\n",
       "      <th>AdaBoostClassifier</th>\n",
       "      <td>0.967593</td>\n",
       "      <td>0.5000</td>\n",
       "      <td>0.967742</td>\n",
       "      <td>0.444444</td>\n",
       "    </tr>\n",
       "    <tr>\n",
       "      <th>DecisionTreeClassifier</th>\n",
       "      <td>0.768519</td>\n",
       "      <td>0.5000</td>\n",
       "      <td>0.776786</td>\n",
       "      <td>0.444444</td>\n",
       "    </tr>\n",
       "    <tr>\n",
       "      <th>LogisticRegression</th>\n",
       "      <td>0.703704</td>\n",
       "      <td>0.5000</td>\n",
       "      <td>0.711712</td>\n",
       "      <td>0.444444</td>\n",
       "    </tr>\n",
       "    <tr>\n",
       "      <th>SGDClassifier</th>\n",
       "      <td>0.587963</td>\n",
       "      <td>0.5000</td>\n",
       "      <td>0.618026</td>\n",
       "      <td>0.375000</td>\n",
       "    </tr>\n",
       "    <tr>\n",
       "      <th>KNeighborsClassifier</th>\n",
       "      <td>0.773148</td>\n",
       "      <td>0.4500</td>\n",
       "      <td>0.780269</td>\n",
       "      <td>0.352941</td>\n",
       "    </tr>\n",
       "    <tr>\n",
       "      <th>SVC</th>\n",
       "      <td>0.773148</td>\n",
       "      <td>0.4375</td>\n",
       "      <td>0.775378</td>\n",
       "      <td>0.310391</td>\n",
       "    </tr>\n",
       "    <tr>\n",
       "      <th>RandomForestClassifier</th>\n",
       "      <td>0.847222</td>\n",
       "      <td>0.4000</td>\n",
       "      <td>0.850679</td>\n",
       "      <td>0.250000</td>\n",
       "    </tr>\n",
       "    <tr>\n",
       "      <th>GaussianNB</th>\n",
       "      <td>0.625000</td>\n",
       "      <td>0.3000</td>\n",
       "      <td>0.612440</td>\n",
       "      <td>0.125000</td>\n",
       "    </tr>\n",
       "  </tbody>\n",
       "</table>\n",
       "</div>"
      ],
      "text/plain": [
       "                               acc_train  acc_val  f1_train    f1_val\n",
       "classifier                                                           \n",
       "QuadraticDiscriminantAnalysis   0.865741   0.7000  0.865116  0.625000\n",
       "GradientBoostingClassifier      1.000000   0.6500  1.000000  0.533333\n",
       "AdaBoostClassifier              0.967593   0.5000  0.967742  0.444444\n",
       "DecisionTreeClassifier          0.768519   0.5000  0.776786  0.444444\n",
       "LogisticRegression              0.703704   0.5000  0.711712  0.444444\n",
       "SGDClassifier                   0.587963   0.5000  0.618026  0.375000\n",
       "KNeighborsClassifier            0.773148   0.4500  0.780269  0.352941\n",
       "SVC                             0.773148   0.4375  0.775378  0.310391\n",
       "RandomForestClassifier          0.847222   0.4000  0.850679  0.250000\n",
       "GaussianNB                      0.625000   0.3000  0.612440  0.125000"
      ]
     },
     "metadata": {},
     "output_type": "display_data"
    },
    {
     "name": "stdout",
     "output_type": "stream",
     "text": [
      "(216, 17) (20, 17)\n",
      "base accuracy:  0.5\n"
     ]
    },
    {
     "data": {
      "text/html": [
       "<div>\n",
       "<style scoped>\n",
       "    .dataframe tbody tr th:only-of-type {\n",
       "        vertical-align: middle;\n",
       "    }\n",
       "\n",
       "    .dataframe tbody tr th {\n",
       "        vertical-align: top;\n",
       "    }\n",
       "\n",
       "    .dataframe thead th {\n",
       "        text-align: right;\n",
       "    }\n",
       "</style>\n",
       "<table border=\"1\" class=\"dataframe\">\n",
       "  <thead>\n",
       "    <tr style=\"text-align: right;\">\n",
       "      <th></th>\n",
       "      <th>acc_train</th>\n",
       "      <th>acc_val</th>\n",
       "      <th>f1_train</th>\n",
       "      <th>f1_val</th>\n",
       "    </tr>\n",
       "    <tr>\n",
       "      <th>classifier</th>\n",
       "      <th></th>\n",
       "      <th></th>\n",
       "      <th></th>\n",
       "      <th></th>\n",
       "    </tr>\n",
       "  </thead>\n",
       "  <tbody>\n",
       "    <tr>\n",
       "      <th>LGBMClassifier</th>\n",
       "      <td>1.0</td>\n",
       "      <td>0.5</td>\n",
       "      <td>1.0</td>\n",
       "      <td>0.375</td>\n",
       "    </tr>\n",
       "  </tbody>\n",
       "</table>\n",
       "</div>"
      ],
      "text/plain": [
       "                acc_train  acc_val  f1_train  f1_val\n",
       "classifier                                          \n",
       "LGBMClassifier        1.0      0.5       1.0   0.375"
      ]
     },
     "metadata": {},
     "output_type": "display_data"
    },
    {
     "name": "stdout",
     "output_type": "stream",
     "text": [
      "(216, 17) (20, 17)\n",
      "base accuracy:  0.5\n"
     ]
    },
    {
     "data": {
      "text/html": [
       "<div>\n",
       "<style scoped>\n",
       "    .dataframe tbody tr th:only-of-type {\n",
       "        vertical-align: middle;\n",
       "    }\n",
       "\n",
       "    .dataframe tbody tr th {\n",
       "        vertical-align: top;\n",
       "    }\n",
       "\n",
       "    .dataframe thead th {\n",
       "        text-align: right;\n",
       "    }\n",
       "</style>\n",
       "<table border=\"1\" class=\"dataframe\">\n",
       "  <thead>\n",
       "    <tr style=\"text-align: right;\">\n",
       "      <th></th>\n",
       "      <th>acc_train</th>\n",
       "      <th>acc_val</th>\n",
       "      <th>f1_train</th>\n",
       "      <th>f1_val</th>\n",
       "    </tr>\n",
       "    <tr>\n",
       "      <th>classifier</th>\n",
       "      <th></th>\n",
       "      <th></th>\n",
       "      <th></th>\n",
       "      <th></th>\n",
       "    </tr>\n",
       "  </thead>\n",
       "  <tbody>\n",
       "    <tr>\n",
       "      <th>ExtraTreesClassifier</th>\n",
       "      <td>1.0</td>\n",
       "      <td>0.45</td>\n",
       "      <td>1.0</td>\n",
       "      <td>0.153846</td>\n",
       "    </tr>\n",
       "  </tbody>\n",
       "</table>\n",
       "</div>"
      ],
      "text/plain": [
       "                      acc_train  acc_val  f1_train    f1_val\n",
       "classifier                                                  \n",
       "ExtraTreesClassifier        1.0     0.45       1.0  0.153846"
      ]
     },
     "metadata": {},
     "output_type": "display_data"
    },
    {
     "name": "stdout",
     "output_type": "stream",
     "text": [
      "..................................................\n",
      "subgroup:  Her2\n",
      "./../data/interim/PREPROCESSED/RECURRENCE/CLAUDIN_SUBTYPE/vt_std_smote\n",
      "(134, 9) (11, 9)\n",
      "base accuracy:  0.5\n"
     ]
    },
    {
     "data": {
      "text/html": [
       "<div>\n",
       "<style scoped>\n",
       "    .dataframe tbody tr th:only-of-type {\n",
       "        vertical-align: middle;\n",
       "    }\n",
       "\n",
       "    .dataframe tbody tr th {\n",
       "        vertical-align: top;\n",
       "    }\n",
       "\n",
       "    .dataframe thead th {\n",
       "        text-align: right;\n",
       "    }\n",
       "</style>\n",
       "<table border=\"1\" class=\"dataframe\">\n",
       "  <thead>\n",
       "    <tr style=\"text-align: right;\">\n",
       "      <th></th>\n",
       "      <th>acc_train</th>\n",
       "      <th>acc_val</th>\n",
       "      <th>f1_train</th>\n",
       "      <th>f1_val</th>\n",
       "    </tr>\n",
       "    <tr>\n",
       "      <th>classifier</th>\n",
       "      <th></th>\n",
       "      <th></th>\n",
       "      <th></th>\n",
       "      <th></th>\n",
       "    </tr>\n",
       "  </thead>\n",
       "  <tbody>\n",
       "    <tr>\n",
       "      <th>QuadraticDiscriminantAnalysis</th>\n",
       "      <td>0.895522</td>\n",
       "      <td>0.818182</td>\n",
       "      <td>0.900000</td>\n",
       "      <td>0.666667</td>\n",
       "    </tr>\n",
       "    <tr>\n",
       "      <th>SGDClassifier</th>\n",
       "      <td>0.604478</td>\n",
       "      <td>0.636364</td>\n",
       "      <td>0.644295</td>\n",
       "      <td>0.600000</td>\n",
       "    </tr>\n",
       "    <tr>\n",
       "      <th>RandomForestClassifier</th>\n",
       "      <td>0.843284</td>\n",
       "      <td>0.727273</td>\n",
       "      <td>0.839695</td>\n",
       "      <td>0.571429</td>\n",
       "    </tr>\n",
       "    <tr>\n",
       "      <th>LogisticRegression</th>\n",
       "      <td>0.664179</td>\n",
       "      <td>0.636364</td>\n",
       "      <td>0.661654</td>\n",
       "      <td>0.500000</td>\n",
       "    </tr>\n",
       "    <tr>\n",
       "      <th>KNeighborsClassifier</th>\n",
       "      <td>0.813433</td>\n",
       "      <td>0.545455</td>\n",
       "      <td>0.838710</td>\n",
       "      <td>0.444444</td>\n",
       "    </tr>\n",
       "    <tr>\n",
       "      <th>SVC</th>\n",
       "      <td>0.731343</td>\n",
       "      <td>0.590909</td>\n",
       "      <td>0.729793</td>\n",
       "      <td>0.433333</td>\n",
       "    </tr>\n",
       "    <tr>\n",
       "      <th>GaussianNB</th>\n",
       "      <td>0.708955</td>\n",
       "      <td>0.454545</td>\n",
       "      <td>0.706767</td>\n",
       "      <td>0.400000</td>\n",
       "    </tr>\n",
       "    <tr>\n",
       "      <th>DecisionTreeClassifier</th>\n",
       "      <td>0.805970</td>\n",
       "      <td>0.636364</td>\n",
       "      <td>0.803030</td>\n",
       "      <td>0.333333</td>\n",
       "    </tr>\n",
       "    <tr>\n",
       "      <th>GradientBoostingClassifier</th>\n",
       "      <td>1.000000</td>\n",
       "      <td>0.636364</td>\n",
       "      <td>1.000000</td>\n",
       "      <td>0.333333</td>\n",
       "    </tr>\n",
       "    <tr>\n",
       "      <th>AdaBoostClassifier</th>\n",
       "      <td>1.000000</td>\n",
       "      <td>0.545455</td>\n",
       "      <td>1.000000</td>\n",
       "      <td>0.285714</td>\n",
       "    </tr>\n",
       "  </tbody>\n",
       "</table>\n",
       "</div>"
      ],
      "text/plain": [
       "                               acc_train   acc_val  f1_train    f1_val\n",
       "classifier                                                            \n",
       "QuadraticDiscriminantAnalysis   0.895522  0.818182  0.900000  0.666667\n",
       "SGDClassifier                   0.604478  0.636364  0.644295  0.600000\n",
       "RandomForestClassifier          0.843284  0.727273  0.839695  0.571429\n",
       "LogisticRegression              0.664179  0.636364  0.661654  0.500000\n",
       "KNeighborsClassifier            0.813433  0.545455  0.838710  0.444444\n",
       "SVC                             0.731343  0.590909  0.729793  0.433333\n",
       "GaussianNB                      0.708955  0.454545  0.706767  0.400000\n",
       "DecisionTreeClassifier          0.805970  0.636364  0.803030  0.333333\n",
       "GradientBoostingClassifier      1.000000  0.636364  1.000000  0.333333\n",
       "AdaBoostClassifier              1.000000  0.545455  1.000000  0.285714"
      ]
     },
     "metadata": {},
     "output_type": "display_data"
    },
    {
     "name": "stdout",
     "output_type": "stream",
     "text": [
      "(134, 9) (11, 9)\n",
      "base accuracy:  0.5\n"
     ]
    },
    {
     "data": {
      "text/html": [
       "<div>\n",
       "<style scoped>\n",
       "    .dataframe tbody tr th:only-of-type {\n",
       "        vertical-align: middle;\n",
       "    }\n",
       "\n",
       "    .dataframe tbody tr th {\n",
       "        vertical-align: top;\n",
       "    }\n",
       "\n",
       "    .dataframe thead th {\n",
       "        text-align: right;\n",
       "    }\n",
       "</style>\n",
       "<table border=\"1\" class=\"dataframe\">\n",
       "  <thead>\n",
       "    <tr style=\"text-align: right;\">\n",
       "      <th></th>\n",
       "      <th>acc_train</th>\n",
       "      <th>acc_val</th>\n",
       "      <th>f1_train</th>\n",
       "      <th>f1_val</th>\n",
       "    </tr>\n",
       "    <tr>\n",
       "      <th>classifier</th>\n",
       "      <th></th>\n",
       "      <th></th>\n",
       "      <th></th>\n",
       "      <th></th>\n",
       "    </tr>\n",
       "  </thead>\n",
       "  <tbody>\n",
       "    <tr>\n",
       "      <th>LGBMClassifier</th>\n",
       "      <td>1.0</td>\n",
       "      <td>0.727273</td>\n",
       "      <td>1.0</td>\n",
       "      <td>0.571429</td>\n",
       "    </tr>\n",
       "  </tbody>\n",
       "</table>\n",
       "</div>"
      ],
      "text/plain": [
       "                acc_train   acc_val  f1_train    f1_val\n",
       "classifier                                             \n",
       "LGBMClassifier        1.0  0.727273       1.0  0.571429"
      ]
     },
     "metadata": {},
     "output_type": "display_data"
    },
    {
     "name": "stdout",
     "output_type": "stream",
     "text": [
      "(134, 9) (11, 9)\n",
      "base accuracy:  0.5\n"
     ]
    },
    {
     "data": {
      "text/html": [
       "<div>\n",
       "<style scoped>\n",
       "    .dataframe tbody tr th:only-of-type {\n",
       "        vertical-align: middle;\n",
       "    }\n",
       "\n",
       "    .dataframe tbody tr th {\n",
       "        vertical-align: top;\n",
       "    }\n",
       "\n",
       "    .dataframe thead th {\n",
       "        text-align: right;\n",
       "    }\n",
       "</style>\n",
       "<table border=\"1\" class=\"dataframe\">\n",
       "  <thead>\n",
       "    <tr style=\"text-align: right;\">\n",
       "      <th></th>\n",
       "      <th>acc_train</th>\n",
       "      <th>acc_val</th>\n",
       "      <th>f1_train</th>\n",
       "      <th>f1_val</th>\n",
       "    </tr>\n",
       "    <tr>\n",
       "      <th>classifier</th>\n",
       "      <th></th>\n",
       "      <th></th>\n",
       "      <th></th>\n",
       "      <th></th>\n",
       "    </tr>\n",
       "  </thead>\n",
       "  <tbody>\n",
       "    <tr>\n",
       "      <th>ExtraTreesClassifier</th>\n",
       "      <td>1.0</td>\n",
       "      <td>0.636364</td>\n",
       "      <td>1.0</td>\n",
       "      <td>0.333333</td>\n",
       "    </tr>\n",
       "  </tbody>\n",
       "</table>\n",
       "</div>"
      ],
      "text/plain": [
       "                      acc_train   acc_val  f1_train    f1_val\n",
       "classifier                                                   \n",
       "ExtraTreesClassifier        1.0  0.636364       1.0  0.333333"
      ]
     },
     "metadata": {},
     "output_type": "display_data"
    },
    {
     "name": "stdout",
     "output_type": "stream",
     "text": [
      "..................................................\n",
      "subgroup:  LumA\n",
      "./../data/interim/PREPROCESSED/RECURRENCE/CLAUDIN_SUBTYPE/vt_std_smote\n",
      "(192, 17) (20, 17)\n",
      "base accuracy:  0.5\n"
     ]
    },
    {
     "data": {
      "text/html": [
       "<div>\n",
       "<style scoped>\n",
       "    .dataframe tbody tr th:only-of-type {\n",
       "        vertical-align: middle;\n",
       "    }\n",
       "\n",
       "    .dataframe tbody tr th {\n",
       "        vertical-align: top;\n",
       "    }\n",
       "\n",
       "    .dataframe thead th {\n",
       "        text-align: right;\n",
       "    }\n",
       "</style>\n",
       "<table border=\"1\" class=\"dataframe\">\n",
       "  <thead>\n",
       "    <tr style=\"text-align: right;\">\n",
       "      <th></th>\n",
       "      <th>acc_train</th>\n",
       "      <th>acc_val</th>\n",
       "      <th>f1_train</th>\n",
       "      <th>f1_val</th>\n",
       "    </tr>\n",
       "    <tr>\n",
       "      <th>classifier</th>\n",
       "      <th></th>\n",
       "      <th></th>\n",
       "      <th></th>\n",
       "      <th></th>\n",
       "    </tr>\n",
       "  </thead>\n",
       "  <tbody>\n",
       "    <tr>\n",
       "      <th>RandomForestClassifier</th>\n",
       "      <td>0.828125</td>\n",
       "      <td>0.6500</td>\n",
       "      <td>0.827225</td>\n",
       "      <td>0.720000</td>\n",
       "    </tr>\n",
       "    <tr>\n",
       "      <th>GaussianNB</th>\n",
       "      <td>0.645833</td>\n",
       "      <td>0.6000</td>\n",
       "      <td>0.649485</td>\n",
       "      <td>0.666667</td>\n",
       "    </tr>\n",
       "    <tr>\n",
       "      <th>QuadraticDiscriminantAnalysis</th>\n",
       "      <td>0.828125</td>\n",
       "      <td>0.6000</td>\n",
       "      <td>0.823529</td>\n",
       "      <td>0.666667</td>\n",
       "    </tr>\n",
       "    <tr>\n",
       "      <th>SVC</th>\n",
       "      <td>0.743490</td>\n",
       "      <td>0.5625</td>\n",
       "      <td>0.750367</td>\n",
       "      <td>0.653077</td>\n",
       "    </tr>\n",
       "    <tr>\n",
       "      <th>KNeighborsClassifier</th>\n",
       "      <td>0.671875</td>\n",
       "      <td>0.5500</td>\n",
       "      <td>0.651934</td>\n",
       "      <td>0.640000</td>\n",
       "    </tr>\n",
       "    <tr>\n",
       "      <th>LogisticRegression</th>\n",
       "      <td>0.656250</td>\n",
       "      <td>0.5000</td>\n",
       "      <td>0.652632</td>\n",
       "      <td>0.583333</td>\n",
       "    </tr>\n",
       "    <tr>\n",
       "      <th>AdaBoostClassifier</th>\n",
       "      <td>0.942708</td>\n",
       "      <td>0.5500</td>\n",
       "      <td>0.942408</td>\n",
       "      <td>0.571429</td>\n",
       "    </tr>\n",
       "    <tr>\n",
       "      <th>GradientBoostingClassifier</th>\n",
       "      <td>1.000000</td>\n",
       "      <td>0.4500</td>\n",
       "      <td>1.000000</td>\n",
       "      <td>0.521739</td>\n",
       "    </tr>\n",
       "    <tr>\n",
       "      <th>SGDClassifier</th>\n",
       "      <td>0.604167</td>\n",
       "      <td>0.5000</td>\n",
       "      <td>0.591398</td>\n",
       "      <td>0.500000</td>\n",
       "    </tr>\n",
       "    <tr>\n",
       "      <th>DecisionTreeClassifier</th>\n",
       "      <td>0.776042</td>\n",
       "      <td>0.4000</td>\n",
       "      <td>0.790244</td>\n",
       "      <td>0.454545</td>\n",
       "    </tr>\n",
       "  </tbody>\n",
       "</table>\n",
       "</div>"
      ],
      "text/plain": [
       "                               acc_train  acc_val  f1_train    f1_val\n",
       "classifier                                                           \n",
       "RandomForestClassifier          0.828125   0.6500  0.827225  0.720000\n",
       "GaussianNB                      0.645833   0.6000  0.649485  0.666667\n",
       "QuadraticDiscriminantAnalysis   0.828125   0.6000  0.823529  0.666667\n",
       "SVC                             0.743490   0.5625  0.750367  0.653077\n",
       "KNeighborsClassifier            0.671875   0.5500  0.651934  0.640000\n",
       "LogisticRegression              0.656250   0.5000  0.652632  0.583333\n",
       "AdaBoostClassifier              0.942708   0.5500  0.942408  0.571429\n",
       "GradientBoostingClassifier      1.000000   0.4500  1.000000  0.521739\n",
       "SGDClassifier                   0.604167   0.5000  0.591398  0.500000\n",
       "DecisionTreeClassifier          0.776042   0.4000  0.790244  0.454545"
      ]
     },
     "metadata": {},
     "output_type": "display_data"
    },
    {
     "name": "stdout",
     "output_type": "stream",
     "text": [
      "(192, 17) (20, 17)\n",
      "base accuracy:  0.5\n"
     ]
    },
    {
     "data": {
      "text/html": [
       "<div>\n",
       "<style scoped>\n",
       "    .dataframe tbody tr th:only-of-type {\n",
       "        vertical-align: middle;\n",
       "    }\n",
       "\n",
       "    .dataframe tbody tr th {\n",
       "        vertical-align: top;\n",
       "    }\n",
       "\n",
       "    .dataframe thead th {\n",
       "        text-align: right;\n",
       "    }\n",
       "</style>\n",
       "<table border=\"1\" class=\"dataframe\">\n",
       "  <thead>\n",
       "    <tr style=\"text-align: right;\">\n",
       "      <th></th>\n",
       "      <th>acc_train</th>\n",
       "      <th>acc_val</th>\n",
       "      <th>f1_train</th>\n",
       "      <th>f1_val</th>\n",
       "    </tr>\n",
       "    <tr>\n",
       "      <th>classifier</th>\n",
       "      <th></th>\n",
       "      <th></th>\n",
       "      <th></th>\n",
       "      <th></th>\n",
       "    </tr>\n",
       "  </thead>\n",
       "  <tbody>\n",
       "    <tr>\n",
       "      <th>LGBMClassifier</th>\n",
       "      <td>1.0</td>\n",
       "      <td>0.55</td>\n",
       "      <td>1.0</td>\n",
       "      <td>0.608696</td>\n",
       "    </tr>\n",
       "  </tbody>\n",
       "</table>\n",
       "</div>"
      ],
      "text/plain": [
       "                acc_train  acc_val  f1_train    f1_val\n",
       "classifier                                            \n",
       "LGBMClassifier        1.0     0.55       1.0  0.608696"
      ]
     },
     "metadata": {},
     "output_type": "display_data"
    },
    {
     "name": "stdout",
     "output_type": "stream",
     "text": [
      "(192, 17) (20, 17)\n",
      "base accuracy:  0.5\n"
     ]
    },
    {
     "data": {
      "text/html": [
       "<div>\n",
       "<style scoped>\n",
       "    .dataframe tbody tr th:only-of-type {\n",
       "        vertical-align: middle;\n",
       "    }\n",
       "\n",
       "    .dataframe tbody tr th {\n",
       "        vertical-align: top;\n",
       "    }\n",
       "\n",
       "    .dataframe thead th {\n",
       "        text-align: right;\n",
       "    }\n",
       "</style>\n",
       "<table border=\"1\" class=\"dataframe\">\n",
       "  <thead>\n",
       "    <tr style=\"text-align: right;\">\n",
       "      <th></th>\n",
       "      <th>acc_train</th>\n",
       "      <th>acc_val</th>\n",
       "      <th>f1_train</th>\n",
       "      <th>f1_val</th>\n",
       "    </tr>\n",
       "    <tr>\n",
       "      <th>classifier</th>\n",
       "      <th></th>\n",
       "      <th></th>\n",
       "      <th></th>\n",
       "      <th></th>\n",
       "    </tr>\n",
       "  </thead>\n",
       "  <tbody>\n",
       "    <tr>\n",
       "      <th>ExtraTreesClassifier</th>\n",
       "      <td>1.0</td>\n",
       "      <td>0.65</td>\n",
       "      <td>1.0</td>\n",
       "      <td>0.740741</td>\n",
       "    </tr>\n",
       "  </tbody>\n",
       "</table>\n",
       "</div>"
      ],
      "text/plain": [
       "                      acc_train  acc_val  f1_train    f1_val\n",
       "classifier                                                  \n",
       "ExtraTreesClassifier        1.0     0.65       1.0  0.740741"
      ]
     },
     "metadata": {},
     "output_type": "display_data"
    },
    {
     "name": "stderr",
     "output_type": "stream",
     "text": [
      "1it [00:02,  2.96s/it]"
     ]
    },
    {
     "name": "stdout",
     "output_type": "stream",
     "text": [
      "..................................................\n",
      "subgroup:  claudin-low\n",
      "./../data/interim/PREPROCESSED/RECURRENCE/CLAUDIN_SUBTYPE/vt_std_smote\n",
      "pkl file does not exist\n",
      "pkl file does not exist\n",
      "pkl file does not exist\n",
      "..................................................\n",
      "subgroup:  Basal\n",
      "./../data/interim/PREPROCESSED/RECURRENCE/CLAUDIN_SUBTYPE/vt_std_smote\n",
      "pkl file does not exist\n",
      "pkl file does not exist\n",
      "pkl file does not exist\n",
      "..................................................\n",
      "subgroup:  Normal\n",
      "./../data/interim/PREPROCESSED/RECURRENCE/CLAUDIN_SUBTYPE/vt_std_smote\n",
      "pkl file does not exist\n",
      "pkl file does not exist\n",
      "pkl file does not exist\n",
      "..................................................\n",
      "subgroup:  NC\n",
      "./../data/interim/PREPROCESSED/RECURRENCE/CLAUDIN_SUBTYPE/vt_std_smote\n",
      "pkl file does not exist\n",
      "pkl file does not exist\n",
      "pkl file does not exist\n"
     ]
    },
    {
     "name": "stderr",
     "output_type": "stream",
     "text": [
      "\n"
     ]
    },
    {
     "data": {
      "image/png": "[encoded data removed]",
      "text/plain": [
       "<Figure size 432x288 with 2 Axes>"
      ]
     },
     "metadata": {
      "needs_background": "light"
     },
     "output_type": "display_data"
    },
    {
     "data": {
      "image/png": "[encoded data removed]",
      "text/plain": [
       "<Figure size 432x288 with 2 Axes>"
      ]
     },
     "metadata": {
      "needs_background": "light"
     },
     "output_type": "display_data"
    },
    {
     "data": {
      "image/png": "[encoded data removed]",
      "text/plain": [
       "<Figure size 432x288 with 2 Axes>"
      ]
     },
     "metadata": {
      "needs_background": "light"
     },
     "output_type": "display_data"
    },
    {
     "data": {
      "image/png": "[encoded data removed]",
      "text/plain": [
       "<Figure size 432x288 with 2 Axes>"
      ]
     },
     "metadata": {
      "needs_background": "light"
     },
     "output_type": "display_data"
    },
    {
     "data": {
      "image/png": "[encoded data removed]",
      "text/plain": [
       "<Figure size 432x288 with 2 Axes>"
      ]
     },
     "metadata": {
      "needs_background": "light"
     },
     "output_type": "display_data"
    },
    {
     "data": {
      "image/png": "[encoded data removed]",
      "text/plain": [
       "<Figure size 432x288 with 2 Axes>"
      ]
     },
     "metadata": {
      "needs_background": "light"
     },
     "output_type": "display_data"
    },
    {
     "data": {
      "image/png": "[encoded data removed]",
      "text/plain": [
       "<Figure size 432x288 with 2 Axes>"
      ]
     },
     "metadata": {
      "needs_background": "light"
     },
     "output_type": "display_data"
    },
    {
     "data": {
      "image/png": "[encoded data removed]",
      "text/plain": [
       "<Figure size 432x288 with 2 Axes>"
      ]
     },
     "metadata": {
      "needs_background": "light"
     },
     "output_type": "display_data"
    },
    {
     "data": {
      "image/png": "[encoded data removed]",
      "text/plain": [
       "<Figure size 432x288 with 2 Axes>"
      ]
     },
     "metadata": {
      "needs_background": "light"
     },
     "output_type": "display_data"
    },
    {
     "data": {
      "image/png": "[encoded data removed]",
      "text/plain": [
       "<Figure size 432x288 with 2 Axes>"
      ]
     },
     "metadata": {
      "needs_background": "light"
     },
     "output_type": "display_data"
    },
    {
     "data": {
      "image/png": "[encoded data removed]",
      "text/plain": [
       "<Figure size 432x288 with 2 Axes>"
      ]
     },
     "metadata": {
      "needs_background": "light"
     },
     "output_type": "display_data"
    },
    {
     "data": {
      "image/png": "[encoded data removed]",
      "text/plain": [
       "<Figure size 432x288 with 2 Axes>"
      ]
     },
     "metadata": {
      "needs_background": "light"
     },
     "output_type": "display_data"
    }
   ],
   "source": [
    "def validate_models(\n",
    "    input_file_path: str = None,\n",
    "    input_file_name: str = None,\n",
    "    classifiers: list = config.classifiers,\n",
    "    plot: bool = False,\n",
    "):\n",
    "    try:\n",
    "        list_train, list_val, _, _ = functions.read_preprocessed_df(\n",
    "            input_file_path, input_file_name\n",
    "        )\n",
    "    except:\n",
    "        return\n",
    "    X_train, y_train = list_train[0], list_train[1]\n",
    "    X_val, y_val = list_val[0], list_val[1]\n",
    "    print(X_train.shape, X_val.shape)\n",
    "\n",
    "    # accuracyの表示\n",
    "    print(\"base accuracy: \", (y_train == 1).sum() / y_train.shape[0])\n",
    "    display(\n",
    "        functions.compare_bcms(\n",
    "            X_train,\n",
    "            y_train,\n",
    "            X_val,\n",
    "            y_val,\n",
    "            classifiers=classifiers,\n",
    "            plot=plot,\n",
    "        )\n",
    "    )\n",
    "\n",
    "\n",
    "# サブグループ削除（一時的に）\n",
    "subgroup_columns = [\n",
    "    \"CLAUDIN_SUBTYPE\",\n",
    "    # \"NPI_CAT\",\n",
    "    # \"TUMOR_CAT\",\n",
    "    # \"LYMPH_CAT\",\n",
    "]\n",
    "\n",
    "feature_selection_methods = [\n",
    "    \"vt\",\n",
    "    # \"mrmr\"\n",
    "]\n",
    "\n",
    "scaling_methods = [\n",
    "    \"std\",\n",
    "    # \"norm\"\n",
    "]\n",
    "\n",
    "sampling_methods = [\n",
    "    # \"none\",\n",
    "    \"smote\"\n",
    "]\n",
    "\n",
    "for feature_selection_method, scaling_method, sampling_method in tqdm(\n",
    "    itertools.product(feature_selection_methods, scaling_methods, sampling_methods)\n",
    "):\n",
    "    preprocess_order = \"{0}_{1}_{2}\".format(\n",
    "        feature_selection_method, scaling_method, sampling_method\n",
    "    )\n",
    "    print(\"=====\" * 10)\n",
    "    for subgroup_column in subgroup_columns:  # 各サブグループへの適用\n",
    "        print(\"-----\" * 10)\n",
    "        print(\"subgroup column: \", subgroup_column)\n",
    "\n",
    "        for subgroup in df_recurrenced[subgroup_column].unique():  # サブグループ毎への適用\n",
    "            print(\".....\" * 10)\n",
    "            print(\"subgroup: \", subgroup)\n",
    "            input_file_path = \"./{0}/{1}/{2}\".format(\n",
    "                config.INTERIM_PREPROCESSED_RECURRENCE_DIR,\n",
    "                subgroup_column,\n",
    "                preprocess_order,\n",
    "                plot=True,\n",
    "            )\n",
    "            print(input_file_path)\n",
    "            validate_models(\n",
    "                input_file_path=input_file_path, input_file_name=subgroup, plot=False\n",
    "            )\n",
    "\n",
    "            params = {\n",
    "                \"class_weight\": \"balanced\",\n",
    "                \"random_state\": SEED,\n",
    "            }\n",
    "            validate_models(\n",
    "                input_file_path=input_file_path,\n",
    "                input_file_name=subgroup,\n",
    "                classifiers=[LGBMClassifier(**params)],\n",
    "                plot=True,\n",
    "            )\n",
    "\n",
    "            params = {\n",
    "                \"class_weight\": \"balanced\",\n",
    "                \"random_state\": SEED,\n",
    "            }\n",
    "            validate_models(\n",
    "                input_file_path=input_file_path,\n",
    "                input_file_name=subgroup,\n",
    "                classifiers=[ExtraTreesClassifier(**params)],\n",
    "                plot=True,\n",
    "            )"
   ]
  },
  {
   "cell_type": "markdown",
   "id": "5ea9b9de-e2d4-4751-8d19-461deb386d62",
   "metadata": {
    "tags": []
   },
   "source": [
    "## xgboost"
   ]
  },
  {
   "cell_type": "code",
   "execution_count": 3,
   "id": "ab371bcd-769d-45a8-80ae-d357b3a574c5",
   "metadata": {},
   "outputs": [
    {
     "name": "stderr",
     "output_type": "stream",
     "text": [
      "1it [00:00, 306.02it/s]"
     ]
    },
    {
     "name": "stdout",
     "output_type": "stream",
     "text": [
      "==================================================\n",
      "--------------------------------------------------\n",
      "subgroup column:  CLAUDIN_SUBTYPE\n",
      "..................................................\n",
      "subgroup:  LumB\n",
      "pkl file does not exist\n",
      "..................................................\n",
      "subgroup:  Her2\n",
      "pkl file does not exist\n",
      "..................................................\n",
      "subgroup:  LumA\n",
      "pkl file does not exist\n",
      "..................................................\n",
      "subgroup:  claudin-low\n",
      "pkl file does not exist\n",
      "..................................................\n",
      "subgroup:  Basal\n",
      "pkl file does not exist\n",
      "..................................................\n",
      "subgroup:  Normal\n",
      "pkl file does not exist\n",
      "..................................................\n",
      "subgroup:  NC\n",
      "pkl file does not exist\n"
     ]
    },
    {
     "name": "stderr",
     "output_type": "stream",
     "text": [
      "\n"
     ]
    }
   ],
   "source": [
    "# サブグループ削除（一時的に）\n",
    "subgroup_columns = [\n",
    "    \"CLAUDIN_SUBTYPE\",\n",
    "    # \"NPI_CAT\",\n",
    "    # \"TUMOR_CAT\",\n",
    "    # \"LYMPH_CAT\",\n",
    "]\n",
    "\n",
    "feature_selection_methods = [\n",
    "    \"variance_threshold\",\n",
    "    # \"mrmr\"\n",
    "]\n",
    "\n",
    "\n",
    "scaling_methods = [\n",
    "    \"std\",\n",
    "    # \"norm\"\n",
    "]\n",
    "\n",
    "\n",
    "for feature_selection_method, scaling_method in tqdm(\n",
    "    itertools.product(feature_selection_methods, scaling_methods)\n",
    "):\n",
    "    print(\"=====\" * 10)\n",
    "    for subgroup_column in subgroup_columns:  # 各サブグループへの適用\n",
    "        print(\"-----\" * 10)\n",
    "        print(\"subgroup column: \", subgroup_column)\n",
    "        for subgroup in df_recurrenced[subgroup_column].unique():  # サブグループ毎への適用\n",
    "            print(\".....\" * 10)\n",
    "            print(\"subgroup: \", subgroup)\n",
    "            file_path = \"./{0}/{1}/{2}\".format(\n",
    "                config.INTERIM_PREPROCESSED_RECURRENCE_DIR,\n",
    "                subgroup_column,\n",
    "                feature_selection_method,\n",
    "                scaling_method,\n",
    "            )\n",
    "            file_name = subgroup\n",
    "\n",
    "            try:\n",
    "                list_train, list_val, _, _ = functions.read_preprocessed_df(\n",
    "                    file_path, file_name\n",
    "                )\n",
    "            except:\n",
    "                continue\n",
    "\n",
    "            X_train, y_train = list_train[0], list_train[1].map(lambda x: int(x))\n",
    "            X_val, y_val = list_val[0], list_val[1].map(lambda x: int(x))\n",
    "\n",
    "            # scaling\n",
    "            X_train, X_val = functions.transform_std(X_train, X_val)\n",
    "            sm = SMOTE(random_state=SEED)\n",
    "            X_train, y_train = sm.fit_resample(X_train, y_train)\n",
    "\n",
    "            xgb_train = xgb.DMatrix(\n",
    "                X_train, label=y_train, feature_names=X_train.columns\n",
    "            )\n",
    "            xgb_val = xgb.DMatrix(X_val, label=y_val, feature_names=X_val.columns)\n",
    "\n",
    "            param = {\n",
    "                # 二値分類問題\n",
    "                \"objective\": \"binary:logistic\",\n",
    "            }\n",
    "            clf = xgb.train(param, xgb_train)\n",
    "            y_val_pred_proba = clf.predict(xgb_val)\n",
    "            y_val_pred = np.where(y_val_pred_proba > 0.5, 1, 0)\n",
    "            functions.show_scores(y_val, y_val_pred)"
   ]
  },
  {
   "cell_type": "code",
   "execution_count": null,
   "id": "64447767-8c4a-43bd-9238-5ee4fa020030",
   "metadata": {},
   "outputs": [],
   "source": []
  }
 ],
 "metadata": {
  "kernelspec": {
   "display_name": "Python 3 (ipykernel)",
   "language": "python",
   "name": "python3"
  },
  "language_info": {
   "codemirror_mode": {
    "name": "ipython",
    "version": 3
   },
   "file_extension": ".py",
   "mimetype": "text/x-python",
   "name": "python",
   "nbconvert_exporter": "python",
   "pygments_lexer": "ipython3",
   "version": "3.8.13"
  },
  "vscode": {
   "interpreter": {
    "hash": "916dbcbb3f70747c44a77c7bcd40155683ae19c65e1c03b4aa3499c5328201f1"
   }
  }
 },
 "nbformat": 4,
 "nbformat_minor": 5
}
