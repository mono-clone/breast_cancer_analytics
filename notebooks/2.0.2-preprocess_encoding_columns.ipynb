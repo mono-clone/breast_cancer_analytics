{
 "cells": [
  {
   "cell_type": "code",
   "execution_count": 37,
   "id": "e1305beb-70db-4502-a0e5-b5603c591a79",
   "metadata": {},
   "outputs": [],
   "source": [
    "import os\n",
    "import numpy as np\n",
    "import pandas as pd\n",
    "\n",
    "from sklearn.preprocessing import OneHotEncoder, LabelEncoder\n",
    "\n",
    "import config\n",
    "\n",
    "# 最大表示列数の指定（ここでは50列を指定）\n",
    "pd.set_option(\"display.max_columns\", 50)\n",
    "pd.set_option(\"display.max_rows\", 50)\n",
    "\n",
    "\n",
    "def make_dir(dir_name: str):\n",
    "    if not os.path.exists(dir_name):\n",
    "        os.makedirs(dir_name)"
   ]
  },
  {
   "cell_type": "markdown",
   "id": "9f36685e-a13c-4639-8f0e-539692f27600",
   "metadata": {},
   "source": [
    "# 型のエンコーディング\n",
    "## df｜df_MB_dtype_encoded\n",
    "順序尺度特徴量とboolean特徴量について、データを扱いやすい形に変換する。"
   ]
  },
  {
   "cell_type": "code",
   "execution_count": 38,
   "id": "9714b8ad-301e-48d7-9ef1-4d3214183395",
   "metadata": {},
   "outputs": [
    {
     "name": "stdout",
     "output_type": "stream",
     "text": [
      "<class 'pandas.core.frame.DataFrame'>\n",
      "Int64Index: 1124 entries, 1 to 1743\n",
      "Data columns (total 36 columns):\n",
      " #   Column                         Non-Null Count  Dtype  \n",
      "---  ------                         --------------  -----  \n",
      " 0   PATIENT_ID                     1124 non-null   object \n",
      " 1   LYMPH_NODES_EXAMINED_POSITIVE  1124 non-null   float64\n",
      " 2   NPI                            1124 non-null   float64\n",
      " 3   CELLULARITY                    1124 non-null   object \n",
      " 4   CHEMOTHERAPY                   1124 non-null   object \n",
      " 5   COHORT                         1124 non-null   float64\n",
      " 6   ER_IHC                         1124 non-null   object \n",
      " 7   HER2_SNP6                      1124 non-null   object \n",
      " 8   HORMONE_THERAPY                1124 non-null   object \n",
      " 9   INFERRED_MENOPAUSAL_STATE      1124 non-null   object \n",
      " 10  SEX                            1124 non-null   object \n",
      " 11  INTCLUST                       1124 non-null   object \n",
      " 12  AGE_AT_DIAGNOSIS               1124 non-null   float64\n",
      " 13  OS_MONTHS                      1124 non-null   float64\n",
      " 14  OS_STATUS                      1124 non-null   object \n",
      " 15  CLAUDIN_SUBTYPE                1124 non-null   object \n",
      " 16  THREEGENE                      1124 non-null   object \n",
      " 17  VITAL_STATUS                   1124 non-null   object \n",
      " 18  LATERALITY                     1124 non-null   object \n",
      " 19  RADIO_THERAPY                  1124 non-null   object \n",
      " 20  HISTOLOGICAL_SUBTYPE           1124 non-null   object \n",
      " 21  BREAST_SURGERY                 1124 non-null   object \n",
      " 22  RFS_STATUS                     1124 non-null   object \n",
      " 23  RFS_MONTHS                     1124 non-null   float64\n",
      " 24  SAMPLE_ID                      1124 non-null   object \n",
      " 25  CANCER_TYPE                    1124 non-null   object \n",
      " 26  CANCER_TYPE_DETAILED           1124 non-null   object \n",
      " 27  ER_STATUS                      1124 non-null   object \n",
      " 28  HER2_STATUS                    1124 non-null   object \n",
      " 29  GRADE                          1124 non-null   float64\n",
      " 30  ONCOTREE_CODE                  1124 non-null   object \n",
      " 31  PR_STATUS                      1124 non-null   object \n",
      " 32  SAMPLE_TYPE                    1124 non-null   object \n",
      " 33  TUMOR_SIZE                     1124 non-null   float64\n",
      " 34  TUMOR_STAGE                    1124 non-null   float64\n",
      " 35  TMB_NONSYNONYMOUS              1124 non-null   float64\n",
      "dtypes: float64(10), object(26)\n",
      "memory usage: 324.9+ KB\n"
     ]
    }
   ],
   "source": [
    "df_MB_dtype_encoded = pd.read_pickle(\n",
    "    config.INTERIM_PICKLE_PREPROCESSED_DIR + \"/2.0.1-df_MB_dropped.pkl\"\n",
    ")\n",
    "df_MB_dtype_encoded.info()"
   ]
  },
  {
   "cell_type": "code",
   "execution_count": 39,
   "id": "eac3ec3e-e891-4e1d-873e-4dafbd7999c8",
   "metadata": {},
   "outputs": [
    {
     "data": {
      "text/plain": [
       "[\"PATIENT_ID['MB-0002' 'MB-0008' 'MB-0010' ... 'MB-6237' 'MB-6239' 'MB-6346']\",\n",
       " 'LYMPH_NODES_EXAMINED_POSITIVE[ 0.  8.  1.  3. 16.  5. 14.  6.  2.  4.  9. 22.  7. 21. 12. 25. 10. 41.\\n 15. 13. 11. 19. 17. 18. 23. 26. 31.]',\n",
       " 'NPI[4.02  6.08  4.062 5.032 3.056 3.044 4.066 4.046 4.032 4.078 3.068 5.08\\n 4.14  2.054 6.3   5.034 3.06  4.05  4.12  5.052 5.06  3.04  4.1   2.018\\n 3.07  3.028 6.048 2.034 3.16  5.044 5.07  3.026 3.036 4.06  4.054 3.032\\n 5.076 4.038 6.1   4.024 3.024 4.028 6.104 5.048 4.034 3.052 4.04  6.088\\n 4.048 6.072 4.088 6.068 4.042 3.05  6.096 2.026 5.042 6.056 6.036 5.038\\n 5.05  2.02  3.006 3.08  5.04  6.04  3.038 3.034 6.07  2.092 4.044 4.03\\n 4.022 4.052 5.11  3.018 5.046 6.058 6.02  3.042 2.094 3.066 5.064 4.09\\n 4.058 4.056 6.032 2.044 4.026 3.1   4.036 5.134 5.1   3.03  6.062 6.094\\n 6.044 6.05  5.056 6.086 6.03  6.106 2.022 6.084 6.09  5.03  6.36  4.08\\n 5.062 6.12  4.084 4.114 5.066 2.032 6.2   5.068 6.026 5.14  5.078 5.16\\n 4.064 6.038 3.058 6.06  3.046 3.022 5.12  3.062 6.13  6.074 2.024 6.046\\n 5.104 2.04  6.042 3.02  5.084 6.052 4.13  5.18  5.09  6.054 3.12  2.08\\n 4.016 2.048 4.2   6.32  3.016 6.168 2.06  4.094 3.074 2.03  3.048 5.024\\n 2.038 5.074 4.07  5.022 4.018 3.054 5.054 5.02  5.036 5.026 5.086 5.072\\n 2.036 4.074 5.011 4.086 4.098 6.198 6.002 2.198 4.136 5.092 2.05  2.002\\n 6.064 6.028 6.034 2.086 4.11  4.002 4.082 3.002 3.012 5.13  6.16  4.004\\n 3.14  2.064 5.058 2.052 5.15  4.068 4.092 3.084]',\n",
       " \"CELLULARITY['High' 'Moderate' 'Low']\",\n",
       " \"CHEMOTHERAPY['NO' 'YES']\",\n",
       " 'COHORT[1. 2. 3. 5.]',\n",
       " \"ER_IHC['Positve' 'Negative']\",\n",
       " \"HER2_SNP6['NEUTRAL' 'GAIN' 'LOSS' 'UNDEF']\",\n",
       " \"HORMONE_THERAPY['YES' 'NO']\",\n",
       " \"INFERRED_MENOPAUSAL_STATE['Pre' 'Post']\",\n",
       " \"SEX['Female']\",\n",
       " \"INTCLUST['4ER+' '9' '7' '3' '8' '10' '5' '6' '1' '2' '4ER-']\",\n",
       " 'AGE_AT_DIAGNOSIS[43.19 76.97 78.77 86.41 84.22 85.49 44.64 45.43 61.49 68.68 46.89 51.38\\n 49.87 54.23 83.89 36.96 48.59 39.84 42.55 60.07 82.73 72.1  78.73 58.95\\n 76.89 43.46 73.98 61.95 57.4  63.53 56.75 69.16 58.89 73.11 74.09 72.3\\n 51.33 47.62 74.07 57.99 85.39 62.4  81.   79.28 53.16 77.13 70.22 67.7\\n 63.77 62.46 62.72 71.5  57.56 37.87 53.75 44.98 76.4  60.26 83.35 64.57\\n 48.11 83.99 59.18 38.78 85.94 56.39 51.69 68.45 68.41 57.79 62.55 56.45\\n 75.18 50.48 43.37 49.5  46.   86.24 79.38 53.56 55.02 67.17 41.41 75.63\\n 43.39 37.24 77.72 50.45 59.15 58.21 63.35 45.5  44.73 52.55 43.63 52.19\\n 77.85 53.72 66.75 45.76 53.45 57.61 62.7  63.93 46.44 45.39 29.98 55.36\\n 68.66 51.81 55.22 51.19 80.34 46.17 47.13 82.46 81.53 47.71 60.62 82.53\\n 41.63 89.43 67.38 77.94 70.49 55.52 73.48 56.32 50.82 92.14 50.98 46.86\\n 86.28 79.34 74.76 79.97 59.75 37.3  32.61 81.88 72.26 61.32 86.26 73.01\\n 58.16 57.87 83.58 40.5  52.79 73.24 48.67 76.84 51.74 74.79 64.01 78.41\\n 39.86 63.31 34.68 72.69 63.25 57.15 48.22 83.9  33.65 59.05 65.02 74.58\\n 66.58 66.83 46.63 46.87 56.28 68.74 56.48 80.38 58.56 56.41 68.47 55.28\\n 48.58 73.06 60.71 69.32 57.41 54.6  54.06 56.58 72.16 54.22 58.72 77.92\\n 34.92 73.53 66.72 44.02 83.17 81.89 85.21 78.86 63.61 69.79 88.29 82.17\\n 50.32 56.73 71.58 61.67 40.07 56.96 54.38 63.2  54.43 61.11 90.02 56.84\\n 49.28 85.09 81.44 60.5  60.48 58.98 87.18 33.97 58.35 67.94 76.49 54.29\\n 54.15 54.62 74.02 33.83 51.86 39.53 49.61 38.72 60.78 57.57 57.36 41.46\\n 81.9  43.4  77.22 63.19 60.   57.27 36.56 48.93 60.77 68.16 56.38 60.74\\n 58.71 42.68 41.48 71.84 59.84 73.39 62.81 47.92 61.99 52.2  40.65 48.47\\n 73.22 53.64 67.46 59.07 46.66 67.88 61.89 66.11 38.86 39.3  74.46 61.28\\n 74.96 68.99 61.79 71.21 48.1  51.42 59.64 70.53 33.8  96.29 84.76 75.67\\n 41.31 76.72 77.99 50.41 76.35 59.96 60.27 84.   62.34 77.96 77.48 64.55\\n 46.85 70.5  32.99 79.52 58.08 83.19 76.81 51.15 71.3  75.65 60.2  48.99\\n 75.98 72.14 63.86 38.9  70.04 64.28 63.98 38.35 84.41 51.92 26.36 75.71\\n 66.09 56.34 79.12 73.46 71.06 79.48 69.95 82.5  35.9  60.89 52.43 78.78\\n 50.94 78.27 61.31 58.83 59.22 79.41 73.64 56.47 83.68 79.61 50.62 83.01\\n 70.6  57.96 60.29 54.11 62.59 52.98 58.99 59.63 43.72 65.07 63.3  53.53\\n 62.54 36.52 70.69 30.67 62.56 68.76 61.78 66.36 48.07 44.88 28.62 49.94\\n 48.25 68.23 60.13 47.48 51.36 30.95 38.16 63.1  70.32 65.79 53.11 59.9\\n 54.4  66.06 62.76 36.8  64.32 62.36 47.03 40.79 50.38 67.62 42.07 50.07\\n 70.35 63.01 65.25 64.25 36.5  56.85 67.12 58.48 61.08 60.76 55.8  65.04\\n 60.11 60.65 58.69 36.25 61.53 45.3  63.94 59.58 47.1  66.84 68.18 59.29\\n 59.6  33.9  59.13 45.74 44.08 36.47 39.07 43.08 31.02 69.67 53.99 69.48\\n 50.3  66.86 46.49 69.6  40.02 56.26 64.04 63.65 46.7  58.1  61.42 62.32\\n 45.75 60.09 48.48 51.94 50.37 39.7  56.83 63.08 37.89 49.92 46.76 50.01\\n 69.07 54.64 53.19 67.2  57.17 59.53 55.3  47.74 65.69 43.51 50.54 68.5\\n 43.68 60.34 58.55 28.96 48.34 61.07 63.06 62.39 50.26 59.78 66.76 54.95\\n 58.31 63.03 50.66 56.81 50.21 52.91 59.43 45.   29.92 60.04 60.42 42.72\\n 48.75 64.99 63.96 69.65 56.03 62.96 62.62 39.4  48.53 47.75 57.31 56.42\\n 51.18 65.62 66.15 65.5  60.99 53.36 40.06 59.3  63.34 52.45 41.17 50.92\\n 49.08 68.86 37.05 70.52 43.67 51.52 57.66 40.92 21.93 68.59 60.3  43.58\\n 41.1  62.09 53.5  66.91 50.79 39.28 67.6  65.56 49.84 66.85 51.76 55.95\\n 53.04 60.15 68.61 63.95 37.16 55.71 70.77 41.52 51.01 49.98 57.01 48.16\\n 49.45 60.45 53.89 65.89 43.56 63.82 49.37 62.03 35.5  76.96 74.51 70.31\\n 61.16 76.17 59.24 54.35 71.17 43.06 64.21 74.31 75.87 54.01 73.91 28.04\\n 74.32 55.07 55.62 65.49 54.16 69.01 61.21 63.83 71.47 40.05 39.51 40.83\\n 61.88 55.65 67.03 66.37 61.59 64.93 66.27 78.21 75.19 69.96 44.5  81.11\\n 61.97 54.27 57.98 65.58 68.82 61.   72.48 63.27 75.26 59.23 64.11 73.6\\n 53.03 81.98 49.76 76.06 61.12 52.13 67.79 63.58 75.48 59.85 49.02 77.12\\n 56.07 46.59 64.68 67.8  44.27 67.27 66.39 64.76 60.44 65.83 51.29 26.72\\n 56.27 54.18 52.29 42.27 56.08 53.02 52.61 50.08 70.57 73.21 63.7  67.82\\n 44.07 57.95 74.86 65.86 47.86 78.62 53.39 75.46 68.85 43.73 83.49 53.18\\n 81.06 61.3  49.77 43.77 39.92 75.74 76.88 65.93 78.54 78.87 45.44 63.07\\n 81.52 73.95 74.29 44.95 50.7  43.86 57.33 74.53 42.45 79.35 43.42 52.09\\n 33.04 41.53 40.04 40.25 47.61 73.03 69.87 78.19 59.49 62.43 50.78 74.85\\n 36.35 41.09 33.92 57.32 60.31 77.77 69.99 67.15 69.31 76.93 56.94 69.93\\n 55.83 65.16 41.   76.37 66.47 33.55 77.54 75.27 44.84 71.61 42.84 65.76\\n 67.68 68.56 44.36 72.12 49.88 62.68 46.95 63.92 72.73 45.4  70.42 55.56\\n 70.11 44.12 61.76 55.04 76.66 52.57 39.25 61.04 53.69 75.01 71.05 75.55\\n 41.54 63.4  53.58 52.23 70.59 56.33 66.38 49.   72.38 32.74 67.86 63.24\\n 61.06 43.8  40.57 74.71 51.09 75.33 47.24 69.72 83.96 74.98 46.58 78.8\\n 57.14 61.55 54.61 69.29 76.19 31.87 68.52 44.41 69.04 48.76 69.23 62.84\\n 46.79 49.57 69.05 65.26 68.6  74.34 79.76 65.44 69.24 88.8  62.11 65.35\\n 70.23 73.17 50.24 67.45 79.17 68.42 80.17 66.57 42.11 76.2  42.05 90.23\\n 68.01 75.53 72.56 39.99 48.17 79.59 59.04 63.02 46.03 56.92 69.2  69.59\\n 72.77 41.28 72.23 66.12 46.4  76.83 52.77 47.98 67.1  58.25 40.71 60.33\\n 66.55 55.72 69.46 70.1  69.42 67.25 70.86 31.71 60.51 78.93 49.63 53.35\\n 55.53 58.26 71.4  50.6  69.7  60.96 31.26 66.94 74.57 64.64 54.69 68.93\\n 78.44 41.81 61.24 71.78 56.37 76.87 56.89 41.27 66.7  47.35 72.88 76.01\\n 79.29 75.56 66.18 67.13 35.14 44.   69.27 69.8  37.27 57.34 82.72 71.51\\n 61.84 71.01 75.42 81.76 81.57 36.03 65.48 51.62 66.45 43.61 51.87 61.14\\n 45.8  64.15 71.49 68.   47.14 66.42 67.59 86.04 49.91 69.37 71.07 49.05\\n 90.08 44.93 51.25 38.92 43.44 36.99 55.57 54.96 64.07 69.83 67.54 72.61\\n 46.26 73.55 59.02 57.62 40.75 47.3  80.08 53.6  65.31 72.25 69.56 64.1\\n 74.26 86.55 63.45 72.39 38.49 45.42 40.21 50.61 66.56 69.66 71.64 80.09\\n 79.11 54.83 84.3  67.24 57.75 35.13 44.05 73.93 76.3  64.27 74.95 78.84\\n 52.63 68.64 75.28 46.43 50.75 69.55 75.38 66.88 40.37 80.21 62.87 81.63\\n 62.89 44.99 73.75 78.55 57.2  65.14 58.   78.64 68.13 71.31 58.4  65.43\\n 51.98 68.75 60.72 67.57 86.61 70.65 79.04 38.01 39.41 41.11 85.85 60.6\\n 66.24 56.25 44.51 79.2  56.93 61.81 49.67 68.43 71.22 75.62 52.84]',\n",
       " 'OS_MONTHS[ 84.63333333  41.36666667   7.8        ... 105.2        200.3333333\\n 281.5       ]',\n",
       " \"OS_STATUS['0:LIVING' '1:DECEASED']\",\n",
       " \"CLAUDIN_SUBTYPE['LumA' 'LumB' 'Her2' 'Normal' 'Basal' 'claudin-low' 'NC']\",\n",
       " \"THREEGENE['ER+/HER2- High Prolif' 'ER+/HER2- Low Prolif' 'ER-/HER2-' 'HER2+']\",\n",
       " \"VITAL_STATUS['Living' 'Died of Disease' 'Died of Other Causes']\",\n",
       " \"LATERALITY['Right' 'Left']\",\n",
       " \"RADIO_THERAPY['YES' 'NO']\",\n",
       " \"HISTOLOGICAL_SUBTYPE['Ductal/NST' 'Mixed' 'Lobular' 'Tubular/ cribriform' 'Mucinous'\\n 'Medullary' 'Other']\",\n",
       " \"BREAST_SURGERY['BREAST CONSERVING' 'MASTECTOMY']\",\n",
       " \"RFS_STATUS['0:Not Recurred' '1:Recurred']\",\n",
       " 'RFS_MONTHS[ 83.52  18.55   2.89 ... 103.82 197.7  277.8 ]',\n",
       " \"SAMPLE_ID['MB-0002' 'MB-0008' 'MB-0010' ... 'MB-6237' 'MB-6239' 'MB-6346']\",\n",
       " \"CANCER_TYPE['Breast Cancer']\",\n",
       " \"CANCER_TYPE_DETAILED['Breast Invasive Ductal Carcinoma'\\n 'Breast Mixed Ductal and Lobular Carcinoma'\\n 'Breast Invasive Lobular Carcinoma'\\n 'Breast Invasive Mixed Mucinous Carcinoma' 'Breast']\",\n",
       " \"ER_STATUS['Positive' 'Negative']\",\n",
       " \"HER2_STATUS['Negative' 'Positive']\",\n",
       " 'GRADE[3. 2. 1.]',\n",
       " \"ONCOTREE_CODE['IDC' 'MDLC' 'ILC' 'IMMC' 'BREAST']\",\n",
       " \"PR_STATUS['Positive' 'Negative']\",\n",
       " \"SAMPLE_TYPE['Primary']\",\n",
       " 'TUMOR_SIZE[ 10.   40.   31.   16.   28.   22.   33.   23.   39.   34.   70.   27.\\n 150.   17.   30.   25.   60.   26.   20.   50.    9.   35.   14.   24.\\n  80.   13.   18.   38.   19.   12.   52.   44.   36.   21.   48.    3.\\n  46.   15.   11.   55.   29.   47.   32.   45.   67.   43.   53.   42.\\n 180.   57.  100.   65.   37.   90.    8.  160.   84.    5.5  49.   99.\\n   1.   68.   41.    6.    2.   75. ]',\n",
       " 'TUMOR_STAGE[1. 2. 4. 3.]',\n",
       " 'TMB_NONSYNONYMOUS[ 2.61503541  5.23007082  6.53758852  1.3075177   0.          3.92255311\\n 10.46014163  9.15262393 14.38269474 11.76765933  7.84510622 27.45787178\\n 13.07517704 18.30524785 28.76538948 16.99773015 15.69021245 20.92028326\\n 30.07290719 23.53531867 33.9954603  19.61276556 52.30070815 60.14581437\\n 39.22553111 22.22780096 24.84283637 26.15035408]']"
      ]
     },
     "execution_count": 39,
     "metadata": {},
     "output_type": "execute_result"
    }
   ],
   "source": [
    "[\n",
    "    str(column) + str(df_MB_dtype_encoded[column].unique())\n",
    "    for column in df_MB_dtype_encoded.columns\n",
    "]"
   ]
  },
  {
   "cell_type": "code",
   "execution_count": 40,
   "id": "92427c47-6c84-47ae-bdb7-fbef8b02aa1c",
   "metadata": {},
   "outputs": [
    {
     "name": "stdout",
     "output_type": "stream",
     "text": [
      "36 36\n"
     ]
    }
   ],
   "source": [
    "target_columns = [\n",
    "    # patient\n",
    "    \"OS_MONTHS\",\n",
    "    \"RFS_MONTHS\",\n",
    "    \"OS_STATUS\",\n",
    "    \"RFS_STATUS\",\n",
    "    \"VITAL_STATUS\",\n",
    "]\n",
    "\n",
    "int_columns = [\n",
    "    # patient\n",
    "    \"LYMPH_NODES_EXAMINED_POSITIVE\",\n",
    "    \"OS_MONTHS\",\n",
    "    \"RFS_MONTHS\",\n",
    "]\n",
    "\n",
    "float_columns = [\n",
    "    # patient\n",
    "    \"NPI\",\n",
    "    \"AGE_AT_DIAGNOSIS\",\n",
    "    # sample\n",
    "    \"TUMOR_SIZE\",\n",
    "    \"TMB_NONSYNONYMOUS\",\n",
    "]\n",
    "\n",
    "str_columns = []\n",
    "\n",
    "# 質的変数（順序尺度）\n",
    "qualitative_ordinal_columns = [\n",
    "    # patient\n",
    "    \"CELLULARITY\",\n",
    "    \"ER_IHC\",\n",
    "    \"HER2_SNP6\",\n",
    "    \"INFERRED_MENOPAUSAL_STATE\",\n",
    "    # sample\n",
    "    \"ER_STATUS\",\n",
    "    \"HER2_STATUS\",\n",
    "    \"GRADE\",\n",
    "    \"PR_STATUS\",\n",
    "    \"TUMOR_STAGE\",\n",
    "]\n",
    "# 質的変数（名義尺度）\n",
    "qualitative_name_columns = [\n",
    "    # patient\n",
    "    \"COHORT\",\n",
    "    \"INTCLUST\",\n",
    "    \"CLAUDIN_SUBTYPE\",\n",
    "    \"THREEGENE\",\n",
    "    \"HISTOLOGICAL_SUBTYPE\",\n",
    "    \"BREAST_SURGERY\",\n",
    "    \"LATERALITY\",\n",
    "    \"VITAL_STATUS\",\n",
    "    # sample\n",
    "    \"CANCER_TYPE\",\n",
    "    \"CANCER_TYPE_DETAILED\",\n",
    "    \"ONCOTREE_CODE\",\n",
    "]\n",
    "\n",
    "bool_columns = [\n",
    "    # patient\n",
    "    \"CHEMOTHERAPY\",\n",
    "    \"HORMONE_THERAPY\",\n",
    "    \"RADIO_THERAPY\",\n",
    "    \"OS_STATUS\",\n",
    "    \"RFS_STATUS\",\n",
    "]\n",
    "\n",
    "meanless_columns = [\n",
    "    # patient\n",
    "    \"PATIENT_ID\",\n",
    "    \"SEX\",\n",
    "    # sample\n",
    "    #'PATIENT_ID',\n",
    "    \"SAMPLE_ID\",\n",
    "    \"SAMPLE_TYPE\",\n",
    "]\n",
    "\n",
    "print(\n",
    "    df_MB_dtype_encoded.shape[1],\n",
    "    len(int_columns)\n",
    "    + len(float_columns)\n",
    "    + len(ｓｔｒ_columns)\n",
    "    + len(qualitative_ordinal_columns)\n",
    "    + len(qualitative_name_columns)\n",
    "    + len(bool_columns)\n",
    "    + len(meanless_columns),\n",
    ")\n",
    "assert df_MB_dtype_encoded.shape[1] == len(int_columns) + len(float_columns) + len(\n",
    "    ｓｔｒ_columns\n",
    ") + len(qualitative_ordinal_columns) + len(qualitative_name_columns) + len(\n",
    "    bool_columns\n",
    ") + len(\n",
    "    meanless_columns\n",
    "), \"lack or too much columns\""
   ]
  },
  {
   "cell_type": "markdown",
   "id": "0bb16479-e892-437c-9ad4-64a6be34679f",
   "metadata": {},
   "source": [
    "# 質的変数（順序尺度）のエンコーディング\n",
    "qualitative_ordinal_columnsは、順序のあるstrの変数で構成されている。\n",
    "そこで大小関係に対応するようstrをintに変換する。"
   ]
  },
  {
   "cell_type": "code",
   "execution_count": 41,
   "id": "c2a3144f-7a23-4200-b622-961668ddcd05",
   "metadata": {},
   "outputs": [
    {
     "data": {
      "text/html": [
       "<div>\n",
       "<style scoped>\n",
       "    .dataframe tbody tr th:only-of-type {\n",
       "        vertical-align: middle;\n",
       "    }\n",
       "\n",
       "    .dataframe tbody tr th {\n",
       "        vertical-align: top;\n",
       "    }\n",
       "\n",
       "    .dataframe thead th {\n",
       "        text-align: right;\n",
       "    }\n",
       "</style>\n",
       "<table border=\"1\" class=\"dataframe\">\n",
       "  <thead>\n",
       "    <tr style=\"text-align: right;\">\n",
       "      <th></th>\n",
       "      <th>CELLULARITY</th>\n",
       "      <th>ER_IHC</th>\n",
       "      <th>HER2_SNP6</th>\n",
       "      <th>INFERRED_MENOPAUSAL_STATE</th>\n",
       "      <th>ER_STATUS</th>\n",
       "      <th>HER2_STATUS</th>\n",
       "      <th>GRADE</th>\n",
       "      <th>PR_STATUS</th>\n",
       "      <th>TUMOR_STAGE</th>\n",
       "    </tr>\n",
       "  </thead>\n",
       "  <tbody>\n",
       "    <tr>\n",
       "      <th>1</th>\n",
       "      <td>High</td>\n",
       "      <td>Positve</td>\n",
       "      <td>NEUTRAL</td>\n",
       "      <td>Pre</td>\n",
       "      <td>Positive</td>\n",
       "      <td>Negative</td>\n",
       "      <td>3.0</td>\n",
       "      <td>Positive</td>\n",
       "      <td>1.0</td>\n",
       "    </tr>\n",
       "    <tr>\n",
       "      <th>4</th>\n",
       "      <td>High</td>\n",
       "      <td>Positve</td>\n",
       "      <td>NEUTRAL</td>\n",
       "      <td>Post</td>\n",
       "      <td>Positive</td>\n",
       "      <td>Negative</td>\n",
       "      <td>3.0</td>\n",
       "      <td>Positive</td>\n",
       "      <td>2.0</td>\n",
       "    </tr>\n",
       "    <tr>\n",
       "      <th>5</th>\n",
       "      <td>Moderate</td>\n",
       "      <td>Positve</td>\n",
       "      <td>NEUTRAL</td>\n",
       "      <td>Post</td>\n",
       "      <td>Positive</td>\n",
       "      <td>Negative</td>\n",
       "      <td>3.0</td>\n",
       "      <td>Positive</td>\n",
       "      <td>4.0</td>\n",
       "    </tr>\n",
       "    <tr>\n",
       "      <th>10</th>\n",
       "      <td>Moderate</td>\n",
       "      <td>Positve</td>\n",
       "      <td>GAIN</td>\n",
       "      <td>Post</td>\n",
       "      <td>Positive</td>\n",
       "      <td>Negative</td>\n",
       "      <td>3.0</td>\n",
       "      <td>Negative</td>\n",
       "      <td>2.0</td>\n",
       "    </tr>\n",
       "    <tr>\n",
       "      <th>11</th>\n",
       "      <td>High</td>\n",
       "      <td>Negative</td>\n",
       "      <td>LOSS</td>\n",
       "      <td>Post</td>\n",
       "      <td>Positive</td>\n",
       "      <td>Negative</td>\n",
       "      <td>2.0</td>\n",
       "      <td>Negative</td>\n",
       "      <td>2.0</td>\n",
       "    </tr>\n",
       "  </tbody>\n",
       "</table>\n",
       "</div>"
      ],
      "text/plain": [
       "   CELLULARITY    ER_IHC HER2_SNP6 INFERRED_MENOPAUSAL_STATE ER_STATUS  \\\n",
       "1         High   Positve   NEUTRAL                       Pre  Positive   \n",
       "4         High   Positve   NEUTRAL                      Post  Positive   \n",
       "5     Moderate   Positve   NEUTRAL                      Post  Positive   \n",
       "10    Moderate   Positve      GAIN                      Post  Positive   \n",
       "11        High  Negative      LOSS                      Post  Positive   \n",
       "\n",
       "   HER2_STATUS  GRADE PR_STATUS  TUMOR_STAGE  \n",
       "1     Negative    3.0  Positive          1.0  \n",
       "4     Negative    3.0  Positive          2.0  \n",
       "5     Negative    3.0  Positive          4.0  \n",
       "10    Negative    3.0  Negative          2.0  \n",
       "11    Negative    2.0  Negative          2.0  "
      ]
     },
     "execution_count": 41,
     "metadata": {},
     "output_type": "execute_result"
    }
   ],
   "source": [
    "df_MB_dtype_encoded[qualitative_ordinal_columns].head()"
   ]
  },
  {
   "cell_type": "code",
   "execution_count": 42,
   "id": "0e2fc01f-7a33-40d6-bc4d-7ea9bc2ad841",
   "metadata": {},
   "outputs": [
    {
     "name": "stdout",
     "output_type": "stream",
     "text": [
      "CELLULARITY\n"
     ]
    },
    {
     "data": {
      "text/plain": [
       "High        564\n",
       "Moderate    428\n",
       "Low         132\n",
       "Name: CELLULARITY, dtype: int64"
      ]
     },
     "metadata": {},
     "output_type": "display_data"
    },
    {
     "name": "stdout",
     "output_type": "stream",
     "text": [
      "--------------------------------------------------\n",
      "ER_IHC\n"
     ]
    },
    {
     "data": {
      "text/plain": [
       "Positve     875\n",
       "Negative    249\n",
       "Name: ER_IHC, dtype: int64"
      ]
     },
     "metadata": {},
     "output_type": "display_data"
    },
    {
     "name": "stdout",
     "output_type": "stream",
     "text": [
      "--------------------------------------------------\n",
      "HER2_SNP6\n"
     ]
    },
    {
     "data": {
      "text/plain": [
       "NEUTRAL    813\n",
       "GAIN       251\n",
       "LOSS        58\n",
       "UNDEF        2\n",
       "Name: HER2_SNP6, dtype: int64"
      ]
     },
     "metadata": {},
     "output_type": "display_data"
    },
    {
     "name": "stdout",
     "output_type": "stream",
     "text": [
      "--------------------------------------------------\n",
      "INFERRED_MENOPAUSAL_STATE\n"
     ]
    },
    {
     "data": {
      "text/plain": [
       "Post    866\n",
       "Pre     258\n",
       "Name: INFERRED_MENOPAUSAL_STATE, dtype: int64"
      ]
     },
     "metadata": {},
     "output_type": "display_data"
    },
    {
     "name": "stdout",
     "output_type": "stream",
     "text": [
      "--------------------------------------------------\n",
      "ER_STATUS\n"
     ]
    },
    {
     "data": {
      "text/plain": [
       "Positive    870\n",
       "Negative    254\n",
       "Name: ER_STATUS, dtype: int64"
      ]
     },
     "metadata": {},
     "output_type": "display_data"
    },
    {
     "name": "stdout",
     "output_type": "stream",
     "text": [
      "--------------------------------------------------\n",
      "HER2_STATUS\n"
     ]
    },
    {
     "data": {
      "text/plain": [
       "Negative    984\n",
       "Positive    140\n",
       "Name: HER2_STATUS, dtype: int64"
      ]
     },
     "metadata": {},
     "output_type": "display_data"
    },
    {
     "name": "stdout",
     "output_type": "stream",
     "text": [
      "--------------------------------------------------\n",
      "GRADE\n"
     ]
    },
    {
     "data": {
      "text/plain": [
       "3.0    587\n",
       "2.0    448\n",
       "1.0     89\n",
       "Name: GRADE, dtype: int64"
      ]
     },
     "metadata": {},
     "output_type": "display_data"
    },
    {
     "name": "stdout",
     "output_type": "stream",
     "text": [
      "--------------------------------------------------\n",
      "PR_STATUS\n"
     ]
    },
    {
     "data": {
      "text/plain": [
       "Positive    584\n",
       "Negative    540\n",
       "Name: PR_STATUS, dtype: int64"
      ]
     },
     "metadata": {},
     "output_type": "display_data"
    },
    {
     "name": "stdout",
     "output_type": "stream",
     "text": [
      "--------------------------------------------------\n",
      "TUMOR_STAGE\n"
     ]
    },
    {
     "data": {
      "text/plain": [
       "2.0    640\n",
       "1.0    381\n",
       "3.0     95\n",
       "4.0      8\n",
       "Name: TUMOR_STAGE, dtype: int64"
      ]
     },
     "metadata": {},
     "output_type": "display_data"
    },
    {
     "name": "stdout",
     "output_type": "stream",
     "text": [
      "--------------------------------------------------\n"
     ]
    }
   ],
   "source": [
    "for column in qualitative_ordinal_columns:\n",
    "    print(column)\n",
    "    display(df_MB_dtype_encoded[column].value_counts())\n",
    "    print(\"-----\" * 10)"
   ]
  },
  {
   "cell_type": "code",
   "execution_count": 43,
   "id": "53e610d3-730b-4948-b492-1d22be87c1a5",
   "metadata": {},
   "outputs": [
    {
     "name": "stdout",
     "output_type": "stream",
     "text": [
      "CELLULARITY\n"
     ]
    },
    {
     "data": {
      "text/plain": [
       "3    564\n",
       "2    428\n",
       "1    132\n",
       "Name: CELLULARITY, dtype: int64"
      ]
     },
     "metadata": {},
     "output_type": "display_data"
    },
    {
     "name": "stdout",
     "output_type": "stream",
     "text": [
      "--------------------------------------------------\n",
      "ER_IHC\n"
     ]
    },
    {
     "data": {
      "text/plain": [
       " 1    875\n",
       "-1    249\n",
       "Name: ER_IHC, dtype: int64"
      ]
     },
     "metadata": {},
     "output_type": "display_data"
    },
    {
     "name": "stdout",
     "output_type": "stream",
     "text": [
      "--------------------------------------------------\n",
      "HER2_SNP6\n"
     ]
    },
    {
     "data": {
      "text/plain": [
       "2    813\n",
       "3    251\n",
       "1     58\n",
       "0      2\n",
       "Name: HER2_SNP6, dtype: int64"
      ]
     },
     "metadata": {},
     "output_type": "display_data"
    },
    {
     "name": "stdout",
     "output_type": "stream",
     "text": [
      "--------------------------------------------------\n",
      "INFERRED_MENOPAUSAL_STATE\n"
     ]
    },
    {
     "data": {
      "text/plain": [
       " 1    866\n",
       "-1    258\n",
       "Name: INFERRED_MENOPAUSAL_STATE, dtype: int64"
      ]
     },
     "metadata": {},
     "output_type": "display_data"
    },
    {
     "name": "stdout",
     "output_type": "stream",
     "text": [
      "--------------------------------------------------\n",
      "ER_STATUS\n"
     ]
    },
    {
     "data": {
      "text/plain": [
       " 1    870\n",
       "-1    254\n",
       "Name: ER_STATUS, dtype: int64"
      ]
     },
     "metadata": {},
     "output_type": "display_data"
    },
    {
     "name": "stdout",
     "output_type": "stream",
     "text": [
      "--------------------------------------------------\n",
      "HER2_STATUS\n"
     ]
    },
    {
     "data": {
      "text/plain": [
       "-1    984\n",
       " 1    140\n",
       "Name: HER2_STATUS, dtype: int64"
      ]
     },
     "metadata": {},
     "output_type": "display_data"
    },
    {
     "name": "stdout",
     "output_type": "stream",
     "text": [
      "--------------------------------------------------\n",
      "GRADE\n"
     ]
    },
    {
     "data": {
      "text/plain": [
       "3.0    587\n",
       "2.0    448\n",
       "1.0     89\n",
       "Name: GRADE, dtype: int64"
      ]
     },
     "metadata": {},
     "output_type": "display_data"
    },
    {
     "name": "stdout",
     "output_type": "stream",
     "text": [
      "--------------------------------------------------\n",
      "PR_STATUS\n"
     ]
    },
    {
     "data": {
      "text/plain": [
       " 1    584\n",
       "-1    540\n",
       "Name: PR_STATUS, dtype: int64"
      ]
     },
     "metadata": {},
     "output_type": "display_data"
    },
    {
     "name": "stdout",
     "output_type": "stream",
     "text": [
      "--------------------------------------------------\n",
      "TUMOR_STAGE\n"
     ]
    },
    {
     "data": {
      "text/plain": [
       "2.0    640\n",
       "1.0    381\n",
       "3.0     95\n",
       "4.0      8\n",
       "Name: TUMOR_STAGE, dtype: int64"
      ]
     },
     "metadata": {},
     "output_type": "display_data"
    },
    {
     "name": "stdout",
     "output_type": "stream",
     "text": [
      "--------------------------------------------------\n"
     ]
    }
   ],
   "source": [
    "df_MB_dtype_encoded[\"CELLULARITY\"].replace(\n",
    "    {\"High\": 3, \"Moderate\": 2, \"Low\": 1}, inplace=True\n",
    ")\n",
    "df_MB_dtype_encoded[\"ER_IHC\"].replace({\"Positve\": 1, \"Negative\": -1}, inplace=True)\n",
    "df_MB_dtype_encoded[\"HER2_SNP6\"].replace(\n",
    "    {\"GAIN\": 3, \"NEUTRAL\": 2, \"LOSS\": 1, \"UNDEF\": 0}, inplace=True\n",
    ")\n",
    "df_MB_dtype_encoded[\"INFERRED_MENOPAUSAL_STATE\"].replace(\n",
    "    {\"Post\": 1, \"Pre\": -1}, inplace=True\n",
    ")\n",
    "df_MB_dtype_encoded[\"ER_STATUS\"].replace({\"Positive\": 1, \"Negative\": -1}, inplace=True)\n",
    "df_MB_dtype_encoded[\"HER2_STATUS\"].replace(\n",
    "    {\"Positive\": 1, \"Negative\": -1}, inplace=True\n",
    ")\n",
    "# df_MB_dtype_encoded['GRADEGRADE']\n",
    "df_MB_dtype_encoded[\"PR_STATUS\"].replace({\"Positive\": 1, \"Negative\": -1}, inplace=True)\n",
    "# df_MB_dtype_encoded['TUMOR_STAGE']\n",
    "\n",
    "for column in qualitative_ordinal_columns:\n",
    "    print(column)\n",
    "    display(df_MB_dtype_encoded[column].value_counts())\n",
    "    print(\"-----\" * 10)"
   ]
  },
  {
   "cell_type": "markdown",
   "id": "1345e81f-f7dc-4370-9048-762dad39fc7a",
   "metadata": {},
   "source": [
    "# boolのエンコーディング\n",
    "bool_columnsは対象的な2項目から構成されているため、これらの項目をboolean型にする。\n",
    "Yes、Noのみを対象とする（2項目のみから構成される特徴量でも、Yes、No以外の場合は3項目を考慮してカテゴリ特徴量として考える）。"
   ]
  },
  {
   "cell_type": "code",
   "execution_count": 44,
   "id": "618fb746-50f3-4b13-b296-95da137048d7",
   "metadata": {},
   "outputs": [
    {
     "name": "stdout",
     "output_type": "stream",
     "text": [
      "<class 'pandas.core.frame.DataFrame'>\n",
      "Int64Index: 1124 entries, 1 to 1743\n",
      "Data columns (total 5 columns):\n",
      " #   Column           Non-Null Count  Dtype\n",
      "---  ------           --------------  -----\n",
      " 0   CHEMOTHERAPY     1124 non-null   bool \n",
      " 1   HORMONE_THERAPY  1124 non-null   bool \n",
      " 2   RADIO_THERAPY    1124 non-null   bool \n",
      " 3   OS_STATUS        1124 non-null   bool \n",
      " 4   RFS_STATUS       1124 non-null   bool \n",
      "dtypes: bool(5)\n",
      "memory usage: 14.3 KB\n"
     ]
    }
   ],
   "source": [
    "df_MB_dtype_encoded[bool_columns].astype(bool).info()"
   ]
  },
  {
   "cell_type": "code",
   "execution_count": 45,
   "id": "7b276fe8-b971-4af2-8973-b9e7856dcacc",
   "metadata": {},
   "outputs": [
    {
     "name": "stdout",
     "output_type": "stream",
     "text": [
      "CHEMOTHERAPY\n"
     ]
    },
    {
     "data": {
      "text/plain": [
       "NO     873\n",
       "YES    251\n",
       "Name: CHEMOTHERAPY, dtype: int64"
      ]
     },
     "metadata": {},
     "output_type": "display_data"
    },
    {
     "name": "stdout",
     "output_type": "stream",
     "text": [
      "--------------------------------------------------\n",
      "HORMONE_THERAPY\n"
     ]
    },
    {
     "data": {
      "text/plain": [
       "YES    697\n",
       "NO     427\n",
       "Name: HORMONE_THERAPY, dtype: int64"
      ]
     },
     "metadata": {},
     "output_type": "display_data"
    },
    {
     "name": "stdout",
     "output_type": "stream",
     "text": [
      "--------------------------------------------------\n",
      "RADIO_THERAPY\n"
     ]
    },
    {
     "data": {
      "text/plain": [
       "YES    748\n",
       "NO     376\n",
       "Name: RADIO_THERAPY, dtype: int64"
      ]
     },
     "metadata": {},
     "output_type": "display_data"
    },
    {
     "name": "stdout",
     "output_type": "stream",
     "text": [
      "--------------------------------------------------\n",
      "OS_STATUS\n"
     ]
    },
    {
     "data": {
      "text/plain": [
       "1:DECEASED    620\n",
       "0:LIVING      504\n",
       "Name: OS_STATUS, dtype: int64"
      ]
     },
     "metadata": {},
     "output_type": "display_data"
    },
    {
     "name": "stdout",
     "output_type": "stream",
     "text": [
      "--------------------------------------------------\n",
      "RFS_STATUS\n"
     ]
    },
    {
     "data": {
      "text/plain": [
       "0:Not Recurred    659\n",
       "1:Recurred        465\n",
       "Name: RFS_STATUS, dtype: int64"
      ]
     },
     "metadata": {},
     "output_type": "display_data"
    },
    {
     "name": "stdout",
     "output_type": "stream",
     "text": [
      "--------------------------------------------------\n"
     ]
    }
   ],
   "source": [
    "for column in bool_columns:\n",
    "    print(column)\n",
    "    display(df_MB_dtype_encoded[column].value_counts())\n",
    "    print(\"-----\" * 10)"
   ]
  },
  {
   "cell_type": "code",
   "execution_count": 46,
   "id": "73b3f3cb-02c4-42b7-a852-a9c31dd80227",
   "metadata": {},
   "outputs": [
    {
     "name": "stdout",
     "output_type": "stream",
     "text": [
      "CHEMOTHERAPY\n"
     ]
    },
    {
     "data": {
      "text/plain": [
       "False    873\n",
       "True     251\n",
       "Name: CHEMOTHERAPY, dtype: int64"
      ]
     },
     "metadata": {},
     "output_type": "display_data"
    },
    {
     "name": "stdout",
     "output_type": "stream",
     "text": [
      "--------------------------------------------------\n",
      "HORMONE_THERAPY\n"
     ]
    },
    {
     "data": {
      "text/plain": [
       "True     697\n",
       "False    427\n",
       "Name: HORMONE_THERAPY, dtype: int64"
      ]
     },
     "metadata": {},
     "output_type": "display_data"
    },
    {
     "name": "stdout",
     "output_type": "stream",
     "text": [
      "--------------------------------------------------\n",
      "RADIO_THERAPY\n"
     ]
    },
    {
     "data": {
      "text/plain": [
       "True     748\n",
       "False    376\n",
       "Name: RADIO_THERAPY, dtype: int64"
      ]
     },
     "metadata": {},
     "output_type": "display_data"
    },
    {
     "name": "stdout",
     "output_type": "stream",
     "text": [
      "--------------------------------------------------\n",
      "OS_STATUS\n"
     ]
    },
    {
     "data": {
      "text/plain": [
       "True     620\n",
       "False    504\n",
       "Name: OS_STATUS, dtype: int64"
      ]
     },
     "metadata": {},
     "output_type": "display_data"
    },
    {
     "name": "stdout",
     "output_type": "stream",
     "text": [
      "--------------------------------------------------\n",
      "RFS_STATUS\n"
     ]
    },
    {
     "data": {
      "text/plain": [
       "False    659\n",
       "True     465\n",
       "Name: RFS_STATUS, dtype: int64"
      ]
     },
     "metadata": {},
     "output_type": "display_data"
    },
    {
     "name": "stdout",
     "output_type": "stream",
     "text": [
      "--------------------------------------------------\n"
     ]
    }
   ],
   "source": [
    "df_MB_dtype_encoded[\"CHEMOTHERAPY\"].replace({\"YES\": True, \"NO\": False}, inplace=True)\n",
    "df_MB_dtype_encoded[\"HORMONE_THERAPY\"].replace({\"YES\": True, \"NO\": False}, inplace=True)\n",
    "df_MB_dtype_encoded[\"RADIO_THERAPY\"].replace({\"YES\": True, \"NO\": False}, inplace=True)\n",
    "df_MB_dtype_encoded[\"OS_STATUS\"].replace(\n",
    "    {\"1:DECEASED\": True, \"0:LIVING\": False}, inplace=True\n",
    ")\n",
    "df_MB_dtype_encoded[\"RFS_STATUS\"].replace(\n",
    "    {\"1:Recurred\": True, \"0:Not Recurred\": False}, inplace=True\n",
    ")\n",
    "\n",
    "for column in bool_columns:\n",
    "    print(column)\n",
    "    display(df_MB_dtype_encoded[column].value_counts())\n",
    "    print(\"-----\" * 10)"
   ]
  },
  {
   "cell_type": "code",
   "execution_count": 47,
   "id": "95688f2b-9485-48f6-bffe-99f8502aa082",
   "metadata": {},
   "outputs": [
    {
     "data": {
      "text/plain": [
       "CHEMOTHERAPY       bool\n",
       "HORMONE_THERAPY    bool\n",
       "RADIO_THERAPY      bool\n",
       "OS_STATUS          bool\n",
       "RFS_STATUS         bool\n",
       "dtype: object"
      ]
     },
     "execution_count": 47,
     "metadata": {},
     "output_type": "execute_result"
    }
   ],
   "source": [
    "df_MB_dtype_encoded[bool_columns].dtypes"
   ]
  },
  {
   "cell_type": "code",
   "execution_count": 48,
   "id": "0b784909-de16-4a8d-83c0-b5e0af041f07",
   "metadata": {},
   "outputs": [],
   "source": [
    "# save\n",
    "make_dir(config.INTERIM_PICKLE_PREPROCESSED_DIR)\n",
    "df_MB_dtype_encoded.to_pickle(\n",
    "    config.INTERIM_PICKLE_PREPROCESSED_DIR + \"/2.0.2-df_MB_dtype_encoded.pkl\"\n",
    ")"
   ]
  },
  {
   "cell_type": "markdown",
   "id": "a4c202d3-efc4-4148-bdd8-0f924fe792b1",
   "metadata": {},
   "source": [
    "# Onehot encoding\n",
    "## df｜df_MB_onehot_encoded(onehot encodingしたdf), df_MB_onehot_concated(onehot encodingしたdfと元のdfの結合)\n",
    "上記で作成した一部特徴量を修正したdfを元に、onehot encodingを行う。\n",
    "onehot encoding自体は名義尺度の質的変数カラムであるqualitative_name_columnsのみに対してのみ実施するが、最終的に特徴量の型の修正はモデルへ入力する際に必要になるので、df_MB_dtype_encodedを元にonehot encodingを実施する。    "
   ]
  },
  {
   "cell_type": "code",
   "execution_count": 58,
   "id": "8d8f537e-07d5-4e4c-b3d2-c7ef8db809cd",
   "metadata": {},
   "outputs": [],
   "source": [
    "import os\n",
    "import numpy as np\n",
    "import pandas as pd\n",
    "\n",
    "from sklearn.preprocessing import OneHotEncoder, LabelEncoder\n",
    "\n",
    "import config\n",
    "\n",
    "# 最大表示列数の指定（ここでは50列を指定）\n",
    "pd.set_option(\"display.max_columns\", 50)\n",
    "pd.set_option(\"display.max_rows\", 50)\n",
    "\n",
    "\n",
    "def make_dir(dir_name: str):\n",
    "    if not os.path.exists(dir_name):\n",
    "        os.makedirs(dir_name)"
   ]
  },
  {
   "cell_type": "code",
   "execution_count": 59,
   "id": "10a6b8ed-9988-4d1b-890d-a33dd81ba606",
   "metadata": {},
   "outputs": [
    {
     "name": "stdout",
     "output_type": "stream",
     "text": [
      "<class 'pandas.core.frame.DataFrame'>\n",
      "Int64Index: 1124 entries, 1 to 1743\n",
      "Data columns (total 36 columns):\n",
      " #   Column                         Non-Null Count  Dtype  \n",
      "---  ------                         --------------  -----  \n",
      " 0   PATIENT_ID                     1124 non-null   object \n",
      " 1   LYMPH_NODES_EXAMINED_POSITIVE  1124 non-null   float64\n",
      " 2   NPI                            1124 non-null   float64\n",
      " 3   CELLULARITY                    1124 non-null   int64  \n",
      " 4   CHEMOTHERAPY                   1124 non-null   bool   \n",
      " 5   COHORT                         1124 non-null   float64\n",
      " 6   ER_IHC                         1124 non-null   int64  \n",
      " 7   HER2_SNP6                      1124 non-null   int64  \n",
      " 8   HORMONE_THERAPY                1124 non-null   bool   \n",
      " 9   INFERRED_MENOPAUSAL_STATE      1124 non-null   int64  \n",
      " 10  SEX                            1124 non-null   object \n",
      " 11  INTCLUST                       1124 non-null   object \n",
      " 12  AGE_AT_DIAGNOSIS               1124 non-null   float64\n",
      " 13  OS_MONTHS                      1124 non-null   float64\n",
      " 14  OS_STATUS                      1124 non-null   bool   \n",
      " 15  CLAUDIN_SUBTYPE                1124 non-null   object \n",
      " 16  THREEGENE                      1124 non-null   object \n",
      " 17  VITAL_STATUS                   1124 non-null   object \n",
      " 18  LATERALITY                     1124 non-null   object \n",
      " 19  RADIO_THERAPY                  1124 non-null   bool   \n",
      " 20  HISTOLOGICAL_SUBTYPE           1124 non-null   object \n",
      " 21  BREAST_SURGERY                 1124 non-null   object \n",
      " 22  RFS_STATUS                     1124 non-null   bool   \n",
      " 23  RFS_MONTHS                     1124 non-null   float64\n",
      " 24  SAMPLE_ID                      1124 non-null   object \n",
      " 25  CANCER_TYPE                    1124 non-null   object \n",
      " 26  CANCER_TYPE_DETAILED           1124 non-null   object \n",
      " 27  ER_STATUS                      1124 non-null   int64  \n",
      " 28  HER2_STATUS                    1124 non-null   int64  \n",
      " 29  GRADE                          1124 non-null   float64\n",
      " 30  ONCOTREE_CODE                  1124 non-null   object \n",
      " 31  PR_STATUS                      1124 non-null   int64  \n",
      " 32  SAMPLE_TYPE                    1124 non-null   object \n",
      " 33  TUMOR_SIZE                     1124 non-null   float64\n",
      " 34  TUMOR_STAGE                    1124 non-null   float64\n",
      " 35  TMB_NONSYNONYMOUS              1124 non-null   float64\n",
      "dtypes: bool(5), float64(10), int64(7), object(14)\n",
      "memory usage: 286.5+ KB\n"
     ]
    }
   ],
   "source": [
    "df_MB_dtype_encoded = pd.read_pickle(\n",
    "    config.INTERIM_PICKLE_PREPROCESSED_DIR + \"/2.0.2-df_MB_dtype_encoded.pkl\"\n",
    ")\n",
    "df_MB_dtype_encoded.info()"
   ]
  },
  {
   "cell_type": "code",
   "execution_count": 60,
   "id": "2f68c9ea-1420-4644-a99d-7b66bfe64192",
   "metadata": {},
   "outputs": [
    {
     "data": {
      "text/plain": [
       "['COHORT',\n",
       " 'INTCLUST',\n",
       " 'CLAUDIN_SUBTYPE',\n",
       " 'THREEGENE',\n",
       " 'HISTOLOGICAL_SUBTYPE',\n",
       " 'BREAST_SURGERY',\n",
       " 'LATERALITY',\n",
       " 'CANCER_TYPE',\n",
       " 'CANCER_TYPE_DETAILED',\n",
       " 'ONCOTREE_CODE']"
      ]
     },
     "execution_count": 60,
     "metadata": {},
     "output_type": "execute_result"
    }
   ],
   "source": [
    "# VITAL_STATUSは目的変数の生成に必要&リークになりうるので、onehot encodingからは除外する\n",
    "qualitative_name_columns.remove(\n",
    "    \"VITAL_STATUS\"\n",
    ") if \"VITAL_STATUS\" in qualitative_name_columns else qualitative_name_columns\n",
    "qualitative_name_columns"
   ]
  },
  {
   "cell_type": "code",
   "execution_count": 61,
   "id": "aa674169-fb46-424e-b78b-f43a4503b18f",
   "metadata": {
    "tags": []
   },
   "outputs": [
    {
     "data": {
      "text/plain": [
       "[array([1., 2., 3., 5.]),\n",
       " array(['1', '10', '2', '3', '4ER+', '4ER-', '5', '6', '7', '8', '9'],\n",
       "       dtype=object),\n",
       " array(['Basal', 'Her2', 'LumA', 'LumB', 'NC', 'Normal', 'claudin-low'],\n",
       "       dtype=object),\n",
       " array(['ER+/HER2- High Prolif', 'ER+/HER2- Low Prolif', 'ER-/HER2-',\n",
       "        'HER2+'], dtype=object),\n",
       " array(['Ductal/NST', 'Lobular', 'Medullary', 'Mixed', 'Mucinous', 'Other',\n",
       "        'Tubular/ cribriform'], dtype=object),\n",
       " array(['BREAST CONSERVING', 'MASTECTOMY'], dtype=object),\n",
       " array(['Left', 'Right'], dtype=object),\n",
       " array(['Breast Cancer'], dtype=object),\n",
       " array(['Breast', 'Breast Invasive Ductal Carcinoma',\n",
       "        'Breast Invasive Lobular Carcinoma',\n",
       "        'Breast Invasive Mixed Mucinous Carcinoma',\n",
       "        'Breast Mixed Ductal and Lobular Carcinoma'], dtype=object),\n",
       " array(['BREAST', 'IDC', 'ILC', 'IMMC', 'MDLC'], dtype=object)]"
      ]
     },
     "metadata": {},
     "output_type": "display_data"
    },
    {
     "data": {
      "text/plain": [
       "array(['COHORT_2.0', 'COHORT_3.0', 'COHORT_5.0', 'INTCLUST_10',\n",
       "       'INTCLUST_2', 'INTCLUST_3', 'INTCLUST_4ER+', 'INTCLUST_4ER-',\n",
       "       'INTCLUST_5', 'INTCLUST_6', 'INTCLUST_7', 'INTCLUST_8',\n",
       "       'INTCLUST_9', 'CLAUDIN_SUBTYPE_Her2', 'CLAUDIN_SUBTYPE_LumA',\n",
       "       'CLAUDIN_SUBTYPE_LumB', 'CLAUDIN_SUBTYPE_NC',\n",
       "       'CLAUDIN_SUBTYPE_Normal', 'CLAUDIN_SUBTYPE_claudin-low',\n",
       "       'THREEGENE_ER+/HER2- Low Prolif', 'THREEGENE_ER-/HER2-',\n",
       "       'THREEGENE_HER2+', 'HISTOLOGICAL_SUBTYPE_Lobular',\n",
       "       'HISTOLOGICAL_SUBTYPE_Medullary', 'HISTOLOGICAL_SUBTYPE_Mixed',\n",
       "       'HISTOLOGICAL_SUBTYPE_Mucinous', 'HISTOLOGICAL_SUBTYPE_Other',\n",
       "       'HISTOLOGICAL_SUBTYPE_Tubular/ cribriform',\n",
       "       'BREAST_SURGERY_MASTECTOMY', 'LATERALITY_Right',\n",
       "       'CANCER_TYPE_DETAILED_Breast Invasive Ductal Carcinoma',\n",
       "       'CANCER_TYPE_DETAILED_Breast Invasive Lobular Carcinoma',\n",
       "       'CANCER_TYPE_DETAILED_Breast Invasive Mixed Mucinous Carcinoma',\n",
       "       'CANCER_TYPE_DETAILED_Breast Mixed Ductal and Lobular Carcinoma',\n",
       "       'ONCOTREE_CODE_IDC', 'ONCOTREE_CODE_ILC', 'ONCOTREE_CODE_IMMC',\n",
       "       'ONCOTREE_CODE_MDLC'], dtype=object)"
      ]
     },
     "metadata": {},
     "output_type": "display_data"
    },
    {
     "data": {
      "text/plain": [
       "(1124, 38)"
      ]
     },
     "execution_count": 61,
     "metadata": {},
     "output_type": "execute_result"
    }
   ],
   "source": [
    "# 多重共線性回避のために、drop='first'\n",
    "onehot_encoder = OneHotEncoder(drop=\"first\")\n",
    "onehot_encoding_columns = qualitative_name_columns\n",
    "onehot_encoder.fit(df_MB_dtype_encoded[onehot_encoding_columns])\n",
    "display(onehot_encoder.categories_)\n",
    "display(onehot_encoder.get_feature_names_out(onehot_encoding_columns))\n",
    "# enc.transform(df_MB_onehot_encoded[encoding_columns]).toarray()\n",
    "df_MB_onehot_encoded = pd.DataFrame(\n",
    "    onehot_encoder.transform(df_MB_dtype_encoded[onehot_encoding_columns]).toarray(),\n",
    "    columns=onehot_encoder.get_feature_names_out(onehot_encoding_columns),\n",
    ").astype(int)\n",
    "df_MB_onehot_encoded.shape"
   ]
  },
  {
   "cell_type": "code",
   "execution_count": 62,
   "id": "7d9de816-e85a-4e68-90b0-4d1db20360b5",
   "metadata": {},
   "outputs": [
    {
     "data": {
      "text/html": [
       "<div>\n",
       "<style scoped>\n",
       "    .dataframe tbody tr th:only-of-type {\n",
       "        vertical-align: middle;\n",
       "    }\n",
       "\n",
       "    .dataframe tbody tr th {\n",
       "        vertical-align: top;\n",
       "    }\n",
       "\n",
       "    .dataframe thead th {\n",
       "        text-align: right;\n",
       "    }\n",
       "</style>\n",
       "<table border=\"1\" class=\"dataframe\">\n",
       "  <thead>\n",
       "    <tr style=\"text-align: right;\">\n",
       "      <th></th>\n",
       "      <th>COHORT_2.0</th>\n",
       "      <th>COHORT_3.0</th>\n",
       "      <th>COHORT_5.0</th>\n",
       "      <th>INTCLUST_10</th>\n",
       "      <th>INTCLUST_2</th>\n",
       "      <th>INTCLUST_3</th>\n",
       "      <th>INTCLUST_4ER+</th>\n",
       "      <th>INTCLUST_4ER-</th>\n",
       "      <th>INTCLUST_5</th>\n",
       "      <th>INTCLUST_6</th>\n",
       "      <th>INTCLUST_7</th>\n",
       "      <th>INTCLUST_8</th>\n",
       "      <th>INTCLUST_9</th>\n",
       "      <th>CLAUDIN_SUBTYPE_Her2</th>\n",
       "      <th>CLAUDIN_SUBTYPE_LumA</th>\n",
       "      <th>CLAUDIN_SUBTYPE_LumB</th>\n",
       "      <th>CLAUDIN_SUBTYPE_NC</th>\n",
       "      <th>CLAUDIN_SUBTYPE_Normal</th>\n",
       "      <th>CLAUDIN_SUBTYPE_claudin-low</th>\n",
       "      <th>THREEGENE_ER+/HER2- Low Prolif</th>\n",
       "      <th>THREEGENE_ER-/HER2-</th>\n",
       "      <th>THREEGENE_HER2+</th>\n",
       "      <th>HISTOLOGICAL_SUBTYPE_Lobular</th>\n",
       "      <th>HISTOLOGICAL_SUBTYPE_Medullary</th>\n",
       "      <th>HISTOLOGICAL_SUBTYPE_Mixed</th>\n",
       "      <th>HISTOLOGICAL_SUBTYPE_Mucinous</th>\n",
       "      <th>HISTOLOGICAL_SUBTYPE_Other</th>\n",
       "      <th>HISTOLOGICAL_SUBTYPE_Tubular/ cribriform</th>\n",
       "      <th>BREAST_SURGERY_MASTECTOMY</th>\n",
       "      <th>LATERALITY_Right</th>\n",
       "      <th>CANCER_TYPE_DETAILED_Breast Invasive Ductal Carcinoma</th>\n",
       "      <th>CANCER_TYPE_DETAILED_Breast Invasive Lobular Carcinoma</th>\n",
       "      <th>CANCER_TYPE_DETAILED_Breast Invasive Mixed Mucinous Carcinoma</th>\n",
       "      <th>CANCER_TYPE_DETAILED_Breast Mixed Ductal and Lobular Carcinoma</th>\n",
       "      <th>ONCOTREE_CODE_IDC</th>\n",
       "      <th>ONCOTREE_CODE_ILC</th>\n",
       "      <th>ONCOTREE_CODE_IMMC</th>\n",
       "      <th>ONCOTREE_CODE_MDLC</th>\n",
       "    </tr>\n",
       "  </thead>\n",
       "  <tbody>\n",
       "    <tr>\n",
       "      <th>0</th>\n",
       "      <td>0</td>\n",
       "      <td>0</td>\n",
       "      <td>0</td>\n",
       "      <td>0</td>\n",
       "      <td>0</td>\n",
       "      <td>0</td>\n",
       "      <td>1</td>\n",
       "      <td>0</td>\n",
       "      <td>0</td>\n",
       "      <td>0</td>\n",
       "      <td>0</td>\n",
       "      <td>0</td>\n",
       "      <td>0</td>\n",
       "      <td>0</td>\n",
       "      <td>1</td>\n",
       "      <td>0</td>\n",
       "      <td>0</td>\n",
       "      <td>0</td>\n",
       "      <td>0</td>\n",
       "      <td>0</td>\n",
       "      <td>0</td>\n",
       "      <td>0</td>\n",
       "      <td>0</td>\n",
       "      <td>0</td>\n",
       "      <td>0</td>\n",
       "      <td>0</td>\n",
       "      <td>0</td>\n",
       "      <td>0</td>\n",
       "      <td>0</td>\n",
       "      <td>1</td>\n",
       "      <td>1</td>\n",
       "      <td>0</td>\n",
       "      <td>0</td>\n",
       "      <td>0</td>\n",
       "      <td>1</td>\n",
       "      <td>0</td>\n",
       "      <td>0</td>\n",
       "      <td>0</td>\n",
       "    </tr>\n",
       "    <tr>\n",
       "      <th>1</th>\n",
       "      <td>0</td>\n",
       "      <td>0</td>\n",
       "      <td>0</td>\n",
       "      <td>0</td>\n",
       "      <td>0</td>\n",
       "      <td>0</td>\n",
       "      <td>0</td>\n",
       "      <td>0</td>\n",
       "      <td>0</td>\n",
       "      <td>0</td>\n",
       "      <td>0</td>\n",
       "      <td>0</td>\n",
       "      <td>1</td>\n",
       "      <td>0</td>\n",
       "      <td>0</td>\n",
       "      <td>1</td>\n",
       "      <td>0</td>\n",
       "      <td>0</td>\n",
       "      <td>0</td>\n",
       "      <td>0</td>\n",
       "      <td>0</td>\n",
       "      <td>0</td>\n",
       "      <td>0</td>\n",
       "      <td>0</td>\n",
       "      <td>1</td>\n",
       "      <td>0</td>\n",
       "      <td>0</td>\n",
       "      <td>0</td>\n",
       "      <td>1</td>\n",
       "      <td>1</td>\n",
       "      <td>0</td>\n",
       "      <td>0</td>\n",
       "      <td>0</td>\n",
       "      <td>1</td>\n",
       "      <td>0</td>\n",
       "      <td>0</td>\n",
       "      <td>0</td>\n",
       "      <td>1</td>\n",
       "    </tr>\n",
       "    <tr>\n",
       "      <th>2</th>\n",
       "      <td>0</td>\n",
       "      <td>0</td>\n",
       "      <td>0</td>\n",
       "      <td>0</td>\n",
       "      <td>0</td>\n",
       "      <td>0</td>\n",
       "      <td>0</td>\n",
       "      <td>0</td>\n",
       "      <td>0</td>\n",
       "      <td>0</td>\n",
       "      <td>1</td>\n",
       "      <td>0</td>\n",
       "      <td>0</td>\n",
       "      <td>0</td>\n",
       "      <td>0</td>\n",
       "      <td>1</td>\n",
       "      <td>0</td>\n",
       "      <td>0</td>\n",
       "      <td>0</td>\n",
       "      <td>0</td>\n",
       "      <td>0</td>\n",
       "      <td>0</td>\n",
       "      <td>0</td>\n",
       "      <td>0</td>\n",
       "      <td>0</td>\n",
       "      <td>0</td>\n",
       "      <td>0</td>\n",
       "      <td>0</td>\n",
       "      <td>1</td>\n",
       "      <td>0</td>\n",
       "      <td>1</td>\n",
       "      <td>0</td>\n",
       "      <td>0</td>\n",
       "      <td>0</td>\n",
       "      <td>1</td>\n",
       "      <td>0</td>\n",
       "      <td>0</td>\n",
       "      <td>0</td>\n",
       "    </tr>\n",
       "    <tr>\n",
       "      <th>3</th>\n",
       "      <td>0</td>\n",
       "      <td>0</td>\n",
       "      <td>0</td>\n",
       "      <td>0</td>\n",
       "      <td>0</td>\n",
       "      <td>0</td>\n",
       "      <td>0</td>\n",
       "      <td>0</td>\n",
       "      <td>0</td>\n",
       "      <td>0</td>\n",
       "      <td>0</td>\n",
       "      <td>0</td>\n",
       "      <td>1</td>\n",
       "      <td>0</td>\n",
       "      <td>0</td>\n",
       "      <td>1</td>\n",
       "      <td>0</td>\n",
       "      <td>0</td>\n",
       "      <td>0</td>\n",
       "      <td>0</td>\n",
       "      <td>0</td>\n",
       "      <td>0</td>\n",
       "      <td>0</td>\n",
       "      <td>0</td>\n",
       "      <td>0</td>\n",
       "      <td>0</td>\n",
       "      <td>0</td>\n",
       "      <td>0</td>\n",
       "      <td>0</td>\n",
       "      <td>1</td>\n",
       "      <td>1</td>\n",
       "      <td>0</td>\n",
       "      <td>0</td>\n",
       "      <td>0</td>\n",
       "      <td>1</td>\n",
       "      <td>0</td>\n",
       "      <td>0</td>\n",
       "      <td>0</td>\n",
       "    </tr>\n",
       "    <tr>\n",
       "      <th>4</th>\n",
       "      <td>0</td>\n",
       "      <td>0</td>\n",
       "      <td>0</td>\n",
       "      <td>0</td>\n",
       "      <td>0</td>\n",
       "      <td>1</td>\n",
       "      <td>0</td>\n",
       "      <td>0</td>\n",
       "      <td>0</td>\n",
       "      <td>0</td>\n",
       "      <td>0</td>\n",
       "      <td>0</td>\n",
       "      <td>0</td>\n",
       "      <td>1</td>\n",
       "      <td>0</td>\n",
       "      <td>0</td>\n",
       "      <td>0</td>\n",
       "      <td>0</td>\n",
       "      <td>0</td>\n",
       "      <td>0</td>\n",
       "      <td>0</td>\n",
       "      <td>0</td>\n",
       "      <td>1</td>\n",
       "      <td>0</td>\n",
       "      <td>0</td>\n",
       "      <td>0</td>\n",
       "      <td>0</td>\n",
       "      <td>0</td>\n",
       "      <td>1</td>\n",
       "      <td>0</td>\n",
       "      <td>0</td>\n",
       "      <td>1</td>\n",
       "      <td>0</td>\n",
       "      <td>0</td>\n",
       "      <td>0</td>\n",
       "      <td>1</td>\n",
       "      <td>0</td>\n",
       "      <td>0</td>\n",
       "    </tr>\n",
       "  </tbody>\n",
       "</table>\n",
       "</div>"
      ],
      "text/plain": [
       "   COHORT_2.0  COHORT_3.0  COHORT_5.0  INTCLUST_10  INTCLUST_2  INTCLUST_3  \\\n",
       "0           0           0           0            0           0           0   \n",
       "1           0           0           0            0           0           0   \n",
       "2           0           0           0            0           0           0   \n",
       "3           0           0           0            0           0           0   \n",
       "4           0           0           0            0           0           1   \n",
       "\n",
       "   INTCLUST_4ER+  INTCLUST_4ER-  INTCLUST_5  INTCLUST_6  INTCLUST_7  \\\n",
       "0              1              0           0           0           0   \n",
       "1              0              0           0           0           0   \n",
       "2              0              0           0           0           1   \n",
       "3              0              0           0           0           0   \n",
       "4              0              0           0           0           0   \n",
       "\n",
       "   INTCLUST_8  INTCLUST_9  CLAUDIN_SUBTYPE_Her2  CLAUDIN_SUBTYPE_LumA  \\\n",
       "0           0           0                     0                     1   \n",
       "1           0           1                     0                     0   \n",
       "2           0           0                     0                     0   \n",
       "3           0           1                     0                     0   \n",
       "4           0           0                     1                     0   \n",
       "\n",
       "   CLAUDIN_SUBTYPE_LumB  CLAUDIN_SUBTYPE_NC  CLAUDIN_SUBTYPE_Normal  \\\n",
       "0                     0                   0                       0   \n",
       "1                     1                   0                       0   \n",
       "2                     1                   0                       0   \n",
       "3                     1                   0                       0   \n",
       "4                     0                   0                       0   \n",
       "\n",
       "   CLAUDIN_SUBTYPE_claudin-low  THREEGENE_ER+/HER2- Low Prolif  \\\n",
       "0                            0                               0   \n",
       "1                            0                               0   \n",
       "2                            0                               0   \n",
       "3                            0                               0   \n",
       "4                            0                               0   \n",
       "\n",
       "   THREEGENE_ER-/HER2-  THREEGENE_HER2+  HISTOLOGICAL_SUBTYPE_Lobular  \\\n",
       "0                    0                0                             0   \n",
       "1                    0                0                             0   \n",
       "2                    0                0                             0   \n",
       "3                    0                0                             0   \n",
       "4                    0                0                             1   \n",
       "\n",
       "   HISTOLOGICAL_SUBTYPE_Medullary  HISTOLOGICAL_SUBTYPE_Mixed  \\\n",
       "0                               0                           0   \n",
       "1                               0                           1   \n",
       "2                               0                           0   \n",
       "3                               0                           0   \n",
       "4                               0                           0   \n",
       "\n",
       "   HISTOLOGICAL_SUBTYPE_Mucinous  HISTOLOGICAL_SUBTYPE_Other  \\\n",
       "0                              0                           0   \n",
       "1                              0                           0   \n",
       "2                              0                           0   \n",
       "3                              0                           0   \n",
       "4                              0                           0   \n",
       "\n",
       "   HISTOLOGICAL_SUBTYPE_Tubular/ cribriform  BREAST_SURGERY_MASTECTOMY  \\\n",
       "0                                         0                          0   \n",
       "1                                         0                          1   \n",
       "2                                         0                          1   \n",
       "3                                         0                          0   \n",
       "4                                         0                          1   \n",
       "\n",
       "   LATERALITY_Right  CANCER_TYPE_DETAILED_Breast Invasive Ductal Carcinoma  \\\n",
       "0                 1                                                  1       \n",
       "1                 1                                                  0       \n",
       "2                 0                                                  1       \n",
       "3                 1                                                  1       \n",
       "4                 0                                                  0       \n",
       "\n",
       "   CANCER_TYPE_DETAILED_Breast Invasive Lobular Carcinoma  \\\n",
       "0                                                  0        \n",
       "1                                                  0        \n",
       "2                                                  0        \n",
       "3                                                  0        \n",
       "4                                                  1        \n",
       "\n",
       "   CANCER_TYPE_DETAILED_Breast Invasive Mixed Mucinous Carcinoma  \\\n",
       "0                                                  0               \n",
       "1                                                  0               \n",
       "2                                                  0               \n",
       "3                                                  0               \n",
       "4                                                  0               \n",
       "\n",
       "   CANCER_TYPE_DETAILED_Breast Mixed Ductal and Lobular Carcinoma  \\\n",
       "0                                                  0                \n",
       "1                                                  1                \n",
       "2                                                  0                \n",
       "3                                                  0                \n",
       "4                                                  0                \n",
       "\n",
       "   ONCOTREE_CODE_IDC  ONCOTREE_CODE_ILC  ONCOTREE_CODE_IMMC  \\\n",
       "0                  1                  0                   0   \n",
       "1                  0                  0                   0   \n",
       "2                  1                  0                   0   \n",
       "3                  1                  0                   0   \n",
       "4                  0                  1                   0   \n",
       "\n",
       "   ONCOTREE_CODE_MDLC  \n",
       "0                   0  \n",
       "1                   1  \n",
       "2                   0  \n",
       "3                   0  \n",
       "4                   0  "
      ]
     },
     "execution_count": 62,
     "metadata": {},
     "output_type": "execute_result"
    }
   ],
   "source": [
    "df_MB_onehot_encoded.head()"
   ]
  },
  {
   "cell_type": "markdown",
   "id": "6fd39540-1c16-4d63-af8f-29c5ad005bdb",
   "metadata": {},
   "source": [
    "# 元のdfとonehotしたdfの結合\n",
    "dfの形などを調査\n",
    "\n",
    "2つのdfのshapeを確認"
   ]
  },
  {
   "cell_type": "code",
   "execution_count": 63,
   "id": "dc0e2612-8c10-42d2-adbb-f566443507c4",
   "metadata": {},
   "outputs": [
    {
     "data": {
      "text/plain": [
       "((1124, 36), (1124, 38))"
      ]
     },
     "execution_count": 63,
     "metadata": {},
     "output_type": "execute_result"
    }
   ],
   "source": [
    "df_MB_dtype_encoded.shape, df_MB_onehot_encoded.shape"
   ]
  },
  {
   "cell_type": "code",
   "execution_count": 64,
   "id": "39ed64a4-6d83-46bf-83fb-697435abc1ac",
   "metadata": {},
   "outputs": [
    {
     "data": {
      "text/plain": [
       "(1481, 74)"
      ]
     },
     "execution_count": 64,
     "metadata": {},
     "output_type": "execute_result"
    }
   ],
   "source": [
    "# 単に結合しただけでは形が異なる\n",
    "pd.concat([df_MB_dtype_encoded, df_MB_onehot_encoded], axis=1).shape"
   ]
  },
  {
   "cell_type": "code",
   "execution_count": 65,
   "id": "d234e8cc-80cf-48cb-a5be-03206142b18d",
   "metadata": {},
   "outputs": [
    {
     "data": {
      "text/plain": [
       "(1124, 64)"
      ]
     },
     "metadata": {},
     "output_type": "display_data"
    },
    {
     "name": "stdout",
     "output_type": "stream",
     "text": [
      "<class 'pandas.core.frame.DataFrame'>\n",
      "RangeIndex: 1124 entries, 0 to 1123\n",
      "Data columns (total 64 columns):\n",
      " #   Column                                                          Non-Null Count  Dtype  \n",
      "---  ------                                                          --------------  -----  \n",
      " 0   PATIENT_ID                                                      1124 non-null   object \n",
      " 1   LYMPH_NODES_EXAMINED_POSITIVE                                   1124 non-null   float64\n",
      " 2   NPI                                                             1124 non-null   float64\n",
      " 3   CELLULARITY                                                     1124 non-null   int64  \n",
      " 4   CHEMOTHERAPY                                                    1124 non-null   bool   \n",
      " 5   ER_IHC                                                          1124 non-null   int64  \n",
      " 6   HER2_SNP6                                                       1124 non-null   int64  \n",
      " 7   HORMONE_THERAPY                                                 1124 non-null   bool   \n",
      " 8   INFERRED_MENOPAUSAL_STATE                                       1124 non-null   int64  \n",
      " 9   SEX                                                             1124 non-null   object \n",
      " 10  AGE_AT_DIAGNOSIS                                                1124 non-null   float64\n",
      " 11  OS_MONTHS                                                       1124 non-null   float64\n",
      " 12  OS_STATUS                                                       1124 non-null   bool   \n",
      " 13  VITAL_STATUS                                                    1124 non-null   object \n",
      " 14  RADIO_THERAPY                                                   1124 non-null   bool   \n",
      " 15  RFS_STATUS                                                      1124 non-null   bool   \n",
      " 16  RFS_MONTHS                                                      1124 non-null   float64\n",
      " 17  SAMPLE_ID                                                       1124 non-null   object \n",
      " 18  ER_STATUS                                                       1124 non-null   int64  \n",
      " 19  HER2_STATUS                                                     1124 non-null   int64  \n",
      " 20  GRADE                                                           1124 non-null   float64\n",
      " 21  PR_STATUS                                                       1124 non-null   int64  \n",
      " 22  SAMPLE_TYPE                                                     1124 non-null   object \n",
      " 23  TUMOR_SIZE                                                      1124 non-null   float64\n",
      " 24  TUMOR_STAGE                                                     1124 non-null   float64\n",
      " 25  TMB_NONSYNONYMOUS                                               1124 non-null   float64\n",
      " 26  COHORT_2.0                                                      1124 non-null   int64  \n",
      " 27  COHORT_3.0                                                      1124 non-null   int64  \n",
      " 28  COHORT_5.0                                                      1124 non-null   int64  \n",
      " 29  INTCLUST_10                                                     1124 non-null   int64  \n",
      " 30  INTCLUST_2                                                      1124 non-null   int64  \n",
      " 31  INTCLUST_3                                                      1124 non-null   int64  \n",
      " 32  INTCLUST_4ER+                                                   1124 non-null   int64  \n",
      " 33  INTCLUST_4ER-                                                   1124 non-null   int64  \n",
      " 34  INTCLUST_5                                                      1124 non-null   int64  \n",
      " 35  INTCLUST_6                                                      1124 non-null   int64  \n",
      " 36  INTCLUST_7                                                      1124 non-null   int64  \n",
      " 37  INTCLUST_8                                                      1124 non-null   int64  \n",
      " 38  INTCLUST_9                                                      1124 non-null   int64  \n",
      " 39  CLAUDIN_SUBTYPE_Her2                                            1124 non-null   int64  \n",
      " 40  CLAUDIN_SUBTYPE_LumA                                            1124 non-null   int64  \n",
      " 41  CLAUDIN_SUBTYPE_LumB                                            1124 non-null   int64  \n",
      " 42  CLAUDIN_SUBTYPE_NC                                              1124 non-null   int64  \n",
      " 43  CLAUDIN_SUBTYPE_Normal                                          1124 non-null   int64  \n",
      " 44  CLAUDIN_SUBTYPE_claudin-low                                     1124 non-null   int64  \n",
      " 45  THREEGENE_ER+/HER2- Low Prolif                                  1124 non-null   int64  \n",
      " 46  THREEGENE_ER-/HER2-                                             1124 non-null   int64  \n",
      " 47  THREEGENE_HER2+                                                 1124 non-null   int64  \n",
      " 48  HISTOLOGICAL_SUBTYPE_Lobular                                    1124 non-null   int64  \n",
      " 49  HISTOLOGICAL_SUBTYPE_Medullary                                  1124 non-null   int64  \n",
      " 50  HISTOLOGICAL_SUBTYPE_Mixed                                      1124 non-null   int64  \n",
      " 51  HISTOLOGICAL_SUBTYPE_Mucinous                                   1124 non-null   int64  \n",
      " 52  HISTOLOGICAL_SUBTYPE_Other                                      1124 non-null   int64  \n",
      " 53  HISTOLOGICAL_SUBTYPE_Tubular/ cribriform                        1124 non-null   int64  \n",
      " 54  BREAST_SURGERY_MASTECTOMY                                       1124 non-null   int64  \n",
      " 55  LATERALITY_Right                                                1124 non-null   int64  \n",
      " 56  CANCER_TYPE_DETAILED_Breast Invasive Ductal Carcinoma           1124 non-null   int64  \n",
      " 57  CANCER_TYPE_DETAILED_Breast Invasive Lobular Carcinoma          1124 non-null   int64  \n",
      " 58  CANCER_TYPE_DETAILED_Breast Invasive Mixed Mucinous Carcinoma   1124 non-null   int64  \n",
      " 59  CANCER_TYPE_DETAILED_Breast Mixed Ductal and Lobular Carcinoma  1124 non-null   int64  \n",
      " 60  ONCOTREE_CODE_IDC                                               1124 non-null   int64  \n",
      " 61  ONCOTREE_CODE_ILC                                               1124 non-null   int64  \n",
      " 62  ONCOTREE_CODE_IMMC                                              1124 non-null   int64  \n",
      " 63  ONCOTREE_CODE_MDLC                                              1124 non-null   int64  \n",
      "dtypes: bool(5), float64(9), int64(45), object(5)\n",
      "memory usage: 523.7+ KB\n"
     ]
    },
    {
     "data": {
      "text/plain": [
       "None"
      ]
     },
     "metadata": {},
     "output_type": "display_data"
    }
   ],
   "source": [
    "# concatがうまく行かない理由はindexの順番。\n",
    "# 元のdfのnullをdropしたため。\n",
    "\n",
    "# なのでindexをresetしてからconcatする\n",
    "\n",
    "# onehotで生成した元のカラムの削除\n",
    "df_MB_onehot_concated = pd.concat(\n",
    "    [\n",
    "        df_MB_dtype_encoded.reset_index(drop=True),\n",
    "        df_MB_onehot_encoded.reset_index(drop=True),\n",
    "    ],\n",
    "    axis=1,\n",
    ").drop(onehot_encoding_columns, axis=1)\n",
    "display(df_MB_onehot_concated.shape)\n",
    "\n",
    "display(df_MB_onehot_concated.info())"
   ]
  },
  {
   "cell_type": "code",
   "execution_count": 66,
   "id": "6bffe81f-3428-4034-a40a-4fdaa7ca16ac",
   "metadata": {},
   "outputs": [],
   "source": [
    "# save\n",
    "make_dir(config.INTERIM_PICKLE_PREPROCESSED_DIR)\n",
    "df_MB_onehot_concated.to_pickle(\n",
    "    config.INTERIM_PICKLE_PREPROCESSED_DIR + \"/2.0.2-df_MB_onehot_concated.pkl\"\n",
    ")"
   ]
  },
  {
   "cell_type": "code",
   "execution_count": null,
   "id": "0d978ec9-95cf-40a7-a92d-8b96d3c7d698",
   "metadata": {},
   "outputs": [],
   "source": []
  }
 ],
 "metadata": {
  "kernelspec": {
   "display_name": "breast-cancer-analytics",
   "language": "python",
   "name": "breast-cancer-analytics"
  },
  "language_info": {
   "codemirror_mode": {
    "name": "ipython",
    "version": 3
   },
   "file_extension": ".py",
   "mimetype": "text/x-python",
   "name": "python",
   "nbconvert_exporter": "python",
   "pygments_lexer": "ipython3",
   "version": "3.8.13"
  }
 },
 "nbformat": 4,
 "nbformat_minor": 5
}
