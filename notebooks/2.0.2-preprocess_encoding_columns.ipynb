{
 "cells": [
  {
   "cell_type": "code",
   "execution_count": 2,
   "id": "e1305beb-70db-4502-a0e5-b5603c591a79",
   "metadata": {},
   "outputs": [],
   "source": [
    "import os\n",
    "import numpy as np\n",
    "import pandas as pd\n",
    "\n",
    "from sklearn.preprocessing import OneHotEncoder, LabelEncoder\n",
    "\n",
    "import config\n",
    "\n",
    "# 最大表示列数の指定（ここでは50列を指定）\n",
    "pd.set_option(\"display.max_columns\", 50)\n",
    "pd.set_option(\"display.max_rows\", 50)\n",
    "\n",
    "\n",
    "def make_dir(dir_name: str):\n",
    "    if not os.path.exists(dir_name):\n",
    "        os.makedirs(dir_name)"
   ]
  },
  {
   "cell_type": "markdown",
   "id": "9f36685e-a13c-4639-8f0e-539692f27600",
   "metadata": {},
   "source": [
    "# 型のエンコーディング\n",
    "## df｜df_MB_dtype_encoded\n",
    "順序尺度特徴量とboolean特徴量について、データを扱いやすい形に変換する。"
   ]
  },
  {
   "cell_type": "code",
   "execution_count": 3,
   "id": "9714b8ad-301e-48d7-9ef1-4d3214183395",
   "metadata": {},
   "outputs": [
    {
     "name": "stdout",
     "output_type": "stream",
     "text": [
      "<class 'pandas.core.frame.DataFrame'>\n",
      "Int64Index: 1980 entries, 0 to 1984\n",
      "Data columns (total 36 columns):\n",
      " #   Column                         Non-Null Count  Dtype  \n",
      "---  ------                         --------------  -----  \n",
      " 0   PATIENT_ID                     1980 non-null   object \n",
      " 1   LYMPH_NODES_EXAMINED_POSITIVE  1980 non-null   float64\n",
      " 2   NPI                            1980 non-null   float64\n",
      " 3   CELLULARITY                    1916 non-null   object \n",
      " 4   CHEMOTHERAPY                   1979 non-null   object \n",
      " 5   COHORT                         1980 non-null   float64\n",
      " 6   ER_IHC                         1937 non-null   object \n",
      " 7   HER2_SNP6                      1979 non-null   object \n",
      " 8   HORMONE_THERAPY                1979 non-null   object \n",
      " 9   INFERRED_MENOPAUSAL_STATE      1979 non-null   object \n",
      " 10  SEX                            1980 non-null   object \n",
      " 11  INTCLUST                       1979 non-null   object \n",
      " 12  AGE_AT_DIAGNOSIS               1980 non-null   float64\n",
      " 13  OS_MONTHS                      1980 non-null   float64\n",
      " 14  OS_STATUS                      1980 non-null   object \n",
      " 15  CLAUDIN_SUBTYPE                1979 non-null   object \n",
      " 16  THREEGENE                      1763 non-null   object \n",
      " 17  VITAL_STATUS                   1980 non-null   object \n",
      " 18  LATERALITY                     1869 non-null   object \n",
      " 19  RADIO_THERAPY                  1979 non-null   object \n",
      " 20  HISTOLOGICAL_SUBTYPE           1936 non-null   object \n",
      " 21  BREAST_SURGERY                 1954 non-null   object \n",
      " 22  RFS_STATUS                     1980 non-null   object \n",
      " 23  RFS_MONTHS                     1980 non-null   float64\n",
      " 24  SAMPLE_ID                      1980 non-null   object \n",
      " 25  CANCER_TYPE                    1980 non-null   object \n",
      " 26  CANCER_TYPE_DETAILED           1980 non-null   object \n",
      " 27  ER_STATUS                      1980 non-null   object \n",
      " 28  HER2_STATUS                    1979 non-null   object \n",
      " 29  GRADE                          1980 non-null   float64\n",
      " 30  ONCOTREE_CODE                  1980 non-null   object \n",
      " 31  PR_STATUS                      1979 non-null   object \n",
      " 32  SAMPLE_TYPE                    1980 non-null   object \n",
      " 33  TUMOR_SIZE                     1980 non-null   float64\n",
      " 34  TUMOR_STAGE                    1980 non-null   float64\n",
      " 35  TMB_NONSYNONYMOUS              1980 non-null   float64\n",
      "dtypes: float64(10), object(26)\n",
      "memory usage: 572.3+ KB\n"
     ]
    }
   ],
   "source": [
    "'''df_MB_dtype_encoded = pd.read_pickle(\n",
    "    config.INTERIM_PICKLE_PREPROCESSED_DIR + \"/2.0.1-df_MB_dropped.pkl\"\n",
    ")\n",
    "'''\n",
    "df_MB_dtype_encoded = pd.read_pickle(\n",
    "    config.INTERIM_PICKLE_PREPROCESSED_DIR + \"/2.0.1-df_MB_filled_by_median.pkl\"\n",
    ")\n",
    "\n",
    "df_MB_dtype_encoded.info()"
   ]
  },
  {
   "cell_type": "code",
   "execution_count": 5,
   "id": "eac3ec3e-e891-4e1d-873e-4dafbd7999c8",
   "metadata": {},
   "outputs": [
    {
     "data": {
      "text/plain": [
       "'[\\n    str(column) + str(df_MB_dtype_encoded[column].unique())\\n    for column in df_MB_dtype_encoded.columns\\n]'"
      ]
     },
     "execution_count": 5,
     "metadata": {},
     "output_type": "execute_result"
    }
   ],
   "source": [
    "\"\"\"[\n",
    "    str(column) + str(df_MB_dtype_encoded[column].unique())\n",
    "    for column in df_MB_dtype_encoded.columns\n",
    "]\"\"\""
   ]
  },
  {
   "cell_type": "code",
   "execution_count": 6,
   "id": "92427c47-6c84-47ae-bdb7-fbef8b02aa1c",
   "metadata": {},
   "outputs": [
    {
     "name": "stdout",
     "output_type": "stream",
     "text": [
      "36 36\n"
     ]
    }
   ],
   "source": [
    "target_columns = [\n",
    "    # patient\n",
    "    \"OS_MONTHS\",\n",
    "    \"RFS_MONTHS\",\n",
    "    \"OS_STATUS\",\n",
    "    \"RFS_STATUS\",\n",
    "    \"VITAL_STATUS\",\n",
    "]\n",
    "\n",
    "int_columns = [\n",
    "    # patient\n",
    "    \"LYMPH_NODES_EXAMINED_POSITIVE\",\n",
    "    \"OS_MONTHS\",\n",
    "    \"RFS_MONTHS\",\n",
    "]\n",
    "\n",
    "float_columns = [\n",
    "    # patient\n",
    "    \"NPI\",\n",
    "    \"AGE_AT_DIAGNOSIS\",\n",
    "    # sample\n",
    "    \"TUMOR_SIZE\",\n",
    "    \"TMB_NONSYNONYMOUS\",\n",
    "]\n",
    "\n",
    "str_columns = []\n",
    "\n",
    "# 質的変数（順序尺度）\n",
    "qualitative_ordinal_columns = [\n",
    "    # patient\n",
    "    \"CELLULARITY\",\n",
    "    \"ER_IHC\",\n",
    "    \"HER2_SNP6\",\n",
    "    \"INFERRED_MENOPAUSAL_STATE\",\n",
    "    # sample\n",
    "    \"ER_STATUS\",\n",
    "    \"HER2_STATUS\",\n",
    "    \"GRADE\",\n",
    "    \"PR_STATUS\",\n",
    "    \"TUMOR_STAGE\",\n",
    "]\n",
    "# 質的変数（名義尺度）\n",
    "qualitative_name_columns = [\n",
    "    # patient\n",
    "    \"COHORT\",\n",
    "    \"INTCLUST\",\n",
    "    \"CLAUDIN_SUBTYPE\",\n",
    "    \"THREEGENE\",\n",
    "    \"HISTOLOGICAL_SUBTYPE\",\n",
    "    \"BREAST_SURGERY\",\n",
    "    \"LATERALITY\",\n",
    "    \"VITAL_STATUS\",\n",
    "    # sample\n",
    "    \"CANCER_TYPE\",\n",
    "    \"CANCER_TYPE_DETAILED\",\n",
    "    \"ONCOTREE_CODE\",\n",
    "]\n",
    "\n",
    "bool_columns = [\n",
    "    # patient\n",
    "    \"CHEMOTHERAPY\",\n",
    "    \"HORMONE_THERAPY\",\n",
    "    \"RADIO_THERAPY\",\n",
    "    \"OS_STATUS\",\n",
    "    \"RFS_STATUS\",\n",
    "]\n",
    "\n",
    "meanless_columns = [\n",
    "    # patient\n",
    "    \"PATIENT_ID\",\n",
    "    \"SEX\",\n",
    "    # sample\n",
    "    #'PATIENT_ID',\n",
    "    \"SAMPLE_ID\",\n",
    "    \"SAMPLE_TYPE\",\n",
    "]\n",
    "\n",
    "print(\n",
    "    df_MB_dtype_encoded.shape[1],\n",
    "    len(int_columns)\n",
    "    + len(float_columns)\n",
    "    + len(ｓｔｒ_columns)\n",
    "    + len(qualitative_ordinal_columns)\n",
    "    + len(qualitative_name_columns)\n",
    "    + len(bool_columns)\n",
    "    + len(meanless_columns),\n",
    ")\n",
    "assert df_MB_dtype_encoded.shape[1] == len(int_columns) + len(float_columns) + len(\n",
    "    ｓｔｒ_columns\n",
    ") + len(qualitative_ordinal_columns) + len(qualitative_name_columns) + len(\n",
    "    bool_columns\n",
    ") + len(\n",
    "    meanless_columns\n",
    "), \"lack or too much columns\""
   ]
  },
  {
   "cell_type": "markdown",
   "id": "0bb16479-e892-437c-9ad4-64a6be34679f",
   "metadata": {},
   "source": [
    "# 質的変数（順序尺度）のエンコーディング\n",
    "qualitative_ordinal_columnsは、順序のあるstrの変数で構成されている。\n",
    "そこで大小関係に対応するようstrをintに変換する。"
   ]
  },
  {
   "cell_type": "code",
   "execution_count": 7,
   "id": "c2a3144f-7a23-4200-b622-961668ddcd05",
   "metadata": {},
   "outputs": [
    {
     "data": {
      "text/html": [
       "<div>\n",
       "<style scoped>\n",
       "    .dataframe tbody tr th:only-of-type {\n",
       "        vertical-align: middle;\n",
       "    }\n",
       "\n",
       "    .dataframe tbody tr th {\n",
       "        vertical-align: top;\n",
       "    }\n",
       "\n",
       "    .dataframe thead th {\n",
       "        text-align: right;\n",
       "    }\n",
       "</style>\n",
       "<table border=\"1\" class=\"dataframe\">\n",
       "  <thead>\n",
       "    <tr style=\"text-align: right;\">\n",
       "      <th></th>\n",
       "      <th>CELLULARITY</th>\n",
       "      <th>ER_IHC</th>\n",
       "      <th>HER2_SNP6</th>\n",
       "      <th>INFERRED_MENOPAUSAL_STATE</th>\n",
       "      <th>ER_STATUS</th>\n",
       "      <th>HER2_STATUS</th>\n",
       "      <th>GRADE</th>\n",
       "      <th>PR_STATUS</th>\n",
       "      <th>TUMOR_STAGE</th>\n",
       "    </tr>\n",
       "  </thead>\n",
       "  <tbody>\n",
       "    <tr>\n",
       "      <th>0</th>\n",
       "      <td>NaN</td>\n",
       "      <td>Positve</td>\n",
       "      <td>NEUTRAL</td>\n",
       "      <td>Post</td>\n",
       "      <td>Positive</td>\n",
       "      <td>Negative</td>\n",
       "      <td>3.0</td>\n",
       "      <td>Negative</td>\n",
       "      <td>2.0</td>\n",
       "    </tr>\n",
       "    <tr>\n",
       "      <th>1</th>\n",
       "      <td>High</td>\n",
       "      <td>Positve</td>\n",
       "      <td>NEUTRAL</td>\n",
       "      <td>Pre</td>\n",
       "      <td>Positive</td>\n",
       "      <td>Negative</td>\n",
       "      <td>3.0</td>\n",
       "      <td>Positive</td>\n",
       "      <td>1.0</td>\n",
       "    </tr>\n",
       "    <tr>\n",
       "      <th>2</th>\n",
       "      <td>High</td>\n",
       "      <td>Positve</td>\n",
       "      <td>NEUTRAL</td>\n",
       "      <td>Pre</td>\n",
       "      <td>Positive</td>\n",
       "      <td>Negative</td>\n",
       "      <td>2.0</td>\n",
       "      <td>Positive</td>\n",
       "      <td>2.0</td>\n",
       "    </tr>\n",
       "    <tr>\n",
       "      <th>3</th>\n",
       "      <td>Moderate</td>\n",
       "      <td>Positve</td>\n",
       "      <td>NEUTRAL</td>\n",
       "      <td>Pre</td>\n",
       "      <td>Positive</td>\n",
       "      <td>Negative</td>\n",
       "      <td>2.0</td>\n",
       "      <td>Positive</td>\n",
       "      <td>2.0</td>\n",
       "    </tr>\n",
       "    <tr>\n",
       "      <th>4</th>\n",
       "      <td>High</td>\n",
       "      <td>Positve</td>\n",
       "      <td>NEUTRAL</td>\n",
       "      <td>Post</td>\n",
       "      <td>Positive</td>\n",
       "      <td>Negative</td>\n",
       "      <td>3.0</td>\n",
       "      <td>Positive</td>\n",
       "      <td>2.0</td>\n",
       "    </tr>\n",
       "  </tbody>\n",
       "</table>\n",
       "</div>"
      ],
      "text/plain": [
       "  CELLULARITY   ER_IHC HER2_SNP6 INFERRED_MENOPAUSAL_STATE ER_STATUS  \\\n",
       "0         NaN  Positve   NEUTRAL                      Post  Positive   \n",
       "1        High  Positve   NEUTRAL                       Pre  Positive   \n",
       "2        High  Positve   NEUTRAL                       Pre  Positive   \n",
       "3    Moderate  Positve   NEUTRAL                       Pre  Positive   \n",
       "4        High  Positve   NEUTRAL                      Post  Positive   \n",
       "\n",
       "  HER2_STATUS  GRADE PR_STATUS  TUMOR_STAGE  \n",
       "0    Negative    3.0  Negative          2.0  \n",
       "1    Negative    3.0  Positive          1.0  \n",
       "2    Negative    2.0  Positive          2.0  \n",
       "3    Negative    2.0  Positive          2.0  \n",
       "4    Negative    3.0  Positive          2.0  "
      ]
     },
     "execution_count": 7,
     "metadata": {},
     "output_type": "execute_result"
    }
   ],
   "source": [
    "df_MB_dtype_encoded[qualitative_ordinal_columns].head()"
   ]
  },
  {
   "cell_type": "code",
   "execution_count": 8,
   "id": "0e2fc01f-7a33-40d6-bc4d-7ea9bc2ad841",
   "metadata": {},
   "outputs": [
    {
     "name": "stdout",
     "output_type": "stream",
     "text": [
      "CELLULARITY\n"
     ]
    },
    {
     "data": {
      "text/plain": [
       "High        965\n",
       "Moderate    737\n",
       "Low         214\n",
       "Name: CELLULARITY, dtype: int64"
      ]
     },
     "metadata": {},
     "output_type": "display_data"
    },
    {
     "name": "stdout",
     "output_type": "stream",
     "text": [
      "--------------------------------------------------\n",
      "ER_IHC\n"
     ]
    },
    {
     "data": {
      "text/plain": [
       "Positve     1498\n",
       "Negative     439\n",
       "Name: ER_IHC, dtype: int64"
      ]
     },
     "metadata": {},
     "output_type": "display_data"
    },
    {
     "name": "stdout",
     "output_type": "stream",
     "text": [
      "--------------------------------------------------\n",
      "HER2_SNP6\n"
     ]
    },
    {
     "data": {
      "text/plain": [
       "NEUTRAL    1436\n",
       "GAIN        438\n",
       "LOSS        100\n",
       "UNDEF         5\n",
       "Name: HER2_SNP6, dtype: int64"
      ]
     },
     "metadata": {},
     "output_type": "display_data"
    },
    {
     "name": "stdout",
     "output_type": "stream",
     "text": [
      "--------------------------------------------------\n",
      "INFERRED_MENOPAUSAL_STATE\n"
     ]
    },
    {
     "data": {
      "text/plain": [
       "Post    1555\n",
       "Pre      424\n",
       "Name: INFERRED_MENOPAUSAL_STATE, dtype: int64"
      ]
     },
     "metadata": {},
     "output_type": "display_data"
    },
    {
     "name": "stdout",
     "output_type": "stream",
     "text": [
      "--------------------------------------------------\n",
      "ER_STATUS\n"
     ]
    },
    {
     "data": {
      "text/plain": [
       "Positive    1506\n",
       "Negative     474\n",
       "Name: ER_STATUS, dtype: int64"
      ]
     },
     "metadata": {},
     "output_type": "display_data"
    },
    {
     "name": "stdout",
     "output_type": "stream",
     "text": [
      "--------------------------------------------------\n",
      "HER2_STATUS\n"
     ]
    },
    {
     "data": {
      "text/plain": [
       "Negative    1732\n",
       "Positive     247\n",
       "Name: HER2_STATUS, dtype: int64"
      ]
     },
     "metadata": {},
     "output_type": "display_data"
    },
    {
     "name": "stdout",
     "output_type": "stream",
     "text": [
      "--------------------------------------------------\n",
      "GRADE\n"
     ]
    },
    {
     "data": {
      "text/plain": [
       "3.0    1040\n",
       "2.0     771\n",
       "1.0     169\n",
       "Name: GRADE, dtype: int64"
      ]
     },
     "metadata": {},
     "output_type": "display_data"
    },
    {
     "name": "stdout",
     "output_type": "stream",
     "text": [
      "--------------------------------------------------\n",
      "PR_STATUS\n"
     ]
    },
    {
     "data": {
      "text/plain": [
       "Positive    1039\n",
       "Negative     940\n",
       "Name: PR_STATUS, dtype: int64"
      ]
     },
     "metadata": {},
     "output_type": "display_data"
    },
    {
     "name": "stdout",
     "output_type": "stream",
     "text": [
      "--------------------------------------------------\n",
      "TUMOR_STAGE\n"
     ]
    },
    {
     "data": {
      "text/plain": [
       "2.0    1340\n",
       "1.0     500\n",
       "3.0     118\n",
       "0.0      12\n",
       "4.0      10\n",
       "Name: TUMOR_STAGE, dtype: int64"
      ]
     },
     "metadata": {},
     "output_type": "display_data"
    },
    {
     "name": "stdout",
     "output_type": "stream",
     "text": [
      "--------------------------------------------------\n"
     ]
    }
   ],
   "source": [
    "for column in qualitative_ordinal_columns:\n",
    "    print(column)\n",
    "    display(df_MB_dtype_encoded[column].value_counts())\n",
    "    print(\"-----\" * 10)"
   ]
  },
  {
   "cell_type": "code",
   "execution_count": 9,
   "id": "53e610d3-730b-4948-b492-1d22be87c1a5",
   "metadata": {},
   "outputs": [
    {
     "name": "stdout",
     "output_type": "stream",
     "text": [
      "CELLULARITY\n"
     ]
    },
    {
     "data": {
      "text/plain": [
       "3.0    965\n",
       "2.0    737\n",
       "1.0    214\n",
       "Name: CELLULARITY, dtype: int64"
      ]
     },
     "metadata": {},
     "output_type": "display_data"
    },
    {
     "name": "stdout",
     "output_type": "stream",
     "text": [
      "--------------------------------------------------\n",
      "ER_IHC\n"
     ]
    },
    {
     "data": {
      "text/plain": [
       " 1.0    1498\n",
       "-1.0     439\n",
       "Name: ER_IHC, dtype: int64"
      ]
     },
     "metadata": {},
     "output_type": "display_data"
    },
    {
     "name": "stdout",
     "output_type": "stream",
     "text": [
      "--------------------------------------------------\n",
      "HER2_SNP6\n"
     ]
    },
    {
     "data": {
      "text/plain": [
       "2.0    1436\n",
       "3.0     438\n",
       "1.0     100\n",
       "0.0       5\n",
       "Name: HER2_SNP6, dtype: int64"
      ]
     },
     "metadata": {},
     "output_type": "display_data"
    },
    {
     "name": "stdout",
     "output_type": "stream",
     "text": [
      "--------------------------------------------------\n",
      "INFERRED_MENOPAUSAL_STATE\n"
     ]
    },
    {
     "data": {
      "text/plain": [
       " 1.0    1555\n",
       "-1.0     424\n",
       "Name: INFERRED_MENOPAUSAL_STATE, dtype: int64"
      ]
     },
     "metadata": {},
     "output_type": "display_data"
    },
    {
     "name": "stdout",
     "output_type": "stream",
     "text": [
      "--------------------------------------------------\n",
      "ER_STATUS\n"
     ]
    },
    {
     "data": {
      "text/plain": [
       " 1    1506\n",
       "-1     474\n",
       "Name: ER_STATUS, dtype: int64"
      ]
     },
     "metadata": {},
     "output_type": "display_data"
    },
    {
     "name": "stdout",
     "output_type": "stream",
     "text": [
      "--------------------------------------------------\n",
      "HER2_STATUS\n"
     ]
    },
    {
     "data": {
      "text/plain": [
       "-1.0    1732\n",
       " 1.0     247\n",
       "Name: HER2_STATUS, dtype: int64"
      ]
     },
     "metadata": {},
     "output_type": "display_data"
    },
    {
     "name": "stdout",
     "output_type": "stream",
     "text": [
      "--------------------------------------------------\n",
      "GRADE\n"
     ]
    },
    {
     "data": {
      "text/plain": [
       "3.0    1040\n",
       "2.0     771\n",
       "1.0     169\n",
       "Name: GRADE, dtype: int64"
      ]
     },
     "metadata": {},
     "output_type": "display_data"
    },
    {
     "name": "stdout",
     "output_type": "stream",
     "text": [
      "--------------------------------------------------\n",
      "PR_STATUS\n"
     ]
    },
    {
     "data": {
      "text/plain": [
       " 1.0    1039\n",
       "-1.0     940\n",
       "Name: PR_STATUS, dtype: int64"
      ]
     },
     "metadata": {},
     "output_type": "display_data"
    },
    {
     "name": "stdout",
     "output_type": "stream",
     "text": [
      "--------------------------------------------------\n",
      "TUMOR_STAGE\n"
     ]
    },
    {
     "data": {
      "text/plain": [
       "2.0    1340\n",
       "1.0     500\n",
       "3.0     118\n",
       "0.0      12\n",
       "4.0      10\n",
       "Name: TUMOR_STAGE, dtype: int64"
      ]
     },
     "metadata": {},
     "output_type": "display_data"
    },
    {
     "name": "stdout",
     "output_type": "stream",
     "text": [
      "--------------------------------------------------\n"
     ]
    }
   ],
   "source": [
    "df_MB_dtype_encoded[\"CELLULARITY\"].replace(\n",
    "    {\"High\": 3, \"Moderate\": 2, \"Low\": 1}, inplace=True\n",
    ")\n",
    "df_MB_dtype_encoded[\"ER_IHC\"].replace({\"Positve\": 1, \"Negative\": -1}, inplace=True)\n",
    "df_MB_dtype_encoded[\"HER2_SNP6\"].replace(\n",
    "    {\"GAIN\": 3, \"NEUTRAL\": 2, \"LOSS\": 1, \"UNDEF\": 0}, inplace=True\n",
    ")\n",
    "df_MB_dtype_encoded[\"INFERRED_MENOPAUSAL_STATE\"].replace(\n",
    "    {\"Post\": 1, \"Pre\": -1}, inplace=True\n",
    ")\n",
    "df_MB_dtype_encoded[\"ER_STATUS\"].replace({\"Positive\": 1, \"Negative\": -1}, inplace=True)\n",
    "df_MB_dtype_encoded[\"HER2_STATUS\"].replace(\n",
    "    {\"Positive\": 1, \"Negative\": -1}, inplace=True\n",
    ")\n",
    "# df_MB_dtype_encoded['GRADEGRADE']\n",
    "df_MB_dtype_encoded[\"PR_STATUS\"].replace({\"Positive\": 1, \"Negative\": -1}, inplace=True)\n",
    "# df_MB_dtype_encoded['TUMOR_STAGE']\n",
    "\n",
    "for column in qualitative_ordinal_columns:\n",
    "    print(column)\n",
    "    display(df_MB_dtype_encoded[column].value_counts())\n",
    "    print(\"-----\" * 10)"
   ]
  },
  {
   "cell_type": "markdown",
   "id": "1345e81f-f7dc-4370-9048-762dad39fc7a",
   "metadata": {},
   "source": [
    "# boolのエンコーディング\n",
    "bool_columnsは対象的な2項目から構成されているため、これらの項目をboolean型にする。\n",
    "Yes、Noのみを対象とする（2項目のみから構成される特徴量でも、Yes、No以外の場合は3項目を考慮してカテゴリ特徴量として考える）。"
   ]
  },
  {
   "cell_type": "code",
   "execution_count": 10,
   "id": "618fb746-50f3-4b13-b296-95da137048d7",
   "metadata": {},
   "outputs": [
    {
     "name": "stdout",
     "output_type": "stream",
     "text": [
      "<class 'pandas.core.frame.DataFrame'>\n",
      "Int64Index: 1980 entries, 0 to 1984\n",
      "Data columns (total 5 columns):\n",
      " #   Column           Non-Null Count  Dtype\n",
      "---  ------           --------------  -----\n",
      " 0   CHEMOTHERAPY     1980 non-null   bool \n",
      " 1   HORMONE_THERAPY  1980 non-null   bool \n",
      " 2   RADIO_THERAPY    1980 non-null   bool \n",
      " 3   OS_STATUS        1980 non-null   bool \n",
      " 4   RFS_STATUS       1980 non-null   bool \n",
      "dtypes: bool(5)\n",
      "memory usage: 25.1 KB\n"
     ]
    }
   ],
   "source": [
    "df_MB_dtype_encoded[bool_columns].astype(bool).info()"
   ]
  },
  {
   "cell_type": "code",
   "execution_count": 11,
   "id": "7b276fe8-b971-4af2-8973-b9e7856dcacc",
   "metadata": {},
   "outputs": [
    {
     "name": "stdout",
     "output_type": "stream",
     "text": [
      "CHEMOTHERAPY\n"
     ]
    },
    {
     "data": {
      "text/plain": [
       "NO     1567\n",
       "YES     412\n",
       "Name: CHEMOTHERAPY, dtype: int64"
      ]
     },
     "metadata": {},
     "output_type": "display_data"
    },
    {
     "name": "stdout",
     "output_type": "stream",
     "text": [
      "--------------------------------------------------\n",
      "HORMONE_THERAPY\n"
     ]
    },
    {
     "data": {
      "text/plain": [
       "YES    1216\n",
       "NO      763\n",
       "Name: HORMONE_THERAPY, dtype: int64"
      ]
     },
     "metadata": {},
     "output_type": "display_data"
    },
    {
     "name": "stdout",
     "output_type": "stream",
     "text": [
      "--------------------------------------------------\n",
      "RADIO_THERAPY\n"
     ]
    },
    {
     "data": {
      "text/plain": [
       "YES    1172\n",
       "NO      807\n",
       "Name: RADIO_THERAPY, dtype: int64"
      ]
     },
     "metadata": {},
     "output_type": "display_data"
    },
    {
     "name": "stdout",
     "output_type": "stream",
     "text": [
      "--------------------------------------------------\n",
      "OS_STATUS\n"
     ]
    },
    {
     "data": {
      "text/plain": [
       "1:DECEASED    1143\n",
       "0:LIVING       837\n",
       "Name: OS_STATUS, dtype: int64"
      ]
     },
     "metadata": {},
     "output_type": "display_data"
    },
    {
     "name": "stdout",
     "output_type": "stream",
     "text": [
      "--------------------------------------------------\n",
      "RFS_STATUS\n"
     ]
    },
    {
     "data": {
      "text/plain": [
       "0:Not Recurred    1177\n",
       "1:Recurred         803\n",
       "Name: RFS_STATUS, dtype: int64"
      ]
     },
     "metadata": {},
     "output_type": "display_data"
    },
    {
     "name": "stdout",
     "output_type": "stream",
     "text": [
      "--------------------------------------------------\n"
     ]
    }
   ],
   "source": [
    "for column in bool_columns:\n",
    "    print(column)\n",
    "    display(df_MB_dtype_encoded[column].value_counts())\n",
    "    print(\"-----\" * 10)"
   ]
  },
  {
   "cell_type": "code",
   "execution_count": 12,
   "id": "73b3f3cb-02c4-42b7-a852-a9c31dd80227",
   "metadata": {},
   "outputs": [
    {
     "name": "stdout",
     "output_type": "stream",
     "text": [
      "CHEMOTHERAPY\n"
     ]
    },
    {
     "data": {
      "text/plain": [
       "False    1567\n",
       "True      412\n",
       "Name: CHEMOTHERAPY, dtype: int64"
      ]
     },
     "metadata": {},
     "output_type": "display_data"
    },
    {
     "name": "stdout",
     "output_type": "stream",
     "text": [
      "--------------------------------------------------\n",
      "HORMONE_THERAPY\n"
     ]
    },
    {
     "data": {
      "text/plain": [
       "True     1216\n",
       "False     763\n",
       "Name: HORMONE_THERAPY, dtype: int64"
      ]
     },
     "metadata": {},
     "output_type": "display_data"
    },
    {
     "name": "stdout",
     "output_type": "stream",
     "text": [
      "--------------------------------------------------\n",
      "RADIO_THERAPY\n"
     ]
    },
    {
     "data": {
      "text/plain": [
       "True     1172\n",
       "False     807\n",
       "Name: RADIO_THERAPY, dtype: int64"
      ]
     },
     "metadata": {},
     "output_type": "display_data"
    },
    {
     "name": "stdout",
     "output_type": "stream",
     "text": [
      "--------------------------------------------------\n",
      "OS_STATUS\n"
     ]
    },
    {
     "data": {
      "text/plain": [
       "True     1143\n",
       "False     837\n",
       "Name: OS_STATUS, dtype: int64"
      ]
     },
     "metadata": {},
     "output_type": "display_data"
    },
    {
     "name": "stdout",
     "output_type": "stream",
     "text": [
      "--------------------------------------------------\n",
      "RFS_STATUS\n"
     ]
    },
    {
     "data": {
      "text/plain": [
       "False    1177\n",
       "True      803\n",
       "Name: RFS_STATUS, dtype: int64"
      ]
     },
     "metadata": {},
     "output_type": "display_data"
    },
    {
     "name": "stdout",
     "output_type": "stream",
     "text": [
      "--------------------------------------------------\n"
     ]
    }
   ],
   "source": [
    "df_MB_dtype_encoded[\"CHEMOTHERAPY\"].replace({\"YES\": True, \"NO\": False}, inplace=True)\n",
    "df_MB_dtype_encoded[\"HORMONE_THERAPY\"].replace({\"YES\": True, \"NO\": False}, inplace=True)\n",
    "df_MB_dtype_encoded[\"RADIO_THERAPY\"].replace({\"YES\": True, \"NO\": False}, inplace=True)\n",
    "df_MB_dtype_encoded[\"OS_STATUS\"].replace(\n",
    "    {\"1:DECEASED\": True, \"0:LIVING\": False}, inplace=True\n",
    ")\n",
    "df_MB_dtype_encoded[\"RFS_STATUS\"].replace(\n",
    "    {\"1:Recurred\": True, \"0:Not Recurred\": False}, inplace=True\n",
    ")\n",
    "\n",
    "for column in bool_columns:\n",
    "    print(column)\n",
    "    display(df_MB_dtype_encoded[column].value_counts())\n",
    "    print(\"-----\" * 10)"
   ]
  },
  {
   "cell_type": "code",
   "execution_count": 13,
   "id": "95688f2b-9485-48f6-bffe-99f8502aa082",
   "metadata": {},
   "outputs": [
    {
     "data": {
      "text/plain": [
       "CHEMOTHERAPY       object\n",
       "HORMONE_THERAPY    object\n",
       "RADIO_THERAPY      object\n",
       "OS_STATUS            bool\n",
       "RFS_STATUS           bool\n",
       "dtype: object"
      ]
     },
     "execution_count": 13,
     "metadata": {},
     "output_type": "execute_result"
    }
   ],
   "source": [
    "df_MB_dtype_encoded[bool_columns].dtypes"
   ]
  },
  {
   "cell_type": "code",
   "execution_count": 14,
   "id": "0b784909-de16-4a8d-83c0-b5e0af041f07",
   "metadata": {},
   "outputs": [],
   "source": [
    "# save\n",
    "make_dir(config.INTERIM_PICKLE_PREPROCESSED_DIR)\n",
    "df_MB_dtype_encoded.to_pickle(\n",
    "    config.INTERIM_PICKLE_PREPROCESSED_DIR + \"/2.0.2-df_MB_dtype_encoded.pkl\"\n",
    ")"
   ]
  },
  {
   "cell_type": "markdown",
   "id": "a4c202d3-efc4-4148-bdd8-0f924fe792b1",
   "metadata": {},
   "source": [
    "# Onehot encoding\n",
    "## df｜df_MB_onehot_encoded(onehot encodingしたdf), df_MB_onehot_concated(onehot encodingしたdfと元のdfの結合)\n",
    "上記で作成した一部特徴量を修正したdfを元に、onehot encodingを行う。\n",
    "onehot encoding自体は名義尺度の質的変数カラムであるqualitative_name_columnsのみに対してのみ実施するが、最終的に特徴量の型の修正はモデルへ入力する際に必要になるので、df_MB_dtype_encodedを元にonehot encodingを実施する。    "
   ]
  },
  {
   "cell_type": "code",
   "execution_count": 15,
   "id": "8d8f537e-07d5-4e4c-b3d2-c7ef8db809cd",
   "metadata": {},
   "outputs": [],
   "source": [
    "import os\n",
    "import numpy as np\n",
    "import pandas as pd\n",
    "\n",
    "from sklearn.preprocessing import OneHotEncoder, LabelEncoder\n",
    "\n",
    "import config\n",
    "\n",
    "# 最大表示列数の指定（ここでは50列を指定）\n",
    "pd.set_option(\"display.max_columns\", 50)\n",
    "pd.set_option(\"display.max_rows\", 50)\n",
    "\n",
    "\n",
    "def make_dir(dir_name: str):\n",
    "    if not os.path.exists(dir_name):\n",
    "        os.makedirs(dir_name)"
   ]
  },
  {
   "cell_type": "code",
   "execution_count": 16,
   "id": "10a6b8ed-9988-4d1b-890d-a33dd81ba606",
   "metadata": {},
   "outputs": [
    {
     "name": "stdout",
     "output_type": "stream",
     "text": [
      "<class 'pandas.core.frame.DataFrame'>\n",
      "Int64Index: 1980 entries, 0 to 1984\n",
      "Data columns (total 36 columns):\n",
      " #   Column                         Non-Null Count  Dtype  \n",
      "---  ------                         --------------  -----  \n",
      " 0   PATIENT_ID                     1980 non-null   object \n",
      " 1   LYMPH_NODES_EXAMINED_POSITIVE  1980 non-null   float64\n",
      " 2   NPI                            1980 non-null   float64\n",
      " 3   CELLULARITY                    1916 non-null   float64\n",
      " 4   CHEMOTHERAPY                   1979 non-null   object \n",
      " 5   COHORT                         1980 non-null   float64\n",
      " 6   ER_IHC                         1937 non-null   float64\n",
      " 7   HER2_SNP6                      1979 non-null   float64\n",
      " 8   HORMONE_THERAPY                1979 non-null   object \n",
      " 9   INFERRED_MENOPAUSAL_STATE      1979 non-null   float64\n",
      " 10  SEX                            1980 non-null   object \n",
      " 11  INTCLUST                       1979 non-null   object \n",
      " 12  AGE_AT_DIAGNOSIS               1980 non-null   float64\n",
      " 13  OS_MONTHS                      1980 non-null   float64\n",
      " 14  OS_STATUS                      1980 non-null   bool   \n",
      " 15  CLAUDIN_SUBTYPE                1979 non-null   object \n",
      " 16  THREEGENE                      1763 non-null   object \n",
      " 17  VITAL_STATUS                   1980 non-null   object \n",
      " 18  LATERALITY                     1869 non-null   object \n",
      " 19  RADIO_THERAPY                  1979 non-null   object \n",
      " 20  HISTOLOGICAL_SUBTYPE           1936 non-null   object \n",
      " 21  BREAST_SURGERY                 1954 non-null   object \n",
      " 22  RFS_STATUS                     1980 non-null   bool   \n",
      " 23  RFS_MONTHS                     1980 non-null   float64\n",
      " 24  SAMPLE_ID                      1980 non-null   object \n",
      " 25  CANCER_TYPE                    1980 non-null   object \n",
      " 26  CANCER_TYPE_DETAILED           1980 non-null   object \n",
      " 27  ER_STATUS                      1980 non-null   int64  \n",
      " 28  HER2_STATUS                    1979 non-null   float64\n",
      " 29  GRADE                          1980 non-null   float64\n",
      " 30  ONCOTREE_CODE                  1980 non-null   object \n",
      " 31  PR_STATUS                      1979 non-null   float64\n",
      " 32  SAMPLE_TYPE                    1980 non-null   object \n",
      " 33  TUMOR_SIZE                     1980 non-null   float64\n",
      " 34  TUMOR_STAGE                    1980 non-null   float64\n",
      " 35  TMB_NONSYNONYMOUS              1980 non-null   float64\n",
      "dtypes: bool(2), float64(16), int64(1), object(17)\n",
      "memory usage: 545.3+ KB\n"
     ]
    }
   ],
   "source": [
    "df_MB_dtype_encoded = pd.read_pickle(\n",
    "    config.INTERIM_PICKLE_PREPROCESSED_DIR + \"/2.0.2-df_MB_dtype_encoded.pkl\"\n",
    ")\n",
    "df_MB_dtype_encoded.info()"
   ]
  },
  {
   "cell_type": "code",
   "execution_count": 17,
   "id": "2f68c9ea-1420-4644-a99d-7b66bfe64192",
   "metadata": {},
   "outputs": [
    {
     "data": {
      "text/plain": [
       "['COHORT',\n",
       " 'INTCLUST',\n",
       " 'CLAUDIN_SUBTYPE',\n",
       " 'THREEGENE',\n",
       " 'HISTOLOGICAL_SUBTYPE',\n",
       " 'BREAST_SURGERY',\n",
       " 'LATERALITY',\n",
       " 'CANCER_TYPE',\n",
       " 'CANCER_TYPE_DETAILED',\n",
       " 'ONCOTREE_CODE']"
      ]
     },
     "execution_count": 17,
     "metadata": {},
     "output_type": "execute_result"
    }
   ],
   "source": [
    "# VITAL_STATUSは目的変数の生成に必要&リークになりうるので、onehot encodingからは除外する\n",
    "qualitative_name_columns.remove(\n",
    "    \"VITAL_STATUS\"\n",
    ") if \"VITAL_STATUS\" in qualitative_name_columns else qualitative_name_columns\n",
    "qualitative_name_columns"
   ]
  },
  {
   "cell_type": "code",
   "execution_count": 18,
   "id": "aa674169-fb46-424e-b78b-f43a4503b18f",
   "metadata": {
    "tags": []
   },
   "outputs": [
    {
     "data": {
      "text/plain": [
       "[array([1., 2., 3., 4., 5.]),\n",
       " array(['1', '10', '2', '3', '4ER+', '4ER-', '5', '6', '7', '8', '9', nan],\n",
       "       dtype=object),\n",
       " array(['Basal', 'Her2', 'LumA', 'LumB', 'NC', 'Normal', 'claudin-low',\n",
       "        nan], dtype=object),\n",
       " array(['ER+/HER2- High Prolif', 'ER+/HER2- Low Prolif', 'ER-/HER2-',\n",
       "        'HER2+', nan], dtype=object),\n",
       " array(['Ductal/NST', 'Lobular', 'Medullary', 'Metaplastic', 'Mixed',\n",
       "        'Mucinous', 'Other', 'Tubular/ cribriform', nan], dtype=object),\n",
       " array(['BREAST CONSERVING', 'MASTECTOMY', nan], dtype=object),\n",
       " array(['Left', 'Right', nan], dtype=object),\n",
       " array(['Breast Cancer', 'Breast Sarcoma'], dtype=object),\n",
       " array(['Breast', 'Breast Angiosarcoma',\n",
       "        'Breast Invasive Ductal Carcinoma',\n",
       "        'Breast Invasive Lobular Carcinoma',\n",
       "        'Breast Invasive Mixed Mucinous Carcinoma',\n",
       "        'Breast Mixed Ductal and Lobular Carcinoma',\n",
       "        'Invasive Breast Carcinoma', 'Metaplastic Breast Cancer'],\n",
       "       dtype=object),\n",
       " array(['BRCA', 'BREAST', 'IDC', 'ILC', 'IMMC', 'MBC', 'MDLC', 'PBS'],\n",
       "       dtype=object)]"
      ]
     },
     "metadata": {},
     "output_type": "display_data"
    },
    {
     "data": {
      "text/plain": [
       "array(['COHORT_2.0', 'COHORT_3.0', 'COHORT_4.0', 'COHORT_5.0',\n",
       "       'INTCLUST_10', 'INTCLUST_2', 'INTCLUST_3', 'INTCLUST_4ER+',\n",
       "       'INTCLUST_4ER-', 'INTCLUST_5', 'INTCLUST_6', 'INTCLUST_7',\n",
       "       'INTCLUST_8', 'INTCLUST_9', 'INTCLUST_nan', 'CLAUDIN_SUBTYPE_Her2',\n",
       "       'CLAUDIN_SUBTYPE_LumA', 'CLAUDIN_SUBTYPE_LumB',\n",
       "       'CLAUDIN_SUBTYPE_NC', 'CLAUDIN_SUBTYPE_Normal',\n",
       "       'CLAUDIN_SUBTYPE_claudin-low', 'CLAUDIN_SUBTYPE_nan',\n",
       "       'THREEGENE_ER+/HER2- Low Prolif', 'THREEGENE_ER-/HER2-',\n",
       "       'THREEGENE_HER2+', 'THREEGENE_nan', 'HISTOLOGICAL_SUBTYPE_Lobular',\n",
       "       'HISTOLOGICAL_SUBTYPE_Medullary',\n",
       "       'HISTOLOGICAL_SUBTYPE_Metaplastic', 'HISTOLOGICAL_SUBTYPE_Mixed',\n",
       "       'HISTOLOGICAL_SUBTYPE_Mucinous', 'HISTOLOGICAL_SUBTYPE_Other',\n",
       "       'HISTOLOGICAL_SUBTYPE_Tubular/ cribriform',\n",
       "       'HISTOLOGICAL_SUBTYPE_nan', 'BREAST_SURGERY_MASTECTOMY',\n",
       "       'BREAST_SURGERY_nan', 'LATERALITY_Right', 'LATERALITY_nan',\n",
       "       'CANCER_TYPE_Breast Sarcoma',\n",
       "       'CANCER_TYPE_DETAILED_Breast Angiosarcoma',\n",
       "       'CANCER_TYPE_DETAILED_Breast Invasive Ductal Carcinoma',\n",
       "       'CANCER_TYPE_DETAILED_Breast Invasive Lobular Carcinoma',\n",
       "       'CANCER_TYPE_DETAILED_Breast Invasive Mixed Mucinous Carcinoma',\n",
       "       'CANCER_TYPE_DETAILED_Breast Mixed Ductal and Lobular Carcinoma',\n",
       "       'CANCER_TYPE_DETAILED_Invasive Breast Carcinoma',\n",
       "       'CANCER_TYPE_DETAILED_Metaplastic Breast Cancer',\n",
       "       'ONCOTREE_CODE_BREAST', 'ONCOTREE_CODE_IDC', 'ONCOTREE_CODE_ILC',\n",
       "       'ONCOTREE_CODE_IMMC', 'ONCOTREE_CODE_MBC', 'ONCOTREE_CODE_MDLC',\n",
       "       'ONCOTREE_CODE_PBS'], dtype=object)"
      ]
     },
     "metadata": {},
     "output_type": "display_data"
    },
    {
     "data": {
      "text/plain": [
       "(1980, 53)"
      ]
     },
     "execution_count": 18,
     "metadata": {},
     "output_type": "execute_result"
    }
   ],
   "source": [
    "# 多重共線性回避のために、drop='first'\n",
    "onehot_encoder = OneHotEncoder(drop=\"first\")\n",
    "onehot_encoding_columns = qualitative_name_columns\n",
    "onehot_encoder.fit(df_MB_dtype_encoded[onehot_encoding_columns])\n",
    "display(onehot_encoder.categories_)\n",
    "display(onehot_encoder.get_feature_names_out(onehot_encoding_columns))\n",
    "# enc.transform(df_MB_onehot_encoded[encoding_columns]).toarray()\n",
    "df_MB_onehot_encoded = pd.DataFrame(\n",
    "    onehot_encoder.transform(df_MB_dtype_encoded[onehot_encoding_columns]).toarray(),\n",
    "    columns=onehot_encoder.get_feature_names_out(onehot_encoding_columns),\n",
    ").astype(int)\n",
    "df_MB_onehot_encoded.shape"
   ]
  },
  {
   "cell_type": "code",
   "execution_count": 19,
   "id": "7d9de816-e85a-4e68-90b0-4d1db20360b5",
   "metadata": {},
   "outputs": [
    {
     "data": {
      "text/html": [
       "<div>\n",
       "<style scoped>\n",
       "    .dataframe tbody tr th:only-of-type {\n",
       "        vertical-align: middle;\n",
       "    }\n",
       "\n",
       "    .dataframe tbody tr th {\n",
       "        vertical-align: top;\n",
       "    }\n",
       "\n",
       "    .dataframe thead th {\n",
       "        text-align: right;\n",
       "    }\n",
       "</style>\n",
       "<table border=\"1\" class=\"dataframe\">\n",
       "  <thead>\n",
       "    <tr style=\"text-align: right;\">\n",
       "      <th></th>\n",
       "      <th>COHORT_2.0</th>\n",
       "      <th>COHORT_3.0</th>\n",
       "      <th>COHORT_4.0</th>\n",
       "      <th>COHORT_5.0</th>\n",
       "      <th>INTCLUST_10</th>\n",
       "      <th>INTCLUST_2</th>\n",
       "      <th>INTCLUST_3</th>\n",
       "      <th>INTCLUST_4ER+</th>\n",
       "      <th>INTCLUST_4ER-</th>\n",
       "      <th>INTCLUST_5</th>\n",
       "      <th>INTCLUST_6</th>\n",
       "      <th>INTCLUST_7</th>\n",
       "      <th>INTCLUST_8</th>\n",
       "      <th>INTCLUST_9</th>\n",
       "      <th>INTCLUST_nan</th>\n",
       "      <th>CLAUDIN_SUBTYPE_Her2</th>\n",
       "      <th>CLAUDIN_SUBTYPE_LumA</th>\n",
       "      <th>CLAUDIN_SUBTYPE_LumB</th>\n",
       "      <th>CLAUDIN_SUBTYPE_NC</th>\n",
       "      <th>CLAUDIN_SUBTYPE_Normal</th>\n",
       "      <th>CLAUDIN_SUBTYPE_claudin-low</th>\n",
       "      <th>CLAUDIN_SUBTYPE_nan</th>\n",
       "      <th>THREEGENE_ER+/HER2- Low Prolif</th>\n",
       "      <th>THREEGENE_ER-/HER2-</th>\n",
       "      <th>THREEGENE_HER2+</th>\n",
       "      <th>...</th>\n",
       "      <th>HISTOLOGICAL_SUBTYPE_Metaplastic</th>\n",
       "      <th>HISTOLOGICAL_SUBTYPE_Mixed</th>\n",
       "      <th>HISTOLOGICAL_SUBTYPE_Mucinous</th>\n",
       "      <th>HISTOLOGICAL_SUBTYPE_Other</th>\n",
       "      <th>HISTOLOGICAL_SUBTYPE_Tubular/ cribriform</th>\n",
       "      <th>HISTOLOGICAL_SUBTYPE_nan</th>\n",
       "      <th>BREAST_SURGERY_MASTECTOMY</th>\n",
       "      <th>BREAST_SURGERY_nan</th>\n",
       "      <th>LATERALITY_Right</th>\n",
       "      <th>LATERALITY_nan</th>\n",
       "      <th>CANCER_TYPE_Breast Sarcoma</th>\n",
       "      <th>CANCER_TYPE_DETAILED_Breast Angiosarcoma</th>\n",
       "      <th>CANCER_TYPE_DETAILED_Breast Invasive Ductal Carcinoma</th>\n",
       "      <th>CANCER_TYPE_DETAILED_Breast Invasive Lobular Carcinoma</th>\n",
       "      <th>CANCER_TYPE_DETAILED_Breast Invasive Mixed Mucinous Carcinoma</th>\n",
       "      <th>CANCER_TYPE_DETAILED_Breast Mixed Ductal and Lobular Carcinoma</th>\n",
       "      <th>CANCER_TYPE_DETAILED_Invasive Breast Carcinoma</th>\n",
       "      <th>CANCER_TYPE_DETAILED_Metaplastic Breast Cancer</th>\n",
       "      <th>ONCOTREE_CODE_BREAST</th>\n",
       "      <th>ONCOTREE_CODE_IDC</th>\n",
       "      <th>ONCOTREE_CODE_ILC</th>\n",
       "      <th>ONCOTREE_CODE_IMMC</th>\n",
       "      <th>ONCOTREE_CODE_MBC</th>\n",
       "      <th>ONCOTREE_CODE_MDLC</th>\n",
       "      <th>ONCOTREE_CODE_PBS</th>\n",
       "    </tr>\n",
       "  </thead>\n",
       "  <tbody>\n",
       "    <tr>\n",
       "      <th>0</th>\n",
       "      <td>0</td>\n",
       "      <td>0</td>\n",
       "      <td>0</td>\n",
       "      <td>0</td>\n",
       "      <td>0</td>\n",
       "      <td>0</td>\n",
       "      <td>0</td>\n",
       "      <td>1</td>\n",
       "      <td>0</td>\n",
       "      <td>0</td>\n",
       "      <td>0</td>\n",
       "      <td>0</td>\n",
       "      <td>0</td>\n",
       "      <td>0</td>\n",
       "      <td>0</td>\n",
       "      <td>0</td>\n",
       "      <td>0</td>\n",
       "      <td>0</td>\n",
       "      <td>0</td>\n",
       "      <td>0</td>\n",
       "      <td>1</td>\n",
       "      <td>0</td>\n",
       "      <td>0</td>\n",
       "      <td>1</td>\n",
       "      <td>0</td>\n",
       "      <td>...</td>\n",
       "      <td>0</td>\n",
       "      <td>0</td>\n",
       "      <td>0</td>\n",
       "      <td>0</td>\n",
       "      <td>0</td>\n",
       "      <td>0</td>\n",
       "      <td>1</td>\n",
       "      <td>0</td>\n",
       "      <td>1</td>\n",
       "      <td>0</td>\n",
       "      <td>0</td>\n",
       "      <td>0</td>\n",
       "      <td>1</td>\n",
       "      <td>0</td>\n",
       "      <td>0</td>\n",
       "      <td>0</td>\n",
       "      <td>0</td>\n",
       "      <td>0</td>\n",
       "      <td>0</td>\n",
       "      <td>1</td>\n",
       "      <td>0</td>\n",
       "      <td>0</td>\n",
       "      <td>0</td>\n",
       "      <td>0</td>\n",
       "      <td>0</td>\n",
       "    </tr>\n",
       "    <tr>\n",
       "      <th>1</th>\n",
       "      <td>0</td>\n",
       "      <td>0</td>\n",
       "      <td>0</td>\n",
       "      <td>0</td>\n",
       "      <td>0</td>\n",
       "      <td>0</td>\n",
       "      <td>0</td>\n",
       "      <td>1</td>\n",
       "      <td>0</td>\n",
       "      <td>0</td>\n",
       "      <td>0</td>\n",
       "      <td>0</td>\n",
       "      <td>0</td>\n",
       "      <td>0</td>\n",
       "      <td>0</td>\n",
       "      <td>0</td>\n",
       "      <td>1</td>\n",
       "      <td>0</td>\n",
       "      <td>0</td>\n",
       "      <td>0</td>\n",
       "      <td>0</td>\n",
       "      <td>0</td>\n",
       "      <td>0</td>\n",
       "      <td>0</td>\n",
       "      <td>0</td>\n",
       "      <td>...</td>\n",
       "      <td>0</td>\n",
       "      <td>0</td>\n",
       "      <td>0</td>\n",
       "      <td>0</td>\n",
       "      <td>0</td>\n",
       "      <td>0</td>\n",
       "      <td>0</td>\n",
       "      <td>0</td>\n",
       "      <td>1</td>\n",
       "      <td>0</td>\n",
       "      <td>0</td>\n",
       "      <td>0</td>\n",
       "      <td>1</td>\n",
       "      <td>0</td>\n",
       "      <td>0</td>\n",
       "      <td>0</td>\n",
       "      <td>0</td>\n",
       "      <td>0</td>\n",
       "      <td>0</td>\n",
       "      <td>1</td>\n",
       "      <td>0</td>\n",
       "      <td>0</td>\n",
       "      <td>0</td>\n",
       "      <td>0</td>\n",
       "      <td>0</td>\n",
       "    </tr>\n",
       "    <tr>\n",
       "      <th>2</th>\n",
       "      <td>0</td>\n",
       "      <td>0</td>\n",
       "      <td>0</td>\n",
       "      <td>0</td>\n",
       "      <td>0</td>\n",
       "      <td>0</td>\n",
       "      <td>1</td>\n",
       "      <td>0</td>\n",
       "      <td>0</td>\n",
       "      <td>0</td>\n",
       "      <td>0</td>\n",
       "      <td>0</td>\n",
       "      <td>0</td>\n",
       "      <td>0</td>\n",
       "      <td>0</td>\n",
       "      <td>0</td>\n",
       "      <td>0</td>\n",
       "      <td>1</td>\n",
       "      <td>0</td>\n",
       "      <td>0</td>\n",
       "      <td>0</td>\n",
       "      <td>0</td>\n",
       "      <td>0</td>\n",
       "      <td>0</td>\n",
       "      <td>0</td>\n",
       "      <td>...</td>\n",
       "      <td>0</td>\n",
       "      <td>0</td>\n",
       "      <td>0</td>\n",
       "      <td>0</td>\n",
       "      <td>0</td>\n",
       "      <td>0</td>\n",
       "      <td>1</td>\n",
       "      <td>0</td>\n",
       "      <td>1</td>\n",
       "      <td>0</td>\n",
       "      <td>0</td>\n",
       "      <td>0</td>\n",
       "      <td>1</td>\n",
       "      <td>0</td>\n",
       "      <td>0</td>\n",
       "      <td>0</td>\n",
       "      <td>0</td>\n",
       "      <td>0</td>\n",
       "      <td>0</td>\n",
       "      <td>1</td>\n",
       "      <td>0</td>\n",
       "      <td>0</td>\n",
       "      <td>0</td>\n",
       "      <td>0</td>\n",
       "      <td>0</td>\n",
       "    </tr>\n",
       "    <tr>\n",
       "      <th>3</th>\n",
       "      <td>0</td>\n",
       "      <td>0</td>\n",
       "      <td>0</td>\n",
       "      <td>0</td>\n",
       "      <td>0</td>\n",
       "      <td>0</td>\n",
       "      <td>0</td>\n",
       "      <td>0</td>\n",
       "      <td>0</td>\n",
       "      <td>0</td>\n",
       "      <td>0</td>\n",
       "      <td>0</td>\n",
       "      <td>0</td>\n",
       "      <td>1</td>\n",
       "      <td>0</td>\n",
       "      <td>0</td>\n",
       "      <td>0</td>\n",
       "      <td>1</td>\n",
       "      <td>0</td>\n",
       "      <td>0</td>\n",
       "      <td>0</td>\n",
       "      <td>0</td>\n",
       "      <td>0</td>\n",
       "      <td>0</td>\n",
       "      <td>0</td>\n",
       "      <td>...</td>\n",
       "      <td>0</td>\n",
       "      <td>1</td>\n",
       "      <td>0</td>\n",
       "      <td>0</td>\n",
       "      <td>0</td>\n",
       "      <td>0</td>\n",
       "      <td>1</td>\n",
       "      <td>0</td>\n",
       "      <td>1</td>\n",
       "      <td>0</td>\n",
       "      <td>0</td>\n",
       "      <td>0</td>\n",
       "      <td>0</td>\n",
       "      <td>0</td>\n",
       "      <td>0</td>\n",
       "      <td>1</td>\n",
       "      <td>0</td>\n",
       "      <td>0</td>\n",
       "      <td>0</td>\n",
       "      <td>0</td>\n",
       "      <td>0</td>\n",
       "      <td>0</td>\n",
       "      <td>0</td>\n",
       "      <td>1</td>\n",
       "      <td>0</td>\n",
       "    </tr>\n",
       "    <tr>\n",
       "      <th>4</th>\n",
       "      <td>0</td>\n",
       "      <td>0</td>\n",
       "      <td>0</td>\n",
       "      <td>0</td>\n",
       "      <td>0</td>\n",
       "      <td>0</td>\n",
       "      <td>0</td>\n",
       "      <td>0</td>\n",
       "      <td>0</td>\n",
       "      <td>0</td>\n",
       "      <td>0</td>\n",
       "      <td>0</td>\n",
       "      <td>0</td>\n",
       "      <td>1</td>\n",
       "      <td>0</td>\n",
       "      <td>0</td>\n",
       "      <td>0</td>\n",
       "      <td>1</td>\n",
       "      <td>0</td>\n",
       "      <td>0</td>\n",
       "      <td>0</td>\n",
       "      <td>0</td>\n",
       "      <td>0</td>\n",
       "      <td>0</td>\n",
       "      <td>0</td>\n",
       "      <td>...</td>\n",
       "      <td>0</td>\n",
       "      <td>1</td>\n",
       "      <td>0</td>\n",
       "      <td>0</td>\n",
       "      <td>0</td>\n",
       "      <td>0</td>\n",
       "      <td>1</td>\n",
       "      <td>0</td>\n",
       "      <td>1</td>\n",
       "      <td>0</td>\n",
       "      <td>0</td>\n",
       "      <td>0</td>\n",
       "      <td>0</td>\n",
       "      <td>0</td>\n",
       "      <td>0</td>\n",
       "      <td>1</td>\n",
       "      <td>0</td>\n",
       "      <td>0</td>\n",
       "      <td>0</td>\n",
       "      <td>0</td>\n",
       "      <td>0</td>\n",
       "      <td>0</td>\n",
       "      <td>0</td>\n",
       "      <td>1</td>\n",
       "      <td>0</td>\n",
       "    </tr>\n",
       "  </tbody>\n",
       "</table>\n",
       "<p>5 rows × 53 columns</p>\n",
       "</div>"
      ],
      "text/plain": [
       "   COHORT_2.0  COHORT_3.0  COHORT_4.0  COHORT_5.0  INTCLUST_10  INTCLUST_2  \\\n",
       "0           0           0           0           0            0           0   \n",
       "1           0           0           0           0            0           0   \n",
       "2           0           0           0           0            0           0   \n",
       "3           0           0           0           0            0           0   \n",
       "4           0           0           0           0            0           0   \n",
       "\n",
       "   INTCLUST_3  INTCLUST_4ER+  INTCLUST_4ER-  INTCLUST_5  INTCLUST_6  \\\n",
       "0           0              1              0           0           0   \n",
       "1           0              1              0           0           0   \n",
       "2           1              0              0           0           0   \n",
       "3           0              0              0           0           0   \n",
       "4           0              0              0           0           0   \n",
       "\n",
       "   INTCLUST_7  INTCLUST_8  INTCLUST_9  INTCLUST_nan  CLAUDIN_SUBTYPE_Her2  \\\n",
       "0           0           0           0             0                     0   \n",
       "1           0           0           0             0                     0   \n",
       "2           0           0           0             0                     0   \n",
       "3           0           0           1             0                     0   \n",
       "4           0           0           1             0                     0   \n",
       "\n",
       "   CLAUDIN_SUBTYPE_LumA  CLAUDIN_SUBTYPE_LumB  CLAUDIN_SUBTYPE_NC  \\\n",
       "0                     0                     0                   0   \n",
       "1                     1                     0                   0   \n",
       "2                     0                     1                   0   \n",
       "3                     0                     1                   0   \n",
       "4                     0                     1                   0   \n",
       "\n",
       "   CLAUDIN_SUBTYPE_Normal  CLAUDIN_SUBTYPE_claudin-low  CLAUDIN_SUBTYPE_nan  \\\n",
       "0                       0                            1                    0   \n",
       "1                       0                            0                    0   \n",
       "2                       0                            0                    0   \n",
       "3                       0                            0                    0   \n",
       "4                       0                            0                    0   \n",
       "\n",
       "   THREEGENE_ER+/HER2- Low Prolif  THREEGENE_ER-/HER2-  THREEGENE_HER2+  ...  \\\n",
       "0                               0                    1                0  ...   \n",
       "1                               0                    0                0  ...   \n",
       "2                               0                    0                0  ...   \n",
       "3                               0                    0                0  ...   \n",
       "4                               0                    0                0  ...   \n",
       "\n",
       "   HISTOLOGICAL_SUBTYPE_Metaplastic  HISTOLOGICAL_SUBTYPE_Mixed  \\\n",
       "0                                 0                           0   \n",
       "1                                 0                           0   \n",
       "2                                 0                           0   \n",
       "3                                 0                           1   \n",
       "4                                 0                           1   \n",
       "\n",
       "   HISTOLOGICAL_SUBTYPE_Mucinous  HISTOLOGICAL_SUBTYPE_Other  \\\n",
       "0                              0                           0   \n",
       "1                              0                           0   \n",
       "2                              0                           0   \n",
       "3                              0                           0   \n",
       "4                              0                           0   \n",
       "\n",
       "   HISTOLOGICAL_SUBTYPE_Tubular/ cribriform  HISTOLOGICAL_SUBTYPE_nan  \\\n",
       "0                                         0                         0   \n",
       "1                                         0                         0   \n",
       "2                                         0                         0   \n",
       "3                                         0                         0   \n",
       "4                                         0                         0   \n",
       "\n",
       "   BREAST_SURGERY_MASTECTOMY  BREAST_SURGERY_nan  LATERALITY_Right  \\\n",
       "0                          1                   0                 1   \n",
       "1                          0                   0                 1   \n",
       "2                          1                   0                 1   \n",
       "3                          1                   0                 1   \n",
       "4                          1                   0                 1   \n",
       "\n",
       "   LATERALITY_nan  CANCER_TYPE_Breast Sarcoma  \\\n",
       "0               0                           0   \n",
       "1               0                           0   \n",
       "2               0                           0   \n",
       "3               0                           0   \n",
       "4               0                           0   \n",
       "\n",
       "   CANCER_TYPE_DETAILED_Breast Angiosarcoma  \\\n",
       "0                                         0   \n",
       "1                                         0   \n",
       "2                                         0   \n",
       "3                                         0   \n",
       "4                                         0   \n",
       "\n",
       "   CANCER_TYPE_DETAILED_Breast Invasive Ductal Carcinoma  \\\n",
       "0                                                  1       \n",
       "1                                                  1       \n",
       "2                                                  1       \n",
       "3                                                  0       \n",
       "4                                                  0       \n",
       "\n",
       "   CANCER_TYPE_DETAILED_Breast Invasive Lobular Carcinoma  \\\n",
       "0                                                  0        \n",
       "1                                                  0        \n",
       "2                                                  0        \n",
       "3                                                  0        \n",
       "4                                                  0        \n",
       "\n",
       "   CANCER_TYPE_DETAILED_Breast Invasive Mixed Mucinous Carcinoma  \\\n",
       "0                                                  0               \n",
       "1                                                  0               \n",
       "2                                                  0               \n",
       "3                                                  0               \n",
       "4                                                  0               \n",
       "\n",
       "   CANCER_TYPE_DETAILED_Breast Mixed Ductal and Lobular Carcinoma  \\\n",
       "0                                                  0                \n",
       "1                                                  0                \n",
       "2                                                  0                \n",
       "3                                                  1                \n",
       "4                                                  1                \n",
       "\n",
       "   CANCER_TYPE_DETAILED_Invasive Breast Carcinoma  \\\n",
       "0                                               0   \n",
       "1                                               0   \n",
       "2                                               0   \n",
       "3                                               0   \n",
       "4                                               0   \n",
       "\n",
       "   CANCER_TYPE_DETAILED_Metaplastic Breast Cancer  ONCOTREE_CODE_BREAST  \\\n",
       "0                                               0                     0   \n",
       "1                                               0                     0   \n",
       "2                                               0                     0   \n",
       "3                                               0                     0   \n",
       "4                                               0                     0   \n",
       "\n",
       "   ONCOTREE_CODE_IDC  ONCOTREE_CODE_ILC  ONCOTREE_CODE_IMMC  \\\n",
       "0                  1                  0                   0   \n",
       "1                  1                  0                   0   \n",
       "2                  1                  0                   0   \n",
       "3                  0                  0                   0   \n",
       "4                  0                  0                   0   \n",
       "\n",
       "   ONCOTREE_CODE_MBC  ONCOTREE_CODE_MDLC  ONCOTREE_CODE_PBS  \n",
       "0                  0                   0                  0  \n",
       "1                  0                   0                  0  \n",
       "2                  0                   0                  0  \n",
       "3                  0                   1                  0  \n",
       "4                  0                   1                  0  \n",
       "\n",
       "[5 rows x 53 columns]"
      ]
     },
     "execution_count": 19,
     "metadata": {},
     "output_type": "execute_result"
    }
   ],
   "source": [
    "df_MB_onehot_encoded.head()"
   ]
  },
  {
   "cell_type": "markdown",
   "id": "6fd39540-1c16-4d63-af8f-29c5ad005bdb",
   "metadata": {},
   "source": [
    "# 元のdfとonehotしたdfの結合\n",
    "dfの形などを調査\n",
    "\n",
    "2つのdfのshapeを確認"
   ]
  },
  {
   "cell_type": "code",
   "execution_count": 20,
   "id": "dc0e2612-8c10-42d2-adbb-f566443507c4",
   "metadata": {},
   "outputs": [
    {
     "data": {
      "text/plain": [
       "((1980, 36), (1980, 53))"
      ]
     },
     "execution_count": 20,
     "metadata": {},
     "output_type": "execute_result"
    }
   ],
   "source": [
    "df_MB_dtype_encoded.shape, df_MB_onehot_encoded.shape"
   ]
  },
  {
   "cell_type": "code",
   "execution_count": 21,
   "id": "39ed64a4-6d83-46bf-83fb-697435abc1ac",
   "metadata": {},
   "outputs": [
    {
     "data": {
      "text/plain": [
       "(1985, 89)"
      ]
     },
     "execution_count": 21,
     "metadata": {},
     "output_type": "execute_result"
    }
   ],
   "source": [
    "# 単に結合しただけでは形が異なる\n",
    "pd.concat([df_MB_dtype_encoded, df_MB_onehot_encoded], axis=1).shape"
   ]
  },
  {
   "cell_type": "code",
   "execution_count": 22,
   "id": "d234e8cc-80cf-48cb-a5be-03206142b18d",
   "metadata": {},
   "outputs": [
    {
     "data": {
      "text/plain": [
       "(1980, 79)"
      ]
     },
     "metadata": {},
     "output_type": "display_data"
    },
    {
     "name": "stdout",
     "output_type": "stream",
     "text": [
      "<class 'pandas.core.frame.DataFrame'>\n",
      "RangeIndex: 1980 entries, 0 to 1979\n",
      "Data columns (total 79 columns):\n",
      " #   Column                                                          Non-Null Count  Dtype  \n",
      "---  ------                                                          --------------  -----  \n",
      " 0   PATIENT_ID                                                      1980 non-null   object \n",
      " 1   LYMPH_NODES_EXAMINED_POSITIVE                                   1980 non-null   float64\n",
      " 2   NPI                                                             1980 non-null   float64\n",
      " 3   CELLULARITY                                                     1916 non-null   float64\n",
      " 4   CHEMOTHERAPY                                                    1979 non-null   object \n",
      " 5   ER_IHC                                                          1937 non-null   float64\n",
      " 6   HER2_SNP6                                                       1979 non-null   float64\n",
      " 7   HORMONE_THERAPY                                                 1979 non-null   object \n",
      " 8   INFERRED_MENOPAUSAL_STATE                                       1979 non-null   float64\n",
      " 9   SEX                                                             1980 non-null   object \n",
      " 10  AGE_AT_DIAGNOSIS                                                1980 non-null   float64\n",
      " 11  OS_MONTHS                                                       1980 non-null   float64\n",
      " 12  OS_STATUS                                                       1980 non-null   bool   \n",
      " 13  VITAL_STATUS                                                    1980 non-null   object \n",
      " 14  RADIO_THERAPY                                                   1979 non-null   object \n",
      " 15  RFS_STATUS                                                      1980 non-null   bool   \n",
      " 16  RFS_MONTHS                                                      1980 non-null   float64\n",
      " 17  SAMPLE_ID                                                       1980 non-null   object \n",
      " 18  ER_STATUS                                                       1980 non-null   int64  \n",
      " 19  HER2_STATUS                                                     1979 non-null   float64\n",
      " 20  GRADE                                                           1980 non-null   float64\n",
      " 21  PR_STATUS                                                       1979 non-null   float64\n",
      " 22  SAMPLE_TYPE                                                     1980 non-null   object \n",
      " 23  TUMOR_SIZE                                                      1980 non-null   float64\n",
      " 24  TUMOR_STAGE                                                     1980 non-null   float64\n",
      " 25  TMB_NONSYNONYMOUS                                               1980 non-null   float64\n",
      " 26  COHORT_2.0                                                      1980 non-null   int64  \n",
      " 27  COHORT_3.0                                                      1980 non-null   int64  \n",
      " 28  COHORT_4.0                                                      1980 non-null   int64  \n",
      " 29  COHORT_5.0                                                      1980 non-null   int64  \n",
      " 30  INTCLUST_10                                                     1980 non-null   int64  \n",
      " 31  INTCLUST_2                                                      1980 non-null   int64  \n",
      " 32  INTCLUST_3                                                      1980 non-null   int64  \n",
      " 33  INTCLUST_4ER+                                                   1980 non-null   int64  \n",
      " 34  INTCLUST_4ER-                                                   1980 non-null   int64  \n",
      " 35  INTCLUST_5                                                      1980 non-null   int64  \n",
      " 36  INTCLUST_6                                                      1980 non-null   int64  \n",
      " 37  INTCLUST_7                                                      1980 non-null   int64  \n",
      " 38  INTCLUST_8                                                      1980 non-null   int64  \n",
      " 39  INTCLUST_9                                                      1980 non-null   int64  \n",
      " 40  INTCLUST_nan                                                    1980 non-null   int64  \n",
      " 41  CLAUDIN_SUBTYPE_Her2                                            1980 non-null   int64  \n",
      " 42  CLAUDIN_SUBTYPE_LumA                                            1980 non-null   int64  \n",
      " 43  CLAUDIN_SUBTYPE_LumB                                            1980 non-null   int64  \n",
      " 44  CLAUDIN_SUBTYPE_NC                                              1980 non-null   int64  \n",
      " 45  CLAUDIN_SUBTYPE_Normal                                          1980 non-null   int64  \n",
      " 46  CLAUDIN_SUBTYPE_claudin-low                                     1980 non-null   int64  \n",
      " 47  CLAUDIN_SUBTYPE_nan                                             1980 non-null   int64  \n",
      " 48  THREEGENE_ER+/HER2- Low Prolif                                  1980 non-null   int64  \n",
      " 49  THREEGENE_ER-/HER2-                                             1980 non-null   int64  \n",
      " 50  THREEGENE_HER2+                                                 1980 non-null   int64  \n",
      " 51  THREEGENE_nan                                                   1980 non-null   int64  \n",
      " 52  HISTOLOGICAL_SUBTYPE_Lobular                                    1980 non-null   int64  \n",
      " 53  HISTOLOGICAL_SUBTYPE_Medullary                                  1980 non-null   int64  \n",
      " 54  HISTOLOGICAL_SUBTYPE_Metaplastic                                1980 non-null   int64  \n",
      " 55  HISTOLOGICAL_SUBTYPE_Mixed                                      1980 non-null   int64  \n",
      " 56  HISTOLOGICAL_SUBTYPE_Mucinous                                   1980 non-null   int64  \n",
      " 57  HISTOLOGICAL_SUBTYPE_Other                                      1980 non-null   int64  \n",
      " 58  HISTOLOGICAL_SUBTYPE_Tubular/ cribriform                        1980 non-null   int64  \n",
      " 59  HISTOLOGICAL_SUBTYPE_nan                                        1980 non-null   int64  \n",
      " 60  BREAST_SURGERY_MASTECTOMY                                       1980 non-null   int64  \n",
      " 61  BREAST_SURGERY_nan                                              1980 non-null   int64  \n",
      " 62  LATERALITY_Right                                                1980 non-null   int64  \n",
      " 63  LATERALITY_nan                                                  1980 non-null   int64  \n",
      " 64  CANCER_TYPE_Breast Sarcoma                                      1980 non-null   int64  \n",
      " 65  CANCER_TYPE_DETAILED_Breast Angiosarcoma                        1980 non-null   int64  \n",
      " 66  CANCER_TYPE_DETAILED_Breast Invasive Ductal Carcinoma           1980 non-null   int64  \n",
      " 67  CANCER_TYPE_DETAILED_Breast Invasive Lobular Carcinoma          1980 non-null   int64  \n",
      " 68  CANCER_TYPE_DETAILED_Breast Invasive Mixed Mucinous Carcinoma   1980 non-null   int64  \n",
      " 69  CANCER_TYPE_DETAILED_Breast Mixed Ductal and Lobular Carcinoma  1980 non-null   int64  \n",
      " 70  CANCER_TYPE_DETAILED_Invasive Breast Carcinoma                  1980 non-null   int64  \n",
      " 71  CANCER_TYPE_DETAILED_Metaplastic Breast Cancer                  1980 non-null   int64  \n",
      " 72  ONCOTREE_CODE_BREAST                                            1980 non-null   int64  \n",
      " 73  ONCOTREE_CODE_IDC                                               1980 non-null   int64  \n",
      " 74  ONCOTREE_CODE_ILC                                               1980 non-null   int64  \n",
      " 75  ONCOTREE_CODE_IMMC                                              1980 non-null   int64  \n",
      " 76  ONCOTREE_CODE_MBC                                               1980 non-null   int64  \n",
      " 77  ONCOTREE_CODE_MDLC                                              1980 non-null   int64  \n",
      " 78  ONCOTREE_CODE_PBS                                               1980 non-null   int64  \n",
      "dtypes: bool(2), float64(15), int64(54), object(8)\n",
      "memory usage: 1.2+ MB\n"
     ]
    },
    {
     "data": {
      "text/plain": [
       "None"
      ]
     },
     "metadata": {},
     "output_type": "display_data"
    }
   ],
   "source": [
    "# concatがうまく行かない理由はindexの順番。\n",
    "# 元のdfのnullをdropしたため。\n",
    "\n",
    "# なのでindexをresetしてからconcatする\n",
    "\n",
    "# onehotで生成した元のカラムの削除\n",
    "df_MB_onehot_concated = pd.concat(\n",
    "    [\n",
    "        df_MB_dtype_encoded.reset_index(drop=True),\n",
    "        df_MB_onehot_encoded.reset_index(drop=True),\n",
    "    ],\n",
    "    axis=1,\n",
    ").drop(onehot_encoding_columns, axis=1)\n",
    "display(df_MB_onehot_concated.shape)\n",
    "\n",
    "display(df_MB_onehot_concated.info())"
   ]
  },
  {
   "cell_type": "code",
   "execution_count": 23,
   "id": "6bffe81f-3428-4034-a40a-4fdaa7ca16ac",
   "metadata": {},
   "outputs": [],
   "source": [
    "# save\n",
    "make_dir(config.INTERIM_PICKLE_PREPROCESSED_DIR)\n",
    "df_MB_onehot_concated.to_pickle(\n",
    "    config.INTERIM_PICKLE_PREPROCESSED_DIR + \"/2.0.2-df_MB_onehot_concated.pkl\"\n",
    ")"
   ]
  },
  {
   "cell_type": "code",
   "execution_count": null,
   "id": "0d978ec9-95cf-40a7-a92d-8b96d3c7d698",
   "metadata": {},
   "outputs": [],
   "source": []
  }
 ],
 "metadata": {
  "kernelspec": {
   "display_name": "breast-cancer-analytics",
   "language": "python",
   "name": "breast-cancer-analytics"
  },
  "language_info": {
   "codemirror_mode": {
    "name": "ipython",
    "version": 3
   },
   "file_extension": ".py",
   "mimetype": "text/x-python",
   "name": "python",
   "nbconvert_exporter": "python",
   "pygments_lexer": "ipython3",
   "version": "3.8.13"
  }
 },
 "nbformat": 4,
 "nbformat_minor": 5
}
