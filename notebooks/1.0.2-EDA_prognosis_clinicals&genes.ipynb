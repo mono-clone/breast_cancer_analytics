{
 "cells": [
  {
   "cell_type": "markdown",
   "id": "1bf74c28-9df1-46e8-add1-19e87854de85",
   "metadata": {},
   "source": [
    "# 概要\n",
    "\n",
    "遺伝子でない特徴量と遺伝子特徴量を組み合わせてEDAを行う"
   ]
  },
  {
   "cell_type": "code",
   "execution_count": 1,
   "id": "2ce89012-1e68-430a-acc1-0f96fad50a8a",
   "metadata": {},
   "outputs": [
    {
     "name": "stderr",
     "output_type": "stream",
     "text": [
      "/Users/masanari/Library/CloudStorage/OneDrive-東京理科大学/projects/breast_cancer_analytics/notebooks/functions.py:242: FutureWarning: The default dtype for empty Series will be 'object' instead of 'float64' in a future version. Specify a dtype explicitly to silence this warning.\n",
      "  y: pd.Series(),\n"
     ]
    }
   ],
   "source": [
    "import os\n",
    "import random\n",
    "import itertools\n",
    "\n",
    "# 基本的なライブラリ\n",
    "import numpy as np\n",
    "import pandas as pd\n",
    "import scipy as sp\n",
    "from scipy import stats\n",
    "\n",
    "# 描画ライブラリ\n",
    "import matplotlib.pyplot as plt\n",
    "import seaborn as sns\n",
    "import graphviz\n",
    "import pydotplus\n",
    "from IPython.display import Image\n",
    "from six import StringIO\n",
    "from ipywidgets import interact, FloatSlider\n",
    "\n",
    "# データセット分割\n",
    "from sklearn.model_selection import train_test_split\n",
    "from sklearn.model_selection import KFold\n",
    "\n",
    "# 前処理\n",
    "from sklearn.preprocessing import StandardScaler, MinMaxScaler\n",
    "from imblearn.over_sampling import SMOTE\n",
    "\n",
    "# 特徴量選択\n",
    "from sklearn.feature_selection import (\n",
    "    SequentialFeatureSelector,\n",
    "    VarianceThreshold,\n",
    "    RFE,\n",
    "    RFECV,\n",
    ")\n",
    "from mlxtend.feature_selection import ExhaustiveFeatureSelector as EFS\n",
    "\n",
    "# 機械学習モデル\n",
    "from sklearn.linear_model import LogisticRegression  # ロジスティック回帰\n",
    "from sklearn.neighbors import KNeighborsClassifier  # K近傍法\n",
    "from sklearn.svm import SVC  # サポートベクターマシン\n",
    "from sklearn.tree import DecisionTreeClassifier, export_graphviz  # 決定木\n",
    "from sklearn.ensemble import RandomForestClassifier  # ランダムフォレスト\n",
    "from sklearn.ensemble import AdaBoostClassifier  # AdaBoost\n",
    "from sklearn.naive_bayes import GaussianNB  # ナイーブ・ベイズ\n",
    "from sklearn.decomposition import LatentDirichletAllocation as LDA  # 線形判別分析\n",
    "from sklearn.discriminant_analysis import QuadraticDiscriminantAnalysis as QDA  # 二次判別分析\n",
    "\n",
    "# 学習中\n",
    "from tqdm import tqdm\n",
    "from sklearn.model_selection import learning_curve\n",
    "from sklearn.metrics import roc_auc_score\n",
    "from sklearn.metrics import accuracy_score, precision_score, recall_score, f1_score\n",
    "from sklearn.metrics import confusion_matrix, ConfusionMatrixDisplay\n",
    "\n",
    "import warnings\n",
    "\n",
    "# config python file\n",
    "import config\n",
    "\n",
    "SEED = config.SEED\n",
    "\n",
    "\n",
    "from functions import *\n",
    "\n",
    "fix_seed(SEED)\n",
    "\n",
    "\n",
    "# 最大表示列数の指定（ここでは50列を指定）N\n",
    "pd.set_option(\"display.max_columns\", 50)\n",
    "pd.set_option(\"display.max_rows\", 50)\n",
    "\n",
    "%matplotlib inline"
   ]
  },
  {
   "cell_type": "code",
   "execution_count": 2,
   "id": "4395f7e8-25d6-4f99-90d7-7af5a30d022b",
   "metadata": {},
   "outputs": [],
   "source": [
    "def make_dir(dir_name: str):\n",
    "    if not os.path.exists(dir_name):\n",
    "        os.makedirs(dir_name)\n",
    "\n",
    "\n",
    "# 特徴量チェック\n",
    "def check(df):\n",
    "    col_list = df.columns.values  # 列名を取得\n",
    "    row = []\n",
    "    for col in col_list:\n",
    "        unique = \"\"\n",
    "        value_counts = \"\"\n",
    "        if df[col].nunique() < 12:\n",
    "            unique = df[col].unique()\n",
    "            value_counts = df[col].value_counts().to_dict()\n",
    "        tmp = (\n",
    "            col,  # 列名\n",
    "            df[col].dtypes,  # データタイプ\n",
    "            df[col].isnull().sum(),  # null数\n",
    "            df[col].count(),  # データ数 (欠損値除く)\n",
    "            df[col].nunique(),  # ユニーク値の数 (欠損値除く)\n",
    "            unique,  # ユニーク値\n",
    "            value_counts,  # ユニーク値のそれぞれの個数\n",
    "        )\n",
    "        row.append(tmp)  # tmpを順次rowに保存\n",
    "    df = pd.DataFrame(row)  # rowをデータフレームの形式に変換\n",
    "    df.columns = [\n",
    "        \"feature\",\n",
    "        \"dtypes\",\n",
    "        \"nan\",\n",
    "        \"count\",\n",
    "        \"num_unique\",\n",
    "        \"unique\",\n",
    "        \"unique_counts\",\n",
    "    ]  # データフレームの列名指定\n",
    "    # unique_countsの中身確認のために横幅拡張\n",
    "    d = dict(selector=\".col8\", props=[(\"min-width\", \"200px\")])  # name\n",
    "    # display(df.style.set_table_styles([d]))\n",
    "    # display(df)\n",
    "    return df.style.set_table_styles([d])"
   ]
  },
  {
   "cell_type": "markdown",
   "id": "5ace211f-7a9c-4eda-9f01-5df6ab029a62",
   "metadata": {},
   "source": [
    "# データ読み込み"
   ]
  },
  {
   "cell_type": "markdown",
   "id": "11d2fe4d-0b74-481c-8eb1-c5e2221e39ed",
   "metadata": {},
   "source": [
    "## 臨床データの読み込み\n",
    "\n",
    "先に1.0-EDA_clinicalを実行すること"
   ]
  },
  {
   "cell_type": "code",
   "execution_count": 3,
   "id": "c22ff337-b6f9-430e-95d1-bee90e4f876b",
   "metadata": {},
   "outputs": [],
   "source": [
    "df_clinical = pd.read_pickle(config.INTERIM_PICKLE_EDA_DIR + \"/df_clinical.pkl\")\n",
    "df_MB = pd.read_pickle(config.INTERIM_PICKLE_EDA_DIR + \"/df_MB.pkl\")\n",
    "df_MTST = pd.read_pickle(config.INTERIM_PICKLE_EDA_DIR + \"/df_MTST.pkl\")"
   ]
  },
  {
   "cell_type": "markdown",
   "id": "4f671ff4-7872-4611-88ee-87d63cd60c09",
   "metadata": {},
   "source": [
    "## 遺伝子データの読み込み"
   ]
  },
  {
   "cell_type": "code",
   "execution_count": 4,
   "id": "b136347f-30c7-43ed-968c-0721ac7434dc",
   "metadata": {},
   "outputs": [],
   "source": [
    "df_cna = pd.read_table(config.RAW_BRCA_METABRIC_DIR + \"/data_cna.txt\", index_col=0).T\n",
    "df_cna = df_cna.drop(df_cna.index[0])\n",
    "\n",
    "df_methylation_promoters_rrbs = pd.read_table(\n",
    "    config.RAW_BRCA_METABRIC_DIR + \"/data_methylation_promoters_rrbs.txt\", index_col=0\n",
    ").T\n",
    "\n",
    "df_mrna_agilent_microarray_zscores_ref_all_samples = pd.read_table(\n",
    "    config.RAW_BRCA_METABRIC_DIR\n",
    "    + \"/data_mrna_agilent_microarray_zscores_ref_all_samples.txt\",\n",
    "    index_col=0,\n",
    ").T\n",
    "\n",
    "df_mrna_agilent_microarray = pd.read_table(\n",
    "    config.RAW_BRCA_METABRIC_DIR + \"/data_mrna_agilent_microarray.txt\", index_col=0\n",
    ").T\n",
    "\n",
    "# 　ファイルの中身が壊れているため、使用するなら要修正\n",
    "# df_mutations = pd.read_table(config.RAW_BRCA_METABRIC_DIR + \"/data_mutations.txt\").T\n",
    "\n",
    "\n",
    "# 各dfの中身変更防止の為setを仕様\n",
    "df_set = (\n",
    "    df_cna,\n",
    "    df_methylation_promoters_rrbs,\n",
    "    df_mrna_agilent_microarray_zscores_ref_all_samples,\n",
    "    df_mrna_agilent_microarray,\n",
    "    # df_mutations\n",
    ")\n",
    "df_name_set = (\n",
    "    \"df_cna\",\n",
    "    \"df_methylation_promoters_rrbs\",\n",
    "    \"df_mrna_agilent_microarray_zscores_ref_all_samples\",\n",
    "    \"df_mrna_agilent_microarray\",\n",
    "    # \"df_mutations\"\n",
    ")"
   ]
  },
  {
   "cell_type": "code",
   "execution_count": null,
   "id": "871a2da9-01e4-4c9b-b31d-8786a1d45f27",
   "metadata": {},
   "outputs": [],
   "source": []
  }
 ],
 "metadata": {
  "kernelspec": {
   "display_name": "Python 3 (ipykernel)",
   "language": "python",
   "name": "python3"
  },
  "language_info": {
   "codemirror_mode": {
    "name": "ipython",
    "version": 3
   },
   "file_extension": ".py",
   "mimetype": "text/x-python",
   "name": "python",
   "nbconvert_exporter": "python",
   "pygments_lexer": "ipython3",
   "version": "3.8.13"
  }
 },
 "nbformat": 4,
 "nbformat_minor": 5
}
