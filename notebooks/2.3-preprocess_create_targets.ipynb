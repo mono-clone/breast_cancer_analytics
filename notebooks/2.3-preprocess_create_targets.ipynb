{
 "cells": [
  {
   "cell_type": "code",
   "execution_count": null,
   "id": "b0a0fc6a-b035-4480-8dac-c27e4f21627b",
   "metadata": {
    "tags": []
   },
   "outputs": [],
   "source": [
    "import os\n",
    "import numpy as np\n",
    "import pandas as pd\n",
    "\n",
    "from IPython.display import HTML\n",
    "from sklearn.preprocessing import OneHotEncoder, LabelEncoder\n",
    "\n",
    "import config\n",
    "\n",
    "# 最大表示列数の指定（ここでは50列を指定）\n",
    "pd.set_option(\"display.max_columns\", 50)\n",
    "pd.set_option('display.max_rows', 50)\n",
    "\n",
    "\n",
    "def make_dir(dir_name: str):\n",
    "    if not os.path.exists(dir_name):\n",
    "        os.makedirs(dir_name)"
   ]
  },
  {
   "cell_type": "code",
   "execution_count": null,
   "id": "ed710a53-04a6-4b0b-8665-f88fbdba687c",
   "metadata": {
    "tags": []
   },
   "outputs": [],
   "source": [
    "df_MB_onehot_concated=pd.read_pickle(config.INTERIM_PICKLE_PREPROCESSED_DIR+'/2.2-df_MB_onehot_concated.pkl')\n",
    "df_MB_onehot_concated.info()"
   ]
  },
  {
   "cell_type": "code",
   "execution_count": null,
   "id": "ee7f0abf-fe25-450f-a3de-02f6a569e5dc",
   "metadata": {},
   "outputs": [],
   "source": [
    "# column確認\n",
    "df_MB_onehot_concated.columns"
   ]
  },
  {
   "cell_type": "markdown",
   "id": "274bbc23-4e0e-4c5b-ba98-6d7f7fb7a2f2",
   "metadata": {},
   "source": [
    "# 目的変数の生成\n",
    "\n",
    "元のdfにはない目的変数カラムを生成する。  "
   ]
  },
  {
   "cell_type": "markdown",
   "id": "f7759544-6d18-4c72-88eb-815c11d4b763",
   "metadata": {
    "tags": []
   },
   "source": [
    "## 目的変数｜5年後の予後の2値分類\n",
    "\n",
    "### df| df_MB_OS_status_in_5years\n",
    "5年後の予後を2値分類する。  \n",
    "そのためにVITAL_STATUSとOS_MONTHを利用する。  \n",
    "以下のフローチャートで生成する。  "
   ]
  },
  {
   "cell_type": "code",
   "execution_count": null,
   "id": "ec82118d-3581-467b-97a9-04efab020c14",
   "metadata": {},
   "outputs": [],
   "source": [
    "HTML('<div class=\"mxgraph\" style=\"max-width:100%;border:1px solid transparent;\" data-mxgraph=\"{&quot;highlight&quot;:&quot;#0000ff&quot;,&quot;nav&quot;:true,&quot;resize&quot;:true,&quot;toolbar&quot;:&quot;zoom layers tags lightbox&quot;,&quot;edit&quot;:&quot;_blank&quot;,&quot;xml&quot;:&quot;&lt;mxfile host=\\&quot;Electron\\&quot; modified=\\&quot;2022-05-01T07:33:44.405Z\\&quot; agent=\\&quot;5.0 (Macintosh; Intel Mac OS X 10_15_7) AppleWebKit/537.36 (KHTML, like Gecko) draw.io/17.4.2 Chrome/100.0.4896.60 Electron/18.0.1 Safari/537.36\\&quot; etag=\\&quot;CUa6MuG2A-EYqdbBh0ys\\&quot; version=\\&quot;17.4.2\\&quot; type=\\&quot;device\\&quot;&gt;&lt;diagram id=\\&quot;C5RBs43oDa-KdzZeNtuy\\&quot; name=\\&quot;Page-1\\&quot;&gt;7VhZc5swEP41TJ7a4Yix/RjbcZI2SduBJNOnjAIyqBasK4SP/vpKQTIQXB9tncMTP3jYZVlJ+317gOH0k/kZQ5P4CkJMDdsM54YzMGy7ZZniXyoWhcLtOoUiYiQsVFap8MgvrJTquSgnIc5qhhyAcjKpKwNIUxzwmg4xBrO62QhofdUJinBD4QWINrV3JORxoe3Y7VJ/jkkU65Utt1vcSZA2VifJYhTCrKJyTg2nzwB4cZXM+5jK2Om43F0s7ujl2D379C37iW56n/3r2w+Fs+EujyyPwHDK/69ru3A9RTRX8VJn5QsdQAZ5GmLpxDScXswTKi4tcfkDc75QgKOcg1AB4zFEkCJ6CTBRdiNIuTKzpIzT8EQCK+QHCsG4UA0JpWoNISn7jpAyzmC8xE46WAIhjSl6wLSHgnH0uNE+UGDiVgoplq5CQQZ1lnJzp6W2t2VsFQYZ5CzAa+xUcnDEIrzOn1vYyf1VeKqQO8OQYM4WwoBhijiZ1smMVE5ES7sSd3GhoN+BBk6DBuHIaPVuL/yTy3vPP/FvPMMWrs0v3v3Vl2v/3DNagzVMkSjNYsKxN0GP4ZqJ2lJnT5UV4uC9iKIsU5hugHw3yKaYcTxfG2R911WZrkpdR4mzsm5YuhjElZpxbO4JluMGLN9FKX1P0H9JUHfLBNX9a2OGKrJoYmydsMrTVyDiXKUJjEaZ2NhT6iwX/Hs2tRpsuoYGmTbj8abp9kJkau/GJevVc8ltcKnsDDITXJTIek+5jLm8b+raWi1cMSQPeba5V9QAlvQZooRQGaxzTKeYkwCt6CiIkigVQiCwxmw1c8SSJI2E5JaS/8hUUXz32Gna9U6zlKutxlzRajr7ajXt1ROAYrZs9maB4xDRDB9c63fsJ4B0X7r3d7ap1m+6Fj9769dldXPvt7as14o95kdH/GoEev3jQHer4fJ9HtgPw+xDmwj0Dit8qr8+qv5xNCCCLLYJI/E3IBlGGT56Hw3+OBrYqzrRs44GuhpWZwMmAnFoM8DT1/9j56VnAF0lNk9lPssPfyhzrP0BIsTyS25RE8vP4c7pbw==&lt;/diagram&gt;&lt;/mxfile&gt;&quot;}\"></div><script type=\"text/javascript\" src=\"https://viewer.diagrams.net/js/viewer-static.min.js\"></script>')"
   ]
  },
  {
   "cell_type": "code",
   "execution_count": null,
   "id": "b371fd68-3cc5-4914-9fe2-7d05d9783f85",
   "metadata": {},
   "outputs": [],
   "source": [
    "df_MB_OS_status_in_5years=df_MB_onehot_concated.copy()"
   ]
  },
  {
   "cell_type": "code",
   "execution_count": null,
   "id": "420b8e42-9a89-4ad3-b60f-e33ee3b0f5a0",
   "metadata": {},
   "outputs": [],
   "source": [
    "df_MB_OS_status_in_5years[df_MB_OS_status_in_5years['OS_MONTHS']>60].shape, df_MB_OS_status_in_5years[(df_MB_OS_status_in_5years['OS_MONTHS']<=60)&(df_MB_OS_status_in_5years['VITAL_STATUS']=='Died of Disease')].shape"
   ]
  },
  {
   "cell_type": "code",
   "execution_count": null,
   "id": "9ac1b529-617f-46e6-960b-ff44fc2db819",
   "metadata": {},
   "outputs": [],
   "source": [
    "df_MB_OS_status_in_5years=df_MB_onehot_concated.copy()\n",
    "df_MB_OS_status_in_5years['target']=np.nan\n",
    "df_MB_OS_status_in_5years['target']=df_MB_OS_status_in_5years['target'].mask(df_MB_OS_status_in_5years['OS_MONTHS']>60, False)\n",
    "df_MB_OS_status_in_5years['target']=df_MB_OS_status_in_5years['target'].mask((df_MB_OS_status_in_5years['OS_MONTHS']<=60)&\n",
    "                                                       (df_MB_OS_status_in_5years['VITAL_STATUS']=='Died of Disease'), True)\n",
    "df_MB_OS_status_in_5years.dropna(inplace=True)\n",
    "display(df_MB_OS_status_in_5years.target.value_counts(), df_MB_OS_status_in_5years.target.isnull().sum())"
   ]
  },
  {
   "cell_type": "code",
   "execution_count": null,
   "id": "7fbd6b7f-a25c-4d3f-8102-67bbe60835ac",
   "metadata": {},
   "outputs": [],
   "source": [
    "df_MB_OS_status_in_5years.shape"
   ]
  },
  {
   "cell_type": "code",
   "execution_count": null,
   "id": "26446222-1ad6-42dc-995a-e8b2b63025c6",
   "metadata": {},
   "outputs": [],
   "source": [
    "# save\n",
    "make_dir(config.INTERIM_PICKLE_PREPROCESSED_DIR)\n",
    "df_MB_OS_status_in_5years.to_pickle(config.INTERIM_PICKLE_PREPROCESSED_DIR+'/2.3-df_MB_OS_status_in_5years.pkl')"
   ]
  },
  {
   "cell_type": "code",
   "execution_count": null,
   "id": "c3c2682e-cc58-413e-88b4-1b890f906d0d",
   "metadata": {},
   "outputs": [],
   "source": []
  }
 ],
 "metadata": {
  "kernelspec": {
   "display_name": "breast-cancer-analytics",
   "language": "python",
   "name": "breast-cancer-analytics"
  },
  "language_info": {
   "codemirror_mode": {
    "name": "ipython",
    "version": 3
   },
   "file_extension": ".py",
   "mimetype": "text/x-python",
   "name": "python",
   "nbconvert_exporter": "python",
   "pygments_lexer": "ipython3",
   "version": "3.8.13"
  }
 },
 "nbformat": 4,
 "nbformat_minor": 5
}
