{
 "cells": [
  {
   "cell_type": "markdown",
   "id": "3748b911-cac6-48d6-8c75-5d9cc365f904",
   "metadata": {
    "tags": []
   },
   "source": [
    "# 目的\n",
    "遺伝子学的分類に基づいた、再発の2値分類を実施する。  "
   ]
  },
  {
   "cell_type": "code",
   "execution_count": 1,
   "id": "bcfaefbb-89db-48c9-8b91-141cf7014df1",
   "metadata": {},
   "outputs": [],
   "source": [
    "import os\n",
    "import random\n",
    "import itertools\n",
    "import re\n",
    "\n",
    "# 基本的なライブラリ\n",
    "import numpy as np\n",
    "import pandas as pd\n",
    "import scipy as sp\n",
    "from scipy import stats\n",
    "\n",
    "# 描画ライブラリ\n",
    "import matplotlib.pyplot as plt\n",
    "import seaborn as sns\n",
    "from seaborn_analyzer import CustomPairPlot\n",
    "import graphviz\n",
    "import pydotplus\n",
    "from IPython.display import Image\n",
    "from IPython.display import HTML\n",
    "from six import StringIO\n",
    "from ipywidgets import interact, FloatSlider\n",
    "\n",
    "# データセット分割\n",
    "from sklearn.model_selection import (\n",
    "    train_test_split,\n",
    "    StratifiedKFold,\n",
    "    ShuffleSplit,\n",
    "    StratifiedShuffleSplit,\n",
    ")\n",
    "\n",
    "# 補完\n",
    "from sklearn.experimental import (\n",
    "    enable_iterative_imputer,\n",
    ")  # IterativeImputerをimportするために必要\n",
    "from sklearn.impute import SimpleImputer, IterativeImputer, KNNImputer\n",
    "\n",
    "# エンコード\n",
    "from sklearn.preprocessing import OneHotEncoder, LabelEncoder, OrdinalEncoder\n",
    "\n",
    "# サンプリング\n",
    "from imblearn.over_sampling import SMOTE\n",
    "from imblearn.under_sampling import RandomUnderSampler\n",
    "\n",
    "# 特徴量選択\n",
    "from sklearn.feature_selection import VarianceThreshold\n",
    "from sklearn.feature_selection import (\n",
    "    GenericUnivariateSelect,\n",
    "    f_classif,\n",
    "    mutual_info_classif,\n",
    "    chi2,\n",
    ")\n",
    "from boruta import BorutaPy\n",
    "from libraries.mrmr import mrmr\n",
    "\n",
    "# models\n",
    "from lightgbm import LGBMClassifier\n",
    "import xgboost as xgb\n",
    "from sklearn.neighbors import KNeighborsClassifier\n",
    "\n",
    "# 機械学習アルゴリズム\n",
    "from sklearn.linear_model import LogisticRegression  # ロジスティック回帰\n",
    "from sklearn.neighbors import KNeighborsClassifier  # K近傍法\n",
    "from sklearn.svm import SVC  # サポートベクターマシン\n",
    "from sklearn.tree import DecisionTreeClassifier, export_graphviz  # 決定木\n",
    "from sklearn.ensemble import RandomForestClassifier  # ランダムフォレスト\n",
    "from sklearn.ensemble import AdaBoostClassifier  # AdaBoost\n",
    "from sklearn.naive_bayes import GaussianNB  # ナイーブ・ベイズ\n",
    "from sklearn.decomposition import LatentDirichletAllocation as LDA  # 線形判別分析\n",
    "from sklearn.discriminant_analysis import QuadraticDiscriminantAnalysis as QDA  # 二次判別分析\n",
    "\n",
    "# 学習中\n",
    "import optuna\n",
    "from tqdm import tqdm\n",
    "from sklearn.model_selection import learning_curve, cross_validate, cross_val_score\n",
    "\n",
    "# 評価指標\n",
    "from sklearn.metrics import roc_auc_score\n",
    "from sklearn.metrics import make_scorer\n",
    "from sklearn.metrics import accuracy_score, precision_score, recall_score, f1_score\n",
    "from sklearn.metrics import confusion_matrix, ConfusionMatrixDisplay\n",
    "\n",
    "import warnings\n",
    "\n",
    "\n",
    "# config python file\n",
    "import config\n",
    "\n",
    "SEED = config.SEED\n",
    "# INDEX_MICROARRAY = config.INDEX_MICROARRAY\n",
    "INDEX_MICROARRAY = 2\n",
    "import functions\n",
    "\n",
    "functions.fix_seed(SEED)\n",
    "\n",
    "\n",
    "# 最大表示列数の指定（ここでは50列を指定）N\n",
    "pd.set_option(\"display.max_columns\", 50)\n",
    "pd.set_option(\"display.max_rows\", 50)\n",
    "\n",
    "%matplotlib inline"
   ]
  },
  {
   "cell_type": "code",
   "execution_count": 2,
   "id": "59c037a3-9267-49b7-94f8-a40a818a31df",
   "metadata": {},
   "outputs": [],
   "source": [
    "df_recurrenced = pd.read_pickle(\n",
    "    config.INTERIM_PREPROCESSED_RECURRENCE_CROSS_DIR + \"/df_recurrenced.pkl\"\n",
    ")"
   ]
  },
  {
   "cell_type": "markdown",
   "id": "3011d730-a100-4755-97d0-a1fce8415500",
   "metadata": {
    "tags": []
   },
   "source": [
    "# データ全体での予測モデル検証"
   ]
  },
  {
   "cell_type": "markdown",
   "id": "a7a02154-d9fb-4b12-b8f3-602baff4a8dc",
   "metadata": {
    "tags": []
   },
   "source": [
    "## ベースモデルの学習結果\n",
    "\n",
    "各特徴量選択されたdfを用いて基本的な2値分類モデルを学習する"
   ]
  },
  {
   "cell_type": "code",
   "execution_count": 3,
   "id": "39b9d5c8-45a5-4116-a470-f21aa0afff43",
   "metadata": {
    "tags": []
   },
   "outputs": [
    {
     "name": "stdout",
     "output_type": "stream",
     "text": [
      "./../data/interim/PREPROCESSED/RECURRENCE/CROSS/ALL_DATA/variance_threshold\n",
      "==================================================\n",
      "method:  variance_threshold\n",
      "accuracy:  0.38449111470113084\n",
      "使用特徴量： Index(['SYT13', 'ANKRD30BP3', 'CA12', 'HLA-DRB4', 'LCN2', 'SERHL2', 'PVALB',\n",
      "       'GABRP', 'IGJ', 'SNAR-A3', 'SERPINA3', 'KRT15', 'NAT1', 'GFRA1',\n",
      "       'SFRP1', 'SLC7A2', 'MMP7', 'SERPINA5', 'SCGB3A1', 'KRT81', 'VTCN1',\n",
      "       'CYP4Z1', 'GRIA2', 'STC2', 'KRT6B', 'LTF', 'CYP4X1', 'APOD', 'BMPR1B',\n",
      "       'SCUBE2', 'IGLL1_1', 'TCN1', 'BEX1', 'IGHG1', 'UGT2B11', 'C1orf64',\n",
      "       'PROM1', 'EEF1A2', 'CALML5', 'UGT2B7', 'HMGCS2', 'ESR1', 'CLIC6',\n",
      "       'PPP1R1B', 'AGR3', 'SCGB2A1', 'HLA-A', 'VAV3', 'S100A8', 'S100P',\n",
      "       'TFF3', 'S100A9', 'IGKC', 'CLEC3A', 'CPB1', 'HLA-DRB1', 'ANKRD30A',\n",
      "       'TFF1', 'PIP', 'SCGB1D2', 'SCGB2A2'],\n",
      "      dtype='object')\n",
      "学習サンプルサイズ： (619, 61)\n"
     ]
    },
    {
     "name": "stderr",
     "output_type": "stream",
     "text": [
      "11it [00:01,  5.80it/s]\n"
     ]
    },
    {
     "data": {
      "text/html": [
       "<div>\n",
       "<style scoped>\n",
       "    .dataframe tbody tr th:only-of-type {\n",
       "        vertical-align: middle;\n",
       "    }\n",
       "\n",
       "    .dataframe tbody tr th {\n",
       "        vertical-align: top;\n",
       "    }\n",
       "\n",
       "    .dataframe thead th {\n",
       "        text-align: right;\n",
       "    }\n",
       "</style>\n",
       "<table border=\"1\" class=\"dataframe\">\n",
       "  <thead>\n",
       "    <tr style=\"text-align: right;\">\n",
       "      <th></th>\n",
       "      <th>acc_train</th>\n",
       "      <th>acc_val</th>\n",
       "      <th>f1_train</th>\n",
       "      <th>f1_val</th>\n",
       "    </tr>\n",
       "    <tr>\n",
       "      <th>classifier</th>\n",
       "      <th></th>\n",
       "      <th></th>\n",
       "      <th></th>\n",
       "      <th></th>\n",
       "    </tr>\n",
       "  </thead>\n",
       "  <tbody>\n",
       "    <tr>\n",
       "      <th>Naive Bayes</th>\n",
       "      <td>0.621971</td>\n",
       "      <td>0.623188</td>\n",
       "      <td>0.613861</td>\n",
       "      <td>0.606061</td>\n",
       "    </tr>\n",
       "    <tr>\n",
       "      <th>Linear SVM</th>\n",
       "      <td>0.726979</td>\n",
       "      <td>0.652174</td>\n",
       "      <td>0.689908</td>\n",
       "      <td>0.600000</td>\n",
       "    </tr>\n",
       "    <tr>\n",
       "      <th>Random Forest</th>\n",
       "      <td>0.817447</td>\n",
       "      <td>0.637681</td>\n",
       "      <td>0.782274</td>\n",
       "      <td>0.590164</td>\n",
       "    </tr>\n",
       "    <tr>\n",
       "      <th>RBF SVM</th>\n",
       "      <td>0.786753</td>\n",
       "      <td>0.608696</td>\n",
       "      <td>0.759124</td>\n",
       "      <td>0.557377</td>\n",
       "    </tr>\n",
       "    <tr>\n",
       "      <th>Decision Tree</th>\n",
       "      <td>0.794830</td>\n",
       "      <td>0.608696</td>\n",
       "      <td>0.742394</td>\n",
       "      <td>0.526316</td>\n",
       "    </tr>\n",
       "    <tr>\n",
       "      <th>Quadratic Discriminant Analysis</th>\n",
       "      <td>0.972536</td>\n",
       "      <td>0.623188</td>\n",
       "      <td>0.963441</td>\n",
       "      <td>0.500000</td>\n",
       "    </tr>\n",
       "    <tr>\n",
       "      <th>AdaBoost</th>\n",
       "      <td>0.859451</td>\n",
       "      <td>0.637681</td>\n",
       "      <td>0.807095</td>\n",
       "      <td>0.489796</td>\n",
       "    </tr>\n",
       "    <tr>\n",
       "      <th>Polynomial SVM</th>\n",
       "      <td>0.998384</td>\n",
       "      <td>0.565217</td>\n",
       "      <td>0.997904</td>\n",
       "      <td>0.482759</td>\n",
       "    </tr>\n",
       "    <tr>\n",
       "      <th>Logistic Regression</th>\n",
       "      <td>0.731826</td>\n",
       "      <td>0.608696</td>\n",
       "      <td>0.631111</td>\n",
       "      <td>0.448980</td>\n",
       "    </tr>\n",
       "    <tr>\n",
       "      <th>Nearest Neighbors</th>\n",
       "      <td>0.712439</td>\n",
       "      <td>0.550725</td>\n",
       "      <td>0.589862</td>\n",
       "      <td>0.340426</td>\n",
       "    </tr>\n",
       "    <tr>\n",
       "      <th>Sigmoid SVM</th>\n",
       "      <td>0.615509</td>\n",
       "      <td>0.623188</td>\n",
       "      <td>0.000000</td>\n",
       "      <td>0.000000</td>\n",
       "    </tr>\n",
       "  </tbody>\n",
       "</table>\n",
       "</div>"
      ],
      "text/plain": [
       "                                 acc_train   acc_val  f1_train    f1_val\n",
       "classifier                                                              \n",
       "Naive Bayes                       0.621971  0.623188  0.613861  0.606061\n",
       "Linear SVM                        0.726979  0.652174  0.689908  0.600000\n",
       "Random Forest                     0.817447  0.637681  0.782274  0.590164\n",
       "RBF SVM                           0.786753  0.608696  0.759124  0.557377\n",
       "Decision Tree                     0.794830  0.608696  0.742394  0.526316\n",
       "Quadratic Discriminant Analysis   0.972536  0.623188  0.963441  0.500000\n",
       "AdaBoost                          0.859451  0.637681  0.807095  0.489796\n",
       "Polynomial SVM                    0.998384  0.565217  0.997904  0.482759\n",
       "Logistic Regression               0.731826  0.608696  0.631111  0.448980\n",
       "Nearest Neighbors                 0.712439  0.550725  0.589862  0.340426\n",
       "Sigmoid SVM                       0.615509  0.623188  0.000000  0.000000"
      ]
     },
     "metadata": {},
     "output_type": "display_data"
    },
    {
     "name": "stdout",
     "output_type": "stream",
     "text": [
      "--------------------------------------------------\n",
      "subgroup column:  CLAUDIN_SUBTYPE\n",
      "subgroup:  LumB\n",
      "accuracy:  0.39325842696629215\n",
      "使用特徴量： Index(['IGLL1_1', 'BMPR1B', 'CLIC6', 'GRIA2', 'VAV3', 'HLA-A', 'BEX1', 'S100P',\n",
      "       'CLEC3A', 'IGKC', 'TFF1', 'ANKRD30A', 'HLA-DRB1', 'SCGB1D2', 'CPB1',\n",
      "       'PIP', 'SCGB2A2'],\n",
      "      dtype='object')\n",
      "学習サンプルサイズ： (178, 17)\n"
     ]
    },
    {
     "name": "stderr",
     "output_type": "stream",
     "text": [
      "11it [00:00, 30.07it/s]\n"
     ]
    },
    {
     "data": {
      "text/html": [
       "<div>\n",
       "<style scoped>\n",
       "    .dataframe tbody tr th:only-of-type {\n",
       "        vertical-align: middle;\n",
       "    }\n",
       "\n",
       "    .dataframe tbody tr th {\n",
       "        vertical-align: top;\n",
       "    }\n",
       "\n",
       "    .dataframe thead th {\n",
       "        text-align: right;\n",
       "    }\n",
       "</style>\n",
       "<table border=\"1\" class=\"dataframe\">\n",
       "  <thead>\n",
       "    <tr style=\"text-align: right;\">\n",
       "      <th></th>\n",
       "      <th>acc_train</th>\n",
       "      <th>acc_val</th>\n",
       "      <th>f1_train</th>\n",
       "      <th>f1_val</th>\n",
       "    </tr>\n",
       "    <tr>\n",
       "      <th>classifier</th>\n",
       "      <th></th>\n",
       "      <th></th>\n",
       "      <th></th>\n",
       "      <th></th>\n",
       "    </tr>\n",
       "  </thead>\n",
       "  <tbody>\n",
       "    <tr>\n",
       "      <th>Decision Tree</th>\n",
       "      <td>0.769663</td>\n",
       "      <td>0.55</td>\n",
       "      <td>0.748466</td>\n",
       "      <td>0.526316</td>\n",
       "    </tr>\n",
       "    <tr>\n",
       "      <th>Quadratic Discriminant Analysis</th>\n",
       "      <td>1.000000</td>\n",
       "      <td>0.60</td>\n",
       "      <td>1.000000</td>\n",
       "      <td>0.428571</td>\n",
       "    </tr>\n",
       "    <tr>\n",
       "      <th>Linear SVM</th>\n",
       "      <td>0.679775</td>\n",
       "      <td>0.45</td>\n",
       "      <td>0.645963</td>\n",
       "      <td>0.421053</td>\n",
       "    </tr>\n",
       "    <tr>\n",
       "      <th>AdaBoost</th>\n",
       "      <td>0.971910</td>\n",
       "      <td>0.45</td>\n",
       "      <td>0.964029</td>\n",
       "      <td>0.352941</td>\n",
       "    </tr>\n",
       "    <tr>\n",
       "      <th>Polynomial SVM</th>\n",
       "      <td>0.977528</td>\n",
       "      <td>0.40</td>\n",
       "      <td>0.972222</td>\n",
       "      <td>0.333333</td>\n",
       "    </tr>\n",
       "    <tr>\n",
       "      <th>Logistic Regression</th>\n",
       "      <td>0.707865</td>\n",
       "      <td>0.50</td>\n",
       "      <td>0.573770</td>\n",
       "      <td>0.285714</td>\n",
       "    </tr>\n",
       "    <tr>\n",
       "      <th>RBF SVM</th>\n",
       "      <td>0.803371</td>\n",
       "      <td>0.40</td>\n",
       "      <td>0.758621</td>\n",
       "      <td>0.250000</td>\n",
       "    </tr>\n",
       "    <tr>\n",
       "      <th>Random Forest</th>\n",
       "      <td>0.792135</td>\n",
       "      <td>0.40</td>\n",
       "      <td>0.748299</td>\n",
       "      <td>0.250000</td>\n",
       "    </tr>\n",
       "    <tr>\n",
       "      <th>Naive Bayes</th>\n",
       "      <td>0.679775</td>\n",
       "      <td>0.40</td>\n",
       "      <td>0.577778</td>\n",
       "      <td>0.142857</td>\n",
       "    </tr>\n",
       "    <tr>\n",
       "      <th>Nearest Neighbors</th>\n",
       "      <td>0.724719</td>\n",
       "      <td>0.45</td>\n",
       "      <td>0.573913</td>\n",
       "      <td>0.000000</td>\n",
       "    </tr>\n",
       "    <tr>\n",
       "      <th>Sigmoid SVM</th>\n",
       "      <td>0.606742</td>\n",
       "      <td>0.60</td>\n",
       "      <td>0.000000</td>\n",
       "      <td>0.000000</td>\n",
       "    </tr>\n",
       "  </tbody>\n",
       "</table>\n",
       "</div>"
      ],
      "text/plain": [
       "                                 acc_train  acc_val  f1_train    f1_val\n",
       "classifier                                                             \n",
       "Decision Tree                     0.769663     0.55  0.748466  0.526316\n",
       "Quadratic Discriminant Analysis   1.000000     0.60  1.000000  0.428571\n",
       "Linear SVM                        0.679775     0.45  0.645963  0.421053\n",
       "AdaBoost                          0.971910     0.45  0.964029  0.352941\n",
       "Polynomial SVM                    0.977528     0.40  0.972222  0.333333\n",
       "Logistic Regression               0.707865     0.50  0.573770  0.285714\n",
       "RBF SVM                           0.803371     0.40  0.758621  0.250000\n",
       "Random Forest                     0.792135     0.40  0.748299  0.250000\n",
       "Naive Bayes                       0.679775     0.40  0.577778  0.142857\n",
       "Nearest Neighbors                 0.724719     0.45  0.573913  0.000000\n",
       "Sigmoid SVM                       0.606742     0.60  0.000000  0.000000"
      ]
     },
     "metadata": {},
     "output_type": "display_data"
    },
    {
     "name": "stdout",
     "output_type": "stream",
     "text": [
      "subgroup:  Her2\n",
      "accuracy:  0.25555555555555554\n",
      "使用特徴量： Index(['IGKC', 'PPP1R1B', 'S100A8', 'UGT2B11', 'UGT2B7', 'S100A9', 'PIP',\n",
      "       'SCGB1D2', 'SCGB2A2'],\n",
      "      dtype='object')\n",
      "学習サンプルサイズ： (90, 9)\n"
     ]
    },
    {
     "name": "stderr",
     "output_type": "stream",
     "text": [
      "11it [00:00, 41.83it/s]\n"
     ]
    },
    {
     "data": {
      "text/html": [
       "<div>\n",
       "<style scoped>\n",
       "    .dataframe tbody tr th:only-of-type {\n",
       "        vertical-align: middle;\n",
       "    }\n",
       "\n",
       "    .dataframe tbody tr th {\n",
       "        vertical-align: top;\n",
       "    }\n",
       "\n",
       "    .dataframe thead th {\n",
       "        text-align: right;\n",
       "    }\n",
       "</style>\n",
       "<table border=\"1\" class=\"dataframe\">\n",
       "  <thead>\n",
       "    <tr style=\"text-align: right;\">\n",
       "      <th></th>\n",
       "      <th>acc_train</th>\n",
       "      <th>acc_val</th>\n",
       "      <th>f1_train</th>\n",
       "      <th>f1_val</th>\n",
       "    </tr>\n",
       "    <tr>\n",
       "      <th>classifier</th>\n",
       "      <th></th>\n",
       "      <th></th>\n",
       "      <th></th>\n",
       "      <th></th>\n",
       "    </tr>\n",
       "  </thead>\n",
       "  <tbody>\n",
       "    <tr>\n",
       "      <th>Nearest Neighbors</th>\n",
       "      <td>0.833333</td>\n",
       "      <td>0.727273</td>\n",
       "      <td>0.594595</td>\n",
       "      <td>0.571429</td>\n",
       "    </tr>\n",
       "    <tr>\n",
       "      <th>Polynomial SVM</th>\n",
       "      <td>0.866667</td>\n",
       "      <td>0.636364</td>\n",
       "      <td>0.769231</td>\n",
       "      <td>0.500000</td>\n",
       "    </tr>\n",
       "    <tr>\n",
       "      <th>RBF SVM</th>\n",
       "      <td>0.822222</td>\n",
       "      <td>0.636364</td>\n",
       "      <td>0.680000</td>\n",
       "      <td>0.500000</td>\n",
       "    </tr>\n",
       "    <tr>\n",
       "      <th>Decision Tree</th>\n",
       "      <td>0.777778</td>\n",
       "      <td>0.636364</td>\n",
       "      <td>0.629630</td>\n",
       "      <td>0.333333</td>\n",
       "    </tr>\n",
       "    <tr>\n",
       "      <th>Linear SVM</th>\n",
       "      <td>0.677778</td>\n",
       "      <td>0.363636</td>\n",
       "      <td>0.553846</td>\n",
       "      <td>0.222222</td>\n",
       "    </tr>\n",
       "    <tr>\n",
       "      <th>AdaBoost</th>\n",
       "      <td>1.000000</td>\n",
       "      <td>0.545455</td>\n",
       "      <td>1.000000</td>\n",
       "      <td>0.000000</td>\n",
       "    </tr>\n",
       "    <tr>\n",
       "      <th>Logistic Regression</th>\n",
       "      <td>0.766667</td>\n",
       "      <td>0.727273</td>\n",
       "      <td>0.322581</td>\n",
       "      <td>0.000000</td>\n",
       "    </tr>\n",
       "    <tr>\n",
       "      <th>Naive Bayes</th>\n",
       "      <td>0.744444</td>\n",
       "      <td>0.636364</td>\n",
       "      <td>0.410256</td>\n",
       "      <td>0.000000</td>\n",
       "    </tr>\n",
       "    <tr>\n",
       "      <th>Quadratic Discriminant Analysis</th>\n",
       "      <td>1.000000</td>\n",
       "      <td>0.636364</td>\n",
       "      <td>1.000000</td>\n",
       "      <td>0.000000</td>\n",
       "    </tr>\n",
       "    <tr>\n",
       "      <th>Random Forest</th>\n",
       "      <td>0.777778</td>\n",
       "      <td>0.545455</td>\n",
       "      <td>0.629630</td>\n",
       "      <td>0.000000</td>\n",
       "    </tr>\n",
       "    <tr>\n",
       "      <th>Sigmoid SVM</th>\n",
       "      <td>0.744444</td>\n",
       "      <td>0.727273</td>\n",
       "      <td>0.000000</td>\n",
       "      <td>0.000000</td>\n",
       "    </tr>\n",
       "  </tbody>\n",
       "</table>\n",
       "</div>"
      ],
      "text/plain": [
       "                                 acc_train   acc_val  f1_train    f1_val\n",
       "classifier                                                              \n",
       "Nearest Neighbors                 0.833333  0.727273  0.594595  0.571429\n",
       "Polynomial SVM                    0.866667  0.636364  0.769231  0.500000\n",
       "RBF SVM                           0.822222  0.636364  0.680000  0.500000\n",
       "Decision Tree                     0.777778  0.636364  0.629630  0.333333\n",
       "Linear SVM                        0.677778  0.363636  0.553846  0.222222\n",
       "AdaBoost                          1.000000  0.545455  1.000000  0.000000\n",
       "Logistic Regression               0.766667  0.727273  0.322581  0.000000\n",
       "Naive Bayes                       0.744444  0.636364  0.410256  0.000000\n",
       "Quadratic Discriminant Analysis   1.000000  0.636364  1.000000  0.000000\n",
       "Random Forest                     0.777778  0.545455  0.629630  0.000000\n",
       "Sigmoid SVM                       0.744444  0.727273  0.000000  0.000000"
      ]
     },
     "metadata": {},
     "output_type": "display_data"
    },
    {
     "name": "stdout",
     "output_type": "stream",
     "text": [
      "subgroup:  LumA\n",
      "accuracy:  0.5393258426966292\n",
      "使用特徴量： Index(['IGKC', 'UGT2B11', 'TFF1', 'GRIA2', 'BEX1', 'UGT2B7', 'TCN1', 'S100P',\n",
      "       'HMGCS2', 'PIP', 'VAV3', 'CLIC6', 'SCGB2A2', 'HLA-DRB1', 'CPB1',\n",
      "       'CLEC3A', 'SCGB1D2'],\n",
      "      dtype='object')\n",
      "学習サンプルサイズ： (178, 17)\n"
     ]
    },
    {
     "name": "stderr",
     "output_type": "stream",
     "text": [
      "11it [00:00, 30.95it/s]\n"
     ]
    },
    {
     "data": {
      "text/html": [
       "<div>\n",
       "<style scoped>\n",
       "    .dataframe tbody tr th:only-of-type {\n",
       "        vertical-align: middle;\n",
       "    }\n",
       "\n",
       "    .dataframe tbody tr th {\n",
       "        vertical-align: top;\n",
       "    }\n",
       "\n",
       "    .dataframe thead th {\n",
       "        text-align: right;\n",
       "    }\n",
       "</style>\n",
       "<table border=\"1\" class=\"dataframe\">\n",
       "  <thead>\n",
       "    <tr style=\"text-align: right;\">\n",
       "      <th></th>\n",
       "      <th>acc_train</th>\n",
       "      <th>acc_val</th>\n",
       "      <th>f1_train</th>\n",
       "      <th>f1_val</th>\n",
       "    </tr>\n",
       "    <tr>\n",
       "      <th>classifier</th>\n",
       "      <th></th>\n",
       "      <th></th>\n",
       "      <th></th>\n",
       "      <th></th>\n",
       "    </tr>\n",
       "  </thead>\n",
       "  <tbody>\n",
       "    <tr>\n",
       "      <th>Quadratic Discriminant Analysis</th>\n",
       "      <td>1.000000</td>\n",
       "      <td>0.70</td>\n",
       "      <td>1.000000</td>\n",
       "      <td>0.769231</td>\n",
       "    </tr>\n",
       "    <tr>\n",
       "      <th>Naive Bayes</th>\n",
       "      <td>0.662921</td>\n",
       "      <td>0.65</td>\n",
       "      <td>0.693878</td>\n",
       "      <td>0.740741</td>\n",
       "    </tr>\n",
       "    <tr>\n",
       "      <th>Nearest Neighbors</th>\n",
       "      <td>0.679775</td>\n",
       "      <td>0.65</td>\n",
       "      <td>0.713568</td>\n",
       "      <td>0.740741</td>\n",
       "    </tr>\n",
       "    <tr>\n",
       "      <th>RBF SVM</th>\n",
       "      <td>0.758427</td>\n",
       "      <td>0.60</td>\n",
       "      <td>0.777202</td>\n",
       "      <td>0.692308</td>\n",
       "    </tr>\n",
       "    <tr>\n",
       "      <th>Random Forest</th>\n",
       "      <td>0.780899</td>\n",
       "      <td>0.60</td>\n",
       "      <td>0.795812</td>\n",
       "      <td>0.692308</td>\n",
       "    </tr>\n",
       "    <tr>\n",
       "      <th>Linear SVM</th>\n",
       "      <td>0.691011</td>\n",
       "      <td>0.55</td>\n",
       "      <td>0.715026</td>\n",
       "      <td>0.640000</td>\n",
       "    </tr>\n",
       "    <tr>\n",
       "      <th>Logistic Regression</th>\n",
       "      <td>0.668539</td>\n",
       "      <td>0.55</td>\n",
       "      <td>0.703518</td>\n",
       "      <td>0.640000</td>\n",
       "    </tr>\n",
       "    <tr>\n",
       "      <th>AdaBoost</th>\n",
       "      <td>0.966292</td>\n",
       "      <td>0.55</td>\n",
       "      <td>0.969388</td>\n",
       "      <td>0.608696</td>\n",
       "    </tr>\n",
       "    <tr>\n",
       "      <th>Decision Tree</th>\n",
       "      <td>0.741573</td>\n",
       "      <td>0.50</td>\n",
       "      <td>0.726190</td>\n",
       "      <td>0.545455</td>\n",
       "    </tr>\n",
       "    <tr>\n",
       "      <th>Polynomial SVM</th>\n",
       "      <td>0.949438</td>\n",
       "      <td>0.40</td>\n",
       "      <td>0.953846</td>\n",
       "      <td>0.500000</td>\n",
       "    </tr>\n",
       "    <tr>\n",
       "      <th>Sigmoid SVM</th>\n",
       "      <td>0.460674</td>\n",
       "      <td>0.45</td>\n",
       "      <td>0.000000</td>\n",
       "      <td>0.000000</td>\n",
       "    </tr>\n",
       "  </tbody>\n",
       "</table>\n",
       "</div>"
      ],
      "text/plain": [
       "                                 acc_train  acc_val  f1_train    f1_val\n",
       "classifier                                                             \n",
       "Quadratic Discriminant Analysis   1.000000     0.70  1.000000  0.769231\n",
       "Naive Bayes                       0.662921     0.65  0.693878  0.740741\n",
       "Nearest Neighbors                 0.679775     0.65  0.713568  0.740741\n",
       "RBF SVM                           0.758427     0.60  0.777202  0.692308\n",
       "Random Forest                     0.780899     0.60  0.795812  0.692308\n",
       "Linear SVM                        0.691011     0.55  0.715026  0.640000\n",
       "Logistic Regression               0.668539     0.55  0.703518  0.640000\n",
       "AdaBoost                          0.966292     0.55  0.969388  0.608696\n",
       "Decision Tree                     0.741573     0.50  0.726190  0.545455\n",
       "Polynomial SVM                    0.949438     0.40  0.953846  0.500000\n",
       "Sigmoid SVM                       0.460674     0.45  0.000000  0.000000"
      ]
     },
     "metadata": {},
     "output_type": "display_data"
    },
    {
     "name": "stdout",
     "output_type": "stream",
     "text": [
      "subgroup:  claudin-low\n",
      "pkl file does not exist\n",
      "subgroup:  Basal\n",
      "pkl file does not exist\n",
      "subgroup:  Normal\n",
      "pkl file does not exist\n",
      "subgroup:  NC\n",
      "pkl file does not exist\n"
     ]
    }
   ],
   "source": [
    "def validate_models(\n",
    "    file_path: str = \".\",\n",
    "    file_name: str = \"sample\",\n",
    "):\n",
    "    try:\n",
    "        list_train, list_val, _, _ = functions.read_preprocessed_df(\n",
    "            file_path, file_name\n",
    "        )\n",
    "    except:\n",
    "        return\n",
    "    X_train, y_train = list_train[0], list_train[1].map(lambda x: int(x))\n",
    "    X_val, y_val = list_val[0], list_val[1].map(lambda x: int(x))\n",
    "\n",
    "    # accuracyの表示\n",
    "    print(\"accuracy: \", (y_train == 1).sum() / y_train.shape[0])\n",
    "    print(\"使用特徴量：\", X_train.columns)\n",
    "    print(\"学習サンプルサイズ：\", X_train.shape)\n",
    "    display(\n",
    "        functions.compare_bcms(\n",
    "            X_train,\n",
    "            y_train,\n",
    "            X_val,\n",
    "            y_val,\n",
    "        )\n",
    "    )\n",
    "\n",
    "\n",
    "# サブグループ削除（一時的に）\n",
    "subgroup_columns = [\n",
    "    \"CLAUDIN_SUBTYPE\",\n",
    "    # \"NPI_CAT\",\n",
    "    # \"TUMOR_CAT\",\n",
    "    # \"LYMPH_CAT\",\n",
    "]\n",
    "\n",
    "methods = [\n",
    "    \"variance_threshold\",\n",
    "    # \"mrmr\"\n",
    "]\n",
    "\n",
    "for method in methods:  # 特徴選択手法の適用\n",
    "    file_path = \"./{0}/{1}/{2}\".format(\n",
    "        config.INTERIM_PREPROCESSED_RECURRENCE_CROSS_DIR,\n",
    "        \"ALL_DATA\",\n",
    "        method,\n",
    "    )\n",
    "    print(file_path)\n",
    "    print(\"=====\" * 10)\n",
    "    print(\"method: \", method)\n",
    "    validate_models(file_path=file_path, file_name=\"all_data\")\n",
    "    for subgroup_column in subgroup_columns:  # 各サブグループへの適用\n",
    "        print(\"-----\" * 10)\n",
    "        print(\"subgroup column: \", subgroup_column)\n",
    "        for subgroup in df_recurrenced[subgroup_column].unique():  # サブグループ毎への適用\n",
    "            print(\"subgroup: \", subgroup)\n",
    "            file_path = \"./{0}/{1}/{2}\".format(\n",
    "                config.INTERIM_PREPROCESSED_RECURRENCE_CROSS_DIR,\n",
    "                subgroup_column,\n",
    "                method,\n",
    "            )\n",
    "            validate_models(file_path=file_path, file_name=subgroup)"
   ]
  },
  {
   "cell_type": "code",
   "execution_count": null,
   "id": "94a9cd5d-4840-4820-abba-0b0cdd57509b",
   "metadata": {},
   "outputs": [],
   "source": [
    "def show_val_scores(\n",
    "    file_path: str = \".\",\n",
    "    file_name: str = \"sample\",\n",
    "    clf: callable = RandomForestClassifier(\n",
    "        min_samples_split=20,\n",
    "        min_samples_leaf=15,\n",
    "        random_state=SEED,\n",
    "        class_weight=\"balanced\",\n",
    "    ),\n",
    "    sampling: str = None,\n",
    "):\n",
    "    try:\n",
    "        list_train, list_val, _, _ = functions.read_preprocessed_df(\n",
    "            file_path, file_name\n",
    "        )\n",
    "    except:\n",
    "        return\n",
    "    X_train, y_train = list_train[0], list_train[1].map(lambda x: int(x))\n",
    "    X_val, y_val = list_val[0], list_val[1].map(lambda x: int(x))\n",
    "\n",
    "    # accuracyの表示\n",
    "    print(\"-----\" * 10)\n",
    "    print(\"accuracy: \", (y_train == 1).sum() / y_train.shape[0])\n",
    "    print(\"学習サンプルサイズ：\", X_train.shape)\n",
    "    print(\"予測モデル：\", clf.__class__.__name__)\n",
    "    if sampling == \"sm\":\n",
    "        sm = SMOTE(random_state=SEED)\n",
    "        X_train, y_train = sm.fit_resample(X_train, y_train)\n",
    "    clf.fit(X_train, y_train)\n",
    "    y_pred = clf.predict(X_val)\n",
    "    functions.show_scores(y_val, y_pred)\n",
    "    functions.plot_confusion_matrix(y_val, y_pred)"
   ]
  },
  {
   "cell_type": "code",
   "execution_count": 7,
   "id": "6a57206a-34e3-4294-897f-c795d7601044",
   "metadata": {},
   "outputs": [
    {
     "name": "stdout",
     "output_type": "stream",
     "text": [
      "==================================================\n",
      "method:  variance_threshold\n",
      "--------------------------------------------------\n",
      "subgroup column:  CLAUDIN_SUBTYPE\n",
      "..................................................\n",
      "subgroup:  LumB\n",
      "--------------------------------------------------\n",
      "accuracy:  0.39325842696629215\n",
      "学習サンプルサイズ： (178, 17)\n",
      "予測モデル： LogisticRegression\n"
     ]
    },
    {
     "data": {
      "text/plain": [
       "accuracy     0.500000\n",
       "precision    0.333333\n",
       "recall       0.250000\n",
       "f1 score     0.285714\n",
       "dtype: float64"
      ]
     },
     "metadata": {},
     "output_type": "display_data"
    },
    {
     "name": "stdout",
     "output_type": "stream",
     "text": [
      "--------------------------------------------------\n",
      "accuracy:  0.39325842696629215\n",
      "学習サンプルサイズ： (178, 17)\n",
      "予測モデル： KNeighborsClassifier\n"
     ]
    },
    {
     "data": {
      "text/plain": [
       "accuracy     0.45\n",
       "precision    0.00\n",
       "recall       0.00\n",
       "f1 score     0.00\n",
       "dtype: float64"
      ]
     },
     "metadata": {},
     "output_type": "display_data"
    },
    {
     "name": "stdout",
     "output_type": "stream",
     "text": [
      "--------------------------------------------------\n",
      "accuracy:  0.39325842696629215\n",
      "学習サンプルサイズ： (178, 17)\n",
      "予測モデル： SVC\n"
     ]
    },
    {
     "data": {
      "text/plain": [
       "accuracy     0.40\n",
       "precision    0.25\n",
       "recall       0.25\n",
       "f1 score     0.25\n",
       "dtype: float64"
      ]
     },
     "metadata": {},
     "output_type": "display_data"
    },
    {
     "name": "stdout",
     "output_type": "stream",
     "text": [
      "--------------------------------------------------\n",
      "accuracy:  0.39325842696629215\n",
      "学習サンプルサイズ： (178, 17)\n",
      "予測モデル： RandomForestClassifier\n"
     ]
    },
    {
     "data": {
      "text/plain": [
       "accuracy     0.40\n",
       "precision    0.25\n",
       "recall       0.25\n",
       "f1 score     0.25\n",
       "dtype: float64"
      ]
     },
     "metadata": {},
     "output_type": "display_data"
    },
    {
     "name": "stdout",
     "output_type": "stream",
     "text": [
      "--------------------------------------------------\n",
      "accuracy:  0.39325842696629215\n",
      "学習サンプルサイズ： (178, 17)\n",
      "予測モデル： LGBMClassifier\n"
     ]
    },
    {
     "data": {
      "text/plain": [
       "accuracy     0.550000\n",
       "precision    0.428571\n",
       "recall       0.375000\n",
       "f1 score     0.400000\n",
       "dtype: float64"
      ]
     },
     "metadata": {},
     "output_type": "display_data"
    },
    {
     "name": "stdout",
     "output_type": "stream",
     "text": [
      "..................................................\n",
      "subgroup:  Her2\n",
      "--------------------------------------------------\n",
      "accuracy:  0.25555555555555554\n",
      "学習サンプルサイズ： (90, 9)\n",
      "予測モデル： LogisticRegression\n"
     ]
    },
    {
     "data": {
      "text/plain": [
       "accuracy     0.727273\n",
       "precision    0.000000\n",
       "recall       0.000000\n",
       "f1 score     0.000000\n",
       "dtype: float64"
      ]
     },
     "metadata": {},
     "output_type": "display_data"
    },
    {
     "name": "stdout",
     "output_type": "stream",
     "text": [
      "--------------------------------------------------\n",
      "accuracy:  0.25555555555555554\n",
      "学習サンプルサイズ： (90, 9)\n",
      "予測モデル： KNeighborsClassifier\n"
     ]
    },
    {
     "data": {
      "text/plain": [
       "accuracy     0.727273\n",
       "precision    0.500000\n",
       "recall       0.666667\n",
       "f1 score     0.571429\n",
       "dtype: float64"
      ]
     },
     "metadata": {},
     "output_type": "display_data"
    },
    {
     "name": "stdout",
     "output_type": "stream",
     "text": [
      "--------------------------------------------------\n",
      "accuracy:  0.25555555555555554\n",
      "学習サンプルサイズ： (90, 9)\n",
      "予測モデル： SVC\n"
     ]
    },
    {
     "data": {
      "text/plain": [
       "accuracy     0.636364\n",
       "precision    0.400000\n",
       "recall       0.666667\n",
       "f1 score     0.500000\n",
       "dtype: float64"
      ]
     },
     "metadata": {},
     "output_type": "display_data"
    },
    {
     "name": "stdout",
     "output_type": "stream",
     "text": [
      "--------------------------------------------------\n",
      "accuracy:  0.25555555555555554\n",
      "学習サンプルサイズ： (90, 9)\n",
      "予測モデル： RandomForestClassifier\n"
     ]
    },
    {
     "data": {
      "text/plain": [
       "accuracy     0.545455\n",
       "precision    0.000000\n",
       "recall       0.000000\n",
       "f1 score     0.000000\n",
       "dtype: float64"
      ]
     },
     "metadata": {},
     "output_type": "display_data"
    },
    {
     "name": "stdout",
     "output_type": "stream",
     "text": [
      "--------------------------------------------------\n",
      "accuracy:  0.25555555555555554\n",
      "学習サンプルサイズ： (90, 9)\n",
      "予測モデル： LGBMClassifier\n"
     ]
    },
    {
     "data": {
      "text/plain": [
       "accuracy     0.818182\n",
       "precision    0.666667\n",
       "recall       0.666667\n",
       "f1 score     0.666667\n",
       "dtype: float64"
      ]
     },
     "metadata": {},
     "output_type": "display_data"
    },
    {
     "name": "stdout",
     "output_type": "stream",
     "text": [
      "..................................................\n",
      "subgroup:  LumA\n",
      "--------------------------------------------------\n",
      "accuracy:  0.5393258426966292\n",
      "学習サンプルサイズ： (178, 17)\n",
      "予測モデル： LogisticRegression\n"
     ]
    },
    {
     "data": {
      "text/plain": [
       "accuracy     0.550000\n",
       "precision    0.571429\n",
       "recall       0.727273\n",
       "f1 score     0.640000\n",
       "dtype: float64"
      ]
     },
     "metadata": {},
     "output_type": "display_data"
    },
    {
     "name": "stdout",
     "output_type": "stream",
     "text": [
      "--------------------------------------------------\n",
      "accuracy:  0.5393258426966292\n",
      "学習サンプルサイズ： (178, 17)\n",
      "予測モデル： KNeighborsClassifier\n"
     ]
    },
    {
     "data": {
      "text/plain": [
       "accuracy     0.650000\n",
       "precision    0.625000\n",
       "recall       0.909091\n",
       "f1 score     0.740741\n",
       "dtype: float64"
      ]
     },
     "metadata": {},
     "output_type": "display_data"
    },
    {
     "name": "stdout",
     "output_type": "stream",
     "text": [
      "--------------------------------------------------\n",
      "accuracy:  0.5393258426966292\n",
      "学習サンプルサイズ： (178, 17)\n",
      "予測モデル： SVC\n"
     ]
    },
    {
     "data": {
      "text/plain": [
       "accuracy     0.600000\n",
       "precision    0.600000\n",
       "recall       0.818182\n",
       "f1 score     0.692308\n",
       "dtype: float64"
      ]
     },
     "metadata": {},
     "output_type": "display_data"
    },
    {
     "name": "stdout",
     "output_type": "stream",
     "text": [
      "--------------------------------------------------\n",
      "accuracy:  0.5393258426966292\n",
      "学習サンプルサイズ： (178, 17)\n",
      "予測モデル： RandomForestClassifier\n"
     ]
    },
    {
     "data": {
      "text/plain": [
       "accuracy     0.600000\n",
       "precision    0.600000\n",
       "recall       0.818182\n",
       "f1 score     0.692308\n",
       "dtype: float64"
      ]
     },
     "metadata": {},
     "output_type": "display_data"
    },
    {
     "name": "stdout",
     "output_type": "stream",
     "text": [
      "--------------------------------------------------\n",
      "accuracy:  0.5393258426966292\n",
      "学習サンプルサイズ： (178, 17)\n",
      "予測モデル： LGBMClassifier\n"
     ]
    },
    {
     "data": {
      "text/plain": [
       "accuracy     0.550000\n",
       "precision    0.600000\n",
       "recall       0.545455\n",
       "f1 score     0.571429\n",
       "dtype: float64"
      ]
     },
     "metadata": {},
     "output_type": "display_data"
    },
    {
     "name": "stdout",
     "output_type": "stream",
     "text": [
      "..................................................\n",
      "subgroup:  claudin-low\n",
      "pkl file does not exist\n",
      "pkl file does not exist\n",
      "pkl file does not exist\n",
      "pkl file does not exist\n",
      "pkl file does not exist\n",
      "..................................................\n",
      "subgroup:  Basal\n",
      "pkl file does not exist\n",
      "pkl file does not exist\n",
      "pkl file does not exist\n",
      "pkl file does not exist\n",
      "pkl file does not exist\n",
      "..................................................\n",
      "subgroup:  Normal\n",
      "pkl file does not exist\n",
      "pkl file does not exist\n",
      "pkl file does not exist\n",
      "pkl file does not exist\n",
      "pkl file does not exist\n",
      "..................................................\n",
      "subgroup:  NC\n",
      "pkl file does not exist\n",
      "pkl file does not exist\n",
      "pkl file does not exist\n",
      "pkl file does not exist\n",
      "pkl file does not exist\n"
     ]
    },
    {
     "data": {
      "image/png": "[encoded data removed]",
      "text/plain": [
       "<Figure size 432x288 with 2 Axes>"
      ]
     },
     "metadata": {
      "needs_background": "light"
     },
     "output_type": "display_data"
    },
    {
     "data": {
      "image/png": "[encoded data removed]",
      "text/plain": [
       "<Figure size 432x288 with 2 Axes>"
      ]
     },
     "metadata": {
      "needs_background": "light"
     },
     "output_type": "display_data"
    },
    {
     "data": {
      "image/png": "[encoded data removed]",
      "text/plain": [
       "<Figure size 432x288 with 2 Axes>"
      ]
     },
     "metadata": {
      "needs_background": "light"
     },
     "output_type": "display_data"
    },
    {
     "data": {
      "image/png": "[encoded data removed]",
      "text/plain": [
       "<Figure size 432x288 with 2 Axes>"
      ]
     },
     "metadata": {
      "needs_background": "light"
     },
     "output_type": "display_data"
    },
    {
     "data": {
      "image/png": "[encoded data removed]",
      "text/plain": [
       "<Figure size 432x288 with 2 Axes>"
      ]
     },
     "metadata": {
      "needs_background": "light"
     },
     "output_type": "display_data"
    },
    {
     "data": {
      "image/png": "[encoded data removed]",
      "text/plain": [
       "<Figure size 432x288 with 2 Axes>"
      ]
     },
     "metadata": {
      "needs_background": "light"
     },
     "output_type": "display_data"
    },
    {
     "data": {
      "image/png": "[encoded data removed]",
      "text/plain": [
       "<Figure size 432x288 with 2 Axes>"
      ]
     },
     "metadata": {
      "needs_background": "light"
     },
     "output_type": "display_data"
    },
    {
     "data": {
      "image/png": "[encoded data removed]",
      "text/plain": [
       "<Figure size 432x288 with 2 Axes>"
      ]
     },
     "metadata": {
      "needs_background": "light"
     },
     "output_type": "display_data"
    },
    {
     "data": {
      "image/png": "[encoded data removed]",
      "text/plain": [
       "<Figure size 432x288 with 2 Axes>"
      ]
     },
     "metadata": {
      "needs_background": "light"
     },
     "output_type": "display_data"
    },
    {
     "data": {
      "image/png": "[encoded data removed]",
      "text/plain": [
       "<Figure size 432x288 with 2 Axes>"
      ]
     },
     "metadata": {
      "needs_background": "light"
     },
     "output_type": "display_data"
    },
    {
     "data": {
      "image/png": "[encoded data removed]",
      "text/plain": [
       "<Figure size 432x288 with 2 Axes>"
      ]
     },
     "metadata": {
      "needs_background": "light"
     },
     "output_type": "display_data"
    },
    {
     "data": {
      "image/png": "[encoded data removed]",
      "text/plain": [
       "<Figure size 432x288 with 2 Axes>"
      ]
     },
     "metadata": {
      "needs_background": "light"
     },
     "output_type": "display_data"
    },
    {
     "data": {
      "image/png": "[encoded data removed]",
      "text/plain": [
       "<Figure size 432x288 with 2 Axes>"
      ]
     },
     "metadata": {
      "needs_background": "light"
     },
     "output_type": "display_data"
    },
    {
     "data": {
      "image/png": "[encoded data removed]",
      "text/plain": [
       "<Figure size 432x288 with 2 Axes>"
      ]
     },
     "metadata": {
      "needs_background": "light"
     },
     "output_type": "display_data"
    },
    {
     "data": {
      "image/png": "[encoded data removed]",
      "text/plain": [
       "<Figure size 432x288 with 2 Axes>"
      ]
     },
     "metadata": {
      "needs_background": "light"
     },
     "output_type": "display_data"
    }
   ],
   "source": [
    "# サブグループ削除（一時的に）\n",
    "subgroup_columns = [\n",
    "    \"CLAUDIN_SUBTYPE\",\n",
    "    #    \"NPI_CAT\",\n",
    "    #    \"TUMOR_CAT\",\n",
    "    #    \"LYMPH_CAT\",\n",
    "]\n",
    "\n",
    "methods = [\n",
    "    \"variance_threshold\",\n",
    "    #       \"mrmr\"\n",
    "]\n",
    "\n",
    "\n",
    "for method in methods:  # 特徴選択手法の適用\n",
    "    print(\"=====\" * 10)\n",
    "    print(\"method: \", method)\n",
    "    for subgroup_column in subgroup_columns:  # 各サブグループへの適用\n",
    "        print(\"-----\" * 10)\n",
    "        print(\"subgroup column: \", subgroup_column)\n",
    "        for subgroup in df_recurrenced[subgroup_column].unique():  # サブグループ毎への適用\n",
    "            print(\".....\" * 10)\n",
    "            print(\"subgroup: \", subgroup)\n",
    "            file_path = \"./{0}/{1}/{2}\".format(\n",
    "                config.INTERIM_PREPROCESSED_RECURRENCE_CROSS_DIR,\n",
    "                subgroup_column,\n",
    "                method,\n",
    "            )\n",
    "            show_val_scores(\n",
    "                file_path=file_path,\n",
    "                file_name=subgroup,\n",
    "                clf=LogisticRegression(random_state=SEED),\n",
    "            )\n",
    "            show_val_scores(\n",
    "                file_path=file_path,\n",
    "                file_name=subgroup,\n",
    "                clf=KNeighborsClassifier(),\n",
    "            )\n",
    "            params = {\n",
    "                \"class_weight\": \"balanced\",\n",
    "                \"random_state\": SEED,\n",
    "            }\n",
    "            show_val_scores(\n",
    "                file_path=file_path,\n",
    "                file_name=subgroup,\n",
    "                clf=SVC(**params),\n",
    "            )\n",
    "            params = {\n",
    "                \"min_samples_split\": 20,\n",
    "                \"min_samples_leaf\": 15,\n",
    "                \"random_state\": SEED,\n",
    "                \"class_weight\": \"balanced\",\n",
    "            }\n",
    "            show_val_scores(\n",
    "                file_path=file_path,\n",
    "                file_name=subgroup,\n",
    "                clf=RandomForestClassifier(**params),\n",
    "            )\n",
    "            params = {\n",
    "                \"max_bin\": 100,\n",
    "                \"num_leaves\": 30,\n",
    "                \"n_estimators\": 800,\n",
    "                \"class_weight\": \"balanced\",\n",
    "                \"random_state\": SEED,\n",
    "            }\n",
    "            show_val_scores(\n",
    "                file_path=file_path,\n",
    "                file_name=subgroup,\n",
    "                clf=LGBMClassifier(**params),\n",
    "            )"
   ]
  },
  {
   "cell_type": "code",
   "execution_count": 6,
   "id": "2a7cb2fe-af07-4396-9e4b-9877d10f1cda",
   "metadata": {},
   "outputs": [
    {
     "name": "stdout",
     "output_type": "stream",
     "text": [
      "==================================================\n",
      "method:  variance_threshold\n",
      "--------------------------------------------------\n",
      "subgroup column:  CLAUDIN_SUBTYPE\n",
      "..................................................\n",
      "subgroup:  LumB\n",
      "--------------------------------------------------\n",
      "accuracy:  0.39325842696629215\n",
      "学習サンプルサイズ： (178, 17)\n",
      "予測モデル： LogisticRegression\n"
     ]
    },
    {
     "data": {
      "text/plain": [
       "accuracy     0.500000\n",
       "precision    0.400000\n",
       "recall       0.500000\n",
       "f1 score     0.444444\n",
       "dtype: float64"
      ]
     },
     "metadata": {},
     "output_type": "display_data"
    },
    {
     "name": "stdout",
     "output_type": "stream",
     "text": [
      "--------------------------------------------------\n",
      "accuracy:  0.39325842696629215\n",
      "学習サンプルサイズ： (178, 17)\n",
      "予測モデル： KNeighborsClassifier\n"
     ]
    },
    {
     "data": {
      "text/plain": [
       "accuracy     0.450000\n",
       "precision    0.363636\n",
       "recall       0.500000\n",
       "f1 score     0.421053\n",
       "dtype: float64"
      ]
     },
     "metadata": {},
     "output_type": "display_data"
    },
    {
     "name": "stdout",
     "output_type": "stream",
     "text": [
      "--------------------------------------------------\n",
      "accuracy:  0.39325842696629215\n",
      "学習サンプルサイズ： (178, 17)\n",
      "予測モデル： SVC\n"
     ]
    },
    {
     "data": {
      "text/plain": [
       "accuracy     0.550000\n",
       "precision    0.400000\n",
       "recall       0.250000\n",
       "f1 score     0.307692\n",
       "dtype: float64"
      ]
     },
     "metadata": {},
     "output_type": "display_data"
    },
    {
     "name": "stdout",
     "output_type": "stream",
     "text": [
      "--------------------------------------------------\n",
      "accuracy:  0.39325842696629215\n",
      "学習サンプルサイズ： (178, 17)\n",
      "予測モデル： RandomForestClassifier\n"
     ]
    },
    {
     "data": {
      "text/plain": [
       "accuracy     0.500\n",
       "precision    0.375\n",
       "recall       0.375\n",
       "f1 score     0.375\n",
       "dtype: float64"
      ]
     },
     "metadata": {},
     "output_type": "display_data"
    },
    {
     "name": "stdout",
     "output_type": "stream",
     "text": [
      "--------------------------------------------------\n",
      "accuracy:  0.39325842696629215\n",
      "学習サンプルサイズ： (178, 17)\n",
      "予測モデル： LGBMClassifier\n"
     ]
    },
    {
     "data": {
      "text/plain": [
       "accuracy     0.550000\n",
       "precision    0.428571\n",
       "recall       0.375000\n",
       "f1 score     0.400000\n",
       "dtype: float64"
      ]
     },
     "metadata": {},
     "output_type": "display_data"
    },
    {
     "name": "stdout",
     "output_type": "stream",
     "text": [
      "..................................................\n",
      "subgroup:  Her2\n",
      "--------------------------------------------------\n",
      "accuracy:  0.25555555555555554\n",
      "学習サンプルサイズ： (90, 9)\n",
      "予測モデル： LogisticRegression\n"
     ]
    },
    {
     "data": {
      "text/plain": [
       "accuracy     0.636364\n",
       "precision    0.400000\n",
       "recall       0.666667\n",
       "f1 score     0.500000\n",
       "dtype: float64"
      ]
     },
     "metadata": {},
     "output_type": "display_data"
    },
    {
     "name": "stdout",
     "output_type": "stream",
     "text": [
      "--------------------------------------------------\n",
      "accuracy:  0.25555555555555554\n",
      "学習サンプルサイズ： (90, 9)\n",
      "予測モデル： KNeighborsClassifier\n"
     ]
    },
    {
     "data": {
      "text/plain": [
       "accuracy     0.545455\n",
       "precision    0.333333\n",
       "recall       0.666667\n",
       "f1 score     0.444444\n",
       "dtype: float64"
      ]
     },
     "metadata": {},
     "output_type": "display_data"
    },
    {
     "name": "stdout",
     "output_type": "stream",
     "text": [
      "--------------------------------------------------\n",
      "accuracy:  0.25555555555555554\n",
      "学習サンプルサイズ： (90, 9)\n",
      "予測モデル： SVC\n"
     ]
    },
    {
     "data": {
      "text/plain": [
       "accuracy     0.636364\n",
       "precision    0.400000\n",
       "recall       0.666667\n",
       "f1 score     0.500000\n",
       "dtype: float64"
      ]
     },
     "metadata": {},
     "output_type": "display_data"
    },
    {
     "name": "stdout",
     "output_type": "stream",
     "text": [
      "--------------------------------------------------\n",
      "accuracy:  0.25555555555555554\n",
      "学習サンプルサイズ： (90, 9)\n",
      "予測モデル： RandomForestClassifier\n"
     ]
    },
    {
     "data": {
      "text/plain": [
       "accuracy     0.727273\n",
       "precision    0.500000\n",
       "recall       0.666667\n",
       "f1 score     0.571429\n",
       "dtype: float64"
      ]
     },
     "metadata": {},
     "output_type": "display_data"
    },
    {
     "name": "stdout",
     "output_type": "stream",
     "text": [
      "--------------------------------------------------\n",
      "accuracy:  0.25555555555555554\n",
      "学習サンプルサイズ： (90, 9)\n",
      "予測モデル： LGBMClassifier\n"
     ]
    },
    {
     "data": {
      "text/plain": [
       "accuracy     0.727273\n",
       "precision    0.500000\n",
       "recall       0.666667\n",
       "f1 score     0.571429\n",
       "dtype: float64"
      ]
     },
     "metadata": {},
     "output_type": "display_data"
    },
    {
     "name": "stdout",
     "output_type": "stream",
     "text": [
      "..................................................\n",
      "subgroup:  LumA\n",
      "--------------------------------------------------\n",
      "accuracy:  0.5393258426966292\n",
      "学習サンプルサイズ： (178, 17)\n",
      "予測モデル： LogisticRegression\n"
     ]
    },
    {
     "data": {
      "text/plain": [
       "accuracy     0.500000\n",
       "precision    0.538462\n",
       "recall       0.636364\n",
       "f1 score     0.583333\n",
       "dtype: float64"
      ]
     },
     "metadata": {},
     "output_type": "display_data"
    },
    {
     "name": "stdout",
     "output_type": "stream",
     "text": [
      "--------------------------------------------------\n",
      "accuracy:  0.5393258426966292\n",
      "学習サンプルサイズ： (178, 17)\n",
      "予測モデル： KNeighborsClassifier\n"
     ]
    },
    {
     "data": {
      "text/plain": [
       "accuracy     0.600000\n",
       "precision    0.600000\n",
       "recall       0.818182\n",
       "f1 score     0.692308\n",
       "dtype: float64"
      ]
     },
     "metadata": {},
     "output_type": "display_data"
    },
    {
     "name": "stdout",
     "output_type": "stream",
     "text": [
      "--------------------------------------------------\n",
      "accuracy:  0.5393258426966292\n",
      "学習サンプルサイズ： (178, 17)\n",
      "予測モデル： SVC\n"
     ]
    },
    {
     "data": {
      "text/plain": [
       "accuracy     0.600000\n",
       "precision    0.600000\n",
       "recall       0.818182\n",
       "f1 score     0.692308\n",
       "dtype: float64"
      ]
     },
     "metadata": {},
     "output_type": "display_data"
    },
    {
     "name": "stdout",
     "output_type": "stream",
     "text": [
      "--------------------------------------------------\n",
      "accuracy:  0.5393258426966292\n",
      "学習サンプルサイズ： (178, 17)\n",
      "予測モデル： RandomForestClassifier\n"
     ]
    },
    {
     "data": {
      "text/plain": [
       "accuracy     0.600000\n",
       "precision    0.615385\n",
       "recall       0.727273\n",
       "f1 score     0.666667\n",
       "dtype: float64"
      ]
     },
     "metadata": {},
     "output_type": "display_data"
    },
    {
     "name": "stdout",
     "output_type": "stream",
     "text": [
      "--------------------------------------------------\n",
      "accuracy:  0.5393258426966292\n",
      "学習サンプルサイズ： (178, 17)\n",
      "予測モデル： LGBMClassifier\n"
     ]
    },
    {
     "data": {
      "text/plain": [
       "accuracy     0.500000\n",
       "precision    0.545455\n",
       "recall       0.545455\n",
       "f1 score     0.545455\n",
       "dtype: float64"
      ]
     },
     "metadata": {},
     "output_type": "display_data"
    },
    {
     "name": "stdout",
     "output_type": "stream",
     "text": [
      "..................................................\n",
      "subgroup:  claudin-low\n",
      "pkl file does not exist\n",
      "pkl file does not exist\n",
      "pkl file does not exist\n",
      "pkl file does not exist\n",
      "pkl file does not exist\n",
      "..................................................\n",
      "subgroup:  Basal\n",
      "pkl file does not exist\n",
      "pkl file does not exist\n",
      "pkl file does not exist\n",
      "pkl file does not exist\n",
      "pkl file does not exist\n",
      "..................................................\n",
      "subgroup:  Normal\n",
      "pkl file does not exist\n",
      "pkl file does not exist\n",
      "pkl file does not exist\n",
      "pkl file does not exist\n",
      "pkl file does not exist\n",
      "..................................................\n",
      "subgroup:  NC\n",
      "pkl file does not exist\n",
      "pkl file does not exist\n",
      "pkl file does not exist\n",
      "pkl file does not exist\n",
      "pkl file does not exist\n"
     ]
    },
    {
     "data": {
      "image/png": "[encoded data removed]",
      "text/plain": [
       "<Figure size 432x288 with 2 Axes>"
      ]
     },
     "metadata": {
      "needs_background": "light"
     },
     "output_type": "display_data"
    },
    {
     "data": {
      "image/png": "[encoded data removed]",
      "text/plain": [
       "<Figure size 432x288 with 2 Axes>"
      ]
     },
     "metadata": {
      "needs_background": "light"
     },
     "output_type": "display_data"
    },
    {
     "data": {
      "image/png": "[encoded data removed]",
      "text/plain": [
       "<Figure size 432x288 with 2 Axes>"
      ]
     },
     "metadata": {
      "needs_background": "light"
     },
     "output_type": "display_data"
    },
    {
     "data": {
      "image/png": "[encoded data removed]",
      "text/plain": [
       "<Figure size 432x288 with 2 Axes>"
      ]
     },
     "metadata": {
      "needs_background": "light"
     },
     "output_type": "display_data"
    },
    {
     "data": {
      "image/png": "[encoded data removed]",
      "text/plain": [
       "<Figure size 432x288 with 2 Axes>"
      ]
     },
     "metadata": {
      "needs_background": "light"
     },
     "output_type": "display_data"
    },
    {
     "data": {
      "image/png": "[encoded data removed]",
      "text/plain": [
       "<Figure size 432x288 with 2 Axes>"
      ]
     },
     "metadata": {
      "needs_background": "light"
     },
     "output_type": "display_data"
    },
    {
     "data": {
      "image/png": "[encoded data removed]",
      "text/plain": [
       "<Figure size 432x288 with 2 Axes>"
      ]
     },
     "metadata": {
      "needs_background": "light"
     },
     "output_type": "display_data"
    },
    {
     "data": {
      "image/png": "[encoded data removed]",
      "text/plain": [
       "<Figure size 432x288 with 2 Axes>"
      ]
     },
     "metadata": {
      "needs_background": "light"
     },
     "output_type": "display_data"
    },
    {
     "data": {
      "image/png": "[encoded data removed]",
      "text/plain": [
       "<Figure size 432x288 with 2 Axes>"
      ]
     },
     "metadata": {
      "needs_background": "light"
     },
     "output_type": "display_data"
    },
    {
     "data": {
      "image/png": "[encoded data removed]",
      "text/plain": [
       "<Figure size 432x288 with 2 Axes>"
      ]
     },
     "metadata": {
      "needs_background": "light"
     },
     "output_type": "display_data"
    },
    {
     "data": {
      "image/png": "[encoded data removed]",
      "text/plain": [
       "<Figure size 432x288 with 2 Axes>"
      ]
     },
     "metadata": {
      "needs_background": "light"
     },
     "output_type": "display_data"
    },
    {
     "data": {
      "image/png": "[encoded data removed]",
      "text/plain": [
       "<Figure size 432x288 with 2 Axes>"
      ]
     },
     "metadata": {
      "needs_background": "light"
     },
     "output_type": "display_data"
    },
    {
     "data": {
      "image/png": "[encoded data removed]",
      "text/plain": [
       "<Figure size 432x288 with 2 Axes>"
      ]
     },
     "metadata": {
      "needs_background": "light"
     },
     "output_type": "display_data"
    },
    {
     "data": {
      "image/png": "[encoded data removed]",
      "text/plain": [
       "<Figure size 432x288 with 2 Axes>"
      ]
     },
     "metadata": {
      "needs_background": "light"
     },
     "output_type": "display_data"
    },
    {
     "data": {
      "image/png": "[encoded data removed]",
      "text/plain": [
       "<Figure size 432x288 with 2 Axes>"
      ]
     },
     "metadata": {
      "needs_background": "light"
     },
     "output_type": "display_data"
    }
   ],
   "source": [
    "# サブグループ削除（一時的に）\n",
    "subgroup_columns = [\n",
    "    \"CLAUDIN_SUBTYPE\",\n",
    "    #    \"NPI_CAT\",\n",
    "    #    \"TUMOR_CAT\",\n",
    "    #    \"LYMPH_CAT\",\n",
    "]\n",
    "\n",
    "methods = [\n",
    "    \"variance_threshold\",\n",
    "    #       \"mrmr\"\n",
    "]\n",
    "\n",
    "\n",
    "for method in methods:  # 特徴選択手法の適用\n",
    "    print(\"=====\" * 10)\n",
    "    print(\"method: \", method)\n",
    "    for subgroup_column in subgroup_columns:  # 各サブグループへの適用\n",
    "        print(\"-----\" * 10)\n",
    "        print(\"subgroup column: \", subgroup_column)\n",
    "        for subgroup in df_recurrenced[subgroup_column].unique():  # サブグループ毎への適用\n",
    "            print(\".....\" * 10)\n",
    "            print(\"subgroup: \", subgroup)\n",
    "            file_path = \"./{0}/{1}/{2}\".format(\n",
    "                config.INTERIM_PREPROCESSED_RECURRENCE_CROSS_DIR,\n",
    "                subgroup_column,\n",
    "                method,\n",
    "            )\n",
    "            show_val_scores(\n",
    "                file_path=file_path,\n",
    "                file_name=subgroup,\n",
    "                clf=LogisticRegression(random_state=SEED),\n",
    "                sampling=\"sm\",\n",
    "            )\n",
    "            show_val_scores(\n",
    "                file_path=file_path,\n",
    "                file_name=subgroup,\n",
    "                clf=KNeighborsClassifier(),\n",
    "                sampling=\"sm\",\n",
    "            )\n",
    "            params = {\n",
    "                \"class_weight\": \"balanced\",\n",
    "                \"random_state\": SEED,\n",
    "            }\n",
    "            show_val_scores(\n",
    "                file_path=file_path,\n",
    "                file_name=subgroup,\n",
    "                clf=SVC(**params),\n",
    "                sampling=\"sm\",\n",
    "            )\n",
    "            params = {\n",
    "                \"min_samples_split\": 20,\n",
    "                \"min_samples_leaf\": 15,\n",
    "                \"random_state\": SEED,\n",
    "                \"class_weight\": \"balanced\",\n",
    "            }\n",
    "            show_val_scores(\n",
    "                file_path=file_path,\n",
    "                file_name=subgroup,\n",
    "                clf=RandomForestClassifier(**params),\n",
    "                sampling=\"sm\",\n",
    "            )\n",
    "            params = {\n",
    "                \"max_bin\": 100,\n",
    "                \"num_leaves\": 30,\n",
    "                \"n_estimators\": 800,\n",
    "                \"class_weight\": \"balanced\",\n",
    "                \"random_state\": SEED,\n",
    "            }\n",
    "            show_val_scores(\n",
    "                file_path=file_path,\n",
    "                file_name=subgroup,\n",
    "                clf=LGBMClassifier(**params),\n",
    "                sampling=\"sm\",\n",
    "            )"
   ]
  },
  {
   "cell_type": "markdown",
   "id": "5ea9b9de-e2d4-4751-8d19-461deb386d62",
   "metadata": {
    "tags": []
   },
   "source": [
    "## xgboost"
   ]
  },
  {
   "cell_type": "code",
   "execution_count": 5,
   "id": "056f79fb-d4f8-4da3-a2e3-79043eca9fb9",
   "metadata": {},
   "outputs": [
    {
     "name": "stdout",
     "output_type": "stream",
     "text": [
      "[05:23:04] WARNING: /tmp/abs_40obctay9q/croots/recipe/xgboost-split_1659548945886/work/src/learner.cc:1115: Starting in XGBoost 1.3.0, the default evaluation metric used with the objective 'binary:logistic' was changed from 'error' to 'logloss'. Explicitly set eval_metric if you'd like to restore the old behavior.\n"
     ]
    },
    {
     "data": {
      "text/plain": [
       "(0.6494845360824743, 0.6730769230769231)"
      ]
     },
     "execution_count": 5,
     "metadata": {},
     "output_type": "execute_result"
    }
   ],
   "source": [
    "import xgboost as xgb\n",
    "\n",
    "X_train = X_dict[config.SET_NAME_MICROARRAY[INDEX_MICROARRAY]][\"mrmr\"][\"train\"][\"X15\"]\n",
    "y_train = y_dict[config.SET_NAME_MICROARRAY[INDEX_MICROARRAY]][\"mrmr\"][\"train\"][\"y15\"]\n",
    "X_val = X_dict[config.SET_NAME_MICROARRAY[INDEX_MICROARRAY]][\"mrmr\"][\"val\"][\"X15\"]\n",
    "y_val = y_dict[config.SET_NAME_MICROARRAY[INDEX_MICROARRAY]][\"mrmr\"][\"val\"][\"y15\"]\n",
    "\n",
    "xgb_train = xgb.DMatrix(X_train, label=y_train, feature_names=X_train.columns)\n",
    "xgb_val = xgb.DMatrix(X_val, label=y_val, feature_names=X_val.columns)\n",
    "\n",
    "\n",
    "param = {\n",
    "    # 二値分類問題\n",
    "    \"objective\": \"binary:logistic\",\n",
    "}\n",
    "clf = xgb.train(param, xgb_train)\n",
    "y_pred_proba = clf.predict(xgb_val)\n",
    "y_pred = np.where(y_pred_proba > 0.5, 1, 0)\n",
    "\n",
    "accuracy_score(y_val, y_pred), f1_score(y_val, y_pred)"
   ]
  }
 ],
 "metadata": {
  "kernelspec": {
   "display_name": "Python 3 (ipykernel)",
   "language": "python",
   "name": "python3"
  },
  "language_info": {
   "codemirror_mode": {
    "name": "ipython",
    "version": 3
   },
   "file_extension": ".py",
   "mimetype": "text/x-python",
   "name": "python",
   "nbconvert_exporter": "python",
   "pygments_lexer": "ipython3",
   "version": "3.8.13"
  },
  "vscode": {
   "interpreter": {
    "hash": "916dbcbb3f70747c44a77c7bcd40155683ae19c65e1c03b4aa3499c5328201f1"
   }
  }
 },
 "nbformat": 4,
 "nbformat_minor": 5
}
