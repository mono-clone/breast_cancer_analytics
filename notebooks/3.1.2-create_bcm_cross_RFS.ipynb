{
 "cells": [
  {
   "cell_type": "markdown",
   "id": "3748b911-cac6-48d6-8c75-5d9cc365f904",
   "metadata": {
    "tags": []
   },
   "source": [
    "# 目的\n",
    "遺伝子学的分類に基づいた、再発の2値分類を実施する。  "
   ]
  },
  {
   "cell_type": "code",
   "execution_count": 6,
   "id": "bcfaefbb-89db-48c9-8b91-141cf7014df1",
   "metadata": {},
   "outputs": [],
   "source": [
    "import os\n",
    "import random\n",
    "import itertools\n",
    "\n",
    "# 基本的なライブラリ\n",
    "import numpy as np\n",
    "import pandas as pd\n",
    "import scipy as sp\n",
    "from scipy import stats\n",
    "from tqdm import tqdm\n",
    "import warnings\n",
    "\n",
    "# 描画ライブラリ\n",
    "import matplotlib.pyplot as plt\n",
    "import seaborn as sns\n",
    "from seaborn_analyzer import CustomPairPlot\n",
    "import graphviz\n",
    "import pydotplus\n",
    "from IPython.display import Image\n",
    "from IPython.display import HTML\n",
    "from six import StringIO\n",
    "from ipywidgets import interact, FloatSlider\n",
    "\n",
    "# 前処理\n",
    "from sklearn.preprocessing import StandardScaler, MinMaxScaler\n",
    "from imblearn.over_sampling import SMOTE\n",
    "\n",
    "# models\n",
    "from sklearn.linear_model import LogisticRegression  # ロジスティック回帰\n",
    "from sklearn.neighbors import KNeighborsClassifier  # K近傍法\n",
    "from sklearn.svm import SVC  # サポートベクターマシン\n",
    "from sklearn.tree import DecisionTreeClassifier, export_graphviz  # 決定木\n",
    "from sklearn.ensemble import RandomForestClassifier  # ランダムフォレスト\n",
    "from sklearn.ensemble import AdaBoostClassifier  # AdaBoost\n",
    "from sklearn.naive_bayes import GaussianNB  # ナイーブ・ベイズ\n",
    "from sklearn.decomposition import LatentDirichletAllocation as LDA  # 線形判別分析\n",
    "from sklearn.discriminant_analysis import QuadraticDiscriminantAnalysis as QDA  # 二次判別分析\n",
    "from lightgbm import LGBMClassifier\n",
    "import xgboost as xgb\n",
    "\n",
    "from sklearn.ensemble import ExtraTreesClassifier\n",
    "\n",
    "# 学習中\n",
    "from sklearn.model_selection import learning_curve, cross_validate, cross_val_score\n",
    "\n",
    "# 評価指標\n",
    "from sklearn.metrics import roc_auc_score\n",
    "from sklearn.metrics import make_scorer\n",
    "from sklearn.metrics import accuracy_score, precision_score, recall_score, f1_score\n",
    "from sklearn.metrics import confusion_matrix, ConfusionMatrixDisplay\n",
    "\n",
    "\n",
    "# local libraries\n",
    "import config\n",
    "import functions\n",
    "\n",
    "SEED = config.SEED\n",
    "functions.fix_seed(SEED)\n",
    "\n",
    "\n",
    "# 最大表示列数の指定（ここでは50列を指定）N\n",
    "pd.set_option(\"display.max_columns\", 50)\n",
    "pd.set_option(\"display.max_rows\", 50)\n",
    "\n",
    "%matplotlib inline\n",
    "\n",
    "df_recurrenced = pd.read_pickle(\n",
    "    config.INTERIM_PREPROCESSED_RECURRENCE_CROSS_DIR + \"/df_recurrenced.pkl\"\n",
    ")"
   ]
  },
  {
   "cell_type": "markdown",
   "id": "3011d730-a100-4755-97d0-a1fce8415500",
   "metadata": {
    "tags": []
   },
   "source": [
    "# データ全体での予測モデル検証"
   ]
  },
  {
   "cell_type": "markdown",
   "id": "a7a02154-d9fb-4b12-b8f3-602baff4a8dc",
   "metadata": {
    "tags": []
   },
   "source": [
    "## ベースモデルの学習結果\n",
    "\n",
    "各特徴量選択されたdfを用いて基本的な2値分類モデルを学習する"
   ]
  },
  {
   "cell_type": "code",
   "execution_count": 7,
   "id": "39b9d5c8-45a5-4116-a470-f21aa0afff43",
   "metadata": {
    "tags": []
   },
   "outputs": [
    {
     "name": "stderr",
     "output_type": "stream",
     "text": [
      "0it [00:00, ?it/s]"
     ]
    },
    {
     "name": "stdout",
     "output_type": "stream",
     "text": [
      "==================================================\n",
      "--------------------------------------------------\n",
      "subgroup column:  CLAUDIN_SUBTYPE\n",
      "..................................................\n",
      "subgroup:  LumA\n",
      "./../data/interim/PREPROCESSED/RECURRENCE/CROSS/CLAUDIN_SUBTYPE/mrmr_std_smote\n",
      "(192, 17) (20, 17)\n",
      "base accuracy:  0.5\n"
     ]
    },
    {
     "data": {
      "text/html": [
       "<div>\n",
       "<style scoped>\n",
       "    .dataframe tbody tr th:only-of-type {\n",
       "        vertical-align: middle;\n",
       "    }\n",
       "\n",
       "    .dataframe tbody tr th {\n",
       "        vertical-align: top;\n",
       "    }\n",
       "\n",
       "    .dataframe thead th {\n",
       "        text-align: right;\n",
       "    }\n",
       "</style>\n",
       "<table border=\"1\" class=\"dataframe\">\n",
       "  <thead>\n",
       "    <tr style=\"text-align: right;\">\n",
       "      <th></th>\n",
       "      <th>acc_train</th>\n",
       "      <th>acc_val</th>\n",
       "      <th>f1_train</th>\n",
       "      <th>f1_val</th>\n",
       "    </tr>\n",
       "    <tr>\n",
       "      <th>classifier</th>\n",
       "      <th></th>\n",
       "      <th></th>\n",
       "      <th></th>\n",
       "      <th></th>\n",
       "    </tr>\n",
       "  </thead>\n",
       "  <tbody>\n",
       "    <tr>\n",
       "      <th>DecisionTreeClassifier</th>\n",
       "      <td>0.755208</td>\n",
       "      <td>0.60</td>\n",
       "      <td>0.758974</td>\n",
       "      <td>0.666667</td>\n",
       "    </tr>\n",
       "    <tr>\n",
       "      <th>QuadraticDiscriminantAnalysis</th>\n",
       "      <td>0.927083</td>\n",
       "      <td>0.35</td>\n",
       "      <td>0.927835</td>\n",
       "      <td>0.434783</td>\n",
       "    </tr>\n",
       "    <tr>\n",
       "      <th>SGDClassifier</th>\n",
       "      <td>0.854167</td>\n",
       "      <td>0.35</td>\n",
       "      <td>0.857143</td>\n",
       "      <td>0.434783</td>\n",
       "    </tr>\n",
       "    <tr>\n",
       "      <th>GaussianNB</th>\n",
       "      <td>0.869792</td>\n",
       "      <td>0.35</td>\n",
       "      <td>0.867725</td>\n",
       "      <td>0.380952</td>\n",
       "    </tr>\n",
       "    <tr>\n",
       "      <th>LogisticRegression</th>\n",
       "      <td>0.885417</td>\n",
       "      <td>0.35</td>\n",
       "      <td>0.885417</td>\n",
       "      <td>0.380952</td>\n",
       "    </tr>\n",
       "    <tr>\n",
       "      <th>RandomForestClassifier</th>\n",
       "      <td>0.932292</td>\n",
       "      <td>0.35</td>\n",
       "      <td>0.932642</td>\n",
       "      <td>0.380952</td>\n",
       "    </tr>\n",
       "    <tr>\n",
       "      <th>SVC</th>\n",
       "      <td>0.927083</td>\n",
       "      <td>0.35</td>\n",
       "      <td>0.927628</td>\n",
       "      <td>0.380952</td>\n",
       "    </tr>\n",
       "    <tr>\n",
       "      <th>KNeighborsClassifier</th>\n",
       "      <td>0.869792</td>\n",
       "      <td>0.30</td>\n",
       "      <td>0.858757</td>\n",
       "      <td>0.363636</td>\n",
       "    </tr>\n",
       "    <tr>\n",
       "      <th>GradientBoostingClassifier</th>\n",
       "      <td>1.000000</td>\n",
       "      <td>0.35</td>\n",
       "      <td>1.000000</td>\n",
       "      <td>0.315789</td>\n",
       "    </tr>\n",
       "    <tr>\n",
       "      <th>AdaBoostClassifier</th>\n",
       "      <td>1.000000</td>\n",
       "      <td>0.30</td>\n",
       "      <td>1.000000</td>\n",
       "      <td>0.300000</td>\n",
       "    </tr>\n",
       "  </tbody>\n",
       "</table>\n",
       "</div>"
      ],
      "text/plain": [
       "                               acc_train  acc_val  f1_train    f1_val\n",
       "classifier                                                           \n",
       "DecisionTreeClassifier          0.755208     0.60  0.758974  0.666667\n",
       "QuadraticDiscriminantAnalysis   0.927083     0.35  0.927835  0.434783\n",
       "SGDClassifier                   0.854167     0.35  0.857143  0.434783\n",
       "GaussianNB                      0.869792     0.35  0.867725  0.380952\n",
       "LogisticRegression              0.885417     0.35  0.885417  0.380952\n",
       "RandomForestClassifier          0.932292     0.35  0.932642  0.380952\n",
       "SVC                             0.927083     0.35  0.927628  0.380952\n",
       "KNeighborsClassifier            0.869792     0.30  0.858757  0.363636\n",
       "GradientBoostingClassifier      1.000000     0.35  1.000000  0.315789\n",
       "AdaBoostClassifier              1.000000     0.30  1.000000  0.300000"
      ]
     },
     "metadata": {},
     "output_type": "display_data"
    },
    {
     "name": "stdout",
     "output_type": "stream",
     "text": [
      "(192, 17) (20, 17)\n",
      "base accuracy:  0.5\n"
     ]
    },
    {
     "data": {
      "text/html": [
       "<div>\n",
       "<style scoped>\n",
       "    .dataframe tbody tr th:only-of-type {\n",
       "        vertical-align: middle;\n",
       "    }\n",
       "\n",
       "    .dataframe tbody tr th {\n",
       "        vertical-align: top;\n",
       "    }\n",
       "\n",
       "    .dataframe thead th {\n",
       "        text-align: right;\n",
       "    }\n",
       "</style>\n",
       "<table border=\"1\" class=\"dataframe\">\n",
       "  <thead>\n",
       "    <tr style=\"text-align: right;\">\n",
       "      <th></th>\n",
       "      <th>acc_train</th>\n",
       "      <th>acc_val</th>\n",
       "      <th>f1_train</th>\n",
       "      <th>f1_val</th>\n",
       "    </tr>\n",
       "    <tr>\n",
       "      <th>classifier</th>\n",
       "      <th></th>\n",
       "      <th></th>\n",
       "      <th></th>\n",
       "      <th></th>\n",
       "    </tr>\n",
       "  </thead>\n",
       "  <tbody>\n",
       "    <tr>\n",
       "      <th>LGBMClassifier</th>\n",
       "      <td>1.0</td>\n",
       "      <td>0.35</td>\n",
       "      <td>1.0</td>\n",
       "      <td>0.380952</td>\n",
       "    </tr>\n",
       "  </tbody>\n",
       "</table>\n",
       "</div>"
      ],
      "text/plain": [
       "                acc_train  acc_val  f1_train    f1_val\n",
       "classifier                                            \n",
       "LGBMClassifier        1.0     0.35       1.0  0.380952"
      ]
     },
     "metadata": {},
     "output_type": "display_data"
    },
    {
     "name": "stdout",
     "output_type": "stream",
     "text": [
      "(192, 17) (20, 17)\n",
      "base accuracy:  0.5\n"
     ]
    },
    {
     "data": {
      "text/html": [
       "<div>\n",
       "<style scoped>\n",
       "    .dataframe tbody tr th:only-of-type {\n",
       "        vertical-align: middle;\n",
       "    }\n",
       "\n",
       "    .dataframe tbody tr th {\n",
       "        vertical-align: top;\n",
       "    }\n",
       "\n",
       "    .dataframe thead th {\n",
       "        text-align: right;\n",
       "    }\n",
       "</style>\n",
       "<table border=\"1\" class=\"dataframe\">\n",
       "  <thead>\n",
       "    <tr style=\"text-align: right;\">\n",
       "      <th></th>\n",
       "      <th>acc_train</th>\n",
       "      <th>acc_val</th>\n",
       "      <th>f1_train</th>\n",
       "      <th>f1_val</th>\n",
       "    </tr>\n",
       "    <tr>\n",
       "      <th>classifier</th>\n",
       "      <th></th>\n",
       "      <th></th>\n",
       "      <th></th>\n",
       "      <th></th>\n",
       "    </tr>\n",
       "  </thead>\n",
       "  <tbody>\n",
       "    <tr>\n",
       "      <th>ExtraTreesClassifier</th>\n",
       "      <td>1.0</td>\n",
       "      <td>0.4</td>\n",
       "      <td>1.0</td>\n",
       "      <td>0.454545</td>\n",
       "    </tr>\n",
       "  </tbody>\n",
       "</table>\n",
       "</div>"
      ],
      "text/plain": [
       "                      acc_train  acc_val  f1_train    f1_val\n",
       "classifier                                                  \n",
       "ExtraTreesClassifier        1.0      0.4       1.0  0.454545"
      ]
     },
     "metadata": {},
     "output_type": "display_data"
    },
    {
     "name": "stderr",
     "output_type": "stream",
     "text": [
      "1it [00:02,  2.85s/it]\n"
     ]
    },
    {
     "data": {
      "image/png": "[encoded data removed]",
      "text/plain": [
       "<Figure size 432x288 with 2 Axes>"
      ]
     },
     "metadata": {
      "needs_background": "light"
     },
     "output_type": "display_data"
    },
    {
     "data": {
      "image/png": "[encoded data removed]",
      "text/plain": [
       "<Figure size 432x288 with 2 Axes>"
      ]
     },
     "metadata": {
      "needs_background": "light"
     },
     "output_type": "display_data"
    },
    {
     "data": {
      "image/png": "[encoded data removed]",
      "text/plain": [
       "<Figure size 432x288 with 2 Axes>"
      ]
     },
     "metadata": {
      "needs_background": "light"
     },
     "output_type": "display_data"
    },
    {
     "data": {
      "image/png": "[encoded data removed]",
      "text/plain": [
       "<Figure size 432x288 with 2 Axes>"
      ]
     },
     "metadata": {
      "needs_background": "light"
     },
     "output_type": "display_data"
    }
   ],
   "source": [
    "def validate_models(\n",
    "    input_file_path: str = None,\n",
    "    input_file_name: str = None,\n",
    "    classifiers: list = config.classifiers,\n",
    "    plot: bool = False,\n",
    "):\n",
    "    try:\n",
    "        list_train, list_val, _, _ = functions.read_preprocessed_df(\n",
    "            input_file_path, input_file_name\n",
    "        )\n",
    "    except:\n",
    "        return\n",
    "    X_train, y_train = list_train[0], list_train[1]\n",
    "    X_val, y_val = list_val[0], list_val[1]\n",
    "    print(X_train.shape, X_val.shape)\n",
    "\n",
    "    # accuracyの表示\n",
    "    print(\"base accuracy: \", (y_train == 1).sum() / y_train.shape[0])\n",
    "    # print(\"使用特徴量：\", X_train.columns)\n",
    "    # print(\"train shape: \", X_train.shape, y_train.shape)\n",
    "    # print(\"val shape: \", X_val.shape, y_val.shape)\n",
    "    # print(\"value_counts: \", y_train.value_counts(), y_val.value_counts())\n",
    "    display(\n",
    "        functions.compare_bcms(\n",
    "            X_train,\n",
    "            y_train,\n",
    "            X_val,\n",
    "            y_val,\n",
    "            classifiers=classifiers,\n",
    "            plot=plot,\n",
    "        )\n",
    "    )\n",
    "\n",
    "\n",
    "# サブグループ削除（一時的に）\n",
    "subgroup_columns = [\n",
    "    \"CLAUDIN_SUBTYPE\",\n",
    "    # \"NPI_CAT\",\n",
    "    # \"TUMOR_CAT\",\n",
    "    # \"LYMPH_CAT\",\n",
    "]\n",
    "\n",
    "feature_selection_methods = [\n",
    "    # \"variance_threshold\",\n",
    "    \"mrmr\"\n",
    "]\n",
    "\n",
    "scaling_methods = [\n",
    "    \"std\",\n",
    "    # \"norm\"\n",
    "]\n",
    "\n",
    "sampling_methods = [\n",
    "    # \"none\",\n",
    "    \"smote\"\n",
    "]\n",
    "\n",
    "for feature_selection_method, scaling_method, sampling_method in tqdm(\n",
    "    itertools.product(feature_selection_methods, scaling_methods, sampling_methods)\n",
    "):\n",
    "    preprocess_order = \"{0}_{1}_{2}\".format(\n",
    "        feature_selection_method, scaling_method, sampling_method\n",
    "    )\n",
    "    print(\"=====\" * 10)\n",
    "    for subgroup_column in subgroup_columns:  # 各サブグループへの適用\n",
    "        print(\"-----\" * 10)\n",
    "        print(\"subgroup column: \", subgroup_column)\n",
    "\n",
    "        # for subgroup in df_recurrenced[subgroup_column].unique():  # サブグループ毎への適用\n",
    "        for subgroup in [\"LumA\"]:  # サブグループ毎への適用\n",
    "            print(\".....\" * 10)\n",
    "            print(\"subgroup: \", subgroup)\n",
    "            input_file_path = \"./{0}/{1}/{2}\".format(\n",
    "                config.INTERIM_PREPROCESSED_RECURRENCE_CROSS_DIR,\n",
    "                subgroup_column,\n",
    "                preprocess_order,\n",
    "                plot=True,\n",
    "            )\n",
    "            print(input_file_path)\n",
    "            validate_models(\n",
    "                input_file_path=input_file_path, input_file_name=subgroup, plot=False\n",
    "            )\n",
    "\n",
    "            params = {\n",
    "                \"class_weight\": \"balanced\",\n",
    "                \"random_state\": SEED,\n",
    "            }\n",
    "            validate_models(\n",
    "                input_file_path=input_file_path,\n",
    "                input_file_name=subgroup,\n",
    "                classifiers=[LGBMClassifier(**params)],\n",
    "                plot=True,\n",
    "            )\n",
    "\n",
    "            params = {\n",
    "                \"class_weight\": \"balanced\",\n",
    "                \"random_state\": SEED,\n",
    "            }\n",
    "            validate_models(\n",
    "                input_file_path=input_file_path,\n",
    "                input_file_name=subgroup,\n",
    "                classifiers=[ExtraTreesClassifier(**params)],\n",
    "                plot=True,\n",
    "            )"
   ]
  },
  {
   "cell_type": "markdown",
   "id": "5ea9b9de-e2d4-4751-8d19-461deb386d62",
   "metadata": {
    "tags": []
   },
   "source": [
    "## xgboost"
   ]
  },
  {
   "cell_type": "code",
   "execution_count": 3,
   "id": "ab371bcd-769d-45a8-80ae-d357b3a574c5",
   "metadata": {},
   "outputs": [
    {
     "name": "stderr",
     "output_type": "stream",
     "text": [
      "1it [00:00, 306.02it/s]"
     ]
    },
    {
     "name": "stdout",
     "output_type": "stream",
     "text": [
      "==================================================\n",
      "--------------------------------------------------\n",
      "subgroup column:  CLAUDIN_SUBTYPE\n",
      "..................................................\n",
      "subgroup:  LumB\n",
      "pkl file does not exist\n",
      "..................................................\n",
      "subgroup:  Her2\n",
      "pkl file does not exist\n",
      "..................................................\n",
      "subgroup:  LumA\n",
      "pkl file does not exist\n",
      "..................................................\n",
      "subgroup:  claudin-low\n",
      "pkl file does not exist\n",
      "..................................................\n",
      "subgroup:  Basal\n",
      "pkl file does not exist\n",
      "..................................................\n",
      "subgroup:  Normal\n",
      "pkl file does not exist\n",
      "..................................................\n",
      "subgroup:  NC\n",
      "pkl file does not exist\n"
     ]
    },
    {
     "name": "stderr",
     "output_type": "stream",
     "text": [
      "\n"
     ]
    }
   ],
   "source": [
    "# サブグループ削除（一時的に）\n",
    "subgroup_columns = [\n",
    "    \"CLAUDIN_SUBTYPE\",\n",
    "    # \"NPI_CAT\",\n",
    "    # \"TUMOR_CAT\",\n",
    "    # \"LYMPH_CAT\",\n",
    "]\n",
    "\n",
    "feature_selection_methods = [\n",
    "    \"variance_threshold\",\n",
    "    # \"mrmr\"\n",
    "]\n",
    "\n",
    "\n",
    "scaling_methods = [\n",
    "    \"std\",\n",
    "    # \"norm\"\n",
    "]\n",
    "\n",
    "\n",
    "for feature_selection_method, scaling_method in tqdm(\n",
    "    itertools.product(feature_selection_methods, scaling_methods)\n",
    "):\n",
    "    print(\"=====\" * 10)\n",
    "    for subgroup_column in subgroup_columns:  # 各サブグループへの適用\n",
    "        print(\"-----\" * 10)\n",
    "        print(\"subgroup column: \", subgroup_column)\n",
    "        for subgroup in df_recurrenced[subgroup_column].unique():  # サブグループ毎への適用\n",
    "            print(\".....\" * 10)\n",
    "            print(\"subgroup: \", subgroup)\n",
    "            file_path = \"./{0}/{1}/{2}\".format(\n",
    "                config.INTERIM_PREPROCESSED_RECURRENCE_CROSS_DIR,\n",
    "                subgroup_column,\n",
    "                feature_selection_method,\n",
    "                scaling_method,\n",
    "            )\n",
    "            file_name = subgroup\n",
    "\n",
    "            try:\n",
    "                list_train, list_val, _, _ = functions.read_preprocessed_df(\n",
    "                    file_path, file_name\n",
    "                )\n",
    "            except:\n",
    "                continue\n",
    "\n",
    "            X_train, y_train = list_train[0], list_train[1].map(lambda x: int(x))\n",
    "            X_val, y_val = list_val[0], list_val[1].map(lambda x: int(x))\n",
    "\n",
    "            # scaling\n",
    "            X_train, X_val = functions.transform_std(X_train, X_val)\n",
    "            sm = SMOTE(random_state=SEED)\n",
    "            X_train, y_train = sm.fit_resample(X_train, y_train)\n",
    "\n",
    "            xgb_train = xgb.DMatrix(\n",
    "                X_train, label=y_train, feature_names=X_train.columns\n",
    "            )\n",
    "            xgb_val = xgb.DMatrix(X_val, label=y_val, feature_names=X_val.columns)\n",
    "\n",
    "            param = {\n",
    "                # 二値分類問題\n",
    "                \"objective\": \"binary:logistic\",\n",
    "            }\n",
    "            clf = xgb.train(param, xgb_train)\n",
    "            y_val_pred_proba = clf.predict(xgb_val)\n",
    "            y_val_pred = np.where(y_val_pred_proba > 0.5, 1, 0)\n",
    "            functions.show_scores(y_val, y_val_pred)"
   ]
  },
  {
   "cell_type": "code",
   "execution_count": null,
   "id": "64447767-8c4a-43bd-9238-5ee4fa020030",
   "metadata": {},
   "outputs": [],
   "source": []
  }
 ],
 "metadata": {
  "kernelspec": {
   "display_name": "Python 3 (ipykernel)",
   "language": "python",
   "name": "python3"
  },
  "language_info": {
   "codemirror_mode": {
    "name": "ipython",
    "version": 3
   },
   "file_extension": ".py",
   "mimetype": "text/x-python",
   "name": "python",
   "nbconvert_exporter": "python",
   "pygments_lexer": "ipython3",
   "version": "3.8.13"
  },
  "vscode": {
   "interpreter": {
    "hash": "916dbcbb3f70747c44a77c7bcd40155683ae19c65e1c03b4aa3499c5328201f1"
   }
  }
 },
 "nbformat": 4,
 "nbformat_minor": 5
}
