{
 "cells": [
  {
   "cell_type": "code",
   "execution_count": 1,
   "id": "48694edc-a175-4191-8a1a-7d0c75cb17b8",
   "metadata": {},
   "outputs": [],
   "source": [
    "from pathlib import Path\n",
    "\n",
    "import numpy as np\n",
    "import pandas as pd\n",
    "\n",
    "from config import *\n"
   ]
  },
  {
   "cell_type": "code",
   "execution_count": 17,
   "id": "9eab9801-698f-4996-b17c-8ac3b6579af2",
   "metadata": {},
   "outputs": [
    {
     "data": {
      "text/plain": [
       "Index(['#Patient Identifier', 'Lymph nodes examined positive',\n",
       "       'Nottingham prognostic index', 'Cellularity', 'Chemotherapy', 'Cohort',\n",
       "       'ER status measured by IHC', 'HER2 status measured by SNP6',\n",
       "       'Hormone Therapy', 'Inferred Menopausal State', 'Sex',\n",
       "       'Integrative Cluster', 'Age at Diagnosis', 'Overall Survival (Months)',\n",
       "       'Overall Survival Status', 'Pam50 + Claudin-low subtype',\n",
       "       '3-Gene classifier subtype', 'Patient's Vital Status',\n",
       "       'Primary Tumor Laterality', 'Radio Therapy',\n",
       "       'Tumor Other Histologic Subtype', 'Type of Breast Surgery',\n",
       "       'Relapse Free Status', 'Relapse Free Status (Months)'],\n",
       "      dtype='object')"
      ]
     },
     "execution_count": 17,
     "metadata": {},
     "output_type": "execute_result"
    }
   ],
   "source": [
    "df_metabric=pd.read_table(BRCA_METABRIC_DIR+'/data_clinical_patient.txt')\n",
    "df_metabric.columns"
   ]
  },
  {
   "cell_type": "code",
   "execution_count": 4,
   "id": "8726cd54-7a81-493d-bd9d-809d5c8d11b2",
   "metadata": {},
   "outputs": [
    {
     "data": {
      "text/plain": [
       "(['../data/raw/brca_metabric/data_mrna_agilent_microarray.txt',\n",
       "  '../data/raw/brca_metabric/data_mrna_agilent_microarray_zscores_ref_all_samples.txt',\n",
       "  '../data/raw/brca_metabric/data_cna.txt',\n",
       "  '../data/raw/brca_metabric/data_methylation_promoters_rrbs.txt',\n",
       "  '../data/raw/brca_metabric/data_clinical_patient.txt',\n",
       "  '../data/raw/brca_metabric/data_mrna_agilent_microarray_zscores_ref_diploid_samples.txt',\n",
       "  '../data/raw/brca_metabric/data_clinical_sample.txt',\n",
       "  '../data/raw/brca_metabric/data_gene_panel_matrix.txt',\n",
       "  '../data/raw/brca_metabric/data_mutations.txt'],\n",
       " 9)"
      ]
     },
     "execution_count": 4,
     "metadata": {},
     "output_type": "execute_result"
    }
   ],
   "source": [
    "p=Path(BRCA_METABRIC_DIR)\n",
    "files=[q.as_posix() for q in list(p.glob('data*'))]\n",
    "files, len(files)"
   ]
  },
  {
   "cell_type": "code",
   "execution_count": 16,
   "id": "b1b22841-0e3f-4496-b631-498b10619065",
   "metadata": {},
   "outputs": [
    {
     "data": {
      "text/plain": [
       "METABRIC_173    2509\n",
       "Name: mutations, dtype: int64"
      ]
     },
     "execution_count": 16,
     "metadata": {},
     "output_type": "execute_result"
    }
   ],
   "source": [
    "pd.read_table(files[7])['mutations'].value_counts()"
   ]
  },
  {
   "cell_type": "code",
   "execution_count": null,
   "id": "06a9ba79-c1d0-47bd-af3b-9eaa42ab9349",
   "metadata": {},
   "outputs": [],
   "source": []
  }
 ],
 "metadata": {
  "kernelspec": {
   "display_name": "Python 3.8.12 ('breast-cancer-analytics')",
   "language": "python",
   "name": "python3812jvsc74a57bd020eeed6d3195800cca76e45ab74d550011b596e7d1b5d9856b10dd320068ba0f"
  },
  "language_info": {
   "codemirror_mode": {
    "name": "ipython",
    "version": 3
   },
   "file_extension": ".py",
   "mimetype": "text/x-python",
   "name": "python",
   "nbconvert_exporter": "python",
   "pygments_lexer": "ipython3",
   "version": "3.8.12"
  }
 },
 "nbformat": 4,
 "nbformat_minor": 5
}
