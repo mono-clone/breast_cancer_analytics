{
 "cells": [
  {
   "cell_type": "code",
   "execution_count": 3,
   "metadata": {},
   "outputs": [],
   "source": [
    "import os\n",
    "\n",
    "import numpy as np\n",
    "import pandas as pd\n",
    "\n",
    "import config\n",
    "\n",
    "# 最大表示列数の指定（ここでは50列を指定）\n",
    "pd.set_option(\"display.max_columns\", 50)\n",
    "pd.set_option(\"display.max_rows\", 50)\n",
    "\n",
    "\n",
    "def make_dir(dir_name: str):\n",
    "    if not os.path.exists(dir_name):\n",
    "        os.makedirs(dir_name)"
   ]
  },
  {
   "cell_type": "code",
   "execution_count": 4,
   "metadata": {},
   "outputs": [
    {
     "data": {
      "text/plain": [
       "(1985, 36)"
      ]
     },
     "execution_count": 4,
     "metadata": {},
     "output_type": "execute_result"
    }
   ],
   "source": [
    "# PATIENT_IDにMBを含むデータのみ含むデータフレームを読み込み\n",
    "df_MB = pd.read_pickle(config.INTERIM_PICKLE_PREPROCESSED_DIR + \"/3.0-df_MB.pkl\")\n",
    "df_MB.shape"
   ]
  },
  {
   "cell_type": "code",
   "execution_count": 5,
   "metadata": {},
   "outputs": [
    {
     "data": {
      "text/plain": [
       "PATIENT_ID                         0\n",
       "LYMPH_NODES_EXAMINED_POSITIVE     76\n",
       "NPI                                1\n",
       "CELLULARITY                       68\n",
       "CHEMOTHERAPY                       5\n",
       "COHORT                             0\n",
       "ER_IHC                            43\n",
       "HER2_SNP6                          5\n",
       "HORMONE_THERAPY                    5\n",
       "INFERRED_MENOPAUSAL_STATE          5\n",
       "SEX                                0\n",
       "INTCLUST                           5\n",
       "AGE_AT_DIAGNOSIS                   0\n",
       "OS_MONTHS                          4\n",
       "OS_STATUS                          4\n",
       "CLAUDIN_SUBTYPE                    5\n",
       "THREEGENE                        221\n",
       "VITAL_STATUS                       5\n",
       "LATERALITY                       115\n",
       "RADIO_THERAPY                      5\n",
       "HISTOLOGICAL_SUBTYPE              46\n",
       "BREAST_SURGERY                    30\n",
       "RFS_STATUS                         1\n",
       "RFS_MONTHS                         0\n",
       "SAMPLE_ID                          0\n",
       "CANCER_TYPE                        0\n",
       "CANCER_TYPE_DETAILED               0\n",
       "ER_STATUS                          0\n",
       "HER2_STATUS                        5\n",
       "GRADE                             88\n",
       "ONCOTREE_CODE                      0\n",
       "PR_STATUS                          5\n",
       "SAMPLE_TYPE                        0\n",
       "TUMOR_SIZE                        26\n",
       "TUMOR_STAGE                      515\n",
       "TMB_NONSYNONYMOUS                  0\n",
       "dtype: int64"
      ]
     },
     "execution_count": 5,
     "metadata": {},
     "output_type": "execute_result"
    }
   ],
   "source": [
    "df_MB.isnull().sum()"
   ]
  },
  {
   "cell_type": "markdown",
   "metadata": {},
   "source": [
    "# drop all null data case\n",
    "\n",
    "### df｜df_MB_dropped  \n",
    "null値を含む行を削除することで、null値に対応する.  "
   ]
  },
  {
   "cell_type": "code",
   "execution_count": 6,
   "metadata": {},
   "outputs": [
    {
     "data": {
      "text/plain": [
       "(1124, 36)"
      ]
     },
     "metadata": {},
     "output_type": "display_data"
    },
    {
     "data": {
      "text/plain": [
       "0"
      ]
     },
     "metadata": {},
     "output_type": "display_data"
    }
   ],
   "source": [
    "df_MB_dropped = df_MB.dropna(how=\"any\")\n",
    "display(df_MB_dropped.shape, df_MB_dropped.isnull().sum().sum())\n",
    "# save data\n",
    "make_dir(config.INTERIM_PICKLE_PREPROCESSED_DIR)\n",
    "df_MB_dropped.to_pickle(\n",
    "    config.INTERIM_PICKLE_PREPROCESSED_DIR + \"/3.1-df_MB_dropped.pkl\"\n",
    ")"
   ]
  },
  {
   "cell_type": "markdown",
   "metadata": {},
   "source": [
    "# fill null by mean, median value (only float) case\n",
    "\n",
    "### df｜df_MB_filled_by_mean, df_MB_filled_by_median  \n",
    "null値を平均値で埋める。  \n",
    "ただし、カテゴリ変数など数値以外のデータは平均値を取ることができないので、nullのまま（文字列に変換）にする。\n",
    "\n",
    "注意｜OS_STATUSとOS_MONTH、RFS_STATUSとRFS_MONTH、VITAL_STATUSのnull値を埋めてしまうと、誤回答のデータを作成してしまうことになるので、あらかじめ除いておく。  \n",
    "outcomeのnullを除いたdf｜df_MB_dropped_outcome  \n",
    "除く対象｜場合分けして保存するのが億劫なので、今回は全部削除する。"
   ]
  },
  {
   "cell_type": "code",
   "execution_count": 7,
   "metadata": {},
   "outputs": [
    {
     "data": {
      "text/html": [
       "<div>\n",
       "<style scoped>\n",
       "    .dataframe tbody tr th:only-of-type {\n",
       "        vertical-align: middle;\n",
       "    }\n",
       "\n",
       "    .dataframe tbody tr th {\n",
       "        vertical-align: top;\n",
       "    }\n",
       "\n",
       "    .dataframe thead th {\n",
       "        text-align: right;\n",
       "    }\n",
       "</style>\n",
       "<table border=\"1\" class=\"dataframe\">\n",
       "  <thead>\n",
       "    <tr style=\"text-align: right;\">\n",
       "      <th></th>\n",
       "      <th>OS_STATUS</th>\n",
       "      <th>OS_MONTHS</th>\n",
       "      <th>RFS_STATUS</th>\n",
       "      <th>RFS_MONTHS</th>\n",
       "      <th>VITAL_STATUS</th>\n",
       "    </tr>\n",
       "  </thead>\n",
       "  <tbody>\n",
       "    <tr>\n",
       "      <th>9</th>\n",
       "      <td>NaN</td>\n",
       "      <td>NaN</td>\n",
       "      <td>1:Recurred</td>\n",
       "      <td>126.32</td>\n",
       "      <td>NaN</td>\n",
       "    </tr>\n",
       "    <tr>\n",
       "      <th>223</th>\n",
       "      <td>NaN</td>\n",
       "      <td>NaN</td>\n",
       "      <td>0:Not Recurred</td>\n",
       "      <td>191.25</td>\n",
       "      <td>NaN</td>\n",
       "    </tr>\n",
       "    <tr>\n",
       "      <th>226</th>\n",
       "      <td>NaN</td>\n",
       "      <td>NaN</td>\n",
       "      <td>0:Not Recurred</td>\n",
       "      <td>25.63</td>\n",
       "      <td>NaN</td>\n",
       "    </tr>\n",
       "    <tr>\n",
       "      <th>411</th>\n",
       "      <td>NaN</td>\n",
       "      <td>NaN</td>\n",
       "      <td>0:Not Recurred</td>\n",
       "      <td>185.46</td>\n",
       "      <td>NaN</td>\n",
       "    </tr>\n",
       "    <tr>\n",
       "      <th>1219</th>\n",
       "      <td>1:DECEASED</td>\n",
       "      <td>255.0</td>\n",
       "      <td>NaN</td>\n",
       "      <td>251.64</td>\n",
       "      <td>NaN</td>\n",
       "    </tr>\n",
       "  </tbody>\n",
       "</table>\n",
       "</div>"
      ],
      "text/plain": [
       "       OS_STATUS  OS_MONTHS      RFS_STATUS  RFS_MONTHS VITAL_STATUS\n",
       "9            NaN        NaN      1:Recurred      126.32          NaN\n",
       "223          NaN        NaN  0:Not Recurred      191.25          NaN\n",
       "226          NaN        NaN  0:Not Recurred       25.63          NaN\n",
       "411          NaN        NaN  0:Not Recurred      185.46          NaN\n",
       "1219  1:DECEASED      255.0             NaN      251.64          NaN"
      ]
     },
     "metadata": {},
     "output_type": "display_data"
    },
    {
     "data": {
      "text/plain": [
       "(1985, 36)"
      ]
     },
     "metadata": {},
     "output_type": "display_data"
    },
    {
     "data": {
      "text/plain": [
       "(1980, 36)"
      ]
     },
     "metadata": {},
     "output_type": "display_data"
    }
   ],
   "source": [
    "# null値を含むかの確認表示（nullか着目しているcolumnのみ）\n",
    "display(\n",
    "    df_MB[\n",
    "        df_MB[\"OS_STATUS\"].isnull()\n",
    "        | df_MB[\"OS_MONTHS\"].isnull()\n",
    "        | df_MB[\"RFS_STATUS\"].isnull()\n",
    "        | df_MB[\"RFS_MONTHS\"].isnull()\n",
    "        | df_MB[\"VITAL_STATUS\"].isnull()\n",
    "    ][[\"OS_STATUS\", \"OS_MONTHS\", \"RFS_STATUS\", \"RFS_MONTHS\", \"VITAL_STATUS\"]]\n",
    ")\n",
    "# dfのサイズ確認（df_MB, df_MBから上記のdfを取り除いたdf）\n",
    "display(\n",
    "    df_MB.shape,\n",
    "    df_MB[\n",
    "        ~(\n",
    "            df_MB[\"OS_STATUS\"].isnull()\n",
    "            | df_MB[\"OS_MONTHS\"].isnull()\n",
    "            | df_MB[\"RFS_STATUS\"].isnull()\n",
    "            | df_MB[\"RFS_MONTHS\"].isnull()\n",
    "            | df_MB[\"VITAL_STATUS\"].isnull()\n",
    "        )\n",
    "    ].shape,\n",
    ")\n",
    "# df生成\n",
    "df_MB_dropped_outcome = df_MB[\n",
    "    ~(\n",
    "        df_MB[\"OS_STATUS\"].isnull()\n",
    "        | df_MB[\"OS_MONTHS\"].isnull()\n",
    "        | df_MB[\"RFS_STATUS\"].isnull()\n",
    "        | df_MB[\"RFS_MONTHS\"].isnull()\n",
    "        | df_MB[\"VITAL_STATUS\"].isnull()\n",
    "    )\n",
    "]"
   ]
  },
  {
   "cell_type": "code",
   "execution_count": 8,
   "metadata": {},
   "outputs": [
    {
     "data": {
      "text/plain": [
       "(1980, 36)"
      ]
     },
     "metadata": {},
     "output_type": "display_data"
    },
    {
     "data": {
      "text/plain": [
       "PATIENT_ID                         0\n",
       "LYMPH_NODES_EXAMINED_POSITIVE      0\n",
       "NPI                                0\n",
       "CELLULARITY                       64\n",
       "CHEMOTHERAPY                       1\n",
       "COHORT                             0\n",
       "ER_IHC                            43\n",
       "HER2_SNP6                          1\n",
       "HORMONE_THERAPY                    1\n",
       "INFERRED_MENOPAUSAL_STATE          1\n",
       "SEX                                0\n",
       "INTCLUST                           1\n",
       "AGE_AT_DIAGNOSIS                   0\n",
       "OS_MONTHS                          0\n",
       "OS_STATUS                          0\n",
       "CLAUDIN_SUBTYPE                    1\n",
       "THREEGENE                        217\n",
       "VITAL_STATUS                       0\n",
       "LATERALITY                       111\n",
       "RADIO_THERAPY                      1\n",
       "HISTOLOGICAL_SUBTYPE              44\n",
       "BREAST_SURGERY                    26\n",
       "RFS_STATUS                         0\n",
       "RFS_MONTHS                         0\n",
       "SAMPLE_ID                          0\n",
       "CANCER_TYPE                        0\n",
       "CANCER_TYPE_DETAILED               0\n",
       "ER_STATUS                          0\n",
       "HER2_STATUS                        1\n",
       "GRADE                              0\n",
       "ONCOTREE_CODE                      0\n",
       "PR_STATUS                          1\n",
       "SAMPLE_TYPE                        0\n",
       "TUMOR_SIZE                         0\n",
       "TUMOR_STAGE                        0\n",
       "TMB_NONSYNONYMOUS                  0\n",
       "dtype: int64"
      ]
     },
     "metadata": {},
     "output_type": "display_data"
    }
   ],
   "source": [
    "df_MB_filled_by_mean = df_MB_dropped_outcome.fillna(\n",
    "    df_MB_dropped_outcome.mean(numeric_only=True)\n",
    ")\n",
    "display(df_MB_filled_by_mean.shape, df_MB_filled_by_mean.isnull().sum())\n",
    "# save data\n",
    "make_dir(config.INTERIM_PICKLE_PREPROCESSED_DIR)\n",
    "df_MB_filled_by_mean.to_pickle(\n",
    "    config.INTERIM_PICKLE_PREPROCESSED_DIR + \"/3.1-df_MB_filled_by_mean.pkl\"\n",
    ")"
   ]
  },
  {
   "cell_type": "code",
   "execution_count": 9,
   "metadata": {},
   "outputs": [
    {
     "data": {
      "text/plain": [
       "(1980, 36)"
      ]
     },
     "metadata": {},
     "output_type": "display_data"
    },
    {
     "data": {
      "text/plain": [
       "PATIENT_ID                         0\n",
       "LYMPH_NODES_EXAMINED_POSITIVE      0\n",
       "NPI                                0\n",
       "CELLULARITY                       64\n",
       "CHEMOTHERAPY                       1\n",
       "COHORT                             0\n",
       "ER_IHC                            43\n",
       "HER2_SNP6                          1\n",
       "HORMONE_THERAPY                    1\n",
       "INFERRED_MENOPAUSAL_STATE          1\n",
       "SEX                                0\n",
       "INTCLUST                           1\n",
       "AGE_AT_DIAGNOSIS                   0\n",
       "OS_MONTHS                          0\n",
       "OS_STATUS                          0\n",
       "CLAUDIN_SUBTYPE                    1\n",
       "THREEGENE                        217\n",
       "VITAL_STATUS                       0\n",
       "LATERALITY                       111\n",
       "RADIO_THERAPY                      1\n",
       "HISTOLOGICAL_SUBTYPE              44\n",
       "BREAST_SURGERY                    26\n",
       "RFS_STATUS                         0\n",
       "RFS_MONTHS                         0\n",
       "SAMPLE_ID                          0\n",
       "CANCER_TYPE                        0\n",
       "CANCER_TYPE_DETAILED               0\n",
       "ER_STATUS                          0\n",
       "HER2_STATUS                        1\n",
       "GRADE                              0\n",
       "ONCOTREE_CODE                      0\n",
       "PR_STATUS                          1\n",
       "SAMPLE_TYPE                        0\n",
       "TUMOR_SIZE                         0\n",
       "TUMOR_STAGE                        0\n",
       "TMB_NONSYNONYMOUS                  0\n",
       "dtype: int64"
      ]
     },
     "metadata": {},
     "output_type": "display_data"
    }
   ],
   "source": [
    "df_MB_filled_by_median = df_MB_dropped_outcome.fillna(\n",
    "    df_MB_dropped_outcome.median(numeric_only=True)\n",
    ")\n",
    "display(df_MB_filled_by_median.shape, df_MB_filled_by_median.isnull().sum())\n",
    "# save data\n",
    "make_dir(config.INTERIM_PICKLE_PREPROCESSED_DIR)\n",
    "df_MB_filled_by_median.to_pickle(\n",
    "    config.INTERIM_PICKLE_PREPROCESSED_DIR + \"/3.1-df_MB_filled_by_median.pkl\"\n",
    ")"
   ]
  },
  {
   "cell_type": "code",
   "execution_count": null,
   "metadata": {},
   "outputs": [],
   "source": []
  }
 ],
 "metadata": {
  "interpreter": {
   "hash": "6cecfcb002507d68feb988228d86e9c6727afe09fa1042e3327ddeb41aee6fc4"
  },
  "kernelspec": {
   "display_name": "Python 3 (ipykernel)",
   "language": "python",
   "name": "python3"
  },
  "language_info": {
   "codemirror_mode": {
    "name": "ipython",
    "version": 3
   },
   "file_extension": ".py",
   "mimetype": "text/x-python",
   "name": "python",
   "nbconvert_exporter": "python",
   "pygments_lexer": "ipython3",
   "version": "3.8.13"
  }
 },
 "nbformat": 4,
 "nbformat_minor": 4
}
