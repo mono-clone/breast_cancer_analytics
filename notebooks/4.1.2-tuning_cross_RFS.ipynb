{
 "cells": [
  {
   "cell_type": "code",
   "execution_count": 1,
   "id": "ddcdbbb1-d422-4d61-9d20-4e48696ac53b",
   "metadata": {},
   "outputs": [
    {
     "name": "stderr",
     "output_type": "stream",
     "text": [
      "/root/miniconda3/envs/breast-cancer-analytics/lib/python3.8/site-packages/xgboost/compat.py:36: FutureWarning: pandas.Int64Index is deprecated and will be removed from pandas in a future version. Use pandas.Index with the appropriate dtype instead.\n",
      "  from pandas import MultiIndex, Int64Index\n",
      "The default dtype for empty Series will be 'object' instead of 'float64' in a future version. Specify a dtype explicitly to silence this warning.\n",
      "The default dtype for empty Series will be 'object' instead of 'float64' in a future version. Specify a dtype explicitly to silence this warning.\n"
     ]
    }
   ],
   "source": [
    "import os\n",
    "import random\n",
    "import itertools\n",
    "import re\n",
    "import collections\n",
    "\n",
    "# 基本的なライブラリ\n",
    "import numpy as np\n",
    "import pandas as pd\n",
    "import scipy as sp\n",
    "from scipy import stats\n",
    "from tqdm import tqdm\n",
    "import warnings\n",
    "\n",
    "# 描画ライブラリ\n",
    "import matplotlib.pyplot as plt\n",
    "import seaborn as sns\n",
    "import graphviz\n",
    "import pydotplus\n",
    "from IPython.display import Image, HTML\n",
    "from six import StringIO\n",
    "from ipywidgets import interact, FloatSlider\n",
    "from dtreeviz.trees import *\n",
    "\n",
    "import optuna\n",
    "\n",
    "# 評価指標\n",
    "from sklearn.metrics import roc_auc_score, make_scorer\n",
    "from sklearn.metrics import accuracy_score, precision_score, recall_score, f1_score\n",
    "from sklearn.metrics import confusion_matrix, ConfusionMatrixDisplay\n",
    "\n",
    "# models\n",
    "from sklearn.linear_model import LogisticRegression  # ロジスティック回帰\n",
    "from sklearn.neighbors import KNeighborsClassifier  # K近傍法\n",
    "from sklearn.svm import SVC  # サポートベクターマシン\n",
    "from sklearn.tree import DecisionTreeClassifier, export_graphviz  # 決定木\n",
    "from sklearn.ensemble import RandomForestClassifier  # ランダムフォレスト\n",
    "from sklearn.ensemble import AdaBoostClassifier  # AdaBoost\n",
    "from sklearn.naive_bayes import GaussianNB  # ナイーブ・ベイズ\n",
    "from sklearn.decomposition import LatentDirichletAllocation as LDA  # 線形判別分析\n",
    "from sklearn.discriminant_analysis import QuadraticDiscriminantAnalysis as QDA  # 二次判別分析\n",
    "from lightgbm import LGBMClassifier\n",
    "import xgboost as xgb\n",
    "\n",
    "\n",
    "# XAI\n",
    "import shap\n",
    "\n",
    "\n",
    "import config\n",
    "import functions\n",
    "\n",
    "SEED = config.SEED\n",
    "INDEX_MICROARRAY = config.INDEX_MICROARRAY\n",
    "functions.fix_seed(SEED)\n",
    "\n",
    "\n",
    "# 最大表示列数の指定（ここでは50列を指定）N\n",
    "pd.set_option(\"display.max_columns\", 50)\n",
    "pd.set_option(\"display.max_rows\", 50)\n",
    "\n",
    "%matplotlib inline\n",
    "\n",
    "df_recurrenced = pd.read_pickle(\n",
    "    config.INTERIM_PREPROCESSED_RECURRENCE_CROSS_DIR + \"/df_recurrenced.pkl\"\n",
    ")"
   ]
  },
  {
   "cell_type": "markdown",
   "id": "a231c746-2526-4536-82ac-bb114937bbf4",
   "metadata": {
    "tags": []
   },
   "source": [
    "# 最適化\n",
    "\n",
    "分類器を学習させ、パラメータのチューニングを行い、高い予測精度を目指す。"
   ]
  },
  {
   "cell_type": "markdown",
   "id": "1b181986-7110-4a04-864b-1616066c0b9e",
   "metadata": {
    "tags": []
   },
   "source": [
    "## Random Forest"
   ]
  },
  {
   "cell_type": "code",
   "execution_count": 5,
   "id": "30b918ee-157f-4080-8483-c8ceaaa906da",
   "metadata": {
    "tags": []
   },
   "outputs": [
    {
     "name": "stderr",
     "output_type": "stream",
     "text": [
      "0it [00:00, ?it/s]"
     ]
    },
    {
     "name": "stdout",
     "output_type": "stream",
     "text": [
      "##################################################\n",
      "subgroup column:  CLAUDIN_SUBTYPE\n",
      "subgroup:  LumB\n"
     ]
    },
    {
     "data": {
      "application/vnd.jupyter.widget-view+json": {
       "model_id": "cdfa6d1f856f4f8d84790432ef7d22cb",
       "version_major": 2,
       "version_minor": 0
      },
      "text/plain": [
       "  0%|          | 0/1000 [00:00<?, ?it/s]"
      ]
     },
     "metadata": {},
     "output_type": "display_data"
    },
    {
     "name": "stdout",
     "output_type": "stream",
     "text": [
      "{'n_estimators': 893, 'max_depth': 12, 'max_leaf_nodes': 20, 'min_samples_split': 12, 'min_samples_leaf': 23}\n",
      "0.631578947368421\n"
     ]
    },
    {
     "name": "stderr",
     "output_type": "stream",
     "text": [
      "\n",
      "0it [00:00, ?it/s]\u001b[A\n",
      "1it [00:01,  1.04s/it]\u001b[A\n"
     ]
    },
    {
     "data": {
      "text/html": [
       "<div>\n",
       "<style scoped>\n",
       "    .dataframe tbody tr th:only-of-type {\n",
       "        vertical-align: middle;\n",
       "    }\n",
       "\n",
       "    .dataframe tbody tr th {\n",
       "        vertical-align: top;\n",
       "    }\n",
       "\n",
       "    .dataframe thead th {\n",
       "        text-align: right;\n",
       "    }\n",
       "</style>\n",
       "<table border=\"1\" class=\"dataframe\">\n",
       "  <thead>\n",
       "    <tr style=\"text-align: right;\">\n",
       "      <th></th>\n",
       "      <th>acc_train</th>\n",
       "      <th>acc_val</th>\n",
       "      <th>f1_train</th>\n",
       "      <th>f1_val</th>\n",
       "    </tr>\n",
       "    <tr>\n",
       "      <th>classifier</th>\n",
       "      <th></th>\n",
       "      <th></th>\n",
       "      <th></th>\n",
       "      <th></th>\n",
       "    </tr>\n",
       "  </thead>\n",
       "  <tbody>\n",
       "    <tr>\n",
       "      <th>RandomForestClassifier</th>\n",
       "      <td>1.0</td>\n",
       "      <td>0.55</td>\n",
       "      <td>1.0</td>\n",
       "      <td>0.470588</td>\n",
       "    </tr>\n",
       "  </tbody>\n",
       "</table>\n",
       "</div>"
      ],
      "text/plain": [
       "                        acc_train  acc_val  f1_train    f1_val\n",
       "classifier                                                    \n",
       "RandomForestClassifier        1.0     0.55       1.0  0.470588"
      ]
     },
     "metadata": {},
     "output_type": "display_data"
    },
    {
     "name": "stdout",
     "output_type": "stream",
     "text": [
      "subgroup:  Her2\n"
     ]
    },
    {
     "data": {
      "application/vnd.jupyter.widget-view+json": {
       "model_id": "5175e8fb0bfd49319921fbe2df6d02bb",
       "version_major": 2,
       "version_minor": 0
      },
      "text/plain": [
       "  0%|          | 0/1000 [00:00<?, ?it/s]"
      ]
     },
     "metadata": {},
     "output_type": "display_data"
    },
    {
     "name": "stdout",
     "output_type": "stream",
     "text": [
      "{'n_estimators': 14, 'max_depth': 17, 'max_leaf_nodes': 48, 'min_samples_split': 73, 'min_samples_leaf': 28}\n",
      "0.7499999999999999\n"
     ]
    },
    {
     "name": "stderr",
     "output_type": "stream",
     "text": [
      "\n",
      "0it [00:00, ?it/s]\u001b[A\n",
      "1it [00:00,  9.60it/s]\u001b[A\n"
     ]
    },
    {
     "data": {
      "text/html": [
       "<div>\n",
       "<style scoped>\n",
       "    .dataframe tbody tr th:only-of-type {\n",
       "        vertical-align: middle;\n",
       "    }\n",
       "\n",
       "    .dataframe tbody tr th {\n",
       "        vertical-align: top;\n",
       "    }\n",
       "\n",
       "    .dataframe thead th {\n",
       "        text-align: right;\n",
       "    }\n",
       "</style>\n",
       "<table border=\"1\" class=\"dataframe\">\n",
       "  <thead>\n",
       "    <tr style=\"text-align: right;\">\n",
       "      <th></th>\n",
       "      <th>acc_train</th>\n",
       "      <th>acc_val</th>\n",
       "      <th>f1_train</th>\n",
       "      <th>f1_val</th>\n",
       "    </tr>\n",
       "    <tr>\n",
       "      <th>classifier</th>\n",
       "      <th></th>\n",
       "      <th></th>\n",
       "      <th></th>\n",
       "      <th></th>\n",
       "    </tr>\n",
       "  </thead>\n",
       "  <tbody>\n",
       "    <tr>\n",
       "      <th>RandomForestClassifier</th>\n",
       "      <td>1.0</td>\n",
       "      <td>0.545455</td>\n",
       "      <td>1.0</td>\n",
       "      <td>0.0</td>\n",
       "    </tr>\n",
       "  </tbody>\n",
       "</table>\n",
       "</div>"
      ],
      "text/plain": [
       "                        acc_train   acc_val  f1_train  f1_val\n",
       "classifier                                                   \n",
       "RandomForestClassifier        1.0  0.545455       1.0     0.0"
      ]
     },
     "metadata": {},
     "output_type": "display_data"
    },
    {
     "name": "stdout",
     "output_type": "stream",
     "text": [
      "subgroup:  LumA\n"
     ]
    },
    {
     "data": {
      "application/vnd.jupyter.widget-view+json": {
       "model_id": "0397a1e9b60a49a88c371e908f4cce72",
       "version_major": 2,
       "version_minor": 0
      },
      "text/plain": [
       "  0%|          | 0/1000 [00:00<?, ?it/s]"
      ]
     },
     "metadata": {},
     "output_type": "display_data"
    },
    {
     "name": "stdout",
     "output_type": "stream",
     "text": [
      "{'n_estimators': 781, 'max_depth': 40, 'max_leaf_nodes': 62, 'min_samples_split': 32, 'min_samples_leaf': 71}\n",
      "0.7096774193548387\n"
     ]
    },
    {
     "name": "stderr",
     "output_type": "stream",
     "text": [
      "\n",
      "0it [00:00, ?it/s]\u001b[A\n",
      "1it [00:00,  1.08it/s]\u001b[A\n"
     ]
    },
    {
     "data": {
      "text/html": [
       "<div>\n",
       "<style scoped>\n",
       "    .dataframe tbody tr th:only-of-type {\n",
       "        vertical-align: middle;\n",
       "    }\n",
       "\n",
       "    .dataframe tbody tr th {\n",
       "        vertical-align: top;\n",
       "    }\n",
       "\n",
       "    .dataframe thead th {\n",
       "        text-align: right;\n",
       "    }\n",
       "</style>\n",
       "<table border=\"1\" class=\"dataframe\">\n",
       "  <thead>\n",
       "    <tr style=\"text-align: right;\">\n",
       "      <th></th>\n",
       "      <th>acc_train</th>\n",
       "      <th>acc_val</th>\n",
       "      <th>f1_train</th>\n",
       "      <th>f1_val</th>\n",
       "    </tr>\n",
       "    <tr>\n",
       "      <th>classifier</th>\n",
       "      <th></th>\n",
       "      <th></th>\n",
       "      <th></th>\n",
       "      <th></th>\n",
       "    </tr>\n",
       "  </thead>\n",
       "  <tbody>\n",
       "    <tr>\n",
       "      <th>RandomForestClassifier</th>\n",
       "      <td>1.0</td>\n",
       "      <td>0.4</td>\n",
       "      <td>1.0</td>\n",
       "      <td>0.454545</td>\n",
       "    </tr>\n",
       "  </tbody>\n",
       "</table>\n",
       "</div>"
      ],
      "text/plain": [
       "                        acc_train  acc_val  f1_train    f1_val\n",
       "classifier                                                    \n",
       "RandomForestClassifier        1.0      0.4       1.0  0.454545"
      ]
     },
     "metadata": {},
     "output_type": "display_data"
    },
    {
     "name": "stderr",
     "output_type": "stream",
     "text": [
      "1it [20:33, 1233.83s/it]"
     ]
    },
    {
     "name": "stdout",
     "output_type": "stream",
     "text": [
      "subgroup:  claudin-low\n",
      "pkl file does not exist\n",
      "train data does not exist\n",
      "subgroup:  Basal\n",
      "pkl file does not exist\n",
      "train data does not exist\n",
      "subgroup:  Normal\n",
      "pkl file does not exist\n",
      "train data does not exist\n",
      "subgroup:  NC\n",
      "pkl file does not exist\n",
      "train data does not exist\n"
     ]
    },
    {
     "name": "stderr",
     "output_type": "stream",
     "text": [
      "\n"
     ]
    },
    {
     "data": {
      "image/png": "[encoded data removed]",
      "text/plain": [
       "<Figure size 432x288 with 2 Axes>"
      ]
     },
     "metadata": {
      "needs_background": "light"
     },
     "output_type": "display_data"
    },
    {
     "data": {
      "image/png": "[encoded data removed]",
      "text/plain": [
       "<Figure size 432x288 with 2 Axes>"
      ]
     },
     "metadata": {
      "needs_background": "light"
     },
     "output_type": "display_data"
    },
    {
     "data": {
      "image/png": "[encoded data removed]",
      "text/plain": [
       "<Figure size 432x288 with 2 Axes>"
      ]
     },
     "metadata": {
      "needs_background": "light"
     },
     "output_type": "display_data"
    },
    {
     "data": {
      "image/png": "[encoded data removed]",
      "text/plain": [
       "<Figure size 432x288 with 2 Axes>"
      ]
     },
     "metadata": {
      "needs_background": "light"
     },
     "output_type": "display_data"
    },
    {
     "data": {
      "image/png": "[encoded data removed]",
      "text/plain": [
       "<Figure size 432x288 with 2 Axes>"
      ]
     },
     "metadata": {
      "needs_background": "light"
     },
     "output_type": "display_data"
    },
    {
     "data": {
      "image/png": "[encoded data removed]",
      "text/plain": [
       "<Figure size 432x288 with 2 Axes>"
      ]
     },
     "metadata": {
      "needs_background": "light"
     },
     "output_type": "display_data"
    }
   ],
   "source": [
    "def objective(trial):\n",
    "    params = {\n",
    "        \"n_estimators\": trial.suggest_int(\"n_estimators\", 10, 1000),\n",
    "        \"max_depth\": trial.suggest_int(\"max_depth\", 2, 50),\n",
    "        \"max_leaf_nodes\": trial.suggest_int(\"max_leaf_nodes\", 2, 100),\n",
    "        \"min_samples_split\": trial.suggest_int(\"min_samples_split\", 2, 100),\n",
    "        \"min_samples_leaf\": trial.suggest_int(\"min_samples_leaf\", 2, 100),\n",
    "        \"class_weight\": \"balanced\",\n",
    "        \"random_state\": SEED,\n",
    "    }\n",
    "\n",
    "    clf = RandomForestClassifier(**params)\n",
    "    clf.fit(X_train, y_train)\n",
    "    y_val_pred = clf.predict(X_val)\n",
    "    return f1_score(y_val, y_val_pred)\n",
    "\n",
    "\n",
    "subgroup_columns = [\n",
    "    \"CLAUDIN_SUBTYPE\",\n",
    "    # \"NPI_CAT\",\n",
    "    # \"TUMOR_CAT\",\n",
    "    # \"LYMPH_CAT\",\n",
    "]\n",
    "\n",
    "feature_selection_methods = [\n",
    "    # \"variance_threshold\",\n",
    "    \"mrmr\"\n",
    "]\n",
    "\n",
    "scaling_methods = [\n",
    "    \"std\",\n",
    "    # \"norm\"\n",
    "]\n",
    "\n",
    "sampling_methods = [\n",
    "    # \"none\",\n",
    "    \"smote\"\n",
    "]\n",
    "\n",
    "for feature_selection_method, scaling_method, sampling_method in tqdm(\n",
    "    itertools.product(feature_selection_methods, scaling_methods, sampling_methods)\n",
    "):\n",
    "    preprocess_order = \"{0}_{1}_{2}\".format(\n",
    "        feature_selection_method, scaling_method, sampling_method\n",
    "    )\n",
    "    for subgroup_column in subgroup_columns:  # 各サブグループへの適用\n",
    "        print(\"#####\" * 10)\n",
    "        print(\"subgroup column: \", subgroup_column)\n",
    "        for subgroup in df_recurrenced[subgroup_column].unique():  # サブグループ毎への適用\n",
    "            # init model\n",
    "            clf = RandomForestClassifier()\n",
    "\n",
    "            print(\"subgroup: \", subgroup)\n",
    "            input_file_path = \"./{0}/{1}/{2}\".format(\n",
    "                config.INTERIM_PREPROCESSED_RECURRENCE_CROSS_DIR,\n",
    "                subgroup_column,\n",
    "                preprocess_order,\n",
    "            )\n",
    "            input_file_name = subgroup\n",
    "            functions.make_dir(input_file_path)\n",
    "            try:\n",
    "                list_train, list_val, _, _ = functions.read_preprocessed_df(\n",
    "                    input_file_path, input_file_name\n",
    "                )\n",
    "            except:\n",
    "                print(\"train data does not exist\")\n",
    "                continue\n",
    "            X_train, y_train = list_train[0], list_train[1].map(lambda x: int(x))\n",
    "            X_val, y_val = list_val[0], list_val[1].map(lambda x: int(x))\n",
    "\n",
    "            optuna.logging.set_verbosity(optuna.logging.WARNING)\n",
    "            study = optuna.create_study(\n",
    "                direction=\"maximize\", sampler=optuna.samplers.RandomSampler(seed=SEED)\n",
    "            )\n",
    "            study.optimize(objective, n_trials=1000, show_progress_bar=True)\n",
    "\n",
    "            print(study.best_params)\n",
    "            print(study.best_value)\n",
    "\n",
    "            # save params\n",
    "            save_file_path = \"./{0}/{1}/{2}/{3}\".format(\n",
    "                config.INTERIM_TUNING_RECURRENCE_CROSS_DIR,\n",
    "                subgroup_column,\n",
    "                preprocess_order,\n",
    "                clf.__class__.__name__,\n",
    "            )\n",
    "            functions.make_dir(save_file_path)\n",
    "            save_file_name_paramas = \"/params_{0}.pkl\".format(subgroup)\n",
    "            save_file_name_value = \"/value_{0}.pkl\".format(subgroup)\n",
    "            functions.pickle_dump(\n",
    "                study.best_params, save_file_path + save_file_name_paramas\n",
    "            )\n",
    "            functions.pickle_dump(\n",
    "                study.best_value, save_file_path + save_file_name_value\n",
    "            )\n",
    "\n",
    "            # use params\n",
    "            params = {\n",
    "                \"n_estimators\": study.best_params[\"n_estimators\"],\n",
    "                \"max_depth\": study.best_params[\"max_depth\"],\n",
    "                \"max_leaf_nodes\": study.best_params[\"max_leaf_nodes\"],\n",
    "                \"class_weight\": \"balanced\",\n",
    "                \"random_state\": SEED,\n",
    "            }\n",
    "            clf.set_params(**params)\n",
    "            clf.fit(X_train, y_train)\n",
    "            display(\n",
    "                functions.compare_bcms(\n",
    "                    X_train,\n",
    "                    y_train,\n",
    "                    X_val,\n",
    "                    y_val,\n",
    "                    classifier_names=[clf.__class__.__name__],\n",
    "                    classifiers=[clf],\n",
    "                    plot=True,\n",
    "                )\n",
    "            )"
   ]
  },
  {
   "cell_type": "markdown",
   "id": "549fed00-d0db-41cc-b847-0dbfd4782419",
   "metadata": {
    "tags": []
   },
   "source": [
    "### LogisticRegression"
   ]
  },
  {
   "cell_type": "code",
   "execution_count": 4,
   "id": "5fa81a5b-3ab7-43d7-8577-ccb9ea01a924",
   "metadata": {
    "tags": []
   },
   "outputs": [
    {
     "name": "stderr",
     "output_type": "stream",
     "text": [
      "0it [00:00, ?it/s]"
     ]
    },
    {
     "name": "stdout",
     "output_type": "stream",
     "text": [
      "--------------------------------------------------\n",
      "subgroup column:  CLAUDIN_SUBTYPE\n",
      "subgroup:  LumB\n"
     ]
    },
    {
     "data": {
      "application/vnd.jupyter.widget-view+json": {
       "model_id": "99f52021780d4f72971e861fbc443433",
       "version_major": 2,
       "version_minor": 0
      },
      "text/plain": [
       "  0%|          | 0/1000 [00:00<?, ?it/s]"
      ]
     },
     "metadata": {},
     "output_type": "display_data"
    },
    {
     "name": "stdout",
     "output_type": "stream",
     "text": [
      "{'penalty': 'l1', 'C': 42451.75908066813}\n",
      "0.375\n"
     ]
    },
    {
     "name": "stderr",
     "output_type": "stream",
     "text": [
      "\n",
      "1it [00:00, 10.27it/s]\n"
     ]
    },
    {
     "data": {
      "text/html": [
       "<div>\n",
       "<style scoped>\n",
       "    .dataframe tbody tr th:only-of-type {\n",
       "        vertical-align: middle;\n",
       "    }\n",
       "\n",
       "    .dataframe tbody tr th {\n",
       "        vertical-align: top;\n",
       "    }\n",
       "\n",
       "    .dataframe thead th {\n",
       "        text-align: right;\n",
       "    }\n",
       "</style>\n",
       "<table border=\"1\" class=\"dataframe\">\n",
       "  <thead>\n",
       "    <tr style=\"text-align: right;\">\n",
       "      <th></th>\n",
       "      <th>acc_train</th>\n",
       "      <th>acc_val</th>\n",
       "      <th>f1_train</th>\n",
       "      <th>f1_val</th>\n",
       "    </tr>\n",
       "    <tr>\n",
       "      <th>classifier</th>\n",
       "      <th></th>\n",
       "      <th></th>\n",
       "      <th></th>\n",
       "      <th></th>\n",
       "    </tr>\n",
       "  </thead>\n",
       "  <tbody>\n",
       "    <tr>\n",
       "      <th>LogisticRegression</th>\n",
       "      <td>0.898148</td>\n",
       "      <td>0.5</td>\n",
       "      <td>0.898148</td>\n",
       "      <td>0.375</td>\n",
       "    </tr>\n",
       "  </tbody>\n",
       "</table>\n",
       "</div>"
      ],
      "text/plain": [
       "                    acc_train  acc_val  f1_train  f1_val\n",
       "classifier                                              \n",
       "LogisticRegression   0.898148      0.5  0.898148   0.375"
      ]
     },
     "metadata": {},
     "output_type": "display_data"
    },
    {
     "name": "stdout",
     "output_type": "stream",
     "text": [
      "subgroup:  Her2\n"
     ]
    },
    {
     "data": {
      "application/vnd.jupyter.widget-view+json": {
       "model_id": "f0f5a41db6894d36b940dba0f8bf8900",
       "version_major": 2,
       "version_minor": 0
      },
      "text/plain": [
       "  0%|          | 0/1000 [00:00<?, ?it/s]"
      ]
     },
     "metadata": {},
     "output_type": "display_data"
    },
    {
     "name": "stdout",
     "output_type": "stream",
     "text": [
      "{'penalty': 'l1', 'C': 42451.75908066813}\n",
      "0.4\n"
     ]
    },
    {
     "name": "stderr",
     "output_type": "stream",
     "text": [
      "\n",
      "1it [00:00, 11.03it/s]\n"
     ]
    },
    {
     "data": {
      "text/html": [
       "<div>\n",
       "<style scoped>\n",
       "    .dataframe tbody tr th:only-of-type {\n",
       "        vertical-align: middle;\n",
       "    }\n",
       "\n",
       "    .dataframe tbody tr th {\n",
       "        vertical-align: top;\n",
       "    }\n",
       "\n",
       "    .dataframe thead th {\n",
       "        text-align: right;\n",
       "    }\n",
       "</style>\n",
       "<table border=\"1\" class=\"dataframe\">\n",
       "  <thead>\n",
       "    <tr style=\"text-align: right;\">\n",
       "      <th></th>\n",
       "      <th>acc_train</th>\n",
       "      <th>acc_val</th>\n",
       "      <th>f1_train</th>\n",
       "      <th>f1_val</th>\n",
       "    </tr>\n",
       "    <tr>\n",
       "      <th>classifier</th>\n",
       "      <th></th>\n",
       "      <th></th>\n",
       "      <th></th>\n",
       "      <th></th>\n",
       "    </tr>\n",
       "  </thead>\n",
       "  <tbody>\n",
       "    <tr>\n",
       "      <th>LogisticRegression</th>\n",
       "      <td>0.985075</td>\n",
       "      <td>0.727273</td>\n",
       "      <td>0.985075</td>\n",
       "      <td>0.4</td>\n",
       "    </tr>\n",
       "  </tbody>\n",
       "</table>\n",
       "</div>"
      ],
      "text/plain": [
       "                    acc_train   acc_val  f1_train  f1_val\n",
       "classifier                                               \n",
       "LogisticRegression   0.985075  0.727273  0.985075     0.4"
      ]
     },
     "metadata": {},
     "output_type": "display_data"
    },
    {
     "name": "stdout",
     "output_type": "stream",
     "text": [
      "subgroup:  LumA\n"
     ]
    },
    {
     "data": {
      "application/vnd.jupyter.widget-view+json": {
       "model_id": "c87f8bde97b5446e889a0d7fbd1639f1",
       "version_major": 2,
       "version_minor": 0
      },
      "text/plain": [
       "  0%|          | 0/1000 [00:00<?, ?it/s]"
      ]
     },
     "metadata": {},
     "output_type": "display_data"
    },
    {
     "name": "stdout",
     "output_type": "stream",
     "text": [
      "{'penalty': 'l1', 'C': 42451.75908066813}\n",
      "0.380952380952381\n"
     ]
    },
    {
     "name": "stderr",
     "output_type": "stream",
     "text": [
      "\n",
      "1it [00:00, 10.04it/s]\n"
     ]
    },
    {
     "data": {
      "text/html": [
       "<div>\n",
       "<style scoped>\n",
       "    .dataframe tbody tr th:only-of-type {\n",
       "        vertical-align: middle;\n",
       "    }\n",
       "\n",
       "    .dataframe tbody tr th {\n",
       "        vertical-align: top;\n",
       "    }\n",
       "\n",
       "    .dataframe thead th {\n",
       "        text-align: right;\n",
       "    }\n",
       "</style>\n",
       "<table border=\"1\" class=\"dataframe\">\n",
       "  <thead>\n",
       "    <tr style=\"text-align: right;\">\n",
       "      <th></th>\n",
       "      <th>acc_train</th>\n",
       "      <th>acc_val</th>\n",
       "      <th>f1_train</th>\n",
       "      <th>f1_val</th>\n",
       "    </tr>\n",
       "    <tr>\n",
       "      <th>classifier</th>\n",
       "      <th></th>\n",
       "      <th></th>\n",
       "      <th></th>\n",
       "      <th></th>\n",
       "    </tr>\n",
       "  </thead>\n",
       "  <tbody>\n",
       "    <tr>\n",
       "      <th>LogisticRegression</th>\n",
       "      <td>0.885417</td>\n",
       "      <td>0.35</td>\n",
       "      <td>0.885417</td>\n",
       "      <td>0.380952</td>\n",
       "    </tr>\n",
       "  </tbody>\n",
       "</table>\n",
       "</div>"
      ],
      "text/plain": [
       "                    acc_train  acc_val  f1_train    f1_val\n",
       "classifier                                                \n",
       "LogisticRegression   0.885417     0.35  0.885417  0.380952"
      ]
     },
     "metadata": {},
     "output_type": "display_data"
    },
    {
     "name": "stderr",
     "output_type": "stream",
     "text": [
      "1it [00:11, 11.06s/it]"
     ]
    },
    {
     "name": "stdout",
     "output_type": "stream",
     "text": [
      "subgroup:  claudin-low\n",
      "pkl file does not exist\n",
      "train data does not exist\n",
      "subgroup:  Basal\n",
      "pkl file does not exist\n",
      "train data does not exist\n",
      "subgroup:  Normal\n",
      "pkl file does not exist\n",
      "train data does not exist\n",
      "subgroup:  NC\n",
      "pkl file does not exist\n",
      "train data does not exist\n"
     ]
    },
    {
     "name": "stderr",
     "output_type": "stream",
     "text": [
      "\n"
     ]
    },
    {
     "data": {
      "image/png": "[encoded data removed]",
      "text/plain": [
       "<Figure size 432x288 with 2 Axes>"
      ]
     },
     "metadata": {
      "needs_background": "light"
     },
     "output_type": "display_data"
    },
    {
     "data": {
      "image/png": "[encoded data removed]",
      "text/plain": [
       "<Figure size 432x288 with 2 Axes>"
      ]
     },
     "metadata": {
      "needs_background": "light"
     },
     "output_type": "display_data"
    },
    {
     "data": {
      "image/png": "[encoded data removed]",
      "text/plain": [
       "<Figure size 432x288 with 2 Axes>"
      ]
     },
     "metadata": {
      "needs_background": "light"
     },
     "output_type": "display_data"
    },
    {
     "data": {
      "image/png": "[encoded data removed]",
      "text/plain": [
       "<Figure size 432x288 with 2 Axes>"
      ]
     },
     "metadata": {
      "needs_background": "light"
     },
     "output_type": "display_data"
    },
    {
     "data": {
      "image/png": "[encoded data removed]",
      "text/plain": [
       "<Figure size 432x288 with 2 Axes>"
      ]
     },
     "metadata": {
      "needs_background": "light"
     },
     "output_type": "display_data"
    },
    {
     "data": {
      "image/png": "[encoded data removed]",
      "text/plain": [
       "<Figure size 432x288 with 2 Axes>"
      ]
     },
     "metadata": {
      "needs_background": "light"
     },
     "output_type": "display_data"
    }
   ],
   "source": [
    "def objective(trial):\n",
    "    params = {\n",
    "        \"penalty\": trial.suggest_categorical(\"penalty\", [\"l1\", \"l2\"]),\n",
    "        \"C\": trial.suggest_float(\"C\", 1e-5, 1e5),\n",
    "        \"max_iter\": 1000,\n",
    "        \"solver\": \"liblinear\",\n",
    "        \"class_weight\": \"balanced\",\n",
    "        \"random_state\": SEED,\n",
    "    }\n",
    "\n",
    "    clf = LogisticRegression(**params)\n",
    "    clf.fit(X_train, y_train)\n",
    "    y_val_pred = clf.predict(X_val)\n",
    "    return f1_score(y_val, y_val_pred)\n",
    "\n",
    "\n",
    "subgroup_columns = [\n",
    "    \"CLAUDIN_SUBTYPE\",\n",
    "    # \"NPI_CAT\",\n",
    "    # \"TUMOR_CAT\",\n",
    "    # \"LYMPH_CAT\",\n",
    "]\n",
    "\n",
    "feature_selection_methods = [\n",
    "    # \"variance_threshold\",\n",
    "    \"mrmr\"\n",
    "]\n",
    "\n",
    "scaling_methods = [\n",
    "    \"std\",\n",
    "    # \"norm\"\n",
    "]\n",
    "\n",
    "sampling_methods = [\n",
    "    # \"none\",\n",
    "    \"smote\"\n",
    "]\n",
    "\n",
    "for feature_selection_method, scaling_method, sampling_method in tqdm(\n",
    "    itertools.product(feature_selection_methods, scaling_methods, sampling_methods)\n",
    "):\n",
    "    preprocess_order = \"{0}_{1}_{2}\".format(\n",
    "        feature_selection_method, scaling_method, sampling_method\n",
    "    )\n",
    "    for subgroup_column in subgroup_columns:  # 各サブグループへの適用\n",
    "        print(\"-----\" * 10)\n",
    "        print(\"subgroup column: \", subgroup_column)\n",
    "        for subgroup in df_recurrenced[subgroup_column].unique():  # サブグループ毎への適用\n",
    "            # init model\n",
    "            clf = LogisticRegression()\n",
    "\n",
    "            print(\"subgroup: \", subgroup)\n",
    "            input_file_path = \"./{0}/{1}/{2}\".format(\n",
    "                config.INTERIM_PREPROCESSED_RECURRENCE_CROSS_DIR,\n",
    "                subgroup_column,\n",
    "                preprocess_order,\n",
    "            )\n",
    "            input_file_name = subgroup\n",
    "            functions.make_dir(input_file_path)\n",
    "            try:\n",
    "                list_train, list_val, _, _ = functions.read_preprocessed_df(\n",
    "                    input_file_path, input_file_name\n",
    "                )\n",
    "            except:\n",
    "                print(\"train data does not exist\")\n",
    "                continue\n",
    "            X_train, y_train = list_train[0], list_train[1].map(lambda x: int(x))\n",
    "            X_val, y_val = list_val[0], list_val[1].map(lambda x: int(x))\n",
    "\n",
    "            optuna.logging.set_verbosity(optuna.logging.WARNING)\n",
    "            study = optuna.create_study(\n",
    "                direction=\"maximize\", sampler=optuna.samplers.RandomSampler(seed=SEED)\n",
    "            )\n",
    "            study.optimize(objective, n_trials=1000, show_progress_bar=True)\n",
    "\n",
    "            print(study.best_params)\n",
    "            print(study.best_value)\n",
    "\n",
    "            # save params\n",
    "            save_file_path = \"./{0}/{1}/{2}/{3}\".format(\n",
    "                config.INTERIM_TUNING_RECURRENCE_CROSS_DIR,\n",
    "                subgroup_column,\n",
    "                preprocess_order,\n",
    "                clf.__class__.__name__,\n",
    "            )\n",
    "            functions.make_dir(save_file_path)\n",
    "            save_file_name_paramas = \"/params_{0}.pkl\".format(subgroup)\n",
    "            save_file_name_value = \"/value_{0}.pkl\".format(subgroup)\n",
    "            functions.pickle_dump(\n",
    "                study.best_params, save_file_path + save_file_name_paramas\n",
    "            )\n",
    "            functions.pickle_dump(\n",
    "                study.best_value, save_file_path + save_file_name_value\n",
    "            )\n",
    "\n",
    "            # use params\n",
    "            params = {\n",
    "                \"penalty\": study.best_params[\"penalty\"],\n",
    "                \"C\": study.best_params[\"C\"],\n",
    "                \"max_iter\": 1000,\n",
    "                \"solver\": \"liblinear\",\n",
    "                \"class_weight\": \"balanced\",\n",
    "                \"random_state\": SEED,\n",
    "            }\n",
    "            clf.set_params(**params)\n",
    "            clf.fit(X_train, y_train)\n",
    "            display(\n",
    "                functions.compare_bcms(\n",
    "                    X_train,\n",
    "                    y_train,\n",
    "                    X_val,\n",
    "                    y_val,\n",
    "                    classifier_names=[clf.__class__.__name__],\n",
    "                    classifiers=[clf],\n",
    "                    plot=True,\n",
    "                )\n",
    "            )"
   ]
  },
  {
   "cell_type": "markdown",
   "id": "9381aed1-b2f2-4fa2-a38c-433ec2e26e0e",
   "metadata": {},
   "source": [
    "## SVM(linear)"
   ]
  },
  {
   "cell_type": "code",
   "execution_count": 3,
   "id": "8aa11595-8908-4cc3-bbad-034eb59cf313",
   "metadata": {
    "tags": []
   },
   "outputs": [
    {
     "name": "stderr",
     "output_type": "stream",
     "text": [
      "0it [00:00, ?it/s]"
     ]
    },
    {
     "name": "stdout",
     "output_type": "stream",
     "text": [
      "--------------------------------------------------\n",
      "subgroup column:  CLAUDIN_SUBTYPE\n",
      "subgroup:  LumB\n"
     ]
    },
    {
     "data": {
      "application/vnd.jupyter.widget-view+json": {
       "model_id": "ab45429fa8244b07a4d56200e1004848",
       "version_major": 2,
       "version_minor": 0
      },
      "text/plain": [
       "  0%|          | 0/1000 [00:00<?, ?it/s]"
      ]
     },
     "metadata": {},
     "output_type": "display_data"
    },
    {
     "name": "stdout",
     "output_type": "stream",
     "text": [
      "{'C': 1.4000217200207106}\n",
      "0.35294117647058826\n"
     ]
    },
    {
     "name": "stderr",
     "output_type": "stream",
     "text": [
      "\n",
      "0it [00:00, ?it/s]\u001b[A\n",
      "1it [00:00,  5.62it/s]\u001b[A\n"
     ]
    },
    {
     "data": {
      "text/html": [
       "<div>\n",
       "<style scoped>\n",
       "    .dataframe tbody tr th:only-of-type {\n",
       "        vertical-align: middle;\n",
       "    }\n",
       "\n",
       "    .dataframe tbody tr th {\n",
       "        vertical-align: top;\n",
       "    }\n",
       "\n",
       "    .dataframe thead th {\n",
       "        text-align: right;\n",
       "    }\n",
       "</style>\n",
       "<table border=\"1\" class=\"dataframe\">\n",
       "  <thead>\n",
       "    <tr style=\"text-align: right;\">\n",
       "      <th></th>\n",
       "      <th>acc_train</th>\n",
       "      <th>acc_val</th>\n",
       "      <th>f1_train</th>\n",
       "      <th>f1_val</th>\n",
       "    </tr>\n",
       "    <tr>\n",
       "      <th>classifier</th>\n",
       "      <th></th>\n",
       "      <th></th>\n",
       "      <th></th>\n",
       "      <th></th>\n",
       "    </tr>\n",
       "  </thead>\n",
       "  <tbody>\n",
       "    <tr>\n",
       "      <th>SVC</th>\n",
       "      <td>0.888889</td>\n",
       "      <td>0.45</td>\n",
       "      <td>0.889908</td>\n",
       "      <td>0.352941</td>\n",
       "    </tr>\n",
       "  </tbody>\n",
       "</table>\n",
       "</div>"
      ],
      "text/plain": [
       "            acc_train  acc_val  f1_train    f1_val\n",
       "classifier                                        \n",
       "SVC          0.888889     0.45  0.889908  0.352941"
      ]
     },
     "metadata": {},
     "output_type": "display_data"
    },
    {
     "name": "stdout",
     "output_type": "stream",
     "text": [
      "subgroup:  Her2\n"
     ]
    },
    {
     "data": {
      "application/vnd.jupyter.widget-view+json": {
       "model_id": "f672c6ab5ee944138ae1416b4292ff2f",
       "version_major": 2,
       "version_minor": 0
      },
      "text/plain": [
       "  0%|          | 0/1000 [00:00<?, ?it/s]"
      ]
     },
     "metadata": {},
     "output_type": "display_data"
    },
    {
     "name": "stdout",
     "output_type": "stream",
     "text": [
      "{'C': 543.4053983860236}\n",
      "0.4\n"
     ]
    },
    {
     "name": "stderr",
     "output_type": "stream",
     "text": [
      "\n",
      "0it [00:00, ?it/s]\u001b[A\n",
      "1it [00:00,  1.06it/s]\u001b[A\n"
     ]
    },
    {
     "data": {
      "text/html": [
       "<div>\n",
       "<style scoped>\n",
       "    .dataframe tbody tr th:only-of-type {\n",
       "        vertical-align: middle;\n",
       "    }\n",
       "\n",
       "    .dataframe tbody tr th {\n",
       "        vertical-align: top;\n",
       "    }\n",
       "\n",
       "    .dataframe thead th {\n",
       "        text-align: right;\n",
       "    }\n",
       "</style>\n",
       "<table border=\"1\" class=\"dataframe\">\n",
       "  <thead>\n",
       "    <tr style=\"text-align: right;\">\n",
       "      <th></th>\n",
       "      <th>acc_train</th>\n",
       "      <th>acc_val</th>\n",
       "      <th>f1_train</th>\n",
       "      <th>f1_val</th>\n",
       "    </tr>\n",
       "    <tr>\n",
       "      <th>classifier</th>\n",
       "      <th></th>\n",
       "      <th></th>\n",
       "      <th></th>\n",
       "      <th></th>\n",
       "    </tr>\n",
       "  </thead>\n",
       "  <tbody>\n",
       "    <tr>\n",
       "      <th>SVC</th>\n",
       "      <td>0.985075</td>\n",
       "      <td>0.727273</td>\n",
       "      <td>0.985075</td>\n",
       "      <td>0.4</td>\n",
       "    </tr>\n",
       "  </tbody>\n",
       "</table>\n",
       "</div>"
      ],
      "text/plain": [
       "            acc_train   acc_val  f1_train  f1_val\n",
       "classifier                                       \n",
       "SVC          0.985075  0.727273  0.985075     0.4"
      ]
     },
     "metadata": {},
     "output_type": "display_data"
    },
    {
     "name": "stdout",
     "output_type": "stream",
     "text": [
      "subgroup:  LumA\n"
     ]
    },
    {
     "data": {
      "application/vnd.jupyter.widget-view+json": {
       "model_id": "e1be261617614f6c96f965f1b0d44b79",
       "version_major": 2,
       "version_minor": 0
      },
      "text/plain": [
       "  0%|          | 0/1000 [00:00<?, ?it/s]"
      ]
     },
     "metadata": {},
     "output_type": "display_data"
    },
    {
     "name": "stdout",
     "output_type": "stream",
     "text": [
      "{'C': 543.4053983860236}\n",
      "0.380952380952381\n"
     ]
    },
    {
     "name": "stderr",
     "output_type": "stream",
     "text": [
      "\n",
      "0it [00:00, ?it/s]\u001b[A\n",
      "1it [00:00,  2.22it/s]\u001b[A\n"
     ]
    },
    {
     "data": {
      "text/html": [
       "<div>\n",
       "<style scoped>\n",
       "    .dataframe tbody tr th:only-of-type {\n",
       "        vertical-align: middle;\n",
       "    }\n",
       "\n",
       "    .dataframe tbody tr th {\n",
       "        vertical-align: top;\n",
       "    }\n",
       "\n",
       "    .dataframe thead th {\n",
       "        text-align: right;\n",
       "    }\n",
       "</style>\n",
       "<table border=\"1\" class=\"dataframe\">\n",
       "  <thead>\n",
       "    <tr style=\"text-align: right;\">\n",
       "      <th></th>\n",
       "      <th>acc_train</th>\n",
       "      <th>acc_val</th>\n",
       "      <th>f1_train</th>\n",
       "      <th>f1_val</th>\n",
       "    </tr>\n",
       "    <tr>\n",
       "      <th>classifier</th>\n",
       "      <th></th>\n",
       "      <th></th>\n",
       "      <th></th>\n",
       "      <th></th>\n",
       "    </tr>\n",
       "  </thead>\n",
       "  <tbody>\n",
       "    <tr>\n",
       "      <th>SVC</th>\n",
       "      <td>0.90625</td>\n",
       "      <td>0.35</td>\n",
       "      <td>0.907216</td>\n",
       "      <td>0.380952</td>\n",
       "    </tr>\n",
       "  </tbody>\n",
       "</table>\n",
       "</div>"
      ],
      "text/plain": [
       "            acc_train  acc_val  f1_train    f1_val\n",
       "classifier                                        \n",
       "SVC           0.90625     0.35  0.907216  0.380952"
      ]
     },
     "metadata": {},
     "output_type": "display_data"
    },
    {
     "name": "stderr",
     "output_type": "stream",
     "text": [
      "1it [14:03, 843.86s/it]"
     ]
    },
    {
     "name": "stdout",
     "output_type": "stream",
     "text": [
      "subgroup:  claudin-low\n",
      "pkl file does not exist\n",
      "train data does not exist\n",
      "subgroup:  Basal\n",
      "pkl file does not exist\n",
      "train data does not exist\n",
      "subgroup:  Normal\n",
      "pkl file does not exist\n",
      "train data does not exist\n",
      "subgroup:  NC\n",
      "pkl file does not exist\n",
      "train data does not exist\n"
     ]
    },
    {
     "name": "stderr",
     "output_type": "stream",
     "text": [
      "\n"
     ]
    },
    {
     "data": {
      "image/png": "[encoded data removed]",
      "text/plain": [
       "<Figure size 432x288 with 2 Axes>"
      ]
     },
     "metadata": {
      "needs_background": "light"
     },
     "output_type": "display_data"
    },
    {
     "data": {
      "image/png": "[encoded data removed]",
      "text/plain": [
       "<Figure size 432x288 with 2 Axes>"
      ]
     },
     "metadata": {
      "needs_background": "light"
     },
     "output_type": "display_data"
    },
    {
     "data": {
      "image/png": "[encoded data removed]",
      "text/plain": [
       "<Figure size 432x288 with 2 Axes>"
      ]
     },
     "metadata": {
      "needs_background": "light"
     },
     "output_type": "display_data"
    },
    {
     "data": {
      "image/png": "[encoded data removed]",
      "text/plain": [
       "<Figure size 432x288 with 2 Axes>"
      ]
     },
     "metadata": {
      "needs_background": "light"
     },
     "output_type": "display_data"
    },
    {
     "data": {
      "image/png": "[encoded data removed]",
      "text/plain": [
       "<Figure size 432x288 with 2 Axes>"
      ]
     },
     "metadata": {
      "needs_background": "light"
     },
     "output_type": "display_data"
    },
    {
     "data": {
      "image/png": "[encoded data removed]",
      "text/plain": [
       "<Figure size 432x288 with 2 Axes>"
      ]
     },
     "metadata": {
      "needs_background": "light"
     },
     "output_type": "display_data"
    }
   ],
   "source": [
    "def objective(trial):\n",
    "    params = {\n",
    "        \"C\": trial.suggest_float(\"C\", 1e-3, 1e3),\n",
    "        \"kernel\": \"linear\",\n",
    "        \"max_iter\": -1,\n",
    "        \"class_weight\": \"balanced\",\n",
    "        \"random_state\": SEED,\n",
    "    }\n",
    "\n",
    "    clf = SVC(**params)\n",
    "    clf.fit(X_train, y_train)\n",
    "    y_val_pred = clf.predict(X_val)\n",
    "    return f1_score(y_val, y_val_pred)\n",
    "\n",
    "\n",
    "subgroup_columns = [\n",
    "    \"CLAUDIN_SUBTYPE\",\n",
    "    # \"NPI_CAT\",\n",
    "    # \"TUMOR_CAT\",\n",
    "    # \"LYMPH_CAT\",\n",
    "]\n",
    "\n",
    "feature_selection_methods = [\n",
    "    # \"variance_threshold\",\n",
    "    \"mrmr\"\n",
    "]\n",
    "\n",
    "scaling_methods = [\n",
    "    \"std\",\n",
    "    # \"norm\"\n",
    "]\n",
    "\n",
    "sampling_methods = [\n",
    "    # \"none\",\n",
    "    \"smote\"\n",
    "]\n",
    "\n",
    "for feature_selection_method, scaling_method, sampling_method in tqdm(\n",
    "    itertools.product(feature_selection_methods, scaling_methods, sampling_methods)\n",
    "):\n",
    "    preprocess_order = \"{0}_{1}_{2}\".format(\n",
    "        feature_selection_method, scaling_method, sampling_method\n",
    "    )\n",
    "    for subgroup_column in subgroup_columns:  # 各サブグループへの適用\n",
    "        print(\"-----\" * 10)\n",
    "        print(\"subgroup column: \", subgroup_column)\n",
    "        for subgroup in df_recurrenced[subgroup_column].unique():  # サブグループ毎への適用\n",
    "            # init model\n",
    "            clf = SVC()\n",
    "\n",
    "            print(\"subgroup: \", subgroup)\n",
    "            input_file_path = \"./{0}/{1}/{2}\".format(\n",
    "                config.INTERIM_PREPROCESSED_RECURRENCE_CROSS_DIR,\n",
    "                subgroup_column,\n",
    "                preprocess_order,\n",
    "            )\n",
    "            input_file_name = subgroup\n",
    "            functions.make_dir(input_file_path)\n",
    "            try:\n",
    "                list_train, list_val, _, _ = functions.read_preprocessed_df(\n",
    "                    input_file_path, input_file_name\n",
    "                )\n",
    "            except:\n",
    "                print(\"train data does not exist\")\n",
    "                continue\n",
    "            X_train, y_train = list_train[0], list_train[1]\n",
    "            X_val, y_val = list_val[0], list_val[1]\n",
    "\n",
    "            optuna.logging.set_verbosity(optuna.logging.WARNING)\n",
    "            study = optuna.create_study(\n",
    "                direction=\"maximize\", sampler=optuna.samplers.RandomSampler(seed=SEED)\n",
    "            )\n",
    "            study.optimize(objective, n_trials=1000, show_progress_bar=True)\n",
    "\n",
    "            print(study.best_params)\n",
    "            print(study.best_value)\n",
    "\n",
    "            # save params\n",
    "            save_file_path = \"./{0}/{1}/{2}/{3}\".format(\n",
    "                config.INTERIM_TUNING_RECURRENCE_CROSS_DIR,\n",
    "                subgroup_column,\n",
    "                preprocess_order,\n",
    "                clf.__class__.__name__,\n",
    "            )\n",
    "            functions.make_dir(save_file_path)\n",
    "            save_file_name_paramas = \"/params_{0}.pkl\".format(subgroup)\n",
    "            save_file_name_value = \"/value_{0}.pkl\".format(subgroup)\n",
    "            functions.pickle_dump(\n",
    "                study.best_params, save_file_path + save_file_name_paramas\n",
    "            )\n",
    "            functions.pickle_dump(\n",
    "                study.best_value, save_file_path + save_file_name_value\n",
    "            )\n",
    "\n",
    "            # use params\n",
    "            params = {\n",
    "                \"C\": study.best_params[\"C\"],\n",
    "                \"kernel\": \"linear\",\n",
    "                \"max_iter\": -1,\n",
    "                \"class_weight\": \"balanced\",\n",
    "                \"random_state\": SEED,\n",
    "            }\n",
    "            clf.set_params(**params)\n",
    "            clf.fit(X_train, y_train)\n",
    "            display(\n",
    "                functions.compare_bcms(\n",
    "                    X_train,\n",
    "                    y_train,\n",
    "                    X_val,\n",
    "                    y_val,\n",
    "                    classifier_names=[clf.__class__.__name__],\n",
    "                    classifiers=[clf],\n",
    "                    plot=True,\n",
    "                )\n",
    "            )"
   ]
  },
  {
   "cell_type": "code",
   "execution_count": null,
   "id": "6703b95b-cfe2-488a-8ff4-389b7c275800",
   "metadata": {},
   "outputs": [],
   "source": []
  }
 ],
 "metadata": {
  "kernelspec": {
   "display_name": "Python 3 (ipykernel)",
   "language": "python",
   "name": "python3"
  },
  "language_info": {
   "codemirror_mode": {
    "name": "ipython",
    "version": 3
   },
   "file_extension": ".py",
   "mimetype": "text/x-python",
   "name": "python",
   "nbconvert_exporter": "python",
   "pygments_lexer": "ipython3",
   "version": "3.8.13"
  }
 },
 "nbformat": 4,
 "nbformat_minor": 5
}
