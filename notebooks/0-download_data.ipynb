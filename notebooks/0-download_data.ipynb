{
  "cells": [
    {
      "cell_type": "markdown",
      "id": "90d8e39c-0849-496d-a400-33f40012e6cd",
      "metadata": {},
      "source": [
        "# Download data from cBioPortal \n",
        "\n",
        "download link: https://cbioportal-datahub.s3.amazonaws.com/brca_metabric.tar.gz"
      ]
    },
    {
      "cell_type": "markdown",
      "id": "1ec0f59c-33ad-46ca-880f-b4e0754612b5",
      "metadata": {},
      "source": [
        "## 前提条件\n",
        "\n",
        "カレントディレクトリが/notebooks/であること（breast_cancer_analyticsディレクトリから'jupyter lab or notebookコマンドによってjupyter kernelを立ち上げたこと'）"
      ]
    },
    {
      "cell_type": "code",
      "execution_count": 5,
      "id": "7de6779d-009f-425d-b5ec-adc24149aa11",
      "metadata": {},
      "outputs": [],
      "source": [
        "from os.path import exists, join, dirname\n",
        "import shutil\n",
        "from pathlib import Path\n",
        "import tarfile\n",
        "\n",
        "import requests\n",
        "import urllib.error\n",
        "import urllib.request\n",
        "import pandas as pd\n",
        "\n",
        "import config\n",
        "import config\n",
        "import functions"
      ]
    },
    {
      "cell_type": "markdown",
      "id": "f422f012",
      "metadata": {},
      "source": [
        "### データディレクトリの作成"
      ]
    },
    {
      "cell_type": "code",
      "execution_count": 2,
      "id": "2185269c",
      "metadata": {},
      "outputs": [],
      "source": [
        "functions.make_dir(config.RAW_DIR)\n",
        "functions.make_dir(config.EXTERNAL_DIR)\n",
        "functions.make_dir(config.INTERIM_DIR)\n",
        "functions.make_dir(config.PROCESSED_DIR)"
      ]
    },
    {
      "cell_type": "markdown",
      "id": "f11f4604",
      "metadata": {},
      "source": [
        "### geneデータを含む全データのダウンロード・解凍"
      ]
    },
    {
      "cell_type": "code",
      "execution_count": 3,
      "id": "11085672-2b6d-4746-a44b-69822112f88b",
      "metadata": {},
      "outputs": [],
      "source": [
        "# file_name: cBioPortalからダウンロードするzipファイル\n",
        "file_name = config.RAW_BRCA_METABRIC_TG\n",
        "try:\n",
        "    # fileが存在しなければcBioPortalから取得\n",
        "    if not exists(file_name):\n",
        "        urlData = requests.get(config.URL_cBioPortal).content\n",
        "        with open(file_name, mode=\"wb\") as f:\n",
        "            f.write(urlData)\n",
        "except urllib.error.URLError as e:\n",
        "    print(e)\n",
        "\n",
        "# 解凍先の保存dir\n",
        "functions.make_dir(config.RAW_BRCA_METABRIC_DIR)\n",
        "with tarfile.open(config.RAW_BRCA_METABRIC_TG, \"r:gz\") as t:\n",
        "    t.extractall(path=config.RAW_DIR)"
      ]
    }
  ],
  "metadata": {
    "kernelspec": {
      "display_name": "breast-cancer-analyitcs",
      "language": "python",
      "name": "breast-cancer-analytics"
    },
    "language_info": {
      "codemirror_mode": {
        "name": "ipython",
        "version": 3
      },
      "file_extension": ".py",
      "mimetype": "text/x-python",
      "name": "python",
      "nbconvert_exporter": "python",
      "pygments_lexer": "ipython3",
      "version": "3.8.13"
    },
    "vscode": {
      "interpreter": {
        "hash": "6cecfcb002507d68feb988228d86e9c6727afe09fa1042e3327ddeb41aee6fc4"
      }
    }
  },
  "nbformat": 4,
  "nbformat_minor": 5
}
