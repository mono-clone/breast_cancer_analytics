{
 "cells": [
  {
   "cell_type": "markdown",
   "id": "90d8e39c-0849-496d-a400-33f40012e6cd",
   "metadata": {},
   "source": [
    "# Download data from cBioPortal \n",
    "\n",
    "download link: https://cbioportal-datahub.s3.amazonaws.com/brca_metabric.tar.gz"
   ]
  },
  {
   "cell_type": "markdown",
   "id": "1ec0f59c-33ad-46ca-880f-b4e0754612b5",
   "metadata": {},
   "source": [
    "## 前提条件\n",
    "\n",
    "カレントディレクトリが/notebooks/であること（breast_cancer_analyticsディレクトリから'jupyter lab or notebookコマンドによってjupyter kernelを立ち上げたこと'）"
   ]
  },
  {
   "cell_type": "code",
   "execution_count": 1,
   "id": "7de6779d-009f-425d-b5ec-adc24149aa11",
   "metadata": {},
   "outputs": [
    {
     "name": "stderr",
     "output_type": "stream",
     "text": [
      "/breast_cancer_analytics/notebooks/functions.py:412: FutureWarning: The default dtype for empty Series will be 'object' instead of 'float64' in a future version. Specify a dtype explicitly to silence this warning.\n",
      "  y_train: pd.Series(),\n",
      "/breast_cancer_analytics/notebooks/functions.py:414: FutureWarning: The default dtype for empty Series will be 'object' instead of 'float64' in a future version. Specify a dtype explicitly to silence this warning.\n",
      "  y_val: pd.Series(),\n"
     ]
    }
   ],
   "source": [
    "from os.path import exists, join, dirname\n",
    "import shutil\n",
    "from pathlib import Path\n",
    "import tarfile\n",
    "\n",
    "import requests\n",
    "import urllib.error\n",
    "import urllib.request\n",
    "import pandas as pd\n",
    "\n",
    "import config\n",
    "import config\n",
    "import functions"
   ]
  },
  {
   "cell_type": "markdown",
   "id": "f422f012",
   "metadata": {},
   "source": [
    "### データディレクトリの作成"
   ]
  },
  {
   "cell_type": "code",
   "execution_count": 3,
   "id": "2185269c",
   "metadata": {},
   "outputs": [],
   "source": [
    "functions.make_dir(config.RAW_DIR)\n",
    "functions.make_dir(config.EXTERNAL_DIR)\n",
    "functions.make_dir(config.INTERIM_DIR)\n",
    "functions.make_dir(config.PROCESSED_DIR)"
   ]
  },
  {
   "cell_type": "markdown",
   "id": "f11f4604",
   "metadata": {},
   "source": [
    "### geneデータを含む全データのダウンロード・解凍"
   ]
  },
  {
   "cell_type": "code",
   "execution_count": 4,
   "id": "11085672-2b6d-4746-a44b-69822112f88b",
   "metadata": {},
   "outputs": [],
   "source": [
    "# file_name: cBioPortalからダウンロードするzipファイル\n",
    "file_name = config.RAW_BRCA_METABRIC_TG\n",
    "try:\n",
    "    # fileが存在しなければcBioPortalから取得\n",
    "    if not exists(file_name):\n",
    "        urlData = requests.get(config.URL_cBioPortal).content\n",
    "        with open(file_name, mode=\"wb\") as f:\n",
    "            f.write(urlData)\n",
    "except urllib.error.URLError as e:\n",
    "    print(e)\n",
    "\n",
    "# 解凍先の保存dir\n",
    "functions.make_dir(config.RAW_BRCA_METABRIC_DIR)\n",
    "with tarfile.open(config.RAW_BRCA_METABRIC_TG, \"r:gz\") as t:\n",
    "    t.extractall(path=config.RAW_DIR)"
   ]
  },
  {
   "cell_type": "markdown",
   "id": "3ce531e7-9d4b-4596-a2d5-1687b5c1942b",
   "metadata": {},
   "source": [
    "## data_clinical_patient\n",
    "\n",
    "データの内容の確認のために、head（もしくはtail）のみ抽出する  \n",
    "notionにまとめた現在、実行不要  "
   ]
  },
  {
   "cell_type": "markdown",
   "id": "19ce9559-acad-45f2-bc0f-5720ba3cce50",
   "metadata": {},
   "source": [
    "# headのみ記載したcsvファイルの作成\n",
    "# 通常不要。初期にデータの詳細を知るために使用した\n",
    "def create_head_csv(file_path: str, size: int = 5):\n",
    "    file_name = file_path.split(\"/\")[-1].split(\".\")[0]\n",
    "    functions.make_dir(config.INTERIM_OTHERS_DIR)\n",
    "    pd.read_table(file_path).head(size).to_csv(\n",
    "        config.INTERIM_OTHERS_DIR + \"/head/\" + file_name + \"_head.csv\"\n",
    "    )"
   ]
  },
  {
   "cell_type": "markdown",
   "id": "2351d0ad-6644-47dc-91d2-1a62d045d34a",
   "metadata": {},
   "source": [
    "functions.make_dir(config.INTERIM_OTHERS_DIR + \"/head\")\n",
    "\n",
    "p = Path(config.RAW_BRCA_METABRIC_DIR)\n",
    "\n",
    "# 各headのみ記載したデータをtxt形式で保存\n",
    "for file_name in sorted(\n",
    "    [str(file_name) for file_name in list(p.glob(\"**/data_*.txt\"))]\n",
    "):\n",
    "    print(file_name)\n",
    "    create_head_csv(file_name, 4)"
   ]
  },
  {
   "cell_type": "code",
   "execution_count": null,
   "id": "749f7322-8db1-460a-bd98-47b9aa311487",
   "metadata": {},
   "outputs": [],
   "source": []
  }
 ],
 "metadata": {
  "kernelspec": {
   "display_name": "Python 3 (ipykernel)",
   "language": "python",
   "name": "python3"
  },
  "language_info": {
   "codemirror_mode": {
    "name": "ipython",
    "version": 3
   },
   "file_extension": ".py",
   "mimetype": "text/x-python",
   "name": "python",
   "nbconvert_exporter": "python",
   "pygments_lexer": "ipython3",
   "version": "3.8.13"
  },
  "vscode": {
   "interpreter": {
    "hash": "6cecfcb002507d68feb988228d86e9c6727afe09fa1042e3327ddeb41aee6fc4"
   }
  }
 },
 "nbformat": 4,
 "nbformat_minor": 5
}
