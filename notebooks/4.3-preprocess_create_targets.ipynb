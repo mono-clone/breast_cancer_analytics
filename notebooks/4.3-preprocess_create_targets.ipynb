{
 "cells": [
  {
   "cell_type": "code",
   "execution_count": 12,
   "id": "b0a0fc6a-b035-4480-8dac-c27e4f21627b",
   "metadata": {
    "tags": []
   },
   "outputs": [],
   "source": [
    "import os\n",
    "import numpy as np\n",
    "import pandas as pd\n",
    "\n",
    "from IPython.display import HTML\n",
    "from sklearn.preprocessing import OneHotEncoder, LabelEncoder\n",
    "\n",
    "import config\n",
    "\n",
    "# 最大表示列数の指定（ここでは50列を指定）\n",
    "pd.set_option(\"display.max_columns\", 50)\n",
    "pd.set_option(\"display.max_rows\", 50)\n",
    "\n",
    "\n",
    "def make_dir(dir_name: str):\n",
    "    if not os.path.exists(dir_name):\n",
    "        os.makedirs(dir_name)"
   ]
  },
  {
   "cell_type": "code",
   "execution_count": 13,
   "id": "ed710a53-04a6-4b0b-8665-f88fbdba687c",
   "metadata": {
    "tags": []
   },
   "outputs": [
    {
     "name": "stdout",
     "output_type": "stream",
     "text": [
      "<class 'pandas.core.frame.DataFrame'>\n",
      "RangeIndex: 1124 entries, 0 to 1123\n",
      "Data columns (total 64 columns):\n",
      " #   Column                                                          Non-Null Count  Dtype  \n",
      "---  ------                                                          --------------  -----  \n",
      " 0   PATIENT_ID                                                      1124 non-null   object \n",
      " 1   LYMPH_NODES_EXAMINED_POSITIVE                                   1124 non-null   float64\n",
      " 2   NPI                                                             1124 non-null   float64\n",
      " 3   CELLULARITY                                                     1124 non-null   int64  \n",
      " 4   CHEMOTHERAPY                                                    1124 non-null   bool   \n",
      " 5   ER_IHC                                                          1124 non-null   int64  \n",
      " 6   HER2_SNP6                                                       1124 non-null   int64  \n",
      " 7   HORMONE_THERAPY                                                 1124 non-null   bool   \n",
      " 8   INFERRED_MENOPAUSAL_STATE                                       1124 non-null   int64  \n",
      " 9   SEX                                                             1124 non-null   object \n",
      " 10  AGE_AT_DIAGNOSIS                                                1124 non-null   float64\n",
      " 11  OS_MONTHS                                                       1124 non-null   float64\n",
      " 12  OS_STATUS                                                       1124 non-null   bool   \n",
      " 13  VITAL_STATUS                                                    1124 non-null   object \n",
      " 14  RADIO_THERAPY                                                   1124 non-null   bool   \n",
      " 15  RFS_STATUS                                                      1124 non-null   bool   \n",
      " 16  RFS_MONTHS                                                      1124 non-null   float64\n",
      " 17  SAMPLE_ID                                                       1124 non-null   object \n",
      " 18  ER_STATUS                                                       1124 non-null   int64  \n",
      " 19  HER2_STATUS                                                     1124 non-null   int64  \n",
      " 20  GRADE                                                           1124 non-null   float64\n",
      " 21  PR_STATUS                                                       1124 non-null   int64  \n",
      " 22  SAMPLE_TYPE                                                     1124 non-null   object \n",
      " 23  TUMOR_SIZE                                                      1124 non-null   float64\n",
      " 24  TUMOR_STAGE                                                     1124 non-null   float64\n",
      " 25  TMB_NONSYNONYMOUS                                               1124 non-null   float64\n",
      " 26  COHORT_2.0                                                      1124 non-null   float64\n",
      " 27  COHORT_3.0                                                      1124 non-null   float64\n",
      " 28  COHORT_5.0                                                      1124 non-null   float64\n",
      " 29  INTCLUST_10                                                     1124 non-null   float64\n",
      " 30  INTCLUST_2                                                      1124 non-null   float64\n",
      " 31  INTCLUST_3                                                      1124 non-null   float64\n",
      " 32  INTCLUST_4ER+                                                   1124 non-null   float64\n",
      " 33  INTCLUST_4ER-                                                   1124 non-null   float64\n",
      " 34  INTCLUST_5                                                      1124 non-null   float64\n",
      " 35  INTCLUST_6                                                      1124 non-null   float64\n",
      " 36  INTCLUST_7                                                      1124 non-null   float64\n",
      " 37  INTCLUST_8                                                      1124 non-null   float64\n",
      " 38  INTCLUST_9                                                      1124 non-null   float64\n",
      " 39  CLAUDIN_SUBTYPE_Her2                                            1124 non-null   float64\n",
      " 40  CLAUDIN_SUBTYPE_LumA                                            1124 non-null   float64\n",
      " 41  CLAUDIN_SUBTYPE_LumB                                            1124 non-null   float64\n",
      " 42  CLAUDIN_SUBTYPE_NC                                              1124 non-null   float64\n",
      " 43  CLAUDIN_SUBTYPE_Normal                                          1124 non-null   float64\n",
      " 44  CLAUDIN_SUBTYPE_claudin-low                                     1124 non-null   float64\n",
      " 45  THREEGENE_ER+/HER2- Low Prolif                                  1124 non-null   float64\n",
      " 46  THREEGENE_ER-/HER2-                                             1124 non-null   float64\n",
      " 47  THREEGENE_HER2+                                                 1124 non-null   float64\n",
      " 48  HISTOLOGICAL_SUBTYPE_Lobular                                    1124 non-null   float64\n",
      " 49  HISTOLOGICAL_SUBTYPE_Medullary                                  1124 non-null   float64\n",
      " 50  HISTOLOGICAL_SUBTYPE_Mixed                                      1124 non-null   float64\n",
      " 51  HISTOLOGICAL_SUBTYPE_Mucinous                                   1124 non-null   float64\n",
      " 52  HISTOLOGICAL_SUBTYPE_Other                                      1124 non-null   float64\n",
      " 53  HISTOLOGICAL_SUBTYPE_Tubular/ cribriform                        1124 non-null   float64\n",
      " 54  BREAST_SURGERY_MASTECTOMY                                       1124 non-null   float64\n",
      " 55  LATERALITY_Right                                                1124 non-null   float64\n",
      " 56  CANCER_TYPE_DETAILED_Breast Invasive Ductal Carcinoma           1124 non-null   float64\n",
      " 57  CANCER_TYPE_DETAILED_Breast Invasive Lobular Carcinoma          1124 non-null   float64\n",
      " 58  CANCER_TYPE_DETAILED_Breast Invasive Mixed Mucinous Carcinoma   1124 non-null   float64\n",
      " 59  CANCER_TYPE_DETAILED_Breast Mixed Ductal and Lobular Carcinoma  1124 non-null   float64\n",
      " 60  ONCOTREE_CODE_IDC                                               1124 non-null   float64\n",
      " 61  ONCOTREE_CODE_ILC                                               1124 non-null   float64\n",
      " 62  ONCOTREE_CODE_IMMC                                              1124 non-null   float64\n",
      " 63  ONCOTREE_CODE_MDLC                                              1124 non-null   float64\n",
      "dtypes: bool(5), float64(47), int64(7), object(5)\n",
      "memory usage: 523.7+ KB\n"
     ]
    }
   ],
   "source": [
    "df_MB_onehot_concated = pd.read_pickle(\n",
    "    config.INTERIM_PICKLE_PREPROCESSED_DIR + \"/4.2-df_MB_onehot_concated.pkl\"\n",
    ")\n",
    "df_MB_onehot_concated.info()"
   ]
  },
  {
   "cell_type": "code",
   "execution_count": 14,
   "id": "ee7f0abf-fe25-450f-a3de-02f6a569e5dc",
   "metadata": {},
   "outputs": [
    {
     "data": {
      "text/plain": [
       "Index(['PATIENT_ID', 'LYMPH_NODES_EXAMINED_POSITIVE', 'NPI', 'CELLULARITY',\n",
       "       'CHEMOTHERAPY', 'ER_IHC', 'HER2_SNP6', 'HORMONE_THERAPY',\n",
       "       'INFERRED_MENOPAUSAL_STATE', 'SEX', 'AGE_AT_DIAGNOSIS', 'OS_MONTHS',\n",
       "       'OS_STATUS', 'VITAL_STATUS', 'RADIO_THERAPY', 'RFS_STATUS',\n",
       "       'RFS_MONTHS', 'SAMPLE_ID', 'ER_STATUS', 'HER2_STATUS', 'GRADE',\n",
       "       'PR_STATUS', 'SAMPLE_TYPE', 'TUMOR_SIZE', 'TUMOR_STAGE',\n",
       "       'TMB_NONSYNONYMOUS', 'COHORT_2.0', 'COHORT_3.0', 'COHORT_5.0',\n",
       "       'INTCLUST_10', 'INTCLUST_2', 'INTCLUST_3', 'INTCLUST_4ER+',\n",
       "       'INTCLUST_4ER-', 'INTCLUST_5', 'INTCLUST_6', 'INTCLUST_7', 'INTCLUST_8',\n",
       "       'INTCLUST_9', 'CLAUDIN_SUBTYPE_Her2', 'CLAUDIN_SUBTYPE_LumA',\n",
       "       'CLAUDIN_SUBTYPE_LumB', 'CLAUDIN_SUBTYPE_NC', 'CLAUDIN_SUBTYPE_Normal',\n",
       "       'CLAUDIN_SUBTYPE_claudin-low', 'THREEGENE_ER+/HER2- Low Prolif',\n",
       "       'THREEGENE_ER-/HER2-', 'THREEGENE_HER2+',\n",
       "       'HISTOLOGICAL_SUBTYPE_Lobular', 'HISTOLOGICAL_SUBTYPE_Medullary',\n",
       "       'HISTOLOGICAL_SUBTYPE_Mixed', 'HISTOLOGICAL_SUBTYPE_Mucinous',\n",
       "       'HISTOLOGICAL_SUBTYPE_Other',\n",
       "       'HISTOLOGICAL_SUBTYPE_Tubular/ cribriform', 'BREAST_SURGERY_MASTECTOMY',\n",
       "       'LATERALITY_Right',\n",
       "       'CANCER_TYPE_DETAILED_Breast Invasive Ductal Carcinoma',\n",
       "       'CANCER_TYPE_DETAILED_Breast Invasive Lobular Carcinoma',\n",
       "       'CANCER_TYPE_DETAILED_Breast Invasive Mixed Mucinous Carcinoma',\n",
       "       'CANCER_TYPE_DETAILED_Breast Mixed Ductal and Lobular Carcinoma',\n",
       "       'ONCOTREE_CODE_IDC', 'ONCOTREE_CODE_ILC', 'ONCOTREE_CODE_IMMC',\n",
       "       'ONCOTREE_CODE_MDLC'],\n",
       "      dtype='object')"
      ]
     },
     "execution_count": 14,
     "metadata": {},
     "output_type": "execute_result"
    }
   ],
   "source": [
    "# column確認\n",
    "df_MB_onehot_concated.columns"
   ]
  },
  {
   "cell_type": "markdown",
   "id": "274bbc23-4e0e-4c5b-ba98-6d7f7fb7a2f2",
   "metadata": {},
   "source": [
    "# 目的変数の生成\n",
    "\n",
    "元のdfにはない目的変数カラムを生成する。  "
   ]
  },
  {
   "cell_type": "markdown",
   "id": "f7759544-6d18-4c72-88eb-815c11d4b763",
   "metadata": {
    "tags": []
   },
   "source": [
    "## 目的変数｜5年後の予後の2値分類\n",
    "\n",
    "### df| df_MB_OS_status_in_5years\n",
    "5年後の予後を2値分類する。  \n",
    "そのためにVITAL_STATUSとOS_MONTHを利用する。  \n",
    "以下のフローチャートで生成する。  "
   ]
  },
  {
   "cell_type": "code",
   "execution_count": 15,
   "id": "ec82118d-3581-467b-97a9-04efab020c14",
   "metadata": {},
   "outputs": [
    {
     "data": {
      "text/html": [
       "<div class=\"mxgraph\" style=\"max-width:100%;border:1px solid transparent;\" data-mxgraph=\"{&quot;highlight&quot;:&quot;#0000ff&quot;,&quot;nav&quot;:true,&quot;resize&quot;:true,&quot;toolbar&quot;:&quot;zoom layers tags lightbox&quot;,&quot;edit&quot;:&quot;_blank&quot;,&quot;xml&quot;:&quot;&lt;mxfile host=\\&quot;Electron\\&quot; modified=\\&quot;2022-05-01T07:33:44.405Z\\&quot; agent=\\&quot;5.0 (Macintosh; Intel Mac OS X 10_15_7) AppleWebKit/537.36 (KHTML, like Gecko) draw.io/17.4.2 Chrome/100.0.4896.60 Electron/18.0.1 Safari/537.36\\&quot; etag=\\&quot;CUa6MuG2A-EYqdbBh0ys\\&quot; version=\\&quot;17.4.2\\&quot; type=\\&quot;device\\&quot;&gt;&lt;diagram id=\\&quot;C5RBs43oDa-KdzZeNtuy\\&quot; name=\\&quot;Page-1\\&quot;&gt;7VhZc5swEP41TJ7a4Yix/RjbcZI2SduBJNOnjAIyqBasK4SP/vpKQTIQXB9tncMTP3jYZVlJ+317gOH0k/kZQ5P4CkJMDdsM54YzMGy7ZZniXyoWhcLtOoUiYiQsVFap8MgvrJTquSgnIc5qhhyAcjKpKwNIUxzwmg4xBrO62QhofdUJinBD4QWINrV3JORxoe3Y7VJ/jkkU65Utt1vcSZA2VifJYhTCrKJyTg2nzwB4cZXM+5jK2Om43F0s7ujl2D379C37iW56n/3r2w+Fs+EujyyPwHDK/69ru3A9RTRX8VJn5QsdQAZ5GmLpxDScXswTKi4tcfkDc75QgKOcg1AB4zFEkCJ6CTBRdiNIuTKzpIzT8EQCK+QHCsG4UA0JpWoNISn7jpAyzmC8xE46WAIhjSl6wLSHgnH0uNE+UGDiVgoplq5CQQZ1lnJzp6W2t2VsFQYZ5CzAa+xUcnDEIrzOn1vYyf1VeKqQO8OQYM4WwoBhijiZ1smMVE5ES7sSd3GhoN+BBk6DBuHIaPVuL/yTy3vPP/FvPMMWrs0v3v3Vl2v/3DNagzVMkSjNYsKxN0GP4ZqJ2lJnT5UV4uC9iKIsU5hugHw3yKaYcTxfG2R911WZrkpdR4mzsm5YuhjElZpxbO4JluMGLN9FKX1P0H9JUHfLBNX9a2OGKrJoYmydsMrTVyDiXKUJjEaZ2NhT6iwX/Hs2tRpsuoYGmTbj8abp9kJkau/GJevVc8ltcKnsDDITXJTIek+5jLm8b+raWi1cMSQPeba5V9QAlvQZooRQGaxzTKeYkwCt6CiIkigVQiCwxmw1c8SSJI2E5JaS/8hUUXz32Gna9U6zlKutxlzRajr7ajXt1ROAYrZs9maB4xDRDB9c63fsJ4B0X7r3d7ap1m+6Fj9769dldXPvt7as14o95kdH/GoEev3jQHer4fJ9HtgPw+xDmwj0Dit8qr8+qv5xNCCCLLYJI/E3IBlGGT56Hw3+OBrYqzrRs44GuhpWZwMmAnFoM8DT1/9j56VnAF0lNk9lPssPfyhzrP0BIsTyS25RE8vP4c7pbw==&lt;/diagram&gt;&lt;/mxfile&gt;&quot;}\"></div><script type=\"text/javascript\" src=\"https://viewer.diagrams.net/js/viewer-static.min.js\"></script>"
      ],
      "text/plain": [
       "<IPython.core.display.HTML object>"
      ]
     },
     "execution_count": 15,
     "metadata": {},
     "output_type": "execute_result"
    }
   ],
   "source": [
    "HTML(\n",
    "    '<div class=\"mxgraph\" style=\"max-width:100%;border:1px solid transparent;\" data-mxgraph=\"{&quot;highlight&quot;:&quot;#0000ff&quot;,&quot;nav&quot;:true,&quot;resize&quot;:true,&quot;toolbar&quot;:&quot;zoom layers tags lightbox&quot;,&quot;edit&quot;:&quot;_blank&quot;,&quot;xml&quot;:&quot;&lt;mxfile host=\\&quot;Electron\\&quot; modified=\\&quot;2022-05-01T07:33:44.405Z\\&quot; agent=\\&quot;5.0 (Macintosh; Intel Mac OS X 10_15_7) AppleWebKit/537.36 (KHTML, like Gecko) draw.io/17.4.2 Chrome/100.0.4896.60 Electron/18.0.1 Safari/537.36\\&quot; etag=\\&quot;CUa6MuG2A-EYqdbBh0ys\\&quot; version=\\&quot;17.4.2\\&quot; type=\\&quot;device\\&quot;&gt;&lt;diagram id=\\&quot;C5RBs43oDa-KdzZeNtuy\\&quot; name=\\&quot;Page-1\\&quot;&gt;7VhZc5swEP41TJ7a4Yix/RjbcZI2SduBJNOnjAIyqBasK4SP/vpKQTIQXB9tncMTP3jYZVlJ+317gOH0k/kZQ5P4CkJMDdsM54YzMGy7ZZniXyoWhcLtOoUiYiQsVFap8MgvrJTquSgnIc5qhhyAcjKpKwNIUxzwmg4xBrO62QhofdUJinBD4QWINrV3JORxoe3Y7VJ/jkkU65Utt1vcSZA2VifJYhTCrKJyTg2nzwB4cZXM+5jK2Om43F0s7ujl2D379C37iW56n/3r2w+Fs+EujyyPwHDK/69ru3A9RTRX8VJn5QsdQAZ5GmLpxDScXswTKi4tcfkDc75QgKOcg1AB4zFEkCJ6CTBRdiNIuTKzpIzT8EQCK+QHCsG4UA0JpWoNISn7jpAyzmC8xE46WAIhjSl6wLSHgnH0uNE+UGDiVgoplq5CQQZ1lnJzp6W2t2VsFQYZ5CzAa+xUcnDEIrzOn1vYyf1VeKqQO8OQYM4WwoBhijiZ1smMVE5ES7sSd3GhoN+BBk6DBuHIaPVuL/yTy3vPP/FvPMMWrs0v3v3Vl2v/3DNagzVMkSjNYsKxN0GP4ZqJ2lJnT5UV4uC9iKIsU5hugHw3yKaYcTxfG2R911WZrkpdR4mzsm5YuhjElZpxbO4JluMGLN9FKX1P0H9JUHfLBNX9a2OGKrJoYmydsMrTVyDiXKUJjEaZ2NhT6iwX/Hs2tRpsuoYGmTbj8abp9kJkau/GJevVc8ltcKnsDDITXJTIek+5jLm8b+raWi1cMSQPeba5V9QAlvQZooRQGaxzTKeYkwCt6CiIkigVQiCwxmw1c8SSJI2E5JaS/8hUUXz32Gna9U6zlKutxlzRajr7ajXt1ROAYrZs9maB4xDRDB9c63fsJ4B0X7r3d7ap1m+6Fj9769dldXPvt7as14o95kdH/GoEev3jQHer4fJ9HtgPw+xDmwj0Dit8qr8+qv5xNCCCLLYJI/E3IBlGGT56Hw3+OBrYqzrRs44GuhpWZwMmAnFoM8DT1/9j56VnAF0lNk9lPssPfyhzrP0BIsTyS25RE8vP4c7pbw==&lt;/diagram&gt;&lt;/mxfile&gt;&quot;}\"></div><script type=\"text/javascript\" src=\"https://viewer.diagrams.net/js/viewer-static.min.js\"></script>'\n",
    ")"
   ]
  },
  {
   "cell_type": "code",
   "execution_count": 16,
   "id": "b371fd68-3cc5-4914-9fe2-7d05d9783f85",
   "metadata": {},
   "outputs": [],
   "source": [
    "df_MB_OS_status_in_5years = df_MB_onehot_concated.copy()"
   ]
  },
  {
   "cell_type": "code",
   "execution_count": 17,
   "id": "420b8e42-9a89-4ad3-b60f-e33ee3b0f5a0",
   "metadata": {},
   "outputs": [
    {
     "data": {
      "text/plain": [
       "((844, 64), (198, 64))"
      ]
     },
     "execution_count": 17,
     "metadata": {},
     "output_type": "execute_result"
    }
   ],
   "source": [
    "df_MB_OS_status_in_5years[\n",
    "    df_MB_OS_status_in_5years[\"OS_MONTHS\"] > 60\n",
    "].shape, df_MB_OS_status_in_5years[\n",
    "    (df_MB_OS_status_in_5years[\"OS_MONTHS\"] <= 60)\n",
    "    & (df_MB_OS_status_in_5years[\"VITAL_STATUS\"] == \"Died of Disease\")\n",
    "].shape"
   ]
  },
  {
   "cell_type": "code",
   "execution_count": 18,
   "id": "9ac1b529-617f-46e6-960b-ff44fc2db819",
   "metadata": {},
   "outputs": [
    {
     "data": {
      "text/plain": [
       "False    844\n",
       "True     198\n",
       "Name: target, dtype: int64"
      ]
     },
     "metadata": {},
     "output_type": "display_data"
    },
    {
     "data": {
      "text/plain": [
       "0"
      ]
     },
     "metadata": {},
     "output_type": "display_data"
    }
   ],
   "source": [
    "df_MB_OS_status_in_5years = df_MB_onehot_concated.copy()\n",
    "df_MB_OS_status_in_5years[\"target\"] = np.nan\n",
    "df_MB_OS_status_in_5years[\"target\"] = df_MB_OS_status_in_5years[\"target\"].mask(\n",
    "    df_MB_OS_status_in_5years[\"OS_MONTHS\"] > 60, False\n",
    ")\n",
    "df_MB_OS_status_in_5years[\"target\"] = df_MB_OS_status_in_5years[\"target\"].mask(\n",
    "    (df_MB_OS_status_in_5years[\"OS_MONTHS\"] <= 60)\n",
    "    & (df_MB_OS_status_in_5years[\"VITAL_STATUS\"] == \"Died of Disease\"),\n",
    "    True,\n",
    ")\n",
    "df_MB_OS_status_in_5years = df_MB_OS_status_in_5years.dropna().astype(bool)\n",
    "display(\n",
    "    df_MB_OS_status_in_5years.target.value_counts(),\n",
    "    df_MB_OS_status_in_5years.target.isnull().sum(),\n",
    ")"
   ]
  },
  {
   "cell_type": "code",
   "execution_count": 19,
   "id": "7fbd6b7f-a25c-4d3f-8102-67bbe60835ac",
   "metadata": {},
   "outputs": [
    {
     "data": {
      "text/plain": [
       "(1042, 65)"
      ]
     },
     "execution_count": 19,
     "metadata": {},
     "output_type": "execute_result"
    }
   ],
   "source": [
    "df_MB_OS_status_in_5years.shape"
   ]
  },
  {
   "cell_type": "code",
   "execution_count": 20,
   "id": "26446222-1ad6-42dc-995a-e8b2b63025c6",
   "metadata": {},
   "outputs": [],
   "source": [
    "# save\n",
    "make_dir(config.INTERIM_PICKLE_PREPROCESSED_DIR)\n",
    "df_MB_OS_status_in_5years.to_pickle(\n",
    "    config.INTERIM_PICKLE_PREPROCESSED_DIR + \"/4.3-df_MB_OS_status_in_5years.pkl\"\n",
    ")"
   ]
  },
  {
   "cell_type": "code",
   "execution_count": null,
   "id": "c3c2682e-cc58-413e-88b4-1b890f906d0d",
   "metadata": {},
   "outputs": [],
   "source": []
  }
 ],
 "metadata": {
  "kernelspec": {
   "display_name": "breast-cancer-analyitcs",
   "language": "python",
   "name": "breast-cancer-analytics"
  },
  "language_info": {
   "codemirror_mode": {
    "name": "ipython",
    "version": 3
   },
   "file_extension": ".py",
   "mimetype": "text/x-python",
   "name": "python",
   "nbconvert_exporter": "python",
   "pygments_lexer": "ipython3",
   "version": "3.8.13"
  }
 },
 "nbformat": 4,
 "nbformat_minor": 5
}
