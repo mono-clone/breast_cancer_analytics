{
 "cells": [
  {
   "cell_type": "markdown",
   "id": "39ae2246-9f10-41f5-82e7-d415cf86aee0",
   "metadata": {},
   "source": [
    "# 論文再現\n",
    "\n",
    "参考文献の精度が高すぎるため、リークなどがあったのではないか確認のために再現実装を行う\n",
    "\n",
    "参考文献で述べられている特徴量選択手法は有料であり、かつpythonでの利用が難しそうなため、参考文献内で提示された遺伝子を特徴量として精度を確認する"
   ]
  },
  {
   "cell_type": "code",
   "execution_count": 1,
   "id": "2d992235-d9ef-4a88-a47e-2ed687ece7f1",
   "metadata": {},
   "outputs": [],
   "source": [
    "import os\n",
    "import random\n",
    "import itertools\n",
    "import re\n",
    "\n",
    "# 基本的なライブラリ\n",
    "import numpy as np\n",
    "import pandas as pd\n",
    "import scipy as sp\n",
    "from scipy import stats\n",
    "\n",
    "# 描画ライブラリ\n",
    "import matplotlib.pyplot as plt\n",
    "import seaborn as sns\n",
    "from seaborn_analyzer import CustomPairPlot\n",
    "import graphviz\n",
    "import pydotplus\n",
    "from IPython.display import Image\n",
    "from IPython.display import HTML\n",
    "from six import StringIO\n",
    "from ipywidgets import interact, FloatSlider\n",
    "\n",
    "# 前処理\n",
    "from sklearn.preprocessing import StandardScaler, MinMaxScaler\n",
    "from imblearn.over_sampling import SMOTE\n",
    "from sklearn.feature_selection import VarianceThreshold\n",
    "\n",
    "# 補完\n",
    "from sklearn.experimental import (\n",
    "    enable_iterative_imputer,\n",
    ")  # IterativeImputerをimportするために必要\n",
    "from sklearn.impute import SimpleImputer, IterativeImputer, KNNImputer\n",
    "\n",
    "# エンコード\n",
    "from sklearn.preprocessing import OneHotEncoder, LabelEncoder, OrdinalEncoder\n",
    "\n",
    "# データセット分割\n",
    "from sklearn.model_selection import (\n",
    "    train_test_split,\n",
    "    StratifiedKFold,\n",
    "    ShuffleSplit,\n",
    "    StratifiedShuffleSplit,\n",
    "    KFold,\n",
    "    cross_validate,\n",
    ")\n",
    "\n",
    "# 特徴量選択\n",
    "from sklearn.feature_selection import (\n",
    "    GenericUnivariateSelect,\n",
    "    f_classif,\n",
    "    mutual_info_classif,\n",
    "    chi2,\n",
    ")\n",
    "from boruta import BorutaPy\n",
    "\n",
    "# https://github.com/smazzanti/mrmr\n",
    "# pipでinstallはできたが、そのままimportできなかったので、\n",
    "# ライブラリのソースコードをそのまま環境に設置\n",
    "from libraries.mrmr import mrmr\n",
    "\n",
    "# 学習中\n",
    "from tqdm import tqdm\n",
    "from sklearn.model_selection import learning_curve\n",
    "from sklearn.metrics import roc_auc_score\n",
    "from sklearn.metrics import accuracy_score, precision_score, recall_score, f1_score\n",
    "from sklearn.metrics import confusion_matrix, ConfusionMatrixDisplay\n",
    "\n",
    "import warnings\n",
    "\n",
    "import networkx as nx\n",
    "\n",
    "\n",
    "# config python file\n",
    "import config\n",
    "\n",
    "SEED = config.SEED\n",
    "INDEX_MICROARRAY = config.INDEX_MICROARRAY\n",
    "\n",
    "from functions import *\n",
    "\n",
    "fix_seed(SEED)\n",
    "\n",
    "\n",
    "# 最大表示列数の指定（ここでは50列を指定）N\n",
    "pd.set_option(\"display.max_columns\", 50)\n",
    "pd.set_option(\"display.max_rows\", 50)\n",
    "\n",
    "%matplotlib inline"
   ]
  },
  {
   "cell_type": "markdown",
   "id": "7a4f3876-4e08-4789-b490-53a0f6e2a69e",
   "metadata": {
    "tags": []
   },
   "source": [
    "# データ読み込み\n"
   ]
  },
  {
   "cell_type": "markdown",
   "id": "215829a7-dc36-470f-b259-4b76ffcb0e7f",
   "metadata": {
    "jp-MarkdownHeadingCollapsed": true,
    "tags": []
   },
   "source": [
    "## 生データの読み込み"
   ]
  },
  {
   "cell_type": "code",
   "execution_count": 2,
   "id": "64a0240b-49d3-4749-b63e-3c4970f7c070",
   "metadata": {},
   "outputs": [],
   "source": [
    "df_patient = pd.read_table(\n",
    "    config.RAW_BRCA_METABRIC_DIR + \"/data_clinical_patient.txt\", header=4\n",
    ")\n",
    "df_sample = pd.read_table(\n",
    "    config.RAW_BRCA_METABRIC_DIR + \"/data_clinical_sample.txt\", header=4\n",
    ")"
   ]
  },
  {
   "cell_type": "code",
   "execution_count": 3,
   "id": "895d3164-5064-49a8-b19b-aa49215bcc08",
   "metadata": {
    "tags": []
   },
   "outputs": [],
   "source": [
    "df_clinical = pd.merge(df_patient, df_sample, on=\"PATIENT_ID\")"
   ]
  },
  {
   "cell_type": "markdown",
   "id": "cdf463e4-d588-43ff-8976-b3b329db3e7d",
   "metadata": {
    "jp-MarkdownHeadingCollapsed": true,
    "tags": []
   },
   "source": [
    "### 臨床データ特徴量の順序変更（読みやすさのため）"
   ]
  },
  {
   "cell_type": "code",
   "execution_count": 4,
   "id": "b4e4003e-90de-45c4-a920-98d2fa37a33a",
   "metadata": {},
   "outputs": [],
   "source": [
    "def align_columns(df: pd.DataFrame, regex: str):\n",
    "    # まとめたいcolumnの正規表現を一時退避\n",
    "    df_copy = df.copy()\n",
    "    df_tmp = df_copy.filter(regex=regex)\n",
    "    # 元のdfから落とす\n",
    "    df_copy.drop(df_tmp.columns, axis=1, inplace=True)\n",
    "    # 元のdfに結合\n",
    "    return pd.merge(df_copy, df_tmp, right_index=True, left_index=True)"
   ]
  },
  {
   "cell_type": "code",
   "execution_count": 5,
   "id": "ac939ecc-0531-4099-b8f1-4ddd6675ba11",
   "metadata": {
    "tags": []
   },
   "outputs": [],
   "source": [
    "# 癌の種類\n",
    "df_clinical = align_columns(df_clinical, \"^CANCER_\")\n",
    "# 重要そう（直感）な特徴量\n",
    "df_clinical = align_columns(df_clinical, \"^ER_|^HER2_|^TUMOR_\")\n",
    "# 治療の種類\n",
    "df_clinical = align_columns(df_clinical, \".*THERAPY$|^BREAST_SURGERY\")\n",
    "# target系の種類（OS, RFS, VITAL）\n",
    "df_clinical = align_columns(df_clinical, \"^OS_.*|^RFS_.*|^VITAL_.*\")"
   ]
  },
  {
   "cell_type": "code",
   "execution_count": 6,
   "id": "7fb342c3-9937-4497-86c0-68e9abcdeef7",
   "metadata": {},
   "outputs": [],
   "source": [
    "# データを大きく2つに分割できるので、ここで分割\n",
    "df_MB = df_clinical[df_clinical[\"PATIENT_ID\"].str.contains(\"MB\")]\n",
    "df_MTST = df_clinical[df_clinical[\"PATIENT_ID\"].str.contains(\"MTS-T\")]\n",
    "df_MB.shape, df_MTST.shape\n",
    "\n",
    "# save\n",
    "make_dir(config.INTERIM_PREPROCESSED_PROGNOSIS_CROSS_DIR)\n",
    "df_MB.to_pickle(config.INTERIM_PREPROCESSED_PROGNOSIS_CROSS_DIR + \"/df_MB.pkl\")"
   ]
  },
  {
   "cell_type": "markdown",
   "id": "10162136-c15f-4bf8-9397-81b4bd243e80",
   "metadata": {
    "jp-MarkdownHeadingCollapsed": true,
    "tags": []
   },
   "source": [
    "## 遺伝子データの読み込み"
   ]
  },
  {
   "cell_type": "code",
   "execution_count": 7,
   "id": "7c796d78-3401-4f49-9898-a21ca955714d",
   "metadata": {},
   "outputs": [],
   "source": [
    "# 遺伝子発現データ\n",
    "# 生の遺伝子発現データ\n",
    "df_mrna_agilent_microarray = pd.read_table(\n",
    "    config.RAW_BRCA_METABRIC_DIR + \"/data_mrna_agilent_microarray.txt\", index_col=0\n",
    ").T\n",
    "df_mrna_agilent_microarray = df_mrna_agilent_microarray.drop(\n",
    "    \"Entrez_Gene_Id\"\n",
    ").sort_index()\n",
    "# zスコア化済み\n",
    "df_mrna_agilent_microarray_zscores_ref_all_samples = pd.read_table(\n",
    "    config.RAW_BRCA_METABRIC_DIR\n",
    "    + \"/data_mrna_agilent_microarray_zscores_ref_all_samples.txt\",\n",
    "    index_col=0,\n",
    ").T\n",
    "df_mrna_agilent_microarray_zscores_ref_all_samples = (\n",
    "    df_mrna_agilent_microarray_zscores_ref_all_samples.drop(\"Entrez_Gene_Id\")\n",
    ").sort_index()\n",
    "# zスコア化（2倍体基準）済み\n",
    "df_mrna_agilent_microarray_zscores_ref_diploid_samples = pd.read_table(\n",
    "    config.RAW_BRCA_METABRIC_DIR\n",
    "    + \"/data_mrna_agilent_microarray_zscores_ref_diploid_samples.txt\",\n",
    "    index_col=0,\n",
    ").T\n",
    "df_mrna_agilent_microarray_zscores_ref_diploid_samples = (\n",
    "    df_mrna_agilent_microarray_zscores_ref_diploid_samples.drop(\"Entrez_Gene_Id\")\n",
    ").sort_index()\n",
    "\n",
    "\n",
    "# important to decide X_dict name\n",
    "SET_DF_MICROARRAY = (\n",
    "    df_mrna_agilent_microarray,\n",
    "    df_mrna_agilent_microarray_zscores_ref_all_samples,\n",
    "    df_mrna_agilent_microarray_zscores_ref_diploid_samples,\n",
    ")"
   ]
  },
  {
   "cell_type": "markdown",
   "id": "720ab19e-e461-4ef9-9435-826b3f5250b8",
   "metadata": {
    "tags": []
   },
   "source": [
    "# dfの整理"
   ]
  },
  {
   "cell_type": "code",
   "execution_count": 8,
   "id": "62dee7ff-6ad7-4c1d-9f69-35ea90cf9bc0",
   "metadata": {},
   "outputs": [],
   "source": [
    "df_MB = df_MB.set_index(\"PATIENT_ID\")\n",
    "# VITAL_STATUS、OS_MONTHSが欠損しているデータの削除\n",
    "df_MB = df_MB[df_MB[\"VITAL_STATUS\"].notna()]\n",
    "df_MB = df_MB[df_MB[\"OS_STATUS\"].notna()]\n",
    "\n",
    "# 乳がん以外で死亡した患者の削除\n",
    "df_MB = df_MB[df_MB[\"VITAL_STATUS\"] != \"Died of Other Causes\"]\n",
    "\n",
    "\n",
    "# 5年以下で生存している、予後が未知の患者の削除\n",
    "df_MB = df_MB[~((df_MB[\"OS_MONTHS\"] <= 12 * 5) & (df_MB[\"VITAL_STATUS\"] != \"Living\"))]\n",
    "\n",
    "# 複数の治療を受けている患者の削除\n",
    "df_MB = df_MB[\n",
    "    ~(\n",
    "        (df_MB[\"CHEMOTHERAPY\"] == \"YES\")\n",
    "        & (df_MB[\"HORMONE_THERAPY\"] == \"YES\")\n",
    "        & (df_MB[\"RADIO_THERAPY\"] == \"YES\")\n",
    "    )\n",
    "]\n",
    "df_MB = df_MB[~((df_MB[\"CHEMOTHERAPY\"] == \"YES\") & (df_MB[\"HORMONE_THERAPY\"] == \"YES\"))]\n",
    "df_MB = df_MB[\n",
    "    ~((df_MB[\"RADIO_THERAPY\"] == \"YES\") & (df_MB[\"HORMONE_THERAPY\"] == \"YES\"))\n",
    "]\n",
    "df_MB = df_MB[~((df_MB[\"CHEMOTHERAPY\"] == \"YES\") & (df_MB[\"RADIO_THERAPY\"] == \"YES\"))]"
   ]
  },
  {
   "cell_type": "markdown",
   "id": "5672cf34-e1bd-4979-9bf1-4e3c70bdd601",
   "metadata": {
    "jp-MarkdownHeadingCollapsed": true,
    "tags": []
   },
   "source": [
    "# 目的変数の生成\n",
    "\n",
    "D or L x 各治療法のonehot特徴量の作成（計6つ）"
   ]
  },
  {
   "cell_type": "code",
   "execution_count": 9,
   "id": "3ecc1ec8-dbb6-4c7a-b402-5256559df472",
   "metadata": {},
   "outputs": [],
   "source": [
    "therapies = [\"CHEMOTHERAPY\", \"HORMONE_THERAPY\", \"RADIO_THERAPY\"]\n",
    "statuses = [\"Living\", \"Died of Disease\"]\n",
    "for therapy in therapies:\n",
    "    for status in statuses:\n",
    "        conditions = [(df_MB[\"VITAL_STATUS\"] == status) & (df_MB[therapy] == \"YES\")]\n",
    "        choices = [1]\n",
    "        df_MB[status[0] + therapy[0]] = np.select(conditions, choices, default=0)"
   ]
  },
  {
   "cell_type": "markdown",
   "id": "0e96d0f5-c5be-4815-b928-b4a4da1026c7",
   "metadata": {
    "tags": []
   },
   "source": [
    "# データフレームの結合\n",
    "\n",
    "臨床データと遺伝子データを結合する  "
   ]
  },
  {
   "cell_type": "code",
   "execution_count": 10,
   "id": "a0eac703-e1aa-442c-aa0a-f49f03322a48",
   "metadata": {},
   "outputs": [],
   "source": [
    "# 結合する臨床データ\n",
    "df_MB_columns = [\"LC\", \"DC\", \"LH\", \"DH\", \"LR\", \"DR\"]\n",
    "df_merged = pd.merge(\n",
    "    df_MB[df_MB_columns],\n",
    "    df_mrna_agilent_microarray_zscores_ref_all_samples,\n",
    "    right_index=True,\n",
    "    left_index=True,\n",
    ")\n",
    "df_merged = df_merged.dropna()\n",
    "\n",
    "# save\n",
    "make_dir(config.INTERIM_PREPROCESSED_PROGNOSIS_CROSS_DIR)\n",
    "df_merged.to_pickle(\n",
    "    config.INTERIM_PREPROCESSED_PROGNOSIS_CROSS_DIR + \"/df_merged_reproduction.pkl\"\n",
    ")"
   ]
  },
  {
   "cell_type": "code",
   "execution_count": 11,
   "id": "b9ef329b-bbbe-4d8d-af18-5718d6886833",
   "metadata": {},
   "outputs": [
    {
     "data": {
      "text/plain": [
       "(530, 24374)"
      ]
     },
     "execution_count": 11,
     "metadata": {},
     "output_type": "execute_result"
    }
   ],
   "source": [
    "df_merged.shape"
   ]
  },
  {
   "cell_type": "markdown",
   "id": "c405ca74-e449-4b18-bc57-61c2dff6b277",
   "metadata": {},
   "source": [
    "# 学習"
   ]
  },
  {
   "cell_type": "markdown",
   "id": "b5e2b54d-9f71-4e1a-995b-f0398f501111",
   "metadata": {},
   "source": [
    "## 学習パイプライン\n",
    "\n",
    "### 不均衡データへの対処\n",
    "1. SMOTE\n",
    "2. コスト敏感型モデル（class_weight='balanced'と同じ？）\n",
    "3. over sampling"
   ]
  },
  {
   "cell_type": "code",
   "execution_count": 13,
   "id": "38f93a29-7804-4220-859b-28be730eb1ff",
   "metadata": {},
   "outputs": [
    {
     "name": "stdout",
     "output_type": "stream",
     "text": [
      "acc score:  0.7960897435897435  f1 score:  0.07\n"
     ]
    }
   ],
   "source": [
    "# 第1ノードの特徴量\n",
    "X = df_merged[\n",
    "    [\n",
    "        \"AKIP1\",\n",
    "        \"FGF16\",\n",
    "        \"AA884297\",\n",
    "        \"CDC42BPG\",\n",
    "        \"UPF3B\",\n",
    "        \"FAM114A1\",\n",
    "        \"OR2G6\",\n",
    "        \"ANKLE1\",\n",
    "        \"MGA\",\n",
    "        \"C14orf145\",\n",
    "    ]\n",
    "]\n",
    "y = df_merged[\"DH\"]\n",
    "\n",
    "params = {\n",
    "    \"class_weight\": \"balanced\",\n",
    "    \"random_state\": SEED,\n",
    "}\n",
    "clf = RandomForestClassifier(**params)\n",
    "\n",
    "X_train, X_test, y_train, y_test = train_test_split(\n",
    "    X, y, stratify=y, random_state=SEED, shuffle=True\n",
    ")\n",
    "\n",
    "\n",
    "scire_funcs = [\"accuracy\", \"precision\", \"recall\", \"f1\"]\n",
    "skf = StratifiedKFold(n_splits=10, random_state=SEED, shuffle=True)\n",
    "\n",
    "\n",
    "acc_list = []\n",
    "f1_list = []\n",
    "\n",
    "for train_index, val_index in skf.split(X_train, y_train):\n",
    "    X_t, y_t = X_train.iloc[train_index], y_train.iloc[train_index]\n",
    "    X_v, y_v = X_train.iloc[val_index], y_train.iloc[val_index]\n",
    "\n",
    "    sm = SMOTE(random_state=SEED)\n",
    "    X_t, y_t = sm.fit_resample(X_t, y_t)\n",
    "\n",
    "    clf.fit(X_t, y_t)\n",
    "    y_p = clf.predict(X_v)\n",
    "    acc_list.append(accuracy_score(y_v, y_p))\n",
    "    f1_list.append(f1_score(y_v, y_p))\n",
    "print(\n",
    "    \"acc score: \",\n",
    "    sum(acc_list) / len(acc_list),\n",
    "    \" f1 score: \",\n",
    "    sum(f1_list) / len(f1_list),\n",
    ")"
   ]
  },
  {
   "cell_type": "code",
   "execution_count": null,
   "id": "60eb7d62-ff30-4431-93db-005c6314ea4a",
   "metadata": {},
   "outputs": [],
   "source": []
  }
 ],
 "metadata": {
  "kernelspec": {
   "display_name": "Python 3 (ipykernel)",
   "language": "python",
   "name": "python3"
  },
  "language_info": {
   "codemirror_mode": {
    "name": "ipython",
    "version": 3
   },
   "file_extension": ".py",
   "mimetype": "text/x-python",
   "name": "python",
   "nbconvert_exporter": "python",
   "pygments_lexer": "ipython3",
   "version": "3.8.13"
  },
  "vscode": {
   "interpreter": {
    "hash": "916dbcbb3f70747c44a77c7bcd40155683ae19c65e1c03b4aa3499c5328201f1"
   }
  }
 },
 "nbformat": 4,
 "nbformat_minor": 5
}
