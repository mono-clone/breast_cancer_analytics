{
 "cells": [
  {
   "cell_type": "code",
   "execution_count": 1,
   "id": "7213bac4-5c54-4b1f-a5a5-210eed95b5b6",
   "metadata": {},
   "outputs": [],
   "source": [
    "import os\n",
    "import numpy as np\n",
    "import pandas as pd\n",
    "\n",
    "from IPython.display import HTML\n",
    "from sklearn.preprocessing import OneHotEncoder, LabelEncoder\n",
    "from seaborn_analyzer import CustomPairPlot\n",
    "import seaborn as sns\n",
    "import config\n",
    "\n",
    "# 最大表示列数の指定（ここでは50列を指定）\n",
    "pd.set_option(\"display.max_columns\", 50)\n",
    "pd.set_option(\"display.max_rows\", 50)\n",
    "\n",
    "\n",
    "def make_dir(dir_name: str):\n",
    "    if not os.path.exists(dir_name):\n",
    "        os.makedirs(dir_name)"
   ]
  },
  {
   "cell_type": "code",
   "execution_count": 2,
   "id": "01dbb973-c152-41ee-a2e4-e6605217af6b",
   "metadata": {},
   "outputs": [
    {
     "name": "stdout",
     "output_type": "stream",
     "text": [
      "<class 'pandas.core.frame.DataFrame'>\n",
      "Int64Index: 1730 entries, 1 to 1979\n",
      "Data columns (total 80 columns):\n",
      " #   Column                                                          Non-Null Count  Dtype  \n",
      "---  ------                                                          --------------  -----  \n",
      " 0   PATIENT_ID                                                      1730 non-null   object \n",
      " 1   LYMPH_NODES_EXAMINED_POSITIVE                                   1730 non-null   float64\n",
      " 2   NPI                                                             1730 non-null   float64\n",
      " 3   CELLULARITY                                                     1730 non-null   float64\n",
      " 4   CHEMOTHERAPY                                                    1730 non-null   object \n",
      " 5   ER_IHC                                                          1730 non-null   float64\n",
      " 6   HER2_SNP6                                                       1730 non-null   float64\n",
      " 7   HORMONE_THERAPY                                                 1730 non-null   object \n",
      " 8   INFERRED_MENOPAUSAL_STATE                                       1730 non-null   float64\n",
      " 9   SEX                                                             1730 non-null   object \n",
      " 10  AGE_AT_DIAGNOSIS                                                1730 non-null   float64\n",
      " 11  OS_MONTHS                                                       1730 non-null   float64\n",
      " 12  OS_STATUS                                                       1730 non-null   bool   \n",
      " 13  VITAL_STATUS                                                    1730 non-null   object \n",
      " 14  RADIO_THERAPY                                                   1730 non-null   object \n",
      " 15  RFS_STATUS                                                      1730 non-null   bool   \n",
      " 16  RFS_MONTHS                                                      1730 non-null   float64\n",
      " 17  SAMPLE_ID                                                       1730 non-null   object \n",
      " 18  ER_STATUS                                                       1730 non-null   int64  \n",
      " 19  HER2_STATUS                                                     1730 non-null   float64\n",
      " 20  GRADE                                                           1730 non-null   float64\n",
      " 21  PR_STATUS                                                       1730 non-null   float64\n",
      " 22  SAMPLE_TYPE                                                     1730 non-null   object \n",
      " 23  TUMOR_SIZE                                                      1730 non-null   float64\n",
      " 24  TUMOR_STAGE                                                     1730 non-null   float64\n",
      " 25  TMB_NONSYNONYMOUS                                               1730 non-null   float64\n",
      " 26  COHORT_2.0                                                      1730 non-null   int64  \n",
      " 27  COHORT_3.0                                                      1730 non-null   int64  \n",
      " 28  COHORT_4.0                                                      1730 non-null   int64  \n",
      " 29  COHORT_5.0                                                      1730 non-null   int64  \n",
      " 30  INTCLUST_10                                                     1730 non-null   int64  \n",
      " 31  INTCLUST_2                                                      1730 non-null   int64  \n",
      " 32  INTCLUST_3                                                      1730 non-null   int64  \n",
      " 33  INTCLUST_4ER+                                                   1730 non-null   int64  \n",
      " 34  INTCLUST_4ER-                                                   1730 non-null   int64  \n",
      " 35  INTCLUST_5                                                      1730 non-null   int64  \n",
      " 36  INTCLUST_6                                                      1730 non-null   int64  \n",
      " 37  INTCLUST_7                                                      1730 non-null   int64  \n",
      " 38  INTCLUST_8                                                      1730 non-null   int64  \n",
      " 39  INTCLUST_9                                                      1730 non-null   int64  \n",
      " 40  INTCLUST_nan                                                    1730 non-null   int64  \n",
      " 41  CLAUDIN_SUBTYPE_Her2                                            1730 non-null   int64  \n",
      " 42  CLAUDIN_SUBTYPE_LumA                                            1730 non-null   int64  \n",
      " 43  CLAUDIN_SUBTYPE_LumB                                            1730 non-null   int64  \n",
      " 44  CLAUDIN_SUBTYPE_NC                                              1730 non-null   int64  \n",
      " 45  CLAUDIN_SUBTYPE_Normal                                          1730 non-null   int64  \n",
      " 46  CLAUDIN_SUBTYPE_claudin-low                                     1730 non-null   int64  \n",
      " 47  CLAUDIN_SUBTYPE_nan                                             1730 non-null   int64  \n",
      " 48  THREEGENE_ER+/HER2- Low Prolif                                  1730 non-null   int64  \n",
      " 49  THREEGENE_ER-/HER2-                                             1730 non-null   int64  \n",
      " 50  THREEGENE_HER2+                                                 1730 non-null   int64  \n",
      " 51  THREEGENE_nan                                                   1730 non-null   int64  \n",
      " 52  HISTOLOGICAL_SUBTYPE_Lobular                                    1730 non-null   int64  \n",
      " 53  HISTOLOGICAL_SUBTYPE_Medullary                                  1730 non-null   int64  \n",
      " 54  HISTOLOGICAL_SUBTYPE_Metaplastic                                1730 non-null   int64  \n",
      " 55  HISTOLOGICAL_SUBTYPE_Mixed                                      1730 non-null   int64  \n",
      " 56  HISTOLOGICAL_SUBTYPE_Mucinous                                   1730 non-null   int64  \n",
      " 57  HISTOLOGICAL_SUBTYPE_Other                                      1730 non-null   int64  \n",
      " 58  HISTOLOGICAL_SUBTYPE_Tubular/ cribriform                        1730 non-null   int64  \n",
      " 59  HISTOLOGICAL_SUBTYPE_nan                                        1730 non-null   int64  \n",
      " 60  BREAST_SURGERY_MASTECTOMY                                       1730 non-null   int64  \n",
      " 61  BREAST_SURGERY_nan                                              1730 non-null   int64  \n",
      " 62  LATERALITY_Right                                                1730 non-null   int64  \n",
      " 63  LATERALITY_nan                                                  1730 non-null   int64  \n",
      " 64  CANCER_TYPE_Breast Sarcoma                                      1730 non-null   int64  \n",
      " 65  CANCER_TYPE_DETAILED_Breast Angiosarcoma                        1730 non-null   int64  \n",
      " 66  CANCER_TYPE_DETAILED_Breast Invasive Ductal Carcinoma           1730 non-null   int64  \n",
      " 67  CANCER_TYPE_DETAILED_Breast Invasive Lobular Carcinoma          1730 non-null   int64  \n",
      " 68  CANCER_TYPE_DETAILED_Breast Invasive Mixed Mucinous Carcinoma   1730 non-null   int64  \n",
      " 69  CANCER_TYPE_DETAILED_Breast Mixed Ductal and Lobular Carcinoma  1730 non-null   int64  \n",
      " 70  CANCER_TYPE_DETAILED_Invasive Breast Carcinoma                  1730 non-null   int64  \n",
      " 71  CANCER_TYPE_DETAILED_Metaplastic Breast Cancer                  1730 non-null   int64  \n",
      " 72  ONCOTREE_CODE_BREAST                                            1730 non-null   int64  \n",
      " 73  ONCOTREE_CODE_IDC                                               1730 non-null   int64  \n",
      " 74  ONCOTREE_CODE_ILC                                               1730 non-null   int64  \n",
      " 75  ONCOTREE_CODE_IMMC                                              1730 non-null   int64  \n",
      " 76  ONCOTREE_CODE_MBC                                               1730 non-null   int64  \n",
      " 77  ONCOTREE_CODE_MDLC                                              1730 non-null   int64  \n",
      " 78  ONCOTREE_CODE_PBS                                               1730 non-null   int64  \n",
      " 79  target                                                          1730 non-null   bool   \n",
      "dtypes: bool(3), float64(15), int64(54), object(8)\n",
      "memory usage: 1.0+ MB\n"
     ]
    }
   ],
   "source": [
    "df_MB_OS_status_in_5years = pd.read_pickle(\n",
    "    config.INTERIM_PICKLE_PREPROCESSED_DIR + \"/2.0.3-df_MB_OS_status_in_5years.pkl\"\n",
    ")\n",
    "df_MB_OS_status_in_5years.info()"
   ]
  },
  {
   "cell_type": "code",
   "execution_count": 3,
   "id": "809e2bfb-ebca-4ae5-876f-429bbaeb8595",
   "metadata": {},
   "outputs": [],
   "source": [
    "target_columns = [\n",
    "    # patient\n",
    "    \"OS_MONTHS\",\n",
    "    \"RFS_MONTHS\",\n",
    "    \"OS_STATUS\",\n",
    "    \"RFS_STATUS\",\n",
    "    \"VITAL_STATUS\",\n",
    "]\n",
    "\n",
    "meanless_columns = [\n",
    "    # patient\n",
    "    \"PATIENT_ID\",\n",
    "    \"SEX\",\n",
    "    # sample\n",
    "    \"SAMPLE_ID\",\n",
    "    \"SAMPLE_TYPE\",\n",
    "]"
   ]
  },
  {
   "cell_type": "markdown",
   "id": "40e48a96-40a8-4d59-8456-a3b49372cb5e",
   "metadata": {},
   "source": [
    "# 不要なdfを削除する\n",
    "\n",
    "### df| df_MB_OS_status_in_5years_dropped\n",
    "5年後の予後の2値分類のために、不要な特徴量を削除する。  \n",
    "削除するcolumnsのリスト\n",
    "- target_columns\n",
    "- meanless_columns"
   ]
  },
  {
   "cell_type": "code",
   "execution_count": 4,
   "id": "29bdb3ec-b3e2-4559-863a-0631b8cae07f",
   "metadata": {},
   "outputs": [
    {
     "data": {
      "text/plain": [
       "(1730, 71)"
      ]
     },
     "execution_count": 4,
     "metadata": {},
     "output_type": "execute_result"
    }
   ],
   "source": [
    "target = \"target\"\n",
    "drop_columns = target_columns + meanless_columns\n",
    "df_MB_OS_status_in_5years_dropped = df_MB_OS_status_in_5years.drop(drop_columns, axis=1)\n",
    "df_MB_OS_status_in_5years_dropped.shape"
   ]
  },
  {
   "cell_type": "code",
   "execution_count": 5,
   "id": "ed22bc61-d86d-46c4-8c79-be9f83a8f646",
   "metadata": {},
   "outputs": [
    {
     "name": "stdout",
     "output_type": "stream",
     "text": [
      "<class 'pandas.core.frame.DataFrame'>\n",
      "Int64Index: 1730 entries, 1 to 1979\n",
      "Data columns (total 71 columns):\n",
      " #   Column                                                          Non-Null Count  Dtype  \n",
      "---  ------                                                          --------------  -----  \n",
      " 0   LYMPH_NODES_EXAMINED_POSITIVE                                   1730 non-null   float64\n",
      " 1   NPI                                                             1730 non-null   float64\n",
      " 2   CELLULARITY                                                     1730 non-null   float64\n",
      " 3   CHEMOTHERAPY                                                    1730 non-null   object \n",
      " 4   ER_IHC                                                          1730 non-null   float64\n",
      " 5   HER2_SNP6                                                       1730 non-null   float64\n",
      " 6   HORMONE_THERAPY                                                 1730 non-null   object \n",
      " 7   INFERRED_MENOPAUSAL_STATE                                       1730 non-null   float64\n",
      " 8   AGE_AT_DIAGNOSIS                                                1730 non-null   float64\n",
      " 9   RADIO_THERAPY                                                   1730 non-null   object \n",
      " 10  ER_STATUS                                                       1730 non-null   int64  \n",
      " 11  HER2_STATUS                                                     1730 non-null   float64\n",
      " 12  GRADE                                                           1730 non-null   float64\n",
      " 13  PR_STATUS                                                       1730 non-null   float64\n",
      " 14  TUMOR_SIZE                                                      1730 non-null   float64\n",
      " 15  TUMOR_STAGE                                                     1730 non-null   float64\n",
      " 16  TMB_NONSYNONYMOUS                                               1730 non-null   float64\n",
      " 17  COHORT_2.0                                                      1730 non-null   int64  \n",
      " 18  COHORT_3.0                                                      1730 non-null   int64  \n",
      " 19  COHORT_4.0                                                      1730 non-null   int64  \n",
      " 20  COHORT_5.0                                                      1730 non-null   int64  \n",
      " 21  INTCLUST_10                                                     1730 non-null   int64  \n",
      " 22  INTCLUST_2                                                      1730 non-null   int64  \n",
      " 23  INTCLUST_3                                                      1730 non-null   int64  \n",
      " 24  INTCLUST_4ER+                                                   1730 non-null   int64  \n",
      " 25  INTCLUST_4ER-                                                   1730 non-null   int64  \n",
      " 26  INTCLUST_5                                                      1730 non-null   int64  \n",
      " 27  INTCLUST_6                                                      1730 non-null   int64  \n",
      " 28  INTCLUST_7                                                      1730 non-null   int64  \n",
      " 29  INTCLUST_8                                                      1730 non-null   int64  \n",
      " 30  INTCLUST_9                                                      1730 non-null   int64  \n",
      " 31  INTCLUST_nan                                                    1730 non-null   int64  \n",
      " 32  CLAUDIN_SUBTYPE_Her2                                            1730 non-null   int64  \n",
      " 33  CLAUDIN_SUBTYPE_LumA                                            1730 non-null   int64  \n",
      " 34  CLAUDIN_SUBTYPE_LumB                                            1730 non-null   int64  \n",
      " 35  CLAUDIN_SUBTYPE_NC                                              1730 non-null   int64  \n",
      " 36  CLAUDIN_SUBTYPE_Normal                                          1730 non-null   int64  \n",
      " 37  CLAUDIN_SUBTYPE_claudin-low                                     1730 non-null   int64  \n",
      " 38  CLAUDIN_SUBTYPE_nan                                             1730 non-null   int64  \n",
      " 39  THREEGENE_ER+/HER2- Low Prolif                                  1730 non-null   int64  \n",
      " 40  THREEGENE_ER-/HER2-                                             1730 non-null   int64  \n",
      " 41  THREEGENE_HER2+                                                 1730 non-null   int64  \n",
      " 42  THREEGENE_nan                                                   1730 non-null   int64  \n",
      " 43  HISTOLOGICAL_SUBTYPE_Lobular                                    1730 non-null   int64  \n",
      " 44  HISTOLOGICAL_SUBTYPE_Medullary                                  1730 non-null   int64  \n",
      " 45  HISTOLOGICAL_SUBTYPE_Metaplastic                                1730 non-null   int64  \n",
      " 46  HISTOLOGICAL_SUBTYPE_Mixed                                      1730 non-null   int64  \n",
      " 47  HISTOLOGICAL_SUBTYPE_Mucinous                                   1730 non-null   int64  \n",
      " 48  HISTOLOGICAL_SUBTYPE_Other                                      1730 non-null   int64  \n",
      " 49  HISTOLOGICAL_SUBTYPE_Tubular/ cribriform                        1730 non-null   int64  \n",
      " 50  HISTOLOGICAL_SUBTYPE_nan                                        1730 non-null   int64  \n",
      " 51  BREAST_SURGERY_MASTECTOMY                                       1730 non-null   int64  \n",
      " 52  BREAST_SURGERY_nan                                              1730 non-null   int64  \n",
      " 53  LATERALITY_Right                                                1730 non-null   int64  \n",
      " 54  LATERALITY_nan                                                  1730 non-null   int64  \n",
      " 55  CANCER_TYPE_Breast Sarcoma                                      1730 non-null   int64  \n",
      " 56  CANCER_TYPE_DETAILED_Breast Angiosarcoma                        1730 non-null   int64  \n",
      " 57  CANCER_TYPE_DETAILED_Breast Invasive Ductal Carcinoma           1730 non-null   int64  \n",
      " 58  CANCER_TYPE_DETAILED_Breast Invasive Lobular Carcinoma          1730 non-null   int64  \n",
      " 59  CANCER_TYPE_DETAILED_Breast Invasive Mixed Mucinous Carcinoma   1730 non-null   int64  \n",
      " 60  CANCER_TYPE_DETAILED_Breast Mixed Ductal and Lobular Carcinoma  1730 non-null   int64  \n",
      " 61  CANCER_TYPE_DETAILED_Invasive Breast Carcinoma                  1730 non-null   int64  \n",
      " 62  CANCER_TYPE_DETAILED_Metaplastic Breast Cancer                  1730 non-null   int64  \n",
      " 63  ONCOTREE_CODE_BREAST                                            1730 non-null   int64  \n",
      " 64  ONCOTREE_CODE_IDC                                               1730 non-null   int64  \n",
      " 65  ONCOTREE_CODE_ILC                                               1730 non-null   int64  \n",
      " 66  ONCOTREE_CODE_IMMC                                              1730 non-null   int64  \n",
      " 67  ONCOTREE_CODE_MBC                                               1730 non-null   int64  \n",
      " 68  ONCOTREE_CODE_MDLC                                              1730 non-null   int64  \n",
      " 69  ONCOTREE_CODE_PBS                                               1730 non-null   int64  \n",
      " 70  target                                                          1730 non-null   bool   \n",
      "dtypes: bool(1), float64(13), int64(54), object(3)\n",
      "memory usage: 961.3+ KB\n"
     ]
    }
   ],
   "source": [
    "df_MB_OS_status_in_5years_dropped.info()"
   ]
  },
  {
   "cell_type": "code",
   "execution_count": 6,
   "id": "6367070d-ace5-43f8-baff-e888361dabff",
   "metadata": {},
   "outputs": [],
   "source": [
    "# save\n",
    "make_dir(config.INTERIM_PICKLE_PREPROCESSED_DIR)\n",
    "df_MB_OS_status_in_5years_dropped.to_pickle(\n",
    "    config.INTERIM_PICKLE_PREPROCESSED_DIR\n",
    "    + \"/2.0.4-df_MB_OS_status_in_5years_dropped.pkl\"\n",
    ")"
   ]
  },
  {
   "cell_type": "markdown",
   "id": "5b6e7a8b-078a-4505-9ea0-466e9b7bf347",
   "metadata": {},
   "source": [
    "plot"
   ]
  },
  {
   "cell_type": "code",
   "execution_count": null,
   "id": "7caeb132-c44e-452c-a10f-976d7b6eb77c",
   "metadata": {},
   "outputs": [],
   "source": [
    "cp = CustomPairPlot()\n",
    "cp.pairanalyzer(df_MB_OS_status_in_5years_dropped, hue=\"target\")"
   ]
  },
  {
   "cell_type": "code",
   "execution_count": null,
   "id": "9ac3ce81-6b20-414a-bd8c-9fb35b5c0641",
   "metadata": {},
   "outputs": [],
   "source": [
    "cp = CustomPairPlot()\n",
    "cp.pairanalyzer(df_MB_OS_status_in_5years_dropped)"
   ]
  },
  {
   "cell_type": "code",
   "execution_count": null,
   "id": "3a42174d-4763-4177-91aa-cea6aa582033",
   "metadata": {},
   "outputs": [],
   "source": []
  }
 ],
 "metadata": {
  "interpreter": {
   "hash": "6cecfcb002507d68feb988228d86e9c6727afe09fa1042e3327ddeb41aee6fc4"
  },
  "kernelspec": {
   "display_name": "Python 3 (ipykernel)",
   "language": "python",
   "name": "python3"
  },
  "language_info": {
   "codemirror_mode": {
    "name": "ipython",
    "version": 3
   },
   "file_extension": ".py",
   "mimetype": "text/x-python",
   "name": "python",
   "nbconvert_exporter": "python",
   "pygments_lexer": "ipython3",
   "version": "3.8.13"
  }
 },
 "nbformat": 4,
 "nbformat_minor": 5
}
