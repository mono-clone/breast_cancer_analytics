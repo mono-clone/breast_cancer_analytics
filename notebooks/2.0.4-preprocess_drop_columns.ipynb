{
 "cells": [
  {
   "cell_type": "code",
   "execution_count": 1,
   "id": "7213bac4-5c54-4b1f-a5a5-210eed95b5b6",
   "metadata": {},
   "outputs": [],
   "source": [
    "import os\n",
    "import numpy as np\n",
    "import pandas as pd\n",
    "\n",
    "from IPython.display import HTML\n",
    "from sklearn.preprocessing import OneHotEncoder, LabelEncoder\n",
    "\n",
    "import config\n",
    "\n",
    "# 最大表示列数の指定（ここでは50列を指定）\n",
    "pd.set_option(\"display.max_columns\", 50)\n",
    "pd.set_option(\"display.max_rows\", 50)\n",
    "\n",
    "\n",
    "def make_dir(dir_name: str):\n",
    "    if not os.path.exists(dir_name):\n",
    "        os.makedirs(dir_name)"
   ]
  },
  {
   "cell_type": "code",
   "execution_count": 2,
   "id": "01dbb973-c152-41ee-a2e4-e6605217af6b",
   "metadata": {},
   "outputs": [
    {
     "name": "stdout",
     "output_type": "stream",
     "text": [
      "<class 'pandas.core.frame.DataFrame'>\n",
      "Int64Index: 1042 entries, 0 to 1123\n",
      "Data columns (total 65 columns):\n",
      " #   Column                                                          Non-Null Count  Dtype\n",
      "---  ------                                                          --------------  -----\n",
      " 0   PATIENT_ID                                                      1042 non-null   bool \n",
      " 1   LYMPH_NODES_EXAMINED_POSITIVE                                   1042 non-null   bool \n",
      " 2   NPI                                                             1042 non-null   bool \n",
      " 3   CELLULARITY                                                     1042 non-null   bool \n",
      " 4   CHEMOTHERAPY                                                    1042 non-null   bool \n",
      " 5   ER_IHC                                                          1042 non-null   bool \n",
      " 6   HER2_SNP6                                                       1042 non-null   bool \n",
      " 7   HORMONE_THERAPY                                                 1042 non-null   bool \n",
      " 8   INFERRED_MENOPAUSAL_STATE                                       1042 non-null   bool \n",
      " 9   SEX                                                             1042 non-null   bool \n",
      " 10  AGE_AT_DIAGNOSIS                                                1042 non-null   bool \n",
      " 11  OS_MONTHS                                                       1042 non-null   bool \n",
      " 12  OS_STATUS                                                       1042 non-null   bool \n",
      " 13  VITAL_STATUS                                                    1042 non-null   bool \n",
      " 14  RADIO_THERAPY                                                   1042 non-null   bool \n",
      " 15  RFS_STATUS                                                      1042 non-null   bool \n",
      " 16  RFS_MONTHS                                                      1042 non-null   bool \n",
      " 17  SAMPLE_ID                                                       1042 non-null   bool \n",
      " 18  ER_STATUS                                                       1042 non-null   bool \n",
      " 19  HER2_STATUS                                                     1042 non-null   bool \n",
      " 20  GRADE                                                           1042 non-null   bool \n",
      " 21  PR_STATUS                                                       1042 non-null   bool \n",
      " 22  SAMPLE_TYPE                                                     1042 non-null   bool \n",
      " 23  TUMOR_SIZE                                                      1042 non-null   bool \n",
      " 24  TUMOR_STAGE                                                     1042 non-null   bool \n",
      " 25  TMB_NONSYNONYMOUS                                               1042 non-null   bool \n",
      " 26  COHORT_2.0                                                      1042 non-null   bool \n",
      " 27  COHORT_3.0                                                      1042 non-null   bool \n",
      " 28  COHORT_5.0                                                      1042 non-null   bool \n",
      " 29  INTCLUST_10                                                     1042 non-null   bool \n",
      " 30  INTCLUST_2                                                      1042 non-null   bool \n",
      " 31  INTCLUST_3                                                      1042 non-null   bool \n",
      " 32  INTCLUST_4ER+                                                   1042 non-null   bool \n",
      " 33  INTCLUST_4ER-                                                   1042 non-null   bool \n",
      " 34  INTCLUST_5                                                      1042 non-null   bool \n",
      " 35  INTCLUST_6                                                      1042 non-null   bool \n",
      " 36  INTCLUST_7                                                      1042 non-null   bool \n",
      " 37  INTCLUST_8                                                      1042 non-null   bool \n",
      " 38  INTCLUST_9                                                      1042 non-null   bool \n",
      " 39  CLAUDIN_SUBTYPE_Her2                                            1042 non-null   bool \n",
      " 40  CLAUDIN_SUBTYPE_LumA                                            1042 non-null   bool \n",
      " 41  CLAUDIN_SUBTYPE_LumB                                            1042 non-null   bool \n",
      " 42  CLAUDIN_SUBTYPE_NC                                              1042 non-null   bool \n",
      " 43  CLAUDIN_SUBTYPE_Normal                                          1042 non-null   bool \n",
      " 44  CLAUDIN_SUBTYPE_claudin-low                                     1042 non-null   bool \n",
      " 45  THREEGENE_ER+/HER2- Low Prolif                                  1042 non-null   bool \n",
      " 46  THREEGENE_ER-/HER2-                                             1042 non-null   bool \n",
      " 47  THREEGENE_HER2+                                                 1042 non-null   bool \n",
      " 48  HISTOLOGICAL_SUBTYPE_Lobular                                    1042 non-null   bool \n",
      " 49  HISTOLOGICAL_SUBTYPE_Medullary                                  1042 non-null   bool \n",
      " 50  HISTOLOGICAL_SUBTYPE_Mixed                                      1042 non-null   bool \n",
      " 51  HISTOLOGICAL_SUBTYPE_Mucinous                                   1042 non-null   bool \n",
      " 52  HISTOLOGICAL_SUBTYPE_Other                                      1042 non-null   bool \n",
      " 53  HISTOLOGICAL_SUBTYPE_Tubular/ cribriform                        1042 non-null   bool \n",
      " 54  BREAST_SURGERY_MASTECTOMY                                       1042 non-null   bool \n",
      " 55  LATERALITY_Right                                                1042 non-null   bool \n",
      " 56  CANCER_TYPE_DETAILED_Breast Invasive Ductal Carcinoma           1042 non-null   bool \n",
      " 57  CANCER_TYPE_DETAILED_Breast Invasive Lobular Carcinoma          1042 non-null   bool \n",
      " 58  CANCER_TYPE_DETAILED_Breast Invasive Mixed Mucinous Carcinoma   1042 non-null   bool \n",
      " 59  CANCER_TYPE_DETAILED_Breast Mixed Ductal and Lobular Carcinoma  1042 non-null   bool \n",
      " 60  ONCOTREE_CODE_IDC                                               1042 non-null   bool \n",
      " 61  ONCOTREE_CODE_ILC                                               1042 non-null   bool \n",
      " 62  ONCOTREE_CODE_IMMC                                              1042 non-null   bool \n",
      " 63  ONCOTREE_CODE_MDLC                                              1042 non-null   bool \n",
      " 64  target                                                          1042 non-null   bool \n",
      "dtypes: bool(65)\n",
      "memory usage: 74.3 KB\n"
     ]
    }
   ],
   "source": [
    "df_MB_OS_status_in_5years = pd.read_pickle(\n",
    "    config.INTERIM_PICKLE_PREPROCESSED_DIR + \"/2.0.3-df_MB_OS_status_in_5years.pkl\"\n",
    ")\n",
    "df_MB_OS_status_in_5years.info()"
   ]
  },
  {
   "cell_type": "code",
   "execution_count": 3,
   "id": "809e2bfb-ebca-4ae5-876f-429bbaeb8595",
   "metadata": {},
   "outputs": [],
   "source": [
    "target_columns = [\n",
    "    # patient\n",
    "    \"OS_MONTHS\",\n",
    "    \"RFS_MONTHS\",\n",
    "    \"OS_STATUS\",\n",
    "    \"RFS_STATUS\",\n",
    "    \"VITAL_STATUS\",\n",
    "]\n",
    "\n",
    "meanless_columns = [\n",
    "    # patient\n",
    "    \"PATIENT_ID\",\n",
    "    \"SEX\",\n",
    "    # sample\n",
    "    \"SAMPLE_ID\",\n",
    "    \"SAMPLE_TYPE\",\n",
    "]"
   ]
  },
  {
   "cell_type": "markdown",
   "id": "40e48a96-40a8-4d59-8456-a3b49372cb5e",
   "metadata": {},
   "source": [
    "# 不要なdfを削除する\n",
    "\n",
    "### df| df_MB_OS_status_in_5years_dropped\n",
    "5年後の予後の2値分類のために、不要な特徴量を削除する。  \n",
    "削除するcolumnsのリスト\n",
    "- target_columns\n",
    "- meanless_columns"
   ]
  },
  {
   "cell_type": "code",
   "execution_count": 4,
   "id": "29bdb3ec-b3e2-4559-863a-0631b8cae07f",
   "metadata": {},
   "outputs": [
    {
     "data": {
      "text/plain": [
       "(1042, 56)"
      ]
     },
     "execution_count": 4,
     "metadata": {},
     "output_type": "execute_result"
    }
   ],
   "source": [
    "target = \"target\"\n",
    "drop_columns = target_columns + meanless_columns\n",
    "df_MB_OS_status_in_5years_dropped = df_MB_OS_status_in_5years.drop(drop_columns, axis=1)\n",
    "df_MB_OS_status_in_5years_dropped.shape"
   ]
  },
  {
   "cell_type": "code",
   "execution_count": 5,
   "id": "ed22bc61-d86d-46c4-8c79-be9f83a8f646",
   "metadata": {},
   "outputs": [
    {
     "name": "stdout",
     "output_type": "stream",
     "text": [
      "<class 'pandas.core.frame.DataFrame'>\n",
      "Int64Index: 1042 entries, 0 to 1123\n",
      "Data columns (total 56 columns):\n",
      " #   Column                                                          Non-Null Count  Dtype\n",
      "---  ------                                                          --------------  -----\n",
      " 0   LYMPH_NODES_EXAMINED_POSITIVE                                   1042 non-null   bool \n",
      " 1   NPI                                                             1042 non-null   bool \n",
      " 2   CELLULARITY                                                     1042 non-null   bool \n",
      " 3   CHEMOTHERAPY                                                    1042 non-null   bool \n",
      " 4   ER_IHC                                                          1042 non-null   bool \n",
      " 5   HER2_SNP6                                                       1042 non-null   bool \n",
      " 6   HORMONE_THERAPY                                                 1042 non-null   bool \n",
      " 7   INFERRED_MENOPAUSAL_STATE                                       1042 non-null   bool \n",
      " 8   AGE_AT_DIAGNOSIS                                                1042 non-null   bool \n",
      " 9   RADIO_THERAPY                                                   1042 non-null   bool \n",
      " 10  ER_STATUS                                                       1042 non-null   bool \n",
      " 11  HER2_STATUS                                                     1042 non-null   bool \n",
      " 12  GRADE                                                           1042 non-null   bool \n",
      " 13  PR_STATUS                                                       1042 non-null   bool \n",
      " 14  TUMOR_SIZE                                                      1042 non-null   bool \n",
      " 15  TUMOR_STAGE                                                     1042 non-null   bool \n",
      " 16  TMB_NONSYNONYMOUS                                               1042 non-null   bool \n",
      " 17  COHORT_2.0                                                      1042 non-null   bool \n",
      " 18  COHORT_3.0                                                      1042 non-null   bool \n",
      " 19  COHORT_5.0                                                      1042 non-null   bool \n",
      " 20  INTCLUST_10                                                     1042 non-null   bool \n",
      " 21  INTCLUST_2                                                      1042 non-null   bool \n",
      " 22  INTCLUST_3                                                      1042 non-null   bool \n",
      " 23  INTCLUST_4ER+                                                   1042 non-null   bool \n",
      " 24  INTCLUST_4ER-                                                   1042 non-null   bool \n",
      " 25  INTCLUST_5                                                      1042 non-null   bool \n",
      " 26  INTCLUST_6                                                      1042 non-null   bool \n",
      " 27  INTCLUST_7                                                      1042 non-null   bool \n",
      " 28  INTCLUST_8                                                      1042 non-null   bool \n",
      " 29  INTCLUST_9                                                      1042 non-null   bool \n",
      " 30  CLAUDIN_SUBTYPE_Her2                                            1042 non-null   bool \n",
      " 31  CLAUDIN_SUBTYPE_LumA                                            1042 non-null   bool \n",
      " 32  CLAUDIN_SUBTYPE_LumB                                            1042 non-null   bool \n",
      " 33  CLAUDIN_SUBTYPE_NC                                              1042 non-null   bool \n",
      " 34  CLAUDIN_SUBTYPE_Normal                                          1042 non-null   bool \n",
      " 35  CLAUDIN_SUBTYPE_claudin-low                                     1042 non-null   bool \n",
      " 36  THREEGENE_ER+/HER2- Low Prolif                                  1042 non-null   bool \n",
      " 37  THREEGENE_ER-/HER2-                                             1042 non-null   bool \n",
      " 38  THREEGENE_HER2+                                                 1042 non-null   bool \n",
      " 39  HISTOLOGICAL_SUBTYPE_Lobular                                    1042 non-null   bool \n",
      " 40  HISTOLOGICAL_SUBTYPE_Medullary                                  1042 non-null   bool \n",
      " 41  HISTOLOGICAL_SUBTYPE_Mixed                                      1042 non-null   bool \n",
      " 42  HISTOLOGICAL_SUBTYPE_Mucinous                                   1042 non-null   bool \n",
      " 43  HISTOLOGICAL_SUBTYPE_Other                                      1042 non-null   bool \n",
      " 44  HISTOLOGICAL_SUBTYPE_Tubular/ cribriform                        1042 non-null   bool \n",
      " 45  BREAST_SURGERY_MASTECTOMY                                       1042 non-null   bool \n",
      " 46  LATERALITY_Right                                                1042 non-null   bool \n",
      " 47  CANCER_TYPE_DETAILED_Breast Invasive Ductal Carcinoma           1042 non-null   bool \n",
      " 48  CANCER_TYPE_DETAILED_Breast Invasive Lobular Carcinoma          1042 non-null   bool \n",
      " 49  CANCER_TYPE_DETAILED_Breast Invasive Mixed Mucinous Carcinoma   1042 non-null   bool \n",
      " 50  CANCER_TYPE_DETAILED_Breast Mixed Ductal and Lobular Carcinoma  1042 non-null   bool \n",
      " 51  ONCOTREE_CODE_IDC                                               1042 non-null   bool \n",
      " 52  ONCOTREE_CODE_ILC                                               1042 non-null   bool \n",
      " 53  ONCOTREE_CODE_IMMC                                              1042 non-null   bool \n",
      " 54  ONCOTREE_CODE_MDLC                                              1042 non-null   bool \n",
      " 55  target                                                          1042 non-null   bool \n",
      "dtypes: bool(56)\n",
      "memory usage: 65.1 KB\n"
     ]
    }
   ],
   "source": [
    "df_MB_OS_status_in_5years_dropped.info()"
   ]
  },
  {
   "cell_type": "code",
   "execution_count": 6,
   "id": "6367070d-ace5-43f8-baff-e888361dabff",
   "metadata": {},
   "outputs": [],
   "source": [
    "# save\n",
    "make_dir(config.INTERIM_PICKLE_PREPROCESSED_DIR)\n",
    "df_MB_OS_status_in_5years_dropped.to_pickle(\n",
    "    config.INTERIM_PICKLE_PREPROCESSED_DIR\n",
    "    + \"/2.0.4-df_MB_OS_status_in_5years_dropped.pkl\"\n",
    ")"
   ]
  },
  {
   "cell_type": "code",
   "execution_count": null,
   "id": "b7124181-b4cb-45e5-aa35-0db97e9b1a99",
   "metadata": {},
   "outputs": [],
   "source": [
    "# save\n",
    "make_dir(config.INTERIM_PICKLE_PREPROCESSED_DIR)\n",
    "df_MB_OS_status_in_5years_dropped.to_pickle(\n",
    "    config.INTERIM_PICKLE_PREPROCESSED_DIR\n",
    "    + \"/2.0.4-df_MB_OS_status_.pkl\"\n",
    ")"
   ]
  }
 ],
 "metadata": {
  "interpreter": {
   "hash": "6cecfcb002507d68feb988228d86e9c6727afe09fa1042e3327ddeb41aee6fc4"
  },
  "kernelspec": {
   "display_name": "Python 3 (ipykernel)",
   "language": "python",
   "name": "python3"
  },
  "language_info": {
   "codemirror_mode": {
    "name": "ipython",
    "version": 3
   },
   "file_extension": ".py",
   "mimetype": "text/x-python",
   "name": "python",
   "nbconvert_exporter": "python",
   "pygments_lexer": "ipython3",
   "version": "3.8.13"
  }
 },
 "nbformat": 4,
 "nbformat_minor": 5
}
