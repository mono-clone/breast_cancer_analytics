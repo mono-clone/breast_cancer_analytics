{
 "cells": [
  {
   "cell_type": "markdown",
   "id": "f779d5a3-7d6d-4466-b025-2c7a038398c8",
   "metadata": {},
   "source": [
    "# 目的：5年後の予後（2値）とその他特徴量の関係性のEDA\n",
    "\n",
    "使用df: 3.4-df_MB_OS_status_in_5years_dropped.pkl"
   ]
  },
  {
   "cell_type": "code",
   "execution_count": 1,
   "id": "ac895a85-b645-4ffa-bd27-c8c0d4766b67",
   "metadata": {},
   "outputs": [],
   "source": [
    "import os\n",
    "\n",
    "import numpy as np\n",
    "import pandas as pd\n",
    "import matplotlib.pyplot as plt\n",
    "\n",
    "%matplotlib inline\n",
    "import seaborn as sns\n",
    "\n",
    "import sweetviz as sv\n",
    "import dtale\n",
    "\n",
    "import config\n",
    "\n",
    "# 最大表示列数の指定（ここでは50列を指定）\n",
    "pd.set_option(\"display.max_columns\", 50)\n",
    "\n",
    "\n",
    "def make_dir(dir_name: str):\n",
    "    if not os.path.exists(dir_name):\n",
    "        os.makedirs(dir_name)"
   ]
  },
  {
   "cell_type": "code",
   "execution_count": 2,
   "id": "3592b41b-5d99-40ce-8448-c35b52e84407",
   "metadata": {},
   "outputs": [
    {
     "data": {
      "text/plain": [
       "(1730, 71)"
      ]
     },
     "execution_count": 2,
     "metadata": {},
     "output_type": "execute_result"
    }
   ],
   "source": [
    "df_MB = pd.read_pickle(\n",
    "    config.INTERIM_PICKLE_PREPROCESSED_DIR\n",
    "    + \"/2.0.4-df_MB_OS_status_in_5years_dropped.pkl\"\n",
    ")\n",
    "df_MB.shape"
   ]
  },
  {
   "cell_type": "code",
   "execution_count": null,
   "id": "a537c8df-d713-4086-9874-7d660acd7789",
   "metadata": {},
   "outputs": [],
   "source": []
  }
 ],
 "metadata": {
  "kernelspec": {
   "display_name": "Python 3 (ipykernel)",
   "language": "python",
   "name": "python3"
  },
  "language_info": {
   "codemirror_mode": {
    "name": "ipython",
    "version": 3
   },
   "file_extension": ".py",
   "mimetype": "text/x-python",
   "name": "python",
   "nbconvert_exporter": "python",
   "pygments_lexer": "ipython3",
   "version": "3.8.13"
  }
 },
 "nbformat": 4,
 "nbformat_minor": 5
}
