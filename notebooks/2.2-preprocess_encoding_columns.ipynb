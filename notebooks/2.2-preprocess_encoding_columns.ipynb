{
 "cells": [
  {
   "cell_type": "code",
   "execution_count": 4,
   "id": "f9732a09-782d-4678-9039-46aed08ff608",
   "metadata": {},
   "outputs": [],
   "source": [
    "import os\n",
    "import numpy as np\n",
    "import pandas as pd\n",
    "\n",
    "import config\n",
    "\n",
    "# 最大表示列数の指定（ここでは50列を指定）\n",
    "pd.set_option(\"display.max_columns\", 50)\n",
    "pd.set_option('display.max_rows', 50)\n",
    "\n",
    "\n",
    "def make_dir(dir_name: str):\n",
    "    if not os.path.exists(dir_name):\n",
    "        os.makedirs(dir_name)\n"
   ]
  },
  {
   "cell_type": "markdown",
   "id": "2da68128-77e7-4834-a1bc-afd2f58e38b9",
   "metadata": {},
   "source": [
    "dfの読み込み"
   ]
  },
  {
   "cell_type": "code",
   "execution_count": 5,
   "id": "ede268bf-eaf3-4089-a3eb-bb524dc1da16",
   "metadata": {
    "tags": []
   },
   "outputs": [
    {
     "data": {
      "text/plain": [
       "(1124, 36)"
      ]
     },
     "execution_count": 5,
     "metadata": {},
     "output_type": "execute_result"
    }
   ],
   "source": [
    "# PATIENT_IDにMBを含むデータのみ含むデータフレームを読み込み\n",
    "df_MB_dropped=pd.read_pickle(config.INTERIM_PICKLE_PREPROCESSED_DIR+'/2.1-df_MB_dropped.pkl')\n",
    "df_MB_dropped.shape"
   ]
  },
  {
   "cell_type": "markdown",
   "id": "ace7fc19-bea4-4d9b-8cd6-fd8d8cfda70e",
   "metadata": {},
   "source": [
    "# 各columnの整理\n",
    "dfの各columnについて、型と値の整理を行う"
   ]
  },
  {
   "cell_type": "code",
   "execution_count": 6,
   "id": "a7fb9b3f-49b0-4fb8-bbd9-50b008cc3dac",
   "metadata": {},
   "outputs": [
    {
     "name": "stdout",
     "output_type": "stream",
     "text": [
      "36 36\n"
     ]
    }
   ],
   "source": [
    "target_columns=[\n",
    "    # patient\n",
    "    'OS_MONTHS',\n",
    "    'RFS_MONTHS',\n",
    "    'OS_STATUS',\n",
    "    'RFS_STATUS',\n",
    "    'VITAL_STATUS',\n",
    "]\n",
    "\n",
    "int_columns=[\n",
    "    # patient\n",
    "    'LYMPH_NODES_EXAMINED_POSITIVE',\n",
    "    \n",
    "    'OS_MONTHS',\n",
    "    'RFS_MONTHS',\n",
    "]\n",
    "\n",
    "float_columns=[\n",
    "    # patient\n",
    "    'NPI',\n",
    "    'AGE_AT_DIAGNOSIS',\n",
    "    # sample\n",
    "    'TUMOR_SIZE',\n",
    "    'TMB_NONSYNONYMOUS',\n",
    "]\n",
    "\n",
    "str_columns=[\n",
    "]\n",
    "\n",
    "# 質的変数（順序尺度）\n",
    "qualitative_ordinal_columns=[\n",
    "    # patient\n",
    "    'CELLULARITY',  \n",
    "    'ER_IHC',\n",
    "    'HER2_SNP6',\n",
    "    'INFERRED_MENOPAUSAL_STATE',\n",
    "    # sample\n",
    "    'ER_STATUS',\n",
    "    'HER2_STATUS',\n",
    "    'GRADE',\n",
    "    'PR_STATUS',\n",
    "    'TUMOR_STAGE',\n",
    "]\n",
    "# 質的変数（名義尺度）\n",
    "qualitative_name_columns=[\n",
    "    # patient\n",
    "    'COHORT',\n",
    "    'INTCLUST',\n",
    "    'CLAUDIN_SUBTYPE',\n",
    "    'THREEGENE',\n",
    "    'HISTOLOGICAL_SUBTYPE',\n",
    "    'BREAST_SURGERY',\n",
    "    'LATERALITY',\n",
    "    \n",
    "    'VITAL_STATUS',\n",
    "    # sample\n",
    "    'CANCER_TYPE',\n",
    "    'CANCER_TYPE_DETAILED',\n",
    "    'ONCOTREE_CODE',\n",
    "\n",
    "]\n",
    "\n",
    "bool_columns=[\n",
    "    # patient\n",
    "    'CHEMOTHERAPY',\n",
    "    'HORMONE_THERAPY',\n",
    "    'RADIO_THERAPY',\n",
    "]\n",
    "\n",
    "meanless_columns=[\n",
    "    # patient\n",
    "    'PATIENT_ID',\n",
    "    'SEX',\n",
    "    \n",
    "    'OS_STATUS',\n",
    "    'RFS_STATUS',\n",
    "    # sample\n",
    "    #'PATIENT_ID',\n",
    "    'SAMPLE_ID',\n",
    "    'SAMPLE_TYPE',\n",
    "]\n",
    "\n",
    "print(df_MB_dropped.shape[1],\n",
    "    len(int_columns)+\\\n",
    "    len(float_columns)+\\\n",
    "    len(ｓｔｒ_columns)+\\\n",
    "    len(qualitative_ordinal_columns)+\\\n",
    "    len(qualitative_name_columns)+\\\n",
    "    len(bool_columns)+\\\n",
    "    len(meanless_columns))\n",
    "assert  df_MB_dropped.shape[1]==\\\n",
    "    len(int_columns)+\\\n",
    "    len(float_columns)+\\\n",
    "    len(ｓｔｒ_columns)+\\\n",
    "    len(qualitative_ordinal_columns)+\\\n",
    "    len(qualitative_name_columns)+\\\n",
    "    len(bool_columns)+\\\n",
    "    len(meanless_columns), 'lack or too much columns'"
   ]
  },
  {
   "cell_type": "markdown",
   "id": "af667571-e1ad-4313-9641-d9f1cd71855a",
   "metadata": {},
   "source": [
    "## 質的変数（順序尺度）のエンコーディング\n",
    "\n",
    "qualitative_ordinal_columnsは、順序のあるstrの変数で構成されている。  \n",
    "そこで大小関係に対応するようstrをintに変換する。  "
   ]
  },
  {
   "cell_type": "code",
   "execution_count": 7,
   "id": "7b0cd2c5-f7d8-4cfe-a734-bd1c2187742c",
   "metadata": {},
   "outputs": [
    {
     "data": {
      "text/html": [
       "<div>\n",
       "<style scoped>\n",
       "    .dataframe tbody tr th:only-of-type {\n",
       "        vertical-align: middle;\n",
       "    }\n",
       "\n",
       "    .dataframe tbody tr th {\n",
       "        vertical-align: top;\n",
       "    }\n",
       "\n",
       "    .dataframe thead th {\n",
       "        text-align: right;\n",
       "    }\n",
       "</style>\n",
       "<table border=\"1\" class=\"dataframe\">\n",
       "  <thead>\n",
       "    <tr style=\"text-align: right;\">\n",
       "      <th></th>\n",
       "      <th>CELLULARITY</th>\n",
       "      <th>ER_IHC</th>\n",
       "      <th>HER2_SNP6</th>\n",
       "      <th>INFERRED_MENOPAUSAL_STATE</th>\n",
       "      <th>ER_STATUS</th>\n",
       "      <th>HER2_STATUS</th>\n",
       "      <th>GRADE</th>\n",
       "      <th>PR_STATUS</th>\n",
       "      <th>TUMOR_STAGE</th>\n",
       "    </tr>\n",
       "  </thead>\n",
       "  <tbody>\n",
       "    <tr>\n",
       "      <th>1</th>\n",
       "      <td>High</td>\n",
       "      <td>Positve</td>\n",
       "      <td>NEUTRAL</td>\n",
       "      <td>Pre</td>\n",
       "      <td>Positive</td>\n",
       "      <td>Negative</td>\n",
       "      <td>3.0</td>\n",
       "      <td>Positive</td>\n",
       "      <td>1.0</td>\n",
       "    </tr>\n",
       "    <tr>\n",
       "      <th>4</th>\n",
       "      <td>High</td>\n",
       "      <td>Positve</td>\n",
       "      <td>NEUTRAL</td>\n",
       "      <td>Post</td>\n",
       "      <td>Positive</td>\n",
       "      <td>Negative</td>\n",
       "      <td>3.0</td>\n",
       "      <td>Positive</td>\n",
       "      <td>2.0</td>\n",
       "    </tr>\n",
       "    <tr>\n",
       "      <th>5</th>\n",
       "      <td>Moderate</td>\n",
       "      <td>Positve</td>\n",
       "      <td>NEUTRAL</td>\n",
       "      <td>Post</td>\n",
       "      <td>Positive</td>\n",
       "      <td>Negative</td>\n",
       "      <td>3.0</td>\n",
       "      <td>Positive</td>\n",
       "      <td>4.0</td>\n",
       "    </tr>\n",
       "    <tr>\n",
       "      <th>10</th>\n",
       "      <td>Moderate</td>\n",
       "      <td>Positve</td>\n",
       "      <td>GAIN</td>\n",
       "      <td>Post</td>\n",
       "      <td>Positive</td>\n",
       "      <td>Negative</td>\n",
       "      <td>3.0</td>\n",
       "      <td>Negative</td>\n",
       "      <td>2.0</td>\n",
       "    </tr>\n",
       "    <tr>\n",
       "      <th>11</th>\n",
       "      <td>High</td>\n",
       "      <td>Negative</td>\n",
       "      <td>LOSS</td>\n",
       "      <td>Post</td>\n",
       "      <td>Positive</td>\n",
       "      <td>Negative</td>\n",
       "      <td>2.0</td>\n",
       "      <td>Negative</td>\n",
       "      <td>2.0</td>\n",
       "    </tr>\n",
       "  </tbody>\n",
       "</table>\n",
       "</div>"
      ],
      "text/plain": [
       "   CELLULARITY    ER_IHC HER2_SNP6 INFERRED_MENOPAUSAL_STATE ER_STATUS  \\\n",
       "1         High   Positve   NEUTRAL                       Pre  Positive   \n",
       "4         High   Positve   NEUTRAL                      Post  Positive   \n",
       "5     Moderate   Positve   NEUTRAL                      Post  Positive   \n",
       "10    Moderate   Positve      GAIN                      Post  Positive   \n",
       "11        High  Negative      LOSS                      Post  Positive   \n",
       "\n",
       "   HER2_STATUS  GRADE PR_STATUS  TUMOR_STAGE  \n",
       "1     Negative    3.0  Positive          1.0  \n",
       "4     Negative    3.0  Positive          2.0  \n",
       "5     Negative    3.0  Positive          4.0  \n",
       "10    Negative    3.0  Negative          2.0  \n",
       "11    Negative    2.0  Negative          2.0  "
      ]
     },
     "execution_count": 7,
     "metadata": {},
     "output_type": "execute_result"
    }
   ],
   "source": [
    "df_MB_dropped[qualitative_ordinal_columns].head()"
   ]
  },
  {
   "cell_type": "code",
   "execution_count": 8,
   "id": "bb99680e-01b8-4d2e-b8f6-f2668c6ddbff",
   "metadata": {},
   "outputs": [
    {
     "name": "stdout",
     "output_type": "stream",
     "text": [
      "CELLULARITY\n"
     ]
    },
    {
     "data": {
      "text/plain": [
       "High        564\n",
       "Moderate    428\n",
       "Low         132\n",
       "Name: CELLULARITY, dtype: int64"
      ]
     },
     "metadata": {},
     "output_type": "display_data"
    },
    {
     "name": "stdout",
     "output_type": "stream",
     "text": [
      "--------------------------------------------------\n",
      "ER_IHC\n"
     ]
    },
    {
     "data": {
      "text/plain": [
       "Positve     875\n",
       "Negative    249\n",
       "Name: ER_IHC, dtype: int64"
      ]
     },
     "metadata": {},
     "output_type": "display_data"
    },
    {
     "name": "stdout",
     "output_type": "stream",
     "text": [
      "--------------------------------------------------\n",
      "HER2_SNP6\n"
     ]
    },
    {
     "data": {
      "text/plain": [
       "NEUTRAL    813\n",
       "GAIN       251\n",
       "LOSS        58\n",
       "UNDEF        2\n",
       "Name: HER2_SNP6, dtype: int64"
      ]
     },
     "metadata": {},
     "output_type": "display_data"
    },
    {
     "name": "stdout",
     "output_type": "stream",
     "text": [
      "--------------------------------------------------\n",
      "INFERRED_MENOPAUSAL_STATE\n"
     ]
    },
    {
     "data": {
      "text/plain": [
       "Post    866\n",
       "Pre     258\n",
       "Name: INFERRED_MENOPAUSAL_STATE, dtype: int64"
      ]
     },
     "metadata": {},
     "output_type": "display_data"
    },
    {
     "name": "stdout",
     "output_type": "stream",
     "text": [
      "--------------------------------------------------\n",
      "ER_STATUS\n"
     ]
    },
    {
     "data": {
      "text/plain": [
       "Positive    870\n",
       "Negative    254\n",
       "Name: ER_STATUS, dtype: int64"
      ]
     },
     "metadata": {},
     "output_type": "display_data"
    },
    {
     "name": "stdout",
     "output_type": "stream",
     "text": [
      "--------------------------------------------------\n",
      "HER2_STATUS\n"
     ]
    },
    {
     "data": {
      "text/plain": [
       "Negative    984\n",
       "Positive    140\n",
       "Name: HER2_STATUS, dtype: int64"
      ]
     },
     "metadata": {},
     "output_type": "display_data"
    },
    {
     "name": "stdout",
     "output_type": "stream",
     "text": [
      "--------------------------------------------------\n",
      "GRADE\n"
     ]
    },
    {
     "data": {
      "text/plain": [
       "3.0    587\n",
       "2.0    448\n",
       "1.0     89\n",
       "Name: GRADE, dtype: int64"
      ]
     },
     "metadata": {},
     "output_type": "display_data"
    },
    {
     "name": "stdout",
     "output_type": "stream",
     "text": [
      "--------------------------------------------------\n",
      "PR_STATUS\n"
     ]
    },
    {
     "data": {
      "text/plain": [
       "Positive    584\n",
       "Negative    540\n",
       "Name: PR_STATUS, dtype: int64"
      ]
     },
     "metadata": {},
     "output_type": "display_data"
    },
    {
     "name": "stdout",
     "output_type": "stream",
     "text": [
      "--------------------------------------------------\n",
      "TUMOR_STAGE\n"
     ]
    },
    {
     "data": {
      "text/plain": [
       "2.0    640\n",
       "1.0    381\n",
       "3.0     95\n",
       "4.0      8\n",
       "Name: TUMOR_STAGE, dtype: int64"
      ]
     },
     "metadata": {},
     "output_type": "display_data"
    },
    {
     "name": "stdout",
     "output_type": "stream",
     "text": [
      "--------------------------------------------------\n"
     ]
    }
   ],
   "source": [
    "for column in qualitative_ordinal_columns:\n",
    "    print(column)\n",
    "    display(df_MB_dropped[column].value_counts())\n",
    "    print('-----'*10)"
   ]
  },
  {
   "cell_type": "code",
   "execution_count": 9,
   "id": "607b3f31-1d66-4cad-a9a5-822667058719",
   "metadata": {},
   "outputs": [
    {
     "data": {
      "text/plain": [
       "1       3\n",
       "4       3\n",
       "5       2\n",
       "10      2\n",
       "11      3\n",
       "       ..\n",
       "1697    3\n",
       "1698    3\n",
       "1700    3\n",
       "1702    3\n",
       "1743    3\n",
       "Name: CELLULARITY, Length: 1124, dtype: int64"
      ]
     },
     "execution_count": 9,
     "metadata": {},
     "output_type": "execute_result"
    }
   ],
   "source": [
    "df_MB_dropped['CELLULARITY'].map({'High':3,'Moderate':2,'Low':1})"
   ]
  },
  {
   "cell_type": "code",
   "execution_count": 12,
   "id": "a5fa8bd9-90bc-41cb-bc65-1bbac892c5bc",
   "metadata": {},
   "outputs": [
    {
     "name": "stdout",
     "output_type": "stream",
     "text": [
      "CELLULARITY\n"
     ]
    },
    {
     "data": {
      "text/plain": [
       "3    564\n",
       "2    428\n",
       "1    132\n",
       "Name: CELLULARITY, dtype: int64"
      ]
     },
     "metadata": {},
     "output_type": "display_data"
    },
    {
     "name": "stdout",
     "output_type": "stream",
     "text": [
      "--------------------------------------------------\n",
      "ER_IHC\n"
     ]
    },
    {
     "data": {
      "text/plain": [
       " 1    875\n",
       "-1    249\n",
       "Name: ER_IHC, dtype: int64"
      ]
     },
     "metadata": {},
     "output_type": "display_data"
    },
    {
     "name": "stdout",
     "output_type": "stream",
     "text": [
      "--------------------------------------------------\n",
      "HER2_SNP6\n"
     ]
    },
    {
     "data": {
      "text/plain": [
       "2    813\n",
       "3    251\n",
       "1     58\n",
       "0      2\n",
       "Name: HER2_SNP6, dtype: int64"
      ]
     },
     "metadata": {},
     "output_type": "display_data"
    },
    {
     "name": "stdout",
     "output_type": "stream",
     "text": [
      "--------------------------------------------------\n",
      "INFERRED_MENOPAUSAL_STATE\n"
     ]
    },
    {
     "data": {
      "text/plain": [
       " 1    866\n",
       "-1    258\n",
       "Name: INFERRED_MENOPAUSAL_STATE, dtype: int64"
      ]
     },
     "metadata": {},
     "output_type": "display_data"
    },
    {
     "name": "stdout",
     "output_type": "stream",
     "text": [
      "--------------------------------------------------\n",
      "ER_STATUS\n"
     ]
    },
    {
     "data": {
      "text/plain": [
       " 1    870\n",
       "-1    254\n",
       "Name: ER_STATUS, dtype: int64"
      ]
     },
     "metadata": {},
     "output_type": "display_data"
    },
    {
     "name": "stdout",
     "output_type": "stream",
     "text": [
      "--------------------------------------------------\n",
      "HER2_STATUS\n"
     ]
    },
    {
     "data": {
      "text/plain": [
       "-1    984\n",
       " 1    140\n",
       "Name: HER2_STATUS, dtype: int64"
      ]
     },
     "metadata": {},
     "output_type": "display_data"
    },
    {
     "name": "stdout",
     "output_type": "stream",
     "text": [
      "--------------------------------------------------\n",
      "GRADE\n"
     ]
    },
    {
     "data": {
      "text/plain": [
       "3.0    587\n",
       "2.0    448\n",
       "1.0     89\n",
       "Name: GRADE, dtype: int64"
      ]
     },
     "metadata": {},
     "output_type": "display_data"
    },
    {
     "name": "stdout",
     "output_type": "stream",
     "text": [
      "--------------------------------------------------\n",
      "PR_STATUS\n"
     ]
    },
    {
     "data": {
      "text/plain": [
       " 1    584\n",
       "-1    540\n",
       "Name: PR_STATUS, dtype: int64"
      ]
     },
     "metadata": {},
     "output_type": "display_data"
    },
    {
     "name": "stdout",
     "output_type": "stream",
     "text": [
      "--------------------------------------------------\n",
      "TUMOR_STAGE\n"
     ]
    },
    {
     "data": {
      "text/plain": [
       "2.0    640\n",
       "1.0    381\n",
       "3.0     95\n",
       "4.0      8\n",
       "Name: TUMOR_STAGE, dtype: int64"
      ]
     },
     "metadata": {},
     "output_type": "display_data"
    },
    {
     "name": "stdout",
     "output_type": "stream",
     "text": [
      "--------------------------------------------------\n"
     ]
    }
   ],
   "source": [
    "df_MB_dropped['CELLULARITY'].replace({'High':3,'Moderate':2,'Low':1}, inplace=True)\n",
    "df_MB_dropped['ER_IHC'].replace({'Positve':1, 'Negative':-1}, inplace=True)\n",
    "df_MB_dropped['HER2_SNP6'].replace({'GAIN':3, 'NEUTRAL':2, 'LOSS':1, 'UNDEF':0}, inplace=True)\n",
    "df_MB_dropped['INFERRED_MENOPAUSAL_STATE'].replace({'Post':1, 'Pre':-1}, inplace=True)\n",
    "df_MB_dropped['ER_STATUS'].replace({'Positive':1, 'Negative':-1}, inplace=True)\n",
    "df_MB_dropped['HER2_STATUS'].replace({'Positive':1, 'Negative':-1}, inplace=True)\n",
    "#df_MB_dropped['GRADEGRADE']\n",
    "df_MB_dropped['PR_STATUS'].replace({'Positive':1, 'Negative':-1}, inplace=True)\n",
    "#df_MB_dropped['TUMOR_STAGE']\n",
    "\n",
    "for column in qualitative_ordinal_columns:\n",
    "    print(column)\n",
    "    display(df_MB_dropped[column].value_counts())\n",
    "    print('-----'*10)"
   ]
  },
  {
   "cell_type": "code",
   "execution_count": null,
   "id": "91114892-e2d7-41bf-a1c3-781c23e561fe",
   "metadata": {},
   "outputs": [],
   "source": []
  },
  {
   "cell_type": "code",
   "execution_count": null,
   "id": "a492958f-38a8-45c9-a348-cd99c5b25a2f",
   "metadata": {},
   "outputs": [],
   "source": []
  }
 ],
 "metadata": {
  "kernelspec": {
   "display_name": "breast-cancer-analytics",
   "language": "python",
   "name": "breast-cancer-analytics"
  },
  "language_info": {
   "codemirror_mode": {
    "name": "ipython",
    "version": 3
   },
   "file_extension": ".py",
   "mimetype": "text/x-python",
   "name": "python",
   "nbconvert_exporter": "python",
   "pygments_lexer": "ipython3",
   "version": "3.8.13"
  }
 },
 "nbformat": 4,
 "nbformat_minor": 5
}
