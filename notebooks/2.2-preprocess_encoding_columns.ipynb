{
 "cells": [
  {
   "cell_type": "code",
   "execution_count": 19,
   "id": "f9732a09-782d-4678-9039-46aed08ff608",
   "metadata": {},
   "outputs": [],
   "source": [
    "import os\n",
    "import numpy as np\n",
    "import pandas as pd\n",
    "\n",
    "from sklearn.preprocessing import OneHotEncoder, LabelEncoder\n",
    "\n",
    "import config\n",
    "\n",
    "# 最大表示列数の指定（ここでは50列を指定）\n",
    "pd.set_option(\"display.max_columns\", 50)\n",
    "pd.set_option('display.max_rows', 50)\n",
    "\n",
    "\n",
    "def make_dir(dir_name: str):\n",
    "    if not os.path.exists(dir_name):\n",
    "        os.makedirs(dir_name)"
   ]
  },
  {
   "cell_type": "markdown",
   "id": "2da68128-77e7-4834-a1bc-afd2f58e38b9",
   "metadata": {},
   "source": [
    "dfの読み込み"
   ]
  },
  {
   "cell_type": "markdown",
   "id": "a81d4fe7-f163-401a-985a-6f96e40afbda",
   "metadata": {},
   "source": [
    "# 型のエンコーディング\n",
    "\n",
    "### df｜df_MB_dtype_encoded  \n",
    "順序尺度特徴量とboolean特徴量について、データを扱いやすい形に変換する。"
   ]
  },
  {
   "cell_type": "code",
   "execution_count": 20,
   "id": "124f2c01-de5f-4138-85bb-6f900ba98d34",
   "metadata": {},
   "outputs": [
    {
     "name": "stdout",
     "output_type": "stream",
     "text": [
      "<class 'pandas.core.frame.DataFrame'>\n",
      "Int64Index: 1124 entries, 1 to 1743\n",
      "Data columns (total 36 columns):\n",
      " #   Column                         Non-Null Count  Dtype  \n",
      "---  ------                         --------------  -----  \n",
      " 0   PATIENT_ID                     1124 non-null   object \n",
      " 1   LYMPH_NODES_EXAMINED_POSITIVE  1124 non-null   float64\n",
      " 2   NPI                            1124 non-null   float64\n",
      " 3   CELLULARITY                    1124 non-null   object \n",
      " 4   CHEMOTHERAPY                   1124 non-null   object \n",
      " 5   COHORT                         1124 non-null   float64\n",
      " 6   ER_IHC                         1124 non-null   object \n",
      " 7   HER2_SNP6                      1124 non-null   object \n",
      " 8   HORMONE_THERAPY                1124 non-null   object \n",
      " 9   INFERRED_MENOPAUSAL_STATE      1124 non-null   object \n",
      " 10  SEX                            1124 non-null   object \n",
      " 11  INTCLUST                       1124 non-null   object \n",
      " 12  AGE_AT_DIAGNOSIS               1124 non-null   float64\n",
      " 13  OS_MONTHS                      1124 non-null   float64\n",
      " 14  OS_STATUS                      1124 non-null   object \n",
      " 15  CLAUDIN_SUBTYPE                1124 non-null   object \n",
      " 16  THREEGENE                      1124 non-null   object \n",
      " 17  VITAL_STATUS                   1124 non-null   object \n",
      " 18  LATERALITY                     1124 non-null   object \n",
      " 19  RADIO_THERAPY                  1124 non-null   object \n",
      " 20  HISTOLOGICAL_SUBTYPE           1124 non-null   object \n",
      " 21  BREAST_SURGERY                 1124 non-null   object \n",
      " 22  RFS_STATUS                     1124 non-null   object \n",
      " 23  RFS_MONTHS                     1124 non-null   float64\n",
      " 24  SAMPLE_ID                      1124 non-null   object \n",
      " 25  CANCER_TYPE                    1124 non-null   object \n",
      " 26  CANCER_TYPE_DETAILED           1124 non-null   object \n",
      " 27  ER_STATUS                      1124 non-null   object \n",
      " 28  HER2_STATUS                    1124 non-null   object \n",
      " 29  GRADE                          1124 non-null   float64\n",
      " 30  ONCOTREE_CODE                  1124 non-null   object \n",
      " 31  PR_STATUS                      1124 non-null   object \n",
      " 32  SAMPLE_TYPE                    1124 non-null   object \n",
      " 33  TUMOR_SIZE                     1124 non-null   float64\n",
      " 34  TUMOR_STAGE                    1124 non-null   float64\n",
      " 35  TMB_NONSYNONYMOUS              1124 non-null   float64\n",
      "dtypes: float64(10), object(26)\n",
      "memory usage: 324.9+ KB\n"
     ]
    }
   ],
   "source": [
    "df_MB_dtype_encoded=pd.read_pickle(config.INTERIM_PICKLE_PREPROCESSED_DIR+'/2.1-df_MB_dropped.pkl')\n",
    "df_MB_dtype_encoded.info()"
   ]
  },
  {
   "cell_type": "code",
   "execution_count": 21,
   "id": "a7fb9b3f-49b0-4fb8-bbd9-50b008cc3dac",
   "metadata": {},
   "outputs": [
    {
     "name": "stdout",
     "output_type": "stream",
     "text": [
      "36 36\n"
     ]
    }
   ],
   "source": [
    "target_columns=[\n",
    "    # patient\n",
    "    'OS_MONTHS',\n",
    "    'RFS_MONTHS',\n",
    "    'OS_STATUS',\n",
    "    'RFS_STATUS',\n",
    "    'VITAL_STATUS',\n",
    "]\n",
    "\n",
    "int_columns=[\n",
    "    # patient\n",
    "    'LYMPH_NODES_EXAMINED_POSITIVE',\n",
    "    \n",
    "    'OS_MONTHS',\n",
    "    'RFS_MONTHS',\n",
    "]\n",
    "\n",
    "float_columns=[\n",
    "    # patient\n",
    "    'NPI',\n",
    "    'AGE_AT_DIAGNOSIS',\n",
    "    # sample\n",
    "    'TUMOR_SIZE',\n",
    "    'TMB_NONSYNONYMOUS',\n",
    "]\n",
    "\n",
    "str_columns=[\n",
    "]\n",
    "\n",
    "# 質的変数（順序尺度）\n",
    "qualitative_ordinal_columns=[\n",
    "    # patient\n",
    "    'CELLULARITY',  \n",
    "    'ER_IHC',\n",
    "    'HER2_SNP6',\n",
    "    'INFERRED_MENOPAUSAL_STATE',\n",
    "    # sample\n",
    "    'ER_STATUS',\n",
    "    'HER2_STATUS',\n",
    "    'GRADE',\n",
    "    'PR_STATUS',\n",
    "    'TUMOR_STAGE',\n",
    "]\n",
    "# 質的変数（名義尺度）\n",
    "qualitative_name_columns=[\n",
    "    # patient\n",
    "    'COHORT',\n",
    "    'INTCLUST',\n",
    "    'CLAUDIN_SUBTYPE',\n",
    "    'THREEGENE',\n",
    "    'HISTOLOGICAL_SUBTYPE',\n",
    "    'BREAST_SURGERY',\n",
    "    'LATERALITY',\n",
    "    \n",
    "    'VITAL_STATUS',\n",
    "    # sample\n",
    "    'CANCER_TYPE',\n",
    "    'CANCER_TYPE_DETAILED',\n",
    "    'ONCOTREE_CODE',\n",
    "\n",
    "]\n",
    "\n",
    "bool_columns=[\n",
    "    # patient\n",
    "    'CHEMOTHERAPY',\n",
    "    'HORMONE_THERAPY',\n",
    "    'RADIO_THERAPY',\n",
    "  \n",
    "    'OS_STATUS',\n",
    "    'RFS_STATUS',\n",
    "]\n",
    "\n",
    "meanless_columns=[\n",
    "    # patient\n",
    "    'PATIENT_ID',\n",
    "    'SEX',\n",
    "    \n",
    "    # sample\n",
    "    #'PATIENT_ID',\n",
    "    'SAMPLE_ID',\n",
    "    'SAMPLE_TYPE',\n",
    "]\n",
    "\n",
    "print(df_MB_dtype_encoded.shape[1],\n",
    "    len(int_columns)+\\\n",
    "    len(float_columns)+\\\n",
    "    len(ｓｔｒ_columns)+\\\n",
    "    len(qualitative_ordinal_columns)+\\\n",
    "    len(qualitative_name_columns)+\\\n",
    "    len(bool_columns)+\\\n",
    "    len(meanless_columns))\n",
    "assert  df_MB_dtype_encoded.shape[1]==\\\n",
    "    len(int_columns)+\\\n",
    "    len(float_columns)+\\\n",
    "    len(ｓｔｒ_columns)+\\\n",
    "    len(qualitative_ordinal_columns)+\\\n",
    "    len(qualitative_name_columns)+\\\n",
    "    len(bool_columns)+\\\n",
    "    len(meanless_columns), 'lack or too much columns'"
   ]
  },
  {
   "cell_type": "markdown",
   "id": "af667571-e1ad-4313-9641-d9f1cd71855a",
   "metadata": {},
   "source": [
    "## 質的変数（順序尺度）のエンコーディング\n",
    "\n",
    "qualitative_ordinal_columnsは、順序のあるstrの変数で構成されている。  \n",
    "そこで大小関係に対応するようstrをintに変換する。  "
   ]
  },
  {
   "cell_type": "code",
   "execution_count": 22,
   "id": "7b0cd2c5-f7d8-4cfe-a734-bd1c2187742c",
   "metadata": {},
   "outputs": [
    {
     "data": {
      "text/html": [
       "<div>\n",
       "<style scoped>\n",
       "    .dataframe tbody tr th:only-of-type {\n",
       "        vertical-align: middle;\n",
       "    }\n",
       "\n",
       "    .dataframe tbody tr th {\n",
       "        vertical-align: top;\n",
       "    }\n",
       "\n",
       "    .dataframe thead th {\n",
       "        text-align: right;\n",
       "    }\n",
       "</style>\n",
       "<table border=\"1\" class=\"dataframe\">\n",
       "  <thead>\n",
       "    <tr style=\"text-align: right;\">\n",
       "      <th></th>\n",
       "      <th>CELLULARITY</th>\n",
       "      <th>ER_IHC</th>\n",
       "      <th>HER2_SNP6</th>\n",
       "      <th>INFERRED_MENOPAUSAL_STATE</th>\n",
       "      <th>ER_STATUS</th>\n",
       "      <th>HER2_STATUS</th>\n",
       "      <th>GRADE</th>\n",
       "      <th>PR_STATUS</th>\n",
       "      <th>TUMOR_STAGE</th>\n",
       "    </tr>\n",
       "  </thead>\n",
       "  <tbody>\n",
       "    <tr>\n",
       "      <th>1</th>\n",
       "      <td>High</td>\n",
       "      <td>Positve</td>\n",
       "      <td>NEUTRAL</td>\n",
       "      <td>Pre</td>\n",
       "      <td>Positive</td>\n",
       "      <td>Negative</td>\n",
       "      <td>3.0</td>\n",
       "      <td>Positive</td>\n",
       "      <td>1.0</td>\n",
       "    </tr>\n",
       "    <tr>\n",
       "      <th>4</th>\n",
       "      <td>High</td>\n",
       "      <td>Positve</td>\n",
       "      <td>NEUTRAL</td>\n",
       "      <td>Post</td>\n",
       "      <td>Positive</td>\n",
       "      <td>Negative</td>\n",
       "      <td>3.0</td>\n",
       "      <td>Positive</td>\n",
       "      <td>2.0</td>\n",
       "    </tr>\n",
       "    <tr>\n",
       "      <th>5</th>\n",
       "      <td>Moderate</td>\n",
       "      <td>Positve</td>\n",
       "      <td>NEUTRAL</td>\n",
       "      <td>Post</td>\n",
       "      <td>Positive</td>\n",
       "      <td>Negative</td>\n",
       "      <td>3.0</td>\n",
       "      <td>Positive</td>\n",
       "      <td>4.0</td>\n",
       "    </tr>\n",
       "    <tr>\n",
       "      <th>10</th>\n",
       "      <td>Moderate</td>\n",
       "      <td>Positve</td>\n",
       "      <td>GAIN</td>\n",
       "      <td>Post</td>\n",
       "      <td>Positive</td>\n",
       "      <td>Negative</td>\n",
       "      <td>3.0</td>\n",
       "      <td>Negative</td>\n",
       "      <td>2.0</td>\n",
       "    </tr>\n",
       "    <tr>\n",
       "      <th>11</th>\n",
       "      <td>High</td>\n",
       "      <td>Negative</td>\n",
       "      <td>LOSS</td>\n",
       "      <td>Post</td>\n",
       "      <td>Positive</td>\n",
       "      <td>Negative</td>\n",
       "      <td>2.0</td>\n",
       "      <td>Negative</td>\n",
       "      <td>2.0</td>\n",
       "    </tr>\n",
       "  </tbody>\n",
       "</table>\n",
       "</div>"
      ],
      "text/plain": [
       "   CELLULARITY    ER_IHC HER2_SNP6 INFERRED_MENOPAUSAL_STATE ER_STATUS  \\\n",
       "1         High   Positve   NEUTRAL                       Pre  Positive   \n",
       "4         High   Positve   NEUTRAL                      Post  Positive   \n",
       "5     Moderate   Positve   NEUTRAL                      Post  Positive   \n",
       "10    Moderate   Positve      GAIN                      Post  Positive   \n",
       "11        High  Negative      LOSS                      Post  Positive   \n",
       "\n",
       "   HER2_STATUS  GRADE PR_STATUS  TUMOR_STAGE  \n",
       "1     Negative    3.0  Positive          1.0  \n",
       "4     Negative    3.0  Positive          2.0  \n",
       "5     Negative    3.0  Positive          4.0  \n",
       "10    Negative    3.0  Negative          2.0  \n",
       "11    Negative    2.0  Negative          2.0  "
      ]
     },
     "execution_count": 22,
     "metadata": {},
     "output_type": "execute_result"
    }
   ],
   "source": [
    "df_MB_dtype_encoded[qualitative_ordinal_columns].head()"
   ]
  },
  {
   "cell_type": "code",
   "execution_count": 23,
   "id": "bb99680e-01b8-4d2e-b8f6-f2668c6ddbff",
   "metadata": {},
   "outputs": [
    {
     "name": "stdout",
     "output_type": "stream",
     "text": [
      "CELLULARITY\n"
     ]
    },
    {
     "data": {
      "text/plain": [
       "High        564\n",
       "Moderate    428\n",
       "Low         132\n",
       "Name: CELLULARITY, dtype: int64"
      ]
     },
     "metadata": {},
     "output_type": "display_data"
    },
    {
     "name": "stdout",
     "output_type": "stream",
     "text": [
      "--------------------------------------------------\n",
      "ER_IHC\n"
     ]
    },
    {
     "data": {
      "text/plain": [
       "Positve     875\n",
       "Negative    249\n",
       "Name: ER_IHC, dtype: int64"
      ]
     },
     "metadata": {},
     "output_type": "display_data"
    },
    {
     "name": "stdout",
     "output_type": "stream",
     "text": [
      "--------------------------------------------------\n",
      "HER2_SNP6\n"
     ]
    },
    {
     "data": {
      "text/plain": [
       "NEUTRAL    813\n",
       "GAIN       251\n",
       "LOSS        58\n",
       "UNDEF        2\n",
       "Name: HER2_SNP6, dtype: int64"
      ]
     },
     "metadata": {},
     "output_type": "display_data"
    },
    {
     "name": "stdout",
     "output_type": "stream",
     "text": [
      "--------------------------------------------------\n",
      "INFERRED_MENOPAUSAL_STATE\n"
     ]
    },
    {
     "data": {
      "text/plain": [
       "Post    866\n",
       "Pre     258\n",
       "Name: INFERRED_MENOPAUSAL_STATE, dtype: int64"
      ]
     },
     "metadata": {},
     "output_type": "display_data"
    },
    {
     "name": "stdout",
     "output_type": "stream",
     "text": [
      "--------------------------------------------------\n",
      "ER_STATUS\n"
     ]
    },
    {
     "data": {
      "text/plain": [
       "Positive    870\n",
       "Negative    254\n",
       "Name: ER_STATUS, dtype: int64"
      ]
     },
     "metadata": {},
     "output_type": "display_data"
    },
    {
     "name": "stdout",
     "output_type": "stream",
     "text": [
      "--------------------------------------------------\n",
      "HER2_STATUS\n"
     ]
    },
    {
     "data": {
      "text/plain": [
       "Negative    984\n",
       "Positive    140\n",
       "Name: HER2_STATUS, dtype: int64"
      ]
     },
     "metadata": {},
     "output_type": "display_data"
    },
    {
     "name": "stdout",
     "output_type": "stream",
     "text": [
      "--------------------------------------------------\n",
      "GRADE\n"
     ]
    },
    {
     "data": {
      "text/plain": [
       "3.0    587\n",
       "2.0    448\n",
       "1.0     89\n",
       "Name: GRADE, dtype: int64"
      ]
     },
     "metadata": {},
     "output_type": "display_data"
    },
    {
     "name": "stdout",
     "output_type": "stream",
     "text": [
      "--------------------------------------------------\n",
      "PR_STATUS\n"
     ]
    },
    {
     "data": {
      "text/plain": [
       "Positive    584\n",
       "Negative    540\n",
       "Name: PR_STATUS, dtype: int64"
      ]
     },
     "metadata": {},
     "output_type": "display_data"
    },
    {
     "name": "stdout",
     "output_type": "stream",
     "text": [
      "--------------------------------------------------\n",
      "TUMOR_STAGE\n"
     ]
    },
    {
     "data": {
      "text/plain": [
       "2.0    640\n",
       "1.0    381\n",
       "3.0     95\n",
       "4.0      8\n",
       "Name: TUMOR_STAGE, dtype: int64"
      ]
     },
     "metadata": {},
     "output_type": "display_data"
    },
    {
     "name": "stdout",
     "output_type": "stream",
     "text": [
      "--------------------------------------------------\n"
     ]
    }
   ],
   "source": [
    "for column in qualitative_ordinal_columns:\n",
    "    print(column)\n",
    "    display(df_MB_dtype_encoded[column].value_counts())\n",
    "    print('-----'*10)"
   ]
  },
  {
   "cell_type": "code",
   "execution_count": 24,
   "id": "a5fa8bd9-90bc-41cb-bc65-1bbac892c5bc",
   "metadata": {},
   "outputs": [
    {
     "name": "stdout",
     "output_type": "stream",
     "text": [
      "CELLULARITY\n"
     ]
    },
    {
     "data": {
      "text/plain": [
       "3    564\n",
       "2    428\n",
       "1    132\n",
       "Name: CELLULARITY, dtype: int64"
      ]
     },
     "metadata": {},
     "output_type": "display_data"
    },
    {
     "name": "stdout",
     "output_type": "stream",
     "text": [
      "--------------------------------------------------\n",
      "ER_IHC\n"
     ]
    },
    {
     "data": {
      "text/plain": [
       " 1    875\n",
       "-1    249\n",
       "Name: ER_IHC, dtype: int64"
      ]
     },
     "metadata": {},
     "output_type": "display_data"
    },
    {
     "name": "stdout",
     "output_type": "stream",
     "text": [
      "--------------------------------------------------\n",
      "HER2_SNP6\n"
     ]
    },
    {
     "data": {
      "text/plain": [
       "2    813\n",
       "3    251\n",
       "1     58\n",
       "0      2\n",
       "Name: HER2_SNP6, dtype: int64"
      ]
     },
     "metadata": {},
     "output_type": "display_data"
    },
    {
     "name": "stdout",
     "output_type": "stream",
     "text": [
      "--------------------------------------------------\n",
      "INFERRED_MENOPAUSAL_STATE\n"
     ]
    },
    {
     "data": {
      "text/plain": [
       " 1    866\n",
       "-1    258\n",
       "Name: INFERRED_MENOPAUSAL_STATE, dtype: int64"
      ]
     },
     "metadata": {},
     "output_type": "display_data"
    },
    {
     "name": "stdout",
     "output_type": "stream",
     "text": [
      "--------------------------------------------------\n",
      "ER_STATUS\n"
     ]
    },
    {
     "data": {
      "text/plain": [
       " 1    870\n",
       "-1    254\n",
       "Name: ER_STATUS, dtype: int64"
      ]
     },
     "metadata": {},
     "output_type": "display_data"
    },
    {
     "name": "stdout",
     "output_type": "stream",
     "text": [
      "--------------------------------------------------\n",
      "HER2_STATUS\n"
     ]
    },
    {
     "data": {
      "text/plain": [
       "-1    984\n",
       " 1    140\n",
       "Name: HER2_STATUS, dtype: int64"
      ]
     },
     "metadata": {},
     "output_type": "display_data"
    },
    {
     "name": "stdout",
     "output_type": "stream",
     "text": [
      "--------------------------------------------------\n",
      "GRADE\n"
     ]
    },
    {
     "data": {
      "text/plain": [
       "3.0    587\n",
       "2.0    448\n",
       "1.0     89\n",
       "Name: GRADE, dtype: int64"
      ]
     },
     "metadata": {},
     "output_type": "display_data"
    },
    {
     "name": "stdout",
     "output_type": "stream",
     "text": [
      "--------------------------------------------------\n",
      "PR_STATUS\n"
     ]
    },
    {
     "data": {
      "text/plain": [
       " 1    584\n",
       "-1    540\n",
       "Name: PR_STATUS, dtype: int64"
      ]
     },
     "metadata": {},
     "output_type": "display_data"
    },
    {
     "name": "stdout",
     "output_type": "stream",
     "text": [
      "--------------------------------------------------\n",
      "TUMOR_STAGE\n"
     ]
    },
    {
     "data": {
      "text/plain": [
       "2.0    640\n",
       "1.0    381\n",
       "3.0     95\n",
       "4.0      8\n",
       "Name: TUMOR_STAGE, dtype: int64"
      ]
     },
     "metadata": {},
     "output_type": "display_data"
    },
    {
     "name": "stdout",
     "output_type": "stream",
     "text": [
      "--------------------------------------------------\n"
     ]
    }
   ],
   "source": [
    "df_MB_dtype_encoded['CELLULARITY'].replace({'High':3,'Moderate':2,'Low':1}, inplace=True)\n",
    "df_MB_dtype_encoded['ER_IHC'].replace({'Positve':1, 'Negative':-1}, inplace=True)\n",
    "df_MB_dtype_encoded['HER2_SNP6'].replace({'GAIN':3, 'NEUTRAL':2, 'LOSS':1, 'UNDEF':0}, inplace=True)\n",
    "df_MB_dtype_encoded['INFERRED_MENOPAUSAL_STATE'].replace({'Post':1, 'Pre':-1}, inplace=True)\n",
    "df_MB_dtype_encoded['ER_STATUS'].replace({'Positive':1, 'Negative':-1}, inplace=True)\n",
    "df_MB_dtype_encoded['HER2_STATUS'].replace({'Positive':1, 'Negative':-1}, inplace=True)\n",
    "#df_MB_dtype_encoded['GRADEGRADE']\n",
    "df_MB_dtype_encoded['PR_STATUS'].replace({'Positive':1, 'Negative':-1}, inplace=True)\n",
    "#df_MB_dtype_encoded['TUMOR_STAGE']\n",
    "\n",
    "for column in qualitative_ordinal_columns:\n",
    "    print(column)\n",
    "    display(df_MB_dtype_encoded[column].value_counts())\n",
    "    print('-----'*10)"
   ]
  },
  {
   "cell_type": "markdown",
   "id": "3661baf7-8843-47fa-b2af-5f18d84022a5",
   "metadata": {},
   "source": [
    "## boolのエンコーディング\n",
    "\n",
    "bool_columnsは対象的な2項目から構成されているため、これらの項目をboolean型にする。  \n",
    "Yes、Noのみを対象とする（2項目のみから構成される特徴量でも、Yes、No以外の場合は3項目を考慮してカテゴリ特徴量として考える）。"
   ]
  },
  {
   "cell_type": "code",
   "execution_count": 25,
   "id": "3b4c3c17-969f-4cac-beaa-c68cd06edd50",
   "metadata": {},
   "outputs": [
    {
     "name": "stdout",
     "output_type": "stream",
     "text": [
      "<class 'pandas.core.frame.DataFrame'>\n",
      "Int64Index: 1124 entries, 1 to 1743\n",
      "Data columns (total 5 columns):\n",
      " #   Column           Non-Null Count  Dtype\n",
      "---  ------           --------------  -----\n",
      " 0   CHEMOTHERAPY     1124 non-null   bool \n",
      " 1   HORMONE_THERAPY  1124 non-null   bool \n",
      " 2   RADIO_THERAPY    1124 non-null   bool \n",
      " 3   OS_STATUS        1124 non-null   bool \n",
      " 4   RFS_STATUS       1124 non-null   bool \n",
      "dtypes: bool(5)\n",
      "memory usage: 14.3 KB\n"
     ]
    }
   ],
   "source": [
    "df_MB_dtype_encoded[bool_columns].astype(bool).info()"
   ]
  },
  {
   "cell_type": "code",
   "execution_count": 26,
   "id": "a492958f-38a8-45c9-a348-cd99c5b25a2f",
   "metadata": {},
   "outputs": [
    {
     "name": "stdout",
     "output_type": "stream",
     "text": [
      "CHEMOTHERAPY\n"
     ]
    },
    {
     "data": {
      "text/plain": [
       "NO     873\n",
       "YES    251\n",
       "Name: CHEMOTHERAPY, dtype: int64"
      ]
     },
     "metadata": {},
     "output_type": "display_data"
    },
    {
     "name": "stdout",
     "output_type": "stream",
     "text": [
      "--------------------------------------------------\n",
      "HORMONE_THERAPY\n"
     ]
    },
    {
     "data": {
      "text/plain": [
       "YES    697\n",
       "NO     427\n",
       "Name: HORMONE_THERAPY, dtype: int64"
      ]
     },
     "metadata": {},
     "output_type": "display_data"
    },
    {
     "name": "stdout",
     "output_type": "stream",
     "text": [
      "--------------------------------------------------\n",
      "RADIO_THERAPY\n"
     ]
    },
    {
     "data": {
      "text/plain": [
       "YES    748\n",
       "NO     376\n",
       "Name: RADIO_THERAPY, dtype: int64"
      ]
     },
     "metadata": {},
     "output_type": "display_data"
    },
    {
     "name": "stdout",
     "output_type": "stream",
     "text": [
      "--------------------------------------------------\n",
      "OS_STATUS\n"
     ]
    },
    {
     "data": {
      "text/plain": [
       "1:DECEASED    620\n",
       "0:LIVING      504\n",
       "Name: OS_STATUS, dtype: int64"
      ]
     },
     "metadata": {},
     "output_type": "display_data"
    },
    {
     "name": "stdout",
     "output_type": "stream",
     "text": [
      "--------------------------------------------------\n",
      "RFS_STATUS\n"
     ]
    },
    {
     "data": {
      "text/plain": [
       "0:Not Recurred    659\n",
       "1:Recurred        465\n",
       "Name: RFS_STATUS, dtype: int64"
      ]
     },
     "metadata": {},
     "output_type": "display_data"
    },
    {
     "name": "stdout",
     "output_type": "stream",
     "text": [
      "--------------------------------------------------\n"
     ]
    }
   ],
   "source": [
    "for column in bool_columns:\n",
    "    print(column)\n",
    "    display(df_MB_dtype_encoded[column].value_counts())\n",
    "    print('-----'*10)"
   ]
  },
  {
   "cell_type": "code",
   "execution_count": 27,
   "id": "81d93488-2b64-490d-9928-4ef3e5d7c98a",
   "metadata": {},
   "outputs": [
    {
     "name": "stdout",
     "output_type": "stream",
     "text": [
      "CHEMOTHERAPY\n"
     ]
    },
    {
     "data": {
      "text/plain": [
       "False    873\n",
       "True     251\n",
       "Name: CHEMOTHERAPY, dtype: int64"
      ]
     },
     "metadata": {},
     "output_type": "display_data"
    },
    {
     "name": "stdout",
     "output_type": "stream",
     "text": [
      "--------------------------------------------------\n",
      "HORMONE_THERAPY\n"
     ]
    },
    {
     "data": {
      "text/plain": [
       "True     697\n",
       "False    427\n",
       "Name: HORMONE_THERAPY, dtype: int64"
      ]
     },
     "metadata": {},
     "output_type": "display_data"
    },
    {
     "name": "stdout",
     "output_type": "stream",
     "text": [
      "--------------------------------------------------\n",
      "RADIO_THERAPY\n"
     ]
    },
    {
     "data": {
      "text/plain": [
       "True     748\n",
       "False    376\n",
       "Name: RADIO_THERAPY, dtype: int64"
      ]
     },
     "metadata": {},
     "output_type": "display_data"
    },
    {
     "name": "stdout",
     "output_type": "stream",
     "text": [
      "--------------------------------------------------\n",
      "OS_STATUS\n"
     ]
    },
    {
     "data": {
      "text/plain": [
       "True     620\n",
       "False    504\n",
       "Name: OS_STATUS, dtype: int64"
      ]
     },
     "metadata": {},
     "output_type": "display_data"
    },
    {
     "name": "stdout",
     "output_type": "stream",
     "text": [
      "--------------------------------------------------\n",
      "RFS_STATUS\n"
     ]
    },
    {
     "data": {
      "text/plain": [
       "False    659\n",
       "True     465\n",
       "Name: RFS_STATUS, dtype: int64"
      ]
     },
     "metadata": {},
     "output_type": "display_data"
    },
    {
     "name": "stdout",
     "output_type": "stream",
     "text": [
      "--------------------------------------------------\n"
     ]
    }
   ],
   "source": [
    "df_MB_dtype_encoded['CHEMOTHERAPY'].replace({'YES':True,'NO':False}, inplace=True)\n",
    "df_MB_dtype_encoded['HORMONE_THERAPY'].replace({'YES':True,'NO':False}, inplace=True)\n",
    "df_MB_dtype_encoded['RADIO_THERAPY'].replace({'YES':True,'NO':False}, inplace=True)\n",
    "df_MB_dtype_encoded['OS_STATUS'].replace({'1:DECEASED':True,'0:LIVING':False}, inplace=True)\n",
    "df_MB_dtype_encoded['RFS_STATUS'].replace({'1:Recurred':True,'0:Not Recurred':False}, inplace=True)\n",
    "\n",
    "for column in bool_columns:\n",
    "    print(column)\n",
    "    display(df_MB_dtype_encoded[column].value_counts())\n",
    "    print('-----'*10)"
   ]
  },
  {
   "cell_type": "code",
   "execution_count": 28,
   "id": "b51f2196-1a93-4aef-a727-7c2c0acd929a",
   "metadata": {},
   "outputs": [
    {
     "data": {
      "text/plain": [
       "CHEMOTHERAPY       bool\n",
       "HORMONE_THERAPY    bool\n",
       "RADIO_THERAPY      bool\n",
       "OS_STATUS          bool\n",
       "RFS_STATUS         bool\n",
       "dtype: object"
      ]
     },
     "execution_count": 28,
     "metadata": {},
     "output_type": "execute_result"
    }
   ],
   "source": [
    "df_MB_dtype_encoded[bool_columns].dtypes"
   ]
  },
  {
   "cell_type": "code",
   "execution_count": 29,
   "id": "4d6797ec-7dde-403c-a7b2-52ef0dbb308a",
   "metadata": {},
   "outputs": [],
   "source": [
    "# save\n",
    "make_dir(config.INTERIM_PICKLE_PREPROCESSED_DIR)\n",
    "df_MB_dtype_encoded.to_pickle(config.INTERIM_PICKLE_PREPROCESSED_DIR+'/2.2-df_MB_dtype_encoded.pkl')"
   ]
  },
  {
   "cell_type": "code",
   "execution_count": null,
   "id": "372238b4-9b06-44c5-9542-993a72499323",
   "metadata": {},
   "outputs": [],
   "source": []
  },
  {
   "cell_type": "markdown",
   "id": "ca050687-394e-4db2-92c0-9dc34ce6d1c4",
   "metadata": {
    "tags": []
   },
   "source": [
    "# Onehot encoding\n",
    "\n",
    "## df｜df_MB_onehot_encoded(onehot encodingしたdf), df_MB_onehot_concated(onehot encodingしたdfと元のdfの結合)   \n",
    "上記で作成した一部特徴量を修正したdfを元に、onehot encodingを行う。  \n",
    "onehot encoding自体は名義尺度の質的変数カラムであるqualitative_name_columnsのみに対してのみ実施するが、最終的に特徴量の型の修正はモデルへ入力する際に必要になるので、df_MB_dtype_encodedを元にonehot encodingを実施する。"
   ]
  },
  {
   "cell_type": "code",
   "execution_count": 30,
   "id": "dabba8d6-2792-4548-a632-7035861c7844",
   "metadata": {},
   "outputs": [],
   "source": [
    "import os\n",
    "import numpy as np\n",
    "import pandas as pd\n",
    "\n",
    "from sklearn.preprocessing import OneHotEncoder, LabelEncoder\n",
    "\n",
    "import config\n",
    "\n",
    "# 最大表示列数の指定（ここでは50列を指定）\n",
    "pd.set_option(\"display.max_columns\", 50)\n",
    "pd.set_option('display.max_rows', 50)\n",
    "\n",
    "\n",
    "def make_dir(dir_name: str):\n",
    "    if not os.path.exists(dir_name):\n",
    "        os.makedirs(dir_name)"
   ]
  },
  {
   "cell_type": "code",
   "execution_count": 31,
   "id": "e576f2c5-a23c-49f1-878b-10121d36a32e",
   "metadata": {},
   "outputs": [
    {
     "name": "stdout",
     "output_type": "stream",
     "text": [
      "<class 'pandas.core.frame.DataFrame'>\n",
      "Int64Index: 1124 entries, 1 to 1743\n",
      "Data columns (total 36 columns):\n",
      " #   Column                         Non-Null Count  Dtype  \n",
      "---  ------                         --------------  -----  \n",
      " 0   PATIENT_ID                     1124 non-null   object \n",
      " 1   LYMPH_NODES_EXAMINED_POSITIVE  1124 non-null   float64\n",
      " 2   NPI                            1124 non-null   float64\n",
      " 3   CELLULARITY                    1124 non-null   int64  \n",
      " 4   CHEMOTHERAPY                   1124 non-null   bool   \n",
      " 5   COHORT                         1124 non-null   float64\n",
      " 6   ER_IHC                         1124 non-null   int64  \n",
      " 7   HER2_SNP6                      1124 non-null   int64  \n",
      " 8   HORMONE_THERAPY                1124 non-null   bool   \n",
      " 9   INFERRED_MENOPAUSAL_STATE      1124 non-null   int64  \n",
      " 10  SEX                            1124 non-null   object \n",
      " 11  INTCLUST                       1124 non-null   object \n",
      " 12  AGE_AT_DIAGNOSIS               1124 non-null   float64\n",
      " 13  OS_MONTHS                      1124 non-null   float64\n",
      " 14  OS_STATUS                      1124 non-null   bool   \n",
      " 15  CLAUDIN_SUBTYPE                1124 non-null   object \n",
      " 16  THREEGENE                      1124 non-null   object \n",
      " 17  VITAL_STATUS                   1124 non-null   object \n",
      " 18  LATERALITY                     1124 non-null   object \n",
      " 19  RADIO_THERAPY                  1124 non-null   bool   \n",
      " 20  HISTOLOGICAL_SUBTYPE           1124 non-null   object \n",
      " 21  BREAST_SURGERY                 1124 non-null   object \n",
      " 22  RFS_STATUS                     1124 non-null   bool   \n",
      " 23  RFS_MONTHS                     1124 non-null   float64\n",
      " 24  SAMPLE_ID                      1124 non-null   object \n",
      " 25  CANCER_TYPE                    1124 non-null   object \n",
      " 26  CANCER_TYPE_DETAILED           1124 non-null   object \n",
      " 27  ER_STATUS                      1124 non-null   int64  \n",
      " 28  HER2_STATUS                    1124 non-null   int64  \n",
      " 29  GRADE                          1124 non-null   float64\n",
      " 30  ONCOTREE_CODE                  1124 non-null   object \n",
      " 31  PR_STATUS                      1124 non-null   int64  \n",
      " 32  SAMPLE_TYPE                    1124 non-null   object \n",
      " 33  TUMOR_SIZE                     1124 non-null   float64\n",
      " 34  TUMOR_STAGE                    1124 non-null   float64\n",
      " 35  TMB_NONSYNONYMOUS              1124 non-null   float64\n",
      "dtypes: bool(5), float64(10), int64(7), object(14)\n",
      "memory usage: 286.5+ KB\n"
     ]
    }
   ],
   "source": [
    "df_MB_dtype_encoded=pd.read_pickle(config.INTERIM_PICKLE_PREPROCESSED_DIR+'/2.2-df_MB_dtype_encoded.pkl')\n",
    "df_MB_dtype_encoded.info()"
   ]
  },
  {
   "cell_type": "code",
   "execution_count": 32,
   "id": "57f49c0a-9888-4931-a6cc-5964aeaa4e00",
   "metadata": {},
   "outputs": [
    {
     "data": {
      "text/plain": [
       "['COHORT',\n",
       " 'INTCLUST',\n",
       " 'CLAUDIN_SUBTYPE',\n",
       " 'THREEGENE',\n",
       " 'HISTOLOGICAL_SUBTYPE',\n",
       " 'BREAST_SURGERY',\n",
       " 'LATERALITY',\n",
       " 'CANCER_TYPE',\n",
       " 'CANCER_TYPE_DETAILED',\n",
       " 'ONCOTREE_CODE']"
      ]
     },
     "execution_count": 32,
     "metadata": {},
     "output_type": "execute_result"
    }
   ],
   "source": [
    "# VITAL_STATUSは目的変数の生成に必要&リークになりうるので、onehot encodingからは除外する\n",
    "qualitative_name_columns.remove('VITAL_STATUS') if 'VITAL_STATUS' in  qualitative_name_columns else qualitative_name_columns\n",
    "qualitative_name_columns"
   ]
  },
  {
   "cell_type": "code",
   "execution_count": 33,
   "id": "03598a2c-0a26-4c45-83d6-482b7cc6a39b",
   "metadata": {},
   "outputs": [
    {
     "data": {
      "text/plain": [
       "[array([1., 2., 3., 5.]),\n",
       " array(['1', '10', '2', '3', '4ER+', '4ER-', '5', '6', '7', '8', '9'],\n",
       "       dtype=object),\n",
       " array(['Basal', 'Her2', 'LumA', 'LumB', 'NC', 'Normal', 'claudin-low'],\n",
       "       dtype=object),\n",
       " array(['ER+/HER2- High Prolif', 'ER+/HER2- Low Prolif', 'ER-/HER2-',\n",
       "        'HER2+'], dtype=object),\n",
       " array(['Ductal/NST', 'Lobular', 'Medullary', 'Mixed', 'Mucinous', 'Other',\n",
       "        'Tubular/ cribriform'], dtype=object),\n",
       " array(['BREAST CONSERVING', 'MASTECTOMY'], dtype=object),\n",
       " array(['Left', 'Right'], dtype=object),\n",
       " array(['Breast Cancer'], dtype=object),\n",
       " array(['Breast', 'Breast Invasive Ductal Carcinoma',\n",
       "        'Breast Invasive Lobular Carcinoma',\n",
       "        'Breast Invasive Mixed Mucinous Carcinoma',\n",
       "        'Breast Mixed Ductal and Lobular Carcinoma'], dtype=object),\n",
       " array(['BREAST', 'IDC', 'ILC', 'IMMC', 'MDLC'], dtype=object)]"
      ]
     },
     "metadata": {},
     "output_type": "display_data"
    },
    {
     "data": {
      "text/plain": [
       "array(['COHORT_2.0', 'COHORT_3.0', 'COHORT_5.0', 'INTCLUST_10',\n",
       "       'INTCLUST_2', 'INTCLUST_3', 'INTCLUST_4ER+', 'INTCLUST_4ER-',\n",
       "       'INTCLUST_5', 'INTCLUST_6', 'INTCLUST_7', 'INTCLUST_8',\n",
       "       'INTCLUST_9', 'CLAUDIN_SUBTYPE_Her2', 'CLAUDIN_SUBTYPE_LumA',\n",
       "       'CLAUDIN_SUBTYPE_LumB', 'CLAUDIN_SUBTYPE_NC',\n",
       "       'CLAUDIN_SUBTYPE_Normal', 'CLAUDIN_SUBTYPE_claudin-low',\n",
       "       'THREEGENE_ER+/HER2- Low Prolif', 'THREEGENE_ER-/HER2-',\n",
       "       'THREEGENE_HER2+', 'HISTOLOGICAL_SUBTYPE_Lobular',\n",
       "       'HISTOLOGICAL_SUBTYPE_Medullary', 'HISTOLOGICAL_SUBTYPE_Mixed',\n",
       "       'HISTOLOGICAL_SUBTYPE_Mucinous', 'HISTOLOGICAL_SUBTYPE_Other',\n",
       "       'HISTOLOGICAL_SUBTYPE_Tubular/ cribriform',\n",
       "       'BREAST_SURGERY_MASTECTOMY', 'LATERALITY_Right',\n",
       "       'CANCER_TYPE_DETAILED_Breast Invasive Ductal Carcinoma',\n",
       "       'CANCER_TYPE_DETAILED_Breast Invasive Lobular Carcinoma',\n",
       "       'CANCER_TYPE_DETAILED_Breast Invasive Mixed Mucinous Carcinoma',\n",
       "       'CANCER_TYPE_DETAILED_Breast Mixed Ductal and Lobular Carcinoma',\n",
       "       'ONCOTREE_CODE_IDC', 'ONCOTREE_CODE_ILC', 'ONCOTREE_CODE_IMMC',\n",
       "       'ONCOTREE_CODE_MDLC'], dtype=object)"
      ]
     },
     "metadata": {},
     "output_type": "display_data"
    },
    {
     "data": {
      "text/plain": [
       "(1124, 38)"
      ]
     },
     "execution_count": 33,
     "metadata": {},
     "output_type": "execute_result"
    }
   ],
   "source": [
    "# 多重共線性回避のために、drop='first'\n",
    "onehot_encoder=OneHotEncoder(drop='first')\n",
    "onehot_encoding_columns=qualitative_name_columns\n",
    "onehot_encoder.fit(df_MB_dtype_encoded[onehot_encoding_columns])\n",
    "display(onehot_encoder.categories_)\n",
    "display(onehot_encoder.get_feature_names_out(onehot_encoding_columns))\n",
    "#enc.transform(df_MB_onehot_encoded[encoding_columns]).toarray()\n",
    "df_MB_onehot_encoded=pd.DataFrame(onehot_encoder.transform(df_MB_dtype_encoded[onehot_encoding_columns]).toarray(), \n",
    "             columns=onehot_encoder.get_feature_names_out(onehot_encoding_columns))\n",
    "df_MB_onehot_encoded.shape\n"
   ]
  },
  {
   "cell_type": "markdown",
   "id": "bd868587-e165-4986-9ce1-f49a3cacae2c",
   "metadata": {},
   "source": [
    "## 元のdfとonehotしたdfの結合\n",
    "dfの形などを調査"
   ]
  },
  {
   "cell_type": "markdown",
   "id": "38ab3da9-aa64-4dd5-9fb6-6d727cd8f227",
   "metadata": {},
   "source": [
    "2つのdfのshapeを確認　"
   ]
  },
  {
   "cell_type": "code",
   "execution_count": 34,
   "id": "b0102d3a-6ea2-4c10-bd5c-244359c7d78c",
   "metadata": {},
   "outputs": [
    {
     "data": {
      "text/plain": [
       "((1124, 36), (1124, 38))"
      ]
     },
     "execution_count": 34,
     "metadata": {},
     "output_type": "execute_result"
    }
   ],
   "source": [
    "df_MB_dtype_encoded.shape,df_MB_onehot_encoded.shape"
   ]
  },
  {
   "cell_type": "markdown",
   "id": "7cc26ade-271d-4ca9-bbeb-5bf0460ca662",
   "metadata": {},
   "source": [
    "単に結合しただけでは形が異なる"
   ]
  },
  {
   "cell_type": "code",
   "execution_count": 35,
   "id": "c6ed1a31-fc74-4cef-8e2e-3481a204e4f6",
   "metadata": {},
   "outputs": [
    {
     "data": {
      "text/plain": [
       "(1481, 74)"
      ]
     },
     "execution_count": 35,
     "metadata": {},
     "output_type": "execute_result"
    }
   ],
   "source": [
    "pd.concat([df_MB_dtype_encoded,df_MB_onehot_encoded], axis=1).shape"
   ]
  },
  {
   "cell_type": "markdown",
   "id": "e67ef035-e94c-442f-b246-93aff755127b",
   "metadata": {},
   "source": [
    "concatがうまく行かない理由はindexの順番。  \n",
    "元のdfのnullをdropしたため。"
   ]
  },
  {
   "cell_type": "markdown",
   "id": "8485d37d-2d4e-4ebb-9b10-8ea286a4f539",
   "metadata": {},
   "source": [
    "なのでindexをresetしてからconcatする"
   ]
  },
  {
   "cell_type": "code",
   "execution_count": 36,
   "id": "318f4aa0-d806-47ac-8cd7-03f9be1befaa",
   "metadata": {},
   "outputs": [
    {
     "data": {
      "text/plain": [
       "RangeIndex(start=0, stop=1124, step=1)"
      ]
     },
     "execution_count": 36,
     "metadata": {},
     "output_type": "execute_result"
    }
   ],
   "source": [
    "# reset_indexが機能するかの確認\n",
    "df_MB_dtype_encoded.reset_index().index"
   ]
  },
  {
   "cell_type": "code",
   "execution_count": 37,
   "id": "1c0486dc-28c2-4a55-921b-07e727633447",
   "metadata": {},
   "outputs": [
    {
     "data": {
      "text/plain": [
       "(1124, 64)"
      ]
     },
     "execution_count": 37,
     "metadata": {},
     "output_type": "execute_result"
    }
   ],
   "source": [
    "# onehotで生成した元のカラムの削除\n",
    "df_MB_onehot_concated=pd.concat([df_MB_dtype_encoded.reset_index(drop=True),\n",
    "                                 df_MB_onehot_encoded.reset_index(drop=True)], axis=1\n",
    "                               ).drop(onehot_encoding_columns, axis=1)\n",
    "df_MB_onehot_concated.shape"
   ]
  },
  {
   "cell_type": "code",
   "execution_count": 38,
   "id": "7498201b-994d-4912-9f67-ab799682c8a7",
   "metadata": {},
   "outputs": [
    {
     "name": "stdout",
     "output_type": "stream",
     "text": [
      "<class 'pandas.core.frame.DataFrame'>\n",
      "RangeIndex: 1124 entries, 0 to 1123\n",
      "Data columns (total 64 columns):\n",
      " #   Column                                                          Non-Null Count  Dtype  \n",
      "---  ------                                                          --------------  -----  \n",
      " 0   PATIENT_ID                                                      1124 non-null   object \n",
      " 1   LYMPH_NODES_EXAMINED_POSITIVE                                   1124 non-null   float64\n",
      " 2   NPI                                                             1124 non-null   float64\n",
      " 3   CELLULARITY                                                     1124 non-null   int64  \n",
      " 4   CHEMOTHERAPY                                                    1124 non-null   bool   \n",
      " 5   ER_IHC                                                          1124 non-null   int64  \n",
      " 6   HER2_SNP6                                                       1124 non-null   int64  \n",
      " 7   HORMONE_THERAPY                                                 1124 non-null   bool   \n",
      " 8   INFERRED_MENOPAUSAL_STATE                                       1124 non-null   int64  \n",
      " 9   SEX                                                             1124 non-null   object \n",
      " 10  AGE_AT_DIAGNOSIS                                                1124 non-null   float64\n",
      " 11  OS_MONTHS                                                       1124 non-null   float64\n",
      " 12  OS_STATUS                                                       1124 non-null   bool   \n",
      " 13  VITAL_STATUS                                                    1124 non-null   object \n",
      " 14  RADIO_THERAPY                                                   1124 non-null   bool   \n",
      " 15  RFS_STATUS                                                      1124 non-null   bool   \n",
      " 16  RFS_MONTHS                                                      1124 non-null   float64\n",
      " 17  SAMPLE_ID                                                       1124 non-null   object \n",
      " 18  ER_STATUS                                                       1124 non-null   int64  \n",
      " 19  HER2_STATUS                                                     1124 non-null   int64  \n",
      " 20  GRADE                                                           1124 non-null   float64\n",
      " 21  PR_STATUS                                                       1124 non-null   int64  \n",
      " 22  SAMPLE_TYPE                                                     1124 non-null   object \n",
      " 23  TUMOR_SIZE                                                      1124 non-null   float64\n",
      " 24  TUMOR_STAGE                                                     1124 non-null   float64\n",
      " 25  TMB_NONSYNONYMOUS                                               1124 non-null   float64\n",
      " 26  COHORT_2.0                                                      1124 non-null   float64\n",
      " 27  COHORT_3.0                                                      1124 non-null   float64\n",
      " 28  COHORT_5.0                                                      1124 non-null   float64\n",
      " 29  INTCLUST_10                                                     1124 non-null   float64\n",
      " 30  INTCLUST_2                                                      1124 non-null   float64\n",
      " 31  INTCLUST_3                                                      1124 non-null   float64\n",
      " 32  INTCLUST_4ER+                                                   1124 non-null   float64\n",
      " 33  INTCLUST_4ER-                                                   1124 non-null   float64\n",
      " 34  INTCLUST_5                                                      1124 non-null   float64\n",
      " 35  INTCLUST_6                                                      1124 non-null   float64\n",
      " 36  INTCLUST_7                                                      1124 non-null   float64\n",
      " 37  INTCLUST_8                                                      1124 non-null   float64\n",
      " 38  INTCLUST_9                                                      1124 non-null   float64\n",
      " 39  CLAUDIN_SUBTYPE_Her2                                            1124 non-null   float64\n",
      " 40  CLAUDIN_SUBTYPE_LumA                                            1124 non-null   float64\n",
      " 41  CLAUDIN_SUBTYPE_LumB                                            1124 non-null   float64\n",
      " 42  CLAUDIN_SUBTYPE_NC                                              1124 non-null   float64\n",
      " 43  CLAUDIN_SUBTYPE_Normal                                          1124 non-null   float64\n",
      " 44  CLAUDIN_SUBTYPE_claudin-low                                     1124 non-null   float64\n",
      " 45  THREEGENE_ER+/HER2- Low Prolif                                  1124 non-null   float64\n",
      " 46  THREEGENE_ER-/HER2-                                             1124 non-null   float64\n",
      " 47  THREEGENE_HER2+                                                 1124 non-null   float64\n",
      " 48  HISTOLOGICAL_SUBTYPE_Lobular                                    1124 non-null   float64\n",
      " 49  HISTOLOGICAL_SUBTYPE_Medullary                                  1124 non-null   float64\n",
      " 50  HISTOLOGICAL_SUBTYPE_Mixed                                      1124 non-null   float64\n",
      " 51  HISTOLOGICAL_SUBTYPE_Mucinous                                   1124 non-null   float64\n",
      " 52  HISTOLOGICAL_SUBTYPE_Other                                      1124 non-null   float64\n",
      " 53  HISTOLOGICAL_SUBTYPE_Tubular/ cribriform                        1124 non-null   float64\n",
      " 54  BREAST_SURGERY_MASTECTOMY                                       1124 non-null   float64\n",
      " 55  LATERALITY_Right                                                1124 non-null   float64\n",
      " 56  CANCER_TYPE_DETAILED_Breast Invasive Ductal Carcinoma           1124 non-null   float64\n",
      " 57  CANCER_TYPE_DETAILED_Breast Invasive Lobular Carcinoma          1124 non-null   float64\n",
      " 58  CANCER_TYPE_DETAILED_Breast Invasive Mixed Mucinous Carcinoma   1124 non-null   float64\n",
      " 59  CANCER_TYPE_DETAILED_Breast Mixed Ductal and Lobular Carcinoma  1124 non-null   float64\n",
      " 60  ONCOTREE_CODE_IDC                                               1124 non-null   float64\n",
      " 61  ONCOTREE_CODE_ILC                                               1124 non-null   float64\n",
      " 62  ONCOTREE_CODE_IMMC                                              1124 non-null   float64\n",
      " 63  ONCOTREE_CODE_MDLC                                              1124 non-null   float64\n",
      "dtypes: bool(5), float64(47), int64(7), object(5)\n",
      "memory usage: 523.7+ KB\n"
     ]
    }
   ],
   "source": [
    "df_MB_onehot_concated.info()"
   ]
  },
  {
   "cell_type": "code",
   "execution_count": 39,
   "id": "10f81234-d45d-400d-8f48-e071209a3b0e",
   "metadata": {},
   "outputs": [],
   "source": [
    "# save\n",
    "make_dir(config.INTERIM_PICKLE_PREPROCESSED_DIR)\n",
    "df_MB_onehot_concated.to_pickle(config.INTERIM_PICKLE_PREPROCESSED_DIR+'/2.2-df_MB_onehot_concated.pkl')"
   ]
  },
  {
   "cell_type": "code",
   "execution_count": null,
   "id": "03bf795c-efab-40ed-80d5-bace515fa863",
   "metadata": {},
   "outputs": [],
   "source": []
  }
 ],
 "metadata": {
  "kernelspec": {
   "display_name": "Python 3 (ipykernel)",
   "language": "python",
   "name": "python3"
  },
  "language_info": {
   "codemirror_mode": {
    "name": "ipython",
    "version": 3
   },
   "file_extension": ".py",
   "mimetype": "text/x-python",
   "name": "python",
   "nbconvert_exporter": "python",
   "pygments_lexer": "ipython3",
   "version": "3.8.13"
  }
 },
 "nbformat": 4,
 "nbformat_minor": 5
}
