{
 "cells": [
  {
   "cell_type": "code",
   "execution_count": 8,
   "id": "85258b7b-c202-47a7-b951-f076ce53ffc7",
   "metadata": {},
   "outputs": [],
   "source": [
    "import os\n",
    "import math\n",
    "import numpy as np\n",
    "import pandas as pd\n",
    "\n",
    "# 描画ライブラリ\n",
    "import matplotlib.pyplot as plt\n",
    "import seaborn as sns\n",
    "\n",
    "# config python file\n",
    "import config\n",
    "import functions\n",
    "\n",
    "functions.fix_seed(config.SEED)\n",
    "\n",
    "# 最大表示列数の指定（ここでは50列を指定）N\n",
    "pd.set_option(\"display.max_columns\", 50)\n",
    "pd.set_option(\"display.max_rows\", 50)\n",
    "\n",
    "# %matplotlib inline"
   ]
  },
  {
   "cell_type": "code",
   "execution_count": 18,
   "id": "4fa3bf7d-46f5-448f-83aa-11e2abdd708a",
   "metadata": {},
   "outputs": [],
   "source": [
    "path_cna = config.EXTERNAL_DIR + \"/cna\"\n",
    "path_mutation = config.EXTERNAL_DIR + \"/mutation\"\n",
    "path_pathways = config.EXTERNAL_DIR + \"/pathways\""
   ]
  },
  {
   "cell_type": "markdown",
   "id": "69ac08e0-e5cb-4034-b1df-9f0543b2cf13",
   "metadata": {},
   "source": [
    "example"
   ]
  },
  {
   "cell_type": "code",
   "execution_count": 20,
   "id": "811411c2-d75f-4e36-9942-450a60aac243",
   "metadata": {},
   "outputs": [
    {
     "name": "stdout",
     "output_type": "stream",
     "text": [
      "cna\n"
     ]
    },
    {
     "data": {
      "text/html": [
       "<div>\n",
       "<style scoped>\n",
       "    .dataframe tbody tr th:only-of-type {\n",
       "        vertical-align: middle;\n",
       "    }\n",
       "\n",
       "    .dataframe tbody tr th {\n",
       "        vertical-align: top;\n",
       "    }\n",
       "\n",
       "    .dataframe thead th {\n",
       "        text-align: right;\n",
       "    }\n",
       "</style>\n",
       "<table border=\"1\" class=\"dataframe\">\n",
       "  <thead>\n",
       "    <tr style=\"text-align: right;\">\n",
       "      <th></th>\n",
       "      <th>Gene</th>\n",
       "      <th>Gene panel</th>\n",
       "      <th>CNA</th>\n",
       "      <th>Cytoband</th>\n",
       "      <th>Cohort</th>\n",
       "    </tr>\n",
       "  </thead>\n",
       "  <tbody>\n",
       "    <tr>\n",
       "      <th>0</th>\n",
       "      <td>MYOD1</td>\n",
       "      <td>NaN</td>\n",
       "      <td>AMP</td>\n",
       "      <td>11p15.1</td>\n",
       "      <td>NaN</td>\n",
       "    </tr>\n",
       "    <tr>\n",
       "      <th>1</th>\n",
       "      <td>GNAS</td>\n",
       "      <td>NaN</td>\n",
       "      <td>AMP</td>\n",
       "      <td>20q13.32</td>\n",
       "      <td>NaN</td>\n",
       "    </tr>\n",
       "    <tr>\n",
       "      <th>2</th>\n",
       "      <td>AURKA</td>\n",
       "      <td>NaN</td>\n",
       "      <td>AMP</td>\n",
       "      <td>20q13.2</td>\n",
       "      <td>NaN</td>\n",
       "    </tr>\n",
       "    <tr>\n",
       "      <th>3</th>\n",
       "      <td>ZNF217</td>\n",
       "      <td>NaN</td>\n",
       "      <td>AMP</td>\n",
       "      <td>20q13.2</td>\n",
       "      <td>NaN</td>\n",
       "    </tr>\n",
       "    <tr>\n",
       "      <th>4</th>\n",
       "      <td>FGF19</td>\n",
       "      <td>NaN</td>\n",
       "      <td>AMP</td>\n",
       "      <td>11q13.3</td>\n",
       "      <td>NaN</td>\n",
       "    </tr>\n",
       "    <tr>\n",
       "      <th>...</th>\n",
       "      <td>...</td>\n",
       "      <td>...</td>\n",
       "      <td>...</td>\n",
       "      <td>...</td>\n",
       "      <td>...</td>\n",
       "    </tr>\n",
       "    <tr>\n",
       "      <th>387</th>\n",
       "      <td>FAM86JP</td>\n",
       "      <td>NaN</td>\n",
       "      <td>AMP</td>\n",
       "      <td>3q21.2</td>\n",
       "      <td>NaN</td>\n",
       "    </tr>\n",
       "    <tr>\n",
       "      <th>388</th>\n",
       "      <td>OTOG</td>\n",
       "      <td>NaN</td>\n",
       "      <td>AMP</td>\n",
       "      <td>11p15.1</td>\n",
       "      <td>NaN</td>\n",
       "    </tr>\n",
       "    <tr>\n",
       "      <th>389</th>\n",
       "      <td>OPHN1</td>\n",
       "      <td>NaN</td>\n",
       "      <td>AMP</td>\n",
       "      <td>Xq12</td>\n",
       "      <td>NaN</td>\n",
       "    </tr>\n",
       "    <tr>\n",
       "      <th>390</th>\n",
       "      <td>PXN-AS1</td>\n",
       "      <td>NaN</td>\n",
       "      <td>DeepDel</td>\n",
       "      <td>12q24.23</td>\n",
       "      <td>NaN</td>\n",
       "    </tr>\n",
       "    <tr>\n",
       "      <th>391</th>\n",
       "      <td>APOA1-AS</td>\n",
       "      <td>NaN</td>\n",
       "      <td>DeepDel</td>\n",
       "      <td>11q23.3</td>\n",
       "      <td>NaN</td>\n",
       "    </tr>\n",
       "  </tbody>\n",
       "</table>\n",
       "<p>392 rows × 5 columns</p>\n",
       "</div>"
      ],
      "text/plain": [
       "         Gene  Gene panel      CNA  Cytoband  Cohort\n",
       "0       MYOD1         NaN      AMP   11p15.1     NaN\n",
       "1        GNAS         NaN      AMP  20q13.32     NaN\n",
       "2       AURKA         NaN      AMP   20q13.2     NaN\n",
       "3      ZNF217         NaN      AMP   20q13.2     NaN\n",
       "4       FGF19         NaN      AMP   11q13.3     NaN\n",
       "..        ...         ...      ...       ...     ...\n",
       "387   FAM86JP         NaN      AMP    3q21.2     NaN\n",
       "388      OTOG         NaN      AMP   11p15.1     NaN\n",
       "389     OPHN1         NaN      AMP      Xq12     NaN\n",
       "390   PXN-AS1         NaN  DeepDel  12q24.23     NaN\n",
       "391  APOA1-AS         NaN  DeepDel   11q23.3     NaN\n",
       "\n",
       "[392 rows x 5 columns]"
      ]
     },
     "metadata": {},
     "output_type": "display_data"
    },
    {
     "data": {
      "text/plain": [
       "Gene            0\n",
       "Gene panel    392\n",
       "CNA             0\n",
       "Cytoband        0\n",
       "Cohort        392\n",
       "dtype: int64"
      ]
     },
     "metadata": {},
     "output_type": "display_data"
    },
    {
     "name": "stdout",
     "output_type": "stream",
     "text": [
      "mutation\n"
     ]
    },
    {
     "data": {
      "text/html": [
       "<div>\n",
       "<style scoped>\n",
       "    .dataframe tbody tr th:only-of-type {\n",
       "        vertical-align: middle;\n",
       "    }\n",
       "\n",
       "    .dataframe tbody tr th {\n",
       "        vertical-align: top;\n",
       "    }\n",
       "\n",
       "    .dataframe thead th {\n",
       "        text-align: right;\n",
       "    }\n",
       "</style>\n",
       "<table border=\"1\" class=\"dataframe\">\n",
       "  <thead>\n",
       "    <tr style=\"text-align: right;\">\n",
       "      <th></th>\n",
       "      <th>Gene</th>\n",
       "      <th>Gene panel</th>\n",
       "      <th>Protein Change</th>\n",
       "      <th>Annotation</th>\n",
       "      <th>Functional Impact</th>\n",
       "      <th>Chromosome</th>\n",
       "      <th>Start Pos</th>\n",
       "      <th>End Pos</th>\n",
       "      <th>Ref</th>\n",
       "      <th>Var</th>\n",
       "      <th>HGVSg</th>\n",
       "      <th>HGVSc</th>\n",
       "      <th>MS</th>\n",
       "      <th>VS</th>\n",
       "      <th>Mutation Type</th>\n",
       "      <th>Variant Type</th>\n",
       "      <th>Center</th>\n",
       "      <th>Allele Freq</th>\n",
       "      <th>Variant Reads</th>\n",
       "      <th>Ref Reads</th>\n",
       "      <th>Variant Reads (Normal)</th>\n",
       "      <th>Ref Reads (Normal)</th>\n",
       "      <th>Copy #</th>\n",
       "      <th>COSMIC</th>\n",
       "      <th>Exon</th>\n",
       "      <th>gnomAD</th>\n",
       "      <th>ClinVar</th>\n",
       "      <th>dbSNP</th>\n",
       "      <th>SIGNAL</th>\n",
       "    </tr>\n",
       "  </thead>\n",
       "  <tbody>\n",
       "    <tr>\n",
       "      <th>0</th>\n",
       "      <td>PIK3CA</td>\n",
       "      <td>METABRIC_173</td>\n",
       "      <td>H1047R</td>\n",
       "      <td>OncoKB: NA;CIViC: NA;MyCancerGenome: present;C...</td>\n",
       "      <td>MutationAssessor: NA;SIFT: NA;Polyphen-2: NA</td>\n",
       "      <td>3</td>\n",
       "      <td>178952085</td>\n",
       "      <td>178952085</td>\n",
       "      <td>A</td>\n",
       "      <td>G</td>\n",
       "      <td>3:g.178952085A&gt;G</td>\n",
       "      <td>NaN</td>\n",
       "      <td>NaN</td>\n",
       "      <td>NaN</td>\n",
       "      <td>Missense_Mutation</td>\n",
       "      <td>SNP</td>\n",
       "      <td>METABRIC</td>\n",
       "      <td>NaN</td>\n",
       "      <td>NaN</td>\n",
       "      <td>NaN</td>\n",
       "      <td>NaN</td>\n",
       "      <td>NaN</td>\n",
       "      <td>NaN</td>\n",
       "      <td>1983.0</td>\n",
       "      <td>NaN</td>\n",
       "      <td>NaN</td>\n",
       "      <td>NaN</td>\n",
       "      <td>NaN</td>\n",
       "      <td>NaN</td>\n",
       "    </tr>\n",
       "    <tr>\n",
       "      <th>1</th>\n",
       "      <td>NCOR1</td>\n",
       "      <td>METABRIC_173</td>\n",
       "      <td>L1463P</td>\n",
       "      <td>OncoKB: NA;CIViC: NA;MyCancerGenome: not prese...</td>\n",
       "      <td>MutationAssessor: NA;SIFT: NA;Polyphen-2: NA</td>\n",
       "      <td>17</td>\n",
       "      <td>15973604</td>\n",
       "      <td>15973604</td>\n",
       "      <td>A</td>\n",
       "      <td>G</td>\n",
       "      <td>17:g.15973604A&gt;G</td>\n",
       "      <td>NaN</td>\n",
       "      <td>NaN</td>\n",
       "      <td>NaN</td>\n",
       "      <td>Missense_Mutation</td>\n",
       "      <td>SNP</td>\n",
       "      <td>METABRIC</td>\n",
       "      <td>NaN</td>\n",
       "      <td>NaN</td>\n",
       "      <td>NaN</td>\n",
       "      <td>NaN</td>\n",
       "      <td>NaN</td>\n",
       "      <td>NaN</td>\n",
       "      <td>NaN</td>\n",
       "      <td>NaN</td>\n",
       "      <td>NaN</td>\n",
       "      <td>NaN</td>\n",
       "      <td>NaN</td>\n",
       "      <td>NaN</td>\n",
       "    </tr>\n",
       "  </tbody>\n",
       "</table>\n",
       "</div>"
      ],
      "text/plain": [
       "     Gene    Gene panel Protein Change  \\\n",
       "0  PIK3CA  METABRIC_173         H1047R   \n",
       "1   NCOR1  METABRIC_173         L1463P   \n",
       "\n",
       "                                          Annotation  \\\n",
       "0  OncoKB: NA;CIViC: NA;MyCancerGenome: present;C...   \n",
       "1  OncoKB: NA;CIViC: NA;MyCancerGenome: not prese...   \n",
       "\n",
       "                              Functional Impact  Chromosome  Start Pos  \\\n",
       "0  MutationAssessor: NA;SIFT: NA;Polyphen-2: NA           3  178952085   \n",
       "1  MutationAssessor: NA;SIFT: NA;Polyphen-2: NA          17   15973604   \n",
       "\n",
       "     End Pos Ref Var             HGVSg  HGVSc  MS  VS      Mutation Type  \\\n",
       "0  178952085   A   G  3:g.178952085A>G    NaN NaN NaN  Missense_Mutation   \n",
       "1   15973604   A   G  17:g.15973604A>G    NaN NaN NaN  Missense_Mutation   \n",
       "\n",
       "  Variant Type    Center  Allele Freq  Variant Reads  Ref Reads  \\\n",
       "0          SNP  METABRIC          NaN            NaN        NaN   \n",
       "1          SNP  METABRIC          NaN            NaN        NaN   \n",
       "\n",
       "   Variant Reads (Normal)  Ref Reads (Normal)  Copy #  COSMIC  Exon  gnomAD  \\\n",
       "0                     NaN                 NaN     NaN  1983.0   NaN     NaN   \n",
       "1                     NaN                 NaN     NaN     NaN   NaN     NaN   \n",
       "\n",
       "   ClinVar  dbSNP  SIGNAL  \n",
       "0      NaN    NaN     NaN  \n",
       "1      NaN    NaN     NaN  "
      ]
     },
     "metadata": {},
     "output_type": "display_data"
    },
    {
     "data": {
      "text/plain": [
       "Gene                      0\n",
       "Gene panel                0\n",
       "Protein Change            0\n",
       "Annotation                0\n",
       "Functional Impact         0\n",
       "Chromosome                0\n",
       "Start Pos                 0\n",
       "End Pos                   0\n",
       "Ref                       0\n",
       "Var                       0\n",
       "HGVSg                     0\n",
       "HGVSc                     2\n",
       "MS                        2\n",
       "VS                        2\n",
       "Mutation Type             0\n",
       "Variant Type              0\n",
       "Center                    0\n",
       "Allele Freq               2\n",
       "Variant Reads             2\n",
       "Ref Reads                 2\n",
       "Variant Reads (Normal)    2\n",
       "Ref Reads (Normal)        2\n",
       "Copy #                    2\n",
       "COSMIC                    1\n",
       "Exon                      2\n",
       "gnomAD                    2\n",
       "ClinVar                   2\n",
       "dbSNP                     2\n",
       "SIGNAL                    2\n",
       "dtype: int64"
      ]
     },
     "metadata": {},
     "output_type": "display_data"
    },
    {
     "name": "stdout",
     "output_type": "stream",
     "text": [
      "pathways\n"
     ]
    },
    {
     "data": {
      "text/html": [
       "<div>\n",
       "<style scoped>\n",
       "    .dataframe tbody tr th:only-of-type {\n",
       "        vertical-align: middle;\n",
       "    }\n",
       "\n",
       "    .dataframe tbody tr th {\n",
       "        vertical-align: top;\n",
       "    }\n",
       "\n",
       "    .dataframe thead th {\n",
       "        text-align: right;\n",
       "    }\n",
       "</style>\n",
       "<table border=\"1\" class=\"dataframe\">\n",
       "  <thead>\n",
       "    <tr style=\"text-align: right;\">\n",
       "      <th></th>\n",
       "      <th>Pathway name</th>\n",
       "      <th>Pathway altered</th>\n",
       "      <th>Genes matched</th>\n",
       "    </tr>\n",
       "  </thead>\n",
       "  <tbody>\n",
       "    <tr>\n",
       "      <th>0</th>\n",
       "      <td>BLCA-2014-TP53-RB-pathway</td>\n",
       "      <td>2</td>\n",
       "      <td>TP53,CCND1</td>\n",
       "    </tr>\n",
       "    <tr>\n",
       "      <th>1</th>\n",
       "      <td>COADREAD-2012-WNT-signaling-pathway</td>\n",
       "      <td>2</td>\n",
       "      <td>LRP5,TCF7</td>\n",
       "    </tr>\n",
       "    <tr>\n",
       "      <th>2</th>\n",
       "      <td>HNSC-2015-Cell-cycle-signaling-pathway</td>\n",
       "      <td>2</td>\n",
       "      <td>TP53,CCND1</td>\n",
       "    </tr>\n",
       "    <tr>\n",
       "      <th>3</th>\n",
       "      <td>WNT</td>\n",
       "      <td>2</td>\n",
       "      <td>LRP5,TCF7</td>\n",
       "    </tr>\n",
       "    <tr>\n",
       "      <th>4</th>\n",
       "      <td>Cell Cycle</td>\n",
       "      <td>2</td>\n",
       "      <td>TP53,CCND1</td>\n",
       "    </tr>\n",
       "    <tr>\n",
       "      <th>...</th>\n",
       "      <td>...</td>\n",
       "      <td>...</td>\n",
       "      <td>...</td>\n",
       "    </tr>\n",
       "    <tr>\n",
       "      <th>50</th>\n",
       "      <td>PI3K</td>\n",
       "      <td>0</td>\n",
       "      <td>NaN</td>\n",
       "    </tr>\n",
       "    <tr>\n",
       "      <th>51</th>\n",
       "      <td>GBM-2008-Cell-cycle-signaling-pathway</td>\n",
       "      <td>0</td>\n",
       "      <td>NaN</td>\n",
       "    </tr>\n",
       "    <tr>\n",
       "      <th>52</th>\n",
       "      <td>HNSC-2015-Oxidative-stress-response-pathway</td>\n",
       "      <td>0</td>\n",
       "      <td>NaN</td>\n",
       "    </tr>\n",
       "    <tr>\n",
       "      <th>53</th>\n",
       "      <td>COADREAD-2012-RTK-RAS-PI(3)K-pathway</td>\n",
       "      <td>0</td>\n",
       "      <td>NaN</td>\n",
       "    </tr>\n",
       "    <tr>\n",
       "      <th>54</th>\n",
       "      <td>UCEC-2013-RTK-RAS-PI(3)K-pathway</td>\n",
       "      <td>0</td>\n",
       "      <td>NaN</td>\n",
       "    </tr>\n",
       "  </tbody>\n",
       "</table>\n",
       "<p>55 rows × 3 columns</p>\n",
       "</div>"
      ],
      "text/plain": [
       "                                   Pathway name  Pathway altered Genes matched\n",
       "0                     BLCA-2014-TP53-RB-pathway                2    TP53,CCND1\n",
       "1           COADREAD-2012-WNT-signaling-pathway                2     LRP5,TCF7\n",
       "2        HNSC-2015-Cell-cycle-signaling-pathway                2    TP53,CCND1\n",
       "3                                           WNT                2     LRP5,TCF7\n",
       "4                                    Cell Cycle                2    TP53,CCND1\n",
       "..                                          ...              ...           ...\n",
       "50                                         PI3K                0           NaN\n",
       "51        GBM-2008-Cell-cycle-signaling-pathway                0           NaN\n",
       "52  HNSC-2015-Oxidative-stress-response-pathway                0           NaN\n",
       "53         COADREAD-2012-RTK-RAS-PI(3)K-pathway                0           NaN\n",
       "54             UCEC-2013-RTK-RAS-PI(3)K-pathway                0           NaN\n",
       "\n",
       "[55 rows x 3 columns]"
      ]
     },
     "metadata": {},
     "output_type": "display_data"
    },
    {
     "data": {
      "text/plain": [
       "Pathway name        0\n",
       "Pathway altered     0\n",
       "Genes matched      24\n",
       "dtype: int64"
      ]
     },
     "metadata": {},
     "output_type": "display_data"
    }
   ],
   "source": [
    "print(\"cna\")\n",
    "display(pd.read_table(cna_pathways + \"/\" + os.listdir(path_cna)[1]))\n",
    "display(pd.read_table(cna_pathways + \"/\" + os.listdir(path_cna)[1]).isnull().sum())\n",
    "print(\"mutation\")\n",
    "display(pd.read_table(path_mutation + \"/\" + os.listdir(path_mutation)[1]))\n",
    "display(\n",
    "    pd.read_table(path_mutation + \"/\" + os.listdir(path_mutation)[1]).isnull().sum()\n",
    ")\n",
    "print(\"pathways\")\n",
    "display(pd.read_table(path_pathways + \"/\" + os.listdir(path_pathways)[1]))\n",
    "display(\n",
    "    pd.read_table(path_pathways + \"/\" + os.listdir(path_pathways)[1]).isnull().sum()\n",
    ")"
   ]
  },
  {
   "cell_type": "code",
   "execution_count": 22,
   "id": "74b18ece-24e8-4378-9818-234961d3e442",
   "metadata": {},
   "outputs": [
    {
     "name": "stdout",
     "output_type": "stream",
     "text": [
      "pathways\n"
     ]
    },
    {
     "data": {
      "text/plain": [
       "Pathway name        0\n",
       "Pathway altered     0\n",
       "Genes matched      55\n",
       "dtype: int64"
      ]
     },
     "metadata": {},
     "output_type": "display_data"
    },
    {
     "name": "stdout",
     "output_type": "stream",
     "text": [
      "pathways\n"
     ]
    },
    {
     "data": {
      "text/plain": [
       "Pathway name        0\n",
       "Pathway altered     0\n",
       "Genes matched      24\n",
       "dtype: int64"
      ]
     },
     "metadata": {},
     "output_type": "display_data"
    },
    {
     "name": "stdout",
     "output_type": "stream",
     "text": [
      "pathways\n"
     ]
    },
    {
     "data": {
      "text/plain": [
       "Pathway name        0\n",
       "Pathway altered     0\n",
       "Genes matched      29\n",
       "dtype: int64"
      ]
     },
     "metadata": {},
     "output_type": "display_data"
    },
    {
     "name": "stdout",
     "output_type": "stream",
     "text": [
      "pathways\n"
     ]
    },
    {
     "data": {
      "text/plain": [
       "Pathway name        0\n",
       "Pathway altered     0\n",
       "Genes matched      36\n",
       "dtype: int64"
      ]
     },
     "metadata": {},
     "output_type": "display_data"
    },
    {
     "name": "stdout",
     "output_type": "stream",
     "text": [
      "pathways\n"
     ]
    },
    {
     "data": {
      "text/plain": [
       "Pathway name        0\n",
       "Pathway altered     0\n",
       "Genes matched      33\n",
       "dtype: int64"
      ]
     },
     "metadata": {},
     "output_type": "display_data"
    },
    {
     "name": "stdout",
     "output_type": "stream",
     "text": [
      "pathways\n"
     ]
    },
    {
     "data": {
      "text/plain": [
       "Pathway name        0\n",
       "Pathway altered     0\n",
       "Genes matched      21\n",
       "dtype: int64"
      ]
     },
     "metadata": {},
     "output_type": "display_data"
    },
    {
     "name": "stdout",
     "output_type": "stream",
     "text": [
      "pathways\n"
     ]
    },
    {
     "data": {
      "text/plain": [
       "Pathway name        0\n",
       "Pathway altered     0\n",
       "Genes matched      40\n",
       "dtype: int64"
      ]
     },
     "metadata": {},
     "output_type": "display_data"
    },
    {
     "name": "stdout",
     "output_type": "stream",
     "text": [
      "pathways\n"
     ]
    },
    {
     "data": {
      "text/plain": [
       "Pathway name        0\n",
       "Pathway altered     0\n",
       "Genes matched      51\n",
       "dtype: int64"
      ]
     },
     "metadata": {},
     "output_type": "display_data"
    },
    {
     "name": "stdout",
     "output_type": "stream",
     "text": [
      "pathways\n"
     ]
    },
    {
     "data": {
      "text/plain": [
       "Pathway name        0\n",
       "Pathway altered     0\n",
       "Genes matched      23\n",
       "dtype: int64"
      ]
     },
     "metadata": {},
     "output_type": "display_data"
    },
    {
     "name": "stdout",
     "output_type": "stream",
     "text": [
      "pathways\n"
     ]
    },
    {
     "data": {
      "text/plain": [
       "Pathway name        0\n",
       "Pathway altered     0\n",
       "Genes matched      31\n",
       "dtype: int64"
      ]
     },
     "metadata": {},
     "output_type": "display_data"
    }
   ],
   "source": [
    "for i in range(10):\n",
    "    print(\"pathways\")\n",
    "    display(\n",
    "        pd.read_table(path_pathways + \"/\" + os.listdir(path_pathways)[i]).isnull().sum()\n",
    "    )"
   ]
  },
  {
   "cell_type": "code",
   "execution_count": null,
   "id": "787c738e-6115-48da-acd3-9bbc10779430",
   "metadata": {},
   "outputs": [],
   "source": []
  }
 ],
 "metadata": {
  "kernelspec": {
   "display_name": "Python 3 (ipykernel)",
   "language": "python",
   "name": "python3"
  },
  "language_info": {
   "codemirror_mode": {
    "name": "ipython",
    "version": 3
   },
   "file_extension": ".py",
   "mimetype": "text/x-python",
   "name": "python",
   "nbconvert_exporter": "python",
   "pygments_lexer": "ipython3",
   "version": "3.8.13"
  }
 },
 "nbformat": 4,
 "nbformat_minor": 5
}
