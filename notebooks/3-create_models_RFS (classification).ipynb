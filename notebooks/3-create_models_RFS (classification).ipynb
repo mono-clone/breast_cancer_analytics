{
 "cells": [
  {
   "cell_type": "markdown",
   "id": "3748b911-cac6-48d6-8c75-5d9cc365f904",
   "metadata": {
    "tags": []
   },
   "source": [
    "# 目的\n",
    "遺伝子学的分類に基づいた、再発の2値分類を実施する。  "
   ]
  },
  {
   "cell_type": "code",
   "execution_count": 1,
   "id": "bcfaefbb-89db-48c9-8b91-141cf7014df1",
   "metadata": {},
   "outputs": [
    {
     "name": "stderr",
     "output_type": "stream",
     "text": [
      "/home/breast-cancer-analytics/notebooks/functions.py:185: FutureWarning: The default dtype for empty Series will be 'object' instead of 'float64' in a future version. Specify a dtype explicitly to silence this warning.\n",
      "  y_train: pd.Series(),\n",
      "/home/breast-cancer-analytics/notebooks/functions.py:187: FutureWarning: The default dtype for empty Series will be 'object' instead of 'float64' in a future version. Specify a dtype explicitly to silence this warning.\n",
      "  y_val: pd.Series(),\n"
     ]
    }
   ],
   "source": [
    "# 基本的なライブラリ\n",
    "import os\n",
    "from tqdm import tqdm\n",
    "\n",
    "import numpy as np\n",
    "import pandas as pd\n",
    "\n",
    "pd.set_option(\"display.max_columns\", 50)\n",
    "\n",
    "import matplotlib.pyplot as plt\n",
    "\n",
    "%matplotlib inline\n",
    "\n",
    "\n",
    "# パイプライン\n",
    "from imblearn.pipeline import Pipeline\n",
    "\n",
    "# サンプリング\n",
    "from imblearn.over_sampling import SMOTE\n",
    "\n",
    "\n",
    "# モデル\n",
    "from sklearn.linear_model import LogisticRegression  # ロジスティック回帰\n",
    "from sklearn.neighbors import KNeighborsClassifier  # K近傍法\n",
    "from sklearn.svm import SVC  # サポートベクターマシン\n",
    "from sklearn.tree import DecisionTreeClassifier, export_graphviz  # 決定木\n",
    "from sklearn.ensemble import RandomForestClassifier  # ランダムフォレスト\n",
    "from sklearn.ensemble import AdaBoostClassifier  # AdaBoost\n",
    "from sklearn.naive_bayes import GaussianNB  # ナイーブ・ベイズ\n",
    "from sklearn.ensemble import GradientBoostingClassifier\n",
    "from sklearn.linear_model import SGDClassifier\n",
    "from sklearn.discriminant_analysis import QuadraticDiscriminantAnalysis as QDA  # 二次判別分析\n",
    "from sklearn.ensemble import ExtraTreesClassifier\n",
    "from lightgbm import LGBMClassifier\n",
    "\n",
    "\n",
    "# 評価指標\n",
    "from sklearn.metrics import roc_auc_score\n",
    "from sklearn.metrics import matthews_corrcoef\n",
    "from sklearn.metrics import accuracy_score, precision_score, recall_score, f1_score\n",
    "from sklearn.metrics import confusion_matrix, ConfusionMatrixDisplay\n",
    "from sklearn.metrics import classification_report\n",
    "\n",
    "import config\n",
    "import functions\n",
    "\n",
    "SEED = config.SEED\n",
    "TARGET_NAME = [\"RFS_STATUS\", \"RFS_MONTHS\"]\n",
    "functions.fix_seed(SEED)\n",
    "\n",
    "\n",
    "df_recurrenced = pd.read_pickle(\n",
    "    config.INTERIM_PREPROCESSED_RECURRENCE_DIR + \"/df_recurrenced4numeric.pkl\"\n",
    ")"
   ]
  },
  {
   "cell_type": "markdown",
   "id": "3011d730-a100-4755-97d0-a1fce8415500",
   "metadata": {
    "tags": []
   },
   "source": [
    "# データ全体での予測モデル検証"
   ]
  },
  {
   "cell_type": "markdown",
   "id": "a7a02154-d9fb-4b12-b8f3-602baff4a8dc",
   "metadata": {
    "tags": []
   },
   "source": [
    "## ベースモデルの学習結果\n",
    "\n",
    "各特徴量選択されたdfを用いて基本的な2値分類モデルを学習する"
   ]
  },
  {
   "cell_type": "code",
   "execution_count": 2,
   "id": "238f9093-dc3b-4840-99b8-3892c596a299",
   "metadata": {},
   "outputs": [],
   "source": [
    "def save_model_pipeline(\n",
    "    pipeline: callable,\n",
    "    val_step: str,\n",
    "    save_file_path: str = \".\",\n",
    "):\n",
    "    # fit後pipelineの保存\n",
    "    pipeline_path = \"{0}/{1}\".format(save_file_path, val_step)\n",
    "    functions.make_dir(pipeline_path)\n",
    "    functions.pickle_dump(pipeline, \"{0}/model_pipeline.pkl\".format(pipeline_path))"
   ]
  },
  {
   "cell_type": "code",
   "execution_count": 3,
   "id": "9305fa77-6e7d-4d67-a42e-27af76f2bd06",
   "metadata": {},
   "outputs": [],
   "source": [
    "def exists_pipeline(path: str) -> bool:\n",
    "    return os.path.exists(path)"
   ]
  },
  {
   "cell_type": "code",
   "execution_count": 18,
   "id": "e77b2858-fe91-46b9-83a7-a17024ef8340",
   "metadata": {},
   "outputs": [],
   "source": [
    "def validate_model(\n",
    "    model_order: dict = {\"original_data\": []},\n",
    "    val_step=\"val_set\",\n",
    "    input_data_path: str = None,\n",
    "    output_data_path: str = None,\n",
    "    is_fitted: bool = False,\n",
    "):\n",
    "\n",
    "    try:\n",
    "        _X_train = pd.read_pickle(\n",
    "            \"{0}/{1}/train/X.pkl\".format(input_data_path, val_step)\n",
    "        )\n",
    "        _y_train = pd.read_pickle(\n",
    "            \"{0}/{1}/train/y.pkl\".format(input_data_path, val_step)\n",
    "        )\n",
    "        _X_test = pd.read_pickle(\"{0}/{1}/test/X.pkl\".format(input_data_path, val_step))\n",
    "        _y_test = pd.read_pickle(\"{0}/{1}/test/y.pkl\".format(input_data_path, val_step))\n",
    "    except:\n",
    "        print(\"preprocess pkl file dose not exist\")\n",
    "        return\n",
    "\n",
    "    pipeline_path = \"{0}/{1}\".format(output_data_path, val_step)\n",
    "    if exists_pipeline(pipeline_path) and is_fitted:\n",
    "        # 学習済みパイプラインの使用\n",
    "        _model_pipeline = functions.pickle_load(\n",
    "            \"{0}/model_pipeline.pkl\".format(pipeline_path)\n",
    "        )\n",
    "    else:\n",
    "        # パイプラインの学習の実施\n",
    "        _model_pipeline = Pipeline(steps=model_order)\n",
    "        _model_pipeline.fit(_X_train, _y_train)\n",
    "\n",
    "    _y_train_pred = _model_pipeline.predict(_X_train)\n",
    "    _y_test_pred = _model_pipeline.predict(_X_test)\n",
    "\n",
    "    _estimator = _model_pipeline[-1]\n",
    "\n",
    "    # print(classification_report(_y_train, _y_train_pred))\n",
    "    functions.show_scores(_y_train, _y_train_pred)\n",
    "    functions.show_scores(_y_test, _y_test_pred)\n",
    "\n",
    "    if output_data_path:\n",
    "        save_model_pipeline(\n",
    "            pipeline=_model_pipeline, val_step=val_step, save_file_path=output_data_path\n",
    "        )\n",
    "    return"
   ]
  },
  {
   "cell_type": "code",
   "execution_count": 21,
   "id": "412a4155-e022-40db-a28e-f2f1e759f03a",
   "metadata": {
    "tags": []
   },
   "outputs": [],
   "source": [
    "# 実施したい学習の定義\n",
    "model_order_dicts = [\n",
    "    {\n",
    "        \"model_name\": LGBMClassifier().__class__.__name__,\n",
    "        \"preprocess_name\": \"preprocess4classification_1\",\n",
    "        \"model_order\": [\n",
    "            (SMOTE().__class__.__name__, SMOTE(random_state=SEED)),\n",
    "            (\n",
    "                LGBMClassifier().__class__.__name__,\n",
    "                LGBMClassifier(class_weight=\"balanced\", random_state=SEED),\n",
    "            ),\n",
    "        ],\n",
    "    },\n",
    "    {\n",
    "        \"model_name\": SVC().__class__.__name__,\n",
    "        \"preprocess_name\": \"preprocess4classification_1\",\n",
    "        \"model_order\": [\n",
    "            (SMOTE().__class__.__name__, SMOTE(random_state=SEED)),\n",
    "            (\n",
    "                SVC().__class__.__name__,\n",
    "                SVC(\n",
    "                    kernel=\"rbf\",\n",
    "                    random_state=SEED,\n",
    "                    class_weight=\"balanced\",\n",
    "                ),\n",
    "            ),\n",
    "        ],\n",
    "    },\n",
    "]"
   ]
  },
  {
   "cell_type": "code",
   "execution_count": 22,
   "id": "39b9d5c8-45a5-4116-a470-f21aa0afff43",
   "metadata": {
    "tags": []
   },
   "outputs": [
    {
     "name": "stdout",
     "output_type": "stream",
     "text": [
      "####################################################################################################\n",
      "subgroup_column:  CLAUDIN_SUBTYPE\n",
      "====================================================================================================\n",
      "subgroup:  claudin-low\n",
      "....................................................................................................\n",
      "model_order_dict name:  LGBMClassifier\n",
      "preprocess pkl file dose not exist\n",
      "....................................................................................................\n",
      "model_order_dict name:  SVC\n",
      "preprocess pkl file dose not exist\n",
      "====================================================================================================\n",
      "subgroup:  LumA\n",
      "....................................................................................................\n",
      "model_order_dict name:  LGBMClassifier\n"
     ]
    },
    {
     "data": {
      "text/plain": [
       "accuracy             1.000000e+00\n",
       "log_loss             9.992007e-16\n",
       "roc_auc_score        1.000000e+00\n",
       "matthews_corrcoef    1.000000e+00\n",
       "dtype: float64"
      ]
     },
     "metadata": {},
     "output_type": "display_data"
    },
    {
     "data": {
      "text/plain": [
       "accuracy              0.600000\n",
       "log_loss             13.815511\n",
       "roc_auc_score         0.636364\n",
       "matthews_corrcoef     0.379980\n",
       "dtype: float64"
      ]
     },
     "metadata": {},
     "output_type": "display_data"
    },
    {
     "name": "stdout",
     "output_type": "stream",
     "text": [
      "....................................................................................................\n",
      "model_order_dict name:  SVC\n"
     ]
    },
    {
     "data": {
      "text/plain": [
       "accuracy             0.994382\n",
       "log_loss             0.194038\n",
       "roc_auc_score        0.994792\n",
       "matthews_corrcoef    0.988767\n",
       "dtype: float64"
      ]
     },
     "metadata": {},
     "output_type": "display_data"
    },
    {
     "data": {
      "text/plain": [
       "accuracy              0.550000\n",
       "log_loss             15.542529\n",
       "roc_auc_score         0.570707\n",
       "matthews_corrcoef     0.153522\n",
       "dtype: float64"
      ]
     },
     "metadata": {},
     "output_type": "display_data"
    },
    {
     "name": "stdout",
     "output_type": "stream",
     "text": [
      "====================================================================================================\n",
      "subgroup:  LumB\n",
      "....................................................................................................\n",
      "model_order_dict name:  LGBMClassifier\n"
     ]
    },
    {
     "data": {
      "text/plain": [
       "accuracy             1.000000e+00\n",
       "log_loss             9.992007e-16\n",
       "roc_auc_score        1.000000e+00\n",
       "matthews_corrcoef    1.000000e+00\n",
       "dtype: float64"
      ]
     },
     "metadata": {},
     "output_type": "display_data"
    },
    {
     "data": {
      "text/plain": [
       "accuracy              0.400000\n",
       "log_loss             20.723666\n",
       "roc_auc_score         0.458333\n",
       "matthews_corrcoef    -0.102062\n",
       "dtype: float64"
      ]
     },
     "metadata": {},
     "output_type": "display_data"
    },
    {
     "name": "stdout",
     "output_type": "stream",
     "text": [
      "....................................................................................................\n",
      "model_order_dict name:  SVC\n"
     ]
    },
    {
     "data": {
      "text/plain": [
       "accuracy             0.994382\n",
       "log_loss             0.194038\n",
       "roc_auc_score        0.992857\n",
       "matthews_corrcoef    0.988267\n",
       "dtype: float64"
      ]
     },
     "metadata": {},
     "output_type": "display_data"
    },
    {
     "data": {
      "text/plain": [
       "accuracy              0.500000\n",
       "log_loss             17.269668\n",
       "roc_auc_score         0.520833\n",
       "matthews_corrcoef     0.041667\n",
       "dtype: float64"
      ]
     },
     "metadata": {},
     "output_type": "display_data"
    },
    {
     "name": "stdout",
     "output_type": "stream",
     "text": [
      "====================================================================================================\n",
      "subgroup:  Her2\n",
      "....................................................................................................\n",
      "model_order_dict name:  LGBMClassifier\n"
     ]
    },
    {
     "data": {
      "text/plain": [
       "accuracy             1.000000e+00\n",
       "log_loss             9.992007e-16\n",
       "roc_auc_score        1.000000e+00\n",
       "matthews_corrcoef    1.000000e+00\n",
       "dtype: float64"
      ]
     },
     "metadata": {},
     "output_type": "display_data"
    },
    {
     "data": {
      "text/plain": [
       "accuracy             0.727273\n",
       "log_loss             9.419812\n",
       "roc_auc_score        0.708333\n",
       "matthews_corrcoef    0.385758\n",
       "dtype: float64"
      ]
     },
     "metadata": {},
     "output_type": "display_data"
    },
    {
     "name": "stdout",
     "output_type": "stream",
     "text": [
      "....................................................................................................\n",
      "model_order_dict name:  SVC\n"
     ]
    },
    {
     "data": {
      "text/plain": [
       "accuracy             1.000000e+00\n",
       "log_loss             9.992007e-16\n",
       "roc_auc_score        1.000000e+00\n",
       "matthews_corrcoef    1.000000e+00\n",
       "dtype: float64"
      ]
     },
     "metadata": {},
     "output_type": "display_data"
    },
    {
     "data": {
      "text/plain": [
       "accuracy              0.363636\n",
       "log_loss             21.979585\n",
       "roc_auc_score         0.354167\n",
       "matthews_corrcoef    -0.260875\n",
       "dtype: float64"
      ]
     },
     "metadata": {},
     "output_type": "display_data"
    },
    {
     "name": "stdout",
     "output_type": "stream",
     "text": [
      "====================================================================================================\n",
      "subgroup:  Normal\n",
      "....................................................................................................\n",
      "model_order_dict name:  LGBMClassifier\n",
      "preprocess pkl file dose not exist\n",
      "....................................................................................................\n",
      "model_order_dict name:  SVC\n",
      "preprocess pkl file dose not exist\n",
      "====================================================================================================\n",
      "subgroup:  Basal\n",
      "....................................................................................................\n",
      "model_order_dict name:  LGBMClassifier\n",
      "preprocess pkl file dose not exist\n",
      "....................................................................................................\n",
      "model_order_dict name:  SVC\n",
      "preprocess pkl file dose not exist\n",
      "====================================================================================================\n",
      "subgroup:  NC\n",
      "....................................................................................................\n",
      "model_order_dict name:  LGBMClassifier\n",
      "preprocess pkl file dose not exist\n",
      "....................................................................................................\n",
      "model_order_dict name:  SVC\n",
      "preprocess pkl file dose not exist\n"
     ]
    }
   ],
   "source": [
    "# 層別化する特徴量\n",
    "subgroup_columns = [\n",
    "    \"CLAUDIN_SUBTYPE\",\n",
    "    # \"NPI_CAT\",\n",
    "    # \"TUMOR_CAT\",\n",
    "    # \"LYMPH_CAT\",\n",
    "]\n",
    "# 遺伝子発現量以外の特徴量を削除\n",
    "drop_columns = [\n",
    "    \"CLAUDIN_SUBTYPE\",\n",
    "    \"NPI_CAT\",\n",
    "    \"TUMOR_CAT\",\n",
    "    \"LYMPH_CAT\",\n",
    "]\n",
    "\n",
    "val_steps = [\"val_set\"]\n",
    "\n",
    "\n",
    "for subgroup_column in subgroup_columns:  # 各サブグループへの適用\n",
    "    print(\"##########\" * 10)\n",
    "    print(\"subgroup_column: \", subgroup_column)\n",
    "    for subgroup in df_recurrenced[subgroup_column].unique():  # サブグループの要素毎への適用\n",
    "        print(\"==========\" * 10)\n",
    "        print(\"subgroup: \", subgroup)\n",
    "        for model_order_dict in model_order_dicts:\n",
    "            print(\"..........\" * 10)\n",
    "            print(\"model_order_dict name: \", model_order_dict[\"model_name\"])\n",
    "            input_file_path = \"./{0}/{1}/{2}/{3}\".format(\n",
    "                config.INTERIM_PREPROCESSED_RECURRENCE_DIR,\n",
    "                subgroup_column,\n",
    "                subgroup,\n",
    "                model_order_dict[\"preprocess_name\"],\n",
    "            )\n",
    "            input_data_path = \"./{0}/{1}/{2}/{3}\".format(\n",
    "                config.INTERIM_PREPROCESSED_RECURRENCE_DIR,\n",
    "                subgroup_column,\n",
    "                subgroup,\n",
    "                model_order_dict[\"preprocess_name\"],\n",
    "            )\n",
    "            output_data_path = \"./{0}/{1}/{2}/{3}/{4}\".format(\n",
    "                config.INTERIM_MODELS_RECURRENCE_DIR,\n",
    "                subgroup_column,\n",
    "                subgroup,\n",
    "                model_order_dict[\"preprocess_name\"],\n",
    "                model_order_dict[\"model_name\"],\n",
    "            )\n",
    "            # plt.subplot(1, len(df_recurrenced[subgroup_column].unique()), col + 1)\n",
    "\n",
    "            for val_step in val_steps:\n",
    "                validate_model(\n",
    "                    model_order=model_order_dict[\"model_order\"],\n",
    "                    val_step=val_step,\n",
    "                    input_data_path=input_data_path,\n",
    "                    output_data_path=output_data_path,\n",
    "                )"
   ]
  },
  {
   "cell_type": "code",
   "execution_count": null,
   "id": "fb8cdb6a-3b13-4e6d-9ff1-ad3e89cdd78d",
   "metadata": {},
   "outputs": [],
   "source": []
  }
 ],
 "metadata": {
  "kernelspec": {
   "display_name": "Python 3 (ipykernel)",
   "language": "python",
   "name": "python3"
  },
  "language_info": {
   "codemirror_mode": {
    "name": "ipython",
    "version": 3
   },
   "file_extension": ".py",
   "mimetype": "text/x-python",
   "name": "python",
   "nbconvert_exporter": "python",
   "pygments_lexer": "ipython3",
   "version": "3.9.13"
  },
  "vscode": {
   "interpreter": {
    "hash": "916dbcbb3f70747c44a77c7bcd40155683ae19c65e1c03b4aa3499c5328201f1"
   }
  }
 },
 "nbformat": 4,
 "nbformat_minor": 5
}
