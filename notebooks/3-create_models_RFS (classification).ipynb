{
 "cells": [
  {
   "cell_type": "markdown",
   "id": "3748b911-cac6-48d6-8c75-5d9cc365f904",
   "metadata": {
    "tags": []
   },
   "source": [
    "# 目的\n",
    "遺伝子学的分類に基づいた、再発の2値分類を実施する。  "
   ]
  },
  {
   "cell_type": "code",
   "execution_count": 1,
   "id": "bcfaefbb-89db-48c9-8b91-141cf7014df1",
   "metadata": {},
   "outputs": [
    {
     "name": "stderr",
     "output_type": "stream",
     "text": [
      "/home/breast-cancer-analytics/notebooks/functions.py:185: FutureWarning: The default dtype for empty Series will be 'object' instead of 'float64' in a future version. Specify a dtype explicitly to silence this warning.\n",
      "  y_train: pd.Series(),\n",
      "/home/breast-cancer-analytics/notebooks/functions.py:187: FutureWarning: The default dtype for empty Series will be 'object' instead of 'float64' in a future version. Specify a dtype explicitly to silence this warning.\n",
      "  y_val: pd.Series(),\n"
     ]
    }
   ],
   "source": [
    "# 基本的なライブラリ\n",
    "import itertools\n",
    "import warnings\n",
    "import numpy as np\n",
    "import pandas as pd\n",
    "import matplotlib.pyplot as plt\n",
    "from tqdm import tqdm\n",
    "\n",
    "# パイプライン\n",
    "from imblearn.pipeline import Pipeline\n",
    "\n",
    "# サンプリング\n",
    "from imblearn.over_sampling import SMOTE\n",
    "\n",
    "\n",
    "# モデル\n",
    "from sklearn.linear_model import LogisticRegression  # ロジスティック回帰\n",
    "from sklearn.neighbors import KNeighborsClassifier  # K近傍法\n",
    "from sklearn.svm import SVC  # サポートベクターマシン\n",
    "from sklearn.tree import DecisionTreeClassifier, export_graphviz  # 決定木\n",
    "from sklearn.ensemble import RandomForestClassifier  # ランダムフォレスト\n",
    "from sklearn.ensemble import AdaBoostClassifier  # AdaBoost\n",
    "from sklearn.naive_bayes import GaussianNB  # ナイーブ・ベイズ\n",
    "from sklearn.ensemble import GradientBoostingClassifier\n",
    "from sklearn.linear_model import SGDClassifier\n",
    "from sklearn.discriminant_analysis import QuadraticDiscriminantAnalysis as QDA  # 二次判別分析\n",
    "from sklearn.ensemble import ExtraTreesClassifier\n",
    "from lightgbm import LGBMClassifier\n",
    "import xgboost as xgb\n",
    "\n",
    "\n",
    "# 評価指標\n",
    "from sklearn.metrics import roc_auc_score\n",
    "from sklearn.metrics import matthews_corrcoef\n",
    "from sklearn.metrics import accuracy_score, precision_score, recall_score, f1_score\n",
    "from sklearn.metrics import confusion_matrix, ConfusionMatrixDisplay\n",
    "from sklearn.metrics import classification_report\n",
    "\n",
    "# local libraries\n",
    "import config\n",
    "import functions\n",
    "\n",
    "SEED = config.SEED\n",
    "functions.fix_seed(SEED)\n",
    "\n",
    "\n",
    "# 最大表示列数の指定（ここでは50列を指定）N\n",
    "pd.set_option(\"display.max_columns\", 50)\n",
    "pd.set_option(\"display.max_rows\", 50)\n",
    "\n",
    "%matplotlib inline"
   ]
  },
  {
   "cell_type": "code",
   "execution_count": 2,
   "id": "aef6a76c-509c-454a-8edb-ed60ce67b5f2",
   "metadata": {},
   "outputs": [],
   "source": [
    "df_recurrenced = pd.read_pickle(\n",
    "    config.INTERIM_PREPROCESSED_RECURRENCE_DIR + \"/df_recurrenced4classification.pkl\"\n",
    ")\n",
    "\n",
    "classifiers = [\n",
    "    LogisticRegression(max_iter=2000, random_state=SEED),\n",
    "    KNeighborsClassifier(),\n",
    "    SVC(\n",
    "        kernel=\"linear\",\n",
    "        random_state=SEED,\n",
    "        class_weight=\"balanced\",\n",
    "    ),\n",
    "    SVC(kernel=\"poly\", random_state=SEED, class_weight=\"balanced\"),\n",
    "    SVC(kernel=\"rbf\", random_state=SEED, class_weight=\"balanced\"),\n",
    "    SVC(kernel=\"sigmoid\", random_state=SEED, class_weight=\"balanced\"),\n",
    "    DecisionTreeClassifier(\n",
    "        min_samples_split=20,\n",
    "        min_samples_leaf=15,\n",
    "        random_state=SEED,\n",
    "        class_weight=\"balanced\",\n",
    "    ),\n",
    "    RandomForestClassifier(\n",
    "        min_samples_split=20,\n",
    "        min_samples_leaf=15,\n",
    "        random_state=SEED,\n",
    "        class_weight=\"balanced\",\n",
    "    ),\n",
    "    AdaBoostClassifier(random_state=SEED),\n",
    "    GaussianNB(),\n",
    "    GradientBoostingClassifier(random_state=SEED),\n",
    "    SGDClassifier(random_state=SEED, class_weight=\"balanced\"),\n",
    "    QDA(),\n",
    "    LGBMClassifier(class_weight=\"balanced\", random_state=SEED),\n",
    "    ExtraTreesClassifier(class_weight=\"balanced\", random_state=SEED),\n",
    "]"
   ]
  },
  {
   "cell_type": "markdown",
   "id": "3011d730-a100-4755-97d0-a1fce8415500",
   "metadata": {
    "tags": []
   },
   "source": [
    "# データ全体での予測モデル検証"
   ]
  },
  {
   "cell_type": "markdown",
   "id": "a7a02154-d9fb-4b12-b8f3-602baff4a8dc",
   "metadata": {
    "tags": []
   },
   "source": [
    "## ベースモデルの学習結果\n",
    "\n",
    "各特徴量選択されたdfを用いて基本的な2値分類モデルを学習する"
   ]
  },
  {
   "cell_type": "code",
   "execution_count": 3,
   "id": "e77b2858-fe91-46b9-83a7-a17024ef8340",
   "metadata": {},
   "outputs": [],
   "source": [
    "def validate_models(\n",
    "    model_order: dict = {\"original_data\": []},\n",
    "    input_file_path: str = None,\n",
    "    output_file_path: str = None,\n",
    "):\n",
    "\n",
    "    cat_path = \"/val_set\"\n",
    "    try:\n",
    "        _X_train = pd.read_pickle(input_file_path + cat_path + \"/train/X.pkl\")\n",
    "        _y_train = pd.read_pickle(input_file_path + cat_path + \"/train/y.pkl\")\n",
    "        _X_val = pd.read_pickle(input_file_path + cat_path + \"/val/X.pkl\")\n",
    "        _y_val = pd.read_pickle(input_file_path + cat_path + \"/val/y.pkl\")\n",
    "    except:\n",
    "        # pkl file dose not exist\n",
    "        return\n",
    "\n",
    "    display(_X_train.shape, _y_train.shape)\n",
    "\n",
    "    # 学習用パイプラインの構築\n",
    "    # パイプラインメソッドの関係上、オーバーサンプリングもこちらで行う\n",
    "    # ※imblearnではオーバーサンプリング後のデータの保存が難しい\n",
    "    # こちらはimblearnのPipelineなので注意\n",
    "    _preprocess_pipeline = Pipeline(steps=model_order)\n",
    "    _preprocess_pipeline.fit(_X_train, _y_train)\n",
    "    _y_train_pred = _preprocess_pipeline.predict(_X_train)\n",
    "    _y_val_pred = _preprocess_pipeline.predict(_X_val)\n",
    "    # print(classification_report(_y_train, _y_train_pred))\n",
    "    functions.show_scores(_y_train, _y_train_pred)\n",
    "    functions.show_scores(_y_val, _y_val_pred)"
   ]
  },
  {
   "cell_type": "code",
   "execution_count": 4,
   "id": "39b9d5c8-45a5-4116-a470-f21aa0afff43",
   "metadata": {
    "tags": []
   },
   "outputs": [
    {
     "name": "stdout",
     "output_type": "stream",
     "text": [
      "####################################################################################################\n",
      "subgroup_column:  CLAUDIN_SUBTYPE\n",
      "====================================================================================================\n",
      "subgroup:  LumB\n",
      "....................................................................................................\n",
      "model_order_dict name:  lr\n"
     ]
    },
    {
     "data": {
      "text/plain": [
       "(178, 159)"
      ]
     },
     "metadata": {},
     "output_type": "display_data"
    },
    {
     "data": {
      "text/plain": [
       "(178,)"
      ]
     },
     "metadata": {},
     "output_type": "display_data"
    },
    {
     "ename": "ValueError",
     "evalue": "Unknown label type: 'continuous'",
     "output_type": "error",
     "traceback": [
      "\u001b[0;31m---------------------------------------------------------------------------\u001b[0m",
      "\u001b[0;31mValueError\u001b[0m                                Traceback (most recent call last)",
      "Cell \u001b[0;32mIn [4], line 76\u001b[0m\n\u001b[1;32m     63\u001b[0m input_file_path \u001b[38;5;241m=\u001b[39m \u001b[38;5;124m\"\u001b[39m\u001b[38;5;124m./\u001b[39m\u001b[38;5;132;01m{0}\u001b[39;00m\u001b[38;5;124m/\u001b[39m\u001b[38;5;132;01m{1}\u001b[39;00m\u001b[38;5;124m/\u001b[39m\u001b[38;5;132;01m{2}\u001b[39;00m\u001b[38;5;124m/\u001b[39m\u001b[38;5;132;01m{3}\u001b[39;00m\u001b[38;5;124m\"\u001b[39m\u001b[38;5;241m.\u001b[39mformat(\n\u001b[1;32m     64\u001b[0m     config\u001b[38;5;241m.\u001b[39mINTERIM_PREPROCESSED_RECURRENCE_DIR,\n\u001b[1;32m     65\u001b[0m     subgroup_column,\n\u001b[1;32m     66\u001b[0m     subgroup,\n\u001b[1;32m     67\u001b[0m     model_order_dict[\u001b[38;5;124m\"\u001b[39m\u001b[38;5;124mpreprocess_name\u001b[39m\u001b[38;5;124m\"\u001b[39m],\n\u001b[1;32m     68\u001b[0m )\n\u001b[1;32m     69\u001b[0m \u001b[38;5;124;03m\"\"\"\u001b[39;00m\n\u001b[1;32m     70\u001b[0m \u001b[38;5;124;03moutput_file_path = \"./{0}/{1}/{2}/{3}\".format(\u001b[39;00m\n\u001b[1;32m     71\u001b[0m \u001b[38;5;124;03m    config.INTERIM_MODELS_RECURRENCE_DIR,\u001b[39;00m\n\u001b[0;32m   (...)\u001b[0m\n\u001b[1;32m     74\u001b[0m \u001b[38;5;124;03m    model_order_dict[\"model_name\"],\u001b[39;00m\n\u001b[1;32m     75\u001b[0m \u001b[38;5;124;03m)\"\"\"\u001b[39;00m\n\u001b[0;32m---> 76\u001b[0m \u001b[43mvalidate_models\u001b[49m\u001b[43m(\u001b[49m\n\u001b[1;32m     77\u001b[0m \u001b[43m    \u001b[49m\u001b[43mmodel_order\u001b[49m\u001b[38;5;241;43m=\u001b[39;49m\u001b[43mmodel_order_dict\u001b[49m\u001b[43m[\u001b[49m\u001b[38;5;124;43m\"\u001b[39;49m\u001b[38;5;124;43mmodel_order\u001b[39;49m\u001b[38;5;124;43m\"\u001b[39;49m\u001b[43m]\u001b[49m\u001b[43m,\u001b[49m\n\u001b[1;32m     78\u001b[0m \u001b[43m    \u001b[49m\u001b[43minput_file_path\u001b[49m\u001b[38;5;241;43m=\u001b[39;49m\u001b[43minput_file_path\u001b[49m\u001b[43m,\u001b[49m\n\u001b[1;32m     79\u001b[0m \u001b[43m\u001b[49m\u001b[43m)\u001b[49m\n",
      "Cell \u001b[0;32mIn [3], line 24\u001b[0m, in \u001b[0;36mvalidate_models\u001b[0;34m(model_order, input_file_path, output_file_path)\u001b[0m\n\u001b[1;32m     19\u001b[0m \u001b[38;5;66;03m# 学習用パイプラインの構築\u001b[39;00m\n\u001b[1;32m     20\u001b[0m \u001b[38;5;66;03m# パイプラインメソッドの関係上、オーバーサンプリングもこちらで行う\u001b[39;00m\n\u001b[1;32m     21\u001b[0m \u001b[38;5;66;03m# ※imblearnではオーバーサンプリング後のデータの保存が難しい\u001b[39;00m\n\u001b[1;32m     22\u001b[0m \u001b[38;5;66;03m# こちらはimblearnのPipelineなので注意\u001b[39;00m\n\u001b[1;32m     23\u001b[0m _preprocess_pipeline \u001b[38;5;241m=\u001b[39m Pipeline(steps\u001b[38;5;241m=\u001b[39mmodel_order)\n\u001b[0;32m---> 24\u001b[0m \u001b[43m_preprocess_pipeline\u001b[49m\u001b[38;5;241;43m.\u001b[39;49m\u001b[43mfit\u001b[49m\u001b[43m(\u001b[49m\u001b[43m_X_train\u001b[49m\u001b[43m,\u001b[49m\u001b[43m \u001b[49m\u001b[43m_y_train\u001b[49m\u001b[43m)\u001b[49m\n\u001b[1;32m     25\u001b[0m _y_train_pred \u001b[38;5;241m=\u001b[39m _preprocess_pipeline\u001b[38;5;241m.\u001b[39mpredict(_X_train)\n\u001b[1;32m     26\u001b[0m _y_val_pred \u001b[38;5;241m=\u001b[39m _preprocess_pipeline\u001b[38;5;241m.\u001b[39mpredict(_X_val)\n",
      "File \u001b[0;32m~/miniconda3/envs/breast-cancer-analytics/lib/python3.8/site-packages/imblearn/pipeline.py:268\u001b[0m, in \u001b[0;36mPipeline.fit\u001b[0;34m(self, X, y, **fit_params)\u001b[0m\n\u001b[1;32m    241\u001b[0m \u001b[38;5;124;03m\"\"\"Fit the model.\u001b[39;00m\n\u001b[1;32m    242\u001b[0m \n\u001b[1;32m    243\u001b[0m \u001b[38;5;124;03mFit all the transforms/samplers one after the other and\u001b[39;00m\n\u001b[0;32m   (...)\u001b[0m\n\u001b[1;32m    265\u001b[0m \u001b[38;5;124;03m    This estimator.\u001b[39;00m\n\u001b[1;32m    266\u001b[0m \u001b[38;5;124;03m\"\"\"\u001b[39;00m\n\u001b[1;32m    267\u001b[0m fit_params_steps \u001b[38;5;241m=\u001b[39m \u001b[38;5;28mself\u001b[39m\u001b[38;5;241m.\u001b[39m_check_fit_params(\u001b[38;5;241m*\u001b[39m\u001b[38;5;241m*\u001b[39mfit_params)\n\u001b[0;32m--> 268\u001b[0m Xt, yt \u001b[38;5;241m=\u001b[39m \u001b[38;5;28;43mself\u001b[39;49m\u001b[38;5;241;43m.\u001b[39;49m\u001b[43m_fit\u001b[49m\u001b[43m(\u001b[49m\u001b[43mX\u001b[49m\u001b[43m,\u001b[49m\u001b[43m \u001b[49m\u001b[43my\u001b[49m\u001b[43m,\u001b[49m\u001b[43m \u001b[49m\u001b[38;5;241;43m*\u001b[39;49m\u001b[38;5;241;43m*\u001b[39;49m\u001b[43mfit_params_steps\u001b[49m\u001b[43m)\u001b[49m\n\u001b[1;32m    269\u001b[0m \u001b[38;5;28;01mwith\u001b[39;00m _print_elapsed_time(\u001b[38;5;124m\"\u001b[39m\u001b[38;5;124mPipeline\u001b[39m\u001b[38;5;124m\"\u001b[39m, \u001b[38;5;28mself\u001b[39m\u001b[38;5;241m.\u001b[39m_log_message(\u001b[38;5;28mlen\u001b[39m(\u001b[38;5;28mself\u001b[39m\u001b[38;5;241m.\u001b[39msteps) \u001b[38;5;241m-\u001b[39m \u001b[38;5;241m1\u001b[39m)):\n\u001b[1;32m    270\u001b[0m     \u001b[38;5;28;01mif\u001b[39;00m \u001b[38;5;28mself\u001b[39m\u001b[38;5;241m.\u001b[39m_final_estimator \u001b[38;5;241m!=\u001b[39m \u001b[38;5;124m\"\u001b[39m\u001b[38;5;124mpassthrough\u001b[39m\u001b[38;5;124m\"\u001b[39m:\n",
      "File \u001b[0;32m~/miniconda3/envs/breast-cancer-analytics/lib/python3.8/site-packages/imblearn/pipeline.py:226\u001b[0m, in \u001b[0;36mPipeline._fit\u001b[0;34m(self, X, y, **fit_params_steps)\u001b[0m\n\u001b[1;32m    216\u001b[0m     X, fitted_transformer \u001b[38;5;241m=\u001b[39m fit_transform_one_cached(\n\u001b[1;32m    217\u001b[0m         cloned_transformer,\n\u001b[1;32m    218\u001b[0m         X,\n\u001b[0;32m   (...)\u001b[0m\n\u001b[1;32m    223\u001b[0m         \u001b[38;5;241m*\u001b[39m\u001b[38;5;241m*\u001b[39mfit_params_steps[name],\n\u001b[1;32m    224\u001b[0m     )\n\u001b[1;32m    225\u001b[0m \u001b[38;5;28;01melif\u001b[39;00m \u001b[38;5;28mhasattr\u001b[39m(cloned_transformer, \u001b[38;5;124m\"\u001b[39m\u001b[38;5;124mfit_resample\u001b[39m\u001b[38;5;124m\"\u001b[39m):\n\u001b[0;32m--> 226\u001b[0m     X, y, fitted_transformer \u001b[38;5;241m=\u001b[39m \u001b[43mfit_resample_one_cached\u001b[49m\u001b[43m(\u001b[49m\n\u001b[1;32m    227\u001b[0m \u001b[43m        \u001b[49m\u001b[43mcloned_transformer\u001b[49m\u001b[43m,\u001b[49m\n\u001b[1;32m    228\u001b[0m \u001b[43m        \u001b[49m\u001b[43mX\u001b[49m\u001b[43m,\u001b[49m\n\u001b[1;32m    229\u001b[0m \u001b[43m        \u001b[49m\u001b[43my\u001b[49m\u001b[43m,\u001b[49m\n\u001b[1;32m    230\u001b[0m \u001b[43m        \u001b[49m\u001b[43mmessage_clsname\u001b[49m\u001b[38;5;241;43m=\u001b[39;49m\u001b[38;5;124;43m\"\u001b[39;49m\u001b[38;5;124;43mPipeline\u001b[39;49m\u001b[38;5;124;43m\"\u001b[39;49m\u001b[43m,\u001b[49m\n\u001b[1;32m    231\u001b[0m \u001b[43m        \u001b[49m\u001b[43mmessage\u001b[49m\u001b[38;5;241;43m=\u001b[39;49m\u001b[38;5;28;43mself\u001b[39;49m\u001b[38;5;241;43m.\u001b[39;49m\u001b[43m_log_message\u001b[49m\u001b[43m(\u001b[49m\u001b[43mstep_idx\u001b[49m\u001b[43m)\u001b[49m\u001b[43m,\u001b[49m\n\u001b[1;32m    232\u001b[0m \u001b[43m        \u001b[49m\u001b[38;5;241;43m*\u001b[39;49m\u001b[38;5;241;43m*\u001b[39;49m\u001b[43mfit_params_steps\u001b[49m\u001b[43m[\u001b[49m\u001b[43mname\u001b[49m\u001b[43m]\u001b[49m\u001b[43m,\u001b[49m\n\u001b[1;32m    233\u001b[0m \u001b[43m    \u001b[49m\u001b[43m)\u001b[49m\n\u001b[1;32m    234\u001b[0m \u001b[38;5;66;03m# Replace the transformer of the step with the fitted\u001b[39;00m\n\u001b[1;32m    235\u001b[0m \u001b[38;5;66;03m# transformer. This is necessary when loading the transformer\u001b[39;00m\n\u001b[1;32m    236\u001b[0m \u001b[38;5;66;03m# from the cache.\u001b[39;00m\n\u001b[1;32m    237\u001b[0m \u001b[38;5;28mself\u001b[39m\u001b[38;5;241m.\u001b[39msteps[step_idx] \u001b[38;5;241m=\u001b[39m (name, fitted_transformer)\n",
      "File \u001b[0;32m~/miniconda3/envs/breast-cancer-analytics/lib/python3.8/site-packages/joblib/memory.py:349\u001b[0m, in \u001b[0;36mNotMemorizedFunc.__call__\u001b[0;34m(self, *args, **kwargs)\u001b[0m\n\u001b[1;32m    348\u001b[0m \u001b[38;5;28;01mdef\u001b[39;00m \u001b[38;5;21m__call__\u001b[39m(\u001b[38;5;28mself\u001b[39m, \u001b[38;5;241m*\u001b[39margs, \u001b[38;5;241m*\u001b[39m\u001b[38;5;241m*\u001b[39mkwargs):\n\u001b[0;32m--> 349\u001b[0m     \u001b[38;5;28;01mreturn\u001b[39;00m \u001b[38;5;28;43mself\u001b[39;49m\u001b[38;5;241;43m.\u001b[39;49m\u001b[43mfunc\u001b[49m\u001b[43m(\u001b[49m\u001b[38;5;241;43m*\u001b[39;49m\u001b[43margs\u001b[49m\u001b[43m,\u001b[49m\u001b[43m \u001b[49m\u001b[38;5;241;43m*\u001b[39;49m\u001b[38;5;241;43m*\u001b[39;49m\u001b[43mkwargs\u001b[49m\u001b[43m)\u001b[49m\n",
      "File \u001b[0;32m~/miniconda3/envs/breast-cancer-analytics/lib/python3.8/site-packages/imblearn/pipeline.py:394\u001b[0m, in \u001b[0;36m_fit_resample_one\u001b[0;34m(sampler, X, y, message_clsname, message, **fit_params)\u001b[0m\n\u001b[1;32m    392\u001b[0m \u001b[38;5;28;01mdef\u001b[39;00m \u001b[38;5;21m_fit_resample_one\u001b[39m(sampler, X, y, message_clsname\u001b[38;5;241m=\u001b[39m\u001b[38;5;124m\"\u001b[39m\u001b[38;5;124m\"\u001b[39m, message\u001b[38;5;241m=\u001b[39m\u001b[38;5;28;01mNone\u001b[39;00m, \u001b[38;5;241m*\u001b[39m\u001b[38;5;241m*\u001b[39mfit_params):\n\u001b[1;32m    393\u001b[0m     \u001b[38;5;28;01mwith\u001b[39;00m _print_elapsed_time(message_clsname, message):\n\u001b[0;32m--> 394\u001b[0m         X_res, y_res \u001b[38;5;241m=\u001b[39m \u001b[43msampler\u001b[49m\u001b[38;5;241;43m.\u001b[39;49m\u001b[43mfit_resample\u001b[49m\u001b[43m(\u001b[49m\u001b[43mX\u001b[49m\u001b[43m,\u001b[49m\u001b[43m \u001b[49m\u001b[43my\u001b[49m\u001b[43m,\u001b[49m\u001b[43m \u001b[49m\u001b[38;5;241;43m*\u001b[39;49m\u001b[38;5;241;43m*\u001b[39;49m\u001b[43mfit_params\u001b[49m\u001b[43m)\u001b[49m\n\u001b[1;32m    396\u001b[0m         \u001b[38;5;28;01mreturn\u001b[39;00m X_res, y_res, sampler\n",
      "File \u001b[0;32m~/miniconda3/envs/breast-cancer-analytics/lib/python3.8/site-packages/imblearn/base.py:75\u001b[0m, in \u001b[0;36mSamplerMixin.fit_resample\u001b[0;34m(self, X, y)\u001b[0m\n\u001b[1;32m     54\u001b[0m \u001b[38;5;28;01mdef\u001b[39;00m \u001b[38;5;21mfit_resample\u001b[39m(\u001b[38;5;28mself\u001b[39m, X, y):\n\u001b[1;32m     55\u001b[0m     \u001b[38;5;124;03m\"\"\"Resample the dataset.\u001b[39;00m\n\u001b[1;32m     56\u001b[0m \n\u001b[1;32m     57\u001b[0m \u001b[38;5;124;03m    Parameters\u001b[39;00m\n\u001b[0;32m   (...)\u001b[0m\n\u001b[1;32m     73\u001b[0m \u001b[38;5;124;03m        The corresponding label of `X_resampled`.\u001b[39;00m\n\u001b[1;32m     74\u001b[0m \u001b[38;5;124;03m    \"\"\"\u001b[39;00m\n\u001b[0;32m---> 75\u001b[0m     \u001b[43mcheck_classification_targets\u001b[49m\u001b[43m(\u001b[49m\u001b[43my\u001b[49m\u001b[43m)\u001b[49m\n\u001b[1;32m     76\u001b[0m     arrays_transformer \u001b[38;5;241m=\u001b[39m ArraysTransformer(X, y)\n\u001b[1;32m     77\u001b[0m     X, y, binarize_y \u001b[38;5;241m=\u001b[39m \u001b[38;5;28mself\u001b[39m\u001b[38;5;241m.\u001b[39m_check_X_y(X, y)\n",
      "File \u001b[0;32m~/miniconda3/envs/breast-cancer-analytics/lib/python3.8/site-packages/sklearn/utils/multiclass.py:200\u001b[0m, in \u001b[0;36mcheck_classification_targets\u001b[0;34m(y)\u001b[0m\n\u001b[1;32m    192\u001b[0m y_type \u001b[38;5;241m=\u001b[39m type_of_target(y, input_name\u001b[38;5;241m=\u001b[39m\u001b[38;5;124m\"\u001b[39m\u001b[38;5;124my\u001b[39m\u001b[38;5;124m\"\u001b[39m)\n\u001b[1;32m    193\u001b[0m \u001b[38;5;28;01mif\u001b[39;00m y_type \u001b[38;5;129;01mnot\u001b[39;00m \u001b[38;5;129;01min\u001b[39;00m [\n\u001b[1;32m    194\u001b[0m     \u001b[38;5;124m\"\u001b[39m\u001b[38;5;124mbinary\u001b[39m\u001b[38;5;124m\"\u001b[39m,\n\u001b[1;32m    195\u001b[0m     \u001b[38;5;124m\"\u001b[39m\u001b[38;5;124mmulticlass\u001b[39m\u001b[38;5;124m\"\u001b[39m,\n\u001b[0;32m   (...)\u001b[0m\n\u001b[1;32m    198\u001b[0m     \u001b[38;5;124m\"\u001b[39m\u001b[38;5;124mmultilabel-sequences\u001b[39m\u001b[38;5;124m\"\u001b[39m,\n\u001b[1;32m    199\u001b[0m ]:\n\u001b[0;32m--> 200\u001b[0m     \u001b[38;5;28;01mraise\u001b[39;00m \u001b[38;5;167;01mValueError\u001b[39;00m(\u001b[38;5;124m\"\u001b[39m\u001b[38;5;124mUnknown label type: \u001b[39m\u001b[38;5;132;01m%r\u001b[39;00m\u001b[38;5;124m\"\u001b[39m \u001b[38;5;241m%\u001b[39m y_type)\n",
      "\u001b[0;31mValueError\u001b[0m: Unknown label type: 'continuous'"
     ]
    }
   ],
   "source": [
    "# 層別化する特徴量\n",
    "subgroup_columns = [\n",
    "    \"CLAUDIN_SUBTYPE\",\n",
    "    # \"NPI_CAT\",\n",
    "    # \"TUMOR_CAT\",\n",
    "    # \"LYMPH_CAT\",\n",
    "]\n",
    "# 遺伝子発現量以外の特徴量を削除\n",
    "drop_columns = [\n",
    "    \"CLAUDIN_SUBTYPE\",\n",
    "    \"NPI_CAT\",\n",
    "    \"TUMOR_CAT\",\n",
    "    \"LYMPH_CAT\",\n",
    "]\n",
    "\n",
    "# 前処理名\n",
    "preprocess_order_names = [\"preprocess1\", \"preprocess2\"]\n",
    "\n",
    "# 実施したい学習の定義\n",
    "model_order_dicts = [\n",
    "    {\n",
    "        \"model_name\": \"lr\",\n",
    "        \"preprocess_name\": \"preprocess4numeric_1\",\n",
    "        \"model_order\": [\n",
    "            (\"smote\", SMOTE(random_state=SEED)),\n",
    "            (\"lr\", LogisticRegression(max_iter=2000, random_state=SEED)),\n",
    "        ],\n",
    "    },\n",
    "    {\n",
    "        \"model_name\": \"lgbm\",\n",
    "        \"preprocess_name\": \"preprocess4numeric_1\",\n",
    "        \"model_order\": [\n",
    "            (\"smote\", SMOTE(random_state=SEED)),\n",
    "            (\"lgbm\", LGBMClassifier(class_weight=\"balanced\", random_state=SEED)),\n",
    "        ],\n",
    "    },\n",
    "    {\n",
    "        \"model_name\": \"svm\",\n",
    "        \"preprocess_name\": \"preprocess4numeric_1\",\n",
    "        \"model_order\": [\n",
    "            (\"smote\", SMOTE(random_state=SEED)),\n",
    "            (\n",
    "                \"svm\",\n",
    "                SVC(\n",
    "                    kernel=\"rbf\",\n",
    "                    random_state=SEED,\n",
    "                    class_weight=\"balanced\",\n",
    "                ),\n",
    "            ),\n",
    "        ],\n",
    "    },\n",
    "]\n",
    "\n",
    "for subgroup_column in subgroup_columns:  # 各サブグループへの適用\n",
    "    print(\"##########\" * 10)\n",
    "    print(\"subgroup_column: \", subgroup_column)\n",
    "    for subgroup in df_recurrenced[subgroup_column].unique():  # サブグループの要素毎への適用\n",
    "        print(\"==========\" * 10)\n",
    "        print(\"subgroup: \", subgroup)\n",
    "        for model_order_dict in model_order_dicts:\n",
    "            print(\"..........\" * 10)\n",
    "            print(\"model_order_dict name: \", model_order_dict[\"model_name\"])\n",
    "            input_file_path = \"./{0}/{1}/{2}/{3}\".format(\n",
    "                config.INTERIM_PREPROCESSED_RECURRENCE_DIR,\n",
    "                subgroup_column,\n",
    "                subgroup,\n",
    "                model_order_dict[\"preprocess_name\"],\n",
    "            )\n",
    "            \"\"\"\n",
    "            output_file_path = \"./{0}/{1}/{2}/{3}\".format(\n",
    "                config.INTERIM_MODELS_RECURRENCE_DIR,\n",
    "                subgroup_column,\n",
    "                subgroup,\n",
    "                model_order_dict[\"model_name\"],\n",
    "            )\"\"\"\n",
    "            validate_models(\n",
    "                model_order=model_order_dict[\"model_order\"],\n",
    "                input_file_path=input_file_path,\n",
    "            )"
   ]
  },
  {
   "cell_type": "code",
   "execution_count": null,
   "id": "fb8cdb6a-3b13-4e6d-9ff1-ad3e89cdd78d",
   "metadata": {},
   "outputs": [],
   "source": []
  }
 ],
 "metadata": {
  "kernelspec": {
   "display_name": "Python 3 (ipykernel)",
   "language": "python",
   "name": "python3"
  },
  "language_info": {
   "codemirror_mode": {
    "name": "ipython",
    "version": 3
   },
   "file_extension": ".py",
   "mimetype": "text/x-python",
   "name": "python",
   "nbconvert_exporter": "python",
   "pygments_lexer": "ipython3",
   "version": "3.8.13"
  },
  "vscode": {
   "interpreter": {
    "hash": "916dbcbb3f70747c44a77c7bcd40155683ae19c65e1c03b4aa3499c5328201f1"
   }
  }
 },
 "nbformat": 4,
 "nbformat_minor": 5
}
