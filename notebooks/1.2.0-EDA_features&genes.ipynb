{
 "cells": [
  {
   "cell_type": "markdown",
   "id": "1bf74c28-9df1-46e8-add1-19e87854de85",
   "metadata": {},
   "source": [
    "# 概要\n",
    "\n",
    "遺伝子でない特徴量と遺伝子特徴量を組み合わせてEDAを行う"
   ]
  },
  {
   "cell_type": "code",
   "execution_count": 1,
   "id": "2ce89012-1e68-430a-acc1-0f96fad50a8a",
   "metadata": {},
   "outputs": [],
   "source": [
    "import os\n",
    "\n",
    "import numpy as np\n",
    "import pandas as pd\n",
    "import matplotlib.pyplot as plt\n",
    "import seaborn as sns\n",
    "\n",
    "%matplotlib inline\n",
    "\n",
    "import sweetviz as sv\n",
    "import dtale\n",
    "\n",
    "import config\n",
    "\n",
    "# 最大表示列数の指定（ここでは50列を指定）\n",
    "pd.set_option(\"display.max_columns\", 50)\n",
    "\n",
    "\n",
    "def make_dir(dir_name: str):\n",
    "    if not os.path.exists(dir_name):\n",
    "        os.makedirs(dir_name)"
   ]
  },
  {
   "cell_type": "code",
   "execution_count": null,
   "id": "c22ff337-b6f9-430e-95d1-bee90e4f876b",
   "metadata": {},
   "outputs": [],
   "source": []
  },
  {
   "cell_type": "code",
   "execution_count": null,
   "id": "b136347f-30c7-43ed-968c-0721ac7434dc",
   "metadata": {},
   "outputs": [],
   "source": [
    "df_cna = pd.read_table(config.RAW_BRCA_METABRIC_DIR + \"/data_cna.txt\", index_col=0).T\n",
    "df_cna = df_cna.drop(df_cna.index[0])\n",
    "df_cna.head()"
   ]
  }
 ],
 "metadata": {
  "kernelspec": {
   "display_name": "Python 3 (ipykernel)",
   "language": "python",
   "name": "python3"
  },
  "language_info": {
   "codemirror_mode": {
    "name": "ipython",
    "version": 3
   },
   "file_extension": ".py",
   "mimetype": "text/x-python",
   "name": "python",
   "nbconvert_exporter": "python",
   "pygments_lexer": "ipython3",
   "version": "3.8.13"
  }
 },
 "nbformat": 4,
 "nbformat_minor": 5
}
