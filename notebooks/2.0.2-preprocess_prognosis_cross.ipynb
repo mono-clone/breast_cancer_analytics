{
 "cells": [
  {
   "cell_type": "code",
   "execution_count": 1,
   "id": "2d992235-d9ef-4a88-a47e-2ed687ece7f1",
   "metadata": {},
   "outputs": [],
   "source": [
    "import os\n",
    "import random\n",
    "import itertools\n",
    "import re\n",
    "\n",
    "# 基本的なライブラリ\n",
    "import numpy as np\n",
    "import pandas as pd\n",
    "import scipy as sp\n",
    "from scipy import stats\n",
    "\n",
    "# 描画ライブラリ\n",
    "import matplotlib.pyplot as plt\n",
    "import seaborn as sns\n",
    "from seaborn_analyzer import CustomPairPlot\n",
    "import graphviz\n",
    "import pydotplus\n",
    "from IPython.display import Image\n",
    "from IPython.display import HTML\n",
    "from six import StringIO\n",
    "from ipywidgets import interact, FloatSlider\n",
    "\n",
    "# 前処理\n",
    "from sklearn.preprocessing import StandardScaler, MinMaxScaler\n",
    "from imblearn.over_sampling import SMOTE\n",
    "from sklearn.feature_selection import VarianceThreshold\n",
    "\n",
    "# 補完\n",
    "from sklearn.experimental import (\n",
    "    enable_iterative_imputer,\n",
    ")  # IterativeImputerをimportするために必要\n",
    "from sklearn.impute import SimpleImputer, IterativeImputer, KNNImputer\n",
    "\n",
    "# エンコード\n",
    "from sklearn.preprocessing import OneHotEncoder, LabelEncoder, OrdinalEncoder\n",
    "\n",
    "# データセット分割\n",
    "from sklearn.model_selection import (\n",
    "    train_test_split,\n",
    "    StratifiedKFold,\n",
    "    ShuffleSplit,\n",
    "    StratifiedShuffleSplit,\n",
    "    KFold,\n",
    ")\n",
    "\n",
    "# 特徴量選択\n",
    "from sklearn.feature_selection import (\n",
    "    GenericUnivariateSelect,\n",
    "    f_classif,\n",
    "    mutual_info_classif,\n",
    "    chi2,\n",
    ")\n",
    "from boruta import BorutaPy\n",
    "\n",
    "# https://github.com/smazzanti/mrmr\n",
    "# pipでinstallはできたが、そのままimportできなかったので、\n",
    "# ライブラリのソースコードをそのまま環境に設置\n",
    "from libraries.mrmr import mrmr\n",
    "\n",
    "# 学習中\n",
    "from tqdm import tqdm\n",
    "from sklearn.model_selection import learning_curve\n",
    "from sklearn.metrics import roc_auc_score\n",
    "from sklearn.metrics import accuracy_score, precision_score, recall_score, f1_score\n",
    "from sklearn.metrics import confusion_matrix, ConfusionMatrixDisplay\n",
    "\n",
    "import warnings\n",
    "\n",
    "import networkx as nx\n",
    "\n",
    "\n",
    "# config python file\n",
    "import config\n",
    "\n",
    "SEED = config.SEED\n",
    "INDEX_MICROARRAY = config.INDEX_MICROARRAY\n",
    "\n",
    "from functions import *\n",
    "\n",
    "fix_seed(SEED)\n",
    "\n",
    "\n",
    "# 最大表示列数の指定（ここでは50列を指定）N\n",
    "pd.set_option(\"display.max_columns\", 50)\n",
    "pd.set_option(\"display.max_rows\", 50)\n",
    "\n",
    "%matplotlib inline"
   ]
  },
  {
   "cell_type": "markdown",
   "id": "7a4f3876-4e08-4789-b490-53a0f6e2a69e",
   "metadata": {
    "tags": []
   },
   "source": [
    "# データ読み込み\n"
   ]
  },
  {
   "cell_type": "markdown",
   "id": "215829a7-dc36-470f-b259-4b76ffcb0e7f",
   "metadata": {
    "tags": []
   },
   "source": [
    "## 生データの読み込み"
   ]
  },
  {
   "cell_type": "code",
   "execution_count": 2,
   "id": "64a0240b-49d3-4749-b63e-3c4970f7c070",
   "metadata": {},
   "outputs": [],
   "source": [
    "df_patient = pd.read_table(\n",
    "    config.RAW_BRCA_METABRIC_DIR + \"/data_clinical_patient.txt\", header=4\n",
    ")\n",
    "df_sample = pd.read_table(\n",
    "    config.RAW_BRCA_METABRIC_DIR + \"/data_clinical_sample.txt\", header=4\n",
    ")"
   ]
  },
  {
   "cell_type": "code",
   "execution_count": 3,
   "id": "895d3164-5064-49a8-b19b-aa49215bcc08",
   "metadata": {
    "tags": []
   },
   "outputs": [],
   "source": [
    "df_clinical = pd.merge(df_patient, df_sample, on=\"PATIENT_ID\")"
   ]
  },
  {
   "cell_type": "markdown",
   "id": "cdf463e4-d588-43ff-8976-b3b329db3e7d",
   "metadata": {
    "tags": []
   },
   "source": [
    "## カラムの順序変更（読みやすさのため）"
   ]
  },
  {
   "cell_type": "code",
   "execution_count": 4,
   "id": "b4e4003e-90de-45c4-a920-98d2fa37a33a",
   "metadata": {},
   "outputs": [],
   "source": [
    "def align_columns(df: pd.DataFrame, regex: str):\n",
    "    # まとめたいcolumnの正規表現を一時退避\n",
    "    df_copy = df.copy()\n",
    "    df_tmp = df_copy.filter(regex=regex)\n",
    "    # 元のdfから落とす\n",
    "    df_copy.drop(df_tmp.columns, axis=1, inplace=True)\n",
    "    # 元のdfに結合\n",
    "    return pd.merge(df_copy, df_tmp, right_index=True, left_index=True)"
   ]
  },
  {
   "cell_type": "code",
   "execution_count": 5,
   "id": "ac939ecc-0531-4099-b8f1-4ddd6675ba11",
   "metadata": {
    "tags": []
   },
   "outputs": [],
   "source": [
    "# 癌の種類\n",
    "df_clinical = align_columns(df_clinical, \"^CANCER_\")\n",
    "# 重要そう（直感）な特徴量\n",
    "df_clinical = align_columns(df_clinical, \"^ER_|^HER2_|^TUMOR_\")\n",
    "# 治療の種類\n",
    "df_clinical = align_columns(df_clinical, \".*THERAPY$|^BREAST_SURGERY\")\n",
    "# target系の種類（OS, RFS, VITAL）\n",
    "df_clinical = align_columns(df_clinical, \"^OS_.*|^RFS_.*|^VITAL_.*\")"
   ]
  },
  {
   "cell_type": "code",
   "execution_count": 6,
   "id": "7fb342c3-9937-4497-86c0-68e9abcdeef7",
   "metadata": {},
   "outputs": [],
   "source": [
    "# データを大きく2つに分割できるので、ここで分割\n",
    "df_MB = df_clinical[df_clinical[\"PATIENT_ID\"].str.contains(\"MB\")]\n",
    "df_MTST = df_clinical[df_clinical[\"PATIENT_ID\"].str.contains(\"MTS-T\")]\n",
    "df_MB.shape, df_MTST.shape\n",
    "\n",
    "# save\n",
    "make_dir(config.INTERIM_PREPROCESSED_PROGNOSIS_CROSS_DIR)\n",
    "df_MB.to_pickle(config.INTERIM_PREPROCESSED_PROGNOSIS_CROSS_DIR + \"/df_MB.pkl\")"
   ]
  },
  {
   "cell_type": "markdown",
   "id": "10162136-c15f-4bf8-9397-81b4bd243e80",
   "metadata": {
    "tags": []
   },
   "source": [
    "## 遺伝子データの読み込み"
   ]
  },
  {
   "cell_type": "code",
   "execution_count": 7,
   "id": "7c796d78-3401-4f49-9898-a21ca955714d",
   "metadata": {},
   "outputs": [],
   "source": [
    "# 遺伝子発現データ\n",
    "# 生の遺伝子発現データ\n",
    "df_mrna_agilent_microarray = pd.read_table(\n",
    "    config.RAW_BRCA_METABRIC_DIR + \"/data_mrna_agilent_microarray.txt\", index_col=0\n",
    ").T\n",
    "df_mrna_agilent_microarray = df_mrna_agilent_microarray.drop(\n",
    "    \"Entrez_Gene_Id\"\n",
    ").sort_index()\n",
    "# zスコア化済み\n",
    "df_mrna_agilent_microarray_zscores_ref_all_samples = pd.read_table(\n",
    "    config.RAW_BRCA_METABRIC_DIR\n",
    "    + \"/data_mrna_agilent_microarray_zscores_ref_all_samples.txt\",\n",
    "    index_col=0,\n",
    ").T\n",
    "df_mrna_agilent_microarray_zscores_ref_all_samples = (\n",
    "    df_mrna_agilent_microarray_zscores_ref_all_samples.drop(\"Entrez_Gene_Id\")\n",
    ").sort_index()\n",
    "# zスコア化（2倍体基準）済み\n",
    "df_mrna_agilent_microarray_zscores_ref_diploid_samples = pd.read_table(\n",
    "    config.RAW_BRCA_METABRIC_DIR\n",
    "    + \"/data_mrna_agilent_microarray_zscores_ref_diploid_samples.txt\",\n",
    "    index_col=0,\n",
    ").T\n",
    "df_mrna_agilent_microarray_zscores_ref_diploid_samples = (\n",
    "    df_mrna_agilent_microarray_zscores_ref_diploid_samples.drop(\"Entrez_Gene_Id\")\n",
    ").sort_index()\n",
    "\n",
    "\n",
    "# important to decide X_dict name\n",
    "SET_DF_MICROARRAY = (\n",
    "    df_mrna_agilent_microarray,\n",
    "    df_mrna_agilent_microarray_zscores_ref_all_samples,\n",
    "    df_mrna_agilent_microarray_zscores_ref_diploid_samples,\n",
    ")"
   ]
  },
  {
   "cell_type": "markdown",
   "id": "5672cf34-e1bd-4979-9bf1-4e3c70bdd601",
   "metadata": {
    "tags": []
   },
   "source": [
    "# 目的変数の生成\n",
    "\n",
    "元のdfにはない目的変数カラム（5年後の生存の有無）を生成する。"
   ]
  },
  {
   "cell_type": "markdown",
   "id": "1a745564-6542-4fca-b332-263b641da3d2",
   "metadata": {
    "jp-MarkdownHeadingCollapsed": true,
    "tags": []
   },
   "source": [
    "## 目的変数｜5,10,15年後の予後の2値分類\n",
    "5,10,15年後の予後を2値分類する。  \n",
    "そのためにVITAL_STATUSとOS_MONTHを利用する。  \n",
    "以下のフローチャートで生成する。  "
   ]
  },
  {
   "cell_type": "code",
   "execution_count": 8,
   "id": "77e8b2fe-83eb-4bc9-a46f-f4f5241bb972",
   "metadata": {
    "tags": []
   },
   "outputs": [
    {
     "data": {
      "text/html": [
       "<div class=\"mxgraph\" style=\"max-width:100%;border:1px solid transparent;\" data-mxgraph=\"{&quot;highlight&quot;:&quot;#0000ff&quot;,&quot;nav&quot;:true,&quot;resize&quot;:true,&quot;toolbar&quot;:&quot;zoom layers tags lightbox&quot;,&quot;edit&quot;:&quot;_blank&quot;,&quot;xml&quot;:&quot;&lt;mxfile host=\\&quot;Electron\\&quot; modified=\\&quot;2022-05-01T07:33:42.0.405Z\\&quot; agent=\\&quot;5.0 (Macintosh; Intel Mac OS X 10_15_7) AppleWebKit/537.36 (KHTML, like Gecko) draw.io/17.2.0.2 Chrome/100.0.4896.60 Electron/18.0.1 Safari/537.36\\&quot; etag=\\&quot;CUa6MuG2A-EYqdbBh0ys\\&quot; version=\\&quot;17.2.0.2\\&quot; type=\\&quot;device\\&quot;&gt;&lt;diagram id=\\&quot;C5RBs43oDa-KdzZeNtuy\\&quot; name=\\&quot;Page-1\\&quot;&gt;7VhZc5swEP41TJ7a4Yix/RjbcZI2SduBJNOnjAIyqBasK4SP/vpKQTIQXB9tncMTP3jYZVlJ+317gOH0k/kZQ5P4CkJMDdsM54YzMGy7ZZniXyoWhcLtOoUiYiQsVFap8MgvrJTquSgnIc5qhhyAcjKpKwNIUxzwmg4xBrO62QhofdUJinBD4QWINrV3JORxoe3Y7VJ/jkkU65Utt1vcSZA2VifJYhTCrKJyTg2nzwB4cZXM+5jK2Om43F0s7ujl2D379C37iW56n/3r2w+Fs+EujyyPwHDK/69ru3A9RTRX8VJn5QsdQAZ5GmLpxDScXswTKi4tcfkDc75QgKOcg1AB4zFEkCJ6CTBRdiNIuTKzpIzT8EQCK+QHCsG4UA0JpWoNISn7jpAyzmC8xE46WAIhjSl6wLSHgnH0uNE+UGDiVgoplq5CQQZ1lnJzp6W2t2VsFQYZ5CzAa+xUcnDEIrzOn1vYyf1VeKqQO8OQYM4WwoBhijiZ1smMVE5ES7sSd3GhoN+BBk6DBuHIaPVuL/yTy3vPP/FvPMMWrs0v3v3Vl2v/3DNagzVMkSjNYsKxN0GP4ZqJ2lJnT5UV4uC9iKIsU5hugHw3yKaYcTxfG2R911WZrkpdR4mzsm5YuhjElZpxbO4JluMGLN9FKX1P0H9JUHfLBNX9a2OGKrJoYmydsMrTVyDiXKUJjEaZ2NhT6iwX/Hs2tRpsuoYGmTbj8abp9kJkau/GJevVc8ltcKnsDDITXJTIek+5jLm8b+raWi1cMSQPeba5V9QAlvQZooRQGaxzTKeYkwCt6CiIkigVQiCwxmw1c8SSJI2E5JaS/8hUUXz32Gna9U6zlKutxlzRajr7ajXt1ROAYrZs9maB4xDRDB9c63fsJ4B0X7r3d7ap1m+6Fj9769dldXPvt7as14o95kdH/GoEev3jQHer4fJ9HtgPw+xDmwj0Dit8qr8+qv5xNCCCLLYJI/E3IBlGGT56Hw3+OBrYqzrRs44GuhpWZwMmAnFoM8DT1/9j56VnAF0lNk9lPssPfyhzrP0BIsTyS25RE8vP4c7pbw==&lt;/diagram&gt;&lt;/mxfile&gt;&quot;}\"></div><script type=\"text/javascript\" src=\"https://viewer.diagrams.net/js/viewer-static.min.js\"></script>"
      ],
      "text/plain": [
       "<IPython.core.display.HTML object>"
      ]
     },
     "execution_count": 8,
     "metadata": {},
     "output_type": "execute_result"
    }
   ],
   "source": [
    "HTML(\n",
    "    '<div class=\"mxgraph\" style=\"max-width:100%;border:1px solid transparent;\" data-mxgraph=\"{&quot;highlight&quot;:&quot;#0000ff&quot;,&quot;nav&quot;:true,&quot;resize&quot;:true,&quot;toolbar&quot;:&quot;zoom layers tags lightbox&quot;,&quot;edit&quot;:&quot;_blank&quot;,&quot;xml&quot;:&quot;&lt;mxfile host=\\&quot;Electron\\&quot; modified=\\&quot;2022-05-01T07:33:42.0.405Z\\&quot; agent=\\&quot;5.0 (Macintosh; Intel Mac OS X 10_15_7) AppleWebKit/537.36 (KHTML, like Gecko) draw.io/17.2.0.2 Chrome/100.0.4896.60 Electron/18.0.1 Safari/537.36\\&quot; etag=\\&quot;CUa6MuG2A-EYqdbBh0ys\\&quot; version=\\&quot;17.2.0.2\\&quot; type=\\&quot;device\\&quot;&gt;&lt;diagram id=\\&quot;C5RBs43oDa-KdzZeNtuy\\&quot; name=\\&quot;Page-1\\&quot;&gt;7VhZc5swEP41TJ7a4Yix/RjbcZI2SduBJNOnjAIyqBasK4SP/vpKQTIQXB9tncMTP3jYZVlJ+317gOH0k/kZQ5P4CkJMDdsM54YzMGy7ZZniXyoWhcLtOoUiYiQsVFap8MgvrJTquSgnIc5qhhyAcjKpKwNIUxzwmg4xBrO62QhofdUJinBD4QWINrV3JORxoe3Y7VJ/jkkU65Utt1vcSZA2VifJYhTCrKJyTg2nzwB4cZXM+5jK2Om43F0s7ujl2D379C37iW56n/3r2w+Fs+EujyyPwHDK/69ru3A9RTRX8VJn5QsdQAZ5GmLpxDScXswTKi4tcfkDc75QgKOcg1AB4zFEkCJ6CTBRdiNIuTKzpIzT8EQCK+QHCsG4UA0JpWoNISn7jpAyzmC8xE46WAIhjSl6wLSHgnH0uNE+UGDiVgoplq5CQQZ1lnJzp6W2t2VsFQYZ5CzAa+xUcnDEIrzOn1vYyf1VeKqQO8OQYM4WwoBhijiZ1smMVE5ES7sSd3GhoN+BBk6DBuHIaPVuL/yTy3vPP/FvPMMWrs0v3v3Vl2v/3DNagzVMkSjNYsKxN0GP4ZqJ2lJnT5UV4uC9iKIsU5hugHw3yKaYcTxfG2R911WZrkpdR4mzsm5YuhjElZpxbO4JluMGLN9FKX1P0H9JUHfLBNX9a2OGKrJoYmydsMrTVyDiXKUJjEaZ2NhT6iwX/Hs2tRpsuoYGmTbj8abp9kJkau/GJevVc8ltcKnsDDITXJTIek+5jLm8b+raWi1cMSQPeba5V9QAlvQZooRQGaxzTKeYkwCt6CiIkigVQiCwxmw1c8SSJI2E5JaS/8hUUXz32Gna9U6zlKutxlzRajr7ajXt1ROAYrZs9maB4xDRDB9c63fsJ4B0X7r3d7ap1m+6Fj9769dldXPvt7as14o95kdH/GoEev3jQHer4fJ9HtgPw+xDmwj0Dit8qr8+qv5xNCCCLLYJI/E3IBlGGT56Hw3+OBrYqzrRs44GuhpWZwMmAnFoM8DT1/9j56VnAF0lNk9lPssPfyhzrP0BIsTyS25RE8vP4c7pbw==&lt;/diagram&gt;&lt;/mxfile&gt;&quot;}\"></div><script type=\"text/javascript\" src=\"https://viewer.diagrams.net/js/viewer-static.min.js\"></script>'\n",
    ")"
   ]
  },
  {
   "cell_type": "code",
   "execution_count": 9,
   "id": "c35a45aa-0f15-4c07-908d-377408cc764d",
   "metadata": {},
   "outputs": [],
   "source": [
    "def make_target(df: pd.DataFrame(), year: int = 5, drop=False):\n",
    "    df = df.copy()  # 引数dfの更新を防ぐ（pythonの関数は参照渡し）\n",
    "    target_name = \"OS_{0}years\".format(str(year).zfill(2))\n",
    "    df[target_name] = np.nan\n",
    "    df[target_name] = df[target_name].mask(df[\"OS_MONTHS\"] > year * 12, False)\n",
    "    df[target_name] = df[target_name].mask(\n",
    "        (df[\"OS_MONTHS\"] <= year * 12) & (df[\"VITAL_STATUS\"] == \"Died of Disease\"),\n",
    "        True,\n",
    "    )\n",
    "    # targetを定義できなかったデータは除く\n",
    "    if drop:\n",
    "        df = df[df[target_name].notnull()]\n",
    "    return df"
   ]
  },
  {
   "cell_type": "code",
   "execution_count": 10,
   "id": "0d0c7b88-102e-4212-8cad-5721fd7f4cab",
   "metadata": {},
   "outputs": [],
   "source": [
    "df_MB = make_target(df_MB, year=5)\n",
    "df_MB = make_target(df_MB, year=10)\n",
    "df_MB = make_target(df_MB, year=15)\n",
    "target_list = [\"OS_05years\", \"OS_10years\", \"OS_15years\"]"
   ]
  },
  {
   "cell_type": "markdown",
   "id": "0e96d0f5-c5be-4815-b928-b4a4da1026c7",
   "metadata": {
    "tags": []
   },
   "source": [
    "# データフレームの結合\n",
    "\n",
    "臨床データと遺伝子データを結合する  \n",
    "結合パターン\n",
    "1. 臨床データと生の遺伝子発現データ\n",
    "2. 臨床データとzスコア化した遺伝子発現データ\n",
    "3. 臨床データとzスコア化（2倍体）した遺伝子発現データ\n"
   ]
  },
  {
   "cell_type": "markdown",
   "id": "973aaf03-44f5-4ab3-875e-0cc8d5ceedfb",
   "metadata": {
    "tags": []
   },
   "source": [
    "## データフレームの結合\n",
    "### 使用する特徴量\n",
    "\n",
    "臨床データ\n",
    "- 目的変数：OS_nyears\n",
    "- 遺伝子学的特徴量：CLAUDIN_SUBTYPE\n",
    "- その他重要そうな特徴量：NPI（3.0.0のSHAPで重要度高）、ER_STATUS, HER2_STATUS, PR_STATUS（ドメイン知識）\n",
    "\n",
    "遺伝子発現データ\n",
    "- 全ての遺伝子発現"
   ]
  },
  {
   "cell_type": "code",
   "execution_count": 11,
   "id": "edb3b0e5-82ca-4e64-a853-c0d501484fc6",
   "metadata": {},
   "outputs": [
    {
     "data": {
      "text/plain": [
       "Index(['PATIENT_ID', 'LYMPH_NODES_EXAMINED_POSITIVE', 'NPI', 'CELLULARITY',\n",
       "       'COHORT', 'INFERRED_MENOPAUSAL_STATE', 'SEX', 'INTCLUST',\n",
       "       'AGE_AT_DIAGNOSIS', 'CLAUDIN_SUBTYPE', 'THREEGENE', 'LATERALITY',\n",
       "       'HISTOLOGICAL_SUBTYPE', 'SAMPLE_ID', 'GRADE', 'ONCOTREE_CODE',\n",
       "       'PR_STATUS', 'SAMPLE_TYPE', 'TMB_NONSYNONYMOUS', 'CANCER_TYPE',\n",
       "       'CANCER_TYPE_DETAILED', 'ER_IHC', 'HER2_SNP6', 'ER_STATUS',\n",
       "       'HER2_STATUS', 'TUMOR_SIZE', 'TUMOR_STAGE', 'CHEMOTHERAPY',\n",
       "       'HORMONE_THERAPY', 'RADIO_THERAPY', 'BREAST_SURGERY', 'OS_MONTHS',\n",
       "       'OS_STATUS', 'VITAL_STATUS', 'RFS_STATUS', 'RFS_MONTHS', 'OS_05years',\n",
       "       'OS_10years', 'OS_15years'],\n",
       "      dtype='object')"
      ]
     },
     "execution_count": 11,
     "metadata": {},
     "output_type": "execute_result"
    }
   ],
   "source": [
    "df_MB.columns"
   ]
  },
  {
   "cell_type": "code",
   "execution_count": 12,
   "id": "a0eac703-e1aa-442c-aa0a-f49f03322a48",
   "metadata": {},
   "outputs": [],
   "source": [
    "# 結合する臨床データ\n",
    "patient_columns = [\n",
    "    \"PATIENT_ID\",\n",
    "    \"OS_05years\",\n",
    "    \"OS_10years\",\n",
    "    \"OS_15years\",\n",
    "    \"CLAUDIN_SUBTYPE\",\n",
    "    # \"NPI\",\n",
    "    # \"ER_STATUS\",\n",
    "    # \"HER2_STATUS\",\n",
    "    # \"PR_STATUS\",\n",
    "    # \"LYMPH_NODES_EXAMINED_POSITIVE\",\n",
    "    # \"COHORT\",\n",
    "    # \"TUMOR_SIZE\",\n",
    "]"
   ]
  },
  {
   "cell_type": "code",
   "execution_count": 13,
   "id": "da9d1427-d6c0-4e71-96aa-b1962cc39f48",
   "metadata": {},
   "outputs": [
    {
     "name": "stdout",
     "output_type": "stream",
     "text": [
      "臨床データサイズ： (1980, 5)\n",
      "(1904, 24373)\n"
     ]
    }
   ],
   "source": [
    "# 臨床データ特徴量の欠損値の削除\n",
    "df_tmp = df_MB[\n",
    "    df_MB[\n",
    "        [\n",
    "            \"CLAUDIN_SUBTYPE\",\n",
    "            # \"NPI\",\n",
    "            # \"ER_STATUS\",\n",
    "            # \"HER2_STATUS\",\n",
    "            # \"PR_STATUS\",\n",
    "            # \"LYMPH_NODES_EXAMINED_POSITIVE\",\n",
    "            # \"COHORT\",\n",
    "            # \"TUMOR_SIZE\",\n",
    "        ]\n",
    "    ]\n",
    "    .notnull()\n",
    "    .all(axis=1)\n",
    "][patient_columns].replace({\"Positive\": 1, \"Negative\": 0})\n",
    "print(\"臨床データサイズ：\", df_tmp.shape)\n",
    "\n",
    "df_cross = pd.merge(\n",
    "    df_tmp,\n",
    "    # df_mrna_agilent_microarray,\n",
    "    SET_DF_MICROARRAY[INDEX_MICROARRAY],\n",
    "    # df_mrna_agilent_microarray_zscores_ref_diploid_samples\n",
    "    left_on=\"PATIENT_ID\",\n",
    "    right_index=True,\n",
    "    how=\"right\",\n",
    ").reset_index(drop=True)\n",
    "print(df_cross.shape)"
   ]
  },
  {
   "cell_type": "markdown",
   "id": "f1e5c290-8406-4b67-b1f5-d3477b79bfe4",
   "metadata": {
    "tags": []
   },
   "source": [
    " ### 重複カラムのリネーム\n",
    "有識者の意見：重複した遺伝子発現は別の遺伝子発現として扱うべき。\n"
   ]
  },
  {
   "cell_type": "code",
   "execution_count": 14,
   "id": "a584bce7-5294-4993-8574-8356cb27cbf4",
   "metadata": {},
   "outputs": [
    {
     "name": "stdout",
     "output_type": "stream",
     "text": [
      "重複特徴量\n",
      "TRDV2        6\n",
      "RPL13A       5\n",
      "IL23A        4\n",
      "WASH3P       3\n",
      "LINC00965    2\n",
      "            ..\n",
      "CLK2         1\n",
      "TNRC18       1\n",
      "KPNA2        1\n",
      "RPL4         1\n",
      "C4orf50      1\n",
      "Length: 170, dtype: int64\n",
      "重複特徴量（rename後確認）\n",
      "Series([], dtype: int64)\n"
     ]
    }
   ],
   "source": [
    "# 重複特徴量の確認\n",
    "print(\"重複特徴量\")\n",
    "print(df_cross.columns[df_cross.columns.duplicated()].value_counts())\n",
    "# 重複特徴量のrename\n",
    "df_cross = rename_duplicated_columns(df_cross)\n",
    "# 重複特徴量の確認\n",
    "print(\"重複特徴量（rename後確認）\")\n",
    "print(df_cross.columns[df_cross.columns.duplicated()].value_counts())"
   ]
  },
  {
   "cell_type": "markdown",
   "id": "3b4d822c-917d-4ab4-a367-35e33d10bea0",
   "metadata": {
    "jp-MarkdownHeadingCollapsed": true,
    "tags": []
   },
   "source": [
    "# 欠損値データの処理"
   ]
  },
  {
   "cell_type": "markdown",
   "id": "59c5fdad-96ed-42a6-bda9-4a93301b58a5",
   "metadata": {
    "tags": []
   },
   "source": [
    "### OS_05yearsが欠損しているデータの削除"
   ]
  },
  {
   "cell_type": "code",
   "execution_count": 15,
   "id": "1c815d43-3052-4073-8b5e-5d7a8c71e255",
   "metadata": {},
   "outputs": [
    {
     "data": {
      "text/plain": [
       "(1757, 24373)"
      ]
     },
     "execution_count": 15,
     "metadata": {},
     "output_type": "execute_result"
    }
   ],
   "source": [
    "df_cross = df_cross[df_cross[\"OS_05years\"].notnull()]\n",
    "df_cross.shape"
   ]
  },
  {
   "cell_type": "markdown",
   "id": "30374dda-6529-47d3-969a-ed351a9ffba1",
   "metadata": {
    "tags": []
   },
   "source": [
    "### 遺伝子発現の欠損値の確認"
   ]
  },
  {
   "cell_type": "code",
   "execution_count": 16,
   "id": "58c002b9-cca4-4dbb-b812-3e32cdf89ebd",
   "metadata": {},
   "outputs": [
    {
     "data": {
      "text/plain": [
       "<AxesSubplot:>"
      ]
     },
     "execution_count": 16,
     "metadata": {},
     "output_type": "execute_result"
    },
    {
     "data": {
      "image/png": "[encoded data removed]",
      "text/plain": [
       "<Figure size 432x288 with 1 Axes>"
      ]
     },
     "metadata": {
      "needs_background": "light"
     },
     "output_type": "display_data"
    }
   ],
   "source": [
    "series_genes = df_cross.isnull().sum().sort_values()[::-1]\n",
    "series_genes.plot()"
   ]
  },
  {
   "cell_type": "markdown",
   "id": "04ea0a4a-421e-4070-bde2-98f48a2f97d1",
   "metadata": {},
   "source": [
    "for some microarray, some gene expressions contains many nan, some gene expressions aontains a few nan"
   ]
  },
  {
   "cell_type": "markdown",
   "id": "c58de956-bd35-451a-97ee-65c4db982ac8",
   "metadata": {},
   "source": [
    "### drop cols including many nans"
   ]
  },
  {
   "cell_type": "code",
   "execution_count": 17,
   "id": "16ae3b2a-a326-425b-bf8a-882a39f0e04e",
   "metadata": {
    "tags": []
   },
   "outputs": [],
   "source": [
    "drop_cols_high = series_genes[\n",
    "    series_genes.values > 1000\n",
    "].index  # select genes expression name\n",
    "df_cross = df_cross.drop(drop_cols_high, axis=1)"
   ]
  },
  {
   "cell_type": "markdown",
   "id": "6bcd2a9f-bfff-4a5a-b15a-0f21742f3243",
   "metadata": {},
   "source": [
    "### drop rows including many nans"
   ]
  },
  {
   "cell_type": "code",
   "execution_count": 18,
   "id": "738373eb-b8dc-471e-be2e-248244407d8c",
   "metadata": {},
   "outputs": [
    {
     "data": {
      "text/plain": [
       "[None, None, None, None, None]"
      ]
     },
     "execution_count": 18,
     "metadata": {},
     "output_type": "execute_result"
    }
   ],
   "source": [
    "genes_cols = df_cross.columns.tolist()\n",
    "[genes_cols.remove(i) for i in patient_columns]"
   ]
  },
  {
   "cell_type": "code",
   "execution_count": 19,
   "id": "b43e36ce-a111-494b-a677-76ec1cc5599e",
   "metadata": {},
   "outputs": [
    {
     "data": {
      "text/plain": [
       "(1748, 24373)"
      ]
     },
     "execution_count": 19,
     "metadata": {},
     "output_type": "execute_result"
    }
   ],
   "source": [
    "series_tmp = df_cross[genes_cols].isnull().sum()\n",
    "drop_cols_row = series_tmp[series_tmp.values > 0].index\n",
    "\n",
    "for c in drop_cols_row:\n",
    "    df_cross = df_cross[df_cross[c].notnull()]\n",
    "df_cross.shape"
   ]
  },
  {
   "cell_type": "markdown",
   "id": "eceb9d01-943a-4ee0-8b95-2bd3c7ed1e1b",
   "metadata": {
    "tags": []
   },
   "source": [
    "# 統計的性質の確認\n",
    "\n",
    "各遺伝子発現が、統計的手法を適用する前提の性質を兼ねているのかを確認する\n",
    "\n",
    "## 確認要素\n",
    "- 特徴量毎の分散\n",
    "- それぞれの特徴量が独立\n",
    "- それぞれの特徴量の母集団の分布が正規分布\n",
    "- それぞれの特徴量の母集団の分布の分散が全て等しい"
   ]
  },
  {
   "cell_type": "markdown",
   "id": "fc3b9e7b-a113-4df0-860e-d6044331639b",
   "metadata": {
    "jp-MarkdownHeadingCollapsed": true,
    "tags": []
   },
   "source": [
    "## 分散の確認"
   ]
  },
  {
   "cell_type": "code",
   "execution_count": 20,
   "id": "fb584d3d-96a5-4aed-91e6-0d103b3eefcc",
   "metadata": {},
   "outputs": [
    {
     "name": "stdout",
     "output_type": "stream",
     "text": [
      "Before Feature Selection: (1748, 24368)\n",
      "After Feature Selection: (1748, 24368)\n"
     ]
    },
    {
     "data": {
      "text/html": [
       "<div>\n",
       "<style scoped>\n",
       "    .dataframe tbody tr th:only-of-type {\n",
       "        vertical-align: middle;\n",
       "    }\n",
       "\n",
       "    .dataframe tbody tr th {\n",
       "        vertical-align: top;\n",
       "    }\n",
       "\n",
       "    .dataframe thead th {\n",
       "        text-align: right;\n",
       "    }\n",
       "</style>\n",
       "<table border=\"1\" class=\"dataframe\">\n",
       "  <thead>\n",
       "    <tr style=\"text-align: right;\">\n",
       "      <th></th>\n",
       "      <th>False: dropped</th>\n",
       "      <th>variance</th>\n",
       "    </tr>\n",
       "  </thead>\n",
       "  <tbody>\n",
       "    <tr>\n",
       "      <th>MAEL</th>\n",
       "      <td>True</td>\n",
       "      <td>1.071089</td>\n",
       "    </tr>\n",
       "    <tr>\n",
       "      <th>GPR12</th>\n",
       "      <td>True</td>\n",
       "      <td>1.065328</td>\n",
       "    </tr>\n",
       "    <tr>\n",
       "      <th>CR741512</th>\n",
       "      <td>True</td>\n",
       "      <td>1.064612</td>\n",
       "    </tr>\n",
       "    <tr>\n",
       "      <th>NOL4</th>\n",
       "      <td>True</td>\n",
       "      <td>1.062551</td>\n",
       "    </tr>\n",
       "    <tr>\n",
       "      <th>SEZ6L</th>\n",
       "      <td>True</td>\n",
       "      <td>1.061266</td>\n",
       "    </tr>\n",
       "  </tbody>\n",
       "</table>\n",
       "</div>"
      ],
      "text/plain": [
       "          False: dropped  variance\n",
       "MAEL                True  1.071089\n",
       "GPR12               True  1.065328\n",
       "CR741512            True  1.064612\n",
       "NOL4                True  1.062551\n",
       "SEZ6L               True  1.061266"
      ]
     },
     "metadata": {},
     "output_type": "display_data"
    },
    {
     "data": {
      "text/html": [
       "<div>\n",
       "<style scoped>\n",
       "    .dataframe tbody tr th:only-of-type {\n",
       "        vertical-align: middle;\n",
       "    }\n",
       "\n",
       "    .dataframe tbody tr th {\n",
       "        vertical-align: top;\n",
       "    }\n",
       "\n",
       "    .dataframe thead th {\n",
       "        text-align: right;\n",
       "    }\n",
       "</style>\n",
       "<table border=\"1\" class=\"dataframe\">\n",
       "  <thead>\n",
       "    <tr style=\"text-align: right;\">\n",
       "      <th></th>\n",
       "      <th>False: dropped</th>\n",
       "      <th>variance</th>\n",
       "    </tr>\n",
       "  </thead>\n",
       "  <tbody>\n",
       "  </tbody>\n",
       "</table>\n",
       "</div>"
      ],
      "text/plain": [
       "Empty DataFrame\n",
       "Columns: [False: dropped, variance]\n",
       "Index: []"
      ]
     },
     "metadata": {},
     "output_type": "display_data"
    }
   ],
   "source": [
    "sel = VarianceThreshold(threshold=0.8 * (1 - 0.8))\n",
    "df_dropped_tmp = df_cross.drop(patient_columns, axis=1)\n",
    "sel.fit_transform(df_dropped_tmp)\n",
    "\n",
    "\n",
    "df_tmp = pd.DataFrame(\n",
    "    sel.fit_transform(df_dropped_tmp),\n",
    "    columns=df_dropped_tmp.columns.values[sel.get_support()],\n",
    ")\n",
    "print(\n",
    "    \"Before Feature Selection:\",\n",
    "    df_dropped_tmp.shape,\n",
    ")\n",
    "print(\"After Feature Selection:\", df_tmp.shape)\n",
    "\n",
    "result = pd.DataFrame(\n",
    "    sel.get_support(),\n",
    "    index=df_dropped_tmp.columns.values,\n",
    "    columns=[\"False: dropped\"],\n",
    ")\n",
    "result[\"variance\"] = sel.variances_\n",
    "display(result.sort_values(\"variance\", ascending=False).head())\n",
    "display(\n",
    "    result[result[\"False: dropped\"] == False]\n",
    "    .sort_values(\"variance\", ascending=False)\n",
    "    .tail()\n",
    ")"
   ]
  },
  {
   "cell_type": "markdown",
   "id": "ff8e67a8-dba3-4f7b-93f6-4891363b7082",
   "metadata": {},
   "source": [
    "分散の小さいデータは削除"
   ]
  },
  {
   "cell_type": "code",
   "execution_count": 21,
   "id": "0889449e-d9c9-445a-be4b-8f9d5a2042a1",
   "metadata": {},
   "outputs": [],
   "source": [
    "df_target = df_cross[patient_columns]\n",
    "df_tmp = df_cross[result[result[\"False: dropped\"] == True].index]\n",
    "df_cross = pd.merge(df_target, df_tmp, right_index=True, left_index=True)"
   ]
  },
  {
   "cell_type": "markdown",
   "id": "e773571c-2e09-4dd0-a3c4-683a8d5a3812",
   "metadata": {
    "jp-MarkdownHeadingCollapsed": true,
    "tags": []
   },
   "source": [
    "## 独立性の検定"
   ]
  },
  {
   "cell_type": "markdown",
   "id": "01fef163-a076-49f5-8d15-73e7c791971f",
   "metadata": {
    "tags": []
   },
   "source": [
    "### カイ2乗検定\n",
    "\n",
    "H0: 全ての特徴量が独立である  \n",
    "H1: 全ての特徴量が独立でない"
   ]
  },
  {
   "cell_type": "markdown",
   "id": "b822ae50-1453-4dc3-9b3a-a42106d268a6",
   "metadata": {},
   "source": [
    "特徴量全てを同時に検定"
   ]
  },
  {
   "cell_type": "markdown",
   "id": "ef5cfbf1-bd90-4b5b-819b-3acef30dd6d3",
   "metadata": {},
   "source": [
    "np_tmp = df_cross.drop(patient_columns, axis=1).values\n",
    "\n",
    "result = stats.chi2_contingency(np_tmp)\n",
    "\n",
    "print(\"期待度数\", \"\\n\", result[0])\n",
    "print(\"自由度\", \"\\n\", result[1])\n",
    "print(\"カイ二乗値\", \"\\n\", result[2])\n",
    "print(\"p値\", \"\\n\", result[3])"
   ]
  },
  {
   "cell_type": "markdown",
   "id": "57c570e3-c860-4cf0-99f8-ac45af5e0a1a",
   "metadata": {},
   "source": [
    "特徴量2組毎に検定"
   ]
  },
  {
   "cell_type": "code",
   "execution_count": 22,
   "id": "eeffa4e8-3b6a-464e-9544-900afd109efb",
   "metadata": {},
   "outputs": [],
   "source": [
    "\"\"\"\n",
    "list_columns = df_cross.drop(patient_columns, axis=1).columns\n",
    "\n",
    "comb_columns = list(itertools.combinations(list_columns, 2))\n",
    "\n",
    "\n",
    "for cols in comb_columns:  \n",
    "    np_tmp = df_cross[cols[0]].values\n",
    "\n",
    "    result= stats.chi2_contingency(np_tmp)\n",
    "    if result[3] < 0.05:\n",
    "        print(\"期待度数\", \"\\n\", result[0])\n",
    "        print(\"自由度\", \"\\n\", result[1])\n",
    "        print(\"カイ二乗値\", \"\\n\", result[2])\n",
    "        print(\"p値\", \"\\n\", result[3])\n",
    "\"\"\"\n",
    "pass"
   ]
  },
  {
   "cell_type": "markdown",
   "id": "01c58732-1426-43d5-aca5-c8c24713a7f7",
   "metadata": {},
   "source": [
    "独立でない特徴量の組み合わせも無いことがわかる\n",
    "（実行時間が長いので、コメントアウト）"
   ]
  },
  {
   "cell_type": "markdown",
   "id": "4b02426a-76b4-4025-9d2a-b43c89ac3532",
   "metadata": {
    "jp-MarkdownHeadingCollapsed": true,
    "tags": []
   },
   "source": [
    "## 母集団が正規分布であることの確認"
   ]
  },
  {
   "cell_type": "markdown",
   "id": "ecc0803a-a71c-4863-88de-329092c46556",
   "metadata": {
    "tags": []
   },
   "source": [
    "### QQプロット\n",
    "\n",
    "青い点が赤い線に沿っているほど、データが正規分布に近いことを、直感的に解釈できる  \n",
    "図でしか表さないので、遺伝子発現全てに適用するのは困難そう"
   ]
  },
  {
   "cell_type": "code",
   "execution_count": 23,
   "id": "9b77798b-9226-4edd-96ff-7cca5dd9ffba",
   "metadata": {},
   "outputs": [
    {
     "data": {
      "text/plain": [
       "<function matplotlib.pyplot.show(close=None, block=None)>"
      ]
     },
     "execution_count": 23,
     "metadata": {},
     "output_type": "execute_result"
    },
    {
     "data": {
      "image/png": "[encoded data removed]",
      "text/plain": [
       "<Figure size 432x288 with 1 Axes>"
      ]
     },
     "metadata": {
      "needs_background": "light"
     },
     "output_type": "display_data"
    }
   ],
   "source": [
    "stats.probplot(df_cross[df_cross.columns[-1]], dist=\"norm\", plot=plt)\n",
    "plt.show"
   ]
  },
  {
   "cell_type": "markdown",
   "id": "6ffb36a5-0099-4882-a8dc-69b71d4e8e14",
   "metadata": {
    "tags": []
   },
   "source": [
    "### S-W検定（シャピロ・ウィルク検定）\n",
    "\n",
    "仮説検定でデータの正規性を確認する手法\n",
    "\n",
    "少ないデータ（1000データ以下）に対して行われる検定\n",
    "\n",
    "H0: 正規分布である（標本は正規母集団からサンプリングされたものである）  \n",
    "H1: 正規分布でない"
   ]
  },
  {
   "cell_type": "code",
   "execution_count": 24,
   "id": "c8184166-3ae0-4361-957c-e845b5e1c178",
   "metadata": {
    "tags": []
   },
   "outputs": [
    {
     "name": "stdout",
     "output_type": "stream",
     "text": [
      "num of normal distribution:  1684\n"
     ]
    }
   ],
   "source": [
    "list_columns = df_cross.drop(patient_columns, axis=1).columns\n",
    "\n",
    "p = 0.05  # 有意水準1%\n",
    "dic_sw = dict()\n",
    "for c in list_columns:\n",
    "    result = stats.shapiro(df_cross[c])\n",
    "    if result.pvalue >= p:  # p>=0.05の時、帰無仮説を棄却できず、正規分布とみなす、らしい\n",
    "        dic_sw[c] = result\n",
    "        # print(c)\n",
    "        # plt.hist(df_cross[c], bins=50)\n",
    "        # plt.title(c)\n",
    "        # plt.show()\n",
    "print(\"num of normal distribution: \", len(dic_sw))"
   ]
  },
  {
   "cell_type": "markdown",
   "id": "05cb8a54-19e2-4806-9fcb-5b93f006986d",
   "metadata": {
    "tags": []
   },
   "source": [
    "## 母集団の分散が全て等しいことの検定"
   ]
  },
  {
   "cell_type": "markdown",
   "id": "ad60a998-5d68-4724-85c8-7c83b0454290",
   "metadata": {
    "jp-MarkdownHeadingCollapsed": true,
    "tags": []
   },
   "source": [
    "### バートレット検定\n",
    "\n",
    "H0:2つの群の分散が等しい  \n",
    "H1:2つの群の分散は等しくない\n",
    "\n",
    "全ての遺伝子発現に対し、2個の組み合わせをとっている（nC2）ので、実行時間が長いです"
   ]
  },
  {
   "cell_type": "code",
   "execution_count": 25,
   "id": "4142fc23-1c48-4265-b715-030b6cd820b1",
   "metadata": {},
   "outputs": [],
   "source": [
    "\"\"\"# comb_columns = list(itertools.combinations(dic_sw.keys(), 2))\n",
    "list_columns = df_cross.drop(patient_columns, axis=1).columns\n",
    "comb_columns = list(itertools.combinations(list_columns, 2))\n",
    "\n",
    "p = 0.05  # 有意水準5%\n",
    "dic_bartlett = dict()\n",
    "\n",
    "# 2つの群（遺伝子発現）を比較する\n",
    "# forループとitertools.combinationsで、遺伝子発現全ての組み合わせで検定する\n",
    "for cols in comb_columns:\n",
    "    np_tmp1 = df_cross[cols[0]].values\n",
    "    np_tmp2 = df_cross[cols[1]].values\n",
    "    result = stats.bartlett(np_tmp1, np_tmp2)\n",
    "    if result.pvalue >= p:  # 帰無仮説を棄却しない▷分散が等しい\n",
    "        # print(\"母分散が等しい特徴量の組み合わせ\")\n",
    "        dic_bartlett[cols] = result\n",
    "\"\"\"\n",
    "pass"
   ]
  },
  {
   "cell_type": "markdown",
   "id": "eb23b8c6-edf3-4aca-ad9e-30565efe5dc5",
   "metadata": {},
   "source": [
    "全てのノード同士で等分散性が確保されたわけではないようだ"
   ]
  },
  {
   "cell_type": "code",
   "execution_count": 26,
   "id": "f6ed1e90-4d11-4003-a62a-25118249e165",
   "metadata": {},
   "outputs": [],
   "source": [
    "\"\"\"\n",
    "\n",
    "dic_tmp1 = {}\n",
    "dic_tmp2 = {}\n",
    "s_tmp1 = set()\n",
    "s_tmp2 = set()\n",
    "for i in dic_bartlett.keys():\n",
    "    if i[0] in dic_tmp1:\n",
    "        dic_tmp1[i[0]] += 1\n",
    "    else:\n",
    "        s_tmp1.add(i[0])\n",
    "        dic_tmp1[i[0]] = 1\n",
    "\n",
    "    if i[1] in dic_tmp2:\n",
    "        dic_tmp2[i[1]] += 1\n",
    "    else:\n",
    "        s_tmp2.add(i[1])\n",
    "        dic_tmp2[i[1]] = 1\n",
    "print(sorted(dic_tmp1.items(), key=lambda x: x[1])[:10])\n",
    "print(sorted(dic_tmp2.items(), key=lambda x: x[1])[:10])\n",
    "len(dic_tmp1), len(dic_tmp2), len(s_tmp1), len(s_tmp2), len(s_tmp1.union(s_tmp2))\n",
    "\"\"\"\n",
    "\n",
    "pass"
   ]
  },
  {
   "cell_type": "markdown",
   "id": "b24d599e-3b66-4245-aca2-ac528f214258",
   "metadata": {},
   "source": [
    "ネットワークの可視化（無向グラフ）\n"
   ]
  },
  {
   "cell_type": "code",
   "execution_count": 27,
   "id": "5c22b079-44ff-470e-901e-4b2d829f990e",
   "metadata": {},
   "outputs": [],
   "source": [
    "\"\"\"\n",
    "s_tmp = s_tmp1.union(s_tmp2)\n",
    "\n",
    "G = nx.Graph()\n",
    "G.add_nodes_from(list(s_tmp))\n",
    "G.add_edges_from(dic_bartlett.keys())\n",
    "\n",
    "plt.figure(figsize=(30, 30))\n",
    "nx.draw_networkx(G)\n",
    "plt.show()\n",
    "\"\"\"\n",
    "pass"
   ]
  },
  {
   "cell_type": "markdown",
   "id": "d877ec3c-9f27-4da5-babf-219449af3216",
   "metadata": {
    "jp-MarkdownHeadingCollapsed": true,
    "tags": []
   },
   "source": [
    "# 遺伝子サブタイプ毎のサンプルの分布の確認"
   ]
  },
  {
   "cell_type": "markdown",
   "id": "43139127-ba4e-40c1-a490-a3828db921bc",
   "metadata": {
    "tags": []
   },
   "source": [
    "### データセットの分割\n",
    "trainデータとtestデータに分割  \n",
    "testデータは訓練には用いない（学習終了後の性能の確認のみ）"
   ]
  },
  {
   "cell_type": "markdown",
   "id": "b5e2066a-1210-4105-b87b-ebf7dd71b1c1",
   "metadata": {},
   "source": [
    "trainデータとtestデータを分割した場合の、分布の確認"
   ]
  },
  {
   "cell_type": "code",
   "execution_count": 28,
   "id": "f7d8e09f-0a2b-4eda-b6c6-d5da33c64c4d",
   "metadata": {},
   "outputs": [
    {
     "data": {
      "text/plain": [
       "Index(['PATIENT_ID', 'OS_05years', 'OS_10years', 'OS_15years',\n",
       "       'CLAUDIN_SUBTYPE', 'RERE', 'RNF165', 'CD049690', 'BC033982', 'PHF7',\n",
       "       ...\n",
       "       'BX115874', 'BX107598', 'UGCGL1', 'VPS72', 'CSMD3', 'CC2D1A',\n",
       "       'CB986545', 'IGSF9', 'DA110839', 'FAM71A'],\n",
       "      dtype='object', length=24373)"
      ]
     },
     "execution_count": 28,
     "metadata": {},
     "output_type": "execute_result"
    }
   ],
   "source": [
    "df_cross.columns"
   ]
  },
  {
   "cell_type": "code",
   "execution_count": 29,
   "id": "119c0f23-75c1-4e53-873e-6aad3864af61",
   "metadata": {},
   "outputs": [
    {
     "data": {
      "text/plain": [
       "True     572\n",
       "False    501\n",
       "Name: OS_15years, dtype: int64"
      ]
     },
     "execution_count": 29,
     "metadata": {},
     "output_type": "execute_result"
    }
   ],
   "source": [
    "df_cross[\"OS_15years\"].value_counts()"
   ]
  },
  {
   "cell_type": "code",
   "execution_count": 30,
   "id": "1f45b3a5-dd8c-4673-8c2c-05d96d4405ef",
   "metadata": {
    "tags": []
   },
   "outputs": [
    {
     "data": {
      "image/png": "[encoded data removed]",
      "text/plain": [
       "<Figure size 1440x2448 with 3 Axes>"
      ]
     },
     "metadata": {
      "needs_background": "light"
     },
     "output_type": "display_data"
    }
   ],
   "source": [
    "plt.figure(figsize=(20, 34))\n",
    "plt.subplots_adjust(left=0.5)\n",
    "funcs = [\"count\", \"sum\", \"mean\"]\n",
    "for i, v in enumerate(target_list):\n",
    "    # 各STATUSに属するサンプル数の可視化\n",
    "    # df_tmp: 表示したい数のdf、df_tmp2: プロット時のクラス名前の付与\n",
    "    # trai\n",
    "    df_tmp = df_cross.groupby(\"CLAUDIN_SUBTYPE\")[v].agg(funcs).reset_index()\n",
    "    df_tmp[\"gene_label\"] = \"CLAUDIN_SUBTYPE: \" + df_tmp[\"CLAUDIN_SUBTYPE\"]\n",
    "    plt.subplot(len(target_list) + 1, 1, i + 1)\n",
    "    plt.barh(y=df_tmp[\"gene_label\"], width=df_tmp[\"count\"], align=\"edge\")\n",
    "\n",
    "    # 各STAUSに属する目的変数の正例（乳がんによってn年の予後の死亡者数）の可視化\n",
    "    # sumのカラムを指定しているが、これは目的変数が2値分類であるため、sumがtrueの総数を示している。\n",
    "    plt.barh(y=df_tmp[\"gene_label\"], width=df_tmp[\"sum\"])\n",
    "    plt.title(v)\n",
    "    plt.tight_layout = True\n",
    "    plt.xlim(0, 1000)\n",
    "\n",
    "    plt.grid(True)"
   ]
  },
  {
   "cell_type": "markdown",
   "id": "5c524c33-2d1d-4e4b-9d18-03dd7a74597b",
   "metadata": {},
   "source": [
    "大まかにはtrain,testのデータ量の比率は大丈夫そう\n",
    "\n",
    "数の少ないNCについては確認"
   ]
  },
  {
   "cell_type": "code",
   "execution_count": 31,
   "id": "09ae8a85-04ba-403d-a6e1-c0cab4de05cf",
   "metadata": {},
   "outputs": [
    {
     "data": {
      "text/html": [
       "<div>\n",
       "<style scoped>\n",
       "    .dataframe tbody tr th:only-of-type {\n",
       "        vertical-align: middle;\n",
       "    }\n",
       "\n",
       "    .dataframe tbody tr th {\n",
       "        vertical-align: top;\n",
       "    }\n",
       "\n",
       "    .dataframe thead th {\n",
       "        text-align: right;\n",
       "    }\n",
       "</style>\n",
       "<table border=\"1\" class=\"dataframe\">\n",
       "  <thead>\n",
       "    <tr style=\"text-align: right;\">\n",
       "      <th></th>\n",
       "      <th>PATIENT_ID</th>\n",
       "      <th>OS_05years</th>\n",
       "      <th>OS_10years</th>\n",
       "      <th>OS_15years</th>\n",
       "      <th>CLAUDIN_SUBTYPE</th>\n",
       "      <th>RERE</th>\n",
       "      <th>RNF165</th>\n",
       "      <th>CD049690</th>\n",
       "      <th>BC033982</th>\n",
       "      <th>PHF7</th>\n",
       "      <th>CIDEA</th>\n",
       "      <th>PAPD4</th>\n",
       "      <th>AI082173</th>\n",
       "      <th>SLC17A3</th>\n",
       "      <th>SDS</th>\n",
       "      <th>ATP6V1C2</th>\n",
       "      <th>F3</th>\n",
       "      <th>FAM71C</th>\n",
       "      <th>AK055082</th>\n",
       "      <th>BU687559</th>\n",
       "      <th>LIN52</th>\n",
       "      <th>PCOTH</th>\n",
       "      <th>GRM1</th>\n",
       "      <th>FXN</th>\n",
       "      <th>SLC9A1</th>\n",
       "      <th>...</th>\n",
       "      <th>TMEM146</th>\n",
       "      <th>SLIT3-AS1</th>\n",
       "      <th>PSMC3IP</th>\n",
       "      <th>TEAD1</th>\n",
       "      <th>LOC253724</th>\n",
       "      <th>BM725158</th>\n",
       "      <th>GRHPR</th>\n",
       "      <th>EGLN2</th>\n",
       "      <th>TBC1D4</th>\n",
       "      <th>ANGPTL2</th>\n",
       "      <th>AF086457</th>\n",
       "      <th>AK124197</th>\n",
       "      <th>ENOX1</th>\n",
       "      <th>SBF2-AS1</th>\n",
       "      <th>VN1R4</th>\n",
       "      <th>BX115874</th>\n",
       "      <th>BX107598</th>\n",
       "      <th>UGCGL1</th>\n",
       "      <th>VPS72</th>\n",
       "      <th>CSMD3</th>\n",
       "      <th>CC2D1A</th>\n",
       "      <th>CB986545</th>\n",
       "      <th>IGSF9</th>\n",
       "      <th>DA110839</th>\n",
       "      <th>FAM71A</th>\n",
       "    </tr>\n",
       "  </thead>\n",
       "  <tbody>\n",
       "    <tr>\n",
       "      <th>533</th>\n",
       "      <td>MB-2778</td>\n",
       "      <td>False</td>\n",
       "      <td>False</td>\n",
       "      <td>False</td>\n",
       "      <td>NC</td>\n",
       "      <td>-0.5648</td>\n",
       "      <td>-0.2099</td>\n",
       "      <td>-1.7372</td>\n",
       "      <td>0.6538</td>\n",
       "      <td>-0.1916</td>\n",
       "      <td>-0.7563</td>\n",
       "      <td>0.2878</td>\n",
       "      <td>0.6555</td>\n",
       "      <td>-0.5377</td>\n",
       "      <td>-0.7134</td>\n",
       "      <td>-0.4664</td>\n",
       "      <td>1.3550</td>\n",
       "      <td>-0.7010</td>\n",
       "      <td>0.7873</td>\n",
       "      <td>-0.3809</td>\n",
       "      <td>0.0242</td>\n",
       "      <td>0.9530</td>\n",
       "      <td>-0.8267</td>\n",
       "      <td>-0.8148</td>\n",
       "      <td>-0.1165</td>\n",
       "      <td>...</td>\n",
       "      <td>-0.4857</td>\n",
       "      <td>-1.0486</td>\n",
       "      <td>0.9648</td>\n",
       "      <td>-0.1062</td>\n",
       "      <td>0.2187</td>\n",
       "      <td>0.0839</td>\n",
       "      <td>0.2627</td>\n",
       "      <td>-1.1604</td>\n",
       "      <td>-0.6742</td>\n",
       "      <td>1.4676</td>\n",
       "      <td>-1.6174</td>\n",
       "      <td>-0.6515</td>\n",
       "      <td>0.7612</td>\n",
       "      <td>0.4424</td>\n",
       "      <td>-0.5983</td>\n",
       "      <td>0.3224</td>\n",
       "      <td>0.4453</td>\n",
       "      <td>-0.2731</td>\n",
       "      <td>0.4786</td>\n",
       "      <td>-0.3253</td>\n",
       "      <td>-1.7985</td>\n",
       "      <td>0.5225</td>\n",
       "      <td>1.0589</td>\n",
       "      <td>-0.6025</td>\n",
       "      <td>0.6440</td>\n",
       "    </tr>\n",
       "    <tr>\n",
       "      <th>803</th>\n",
       "      <td>MB-4224</td>\n",
       "      <td>False</td>\n",
       "      <td>True</td>\n",
       "      <td>True</td>\n",
       "      <td>NC</td>\n",
       "      <td>0.4105</td>\n",
       "      <td>-1.0276</td>\n",
       "      <td>0.9124</td>\n",
       "      <td>-0.3752</td>\n",
       "      <td>3.4653</td>\n",
       "      <td>-0.7874</td>\n",
       "      <td>-2.3468</td>\n",
       "      <td>2.2158</td>\n",
       "      <td>0.8460</td>\n",
       "      <td>0.2316</td>\n",
       "      <td>-0.4777</td>\n",
       "      <td>-0.1241</td>\n",
       "      <td>-0.0950</td>\n",
       "      <td>1.3961</td>\n",
       "      <td>1.3393</td>\n",
       "      <td>-1.5215</td>\n",
       "      <td>-0.9479</td>\n",
       "      <td>0.6012</td>\n",
       "      <td>1.9288</td>\n",
       "      <td>0.7267</td>\n",
       "      <td>...</td>\n",
       "      <td>-2.8993</td>\n",
       "      <td>0.2622</td>\n",
       "      <td>-2.4616</td>\n",
       "      <td>0.6756</td>\n",
       "      <td>1.4527</td>\n",
       "      <td>-1.4522</td>\n",
       "      <td>-0.6508</td>\n",
       "      <td>2.1249</td>\n",
       "      <td>-0.7093</td>\n",
       "      <td>-1.2007</td>\n",
       "      <td>-1.7393</td>\n",
       "      <td>3.5783</td>\n",
       "      <td>3.3116</td>\n",
       "      <td>-0.0649</td>\n",
       "      <td>2.5844</td>\n",
       "      <td>-0.0368</td>\n",
       "      <td>-0.3053</td>\n",
       "      <td>3.0278</td>\n",
       "      <td>-0.5320</td>\n",
       "      <td>0.2566</td>\n",
       "      <td>2.9573</td>\n",
       "      <td>-0.5681</td>\n",
       "      <td>-1.1213</td>\n",
       "      <td>0.0516</td>\n",
       "      <td>0.8181</td>\n",
       "    </tr>\n",
       "    <tr>\n",
       "      <th>926</th>\n",
       "      <td>MB-4697</td>\n",
       "      <td>False</td>\n",
       "      <td>NaN</td>\n",
       "      <td>NaN</td>\n",
       "      <td>NC</td>\n",
       "      <td>0.6885</td>\n",
       "      <td>0.5712</td>\n",
       "      <td>0.6453</td>\n",
       "      <td>-0.5734</td>\n",
       "      <td>0.2067</td>\n",
       "      <td>2.8384</td>\n",
       "      <td>1.6432</td>\n",
       "      <td>-0.6291</td>\n",
       "      <td>0.5896</td>\n",
       "      <td>0.2459</td>\n",
       "      <td>-0.8790</td>\n",
       "      <td>1.0273</td>\n",
       "      <td>0.7068</td>\n",
       "      <td>0.3187</td>\n",
       "      <td>2.0469</td>\n",
       "      <td>-0.0211</td>\n",
       "      <td>0.0393</td>\n",
       "      <td>-1.4094</td>\n",
       "      <td>-0.8529</td>\n",
       "      <td>0.2276</td>\n",
       "      <td>...</td>\n",
       "      <td>-1.1391</td>\n",
       "      <td>0.7629</td>\n",
       "      <td>-0.5531</td>\n",
       "      <td>-1.5998</td>\n",
       "      <td>-0.2896</td>\n",
       "      <td>-0.4363</td>\n",
       "      <td>0.1249</td>\n",
       "      <td>0.2419</td>\n",
       "      <td>-0.1453</td>\n",
       "      <td>0.7740</td>\n",
       "      <td>1.1130</td>\n",
       "      <td>0.2883</td>\n",
       "      <td>-0.3090</td>\n",
       "      <td>0.3691</td>\n",
       "      <td>0.1032</td>\n",
       "      <td>-0.7700</td>\n",
       "      <td>-0.9081</td>\n",
       "      <td>0.4001</td>\n",
       "      <td>-0.7166</td>\n",
       "      <td>-0.3793</td>\n",
       "      <td>0.1831</td>\n",
       "      <td>0.3515</td>\n",
       "      <td>-0.7097</td>\n",
       "      <td>0.4446</td>\n",
       "      <td>-1.6002</td>\n",
       "    </tr>\n",
       "    <tr>\n",
       "      <th>1302</th>\n",
       "      <td>MB-5339</td>\n",
       "      <td>False</td>\n",
       "      <td>False</td>\n",
       "      <td>False</td>\n",
       "      <td>NC</td>\n",
       "      <td>1.0037</td>\n",
       "      <td>0.6609</td>\n",
       "      <td>-1.2327</td>\n",
       "      <td>0.7225</td>\n",
       "      <td>0.2270</td>\n",
       "      <td>-0.4175</td>\n",
       "      <td>-0.3220</td>\n",
       "      <td>-0.4304</td>\n",
       "      <td>0.2319</td>\n",
       "      <td>0.5177</td>\n",
       "      <td>-0.4442</td>\n",
       "      <td>-0.7118</td>\n",
       "      <td>-0.8409</td>\n",
       "      <td>0.3850</td>\n",
       "      <td>-0.4544</td>\n",
       "      <td>-1.8409</td>\n",
       "      <td>3.3532</td>\n",
       "      <td>-0.1421</td>\n",
       "      <td>1.6673</td>\n",
       "      <td>1.6631</td>\n",
       "      <td>...</td>\n",
       "      <td>-1.8393</td>\n",
       "      <td>0.7755</td>\n",
       "      <td>-0.9372</td>\n",
       "      <td>0.4534</td>\n",
       "      <td>1.8469</td>\n",
       "      <td>1.0872</td>\n",
       "      <td>0.1889</td>\n",
       "      <td>0.0582</td>\n",
       "      <td>-0.2035</td>\n",
       "      <td>1.4150</td>\n",
       "      <td>1.3315</td>\n",
       "      <td>-0.7625</td>\n",
       "      <td>0.2892</td>\n",
       "      <td>0.0843</td>\n",
       "      <td>0.6689</td>\n",
       "      <td>0.1044</td>\n",
       "      <td>-0.9305</td>\n",
       "      <td>-1.0487</td>\n",
       "      <td>0.2086</td>\n",
       "      <td>0.0932</td>\n",
       "      <td>1.2298</td>\n",
       "      <td>0.8746</td>\n",
       "      <td>0.2683</td>\n",
       "      <td>0.2496</td>\n",
       "      <td>0.1120</td>\n",
       "    </tr>\n",
       "    <tr>\n",
       "      <th>1542</th>\n",
       "      <td>MB-6077</td>\n",
       "      <td>False</td>\n",
       "      <td>False</td>\n",
       "      <td>NaN</td>\n",
       "      <td>NC</td>\n",
       "      <td>0.4639</td>\n",
       "      <td>0.5137</td>\n",
       "      <td>-0.6706</td>\n",
       "      <td>0.5164</td>\n",
       "      <td>1.3639</td>\n",
       "      <td>1.9062</td>\n",
       "      <td>-1.7512</td>\n",
       "      <td>1.0702</td>\n",
       "      <td>0.0707</td>\n",
       "      <td>-0.3423</td>\n",
       "      <td>-0.6161</td>\n",
       "      <td>-0.5096</td>\n",
       "      <td>0.4778</td>\n",
       "      <td>0.5835</td>\n",
       "      <td>-0.9707</td>\n",
       "      <td>-0.6489</td>\n",
       "      <td>0.1715</td>\n",
       "      <td>13.6222</td>\n",
       "      <td>0.6144</td>\n",
       "      <td>0.8599</td>\n",
       "      <td>...</td>\n",
       "      <td>-0.1380</td>\n",
       "      <td>-0.3253</td>\n",
       "      <td>-0.8189</td>\n",
       "      <td>1.0777</td>\n",
       "      <td>4.2582</td>\n",
       "      <td>-0.1026</td>\n",
       "      <td>-0.7780</td>\n",
       "      <td>1.1805</td>\n",
       "      <td>-0.9954</td>\n",
       "      <td>-0.3315</td>\n",
       "      <td>-1.1865</td>\n",
       "      <td>0.4367</td>\n",
       "      <td>-1.7032</td>\n",
       "      <td>-1.5383</td>\n",
       "      <td>0.3719</td>\n",
       "      <td>1.0746</td>\n",
       "      <td>0.5905</td>\n",
       "      <td>1.0826</td>\n",
       "      <td>-1.7304</td>\n",
       "      <td>2.1972</td>\n",
       "      <td>-0.9249</td>\n",
       "      <td>0.1488</td>\n",
       "      <td>-0.4977</td>\n",
       "      <td>-1.1334</td>\n",
       "      <td>-1.1845</td>\n",
       "    </tr>\n",
       "    <tr>\n",
       "      <th>1858</th>\n",
       "      <td>MB-7237</td>\n",
       "      <td>True</td>\n",
       "      <td>True</td>\n",
       "      <td>True</td>\n",
       "      <td>NC</td>\n",
       "      <td>0.2387</td>\n",
       "      <td>-1.0138</td>\n",
       "      <td>-1.3009</td>\n",
       "      <td>1.4919</td>\n",
       "      <td>-0.1090</td>\n",
       "      <td>2.6779</td>\n",
       "      <td>0.0131</td>\n",
       "      <td>-1.0660</td>\n",
       "      <td>0.0486</td>\n",
       "      <td>-0.0573</td>\n",
       "      <td>-0.2235</td>\n",
       "      <td>-0.2169</td>\n",
       "      <td>0.4843</td>\n",
       "      <td>1.4628</td>\n",
       "      <td>-0.1792</td>\n",
       "      <td>0.9176</td>\n",
       "      <td>1.1222</td>\n",
       "      <td>-0.7758</td>\n",
       "      <td>-0.8099</td>\n",
       "      <td>-0.7497</td>\n",
       "      <td>...</td>\n",
       "      <td>-0.6660</td>\n",
       "      <td>0.2767</td>\n",
       "      <td>1.3532</td>\n",
       "      <td>-0.7078</td>\n",
       "      <td>2.0853</td>\n",
       "      <td>-0.1051</td>\n",
       "      <td>1.0872</td>\n",
       "      <td>-0.6259</td>\n",
       "      <td>-0.8590</td>\n",
       "      <td>1.6526</td>\n",
       "      <td>0.9679</td>\n",
       "      <td>-0.5723</td>\n",
       "      <td>0.3208</td>\n",
       "      <td>-0.2866</td>\n",
       "      <td>0.8093</td>\n",
       "      <td>-0.9890</td>\n",
       "      <td>-1.1724</td>\n",
       "      <td>-0.3471</td>\n",
       "      <td>-0.1509</td>\n",
       "      <td>-0.3420</td>\n",
       "      <td>-1.4044</td>\n",
       "      <td>0.9374</td>\n",
       "      <td>-0.7323</td>\n",
       "      <td>-0.5413</td>\n",
       "      <td>-0.8964</td>\n",
       "    </tr>\n",
       "  </tbody>\n",
       "</table>\n",
       "<p>6 rows × 24373 columns</p>\n",
       "</div>"
      ],
      "text/plain": [
       "     PATIENT_ID OS_05years OS_10years OS_15years CLAUDIN_SUBTYPE    RERE  \\\n",
       "533     MB-2778      False      False      False              NC -0.5648   \n",
       "803     MB-4224      False       True       True              NC  0.4105   \n",
       "926     MB-4697      False        NaN        NaN              NC  0.6885   \n",
       "1302    MB-5339      False      False      False              NC  1.0037   \n",
       "1542    MB-6077      False      False        NaN              NC  0.4639   \n",
       "1858    MB-7237       True       True       True              NC  0.2387   \n",
       "\n",
       "      RNF165  CD049690  BC033982    PHF7   CIDEA   PAPD4  AI082173  SLC17A3  \\\n",
       "533  -0.2099   -1.7372    0.6538 -0.1916 -0.7563  0.2878    0.6555  -0.5377   \n",
       "803  -1.0276    0.9124   -0.3752  3.4653 -0.7874 -2.3468    2.2158   0.8460   \n",
       "926   0.5712    0.6453   -0.5734  0.2067  2.8384  1.6432   -0.6291   0.5896   \n",
       "1302  0.6609   -1.2327    0.7225  0.2270 -0.4175 -0.3220   -0.4304   0.2319   \n",
       "1542  0.5137   -0.6706    0.5164  1.3639  1.9062 -1.7512    1.0702   0.0707   \n",
       "1858 -1.0138   -1.3009    1.4919 -0.1090  2.6779  0.0131   -1.0660   0.0486   \n",
       "\n",
       "         SDS  ATP6V1C2      F3  FAM71C  AK055082  BU687559   LIN52   PCOTH  \\\n",
       "533  -0.7134   -0.4664  1.3550 -0.7010    0.7873   -0.3809  0.0242  0.9530   \n",
       "803   0.2316   -0.4777 -0.1241 -0.0950    1.3961    1.3393 -1.5215 -0.9479   \n",
       "926   0.2459   -0.8790  1.0273  0.7068    0.3187    2.0469 -0.0211  0.0393   \n",
       "1302  0.5177   -0.4442 -0.7118 -0.8409    0.3850   -0.4544 -1.8409  3.3532   \n",
       "1542 -0.3423   -0.6161 -0.5096  0.4778    0.5835   -0.9707 -0.6489  0.1715   \n",
       "1858 -0.0573   -0.2235 -0.2169  0.4843    1.4628   -0.1792  0.9176  1.1222   \n",
       "\n",
       "         GRM1     FXN  SLC9A1  ...  TMEM146  SLIT3-AS1  PSMC3IP   TEAD1  \\\n",
       "533   -0.8267 -0.8148 -0.1165  ...  -0.4857    -1.0486   0.9648 -0.1062   \n",
       "803    0.6012  1.9288  0.7267  ...  -2.8993     0.2622  -2.4616  0.6756   \n",
       "926   -1.4094 -0.8529  0.2276  ...  -1.1391     0.7629  -0.5531 -1.5998   \n",
       "1302  -0.1421  1.6673  1.6631  ...  -1.8393     0.7755  -0.9372  0.4534   \n",
       "1542  13.6222  0.6144  0.8599  ...  -0.1380    -0.3253  -0.8189  1.0777   \n",
       "1858  -0.7758 -0.8099 -0.7497  ...  -0.6660     0.2767   1.3532 -0.7078   \n",
       "\n",
       "      LOC253724  BM725158   GRHPR   EGLN2  TBC1D4  ANGPTL2  AF086457  \\\n",
       "533      0.2187    0.0839  0.2627 -1.1604 -0.6742   1.4676   -1.6174   \n",
       "803      1.4527   -1.4522 -0.6508  2.1249 -0.7093  -1.2007   -1.7393   \n",
       "926     -0.2896   -0.4363  0.1249  0.2419 -0.1453   0.7740    1.1130   \n",
       "1302     1.8469    1.0872  0.1889  0.0582 -0.2035   1.4150    1.3315   \n",
       "1542     4.2582   -0.1026 -0.7780  1.1805 -0.9954  -0.3315   -1.1865   \n",
       "1858     2.0853   -0.1051  1.0872 -0.6259 -0.8590   1.6526    0.9679   \n",
       "\n",
       "      AK124197   ENOX1  SBF2-AS1   VN1R4  BX115874  BX107598  UGCGL1   VPS72  \\\n",
       "533    -0.6515  0.7612    0.4424 -0.5983    0.3224    0.4453 -0.2731  0.4786   \n",
       "803     3.5783  3.3116   -0.0649  2.5844   -0.0368   -0.3053  3.0278 -0.5320   \n",
       "926     0.2883 -0.3090    0.3691  0.1032   -0.7700   -0.9081  0.4001 -0.7166   \n",
       "1302   -0.7625  0.2892    0.0843  0.6689    0.1044   -0.9305 -1.0487  0.2086   \n",
       "1542    0.4367 -1.7032   -1.5383  0.3719    1.0746    0.5905  1.0826 -1.7304   \n",
       "1858   -0.5723  0.3208   -0.2866  0.8093   -0.9890   -1.1724 -0.3471 -0.1509   \n",
       "\n",
       "       CSMD3  CC2D1A  CB986545   IGSF9  DA110839  FAM71A  \n",
       "533  -0.3253 -1.7985    0.5225  1.0589   -0.6025  0.6440  \n",
       "803   0.2566  2.9573   -0.5681 -1.1213    0.0516  0.8181  \n",
       "926  -0.3793  0.1831    0.3515 -0.7097    0.4446 -1.6002  \n",
       "1302  0.0932  1.2298    0.8746  0.2683    0.2496  0.1120  \n",
       "1542  2.1972 -0.9249    0.1488 -0.4977   -1.1334 -1.1845  \n",
       "1858 -0.3420 -1.4044    0.9374 -0.7323   -0.5413 -0.8964  \n",
       "\n",
       "[6 rows x 24373 columns]"
      ]
     },
     "execution_count": 31,
     "metadata": {},
     "output_type": "execute_result"
    }
   ],
   "source": [
    "df_cross[df_cross[\"CLAUDIN_SUBTYPE\"] == \"NC\"]"
   ]
  },
  {
   "cell_type": "markdown",
   "id": "49b20324-e539-476c-ac31-17249f1a5193",
   "metadata": {},
   "source": [
    "testデータにはFalseの事例しか無く、また、交差検証をする際に十分に学習できる見込みがない  \n",
    "▷NCのデータも削除したほうが良い"
   ]
  },
  {
   "cell_type": "code",
   "execution_count": 32,
   "id": "69382cb2-b2b1-48ee-85ff-de43f798dec5",
   "metadata": {},
   "outputs": [],
   "source": [
    "# CLAUDIN_SUBTYPE==NCの削除\n",
    "df_cross = df_cross[df_cross[\"CLAUDIN_SUBTYPE\"] != \"NC\"]\n",
    "# save\n",
    "make_dir(config.INTERIM_PREPROCESSED_PROGNOSIS_CROSS_DIR)\n",
    "df_cross.to_pickle(\n",
    "    config.INTERIM_PREPROCESSED_PROGNOSIS_CROSS_DIR\n",
    "    + \"/df_cross_{0}.pkl\".format(config.SET_NAME_MICROARRAY[INDEX_MICROARRAY])\n",
    ")"
   ]
  },
  {
   "cell_type": "code",
   "execution_count": 33,
   "id": "94f2836c-cad2-42df-b2b9-643dde04ccb2",
   "metadata": {},
   "outputs": [
    {
     "data": {
      "text/plain": [
       "PATIENT_ID           0\n",
       "OS_05years           0\n",
       "OS_10years         345\n",
       "OS_15years         673\n",
       "CLAUDIN_SUBTYPE      0\n",
       "dtype: int64"
      ]
     },
     "execution_count": 33,
     "metadata": {},
     "output_type": "execute_result"
    }
   ],
   "source": [
    "df_cross[patient_columns].isnull().sum()"
   ]
  },
  {
   "cell_type": "markdown",
   "id": "c192d3b1-b0c8-4bf8-8414-17078691530c",
   "metadata": {
    "tags": []
   },
   "source": [
    "# dfの辞書の作成\n",
    "\n",
    "各dfに対して適用する処理ごとに特徴量の組み合わせを辞書に保存する  \n",
    "適用対象のdfも事前に特徴量を事前知識からいくつかパターンを用意する"
   ]
  },
  {
   "cell_type": "code",
   "execution_count": 34,
   "id": "2e899b3f-ff56-4c4b-9cf5-bc1a9a72c61f",
   "metadata": {},
   "outputs": [],
   "source": [
    "# 特徴量選択の結果の辞書の読み込み\n",
    "\n",
    "X_path = config.INTERIM_PREPROCESSED_PROGNOSIS_CROSS_DIR + \"/X_dict.pickle\"\n",
    "X_dict = pickle_load(X_path) if os.path.exists(X_path) else {}\n",
    "\n",
    "y_path = config.INTERIM_PREPROCESSED_PROGNOSIS_CROSS_DIR + \"/y_dict.pickle\"\n",
    "y_dict = pickle_load(y_path) if os.path.exists(y_path) else {}"
   ]
  },
  {
   "cell_type": "code",
   "execution_count": 35,
   "id": "e411f32f-7a3e-4130-a0a7-6a414d05904b",
   "metadata": {},
   "outputs": [
    {
     "data": {
      "text/plain": [
       "(1742, 24373)"
      ]
     },
     "execution_count": 35,
     "metadata": {},
     "output_type": "execute_result"
    }
   ],
   "source": [
    "df_cross.shape"
   ]
  },
  {
   "cell_type": "code",
   "execution_count": 36,
   "id": "8311c49f-83de-4014-932b-01819b0c5d7b",
   "metadata": {},
   "outputs": [],
   "source": [
    "del df_clinical, df_dropped_tmp, df_MB, df_MTST, df_sample, df_tmp"
   ]
  },
  {
   "cell_type": "markdown",
   "id": "56d495f5-317e-4407-84ef-9eaa77ebf790",
   "metadata": {
    "tags": []
   },
   "source": [
    "## 特徴量選択前\n",
    "\n",
    "特徴量選択を実施する前に、事前知識から特徴量選択前の特徴量を決めておく\n",
    "\n",
    "patient_columns = [\n",
    "    \"PATIENT_ID\",\n",
    "    \"OS_05years\",\n",
    "    \"OS_10years\",\n",
    "    \"OS_15years\",\n",
    "    \"CLAUDIN_SUBTYPE\",\n",
    "    \"NPI\",\n",
    "    \"ER_STATUS\",\n",
    "    \"HER2_STATUS\",\n",
    "    \"PR_STATUS\",\n",
    "    \"LYMPH_NODES_EXAMINED_POSITIVE\",\n",
    "    \"COHORT\",\n",
    "    \"TUMOR_SIZE\",\n",
    "]\n",
    "\n",
    "対象dfの概要（遺伝子的分類（CLAUDIN_SUBTYPE）の区分も各dfに容易）\n",
    "- basic: 遺伝子発現+臨床（patient_columns全て）\n",
    "- immunity: 遺伝子発現+臨床（免疫組織学status）\n",
    "- genes: 遺伝子発現のみ"
   ]
  },
  {
   "cell_type": "markdown",
   "id": "272e662c-3e75-49aa-9b58-e3907993651b",
   "metadata": {
    "tags": []
   },
   "source": [
    "### all columns"
   ]
  },
  {
   "cell_type": "code",
   "execution_count": 37,
   "id": "1d7bb5db-8e9c-4203-8dfc-83fbb77a97d8",
   "metadata": {},
   "outputs": [],
   "source": [
    "def data2dict(\n",
    "    microarray_type: str,\n",
    "    drop_columns: list = patient_columns,\n",
    "):\n",
    "    # データが複数種類あるので、辞書に保存する\n",
    "    X_dict[microarray_type] = {\"train\": dict(), \"val\": dict(), \"test\": dict()}\n",
    "    y_dict[microarray_type] = {\"train\": dict(), \"val\": dict(), \"test\": dict()}\n",
    "\n",
    "    dir_name = config.INTERIM_PREPROCESSED_PROGNOSIS_CROSS_DIR + \"/{0}\".format(\n",
    "        microarray_type\n",
    "    )\n",
    "    make_dir(dir_name + \"/train\")\n",
    "    make_dir(dir_name + \"/val\")\n",
    "    make_dir(dir_name + \"/test\")\n",
    "\n",
    "    for year in tqdm(range(15, 16, 5)):  # 予後年数毎のループ（5,10,15年）\n",
    "        df_tmp = df_cross[df_cross[\"OS_{0:0=2}years\".format(year)].notnull()]\n",
    "        df_train, df_test = train_test_split(\n",
    "            df_tmp,\n",
    "            test_size=0.1,\n",
    "            random_state=SEED,\n",
    "            stratify=df_tmp[\"OS_{0:0=2}years\".format(year)],\n",
    "        )\n",
    "        df_train, df_val = train_test_split(\n",
    "            df_train,\n",
    "            test_size=0.1,\n",
    "            random_state=SEED,\n",
    "            stratify=df_train[\"OS_{0:0=2}years\".format(year)],\n",
    "        )\n",
    "\n",
    "        # ループ内定数の初期化\n",
    "        prognosis_column = \"OS_{0:0=2}years\".format(year)\n",
    "        prognosis_Xlabel = \"X{0:0=2}\".format(year)\n",
    "        prognosis_ylabel = \"y{0:0=2}\".format(year)\n",
    "\n",
    "        # print(\"-----\" * 15)\n",
    "        # 説明変数、目的変数の定義\n",
    "        X_train = df_train.drop(drop_columns, axis=1)\n",
    "        y_train = df_train[prognosis_column].dropna().astype(int)\n",
    "        X_val = df_val.drop(drop_columns, axis=1)\n",
    "        y_val = df_val[prognosis_column].dropna().astype(int)\n",
    "        X_test = df_test.drop(drop_columns, axis=1)\n",
    "        y_test = df_test[prognosis_column].dropna().astype(int)\n",
    "\n",
    "        # サンプルサイズのユニットテスト\n",
    "        assert X_train.shape[0] == y_train.shape[0], \"train sample size is incorrect\"\n",
    "        assert X_val.shape[0] == y_val.shape[0], \"val sample size is incorrect\"\n",
    "        assert X_test.shape[0] == y_test.shape[0], \"test sample size is incorrect\"\n",
    "\n",
    "        # 辞書に格納\n",
    "        X_dict[microarray_type][\"train\"][prognosis_Xlabel] = X_train\n",
    "        y_dict[microarray_type][\"train\"][prognosis_ylabel] = y_train\n",
    "        X_dict[microarray_type][\"val\"][prognosis_Xlabel] = X_val\n",
    "        y_dict[microarray_type][\"val\"][prognosis_ylabel] = y_val\n",
    "        X_dict[microarray_type][\"test\"][prognosis_Xlabel] = X_test\n",
    "        y_dict[microarray_type][\"test\"][prognosis_ylabel] = y_test\n",
    "\n",
    "        # データの保存\n",
    "        X_train.to_pickle(dir_name + \"/train/{0}.pickle\".format(prognosis_Xlabel))\n",
    "        y_train.to_pickle(dir_name + \"/train/{0}.pickle\".format(prognosis_ylabel))\n",
    "        X_val.to_pickle(dir_name + \"/val/{0}.pickle\".format(prognosis_Xlabel))\n",
    "        y_val.to_pickle(dir_name + \"/val/{0}.pickle\".format(prognosis_ylabel))\n",
    "        X_test.to_pickle(dir_name + \"/test/{0}.pickle\".format(prognosis_Xlabel))\n",
    "        y_test.to_pickle(dir_name + \"/test/{0}.pickle\".format(prognosis_ylabel))"
   ]
  },
  {
   "cell_type": "code",
   "execution_count": 38,
   "id": "8abb106b-39b1-41ee-aadb-93da838f8d46",
   "metadata": {},
   "outputs": [
    {
     "name": "stderr",
     "output_type": "stream",
     "text": [
      "100%|█████████████████████████████████████████████████████████████████████████████████████| 1/1 [00:00<00:00,  2.19it/s]\n"
     ]
    }
   ],
   "source": [
    "# microarry\n",
    "data2dict(config.SET_NAME_MICROARRAY[INDEX_MICROARRAY])"
   ]
  },
  {
   "cell_type": "markdown",
   "id": "e4733ea3-9ae2-4589-bef4-c4874531f28f",
   "metadata": {
    "tags": []
   },
   "source": [
    "### claudin_subtype"
   ]
  },
  {
   "cell_type": "code",
   "execution_count": 39,
   "id": "ed2399aa-7283-44a6-8b61-e759aa3203e7",
   "metadata": {},
   "outputs": [],
   "source": [
    "def data2dict_subtype(microarray_type: str, drop_columns: list = patient_columns):\n",
    "    # データが複数種類あるので、辞書に保存する\n",
    "    X_dict[microarray_type][\"claudin_subtype\"] = {\n",
    "        \"train\": dict(),\n",
    "        \"val\": dict(),\n",
    "        \"test\": dict(),\n",
    "    }\n",
    "    y_dict[microarray_type][\"claudin_subtype\"] = {\n",
    "        \"train\": dict(),\n",
    "        \"val\": dict(),\n",
    "        \"test\": dict(),\n",
    "    }\n",
    "\n",
    "    dir_name = (\n",
    "        config.INTERIM_PREPROCESSED_PROGNOSIS_CROSS_DIR\n",
    "        + \"/{}/claudin_subtype\".format(microarray_type)\n",
    "    )\n",
    "    make_dir(dir_name + \"/train\")\n",
    "    make_dir(dir_name + \"/val\")\n",
    "    make_dir(dir_name + \"/test\")\n",
    "\n",
    "    subtypes = [\n",
    "        \"claudin-low\",\n",
    "        \"LumA\",\n",
    "        \"LumB\",\n",
    "        \"Her2\",\n",
    "        \"Normal\",\n",
    "        \"Basal\",\n",
    "    ]\n",
    "\n",
    "    for year in range(15, 16, 5):  # 予後年数毎のループ（5,10,15年）\n",
    "        for subtype in tqdm(subtypes):  # 遺伝子サブタイプ毎のループ\n",
    "            df_tmp = df_cross[df_cross[\"CLAUDIN_SUBTYPE\"] == subtype]\n",
    "            df_tmp = df_tmp[df_tmp[\"OS_{0:0=2}years\".format(year)].notnull()]\n",
    "            df_train, df_test = train_test_split(\n",
    "                df_tmp,\n",
    "                test_size=0.1,\n",
    "                random_state=SEED,\n",
    "                stratify=df_tmp[\"OS_{0:0=2}years\".format(year)],\n",
    "            )\n",
    "            df_train, df_val = train_test_split(\n",
    "                df_train,\n",
    "                test_size=0.1,\n",
    "                random_state=SEED,\n",
    "                stratify=df_train[\"OS_{0:0=2}years\".format(year)],\n",
    "            )\n",
    "\n",
    "            # ループ内定数の初期化\n",
    "            prognosis_column = \"OS_{0:0=2}years\".format(year)\n",
    "            prognosis_Xlabel = \"X{0:0=2}_{1}\".format(year, subtype)\n",
    "            prognosis_ylabel = \"y{0:0=2}_{1}\".format(year, subtype)\n",
    "\n",
    "            # print(\"-----\" * 15)\n",
    "            # 説明変数、目的変数の定義\n",
    "            X_train = df_train.drop(drop_columns, axis=1)\n",
    "            y_train = df_train[prognosis_column].dropna().astype(int)\n",
    "            X_val = df_val.drop(drop_columns, axis=1)\n",
    "            y_val = df_val[prognosis_column].dropna().astype(int)\n",
    "            X_test = df_test.drop(drop_columns, axis=1)\n",
    "            y_test = df_test[prognosis_column].dropna().astype(int)\n",
    "\n",
    "            # サンプルサイズのユニットテスト\n",
    "            assert (\n",
    "                X_train.shape[0] == y_train.shape[0]\n",
    "            ), \"train sample size is incorrect\"\n",
    "            assert X_val.shape[0] == y_val.shape[0], \"val sample size is incorrect\"\n",
    "            assert X_test.shape[0] == y_test.shape[0], \"test sample size is incorrect\"\n",
    "\n",
    "            # 辞書に格納\n",
    "            X_dict[microarray_type][\"claudin_subtype\"][\"train\"][\n",
    "                prognosis_Xlabel\n",
    "            ] = X_train\n",
    "            y_dict[microarray_type][\"claudin_subtype\"][\"train\"][\n",
    "                prognosis_ylabel\n",
    "            ] = y_train\n",
    "            X_dict[microarray_type][\"claudin_subtype\"][\"val\"][prognosis_Xlabel] = X_val\n",
    "            y_dict[microarray_type][\"claudin_subtype\"][\"val\"][prognosis_ylabel] = y_val\n",
    "            X_dict[microarray_type][\"claudin_subtype\"][\"test\"][\n",
    "                prognosis_Xlabel\n",
    "            ] = X_test\n",
    "            y_dict[microarray_type][\"claudin_subtype\"][\"test\"][\n",
    "                prognosis_ylabel\n",
    "            ] = y_test\n",
    "\n",
    "            # データの保存\n",
    "            X_train.to_pickle(dir_name + \"/train/{0}.pickle\".format(prognosis_Xlabel))\n",
    "            y_train.to_pickle(dir_name + \"/train/{0}.pickle\".format(prognosis_ylabel))\n",
    "            X_val.to_pickle(dir_name + \"/val/{0}.pickle\".format(prognosis_Xlabel))\n",
    "            X_test.to_pickle(dir_name + \"/test/{0}.pickle\".format(prognosis_Xlabel))\n",
    "            y_test.to_pickle(dir_name + \"/test/{0}.pickle\".format(prognosis_ylabel))"
   ]
  },
  {
   "cell_type": "code",
   "execution_count": 40,
   "id": "c16fd592-a41c-476f-979f-60945631bc8b",
   "metadata": {},
   "outputs": [
    {
     "name": "stderr",
     "output_type": "stream",
     "text": [
      "100%|█████████████████████████████████████████████████████████████████████████████████████| 6/6 [00:00<00:00, 11.84it/s]\n"
     ]
    }
   ],
   "source": [
    "# microarry\n",
    "data2dict_subtype(config.SET_NAME_MICROARRAY[INDEX_MICROARRAY])"
   ]
  },
  {
   "cell_type": "markdown",
   "id": "014809ae-12a3-4e28-9627-8df22e0ebb44",
   "metadata": {
    "tags": []
   },
   "source": [
    "# 特徴量選択（filter methods）の適用"
   ]
  },
  {
   "cell_type": "markdown",
   "id": "45a1a2cb-e6cc-430a-9021-b993870d7406",
   "metadata": {},
   "source": [
    "- χ^2検定\n",
    "- boruta\n",
    "- mRMR"
   ]
  },
  {
   "cell_type": "markdown",
   "id": "8d83cde8-4e6c-43de-a820-3d10660a7186",
   "metadata": {
    "tags": []
   },
   "source": [
    "## 最適な特徴量数はいくつなのか実験\n",
    "\n",
    "特徴量選択数を変化させ、学習曲線を描画する"
   ]
  },
  {
   "cell_type": "markdown",
   "id": "d9fa5f21-6876-4883-be76-63b3a9ea8e73",
   "metadata": {
    "tags": []
   },
   "source": [
    "def calc_features_num(\n",
    "    mircroarray_type: str,\n",
    "    method: str,\n",
    "    clf: callable,\n",
    "    max_k: int = 100,\n",
    "    min_k: int = 10,\n",
    "    span: int = 10,\n",
    "):\n",
    "    for year in tqdm(range(15, 16, 5)):  # 予後年数毎のループ\n",
    "        # 特徴量選択から行うので特徴量選択前のデータから使用\n",
    "        X_train = pd.concat(\n",
    "            [\n",
    "                X_dict[mircroarray_type][\"train\"][\"X{0:0=2}\".format(year)],\n",
    "                X_dict[mircroarray_type][\"val\"][\"X{0:0=2}\".format(year)],\n",
    "            ]\n",
    "        )\n",
    "        y_train = pd.concat(\n",
    "            [\n",
    "                y_dict[mircroarray_type][\"train\"][\"y{0:0=2}\".format(year)],\n",
    "                y_dict[mircroarray_type][\"val\"][\"y{0:0=2}\".format(year)],\n",
    "            ]\n",
    "        )\n",
    "        X_t, X_v, y_t, y_v = train_test_split(\n",
    "            X_train, y_train, stratify=y_train, train_size=0.5, random_state=SEED\n",
    "        )\n",
    "\n",
    "        fig, axes = plt.subplots(\n",
    "            2,\n",
    "            (max_k - min_k) // span + 1,\n",
    "            figsize=(6 * ((max_k - min_k) // span + 1), 6),\n",
    "        )\n",
    "        cv = StratifiedShuffleSplit(n_splits=5, random_state=SEED)\n",
    "\n",
    "        for k in range(min_k, max_k + 1, span):\n",
    "            features = mrmr.mrmr_classif(\n",
    "                X=X_t,\n",
    "                y=y_t,\n",
    "                K=k,\n",
    "                show_progress=False,\n",
    "            )\n",
    "            title = \"features size: {0}\".format(len(features))\n",
    "\n",
    "            # cvをplot_learning_curve内で実施するので、X(y)_trainは使用しない\n",
    "            plot_learning_curve(\n",
    "                clf,\n",
    "                title,\n",
    "                X_v[features],\n",
    "                y_v,\n",
    "                axes=axes[:, (k - min_k) // span],\n",
    "                ylim=(0.49, 1.01),\n",
    "                cv=cv,\n",
    "                n_jobs=4,\n",
    "                scoring=\"f1_score\",\n",
    "            )\n",
    "        make_dir(\n",
    "            config.FIGURES_MODELS_PROGNOSIS_CROSS_DIR\n",
    "            + \"/learning_curve/{0}/{1}\".format(mircroarray_type, method)\n",
    "        )\n",
    "        plt.savefig(\n",
    "            config.FIGURES_MODELS_PROGNOSIS_CROSS_DIR\n",
    "            + \"/learning_curve/{0}/{1}/X{2:0=2}.png\".format(\n",
    "                mircroarray_type, method, year\n",
    "            )\n",
    "        )"
   ]
  },
  {
   "cell_type": "markdown",
   "id": "b11908b8-1c0b-49d6-98b7-066992bf8c34",
   "metadata": {
    "jupyter": {
     "outputs_hidden": true
    },
    "tags": []
   },
   "source": [
    "params = {\n",
    "    \"n_estimators\": 500,\n",
    "    \"criterion\": \"entropy\",\n",
    "    \"max_depth\": 5,\n",
    "    \"max_leaf_nodes\": 20,\n",
    "    \"max_features\": \"log2\",\n",
    "    \"class_weight\": \"balanced\",\n",
    "    \"random_state\": SEED,\n",
    "}\n",
    "clf = RandomForestClassifier(**params)\n",
    "calc_features_num(\n",
    "    config.SET_NAME_MICROARRAY[INDEX_MICROARRAY],\n",
    "    \"mrmr\",\n",
    "    clf,\n",
    "    max_k=48,\n",
    "    min_k=50,\n",
    "    span=1,\n",
    ")"
   ]
  },
  {
   "cell_type": "markdown",
   "id": "e327ecd0-7894-431f-905f-531469cf2ffe",
   "metadata": {
    "tags": []
   },
   "source": [
    "# apply all columns data"
   ]
  },
  {
   "cell_type": "code",
   "execution_count": 41,
   "id": "61c3017b-3f8b-4fbb-b530-4502fa00a2e0",
   "metadata": {},
   "outputs": [],
   "source": [
    "def select_features4all(\n",
    "    microarray_type: str,\n",
    "    method: str,\n",
    "    features_num: int = 35,\n",
    "):\n",
    "\n",
    "    X_dict[microarray_type][method] = {\n",
    "        \"train\": dict(),\n",
    "        \"val\": dict(),\n",
    "        \"test\": dict(),\n",
    "    }\n",
    "    y_dict[microarray_type][method] = {\n",
    "        \"train\": dict(),\n",
    "        \"val\": dict(),\n",
    "        \"test\": dict(),\n",
    "    }\n",
    "\n",
    "    dir_name = config.INTERIM_PREPROCESSED_PROGNOSIS_CROSS_DIR + \"/{0}/{1}\".format(\n",
    "        microarray_type, method\n",
    "    )\n",
    "    make_dir(dir_name + \"/train\")\n",
    "    make_dir(dir_name + \"/val\")\n",
    "    make_dir(dir_name + \"/test\")\n",
    "\n",
    "    for year in tqdm(range(15, 16, 5)):\n",
    "\n",
    "        # ループ内定数の初期化\n",
    "        # 単純に考えるために、初期化タイミングをforループ内としておく\n",
    "        prognosis_Xlabel = \"X{0:0=2}\".format(year)\n",
    "        prognosis_ylabel = \"y{0:0=2}\".format(year)\n",
    "\n",
    "        # print(\"-----\" * 15)\n",
    "        # 説明変数、目的変数の定義\n",
    "        X_train = X_dict[microarray_type][\"train\"][prognosis_Xlabel]\n",
    "        y_train = y_dict[microarray_type][\"train\"][prognosis_ylabel]\n",
    "        X_val = X_dict[microarray_type][\"val\"][prognosis_Xlabel]\n",
    "        y_val = y_dict[microarray_type][\"val\"][prognosis_ylabel]\n",
    "        X_test = X_dict[microarray_type][\"test\"][prognosis_Xlabel]\n",
    "        y_test = y_dict[microarray_type][\"test\"][prognosis_ylabel]\n",
    "        # サンプルサイズのユニットテスト\n",
    "        assert X_train.shape[0] == y_train.shape[0], \"train sample size is incorrect\"\n",
    "        assert X_val.shape[0] == y_val.shape[0], \"val sample size is incorrect\"\n",
    "        assert X_test.shape[0] == y_test.shape[0], \"test sample size is incorrect\"\n",
    "\n",
    "        # 特徴量選択の実施\n",
    "        if method == \"chi2\":\n",
    "            selector = GenericUnivariateSelect(chi2, mode=\"k_best\", param=features_num)\n",
    "            # 特徴量選択の実施（fit）\n",
    "            selector.fit(X_train, y_train)\n",
    "            features = X_train.columns[selector.get_support()]\n",
    "        elif method == \"mrmr\":\n",
    "            features = mrmr.mrmr_classif(\n",
    "                X=X_train,\n",
    "                y=y_train,\n",
    "                K=features_num,\n",
    "                show_progress=False,\n",
    "            )\n",
    "        elif method == \"boruta\":\n",
    "            rf = RandomForestClassifier(n_jobs=-1, max_depth=5, random_state=SEED)\n",
    "            feat_selector = BorutaPy(\n",
    "                rf, n_estimators=\"auto\", verbose=0, random_state=SEED\n",
    "            )\n",
    "            feat_selector.fit(\n",
    "                X_train.values,\n",
    "                y_train.values,\n",
    "            )\n",
    "            # 選択された特徴量を確認\n",
    "            features = X_train.columns[feat_selector.support_]\n",
    "        else:\n",
    "            print(\"not defined method\")\n",
    "            continue\n",
    "\n",
    "        # 特徴量選択で選ばれた特徴量の抽出（訓練、テストデータに適用）\n",
    "        # list変換するのはfuture warningが出るため\n",
    "        X_train = X_train[features]\n",
    "        X_val = X_val[features]\n",
    "        X_test = X_test[features]\n",
    "\n",
    "        # 辞書に格納\n",
    "        X_dict[microarray_type][method][\"train\"][prognosis_Xlabel] = X_train\n",
    "        y_dict[microarray_type][method][\"train\"][prognosis_ylabel] = y_train\n",
    "        X_dict[microarray_type][method][\"val\"][prognosis_Xlabel] = X_val\n",
    "        y_dict[microarray_type][method][\"val\"][prognosis_ylabel] = y_val\n",
    "        X_dict[microarray_type][method][\"test\"][prognosis_Xlabel] = X_test\n",
    "        y_dict[microarray_type][method][\"test\"][prognosis_ylabel] = y_test\n",
    "\n",
    "        # データの保存\n",
    "        X_train.to_pickle(\n",
    "            dir_name + \"/train/{0}_{1}.pickle\".format(prognosis_Xlabel, features_num)\n",
    "        )\n",
    "        y_train.to_pickle(\n",
    "            dir_name + \"/train/{0}_{1}.pickle\".format(prognosis_ylabel, features_num)\n",
    "        )\n",
    "        X_val.to_pickle(\n",
    "            dir_name + \"/val/{0}_{1}.pickle\".format(prognosis_Xlabel, features_num)\n",
    "        )\n",
    "        y_val.to_pickle(\n",
    "            dir_name + \"/val/{0}_{1}.pickle\".format(prognosis_ylabel, features_num)\n",
    "        )\n",
    "        X_test.to_pickle(\n",
    "            dir_name + \"/test/{0}_{1}.pickle\".format(prognosis_Xlabel, features_num)\n",
    "        )\n",
    "        y_test.to_pickle(\n",
    "            dir_name + \"/test/{0}_{1}.pickle\".format(prognosis_ylabel, features_num)\n",
    "        )"
   ]
  },
  {
   "cell_type": "code",
   "execution_count": 42,
   "id": "2c6d417f-5cf5-4dbd-9d88-63b3d7423b3c",
   "metadata": {
    "tags": []
   },
   "outputs": [
    {
     "name": "stderr",
     "output_type": "stream",
     "text": [
      "100%|████████████████████████████████████████████████████████████████████████████████████| 1/1 [01:52<00:00, 112.45s/it]\n"
     ]
    }
   ],
   "source": [
    "select_features4all(\n",
    "    microarray_type=config.SET_NAME_MICROARRAY[INDEX_MICROARRAY],\n",
    "    method=\"mrmr\",\n",
    "    features_num=49,\n",
    ")"
   ]
  },
  {
   "cell_type": "markdown",
   "id": "6fed31ec-73ad-49f0-9457-88726d28343f",
   "metadata": {
    "tags": []
   },
   "source": [
    "## apply each claudin_subtype columns data"
   ]
  },
  {
   "cell_type": "code",
   "execution_count": 43,
   "id": "137d5592-4224-4f8d-b10a-b9cd66c4e5b4",
   "metadata": {},
   "outputs": [],
   "source": [
    "def select_features4subtype(microarray_type: str, method: str, features_num: int = 20):\n",
    "\n",
    "    X_dict[microarray_type][\"claudin_subtype\"][method] = {\n",
    "        \"train\": dict(),\n",
    "        \"val\": dict(),\n",
    "        \"test\": dict(),\n",
    "    }\n",
    "    y_dict[microarray_type][\"claudin_subtype\"][method] = {\n",
    "        \"train\": dict(),\n",
    "        \"val\": dict(),\n",
    "        \"test\": dict(),\n",
    "    }\n",
    "\n",
    "    dir_name = (\n",
    "        config.INTERIM_PREPROCESSED_PROGNOSIS_CROSS_DIR\n",
    "        + \"/{0}/claudin_subtype/{1}\".format(microarray_type, method)\n",
    "    )\n",
    "    make_dir(dir_name + \"/train\")\n",
    "    make_dir(dir_name + \"/val\")\n",
    "    make_dir(dir_name + \"/test\")\n",
    "\n",
    "    subtypes = [\n",
    "        \"claudin-low\",\n",
    "        \"LumA\",\n",
    "        \"LumB\",\n",
    "        \"Her2\",\n",
    "        \"Normal\",\n",
    "        \"Basal\",\n",
    "    ]\n",
    "\n",
    "    for year in range(15, 16, 5):  # 予後年数毎のループ\n",
    "        for st in tqdm(subtypes):  # 遺伝子サブタイプ毎のループ\n",
    "\n",
    "            # ループ内定数の初期化\n",
    "            # 単純に考えるために、初期化タイミングをforループ内としておく\n",
    "            prognosis_Xlabel = \"X{0:0=2}_{1}\".format(year, st)\n",
    "            prognosis_ylabel = \"y{0:0=2}_{1}\".format(year, st)\n",
    "\n",
    "            # print(\"-----\" * 15)\n",
    "            # 説明変数、目的変数の定義\n",
    "            X_train = X_dict[microarray_type][\"claudin_subtype\"][\"train\"][\n",
    "                prognosis_Xlabel\n",
    "            ]\n",
    "            y_train = y_dict[microarray_type][\"claudin_subtype\"][\"train\"][\n",
    "                prognosis_ylabel\n",
    "            ]\n",
    "            X_val = X_dict[microarray_type][\"claudin_subtype\"][\"val\"][prognosis_Xlabel]\n",
    "            y_val = y_dict[microarray_type][\"claudin_subtype\"][\"val\"][prognosis_ylabel]\n",
    "            X_test = X_dict[microarray_type][\"claudin_subtype\"][\"test\"][\n",
    "                prognosis_Xlabel\n",
    "            ]\n",
    "            y_test = y_dict[microarray_type][\"claudin_subtype\"][\"test\"][\n",
    "                prognosis_ylabel\n",
    "            ]\n",
    "            # サンプルサイズのユニットテスト\n",
    "            # print(X_train.shape[0], y_train.shape[0])\n",
    "            assert (\n",
    "                X_train.shape[0] == y_train.shape[0]\n",
    "            ), \"train sample size is incorrect\"\n",
    "            assert X_val.shape[0] == y_val.shape[0], \"val sample size is incorrect\"\n",
    "            assert X_test.shape[0] == y_test.shape[0], \"test sample size is incorrect\"\n",
    "\n",
    "            # 特徴量選択の実施\n",
    "            if method == \"chi2\":\n",
    "                selector = GenericUnivariateSelect(\n",
    "                    chi2, mode=\"k_best\", param=features_num\n",
    "                )\n",
    "                # 特徴量選択の実施（fit）\n",
    "                selector.fit(X_train, y_train)\n",
    "                features = X_train.columns[selector.get_support()]\n",
    "            elif method == \"mrmr\":\n",
    "                features = mrmr.mrmr_classif(\n",
    "                    X=X_train,\n",
    "                    y=y_train,\n",
    "                    K=features_num,\n",
    "                    show_progress=False,\n",
    "                )\n",
    "            elif method == \"boruta\":\n",
    "                rf = RandomForestClassifier(n_jobs=-1, max_depth=5, random_state=SEED)\n",
    "                feat_selector = BorutaPy(\n",
    "                    rf, n_estimators=\"auto\", verbose=0, random_state=SEED\n",
    "                )\n",
    "                feat_selector.fit(\n",
    "                    X_train.values,\n",
    "                    y_train.values,\n",
    "                )\n",
    "                # 選択された特徴量を確認\n",
    "                features = X_train.columns[feat_selector.support_]\n",
    "            else:\n",
    "                print(\"not defined method\")\n",
    "                continue\n",
    "\n",
    "            # 特徴量選択で選ばれた特徴量の抽出（訓練、テストデータに適用）\n",
    "            # list変換するのはfuture warningが出るため\n",
    "            X_train = X_train[features]\n",
    "            X_val = X_val[features]\n",
    "            X_test = X_test[features]\n",
    "\n",
    "            # 辞書に格納\n",
    "            X_dict[microarray_type][\"claudin_subtype\"][method][\"train\"][\n",
    "                prognosis_Xlabel\n",
    "            ] = X_train\n",
    "            y_dict[microarray_type][\"claudin_subtype\"][method][\"train\"][\n",
    "                prognosis_ylabel\n",
    "            ] = y_train\n",
    "            X_dict[microarray_type][\"claudin_subtype\"][method][\"val\"][\n",
    "                prognosis_Xlabel\n",
    "            ] = X_val\n",
    "            y_dict[microarray_type][\"claudin_subtype\"][method][\"val\"][\n",
    "                prognosis_ylabel\n",
    "            ] = y_val\n",
    "            X_dict[microarray_type][\"claudin_subtype\"][method][\"test\"][\n",
    "                prognosis_Xlabel\n",
    "            ] = X_test\n",
    "            y_dict[microarray_type][\"claudin_subtype\"][method][\"test\"][\n",
    "                prognosis_ylabel\n",
    "            ] = y_test\n",
    "\n",
    "            # データの保存\n",
    "            X_train.to_pickle(dir_name + \"/train/{0}.pickle\".format(prognosis_Xlabel))\n",
    "            y_train.to_pickle(dir_name + \"/train/{0}.pickle\".format(prognosis_ylabel))\n",
    "            X_val.to_pickle(dir_name + \"/val/{0}.pickle\".format(prognosis_Xlabel))\n",
    "            y_val.to_pickle(dir_name + \"/val/{0}.pickle\".format(prognosis_ylabel))\n",
    "            y_test.to_pickle(dir_name + \"/test/{0}.pickle\".format(prognosis_Xlabel))\n",
    "            X_test.to_pickle(dir_name + \"/test/{0}.pickle\".format(prognosis_ylabel))"
   ]
  },
  {
   "cell_type": "code",
   "execution_count": 44,
   "id": "ded9ccf0-575b-494d-be29-382d93302c0f",
   "metadata": {
    "tags": []
   },
   "outputs": [
    {
     "name": "stderr",
     "output_type": "stream",
     "text": [
      "100%|█████████████████████████████████████████████████████████████████████████████████████| 6/6 [04:26<00:00, 44.45s/it]\n"
     ]
    }
   ],
   "source": [
    "select_features4subtype(\n",
    "    microarray_type=config.SET_NAME_MICROARRAY[INDEX_MICROARRAY], method=\"mrmr\"\n",
    ")"
   ]
  },
  {
   "cell_type": "markdown",
   "id": "40a0f5a2-56c8-4d91-952d-542b1d4e36d0",
   "metadata": {},
   "source": [
    "# データの保存\n",
    "dictをpickle形式で保存できるようなので、保存"
   ]
  },
  {
   "cell_type": "code",
   "execution_count": 45,
   "id": "d34d1a02-8ea9-4fa8-879f-a39e205ceb53",
   "metadata": {
    "tags": []
   },
   "outputs": [],
   "source": [
    "make_dir(config.INTERIM_PREPROCESSED_PROGNOSIS_CROSS_DIR)\n",
    "pickle_dump(X_dict, config.INTERIM_PREPROCESSED_PROGNOSIS_CROSS_DIR + \"/X_dict.pickle\")\n",
    "pickle_dump(y_dict, config.INTERIM_PREPROCESSED_PROGNOSIS_CROSS_DIR + \"/y_dict.pickle\")"
   ]
  },
  {
   "cell_type": "markdown",
   "id": "d16e3710-7ad7-48ff-a2f2-fd175f8c1b99",
   "metadata": {},
   "source": [
    "# 特徴量選択結果確認"
   ]
  },
  {
   "cell_type": "markdown",
   "id": "4553e02c-e71f-4ed2-9e8b-d7475631ba52",
   "metadata": {},
   "source": [
    "# 特徴量選択の結果の辞書の読み込み\n",
    "X_dict = pickle_load(config.INTERIM_PREPROCESSED_PROGNOSIS_CROSS_DIR + \"/X_dict.pickle\")\n",
    "y_dict = pickle_load(config.INTERIM_PREPROCESSED_PROGNOSIS_CROSS_DIR + \"/y_dict.pickle\")"
   ]
  },
  {
   "cell_type": "markdown",
   "id": "a6be52c3-cefe-4f4b-ba93-9a7af9e52e2f",
   "metadata": {},
   "source": [
    "# 各特徴量選択手法の選択個数"
   ]
  },
  {
   "cell_type": "markdown",
   "id": "c1ebb7d9-708f-4cc9-a5de-64d9dbf3052e",
   "metadata": {},
   "source": [
    "## duplications of each micro array columns"
   ]
  },
  {
   "cell_type": "code",
   "execution_count": 46,
   "id": "abd1dd1e-9682-4eb0-aa51-e829325f3031",
   "metadata": {},
   "outputs": [],
   "source": [
    "c1 = X_dict[config.SET_NAME_MICROARRAY[0]][\"mrmr\"][\"train\"][\"X15\"].columns\n",
    "c2 = X_dict[config.SET_NAME_MICROARRAY[1]][\"mrmr\"][\"train\"][\"X15\"].columns\n",
    "c3 = X_dict[config.SET_NAME_MICROARRAY[2]][\"mrmr\"][\"train\"][\"X15\"].columns"
   ]
  },
  {
   "cell_type": "code",
   "execution_count": 47,
   "id": "6572b4ae-6d4f-4919-860c-8c7ccdfc9f65",
   "metadata": {},
   "outputs": [
    {
     "data": {
      "text/plain": [
       "['RACGAP1',\n",
       " 'STAT5B',\n",
       " 'RBBP8',\n",
       " 'ENC1',\n",
       " 'RNU11',\n",
       " 'UHRF1',\n",
       " 'S100P',\n",
       " 'MST1',\n",
       " 'FGF13',\n",
       " 'CBX7',\n",
       " 'INTS10',\n",
       " 'HIST1H2BF',\n",
       " 'AURKA',\n",
       " 'IGDCC4',\n",
       " 'FGD3',\n",
       " 'TMEM26']"
      ]
     },
     "execution_count": 47,
     "metadata": {},
     "output_type": "execute_result"
    }
   ],
   "source": [
    "c_tri = [k for k in c1 if (k in c2 and k in c3)]\n",
    "c_tri"
   ]
  },
  {
   "cell_type": "code",
   "execution_count": 48,
   "id": "93c75bb9-3133-443b-ab73-3bd3d6b44d7c",
   "metadata": {},
   "outputs": [
    {
     "data": {
      "text/plain": [
       "['C9orf95', 'WDR67', 'UBE2C']"
      ]
     },
     "metadata": {},
     "output_type": "display_data"
    },
    {
     "data": {
      "text/plain": [
       "['PPIL3', 'SPATA18', 'PDK3', 'PKMYT1', 'CATSPERB']"
      ]
     },
     "metadata": {},
     "output_type": "display_data"
    },
    {
     "data": {
      "text/plain": [
       "['DNAJB7',\n",
       " 'TOR1B',\n",
       " 'USP30',\n",
       " 'HS3ST1',\n",
       " 'GAL3ST4',\n",
       " 'ANKAR',\n",
       " 'GABRB1',\n",
       " 'APLN',\n",
       " 'SPATA4',\n",
       " 'TSPYL6',\n",
       " 'RAB3B']"
      ]
     },
     "metadata": {},
     "output_type": "display_data"
    }
   ],
   "source": [
    "display([k for k in c1 if (k in c2) and (k not in c_tri)])\n",
    "display([k for k in c1 if (k in c3) and (k not in c_tri)])\n",
    "display([k for k in c2 if (k in c3) and (k not in c_tri)])"
   ]
  },
  {
   "cell_type": "code",
   "execution_count": 49,
   "id": "1ddc1852-9802-42c6-a529-884f583b3ad3",
   "metadata": {},
   "outputs": [
    {
     "data": {
      "text/plain": [
       "['SNX24',\n",
       " 'TUB',\n",
       " 'ARRDC3',\n",
       " 'PTPLAD1',\n",
       " 'WARS2',\n",
       " 'TFPT',\n",
       " 'LRRC50',\n",
       " 'AK3',\n",
       " 'LRRC48',\n",
       " 'PSTPIP2',\n",
       " 'STAT5A',\n",
       " 'CCT6B',\n",
       " 'C14orf139',\n",
       " 'C7orf63',\n",
       " 'CD44',\n",
       " 'KIAA1967',\n",
       " 'ATAD2',\n",
       " 'N4BP2L1',\n",
       " 'PIGV',\n",
       " 'GPRC5A',\n",
       " 'OGT',\n",
       " 'TRNP1',\n",
       " 'PREX1',\n",
       " 'GPR172A',\n",
       " 'NAB1']"
      ]
     },
     "metadata": {},
     "output_type": "display_data"
    },
    {
     "data": {
      "text/plain": [
       "['PFN4',\n",
       " 'NACAP1',\n",
       " 'RAPGEF5',\n",
       " 'EMR3',\n",
       " 'CXorf57',\n",
       " 'PCM1',\n",
       " 'KRTAP12-4',\n",
       " 'AI659947',\n",
       " 'BP432397',\n",
       " 'AK022229',\n",
       " 'BE858513',\n",
       " 'DFNB59',\n",
       " 'DB341438',\n",
       " 'AW572907',\n",
       " 'GTPBP5',\n",
       " 'BG218808',\n",
       " 'AW444974',\n",
       " 'BC033399',\n",
       " 'DA697821']"
      ]
     },
     "metadata": {},
     "output_type": "display_data"
    },
    {
     "data": {
      "text/plain": [
       "['CYP2D6',\n",
       " 'PTX4',\n",
       " 'BIK',\n",
       " 'DENND6A',\n",
       " 'MIR137HG',\n",
       " 'NMRK1',\n",
       " 'TBC1D31',\n",
       " 'MTG2',\n",
       " 'PJVK',\n",
       " 'FCN2',\n",
       " 'RNASE9',\n",
       " 'SULT4A1',\n",
       " 'PRR21',\n",
       " 'DNAAF1',\n",
       " 'GPR151',\n",
       " 'GASK1A',\n",
       " 'NLRX1']"
      ]
     },
     "metadata": {},
     "output_type": "display_data"
    }
   ],
   "source": [
    "display([k for k in c1 if (k not in c2) and (k not in c3)])\n",
    "display([k for k in c2 if (k not in c1) and (k not in c3)])\n",
    "display([k for k in c3 if (k not in c1) and (k not in c2)])"
   ]
  }
 ],
 "metadata": {
  "kernelspec": {
   "display_name": "Python 3 (ipykernel)",
   "language": "python",
   "name": "python3"
  },
  "language_info": {
   "codemirror_mode": {
    "name": "ipython",
    "version": 3
   },
   "file_extension": ".py",
   "mimetype": "text/x-python",
   "name": "python",
   "nbconvert_exporter": "python",
   "pygments_lexer": "ipython3",
   "version": "3.8.13"
  },
  "vscode": {
   "interpreter": {
    "hash": "916dbcbb3f70747c44a77c7bcd40155683ae19c65e1c03b4aa3499c5328201f1"
   }
  }
 },
 "nbformat": 4,
 "nbformat_minor": 5
}
