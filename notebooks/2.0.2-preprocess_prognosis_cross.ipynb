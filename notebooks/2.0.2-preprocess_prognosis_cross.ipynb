{
 "cells": [
  {
   "cell_type": "code",
   "execution_count": 175,
   "id": "2d992235-d9ef-4a88-a47e-2ed687ece7f1",
   "metadata": {},
   "outputs": [],
   "source": [
    "import os\n",
    "import random\n",
    "import itertools\n",
    "import re\n",
    "\n",
    "# 基本的なライブラリ\n",
    "import numpy as np\n",
    "import pandas as pd\n",
    "import scipy as sp\n",
    "from scipy import stats\n",
    "\n",
    "# 描画ライブラリ\n",
    "import matplotlib.pyplot as plt\n",
    "import seaborn as sns\n",
    "from seaborn_analyzer import CustomPairPlot\n",
    "import graphviz\n",
    "import pydotplus\n",
    "from IPython.display import Image\n",
    "from IPython.display import HTML\n",
    "from six import StringIO\n",
    "from ipywidgets import interact, FloatSlider\n",
    "\n",
    "# 前処理\n",
    "from sklearn.preprocessing import StandardScaler, MinMaxScaler\n",
    "from imblearn.over_sampling import SMOTE\n",
    "from sklearn.feature_selection import VarianceThreshold\n",
    "\n",
    "# 補完\n",
    "from sklearn.experimental import (\n",
    "    enable_iterative_imputer,\n",
    ")  # IterativeImputerをimportするために必要\n",
    "from sklearn.impute import SimpleImputer, IterativeImputer, KNNImputer\n",
    "\n",
    "# エンコード\n",
    "from sklearn.preprocessing import OneHotEncoder, LabelEncoder, OrdinalEncoder\n",
    "\n",
    "# データセット分割\n",
    "from sklearn.model_selection import (\n",
    "    train_test_split,\n",
    "    StratifiedKFold,\n",
    "    ShuffleSplit,\n",
    "    StratifiedShuffleSplit,\n",
    "    KFold,\n",
    ")\n",
    "\n",
    "# 特徴量選択\n",
    "from sklearn.feature_selection import (\n",
    "    GenericUnivariateSelect,\n",
    "    f_classif,\n",
    "    mutual_info_classif,\n",
    "    chi2,\n",
    ")\n",
    "from boruta import BorutaPy\n",
    "\n",
    "# https://github.com/smazzanti/mrmr\n",
    "# pipでinstallはできたが、そのままimportできなかったので、\n",
    "# ライブラリのソースコードをそのまま環境に設置\n",
    "from libraries.mrmr import mrmr\n",
    "\n",
    "# 学習中\n",
    "from tqdm import tqdm\n",
    "from sklearn.model_selection import learning_curve\n",
    "from sklearn.metrics import roc_auc_score\n",
    "from sklearn.metrics import accuracy_score, precision_score, recall_score, f1_score\n",
    "from sklearn.metrics import confusion_matrix, ConfusionMatrixDisplay\n",
    "\n",
    "import warnings\n",
    "\n",
    "import networkx as nx\n",
    "\n",
    "\n",
    "# config python file\n",
    "import config\n",
    "\n",
    "SEED = config.SEED\n",
    "INDEX_MICROARRAY = config.INDEX_MICROARRAY\n",
    "\n",
    "from functions import *\n",
    "\n",
    "fix_seed(SEED)\n",
    "\n",
    "\n",
    "# 最大表示列数の指定（ここでは50列を指定）N\n",
    "pd.set_option(\"display.max_columns\", 50)\n",
    "pd.set_option(\"display.max_rows\", 50)\n",
    "\n",
    "%matplotlib inline"
   ]
  },
  {
   "cell_type": "markdown",
   "id": "7a4f3876-4e08-4789-b490-53a0f6e2a69e",
   "metadata": {
    "tags": []
   },
   "source": [
    "# データ読み込み\n"
   ]
  },
  {
   "cell_type": "markdown",
   "id": "215829a7-dc36-470f-b259-4b76ffcb0e7f",
   "metadata": {
    "tags": []
   },
   "source": [
    "## 生データの読み込み"
   ]
  },
  {
   "cell_type": "code",
   "execution_count": 176,
   "id": "64a0240b-49d3-4749-b63e-3c4970f7c070",
   "metadata": {},
   "outputs": [],
   "source": [
    "df_patient = pd.read_table(\n",
    "    config.RAW_BRCA_METABRIC_DIR + \"/data_clinical_patient.txt\", header=4\n",
    ")\n",
    "df_sample = pd.read_table(\n",
    "    config.RAW_BRCA_METABRIC_DIR + \"/data_clinical_sample.txt\", header=4\n",
    ")"
   ]
  },
  {
   "cell_type": "code",
   "execution_count": 177,
   "id": "895d3164-5064-49a8-b19b-aa49215bcc08",
   "metadata": {
    "tags": []
   },
   "outputs": [],
   "source": [
    "df_clinical = pd.merge(df_patient, df_sample, on=\"PATIENT_ID\")"
   ]
  },
  {
   "cell_type": "markdown",
   "id": "cdf463e4-d588-43ff-8976-b3b329db3e7d",
   "metadata": {
    "tags": []
   },
   "source": [
    "## カラムの順序変更（読みやすさのため）"
   ]
  },
  {
   "cell_type": "code",
   "execution_count": 178,
   "id": "b4e4003e-90de-45c4-a920-98d2fa37a33a",
   "metadata": {},
   "outputs": [],
   "source": [
    "def align_columns(df: pd.DataFrame, regex: str):\n",
    "    # まとめたいcolumnの正規表現を一時退避\n",
    "    df_copy = df.copy()\n",
    "    df_tmp = df_copy.filter(regex=regex)\n",
    "    # 元のdfから落とす\n",
    "    df_copy.drop(df_tmp.columns, axis=1, inplace=True)\n",
    "    # 元のdfに結合\n",
    "    return pd.merge(df_copy, df_tmp, right_index=True, left_index=True)"
   ]
  },
  {
   "cell_type": "code",
   "execution_count": 179,
   "id": "ac939ecc-0531-4099-b8f1-4ddd6675ba11",
   "metadata": {
    "tags": []
   },
   "outputs": [],
   "source": [
    "# 癌の種類\n",
    "df_clinical = align_columns(df_clinical, \"^CANCER_\")\n",
    "# 重要そう（直感）な特徴量\n",
    "df_clinical = align_columns(df_clinical, \"^ER_|^HER2_|^TUMOR_\")\n",
    "# 治療の種類\n",
    "df_clinical = align_columns(df_clinical, \".*THERAPY$|^BREAST_SURGERY\")\n",
    "# target系の種類（OS, RFS, VITAL）\n",
    "df_clinical = align_columns(df_clinical, \"^OS_.*|^RFS_.*|^VITAL_.*\")"
   ]
  },
  {
   "cell_type": "code",
   "execution_count": 180,
   "id": "7fb342c3-9937-4497-86c0-68e9abcdeef7",
   "metadata": {},
   "outputs": [],
   "source": [
    "# データを大きく2つに分割できるので、ここで分割\n",
    "df_MB = df_clinical[df_clinical[\"PATIENT_ID\"].str.contains(\"MB\")]\n",
    "df_MTST = df_clinical[df_clinical[\"PATIENT_ID\"].str.contains(\"MTS-T\")]\n",
    "df_MB.shape, df_MTST.shape\n",
    "\n",
    "# save\n",
    "make_dir(config.INTERIM_PREPROCESSED_PROGNOSIS_CROSS_DIR)\n",
    "df_MB.to_pickle(config.INTERIM_PREPROCESSED_PROGNOSIS_CROSS_DIR + \"/df_MB.pkl\")"
   ]
  },
  {
   "cell_type": "markdown",
   "id": "10162136-c15f-4bf8-9397-81b4bd243e80",
   "metadata": {
    "tags": []
   },
   "source": [
    "## 遺伝子データの読み込み"
   ]
  },
  {
   "cell_type": "code",
   "execution_count": 7,
   "id": "7c796d78-3401-4f49-9898-a21ca955714d",
   "metadata": {},
   "outputs": [],
   "source": [
    "# 遺伝子発現データ\n",
    "# 生の遺伝子発現データ\n",
    "df_mrna_agilent_microarray = pd.read_table(\n",
    "    config.RAW_BRCA_METABRIC_DIR + \"/data_mrna_agilent_microarray.txt\", index_col=0\n",
    ").T\n",
    "df_mrna_agilent_microarray = df_mrna_agilent_microarray.drop(\n",
    "    \"Entrez_Gene_Id\"\n",
    ").sort_index()\n",
    "# zスコア化済み\n",
    "df_mrna_agilent_microarray_zscores_ref_all_samples = pd.read_table(\n",
    "    config.RAW_BRCA_METABRIC_DIR\n",
    "    + \"/data_mrna_agilent_microarray_zscores_ref_all_samples.txt\",\n",
    "    index_col=0,\n",
    ").T\n",
    "df_mrna_agilent_microarray_zscores_ref_all_samples = (\n",
    "    df_mrna_agilent_microarray_zscores_ref_all_samples.drop(\"Entrez_Gene_Id\")\n",
    ").sort_index()\n",
    "# zスコア化（2倍体基準）済み\n",
    "df_mrna_agilent_microarray_zscores_ref_diploid_samples = pd.read_table(\n",
    "    config.RAW_BRCA_METABRIC_DIR\n",
    "    + \"/data_mrna_agilent_microarray_zscores_ref_diploid_samples.txt\",\n",
    "    index_col=0,\n",
    ").T\n",
    "df_mrna_agilent_microarray_zscores_ref_diploid_samples = (\n",
    "    df_mrna_agilent_microarray_zscores_ref_diploid_samples.drop(\"Entrez_Gene_Id\")\n",
    ").sort_index()\n",
    "\n",
    "\n",
    "# important to decide X_dict name\n",
    "SET_DF_MICROARRAY = (\n",
    "    df_mrna_agilent_microarray,\n",
    "    df_mrna_agilent_microarray_zscores_ref_all_samples,\n",
    "    df_mrna_agilent_microarray_zscores_ref_diploid_samples,\n",
    ")"
   ]
  },
  {
   "cell_type": "markdown",
   "id": "5672cf34-e1bd-4979-9bf1-4e3c70bdd601",
   "metadata": {
    "tags": []
   },
   "source": [
    "# 目的変数の生成\n",
    "\n",
    "元のdfにはない目的変数カラム（5年後の生存の有無）を生成する。"
   ]
  },
  {
   "cell_type": "markdown",
   "id": "1a745564-6542-4fca-b332-263b641da3d2",
   "metadata": {
    "tags": []
   },
   "source": [
    "## 目的変数｜5,10,15年後の予後の2値分類\n",
    "5,10,15年後の予後を2値分類する。  \n",
    "そのためにVITAL_STATUSとOS_MONTHを利用する。  \n",
    "以下のフローチャートで生成する。  "
   ]
  },
  {
   "cell_type": "code",
   "execution_count": 8,
   "id": "77e8b2fe-83eb-4bc9-a46f-f4f5241bb972",
   "metadata": {
    "tags": []
   },
   "outputs": [
    {
     "data": {
      "text/html": [
       "<div class=\"mxgraph\" style=\"max-width:100%;border:1px solid transparent;\" data-mxgraph=\"{&quot;highlight&quot;:&quot;#0000ff&quot;,&quot;nav&quot;:true,&quot;resize&quot;:true,&quot;toolbar&quot;:&quot;zoom layers tags lightbox&quot;,&quot;edit&quot;:&quot;_blank&quot;,&quot;xml&quot;:&quot;&lt;mxfile host=\\&quot;Electron\\&quot; modified=\\&quot;2022-05-01T07:33:42.0.405Z\\&quot; agent=\\&quot;5.0 (Macintosh; Intel Mac OS X 10_15_7) AppleWebKit/537.36 (KHTML, like Gecko) draw.io/17.2.0.2 Chrome/100.0.4896.60 Electron/18.0.1 Safari/537.36\\&quot; etag=\\&quot;CUa6MuG2A-EYqdbBh0ys\\&quot; version=\\&quot;17.2.0.2\\&quot; type=\\&quot;device\\&quot;&gt;&lt;diagram id=\\&quot;C5RBs43oDa-KdzZeNtuy\\&quot; name=\\&quot;Page-1\\&quot;&gt;7VhZc5swEP41TJ7a4Yix/RjbcZI2SduBJNOnjAIyqBasK4SP/vpKQTIQXB9tncMTP3jYZVlJ+317gOH0k/kZQ5P4CkJMDdsM54YzMGy7ZZniXyoWhcLtOoUiYiQsVFap8MgvrJTquSgnIc5qhhyAcjKpKwNIUxzwmg4xBrO62QhofdUJinBD4QWINrV3JORxoe3Y7VJ/jkkU65Utt1vcSZA2VifJYhTCrKJyTg2nzwB4cZXM+5jK2Om43F0s7ujl2D379C37iW56n/3r2w+Fs+EujyyPwHDK/69ru3A9RTRX8VJn5QsdQAZ5GmLpxDScXswTKi4tcfkDc75QgKOcg1AB4zFEkCJ6CTBRdiNIuTKzpIzT8EQCK+QHCsG4UA0JpWoNISn7jpAyzmC8xE46WAIhjSl6wLSHgnH0uNE+UGDiVgoplq5CQQZ1lnJzp6W2t2VsFQYZ5CzAa+xUcnDEIrzOn1vYyf1VeKqQO8OQYM4WwoBhijiZ1smMVE5ES7sSd3GhoN+BBk6DBuHIaPVuL/yTy3vPP/FvPMMWrs0v3v3Vl2v/3DNagzVMkSjNYsKxN0GP4ZqJ2lJnT5UV4uC9iKIsU5hugHw3yKaYcTxfG2R911WZrkpdR4mzsm5YuhjElZpxbO4JluMGLN9FKX1P0H9JUHfLBNX9a2OGKrJoYmydsMrTVyDiXKUJjEaZ2NhT6iwX/Hs2tRpsuoYGmTbj8abp9kJkau/GJevVc8ltcKnsDDITXJTIek+5jLm8b+raWi1cMSQPeba5V9QAlvQZooRQGaxzTKeYkwCt6CiIkigVQiCwxmw1c8SSJI2E5JaS/8hUUXz32Gna9U6zlKutxlzRajr7ajXt1ROAYrZs9maB4xDRDB9c63fsJ4B0X7r3d7ap1m+6Fj9769dldXPvt7as14o95kdH/GoEev3jQHer4fJ9HtgPw+xDmwj0Dit8qr8+qv5xNCCCLLYJI/E3IBlGGT56Hw3+OBrYqzrRs44GuhpWZwMmAnFoM8DT1/9j56VnAF0lNk9lPssPfyhzrP0BIsTyS25RE8vP4c7pbw==&lt;/diagram&gt;&lt;/mxfile&gt;&quot;}\"></div><script type=\"text/javascript\" src=\"https://viewer.diagrams.net/js/viewer-static.min.js\"></script>"
      ],
      "text/plain": [
       "<IPython.core.display.HTML object>"
      ]
     },
     "execution_count": 8,
     "metadata": {},
     "output_type": "execute_result"
    }
   ],
   "source": [
    "HTML(\n",
    "    '<div class=\"mxgraph\" style=\"max-width:100%;border:1px solid transparent;\" data-mxgraph=\"{&quot;highlight&quot;:&quot;#0000ff&quot;,&quot;nav&quot;:true,&quot;resize&quot;:true,&quot;toolbar&quot;:&quot;zoom layers tags lightbox&quot;,&quot;edit&quot;:&quot;_blank&quot;,&quot;xml&quot;:&quot;&lt;mxfile host=\\&quot;Electron\\&quot; modified=\\&quot;2022-05-01T07:33:42.0.405Z\\&quot; agent=\\&quot;5.0 (Macintosh; Intel Mac OS X 10_15_7) AppleWebKit/537.36 (KHTML, like Gecko) draw.io/17.2.0.2 Chrome/100.0.4896.60 Electron/18.0.1 Safari/537.36\\&quot; etag=\\&quot;CUa6MuG2A-EYqdbBh0ys\\&quot; version=\\&quot;17.2.0.2\\&quot; type=\\&quot;device\\&quot;&gt;&lt;diagram id=\\&quot;C5RBs43oDa-KdzZeNtuy\\&quot; name=\\&quot;Page-1\\&quot;&gt;7VhZc5swEP41TJ7a4Yix/RjbcZI2SduBJNOnjAIyqBasK4SP/vpKQTIQXB9tncMTP3jYZVlJ+317gOH0k/kZQ5P4CkJMDdsM54YzMGy7ZZniXyoWhcLtOoUiYiQsVFap8MgvrJTquSgnIc5qhhyAcjKpKwNIUxzwmg4xBrO62QhofdUJinBD4QWINrV3JORxoe3Y7VJ/jkkU65Utt1vcSZA2VifJYhTCrKJyTg2nzwB4cZXM+5jK2Om43F0s7ujl2D379C37iW56n/3r2w+Fs+EujyyPwHDK/69ru3A9RTRX8VJn5QsdQAZ5GmLpxDScXswTKi4tcfkDc75QgKOcg1AB4zFEkCJ6CTBRdiNIuTKzpIzT8EQCK+QHCsG4UA0JpWoNISn7jpAyzmC8xE46WAIhjSl6wLSHgnH0uNE+UGDiVgoplq5CQQZ1lnJzp6W2t2VsFQYZ5CzAa+xUcnDEIrzOn1vYyf1VeKqQO8OQYM4WwoBhijiZ1smMVE5ES7sSd3GhoN+BBk6DBuHIaPVuL/yTy3vPP/FvPMMWrs0v3v3Vl2v/3DNagzVMkSjNYsKxN0GP4ZqJ2lJnT5UV4uC9iKIsU5hugHw3yKaYcTxfG2R911WZrkpdR4mzsm5YuhjElZpxbO4JluMGLN9FKX1P0H9JUHfLBNX9a2OGKrJoYmydsMrTVyDiXKUJjEaZ2NhT6iwX/Hs2tRpsuoYGmTbj8abp9kJkau/GJevVc8ltcKnsDDITXJTIek+5jLm8b+raWi1cMSQPeba5V9QAlvQZooRQGaxzTKeYkwCt6CiIkigVQiCwxmw1c8SSJI2E5JaS/8hUUXz32Gna9U6zlKutxlzRajr7ajXt1ROAYrZs9maB4xDRDB9c63fsJ4B0X7r3d7ap1m+6Fj9769dldXPvt7as14o95kdH/GoEev3jQHer4fJ9HtgPw+xDmwj0Dit8qr8+qv5xNCCCLLYJI/E3IBlGGT56Hw3+OBrYqzrRs44GuhpWZwMmAnFoM8DT1/9j56VnAF0lNk9lPssPfyhzrP0BIsTyS25RE8vP4c7pbw==&lt;/diagram&gt;&lt;/mxfile&gt;&quot;}\"></div><script type=\"text/javascript\" src=\"https://viewer.diagrams.net/js/viewer-static.min.js\"></script>'\n",
    ")"
   ]
  },
  {
   "cell_type": "code",
   "execution_count": 9,
   "id": "c35a45aa-0f15-4c07-908d-377408cc764d",
   "metadata": {},
   "outputs": [],
   "source": [
    "def make_target(df: pd.DataFrame(), year: int = 5, drop=False):\n",
    "    df = df.copy()  # 引数dfの更新を防ぐ（pythonの関数は参照渡し）\n",
    "    target_name = \"OS_{0}years\".format(str(year).zfill(2))\n",
    "    df[target_name] = np.nan\n",
    "    df[target_name] = df[target_name].mask(df[\"OS_MONTHS\"] > year * 12, False)\n",
    "    df[target_name] = df[target_name].mask(\n",
    "        (df[\"OS_MONTHS\"] <= year * 12) & (df[\"VITAL_STATUS\"] == \"Died of Disease\"),\n",
    "        True,\n",
    "    )\n",
    "    # targetを定義できなかったデータは除く\n",
    "    if drop:\n",
    "        df = df[df[target_name].notnull()]\n",
    "    return df"
   ]
  },
  {
   "cell_type": "code",
   "execution_count": 10,
   "id": "0d0c7b88-102e-4212-8cad-5721fd7f4cab",
   "metadata": {},
   "outputs": [],
   "source": [
    "df_MB = make_target(df_MB, year=5)\n",
    "df_MB = make_target(df_MB, year=10)\n",
    "df_MB = make_target(df_MB, year=15)\n",
    "target_list = [\"OS_05years\", \"OS_10years\", \"OS_15years\"]"
   ]
  },
  {
   "cell_type": "markdown",
   "id": "0e96d0f5-c5be-4815-b928-b4a4da1026c7",
   "metadata": {
    "tags": []
   },
   "source": [
    "# データフレームの結合\n",
    "\n",
    "臨床データと遺伝子データを結合する  \n",
    "結合パターン\n",
    "1. 臨床データと生の遺伝子発現データ\n",
    "2. 臨床データとzスコア化した遺伝子発現データ\n",
    "3. 臨床データとzスコア化（2倍体）した遺伝子発現データ\n"
   ]
  },
  {
   "cell_type": "markdown",
   "id": "973aaf03-44f5-4ab3-875e-0cc8d5ceedfb",
   "metadata": {
    "tags": []
   },
   "source": [
    "## データフレームの結合\n",
    "### 使用する特徴量\n",
    "\n",
    "臨床データ\n",
    "- 目的変数：OS_nyears\n",
    "- 遺伝子学的特徴量：CLAUDIN_SUBTYPE\n",
    "- その他重要そうな特徴量：NPI（3.0.0のSHAPで重要度高）、ER_STATUS, HER2_STATUS, PR_STATUS（ドメイン知識）\n",
    "\n",
    "遺伝子発現データ\n",
    "- 全ての遺伝子発現"
   ]
  },
  {
   "cell_type": "code",
   "execution_count": 11,
   "id": "edb3b0e5-82ca-4e64-a853-c0d501484fc6",
   "metadata": {},
   "outputs": [
    {
     "data": {
      "text/plain": [
       "Index(['PATIENT_ID', 'LYMPH_NODES_EXAMINED_POSITIVE', 'NPI', 'CELLULARITY',\n",
       "       'COHORT', 'INFERRED_MENOPAUSAL_STATE', 'SEX', 'INTCLUST',\n",
       "       'AGE_AT_DIAGNOSIS', 'CLAUDIN_SUBTYPE', 'THREEGENE', 'LATERALITY',\n",
       "       'HISTOLOGICAL_SUBTYPE', 'SAMPLE_ID', 'GRADE', 'ONCOTREE_CODE',\n",
       "       'PR_STATUS', 'SAMPLE_TYPE', 'TMB_NONSYNONYMOUS', 'CANCER_TYPE',\n",
       "       'CANCER_TYPE_DETAILED', 'ER_IHC', 'HER2_SNP6', 'ER_STATUS',\n",
       "       'HER2_STATUS', 'TUMOR_SIZE', 'TUMOR_STAGE', 'CHEMOTHERAPY',\n",
       "       'HORMONE_THERAPY', 'RADIO_THERAPY', 'BREAST_SURGERY', 'OS_MONTHS',\n",
       "       'OS_STATUS', 'VITAL_STATUS', 'RFS_STATUS', 'RFS_MONTHS', 'OS_05years',\n",
       "       'OS_10years', 'OS_15years'],\n",
       "      dtype='object')"
      ]
     },
     "execution_count": 11,
     "metadata": {},
     "output_type": "execute_result"
    }
   ],
   "source": [
    "df_MB.columns"
   ]
  },
  {
   "cell_type": "code",
   "execution_count": 12,
   "id": "a0eac703-e1aa-442c-aa0a-f49f03322a48",
   "metadata": {},
   "outputs": [],
   "source": [
    "# 結合する臨床データ\n",
    "patient_columns = [\n",
    "    \"PATIENT_ID\",\n",
    "    \"OS_05years\",\n",
    "    \"OS_10years\",\n",
    "    \"OS_15years\",\n",
    "    \"CLAUDIN_SUBTYPE\",\n",
    "    \"AGE_AT_DIAGNOSIS\",\n",
    "]"
   ]
  },
  {
   "cell_type": "code",
   "execution_count": 13,
   "id": "da9d1427-d6c0-4e71-96aa-b1962cc39f48",
   "metadata": {},
   "outputs": [
    {
     "name": "stdout",
     "output_type": "stream",
     "text": [
      "臨床データサイズ： (1980, 6)\n",
      "(1904, 18549)\n"
     ]
    }
   ],
   "source": [
    "# 臨床データ特徴量の欠損値の削除\n",
    "df_tmp = df_MB[df_MB[[\"CLAUDIN_SUBTYPE\", \"AGE_AT_DIAGNOSIS\"]].notnull().all(axis=1)][\n",
    "    patient_columns\n",
    "].replace({\"Positive\": 1, \"Negative\": 0})\n",
    "print(\"臨床データサイズ：\", df_tmp.shape)\n",
    "\n",
    "df_cross = pd.merge(\n",
    "    df_tmp,\n",
    "    SET_DF_MICROARRAY[INDEX_MICROARRAY],\n",
    "    left_on=\"PATIENT_ID\",\n",
    "    right_index=True,\n",
    "    how=\"right\",\n",
    ").reset_index(drop=True)\n",
    "print(df_cross.shape)"
   ]
  },
  {
   "cell_type": "markdown",
   "id": "f1e5c290-8406-4b67-b1f5-d3477b79bfe4",
   "metadata": {
    "tags": []
   },
   "source": [
    " ### 重複カラムのリネーム\n",
    "有識者の意見：重複した遺伝子発現は別の遺伝子発現として扱うべき。\n"
   ]
  },
  {
   "cell_type": "code",
   "execution_count": 14,
   "id": "a584bce7-5294-4993-8574-8356cb27cbf4",
   "metadata": {},
   "outputs": [
    {
     "name": "stdout",
     "output_type": "stream",
     "text": [
      "重複特徴量\n",
      "TRDV2      6\n",
      "RPL13A     5\n",
      "IL23A      4\n",
      "WASH3P     3\n",
      "SNRPN      3\n",
      "          ..\n",
      "RPL4       1\n",
      "CCDC74B    1\n",
      "RPL37      1\n",
      "SNRNP70    1\n",
      "C4orf50    1\n",
      "Length: 264, dtype: int64\n",
      "重複特徴量（rename後確認）\n",
      "Series([], dtype: int64)\n"
     ]
    }
   ],
   "source": [
    "# 重複特徴量の確認\n",
    "print(\"重複特徴量\")\n",
    "print(df_cross.columns[df_cross.columns.duplicated()].value_counts())\n",
    "# 重複特徴量のrename\n",
    "df_cross = rename_duplicated_columns(df_cross)\n",
    "# 重複特徴量の確認\n",
    "print(\"重複特徴量（rename後確認）\")\n",
    "print(df_cross.columns[df_cross.columns.duplicated()].value_counts())"
   ]
  },
  {
   "cell_type": "markdown",
   "id": "3b4d822c-917d-4ab4-a367-35e33d10bea0",
   "metadata": {
    "tags": []
   },
   "source": [
    "# 欠損値データの処理"
   ]
  },
  {
   "cell_type": "markdown",
   "id": "59c5fdad-96ed-42a6-bda9-4a93301b58a5",
   "metadata": {
    "tags": []
   },
   "source": [
    "## OS_05yearsが欠損しているデータの削除"
   ]
  },
  {
   "cell_type": "code",
   "execution_count": 15,
   "id": "1c815d43-3052-4073-8b5e-5d7a8c71e255",
   "metadata": {},
   "outputs": [
    {
     "data": {
      "text/plain": [
       "(1757, 18549)"
      ]
     },
     "execution_count": 15,
     "metadata": {},
     "output_type": "execute_result"
    }
   ],
   "source": [
    "df_cross = df_cross[df_cross[\"OS_05years\"].notnull()]\n",
    "df_cross.shape"
   ]
  },
  {
   "cell_type": "markdown",
   "id": "30374dda-6529-47d3-969a-ed351a9ffba1",
   "metadata": {
    "tags": []
   },
   "source": [
    "## 遺伝子発現の欠損値の確認"
   ]
  },
  {
   "cell_type": "code",
   "execution_count": 16,
   "id": "58c002b9-cca4-4dbb-b812-3e32cdf89ebd",
   "metadata": {},
   "outputs": [
    {
     "data": {
      "text/plain": [
       "<AxesSubplot:>"
      ]
     },
     "execution_count": 16,
     "metadata": {},
     "output_type": "execute_result"
    },
    {
     "data": {
      "image/png": "[encoded data removed]",
      "text/plain": [
       "<Figure size 432x288 with 1 Axes>"
      ]
     },
     "metadata": {
      "needs_background": "light"
     },
     "output_type": "display_data"
    }
   ],
   "source": [
    "series_genes = df_cross.isnull().sum().sort_values()[::-1]\n",
    "series_genes.plot()"
   ]
  },
  {
   "cell_type": "markdown",
   "id": "04ea0a4a-421e-4070-bde2-98f48a2f97d1",
   "metadata": {},
   "source": [
    "for some microarray, some gene expressions contains many nan, some gene expressions aontains a few nan"
   ]
  },
  {
   "cell_type": "markdown",
   "id": "c58de956-bd35-451a-97ee-65c4db982ac8",
   "metadata": {
    "tags": []
   },
   "source": [
    "## drop cols including many nans"
   ]
  },
  {
   "cell_type": "code",
   "execution_count": 17,
   "id": "16ae3b2a-a326-425b-bf8a-882a39f0e04e",
   "metadata": {
    "tags": []
   },
   "outputs": [],
   "source": [
    "drop_cols_high = series_genes[\n",
    "    series_genes.values > 1000\n",
    "].index  # select genes expression name\n",
    "df_cross = df_cross.drop(drop_cols_high, axis=1)"
   ]
  },
  {
   "cell_type": "markdown",
   "id": "6bcd2a9f-bfff-4a5a-b15a-0f21742f3243",
   "metadata": {
    "tags": []
   },
   "source": [
    "## drop rows including many nans"
   ]
  },
  {
   "cell_type": "code",
   "execution_count": 18,
   "id": "738373eb-b8dc-471e-be2e-248244407d8c",
   "metadata": {},
   "outputs": [
    {
     "data": {
      "text/plain": [
       "[None, None, None, None, None, None]"
      ]
     },
     "execution_count": 18,
     "metadata": {},
     "output_type": "execute_result"
    }
   ],
   "source": [
    "genes_cols = df_cross.columns.tolist()\n",
    "[genes_cols.remove(i) for i in patient_columns]"
   ]
  },
  {
   "cell_type": "code",
   "execution_count": 19,
   "id": "b43e36ce-a111-494b-a677-76ec1cc5599e",
   "metadata": {},
   "outputs": [
    {
     "data": {
      "text/plain": [
       "(1749, 17543)"
      ]
     },
     "execution_count": 19,
     "metadata": {},
     "output_type": "execute_result"
    }
   ],
   "source": [
    "series_tmp = df_cross[genes_cols].isnull().sum()\n",
    "drop_cols_row = series_tmp[series_tmp.values > 0].index\n",
    "\n",
    "for c in drop_cols_row:\n",
    "    df_cross = df_cross[df_cross[c].notnull()]\n",
    "df_cross.shape"
   ]
  },
  {
   "cell_type": "markdown",
   "id": "fc3b9e7b-a113-4df0-860e-d6044331639b",
   "metadata": {
    "tags": []
   },
   "source": [
    "## 分散の確認"
   ]
  },
  {
   "cell_type": "code",
   "execution_count": 20,
   "id": "fb584d3d-96a5-4aed-91e6-0d103b3eefcc",
   "metadata": {},
   "outputs": [
    {
     "name": "stdout",
     "output_type": "stream",
     "text": [
      "Before Feature Selection: (1749, 17537)\n",
      "After Feature Selection: (1749, 17537)\n"
     ]
    },
    {
     "data": {
      "text/html": [
       "<div>\n",
       "<style scoped>\n",
       "    .dataframe tbody tr th:only-of-type {\n",
       "        vertical-align: middle;\n",
       "    }\n",
       "\n",
       "    .dataframe tbody tr th {\n",
       "        vertical-align: top;\n",
       "    }\n",
       "\n",
       "    .dataframe thead th {\n",
       "        text-align: right;\n",
       "    }\n",
       "</style>\n",
       "<table border=\"1\" class=\"dataframe\">\n",
       "  <thead>\n",
       "    <tr style=\"text-align: right;\">\n",
       "      <th></th>\n",
       "      <th>False: dropped</th>\n",
       "      <th>variance</th>\n",
       "    </tr>\n",
       "  </thead>\n",
       "  <tbody>\n",
       "    <tr>\n",
       "      <th>INTS4_1</th>\n",
       "      <td>True</td>\n",
       "      <td>6.064623</td>\n",
       "    </tr>\n",
       "    <tr>\n",
       "      <th>PGAP3</th>\n",
       "      <td>True</td>\n",
       "      <td>5.695359</td>\n",
       "    </tr>\n",
       "    <tr>\n",
       "      <th>STARD3</th>\n",
       "      <td>True</td>\n",
       "      <td>5.442402</td>\n",
       "    </tr>\n",
       "    <tr>\n",
       "      <th>GRB7</th>\n",
       "      <td>True</td>\n",
       "      <td>5.410109</td>\n",
       "    </tr>\n",
       "    <tr>\n",
       "      <th>PSMD3</th>\n",
       "      <td>True</td>\n",
       "      <td>5.387086</td>\n",
       "    </tr>\n",
       "  </tbody>\n",
       "</table>\n",
       "</div>"
      ],
      "text/plain": [
       "         False: dropped  variance\n",
       "INTS4_1            True  6.064623\n",
       "PGAP3              True  5.695359\n",
       "STARD3             True  5.442402\n",
       "GRB7               True  5.410109\n",
       "PSMD3              True  5.387086"
      ]
     },
     "metadata": {},
     "output_type": "display_data"
    },
    {
     "data": {
      "text/html": [
       "<div>\n",
       "<style scoped>\n",
       "    .dataframe tbody tr th:only-of-type {\n",
       "        vertical-align: middle;\n",
       "    }\n",
       "\n",
       "    .dataframe tbody tr th {\n",
       "        vertical-align: top;\n",
       "    }\n",
       "\n",
       "    .dataframe thead th {\n",
       "        text-align: right;\n",
       "    }\n",
       "</style>\n",
       "<table border=\"1\" class=\"dataframe\">\n",
       "  <thead>\n",
       "    <tr style=\"text-align: right;\">\n",
       "      <th></th>\n",
       "      <th>False: dropped</th>\n",
       "      <th>variance</th>\n",
       "    </tr>\n",
       "  </thead>\n",
       "  <tbody>\n",
       "  </tbody>\n",
       "</table>\n",
       "</div>"
      ],
      "text/plain": [
       "Empty DataFrame\n",
       "Columns: [False: dropped, variance]\n",
       "Index: []"
      ]
     },
     "metadata": {},
     "output_type": "display_data"
    }
   ],
   "source": [
    "sel = VarianceThreshold(threshold=0.3)\n",
    "df_dropped_tmp = df_cross.drop(patient_columns, axis=1)\n",
    "sel.fit_transform(df_dropped_tmp)\n",
    "\n",
    "\n",
    "df_tmp = pd.DataFrame(\n",
    "    sel.fit_transform(df_dropped_tmp),\n",
    "    columns=df_dropped_tmp.columns.values[sel.get_support()],\n",
    ")\n",
    "print(\n",
    "    \"Before Feature Selection:\",\n",
    "    df_dropped_tmp.shape,\n",
    ")\n",
    "print(\"After Feature Selection:\", df_tmp.shape)\n",
    "\n",
    "result = pd.DataFrame(\n",
    "    sel.get_support(),\n",
    "    index=df_dropped_tmp.columns.values,\n",
    "    columns=[\"False: dropped\"],\n",
    ")\n",
    "result[\"variance\"] = sel.variances_\n",
    "display(result.sort_values(\"variance\", ascending=False).head())\n",
    "display(\n",
    "    result[result[\"False: dropped\"] == False]\n",
    "    .sort_values(\"variance\", ascending=False)\n",
    "    .tail()\n",
    ")"
   ]
  },
  {
   "cell_type": "markdown",
   "id": "ff8e67a8-dba3-4f7b-93f6-4891363b7082",
   "metadata": {},
   "source": [
    "分散の小さいデータは削除"
   ]
  },
  {
   "cell_type": "code",
   "execution_count": 21,
   "id": "0889449e-d9c9-445a-be4b-8f9d5a2042a1",
   "metadata": {},
   "outputs": [],
   "source": [
    "df_target = df_cross[patient_columns]\n",
    "df_tmp = df_cross[result[result[\"False: dropped\"] == True].index]\n",
    "df_cross = pd.merge(df_target, df_tmp, right_index=True, left_index=True)"
   ]
  },
  {
   "cell_type": "markdown",
   "id": "dcc7f671-730a-440e-9470-fc09c3e3e6ae",
   "metadata": {
    "tags": []
   },
   "source": [
    "## delete little subtype"
   ]
  },
  {
   "cell_type": "code",
   "execution_count": 22,
   "id": "09ae8a85-04ba-403d-a6e1-c0cab4de05cf",
   "metadata": {},
   "outputs": [
    {
     "data": {
      "text/html": [
       "<div>\n",
       "<style scoped>\n",
       "    .dataframe tbody tr th:only-of-type {\n",
       "        vertical-align: middle;\n",
       "    }\n",
       "\n",
       "    .dataframe tbody tr th {\n",
       "        vertical-align: top;\n",
       "    }\n",
       "\n",
       "    .dataframe thead th {\n",
       "        text-align: right;\n",
       "    }\n",
       "</style>\n",
       "<table border=\"1\" class=\"dataframe\">\n",
       "  <thead>\n",
       "    <tr style=\"text-align: right;\">\n",
       "      <th></th>\n",
       "      <th>PATIENT_ID</th>\n",
       "      <th>OS_05years</th>\n",
       "      <th>OS_10years</th>\n",
       "      <th>OS_15years</th>\n",
       "      <th>CLAUDIN_SUBTYPE</th>\n",
       "      <th>AGE_AT_DIAGNOSIS</th>\n",
       "      <th>RNF165</th>\n",
       "      <th>PHF7</th>\n",
       "      <th>CIDEA</th>\n",
       "      <th>TENT2</th>\n",
       "      <th>SLC17A3</th>\n",
       "      <th>SDS</th>\n",
       "      <th>ATP6V1C2</th>\n",
       "      <th>F3</th>\n",
       "      <th>FAM71C</th>\n",
       "      <th>LIN52</th>\n",
       "      <th>PCOTH</th>\n",
       "      <th>GRM1</th>\n",
       "      <th>FXN</th>\n",
       "      <th>SLC9A1</th>\n",
       "      <th>PML</th>\n",
       "      <th>CD164</th>\n",
       "      <th>MOB3A</th>\n",
       "      <th>KIF25-AS1</th>\n",
       "      <th>OR1J2</th>\n",
       "      <th>...</th>\n",
       "      <th>INPP5F</th>\n",
       "      <th>ZNF683</th>\n",
       "      <th>MFAP1</th>\n",
       "      <th>TMEM168</th>\n",
       "      <th>STUB1</th>\n",
       "      <th>ELANE</th>\n",
       "      <th>SHISA2</th>\n",
       "      <th>BCAT1</th>\n",
       "      <th>NCKAP1L</th>\n",
       "      <th>CATSPERD</th>\n",
       "      <th>PSMC3IP</th>\n",
       "      <th>TEAD1</th>\n",
       "      <th>GRHPR</th>\n",
       "      <th>EGLN2</th>\n",
       "      <th>TBC1D4</th>\n",
       "      <th>ANGPTL2</th>\n",
       "      <th>ENOX1</th>\n",
       "      <th>SBF2-AS1</th>\n",
       "      <th>VN1R4</th>\n",
       "      <th>UGGT1</th>\n",
       "      <th>VPS72</th>\n",
       "      <th>CSMD3</th>\n",
       "      <th>CC2D1A</th>\n",
       "      <th>IGSF9</th>\n",
       "      <th>FAM71A</th>\n",
       "    </tr>\n",
       "  </thead>\n",
       "  <tbody>\n",
       "    <tr>\n",
       "      <th>533</th>\n",
       "      <td>MB-2778</td>\n",
       "      <td>False</td>\n",
       "      <td>False</td>\n",
       "      <td>False</td>\n",
       "      <td>NC</td>\n",
       "      <td>62.76</td>\n",
       "      <td>-0.3238</td>\n",
       "      <td>-0.4013</td>\n",
       "      <td>-0.7446</td>\n",
       "      <td>0.0983</td>\n",
       "      <td>-0.5233</td>\n",
       "      <td>-0.6631</td>\n",
       "      <td>-0.4086</td>\n",
       "      <td>1.2168</td>\n",
       "      <td>-0.7136</td>\n",
       "      <td>-0.0635</td>\n",
       "      <td>0.8394</td>\n",
       "      <td>-0.7893</td>\n",
       "      <td>-0.8157</td>\n",
       "      <td>-0.3330</td>\n",
       "      <td>-0.9403</td>\n",
       "      <td>-0.1032</td>\n",
       "      <td>-0.4677</td>\n",
       "      <td>-0.3715</td>\n",
       "      <td>-1.8607</td>\n",
       "      <td>...</td>\n",
       "      <td>-0.1720</td>\n",
       "      <td>-1.0019</td>\n",
       "      <td>0.6231</td>\n",
       "      <td>0.8752</td>\n",
       "      <td>0.0563</td>\n",
       "      <td>0.2302</td>\n",
       "      <td>1.5512</td>\n",
       "      <td>2.1172</td>\n",
       "      <td>-0.6825</td>\n",
       "      <td>-0.4819</td>\n",
       "      <td>1.0692</td>\n",
       "      <td>-0.1042</td>\n",
       "      <td>0.1069</td>\n",
       "      <td>-1.2383</td>\n",
       "      <td>-0.8104</td>\n",
       "      <td>1.5204</td>\n",
       "      <td>0.6222</td>\n",
       "      <td>0.4090</td>\n",
       "      <td>-0.5995</td>\n",
       "      <td>-0.3371</td>\n",
       "      <td>1.5718</td>\n",
       "      <td>-0.2931</td>\n",
       "      <td>-1.9094</td>\n",
       "      <td>1.9780</td>\n",
       "      <td>0.6463</td>\n",
       "    </tr>\n",
       "    <tr>\n",
       "      <th>803</th>\n",
       "      <td>MB-4224</td>\n",
       "      <td>False</td>\n",
       "      <td>True</td>\n",
       "      <td>True</td>\n",
       "      <td>NC</td>\n",
       "      <td>72.39</td>\n",
       "      <td>-1.0612</td>\n",
       "      <td>3.5041</td>\n",
       "      <td>-0.7700</td>\n",
       "      <td>-2.8412</td>\n",
       "      <td>0.8332</td>\n",
       "      <td>0.2453</td>\n",
       "      <td>-0.4192</td>\n",
       "      <td>-0.2179</td>\n",
       "      <td>-0.1033</td>\n",
       "      <td>-1.5330</td>\n",
       "      <td>-0.9998</td>\n",
       "      <td>0.5087</td>\n",
       "      <td>1.9251</td>\n",
       "      <td>0.5674</td>\n",
       "      <td>3.1716</td>\n",
       "      <td>-1.1243</td>\n",
       "      <td>2.3010</td>\n",
       "      <td>-1.1363</td>\n",
       "      <td>3.3940</td>\n",
       "      <td>...</td>\n",
       "      <td>3.2891</td>\n",
       "      <td>0.1577</td>\n",
       "      <td>-3.4337</td>\n",
       "      <td>-2.9864</td>\n",
       "      <td>-0.4515</td>\n",
       "      <td>1.4395</td>\n",
       "      <td>-1.2514</td>\n",
       "      <td>-0.6888</td>\n",
       "      <td>1.9063</td>\n",
       "      <td>-2.7995</td>\n",
       "      <td>-2.4679</td>\n",
       "      <td>0.6985</td>\n",
       "      <td>-0.9544</td>\n",
       "      <td>2.1843</td>\n",
       "      <td>-0.8441</td>\n",
       "      <td>-1.1795</td>\n",
       "      <td>3.2087</td>\n",
       "      <td>-0.1002</td>\n",
       "      <td>2.6240</td>\n",
       "      <td>3.2202</td>\n",
       "      <td>0.0869</td>\n",
       "      <td>0.4678</td>\n",
       "      <td>3.4217</td>\n",
       "      <td>-0.6893</td>\n",
       "      <td>0.8296</td>\n",
       "    </tr>\n",
       "    <tr>\n",
       "      <th>926</th>\n",
       "      <td>MB-4697</td>\n",
       "      <td>False</td>\n",
       "      <td>NaN</td>\n",
       "      <td>NaN</td>\n",
       "      <td>NC</td>\n",
       "      <td>79.01</td>\n",
       "      <td>0.4373</td>\n",
       "      <td>-0.0071</td>\n",
       "      <td>3.0755</td>\n",
       "      <td>1.7638</td>\n",
       "      <td>0.5788</td>\n",
       "      <td>0.2596</td>\n",
       "      <td>-0.7871</td>\n",
       "      <td>0.8864</td>\n",
       "      <td>0.7144</td>\n",
       "      <td>-0.1081</td>\n",
       "      <td>-0.0689</td>\n",
       "      <td>-1.3073</td>\n",
       "      <td>-0.8521</td>\n",
       "      <td>0.0294</td>\n",
       "      <td>0.8060</td>\n",
       "      <td>-0.3238</td>\n",
       "      <td>0.2464</td>\n",
       "      <td>-0.2879</td>\n",
       "      <td>-0.7151</td>\n",
       "      <td>...</td>\n",
       "      <td>-0.4212</td>\n",
       "      <td>-0.3855</td>\n",
       "      <td>-0.5983</td>\n",
       "      <td>-0.9780</td>\n",
       "      <td>-1.4793</td>\n",
       "      <td>-0.4973</td>\n",
       "      <td>-0.8643</td>\n",
       "      <td>-0.4134</td>\n",
       "      <td>-0.1056</td>\n",
       "      <td>-1.1203</td>\n",
       "      <td>-0.5773</td>\n",
       "      <td>-1.5897</td>\n",
       "      <td>-0.0556</td>\n",
       "      <td>0.1508</td>\n",
       "      <td>-0.2926</td>\n",
       "      <td>0.7516</td>\n",
       "      <td>-0.3998</td>\n",
       "      <td>0.3351</td>\n",
       "      <td>0.0920</td>\n",
       "      <td>0.3337</td>\n",
       "      <td>-0.1772</td>\n",
       "      <td>-0.3625</td>\n",
       "      <td>0.1927</td>\n",
       "      <td>-0.2236</td>\n",
       "      <td>-1.6160</td>\n",
       "    </tr>\n",
       "    <tr>\n",
       "      <th>1302</th>\n",
       "      <td>MB-5339</td>\n",
       "      <td>False</td>\n",
       "      <td>False</td>\n",
       "      <td>False</td>\n",
       "      <td>NC</td>\n",
       "      <td>71.78</td>\n",
       "      <td>0.5285</td>\n",
       "      <td>0.0132</td>\n",
       "      <td>-0.4610</td>\n",
       "      <td>-0.6160</td>\n",
       "      <td>0.2263</td>\n",
       "      <td>0.5326</td>\n",
       "      <td>-0.3880</td>\n",
       "      <td>-0.7496</td>\n",
       "      <td>-0.8535</td>\n",
       "      <td>-1.8233</td>\n",
       "      <td>3.4575</td>\n",
       "      <td>-0.1722</td>\n",
       "      <td>1.6536</td>\n",
       "      <td>1.6186</td>\n",
       "      <td>0.1418</td>\n",
       "      <td>-0.4764</td>\n",
       "      <td>1.3060</td>\n",
       "      <td>0.1086</td>\n",
       "      <td>0.5144</td>\n",
       "      <td>...</td>\n",
       "      <td>0.9259</td>\n",
       "      <td>-0.2949</td>\n",
       "      <td>-0.3439</td>\n",
       "      <td>-0.7008</td>\n",
       "      <td>1.3690</td>\n",
       "      <td>-0.3832</td>\n",
       "      <td>0.1647</td>\n",
       "      <td>-0.7401</td>\n",
       "      <td>-0.4600</td>\n",
       "      <td>-1.7953</td>\n",
       "      <td>-0.9733</td>\n",
       "      <td>0.4686</td>\n",
       "      <td>0.0198</td>\n",
       "      <td>-0.0371</td>\n",
       "      <td>-0.3504</td>\n",
       "      <td>1.4603</td>\n",
       "      <td>0.1670</td>\n",
       "      <td>0.0491</td>\n",
       "      <td>0.6574</td>\n",
       "      <td>-1.0780</td>\n",
       "      <td>1.1686</td>\n",
       "      <td>0.2518</td>\n",
       "      <td>1.3702</td>\n",
       "      <td>0.9520</td>\n",
       "      <td>0.0932</td>\n",
       "    </tr>\n",
       "    <tr>\n",
       "      <th>1542</th>\n",
       "      <td>MB-6077</td>\n",
       "      <td>False</td>\n",
       "      <td>False</td>\n",
       "      <td>NaN</td>\n",
       "      <td>NC</td>\n",
       "      <td>70.92</td>\n",
       "      <td>0.3794</td>\n",
       "      <td>1.1802</td>\n",
       "      <td>1.8935</td>\n",
       "      <td>-2.2092</td>\n",
       "      <td>0.0683</td>\n",
       "      <td>-0.3136</td>\n",
       "      <td>-0.5473</td>\n",
       "      <td>-0.5690</td>\n",
       "      <td>0.4796</td>\n",
       "      <td>-0.7168</td>\n",
       "      <td>0.0597</td>\n",
       "      <td>14.4540</td>\n",
       "      <td>0.5827</td>\n",
       "      <td>0.7137</td>\n",
       "      <td>1.9155</td>\n",
       "      <td>-0.1815</td>\n",
       "      <td>0.2928</td>\n",
       "      <td>-0.1188</td>\n",
       "      <td>-0.2853</td>\n",
       "      <td>...</td>\n",
       "      <td>-0.7258</td>\n",
       "      <td>0.7004</td>\n",
       "      <td>-1.3253</td>\n",
       "      <td>-0.7520</td>\n",
       "      <td>0.9595</td>\n",
       "      <td>0.1803</td>\n",
       "      <td>-0.9323</td>\n",
       "      <td>-0.4529</td>\n",
       "      <td>1.2629</td>\n",
       "      <td>-0.1387</td>\n",
       "      <td>-0.8523</td>\n",
       "      <td>1.1182</td>\n",
       "      <td>-1.0992</td>\n",
       "      <td>1.1393</td>\n",
       "      <td>-1.1165</td>\n",
       "      <td>-0.3738</td>\n",
       "      <td>-1.6783</td>\n",
       "      <td>-1.5500</td>\n",
       "      <td>0.3597</td>\n",
       "      <td>1.0413</td>\n",
       "      <td>-1.5899</td>\n",
       "      <td>3.1848</td>\n",
       "      <td>-1.0026</td>\n",
       "      <td>0.0228</td>\n",
       "      <td>-1.2107</td>\n",
       "    </tr>\n",
       "    <tr>\n",
       "      <th>1858</th>\n",
       "      <td>MB-7237</td>\n",
       "      <td>True</td>\n",
       "      <td>True</td>\n",
       "      <td>True</td>\n",
       "      <td>NC</td>\n",
       "      <td>77.37</td>\n",
       "      <td>-1.0493</td>\n",
       "      <td>-0.3202</td>\n",
       "      <td>2.8608</td>\n",
       "      <td>-0.2260</td>\n",
       "      <td>0.0466</td>\n",
       "      <td>-0.0388</td>\n",
       "      <td>-0.1805</td>\n",
       "      <td>-0.3033</td>\n",
       "      <td>0.4863</td>\n",
       "      <td>0.8370</td>\n",
       "      <td>1.0127</td>\n",
       "      <td>-0.7438</td>\n",
       "      <td>-0.8110</td>\n",
       "      <td>-0.9816</td>\n",
       "      <td>0.8588</td>\n",
       "      <td>-0.7589</td>\n",
       "      <td>-0.3157</td>\n",
       "      <td>-0.6936</td>\n",
       "      <td>-1.3241</td>\n",
       "      <td>...</td>\n",
       "      <td>0.0094</td>\n",
       "      <td>0.7272</td>\n",
       "      <td>-0.4135</td>\n",
       "      <td>0.5315</td>\n",
       "      <td>0.6677</td>\n",
       "      <td>-0.0688</td>\n",
       "      <td>-1.0864</td>\n",
       "      <td>0.0797</td>\n",
       "      <td>-0.0958</td>\n",
       "      <td>-0.6588</td>\n",
       "      <td>1.5123</td>\n",
       "      <td>-0.7100</td>\n",
       "      <td>1.0983</td>\n",
       "      <td>-0.7209</td>\n",
       "      <td>-0.9872</td>\n",
       "      <td>1.7342</td>\n",
       "      <td>0.1972</td>\n",
       "      <td>-0.3210</td>\n",
       "      <td>0.7988</td>\n",
       "      <td>-0.4093</td>\n",
       "      <td>0.6391</td>\n",
       "      <td>-0.3146</td>\n",
       "      <td>-1.5041</td>\n",
       "      <td>-0.2496</td>\n",
       "      <td>-0.9262</td>\n",
       "    </tr>\n",
       "  </tbody>\n",
       "</table>\n",
       "<p>6 rows × 17543 columns</p>\n",
       "</div>"
      ],
      "text/plain": [
       "     PATIENT_ID OS_05years OS_10years OS_15years CLAUDIN_SUBTYPE  \\\n",
       "533     MB-2778      False      False      False              NC   \n",
       "803     MB-4224      False       True       True              NC   \n",
       "926     MB-4697      False        NaN        NaN              NC   \n",
       "1302    MB-5339      False      False      False              NC   \n",
       "1542    MB-6077      False      False        NaN              NC   \n",
       "1858    MB-7237       True       True       True              NC   \n",
       "\n",
       "      AGE_AT_DIAGNOSIS  RNF165    PHF7   CIDEA   TENT2  SLC17A3     SDS  \\\n",
       "533              62.76 -0.3238 -0.4013 -0.7446  0.0983  -0.5233 -0.6631   \n",
       "803              72.39 -1.0612  3.5041 -0.7700 -2.8412   0.8332  0.2453   \n",
       "926              79.01  0.4373 -0.0071  3.0755  1.7638   0.5788  0.2596   \n",
       "1302             71.78  0.5285  0.0132 -0.4610 -0.6160   0.2263  0.5326   \n",
       "1542             70.92  0.3794  1.1802  1.8935 -2.2092   0.0683 -0.3136   \n",
       "1858             77.37 -1.0493 -0.3202  2.8608 -0.2260   0.0466 -0.0388   \n",
       "\n",
       "      ATP6V1C2      F3  FAM71C   LIN52   PCOTH     GRM1     FXN  SLC9A1  \\\n",
       "533    -0.4086  1.2168 -0.7136 -0.0635  0.8394  -0.7893 -0.8157 -0.3330   \n",
       "803    -0.4192 -0.2179 -0.1033 -1.5330 -0.9998   0.5087  1.9251  0.5674   \n",
       "926    -0.7871  0.8864  0.7144 -0.1081 -0.0689  -1.3073 -0.8521  0.0294   \n",
       "1302   -0.3880 -0.7496 -0.8535 -1.8233  3.4575  -0.1722  1.6536  1.6186   \n",
       "1542   -0.5473 -0.5690  0.4796 -0.7168  0.0597  14.4540  0.5827  0.7137   \n",
       "1858   -0.1805 -0.3033  0.4863  0.8370  1.0127  -0.7438 -0.8110 -0.9816   \n",
       "\n",
       "         PML   CD164   MOB3A  KIF25-AS1   OR1J2  ...  INPP5F  ZNF683   MFAP1  \\\n",
       "533  -0.9403 -0.1032 -0.4677    -0.3715 -1.8607  ... -0.1720 -1.0019  0.6231   \n",
       "803   3.1716 -1.1243  2.3010    -1.1363  3.3940  ...  3.2891  0.1577 -3.4337   \n",
       "926   0.8060 -0.3238  0.2464    -0.2879 -0.7151  ... -0.4212 -0.3855 -0.5983   \n",
       "1302  0.1418 -0.4764  1.3060     0.1086  0.5144  ...  0.9259 -0.2949 -0.3439   \n",
       "1542  1.9155 -0.1815  0.2928    -0.1188 -0.2853  ... -0.7258  0.7004 -1.3253   \n",
       "1858  0.8588 -0.7589 -0.3157    -0.6936 -1.3241  ...  0.0094  0.7272 -0.4135   \n",
       "\n",
       "      TMEM168   STUB1   ELANE  SHISA2   BCAT1  NCKAP1L  CATSPERD  PSMC3IP  \\\n",
       "533    0.8752  0.0563  0.2302  1.5512  2.1172  -0.6825   -0.4819   1.0692   \n",
       "803   -2.9864 -0.4515  1.4395 -1.2514 -0.6888   1.9063   -2.7995  -2.4679   \n",
       "926   -0.9780 -1.4793 -0.4973 -0.8643 -0.4134  -0.1056   -1.1203  -0.5773   \n",
       "1302  -0.7008  1.3690 -0.3832  0.1647 -0.7401  -0.4600   -1.7953  -0.9733   \n",
       "1542  -0.7520  0.9595  0.1803 -0.9323 -0.4529   1.2629   -0.1387  -0.8523   \n",
       "1858   0.5315  0.6677 -0.0688 -1.0864  0.0797  -0.0958   -0.6588   1.5123   \n",
       "\n",
       "       TEAD1   GRHPR   EGLN2  TBC1D4  ANGPTL2   ENOX1  SBF2-AS1   VN1R4  \\\n",
       "533  -0.1042  0.1069 -1.2383 -0.8104   1.5204  0.6222    0.4090 -0.5995   \n",
       "803   0.6985 -0.9544  2.1843 -0.8441  -1.1795  3.2087   -0.1002  2.6240   \n",
       "926  -1.5897 -0.0556  0.1508 -0.2926   0.7516 -0.3998    0.3351  0.0920   \n",
       "1302  0.4686  0.0198 -0.0371 -0.3504   1.4603  0.1670    0.0491  0.6574   \n",
       "1542  1.1182 -1.0992  1.1393 -1.1165  -0.3738 -1.6783   -1.5500  0.3597   \n",
       "1858 -0.7100  1.0983 -0.7209 -0.9872   1.7342  0.1972   -0.3210  0.7988   \n",
       "\n",
       "       UGGT1   VPS72   CSMD3  CC2D1A   IGSF9  FAM71A  \n",
       "533  -0.3371  1.5718 -0.2931 -1.9094  1.9780  0.6463  \n",
       "803   3.2202  0.0869  0.4678  3.4217 -0.6893  0.8296  \n",
       "926   0.3337 -0.1772 -0.3625  0.1927 -0.2236 -1.6160  \n",
       "1302 -1.0780  1.1686  0.2518  1.3702  0.9520  0.0932  \n",
       "1542  1.0413 -1.5899  3.1848 -1.0026  0.0228 -1.2107  \n",
       "1858 -0.4093  0.6391 -0.3146 -1.5041 -0.2496 -0.9262  \n",
       "\n",
       "[6 rows x 17543 columns]"
      ]
     },
     "execution_count": 22,
     "metadata": {},
     "output_type": "execute_result"
    }
   ],
   "source": [
    "df_cross[df_cross[\"CLAUDIN_SUBTYPE\"] == \"NC\"]"
   ]
  },
  {
   "cell_type": "markdown",
   "id": "49b20324-e539-476c-ac31-17249f1a5193",
   "metadata": {},
   "source": [
    "testデータにはFalseの事例しか無く、また、交差検証をする際に十分に学習できる見込みがない  \n",
    "▷NCのデータも削除したほうが良い"
   ]
  },
  {
   "cell_type": "code",
   "execution_count": 23,
   "id": "69382cb2-b2b1-48ee-85ff-de43f798dec5",
   "metadata": {},
   "outputs": [],
   "source": [
    "# CLAUDIN_SUBTYPE==NCの削除\n",
    "df_cross = df_cross[df_cross[\"CLAUDIN_SUBTYPE\"] != \"NC\"]\n",
    "# save\n",
    "make_dir(config.INTERIM_PREPROCESSED_PROGNOSIS_CROSS_DIR)\n",
    "df_cross.to_pickle(\n",
    "    config.INTERIM_PREPROCESSED_PROGNOSIS_CROSS_DIR\n",
    "    + \"/df_cross_{0}.pkl\".format(config.SET_NAME_MICROARRAY[INDEX_MICROARRAY])\n",
    ")"
   ]
  },
  {
   "cell_type": "code",
   "execution_count": 24,
   "id": "94f2836c-cad2-42df-b2b9-643dde04ccb2",
   "metadata": {},
   "outputs": [
    {
     "data": {
      "text/plain": [
       "PATIENT_ID            0\n",
       "OS_05years            0\n",
       "OS_10years          346\n",
       "OS_15years          674\n",
       "CLAUDIN_SUBTYPE       0\n",
       "AGE_AT_DIAGNOSIS      0\n",
       "dtype: int64"
      ]
     },
     "execution_count": 24,
     "metadata": {},
     "output_type": "execute_result"
    }
   ],
   "source": [
    "df_cross[patient_columns].isnull().sum()"
   ]
  },
  {
   "cell_type": "markdown",
   "id": "c192d3b1-b0c8-4bf8-8414-17078691530c",
   "metadata": {
    "tags": []
   },
   "source": [
    "# dfの辞書の作成\n",
    "\n",
    "各dfに対して適用する処理ごとに特徴量の組み合わせを辞書に保存する  \n",
    "適用対象のdfも事前に特徴量を事前知識からいくつかパターンを用意する"
   ]
  },
  {
   "cell_type": "code",
   "execution_count": 109,
   "id": "2e899b3f-ff56-4c4b-9cf5-bc1a9a72c61f",
   "metadata": {},
   "outputs": [],
   "source": [
    "# 特徴量選択の結果の辞書の読み込み\n",
    "\n",
    "X_path = config.INTERIM_PREPROCESSED_PROGNOSIS_CROSS_DIR + \"/X_dict.pickle\"\n",
    "X_dict = (\n",
    "    pickle_load(X_path)\n",
    "    if os.path.exists(X_path)\n",
    "    else dict({config.SET_NAME_MICROARRAY[INDEX_MICROARRAY]: dict()})\n",
    ")\n",
    "y_path = config.INTERIM_PREPROCESSED_PROGNOSIS_CROSS_DIR + \"/y_dict.pickle\"\n",
    "y_dict = (\n",
    "    pickle_load(y_path)\n",
    "    if os.path.exists(y_path)\n",
    "    else dict({config.SET_NAME_MICROARRAY[INDEX_MICROARRAY]: dict()})\n",
    ")"
   ]
  },
  {
   "cell_type": "code",
   "execution_count": 37,
   "id": "8311c49f-83de-4014-932b-01819b0c5d7b",
   "metadata": {},
   "outputs": [
    {
     "ename": "NameError",
     "evalue": "name 'df_clinical' is not defined",
     "output_type": "error",
     "traceback": [
      "\u001b[0;31m---------------------------------------------------------------------------\u001b[0m",
      "\u001b[0;31mNameError\u001b[0m                                 Traceback (most recent call last)",
      "Input \u001b[0;32mIn [37]\u001b[0m, in \u001b[0;36m<cell line: 1>\u001b[0;34m()\u001b[0m\n\u001b[0;32m----> 1\u001b[0m \u001b[38;5;28;01mdel\u001b[39;00m df_clinical, df_dropped_tmp, df_MB, df_MTST, df_sample, df_tmp\n",
      "\u001b[0;31mNameError\u001b[0m: name 'df_clinical' is not defined"
     ]
    }
   ],
   "source": [
    "del df_clinical, df_dropped_tmp, df_MB, df_MTST, df_sample, df_tmp"
   ]
  },
  {
   "cell_type": "markdown",
   "id": "272e662c-3e75-49aa-9b58-e3907993651b",
   "metadata": {
    "tags": []
   },
   "source": [
    "### all columns"
   ]
  },
  {
   "cell_type": "code",
   "execution_count": 110,
   "id": "1d7bb5db-8e9c-4203-8dfc-83fbb77a97d8",
   "metadata": {},
   "outputs": [],
   "source": [
    "def data2dict(\n",
    "    microarray_type: str,\n",
    "    cat_name: str,\n",
    "    method: str,\n",
    "    drop_columns: list = patient_columns,\n",
    "):\n",
    "    # データが複数種類あるので、辞書に保存する\n",
    "    X_dict[microarray_type][cat_name] = dict()\n",
    "    y_dict[microarray_type][cat_name] = dict()\n",
    "    X_dict[microarray_type][cat_name][method] = {\n",
    "        \"train\": dict(),\n",
    "        \"val\": dict(),\n",
    "        \"test\": dict(),\n",
    "    }\n",
    "    y_dict[microarray_type][cat_name][method] = {\n",
    "        \"train\": dict(),\n",
    "        \"val\": dict(),\n",
    "        \"test\": dict(),\n",
    "    }\n",
    "\n",
    "    dir_name = config.INTERIM_PREPROCESSED_PROGNOSIS_CROSS_DIR + \"/{0}/{1}/{2}\".format(\n",
    "        microarray_type, cat_name, method\n",
    "    )\n",
    "    make_dir(dir_name + \"/train\")\n",
    "    make_dir(dir_name + \"/val\")\n",
    "    make_dir(dir_name + \"/test\")\n",
    "\n",
    "    df_train_val_test = df_cross[\n",
    "        df_cross[\"OS_{0}years\".format(config.THRESHOLD_YEAR)].notnull()\n",
    "    ]\n",
    "    df_train_val, df_test = train_test_split(\n",
    "        df_train_val_test,\n",
    "        test_size=0.1,\n",
    "        random_state=SEED,\n",
    "        stratify=df_tmp[\"OS_{0}years\".format(config.THRESHOLD_YEAR)],\n",
    "    )\n",
    "    df_train, df_val = train_test_split(\n",
    "        df_train_val,\n",
    "        test_size=0.1,\n",
    "        random_state=SEED,\n",
    "        stratify=df_train[\"OS_{0}years\".format(config.THRESHOLD_YEAR)],\n",
    "    )\n",
    "\n",
    "    # ループ内定数の初期化\n",
    "    prognosis_column = \"OS_{0}years\".format(config.THRESHOLD_YEAR)\n",
    "    prognosis_Xlabel = \"X{0}\".format(config.THRESHOLD_YEAR)\n",
    "    prognosis_ylabel = \"y{0}\".format(config.THRESHOLD_YEAR)\n",
    "\n",
    "    # print(\"-----\" * 15)\n",
    "    # 説明変数、目的変数の定義\n",
    "    X_train = df_train.drop(drop_columns, axis=1)\n",
    "    y_train = df_train[prognosis_column].dropna().astype(int)\n",
    "    X_val = df_val.drop(drop_columns, axis=1)\n",
    "    y_val = df_val[prognosis_column].dropna().astype(int)\n",
    "    X_test = df_test.drop(drop_columns, axis=1)\n",
    "    y_test = df_test[prognosis_column].dropna().astype(int)\n",
    "\n",
    "    # サンプルサイズのユニットテスト\n",
    "    assert X_train.shape[0] == y_train.shape[0], \"train sample size is incorrect\"\n",
    "    assert X_val.shape[0] == y_val.shape[0], \"val sample size is incorrect\"\n",
    "    assert X_test.shape[0] == y_test.shape[0], \"test sample size is incorrect\"\n",
    "\n",
    "    # 辞書に格納\n",
    "    X_dict[microarray_type][cat_name][method][\"train\"][prognosis_Xlabel] = X_train\n",
    "    y_dict[microarray_type][cat_name][method][\"train\"][prognosis_ylabel] = y_train\n",
    "    X_dict[microarray_type][cat_name][method][\"val\"][prognosis_Xlabel] = X_val\n",
    "    y_dict[microarray_type][cat_name][method][\"val\"][prognosis_ylabel] = y_val\n",
    "    X_dict[microarray_type][cat_name][method][\"test\"][prognosis_Xlabel] = X_test\n",
    "    y_dict[microarray_type][cat_name][method][\"test\"][prognosis_ylabel] = y_test\n",
    "\n",
    "    # データの保存\n",
    "    X_train.to_pickle(dir_name + \"/train/{0}.pickle\".format(prognosis_Xlabel))\n",
    "    y_train.to_pickle(dir_name + \"/train/{0}.pickle\".format(prognosis_ylabel))\n",
    "    X_val.to_pickle(dir_name + \"/val/{0}.pickle\".format(prognosis_Xlabel))\n",
    "    y_val.to_pickle(dir_name + \"/val/{0}.pickle\".format(prognosis_ylabel))\n",
    "    X_test.to_pickle(dir_name + \"/test/{0}.pickle\".format(prognosis_Xlabel))\n",
    "    y_test.to_pickle(dir_name + \"/test/{0}.pickle\".format(prognosis_ylabel))\n",
    "\n",
    "\n",
    "# microarry\n",
    "data2dict(\n",
    "    microarray_type=config.SET_NAME_MICROARRAY[INDEX_MICROARRAY],\n",
    "    cat_name=\"all_data\",\n",
    "    method=\"raw\",\n",
    ")"
   ]
  },
  {
   "cell_type": "markdown",
   "id": "e4733ea3-9ae2-4589-bef4-c4874531f28f",
   "metadata": {
    "jp-MarkdownHeadingCollapsed": true,
    "tags": []
   },
   "source": [
    "### claudin_subtype"
   ]
  },
  {
   "cell_type": "code",
   "execution_count": 111,
   "id": "ed2399aa-7283-44a6-8b61-e759aa3203e7",
   "metadata": {
    "tags": []
   },
   "outputs": [
    {
     "name": "stderr",
     "output_type": "stream",
     "text": [
      "100%|█████████████████████████████████████████████████████████████████████████████████████| 6/6 [00:00<00:00, 12.48it/s]\n"
     ]
    }
   ],
   "source": [
    "def data2dict_subtype(\n",
    "    microarray_type: str,\n",
    "    cat_name: str,\n",
    "    method: str,\n",
    "    drop_columns: list = patient_columns,\n",
    "):\n",
    "    # データが複数種類あるので、辞書に保存する\n",
    "    cat_name = \"claudin_subtype\"\n",
    "    X_dict[microarray_type][cat_name] = dict()\n",
    "    y_dict[microarray_type][cat_name] = dict()\n",
    "    X_dict[microarray_type][cat_name][method] = {\n",
    "        \"train\": dict(),\n",
    "        \"val\": dict(),\n",
    "        \"test\": dict(),\n",
    "    }\n",
    "    y_dict[microarray_type][cat_name][method] = {\n",
    "        \"train\": dict(),\n",
    "        \"val\": dict(),\n",
    "        \"test\": dict(),\n",
    "    }\n",
    "\n",
    "    dir_name = config.INTERIM_PREPROCESSED_PROGNOSIS_CROSS_DIR + \"/{0}/{1}/{2}\".format(\n",
    "        microarray_type, cat_name, method\n",
    "    )\n",
    "    make_dir(dir_name + \"/train\")\n",
    "    make_dir(dir_name + \"/val\")\n",
    "    make_dir(dir_name + \"/test\")\n",
    "\n",
    "    subtypes = [\n",
    "        \"claudin-low\",\n",
    "        \"LumA\",\n",
    "        \"LumB\",\n",
    "        \"Her2\",\n",
    "        \"Normal\",\n",
    "        \"Basal\",\n",
    "    ]\n",
    "\n",
    "    for subtype in tqdm(subtypes):  # 遺伝子サブタイプ毎のループ\n",
    "        df_subtype = df_cross[df_cross[\"CLAUDIN_SUBTYPE\"] == subtype]\n",
    "        df_train_val_test = df_subtype[\n",
    "            df_subtype[\"OS_{0}years\".format(config.THRESHOLD_YEAR)].notnull()\n",
    "        ]\n",
    "        df_train_val, df_test = train_test_split(\n",
    "            df_train_val_test,\n",
    "            test_size=0.1,\n",
    "            random_state=SEED,\n",
    "            stratify=df_subtype[\"OS_{0}years\".format(config.THRESHOLD_YEAR)],\n",
    "        )\n",
    "        df_train, df_val = train_test_split(\n",
    "            df_train_val,\n",
    "            test_size=0.1,\n",
    "            random_state=SEED,\n",
    "            stratify=df_train[\"OS_{0}years\".format(config.THRESHOLD_YEAR)],\n",
    "        )\n",
    "\n",
    "        # ループ内定数の初期化\n",
    "        prognosis_column = \"OS_{0}years\".format(config.THRESHOLD_YEAR)\n",
    "        # 説明変数、目的変数の定義\n",
    "        X_train = df_train.drop(drop_columns, axis=1)\n",
    "        y_train = df_train[prognosis_column].dropna().astype(int)\n",
    "        X_val = df_val.drop(drop_columns, axis=1)\n",
    "        y_val = df_val[prognosis_column].dropna().astype(int)\n",
    "        X_test = df_test.drop(drop_columns, axis=1)\n",
    "        y_test = df_test[prognosis_column].dropna().astype(int)\n",
    "\n",
    "        # サンプルサイズのユニットテスト\n",
    "        assert X_train.shape[0] == y_train.shape[0], \"train sample size is incorrect\"\n",
    "        assert X_val.shape[0] == y_val.shape[0], \"val sample size is incorrect\"\n",
    "        assert X_test.shape[0] == y_test.shape[0], \"test sample size is incorrect\"\n",
    "\n",
    "        prognosis_Xlabel = \"X{0}_{1}\".format(config.THRESHOLD_YEAR, subtype)\n",
    "        prognosis_ylabel = \"y{0}_{1}\".format(config.THRESHOLD_YEAR, subtype)\n",
    "        # 辞書に格納\n",
    "        X_dict[microarray_type][cat_name][method][\"train\"][prognosis_Xlabel] = X_train\n",
    "        y_dict[microarray_type][cat_name][method][\"train\"][prognosis_ylabel] = y_train\n",
    "        X_dict[microarray_type][cat_name][method][\"val\"][prognosis_Xlabel] = X_val\n",
    "        y_dict[microarray_type][cat_name][method][\"val\"][prognosis_ylabel] = y_val\n",
    "        X_dict[microarray_type][cat_name][method][\"test\"][prognosis_Xlabel] = X_test\n",
    "        y_dict[microarray_type][cat_name][method][\"test\"][prognosis_ylabel] = y_test\n",
    "\n",
    "        # データの保存\n",
    "        X_train.to_pickle(dir_name + \"/train/{0}.pickle\".format(prognosis_Xlabel))\n",
    "        y_train.to_pickle(dir_name + \"/train/{0}.pickle\".format(prognosis_ylabel))\n",
    "        X_val.to_pickle(dir_name + \"/val/{0}.pickle\".format(prognosis_Xlabel))\n",
    "        y_val.to_pickle(dir_name + \"/val/{0}.pickle\".format(prognosis_ylabel))\n",
    "        X_test.to_pickle(dir_name + \"/test/{0}.pickle\".format(prognosis_Xlabel))\n",
    "        y_test.to_pickle(dir_name + \"/test/{0}.pickle\".format(prognosis_ylabel))\n",
    "\n",
    "\n",
    "# microarry\n",
    "data2dict_subtype(\n",
    "    microarray_type=config.SET_NAME_MICROARRAY[INDEX_MICROARRAY],\n",
    "    cat_name=\"caludin_subtype\",\n",
    "    method=\"raw\",\n",
    ")"
   ]
  },
  {
   "cell_type": "markdown",
   "id": "f02c3937-91ee-406d-b642-d9a1a1714b91",
   "metadata": {
    "tags": []
   },
   "source": [
    "### age_at_diagnosis"
   ]
  },
  {
   "cell_type": "code",
   "execution_count": 146,
   "id": "8a3ffaa2-9f5d-421f-a263-669bd63db0f6",
   "metadata": {
    "tags": []
   },
   "outputs": [
    {
     "name": "stderr",
     "output_type": "stream",
     "text": [
      "100%|█████████████████████████████████████████████████████████████████████████████████████| 2/2 [00:00<00:00,  3.76it/s]\n"
     ]
    }
   ],
   "source": [
    "def data2dict_age(\n",
    "    microarray_type: str,\n",
    "    cat_name: str,\n",
    "    method: str,\n",
    "    drop_columns: list = patient_columns,\n",
    "):\n",
    "    # データが複数種類あるので、辞書に保存する\n",
    "    X_dict[microarray_type][cat_name] = dict()\n",
    "    y_dict[microarray_type][cat_name] = dict()\n",
    "    X_dict[microarray_type][cat_name][method] = {\n",
    "        \"train\": dict(),\n",
    "        \"val\": dict(),\n",
    "        \"test\": dict(),\n",
    "    }\n",
    "    y_dict[microarray_type][cat_name][method] = {\n",
    "        \"train\": dict(),\n",
    "        \"val\": dict(),\n",
    "        \"test\": dict(),\n",
    "    }\n",
    "\n",
    "    dir_name = config.INTERIM_PREPROCESSED_PROGNOSIS_CROSS_DIR + \"/{0}/{1}/{2}\".format(\n",
    "        microarray_type, cat_name, method\n",
    "    )\n",
    "    make_dir(dir_name + \"/train\")\n",
    "    make_dir(dir_name + \"/val\")\n",
    "    make_dir(dir_name + \"/test\")\n",
    "\n",
    "    thresholds_list = [[0, 50], [50, 100]]\n",
    "\n",
    "    for thresholds in tqdm(thresholds_list):\n",
    "        df_period = df_cross[\n",
    "            (df_cross[\"AGE_AT_DIAGNOSIS\"] >= thresholds[0])\n",
    "            & (df_cross[\"AGE_AT_DIAGNOSIS\"] < thresholds[1])\n",
    "        ]\n",
    "        df_train_val_test = df_period[\n",
    "            df_period[\"OS_{0}years\".format(config.THRESHOLD_YEAR)].notnull()\n",
    "        ]\n",
    "        df_train_val, df_test = train_test_split(\n",
    "            df_train_val_test,\n",
    "            test_size=0.1,\n",
    "            random_state=SEED,\n",
    "            stratify=df_train_val_test[\"OS_{0}years\".format(config.THRESHOLD_YEAR)],\n",
    "        )\n",
    "        df_train, df_val = train_test_split(\n",
    "            df_train_val,\n",
    "            test_size=0.1,\n",
    "            random_state=SEED,\n",
    "            stratify=df_train_val[\"OS_{0}years\".format(config.THRESHOLD_YEAR)],\n",
    "        )\n",
    "\n",
    "        # ループ内定数の初期化\n",
    "        prognosis_column = \"OS_{0}years\".format(config.THRESHOLD_YEAR)\n",
    "        # 説明変数、目的変数の定義\n",
    "        X_train = df_train.drop(drop_columns, axis=1)\n",
    "        y_train = df_train[prognosis_column].dropna().astype(int)\n",
    "        X_val = df_val.drop(drop_columns, axis=1)\n",
    "        y_val = df_val[prognosis_column].dropna().astype(int)\n",
    "        X_test = df_test.drop(drop_columns, axis=1)\n",
    "        y_test = df_test[prognosis_column].dropna().astype(int)\n",
    "\n",
    "        # サンプルサイズのユニットテスト\n",
    "        assert X_train.shape[0] == y_train.shape[0], \"train sample size is incorrect\"\n",
    "        assert X_val.shape[0] == y_val.shape[0], \"val sample size is incorrect\"\n",
    "        assert X_test.shape[0] == y_test.shape[0], \"test sample size is incorrect\"\n",
    "\n",
    "        prognosis_Xlabel = \"X{0}_{1}to{2}\".format(\n",
    "            config.THRESHOLD_YEAR, thresholds[0], thresholds[1]\n",
    "        )\n",
    "        prognosis_ylabel = \"y{0}_{1}to{2}\".format(\n",
    "            config.THRESHOLD_YEAR, thresholds[0], thresholds[1]\n",
    "        )\n",
    "        # 辞書に格納\n",
    "        X_dict[microarray_type][cat_name][method][\"train\"][prognosis_Xlabel] = X_train\n",
    "        y_dict[microarray_type][cat_name][method][\"train\"][prognosis_ylabel] = y_train\n",
    "        X_dict[microarray_type][cat_name][method][\"val\"][prognosis_Xlabel] = X_val\n",
    "        y_dict[microarray_type][cat_name][method][\"val\"][prognosis_ylabel] = y_val\n",
    "        X_dict[microarray_type][cat_name][method][\"test\"][prognosis_Xlabel] = X_test\n",
    "        y_dict[microarray_type][cat_name][method][\"test\"][prognosis_ylabel] = y_test\n",
    "\n",
    "        # データの保存\n",
    "        X_train.to_pickle(dir_name + \"/train/{0}.pickle\".format(prognosis_Xlabel))\n",
    "        y_train.to_pickle(dir_name + \"/train/{0}.pickle\".format(prognosis_ylabel))\n",
    "        X_val.to_pickle(dir_name + \"/val/{0}.pickle\".format(prognosis_Xlabel))\n",
    "        y_val.to_pickle(dir_name + \"/val/{0}.pickle\".format(prognosis_ylabel))\n",
    "        X_test.to_pickle(dir_name + \"/test/{0}.pickle\".format(prognosis_Xlabel))\n",
    "        y_test.to_pickle(dir_name + \"/test/{0}.pickle\".format(prognosis_ylabel))\n",
    "\n",
    "\n",
    "# microarry\n",
    "data2dict_age(\n",
    "    microarray_type=config.SET_NAME_MICROARRAY[INDEX_MICROARRAY],\n",
    "    cat_name=\"age\",\n",
    "    method=\"raw\",\n",
    ")"
   ]
  },
  {
   "cell_type": "markdown",
   "id": "b4e209ac-37df-41a7-a28d-bcd26b3ca208",
   "metadata": {
    "tags": []
   },
   "source": [
    "### age and subtype"
   ]
  },
  {
   "cell_type": "code",
   "execution_count": 147,
   "id": "d279dfc3-8e5f-4fe5-8837-37cd325c0251",
   "metadata": {
    "tags": []
   },
   "outputs": [
    {
     "name": "stderr",
     "output_type": "stream",
     "text": [
      "100%|█████████████████████████████████████████████████████████████████████████████████████| 6/6 [00:00<00:00,  6.16it/s]\n"
     ]
    }
   ],
   "source": [
    "def data2dict_subtype_and_age(\n",
    "    microarray_type: str,\n",
    "    cat_name: str,\n",
    "    method: str,\n",
    "    drop_columns: list = patient_columns,\n",
    "):\n",
    "    # データが複数種類あるので、辞書に保存する\n",
    "    X_dict[microarray_type][cat_name] = dict()\n",
    "    y_dict[microarray_type][cat_name] = dict()\n",
    "    X_dict[microarray_type][cat_name][method] = {\n",
    "        \"train\": dict(),\n",
    "        \"val\": dict(),\n",
    "        \"test\": dict(),\n",
    "    }\n",
    "    y_dict[microarray_type][cat_name][method] = {\n",
    "        \"train\": dict(),\n",
    "        \"val\": dict(),\n",
    "        \"test\": dict(),\n",
    "    }\n",
    "\n",
    "    dir_name = config.INTERIM_PREPROCESSED_PROGNOSIS_CROSS_DIR + \"/{0}/{1}/{2}\".format(\n",
    "        microarray_type, cat_name, method\n",
    "    )\n",
    "    make_dir(dir_name + \"/train\")\n",
    "    make_dir(dir_name + \"/val\")\n",
    "    make_dir(dir_name + \"/test\")\n",
    "\n",
    "    subtypes = [\n",
    "        \"claudin-low\",\n",
    "        \"LumA\",\n",
    "        \"LumB\",\n",
    "        \"Her2\",\n",
    "        \"Normal\",\n",
    "        \"Basal\",\n",
    "    ]\n",
    "\n",
    "    thresholds_list = [[0, 50], [50, 100]]\n",
    "\n",
    "    for subtype in tqdm(subtypes):  # 遺伝子サブタイプ毎のループ\n",
    "        for thresholds in thresholds_list:\n",
    "            df_period = df_cross[\n",
    "                (df_cross[\"AGE_AT_DIAGNOSIS\"] >= thresholds[0])\n",
    "                & (df_cross[\"AGE_AT_DIAGNOSIS\"] < thresholds[1])\n",
    "            ]\n",
    "\n",
    "            df_subtype = df_period[df_period[\"CLAUDIN_SUBTYPE\"] == subtype]\n",
    "            df_train_val_test = df_subtype[\n",
    "                df_subtype[\"OS_{}years\".format(config.THRESHOLD_YEAR)].notnull()\n",
    "            ]\n",
    "            df_train_val, df_test = train_test_split(\n",
    "                df_train_val_test,\n",
    "                test_size=0.1,\n",
    "                random_state=SEED,\n",
    "                stratify=df_train_val_test[\"OS_{0}years\".format(config.THRESHOLD_YEAR)],\n",
    "            )\n",
    "            df_train, df_val = train_test_split(\n",
    "                df_train_val,\n",
    "                test_size=0.1,\n",
    "                random_state=SEED,\n",
    "                stratify=df_train_val[\"OS_{0}years\".format(config.THRESHOLD_YEAR)],\n",
    "            )\n",
    "\n",
    "            # ループ内定数の初期化\n",
    "            prognosis_column = \"OS_{0}years\".format(config.THRESHOLD_YEAR)\n",
    "            # 説明変数、目的変数の定義\n",
    "            X_train = df_train.drop(drop_columns, axis=1)\n",
    "            y_train = df_train[prognosis_column].dropna().astype(int)\n",
    "            X_val = df_val.drop(drop_columns, axis=1)\n",
    "            y_val = df_val[prognosis_column].dropna().astype(int)\n",
    "            X_test = df_test.drop(drop_columns, axis=1)\n",
    "            y_test = df_test[prognosis_column].dropna().astype(int)\n",
    "\n",
    "            # サンプルサイズのユニットテスト\n",
    "            assert (\n",
    "                X_train.shape[0] == y_train.shape[0]\n",
    "            ), \"train sample size is incorrect\"\n",
    "            assert X_val.shape[0] == y_val.shape[0], \"val sample size is incorrect\"\n",
    "            assert X_test.shape[0] == y_test.shape[0], \"test sample size is incorrect\"\n",
    "\n",
    "            prognosis_Xlabel = \"X{0}_{1}_{2}to{3}\".format(\n",
    "                config.THRESHOLD_YEAR, subtype, thresholds[0], thresholds[1]\n",
    "            )\n",
    "            prognosis_ylabel = \"y{0}_{1}_{2}to{3}\".format(\n",
    "                config.THRESHOLD_YEAR, subtype, thresholds[0], thresholds[1]\n",
    "            )\n",
    "            # 辞書に格納\n",
    "            X_dict[microarray_type][cat_name][method][\"train\"][\n",
    "                prognosis_Xlabel\n",
    "            ] = X_train\n",
    "            y_dict[microarray_type][cat_name][method][\"train\"][\n",
    "                prognosis_ylabel\n",
    "            ] = y_train\n",
    "            X_dict[microarray_type][cat_name][method][\"val\"][prognosis_Xlabel] = X_val\n",
    "            y_dict[microarray_type][cat_name][method][\"val\"][prognosis_ylabel] = y_val\n",
    "            X_dict[microarray_type][cat_name][method][\"test\"][prognosis_Xlabel] = X_test\n",
    "            y_dict[microarray_type][cat_name][method][\"test\"][prognosis_ylabel] = y_test\n",
    "\n",
    "            # データの保存\n",
    "            X_train.to_pickle(dir_name + \"/train/{0}.pickle\".format(prognosis_Xlabel))\n",
    "            y_train.to_pickle(dir_name + \"/train/{0}.pickle\".format(prognosis_ylabel))\n",
    "            X_val.to_pickle(dir_name + \"/val/{0}.pickle\".format(prognosis_Xlabel))\n",
    "            y_val.to_pickle(dir_name + \"/val/{0}.pickle\".format(prognosis_ylabel))\n",
    "            X_test.to_pickle(dir_name + \"/test/{0}.pickle\".format(prognosis_Xlabel))\n",
    "            y_test.to_pickle(dir_name + \"/test/{0}.pickle\".format(prognosis_ylabel))\n",
    "\n",
    "\n",
    "# microarry\n",
    "data2dict_subtype_and_age(\n",
    "    microarray_type=config.SET_NAME_MICROARRAY[INDEX_MICROARRAY],\n",
    "    cat_name=\"subtype_and_age\",\n",
    "    method=\"raw\",\n",
    ")"
   ]
  },
  {
   "cell_type": "markdown",
   "id": "014809ae-12a3-4e28-9627-8df22e0ebb44",
   "metadata": {
    "tags": []
   },
   "source": [
    "# 特徴量選択（filter methods）の適用"
   ]
  },
  {
   "cell_type": "markdown",
   "id": "45a1a2cb-e6cc-430a-9021-b993870d7406",
   "metadata": {},
   "source": [
    "- χ^2検定\n",
    "- boruta\n",
    "- mRMR"
   ]
  },
  {
   "cell_type": "markdown",
   "id": "8d83cde8-4e6c-43de-a820-3d10660a7186",
   "metadata": {
    "jp-MarkdownHeadingCollapsed": true,
    "tags": []
   },
   "source": [
    "## 最適な特徴量数の実験（全データ）\n",
    "\n",
    "特徴量選択数を変化させ、学習曲線を描画する"
   ]
  },
  {
   "cell_type": "code",
   "execution_count": null,
   "id": "d079b808-ee21-4d9e-8f7c-f38e40012265",
   "metadata": {
    "tags": []
   },
   "outputs": [],
   "source": [
    "def calc_features_num(\n",
    "    mircroarray_type: str,\n",
    "    cat_name: str,\n",
    "    method: str,\n",
    "    clf: callable,\n",
    "    max_k: int = 100,\n",
    "    min_k: int = 10,\n",
    "    span: int = 10,\n",
    "):\n",
    "    for year in tqdm(range(15, 16, 5)):  # 予後年数毎のループ\n",
    "\n",
    "        prognosis_Xlabel = \"X{0}\".format(year)\n",
    "        prognosis_ylabel = \"y{0}\".format(year)\n",
    "        # 特徴量選択から行うので特徴量選択前のデータから使用\n",
    "        X_concat = pd.concat(\n",
    "            [\n",
    "                X_dict[mircroarray_type][cat_name][\"raw\"][\"train\"][prognosis_Xlabel],\n",
    "                X_dict[mircroarray_type][cat_name][\"raw\"][\"val\"][prognosis_Xlabel],\n",
    "            ]\n",
    "        )\n",
    "        y_concat = pd.concat(\n",
    "            [\n",
    "                y_dict[mircroarray_type][cat_name][\"raw\"][\"train\"][prognosis_ylabel],\n",
    "                y_dict[mircroarray_type][cat_name][\"raw\"][\"val\"][prognosis_ylabel],\n",
    "            ]\n",
    "        )\n",
    "        X_train, X_val, y_train, y_val = train_test_split(\n",
    "            X_concat, y_concat, stratify=y_train, train_size=0.5, random_state=SEED\n",
    "        )\n",
    "\n",
    "        fig, axes = plt.subplots(\n",
    "            2,\n",
    "            (max_k - min_k) // span + 1,\n",
    "            figsize=(6 * ((max_k - min_k) // span + 1), 6),\n",
    "        )\n",
    "        cv = StratifiedShuffleSplit(n_splits=5, random_state=SEED)\n",
    "\n",
    "        for k in range(min_k, max_k + 1, span):\n",
    "            features = mrmr.mrmr_classif(\n",
    "                X=X_train,\n",
    "                y=y_train,\n",
    "                K=k,\n",
    "                show_progress=False,\n",
    "            )\n",
    "            title = \"features size: {0}\".format(len(features))\n",
    "\n",
    "            # cvをplot_learning_curve内で実施するので、X(y)_trainは使用しない\n",
    "            plot_learning_curve(\n",
    "                clf,\n",
    "                title,\n",
    "                X_val[features],\n",
    "                y_val,\n",
    "                axes=axes[:, (k - min_k) // span],\n",
    "                ylim=(0.49, 1.01),\n",
    "                cv=cv,\n",
    "                n_jobs=4,\n",
    "                scoring=\"f1_score\",\n",
    "            )\n",
    "        make_dir(\n",
    "            config.FIGURES_PREPROCESS_PROGNOSIS_CROSS_DIR\n",
    "            + \"/learning_curve/{0}/{1}\".format(mircroarray_type, method)\n",
    "        )\n",
    "        plt.savefig(\n",
    "            config.FIGURES_PREPROCESS_PROGNOSIS_CROSS_DIR\n",
    "            + \"/learning_curve/{0}/{1}/{2}.png\".format(\n",
    "                mircroarray_type, method, prognosis_Xlabel\n",
    "            )\n",
    "        )"
   ]
  },
  {
   "cell_type": "code",
   "execution_count": null,
   "id": "5d51facf-475b-4bde-8145-44cb53370290",
   "metadata": {
    "tags": []
   },
   "outputs": [],
   "source": [
    "params = {\n",
    "    \"n_estimators\": 500,\n",
    "    \"criterion\": \"entropy\",\n",
    "    \"max_depth\": 5,\n",
    "    \"max_leaf_nodes\": 20,\n",
    "    \"max_features\": \"log2\",\n",
    "    \"class_weight\": \"balanced\",\n",
    "    \"random_state\": SEED,\n",
    "}\n",
    "clf = RandomForestClassifier(**params)\n",
    "calc_features_num(\n",
    "    config.SET_NAME_MICROARRAY[INDEX_MICROARRAY],\n",
    "    \"mrmr\",\n",
    "    clf,\n",
    "    max_k=49,\n",
    "    min_k=15,\n",
    "    span=34,\n",
    ")"
   ]
  },
  {
   "cell_type": "markdown",
   "id": "e327ecd0-7894-431f-905f-531469cf2ffe",
   "metadata": {
    "jp-MarkdownHeadingCollapsed": true,
    "tags": []
   },
   "source": [
    "## 特徴量選択実施（全データ）"
   ]
  },
  {
   "cell_type": "code",
   "execution_count": null,
   "id": "61c3017b-3f8b-4fbb-b530-4502fa00a2e0",
   "metadata": {},
   "outputs": [],
   "source": [
    "def select_features4all(\n",
    "    microarray_type: str,\n",
    "    method: str,\n",
    "    features_num: int = 35,\n",
    "):\n",
    "\n",
    "    X_dict[microarray_type][method] = {\n",
    "        \"train\": dict(),\n",
    "        \"val\": dict(),\n",
    "        \"test\": dict(),\n",
    "    }\n",
    "    y_dict[microarray_type][method] = {\n",
    "        \"train\": dict(),\n",
    "        \"val\": dict(),\n",
    "        \"test\": dict(),\n",
    "    }\n",
    "\n",
    "    dir_name = config.INTERIM_PREPROCESSED_PROGNOSIS_CROSS_DIR + \"/{0}/{1}\".format(\n",
    "        microarray_type, method\n",
    "    )\n",
    "    make_dir(dir_name + \"/train\")\n",
    "    make_dir(dir_name + \"/val\")\n",
    "    make_dir(dir_name + \"/test\")\n",
    "\n",
    "    for year in tqdm(range(15, 16, 5)):\n",
    "\n",
    "        # ループ内定数の初期化\n",
    "        # 単純に考えるために、初期化タイミングをforループ内としておく\n",
    "        prognosis_Xlabel = \"X{0}\".format(year)\n",
    "        prognosis_ylabel = \"y{0}\".format(year)\n",
    "\n",
    "        # print(\"-----\" * 15)\n",
    "        # 説明変数、目的変数の定義\n",
    "        X_train = X_dict[microarray_type][\"train\"][prognosis_Xlabel]\n",
    "        y_train = y_dict[microarray_type][\"train\"][prognosis_ylabel]\n",
    "        X_val = X_dict[microarray_type][\"val\"][prognosis_Xlabel]\n",
    "        y_val = y_dict[microarray_type][\"val\"][prognosis_ylabel]\n",
    "        X_test = X_dict[microarray_type][\"test\"][prognosis_Xlabel]\n",
    "        y_test = y_dict[microarray_type][\"test\"][prognosis_ylabel]\n",
    "        # サンプルサイズのユニットテスト\n",
    "        assert X_train.shape[0] == y_train.shape[0], \"train sample size is incorrect\"\n",
    "        assert X_val.shape[0] == y_val.shape[0], \"val sample size is incorrect\"\n",
    "        assert X_test.shape[0] == y_test.shape[0], \"test sample size is incorrect\"\n",
    "\n",
    "        # 特徴量選択の実施\n",
    "        if method == \"chi2\":\n",
    "            selector = GenericUnivariateSelect(chi2, mode=\"k_best\", param=features_num)\n",
    "            # 特徴量選択の実施（fit）\n",
    "            selector.fit(X_train, y_train)\n",
    "            features = X_train.columns[selector.get_support()]\n",
    "        elif method == \"mrmr\":\n",
    "            features = mrmr.mrmr_classif(\n",
    "                X=X_train,\n",
    "                y=y_train,\n",
    "                K=features_num,\n",
    "                show_progress=False,\n",
    "            )\n",
    "        elif method == \"boruta\":\n",
    "            rf = RandomForestClassifier(n_jobs=-1, max_depth=5, random_state=SEED)\n",
    "            feat_selector = BorutaPy(\n",
    "                rf, n_estimators=\"auto\", verbose=0, random_state=SEED\n",
    "            )\n",
    "            feat_selector.fit(\n",
    "                X_train.values,\n",
    "                y_train.values,\n",
    "            )\n",
    "            # 選択された特徴量を確認\n",
    "            features = X_train.columns[feat_selector.support_]\n",
    "        else:\n",
    "            print(\"not defined method\")\n",
    "            continue\n",
    "\n",
    "        # 特徴量選択で選ばれた特徴量の抽出（訓練、テストデータに適用）\n",
    "        # list変換するのはfuture warningが出るため\n",
    "        X_train = X_train[features]\n",
    "        X_val = X_val[features]\n",
    "        X_test = X_test[features]\n",
    "\n",
    "        # 辞書に格納\n",
    "        X_dict[microarray_type][method][\"train\"][prognosis_Xlabel] = X_train\n",
    "        y_dict[microarray_type][method][\"train\"][prognosis_ylabel] = y_train\n",
    "        X_dict[microarray_type][method][\"val\"][prognosis_Xlabel] = X_val\n",
    "        y_dict[microarray_type][method][\"val\"][prognosis_ylabel] = y_val\n",
    "        X_dict[microarray_type][method][\"test\"][prognosis_Xlabel] = X_test\n",
    "        y_dict[microarray_type][method][\"test\"][prognosis_ylabel] = y_test\n",
    "\n",
    "        # データの保存\n",
    "        X_train.to_pickle(\n",
    "            dir_name + \"/train/{0}_{1}.pickle\".format(prognosis_Xlabel, features_num)\n",
    "        )\n",
    "        y_train.to_pickle(\n",
    "            dir_name + \"/train/{0}_{1}.pickle\".format(prognosis_ylabel, features_num)\n",
    "        )\n",
    "        X_val.to_pickle(\n",
    "            dir_name + \"/val/{0}_{1}.pickle\".format(prognosis_Xlabel, features_num)\n",
    "        )\n",
    "        y_val.to_pickle(\n",
    "            dir_name + \"/val/{0}_{1}.pickle\".format(prognosis_ylabel, features_num)\n",
    "        )\n",
    "        X_test.to_pickle(\n",
    "            dir_name + \"/test/{0}_{1}.pickle\".format(prognosis_Xlabel, features_num)\n",
    "        )\n",
    "        y_test.to_pickle(\n",
    "            dir_name + \"/test/{0}_{1}.pickle\".format(prognosis_ylabel, features_num)\n",
    "        )"
   ]
  },
  {
   "cell_type": "code",
   "execution_count": null,
   "id": "2c6d417f-5cf5-4dbd-9d88-63b3d7423b3c",
   "metadata": {
    "tags": []
   },
   "outputs": [],
   "source": [
    "select_features4all(\n",
    "    microarray_type=config.SET_NAME_MICROARRAY[INDEX_MICROARRAY],\n",
    "    method=\"mrmr\",\n",
    "    features_num=49,\n",
    ")"
   ]
  },
  {
   "cell_type": "markdown",
   "id": "8f392d69-73ab-42a1-a292-50df79b2e897",
   "metadata": {
    "jp-MarkdownHeadingCollapsed": true,
    "tags": []
   },
   "source": [
    "## 最適な特徴量数の実験（サブタイプ）\n",
    "\n",
    "特徴量選択数を変化させ、学習曲線を描画する"
   ]
  },
  {
   "cell_type": "code",
   "execution_count": null,
   "id": "3adbdaa4-8afe-4cd5-ac15-81f3325c2f08",
   "metadata": {
    "tags": []
   },
   "outputs": [],
   "source": [
    "subtypes = [\n",
    "    \"claudin-low\",\n",
    "    \"LumA\",\n",
    "    \"LumB\",\n",
    "    \"Her2\",\n",
    "    \"Normal\",\n",
    "    \"Basal\",\n",
    "]\n",
    "\n",
    "\n",
    "def calc_features_num(\n",
    "    # data\n",
    "    mircroarray_type: str,\n",
    "    method: str,\n",
    "    clf: callable,\n",
    "    # loop groups\n",
    "    groups_category: str = \"claudin_subtype\",\n",
    "    groups: list = subtypes,\n",
    "    # plot\n",
    "    max_k: int = 100,\n",
    "    min_k: int = 10,\n",
    "    span: int = 10,\n",
    "):\n",
    "\n",
    "    print(\"*****\" * 10)\n",
    "    for year in tqdm(range(15, 16, 5)):  # 予後年数毎のループ\n",
    "        for group in groups:\n",
    "            print(group)\n",
    "            # 特徴量選択から行うので特徴量選択前のデータから使用\n",
    "            prognosis_Xlabel = \"X{0}_{1}\".format(year, group)\n",
    "            prognosis_ylabel = \"y{0}_{1}\".format(year, group)\n",
    "\n",
    "            X_train = pd.concat(\n",
    "                [\n",
    "                    X_dict[mircroarray_type][groups_category][\"train\"][\n",
    "                        prognosis_Xlabel\n",
    "                    ],\n",
    "                    X_dict[mircroarray_type][groups_category][\"val\"][prognosis_Xlabel],\n",
    "                ]\n",
    "            )\n",
    "            y_train = pd.concat(\n",
    "                [\n",
    "                    y_dict[mircroarray_type][groups_category][\"train\"][\n",
    "                        prognosis_ylabel\n",
    "                    ],\n",
    "                    y_dict[mircroarray_type][groups_category][\"val\"][prognosis_ylabel],\n",
    "                ]\n",
    "            )\n",
    "            X_t, X_v, y_t, y_v = train_test_split(\n",
    "                X_train, y_train, stratify=y_train, train_size=0.5, random_state=SEED\n",
    "            )\n",
    "\n",
    "            fig, axes = plt.subplots(\n",
    "                2,\n",
    "                (max_k - min_k) // span + 1,\n",
    "                figsize=(6 * ((max_k - min_k) // span + 1), 6),\n",
    "            )\n",
    "            cv = StratifiedShuffleSplit(n_splits=5, random_state=SEED)\n",
    "\n",
    "            for k in range(min_k, max_k + 1, span):\n",
    "                features = mrmr.mrmr_classif(\n",
    "                    X=X_t,\n",
    "                    y=y_t,\n",
    "                    K=k,\n",
    "                    show_progress=False,\n",
    "                )\n",
    "                title = \"features size: {0}\".format(len(features))\n",
    "\n",
    "                # cvをplot_learning_curve内で実施するので、X(y)_trainは使用しない\n",
    "                plot_learning_curve(\n",
    "                    clf,\n",
    "                    title,\n",
    "                    X_v[features],\n",
    "                    y_v,\n",
    "                    axes=axes[:, (k - min_k) // span],\n",
    "                    ylim=(0.49, 1.01),\n",
    "                    cv=cv,\n",
    "                    n_jobs=4,\n",
    "                    scoring=\"f1_score\",\n",
    "                )\n",
    "            make_dir(\n",
    "                config.FIGURES_PREPROCESS_PROGNOSIS_CROSS_DIR\n",
    "                + \"/learning_curve/{0}/{1}/{2}\".format(\n",
    "                    mircroarray_type, groups_category, method\n",
    "                )\n",
    "            )\n",
    "            plt.savefig(\n",
    "                config.FIGURES_PREPROCESS_PROGNOSIS_CROSS_DIR\n",
    "                + \"/learning_curve/{0}/{1}/{2}/{3}.png\".format(\n",
    "                    mircroarray_type, groups_category, method, prognosis_Xlabel\n",
    "                )\n",
    "            )"
   ]
  },
  {
   "cell_type": "code",
   "execution_count": null,
   "id": "d65c2b0e-fb11-4206-ab74-930de513586d",
   "metadata": {
    "tags": []
   },
   "outputs": [],
   "source": [
    "params = {\n",
    "    \"n_estimators\": 500,\n",
    "    \"criterion\": \"entropy\",\n",
    "    \"max_depth\": 5,\n",
    "    \"max_leaf_nodes\": 20,\n",
    "    \"max_features\": \"log2\",\n",
    "    \"class_weight\": \"balanced\",\n",
    "    \"random_state\": SEED,\n",
    "}\n",
    "clf = RandomForestClassifier(**params)\n",
    "calc_features_num(\n",
    "    config.SET_NAME_MICROARRAY[INDEX_MICROARRAY],\n",
    "    \"mrmr\",\n",
    "    clf,\n",
    "    max_k=50,\n",
    "    min_k=2,\n",
    "    span=2,\n",
    ")"
   ]
  },
  {
   "cell_type": "code",
   "execution_count": null,
   "id": "4782b3d0-76ec-41a0-8f40-f10ffcbc8d81",
   "metadata": {},
   "outputs": [],
   "source": [
    "for k in X_dict[\"mrna_agilent_microarray_zscores_ref_diploid_samples\"][\n",
    "    \"claudin_subtype\"\n",
    "][\"train\"].keys():\n",
    "    print(\n",
    "        k,\n",
    "        X_dict[\"mrna_agilent_microarray_zscores_ref_diploid_samples\"][\n",
    "            \"claudin_subtype\"\n",
    "        ][\"train\"][k].shape,\n",
    "    )"
   ]
  },
  {
   "cell_type": "markdown",
   "id": "6fed31ec-73ad-49f0-9457-88726d28343f",
   "metadata": {
    "jp-MarkdownHeadingCollapsed": true,
    "tags": []
   },
   "source": [
    "## 特徴量選択実施（サブタイプ）"
   ]
  },
  {
   "cell_type": "code",
   "execution_count": 63,
   "id": "137d5592-4224-4f8d-b10a-b9cd66c4e5b4",
   "metadata": {},
   "outputs": [
    {
     "name": "stderr",
     "output_type": "stream",
     "text": [
      "100%|████████████████████████████████████████████████████████████████████████████████████| 6/6 [03:15<00:00, 32.50s/it]\n"
     ]
    }
   ],
   "source": [
    "def select_features4subtype(\n",
    "    microarray_type: str, cat_name: str, method: str, features_num_dict: dict()\n",
    "):\n",
    "\n",
    "    X_dict[microarray_type][cat_name][method] = {\n",
    "        \"train\": dict(),\n",
    "        \"val\": dict(),\n",
    "        \"test\": dict(),\n",
    "    }\n",
    "    y_dict[microarray_type][cat_name][method] = {\n",
    "        \"train\": dict(),\n",
    "        \"val\": dict(),\n",
    "        \"test\": dict(),\n",
    "    }\n",
    "\n",
    "    dir_name = config.INTERIM_PREPROCESSED_PROGNOSIS_CROSS_DIR + \"/{0}/{1}/{2}\".format(\n",
    "        microarray_type, cat_name, method\n",
    "    )\n",
    "    make_dir(dir_name + \"/train\")\n",
    "    make_dir(dir_name + \"/val\")\n",
    "    make_dir(dir_name + \"/test\")\n",
    "\n",
    "    subtypes = [\n",
    "        \"claudin-low\",\n",
    "        \"LumA\",\n",
    "        \"LumB\",\n",
    "        \"Her2\",\n",
    "        \"Normal\",\n",
    "        \"Basal\",\n",
    "    ]\n",
    "\n",
    "    for subtype in tqdm(subtypes):  # 遺伝子サブタイプ毎のループ\n",
    "\n",
    "        # ループ内定数の初期化\n",
    "        # 単純に考えるために、初期化タイミングをforループ内としておく\n",
    "        prognosis_Xlabel = \"X{0}_{1}\".format(config.THRESHOLD_YEAR, subtype)\n",
    "        prognosis_ylabel = \"y{0}_{1}\".format(config.THRESHOLD_YEAR, subtype)\n",
    "\n",
    "        # print(\"-----\" * 15)\n",
    "        # 説明変数、目的変数の定義\n",
    "        X_train = X_dict[microarray_type][cat_name][\"train\"][prognosis_Xlabel]\n",
    "        y_train = y_dict[microarray_type][cat_name][\"train\"][prognosis_ylabel]\n",
    "        X_val = X_dict[microarray_type][cat_name][\"val\"][prognosis_Xlabel]\n",
    "        y_val = y_dict[microarray_type][cat_name][\"val\"][prognosis_ylabel]\n",
    "        X_test = X_dict[microarray_type][cat_name][\"test\"][prognosis_Xlabel]\n",
    "        y_test = y_dict[microarray_type][cat_name][\"test\"][prognosis_ylabel]\n",
    "        # サンプルサイズのユニットテスト\n",
    "        assert X_train.shape[0] == y_train.shape[0], \"train sample size is incorrect\"\n",
    "        assert X_val.shape[0] == y_val.shape[0], \"val sample size is incorrect\"\n",
    "        assert X_test.shape[0] == y_test.shape[0], \"test sample size is incorrect\"\n",
    "\n",
    "        # 特徴量選択の実施\n",
    "        features_num = features_num_dict[subtype]\n",
    "        if features_num < 0:\n",
    "            continue\n",
    "        if method == \"chi2\":\n",
    "            selector = GenericUnivariateSelect(chi2, mode=\"k_best\", param=features_num)\n",
    "            # 特徴量選択の実施（fit）\n",
    "            selector.fit(X_train, y_train)\n",
    "            features = X_train.columns[selector.get_support()]\n",
    "        elif method == \"mrmr\":\n",
    "            features = mrmr.mrmr_classif(\n",
    "                X=X_train,\n",
    "                y=y_train,\n",
    "                K=features_num,\n",
    "                show_progress=False,\n",
    "            )\n",
    "        elif method == \"boruta\":\n",
    "            rf = RandomForestClassifier(n_jobs=-1, max_depth=5, random_state=SEED)\n",
    "            feat_selector = BorutaPy(\n",
    "                rf, n_estimators=\"auto\", verbose=0, random_state=SEED\n",
    "            )\n",
    "            feat_selector.fit(\n",
    "                X_train.values,\n",
    "                y_train.values,\n",
    "            )\n",
    "            # 選択された特徴量を確認\n",
    "            features = X_train.columns[feat_selector.support_]\n",
    "        else:\n",
    "            print(\"not defined method\")\n",
    "            continue\n",
    "\n",
    "        # 特徴量選択で選ばれた特徴量の抽出（訓練、テストデータに適用）\n",
    "        # list変換するのはfuture warningが出るため\n",
    "        X_train = X_train[features]\n",
    "        X_val = X_val[features]\n",
    "        X_test = X_test[features]\n",
    "\n",
    "        # 辞書に格納\n",
    "        X_dict[microarray_type][cat_name][method][\"train\"][prognosis_Xlabel] = X_train\n",
    "        y_dict[microarray_type][cat_name][method][\"train\"][prognosis_ylabel] = y_train\n",
    "        X_dict[microarray_type][cat_name][method][\"val\"][prognosis_Xlabel] = X_val\n",
    "        y_dict[microarray_type][cat_name][method][\"val\"][prognosis_ylabel] = y_val\n",
    "        X_dict[microarray_type][cat_name][method][\"test\"][prognosis_Xlabel] = X_test\n",
    "        y_dict[microarray_type][cat_name][method][\"test\"][prognosis_ylabel] = y_test\n",
    "\n",
    "        # データの保存\n",
    "        X_train.to_pickle(dir_name + \"/train/{0}.pickle\".format(prognosis_Xlabel))\n",
    "        y_train.to_pickle(dir_name + \"/train/{0}.pickle\".format(prognosis_ylabel))\n",
    "        X_val.to_pickle(dir_name + \"/val/{0}.pickle\".format(prognosis_Xlabel))\n",
    "        y_val.to_pickle(dir_name + \"/val/{0}.pickle\".format(prognosis_ylabel))\n",
    "        y_test.to_pickle(dir_name + \"/test/{0}.pickle\".format(prognosis_Xlabel))\n",
    "        X_test.to_pickle(dir_name + \"/test/{0}.pickle\".format(prognosis_ylabel))\n",
    "\n",
    "\n",
    "feature_size_dict = {\n",
    "    \"Normal\": 16,\n",
    "    \"LumB\": 20,\n",
    "    \"LumA\": 16,\n",
    "    \"Her2\": 36,\n",
    "    \"Basal\": 12,\n",
    "    \"claudin-low\": 10,\n",
    "}\n",
    "\n",
    "select_features4subtype(\n",
    "    microarray_type=config.SET_NAME_MICROARRAY[INDEX_MICROARRAY],\n",
    "    cat_name=\"claudin_subtype\",\n",
    "    method=\"mrmr\",\n",
    "    features_num_dict=feature_size_dict,\n",
    ")"
   ]
  },
  {
   "cell_type": "markdown",
   "id": "a4b673eb-f19f-4f22-9595-1fccdac546cc",
   "metadata": {
    "tags": []
   },
   "source": [
    "## 特徴量選択実施（年齢）"
   ]
  },
  {
   "cell_type": "code",
   "execution_count": 153,
   "id": "2aeca556-1a94-491d-b29b-8731f3f90281",
   "metadata": {},
   "outputs": [
    {
     "data": {
      "text/plain": [
       "((274, 17537), (856, 17537))"
      ]
     },
     "execution_count": 153,
     "metadata": {},
     "output_type": "execute_result"
    }
   ],
   "source": [
    "X_dict[config.SET_NAME_MICROARRAY[INDEX_MICROARRAY]][\"age\"][\"raw\"][\"train\"][\n",
    "    \"X10_0to50\"\n",
    "].shape, X_dict[config.SET_NAME_MICROARRAY[INDEX_MICROARRAY]][\"age\"][\"raw\"][\"train\"][\n",
    "    \"X10_50to100\"\n",
    "].shape"
   ]
  },
  {
   "cell_type": "code",
   "execution_count": 157,
   "id": "f8f7f0b7-4713-4034-902a-116d370afd5d",
   "metadata": {
    "tags": []
   },
   "outputs": [
    {
     "name": "stderr",
     "output_type": "stream",
     "text": [
      "100%|████████████████████████████████████████████████████████████████████████████████████| 2/2 [04:25<00:00, 132.56s/it]\n"
     ]
    }
   ],
   "source": [
    "def select_features4age(\n",
    "    microarray_type: str, cat_name: str, method: str, dict_features_num: dict()\n",
    "):\n",
    "    X_dict[microarray_type][cat_name][method] = {\n",
    "        \"train\": dict(),\n",
    "        \"val\": dict(),\n",
    "        \"test\": dict(),\n",
    "    }\n",
    "    y_dict[microarray_type][cat_name][method] = {\n",
    "        \"train\": dict(),\n",
    "        \"val\": dict(),\n",
    "        \"test\": dict(),\n",
    "    }\n",
    "\n",
    "    dir_name = config.INTERIM_PREPROCESSED_PROGNOSIS_CROSS_DIR + \"/{0}/{1}/{2}\".format(\n",
    "        microarray_type, cat_name, method\n",
    "    )\n",
    "    make_dir(dir_name + \"/train\")\n",
    "    make_dir(dir_name + \"/val\")\n",
    "    make_dir(dir_name + \"/test\")\n",
    "\n",
    "    subtypes = [\n",
    "        \"claudin-low\",\n",
    "        \"LumA\",\n",
    "        \"LumB\",\n",
    "        \"Her2\",\n",
    "        \"Normal\",\n",
    "        \"Basal\",\n",
    "    ]\n",
    "\n",
    "    thresholds_list = [[0, 50], [50, 100]]\n",
    "\n",
    "    for thresholds in tqdm(thresholds_list):\n",
    "        df_period = df_cross[\n",
    "            (df_cross[\"AGE_AT_DIAGNOSIS\"] >= thresholds[0])\n",
    "            & (df_cross[\"AGE_AT_DIAGNOSIS\"] < thresholds[1])\n",
    "        ]\n",
    "\n",
    "        # ループ内定数の初期化\n",
    "        # 単純に考えるために、初期化タイミングをforループ内としておく\n",
    "        prognosis_Xlabel = \"X{0}_{1}to{2}\".format(\n",
    "            config.THRESHOLD_YEAR, thresholds[0], thresholds[1]\n",
    "        )\n",
    "        prognosis_ylabel = \"y{0}_{1}to{2}\".format(\n",
    "            config.THRESHOLD_YEAR, thresholds[0], thresholds[1]\n",
    "        )\n",
    "\n",
    "        # print(\"-----\" * 15)\n",
    "        # 説明変数、目的変数の定義\n",
    "        X_train = X_dict[microarray_type][cat_name][\"raw\"][\"train\"][prognosis_Xlabel]\n",
    "        y_train = y_dict[microarray_type][cat_name][\"raw\"][\"train\"][prognosis_ylabel]\n",
    "        X_val = X_dict[microarray_type][cat_name][\"raw\"][\"val\"][prognosis_Xlabel]\n",
    "        y_val = y_dict[microarray_type][cat_name][\"raw\"][\"val\"][prognosis_ylabel]\n",
    "        X_test = X_dict[microarray_type][cat_name][\"raw\"][\"test\"][prognosis_Xlabel]\n",
    "        y_test = y_dict[microarray_type][cat_name][\"raw\"][\"test\"][prognosis_ylabel]\n",
    "        # サンプルサイズのユニットテスト\n",
    "        # print(X_train.shape[0], y_train.shape[0])\n",
    "        assert X_train.shape[0] == y_train.shape[0], \"train sample size is incorrect\"\n",
    "        assert X_val.shape[0] == y_val.shape[0], \"val sample size is incorrect\"\n",
    "        assert X_test.shape[0] == y_test.shape[0], \"test sample size is incorrect\"\n",
    "\n",
    "        # 特徴量選択の実施\n",
    "        features_num = dict_features_num[prognosis_Xlabel]\n",
    "        if features_num < 0:\n",
    "            continue\n",
    "        if method == \"chi2\":\n",
    "            selector = GenericUnivariateSelect(chi2, mode=\"k_best\", param=features_num)\n",
    "            # 特徴量選択の実施（fit）\n",
    "            selector.fit(X_train, y_train)\n",
    "            features = X_train.columns[selector.get_support()]\n",
    "        elif method == \"mrmr\":\n",
    "            features = mrmr.mrmr_classif(\n",
    "                X=X_train,\n",
    "                y=y_train,\n",
    "                K=features_num,\n",
    "                show_progress=False,\n",
    "            )\n",
    "        elif method == \"boruta\":\n",
    "            rf = RandomForestClassifier(n_jobs=-1, max_depth=5, random_state=SEED)\n",
    "            feat_selector = BorutaPy(\n",
    "                rf, n_estimators=\"auto\", verbose=0, random_state=SEED\n",
    "            )\n",
    "            feat_selector.fit(\n",
    "                X_train.values,\n",
    "                y_train.values,\n",
    "            )\n",
    "            # 選択された特徴量を確認\n",
    "            features = X_train.columns[feat_selector.support_]\n",
    "        else:\n",
    "            print(\"not defined method\")\n",
    "            continue\n",
    "\n",
    "        # 特徴量選択で選ばれた特徴量の抽出（訓練、テストデータに適用）\n",
    "        # list変換するのはfuture warningが出るため\n",
    "        X_train = X_train[features]\n",
    "        X_val = X_val[features]\n",
    "        X_test = X_test[features]\n",
    "\n",
    "        # 辞書に格納\n",
    "        X_dict[microarray_type][cat_name][method][\"train\"][prognosis_Xlabel] = X_train\n",
    "        y_dict[microarray_type][cat_name][method][\"train\"][prognosis_ylabel] = y_train\n",
    "        X_dict[microarray_type][cat_name][method][\"val\"][prognosis_Xlabel] = X_val\n",
    "        y_dict[microarray_type][cat_name][method][\"val\"][prognosis_ylabel] = y_val\n",
    "        X_dict[microarray_type][cat_name][method][\"test\"][prognosis_Xlabel] = X_test\n",
    "        y_dict[microarray_type][cat_name][method][\"test\"][prognosis_ylabel] = y_test\n",
    "\n",
    "        # データの保存\n",
    "        X_train.to_pickle(dir_name + \"/train/{0}.pickle\".format(prognosis_Xlabel))\n",
    "        y_train.to_pickle(dir_name + \"/train/{0}.pickle\".format(prognosis_ylabel))\n",
    "        X_val.to_pickle(dir_name + \"/val/{0}.pickle\".format(prognosis_Xlabel))\n",
    "        y_val.to_pickle(dir_name + \"/val/{0}.pickle\".format(prognosis_ylabel))\n",
    "        y_test.to_pickle(dir_name + \"/test/{0}.pickle\".format(prognosis_Xlabel))\n",
    "        X_test.to_pickle(dir_name + \"/test/{0}.pickle\".format(prognosis_ylabel))\n",
    "\n",
    "\n",
    "dict_features_num = {\"X10_0to50\": 27, \"X10_50to100\": 86}\n",
    "select_features4age(\n",
    "    microarray_type=config.SET_NAME_MICROARRAY[INDEX_MICROARRAY],\n",
    "    cat_name=\"age\",\n",
    "    method=\"mrmr\",\n",
    "    dict_features_num=dict_features_num,\n",
    ")"
   ]
  },
  {
   "cell_type": "markdown",
   "id": "b9b310a7-8005-444d-bd43-f7a218b8707b",
   "metadata": {
    "tags": []
   },
   "source": [
    "## 特徴量選択実施（サブタイプと年齢）"
   ]
  },
  {
   "cell_type": "code",
   "execution_count": 158,
   "id": "7bd32e13-529a-4e84-a72d-d7b61ab64415",
   "metadata": {},
   "outputs": [
    {
     "data": {
      "text/plain": [
       "dict_keys(['X10_claudin-low_0to50', 'X10_claudin-low_50to100', 'X10_LumA_0to50', 'X10_LumA_50to100', 'X10_LumB_0to50', 'X10_LumB_50to100', 'X10_Her2_0to50', 'X10_Her2_50to100', 'X10_Normal_0to50', 'X10_Normal_50to100', 'X10_Basal_0to50', 'X10_Basal_50to100'])"
      ]
     },
     "execution_count": 158,
     "metadata": {},
     "output_type": "execute_result"
    }
   ],
   "source": [
    "X_dict[config.SET_NAME_MICROARRAY[INDEX_MICROARRAY]][\"subtype_and_age\"][\"raw\"][\n",
    "    \"train\"\n",
    "].keys()"
   ]
  },
  {
   "cell_type": "code",
   "execution_count": 166,
   "id": "65fdeb0c-a5b9-447a-a906-598d81c370e5",
   "metadata": {},
   "outputs": [
    {
     "data": {
      "text/plain": [
       "((36, 17537), (77, 17537))"
      ]
     },
     "execution_count": 166,
     "metadata": {},
     "output_type": "execute_result"
    }
   ],
   "source": [
    "X_dict[config.SET_NAME_MICROARRAY[INDEX_MICROARRAY]][\"subtype_and_age\"][\"raw\"][\"train\"][\n",
    "    \"X10_claudin-low_0to50\"\n",
    "].shape, X_dict[config.SET_NAME_MICROARRAY[INDEX_MICROARRAY]][\"subtype_and_age\"][\"raw\"][\n",
    "    \"train\"\n",
    "][\n",
    "    \"X10_claudin-low_50to100\"\n",
    "].shape"
   ]
  },
  {
   "cell_type": "code",
   "execution_count": 167,
   "id": "dd178f93-e4f3-44c4-bd13-4bc9b6bda4f8",
   "metadata": {},
   "outputs": [
    {
     "data": {
      "text/plain": [
       "((81, 17537), (298, 17537))"
      ]
     },
     "execution_count": 167,
     "metadata": {},
     "output_type": "execute_result"
    }
   ],
   "source": [
    "X_dict[config.SET_NAME_MICROARRAY[INDEX_MICROARRAY]][\"subtype_and_age\"][\"raw\"][\"train\"][\n",
    "    \"X10_LumA_0to50\"\n",
    "].shape, X_dict[config.SET_NAME_MICROARRAY[INDEX_MICROARRAY]][\"subtype_and_age\"][\"raw\"][\n",
    "    \"train\"\n",
    "][\n",
    "    \"X10_LumA_50to100\"\n",
    "].shape"
   ]
  },
  {
   "cell_type": "code",
   "execution_count": 168,
   "id": "33207660-91e7-4fc9-9da2-855475ed8955",
   "metadata": {},
   "outputs": [
    {
     "data": {
      "text/plain": [
       "((32, 17537), (245, 17537))"
      ]
     },
     "execution_count": 168,
     "metadata": {},
     "output_type": "execute_result"
    }
   ],
   "source": [
    "X_dict[config.SET_NAME_MICROARRAY[INDEX_MICROARRAY]][\"subtype_and_age\"][\"raw\"][\"train\"][\n",
    "    \"X10_LumB_0to50\"\n",
    "].shape, X_dict[config.SET_NAME_MICROARRAY[INDEX_MICROARRAY]][\"subtype_and_age\"][\"raw\"][\n",
    "    \"train\"\n",
    "][\n",
    "    \"X10_LumB_50to100\"\n",
    "].shape"
   ]
  },
  {
   "cell_type": "code",
   "execution_count": 169,
   "id": "73f01b95-019c-47d4-b3c8-dc1a66bb238d",
   "metadata": {},
   "outputs": [
    {
     "data": {
      "text/plain": [
       "((35, 17537), (106, 17537))"
      ]
     },
     "execution_count": 169,
     "metadata": {},
     "output_type": "execute_result"
    }
   ],
   "source": [
    "X_dict[config.SET_NAME_MICROARRAY[INDEX_MICROARRAY]][\"subtype_and_age\"][\"raw\"][\"train\"][\n",
    "    \"X10_Her2_0to50\"\n",
    "].shape, X_dict[config.SET_NAME_MICROARRAY[INDEX_MICROARRAY]][\"subtype_and_age\"][\"raw\"][\n",
    "    \"train\"\n",
    "][\n",
    "    \"X10_Her2_50to100\"\n",
    "].shape"
   ]
  },
  {
   "cell_type": "code",
   "execution_count": 170,
   "id": "e3a5c688-2c9c-4b76-9cc1-591456307d3a",
   "metadata": {},
   "outputs": [
    {
     "data": {
      "text/plain": [
       "((30, 17537), (52, 17537))"
      ]
     },
     "execution_count": 170,
     "metadata": {},
     "output_type": "execute_result"
    }
   ],
   "source": [
    "X_dict[config.SET_NAME_MICROARRAY[INDEX_MICROARRAY]][\"subtype_and_age\"][\"raw\"][\"train\"][\n",
    "    \"X10_Normal_0to50\"\n",
    "].shape, X_dict[config.SET_NAME_MICROARRAY[INDEX_MICROARRAY]][\"subtype_and_age\"][\"raw\"][\n",
    "    \"train\"\n",
    "][\n",
    "    \"X10_Normal_50to100\"\n",
    "].shape"
   ]
  },
  {
   "cell_type": "code",
   "execution_count": 171,
   "id": "044ccaa9-0094-49d5-891c-ce6f8d1ce788",
   "metadata": {},
   "outputs": [
    {
     "data": {
      "text/plain": [
       "((54, 17537), (73, 17537))"
      ]
     },
     "execution_count": 171,
     "metadata": {},
     "output_type": "execute_result"
    }
   ],
   "source": [
    "X_dict[config.SET_NAME_MICROARRAY[INDEX_MICROARRAY]][\"subtype_and_age\"][\"raw\"][\"train\"][\n",
    "    \"X10_Basal_0to50\"\n",
    "].shape, X_dict[config.SET_NAME_MICROARRAY[INDEX_MICROARRAY]][\"subtype_and_age\"][\"raw\"][\n",
    "    \"train\"\n",
    "][\n",
    "    \"X10_Basal_50to100\"\n",
    "].shape"
   ]
  },
  {
   "cell_type": "code",
   "execution_count": null,
   "id": "65560044-3417-4801-bc61-05fd4845498d",
   "metadata": {},
   "outputs": [],
   "source": []
  },
  {
   "cell_type": "code",
   "execution_count": 172,
   "id": "9bcf513b-674c-4168-846f-a78624a6867a",
   "metadata": {
    "tags": []
   },
   "outputs": [
    {
     "name": "stderr",
     "output_type": "stream",
     "text": [
      "100%|█████████████████████████████████████████████████████████████████████████████████████| 6/6 [04:51<00:00, 48.61s/it]\n"
     ]
    }
   ],
   "source": [
    "def select_features4subtype_and_age(\n",
    "    microarray_type: str, cat_name: str, method: str\n",
    "):  # , dict_features_num:dict()):\n",
    "    X_dict[microarray_type][cat_name][method] = {\n",
    "        \"train\": dict(),\n",
    "        \"val\": dict(),\n",
    "        \"test\": dict(),\n",
    "    }\n",
    "    y_dict[microarray_type][cat_name][method] = {\n",
    "        \"train\": dict(),\n",
    "        \"val\": dict(),\n",
    "        \"test\": dict(),\n",
    "    }\n",
    "\n",
    "    dir_name = config.INTERIM_PREPROCESSED_PROGNOSIS_CROSS_DIR + \"/{0}/{1}/{2}\".format(\n",
    "        microarray_type, cat_name, method\n",
    "    )\n",
    "    make_dir(dir_name + \"/train\")\n",
    "    make_dir(dir_name + \"/val\")\n",
    "    make_dir(dir_name + \"/test\")\n",
    "\n",
    "    subtypes = [\n",
    "        \"claudin-low\",\n",
    "        \"LumA\",\n",
    "        \"LumB\",\n",
    "        \"Her2\",\n",
    "        \"Normal\",\n",
    "        \"Basal\",\n",
    "    ]\n",
    "\n",
    "    thresholds_list = [[0, 50], [50, 100]]\n",
    "\n",
    "    for subtype in tqdm(subtypes):  # 遺伝子サブタイプ毎のループ\n",
    "        for thresholds in thresholds_list:\n",
    "            df_period = df_cross[\n",
    "                (df_cross[\"AGE_AT_DIAGNOSIS\"] >= thresholds[0])\n",
    "                & (df_cross[\"AGE_AT_DIAGNOSIS\"] < thresholds[1])\n",
    "            ]\n",
    "\n",
    "            # ループ内定数の初期化\n",
    "            # 単純に考えるために、初期化タイミングをforループ内としておく\n",
    "            prognosis_Xlabel = \"X{0}_{1}_{2}to{3}\".format(\n",
    "                config.THRESHOLD_YEAR, subtype, thresholds[0], thresholds[1]\n",
    "            )\n",
    "            prognosis_ylabel = \"y{0}_{1}_{2}to{3}\".format(\n",
    "                config.THRESHOLD_YEAR, subtype, thresholds[0], thresholds[1]\n",
    "            )\n",
    "\n",
    "            # print(\"-----\" * 15)\n",
    "            # 説明変数、目的変数の定義\n",
    "            X_train = X_dict[microarray_type][cat_name][\"raw\"][\"train\"][\n",
    "                prognosis_Xlabel\n",
    "            ]\n",
    "            y_train = y_dict[microarray_type][cat_name][\"raw\"][\"train\"][\n",
    "                prognosis_ylabel\n",
    "            ]\n",
    "            X_val = X_dict[microarray_type][cat_name][\"raw\"][\"val\"][prognosis_Xlabel]\n",
    "            y_val = y_dict[microarray_type][cat_name][\"raw\"][\"val\"][prognosis_ylabel]\n",
    "            X_test = X_dict[microarray_type][cat_name][\"raw\"][\"test\"][prognosis_Xlabel]\n",
    "            y_test = y_dict[microarray_type][cat_name][\"raw\"][\"test\"][prognosis_ylabel]\n",
    "            # サンプルサイズのユニットテスト\n",
    "            # print(X_train.shape[0], y_train.shape[0])\n",
    "            assert (\n",
    "                X_train.shape[0] == y_train.shape[0]\n",
    "            ), \"train sample size is incorrect\"\n",
    "            assert X_val.shape[0] == y_val.shape[0], \"val sample size is incorrect\"\n",
    "            assert X_test.shape[0] == y_test.shape[0], \"test sample size is incorrect\"\n",
    "\n",
    "            # 特徴量選択の実施\n",
    "            features_num = 15\n",
    "            if features_num < 0:\n",
    "                continue\n",
    "            if method == \"chi2\":\n",
    "                selector = GenericUnivariateSelect(\n",
    "                    chi2, mode=\"k_best\", param=features_num\n",
    "                )\n",
    "                # 特徴量選択の実施（fit）\n",
    "                selector.fit(X_train, y_train)\n",
    "                features = X_train.columns[selector.get_support()]\n",
    "            elif method == \"mrmr\":\n",
    "                features = mrmr.mrmr_classif(\n",
    "                    X=X_train,\n",
    "                    y=y_train,\n",
    "                    K=features_num,\n",
    "                    show_progress=False,\n",
    "                )\n",
    "            elif method == \"boruta\":\n",
    "                rf = RandomForestClassifier(n_jobs=-1, max_depth=5, random_state=SEED)\n",
    "                feat_selector = BorutaPy(\n",
    "                    rf, n_estimators=\"auto\", verbose=0, random_state=SEED\n",
    "                )\n",
    "                feat_selector.fit(\n",
    "                    X_train.values,\n",
    "                    y_train.values,\n",
    "                )\n",
    "                # 選択された特徴量を確認\n",
    "                features = X_train.columns[feat_selector.support_]\n",
    "            else:\n",
    "                print(\"not defined method\")\n",
    "                continue\n",
    "\n",
    "            # 特徴量選択で選ばれた特徴量の抽出（訓練、テストデータに適用）\n",
    "            # list変換するのはfuture warningが出るため\n",
    "            X_train = X_train[features]\n",
    "            X_val = X_val[features]\n",
    "            X_test = X_test[features]\n",
    "\n",
    "            # 辞書に格納\n",
    "            X_dict[microarray_type][cat_name][method][\"train\"][\n",
    "                prognosis_Xlabel\n",
    "            ] = X_train\n",
    "            y_dict[microarray_type][cat_name][method][\"train\"][\n",
    "                prognosis_ylabel\n",
    "            ] = y_train\n",
    "            X_dict[microarray_type][cat_name][method][\"val\"][prognosis_Xlabel] = X_val\n",
    "            y_dict[microarray_type][cat_name][method][\"val\"][prognosis_ylabel] = y_val\n",
    "            X_dict[microarray_type][cat_name][method][\"test\"][prognosis_Xlabel] = X_test\n",
    "            y_dict[microarray_type][cat_name][method][\"test\"][prognosis_ylabel] = y_test\n",
    "\n",
    "            # データの保存\n",
    "            X_train.to_pickle(dir_name + \"/train/{0}.pickle\".format(prognosis_Xlabel))\n",
    "            y_train.to_pickle(dir_name + \"/train/{0}.pickle\".format(prognosis_ylabel))\n",
    "            X_val.to_pickle(dir_name + \"/val/{0}.pickle\".format(prognosis_Xlabel))\n",
    "            y_val.to_pickle(dir_name + \"/val/{0}.pickle\".format(prognosis_ylabel))\n",
    "            y_test.to_pickle(dir_name + \"/test/{0}.pickle\".format(prognosis_Xlabel))\n",
    "            X_test.to_pickle(dir_name + \"/test/{0}.pickle\".format(prognosis_ylabel))\n",
    "\n",
    "\n",
    "select_features4subtype_and_age(\n",
    "    microarray_type=config.SET_NAME_MICROARRAY[INDEX_MICROARRAY],\n",
    "    cat_name=\"subtype_and_age\",\n",
    "    method=\"mrmr\",\n",
    ")"
   ]
  },
  {
   "cell_type": "markdown",
   "id": "40a0f5a2-56c8-4d91-952d-542b1d4e36d0",
   "metadata": {},
   "source": [
    "# データの保存\n",
    "dictをpickle形式で保存できるようなので、保存"
   ]
  },
  {
   "cell_type": "code",
   "execution_count": 174,
   "id": "d34d1a02-8ea9-4fa8-879f-a39e205ceb53",
   "metadata": {
    "tags": []
   },
   "outputs": [],
   "source": [
    "make_dir(config.INTERIM_PREPROCESSED_PROGNOSIS_CROSS_DIR)\n",
    "pickle_dump(X_dict, config.INTERIM_PREPROCESSED_PROGNOSIS_CROSS_DIR + \"/X_dict.pickle\")\n",
    "pickle_dump(y_dict, config.INTERIM_PREPROCESSED_PROGNOSIS_CROSS_DIR + \"/y_dict.pickle\")"
   ]
  },
  {
   "cell_type": "markdown",
   "id": "d16e3710-7ad7-48ff-a2f2-fd175f8c1b99",
   "metadata": {},
   "source": [
    "# 特徴量選択結果確認"
   ]
  },
  {
   "cell_type": "code",
   "execution_count": null,
   "id": "544506b4-be74-4a58-92ca-5b3fe45bd0bd",
   "metadata": {
    "tags": []
   },
   "outputs": [],
   "source": [
    "# 特徴量選択の結果の辞書の読み込み\n",
    "X_dict = pickle_load(config.INTERIM_PREPROCESSED_PROGNOSIS_CROSS_DIR + \"/X_dict.pickle\")\n",
    "y_dict = pickle_load(config.INTERIM_PREPROCESSED_PROGNOSIS_CROSS_DIR + \"/y_dict.pickle\")"
   ]
  },
  {
   "cell_type": "markdown",
   "id": "a6be52c3-cefe-4f4b-ba93-9a7af9e52e2f",
   "metadata": {
    "tags": []
   },
   "source": [
    "## 各特徴量選択手法の選択個数"
   ]
  },
  {
   "cell_type": "code",
   "execution_count": null,
   "id": "abd1dd1e-9682-4eb0-aa51-e829325f3031",
   "metadata": {},
   "outputs": [],
   "source": [
    "c1 = X_dict[config.SET_NAME_MICROARRAY[0]][\"mrmr\"][\"train\"][\"X15\"].columns\n",
    "c2 = X_dict[config.SET_NAME_MICROARRAY[1]][\"mrmr\"][\"train\"][\"X15\"].columns\n",
    "c3 = X_dict[config.SET_NAME_MICROARRAY[2]][\"mrmr\"][\"train\"][\"X15\"].columns"
   ]
  },
  {
   "cell_type": "code",
   "execution_count": null,
   "id": "6572b4ae-6d4f-4919-860c-8c7ccdfc9f65",
   "metadata": {},
   "outputs": [],
   "source": [
    "c_tri = [k for k in c1 if (k in c2 and k in c3)]\n",
    "c_tri"
   ]
  },
  {
   "cell_type": "code",
   "execution_count": null,
   "id": "93c75bb9-3133-443b-ab73-3bd3d6b44d7c",
   "metadata": {},
   "outputs": [],
   "source": [
    "display([k for k in c1 if (k in c2) and (k not in c_tri)])\n",
    "display([k for k in c1 if (k in c3) and (k not in c_tri)])\n",
    "display([k for k in c2 if (k in c3) and (k not in c_tri)])"
   ]
  },
  {
   "cell_type": "code",
   "execution_count": null,
   "id": "1ddc1852-9802-42c6-a529-884f583b3ad3",
   "metadata": {},
   "outputs": [],
   "source": [
    "display([k for k in c1 if (k not in c2) and (k not in c3)])\n",
    "display([k for k in c2 if (k not in c1) and (k not in c3)])\n",
    "display([k for k in c3 if (k not in c1) and (k not in c2)])"
   ]
  }
 ],
 "metadata": {
  "kernelspec": {
   "display_name": "Python 3 (ipykernel)",
   "language": "python",
   "name": "python3"
  },
  "language_info": {
   "codemirror_mode": {
    "name": "ipython",
    "version": 3
   },
   "file_extension": ".py",
   "mimetype": "text/x-python",
   "name": "python",
   "nbconvert_exporter": "python",
   "pygments_lexer": "ipython3",
   "version": "3.8.13"
  },
  "vscode": {
   "interpreter": {
    "hash": "916dbcbb3f70747c44a77c7bcd40155683ae19c65e1c03b4aa3499c5328201f1"
   }
  }
 },
 "nbformat": 4,
 "nbformat_minor": 5
}
