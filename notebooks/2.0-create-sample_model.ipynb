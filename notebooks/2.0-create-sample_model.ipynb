{
 "cells": [
  {
   "cell_type": "code",
   "execution_count": 1,
   "id": "1dcac27b-3b65-4903-94b7-fa4da54eb1f4",
   "metadata": {},
   "outputs": [],
   "source": [
    "import os\n",
    "\n",
    "import numpy as np\n",
    "import pandas as pd\n",
    "import matplotlib.pyplot as plt\n",
    "import seaborn as sns\n",
    "\n",
    "from sklearn.tree import DecisionTreeClassifier, export_graphviz\n",
    "import graphviz\n",
    "import pydotplus\n",
    "from IPython.display import Image\n",
    "from six import StringIO\n",
    "\n",
    "from sklearn.model_selection import train_test_split\n",
    "from sklearn.preprocessing import OneHotEncoder, LabelEncoder\n",
    "\n",
    "from sklearn.metrics import confusion_matrix\n",
    "\n",
    "import config\n",
    "\n",
    "#最大表示列数の指定（ここでは50列を指定）\n",
    "pd.set_option('display.max_columns', 50)\n",
    "\n",
    "def make_dir(dir_name: str):\n",
    "    if not os.path.exists(dir_name):\n",
    "        os.makedirs(dir_name)"
   ]
  },
  {
   "cell_type": "code",
   "execution_count": 2,
   "id": "8a9a2add-4f34-4cac-92a2-968b96e35421",
   "metadata": {},
   "outputs": [
    {
     "name": "stdout",
     "output_type": "stream",
     "text": [
      "<class 'pandas.core.frame.DataFrame'>\n",
      "RangeIndex: 2509 entries, 0 to 2508\n",
      "Data columns (total 37 columns):\n",
      " #   Column                               Non-Null Count  Dtype  \n",
      "---  ------                               --------------  -----  \n",
      " 0   PATIENT_ID                           2509 non-null   object \n",
      " 1   LYMPH_NODES_EXAMINED_POSITIVE        2243 non-null   float64\n",
      " 2   NPI                                  2287 non-null   float64\n",
      " 3   COHORT                               2509 non-null   object \n",
      " 4   SEX                                  2509 non-null   object \n",
      " 5   INTCLUST                             2509 non-null   object \n",
      " 6   AGE_AT_DIAGNOSIS                     2498 non-null   float64\n",
      " 7   OS_MONTHS                            1981 non-null   float64\n",
      " 8   OS_STATUS                            2509 non-null   bool   \n",
      " 9   CLAUDIN_SUBTYPE                      2509 non-null   object \n",
      " 10  THREEGENE                            2509 non-null   object \n",
      " 11  VITAL_STATUS                         2509 non-null   object \n",
      " 12  LATERALITY                           2509 non-null   object \n",
      " 13  HISTOLOGICAL_SUBTYPE                 2509 non-null   object \n",
      " 14  BREAST_SURGERY                       2509 non-null   object \n",
      " 15  RFS_STATUS                           2509 non-null   bool   \n",
      " 16  RFS_MONTHS                           2388 non-null   float64\n",
      " 17  CELLULARITY_converted                1917 non-null   float64\n",
      " 18  ER_IHC_converted                     2426 non-null   float64\n",
      " 19  HER2_SNP6_converted                  1980 non-null   float64\n",
      " 20  INFERRED_MENOPAUSAL_STATE_converted  1980 non-null   float64\n",
      " 21  CHEMOTHERAPY_converted               2509 non-null   bool   \n",
      " 22  HORMONE_THERAPY_converted            2509 non-null   bool   \n",
      " 23  RADIO_THERAPY_converted              2509 non-null   bool   \n",
      " 24  PATIENT_ID                           2509 non-null   object \n",
      " 25  SAMPLE_ID                            2509 non-null   object \n",
      " 26  CANCER_TYPE                          2509 non-null   object \n",
      " 27  CANCER_TYPE_DETAILED                 2509 non-null   object \n",
      " 28  GRADE                                2388 non-null   float64\n",
      " 29  ONCOTREE_CODE                        2509 non-null   object \n",
      " 30  SAMPLE_TYPE                          2509 non-null   object \n",
      " 31  TUMOR_SIZE                           2360 non-null   float64\n",
      " 32  TUMOR_STAGE                          1788 non-null   float64\n",
      " 33  TMB_NONSYNONYMOUS                    2509 non-null   float64\n",
      " 34  ER_STATUS_converted                  2469 non-null   float64\n",
      " 35  HER2_STATUS_converted                1980 non-null   float64\n",
      " 36  PR_STATUS_converted                  1980 non-null   float64\n",
      "dtypes: bool(5), float64(16), object(16)\n",
      "memory usage: 639.6+ KB\n"
     ]
    }
   ],
   "source": [
    "df=pd.read_pickle(config.INTERIM_PICKLE_EDA_DIR+'/data_metabric_table_1.2.pkl')\n",
    "df.info()"
   ]
  },
  {
   "cell_type": "code",
   "execution_count": 3,
   "id": "921cf89d-39b6-4d75-a031-1f712ec7bd40",
   "metadata": {},
   "outputs": [
    {
     "name": "stdout",
     "output_type": "stream",
     "text": [
      "37 37\n"
     ]
    }
   ],
   "source": [
    "target_columns=[\n",
    "    # patient\n",
    "    'OS_MONTHS',\n",
    "    'RFS_MONTHS',\n",
    "    'OS_STATUS',\n",
    "    'RFS_STATUS',\n",
    "    'VITAL_STATUS',\n",
    "]\n",
    "\n",
    "int_columns=[\n",
    "    # patient\n",
    "    'LYMPH_NODES_EXAMINED_POSITIVE',\n",
    "    \n",
    "    'OS_MONTHS',\n",
    "    'RFS_MONTHS',\n",
    "]\n",
    "\n",
    "float_columns=[\n",
    "    # patient\n",
    "    'NPI',\n",
    "    'AGE_AT_DIAGNOSIS',\n",
    "    # sample\n",
    "    'TUMOR_SIZE',\n",
    "    'TMB_NONSYNONYMOUS',\n",
    "]\n",
    "\n",
    "str_columns=[\n",
    "]\n",
    "\n",
    "# 質的変数（順序尺度）\n",
    "qualitative_ordinal_columns=[\n",
    "    # patient\n",
    "    'CELLULARITY_converted',  \n",
    "    'ER_IHC_converted',\n",
    "    'HER2_SNP6_converted',\n",
    "    'INFERRED_MENOPAUSAL_STATE_converted',\n",
    "    # sample\n",
    "    'ER_STATUS_converted',\n",
    "    'HER2_STATUS_converted',\n",
    "    'GRADE',\n",
    "    'PR_STATUS_converted',\n",
    "    'TUMOR_STAGE',\n",
    "]\n",
    "# 質的変数（名義尺度）\n",
    "qualitative_name_columns=[\n",
    "    # patient\n",
    "    'COHORT',\n",
    "    'INTCLUST',\n",
    "    'CLAUDIN_SUBTYPE',\n",
    "    'THREEGENE',\n",
    "    'HISTOLOGICAL_SUBTYPE',\n",
    "    'BREAST_SURGERY',\n",
    "    'LATERALITY',\n",
    "    \n",
    "    'VITAL_STATUS',\n",
    "    # sample\n",
    "    'CANCER_TYPE',\n",
    "    'CANCER_TYPE_DETAILED',\n",
    "    'ONCOTREE_CODE',\n",
    "\n",
    "]\n",
    "\n",
    "bool_columns=[\n",
    "    # patient\n",
    "    'CHEMOTHERAPY_converted',\n",
    "    'HORMONE_THERAPY_converted',\n",
    "    'RADIO_THERAPY_converted',\n",
    "]\n",
    "\n",
    "meanless_columns=[\n",
    "    # patient\n",
    "    'PATIENT_ID',\n",
    "    'SEX',\n",
    "    \n",
    "    'OS_STATUS',\n",
    "    'RFS_STATUS',\n",
    "    # sample\n",
    "    'PATIENT_ID',\n",
    "    'SAMPLE_ID',\n",
    "    'SAMPLE_TYPE',\n",
    "]\n",
    "\n",
    "print(df.shape[1],\n",
    "    len(int_columns)+\\\n",
    "    len(float_columns)+\\\n",
    "    len(ｓｔｒ_columns)+\\\n",
    "    len(qualitative_ordinal_columns)+\\\n",
    "    len(qualitative_name_columns)+\\\n",
    "    len(bool_columns)+\\\n",
    "    len(meanless_columns))\n",
    "assert  df.shape[1]==\\\n",
    "    len(int_columns)+\\\n",
    "    len(float_columns)+\\\n",
    "    len(ｓｔｒ_columns)+\\\n",
    "    len(qualitative_ordinal_columns)+\\\n",
    "    len(qualitative_name_columns)+\\\n",
    "    len(bool_columns)+\\\n",
    "    len(meanless_columns), 'lack or too much columns'"
   ]
  },
  {
   "cell_type": "markdown",
   "id": "2de3cd2d-9b94-43f4-9da9-315497fcd12f",
   "metadata": {},
   "source": [
    "### drop na data"
   ]
  },
  {
   "cell_type": "code",
   "execution_count": 4,
   "id": "76532ae2-b2c5-4f09-8245-cf1370930c51",
   "metadata": {},
   "outputs": [
    {
     "name": "stdout",
     "output_type": "stream",
     "text": [
      "<class 'pandas.core.frame.DataFrame'>\n",
      "Int64Index: 1293 entries, 1 to 1743\n",
      "Data columns (total 37 columns):\n",
      " #   Column                               Non-Null Count  Dtype  \n",
      "---  ------                               --------------  -----  \n",
      " 0   PATIENT_ID                           1293 non-null   object \n",
      " 1   LYMPH_NODES_EXAMINED_POSITIVE        1293 non-null   float64\n",
      " 2   NPI                                  1293 non-null   float64\n",
      " 3   COHORT                               1293 non-null   object \n",
      " 4   SEX                                  1293 non-null   object \n",
      " 5   INTCLUST                             1293 non-null   object \n",
      " 6   AGE_AT_DIAGNOSIS                     1293 non-null   float64\n",
      " 7   OS_MONTHS                            1293 non-null   float64\n",
      " 8   OS_STATUS                            1293 non-null   bool   \n",
      " 9   CLAUDIN_SUBTYPE                      1293 non-null   object \n",
      " 10  THREEGENE                            1293 non-null   object \n",
      " 11  VITAL_STATUS                         1293 non-null   object \n",
      " 12  LATERALITY                           1293 non-null   object \n",
      " 13  HISTOLOGICAL_SUBTYPE                 1293 non-null   object \n",
      " 14  BREAST_SURGERY                       1293 non-null   object \n",
      " 15  RFS_STATUS                           1293 non-null   bool   \n",
      " 16  RFS_MONTHS                           1293 non-null   float64\n",
      " 17  CELLULARITY_converted                1293 non-null   float64\n",
      " 18  ER_IHC_converted                     1293 non-null   float64\n",
      " 19  HER2_SNP6_converted                  1293 non-null   float64\n",
      " 20  INFERRED_MENOPAUSAL_STATE_converted  1293 non-null   float64\n",
      " 21  CHEMOTHERAPY_converted               1293 non-null   bool   \n",
      " 22  HORMONE_THERAPY_converted            1293 non-null   bool   \n",
      " 23  RADIO_THERAPY_converted              1293 non-null   bool   \n",
      " 24  PATIENT_ID                           1293 non-null   object \n",
      " 25  SAMPLE_ID                            1293 non-null   object \n",
      " 26  CANCER_TYPE                          1293 non-null   object \n",
      " 27  CANCER_TYPE_DETAILED                 1293 non-null   object \n",
      " 28  GRADE                                1293 non-null   float64\n",
      " 29  ONCOTREE_CODE                        1293 non-null   object \n",
      " 30  SAMPLE_TYPE                          1293 non-null   object \n",
      " 31  TUMOR_SIZE                           1293 non-null   float64\n",
      " 32  TUMOR_STAGE                          1293 non-null   float64\n",
      " 33  TMB_NONSYNONYMOUS                    1293 non-null   float64\n",
      " 34  ER_STATUS_converted                  1293 non-null   float64\n",
      " 35  HER2_STATUS_converted                1293 non-null   float64\n",
      " 36  PR_STATUS_converted                  1293 non-null   float64\n",
      "dtypes: bool(5), float64(16), object(16)\n",
      "memory usage: 339.7+ KB\n"
     ]
    }
   ],
   "source": [
    "df.dropna(how='any', inplace=True)\n",
    "df.info()"
   ]
  },
  {
   "cell_type": "code",
   "execution_count": 10,
   "id": "3b8cafd4-8714-4064-a385-c6aaab4e1ab3",
   "metadata": {},
   "outputs": [],
   "source": [
    "for i in qualitative_name_columns:\n",
    "    df=df[df[i]!='nan'].copy()\n",
    "    df[i].value_counts()"
   ]
  },
  {
   "cell_type": "markdown",
   "id": "7e5ec645-2f8f-4015-a7a5-8b6dd04762ba",
   "metadata": {},
   "source": [
    "## create target column\n",
    "\n",
    "目的変数：5年以内の死亡判定→5年以内のデータは除外する"
   ]
  },
  {
   "cell_type": "code",
   "execution_count": 11,
   "id": "89bcb314-c797-48c5-88b2-6d2d9f5973f8",
   "metadata": {},
   "outputs": [
    {
     "data": {
      "text/plain": [
       "Living                  504\n",
       "Died of Disease         378\n",
       "Died of Other Causes    242\n",
       "Name: VITAL_STATUS, dtype: int64"
      ]
     },
     "execution_count": 11,
     "metadata": {},
     "output_type": "execute_result"
    }
   ],
   "source": [
    "df['VITAL_STATUS'].value_counts()"
   ]
  },
  {
   "cell_type": "code",
   "execution_count": 12,
   "id": "744be258-11d1-4a1f-904d-b4f834485db9",
   "metadata": {
    "tags": []
   },
   "outputs": [
    {
     "data": {
      "text/plain": [
       "Living                  468\n",
       "Died of Other Causes    196\n",
       "Name: VITAL_STATUS, dtype: int64"
      ]
     },
     "execution_count": 12,
     "metadata": {},
     "output_type": "execute_result"
    }
   ],
   "source": [
    "df[(df['OS_MONTHS']>=60) & ((df['VITAL_STATUS']=='Living')|(df['VITAL_STATUS']=='Died of Other Causes'))]['VITAL_STATUS'].value_counts()"
   ]
  },
  {
   "cell_type": "code",
   "execution_count": 13,
   "id": "728b72ab-3835-41a1-80d2-40f1e952380c",
   "metadata": {},
   "outputs": [
    {
     "data": {
      "text/plain": [
       "Died of Disease    180\n",
       "Name: VITAL_STATUS, dtype: int64"
      ]
     },
     "execution_count": 13,
     "metadata": {},
     "output_type": "execute_result"
    }
   ],
   "source": [
    "df[(df['OS_MONTHS']>=60) & (df['VITAL_STATUS']=='Died of Disease')]['VITAL_STATUS'].value_counts()"
   ]
  },
  {
   "cell_type": "markdown",
   "id": "f45826f0-ded6-44ae-8df1-a5049c2cee3a",
   "metadata": {},
   "source": [
    "### target columnの作成に先立ち、不要な行の削除\n",
    "\n",
    "OS_MONTHS<60のcolumnを削除する"
   ]
  },
  {
   "cell_type": "code",
   "execution_count": 14,
   "id": "0a479a74-457a-44eb-b0d0-7a92c547bfe2",
   "metadata": {},
   "outputs": [
    {
     "name": "stdout",
     "output_type": "stream",
     "text": [
      "<class 'pandas.core.frame.DataFrame'>\n",
      "Int64Index: 1124 entries, 1 to 1743\n",
      "Data columns (total 38 columns):\n",
      " #   Column                               Non-Null Count  Dtype  \n",
      "---  ------                               --------------  -----  \n",
      " 0   PATIENT_ID                           1124 non-null   object \n",
      " 1   LYMPH_NODES_EXAMINED_POSITIVE        1124 non-null   float64\n",
      " 2   NPI                                  1124 non-null   float64\n",
      " 3   COHORT                               1124 non-null   object \n",
      " 4   SEX                                  1124 non-null   object \n",
      " 5   INTCLUST                             1124 non-null   object \n",
      " 6   AGE_AT_DIAGNOSIS                     1124 non-null   float64\n",
      " 7   OS_MONTHS                            1124 non-null   float64\n",
      " 8   OS_STATUS                            1124 non-null   bool   \n",
      " 9   CLAUDIN_SUBTYPE                      1124 non-null   object \n",
      " 10  THREEGENE                            1124 non-null   object \n",
      " 11  VITAL_STATUS                         1124 non-null   bool   \n",
      " 12  LATERALITY                           1124 non-null   object \n",
      " 13  HISTOLOGICAL_SUBTYPE                 1124 non-null   object \n",
      " 14  BREAST_SURGERY                       1124 non-null   object \n",
      " 15  RFS_STATUS                           1124 non-null   bool   \n",
      " 16  RFS_MONTHS                           1124 non-null   float64\n",
      " 17  CELLULARITY_converted                1124 non-null   float64\n",
      " 18  ER_IHC_converted                     1124 non-null   float64\n",
      " 19  HER2_SNP6_converted                  1124 non-null   float64\n",
      " 20  INFERRED_MENOPAUSAL_STATE_converted  1124 non-null   float64\n",
      " 21  CHEMOTHERAPY_converted               1124 non-null   bool   \n",
      " 22  HORMONE_THERAPY_converted            1124 non-null   bool   \n",
      " 23  RADIO_THERAPY_converted              1124 non-null   bool   \n",
      " 24  PATIENT_ID                           1124 non-null   object \n",
      " 25  SAMPLE_ID                            1124 non-null   object \n",
      " 26  CANCER_TYPE                          1124 non-null   object \n",
      " 27  CANCER_TYPE_DETAILED                 1124 non-null   object \n",
      " 28  GRADE                                1124 non-null   float64\n",
      " 29  ONCOTREE_CODE                        1124 non-null   object \n",
      " 30  SAMPLE_TYPE                          1124 non-null   object \n",
      " 31  TUMOR_SIZE                           1124 non-null   float64\n",
      " 32  TUMOR_STAGE                          1124 non-null   float64\n",
      " 33  TMB_NONSYNONYMOUS                    1124 non-null   float64\n",
      " 34  ER_STATUS_converted                  1124 non-null   float64\n",
      " 35  HER2_STATUS_converted                1124 non-null   float64\n",
      " 36  PR_STATUS_converted                  1124 non-null   float64\n",
      " 37  IN_5YEARS_STATUS                     1124 non-null   bool   \n",
      "dtypes: bool(7), float64(16), object(15)\n",
      "memory usage: 288.7+ KB\n"
     ]
    }
   ],
   "source": [
    "df_enough_months=df.copy()\n",
    "df_enough_months['IN_5YEARS_STATUS']=df_enough_months['VITAL_STATUS'].copy()\n",
    "df_enough_months.replace({'Died of Disease':True, 'Living':False, \n",
    "                          'Died of Other Causes':False}, inplace=True)\n",
    "df_enough_months.info()"
   ]
  },
  {
   "cell_type": "code",
   "execution_count": 15,
   "id": "999d32cd-e351-447d-80c1-fdbb3c596efb",
   "metadata": {},
   "outputs": [
    {
     "data": {
      "text/plain": [
       "False    746\n",
       "True     378\n",
       "Name: IN_5YEARS_STATUS, dtype: int64"
      ]
     },
     "execution_count": 15,
     "metadata": {},
     "output_type": "execute_result"
    }
   ],
   "source": [
    "df_enough_months['IN_5YEARS_STATUS'].value_counts()"
   ]
  },
  {
   "cell_type": "code",
   "execution_count": 16,
   "id": "de7ae810-e0b1-4781-b6c3-1b44b2f3ac8d",
   "metadata": {},
   "outputs": [
    {
     "data": {
      "text/plain": [
       "PATIENT_ID                              object\n",
       "LYMPH_NODES_EXAMINED_POSITIVE          float64\n",
       "NPI                                    float64\n",
       "COHORT                                  object\n",
       "SEX                                     object\n",
       "INTCLUST                                object\n",
       "AGE_AT_DIAGNOSIS                       float64\n",
       "OS_MONTHS                              float64\n",
       "OS_STATUS                                 bool\n",
       "CLAUDIN_SUBTYPE                         object\n",
       "THREEGENE                               object\n",
       "VITAL_STATUS                              bool\n",
       "LATERALITY                              object\n",
       "HISTOLOGICAL_SUBTYPE                    object\n",
       "BREAST_SURGERY                          object\n",
       "RFS_STATUS                                bool\n",
       "RFS_MONTHS                             float64\n",
       "CELLULARITY_converted                  float64\n",
       "ER_IHC_converted                       float64\n",
       "HER2_SNP6_converted                    float64\n",
       "INFERRED_MENOPAUSAL_STATE_converted    float64\n",
       "CHEMOTHERAPY_converted                    bool\n",
       "HORMONE_THERAPY_converted                 bool\n",
       "RADIO_THERAPY_converted                   bool\n",
       "PATIENT_ID                              object\n",
       "SAMPLE_ID                               object\n",
       "CANCER_TYPE                             object\n",
       "CANCER_TYPE_DETAILED                    object\n",
       "GRADE                                  float64\n",
       "ONCOTREE_CODE                           object\n",
       "SAMPLE_TYPE                             object\n",
       "TUMOR_SIZE                             float64\n",
       "TUMOR_STAGE                            float64\n",
       "TMB_NONSYNONYMOUS                      float64\n",
       "ER_STATUS_converted                    float64\n",
       "HER2_STATUS_converted                  float64\n",
       "PR_STATUS_converted                    float64\n",
       "IN_5YEARS_STATUS                          bool\n",
       "dtype: object"
      ]
     },
     "execution_count": 16,
     "metadata": {},
     "output_type": "execute_result"
    }
   ],
   "source": [
    "df_enough_months['IN_5YEARS_STATUS']=df_enough_months['IN_5YEARS_STATUS'].astype(bool)\n",
    "df_enough_months.dtypes"
   ]
  },
  {
   "cell_type": "markdown",
   "id": "4680bcfe-5d11-4a77-a10d-ba44f604507c",
   "metadata": {
    "tags": []
   },
   "source": [
    "### drop columns\n",
    "targetを作成したので、リークになりうるcolumnsは削除 "
   ]
  },
  {
   "cell_type": "code",
   "execution_count": 17,
   "id": "ebaabe83-96ae-4a91-b65f-7cc728ac5dbd",
   "metadata": {},
   "outputs": [],
   "source": [
    "def create_drop_columne(target:str, target_columns:list=target_columns, meanless_columns:list=meanless_columns,):\n",
    "    drop_columns=[i for i in target_columns if i not in [target]]+meanless_columns\n",
    "    return drop_columns"
   ]
  },
  {
   "cell_type": "code",
   "execution_count": 20,
   "id": "c9180f15-9d10-4e60-aa3a-4e337f8d3698",
   "metadata": {},
   "outputs": [
    {
     "data": {
      "text/plain": [
       "((1124, 38), (1124, 28))"
      ]
     },
     "execution_count": 20,
     "metadata": {},
     "output_type": "execute_result"
    }
   ],
   "source": [
    "target='IN_5YEARS_STATUS'\n",
    "drop_columns=create_drop_columne(target)\n",
    "df_droped=df_enough_months.drop(drop_columns, axis=1).copy()\n",
    "df_enough_months.shape, df_droped.shape"
   ]
  },
  {
   "cell_type": "code",
   "execution_count": 21,
   "id": "f6d8afd9-e60f-4922-99ed-2b0715f2bf72",
   "metadata": {},
   "outputs": [
    {
     "data": {
      "text/plain": [
       "Index(['LYMPH_NODES_EXAMINED_POSITIVE', 'NPI', 'COHORT', 'INTCLUST',\n",
       "       'AGE_AT_DIAGNOSIS', 'CLAUDIN_SUBTYPE', 'THREEGENE', 'LATERALITY',\n",
       "       'HISTOLOGICAL_SUBTYPE', 'BREAST_SURGERY', 'CELLULARITY_converted',\n",
       "       'ER_IHC_converted', 'HER2_SNP6_converted',\n",
       "       'INFERRED_MENOPAUSAL_STATE_converted', 'CHEMOTHERAPY_converted',\n",
       "       'HORMONE_THERAPY_converted', 'RADIO_THERAPY_converted', 'CANCER_TYPE',\n",
       "       'CANCER_TYPE_DETAILED', 'GRADE', 'ONCOTREE_CODE', 'TUMOR_SIZE',\n",
       "       'TUMOR_STAGE', 'TMB_NONSYNONYMOUS', 'ER_STATUS_converted',\n",
       "       'HER2_STATUS_converted', 'PR_STATUS_converted', 'IN_5YEARS_STATUS'],\n",
       "      dtype='object')"
      ]
     },
     "execution_count": 21,
     "metadata": {},
     "output_type": "execute_result"
    }
   ],
   "source": [
    "df_droped.columns"
   ]
  },
  {
   "cell_type": "markdown",
   "id": "c47d9dd0-8278-4515-baf9-34f14ada2fc9",
   "metadata": {
    "tags": []
   },
   "source": [
    "### onehot encoding\n",
    "決定木に入れるためにobject型をonehotエンコーディング(nullは削除する)"
   ]
  },
  {
   "cell_type": "code",
   "execution_count": 22,
   "id": "2d15e8c8-6a7c-4729-9e37-f10f0372ab8b",
   "metadata": {},
   "outputs": [
    {
     "data": {
      "text/plain": [
       "['COHORT',\n",
       " 'INTCLUST',\n",
       " 'CLAUDIN_SUBTYPE',\n",
       " 'THREEGENE',\n",
       " 'HISTOLOGICAL_SUBTYPE',\n",
       " 'BREAST_SURGERY',\n",
       " 'LATERALITY',\n",
       " 'CANCER_TYPE',\n",
       " 'CANCER_TYPE_DETAILED',\n",
       " 'ONCOTREE_CODE']"
      ]
     },
     "execution_count": 22,
     "metadata": {},
     "output_type": "execute_result"
    }
   ],
   "source": [
    "qualitative_name_columns.remove('VITAL_STATUS') if 'VITAL_STATUS' in  qualitative_name_columns else qualitative_name_columns\n",
    "qualitative_name_columns"
   ]
  },
  {
   "cell_type": "code",
   "execution_count": 23,
   "id": "76c355c4-2617-4345-a704-2110b7a7ebcb",
   "metadata": {
    "tags": []
   },
   "outputs": [
    {
     "data": {
      "text/plain": [
       "[array(['1.0', '2.0', '3.0', '5.0'], dtype=object),\n",
       " array(['1', '10', '2', '3', '4ER+', '4ER-', '5', '6', '7', '8', '9'],\n",
       "       dtype=object),\n",
       " array(['Basal', 'Her2', 'LumA', 'LumB', 'NC', 'Normal', 'claudin-low'],\n",
       "       dtype=object),\n",
       " array(['ER+/HER2- High Prolif', 'ER+/HER2- Low Prolif', 'ER-/HER2-',\n",
       "        'HER2+'], dtype=object),\n",
       " array(['Ductal/NST', 'Lobular', 'Medullary', 'Mixed', 'Mucinous', 'Other',\n",
       "        'Tubular/ cribriform'], dtype=object),\n",
       " array(['BREAST CONSERVING', 'MASTECTOMY'], dtype=object),\n",
       " array(['Left', 'Right'], dtype=object),\n",
       " array(['Breast Cancer'], dtype=object),\n",
       " array(['Breast', 'Breast Invasive Ductal Carcinoma',\n",
       "        'Breast Invasive Lobular Carcinoma',\n",
       "        'Breast Invasive Mixed Mucinous Carcinoma',\n",
       "        'Breast Mixed Ductal and Lobular Carcinoma'], dtype=object),\n",
       " array(['BREAST', 'IDC', 'ILC', 'IMMC', 'MDLC'], dtype=object)]"
      ]
     },
     "metadata": {},
     "output_type": "display_data"
    },
    {
     "data": {
      "text/plain": [
       "array(['COHORT_1.0', 'COHORT_2.0', 'COHORT_3.0', 'COHORT_5.0',\n",
       "       'INTCLUST_1', 'INTCLUST_10', 'INTCLUST_2', 'INTCLUST_3',\n",
       "       'INTCLUST_4ER+', 'INTCLUST_4ER-', 'INTCLUST_5', 'INTCLUST_6',\n",
       "       'INTCLUST_7', 'INTCLUST_8', 'INTCLUST_9', 'CLAUDIN_SUBTYPE_Basal',\n",
       "       'CLAUDIN_SUBTYPE_Her2', 'CLAUDIN_SUBTYPE_LumA',\n",
       "       'CLAUDIN_SUBTYPE_LumB', 'CLAUDIN_SUBTYPE_NC',\n",
       "       'CLAUDIN_SUBTYPE_Normal', 'CLAUDIN_SUBTYPE_claudin-low',\n",
       "       'THREEGENE_ER+/HER2- High Prolif',\n",
       "       'THREEGENE_ER+/HER2- Low Prolif', 'THREEGENE_ER-/HER2-',\n",
       "       'THREEGENE_HER2+', 'HISTOLOGICAL_SUBTYPE_Ductal/NST',\n",
       "       'HISTOLOGICAL_SUBTYPE_Lobular', 'HISTOLOGICAL_SUBTYPE_Medullary',\n",
       "       'HISTOLOGICAL_SUBTYPE_Mixed', 'HISTOLOGICAL_SUBTYPE_Mucinous',\n",
       "       'HISTOLOGICAL_SUBTYPE_Other',\n",
       "       'HISTOLOGICAL_SUBTYPE_Tubular/ cribriform',\n",
       "       'BREAST_SURGERY_BREAST CONSERVING', 'BREAST_SURGERY_MASTECTOMY',\n",
       "       'LATERALITY_Left', 'LATERALITY_Right', 'CANCER_TYPE_Breast Cancer',\n",
       "       'CANCER_TYPE_DETAILED_Breast',\n",
       "       'CANCER_TYPE_DETAILED_Breast Invasive Ductal Carcinoma',\n",
       "       'CANCER_TYPE_DETAILED_Breast Invasive Lobular Carcinoma',\n",
       "       'CANCER_TYPE_DETAILED_Breast Invasive Mixed Mucinous Carcinoma',\n",
       "       'CANCER_TYPE_DETAILED_Breast Mixed Ductal and Lobular Carcinoma',\n",
       "       'ONCOTREE_CODE_BREAST', 'ONCOTREE_CODE_IDC', 'ONCOTREE_CODE_ILC',\n",
       "       'ONCOTREE_CODE_IMMC', 'ONCOTREE_CODE_MDLC'], dtype=object)"
      ]
     },
     "metadata": {},
     "output_type": "display_data"
    }
   ],
   "source": [
    "onehot_encoder=OneHotEncoder()\n",
    "onehot_encoding_columns=qualitative_name_columns\n",
    "onehot_encoder.fit(df_droped[onehot_encoding_columns])\n",
    "display(onehot_encoder.categories_)\n",
    "display(onehot_encoder.get_feature_names_out(onehot_encoding_columns))\n",
    "#enc.transform(df[encoding_columns]).toarray()\n",
    "df_onehot=pd.DataFrame(onehot_encoder.transform(df_droped[onehot_encoding_columns]).toarray(), \n",
    "             columns=onehot_encoder.get_feature_names_out(onehot_encoding_columns))\n"
   ]
  },
  {
   "cell_type": "code",
   "execution_count": 24,
   "id": "b5555277-0f9a-4bdc-b80b-2ba80c7aefee",
   "metadata": {},
   "outputs": [
    {
     "name": "stdout",
     "output_type": "stream",
     "text": [
      "<class 'pandas.core.frame.DataFrame'>\n",
      "RangeIndex: 1124 entries, 0 to 1123\n",
      "Data columns (total 48 columns):\n",
      " #   Column                                                          Non-Null Count  Dtype  \n",
      "---  ------                                                          --------------  -----  \n",
      " 0   COHORT_1.0                                                      1124 non-null   float64\n",
      " 1   COHORT_2.0                                                      1124 non-null   float64\n",
      " 2   COHORT_3.0                                                      1124 non-null   float64\n",
      " 3   COHORT_5.0                                                      1124 non-null   float64\n",
      " 4   INTCLUST_1                                                      1124 non-null   float64\n",
      " 5   INTCLUST_10                                                     1124 non-null   float64\n",
      " 6   INTCLUST_2                                                      1124 non-null   float64\n",
      " 7   INTCLUST_3                                                      1124 non-null   float64\n",
      " 8   INTCLUST_4ER+                                                   1124 non-null   float64\n",
      " 9   INTCLUST_4ER-                                                   1124 non-null   float64\n",
      " 10  INTCLUST_5                                                      1124 non-null   float64\n",
      " 11  INTCLUST_6                                                      1124 non-null   float64\n",
      " 12  INTCLUST_7                                                      1124 non-null   float64\n",
      " 13  INTCLUST_8                                                      1124 non-null   float64\n",
      " 14  INTCLUST_9                                                      1124 non-null   float64\n",
      " 15  CLAUDIN_SUBTYPE_Basal                                           1124 non-null   float64\n",
      " 16  CLAUDIN_SUBTYPE_Her2                                            1124 non-null   float64\n",
      " 17  CLAUDIN_SUBTYPE_LumA                                            1124 non-null   float64\n",
      " 18  CLAUDIN_SUBTYPE_LumB                                            1124 non-null   float64\n",
      " 19  CLAUDIN_SUBTYPE_NC                                              1124 non-null   float64\n",
      " 20  CLAUDIN_SUBTYPE_Normal                                          1124 non-null   float64\n",
      " 21  CLAUDIN_SUBTYPE_claudin-low                                     1124 non-null   float64\n",
      " 22  THREEGENE_ER+/HER2- High Prolif                                 1124 non-null   float64\n",
      " 23  THREEGENE_ER+/HER2- Low Prolif                                  1124 non-null   float64\n",
      " 24  THREEGENE_ER-/HER2-                                             1124 non-null   float64\n",
      " 25  THREEGENE_HER2+                                                 1124 non-null   float64\n",
      " 26  HISTOLOGICAL_SUBTYPE_Ductal/NST                                 1124 non-null   float64\n",
      " 27  HISTOLOGICAL_SUBTYPE_Lobular                                    1124 non-null   float64\n",
      " 28  HISTOLOGICAL_SUBTYPE_Medullary                                  1124 non-null   float64\n",
      " 29  HISTOLOGICAL_SUBTYPE_Mixed                                      1124 non-null   float64\n",
      " 30  HISTOLOGICAL_SUBTYPE_Mucinous                                   1124 non-null   float64\n",
      " 31  HISTOLOGICAL_SUBTYPE_Other                                      1124 non-null   float64\n",
      " 32  HISTOLOGICAL_SUBTYPE_Tubular/ cribriform                        1124 non-null   float64\n",
      " 33  BREAST_SURGERY_BREAST CONSERVING                                1124 non-null   float64\n",
      " 34  BREAST_SURGERY_MASTECTOMY                                       1124 non-null   float64\n",
      " 35  LATERALITY_Left                                                 1124 non-null   float64\n",
      " 36  LATERALITY_Right                                                1124 non-null   float64\n",
      " 37  CANCER_TYPE_Breast Cancer                                       1124 non-null   float64\n",
      " 38  CANCER_TYPE_DETAILED_Breast                                     1124 non-null   float64\n",
      " 39  CANCER_TYPE_DETAILED_Breast Invasive Ductal Carcinoma           1124 non-null   float64\n",
      " 40  CANCER_TYPE_DETAILED_Breast Invasive Lobular Carcinoma          1124 non-null   float64\n",
      " 41  CANCER_TYPE_DETAILED_Breast Invasive Mixed Mucinous Carcinoma   1124 non-null   float64\n",
      " 42  CANCER_TYPE_DETAILED_Breast Mixed Ductal and Lobular Carcinoma  1124 non-null   float64\n",
      " 43  ONCOTREE_CODE_BREAST                                            1124 non-null   float64\n",
      " 44  ONCOTREE_CODE_IDC                                               1124 non-null   float64\n",
      " 45  ONCOTREE_CODE_ILC                                               1124 non-null   float64\n",
      " 46  ONCOTREE_CODE_IMMC                                              1124 non-null   float64\n",
      " 47  ONCOTREE_CODE_MDLC                                              1124 non-null   float64\n",
      "dtypes: float64(48)\n",
      "memory usage: 421.6 KB\n"
     ]
    }
   ],
   "source": [
    "df_onehot.info()"
   ]
  },
  {
   "cell_type": "code",
   "execution_count": 25,
   "id": "619e153b-437a-41f8-8729-4ff4812ff2ac",
   "metadata": {},
   "outputs": [],
   "source": [
    "df_encoded=pd.merge(df_droped.reset_index(drop=True), df_onehot.reset_index(drop=True), \n",
    "                    left_index=True, right_index=True).drop(onehot_encoding_columns, axis=1)"
   ]
  },
  {
   "cell_type": "code",
   "execution_count": 26,
   "id": "f9e1156d-3059-4120-937b-53bfdefb6aa6",
   "metadata": {},
   "outputs": [
    {
     "name": "stdout",
     "output_type": "stream",
     "text": [
      "<class 'pandas.core.frame.DataFrame'>\n",
      "RangeIndex: 1124 entries, 0 to 1123\n",
      "Data columns (total 66 columns):\n",
      " #   Column                                                          Non-Null Count  Dtype  \n",
      "---  ------                                                          --------------  -----  \n",
      " 0   LYMPH_NODES_EXAMINED_POSITIVE                                   1124 non-null   float64\n",
      " 1   NPI                                                             1124 non-null   float64\n",
      " 2   AGE_AT_DIAGNOSIS                                                1124 non-null   float64\n",
      " 3   CELLULARITY_converted                                           1124 non-null   float64\n",
      " 4   ER_IHC_converted                                                1124 non-null   float64\n",
      " 5   HER2_SNP6_converted                                             1124 non-null   float64\n",
      " 6   INFERRED_MENOPAUSAL_STATE_converted                             1124 non-null   float64\n",
      " 7   CHEMOTHERAPY_converted                                          1124 non-null   bool   \n",
      " 8   HORMONE_THERAPY_converted                                       1124 non-null   bool   \n",
      " 9   RADIO_THERAPY_converted                                         1124 non-null   bool   \n",
      " 10  GRADE                                                           1124 non-null   float64\n",
      " 11  TUMOR_SIZE                                                      1124 non-null   float64\n",
      " 12  TUMOR_STAGE                                                     1124 non-null   float64\n",
      " 13  TMB_NONSYNONYMOUS                                               1124 non-null   float64\n",
      " 14  ER_STATUS_converted                                             1124 non-null   float64\n",
      " 15  HER2_STATUS_converted                                           1124 non-null   float64\n",
      " 16  PR_STATUS_converted                                             1124 non-null   float64\n",
      " 17  IN_5YEARS_STATUS                                                1124 non-null   bool   \n",
      " 18  COHORT_1.0                                                      1124 non-null   float64\n",
      " 19  COHORT_2.0                                                      1124 non-null   float64\n",
      " 20  COHORT_3.0                                                      1124 non-null   float64\n",
      " 21  COHORT_5.0                                                      1124 non-null   float64\n",
      " 22  INTCLUST_1                                                      1124 non-null   float64\n",
      " 23  INTCLUST_10                                                     1124 non-null   float64\n",
      " 24  INTCLUST_2                                                      1124 non-null   float64\n",
      " 25  INTCLUST_3                                                      1124 non-null   float64\n",
      " 26  INTCLUST_4ER+                                                   1124 non-null   float64\n",
      " 27  INTCLUST_4ER-                                                   1124 non-null   float64\n",
      " 28  INTCLUST_5                                                      1124 non-null   float64\n",
      " 29  INTCLUST_6                                                      1124 non-null   float64\n",
      " 30  INTCLUST_7                                                      1124 non-null   float64\n",
      " 31  INTCLUST_8                                                      1124 non-null   float64\n",
      " 32  INTCLUST_9                                                      1124 non-null   float64\n",
      " 33  CLAUDIN_SUBTYPE_Basal                                           1124 non-null   float64\n",
      " 34  CLAUDIN_SUBTYPE_Her2                                            1124 non-null   float64\n",
      " 35  CLAUDIN_SUBTYPE_LumA                                            1124 non-null   float64\n",
      " 36  CLAUDIN_SUBTYPE_LumB                                            1124 non-null   float64\n",
      " 37  CLAUDIN_SUBTYPE_NC                                              1124 non-null   float64\n",
      " 38  CLAUDIN_SUBTYPE_Normal                                          1124 non-null   float64\n",
      " 39  CLAUDIN_SUBTYPE_claudin-low                                     1124 non-null   float64\n",
      " 40  THREEGENE_ER+/HER2- High Prolif                                 1124 non-null   float64\n",
      " 41  THREEGENE_ER+/HER2- Low Prolif                                  1124 non-null   float64\n",
      " 42  THREEGENE_ER-/HER2-                                             1124 non-null   float64\n",
      " 43  THREEGENE_HER2+                                                 1124 non-null   float64\n",
      " 44  HISTOLOGICAL_SUBTYPE_Ductal/NST                                 1124 non-null   float64\n",
      " 45  HISTOLOGICAL_SUBTYPE_Lobular                                    1124 non-null   float64\n",
      " 46  HISTOLOGICAL_SUBTYPE_Medullary                                  1124 non-null   float64\n",
      " 47  HISTOLOGICAL_SUBTYPE_Mixed                                      1124 non-null   float64\n",
      " 48  HISTOLOGICAL_SUBTYPE_Mucinous                                   1124 non-null   float64\n",
      " 49  HISTOLOGICAL_SUBTYPE_Other                                      1124 non-null   float64\n",
      " 50  HISTOLOGICAL_SUBTYPE_Tubular/ cribriform                        1124 non-null   float64\n",
      " 51  BREAST_SURGERY_BREAST CONSERVING                                1124 non-null   float64\n",
      " 52  BREAST_SURGERY_MASTECTOMY                                       1124 non-null   float64\n",
      " 53  LATERALITY_Left                                                 1124 non-null   float64\n",
      " 54  LATERALITY_Right                                                1124 non-null   float64\n",
      " 55  CANCER_TYPE_Breast Cancer                                       1124 non-null   float64\n",
      " 56  CANCER_TYPE_DETAILED_Breast                                     1124 non-null   float64\n",
      " 57  CANCER_TYPE_DETAILED_Breast Invasive Ductal Carcinoma           1124 non-null   float64\n",
      " 58  CANCER_TYPE_DETAILED_Breast Invasive Lobular Carcinoma          1124 non-null   float64\n",
      " 59  CANCER_TYPE_DETAILED_Breast Invasive Mixed Mucinous Carcinoma   1124 non-null   float64\n",
      " 60  CANCER_TYPE_DETAILED_Breast Mixed Ductal and Lobular Carcinoma  1124 non-null   float64\n",
      " 61  ONCOTREE_CODE_BREAST                                            1124 non-null   float64\n",
      " 62  ONCOTREE_CODE_IDC                                               1124 non-null   float64\n",
      " 63  ONCOTREE_CODE_ILC                                               1124 non-null   float64\n",
      " 64  ONCOTREE_CODE_IMMC                                              1124 non-null   float64\n",
      " 65  ONCOTREE_CODE_MDLC                                              1124 non-null   float64\n",
      "dtypes: bool(4), float64(62)\n",
      "memory usage: 549.0 KB\n"
     ]
    }
   ],
   "source": [
    "df_encoded.info()"
   ]
  },
  {
   "cell_type": "markdown",
   "id": "a028bd3a-ef04-4797-b20b-241f362f04f2",
   "metadata": {},
   "source": [
    "# 学習モデル作成"
   ]
  },
  {
   "cell_type": "markdown",
   "id": "6a9b38bf-8a4d-430c-b2eb-4ddb25d65688",
   "metadata": {},
   "source": [
    "学習用にデータを分割"
   ]
  },
  {
   "cell_type": "code",
   "execution_count": 27,
   "id": "e1da9d57-8b3c-4656-a806-9657416762e0",
   "metadata": {},
   "outputs": [],
   "source": [
    "y=df_encoded[target]\n",
    "X=df_encoded.drop(target, axis=1)"
   ]
  },
  {
   "cell_type": "code",
   "execution_count": 28,
   "id": "b5bc7027-defc-4036-8f58-cb1db01a3ef4",
   "metadata": {},
   "outputs": [
    {
     "name": "stdout",
     "output_type": "stream",
     "text": [
      "<class 'pandas.core.series.Series'>\n",
      "RangeIndex: 1124 entries, 0 to 1123\n",
      "Series name: IN_5YEARS_STATUS\n",
      "Non-Null Count  Dtype\n",
      "--------------  -----\n",
      "1124 non-null   bool \n",
      "dtypes: bool(1)\n",
      "memory usage: 1.2 KB\n"
     ]
    }
   ],
   "source": [
    "y.info()"
   ]
  },
  {
   "cell_type": "code",
   "execution_count": 29,
   "id": "8cdc5897-990c-47f4-bdab-473d679e7ba3",
   "metadata": {},
   "outputs": [
    {
     "data": {
      "text/plain": [
       "False    746\n",
       "True     378\n",
       "Name: IN_5YEARS_STATUS, dtype: int64"
      ]
     },
     "execution_count": 29,
     "metadata": {},
     "output_type": "execute_result"
    }
   ],
   "source": [
    "y.value_counts()"
   ]
  },
  {
   "cell_type": "code",
   "execution_count": 30,
   "id": "95d683e0-1d59-41ad-9eb3-aefbf7906000",
   "metadata": {},
   "outputs": [
    {
     "name": "stdout",
     "output_type": "stream",
     "text": [
      "<class 'pandas.core.frame.DataFrame'>\n",
      "RangeIndex: 1124 entries, 0 to 1123\n",
      "Data columns (total 65 columns):\n",
      " #   Column                                                          Non-Null Count  Dtype  \n",
      "---  ------                                                          --------------  -----  \n",
      " 0   LYMPH_NODES_EXAMINED_POSITIVE                                   1124 non-null   float64\n",
      " 1   NPI                                                             1124 non-null   float64\n",
      " 2   AGE_AT_DIAGNOSIS                                                1124 non-null   float64\n",
      " 3   CELLULARITY_converted                                           1124 non-null   float64\n",
      " 4   ER_IHC_converted                                                1124 non-null   float64\n",
      " 5   HER2_SNP6_converted                                             1124 non-null   float64\n",
      " 6   INFERRED_MENOPAUSAL_STATE_converted                             1124 non-null   float64\n",
      " 7   CHEMOTHERAPY_converted                                          1124 non-null   bool   \n",
      " 8   HORMONE_THERAPY_converted                                       1124 non-null   bool   \n",
      " 9   RADIO_THERAPY_converted                                         1124 non-null   bool   \n",
      " 10  GRADE                                                           1124 non-null   float64\n",
      " 11  TUMOR_SIZE                                                      1124 non-null   float64\n",
      " 12  TUMOR_STAGE                                                     1124 non-null   float64\n",
      " 13  TMB_NONSYNONYMOUS                                               1124 non-null   float64\n",
      " 14  ER_STATUS_converted                                             1124 non-null   float64\n",
      " 15  HER2_STATUS_converted                                           1124 non-null   float64\n",
      " 16  PR_STATUS_converted                                             1124 non-null   float64\n",
      " 17  COHORT_1.0                                                      1124 non-null   float64\n",
      " 18  COHORT_2.0                                                      1124 non-null   float64\n",
      " 19  COHORT_3.0                                                      1124 non-null   float64\n",
      " 20  COHORT_5.0                                                      1124 non-null   float64\n",
      " 21  INTCLUST_1                                                      1124 non-null   float64\n",
      " 22  INTCLUST_10                                                     1124 non-null   float64\n",
      " 23  INTCLUST_2                                                      1124 non-null   float64\n",
      " 24  INTCLUST_3                                                      1124 non-null   float64\n",
      " 25  INTCLUST_4ER+                                                   1124 non-null   float64\n",
      " 26  INTCLUST_4ER-                                                   1124 non-null   float64\n",
      " 27  INTCLUST_5                                                      1124 non-null   float64\n",
      " 28  INTCLUST_6                                                      1124 non-null   float64\n",
      " 29  INTCLUST_7                                                      1124 non-null   float64\n",
      " 30  INTCLUST_8                                                      1124 non-null   float64\n",
      " 31  INTCLUST_9                                                      1124 non-null   float64\n",
      " 32  CLAUDIN_SUBTYPE_Basal                                           1124 non-null   float64\n",
      " 33  CLAUDIN_SUBTYPE_Her2                                            1124 non-null   float64\n",
      " 34  CLAUDIN_SUBTYPE_LumA                                            1124 non-null   float64\n",
      " 35  CLAUDIN_SUBTYPE_LumB                                            1124 non-null   float64\n",
      " 36  CLAUDIN_SUBTYPE_NC                                              1124 non-null   float64\n",
      " 37  CLAUDIN_SUBTYPE_Normal                                          1124 non-null   float64\n",
      " 38  CLAUDIN_SUBTYPE_claudin-low                                     1124 non-null   float64\n",
      " 39  THREEGENE_ER+/HER2- High Prolif                                 1124 non-null   float64\n",
      " 40  THREEGENE_ER+/HER2- Low Prolif                                  1124 non-null   float64\n",
      " 41  THREEGENE_ER-/HER2-                                             1124 non-null   float64\n",
      " 42  THREEGENE_HER2+                                                 1124 non-null   float64\n",
      " 43  HISTOLOGICAL_SUBTYPE_Ductal/NST                                 1124 non-null   float64\n",
      " 44  HISTOLOGICAL_SUBTYPE_Lobular                                    1124 non-null   float64\n",
      " 45  HISTOLOGICAL_SUBTYPE_Medullary                                  1124 non-null   float64\n",
      " 46  HISTOLOGICAL_SUBTYPE_Mixed                                      1124 non-null   float64\n",
      " 47  HISTOLOGICAL_SUBTYPE_Mucinous                                   1124 non-null   float64\n",
      " 48  HISTOLOGICAL_SUBTYPE_Other                                      1124 non-null   float64\n",
      " 49  HISTOLOGICAL_SUBTYPE_Tubular/ cribriform                        1124 non-null   float64\n",
      " 50  BREAST_SURGERY_BREAST CONSERVING                                1124 non-null   float64\n",
      " 51  BREAST_SURGERY_MASTECTOMY                                       1124 non-null   float64\n",
      " 52  LATERALITY_Left                                                 1124 non-null   float64\n",
      " 53  LATERALITY_Right                                                1124 non-null   float64\n",
      " 54  CANCER_TYPE_Breast Cancer                                       1124 non-null   float64\n",
      " 55  CANCER_TYPE_DETAILED_Breast                                     1124 non-null   float64\n",
      " 56  CANCER_TYPE_DETAILED_Breast Invasive Ductal Carcinoma           1124 non-null   float64\n",
      " 57  CANCER_TYPE_DETAILED_Breast Invasive Lobular Carcinoma          1124 non-null   float64\n",
      " 58  CANCER_TYPE_DETAILED_Breast Invasive Mixed Mucinous Carcinoma   1124 non-null   float64\n",
      " 59  CANCER_TYPE_DETAILED_Breast Mixed Ductal and Lobular Carcinoma  1124 non-null   float64\n",
      " 60  ONCOTREE_CODE_BREAST                                            1124 non-null   float64\n",
      " 61  ONCOTREE_CODE_IDC                                               1124 non-null   float64\n",
      " 62  ONCOTREE_CODE_ILC                                               1124 non-null   float64\n",
      " 63  ONCOTREE_CODE_IMMC                                              1124 non-null   float64\n",
      " 64  ONCOTREE_CODE_MDLC                                              1124 non-null   float64\n",
      "dtypes: bool(3), float64(62)\n",
      "memory usage: 547.9 KB\n"
     ]
    }
   ],
   "source": [
    "X.info()"
   ]
  },
  {
   "cell_type": "code",
   "execution_count": 31,
   "id": "cd767058-1fbc-4afa-84b2-052d3cc9e3a2",
   "metadata": {},
   "outputs": [
    {
     "data": {
      "text/plain": [
       "((786, 65), (338, 65), (786,), (338,))"
      ]
     },
     "execution_count": 31,
     "metadata": {},
     "output_type": "execute_result"
    }
   ],
   "source": [
    "X_train, X_test, y_train, y_test=train_test_split(X,y, train_size=0.7, random_state=1)\n",
    "X_train.shape, X_test.shape, y_train.shape, y_test.shape"
   ]
  },
  {
   "cell_type": "code",
   "execution_count": 32,
   "id": "40a48b4d-f83f-4e7f-b5d4-d6e9a231eabb",
   "metadata": {},
   "outputs": [
    {
     "name": "stdout",
     "output_type": "stream",
     "text": [
      "nodes:  2 accuracy:  0.6804733727810651\n",
      "nodes:  3 accuracy:  0.6804733727810651\n",
      "nodes:  4 accuracy:  0.6804733727810651\n",
      "nodes:  5 accuracy:  0.6775147928994083\n",
      "nodes:  6 accuracy:  0.6627218934911243\n",
      "nodes:  7 accuracy:  0.665680473372781\n",
      "nodes:  8 accuracy:  0.665680473372781\n",
      "nodes:  9 accuracy:  0.665680473372781\n",
      "nodes:  10 accuracy:  0.665680473372781\n",
      "nodes:  11 accuracy:  0.665680473372781\n",
      "nodes:  12 accuracy:  0.6686390532544378\n",
      "nodes:  13 accuracy:  0.650887573964497\n",
      "nodes:  14 accuracy:  0.6627218934911243\n",
      "nodes:  15 accuracy:  0.6627218934911243\n",
      "nodes:  16 accuracy:  0.6627218934911243\n",
      "nodes:  17 accuracy:  0.6627218934911243\n",
      "nodes:  18 accuracy:  0.6686390532544378\n",
      "nodes:  19 accuracy:  0.6627218934911243\n",
      "nodes:  20 accuracy:  0.6538461538461539\n",
      "nodes:  21 accuracy:  0.6627218934911243\n",
      "nodes:  22 accuracy:  0.6627218934911243\n",
      "nodes:  23 accuracy:  0.6331360946745562\n",
      "nodes:  24 accuracy:  0.665680473372781\n",
      "nodes:  25 accuracy:  0.6627218934911243\n",
      "nodes:  26 accuracy:  0.665680473372781\n",
      "nodes:  27 accuracy:  0.6538461538461539\n",
      "nodes:  28 accuracy:  0.6538461538461539\n",
      "nodes:  29 accuracy:  0.6538461538461539\n",
      "nodes:  30 accuracy:  0.650887573964497\n",
      "nodes:  31 accuracy:  0.6538461538461539\n",
      "nodes:  32 accuracy:  0.650887573964497\n",
      "nodes:  33 accuracy:  0.6538461538461539\n",
      "nodes:  34 accuracy:  0.650887573964497\n",
      "nodes:  35 accuracy:  0.6538461538461539\n",
      "nodes:  36 accuracy:  0.6538461538461539\n",
      "nodes:  37 accuracy:  0.6420118343195266\n",
      "nodes:  38 accuracy:  0.6420118343195266\n",
      "nodes:  39 accuracy:  0.6390532544378699\n",
      "nodes:  40 accuracy:  0.6390532544378699\n",
      "nodes:  41 accuracy:  0.6449704142011834\n",
      "nodes:  42 accuracy:  0.6390532544378699\n",
      "nodes:  43 accuracy:  0.6390532544378699\n",
      "nodes:  44 accuracy:  0.6331360946745562\n",
      "nodes:  45 accuracy:  0.6331360946745562\n",
      "nodes:  46 accuracy:  0.636094674556213\n",
      "nodes:  47 accuracy:  0.636094674556213\n",
      "nodes:  48 accuracy:  0.636094674556213\n",
      "nodes:  49 accuracy:  0.6331360946745562\n"
     ]
    }
   ],
   "source": [
    "accuracies={}\n",
    "\n",
    "for nodes in range(2,50):\n",
    "    clf = DecisionTreeClassifier(max_leaf_nodes=nodes)\n",
    "    clf = clf.fit(X_train, y_train)\n",
    "    #print(clf.classes_)\n",
    "\n",
    "    y_pred=clf.predict(X_test)\n",
    "    # accuracy\n",
    "    \n",
    "    accuracy=sum(y_test==y_pred)/y_test.shape[0]\n",
    "    accuracies[nodes]=accuracy\n",
    "    print('nodes: ',nodes, 'accuracy: ', accuracy)"
   ]
  },
  {
   "cell_type": "code",
   "execution_count": 33,
   "id": "06e35dfd-b7c6-45fd-8ef9-4443d65c7466",
   "metadata": {},
   "outputs": [
    {
     "data": {
      "text/plain": [
       "2"
      ]
     },
     "execution_count": 33,
     "metadata": {},
     "output_type": "execute_result"
    }
   ],
   "source": [
    "max(accuracies, key=accuracies.get)"
   ]
  },
  {
   "cell_type": "markdown",
   "id": "afd02d72-f54d-49f6-ba2d-a4b7b2e884ef",
   "metadata": {},
   "source": [
    "最も精度のよいleaf_nodesのパラメーターで再度モデル構築"
   ]
  },
  {
   "cell_type": "code",
   "execution_count": 34,
   "id": "d549a5ff-8a16-4c31-87a2-62b11059e1b7",
   "metadata": {},
   "outputs": [
    {
     "name": "stdout",
     "output_type": "stream",
     "text": [
      "0.6804733727810651\n"
     ]
    }
   ],
   "source": [
    "clf = DecisionTreeClassifier(max_leaf_nodes=max(accuracies, key=accuracies.get))\n",
    "clf = clf.fit(X_train, y_train)\n",
    "#print(clf.classes_)\n",
    "\n",
    "y_pred=clf.predict(X_test)\n",
    "# accuracy\n",
    "\n",
    "print(sum(y_test==y_pred)/y_test.shape[0])"
   ]
  },
  {
   "cell_type": "code",
   "execution_count": 35,
   "id": "8d3866ba-42d1-47b9-8455-4f5930c73267",
   "metadata": {},
   "outputs": [
    {
     "data": {
      "text/plain": [
       "array([False,  True])"
      ]
     },
     "execution_count": 35,
     "metadata": {},
     "output_type": "execute_result"
    }
   ],
   "source": [
    "y.unique()"
   ]
  },
  {
   "cell_type": "code",
   "execution_count": 36,
   "id": "2685401b-1f7d-4bfd-86ac-8b2c4bb5d269",
   "metadata": {
    "tags": []
   },
   "outputs": [
    {
     "data": {
      "text/plain": [
       "True"
      ]
     },
     "execution_count": 36,
     "metadata": {},
     "output_type": "execute_result"
    }
   ],
   "source": [
    "dot_data = StringIO() #dotファイル情報の格納先\n",
    "export_graphviz(clf, out_file=dot_data,  \n",
    "                     feature_names=X.columns,\n",
    "                     #class_names= y.unique(),\n",
    "                     filled=True, rounded=True,  \n",
    "                     special_characters=True) \n",
    "graph = pydotplus.graph_from_dot_data(dot_data.getvalue()) \n",
    "Image(graph.create_png())\n",
    "graph.write_png(config.TREE_DIR+'/2.0-decision_tree_model.png')"
   ]
  },
  {
   "cell_type": "code",
   "execution_count": 37,
   "id": "00de30a4-332d-421b-9996-b20f97c6efa8",
   "metadata": {},
   "outputs": [
    {
     "data": {
      "text/plain": [
       "221"
      ]
     },
     "execution_count": 37,
     "metadata": {},
     "output_type": "execute_result"
    }
   ],
   "source": [
    "y_test.value_counts()[0]"
   ]
  },
  {
   "cell_type": "code",
   "execution_count": 38,
   "id": "d9e3a829-4908-407a-89dd-946c54c51837",
   "metadata": {},
   "outputs": [
    {
     "data": {
      "text/plain": [
       "False    221\n",
       "True     117\n",
       "Name: IN_5YEARS_STATUS, dtype: int64"
      ]
     },
     "metadata": {},
     "output_type": "display_data"
    },
    {
     "data": {
      "text/plain": [
       "'baseline:'"
      ]
     },
     "metadata": {},
     "output_type": "display_data"
    },
    {
     "data": {
      "text/plain": [
       "False    0.653846\n",
       "True     0.346154\n",
       "Name: IN_5YEARS_STATUS, dtype: float64"
      ]
     },
     "metadata": {},
     "output_type": "display_data"
    }
   ],
   "source": [
    "display(y_test.value_counts())\n",
    "\n",
    "display('baseline:', y_test.value_counts()/y_test.size)"
   ]
  },
  {
   "cell_type": "code",
   "execution_count": 39,
   "id": "1af2115f-1a54-44f3-ba48-211029fbd7ab",
   "metadata": {},
   "outputs": [
    {
     "data": {
      "text/plain": [
       "0.6804733727810651"
      ]
     },
     "execution_count": 39,
     "metadata": {},
     "output_type": "execute_result"
    }
   ],
   "source": [
    "y_pred=clf.predict(X_test)\n",
    "# accuracy\n",
    "sum(y_test==y_pred)/y_test.shape[0]"
   ]
  },
  {
   "cell_type": "code",
   "execution_count": 40,
   "id": "daa5fa38-490a-4aa4-a270-298277d386c9",
   "metadata": {},
   "outputs": [
    {
     "data": {
      "image/png": "[encoded data removed]",
      "text/plain": [
       "<Figure size 432x288 with 2 Axes>"
      ]
     },
     "metadata": {
      "needs_background": "light"
     },
     "output_type": "display_data"
    }
   ],
   "source": [
    "cm=confusion_matrix(y_test, y_pred)\n",
    "sns.heatmap(cm, square=True, cbar=True, annot=True, cmap='Blues', fmt='1.0f')\n",
    "plt.xlabel(\"Predict\", fontsize=13)\n",
    "plt.ylabel(\"GroundTruth\", fontsize=13)\n",
    "plt.savefig(config.TREE_DIR+'/2.0-decision_tree_confusion-matrix.png')"
   ]
  },
  {
   "cell_type": "code",
   "execution_count": null,
   "id": "b2a860d7-01cd-4622-8f77-268476a37caa",
   "metadata": {},
   "outputs": [],
   "source": []
  }
 ],
 "metadata": {
  "kernelspec": {
   "display_name": "breast-cancer-analytics",
   "language": "python",
   "name": "breast-cancer-analytics"
  },
  "language_info": {
   "codemirror_mode": {
    "name": "ipython",
    "version": 3
   },
   "file_extension": ".py",
   "mimetype": "text/x-python",
   "name": "python",
   "nbconvert_exporter": "python",
   "pygments_lexer": "ipython3",
   "version": "3.8.13"
  }
 },
 "nbformat": 4,
 "nbformat_minor": 5
}
