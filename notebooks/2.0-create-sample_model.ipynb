{
 "cells": [
  {
   "cell_type": "code",
   "execution_count": 1,
   "id": "1dcac27b-3b65-4903-94b7-fa4da54eb1f4",
   "metadata": {},
   "outputs": [],
   "source": [
    "import os\n",
    "\n",
    "import numpy as np\n",
    "import pandas as pd\n",
    "import matplotlib.pyplot as plt\n",
    "import seaborn as sns\n",
    "\n",
    "from sklearn.tree import DecisionTreeClassifier, export_graphviz\n",
    "import graphviz\n",
    "import pydotplus\n",
    "from IPython.display import Image\n",
    "from six import StringIO\n",
    "\n",
    "from sklearn.model_selection import train_test_split\n",
    "from sklearn.preprocessing import OneHotEncoder, LabelEncoder\n",
    "\n",
    "from sklearn.metrics import confusion_matrix\n",
    "\n",
    "import config\n",
    "\n",
    "#最大表示列数の指定（ここでは50列を指定）\n",
    "pd.set_option('display.max_columns', 50)\n",
    "\n",
    "def make_dir(dir_name: str):\n",
    "    if not os.path.exists(dir_name):\n",
    "        os.makedirs(dir_name)"
   ]
  },
  {
   "cell_type": "code",
   "execution_count": 2,
   "id": "8a9a2add-4f34-4cac-92a2-968b96e35421",
   "metadata": {},
   "outputs": [
    {
     "name": "stdout",
     "output_type": "stream",
     "text": [
      "<class 'pandas.core.frame.DataFrame'>\n",
      "RangeIndex: 2509 entries, 0 to 2508\n",
      "Data columns (total 37 columns):\n",
      " #   Column                               Non-Null Count  Dtype  \n",
      "---  ------                               --------------  -----  \n",
      " 0   PATIENT_ID                           2509 non-null   object \n",
      " 1   LYMPH_NODES_EXAMINED_POSITIVE        2243 non-null   float64\n",
      " 2   NPI                                  2287 non-null   float64\n",
      " 3   COHORT                               2509 non-null   object \n",
      " 4   SEX                                  2509 non-null   object \n",
      " 5   INTCLUST                             2509 non-null   object \n",
      " 6   AGE_AT_DIAGNOSIS                     2498 non-null   float64\n",
      " 7   OS_MONTHS                            1981 non-null   float64\n",
      " 8   OS_STATUS                            2509 non-null   bool   \n",
      " 9   CLAUDIN_SUBTYPE                      2509 non-null   object \n",
      " 10  THREEGENE                            2509 non-null   object \n",
      " 11  VITAL_STATUS                         2509 non-null   object \n",
      " 12  LATERALITY                           2509 non-null   object \n",
      " 13  HISTOLOGICAL_SUBTYPE                 2509 non-null   object \n",
      " 14  BREAST_SURGERY                       2509 non-null   object \n",
      " 15  RFS_STATUS                           2509 non-null   bool   \n",
      " 16  RFS_MONTHS                           2388 non-null   float64\n",
      " 17  CELLULARITY_converted                1917 non-null   float64\n",
      " 18  ER_IHC_converted                     2426 non-null   float64\n",
      " 19  HER2_SNP6_converted                  1980 non-null   float64\n",
      " 20  INFERRED_MENOPAUSAL_STATE_converted  1980 non-null   float64\n",
      " 21  CHEMOTHERAPY_converted               2509 non-null   bool   \n",
      " 22  HORMONE_THERAPY_converted            2509 non-null   bool   \n",
      " 23  RADIO_THERAPY_converted              2509 non-null   bool   \n",
      " 24  PATIENT_ID                           2509 non-null   object \n",
      " 25  SAMPLE_ID                            2509 non-null   object \n",
      " 26  CANCER_TYPE                          2509 non-null   object \n",
      " 27  CANCER_TYPE_DETAILED                 2509 non-null   object \n",
      " 28  GRADE                                2388 non-null   float64\n",
      " 29  ONCOTREE_CODE                        2509 non-null   object \n",
      " 30  SAMPLE_TYPE                          2509 non-null   object \n",
      " 31  TUMOR_SIZE                           2360 non-null   float64\n",
      " 32  TUMOR_STAGE                          1788 non-null   float64\n",
      " 33  TMB_NONSYNONYMOUS                    2509 non-null   float64\n",
      " 34  ER_STATUS_converted                  2469 non-null   float64\n",
      " 35  HER2_STATUS_converted                1980 non-null   float64\n",
      " 36  PR_STATUS_converted                  1980 non-null   float64\n",
      "dtypes: bool(5), float64(16), object(16)\n",
      "memory usage: 639.6+ KB\n"
     ]
    }
   ],
   "source": [
    "df=pd.read_pickle(config.INTERIM_PICKLE_EDA_DIR+'/data_metabric_table_1.2.pkl')\n",
    "df.info()"
   ]
  },
  {
   "cell_type": "code",
   "execution_count": 21,
   "id": "921cf89d-39b6-4d75-a031-1f712ec7bd40",
   "metadata": {},
   "outputs": [
    {
     "name": "stdout",
     "output_type": "stream",
     "text": [
      "37 37\n"
     ]
    }
   ],
   "source": [
    "target_columns=[\n",
    "    # patient\n",
    "    'OS_MONTHS',\n",
    "    'RFS_MONTHS',\n",
    "    'OS_STATUS',\n",
    "    'RFS_STATUS',\n",
    "    'VITAL_STATUS',\n",
    "]\n",
    "\n",
    "int_columns=[\n",
    "    # patient\n",
    "    'LYMPH_NODES_EXAMINED_POSITIVE',\n",
    "    \n",
    "    'OS_MONTHS',\n",
    "    'RFS_MONTHS',\n",
    "]\n",
    "\n",
    "float_columns=[\n",
    "    # patient\n",
    "    'NPI',\n",
    "    'AGE_AT_DIAGNOSIS',\n",
    "    # sample\n",
    "    'TUMOR_SIZE',\n",
    "    'TMB_NONSYNONYMOUS',\n",
    "]\n",
    "\n",
    "str_columns=[\n",
    "]\n",
    "\n",
    "# 質的変数（順序尺度）\n",
    "qualitative_ordinal_columns=[\n",
    "    # patient\n",
    "    'CELLULARITY_converted',  \n",
    "    'ER_IHC_converted',\n",
    "    'HER2_SNP6_converted',\n",
    "    'INFERRED_MENOPAUSAL_STATE_converted',\n",
    "    # sample\n",
    "    'ER_STATUS_converted',\n",
    "    'HER2_STATUS_converted',\n",
    "    'GRADE',\n",
    "    'PR_STATUS_converted',\n",
    "    'TUMOR_STAGE',\n",
    "]\n",
    "# 質的変数（名義尺度）\n",
    "qualitative_name_columns=[\n",
    "    # patient\n",
    "    'COHORT',\n",
    "    'INTCLUST',\n",
    "    'CLAUDIN_SUBTYPE',\n",
    "    'THREEGENE',\n",
    "    'HISTOLOGICAL_SUBTYPE',\n",
    "    'BREAST_SURGERY',\n",
    "    'LATERALITY',\n",
    "    \n",
    "    'VITAL_STATUS',\n",
    "    # sample\n",
    "    'CANCER_TYPE',\n",
    "    'CANCER_TYPE_DETAILED',\n",
    "    'ONCOTREE_CODE',\n",
    "\n",
    "]\n",
    "\n",
    "bool_columns=[\n",
    "    # patient\n",
    "    'CHEMOTHERAPY_converted',\n",
    "    'HORMONE_THERAPY_converted',\n",
    "    'RADIO_THERAPY_converted',\n",
    "]\n",
    "\n",
    "meanless_columns=[\n",
    "    # patient\n",
    "    'PATIENT_ID',\n",
    "    'SEX',\n",
    "    \n",
    "    'OS_STATUS',\n",
    "    'RFS_STATUS',\n",
    "    # sample\n",
    "    'PATIENT_ID',\n",
    "    'SAMPLE_ID',\n",
    "    'SAMPLE_TYPE',\n",
    "]\n",
    "\n",
    "print(df.shape[1],\n",
    "    len(int_columns)+\\\n",
    "    len(float_columns)+\\\n",
    "    len(ｓｔｒ_columns)+\\\n",
    "    len(qualitative_ordinal_columns)+\\\n",
    "    len(qualitative_name_columns)+\\\n",
    "    len(bool_columns)+\\\n",
    "    len(meanless_columns))\n",
    "assert  df.shape[1]==\\\n",
    "    len(int_columns)+\\\n",
    "    len(float_columns)+\\\n",
    "    len(ｓｔｒ_columns)+\\\n",
    "    len(qualitative_ordinal_columns)+\\\n",
    "    len(qualitative_name_columns)+\\\n",
    "    len(bool_columns)+\\\n",
    "    len(meanless_columns), 'lack or too much columns'"
   ]
  },
  {
   "cell_type": "markdown",
   "id": "2de3cd2d-9b94-43f4-9da9-315497fcd12f",
   "metadata": {},
   "source": [
    "### drop na data"
   ]
  },
  {
   "cell_type": "code",
   "execution_count": 22,
   "id": "76532ae2-b2c5-4f09-8245-cf1370930c51",
   "metadata": {},
   "outputs": [
    {
     "name": "stdout",
     "output_type": "stream",
     "text": [
      "<class 'pandas.core.frame.DataFrame'>\n",
      "Int64Index: 1293 entries, 1 to 1743\n",
      "Data columns (total 37 columns):\n",
      " #   Column                               Non-Null Count  Dtype  \n",
      "---  ------                               --------------  -----  \n",
      " 0   PATIENT_ID                           1293 non-null   object \n",
      " 1   LYMPH_NODES_EXAMINED_POSITIVE        1293 non-null   float64\n",
      " 2   NPI                                  1293 non-null   float64\n",
      " 3   COHORT                               1293 non-null   object \n",
      " 4   SEX                                  1293 non-null   object \n",
      " 5   INTCLUST                             1293 non-null   object \n",
      " 6   AGE_AT_DIAGNOSIS                     1293 non-null   float64\n",
      " 7   OS_MONTHS                            1293 non-null   float64\n",
      " 8   OS_STATUS                            1293 non-null   bool   \n",
      " 9   CLAUDIN_SUBTYPE                      1293 non-null   object \n",
      " 10  THREEGENE                            1293 non-null   object \n",
      " 11  VITAL_STATUS                         1293 non-null   object \n",
      " 12  LATERALITY                           1293 non-null   object \n",
      " 13  HISTOLOGICAL_SUBTYPE                 1293 non-null   object \n",
      " 14  BREAST_SURGERY                       1293 non-null   object \n",
      " 15  RFS_STATUS                           1293 non-null   bool   \n",
      " 16  RFS_MONTHS                           1293 non-null   float64\n",
      " 17  CELLULARITY_converted                1293 non-null   float64\n",
      " 18  ER_IHC_converted                     1293 non-null   float64\n",
      " 19  HER2_SNP6_converted                  1293 non-null   float64\n",
      " 20  INFERRED_MENOPAUSAL_STATE_converted  1293 non-null   float64\n",
      " 21  CHEMOTHERAPY_converted               1293 non-null   bool   \n",
      " 22  HORMONE_THERAPY_converted            1293 non-null   bool   \n",
      " 23  RADIO_THERAPY_converted              1293 non-null   bool   \n",
      " 24  PATIENT_ID                           1293 non-null   object \n",
      " 25  SAMPLE_ID                            1293 non-null   object \n",
      " 26  CANCER_TYPE                          1293 non-null   object \n",
      " 27  CANCER_TYPE_DETAILED                 1293 non-null   object \n",
      " 28  GRADE                                1293 non-null   float64\n",
      " 29  ONCOTREE_CODE                        1293 non-null   object \n",
      " 30  SAMPLE_TYPE                          1293 non-null   object \n",
      " 31  TUMOR_SIZE                           1293 non-null   float64\n",
      " 32  TUMOR_STAGE                          1293 non-null   float64\n",
      " 33  TMB_NONSYNONYMOUS                    1293 non-null   float64\n",
      " 34  ER_STATUS_converted                  1293 non-null   float64\n",
      " 35  HER2_STATUS_converted                1293 non-null   float64\n",
      " 36  PR_STATUS_converted                  1293 non-null   float64\n",
      "dtypes: bool(5), float64(16), object(16)\n",
      "memory usage: 339.7+ KB\n"
     ]
    }
   ],
   "source": [
    "df.dropna(how='any', inplace=True)\n",
    "df.info()"
   ]
  },
  {
   "cell_type": "code",
   "execution_count": 23,
   "id": "a9fcb601-54f1-405b-956c-123d5c8dd184",
   "metadata": {},
   "outputs": [
    {
     "data": {
      "text/html": [
       "<div>\n",
       "<style scoped>\n",
       "    .dataframe tbody tr th:only-of-type {\n",
       "        vertical-align: middle;\n",
       "    }\n",
       "\n",
       "    .dataframe tbody tr th {\n",
       "        vertical-align: top;\n",
       "    }\n",
       "\n",
       "    .dataframe thead th {\n",
       "        text-align: right;\n",
       "    }\n",
       "</style>\n",
       "<table border=\"1\" class=\"dataframe\">\n",
       "  <thead>\n",
       "    <tr style=\"text-align: right;\">\n",
       "      <th></th>\n",
       "      <th>PATIENT_ID</th>\n",
       "      <th>LYMPH_NODES_EXAMINED_POSITIVE</th>\n",
       "      <th>NPI</th>\n",
       "      <th>COHORT</th>\n",
       "      <th>SEX</th>\n",
       "      <th>INTCLUST</th>\n",
       "      <th>AGE_AT_DIAGNOSIS</th>\n",
       "      <th>OS_MONTHS</th>\n",
       "      <th>OS_STATUS</th>\n",
       "      <th>CLAUDIN_SUBTYPE</th>\n",
       "      <th>THREEGENE</th>\n",
       "      <th>VITAL_STATUS</th>\n",
       "      <th>LATERALITY</th>\n",
       "      <th>HISTOLOGICAL_SUBTYPE</th>\n",
       "      <th>BREAST_SURGERY</th>\n",
       "      <th>RFS_STATUS</th>\n",
       "      <th>RFS_MONTHS</th>\n",
       "      <th>CELLULARITY_converted</th>\n",
       "      <th>ER_IHC_converted</th>\n",
       "      <th>HER2_SNP6_converted</th>\n",
       "      <th>INFERRED_MENOPAUSAL_STATE_converted</th>\n",
       "      <th>CHEMOTHERAPY_converted</th>\n",
       "      <th>HORMONE_THERAPY_converted</th>\n",
       "      <th>RADIO_THERAPY_converted</th>\n",
       "      <th>PATIENT_ID</th>\n",
       "      <th>SAMPLE_ID</th>\n",
       "      <th>CANCER_TYPE</th>\n",
       "      <th>CANCER_TYPE_DETAILED</th>\n",
       "      <th>GRADE</th>\n",
       "      <th>ONCOTREE_CODE</th>\n",
       "      <th>SAMPLE_TYPE</th>\n",
       "      <th>TUMOR_SIZE</th>\n",
       "      <th>TUMOR_STAGE</th>\n",
       "      <th>TMB_NONSYNONYMOUS</th>\n",
       "      <th>ER_STATUS_converted</th>\n",
       "      <th>HER2_STATUS_converted</th>\n",
       "      <th>PR_STATUS_converted</th>\n",
       "    </tr>\n",
       "  </thead>\n",
       "  <tbody>\n",
       "    <tr>\n",
       "      <th>1</th>\n",
       "      <td>MB-0002</td>\n",
       "      <td>0.0</td>\n",
       "      <td>4.020</td>\n",
       "      <td>1.0</td>\n",
       "      <td>Female</td>\n",
       "      <td>4ER+</td>\n",
       "      <td>43.19</td>\n",
       "      <td>84.633333</td>\n",
       "      <td>False</td>\n",
       "      <td>LumA</td>\n",
       "      <td>ER+/HER2- High Prolif</td>\n",
       "      <td>Living</td>\n",
       "      <td>Right</td>\n",
       "      <td>Ductal/NST</td>\n",
       "      <td>BREAST CONSERVING</td>\n",
       "      <td>False</td>\n",
       "      <td>83.52</td>\n",
       "      <td>3.0</td>\n",
       "      <td>1.0</td>\n",
       "      <td>2.0</td>\n",
       "      <td>-1.0</td>\n",
       "      <td>False</td>\n",
       "      <td>True</td>\n",
       "      <td>True</td>\n",
       "      <td>MB-0002</td>\n",
       "      <td>MB-0002</td>\n",
       "      <td>Breast Cancer</td>\n",
       "      <td>Breast Invasive Ductal Carcinoma</td>\n",
       "      <td>3.0</td>\n",
       "      <td>IDC</td>\n",
       "      <td>Primary</td>\n",
       "      <td>10.0</td>\n",
       "      <td>1.0</td>\n",
       "      <td>2.615035</td>\n",
       "      <td>1.0</td>\n",
       "      <td>-1.0</td>\n",
       "      <td>1.0</td>\n",
       "    </tr>\n",
       "    <tr>\n",
       "      <th>2</th>\n",
       "      <td>MB-0005</td>\n",
       "      <td>1.0</td>\n",
       "      <td>4.030</td>\n",
       "      <td>1.0</td>\n",
       "      <td>Female</td>\n",
       "      <td>3</td>\n",
       "      <td>48.87</td>\n",
       "      <td>163.700000</td>\n",
       "      <td>True</td>\n",
       "      <td>LumB</td>\n",
       "      <td>nan</td>\n",
       "      <td>Died of Disease</td>\n",
       "      <td>Right</td>\n",
       "      <td>Ductal/NST</td>\n",
       "      <td>MASTECTOMY</td>\n",
       "      <td>True</td>\n",
       "      <td>151.28</td>\n",
       "      <td>3.0</td>\n",
       "      <td>1.0</td>\n",
       "      <td>2.0</td>\n",
       "      <td>-1.0</td>\n",
       "      <td>True</td>\n",
       "      <td>True</td>\n",
       "      <td>False</td>\n",
       "      <td>MB-0005</td>\n",
       "      <td>MB-0005</td>\n",
       "      <td>Breast Cancer</td>\n",
       "      <td>Breast Invasive Ductal Carcinoma</td>\n",
       "      <td>2.0</td>\n",
       "      <td>IDC</td>\n",
       "      <td>Primary</td>\n",
       "      <td>15.0</td>\n",
       "      <td>2.0</td>\n",
       "      <td>2.615035</td>\n",
       "      <td>1.0</td>\n",
       "      <td>-1.0</td>\n",
       "      <td>1.0</td>\n",
       "    </tr>\n",
       "    <tr>\n",
       "      <th>3</th>\n",
       "      <td>MB-0006</td>\n",
       "      <td>3.0</td>\n",
       "      <td>4.050</td>\n",
       "      <td>1.0</td>\n",
       "      <td>Female</td>\n",
       "      <td>9</td>\n",
       "      <td>47.68</td>\n",
       "      <td>164.933333</td>\n",
       "      <td>False</td>\n",
       "      <td>LumB</td>\n",
       "      <td>nan</td>\n",
       "      <td>Living</td>\n",
       "      <td>Right</td>\n",
       "      <td>Mixed</td>\n",
       "      <td>MASTECTOMY</td>\n",
       "      <td>False</td>\n",
       "      <td>162.76</td>\n",
       "      <td>2.0</td>\n",
       "      <td>1.0</td>\n",
       "      <td>2.0</td>\n",
       "      <td>-1.0</td>\n",
       "      <td>True</td>\n",
       "      <td>True</td>\n",
       "      <td>True</td>\n",
       "      <td>MB-0006</td>\n",
       "      <td>MB-0006</td>\n",
       "      <td>Breast Cancer</td>\n",
       "      <td>Breast Mixed Ductal and Lobular Carcinoma</td>\n",
       "      <td>2.0</td>\n",
       "      <td>MDLC</td>\n",
       "      <td>Primary</td>\n",
       "      <td>25.0</td>\n",
       "      <td>2.0</td>\n",
       "      <td>1.307518</td>\n",
       "      <td>1.0</td>\n",
       "      <td>-1.0</td>\n",
       "      <td>1.0</td>\n",
       "    </tr>\n",
       "    <tr>\n",
       "      <th>4</th>\n",
       "      <td>MB-0008</td>\n",
       "      <td>8.0</td>\n",
       "      <td>6.080</td>\n",
       "      <td>1.0</td>\n",
       "      <td>Female</td>\n",
       "      <td>9</td>\n",
       "      <td>76.97</td>\n",
       "      <td>41.366667</td>\n",
       "      <td>True</td>\n",
       "      <td>LumB</td>\n",
       "      <td>ER+/HER2- High Prolif</td>\n",
       "      <td>Died of Disease</td>\n",
       "      <td>Right</td>\n",
       "      <td>Mixed</td>\n",
       "      <td>MASTECTOMY</td>\n",
       "      <td>True</td>\n",
       "      <td>18.55</td>\n",
       "      <td>3.0</td>\n",
       "      <td>1.0</td>\n",
       "      <td>2.0</td>\n",
       "      <td>1.0</td>\n",
       "      <td>True</td>\n",
       "      <td>True</td>\n",
       "      <td>True</td>\n",
       "      <td>MB-0008</td>\n",
       "      <td>MB-0008</td>\n",
       "      <td>Breast Cancer</td>\n",
       "      <td>Breast Mixed Ductal and Lobular Carcinoma</td>\n",
       "      <td>3.0</td>\n",
       "      <td>MDLC</td>\n",
       "      <td>Primary</td>\n",
       "      <td>40.0</td>\n",
       "      <td>2.0</td>\n",
       "      <td>2.615035</td>\n",
       "      <td>1.0</td>\n",
       "      <td>-1.0</td>\n",
       "      <td>1.0</td>\n",
       "    </tr>\n",
       "    <tr>\n",
       "      <th>5</th>\n",
       "      <td>MB-0010</td>\n",
       "      <td>0.0</td>\n",
       "      <td>4.062</td>\n",
       "      <td>1.0</td>\n",
       "      <td>Female</td>\n",
       "      <td>7</td>\n",
       "      <td>78.77</td>\n",
       "      <td>7.800000</td>\n",
       "      <td>True</td>\n",
       "      <td>LumB</td>\n",
       "      <td>ER+/HER2- High Prolif</td>\n",
       "      <td>Died of Disease</td>\n",
       "      <td>Left</td>\n",
       "      <td>Ductal/NST</td>\n",
       "      <td>MASTECTOMY</td>\n",
       "      <td>True</td>\n",
       "      <td>2.89</td>\n",
       "      <td>2.0</td>\n",
       "      <td>1.0</td>\n",
       "      <td>2.0</td>\n",
       "      <td>1.0</td>\n",
       "      <td>False</td>\n",
       "      <td>True</td>\n",
       "      <td>True</td>\n",
       "      <td>MB-0010</td>\n",
       "      <td>MB-0010</td>\n",
       "      <td>Breast Cancer</td>\n",
       "      <td>Breast Invasive Ductal Carcinoma</td>\n",
       "      <td>3.0</td>\n",
       "      <td>IDC</td>\n",
       "      <td>Primary</td>\n",
       "      <td>31.0</td>\n",
       "      <td>4.0</td>\n",
       "      <td>5.230071</td>\n",
       "      <td>1.0</td>\n",
       "      <td>-1.0</td>\n",
       "      <td>1.0</td>\n",
       "    </tr>\n",
       "    <tr>\n",
       "      <th>...</th>\n",
       "      <td>...</td>\n",
       "      <td>...</td>\n",
       "      <td>...</td>\n",
       "      <td>...</td>\n",
       "      <td>...</td>\n",
       "      <td>...</td>\n",
       "      <td>...</td>\n",
       "      <td>...</td>\n",
       "      <td>...</td>\n",
       "      <td>...</td>\n",
       "      <td>...</td>\n",
       "      <td>...</td>\n",
       "      <td>...</td>\n",
       "      <td>...</td>\n",
       "      <td>...</td>\n",
       "      <td>...</td>\n",
       "      <td>...</td>\n",
       "      <td>...</td>\n",
       "      <td>...</td>\n",
       "      <td>...</td>\n",
       "      <td>...</td>\n",
       "      <td>...</td>\n",
       "      <td>...</td>\n",
       "      <td>...</td>\n",
       "      <td>...</td>\n",
       "      <td>...</td>\n",
       "      <td>...</td>\n",
       "      <td>...</td>\n",
       "      <td>...</td>\n",
       "      <td>...</td>\n",
       "      <td>...</td>\n",
       "      <td>...</td>\n",
       "      <td>...</td>\n",
       "      <td>...</td>\n",
       "      <td>...</td>\n",
       "      <td>...</td>\n",
       "      <td>...</td>\n",
       "    </tr>\n",
       "    <tr>\n",
       "      <th>1698</th>\n",
       "      <td>MB-6233</td>\n",
       "      <td>0.0</td>\n",
       "      <td>2.040</td>\n",
       "      <td>5.0</td>\n",
       "      <td>Female</td>\n",
       "      <td>8</td>\n",
       "      <td>70.65</td>\n",
       "      <td>201.166667</td>\n",
       "      <td>False</td>\n",
       "      <td>LumB</td>\n",
       "      <td>ER+/HER2- Low Prolif</td>\n",
       "      <td>Living</td>\n",
       "      <td>Left</td>\n",
       "      <td>Mixed</td>\n",
       "      <td>BREAST CONSERVING</td>\n",
       "      <td>False</td>\n",
       "      <td>198.52</td>\n",
       "      <td>3.0</td>\n",
       "      <td>1.0</td>\n",
       "      <td>2.0</td>\n",
       "      <td>1.0</td>\n",
       "      <td>False</td>\n",
       "      <td>False</td>\n",
       "      <td>True</td>\n",
       "      <td>MB-6233</td>\n",
       "      <td>MB-6233</td>\n",
       "      <td>Breast Cancer</td>\n",
       "      <td>Breast Mixed Ductal and Lobular Carcinoma</td>\n",
       "      <td>1.0</td>\n",
       "      <td>MDLC</td>\n",
       "      <td>Primary</td>\n",
       "      <td>20.0</td>\n",
       "      <td>1.0</td>\n",
       "      <td>11.767659</td>\n",
       "      <td>1.0</td>\n",
       "      <td>-1.0</td>\n",
       "      <td>1.0</td>\n",
       "    </tr>\n",
       "    <tr>\n",
       "      <th>1700</th>\n",
       "      <td>MB-6237</td>\n",
       "      <td>0.0</td>\n",
       "      <td>4.040</td>\n",
       "      <td>5.0</td>\n",
       "      <td>Female</td>\n",
       "      <td>10</td>\n",
       "      <td>75.62</td>\n",
       "      <td>105.200000</td>\n",
       "      <td>True</td>\n",
       "      <td>Basal</td>\n",
       "      <td>ER-/HER2-</td>\n",
       "      <td>Died of Other Causes</td>\n",
       "      <td>Right</td>\n",
       "      <td>Ductal/NST</td>\n",
       "      <td>MASTECTOMY</td>\n",
       "      <td>False</td>\n",
       "      <td>103.82</td>\n",
       "      <td>3.0</td>\n",
       "      <td>-1.0</td>\n",
       "      <td>3.0</td>\n",
       "      <td>1.0</td>\n",
       "      <td>False</td>\n",
       "      <td>False</td>\n",
       "      <td>False</td>\n",
       "      <td>MB-6237</td>\n",
       "      <td>MB-6237</td>\n",
       "      <td>Breast Cancer</td>\n",
       "      <td>Breast Invasive Ductal Carcinoma</td>\n",
       "      <td>3.0</td>\n",
       "      <td>IDC</td>\n",
       "      <td>Primary</td>\n",
       "      <td>20.0</td>\n",
       "      <td>1.0</td>\n",
       "      <td>5.230071</td>\n",
       "      <td>-1.0</td>\n",
       "      <td>-1.0</td>\n",
       "      <td>-1.0</td>\n",
       "    </tr>\n",
       "    <tr>\n",
       "      <th>1702</th>\n",
       "      <td>MB-6239</td>\n",
       "      <td>6.0</td>\n",
       "      <td>5.040</td>\n",
       "      <td>5.0</td>\n",
       "      <td>Female</td>\n",
       "      <td>8</td>\n",
       "      <td>52.84</td>\n",
       "      <td>200.333333</td>\n",
       "      <td>False</td>\n",
       "      <td>Normal</td>\n",
       "      <td>ER+/HER2- High Prolif</td>\n",
       "      <td>Living</td>\n",
       "      <td>Right</td>\n",
       "      <td>Mixed</td>\n",
       "      <td>BREAST CONSERVING</td>\n",
       "      <td>False</td>\n",
       "      <td>197.70</td>\n",
       "      <td>3.0</td>\n",
       "      <td>1.0</td>\n",
       "      <td>2.0</td>\n",
       "      <td>1.0</td>\n",
       "      <td>True</td>\n",
       "      <td>False</td>\n",
       "      <td>True</td>\n",
       "      <td>MB-6239</td>\n",
       "      <td>MB-6239</td>\n",
       "      <td>Breast Cancer</td>\n",
       "      <td>Breast Mixed Ductal and Lobular Carcinoma</td>\n",
       "      <td>2.0</td>\n",
       "      <td>MDLC</td>\n",
       "      <td>Primary</td>\n",
       "      <td>20.0</td>\n",
       "      <td>2.0</td>\n",
       "      <td>6.537589</td>\n",
       "      <td>1.0</td>\n",
       "      <td>-1.0</td>\n",
       "      <td>1.0</td>\n",
       "    </tr>\n",
       "    <tr>\n",
       "      <th>1707</th>\n",
       "      <td>MB-6251</td>\n",
       "      <td>1.0</td>\n",
       "      <td>5.060</td>\n",
       "      <td>5.0</td>\n",
       "      <td>Female</td>\n",
       "      <td>10</td>\n",
       "      <td>48.59</td>\n",
       "      <td>14.700000</td>\n",
       "      <td>True</td>\n",
       "      <td>Basal</td>\n",
       "      <td>nan</td>\n",
       "      <td>Died of Disease</td>\n",
       "      <td>Right</td>\n",
       "      <td>Ductal/NST</td>\n",
       "      <td>MASTECTOMY</td>\n",
       "      <td>True</td>\n",
       "      <td>12.20</td>\n",
       "      <td>3.0</td>\n",
       "      <td>-1.0</td>\n",
       "      <td>1.0</td>\n",
       "      <td>-1.0</td>\n",
       "      <td>True</td>\n",
       "      <td>False</td>\n",
       "      <td>True</td>\n",
       "      <td>MB-6251</td>\n",
       "      <td>MB-6251</td>\n",
       "      <td>Breast Cancer</td>\n",
       "      <td>Breast Invasive Ductal Carcinoma</td>\n",
       "      <td>3.0</td>\n",
       "      <td>IDC</td>\n",
       "      <td>Primary</td>\n",
       "      <td>30.0</td>\n",
       "      <td>2.0</td>\n",
       "      <td>7.845106</td>\n",
       "      <td>-1.0</td>\n",
       "      <td>-1.0</td>\n",
       "      <td>-1.0</td>\n",
       "    </tr>\n",
       "    <tr>\n",
       "      <th>1743</th>\n",
       "      <td>MB-6346</td>\n",
       "      <td>0.0</td>\n",
       "      <td>3.044</td>\n",
       "      <td>5.0</td>\n",
       "      <td>Female</td>\n",
       "      <td>8</td>\n",
       "      <td>63.20</td>\n",
       "      <td>281.500000</td>\n",
       "      <td>False</td>\n",
       "      <td>LumB</td>\n",
       "      <td>ER+/HER2- High Prolif</td>\n",
       "      <td>Living</td>\n",
       "      <td>Right</td>\n",
       "      <td>Mucinous</td>\n",
       "      <td>BREAST CONSERVING</td>\n",
       "      <td>False</td>\n",
       "      <td>277.80</td>\n",
       "      <td>3.0</td>\n",
       "      <td>1.0</td>\n",
       "      <td>2.0</td>\n",
       "      <td>1.0</td>\n",
       "      <td>False</td>\n",
       "      <td>False</td>\n",
       "      <td>True</td>\n",
       "      <td>MB-6346</td>\n",
       "      <td>MB-6346</td>\n",
       "      <td>Breast Cancer</td>\n",
       "      <td>Breast Invasive Mixed Mucinous Carcinoma</td>\n",
       "      <td>2.0</td>\n",
       "      <td>IMMC</td>\n",
       "      <td>Primary</td>\n",
       "      <td>22.0</td>\n",
       "      <td>2.0</td>\n",
       "      <td>3.922553</td>\n",
       "      <td>1.0</td>\n",
       "      <td>-1.0</td>\n",
       "      <td>1.0</td>\n",
       "    </tr>\n",
       "  </tbody>\n",
       "</table>\n",
       "<p>1293 rows × 37 columns</p>\n",
       "</div>"
      ],
      "text/plain": [
       "     PATIENT_ID  LYMPH_NODES_EXAMINED_POSITIVE    NPI COHORT     SEX INTCLUST  \\\n",
       "1       MB-0002                            0.0  4.020    1.0  Female     4ER+   \n",
       "2       MB-0005                            1.0  4.030    1.0  Female        3   \n",
       "3       MB-0006                            3.0  4.050    1.0  Female        9   \n",
       "4       MB-0008                            8.0  6.080    1.0  Female        9   \n",
       "5       MB-0010                            0.0  4.062    1.0  Female        7   \n",
       "...         ...                            ...    ...    ...     ...      ...   \n",
       "1698    MB-6233                            0.0  2.040    5.0  Female        8   \n",
       "1700    MB-6237                            0.0  4.040    5.0  Female       10   \n",
       "1702    MB-6239                            6.0  5.040    5.0  Female        8   \n",
       "1707    MB-6251                            1.0  5.060    5.0  Female       10   \n",
       "1743    MB-6346                            0.0  3.044    5.0  Female        8   \n",
       "\n",
       "      AGE_AT_DIAGNOSIS   OS_MONTHS  OS_STATUS CLAUDIN_SUBTYPE  \\\n",
       "1                43.19   84.633333      False            LumA   \n",
       "2                48.87  163.700000       True            LumB   \n",
       "3                47.68  164.933333      False            LumB   \n",
       "4                76.97   41.366667       True            LumB   \n",
       "5                78.77    7.800000       True            LumB   \n",
       "...                ...         ...        ...             ...   \n",
       "1698             70.65  201.166667      False            LumB   \n",
       "1700             75.62  105.200000       True           Basal   \n",
       "1702             52.84  200.333333      False          Normal   \n",
       "1707             48.59   14.700000       True           Basal   \n",
       "1743             63.20  281.500000      False            LumB   \n",
       "\n",
       "                  THREEGENE          VITAL_STATUS LATERALITY  \\\n",
       "1     ER+/HER2- High Prolif                Living      Right   \n",
       "2                       nan       Died of Disease      Right   \n",
       "3                       nan                Living      Right   \n",
       "4     ER+/HER2- High Prolif       Died of Disease      Right   \n",
       "5     ER+/HER2- High Prolif       Died of Disease       Left   \n",
       "...                     ...                   ...        ...   \n",
       "1698   ER+/HER2- Low Prolif                Living       Left   \n",
       "1700              ER-/HER2-  Died of Other Causes      Right   \n",
       "1702  ER+/HER2- High Prolif                Living      Right   \n",
       "1707                    nan       Died of Disease      Right   \n",
       "1743  ER+/HER2- High Prolif                Living      Right   \n",
       "\n",
       "     HISTOLOGICAL_SUBTYPE     BREAST_SURGERY  RFS_STATUS  RFS_MONTHS  \\\n",
       "1              Ductal/NST  BREAST CONSERVING       False       83.52   \n",
       "2              Ductal/NST         MASTECTOMY        True      151.28   \n",
       "3                   Mixed         MASTECTOMY       False      162.76   \n",
       "4                   Mixed         MASTECTOMY        True       18.55   \n",
       "5              Ductal/NST         MASTECTOMY        True        2.89   \n",
       "...                   ...                ...         ...         ...   \n",
       "1698                Mixed  BREAST CONSERVING       False      198.52   \n",
       "1700           Ductal/NST         MASTECTOMY       False      103.82   \n",
       "1702                Mixed  BREAST CONSERVING       False      197.70   \n",
       "1707           Ductal/NST         MASTECTOMY        True       12.20   \n",
       "1743             Mucinous  BREAST CONSERVING       False      277.80   \n",
       "\n",
       "      CELLULARITY_converted  ER_IHC_converted  HER2_SNP6_converted  \\\n",
       "1                       3.0               1.0                  2.0   \n",
       "2                       3.0               1.0                  2.0   \n",
       "3                       2.0               1.0                  2.0   \n",
       "4                       3.0               1.0                  2.0   \n",
       "5                       2.0               1.0                  2.0   \n",
       "...                     ...               ...                  ...   \n",
       "1698                    3.0               1.0                  2.0   \n",
       "1700                    3.0              -1.0                  3.0   \n",
       "1702                    3.0               1.0                  2.0   \n",
       "1707                    3.0              -1.0                  1.0   \n",
       "1743                    3.0               1.0                  2.0   \n",
       "\n",
       "      INFERRED_MENOPAUSAL_STATE_converted  CHEMOTHERAPY_converted  \\\n",
       "1                                    -1.0                   False   \n",
       "2                                    -1.0                    True   \n",
       "3                                    -1.0                    True   \n",
       "4                                     1.0                    True   \n",
       "5                                     1.0                   False   \n",
       "...                                   ...                     ...   \n",
       "1698                                  1.0                   False   \n",
       "1700                                  1.0                   False   \n",
       "1702                                  1.0                    True   \n",
       "1707                                 -1.0                    True   \n",
       "1743                                  1.0                   False   \n",
       "\n",
       "      HORMONE_THERAPY_converted  RADIO_THERAPY_converted PATIENT_ID SAMPLE_ID  \\\n",
       "1                          True                     True    MB-0002   MB-0002   \n",
       "2                          True                    False    MB-0005   MB-0005   \n",
       "3                          True                     True    MB-0006   MB-0006   \n",
       "4                          True                     True    MB-0008   MB-0008   \n",
       "5                          True                     True    MB-0010   MB-0010   \n",
       "...                         ...                      ...        ...       ...   \n",
       "1698                      False                     True    MB-6233   MB-6233   \n",
       "1700                      False                    False    MB-6237   MB-6237   \n",
       "1702                      False                     True    MB-6239   MB-6239   \n",
       "1707                      False                     True    MB-6251   MB-6251   \n",
       "1743                      False                     True    MB-6346   MB-6346   \n",
       "\n",
       "        CANCER_TYPE                       CANCER_TYPE_DETAILED  GRADE  \\\n",
       "1     Breast Cancer           Breast Invasive Ductal Carcinoma    3.0   \n",
       "2     Breast Cancer           Breast Invasive Ductal Carcinoma    2.0   \n",
       "3     Breast Cancer  Breast Mixed Ductal and Lobular Carcinoma    2.0   \n",
       "4     Breast Cancer  Breast Mixed Ductal and Lobular Carcinoma    3.0   \n",
       "5     Breast Cancer           Breast Invasive Ductal Carcinoma    3.0   \n",
       "...             ...                                        ...    ...   \n",
       "1698  Breast Cancer  Breast Mixed Ductal and Lobular Carcinoma    1.0   \n",
       "1700  Breast Cancer           Breast Invasive Ductal Carcinoma    3.0   \n",
       "1702  Breast Cancer  Breast Mixed Ductal and Lobular Carcinoma    2.0   \n",
       "1707  Breast Cancer           Breast Invasive Ductal Carcinoma    3.0   \n",
       "1743  Breast Cancer   Breast Invasive Mixed Mucinous Carcinoma    2.0   \n",
       "\n",
       "     ONCOTREE_CODE SAMPLE_TYPE  TUMOR_SIZE  TUMOR_STAGE  TMB_NONSYNONYMOUS  \\\n",
       "1              IDC     Primary        10.0          1.0           2.615035   \n",
       "2              IDC     Primary        15.0          2.0           2.615035   \n",
       "3             MDLC     Primary        25.0          2.0           1.307518   \n",
       "4             MDLC     Primary        40.0          2.0           2.615035   \n",
       "5              IDC     Primary        31.0          4.0           5.230071   \n",
       "...            ...         ...         ...          ...                ...   \n",
       "1698          MDLC     Primary        20.0          1.0          11.767659   \n",
       "1700           IDC     Primary        20.0          1.0           5.230071   \n",
       "1702          MDLC     Primary        20.0          2.0           6.537589   \n",
       "1707           IDC     Primary        30.0          2.0           7.845106   \n",
       "1743          IMMC     Primary        22.0          2.0           3.922553   \n",
       "\n",
       "      ER_STATUS_converted  HER2_STATUS_converted  PR_STATUS_converted  \n",
       "1                     1.0                   -1.0                  1.0  \n",
       "2                     1.0                   -1.0                  1.0  \n",
       "3                     1.0                   -1.0                  1.0  \n",
       "4                     1.0                   -1.0                  1.0  \n",
       "5                     1.0                   -1.0                  1.0  \n",
       "...                   ...                    ...                  ...  \n",
       "1698                  1.0                   -1.0                  1.0  \n",
       "1700                 -1.0                   -1.0                 -1.0  \n",
       "1702                  1.0                   -1.0                  1.0  \n",
       "1707                 -1.0                   -1.0                 -1.0  \n",
       "1743                  1.0                   -1.0                  1.0  \n",
       "\n",
       "[1293 rows x 37 columns]"
      ]
     },
     "execution_count": 23,
     "metadata": {},
     "output_type": "execute_result"
    }
   ],
   "source": [
    "df"
   ]
  },
  {
   "cell_type": "markdown",
   "id": "7e5ec645-2f8f-4015-a7a5-8b6dd04762ba",
   "metadata": {},
   "source": [
    "## create target column\n",
    "\n",
    "目的変数：5年以内の死亡判定→5年以内のデータは除外する"
   ]
  },
  {
   "cell_type": "code",
   "execution_count": 24,
   "id": "89bcb314-c797-48c5-88b2-6d2d9f5973f8",
   "metadata": {},
   "outputs": [
    {
     "data": {
      "text/plain": [
       "Living                  567\n",
       "Died of Disease         443\n",
       "Died of Other Causes    282\n",
       "nan                       1\n",
       "Name: VITAL_STATUS, dtype: int64"
      ]
     },
     "execution_count": 24,
     "metadata": {},
     "output_type": "execute_result"
    }
   ],
   "source": [
    "df['VITAL_STATUS'].value_counts()"
   ]
  },
  {
   "cell_type": "code",
   "execution_count": 25,
   "id": "744be258-11d1-4a1f-904d-b4f834485db9",
   "metadata": {
    "tags": []
   },
   "outputs": [
    {
     "data": {
      "text/plain": [
       "Living                  525\n",
       "Died of Other Causes    226\n",
       "Name: VITAL_STATUS, dtype: int64"
      ]
     },
     "execution_count": 25,
     "metadata": {},
     "output_type": "execute_result"
    }
   ],
   "source": [
    "df[(df['OS_MONTHS']>=60) & ((df['VITAL_STATUS']=='Living')|(df['VITAL_STATUS']=='Died of Other Causes'))]['VITAL_STATUS'].value_counts()"
   ]
  },
  {
   "cell_type": "code",
   "execution_count": 26,
   "id": "728b72ab-3835-41a1-80d2-40f1e952380c",
   "metadata": {},
   "outputs": [
    {
     "data": {
      "text/plain": [
       "Died of Disease    217\n",
       "Name: VITAL_STATUS, dtype: int64"
      ]
     },
     "execution_count": 26,
     "metadata": {},
     "output_type": "execute_result"
    }
   ],
   "source": [
    "df[(df['OS_MONTHS']>=60) & (df['VITAL_STATUS']=='Died of Disease')]['VITAL_STATUS'].value_counts()"
   ]
  },
  {
   "cell_type": "markdown",
   "id": "f45826f0-ded6-44ae-8df1-a5049c2cee3a",
   "metadata": {},
   "source": [
    "### target columnの作成に先立ち、不要な行の削除\n",
    "\n",
    "OS_MONTHS<60のcolumnを削除する"
   ]
  },
  {
   "cell_type": "code",
   "execution_count": 27,
   "id": "0a479a74-457a-44eb-b0d0-7a92c547bfe2",
   "metadata": {},
   "outputs": [
    {
     "name": "stdout",
     "output_type": "stream",
     "text": [
      "<class 'pandas.core.frame.DataFrame'>\n",
      "Int64Index: 1293 entries, 1 to 1743\n",
      "Data columns (total 38 columns):\n",
      " #   Column                               Non-Null Count  Dtype  \n",
      "---  ------                               --------------  -----  \n",
      " 0   PATIENT_ID                           1293 non-null   object \n",
      " 1   LYMPH_NODES_EXAMINED_POSITIVE        1293 non-null   float64\n",
      " 2   NPI                                  1293 non-null   float64\n",
      " 3   COHORT                               1293 non-null   object \n",
      " 4   SEX                                  1293 non-null   object \n",
      " 5   INTCLUST                             1293 non-null   object \n",
      " 6   AGE_AT_DIAGNOSIS                     1293 non-null   float64\n",
      " 7   OS_MONTHS                            1293 non-null   float64\n",
      " 8   OS_STATUS                            1293 non-null   bool   \n",
      " 9   CLAUDIN_SUBTYPE                      1293 non-null   object \n",
      " 10  THREEGENE                            1293 non-null   object \n",
      " 11  VITAL_STATUS                         1293 non-null   object \n",
      " 12  LATERALITY                           1293 non-null   object \n",
      " 13  HISTOLOGICAL_SUBTYPE                 1293 non-null   object \n",
      " 14  BREAST_SURGERY                       1293 non-null   object \n",
      " 15  RFS_STATUS                           1293 non-null   bool   \n",
      " 16  RFS_MONTHS                           1293 non-null   float64\n",
      " 17  CELLULARITY_converted                1293 non-null   float64\n",
      " 18  ER_IHC_converted                     1293 non-null   float64\n",
      " 19  HER2_SNP6_converted                  1293 non-null   float64\n",
      " 20  INFERRED_MENOPAUSAL_STATE_converted  1293 non-null   float64\n",
      " 21  CHEMOTHERAPY_converted               1293 non-null   bool   \n",
      " 22  HORMONE_THERAPY_converted            1293 non-null   bool   \n",
      " 23  RADIO_THERAPY_converted              1293 non-null   bool   \n",
      " 24  PATIENT_ID                           1293 non-null   object \n",
      " 25  SAMPLE_ID                            1293 non-null   object \n",
      " 26  CANCER_TYPE                          1293 non-null   object \n",
      " 27  CANCER_TYPE_DETAILED                 1293 non-null   object \n",
      " 28  GRADE                                1293 non-null   float64\n",
      " 29  ONCOTREE_CODE                        1293 non-null   object \n",
      " 30  SAMPLE_TYPE                          1293 non-null   object \n",
      " 31  TUMOR_SIZE                           1293 non-null   float64\n",
      " 32  TUMOR_STAGE                          1293 non-null   float64\n",
      " 33  TMB_NONSYNONYMOUS                    1293 non-null   float64\n",
      " 34  ER_STATUS_converted                  1293 non-null   float64\n",
      " 35  HER2_STATUS_converted                1293 non-null   float64\n",
      " 36  PR_STATUS_converted                  1293 non-null   float64\n",
      " 37  IN_5YEARS_STATUS                     1293 non-null   object \n",
      "dtypes: bool(5), float64(16), object(17)\n",
      "memory usage: 349.8+ KB\n"
     ]
    }
   ],
   "source": [
    "df_enough_months=df.copy()\n",
    "df_enough_months['IN_5YEARS_STATUS']=df_enough_months['VITAL_STATUS'].copy()\n",
    "df_enough_months.replace({'Died of Disease':True, 'Living':False, \n",
    "                          'Died of Other Causes':False}, inplace=True)\n",
    "df_enough_months.info()"
   ]
  },
  {
   "cell_type": "code",
   "execution_count": 28,
   "id": "999d32cd-e351-447d-80c1-fdbb3c596efb",
   "metadata": {},
   "outputs": [
    {
     "data": {
      "text/plain": [
       "False    849\n",
       "True     443\n",
       "nan        1\n",
       "Name: IN_5YEARS_STATUS, dtype: int64"
      ]
     },
     "execution_count": 28,
     "metadata": {},
     "output_type": "execute_result"
    }
   ],
   "source": [
    "df_enough_months['IN_5YEARS_STATUS'].value_counts()"
   ]
  },
  {
   "cell_type": "code",
   "execution_count": 29,
   "id": "f0cfd7a9-ed19-482b-81fd-f7d91d7a025a",
   "metadata": {},
   "outputs": [
    {
     "data": {
      "text/plain": [
       "False    849\n",
       "True     443\n",
       "Name: IN_5YEARS_STATUS, dtype: int64"
      ]
     },
     "execution_count": 29,
     "metadata": {},
     "output_type": "execute_result"
    }
   ],
   "source": [
    "df_enough_months=df_enough_months[df_enough_months['IN_5YEARS_STATUS']!='nan'].copy()\n",
    "df_enough_months['IN_5YEARS_STATUS'].value_counts()"
   ]
  },
  {
   "cell_type": "code",
   "execution_count": 35,
   "id": "de7ae810-e0b1-4781-b6c3-1b44b2f3ac8d",
   "metadata": {},
   "outputs": [
    {
     "data": {
      "text/plain": [
       "PATIENT_ID                              object\n",
       "LYMPH_NODES_EXAMINED_POSITIVE          float64\n",
       "NPI                                    float64\n",
       "COHORT                                  object\n",
       "SEX                                     object\n",
       "INTCLUST                                object\n",
       "AGE_AT_DIAGNOSIS                       float64\n",
       "OS_MONTHS                              float64\n",
       "OS_STATUS                                 bool\n",
       "CLAUDIN_SUBTYPE                         object\n",
       "THREEGENE                               object\n",
       "VITAL_STATUS                            object\n",
       "LATERALITY                              object\n",
       "HISTOLOGICAL_SUBTYPE                    object\n",
       "BREAST_SURGERY                          object\n",
       "RFS_STATUS                                bool\n",
       "RFS_MONTHS                             float64\n",
       "CELLULARITY_converted                  float64\n",
       "ER_IHC_converted                       float64\n",
       "HER2_SNP6_converted                    float64\n",
       "INFERRED_MENOPAUSAL_STATE_converted    float64\n",
       "CHEMOTHERAPY_converted                    bool\n",
       "HORMONE_THERAPY_converted                 bool\n",
       "RADIO_THERAPY_converted                   bool\n",
       "PATIENT_ID                              object\n",
       "SAMPLE_ID                               object\n",
       "CANCER_TYPE                             object\n",
       "CANCER_TYPE_DETAILED                    object\n",
       "GRADE                                  float64\n",
       "ONCOTREE_CODE                           object\n",
       "SAMPLE_TYPE                             object\n",
       "TUMOR_SIZE                             float64\n",
       "TUMOR_STAGE                            float64\n",
       "TMB_NONSYNONYMOUS                      float64\n",
       "ER_STATUS_converted                    float64\n",
       "HER2_STATUS_converted                  float64\n",
       "PR_STATUS_converted                    float64\n",
       "IN_5YEARS_STATUS                          bool\n",
       "dtype: object"
      ]
     },
     "execution_count": 35,
     "metadata": {},
     "output_type": "execute_result"
    }
   ],
   "source": [
    "df_enough_months['IN_5YEARS_STATUS']=df_enough_months['IN_5YEARS_STATUS'].astype(bool)\n",
    "df_enough_months.dtypes"
   ]
  },
  {
   "cell_type": "markdown",
   "id": "4680bcfe-5d11-4a77-a10d-ba44f604507c",
   "metadata": {
    "tags": []
   },
   "source": [
    "### drop columns\n",
    "targetを作成したので、リークになりうるcolumnsは削除 "
   ]
  },
  {
   "cell_type": "code",
   "execution_count": 36,
   "id": "ebaabe83-96ae-4a91-b65f-7cc728ac5dbd",
   "metadata": {},
   "outputs": [],
   "source": [
    "def create_drop_columne(target:str, target_columns:list=target_columns, meanless_columns:list=meanless_columns,):\n",
    "    drop_columns=[i for i in target_columns if i not in [target]]+meanless_columns\n",
    "    return drop_columns"
   ]
  },
  {
   "cell_type": "code",
   "execution_count": 37,
   "id": "4c13b63c-bc99-4ec7-80c7-e221b2e46200",
   "metadata": {},
   "outputs": [
    {
     "data": {
      "text/plain": [
       "['OS_MONTHS',\n",
       " 'RFS_MONTHS',\n",
       " 'OS_STATUS',\n",
       " 'RFS_STATUS',\n",
       " 'VITAL_STATUS',\n",
       " 'PATIENT_ID',\n",
       " 'SEX',\n",
       " 'OS_STATUS',\n",
       " 'RFS_STATUS',\n",
       " 'PATIENT_ID',\n",
       " 'SAMPLE_ID',\n",
       " 'SAMPLE_TYPE']"
      ]
     },
     "execution_count": 37,
     "metadata": {},
     "output_type": "execute_result"
    }
   ],
   "source": [
    "drop_columns"
   ]
  },
  {
   "cell_type": "code",
   "execution_count": 38,
   "id": "c9180f15-9d10-4e60-aa3a-4e337f8d3698",
   "metadata": {},
   "outputs": [
    {
     "data": {
      "text/plain": [
       "((1292, 38), (1292, 28))"
      ]
     },
     "execution_count": 38,
     "metadata": {},
     "output_type": "execute_result"
    }
   ],
   "source": [
    "target='IN_5YEARS_STATUS'\n",
    "drop_columns=create_drop_columne(target)\n",
    "df_droped=df_enough_months.drop(drop_columns, axis=1).copy()\n",
    "df_enough_months.shape, df_droped.shape"
   ]
  },
  {
   "cell_type": "code",
   "execution_count": 39,
   "id": "f6d8afd9-e60f-4922-99ed-2b0715f2bf72",
   "metadata": {},
   "outputs": [
    {
     "data": {
      "text/plain": [
       "Index(['LYMPH_NODES_EXAMINED_POSITIVE', 'NPI', 'COHORT', 'INTCLUST',\n",
       "       'AGE_AT_DIAGNOSIS', 'CLAUDIN_SUBTYPE', 'THREEGENE', 'LATERALITY',\n",
       "       'HISTOLOGICAL_SUBTYPE', 'BREAST_SURGERY', 'CELLULARITY_converted',\n",
       "       'ER_IHC_converted', 'HER2_SNP6_converted',\n",
       "       'INFERRED_MENOPAUSAL_STATE_converted', 'CHEMOTHERAPY_converted',\n",
       "       'HORMONE_THERAPY_converted', 'RADIO_THERAPY_converted', 'CANCER_TYPE',\n",
       "       'CANCER_TYPE_DETAILED', 'GRADE', 'ONCOTREE_CODE', 'TUMOR_SIZE',\n",
       "       'TUMOR_STAGE', 'TMB_NONSYNONYMOUS', 'ER_STATUS_converted',\n",
       "       'HER2_STATUS_converted', 'PR_STATUS_converted', 'IN_5YEARS_STATUS'],\n",
       "      dtype='object')"
      ]
     },
     "execution_count": 39,
     "metadata": {},
     "output_type": "execute_result"
    }
   ],
   "source": [
    "df_droped.columns"
   ]
  },
  {
   "cell_type": "markdown",
   "id": "c47d9dd0-8278-4515-baf9-34f14ada2fc9",
   "metadata": {
    "tags": []
   },
   "source": [
    "### onehot encoding\n",
    "決定木に入れるためにobject型をonehotエンコーディング(nullは削除する)"
   ]
  },
  {
   "cell_type": "code",
   "execution_count": 40,
   "id": "2d15e8c8-6a7c-4729-9e37-f10f0372ab8b",
   "metadata": {},
   "outputs": [
    {
     "data": {
      "text/plain": [
       "['COHORT',\n",
       " 'INTCLUST',\n",
       " 'CLAUDIN_SUBTYPE',\n",
       " 'THREEGENE',\n",
       " 'HISTOLOGICAL_SUBTYPE',\n",
       " 'BREAST_SURGERY',\n",
       " 'LATERALITY',\n",
       " 'CANCER_TYPE',\n",
       " 'CANCER_TYPE_DETAILED',\n",
       " 'ONCOTREE_CODE']"
      ]
     },
     "execution_count": 40,
     "metadata": {},
     "output_type": "execute_result"
    }
   ],
   "source": [
    "qualitative_name_columns.remove('VITAL_STATUS') if 'VITAL_STATUS' in  qualitative_name_columns else qualitative_name_columns\n",
    "qualitative_name_columns"
   ]
  },
  {
   "cell_type": "code",
   "execution_count": 41,
   "id": "76c355c4-2617-4345-a704-2110b7a7ebcb",
   "metadata": {
    "tags": []
   },
   "outputs": [
    {
     "data": {
      "text/plain": [
       "[array(['1.0', '2.0', '3.0', '5.0'], dtype=object),\n",
       " array(['1', '10', '2', '3', '4ER+', '4ER-', '5', '6', '7', '8', '9'],\n",
       "       dtype=object),\n",
       " array(['Basal', 'Her2', 'LumA', 'LumB', 'NC', 'Normal', 'claudin-low'],\n",
       "       dtype=object),\n",
       " array(['ER+/HER2- High Prolif', 'ER+/HER2- Low Prolif', 'ER-/HER2-',\n",
       "        'HER2+', 'nan'], dtype=object),\n",
       " array(['Ductal/NST', 'Lobular', 'Medullary', 'Mixed', 'Mucinous', 'Other',\n",
       "        'Tubular/ cribriform', 'nan'], dtype=object),\n",
       " array(['BREAST CONSERVING', 'MASTECTOMY', 'nan'], dtype=object),\n",
       " array(['Left', 'Right', 'nan'], dtype=object),\n",
       " array(['Breast Cancer'], dtype=object),\n",
       " array(['Breast', 'Breast Invasive Ductal Carcinoma',\n",
       "        'Breast Invasive Lobular Carcinoma',\n",
       "        'Breast Invasive Mixed Mucinous Carcinoma',\n",
       "        'Breast Mixed Ductal and Lobular Carcinoma',\n",
       "        'Invasive Breast Carcinoma'], dtype=object),\n",
       " array(['BRCA', 'BREAST', 'IDC', 'ILC', 'IMMC', 'MDLC'], dtype=object)]"
      ]
     },
     "metadata": {},
     "output_type": "display_data"
    },
    {
     "data": {
      "text/plain": [
       "array(['COHORT_1.0', 'COHORT_2.0', 'COHORT_3.0', 'COHORT_5.0',\n",
       "       'INTCLUST_1', 'INTCLUST_10', 'INTCLUST_2', 'INTCLUST_3',\n",
       "       'INTCLUST_4ER+', 'INTCLUST_4ER-', 'INTCLUST_5', 'INTCLUST_6',\n",
       "       'INTCLUST_7', 'INTCLUST_8', 'INTCLUST_9', 'CLAUDIN_SUBTYPE_Basal',\n",
       "       'CLAUDIN_SUBTYPE_Her2', 'CLAUDIN_SUBTYPE_LumA',\n",
       "       'CLAUDIN_SUBTYPE_LumB', 'CLAUDIN_SUBTYPE_NC',\n",
       "       'CLAUDIN_SUBTYPE_Normal', 'CLAUDIN_SUBTYPE_claudin-low',\n",
       "       'THREEGENE_ER+/HER2- High Prolif',\n",
       "       'THREEGENE_ER+/HER2- Low Prolif', 'THREEGENE_ER-/HER2-',\n",
       "       'THREEGENE_HER2+', 'THREEGENE_nan',\n",
       "       'HISTOLOGICAL_SUBTYPE_Ductal/NST', 'HISTOLOGICAL_SUBTYPE_Lobular',\n",
       "       'HISTOLOGICAL_SUBTYPE_Medullary', 'HISTOLOGICAL_SUBTYPE_Mixed',\n",
       "       'HISTOLOGICAL_SUBTYPE_Mucinous', 'HISTOLOGICAL_SUBTYPE_Other',\n",
       "       'HISTOLOGICAL_SUBTYPE_Tubular/ cribriform',\n",
       "       'HISTOLOGICAL_SUBTYPE_nan', 'BREAST_SURGERY_BREAST CONSERVING',\n",
       "       'BREAST_SURGERY_MASTECTOMY', 'BREAST_SURGERY_nan',\n",
       "       'LATERALITY_Left', 'LATERALITY_Right', 'LATERALITY_nan',\n",
       "       'CANCER_TYPE_Breast Cancer', 'CANCER_TYPE_DETAILED_Breast',\n",
       "       'CANCER_TYPE_DETAILED_Breast Invasive Ductal Carcinoma',\n",
       "       'CANCER_TYPE_DETAILED_Breast Invasive Lobular Carcinoma',\n",
       "       'CANCER_TYPE_DETAILED_Breast Invasive Mixed Mucinous Carcinoma',\n",
       "       'CANCER_TYPE_DETAILED_Breast Mixed Ductal and Lobular Carcinoma',\n",
       "       'CANCER_TYPE_DETAILED_Invasive Breast Carcinoma',\n",
       "       'ONCOTREE_CODE_BRCA', 'ONCOTREE_CODE_BREAST', 'ONCOTREE_CODE_IDC',\n",
       "       'ONCOTREE_CODE_ILC', 'ONCOTREE_CODE_IMMC', 'ONCOTREE_CODE_MDLC'],\n",
       "      dtype=object)"
      ]
     },
     "metadata": {},
     "output_type": "display_data"
    }
   ],
   "source": [
    "onehot_encoder=OneHotEncoder()\n",
    "onehot_encoding_columns=qualitative_name_columns\n",
    "onehot_encoder.fit(df_droped[onehot_encoding_columns])\n",
    "display(onehot_encoder.categories_)\n",
    "display(onehot_encoder.get_feature_names_out(onehot_encoding_columns))\n",
    "#enc.transform(df[encoding_columns]).toarray()\n",
    "df_onehot=pd.DataFrame(onehot_encoder.transform(df_droped[onehot_encoding_columns]).toarray(), \n",
    "             columns=onehot_encoder.get_feature_names_out(onehot_encoding_columns))\n"
   ]
  },
  {
   "cell_type": "code",
   "execution_count": 42,
   "id": "b5555277-0f9a-4bdc-b80b-2ba80c7aefee",
   "metadata": {},
   "outputs": [
    {
     "name": "stdout",
     "output_type": "stream",
     "text": [
      "<class 'pandas.core.frame.DataFrame'>\n",
      "RangeIndex: 1292 entries, 0 to 1291\n",
      "Data columns (total 54 columns):\n",
      " #   Column                                                          Non-Null Count  Dtype  \n",
      "---  ------                                                          --------------  -----  \n",
      " 0   COHORT_1.0                                                      1292 non-null   float64\n",
      " 1   COHORT_2.0                                                      1292 non-null   float64\n",
      " 2   COHORT_3.0                                                      1292 non-null   float64\n",
      " 3   COHORT_5.0                                                      1292 non-null   float64\n",
      " 4   INTCLUST_1                                                      1292 non-null   float64\n",
      " 5   INTCLUST_10                                                     1292 non-null   float64\n",
      " 6   INTCLUST_2                                                      1292 non-null   float64\n",
      " 7   INTCLUST_3                                                      1292 non-null   float64\n",
      " 8   INTCLUST_4ER+                                                   1292 non-null   float64\n",
      " 9   INTCLUST_4ER-                                                   1292 non-null   float64\n",
      " 10  INTCLUST_5                                                      1292 non-null   float64\n",
      " 11  INTCLUST_6                                                      1292 non-null   float64\n",
      " 12  INTCLUST_7                                                      1292 non-null   float64\n",
      " 13  INTCLUST_8                                                      1292 non-null   float64\n",
      " 14  INTCLUST_9                                                      1292 non-null   float64\n",
      " 15  CLAUDIN_SUBTYPE_Basal                                           1292 non-null   float64\n",
      " 16  CLAUDIN_SUBTYPE_Her2                                            1292 non-null   float64\n",
      " 17  CLAUDIN_SUBTYPE_LumA                                            1292 non-null   float64\n",
      " 18  CLAUDIN_SUBTYPE_LumB                                            1292 non-null   float64\n",
      " 19  CLAUDIN_SUBTYPE_NC                                              1292 non-null   float64\n",
      " 20  CLAUDIN_SUBTYPE_Normal                                          1292 non-null   float64\n",
      " 21  CLAUDIN_SUBTYPE_claudin-low                                     1292 non-null   float64\n",
      " 22  THREEGENE_ER+/HER2- High Prolif                                 1292 non-null   float64\n",
      " 23  THREEGENE_ER+/HER2- Low Prolif                                  1292 non-null   float64\n",
      " 24  THREEGENE_ER-/HER2-                                             1292 non-null   float64\n",
      " 25  THREEGENE_HER2+                                                 1292 non-null   float64\n",
      " 26  THREEGENE_nan                                                   1292 non-null   float64\n",
      " 27  HISTOLOGICAL_SUBTYPE_Ductal/NST                                 1292 non-null   float64\n",
      " 28  HISTOLOGICAL_SUBTYPE_Lobular                                    1292 non-null   float64\n",
      " 29  HISTOLOGICAL_SUBTYPE_Medullary                                  1292 non-null   float64\n",
      " 30  HISTOLOGICAL_SUBTYPE_Mixed                                      1292 non-null   float64\n",
      " 31  HISTOLOGICAL_SUBTYPE_Mucinous                                   1292 non-null   float64\n",
      " 32  HISTOLOGICAL_SUBTYPE_Other                                      1292 non-null   float64\n",
      " 33  HISTOLOGICAL_SUBTYPE_Tubular/ cribriform                        1292 non-null   float64\n",
      " 34  HISTOLOGICAL_SUBTYPE_nan                                        1292 non-null   float64\n",
      " 35  BREAST_SURGERY_BREAST CONSERVING                                1292 non-null   float64\n",
      " 36  BREAST_SURGERY_MASTECTOMY                                       1292 non-null   float64\n",
      " 37  BREAST_SURGERY_nan                                              1292 non-null   float64\n",
      " 38  LATERALITY_Left                                                 1292 non-null   float64\n",
      " 39  LATERALITY_Right                                                1292 non-null   float64\n",
      " 40  LATERALITY_nan                                                  1292 non-null   float64\n",
      " 41  CANCER_TYPE_Breast Cancer                                       1292 non-null   float64\n",
      " 42  CANCER_TYPE_DETAILED_Breast                                     1292 non-null   float64\n",
      " 43  CANCER_TYPE_DETAILED_Breast Invasive Ductal Carcinoma           1292 non-null   float64\n",
      " 44  CANCER_TYPE_DETAILED_Breast Invasive Lobular Carcinoma          1292 non-null   float64\n",
      " 45  CANCER_TYPE_DETAILED_Breast Invasive Mixed Mucinous Carcinoma   1292 non-null   float64\n",
      " 46  CANCER_TYPE_DETAILED_Breast Mixed Ductal and Lobular Carcinoma  1292 non-null   float64\n",
      " 47  CANCER_TYPE_DETAILED_Invasive Breast Carcinoma                  1292 non-null   float64\n",
      " 48  ONCOTREE_CODE_BRCA                                              1292 non-null   float64\n",
      " 49  ONCOTREE_CODE_BREAST                                            1292 non-null   float64\n",
      " 50  ONCOTREE_CODE_IDC                                               1292 non-null   float64\n",
      " 51  ONCOTREE_CODE_ILC                                               1292 non-null   float64\n",
      " 52  ONCOTREE_CODE_IMMC                                              1292 non-null   float64\n",
      " 53  ONCOTREE_CODE_MDLC                                              1292 non-null   float64\n",
      "dtypes: float64(54)\n",
      "memory usage: 545.2 KB\n"
     ]
    }
   ],
   "source": [
    "df_onehot.info()"
   ]
  },
  {
   "cell_type": "code",
   "execution_count": 43,
   "id": "619e153b-437a-41f8-8729-4ff4812ff2ac",
   "metadata": {},
   "outputs": [],
   "source": [
    "df_encoded=pd.merge(df_droped.reset_index(drop=True), df_onehot.reset_index(drop=True), \n",
    "                    left_index=True, right_index=True).drop(onehot_encoding_columns, axis=1)"
   ]
  },
  {
   "cell_type": "code",
   "execution_count": 44,
   "id": "f9e1156d-3059-4120-937b-53bfdefb6aa6",
   "metadata": {},
   "outputs": [
    {
     "name": "stdout",
     "output_type": "stream",
     "text": [
      "<class 'pandas.core.frame.DataFrame'>\n",
      "RangeIndex: 1292 entries, 0 to 1291\n",
      "Data columns (total 72 columns):\n",
      " #   Column                                                          Non-Null Count  Dtype  \n",
      "---  ------                                                          --------------  -----  \n",
      " 0   LYMPH_NODES_EXAMINED_POSITIVE                                   1292 non-null   float64\n",
      " 1   NPI                                                             1292 non-null   float64\n",
      " 2   AGE_AT_DIAGNOSIS                                                1292 non-null   float64\n",
      " 3   CELLULARITY_converted                                           1292 non-null   float64\n",
      " 4   ER_IHC_converted                                                1292 non-null   float64\n",
      " 5   HER2_SNP6_converted                                             1292 non-null   float64\n",
      " 6   INFERRED_MENOPAUSAL_STATE_converted                             1292 non-null   float64\n",
      " 7   CHEMOTHERAPY_converted                                          1292 non-null   bool   \n",
      " 8   HORMONE_THERAPY_converted                                       1292 non-null   bool   \n",
      " 9   RADIO_THERAPY_converted                                         1292 non-null   bool   \n",
      " 10  GRADE                                                           1292 non-null   float64\n",
      " 11  TUMOR_SIZE                                                      1292 non-null   float64\n",
      " 12  TUMOR_STAGE                                                     1292 non-null   float64\n",
      " 13  TMB_NONSYNONYMOUS                                               1292 non-null   float64\n",
      " 14  ER_STATUS_converted                                             1292 non-null   float64\n",
      " 15  HER2_STATUS_converted                                           1292 non-null   float64\n",
      " 16  PR_STATUS_converted                                             1292 non-null   float64\n",
      " 17  IN_5YEARS_STATUS                                                1292 non-null   bool   \n",
      " 18  COHORT_1.0                                                      1292 non-null   float64\n",
      " 19  COHORT_2.0                                                      1292 non-null   float64\n",
      " 20  COHORT_3.0                                                      1292 non-null   float64\n",
      " 21  COHORT_5.0                                                      1292 non-null   float64\n",
      " 22  INTCLUST_1                                                      1292 non-null   float64\n",
      " 23  INTCLUST_10                                                     1292 non-null   float64\n",
      " 24  INTCLUST_2                                                      1292 non-null   float64\n",
      " 25  INTCLUST_3                                                      1292 non-null   float64\n",
      " 26  INTCLUST_4ER+                                                   1292 non-null   float64\n",
      " 27  INTCLUST_4ER-                                                   1292 non-null   float64\n",
      " 28  INTCLUST_5                                                      1292 non-null   float64\n",
      " 29  INTCLUST_6                                                      1292 non-null   float64\n",
      " 30  INTCLUST_7                                                      1292 non-null   float64\n",
      " 31  INTCLUST_8                                                      1292 non-null   float64\n",
      " 32  INTCLUST_9                                                      1292 non-null   float64\n",
      " 33  CLAUDIN_SUBTYPE_Basal                                           1292 non-null   float64\n",
      " 34  CLAUDIN_SUBTYPE_Her2                                            1292 non-null   float64\n",
      " 35  CLAUDIN_SUBTYPE_LumA                                            1292 non-null   float64\n",
      " 36  CLAUDIN_SUBTYPE_LumB                                            1292 non-null   float64\n",
      " 37  CLAUDIN_SUBTYPE_NC                                              1292 non-null   float64\n",
      " 38  CLAUDIN_SUBTYPE_Normal                                          1292 non-null   float64\n",
      " 39  CLAUDIN_SUBTYPE_claudin-low                                     1292 non-null   float64\n",
      " 40  THREEGENE_ER+/HER2- High Prolif                                 1292 non-null   float64\n",
      " 41  THREEGENE_ER+/HER2- Low Prolif                                  1292 non-null   float64\n",
      " 42  THREEGENE_ER-/HER2-                                             1292 non-null   float64\n",
      " 43  THREEGENE_HER2+                                                 1292 non-null   float64\n",
      " 44  THREEGENE_nan                                                   1292 non-null   float64\n",
      " 45  HISTOLOGICAL_SUBTYPE_Ductal/NST                                 1292 non-null   float64\n",
      " 46  HISTOLOGICAL_SUBTYPE_Lobular                                    1292 non-null   float64\n",
      " 47  HISTOLOGICAL_SUBTYPE_Medullary                                  1292 non-null   float64\n",
      " 48  HISTOLOGICAL_SUBTYPE_Mixed                                      1292 non-null   float64\n",
      " 49  HISTOLOGICAL_SUBTYPE_Mucinous                                   1292 non-null   float64\n",
      " 50  HISTOLOGICAL_SUBTYPE_Other                                      1292 non-null   float64\n",
      " 51  HISTOLOGICAL_SUBTYPE_Tubular/ cribriform                        1292 non-null   float64\n",
      " 52  HISTOLOGICAL_SUBTYPE_nan                                        1292 non-null   float64\n",
      " 53  BREAST_SURGERY_BREAST CONSERVING                                1292 non-null   float64\n",
      " 54  BREAST_SURGERY_MASTECTOMY                                       1292 non-null   float64\n",
      " 55  BREAST_SURGERY_nan                                              1292 non-null   float64\n",
      " 56  LATERALITY_Left                                                 1292 non-null   float64\n",
      " 57  LATERALITY_Right                                                1292 non-null   float64\n",
      " 58  LATERALITY_nan                                                  1292 non-null   float64\n",
      " 59  CANCER_TYPE_Breast Cancer                                       1292 non-null   float64\n",
      " 60  CANCER_TYPE_DETAILED_Breast                                     1292 non-null   float64\n",
      " 61  CANCER_TYPE_DETAILED_Breast Invasive Ductal Carcinoma           1292 non-null   float64\n",
      " 62  CANCER_TYPE_DETAILED_Breast Invasive Lobular Carcinoma          1292 non-null   float64\n",
      " 63  CANCER_TYPE_DETAILED_Breast Invasive Mixed Mucinous Carcinoma   1292 non-null   float64\n",
      " 64  CANCER_TYPE_DETAILED_Breast Mixed Ductal and Lobular Carcinoma  1292 non-null   float64\n",
      " 65  CANCER_TYPE_DETAILED_Invasive Breast Carcinoma                  1292 non-null   float64\n",
      " 66  ONCOTREE_CODE_BRCA                                              1292 non-null   float64\n",
      " 67  ONCOTREE_CODE_BREAST                                            1292 non-null   float64\n",
      " 68  ONCOTREE_CODE_IDC                                               1292 non-null   float64\n",
      " 69  ONCOTREE_CODE_ILC                                               1292 non-null   float64\n",
      " 70  ONCOTREE_CODE_IMMC                                              1292 non-null   float64\n",
      " 71  ONCOTREE_CODE_MDLC                                              1292 non-null   float64\n",
      "dtypes: bool(4), float64(68)\n",
      "memory usage: 691.5 KB\n"
     ]
    }
   ],
   "source": [
    "df_encoded.info()"
   ]
  },
  {
   "cell_type": "markdown",
   "id": "a028bd3a-ef04-4797-b20b-241f362f04f2",
   "metadata": {},
   "source": [
    "# 学習モデル作成"
   ]
  },
  {
   "cell_type": "markdown",
   "id": "6a9b38bf-8a4d-430c-b2eb-4ddb25d65688",
   "metadata": {},
   "source": [
    "学習用にデータを分割"
   ]
  },
  {
   "cell_type": "code",
   "execution_count": 45,
   "id": "e1da9d57-8b3c-4656-a806-9657416762e0",
   "metadata": {},
   "outputs": [],
   "source": [
    "y=df_encoded[target]\n",
    "X=df_encoded.drop(target, axis=1)"
   ]
  },
  {
   "cell_type": "code",
   "execution_count": 46,
   "id": "b5bc7027-defc-4036-8f58-cb1db01a3ef4",
   "metadata": {},
   "outputs": [
    {
     "name": "stdout",
     "output_type": "stream",
     "text": [
      "<class 'pandas.core.series.Series'>\n",
      "RangeIndex: 1292 entries, 0 to 1291\n",
      "Series name: IN_5YEARS_STATUS\n",
      "Non-Null Count  Dtype\n",
      "--------------  -----\n",
      "1292 non-null   bool \n",
      "dtypes: bool(1)\n",
      "memory usage: 1.4 KB\n"
     ]
    }
   ],
   "source": [
    "y.info()"
   ]
  },
  {
   "cell_type": "code",
   "execution_count": 47,
   "id": "8cdc5897-990c-47f4-bdab-473d679e7ba3",
   "metadata": {},
   "outputs": [
    {
     "data": {
      "text/plain": [
       "False    849\n",
       "True     443\n",
       "Name: IN_5YEARS_STATUS, dtype: int64"
      ]
     },
     "execution_count": 47,
     "metadata": {},
     "output_type": "execute_result"
    }
   ],
   "source": [
    "y.value_counts()"
   ]
  },
  {
   "cell_type": "code",
   "execution_count": 48,
   "id": "95d683e0-1d59-41ad-9eb3-aefbf7906000",
   "metadata": {},
   "outputs": [
    {
     "name": "stdout",
     "output_type": "stream",
     "text": [
      "<class 'pandas.core.frame.DataFrame'>\n",
      "RangeIndex: 1292 entries, 0 to 1291\n",
      "Data columns (total 71 columns):\n",
      " #   Column                                                          Non-Null Count  Dtype  \n",
      "---  ------                                                          --------------  -----  \n",
      " 0   LYMPH_NODES_EXAMINED_POSITIVE                                   1292 non-null   float64\n",
      " 1   NPI                                                             1292 non-null   float64\n",
      " 2   AGE_AT_DIAGNOSIS                                                1292 non-null   float64\n",
      " 3   CELLULARITY_converted                                           1292 non-null   float64\n",
      " 4   ER_IHC_converted                                                1292 non-null   float64\n",
      " 5   HER2_SNP6_converted                                             1292 non-null   float64\n",
      " 6   INFERRED_MENOPAUSAL_STATE_converted                             1292 non-null   float64\n",
      " 7   CHEMOTHERAPY_converted                                          1292 non-null   bool   \n",
      " 8   HORMONE_THERAPY_converted                                       1292 non-null   bool   \n",
      " 9   RADIO_THERAPY_converted                                         1292 non-null   bool   \n",
      " 10  GRADE                                                           1292 non-null   float64\n",
      " 11  TUMOR_SIZE                                                      1292 non-null   float64\n",
      " 12  TUMOR_STAGE                                                     1292 non-null   float64\n",
      " 13  TMB_NONSYNONYMOUS                                               1292 non-null   float64\n",
      " 14  ER_STATUS_converted                                             1292 non-null   float64\n",
      " 15  HER2_STATUS_converted                                           1292 non-null   float64\n",
      " 16  PR_STATUS_converted                                             1292 non-null   float64\n",
      " 17  COHORT_1.0                                                      1292 non-null   float64\n",
      " 18  COHORT_2.0                                                      1292 non-null   float64\n",
      " 19  COHORT_3.0                                                      1292 non-null   float64\n",
      " 20  COHORT_5.0                                                      1292 non-null   float64\n",
      " 21  INTCLUST_1                                                      1292 non-null   float64\n",
      " 22  INTCLUST_10                                                     1292 non-null   float64\n",
      " 23  INTCLUST_2                                                      1292 non-null   float64\n",
      " 24  INTCLUST_3                                                      1292 non-null   float64\n",
      " 25  INTCLUST_4ER+                                                   1292 non-null   float64\n",
      " 26  INTCLUST_4ER-                                                   1292 non-null   float64\n",
      " 27  INTCLUST_5                                                      1292 non-null   float64\n",
      " 28  INTCLUST_6                                                      1292 non-null   float64\n",
      " 29  INTCLUST_7                                                      1292 non-null   float64\n",
      " 30  INTCLUST_8                                                      1292 non-null   float64\n",
      " 31  INTCLUST_9                                                      1292 non-null   float64\n",
      " 32  CLAUDIN_SUBTYPE_Basal                                           1292 non-null   float64\n",
      " 33  CLAUDIN_SUBTYPE_Her2                                            1292 non-null   float64\n",
      " 34  CLAUDIN_SUBTYPE_LumA                                            1292 non-null   float64\n",
      " 35  CLAUDIN_SUBTYPE_LumB                                            1292 non-null   float64\n",
      " 36  CLAUDIN_SUBTYPE_NC                                              1292 non-null   float64\n",
      " 37  CLAUDIN_SUBTYPE_Normal                                          1292 non-null   float64\n",
      " 38  CLAUDIN_SUBTYPE_claudin-low                                     1292 non-null   float64\n",
      " 39  THREEGENE_ER+/HER2- High Prolif                                 1292 non-null   float64\n",
      " 40  THREEGENE_ER+/HER2- Low Prolif                                  1292 non-null   float64\n",
      " 41  THREEGENE_ER-/HER2-                                             1292 non-null   float64\n",
      " 42  THREEGENE_HER2+                                                 1292 non-null   float64\n",
      " 43  THREEGENE_nan                                                   1292 non-null   float64\n",
      " 44  HISTOLOGICAL_SUBTYPE_Ductal/NST                                 1292 non-null   float64\n",
      " 45  HISTOLOGICAL_SUBTYPE_Lobular                                    1292 non-null   float64\n",
      " 46  HISTOLOGICAL_SUBTYPE_Medullary                                  1292 non-null   float64\n",
      " 47  HISTOLOGICAL_SUBTYPE_Mixed                                      1292 non-null   float64\n",
      " 48  HISTOLOGICAL_SUBTYPE_Mucinous                                   1292 non-null   float64\n",
      " 49  HISTOLOGICAL_SUBTYPE_Other                                      1292 non-null   float64\n",
      " 50  HISTOLOGICAL_SUBTYPE_Tubular/ cribriform                        1292 non-null   float64\n",
      " 51  HISTOLOGICAL_SUBTYPE_nan                                        1292 non-null   float64\n",
      " 52  BREAST_SURGERY_BREAST CONSERVING                                1292 non-null   float64\n",
      " 53  BREAST_SURGERY_MASTECTOMY                                       1292 non-null   float64\n",
      " 54  BREAST_SURGERY_nan                                              1292 non-null   float64\n",
      " 55  LATERALITY_Left                                                 1292 non-null   float64\n",
      " 56  LATERALITY_Right                                                1292 non-null   float64\n",
      " 57  LATERALITY_nan                                                  1292 non-null   float64\n",
      " 58  CANCER_TYPE_Breast Cancer                                       1292 non-null   float64\n",
      " 59  CANCER_TYPE_DETAILED_Breast                                     1292 non-null   float64\n",
      " 60  CANCER_TYPE_DETAILED_Breast Invasive Ductal Carcinoma           1292 non-null   float64\n",
      " 61  CANCER_TYPE_DETAILED_Breast Invasive Lobular Carcinoma          1292 non-null   float64\n",
      " 62  CANCER_TYPE_DETAILED_Breast Invasive Mixed Mucinous Carcinoma   1292 non-null   float64\n",
      " 63  CANCER_TYPE_DETAILED_Breast Mixed Ductal and Lobular Carcinoma  1292 non-null   float64\n",
      " 64  CANCER_TYPE_DETAILED_Invasive Breast Carcinoma                  1292 non-null   float64\n",
      " 65  ONCOTREE_CODE_BRCA                                              1292 non-null   float64\n",
      " 66  ONCOTREE_CODE_BREAST                                            1292 non-null   float64\n",
      " 67  ONCOTREE_CODE_IDC                                               1292 non-null   float64\n",
      " 68  ONCOTREE_CODE_ILC                                               1292 non-null   float64\n",
      " 69  ONCOTREE_CODE_IMMC                                              1292 non-null   float64\n",
      " 70  ONCOTREE_CODE_MDLC                                              1292 non-null   float64\n",
      "dtypes: bool(3), float64(68)\n",
      "memory usage: 690.3 KB\n"
     ]
    }
   ],
   "source": [
    "X.info()"
   ]
  },
  {
   "cell_type": "code",
   "execution_count": 49,
   "id": "cd767058-1fbc-4afa-84b2-052d3cc9e3a2",
   "metadata": {},
   "outputs": [
    {
     "data": {
      "text/plain": [
       "((904, 71), (388, 71), (904,), (388,))"
      ]
     },
     "execution_count": 49,
     "metadata": {},
     "output_type": "execute_result"
    }
   ],
   "source": [
    "X_train, X_test, y_train, y_test=train_test_split(X,y, train_size=0.7, random_state=1)\n",
    "X_train.shape, X_test.shape, y_train.shape, y_test.shape"
   ]
  },
  {
   "cell_type": "code",
   "execution_count": 51,
   "id": "40a48b4d-f83f-4e7f-b5d4-d6e9a231eabb",
   "metadata": {},
   "outputs": [
    {
     "name": "stdout",
     "output_type": "stream",
     "text": [
      "nodes:  2 accuracy:  0.6701030927835051\n",
      "nodes:  3 accuracy:  0.6701030927835051\n",
      "nodes:  4 accuracy:  0.6623711340206185\n",
      "nodes:  5 accuracy:  0.6804123711340206\n",
      "nodes:  6 accuracy:  0.6804123711340206\n",
      "nodes:  7 accuracy:  0.6726804123711341\n",
      "nodes:  8 accuracy:  0.6726804123711341\n",
      "nodes:  9 accuracy:  0.6726804123711341\n",
      "nodes:  10 accuracy:  0.6701030927835051\n",
      "nodes:  11 accuracy:  0.6701030927835051\n",
      "nodes:  12 accuracy:  0.6649484536082474\n",
      "nodes:  13 accuracy:  0.6649484536082474\n",
      "nodes:  14 accuracy:  0.6649484536082474\n",
      "nodes:  15 accuracy:  0.6649484536082474\n",
      "nodes:  16 accuracy:  0.6649484536082474\n",
      "nodes:  17 accuracy:  0.6649484536082474\n",
      "nodes:  18 accuracy:  0.6649484536082474\n",
      "nodes:  19 accuracy:  0.6649484536082474\n",
      "nodes:  20 accuracy:  0.6572164948453608\n",
      "nodes:  21 accuracy:  0.6597938144329897\n",
      "nodes:  22 accuracy:  0.6623711340206185\n",
      "nodes:  23 accuracy:  0.6623711340206185\n",
      "nodes:  24 accuracy:  0.6572164948453608\n",
      "nodes:  25 accuracy:  0.6597938144329897\n",
      "nodes:  26 accuracy:  0.6597938144329897\n",
      "nodes:  27 accuracy:  0.6649484536082474\n",
      "nodes:  28 accuracy:  0.6597938144329897\n",
      "nodes:  29 accuracy:  0.6675257731958762\n",
      "nodes:  30 accuracy:  0.6623711340206185\n",
      "nodes:  31 accuracy:  0.6701030927835051\n",
      "nodes:  32 accuracy:  0.6675257731958762\n",
      "nodes:  33 accuracy:  0.6649484536082474\n",
      "nodes:  34 accuracy:  0.654639175257732\n",
      "nodes:  35 accuracy:  0.6597938144329897\n",
      "nodes:  36 accuracy:  0.6597938144329897\n",
      "nodes:  37 accuracy:  0.6597938144329897\n",
      "nodes:  38 accuracy:  0.6649484536082474\n",
      "nodes:  39 accuracy:  0.6597938144329897\n",
      "nodes:  40 accuracy:  0.6597938144329897\n",
      "nodes:  41 accuracy:  0.6701030927835051\n",
      "nodes:  42 accuracy:  0.6649484536082474\n",
      "nodes:  43 accuracy:  0.6649484536082474\n",
      "nodes:  44 accuracy:  0.6649484536082474\n",
      "nodes:  45 accuracy:  0.6649484536082474\n",
      "nodes:  46 accuracy:  0.6597938144329897\n",
      "nodes:  47 accuracy:  0.6597938144329897\n",
      "nodes:  48 accuracy:  0.6597938144329897\n",
      "nodes:  49 accuracy:  0.6649484536082474\n"
     ]
    }
   ],
   "source": [
    "accuracies={}\n",
    "\n",
    "for nodes in range(2,50):\n",
    "    clf = DecisionTreeClassifier(max_leaf_nodes=nodes)\n",
    "    clf = clf.fit(X_train, y_train)\n",
    "    #print(clf.classes_)\n",
    "\n",
    "    y_pred=clf.predict(X_test)\n",
    "    # accuracy\n",
    "    \n",
    "    accuracy=sum(y_test==y_pred)/y_test.shape[0]\n",
    "    accuracies[nodes]=accuracy\n",
    "    print('nodes: ',nodes, 'accuracy: ', accuracy)"
   ]
  },
  {
   "cell_type": "code",
   "execution_count": 54,
   "id": "06e35dfd-b7c6-45fd-8ef9-4443d65c7466",
   "metadata": {},
   "outputs": [
    {
     "data": {
      "text/plain": [
       "5"
      ]
     },
     "execution_count": 54,
     "metadata": {},
     "output_type": "execute_result"
    }
   ],
   "source": [
    "max(accuracies, key=accuracies.get)"
   ]
  },
  {
   "cell_type": "markdown",
   "id": "afd02d72-f54d-49f6-ba2d-a4b7b2e884ef",
   "metadata": {},
   "source": [
    "最も精度のよいleaf_nodesのパラメーターで再度モデル構築"
   ]
  },
  {
   "cell_type": "code",
   "execution_count": 57,
   "id": "d549a5ff-8a16-4c31-87a2-62b11059e1b7",
   "metadata": {},
   "outputs": [
    {
     "name": "stdout",
     "output_type": "stream",
     "text": [
      "0.6804123711340206\n"
     ]
    }
   ],
   "source": [
    "clf = DecisionTreeClassifier(max_leaf_nodes=max(accuracies, key=accuracies.get))\n",
    "clf = clf.fit(X_train, y_train)\n",
    "#print(clf.classes_)\n",
    "\n",
    "y_pred=clf.predict(X_test)\n",
    "# accuracy\n",
    "\n",
    "print(sum(y_test==y_pred)/y_test.shape[0])"
   ]
  },
  {
   "cell_type": "code",
   "execution_count": 60,
   "id": "8d3866ba-42d1-47b9-8455-4f5930c73267",
   "metadata": {},
   "outputs": [
    {
     "data": {
      "text/plain": [
       "array([False,  True])"
      ]
     },
     "execution_count": 60,
     "metadata": {},
     "output_type": "execute_result"
    }
   ],
   "source": [
    "y.unique()"
   ]
  },
  {
   "cell_type": "code",
   "execution_count": 62,
   "id": "2685401b-1f7d-4bfd-86ac-8b2c4bb5d269",
   "metadata": {
    "tags": []
   },
   "outputs": [
    {
     "data": {
      "text/plain": [
       "True"
      ]
     },
     "execution_count": 62,
     "metadata": {},
     "output_type": "execute_result"
    }
   ],
   "source": [
    "dot_data = StringIO() #dotファイル情報の格納先\n",
    "export_graphviz(clf, out_file=dot_data,  \n",
    "                     feature_names=X.columns,\n",
    "                     #class_names= y.unique(),\n",
    "                     filled=True, rounded=True,  \n",
    "                     special_characters=True) \n",
    "graph = pydotplus.graph_from_dot_data(dot_data.getvalue()) \n",
    "Image(graph.create_png())\n",
    "graph.write_png(config.TREE_DIR+'/2.0-decision_tree_model.png')"
   ]
  },
  {
   "cell_type": "code",
   "execution_count": 63,
   "id": "00de30a4-332d-421b-9996-b20f97c6efa8",
   "metadata": {},
   "outputs": [
    {
     "data": {
      "text/plain": [
       "262"
      ]
     },
     "execution_count": 63,
     "metadata": {},
     "output_type": "execute_result"
    }
   ],
   "source": [
    "y_test.value_counts()[0]"
   ]
  },
  {
   "cell_type": "code",
   "execution_count": 64,
   "id": "d9e3a829-4908-407a-89dd-946c54c51837",
   "metadata": {},
   "outputs": [
    {
     "data": {
      "text/plain": [
       "False    262\n",
       "True     126\n",
       "Name: IN_5YEARS_STATUS, dtype: int64"
      ]
     },
     "metadata": {},
     "output_type": "display_data"
    },
    {
     "data": {
      "text/plain": [
       "'baseline:'"
      ]
     },
     "metadata": {},
     "output_type": "display_data"
    },
    {
     "data": {
      "text/plain": [
       "False    0.675258\n",
       "True     0.324742\n",
       "Name: IN_5YEARS_STATUS, dtype: float64"
      ]
     },
     "metadata": {},
     "output_type": "display_data"
    }
   ],
   "source": [
    "display(y_test.value_counts())\n",
    "\n",
    "display('baseline:', y_test.value_counts()/y_test.size)"
   ]
  },
  {
   "cell_type": "code",
   "execution_count": 65,
   "id": "1af2115f-1a54-44f3-ba48-211029fbd7ab",
   "metadata": {},
   "outputs": [
    {
     "data": {
      "text/plain": [
       "0.6804123711340206"
      ]
     },
     "execution_count": 65,
     "metadata": {},
     "output_type": "execute_result"
    }
   ],
   "source": [
    "y_pred=clf.predict(X_test)\n",
    "# accuracy\n",
    "sum(y_test==y_pred)/y_test.shape[0]"
   ]
  },
  {
   "cell_type": "code",
   "execution_count": 67,
   "id": "daa5fa38-490a-4aa4-a270-298277d386c9",
   "metadata": {},
   "outputs": [
    {
     "data": {
      "image/png": "[encoded data removed]",
      "text/plain": [
       "<Figure size 432x288 with 2 Axes>"
      ]
     },
     "metadata": {
      "needs_background": "light"
     },
     "output_type": "display_data"
    }
   ],
   "source": [
    "cm=confusion_matrix(y_test, y_pred)\n",
    "sns.heatmap(cm, square=True, cbar=True, annot=True, cmap='Blues', fmt='1.0f')\n",
    "plt.xlabel(\"Predict\", fontsize=13)\n",
    "plt.ylabel(\"GroundTruth\", fontsize=13)\n",
    "plt.savefig(config.TREE_DIR+'/2.0-decision_tree_confusion-matrix.png')"
   ]
  },
  {
   "cell_type": "code",
   "execution_count": null,
   "id": "b2a860d7-01cd-4622-8f77-268476a37caa",
   "metadata": {},
   "outputs": [],
   "source": []
  }
 ],
 "metadata": {
  "kernelspec": {
   "display_name": "breast-cancer-analytics",
   "language": "python",
   "name": "breast-cancer-analytics"
  },
  "language_info": {
   "codemirror_mode": {
    "name": "ipython",
    "version": 3
   },
   "file_extension": ".py",
   "mimetype": "text/x-python",
   "name": "python",
   "nbconvert_exporter": "python",
   "pygments_lexer": "ipython3",
   "version": "3.8.13"
  }
 },
 "nbformat": 4,
 "nbformat_minor": 5
}
