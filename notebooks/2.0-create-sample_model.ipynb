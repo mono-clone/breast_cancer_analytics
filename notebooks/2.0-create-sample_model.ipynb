{
 "cells": [
  {
   "cell_type": "code",
   "execution_count": 1,
   "id": "1dcac27b-3b65-4903-94b7-fa4da54eb1f4",
   "metadata": {},
   "outputs": [],
   "source": [
    "import os\n",
    "\n",
    "import numpy as np\n",
    "import pandas as pd\n",
    "import matplotlib.pyplot as plt\n",
    "import seaborn as sns\n",
    "\n",
    "from sklearn.tree import DecisionTreeClassifier, export_graphviz\n",
    "import graphviz\n",
    "import pydotplus\n",
    "from IPython.display import Image\n",
    "from six import StringIO\n",
    "\n",
    "from sklearn.model_selection import train_test_split\n",
    "from sklearn.preprocessing import OneHotEncoder, LabelEncoder\n",
    "\n",
    "from sklearn.metrics import confusion_matrix\n",
    "\n",
    "import config\n",
    "\n",
    "#最大表示列数の指定（ここでは50列を指定）\n",
    "pd.set_option('display.max_columns', 50)\n",
    "\n",
    "def make_dir(dir_name: str):\n",
    "    if not os.path.exists(dir_name):\n",
    "        os.makedirs(dir_name)"
   ]
  },
  {
   "cell_type": "code",
   "execution_count": 2,
   "id": "8a9a2add-4f34-4cac-92a2-968b96e35421",
   "metadata": {},
   "outputs": [
    {
     "name": "stdout",
     "output_type": "stream",
     "text": [
      "<class 'pandas.core.frame.DataFrame'>\n",
      "RangeIndex: 2509 entries, 0 to 2508\n",
      "Data columns (total 37 columns):\n",
      " #   Column                               Non-Null Count  Dtype  \n",
      "---  ------                               --------------  -----  \n",
      " 0   PATIENT_ID                           2509 non-null   object \n",
      " 1   LYMPH_NODES_EXAMINED_POSITIVE        2243 non-null   float64\n",
      " 2   NPI                                  2287 non-null   float64\n",
      " 3   COHORT                               2509 non-null   object \n",
      " 4   SEX                                  2509 non-null   object \n",
      " 5   INTCLUST                             2509 non-null   object \n",
      " 6   AGE_AT_DIAGNOSIS                     2498 non-null   float64\n",
      " 7   OS_MONTHS                            1981 non-null   float64\n",
      " 8   OS_STATUS                            1981 non-null   object \n",
      " 9   CLAUDIN_SUBTYPE                      2509 non-null   object \n",
      " 10  THREEGENE                            2509 non-null   object \n",
      " 11  VITAL_STATUS                         1980 non-null   object \n",
      " 12  LATERALITY                           2509 non-null   object \n",
      " 13  HISTOLOGICAL_SUBTYPE                 2509 non-null   object \n",
      " 14  BREAST_SURGERY                       2509 non-null   object \n",
      " 15  RFS_STATUS                           2488 non-null   object \n",
      " 16  RFS_MONTHS                           2388 non-null   float64\n",
      " 17  CELLULARITY_converted                1917 non-null   float64\n",
      " 18  ER_IHC_converted                     2426 non-null   float64\n",
      " 19  HER2_SNP6_converted                  1980 non-null   float64\n",
      " 20  INFERRED_MENOPAUSAL_STATE_converted  1980 non-null   float64\n",
      " 21  CHEMOTHERAPY_converted               2509 non-null   bool   \n",
      " 22  HORMONE_THERAPY_converted            2509 non-null   bool   \n",
      " 23  RADIO_THERAPY_converted              2509 non-null   bool   \n",
      " 24  PATIENT_ID                           2509 non-null   object \n",
      " 25  SAMPLE_ID                            2509 non-null   object \n",
      " 26  CANCER_TYPE                          2509 non-null   object \n",
      " 27  CANCER_TYPE_DETAILED                 2509 non-null   object \n",
      " 28  GRADE                                2388 non-null   float64\n",
      " 29  ONCOTREE_CODE                        2509 non-null   object \n",
      " 30  SAMPLE_TYPE                          2509 non-null   object \n",
      " 31  TUMOR_SIZE                           2360 non-null   float64\n",
      " 32  TUMOR_STAGE                          1788 non-null   float64\n",
      " 33  TMB_NONSYNONYMOUS                    2509 non-null   float64\n",
      " 34  ER_STATUS_converted                  2469 non-null   float64\n",
      " 35  HER2_STATUS_converted                1980 non-null   float64\n",
      " 36  PR_STATUS_converted                  1980 non-null   float64\n",
      "dtypes: bool(3), float64(16), object(18)\n",
      "memory usage: 673.9+ KB\n"
     ]
    }
   ],
   "source": [
    "df=pd.read_pickle(config.INTERIM_PICKLE_EDA_DIR+'/data_metabric_table_1.2.pkl')\n",
    "df.info()"
   ]
  },
  {
   "cell_type": "code",
   "execution_count": 3,
   "id": "921cf89d-39b6-4d75-a031-1f712ec7bd40",
   "metadata": {},
   "outputs": [
    {
     "name": "stdout",
     "output_type": "stream",
     "text": [
      "37 37\n"
     ]
    }
   ],
   "source": [
    "target_columns=[\n",
    "    # patient\n",
    "    'OS_MONTHS',\n",
    "    'OS_STATUS',\n",
    "    'RFS_STATUS',\n",
    "    'RFS_MONTHS',\n",
    "    'VITAL_STATUS',\n",
    "]\n",
    "\n",
    "int_columns=[\n",
    "    # patient\n",
    "    'LYMPH_NODES_EXAMINED_POSITIVE',\n",
    "]\n",
    "\n",
    "float_columns=[\n",
    "    # patient\n",
    "    'NPI',\n",
    "    'AGE_AT_DIAGNOSIS',\n",
    "    # sample\n",
    "    'TUMOR_SIZE',\n",
    "    'TMB_NONSYNONYMOUS',\n",
    "]\n",
    "\n",
    "str_columns=[\n",
    "]\n",
    "\n",
    "# 質的変数（順序尺度）\n",
    "qualitative_ordinal_columns=[\n",
    "    # patient\n",
    "    'CELLULARITY_converted',  \n",
    "    'ER_IHC_converted',\n",
    "    'HER2_SNP6_converted',\n",
    "    'INFERRED_MENOPAUSAL_STATE_converted',\n",
    "    # sample\n",
    "    'ER_STATUS_converted',\n",
    "    'HER2_STATUS_converted',\n",
    "    'GRADE',\n",
    "    'PR_STATUS_converted',\n",
    "    'TUMOR_STAGE',\n",
    "]\n",
    "# 質的変数（名義尺度）\n",
    "qualitative_name_columns=[\n",
    "    # patient\n",
    "    'COHORT',\n",
    "    'INTCLUST',\n",
    "    'CLAUDIN_SUBTYPE',\n",
    "    'THREEGENE',\n",
    "    'HISTOLOGICAL_SUBTYPE',\n",
    "    'BREAST_SURGERY',\n",
    "    'LATERALITY',\n",
    "    # sample\n",
    "    'CANCER_TYPE',\n",
    "    'CANCER_TYPE_DETAILED',\n",
    "    'ONCOTREE_CODE',\n",
    "\n",
    "]\n",
    "\n",
    "bool_columns=[\n",
    "    # patient\n",
    "    'CHEMOTHERAPY_converted',\n",
    "    'HORMONE_THERAPY_converted',\n",
    "    'RADIO_THERAPY_converted',\n",
    "]\n",
    "\n",
    "meanless_columns=[\n",
    "    # patient\n",
    "    'PATIENT_ID',\n",
    "    'SEX',\n",
    "    # sample\n",
    "    'PATIENT_ID',\n",
    "    'SAMPLE_ID',\n",
    "    'SAMPLE_TYPE',\n",
    "]\n",
    "\n",
    "print(df.shape[1],\n",
    "    len(target_columns)+\\\n",
    "    len(int_columns)+\\\n",
    "    len(float_columns)+\\\n",
    "    len(ｓｔｒ_columns)+\\\n",
    "    len(qualitative_ordinal_columns)+\\\n",
    "    len(qualitative_name_columns)+\\\n",
    "    len(bool_columns)+\\\n",
    "    len(meanless_columns))\n",
    "assert  df.shape[1]==\\\n",
    "    len(target_columns)+\\\n",
    "    len(int_columns)+\\\n",
    "    len(float_columns)+\\\n",
    "    len(ｓｔｒ_columns)+\\\n",
    "    len(qualitative_ordinal_columns)+\\\n",
    "    len(qualitative_name_columns)+\\\n",
    "    len(bool_columns)+\\\n",
    "    len(meanless_columns), 'lack or too much columns'"
   ]
  },
  {
   "cell_type": "markdown",
   "id": "e09949dd-ce31-4944-a8a3-e521af6b0eee",
   "metadata": {},
   "source": [
    "## create target column\n",
    "\n",
    "目的変数：5年以内の死亡判定→5年以内のデータは除外する"
   ]
  },
  {
   "cell_type": "code",
   "execution_count": 69,
   "id": "b67cb14c-7bb2-4b18-9fea-6dba34e1587b",
   "metadata": {},
   "outputs": [
    {
     "data": {
      "text/plain": [
       "0                     Living\n",
       "1                     Living\n",
       "2            Died of Disease\n",
       "3                     Living\n",
       "6                     Living\n",
       "                ...         \n",
       "1979         Died of Disease\n",
       "1980                  Living\n",
       "1982         Died of Disease\n",
       "1983    Died of Other Causes\n",
       "1984    Died of Other Causes\n",
       "Name: VITAL_STATUS, Length: 1490, dtype: object"
      ]
     },
     "execution_count": 69,
     "metadata": {},
     "output_type": "execute_result"
    }
   ],
   "source": [
    "df[df['OS_MONTHS']>=60]['VITAL_STATUS']"
   ]
  },
  {
   "cell_type": "code",
   "execution_count": null,
   "id": "867f1b59-7f99-46fe-8957-efb13ff7b7f2",
   "metadata": {},
   "outputs": [
    {
     "data": {
      "text/plain": [
       "0         0:LIVING\n",
       "1         0:LIVING\n",
       "2       1:DECEASED\n",
       "3         0:LIVING\n",
       "6         0:LIVING\n",
       "           ...    \n",
       "1979    1:DECEASED\n",
       "1980      0:LIVING\n",
       "1982    1:DECEASED\n",
       "1983    1:DECEASED\n",
       "1984    1:DECEASED\n",
       "Name: OS_STATUS, Length: 1490, dtype: object"
      ]
     },
     "execution_count": 70,
     "metadata": {},
     "output_type": "execute_result"
    }
   ],
   "source": [
    "df[df['OS_MONTHS']>=60]['OS_STATUS']"
   ]
  },
  {
   "cell_type": "code",
   "execution_count": 72,
   "id": "a4858ead-56ac-4825-a289-20608338135d",
   "metadata": {},
   "outputs": [
    {
     "ename": "ValueError",
     "evalue": "The truth value of a Series is ambiguous. Use a.empty, a.bool(), a.item(), a.any() or a.all().",
     "output_type": "error",
     "traceback": [
      "\u001b[0;31m---------------------------------------------------------------------------\u001b[0m",
      "\u001b[0;31mValueError\u001b[0m                                Traceback (most recent call last)",
      "Input \u001b[0;32mIn [72]\u001b[0m, in \u001b[0;36m<cell line: 1>\u001b[0;34m()\u001b[0m\n\u001b[0;32m----> 1\u001b[0m df[df[\u001b[38;5;124m'\u001b[39m\u001b[38;5;124mOS_MONTHS\u001b[39m\u001b[38;5;124m'\u001b[39m]\u001b[38;5;241m>\u001b[39m\u001b[38;5;241m=\u001b[39m\u001b[38;5;241m60\u001b[39m \u001b[38;5;129;01mand\u001b[39;00m (df[\u001b[38;5;124m'\u001b[39m\u001b[38;5;124mVITAL_STATUS\u001b[39m\u001b[38;5;124m'\u001b[39m]\u001b[38;5;241m==\u001b[39m\u001b[38;5;124m'\u001b[39m\u001b[38;5;124mLiving\u001b[39m\u001b[38;5;124m'\u001b[39m \u001b[38;5;129;01mor\u001b[39;00m df[\u001b[38;5;124m'\u001b[39m\u001b[38;5;124mVITAL_STATUS\u001b[39m\u001b[38;5;124m'\u001b[39m]\u001b[38;5;241m==\u001b[39m\u001b[38;5;124m'\u001b[39m\u001b[38;5;124mDied of Disease\u001b[39m\u001b[38;5;124m'\u001b[39m)]\n",
      "File \u001b[0;32m~/.anyenv/envs/pyenv/versions/miniforge3-4.10/envs/breast-cancer-analytics/lib/python3.8/site-packages/pandas/core/generic.py:1527\u001b[0m, in \u001b[0;36mNDFrame.__nonzero__\u001b[0;34m(self)\u001b[0m\n\u001b[1;32m   1525\u001b[0m \u001b[38;5;129m@final\u001b[39m\n\u001b[1;32m   1526\u001b[0m \u001b[38;5;28;01mdef\u001b[39;00m \u001b[38;5;21m__nonzero__\u001b[39m(\u001b[38;5;28mself\u001b[39m):\n\u001b[0;32m-> 1527\u001b[0m     \u001b[38;5;28;01mraise\u001b[39;00m \u001b[38;5;167;01mValueError\u001b[39;00m(\n\u001b[1;32m   1528\u001b[0m         \u001b[38;5;124mf\u001b[39m\u001b[38;5;124m\"\u001b[39m\u001b[38;5;124mThe truth value of a \u001b[39m\u001b[38;5;132;01m{\u001b[39;00m\u001b[38;5;28mtype\u001b[39m(\u001b[38;5;28mself\u001b[39m)\u001b[38;5;241m.\u001b[39m\u001b[38;5;18m__name__\u001b[39m\u001b[38;5;132;01m}\u001b[39;00m\u001b[38;5;124m is ambiguous. \u001b[39m\u001b[38;5;124m\"\u001b[39m\n\u001b[1;32m   1529\u001b[0m         \u001b[38;5;124m\"\u001b[39m\u001b[38;5;124mUse a.empty, a.bool(), a.item(), a.any() or a.all().\u001b[39m\u001b[38;5;124m\"\u001b[39m\n\u001b[1;32m   1530\u001b[0m     )\n",
      "\u001b[0;31mValueError\u001b[0m: The truth value of a Series is ambiguous. Use a.empty, a.bool(), a.item(), a.any() or a.all()."
     ]
    }
   ],
   "source": [
    "df[df['OS_MONTHS']>=60 and (df['VITAL_STATUS']=='Living' or df['VITAL_STATUS']=='Died of Disease')]\n"
   ]
  },
  {
   "cell_type": "code",
   "execution_count": null,
   "id": "21fcb549-2bdd-4d2b-81da-535ce046bf36",
   "metadata": {},
   "outputs": [],
   "source": []
  },
  {
   "cell_type": "markdown",
   "id": "84b21115-ca29-4229-9ff6-6716e4bc1205",
   "metadata": {},
   "source": [
    "### drop columns & line"
   ]
  },
  {
   "cell_type": "code",
   "execution_count": 4,
   "id": "ebaabe83-96ae-4a91-b65f-7cc728ac5dbd",
   "metadata": {},
   "outputs": [],
   "source": [
    "def create_drop_columne(target:str, target_columns:list=target_columns, meanless_columns:list=meanless_columns,):\n",
    "    drop_columns=[i for i in target_columns if i not in [target]]+meanless_columns\n",
    "    return drop_columns"
   ]
  },
  {
   "cell_type": "code",
   "execution_count": 5,
   "id": "c9180f15-9d10-4e60-aa3a-4e337f8d3698",
   "metadata": {},
   "outputs": [
    {
     "data": {
      "text/plain": [
       "((2509, 37), (1293, 28))"
      ]
     },
     "execution_count": 5,
     "metadata": {},
     "output_type": "execute_result"
    }
   ],
   "source": [
    "target='OS_STATUS'\n",
    "drop_columns=create_drop_columne(target)\n",
    "df_droped=df.drop(drop_columns, axis=1).dropna().copy()\n",
    "df.shape, df_droped.shape"
   ]
  },
  {
   "cell_type": "code",
   "execution_count": 6,
   "id": "f6d8afd9-e60f-4922-99ed-2b0715f2bf72",
   "metadata": {},
   "outputs": [
    {
     "data": {
      "text/plain": [
       "Index(['LYMPH_NODES_EXAMINED_POSITIVE', 'NPI', 'COHORT', 'INTCLUST',\n",
       "       'AGE_AT_DIAGNOSIS', 'OS_STATUS', 'CLAUDIN_SUBTYPE', 'THREEGENE',\n",
       "       'LATERALITY', 'HISTOLOGICAL_SUBTYPE', 'BREAST_SURGERY',\n",
       "       'CELLULARITY_converted', 'ER_IHC_converted', 'HER2_SNP6_converted',\n",
       "       'INFERRED_MENOPAUSAL_STATE_converted', 'CHEMOTHERAPY_converted',\n",
       "       'HORMONE_THERAPY_converted', 'RADIO_THERAPY_converted', 'CANCER_TYPE',\n",
       "       'CANCER_TYPE_DETAILED', 'GRADE', 'ONCOTREE_CODE', 'TUMOR_SIZE',\n",
       "       'TUMOR_STAGE', 'TMB_NONSYNONYMOUS', 'ER_STATUS_converted',\n",
       "       'HER2_STATUS_converted', 'PR_STATUS_converted'],\n",
       "      dtype='object')"
      ]
     },
     "execution_count": 6,
     "metadata": {},
     "output_type": "execute_result"
    }
   ],
   "source": [
    "df_droped.columns"
   ]
  },
  {
   "cell_type": "markdown",
   "id": "c47d9dd0-8278-4515-baf9-34f14ada2fc9",
   "metadata": {
    "tags": []
   },
   "source": [
    "### onehot encoding\n",
    "決定木に入れるためにobject型をonehotエンコーディング(nullは削除する)"
   ]
  },
  {
   "cell_type": "code",
   "execution_count": 7,
   "id": "53bab065-d4b7-4e7b-8e98-1dc889deff75",
   "metadata": {
    "tags": []
   },
   "outputs": [
    {
     "data": {
      "text/plain": [
       "LYMPH_NODES_EXAMINED_POSITIVE          float64\n",
       "NPI                                    float64\n",
       "COHORT                                  object\n",
       "INTCLUST                                object\n",
       "AGE_AT_DIAGNOSIS                       float64\n",
       "OS_STATUS                               object\n",
       "CLAUDIN_SUBTYPE                         object\n",
       "THREEGENE                               object\n",
       "LATERALITY                              object\n",
       "HISTOLOGICAL_SUBTYPE                    object\n",
       "BREAST_SURGERY                          object\n",
       "CELLULARITY_converted                  float64\n",
       "ER_IHC_converted                       float64\n",
       "HER2_SNP6_converted                    float64\n",
       "INFERRED_MENOPAUSAL_STATE_converted    float64\n",
       "CHEMOTHERAPY_converted                    bool\n",
       "HORMONE_THERAPY_converted                 bool\n",
       "RADIO_THERAPY_converted                   bool\n",
       "CANCER_TYPE                             object\n",
       "CANCER_TYPE_DETAILED                    object\n",
       "GRADE                                  float64\n",
       "ONCOTREE_CODE                           object\n",
       "TUMOR_SIZE                             float64\n",
       "TUMOR_STAGE                            float64\n",
       "TMB_NONSYNONYMOUS                      float64\n",
       "ER_STATUS_converted                    float64\n",
       "HER2_STATUS_converted                  float64\n",
       "PR_STATUS_converted                    float64\n",
       "dtype: object"
      ]
     },
     "execution_count": 7,
     "metadata": {},
     "output_type": "execute_result"
    }
   ],
   "source": [
    "df_droped.dtypes"
   ]
  },
  {
   "cell_type": "code",
   "execution_count": 8,
   "id": "76c355c4-2617-4345-a704-2110b7a7ebcb",
   "metadata": {
    "tags": []
   },
   "outputs": [
    {
     "data": {
      "text/plain": [
       "[array(['1.0', '2.0', '3.0', '5.0'], dtype=object),\n",
       " array(['1', '10', '2', '3', '4ER+', '4ER-', '5', '6', '7', '8', '9'],\n",
       "       dtype=object),\n",
       " array(['Basal', 'Her2', 'LumA', 'LumB', 'NC', 'Normal', 'claudin-low'],\n",
       "       dtype=object),\n",
       " array(['ER+/HER2- High Prolif', 'ER+/HER2- Low Prolif', 'ER-/HER2-',\n",
       "        'HER2+', 'nan'], dtype=object),\n",
       " array(['Ductal/NST', 'Lobular', 'Medullary', 'Mixed', 'Mucinous', 'Other',\n",
       "        'Tubular/ cribriform', 'nan'], dtype=object),\n",
       " array(['BREAST CONSERVING', 'MASTECTOMY', 'nan'], dtype=object),\n",
       " array(['Left', 'Right', 'nan'], dtype=object),\n",
       " array(['Breast Cancer'], dtype=object),\n",
       " array(['Breast', 'Breast Invasive Ductal Carcinoma',\n",
       "        'Breast Invasive Lobular Carcinoma',\n",
       "        'Breast Invasive Mixed Mucinous Carcinoma',\n",
       "        'Breast Mixed Ductal and Lobular Carcinoma',\n",
       "        'Invasive Breast Carcinoma'], dtype=object),\n",
       " array(['BRCA', 'BREAST', 'IDC', 'ILC', 'IMMC', 'MDLC'], dtype=object)]"
      ]
     },
     "metadata": {},
     "output_type": "display_data"
    },
    {
     "data": {
      "text/plain": [
       "array(['COHORT_1.0', 'COHORT_2.0', 'COHORT_3.0', 'COHORT_5.0',\n",
       "       'INTCLUST_1', 'INTCLUST_10', 'INTCLUST_2', 'INTCLUST_3',\n",
       "       'INTCLUST_4ER+', 'INTCLUST_4ER-', 'INTCLUST_5', 'INTCLUST_6',\n",
       "       'INTCLUST_7', 'INTCLUST_8', 'INTCLUST_9', 'CLAUDIN_SUBTYPE_Basal',\n",
       "       'CLAUDIN_SUBTYPE_Her2', 'CLAUDIN_SUBTYPE_LumA',\n",
       "       'CLAUDIN_SUBTYPE_LumB', 'CLAUDIN_SUBTYPE_NC',\n",
       "       'CLAUDIN_SUBTYPE_Normal', 'CLAUDIN_SUBTYPE_claudin-low',\n",
       "       'THREEGENE_ER+/HER2- High Prolif',\n",
       "       'THREEGENE_ER+/HER2- Low Prolif', 'THREEGENE_ER-/HER2-',\n",
       "       'THREEGENE_HER2+', 'THREEGENE_nan',\n",
       "       'HISTOLOGICAL_SUBTYPE_Ductal/NST', 'HISTOLOGICAL_SUBTYPE_Lobular',\n",
       "       'HISTOLOGICAL_SUBTYPE_Medullary', 'HISTOLOGICAL_SUBTYPE_Mixed',\n",
       "       'HISTOLOGICAL_SUBTYPE_Mucinous', 'HISTOLOGICAL_SUBTYPE_Other',\n",
       "       'HISTOLOGICAL_SUBTYPE_Tubular/ cribriform',\n",
       "       'HISTOLOGICAL_SUBTYPE_nan', 'BREAST_SURGERY_BREAST CONSERVING',\n",
       "       'BREAST_SURGERY_MASTECTOMY', 'BREAST_SURGERY_nan',\n",
       "       'LATERALITY_Left', 'LATERALITY_Right', 'LATERALITY_nan',\n",
       "       'CANCER_TYPE_Breast Cancer', 'CANCER_TYPE_DETAILED_Breast',\n",
       "       'CANCER_TYPE_DETAILED_Breast Invasive Ductal Carcinoma',\n",
       "       'CANCER_TYPE_DETAILED_Breast Invasive Lobular Carcinoma',\n",
       "       'CANCER_TYPE_DETAILED_Breast Invasive Mixed Mucinous Carcinoma',\n",
       "       'CANCER_TYPE_DETAILED_Breast Mixed Ductal and Lobular Carcinoma',\n",
       "       'CANCER_TYPE_DETAILED_Invasive Breast Carcinoma',\n",
       "       'ONCOTREE_CODE_BRCA', 'ONCOTREE_CODE_BREAST', 'ONCOTREE_CODE_IDC',\n",
       "       'ONCOTREE_CODE_ILC', 'ONCOTREE_CODE_IMMC', 'ONCOTREE_CODE_MDLC'],\n",
       "      dtype=object)"
      ]
     },
     "metadata": {},
     "output_type": "display_data"
    }
   ],
   "source": [
    "onehot_encoder=OneHotEncoder()\n",
    "onehot_encoding_columns=qualitative_name_columns\n",
    "onehot_encoder.fit(df_droped[onehot_encoding_columns])\n",
    "display(onehot_encoder.categories_)\n",
    "display(onehot_encoder.get_feature_names_out(onehot_encoding_columns))\n",
    "#enc.transform(df_droped[encoding_columns]).toarray()\n",
    "df_onehot=pd.DataFrame(onehot_encoder.transform(df_droped[onehot_encoding_columns]).toarray(), \n",
    "             columns=onehot_encoder.get_feature_names_out(onehot_encoding_columns))\n"
   ]
  },
  {
   "cell_type": "markdown",
   "id": "dccce269-5d09-4e48-a00f-7c4706824d07",
   "metadata": {},
   "source": [
    "### Label Encoder\n"
   ]
  },
  {
   "cell_type": "markdown",
   "id": "b15d0d1a-7255-47ae-9fd6-821120c107c0",
   "metadata": {},
   "source": [
    "label_encoder=LabelEncoder()\n",
    "label_encoding_columns=qualitative_name_columns\n",
    "label_encoder.fit(df_droped[label_encoding_columns])\n",
    "display(label_encoder.categories_)\n",
    "display(label_encoder.get_feature_names_out(label_encoding_columns))\n",
    "#enc.transform(df_droped[encoding_columns]).toarray()\n",
    "df_onehot=pd.DataFrame(enc.transform(df_droped[onehot_encoding_columns]).toarray(), \n",
    "             columns=onehot_encoder.get_feature_names_out(onehot_encoding_columns))\n"
   ]
  },
  {
   "cell_type": "code",
   "execution_count": null,
   "id": "9fdb87aa-c346-4263-9a77-7af59ed5e593",
   "metadata": {},
   "outputs": [],
   "source": []
  },
  {
   "cell_type": "code",
   "execution_count": 9,
   "id": "619e153b-437a-41f8-8729-4ff4812ff2ac",
   "metadata": {},
   "outputs": [],
   "source": [
    "df_encoded=pd.merge(df_droped.reset_index(drop=True), df_onehot.reset_index(drop=True), \n",
    "                    left_index=True, right_index=True).drop(onehot_encoding_columns, axis=1)"
   ]
  },
  {
   "cell_type": "markdown",
   "id": "6a9b38bf-8a4d-430c-b2eb-4ddb25d65688",
   "metadata": {},
   "source": [
    "学習用にデータを分割"
   ]
  },
  {
   "cell_type": "code",
   "execution_count": 10,
   "id": "e1da9d57-8b3c-4656-a806-9657416762e0",
   "metadata": {},
   "outputs": [],
   "source": [
    "y=df_encoded[target]\n",
    "X=df_encoded.drop(target, axis=1)"
   ]
  },
  {
   "cell_type": "code",
   "execution_count": 11,
   "id": "b5bc7027-defc-4036-8f58-cb1db01a3ef4",
   "metadata": {},
   "outputs": [
    {
     "data": {
      "text/plain": [
       "1288      0:LIVING\n",
       "1289    1:DECEASED\n",
       "1290      0:LIVING\n",
       "1291    1:DECEASED\n",
       "1292      0:LIVING\n",
       "Name: OS_STATUS, dtype: object"
      ]
     },
     "execution_count": 11,
     "metadata": {},
     "output_type": "execute_result"
    }
   ],
   "source": [
    "y.tail()"
   ]
  },
  {
   "cell_type": "code",
   "execution_count": 12,
   "id": "95d683e0-1d59-41ad-9eb3-aefbf7906000",
   "metadata": {},
   "outputs": [
    {
     "data": {
      "text/html": [
       "<div>\n",
       "<style scoped>\n",
       "    .dataframe tbody tr th:only-of-type {\n",
       "        vertical-align: middle;\n",
       "    }\n",
       "\n",
       "    .dataframe tbody tr th {\n",
       "        vertical-align: top;\n",
       "    }\n",
       "\n",
       "    .dataframe thead th {\n",
       "        text-align: right;\n",
       "    }\n",
       "</style>\n",
       "<table border=\"1\" class=\"dataframe\">\n",
       "  <thead>\n",
       "    <tr style=\"text-align: right;\">\n",
       "      <th></th>\n",
       "      <th>LYMPH_NODES_EXAMINED_POSITIVE</th>\n",
       "      <th>NPI</th>\n",
       "      <th>AGE_AT_DIAGNOSIS</th>\n",
       "      <th>CELLULARITY_converted</th>\n",
       "      <th>ER_IHC_converted</th>\n",
       "      <th>HER2_SNP6_converted</th>\n",
       "      <th>INFERRED_MENOPAUSAL_STATE_converted</th>\n",
       "      <th>CHEMOTHERAPY_converted</th>\n",
       "      <th>HORMONE_THERAPY_converted</th>\n",
       "      <th>RADIO_THERAPY_converted</th>\n",
       "      <th>GRADE</th>\n",
       "      <th>TUMOR_SIZE</th>\n",
       "      <th>TUMOR_STAGE</th>\n",
       "      <th>TMB_NONSYNONYMOUS</th>\n",
       "      <th>ER_STATUS_converted</th>\n",
       "      <th>HER2_STATUS_converted</th>\n",
       "      <th>PR_STATUS_converted</th>\n",
       "      <th>COHORT_1.0</th>\n",
       "      <th>COHORT_2.0</th>\n",
       "      <th>COHORT_3.0</th>\n",
       "      <th>COHORT_5.0</th>\n",
       "      <th>INTCLUST_1</th>\n",
       "      <th>INTCLUST_10</th>\n",
       "      <th>INTCLUST_2</th>\n",
       "      <th>INTCLUST_3</th>\n",
       "      <th>...</th>\n",
       "      <th>HISTOLOGICAL_SUBTYPE_Medullary</th>\n",
       "      <th>HISTOLOGICAL_SUBTYPE_Mixed</th>\n",
       "      <th>HISTOLOGICAL_SUBTYPE_Mucinous</th>\n",
       "      <th>HISTOLOGICAL_SUBTYPE_Other</th>\n",
       "      <th>HISTOLOGICAL_SUBTYPE_Tubular/ cribriform</th>\n",
       "      <th>HISTOLOGICAL_SUBTYPE_nan</th>\n",
       "      <th>BREAST_SURGERY_BREAST CONSERVING</th>\n",
       "      <th>BREAST_SURGERY_MASTECTOMY</th>\n",
       "      <th>BREAST_SURGERY_nan</th>\n",
       "      <th>LATERALITY_Left</th>\n",
       "      <th>LATERALITY_Right</th>\n",
       "      <th>LATERALITY_nan</th>\n",
       "      <th>CANCER_TYPE_Breast Cancer</th>\n",
       "      <th>CANCER_TYPE_DETAILED_Breast</th>\n",
       "      <th>CANCER_TYPE_DETAILED_Breast Invasive Ductal Carcinoma</th>\n",
       "      <th>CANCER_TYPE_DETAILED_Breast Invasive Lobular Carcinoma</th>\n",
       "      <th>CANCER_TYPE_DETAILED_Breast Invasive Mixed Mucinous Carcinoma</th>\n",
       "      <th>CANCER_TYPE_DETAILED_Breast Mixed Ductal and Lobular Carcinoma</th>\n",
       "      <th>CANCER_TYPE_DETAILED_Invasive Breast Carcinoma</th>\n",
       "      <th>ONCOTREE_CODE_BRCA</th>\n",
       "      <th>ONCOTREE_CODE_BREAST</th>\n",
       "      <th>ONCOTREE_CODE_IDC</th>\n",
       "      <th>ONCOTREE_CODE_ILC</th>\n",
       "      <th>ONCOTREE_CODE_IMMC</th>\n",
       "      <th>ONCOTREE_CODE_MDLC</th>\n",
       "    </tr>\n",
       "  </thead>\n",
       "  <tbody>\n",
       "    <tr>\n",
       "      <th>1288</th>\n",
       "      <td>0.0</td>\n",
       "      <td>2.040</td>\n",
       "      <td>70.65</td>\n",
       "      <td>3.0</td>\n",
       "      <td>1.0</td>\n",
       "      <td>2.0</td>\n",
       "      <td>1.0</td>\n",
       "      <td>False</td>\n",
       "      <td>False</td>\n",
       "      <td>True</td>\n",
       "      <td>1.0</td>\n",
       "      <td>20.0</td>\n",
       "      <td>1.0</td>\n",
       "      <td>11.767659</td>\n",
       "      <td>1.0</td>\n",
       "      <td>-1.0</td>\n",
       "      <td>1.0</td>\n",
       "      <td>0.0</td>\n",
       "      <td>0.0</td>\n",
       "      <td>0.0</td>\n",
       "      <td>1.0</td>\n",
       "      <td>0.0</td>\n",
       "      <td>0.0</td>\n",
       "      <td>0.0</td>\n",
       "      <td>0.0</td>\n",
       "      <td>...</td>\n",
       "      <td>0.0</td>\n",
       "      <td>1.0</td>\n",
       "      <td>0.0</td>\n",
       "      <td>0.0</td>\n",
       "      <td>0.0</td>\n",
       "      <td>0.0</td>\n",
       "      <td>1.0</td>\n",
       "      <td>0.0</td>\n",
       "      <td>0.0</td>\n",
       "      <td>1.0</td>\n",
       "      <td>0.0</td>\n",
       "      <td>0.0</td>\n",
       "      <td>1.0</td>\n",
       "      <td>0.0</td>\n",
       "      <td>0.0</td>\n",
       "      <td>0.0</td>\n",
       "      <td>0.0</td>\n",
       "      <td>1.0</td>\n",
       "      <td>0.0</td>\n",
       "      <td>0.0</td>\n",
       "      <td>0.0</td>\n",
       "      <td>0.0</td>\n",
       "      <td>0.0</td>\n",
       "      <td>0.0</td>\n",
       "      <td>1.0</td>\n",
       "    </tr>\n",
       "    <tr>\n",
       "      <th>1289</th>\n",
       "      <td>0.0</td>\n",
       "      <td>4.040</td>\n",
       "      <td>75.62</td>\n",
       "      <td>3.0</td>\n",
       "      <td>-1.0</td>\n",
       "      <td>3.0</td>\n",
       "      <td>1.0</td>\n",
       "      <td>False</td>\n",
       "      <td>False</td>\n",
       "      <td>False</td>\n",
       "      <td>3.0</td>\n",
       "      <td>20.0</td>\n",
       "      <td>1.0</td>\n",
       "      <td>5.230071</td>\n",
       "      <td>-1.0</td>\n",
       "      <td>-1.0</td>\n",
       "      <td>-1.0</td>\n",
       "      <td>0.0</td>\n",
       "      <td>0.0</td>\n",
       "      <td>0.0</td>\n",
       "      <td>1.0</td>\n",
       "      <td>0.0</td>\n",
       "      <td>1.0</td>\n",
       "      <td>0.0</td>\n",
       "      <td>0.0</td>\n",
       "      <td>...</td>\n",
       "      <td>0.0</td>\n",
       "      <td>0.0</td>\n",
       "      <td>0.0</td>\n",
       "      <td>0.0</td>\n",
       "      <td>0.0</td>\n",
       "      <td>0.0</td>\n",
       "      <td>0.0</td>\n",
       "      <td>1.0</td>\n",
       "      <td>0.0</td>\n",
       "      <td>0.0</td>\n",
       "      <td>1.0</td>\n",
       "      <td>0.0</td>\n",
       "      <td>1.0</td>\n",
       "      <td>0.0</td>\n",
       "      <td>1.0</td>\n",
       "      <td>0.0</td>\n",
       "      <td>0.0</td>\n",
       "      <td>0.0</td>\n",
       "      <td>0.0</td>\n",
       "      <td>0.0</td>\n",
       "      <td>0.0</td>\n",
       "      <td>1.0</td>\n",
       "      <td>0.0</td>\n",
       "      <td>0.0</td>\n",
       "      <td>0.0</td>\n",
       "    </tr>\n",
       "    <tr>\n",
       "      <th>1290</th>\n",
       "      <td>6.0</td>\n",
       "      <td>5.040</td>\n",
       "      <td>52.84</td>\n",
       "      <td>3.0</td>\n",
       "      <td>1.0</td>\n",
       "      <td>2.0</td>\n",
       "      <td>1.0</td>\n",
       "      <td>True</td>\n",
       "      <td>False</td>\n",
       "      <td>True</td>\n",
       "      <td>2.0</td>\n",
       "      <td>20.0</td>\n",
       "      <td>2.0</td>\n",
       "      <td>6.537589</td>\n",
       "      <td>1.0</td>\n",
       "      <td>-1.0</td>\n",
       "      <td>1.0</td>\n",
       "      <td>0.0</td>\n",
       "      <td>0.0</td>\n",
       "      <td>0.0</td>\n",
       "      <td>1.0</td>\n",
       "      <td>0.0</td>\n",
       "      <td>0.0</td>\n",
       "      <td>0.0</td>\n",
       "      <td>0.0</td>\n",
       "      <td>...</td>\n",
       "      <td>0.0</td>\n",
       "      <td>1.0</td>\n",
       "      <td>0.0</td>\n",
       "      <td>0.0</td>\n",
       "      <td>0.0</td>\n",
       "      <td>0.0</td>\n",
       "      <td>1.0</td>\n",
       "      <td>0.0</td>\n",
       "      <td>0.0</td>\n",
       "      <td>0.0</td>\n",
       "      <td>1.0</td>\n",
       "      <td>0.0</td>\n",
       "      <td>1.0</td>\n",
       "      <td>0.0</td>\n",
       "      <td>0.0</td>\n",
       "      <td>0.0</td>\n",
       "      <td>0.0</td>\n",
       "      <td>1.0</td>\n",
       "      <td>0.0</td>\n",
       "      <td>0.0</td>\n",
       "      <td>0.0</td>\n",
       "      <td>0.0</td>\n",
       "      <td>0.0</td>\n",
       "      <td>0.0</td>\n",
       "      <td>1.0</td>\n",
       "    </tr>\n",
       "    <tr>\n",
       "      <th>1291</th>\n",
       "      <td>1.0</td>\n",
       "      <td>5.060</td>\n",
       "      <td>48.59</td>\n",
       "      <td>3.0</td>\n",
       "      <td>-1.0</td>\n",
       "      <td>1.0</td>\n",
       "      <td>-1.0</td>\n",
       "      <td>True</td>\n",
       "      <td>False</td>\n",
       "      <td>True</td>\n",
       "      <td>3.0</td>\n",
       "      <td>30.0</td>\n",
       "      <td>2.0</td>\n",
       "      <td>7.845106</td>\n",
       "      <td>-1.0</td>\n",
       "      <td>-1.0</td>\n",
       "      <td>-1.0</td>\n",
       "      <td>0.0</td>\n",
       "      <td>0.0</td>\n",
       "      <td>0.0</td>\n",
       "      <td>1.0</td>\n",
       "      <td>0.0</td>\n",
       "      <td>1.0</td>\n",
       "      <td>0.0</td>\n",
       "      <td>0.0</td>\n",
       "      <td>...</td>\n",
       "      <td>0.0</td>\n",
       "      <td>0.0</td>\n",
       "      <td>0.0</td>\n",
       "      <td>0.0</td>\n",
       "      <td>0.0</td>\n",
       "      <td>0.0</td>\n",
       "      <td>0.0</td>\n",
       "      <td>1.0</td>\n",
       "      <td>0.0</td>\n",
       "      <td>0.0</td>\n",
       "      <td>1.0</td>\n",
       "      <td>0.0</td>\n",
       "      <td>1.0</td>\n",
       "      <td>0.0</td>\n",
       "      <td>1.0</td>\n",
       "      <td>0.0</td>\n",
       "      <td>0.0</td>\n",
       "      <td>0.0</td>\n",
       "      <td>0.0</td>\n",
       "      <td>0.0</td>\n",
       "      <td>0.0</td>\n",
       "      <td>1.0</td>\n",
       "      <td>0.0</td>\n",
       "      <td>0.0</td>\n",
       "      <td>0.0</td>\n",
       "    </tr>\n",
       "    <tr>\n",
       "      <th>1292</th>\n",
       "      <td>0.0</td>\n",
       "      <td>3.044</td>\n",
       "      <td>63.20</td>\n",
       "      <td>3.0</td>\n",
       "      <td>1.0</td>\n",
       "      <td>2.0</td>\n",
       "      <td>1.0</td>\n",
       "      <td>False</td>\n",
       "      <td>False</td>\n",
       "      <td>True</td>\n",
       "      <td>2.0</td>\n",
       "      <td>22.0</td>\n",
       "      <td>2.0</td>\n",
       "      <td>3.922553</td>\n",
       "      <td>1.0</td>\n",
       "      <td>-1.0</td>\n",
       "      <td>1.0</td>\n",
       "      <td>0.0</td>\n",
       "      <td>0.0</td>\n",
       "      <td>0.0</td>\n",
       "      <td>1.0</td>\n",
       "      <td>0.0</td>\n",
       "      <td>0.0</td>\n",
       "      <td>0.0</td>\n",
       "      <td>0.0</td>\n",
       "      <td>...</td>\n",
       "      <td>0.0</td>\n",
       "      <td>0.0</td>\n",
       "      <td>1.0</td>\n",
       "      <td>0.0</td>\n",
       "      <td>0.0</td>\n",
       "      <td>0.0</td>\n",
       "      <td>1.0</td>\n",
       "      <td>0.0</td>\n",
       "      <td>0.0</td>\n",
       "      <td>0.0</td>\n",
       "      <td>1.0</td>\n",
       "      <td>0.0</td>\n",
       "      <td>1.0</td>\n",
       "      <td>0.0</td>\n",
       "      <td>0.0</td>\n",
       "      <td>0.0</td>\n",
       "      <td>1.0</td>\n",
       "      <td>0.0</td>\n",
       "      <td>0.0</td>\n",
       "      <td>0.0</td>\n",
       "      <td>0.0</td>\n",
       "      <td>0.0</td>\n",
       "      <td>0.0</td>\n",
       "      <td>1.0</td>\n",
       "      <td>0.0</td>\n",
       "    </tr>\n",
       "  </tbody>\n",
       "</table>\n",
       "<p>5 rows × 71 columns</p>\n",
       "</div>"
      ],
      "text/plain": [
       "      LYMPH_NODES_EXAMINED_POSITIVE    NPI  AGE_AT_DIAGNOSIS  \\\n",
       "1288                            0.0  2.040             70.65   \n",
       "1289                            0.0  4.040             75.62   \n",
       "1290                            6.0  5.040             52.84   \n",
       "1291                            1.0  5.060             48.59   \n",
       "1292                            0.0  3.044             63.20   \n",
       "\n",
       "      CELLULARITY_converted  ER_IHC_converted  HER2_SNP6_converted  \\\n",
       "1288                    3.0               1.0                  2.0   \n",
       "1289                    3.0              -1.0                  3.0   \n",
       "1290                    3.0               1.0                  2.0   \n",
       "1291                    3.0              -1.0                  1.0   \n",
       "1292                    3.0               1.0                  2.0   \n",
       "\n",
       "      INFERRED_MENOPAUSAL_STATE_converted  CHEMOTHERAPY_converted  \\\n",
       "1288                                  1.0                   False   \n",
       "1289                                  1.0                   False   \n",
       "1290                                  1.0                    True   \n",
       "1291                                 -1.0                    True   \n",
       "1292                                  1.0                   False   \n",
       "\n",
       "      HORMONE_THERAPY_converted  RADIO_THERAPY_converted  GRADE  TUMOR_SIZE  \\\n",
       "1288                      False                     True    1.0        20.0   \n",
       "1289                      False                    False    3.0        20.0   \n",
       "1290                      False                     True    2.0        20.0   \n",
       "1291                      False                     True    3.0        30.0   \n",
       "1292                      False                     True    2.0        22.0   \n",
       "\n",
       "      TUMOR_STAGE  TMB_NONSYNONYMOUS  ER_STATUS_converted  \\\n",
       "1288          1.0          11.767659                  1.0   \n",
       "1289          1.0           5.230071                 -1.0   \n",
       "1290          2.0           6.537589                  1.0   \n",
       "1291          2.0           7.845106                 -1.0   \n",
       "1292          2.0           3.922553                  1.0   \n",
       "\n",
       "      HER2_STATUS_converted  PR_STATUS_converted  COHORT_1.0  COHORT_2.0  \\\n",
       "1288                   -1.0                  1.0         0.0         0.0   \n",
       "1289                   -1.0                 -1.0         0.0         0.0   \n",
       "1290                   -1.0                  1.0         0.0         0.0   \n",
       "1291                   -1.0                 -1.0         0.0         0.0   \n",
       "1292                   -1.0                  1.0         0.0         0.0   \n",
       "\n",
       "      COHORT_3.0  COHORT_5.0  INTCLUST_1  INTCLUST_10  INTCLUST_2  INTCLUST_3  \\\n",
       "1288         0.0         1.0         0.0          0.0         0.0         0.0   \n",
       "1289         0.0         1.0         0.0          1.0         0.0         0.0   \n",
       "1290         0.0         1.0         0.0          0.0         0.0         0.0   \n",
       "1291         0.0         1.0         0.0          1.0         0.0         0.0   \n",
       "1292         0.0         1.0         0.0          0.0         0.0         0.0   \n",
       "\n",
       "      ...  HISTOLOGICAL_SUBTYPE_Medullary  HISTOLOGICAL_SUBTYPE_Mixed  \\\n",
       "1288  ...                             0.0                         1.0   \n",
       "1289  ...                             0.0                         0.0   \n",
       "1290  ...                             0.0                         1.0   \n",
       "1291  ...                             0.0                         0.0   \n",
       "1292  ...                             0.0                         0.0   \n",
       "\n",
       "      HISTOLOGICAL_SUBTYPE_Mucinous  HISTOLOGICAL_SUBTYPE_Other  \\\n",
       "1288                            0.0                         0.0   \n",
       "1289                            0.0                         0.0   \n",
       "1290                            0.0                         0.0   \n",
       "1291                            0.0                         0.0   \n",
       "1292                            1.0                         0.0   \n",
       "\n",
       "      HISTOLOGICAL_SUBTYPE_Tubular/ cribriform  HISTOLOGICAL_SUBTYPE_nan  \\\n",
       "1288                                       0.0                       0.0   \n",
       "1289                                       0.0                       0.0   \n",
       "1290                                       0.0                       0.0   \n",
       "1291                                       0.0                       0.0   \n",
       "1292                                       0.0                       0.0   \n",
       "\n",
       "      BREAST_SURGERY_BREAST CONSERVING  BREAST_SURGERY_MASTECTOMY  \\\n",
       "1288                               1.0                        0.0   \n",
       "1289                               0.0                        1.0   \n",
       "1290                               1.0                        0.0   \n",
       "1291                               0.0                        1.0   \n",
       "1292                               1.0                        0.0   \n",
       "\n",
       "      BREAST_SURGERY_nan  LATERALITY_Left  LATERALITY_Right  LATERALITY_nan  \\\n",
       "1288                 0.0              1.0               0.0             0.0   \n",
       "1289                 0.0              0.0               1.0             0.0   \n",
       "1290                 0.0              0.0               1.0             0.0   \n",
       "1291                 0.0              0.0               1.0             0.0   \n",
       "1292                 0.0              0.0               1.0             0.0   \n",
       "\n",
       "      CANCER_TYPE_Breast Cancer  CANCER_TYPE_DETAILED_Breast  \\\n",
       "1288                        1.0                          0.0   \n",
       "1289                        1.0                          0.0   \n",
       "1290                        1.0                          0.0   \n",
       "1291                        1.0                          0.0   \n",
       "1292                        1.0                          0.0   \n",
       "\n",
       "      CANCER_TYPE_DETAILED_Breast Invasive Ductal Carcinoma  \\\n",
       "1288                                                0.0       \n",
       "1289                                                1.0       \n",
       "1290                                                0.0       \n",
       "1291                                                1.0       \n",
       "1292                                                0.0       \n",
       "\n",
       "      CANCER_TYPE_DETAILED_Breast Invasive Lobular Carcinoma  \\\n",
       "1288                                                0.0        \n",
       "1289                                                0.0        \n",
       "1290                                                0.0        \n",
       "1291                                                0.0        \n",
       "1292                                                0.0        \n",
       "\n",
       "      CANCER_TYPE_DETAILED_Breast Invasive Mixed Mucinous Carcinoma  \\\n",
       "1288                                                0.0               \n",
       "1289                                                0.0               \n",
       "1290                                                0.0               \n",
       "1291                                                0.0               \n",
       "1292                                                1.0               \n",
       "\n",
       "      CANCER_TYPE_DETAILED_Breast Mixed Ductal and Lobular Carcinoma  \\\n",
       "1288                                                1.0                \n",
       "1289                                                0.0                \n",
       "1290                                                1.0                \n",
       "1291                                                0.0                \n",
       "1292                                                0.0                \n",
       "\n",
       "      CANCER_TYPE_DETAILED_Invasive Breast Carcinoma  ONCOTREE_CODE_BRCA  \\\n",
       "1288                                             0.0                 0.0   \n",
       "1289                                             0.0                 0.0   \n",
       "1290                                             0.0                 0.0   \n",
       "1291                                             0.0                 0.0   \n",
       "1292                                             0.0                 0.0   \n",
       "\n",
       "      ONCOTREE_CODE_BREAST  ONCOTREE_CODE_IDC  ONCOTREE_CODE_ILC  \\\n",
       "1288                   0.0                0.0                0.0   \n",
       "1289                   0.0                1.0                0.0   \n",
       "1290                   0.0                0.0                0.0   \n",
       "1291                   0.0                1.0                0.0   \n",
       "1292                   0.0                0.0                0.0   \n",
       "\n",
       "      ONCOTREE_CODE_IMMC  ONCOTREE_CODE_MDLC  \n",
       "1288                 0.0                 1.0  \n",
       "1289                 0.0                 0.0  \n",
       "1290                 0.0                 1.0  \n",
       "1291                 0.0                 0.0  \n",
       "1292                 1.0                 0.0  \n",
       "\n",
       "[5 rows x 71 columns]"
      ]
     },
     "execution_count": 12,
     "metadata": {},
     "output_type": "execute_result"
    }
   ],
   "source": [
    "X.tail()"
   ]
  },
  {
   "cell_type": "code",
   "execution_count": 52,
   "id": "cd767058-1fbc-4afa-84b2-052d3cc9e3a2",
   "metadata": {},
   "outputs": [
    {
     "data": {
      "text/plain": [
       "((905, 71), (388, 71), (905,), (388,))"
      ]
     },
     "execution_count": 52,
     "metadata": {},
     "output_type": "execute_result"
    }
   ],
   "source": [
    "X_train, X_test, y_train, y_test=train_test_split(X,y, train_size=0.7, random_state=1)\n",
    "X_train.shape, X_test.shape, y_train.shape, y_test.shape"
   ]
  },
  {
   "cell_type": "code",
   "execution_count": 53,
   "id": "40a48b4d-f83f-4e7f-b5d4-d6e9a231eabb",
   "metadata": {},
   "outputs": [
    {
     "name": "stdout",
     "output_type": "stream",
     "text": [
      "nodes:  5 accuracy:  0.6881443298969072\n",
      "nodes:  6 accuracy:  0.6881443298969072\n",
      "nodes:  7 accuracy:  0.6778350515463918\n",
      "nodes:  8 accuracy:  0.6778350515463918\n",
      "nodes:  9 accuracy:  0.6907216494845361\n",
      "nodes:  10 accuracy:  0.6829896907216495\n",
      "nodes:  11 accuracy:  0.6804123711340206\n",
      "nodes:  12 accuracy:  0.6804123711340206\n",
      "nodes:  13 accuracy:  0.6881443298969072\n",
      "nodes:  14 accuracy:  0.6907216494845361\n",
      "nodes:  15 accuracy:  0.6932989690721649\n",
      "nodes:  16 accuracy:  0.6907216494845361\n",
      "nodes:  17 accuracy:  0.6958762886597938\n",
      "nodes:  18 accuracy:  0.6907216494845361\n",
      "nodes:  19 accuracy:  0.6958762886597938\n",
      "nodes:  20 accuracy:  0.6907216494845361\n",
      "nodes:  21 accuracy:  0.6984536082474226\n",
      "nodes:  22 accuracy:  0.6958762886597938\n",
      "nodes:  23 accuracy:  0.6984536082474226\n",
      "nodes:  24 accuracy:  0.6907216494845361\n",
      "nodes:  25 accuracy:  0.6829896907216495\n",
      "nodes:  26 accuracy:  0.6855670103092784\n",
      "nodes:  27 accuracy:  0.6726804123711341\n",
      "nodes:  28 accuracy:  0.6649484536082474\n",
      "nodes:  29 accuracy:  0.6623711340206185\n",
      "nodes:  30 accuracy:  0.6623711340206185\n",
      "nodes:  31 accuracy:  0.6597938144329897\n",
      "nodes:  32 accuracy:  0.6623711340206185\n",
      "nodes:  33 accuracy:  0.6572164948453608\n",
      "nodes:  34 accuracy:  0.6597938144329897\n",
      "nodes:  35 accuracy:  0.6572164948453608\n",
      "nodes:  36 accuracy:  0.654639175257732\n",
      "nodes:  37 accuracy:  0.654639175257732\n",
      "nodes:  38 accuracy:  0.6623711340206185\n",
      "nodes:  39 accuracy:  0.6649484536082474\n",
      "nodes:  40 accuracy:  0.6572164948453608\n",
      "nodes:  41 accuracy:  0.6597938144329897\n",
      "nodes:  42 accuracy:  0.6623711340206185\n",
      "nodes:  43 accuracy:  0.6649484536082474\n",
      "nodes:  44 accuracy:  0.6623711340206185\n",
      "nodes:  45 accuracy:  0.6675257731958762\n",
      "nodes:  46 accuracy:  0.6597938144329897\n",
      "nodes:  47 accuracy:  0.6623711340206185\n",
      "nodes:  48 accuracy:  0.6675257731958762\n",
      "nodes:  49 accuracy:  0.6520618556701031\n"
     ]
    }
   ],
   "source": [
    "accuracies={}\n",
    "\n",
    "for nodes in range(5,50):\n",
    "    clf = DecisionTreeClassifier(max_leaf_nodes=nodes)\n",
    "    clf = clf.fit(X_train, y_train)\n",
    "    #print(clf.classes_)\n",
    "\n",
    "    y_pred=clf.predict(X_test)\n",
    "    # accuracy\n",
    "    \n",
    "    accuracy=sum(y_test==y_pred)/y_test.shape[0]\n",
    "    accuracies[nodes]=accuracy\n",
    "    print('nodes: ',nodes, 'accuracy: ', accuracy)"
   ]
  },
  {
   "cell_type": "code",
   "execution_count": 54,
   "id": "06e35dfd-b7c6-45fd-8ef9-4443d65c7466",
   "metadata": {},
   "outputs": [
    {
     "data": {
      "text/plain": [
       "0.6984536082474226"
      ]
     },
     "execution_count": 54,
     "metadata": {},
     "output_type": "execute_result"
    }
   ],
   "source": [
    "max(accuracies.values())"
   ]
  },
  {
   "cell_type": "code",
   "execution_count": 55,
   "id": "d549a5ff-8a16-4c31-87a2-62b11059e1b7",
   "metadata": {},
   "outputs": [
    {
     "name": "stdout",
     "output_type": "stream",
     "text": [
      "0.6984536082474226\n"
     ]
    }
   ],
   "source": [
    "clf = DecisionTreeClassifier(max_leaf_nodes=20)\n",
    "clf = clf.fit(X_train, y_train)\n",
    "#print(clf.classes_)\n",
    "\n",
    "y_pred=clf.predict(X_test)\n",
    "# accuracy\n",
    "\n",
    "print(sum(y_test==y_pred)/y_test.shape[0])"
   ]
  },
  {
   "cell_type": "code",
   "execution_count": 56,
   "id": "2685401b-1f7d-4bfd-86ac-8b2c4bb5d269",
   "metadata": {
    "tags": []
   },
   "outputs": [
    {
     "data": {
      "text/plain": [
       "True"
      ]
     },
     "execution_count": 56,
     "metadata": {},
     "output_type": "execute_result"
    }
   ],
   "source": [
    "dot_data = StringIO() #dotファイル情報の格納先\n",
    "export_graphviz(clf, out_file=dot_data,  \n",
    "                     feature_names=X.columns,\n",
    "                     class_names= y.unique(),\n",
    "                     filled=True, rounded=True,  \n",
    "                     special_characters=True) \n",
    "graph = pydotplus.graph_from_dot_data(dot_data.getvalue()) \n",
    "Image(graph.create_png())\n",
    "graph.write_png(config.TREE_DIR+'/2.0-decision_tree_model.png')"
   ]
  },
  {
   "cell_type": "code",
   "execution_count": 29,
   "id": "00de30a4-332d-421b-9996-b20f97c6efa8",
   "metadata": {},
   "outputs": [
    {
     "data": {
      "text/plain": [
       "209"
      ]
     },
     "execution_count": 29,
     "metadata": {},
     "output_type": "execute_result"
    }
   ],
   "source": [
    "y_test.value_counts()[0]"
   ]
  },
  {
   "cell_type": "code",
   "execution_count": 30,
   "id": "d9e3a829-4908-407a-89dd-946c54c51837",
   "metadata": {},
   "outputs": [
    {
     "data": {
      "text/plain": [
       "1:DECEASED    209\n",
       "0:LIVING      179\n",
       "Name: OS_STATUS, dtype: int64"
      ]
     },
     "metadata": {},
     "output_type": "display_data"
    },
    {
     "data": {
      "text/plain": [
       "'baseline:'"
      ]
     },
     "metadata": {},
     "output_type": "display_data"
    },
    {
     "data": {
      "text/plain": [
       "1:DECEASED    0.53866\n",
       "0:LIVING      0.46134\n",
       "Name: OS_STATUS, dtype: float64"
      ]
     },
     "metadata": {},
     "output_type": "display_data"
    }
   ],
   "source": [
    "display(y_test.value_counts())\n",
    "\n",
    "display('baseline:', y_test.value_counts()/y_test.size)"
   ]
  },
  {
   "cell_type": "code",
   "execution_count": 31,
   "id": "1af2115f-1a54-44f3-ba48-211029fbd7ab",
   "metadata": {},
   "outputs": [
    {
     "data": {
      "text/plain": [
       "0.6365979381443299"
      ]
     },
     "execution_count": 31,
     "metadata": {},
     "output_type": "execute_result"
    }
   ],
   "source": [
    "y_pred=clf.predict(X_test)\n",
    "# accuracy\n",
    "sum(y_test==y_pred)/y_test.shape[0]"
   ]
  },
  {
   "cell_type": "code",
   "execution_count": 21,
   "id": "daa5fa38-490a-4aa4-a270-298277d386c9",
   "metadata": {},
   "outputs": [
    {
     "data": {
      "text/plain": [
       "Text(83.40000000000006, 0.5, 'GroundTruth')"
      ]
     },
     "execution_count": 21,
     "metadata": {},
     "output_type": "execute_result"
    },
    {
     "data": {
      "image/png": "[encoded data removed]",
      "text/plain": [
       "<Figure size 432x288 with 2 Axes>"
      ]
     },
     "metadata": {
      "needs_background": "light"
     },
     "output_type": "display_data"
    }
   ],
   "source": [
    "cm=confusion_matrix(y_test, y_pred)\n",
    "sns.heatmap(cm, square=True, cbar=True, annot=True, cmap='Blues', fmt='1.0f')\n",
    "plt.xlabel(\"Predict\", fontsize=13)\n",
    "plt.ylabel(\"GroundTruth\", fontsize=13)"
   ]
  },
  {
   "cell_type": "code",
   "execution_count": 20,
   "id": "9988f770-6a34-425c-941a-5db8dc301a0f",
   "metadata": {},
   "outputs": [
    {
     "data": {
      "text/plain": [
       "<AxesSubplot:xlabel='AGE_AT_DIAGNOSIS', ylabel='TMB_NONSYNONYMOUS'>"
      ]
     },
     "execution_count": 20,
     "metadata": {},
     "output_type": "execute_result"
    },
    {
     "data": {
      "image/png": "[encoded data removed]",
      "text/plain": [
       "<Figure size 432x288 with 1 Axes>"
      ]
     },
     "metadata": {
      "needs_background": "light"
     },
     "output_type": "display_data"
    }
   ],
   "source": [
    "axis_1, axis_2 =X['AGE_AT_DIAGNOSIS'], X['TMB_NONSYNONYMOUS']\n",
    "sns.scatterplot(x=axis_1, y=axis_2, hue=y, data=X[['AGE_AT_DIAGNOSIS', 'TMB_NONSYNONYMOUS']])"
   ]
  },
  {
   "cell_type": "code",
   "execution_count": null,
   "id": "b2a860d7-01cd-4622-8f77-268476a37caa",
   "metadata": {},
   "outputs": [],
   "source": []
  }
 ],
 "metadata": {
  "kernelspec": {
   "display_name": "Python 3 (ipykernel)",
   "language": "python",
   "name": "python3"
  },
  "language_info": {
   "codemirror_mode": {
    "name": "ipython",
    "version": 3
   },
   "file_extension": ".py",
   "mimetype": "text/x-python",
   "name": "python",
   "nbconvert_exporter": "python",
   "pygments_lexer": "ipython3",
   "version": "3.8.13"
  }
 },
 "nbformat": 4,
 "nbformat_minor": 5
}
